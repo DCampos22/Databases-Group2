{
    "metadata": {
        "kernelspec": {
            "name": "SQL",
            "display_name": "SQL",
            "language": "sql"
        },
        "language_info": {
            "name": "sql",
            "version": ""
        }
    },
    "nbformat_minor": 2,
    "nbformat": 4,
    "cells": [
        {
            "cell_type": "markdown",
            "source": [
                "# Damaris Campos- Project 1"
            ],
            "metadata": {
                "azdata_cell_guid": "8f07aad3-0ecc-47a0-8c79-182b098aa2b0"
            },
            "attachments": {}
        },
        {
            "cell_type": "markdown",
            "source": [
                "**Problems should range from medium (13) to complex (7)**   \n",
                "\n",
                "- All queries must use the ANSI 92 standard for queries with the type safe “on” and will have relational output\n",
                "    \n",
                "- Output should be in a JSON component."
            ],
            "metadata": {
                "language": "sql",
                "azdata_cell_guid": "860c0ba3-5f67-4993-a6cd-bd929e4fcbdd"
            },
            "attachments": {}
        },
        {
            "cell_type": "markdown",
            "source": [
                "## **<mark style=background-color:#82D5E2>Top 3 Problems</mark>**\n",
                "\n",
                "Prioritize their top 3 problems (medium, complex); explain why they chose these problems for their top rating "
            ],
            "metadata": {
                "language": "sql",
                "azdata_cell_guid": "829651f8-c812-4394-9acb-e7546eb2732f"
            },
            "attachments": {}
        },
        {
            "cell_type": "markdown",
            "source": [
                "### **Top 1 (Medium - Northwinds2022TSQLV7)**\n",
                "\n",
                "<u>Proposition:</u>\n",
                "\n",
                "- Return a query where ..\n",
                "- Tables involved:\n",
                "\n",
                "<u>Standard View:</u>\n",
                "\n",
                "- pic\n",
                "\n",
                "<u>Key View:</u>\n",
                "\n",
                "- pic\n",
                "\n",
                "<u>Columns:</u>\n",
                "\n",
                "- columns"
            ],
            "metadata": {
                "language": "sql",
                "azdata_cell_guid": "46237250-773f-4191-ade2-ee6d87b152da"
            },
            "attachments": {}
        },
        {
            "cell_type": "code",
            "source": [
                ""
            ],
            "metadata": {
                "language": "sql",
                "azdata_cell_guid": "66cbc798-cd67-4bb1-9fd6-1ffff2248fc7"
            },
            "outputs": [],
            "execution_count": null
        },
        {
            "cell_type": "markdown",
            "source": [
                "### **Top 2 (Medium - Northwinds2022TSQLV7)**\n",
                "\n",
                "<u>Proposition:</u>\n",
                "\n",
                "- Return a query where ..\n",
                "- Tables involved:\n",
                "\n",
                "<u>Standard View:</u>\n",
                "\n",
                "- pic\n",
                "\n",
                "<u>Key View:</u>\n",
                "\n",
                "- pic\n",
                "\n",
                "<u>Columns:</u>\n",
                "\n",
                "- columns"
            ],
            "metadata": {
                "language": "sql",
                "azdata_cell_guid": "14a7cd22-8921-466c-b7b1-839ac2a68300"
            },
            "attachments": {}
        },
        {
            "cell_type": "code",
            "source": [
                ""
            ],
            "metadata": {
                "language": "sql",
                "azdata_cell_guid": "6939faef-7a48-4901-932e-4f591e60399f"
            },
            "outputs": [],
            "execution_count": null
        },
        {
            "cell_type": "markdown",
            "source": [
                "### **Top 3 (Medium - Northwinds2022TSQLV7)**\r\n",
                "\r\n",
                "<u>Proposition:</u>\r\n",
                "\r\n",
                "- Return a query where ..\r\n",
                "- Tables involved:\r\n",
                "\r\n",
                "<u>Standard View:</u>\r\n",
                "\r\n",
                "- pic\r\n",
                "\r\n",
                "<u>Key View:</u>\r\n",
                "\r\n",
                "- pic\r\n",
                "\r\n",
                "<u>Columns:</u>\r\n",
                "\r\n",
                "- columns"
            ],
            "metadata": {
                "language": "sql",
                "azdata_cell_guid": "00328b86-099b-4f20-8a89-ef907fa33617"
            },
            "attachments": {}
        },
        {
            "cell_type": "code",
            "source": [
                ""
            ],
            "metadata": {
                "language": "sql",
                "azdata_cell_guid": "73b9d63b-65dc-4c2b-ad0a-5bae00adf898"
            },
            "outputs": [],
            "execution_count": null
        },
        {
            "cell_type": "markdown",
            "source": [
                "## **<mark style=background-color:#BFBBE4>Worst 3 Problems</mark>**\n",
                "\n",
                "Prioritize their 3 worst problems (medium, and complex); explain why they chose these problems for their lowest rating. How can the problems be fixed to make them better?"
            ],
            "metadata": {
                "language": "sql",
                "azdata_cell_guid": "8deab935-36c7-41b4-b73a-20e3c4dcb881"
            },
            "attachments": {}
        },
        {
            "cell_type": "markdown",
            "source": [
                "### **Worst 1 (Medium - Northwinds2022TSQLV7)**\r\n",
                "\r\n",
                "<u>Proposition:</u>\r\n",
                "\r\n",
                "- Retrieve a query that calculates the yearly count of distinct customers, comparing the current year's number of customers with the previous year to determine if there was growth.\r\n",
                "- Tables involved: Sales.[Orders], Sales.Customers\r\n",
                "\r\n",
                "<u>Standard View:</u>\r\n",
                "\r\n",
                " ![Screenshot 2024-03-21 235512.png](attachment:Screenshot2024-03-21235512.png)\r\n",
                "\r\n",
                "<u>Key View:</u>\r\n",
                "\r\n",
                " ![Screenshot 2024-03-21 235700.png](attachment:Screenshot2024-03-21235700.png)\r\n",
                "\r\n",
                "<u>Columns:</u>\r\n",
                "\r\n",
                "| Table Name| Column Name|\r\n",
                "| --- | --- |\r\n",
                "| Sales.[Order] | OrderDate, CustomerId | \r\n",
                "| Sales.Customer | CustomerId, CustomerCity |\r\n",
                ""
            ],
            "metadata": {
                "language": "sql",
                "azdata_cell_guid": "db2359e9-7708-4878-9d2a-e17e8ac1dd2f"
            },
            "attachments": {
                "Screenshot2024-03-21235512.png": {
                    "image/png": "[encoded data removed]"
                },
                "Screenshot2024-03-21235700.png": {
                    "image/png": "[encoded data removed]"
                }
            }
        },
        {
            "cell_type": "code",
            "source": [
                "USE Northwinds2022TSQLV7;\r\n",
                "WITH\r\n",
                "    YearlyCount\r\n",
                "    AS\r\n",
                "    (\r\n",
                "        SELECT YEAR(OrderDate) AS YearOrder,\r\n",
                "            COUNT(DISTINCT CustomerId) AS NumberCustomers\r\n",
                "        FROM Sales.[Order]\r\n",
                "        GROUP BY YEAR(orderdate)\r\n",
                "    )\r\n",
                "SELECT Cur.YearOrder,\r\n",
                "    Cur.NumberCustomers AS CurrentNumCustomers,\r\n",
                "    Prv.NumberCustomers AS PreviousNumCustomers,\r\n",
                "    Cur.NumberCustomers - Prv.NumberCustomers AS Growth,\r\n",
                "    CustomerCity\r\n",
                "FROM YearlyCount AS Cur\r\n",
                "    LEFT OUTER JOIN YearlyCount AS Prv\r\n",
                "    ON Cur.YearOrder = Prv.YearOrder + 1\r\n",
                "    LEFT JOIN Sales.Customer AS C\r\n",
                "    ON Cur.NumberCustomers = C.CustomerId;\r\n",
                "\r\n",
                "--------------------------------------------------------------\r\n",
                "-- Fixed \r\n",
                "--------------------------------------------------------------\r\n",
                "USE Northwinds2022TSQLV7;\r\n",
                "WITH\r\n",
                "    YearlyCount\r\n",
                "    AS\r\n",
                "    (\r\n",
                "        SELECT YEAR(OrderDate) AS YearOrder,\r\n",
                "            COUNT(DISTINCT CustomerId) AS NumberCustomers\r\n",
                "        FROM Sales.[Order]\r\n",
                "        GROUP BY YEAR(orderdate)\r\n",
                "    )\r\n",
                "SELECT Cur.YearOrder,\r\n",
                "    Cur.NumberCustomers AS CurrentNumCustomers,\r\n",
                "    Prv.NumberCustomers AS PreviousNumCustomers,\r\n",
                "    Cur.NumberCustomers - Prv.NumberCustomers AS Growth,\r\n",
                "    CASE \r\n",
                "     WHEN Prv.NumberCustomers IS NULL THEN 'No Previous Data'\r\n",
                "     WHEN Cur.NumberCustomers > Prv.NumberCustomers THEN 'Growth'\r\n",
                "     WHEN Cur.NumberCustomers < Prv.NumberCustomers THEN 'Decline'\r\n",
                "    ELSE 'Unknown'\r\n",
                "    END AS GrowthStatus,\r\n",
                "    CustomerCity\r\n",
                "FROM YearlyCount AS Cur\r\n",
                "    LEFT OUTER JOIN YearlyCount AS Prv\r\n",
                "    ON Cur.YearOrder = Prv.YearOrder + 1\r\n",
                "    LEFT JOIN Sales.Customer AS C\r\n",
                "    ON Cur.NumberCustomers = C.CustomerId;\r\n",
                ""
            ],
            "metadata": {
                "language": "sql",
                "azdata_cell_guid": "e6ec7fa8-67bb-4704-8077-43d28986b986",
                "tags": []
            },
            "outputs": [
                {
                    "output_type": "display_data",
                    "data": {
                        "text/html": "(3 rows affected)"
                    },
                    "metadata": {}
                },
                {
                    "output_type": "display_data",
                    "data": {
                        "text/html": "(3 rows affected)"
                    },
                    "metadata": {}
                },
                {
                    "output_type": "display_data",
                    "data": {
                        "text/html": "Total execution time: 00:00:00.025"
                    },
                    "metadata": {}
                },
                {
                    "output_type": "execute_result",
                    "metadata": {},
                    "execution_count": 9,
                    "data": {
                        "application/vnd.dataresource+json": {
                            "schema": {
                                "fields": [
                                    {
                                        "name": "YearOrder"
                                    },
                                    {
                                        "name": "CurrentNumCustomers"
                                    },
                                    {
                                        "name": "PreviousNumCustomers"
                                    },
                                    {
                                        "name": "Growth"
                                    },
                                    {
                                        "name": "CustomerCity"
                                    }
                                ]
                            },
                            "data": [
                                {
                                    "YearOrder": "2014",
                                    "CurrentNumCustomers": "67",
                                    "PreviousNumCustomers": "NULL",
                                    "Growth": "NULL",
                                    "CustomerCity": "Rio de Janeiro"
                                },
                                {
                                    "YearOrder": "2015",
                                    "CurrentNumCustomers": "86",
                                    "PreviousNumCustomers": "67",
                                    "Growth": "19",
                                    "CustomerCity": "Stuttgart"
                                },
                                {
                                    "YearOrder": "2016",
                                    "CurrentNumCustomers": "81",
                                    "PreviousNumCustomers": "86",
                                    "Growth": "-5",
                                    "CustomerCity": "Sao Paulo"
                                }
                            ]
                        },
                        "text/html": [
                            "<table>",
                            "<tr><th>YearOrder</th><th>CurrentNumCustomers</th><th>PreviousNumCustomers</th><th>Growth</th><th>CustomerCity</th></tr>",
                            "<tr><td>2014</td><td>67</td><td>NULL</td><td>NULL</td><td>Rio de Janeiro</td></tr>",
                            "<tr><td>2015</td><td>86</td><td>67</td><td>19</td><td>Stuttgart</td></tr>",
                            "<tr><td>2016</td><td>81</td><td>86</td><td>-5</td><td>Sao Paulo</td></tr>",
                            "</table>"
                        ]
                    }
                },
                {
                    "output_type": "execute_result",
                    "metadata": {},
                    "execution_count": 9,
                    "data": {
                        "application/vnd.dataresource+json": {
                            "schema": {
                                "fields": [
                                    {
                                        "name": "YearOrder"
                                    },
                                    {
                                        "name": "CurrentNumCustomers"
                                    },
                                    {
                                        "name": "PreviousNumCustomers"
                                    },
                                    {
                                        "name": "Growth"
                                    },
                                    {
                                        "name": "GrowthStatus"
                                    },
                                    {
                                        "name": "CustomerCity"
                                    }
                                ]
                            },
                            "data": [
                                {
                                    "YearOrder": "2014",
                                    "CurrentNumCustomers": "67",
                                    "PreviousNumCustomers": "NULL",
                                    "Growth": "NULL",
                                    "GrowthStatus": "No Previous Data",
                                    "CustomerCity": "Rio de Janeiro"
                                },
                                {
                                    "YearOrder": "2015",
                                    "CurrentNumCustomers": "86",
                                    "PreviousNumCustomers": "67",
                                    "Growth": "19",
                                    "GrowthStatus": "Growth",
                                    "CustomerCity": "Stuttgart"
                                },
                                {
                                    "YearOrder": "2016",
                                    "CurrentNumCustomers": "81",
                                    "PreviousNumCustomers": "86",
                                    "Growth": "-5",
                                    "GrowthStatus": "Decline",
                                    "CustomerCity": "Sao Paulo"
                                }
                            ]
                        },
                        "text/html": [
                            "<table>",
                            "<tr><th>YearOrder</th><th>CurrentNumCustomers</th><th>PreviousNumCustomers</th><th>Growth</th><th>GrowthStatus</th><th>CustomerCity</th></tr>",
                            "<tr><td>2014</td><td>67</td><td>NULL</td><td>NULL</td><td>No Previous Data</td><td>Rio de Janeiro</td></tr>",
                            "<tr><td>2015</td><td>86</td><td>67</td><td>19</td><td>Growth</td><td>Stuttgart</td></tr>",
                            "<tr><td>2016</td><td>81</td><td>86</td><td>-5</td><td>Decline</td><td>Sao Paulo</td></tr>",
                            "</table>"
                        ]
                    }
                }
            ],
            "execution_count": 9
        },
        {
            "cell_type": "markdown",
            "source": [
                "### **Worst 2 (Medium - Northwinds2022TSQLV7)**\r\n",
                "\r\n",
                "<u>Proposition:</u>\r\n",
                "\r\n",
                "- Return a query where ..\r\n",
                "- Tables involved:\r\n",
                "\r\n",
                "<u>Standard View:</u>\r\n",
                "\r\n",
                "- pic\r\n",
                "\r\n",
                "<u>Key View:</u>\r\n",
                "\r\n",
                "- pic\r\n",
                "\r\n",
                "<u>Columns:</u>\r\n",
                "\r\n",
                "- columns"
            ],
            "metadata": {
                "language": "sql",
                "azdata_cell_guid": "2eff9265-4687-4e4c-8784-825a432c198c"
            },
            "attachments": {}
        },
        {
            "cell_type": "code",
            "source": [
                "\r\n",
                "\r\n",
                "\r\n",
                "---------------------------------------------------------------\r\n",
                "-- Fixed\r\n",
                "---------------------------------------------------------------\r\n",
                "\r\n",
                ""
            ],
            "metadata": {
                "language": "sql",
                "azdata_cell_guid": "a0c68f05-1254-40a5-b503-814bc0e858ff"
            },
            "outputs": [],
            "execution_count": null
        },
        {
            "cell_type": "markdown",
            "source": [
                "### **Worst 3 (Medium - Northwinds2022TSQLV7)**\r\n",
                "\r\n",
                "<u>Proposition:</u>\r\n",
                "\r\n",
                "- Return a query where ..\r\n",
                "- Tables involved:\r\n",
                "\r\n",
                "<u>Standard View:</u>\r\n",
                "\r\n",
                "- pic\r\n",
                "\r\n",
                "<u>Key View:</u>\r\n",
                "\r\n",
                "- pic\r\n",
                "\r\n",
                "<u>Columns:</u>\r\n",
                "\r\n",
                "- columns"
            ],
            "metadata": {
                "language": "sql",
                "azdata_cell_guid": "7f0cac9a-d53d-4984-b519-164e88e755a6"
            },
            "attachments": {}
        },
        {
            "cell_type": "code",
            "source": [
                "\r\n",
                "\r\n",
                "\r\n",
                "---------------------------------------------------------------\r\n",
                "-- Fixed\r\n",
                "---------------------------------------------------------------"
            ],
            "metadata": {
                "language": "sql",
                "azdata_cell_guid": "d3306e56-06ad-40a6-90c8-ea49a78afa0a"
            },
            "outputs": [],
            "execution_count": null
        },
        {
            "cell_type": "markdown",
            "source": [
                "## Q7 (Medium)"
            ],
            "metadata": {
                "language": "sql",
                "azdata_cell_guid": "dbc6f0f0-d68d-4d5b-8161-d7675525104c"
            },
            "attachments": {}
        },
        {
            "cell_type": "code",
            "source": [
                ""
            ],
            "metadata": {
                "language": "sql",
                "azdata_cell_guid": "27b3eb30-8719-4a94-b14f-e49df45a3a3d"
            },
            "outputs": [],
            "execution_count": null
        },
        {
            "cell_type": "markdown",
            "source": [
                "## Q8 (Medium)"
            ],
            "metadata": {
                "language": "sql",
                "azdata_cell_guid": "6602b9d2-fbfb-4f6c-9140-3818db54d9c4"
            },
            "attachments": {}
        },
        {
            "cell_type": "code",
            "source": [
                ""
            ],
            "metadata": {
                "language": "sql",
                "azdata_cell_guid": "1e4e6bbc-0fbb-4e15-989d-d263725f052f"
            },
            "outputs": [],
            "execution_count": null
        },
        {
            "cell_type": "markdown",
            "source": [
                "## Q9 (Medium)"
            ],
            "metadata": {
                "language": "sql",
                "azdata_cell_guid": "af460de8-d553-43e9-8785-cfaa4c963084"
            },
            "attachments": {}
        },
        {
            "cell_type": "code",
            "source": [
                ""
            ],
            "metadata": {
                "language": "sql",
                "azdata_cell_guid": "4c507f4e-4107-49a8-a8cf-f4ca3bca0d93"
            },
            "outputs": [],
            "execution_count": null
        },
        {
            "cell_type": "markdown",
            "source": [
                "## Q10 (Medium)"
            ],
            "metadata": {
                "language": "sql",
                "azdata_cell_guid": "53dd71be-88f2-4826-a84d-f69475261f76"
            },
            "attachments": {}
        },
        {
            "cell_type": "code",
            "source": [
                ""
            ],
            "metadata": {
                "language": "sql",
                "azdata_cell_guid": "1fdec066-a228-41f5-bc7f-0c5ad4567b16"
            },
            "outputs": [],
            "execution_count": null
        },
        {
            "cell_type": "markdown",
            "source": [
                "## Q11 (Medium)"
            ],
            "metadata": {
                "language": "sql",
                "azdata_cell_guid": "8978e7d3-cf35-4d6b-a8bb-cc15d6299344"
            },
            "attachments": {}
        },
        {
            "cell_type": "code",
            "source": [
                ""
            ],
            "metadata": {
                "language": "sql",
                "azdata_cell_guid": "167beffa-c5da-4a7c-add4-9811816c1ec2"
            },
            "outputs": [],
            "execution_count": null
        },
        {
            "cell_type": "markdown",
            "source": [
                "## Q12 (Medium)"
            ],
            "metadata": {
                "language": "sql",
                "azdata_cell_guid": "0fa74fd7-e6d8-4086-afcb-db014fecaa45"
            },
            "attachments": {}
        },
        {
            "cell_type": "code",
            "source": [
                ""
            ],
            "metadata": {
                "language": "sql",
                "azdata_cell_guid": "5b36501d-b530-4281-ba55-eff6d624f039"
            },
            "outputs": [],
            "execution_count": null
        },
        {
            "cell_type": "markdown",
            "source": [
                "## Q13 (Medium)"
            ],
            "metadata": {
                "language": "sql",
                "azdata_cell_guid": "262c948a-5399-4ded-bcd5-cfda1202fd1c"
            },
            "attachments": {}
        },
        {
            "cell_type": "code",
            "source": [
                ""
            ],
            "metadata": {
                "language": "sql",
                "azdata_cell_guid": "852c0d79-d4c0-476f-85fe-2a02ac925fde"
            },
            "outputs": [],
            "execution_count": null
        },
        {
            "cell_type": "markdown",
            "source": [
                "## Q14 (Complex)"
            ],
            "metadata": {
                "language": "sql",
                "azdata_cell_guid": "a6b8db2e-1dd1-4d5b-96ad-f88993568c76"
            },
            "attachments": {}
        },
        {
            "cell_type": "code",
            "source": [
                ""
            ],
            "metadata": {
                "language": "sql",
                "azdata_cell_guid": "f77d1b79-d811-432e-a9b3-a0d42321f240"
            },
            "outputs": [],
            "execution_count": null
        },
        {
            "cell_type": "markdown",
            "source": [
                "## Q15 (Complex)"
            ],
            "metadata": {
                "language": "sql",
                "azdata_cell_guid": "2c8b6c5a-50ab-4109-a463-91964bd26080"
            },
            "attachments": {}
        },
        {
            "cell_type": "code",
            "source": [
                ""
            ],
            "metadata": {
                "language": "sql",
                "azdata_cell_guid": "a7534d12-36e2-4506-98c7-c92b7a189c1a"
            },
            "outputs": [],
            "execution_count": null
        },
        {
            "cell_type": "markdown",
            "source": [
                "## Q16 (Complex)"
            ],
            "metadata": {
                "language": "sql",
                "azdata_cell_guid": "5baa7d1a-12ec-4489-b5db-8b53c39e7661"
            },
            "attachments": {}
        },
        {
            "cell_type": "code",
            "source": [
                ""
            ],
            "metadata": {
                "language": "sql",
                "azdata_cell_guid": "b7919e91-0549-4943-9d00-7fc8474c2e0a"
            },
            "outputs": [],
            "execution_count": null
        },
        {
            "cell_type": "markdown",
            "source": [
                "## Q17 (Complex - WorldWideImpostersDW)\n",
                "\n",
                "Key View\n",
                "\n",
                "![](data:image/png;base64,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)\n",
                "\n",
                "Standard View\n",
                "\n",
                "![](data:image/png;base64,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)"
            ],
            "metadata": {
                "language": "sql",
                "azdata_cell_guid": "d223ba10-35fc-462f-b884-4c681c315c47"
            },
            "attachments": {}
        },
        {
            "cell_type": "code",
            "source": [
                "USE WideWorldImportersDW;\r\n",
                "GO\r\n",
                "-- Define a custom scalar function to categorize profit\r\n",
                "DROP FUNCTION IF EXISTS dbo.CategorizeProfit;\r\n",
                "GO\r\n",
                "CREATE FUNCTION dbo.CategorizeProfit(@Profit AS DECIMAL(10,2))\r\n",
                "RETURNS NVARCHAR(50)\r\n",
                "AS\r\n",
                "BEGIN\r\n",
                "    DECLARE @Category NVARCHAR(50);\r\n",
                "    \r\n",
                "    SET @Category = \r\n",
                "        CASE\r\n",
                "            WHEN @Profit >= 7000 THEN 'High Profit'\r\n",
                "            WHEN @Profit >= 5000 AND @Profit < 7000 THEN 'Medium Profit'\r\n",
                "            ELSE 'Low Profit'\r\n",
                "        END;\r\n",
                "    \r\n",
                "    RETURN @Category;\r\n",
                "END;\r\n",
                "GO\r\n",
                "\r\n",
                "-- Complex query joining multiple tables\r\n",
                "WITH ItemPrices AS (\r\n",
                "    SELECT \r\n",
                "        dc.City,\r\n",
                "        dc.[State Province],\r\n",
                "        fs.Profit,\r\n",
                "        si.[Stock Item],\r\n",
                "        fs.[Unit Price],\r\n",
                "        dd.[Date]\r\n",
                "    FROM \r\n",
                "        Dimension.City AS dc\r\n",
                "    INNER JOIN \r\n",
                "        Fact.[Order] AS fo ON dc.[City Key] = fo.[City Key]\r\n",
                "    INNER JOIN\r\n",
                "        Dimension.[Stock Item] AS si ON fo.[Stock Item Key] = si.[Stock Item Key]\r\n",
                "    INNER JOIN\r\n",
                "        Fact.[Sale] AS fs ON si.[Stock Item Key] = fs.[Stock Item Key]\r\n",
                "    INNER JOIN\r\n",
                "        Dimension.[Date] AS dd ON fs.[Invoice Date Key] = dd.[Date]\r\n",
                "\r\n",
                ")\r\n",
                "SELECT \r\n",
                "    City,\r\n",
                "    [State Province],\r\n",
                "    [Stock Item],\r\n",
                "    Profit,\r\n",
                "    [Unit Price],\r\n",
                "    [Date],\r\n",
                "    dbo.CategorizeProfit(Profit) AS ProfitCategory\r\n",
                "FROM \r\n",
                "    ItemPrices\r\n",
                "WHERE \r\n",
                "    YEAR([Date]) = '2015'\r\n",
                "    AND Month([Date]) = '07'\r\n",
                "    AND DAY([Date]) = '22'\r\n",
                "    AND Profit BETWEEN 2000 AND 8000\r\n",
                "    AND [State Province] IN ('New York', 'Florida', 'Texas', 'California') -- Filter for specified states\r\n",
                "    AND [Stock Item] = '20 mm Double sided bubble wrap 50m' -- Filter for specific item\r\n",
                "\r\n",
                "ORDER BY\r\n",
                "    [State Province];\r\n",
                "-- Cleanup\r\n",
                "DROP FUNCTION IF EXISTS dbo.CategorizeProfit;\r\n",
                "GO\r\n",
                ""
            ],
            "metadata": {
                "language": "sql",
                "azdata_cell_guid": "c58cf10c-77a6-41c9-8822-c09ed41d9693"
            },
            "outputs": [
                {
                    "output_type": "display_data",
                    "data": {
                        "text/html": "Commands completed successfully."
                    },
                    "metadata": {}
                },
                {
                    "output_type": "display_data",
                    "data": {
                        "text/html": "Commands completed successfully."
                    },
                    "metadata": {}
                },
                {
                    "output_type": "display_data",
                    "data": {
                        "text/html": "Commands completed successfully."
                    },
                    "metadata": {}
                },
                {
                    "output_type": "display_data",
                    "data": {
                        "text/html": "(221 rows affected)"
                    },
                    "metadata": {}
                },
                {
                    "output_type": "display_data",
                    "data": {
                        "text/html": "Total execution time: 00:00:00.042"
                    },
                    "metadata": {}
                },
                {
                    "output_type": "execute_result",
                    "execution_count": 2,
                    "data": {
                        "application/vnd.dataresource+json": {
                            "schema": {
                                "fields": [
                                    {
                                        "name": "City"
                                    },
                                    {
                                        "name": "State Province"
                                    },
                                    {
                                        "name": "Stock Item"
                                    },
                                    {
                                        "name": "Profit"
                                    },
                                    {
                                        "name": "Unit Price"
                                    },
                                    {
                                        "name": "Date"
                                    },
                                    {
                                        "name": "ProfitCategory"
                                    }
                                ]
                            },
                            "data": [
                                {
                                    "City": "Yermo",
                                    "State Province": "California",
                                    "Stock Item": "20 mm Double sided bubble wrap 50m",
                                    "Profit": "7360.00",
                                    "Unit Price": "108.00",
                                    "Date": "2015-07-22",
                                    "ProfitCategory": "High Profit"
                                },
                                {
                                    "City": "El Centro",
                                    "State Province": "California",
                                    "Stock Item": "20 mm Double sided bubble wrap 50m",
                                    "Profit": "7360.00",
                                    "Unit Price": "108.00",
                                    "Date": "2015-07-22",
                                    "ProfitCategory": "High Profit"
                                },
                                {
                                    "City": "San Jacinto",
                                    "State Province": "California",
                                    "Stock Item": "20 mm Double sided bubble wrap 50m",
                                    "Profit": "7360.00",
                                    "Unit Price": "108.00",
                                    "Date": "2015-07-22",
                                    "ProfitCategory": "High Profit"
                                },
                                {
                                    "City": "Arrowhead Highlands",
                                    "State Province": "California",
                                    "Stock Item": "20 mm Double sided bubble wrap 50m",
                                    "Profit": "7360.00",
                                    "Unit Price": "108.00",
                                    "Date": "2015-07-22",
                                    "ProfitCategory": "High Profit"
                                },
                                {
                                    "City": "South Laguna",
                                    "State Province": "California",
                                    "Stock Item": "20 mm Double sided bubble wrap 50m",
                                    "Profit": "7360.00",
                                    "Unit Price": "108.00",
                                    "Date": "2015-07-22",
                                    "ProfitCategory": "High Profit"
                                },
                                {
                                    "City": "Taft Heights",
                                    "State Province": "California",
                                    "Stock Item": "20 mm Double sided bubble wrap 50m",
                                    "Profit": "7360.00",
                                    "Unit Price": "108.00",
                                    "Date": "2015-07-22",
                                    "ProfitCategory": "High Profit"
                                },
                                {
                                    "City": "Lompoc",
                                    "State Province": "California",
                                    "Stock Item": "20 mm Double sided bubble wrap 50m",
                                    "Profit": "7360.00",
                                    "Unit Price": "108.00",
                                    "Date": "2015-07-22",
                                    "ProfitCategory": "High Profit"
                                },
                                {
                                    "City": "El Centro",
                                    "State Province": "California",
                                    "Stock Item": "20 mm Double sided bubble wrap 50m",
                                    "Profit": "7360.00",
                                    "Unit Price": "108.00",
                                    "Date": "2015-07-22",
                                    "ProfitCategory": "High Profit"
                                },
                                {
                                    "City": "Arrowbear Lake",
                                    "State Province": "California",
                                    "Stock Item": "20 mm Double sided bubble wrap 50m",
                                    "Profit": "7360.00",
                                    "Unit Price": "108.00",
                                    "Date": "2015-07-22",
                                    "ProfitCategory": "High Profit"
                                },
                                {
                                    "City": "Lompoc",
                                    "State Province": "California",
                                    "Stock Item": "20 mm Double sided bubble wrap 50m",
                                    "Profit": "7360.00",
                                    "Unit Price": "108.00",
                                    "Date": "2015-07-22",
                                    "ProfitCategory": "High Profit"
                                },
                                {
                                    "City": "Herlong",
                                    "State Province": "California",
                                    "Stock Item": "20 mm Double sided bubble wrap 50m",
                                    "Profit": "7360.00",
                                    "Unit Price": "108.00",
                                    "Date": "2015-07-22",
                                    "ProfitCategory": "High Profit"
                                },
                                {
                                    "City": "Jesmond Dene",
                                    "State Province": "California",
                                    "Stock Item": "20 mm Double sided bubble wrap 50m",
                                    "Profit": "7360.00",
                                    "Unit Price": "108.00",
                                    "Date": "2015-07-22",
                                    "ProfitCategory": "High Profit"
                                },
                                {
                                    "City": "El Centro",
                                    "State Province": "California",
                                    "Stock Item": "20 mm Double sided bubble wrap 50m",
                                    "Profit": "7360.00",
                                    "Unit Price": "108.00",
                                    "Date": "2015-07-22",
                                    "ProfitCategory": "High Profit"
                                },
                                {
                                    "City": "Arrowbear Lake",
                                    "State Province": "California",
                                    "Stock Item": "20 mm Double sided bubble wrap 50m",
                                    "Profit": "7360.00",
                                    "Unit Price": "108.00",
                                    "Date": "2015-07-22",
                                    "ProfitCategory": "High Profit"
                                },
                                {
                                    "City": "Stallion Springs",
                                    "State Province": "California",
                                    "Stock Item": "20 mm Double sided bubble wrap 50m",
                                    "Profit": "7360.00",
                                    "Unit Price": "108.00",
                                    "Date": "2015-07-22",
                                    "ProfitCategory": "High Profit"
                                },
                                {
                                    "City": "Floriston",
                                    "State Province": "California",
                                    "Stock Item": "20 mm Double sided bubble wrap 50m",
                                    "Profit": "7360.00",
                                    "Unit Price": "108.00",
                                    "Date": "2015-07-22",
                                    "ProfitCategory": "High Profit"
                                },
                                {
                                    "City": "Knights Landing",
                                    "State Province": "California",
                                    "Stock Item": "20 mm Double sided bubble wrap 50m",
                                    "Profit": "7360.00",
                                    "Unit Price": "108.00",
                                    "Date": "2015-07-22",
                                    "ProfitCategory": "High Profit"
                                },
                                {
                                    "City": "South Laguna",
                                    "State Province": "California",
                                    "Stock Item": "20 mm Double sided bubble wrap 50m",
                                    "Profit": "7360.00",
                                    "Unit Price": "108.00",
                                    "Date": "2015-07-22",
                                    "ProfitCategory": "High Profit"
                                },
                                {
                                    "City": "Arrowbear Lake",
                                    "State Province": "California",
                                    "Stock Item": "20 mm Double sided bubble wrap 50m",
                                    "Profit": "7360.00",
                                    "Unit Price": "108.00",
                                    "Date": "2015-07-22",
                                    "ProfitCategory": "High Profit"
                                },
                                {
                                    "City": "Lake Davis",
                                    "State Province": "California",
                                    "Stock Item": "20 mm Double sided bubble wrap 50m",
                                    "Profit": "7360.00",
                                    "Unit Price": "108.00",
                                    "Date": "2015-07-22",
                                    "ProfitCategory": "High Profit"
                                },
                                {
                                    "City": "Ridgemark",
                                    "State Province": "California",
                                    "Stock Item": "20 mm Double sided bubble wrap 50m",
                                    "Profit": "7360.00",
                                    "Unit Price": "108.00",
                                    "Date": "2015-07-22",
                                    "ProfitCategory": "High Profit"
                                },
                                {
                                    "City": "Termo",
                                    "State Province": "California",
                                    "Stock Item": "20 mm Double sided bubble wrap 50m",
                                    "Profit": "7360.00",
                                    "Unit Price": "108.00",
                                    "Date": "2015-07-22",
                                    "ProfitCategory": "High Profit"
                                },
                                {
                                    "City": "San Jacinto",
                                    "State Province": "California",
                                    "Stock Item": "20 mm Double sided bubble wrap 50m",
                                    "Profit": "7360.00",
                                    "Unit Price": "108.00",
                                    "Date": "2015-07-22",
                                    "ProfitCategory": "High Profit"
                                },
                                {
                                    "City": "Port Hueneme",
                                    "State Province": "California",
                                    "Stock Item": "20 mm Double sided bubble wrap 50m",
                                    "Profit": "7360.00",
                                    "Unit Price": "108.00",
                                    "Date": "2015-07-22",
                                    "ProfitCategory": "High Profit"
                                },
                                {
                                    "City": "Fieldbrook",
                                    "State Province": "California",
                                    "Stock Item": "20 mm Double sided bubble wrap 50m",
                                    "Profit": "7360.00",
                                    "Unit Price": "108.00",
                                    "Date": "2015-07-22",
                                    "ProfitCategory": "High Profit"
                                },
                                {
                                    "City": "Port Hueneme",
                                    "State Province": "California",
                                    "Stock Item": "20 mm Double sided bubble wrap 50m",
                                    "Profit": "7360.00",
                                    "Unit Price": "108.00",
                                    "Date": "2015-07-22",
                                    "ProfitCategory": "High Profit"
                                },
                                {
                                    "City": "South Laguna",
                                    "State Province": "California",
                                    "Stock Item": "20 mm Double sided bubble wrap 50m",
                                    "Profit": "7360.00",
                                    "Unit Price": "108.00",
                                    "Date": "2015-07-22",
                                    "ProfitCategory": "High Profit"
                                },
                                {
                                    "City": "South Laguna",
                                    "State Province": "California",
                                    "Stock Item": "20 mm Double sided bubble wrap 50m",
                                    "Profit": "7360.00",
                                    "Unit Price": "108.00",
                                    "Date": "2015-07-22",
                                    "ProfitCategory": "High Profit"
                                },
                                {
                                    "City": "Herlong",
                                    "State Province": "California",
                                    "Stock Item": "20 mm Double sided bubble wrap 50m",
                                    "Profit": "7360.00",
                                    "Unit Price": "108.00",
                                    "Date": "2015-07-22",
                                    "ProfitCategory": "High Profit"
                                },
                                {
                                    "City": "Orick",
                                    "State Province": "California",
                                    "Stock Item": "20 mm Double sided bubble wrap 50m",
                                    "Profit": "7360.00",
                                    "Unit Price": "108.00",
                                    "Date": "2015-07-22",
                                    "ProfitCategory": "High Profit"
                                },
                                {
                                    "City": "Ridgemark",
                                    "State Province": "California",
                                    "Stock Item": "20 mm Double sided bubble wrap 50m",
                                    "Profit": "7360.00",
                                    "Unit Price": "108.00",
                                    "Date": "2015-07-22",
                                    "ProfitCategory": "High Profit"
                                },
                                {
                                    "City": "Taft Heights",
                                    "State Province": "California",
                                    "Stock Item": "20 mm Double sided bubble wrap 50m",
                                    "Profit": "7360.00",
                                    "Unit Price": "108.00",
                                    "Date": "2015-07-22",
                                    "ProfitCategory": "High Profit"
                                },
                                {
                                    "City": "Herlong",
                                    "State Province": "California",
                                    "Stock Item": "20 mm Double sided bubble wrap 50m",
                                    "Profit": "7360.00",
                                    "Unit Price": "108.00",
                                    "Date": "2015-07-22",
                                    "ProfitCategory": "High Profit"
                                },
                                {
                                    "City": "Lompoc",
                                    "State Province": "California",
                                    "Stock Item": "20 mm Double sided bubble wrap 50m",
                                    "Profit": "7360.00",
                                    "Unit Price": "108.00",
                                    "Date": "2015-07-22",
                                    "ProfitCategory": "High Profit"
                                },
                                {
                                    "City": "Rail Road Flat",
                                    "State Province": "California",
                                    "Stock Item": "20 mm Double sided bubble wrap 50m",
                                    "Profit": "7360.00",
                                    "Unit Price": "108.00",
                                    "Date": "2015-07-22",
                                    "ProfitCategory": "High Profit"
                                },
                                {
                                    "City": "Floriston",
                                    "State Province": "California",
                                    "Stock Item": "20 mm Double sided bubble wrap 50m",
                                    "Profit": "7360.00",
                                    "Unit Price": "108.00",
                                    "Date": "2015-07-22",
                                    "ProfitCategory": "High Profit"
                                },
                                {
                                    "City": "Termo",
                                    "State Province": "California",
                                    "Stock Item": "20 mm Double sided bubble wrap 50m",
                                    "Profit": "7360.00",
                                    "Unit Price": "108.00",
                                    "Date": "2015-07-22",
                                    "ProfitCategory": "High Profit"
                                },
                                {
                                    "City": "Rail Road Flat",
                                    "State Province": "California",
                                    "Stock Item": "20 mm Double sided bubble wrap 50m",
                                    "Profit": "7360.00",
                                    "Unit Price": "108.00",
                                    "Date": "2015-07-22",
                                    "ProfitCategory": "High Profit"
                                },
                                {
                                    "City": "Lake Hughes",
                                    "State Province": "California",
                                    "Stock Item": "20 mm Double sided bubble wrap 50m",
                                    "Profit": "7360.00",
                                    "Unit Price": "108.00",
                                    "Date": "2015-07-22",
                                    "ProfitCategory": "High Profit"
                                },
                                {
                                    "City": "Marin City",
                                    "State Province": "California",
                                    "Stock Item": "20 mm Double sided bubble wrap 50m",
                                    "Profit": "7360.00",
                                    "Unit Price": "108.00",
                                    "Date": "2015-07-22",
                                    "ProfitCategory": "High Profit"
                                },
                                {
                                    "City": "Jesmond Dene",
                                    "State Province": "California",
                                    "Stock Item": "20 mm Double sided bubble wrap 50m",
                                    "Profit": "7360.00",
                                    "Unit Price": "108.00",
                                    "Date": "2015-07-22",
                                    "ProfitCategory": "High Profit"
                                },
                                {
                                    "City": "Valley View Park",
                                    "State Province": "California",
                                    "Stock Item": "20 mm Double sided bubble wrap 50m",
                                    "Profit": "7360.00",
                                    "Unit Price": "108.00",
                                    "Date": "2015-07-22",
                                    "ProfitCategory": "High Profit"
                                },
                                {
                                    "City": "Bombay Beach",
                                    "State Province": "California",
                                    "Stock Item": "20 mm Double sided bubble wrap 50m",
                                    "Profit": "7360.00",
                                    "Unit Price": "108.00",
                                    "Date": "2015-07-22",
                                    "ProfitCategory": "High Profit"
                                },
                                {
                                    "City": "El Centro",
                                    "State Province": "California",
                                    "Stock Item": "20 mm Double sided bubble wrap 50m",
                                    "Profit": "7360.00",
                                    "Unit Price": "108.00",
                                    "Date": "2015-07-22",
                                    "ProfitCategory": "High Profit"
                                },
                                {
                                    "City": "Twin Peaks",
                                    "State Province": "California",
                                    "Stock Item": "20 mm Double sided bubble wrap 50m",
                                    "Profit": "7360.00",
                                    "Unit Price": "108.00",
                                    "Date": "2015-07-22",
                                    "ProfitCategory": "High Profit"
                                },
                                {
                                    "City": "Lake Davis",
                                    "State Province": "California",
                                    "Stock Item": "20 mm Double sided bubble wrap 50m",
                                    "Profit": "7360.00",
                                    "Unit Price": "108.00",
                                    "Date": "2015-07-22",
                                    "ProfitCategory": "High Profit"
                                },
                                {
                                    "City": "Arrowhead Highlands",
                                    "State Province": "California",
                                    "Stock Item": "20 mm Double sided bubble wrap 50m",
                                    "Profit": "7360.00",
                                    "Unit Price": "108.00",
                                    "Date": "2015-07-22",
                                    "ProfitCategory": "High Profit"
                                },
                                {
                                    "City": "Bombay Beach",
                                    "State Province": "California",
                                    "Stock Item": "20 mm Double sided bubble wrap 50m",
                                    "Profit": "7360.00",
                                    "Unit Price": "108.00",
                                    "Date": "2015-07-22",
                                    "ProfitCategory": "High Profit"
                                },
                                {
                                    "City": "Caruthers",
                                    "State Province": "California",
                                    "Stock Item": "20 mm Double sided bubble wrap 50m",
                                    "Profit": "7360.00",
                                    "Unit Price": "108.00",
                                    "Date": "2015-07-22",
                                    "ProfitCategory": "High Profit"
                                },
                                {
                                    "City": "Avenal",
                                    "State Province": "California",
                                    "Stock Item": "20 mm Double sided bubble wrap 50m",
                                    "Profit": "7360.00",
                                    "Unit Price": "108.00",
                                    "Date": "2015-07-22",
                                    "ProfitCategory": "High Profit"
                                },
                                {
                                    "City": "Rail Road Flat",
                                    "State Province": "California",
                                    "Stock Item": "20 mm Double sided bubble wrap 50m",
                                    "Profit": "7360.00",
                                    "Unit Price": "108.00",
                                    "Date": "2015-07-22",
                                    "ProfitCategory": "High Profit"
                                },
                                {
                                    "City": "Termo",
                                    "State Province": "California",
                                    "Stock Item": "20 mm Double sided bubble wrap 50m",
                                    "Profit": "7360.00",
                                    "Unit Price": "108.00",
                                    "Date": "2015-07-22",
                                    "ProfitCategory": "High Profit"
                                },
                                {
                                    "City": "San Jacinto",
                                    "State Province": "California",
                                    "Stock Item": "20 mm Double sided bubble wrap 50m",
                                    "Profit": "7360.00",
                                    "Unit Price": "108.00",
                                    "Date": "2015-07-22",
                                    "ProfitCategory": "High Profit"
                                },
                                {
                                    "City": "Caruthers",
                                    "State Province": "California",
                                    "Stock Item": "20 mm Double sided bubble wrap 50m",
                                    "Profit": "7360.00",
                                    "Unit Price": "108.00",
                                    "Date": "2015-07-22",
                                    "ProfitCategory": "High Profit"
                                },
                                {
                                    "City": "Floriston",
                                    "State Province": "California",
                                    "Stock Item": "20 mm Double sided bubble wrap 50m",
                                    "Profit": "7360.00",
                                    "Unit Price": "108.00",
                                    "Date": "2015-07-22",
                                    "ProfitCategory": "High Profit"
                                },
                                {
                                    "City": "Fieldbrook",
                                    "State Province": "California",
                                    "Stock Item": "20 mm Double sided bubble wrap 50m",
                                    "Profit": "7360.00",
                                    "Unit Price": "108.00",
                                    "Date": "2015-07-22",
                                    "ProfitCategory": "High Profit"
                                },
                                {
                                    "City": "Stallion Springs",
                                    "State Province": "California",
                                    "Stock Item": "20 mm Double sided bubble wrap 50m",
                                    "Profit": "7360.00",
                                    "Unit Price": "108.00",
                                    "Date": "2015-07-22",
                                    "ProfitCategory": "High Profit"
                                },
                                {
                                    "City": "Lake Davis",
                                    "State Province": "California",
                                    "Stock Item": "20 mm Double sided bubble wrap 50m",
                                    "Profit": "7360.00",
                                    "Unit Price": "108.00",
                                    "Date": "2015-07-22",
                                    "ProfitCategory": "High Profit"
                                },
                                {
                                    "City": "El Centro",
                                    "State Province": "California",
                                    "Stock Item": "20 mm Double sided bubble wrap 50m",
                                    "Profit": "7360.00",
                                    "Unit Price": "108.00",
                                    "Date": "2015-07-22",
                                    "ProfitCategory": "High Profit"
                                },
                                {
                                    "City": "Orick",
                                    "State Province": "California",
                                    "Stock Item": "20 mm Double sided bubble wrap 50m",
                                    "Profit": "7360.00",
                                    "Unit Price": "108.00",
                                    "Date": "2015-07-22",
                                    "ProfitCategory": "High Profit"
                                },
                                {
                                    "City": "Lake Davis",
                                    "State Province": "California",
                                    "Stock Item": "20 mm Double sided bubble wrap 50m",
                                    "Profit": "7360.00",
                                    "Unit Price": "108.00",
                                    "Date": "2015-07-22",
                                    "ProfitCategory": "High Profit"
                                },
                                {
                                    "City": "Yermo",
                                    "State Province": "California",
                                    "Stock Item": "20 mm Double sided bubble wrap 50m",
                                    "Profit": "7360.00",
                                    "Unit Price": "108.00",
                                    "Date": "2015-07-22",
                                    "ProfitCategory": "High Profit"
                                },
                                {
                                    "City": "Glen Avon",
                                    "State Province": "California",
                                    "Stock Item": "20 mm Double sided bubble wrap 50m",
                                    "Profit": "7360.00",
                                    "Unit Price": "108.00",
                                    "Date": "2015-07-22",
                                    "ProfitCategory": "High Profit"
                                },
                                {
                                    "City": "Stallion Springs",
                                    "State Province": "California",
                                    "Stock Item": "20 mm Double sided bubble wrap 50m",
                                    "Profit": "7360.00",
                                    "Unit Price": "108.00",
                                    "Date": "2015-07-22",
                                    "ProfitCategory": "High Profit"
                                },
                                {
                                    "City": "Clewiston",
                                    "State Province": "Florida",
                                    "Stock Item": "20 mm Double sided bubble wrap 50m",
                                    "Profit": "7360.00",
                                    "Unit Price": "108.00",
                                    "Date": "2015-07-22",
                                    "ProfitCategory": "High Profit"
                                },
                                {
                                    "City": "Clewiston",
                                    "State Province": "Florida",
                                    "Stock Item": "20 mm Double sided bubble wrap 50m",
                                    "Profit": "7360.00",
                                    "Unit Price": "108.00",
                                    "Date": "2015-07-22",
                                    "ProfitCategory": "High Profit"
                                },
                                {
                                    "City": "Oriole Beach",
                                    "State Province": "Florida",
                                    "Stock Item": "20 mm Double sided bubble wrap 50m",
                                    "Profit": "7360.00",
                                    "Unit Price": "108.00",
                                    "Date": "2015-07-22",
                                    "ProfitCategory": "High Profit"
                                },
                                {
                                    "City": "Trilby",
                                    "State Province": "Florida",
                                    "Stock Item": "20 mm Double sided bubble wrap 50m",
                                    "Profit": "7360.00",
                                    "Unit Price": "108.00",
                                    "Date": "2015-07-22",
                                    "ProfitCategory": "High Profit"
                                },
                                {
                                    "City": "West Frostproof",
                                    "State Province": "Florida",
                                    "Stock Item": "20 mm Double sided bubble wrap 50m",
                                    "Profit": "7360.00",
                                    "Unit Price": "108.00",
                                    "Date": "2015-07-22",
                                    "ProfitCategory": "High Profit"
                                },
                                {
                                    "City": "Tierra Verde",
                                    "State Province": "Florida",
                                    "Stock Item": "20 mm Double sided bubble wrap 50m",
                                    "Profit": "7360.00",
                                    "Unit Price": "108.00",
                                    "Date": "2015-07-22",
                                    "ProfitCategory": "High Profit"
                                },
                                {
                                    "City": "Trilby",
                                    "State Province": "Florida",
                                    "Stock Item": "20 mm Double sided bubble wrap 50m",
                                    "Profit": "7360.00",
                                    "Unit Price": "108.00",
                                    "Date": "2015-07-22",
                                    "ProfitCategory": "High Profit"
                                },
                                {
                                    "City": "Lake Clarke Shores",
                                    "State Province": "Florida",
                                    "Stock Item": "20 mm Double sided bubble wrap 50m",
                                    "Profit": "7360.00",
                                    "Unit Price": "108.00",
                                    "Date": "2015-07-22",
                                    "ProfitCategory": "High Profit"
                                },
                                {
                                    "City": "Tavares",
                                    "State Province": "Florida",
                                    "Stock Item": "20 mm Double sided bubble wrap 50m",
                                    "Profit": "7360.00",
                                    "Unit Price": "108.00",
                                    "Date": "2015-07-22",
                                    "ProfitCategory": "High Profit"
                                },
                                {
                                    "City": "Mary Esther",
                                    "State Province": "Florida",
                                    "Stock Item": "20 mm Double sided bubble wrap 50m",
                                    "Profit": "7360.00",
                                    "Unit Price": "108.00",
                                    "Date": "2015-07-22",
                                    "ProfitCategory": "High Profit"
                                },
                                {
                                    "City": "Mary Esther",
                                    "State Province": "Florida",
                                    "Stock Item": "20 mm Double sided bubble wrap 50m",
                                    "Profit": "7360.00",
                                    "Unit Price": "108.00",
                                    "Date": "2015-07-22",
                                    "ProfitCategory": "High Profit"
                                },
                                {
                                    "City": "Bakers Mill",
                                    "State Province": "Florida",
                                    "Stock Item": "20 mm Double sided bubble wrap 50m",
                                    "Profit": "7360.00",
                                    "Unit Price": "108.00",
                                    "Date": "2015-07-22",
                                    "ProfitCategory": "High Profit"
                                },
                                {
                                    "City": "Lake Clarke Shores",
                                    "State Province": "Florida",
                                    "Stock Item": "20 mm Double sided bubble wrap 50m",
                                    "Profit": "7360.00",
                                    "Unit Price": "108.00",
                                    "Date": "2015-07-22",
                                    "ProfitCategory": "High Profit"
                                },
                                {
                                    "City": "West Frostproof",
                                    "State Province": "Florida",
                                    "Stock Item": "20 mm Double sided bubble wrap 50m",
                                    "Profit": "7360.00",
                                    "Unit Price": "108.00",
                                    "Date": "2015-07-22",
                                    "ProfitCategory": "High Profit"
                                },
                                {
                                    "City": "Naples Park",
                                    "State Province": "Florida",
                                    "Stock Item": "20 mm Double sided bubble wrap 50m",
                                    "Profit": "7360.00",
                                    "Unit Price": "108.00",
                                    "Date": "2015-07-22",
                                    "ProfitCategory": "High Profit"
                                },
                                {
                                    "City": "Mary Esther",
                                    "State Province": "Florida",
                                    "Stock Item": "20 mm Double sided bubble wrap 50m",
                                    "Profit": "7360.00",
                                    "Unit Price": "108.00",
                                    "Date": "2015-07-22",
                                    "ProfitCategory": "High Profit"
                                },
                                {
                                    "City": "Tierra Verde",
                                    "State Province": "Florida",
                                    "Stock Item": "20 mm Double sided bubble wrap 50m",
                                    "Profit": "7360.00",
                                    "Unit Price": "108.00",
                                    "Date": "2015-07-22",
                                    "ProfitCategory": "High Profit"
                                },
                                {
                                    "City": "Lynne",
                                    "State Province": "Florida",
                                    "Stock Item": "20 mm Double sided bubble wrap 50m",
                                    "Profit": "7360.00",
                                    "Unit Price": "108.00",
                                    "Date": "2015-07-22",
                                    "ProfitCategory": "High Profit"
                                },
                                {
                                    "City": "West Frostproof",
                                    "State Province": "Florida",
                                    "Stock Item": "20 mm Double sided bubble wrap 50m",
                                    "Profit": "7360.00",
                                    "Unit Price": "108.00",
                                    "Date": "2015-07-22",
                                    "ProfitCategory": "High Profit"
                                },
                                {
                                    "City": "Tavares",
                                    "State Province": "Florida",
                                    "Stock Item": "20 mm Double sided bubble wrap 50m",
                                    "Profit": "7360.00",
                                    "Unit Price": "108.00",
                                    "Date": "2015-07-22",
                                    "ProfitCategory": "High Profit"
                                },
                                {
                                    "City": "Trilby",
                                    "State Province": "Florida",
                                    "Stock Item": "20 mm Double sided bubble wrap 50m",
                                    "Profit": "7360.00",
                                    "Unit Price": "108.00",
                                    "Date": "2015-07-22",
                                    "ProfitCategory": "High Profit"
                                },
                                {
                                    "City": "Compass Lake",
                                    "State Province": "Florida",
                                    "Stock Item": "20 mm Double sided bubble wrap 50m",
                                    "Profit": "7360.00",
                                    "Unit Price": "108.00",
                                    "Date": "2015-07-22",
                                    "ProfitCategory": "High Profit"
                                },
                                {
                                    "City": "West Frostproof",
                                    "State Province": "Florida",
                                    "Stock Item": "20 mm Double sided bubble wrap 50m",
                                    "Profit": "7360.00",
                                    "Unit Price": "108.00",
                                    "Date": "2015-07-22",
                                    "ProfitCategory": "High Profit"
                                },
                                {
                                    "City": "Cloud Lake",
                                    "State Province": "Florida",
                                    "Stock Item": "20 mm Double sided bubble wrap 50m",
                                    "Profit": "7360.00",
                                    "Unit Price": "108.00",
                                    "Date": "2015-07-22",
                                    "ProfitCategory": "High Profit"
                                },
                                {
                                    "City": "Bokeelia",
                                    "State Province": "Florida",
                                    "Stock Item": "20 mm Double sided bubble wrap 50m",
                                    "Profit": "7360.00",
                                    "Unit Price": "108.00",
                                    "Date": "2015-07-22",
                                    "ProfitCategory": "High Profit"
                                },
                                {
                                    "City": "Naples Park",
                                    "State Province": "Florida",
                                    "Stock Item": "20 mm Double sided bubble wrap 50m",
                                    "Profit": "7360.00",
                                    "Unit Price": "108.00",
                                    "Date": "2015-07-22",
                                    "ProfitCategory": "High Profit"
                                },
                                {
                                    "City": "Trilby",
                                    "State Province": "Florida",
                                    "Stock Item": "20 mm Double sided bubble wrap 50m",
                                    "Profit": "7360.00",
                                    "Unit Price": "108.00",
                                    "Date": "2015-07-22",
                                    "ProfitCategory": "High Profit"
                                },
                                {
                                    "City": "Bokeelia",
                                    "State Province": "Florida",
                                    "Stock Item": "20 mm Double sided bubble wrap 50m",
                                    "Profit": "7360.00",
                                    "Unit Price": "108.00",
                                    "Date": "2015-07-22",
                                    "ProfitCategory": "High Profit"
                                },
                                {
                                    "City": "Clewiston",
                                    "State Province": "Florida",
                                    "Stock Item": "20 mm Double sided bubble wrap 50m",
                                    "Profit": "7360.00",
                                    "Unit Price": "108.00",
                                    "Date": "2015-07-22",
                                    "ProfitCategory": "High Profit"
                                },
                                {
                                    "City": "Lake Clarke Shores",
                                    "State Province": "Florida",
                                    "Stock Item": "20 mm Double sided bubble wrap 50m",
                                    "Profit": "7360.00",
                                    "Unit Price": "108.00",
                                    "Date": "2015-07-22",
                                    "ProfitCategory": "High Profit"
                                },
                                {
                                    "City": "Tavares",
                                    "State Province": "Florida",
                                    "Stock Item": "20 mm Double sided bubble wrap 50m",
                                    "Profit": "7360.00",
                                    "Unit Price": "108.00",
                                    "Date": "2015-07-22",
                                    "ProfitCategory": "High Profit"
                                },
                                {
                                    "City": "Eagle Valley",
                                    "State Province": "New York",
                                    "Stock Item": "20 mm Double sided bubble wrap 50m",
                                    "Profit": "7360.00",
                                    "Unit Price": "108.00",
                                    "Date": "2015-07-22",
                                    "ProfitCategory": "High Profit"
                                },
                                {
                                    "City": "Esopus",
                                    "State Province": "New York",
                                    "Stock Item": "20 mm Double sided bubble wrap 50m",
                                    "Profit": "7360.00",
                                    "Unit Price": "108.00",
                                    "Date": "2015-07-22",
                                    "ProfitCategory": "High Profit"
                                },
                                {
                                    "City": "Caton",
                                    "State Province": "New York",
                                    "Stock Item": "20 mm Double sided bubble wrap 50m",
                                    "Profit": "7360.00",
                                    "Unit Price": "108.00",
                                    "Date": "2015-07-22",
                                    "ProfitCategory": "High Profit"
                                },
                                {
                                    "City": "Wappingers Falls",
                                    "State Province": "New York",
                                    "Stock Item": "20 mm Double sided bubble wrap 50m",
                                    "Profit": "7360.00",
                                    "Unit Price": "108.00",
                                    "Date": "2015-07-22",
                                    "ProfitCategory": "High Profit"
                                },
                                {
                                    "City": "North Ridge",
                                    "State Province": "New York",
                                    "Stock Item": "20 mm Double sided bubble wrap 50m",
                                    "Profit": "7360.00",
                                    "Unit Price": "108.00",
                                    "Date": "2015-07-22",
                                    "ProfitCategory": "High Profit"
                                },
                                {
                                    "City": "Roe Park",
                                    "State Province": "New York",
                                    "Stock Item": "20 mm Double sided bubble wrap 50m",
                                    "Profit": "7360.00",
                                    "Unit Price": "108.00",
                                    "Date": "2015-07-22",
                                    "ProfitCategory": "High Profit"
                                },
                                {
                                    "City": "Eagle Valley",
                                    "State Province": "New York",
                                    "Stock Item": "20 mm Double sided bubble wrap 50m",
                                    "Profit": "7360.00",
                                    "Unit Price": "108.00",
                                    "Date": "2015-07-22",
                                    "ProfitCategory": "High Profit"
                                },
                                {
                                    "City": "Esopus",
                                    "State Province": "New York",
                                    "Stock Item": "20 mm Double sided bubble wrap 50m",
                                    "Profit": "7360.00",
                                    "Unit Price": "108.00",
                                    "Date": "2015-07-22",
                                    "ProfitCategory": "High Profit"
                                },
                                {
                                    "City": "Palatine Bridge",
                                    "State Province": "New York",
                                    "Stock Item": "20 mm Double sided bubble wrap 50m",
                                    "Profit": "7360.00",
                                    "Unit Price": "108.00",
                                    "Date": "2015-07-22",
                                    "ProfitCategory": "High Profit"
                                },
                                {
                                    "City": "Walker Valley",
                                    "State Province": "New York",
                                    "Stock Item": "20 mm Double sided bubble wrap 50m",
                                    "Profit": "7360.00",
                                    "Unit Price": "108.00",
                                    "Date": "2015-07-22",
                                    "ProfitCategory": "High Profit"
                                },
                                {
                                    "City": "Islip Terrace",
                                    "State Province": "New York",
                                    "Stock Item": "20 mm Double sided bubble wrap 50m",
                                    "Profit": "7360.00",
                                    "Unit Price": "108.00",
                                    "Date": "2015-07-22",
                                    "ProfitCategory": "High Profit"
                                },
                                {
                                    "City": "Lake Ronkonkoma",
                                    "State Province": "New York",
                                    "Stock Item": "20 mm Double sided bubble wrap 50m",
                                    "Profit": "7360.00",
                                    "Unit Price": "108.00",
                                    "Date": "2015-07-22",
                                    "ProfitCategory": "High Profit"
                                },
                                {
                                    "City": "Great Neck",
                                    "State Province": "New York",
                                    "Stock Item": "20 mm Double sided bubble wrap 50m",
                                    "Profit": "7360.00",
                                    "Unit Price": "108.00",
                                    "Date": "2015-07-22",
                                    "ProfitCategory": "High Profit"
                                },
                                {
                                    "City": "Lime Lake",
                                    "State Province": "New York",
                                    "Stock Item": "20 mm Double sided bubble wrap 50m",
                                    "Profit": "7360.00",
                                    "Unit Price": "108.00",
                                    "Date": "2015-07-22",
                                    "ProfitCategory": "High Profit"
                                },
                                {
                                    "City": "Sauquoit",
                                    "State Province": "New York",
                                    "Stock Item": "20 mm Double sided bubble wrap 50m",
                                    "Profit": "7360.00",
                                    "Unit Price": "108.00",
                                    "Date": "2015-07-22",
                                    "ProfitCategory": "High Profit"
                                },
                                {
                                    "City": "Chateaugay",
                                    "State Province": "New York",
                                    "Stock Item": "20 mm Double sided bubble wrap 50m",
                                    "Profit": "7360.00",
                                    "Unit Price": "108.00",
                                    "Date": "2015-07-22",
                                    "ProfitCategory": "High Profit"
                                },
                                {
                                    "City": "Sauquoit",
                                    "State Province": "New York",
                                    "Stock Item": "20 mm Double sided bubble wrap 50m",
                                    "Profit": "7360.00",
                                    "Unit Price": "108.00",
                                    "Date": "2015-07-22",
                                    "ProfitCategory": "High Profit"
                                },
                                {
                                    "City": "Eagle Valley",
                                    "State Province": "New York",
                                    "Stock Item": "20 mm Double sided bubble wrap 50m",
                                    "Profit": "7360.00",
                                    "Unit Price": "108.00",
                                    "Date": "2015-07-22",
                                    "ProfitCategory": "High Profit"
                                },
                                {
                                    "City": "Gasport",
                                    "State Province": "New York",
                                    "Stock Item": "20 mm Double sided bubble wrap 50m",
                                    "Profit": "7360.00",
                                    "Unit Price": "108.00",
                                    "Date": "2015-07-22",
                                    "ProfitCategory": "High Profit"
                                },
                                {
                                    "City": "Greig",
                                    "State Province": "New York",
                                    "Stock Item": "20 mm Double sided bubble wrap 50m",
                                    "Profit": "7360.00",
                                    "Unit Price": "108.00",
                                    "Date": "2015-07-22",
                                    "ProfitCategory": "High Profit"
                                },
                                {
                                    "City": "Eagle Valley",
                                    "State Province": "New York",
                                    "Stock Item": "20 mm Double sided bubble wrap 50m",
                                    "Profit": "7360.00",
                                    "Unit Price": "108.00",
                                    "Date": "2015-07-22",
                                    "ProfitCategory": "High Profit"
                                },
                                {
                                    "City": "Great Neck Estates",
                                    "State Province": "New York",
                                    "Stock Item": "20 mm Double sided bubble wrap 50m",
                                    "Profit": "7360.00",
                                    "Unit Price": "108.00",
                                    "Date": "2015-07-22",
                                    "ProfitCategory": "High Profit"
                                },
                                {
                                    "City": "Eastchester",
                                    "State Province": "New York",
                                    "Stock Item": "20 mm Double sided bubble wrap 50m",
                                    "Profit": "7360.00",
                                    "Unit Price": "108.00",
                                    "Date": "2015-07-22",
                                    "ProfitCategory": "High Profit"
                                },
                                {
                                    "City": "Palatine Bridge",
                                    "State Province": "New York",
                                    "Stock Item": "20 mm Double sided bubble wrap 50m",
                                    "Profit": "7360.00",
                                    "Unit Price": "108.00",
                                    "Date": "2015-07-22",
                                    "ProfitCategory": "High Profit"
                                },
                                {
                                    "City": "Esopus",
                                    "State Province": "New York",
                                    "Stock Item": "20 mm Double sided bubble wrap 50m",
                                    "Profit": "7360.00",
                                    "Unit Price": "108.00",
                                    "Date": "2015-07-22",
                                    "ProfitCategory": "High Profit"
                                },
                                {
                                    "City": "Shenorock",
                                    "State Province": "New York",
                                    "Stock Item": "20 mm Double sided bubble wrap 50m",
                                    "Profit": "7360.00",
                                    "Unit Price": "108.00",
                                    "Date": "2015-07-22",
                                    "ProfitCategory": "High Profit"
                                },
                                {
                                    "City": "Lake Ronkonkoma",
                                    "State Province": "New York",
                                    "Stock Item": "20 mm Double sided bubble wrap 50m",
                                    "Profit": "7360.00",
                                    "Unit Price": "108.00",
                                    "Date": "2015-07-22",
                                    "ProfitCategory": "High Profit"
                                },
                                {
                                    "City": "Eagle Valley",
                                    "State Province": "New York",
                                    "Stock Item": "20 mm Double sided bubble wrap 50m",
                                    "Profit": "7360.00",
                                    "Unit Price": "108.00",
                                    "Date": "2015-07-22",
                                    "ProfitCategory": "High Profit"
                                },
                                {
                                    "City": "Greig",
                                    "State Province": "New York",
                                    "Stock Item": "20 mm Double sided bubble wrap 50m",
                                    "Profit": "7360.00",
                                    "Unit Price": "108.00",
                                    "Date": "2015-07-22",
                                    "ProfitCategory": "High Profit"
                                },
                                {
                                    "City": "Big Moose",
                                    "State Province": "New York",
                                    "Stock Item": "20 mm Double sided bubble wrap 50m",
                                    "Profit": "7360.00",
                                    "Unit Price": "108.00",
                                    "Date": "2015-07-22",
                                    "ProfitCategory": "High Profit"
                                },
                                {
                                    "City": "Conewango",
                                    "State Province": "New York",
                                    "Stock Item": "20 mm Double sided bubble wrap 50m",
                                    "Profit": "7360.00",
                                    "Unit Price": "108.00",
                                    "Date": "2015-07-22",
                                    "ProfitCategory": "High Profit"
                                },
                                {
                                    "City": "Caton",
                                    "State Province": "New York",
                                    "Stock Item": "20 mm Double sided bubble wrap 50m",
                                    "Profit": "7360.00",
                                    "Unit Price": "108.00",
                                    "Date": "2015-07-22",
                                    "ProfitCategory": "High Profit"
                                },
                                {
                                    "City": "Copake",
                                    "State Province": "New York",
                                    "Stock Item": "20 mm Double sided bubble wrap 50m",
                                    "Profit": "7360.00",
                                    "Unit Price": "108.00",
                                    "Date": "2015-07-22",
                                    "ProfitCategory": "High Profit"
                                },
                                {
                                    "City": "Glen Park",
                                    "State Province": "New York",
                                    "Stock Item": "20 mm Double sided bubble wrap 50m",
                                    "Profit": "7360.00",
                                    "Unit Price": "108.00",
                                    "Date": "2015-07-22",
                                    "ProfitCategory": "High Profit"
                                },
                                {
                                    "City": "Athol Springs",
                                    "State Province": "New York",
                                    "Stock Item": "20 mm Double sided bubble wrap 50m",
                                    "Profit": "7360.00",
                                    "Unit Price": "108.00",
                                    "Date": "2015-07-22",
                                    "ProfitCategory": "High Profit"
                                },
                                {
                                    "City": "Gasport",
                                    "State Province": "New York",
                                    "Stock Item": "20 mm Double sided bubble wrap 50m",
                                    "Profit": "7360.00",
                                    "Unit Price": "108.00",
                                    "Date": "2015-07-22",
                                    "ProfitCategory": "High Profit"
                                },
                                {
                                    "City": "Sauquoit",
                                    "State Province": "New York",
                                    "Stock Item": "20 mm Double sided bubble wrap 50m",
                                    "Profit": "7360.00",
                                    "Unit Price": "108.00",
                                    "Date": "2015-07-22",
                                    "ProfitCategory": "High Profit"
                                },
                                {
                                    "City": "Gasport",
                                    "State Province": "New York",
                                    "Stock Item": "20 mm Double sided bubble wrap 50m",
                                    "Profit": "7360.00",
                                    "Unit Price": "108.00",
                                    "Date": "2015-07-22",
                                    "ProfitCategory": "High Profit"
                                },
                                {
                                    "City": "Lime Lake",
                                    "State Province": "New York",
                                    "Stock Item": "20 mm Double sided bubble wrap 50m",
                                    "Profit": "7360.00",
                                    "Unit Price": "108.00",
                                    "Date": "2015-07-22",
                                    "ProfitCategory": "High Profit"
                                },
                                {
                                    "City": "Wappingers Falls",
                                    "State Province": "New York",
                                    "Stock Item": "20 mm Double sided bubble wrap 50m",
                                    "Profit": "7360.00",
                                    "Unit Price": "108.00",
                                    "Date": "2015-07-22",
                                    "ProfitCategory": "High Profit"
                                },
                                {
                                    "City": "Roe Park",
                                    "State Province": "New York",
                                    "Stock Item": "20 mm Double sided bubble wrap 50m",
                                    "Profit": "7360.00",
                                    "Unit Price": "108.00",
                                    "Date": "2015-07-22",
                                    "ProfitCategory": "High Profit"
                                },
                                {
                                    "City": "Schoharie",
                                    "State Province": "New York",
                                    "Stock Item": "20 mm Double sided bubble wrap 50m",
                                    "Profit": "7360.00",
                                    "Unit Price": "108.00",
                                    "Date": "2015-07-22",
                                    "ProfitCategory": "High Profit"
                                },
                                {
                                    "City": "Trumansburg",
                                    "State Province": "New York",
                                    "Stock Item": "20 mm Double sided bubble wrap 50m",
                                    "Profit": "7360.00",
                                    "Unit Price": "108.00",
                                    "Date": "2015-07-22",
                                    "ProfitCategory": "High Profit"
                                },
                                {
                                    "City": "Arietta",
                                    "State Province": "New York",
                                    "Stock Item": "20 mm Double sided bubble wrap 50m",
                                    "Profit": "7360.00",
                                    "Unit Price": "108.00",
                                    "Date": "2015-07-22",
                                    "ProfitCategory": "High Profit"
                                },
                                {
                                    "City": "Islip Terrace",
                                    "State Province": "New York",
                                    "Stock Item": "20 mm Double sided bubble wrap 50m",
                                    "Profit": "7360.00",
                                    "Unit Price": "108.00",
                                    "Date": "2015-07-22",
                                    "ProfitCategory": "High Profit"
                                },
                                {
                                    "City": "West Hempstead",
                                    "State Province": "New York",
                                    "Stock Item": "20 mm Double sided bubble wrap 50m",
                                    "Profit": "7360.00",
                                    "Unit Price": "108.00",
                                    "Date": "2015-07-22",
                                    "ProfitCategory": "High Profit"
                                },
                                {
                                    "City": "Lake Erie Beach",
                                    "State Province": "New York",
                                    "Stock Item": "20 mm Double sided bubble wrap 50m",
                                    "Profit": "7360.00",
                                    "Unit Price": "108.00",
                                    "Date": "2015-07-22",
                                    "ProfitCategory": "High Profit"
                                },
                                {
                                    "City": "Glen Park",
                                    "State Province": "New York",
                                    "Stock Item": "20 mm Double sided bubble wrap 50m",
                                    "Profit": "7360.00",
                                    "Unit Price": "108.00",
                                    "Date": "2015-07-22",
                                    "ProfitCategory": "High Profit"
                                },
                                {
                                    "City": "Islip Terrace",
                                    "State Province": "New York",
                                    "Stock Item": "20 mm Double sided bubble wrap 50m",
                                    "Profit": "7360.00",
                                    "Unit Price": "108.00",
                                    "Date": "2015-07-22",
                                    "ProfitCategory": "High Profit"
                                },
                                {
                                    "City": "Truscott",
                                    "State Province": "Texas",
                                    "Stock Item": "20 mm Double sided bubble wrap 50m",
                                    "Profit": "7360.00",
                                    "Unit Price": "108.00",
                                    "Date": "2015-07-22",
                                    "ProfitCategory": "High Profit"
                                },
                                {
                                    "City": "Helotes",
                                    "State Province": "Texas",
                                    "Stock Item": "20 mm Double sided bubble wrap 50m",
                                    "Profit": "7360.00",
                                    "Unit Price": "108.00",
                                    "Date": "2015-07-22",
                                    "ProfitCategory": "High Profit"
                                },
                                {
                                    "City": "Dawn",
                                    "State Province": "Texas",
                                    "Stock Item": "20 mm Double sided bubble wrap 50m",
                                    "Profit": "7360.00",
                                    "Unit Price": "108.00",
                                    "Date": "2015-07-22",
                                    "ProfitCategory": "High Profit"
                                },
                                {
                                    "City": "Hollywood Park",
                                    "State Province": "Texas",
                                    "Stock Item": "20 mm Double sided bubble wrap 50m",
                                    "Profit": "7360.00",
                                    "Unit Price": "108.00",
                                    "Date": "2015-07-22",
                                    "ProfitCategory": "High Profit"
                                },
                                {
                                    "City": "Vair",
                                    "State Province": "Texas",
                                    "Stock Item": "20 mm Double sided bubble wrap 50m",
                                    "Profit": "7360.00",
                                    "Unit Price": "108.00",
                                    "Date": "2015-07-22",
                                    "ProfitCategory": "High Profit"
                                },
                                {
                                    "City": "Marfa",
                                    "State Province": "Texas",
                                    "Stock Item": "20 mm Double sided bubble wrap 50m",
                                    "Profit": "7360.00",
                                    "Unit Price": "108.00",
                                    "Date": "2015-07-22",
                                    "ProfitCategory": "High Profit"
                                },
                                {
                                    "City": "Morita",
                                    "State Province": "Texas",
                                    "Stock Item": "20 mm Double sided bubble wrap 50m",
                                    "Profit": "7360.00",
                                    "Unit Price": "108.00",
                                    "Date": "2015-07-22",
                                    "ProfitCategory": "High Profit"
                                },
                                {
                                    "City": "Rockwall",
                                    "State Province": "Texas",
                                    "Stock Item": "20 mm Double sided bubble wrap 50m",
                                    "Profit": "7360.00",
                                    "Unit Price": "108.00",
                                    "Date": "2015-07-22",
                                    "ProfitCategory": "High Profit"
                                },
                                {
                                    "City": "Old River-Winfree",
                                    "State Province": "Texas",
                                    "Stock Item": "20 mm Double sided bubble wrap 50m",
                                    "Profit": "7360.00",
                                    "Unit Price": "108.00",
                                    "Date": "2015-07-22",
                                    "ProfitCategory": "High Profit"
                                },
                                {
                                    "City": "Flowella",
                                    "State Province": "Texas",
                                    "Stock Item": "20 mm Double sided bubble wrap 50m",
                                    "Profit": "7360.00",
                                    "Unit Price": "108.00",
                                    "Date": "2015-07-22",
                                    "ProfitCategory": "High Profit"
                                },
                                {
                                    "City": "South La Paloma",
                                    "State Province": "Texas",
                                    "Stock Item": "20 mm Double sided bubble wrap 50m",
                                    "Profit": "7360.00",
                                    "Unit Price": "108.00",
                                    "Date": "2015-07-22",
                                    "ProfitCategory": "High Profit"
                                },
                                {
                                    "City": "Dorchester",
                                    "State Province": "Texas",
                                    "Stock Item": "20 mm Double sided bubble wrap 50m",
                                    "Profit": "7360.00",
                                    "Unit Price": "108.00",
                                    "Date": "2015-07-22",
                                    "ProfitCategory": "High Profit"
                                },
                                {
                                    "City": "McCamey",
                                    "State Province": "Texas",
                                    "Stock Item": "20 mm Double sided bubble wrap 50m",
                                    "Profit": "7360.00",
                                    "Unit Price": "108.00",
                                    "Date": "2015-07-22",
                                    "ProfitCategory": "High Profit"
                                },
                                {
                                    "City": "Old River-Winfree",
                                    "State Province": "Texas",
                                    "Stock Item": "20 mm Double sided bubble wrap 50m",
                                    "Profit": "7360.00",
                                    "Unit Price": "108.00",
                                    "Date": "2015-07-22",
                                    "ProfitCategory": "High Profit"
                                },
                                {
                                    "City": "Pharr",
                                    "State Province": "Texas",
                                    "Stock Item": "20 mm Double sided bubble wrap 50m",
                                    "Profit": "7360.00",
                                    "Unit Price": "108.00",
                                    "Date": "2015-07-22",
                                    "ProfitCategory": "High Profit"
                                },
                                {
                                    "City": "The Colony",
                                    "State Province": "Texas",
                                    "Stock Item": "20 mm Double sided bubble wrap 50m",
                                    "Profit": "7360.00",
                                    "Unit Price": "108.00",
                                    "Date": "2015-07-22",
                                    "ProfitCategory": "High Profit"
                                },
                                {
                                    "City": "Haltom City",
                                    "State Province": "Texas",
                                    "Stock Item": "20 mm Double sided bubble wrap 50m",
                                    "Profit": "7360.00",
                                    "Unit Price": "108.00",
                                    "Date": "2015-07-22",
                                    "ProfitCategory": "High Profit"
                                },
                                {
                                    "City": "Oak Point",
                                    "State Province": "Texas",
                                    "Stock Item": "20 mm Double sided bubble wrap 50m",
                                    "Profit": "7360.00",
                                    "Unit Price": "108.00",
                                    "Date": "2015-07-22",
                                    "ProfitCategory": "High Profit"
                                },
                                {
                                    "City": "Flowella",
                                    "State Province": "Texas",
                                    "Stock Item": "20 mm Double sided bubble wrap 50m",
                                    "Profit": "7360.00",
                                    "Unit Price": "108.00",
                                    "Date": "2015-07-22",
                                    "ProfitCategory": "High Profit"
                                },
                                {
                                    "City": "Dallardsville",
                                    "State Province": "Texas",
                                    "Stock Item": "20 mm Double sided bubble wrap 50m",
                                    "Profit": "7360.00",
                                    "Unit Price": "108.00",
                                    "Date": "2015-07-22",
                                    "ProfitCategory": "High Profit"
                                },
                                {
                                    "City": "Oak Point",
                                    "State Province": "Texas",
                                    "Stock Item": "20 mm Double sided bubble wrap 50m",
                                    "Profit": "7360.00",
                                    "Unit Price": "108.00",
                                    "Date": "2015-07-22",
                                    "ProfitCategory": "High Profit"
                                },
                                {
                                    "City": "Del Valle",
                                    "State Province": "Texas",
                                    "Stock Item": "20 mm Double sided bubble wrap 50m",
                                    "Profit": "7360.00",
                                    "Unit Price": "108.00",
                                    "Date": "2015-07-22",
                                    "ProfitCategory": "High Profit"
                                },
                                {
                                    "City": "El Refugio",
                                    "State Province": "Texas",
                                    "Stock Item": "20 mm Double sided bubble wrap 50m",
                                    "Profit": "7360.00",
                                    "Unit Price": "108.00",
                                    "Date": "2015-07-22",
                                    "ProfitCategory": "High Profit"
                                },
                                {
                                    "City": "Old River-Winfree",
                                    "State Province": "Texas",
                                    "Stock Item": "20 mm Double sided bubble wrap 50m",
                                    "Profit": "7360.00",
                                    "Unit Price": "108.00",
                                    "Date": "2015-07-22",
                                    "ProfitCategory": "High Profit"
                                },
                                {
                                    "City": "Haltom City",
                                    "State Province": "Texas",
                                    "Stock Item": "20 mm Double sided bubble wrap 50m",
                                    "Profit": "7360.00",
                                    "Unit Price": "108.00",
                                    "Date": "2015-07-22",
                                    "ProfitCategory": "High Profit"
                                },
                                {
                                    "City": "Flowella",
                                    "State Province": "Texas",
                                    "Stock Item": "20 mm Double sided bubble wrap 50m",
                                    "Profit": "7360.00",
                                    "Unit Price": "108.00",
                                    "Date": "2015-07-22",
                                    "ProfitCategory": "High Profit"
                                },
                                {
                                    "City": "Lavon",
                                    "State Province": "Texas",
                                    "Stock Item": "20 mm Double sided bubble wrap 50m",
                                    "Profit": "7360.00",
                                    "Unit Price": "108.00",
                                    "Date": "2015-07-22",
                                    "ProfitCategory": "High Profit"
                                },
                                {
                                    "City": "The Colony",
                                    "State Province": "Texas",
                                    "Stock Item": "20 mm Double sided bubble wrap 50m",
                                    "Profit": "7360.00",
                                    "Unit Price": "108.00",
                                    "Date": "2015-07-22",
                                    "ProfitCategory": "High Profit"
                                },
                                {
                                    "City": "Rockwall",
                                    "State Province": "Texas",
                                    "Stock Item": "20 mm Double sided bubble wrap 50m",
                                    "Profit": "7360.00",
                                    "Unit Price": "108.00",
                                    "Date": "2015-07-22",
                                    "ProfitCategory": "High Profit"
                                },
                                {
                                    "City": "Pharr",
                                    "State Province": "Texas",
                                    "Stock Item": "20 mm Double sided bubble wrap 50m",
                                    "Profit": "7360.00",
                                    "Unit Price": "108.00",
                                    "Date": "2015-07-22",
                                    "ProfitCategory": "High Profit"
                                },
                                {
                                    "City": "Jones Creek",
                                    "State Province": "Texas",
                                    "Stock Item": "20 mm Double sided bubble wrap 50m",
                                    "Profit": "7360.00",
                                    "Unit Price": "108.00",
                                    "Date": "2015-07-22",
                                    "ProfitCategory": "High Profit"
                                },
                                {
                                    "City": "East Mountain",
                                    "State Province": "Texas",
                                    "Stock Item": "20 mm Double sided bubble wrap 50m",
                                    "Profit": "7360.00",
                                    "Unit Price": "108.00",
                                    "Date": "2015-07-22",
                                    "ProfitCategory": "High Profit"
                                },
                                {
                                    "City": "East Mountain",
                                    "State Province": "Texas",
                                    "Stock Item": "20 mm Double sided bubble wrap 50m",
                                    "Profit": "7360.00",
                                    "Unit Price": "108.00",
                                    "Date": "2015-07-22",
                                    "ProfitCategory": "High Profit"
                                },
                                {
                                    "City": "El Refugio",
                                    "State Province": "Texas",
                                    "Stock Item": "20 mm Double sided bubble wrap 50m",
                                    "Profit": "7360.00",
                                    "Unit Price": "108.00",
                                    "Date": "2015-07-22",
                                    "ProfitCategory": "High Profit"
                                },
                                {
                                    "City": "South La Paloma",
                                    "State Province": "Texas",
                                    "Stock Item": "20 mm Double sided bubble wrap 50m",
                                    "Profit": "7360.00",
                                    "Unit Price": "108.00",
                                    "Date": "2015-07-22",
                                    "ProfitCategory": "High Profit"
                                },
                                {
                                    "City": "Plata",
                                    "State Province": "Texas",
                                    "Stock Item": "20 mm Double sided bubble wrap 50m",
                                    "Profit": "7360.00",
                                    "Unit Price": "108.00",
                                    "Date": "2015-07-22",
                                    "ProfitCategory": "High Profit"
                                },
                                {
                                    "City": "Batson",
                                    "State Province": "Texas",
                                    "Stock Item": "20 mm Double sided bubble wrap 50m",
                                    "Profit": "7360.00",
                                    "Unit Price": "108.00",
                                    "Date": "2015-07-22",
                                    "ProfitCategory": "High Profit"
                                },
                                {
                                    "City": "Ben Arnold",
                                    "State Province": "Texas",
                                    "Stock Item": "20 mm Double sided bubble wrap 50m",
                                    "Profit": "7360.00",
                                    "Unit Price": "108.00",
                                    "Date": "2015-07-22",
                                    "ProfitCategory": "High Profit"
                                },
                                {
                                    "City": "Rockwall",
                                    "State Province": "Texas",
                                    "Stock Item": "20 mm Double sided bubble wrap 50m",
                                    "Profit": "7360.00",
                                    "Unit Price": "108.00",
                                    "Date": "2015-07-22",
                                    "ProfitCategory": "High Profit"
                                },
                                {
                                    "City": "Flowella",
                                    "State Province": "Texas",
                                    "Stock Item": "20 mm Double sided bubble wrap 50m",
                                    "Profit": "7360.00",
                                    "Unit Price": "108.00",
                                    "Date": "2015-07-22",
                                    "ProfitCategory": "High Profit"
                                },
                                {
                                    "City": "Marfa",
                                    "State Province": "Texas",
                                    "Stock Item": "20 mm Double sided bubble wrap 50m",
                                    "Profit": "7360.00",
                                    "Unit Price": "108.00",
                                    "Date": "2015-07-22",
                                    "ProfitCategory": "High Profit"
                                },
                                {
                                    "City": "Pharr",
                                    "State Province": "Texas",
                                    "Stock Item": "20 mm Double sided bubble wrap 50m",
                                    "Profit": "7360.00",
                                    "Unit Price": "108.00",
                                    "Date": "2015-07-22",
                                    "ProfitCategory": "High Profit"
                                },
                                {
                                    "City": "Tarzan",
                                    "State Province": "Texas",
                                    "Stock Item": "20 mm Double sided bubble wrap 50m",
                                    "Profit": "7360.00",
                                    "Unit Price": "108.00",
                                    "Date": "2015-07-22",
                                    "ProfitCategory": "High Profit"
                                },
                                {
                                    "City": "Seagraves",
                                    "State Province": "Texas",
                                    "Stock Item": "20 mm Double sided bubble wrap 50m",
                                    "Profit": "7360.00",
                                    "Unit Price": "108.00",
                                    "Date": "2015-07-22",
                                    "ProfitCategory": "High Profit"
                                },
                                {
                                    "City": "Ben Arnold",
                                    "State Province": "Texas",
                                    "Stock Item": "20 mm Double sided bubble wrap 50m",
                                    "Profit": "7360.00",
                                    "Unit Price": "108.00",
                                    "Date": "2015-07-22",
                                    "ProfitCategory": "High Profit"
                                },
                                {
                                    "City": "Jones Creek",
                                    "State Province": "Texas",
                                    "Stock Item": "20 mm Double sided bubble wrap 50m",
                                    "Profit": "7360.00",
                                    "Unit Price": "108.00",
                                    "Date": "2015-07-22",
                                    "ProfitCategory": "High Profit"
                                },
                                {
                                    "City": "Kopperl",
                                    "State Province": "Texas",
                                    "Stock Item": "20 mm Double sided bubble wrap 50m",
                                    "Profit": "7360.00",
                                    "Unit Price": "108.00",
                                    "Date": "2015-07-22",
                                    "ProfitCategory": "High Profit"
                                },
                                {
                                    "City": "Old River-Winfree",
                                    "State Province": "Texas",
                                    "Stock Item": "20 mm Double sided bubble wrap 50m",
                                    "Profit": "7360.00",
                                    "Unit Price": "108.00",
                                    "Date": "2015-07-22",
                                    "ProfitCategory": "High Profit"
                                },
                                {
                                    "City": "Jones Creek",
                                    "State Province": "Texas",
                                    "Stock Item": "20 mm Double sided bubble wrap 50m",
                                    "Profit": "7360.00",
                                    "Unit Price": "108.00",
                                    "Date": "2015-07-22",
                                    "ProfitCategory": "High Profit"
                                },
                                {
                                    "City": "McCamey",
                                    "State Province": "Texas",
                                    "Stock Item": "20 mm Double sided bubble wrap 50m",
                                    "Profit": "7360.00",
                                    "Unit Price": "108.00",
                                    "Date": "2015-07-22",
                                    "ProfitCategory": "High Profit"
                                },
                                {
                                    "City": "Jones Creek",
                                    "State Province": "Texas",
                                    "Stock Item": "20 mm Double sided bubble wrap 50m",
                                    "Profit": "7360.00",
                                    "Unit Price": "108.00",
                                    "Date": "2015-07-22",
                                    "ProfitCategory": "High Profit"
                                },
                                {
                                    "City": "Haltom City",
                                    "State Province": "Texas",
                                    "Stock Item": "20 mm Double sided bubble wrap 50m",
                                    "Profit": "7360.00",
                                    "Unit Price": "108.00",
                                    "Date": "2015-07-22",
                                    "ProfitCategory": "High Profit"
                                },
                                {
                                    "City": "Batson",
                                    "State Province": "Texas",
                                    "Stock Item": "20 mm Double sided bubble wrap 50m",
                                    "Profit": "7360.00",
                                    "Unit Price": "108.00",
                                    "Date": "2015-07-22",
                                    "ProfitCategory": "High Profit"
                                },
                                {
                                    "City": "Bernstein",
                                    "State Province": "Texas",
                                    "Stock Item": "20 mm Double sided bubble wrap 50m",
                                    "Profit": "7360.00",
                                    "Unit Price": "108.00",
                                    "Date": "2015-07-22",
                                    "ProfitCategory": "High Profit"
                                },
                                {
                                    "City": "East Mountain",
                                    "State Province": "Texas",
                                    "Stock Item": "20 mm Double sided bubble wrap 50m",
                                    "Profit": "7360.00",
                                    "Unit Price": "108.00",
                                    "Date": "2015-07-22",
                                    "ProfitCategory": "High Profit"
                                },
                                {
                                    "City": "Plata",
                                    "State Province": "Texas",
                                    "Stock Item": "20 mm Double sided bubble wrap 50m",
                                    "Profit": "7360.00",
                                    "Unit Price": "108.00",
                                    "Date": "2015-07-22",
                                    "ProfitCategory": "High Profit"
                                },
                                {
                                    "City": "McCamey",
                                    "State Province": "Texas",
                                    "Stock Item": "20 mm Double sided bubble wrap 50m",
                                    "Profit": "7360.00",
                                    "Unit Price": "108.00",
                                    "Date": "2015-07-22",
                                    "ProfitCategory": "High Profit"
                                },
                                {
                                    "City": "Seagraves",
                                    "State Province": "Texas",
                                    "Stock Item": "20 mm Double sided bubble wrap 50m",
                                    "Profit": "7360.00",
                                    "Unit Price": "108.00",
                                    "Date": "2015-07-22",
                                    "ProfitCategory": "High Profit"
                                },
                                {
                                    "City": "Mendoza",
                                    "State Province": "Texas",
                                    "Stock Item": "20 mm Double sided bubble wrap 50m",
                                    "Profit": "7360.00",
                                    "Unit Price": "108.00",
                                    "Date": "2015-07-22",
                                    "ProfitCategory": "High Profit"
                                },
                                {
                                    "City": "Batson",
                                    "State Province": "Texas",
                                    "Stock Item": "20 mm Double sided bubble wrap 50m",
                                    "Profit": "7360.00",
                                    "Unit Price": "108.00",
                                    "Date": "2015-07-22",
                                    "ProfitCategory": "High Profit"
                                },
                                {
                                    "City": "Maypearl",
                                    "State Province": "Texas",
                                    "Stock Item": "20 mm Double sided bubble wrap 50m",
                                    "Profit": "7360.00",
                                    "Unit Price": "108.00",
                                    "Date": "2015-07-22",
                                    "ProfitCategory": "High Profit"
                                },
                                {
                                    "City": "Vair",
                                    "State Province": "Texas",
                                    "Stock Item": "20 mm Double sided bubble wrap 50m",
                                    "Profit": "7360.00",
                                    "Unit Price": "108.00",
                                    "Date": "2015-07-22",
                                    "ProfitCategory": "High Profit"
                                },
                                {
                                    "City": "Ovilla",
                                    "State Province": "Texas",
                                    "Stock Item": "20 mm Double sided bubble wrap 50m",
                                    "Profit": "7360.00",
                                    "Unit Price": "108.00",
                                    "Date": "2015-07-22",
                                    "ProfitCategory": "High Profit"
                                },
                                {
                                    "City": "Maypearl",
                                    "State Province": "Texas",
                                    "Stock Item": "20 mm Double sided bubble wrap 50m",
                                    "Profit": "7360.00",
                                    "Unit Price": "108.00",
                                    "Date": "2015-07-22",
                                    "ProfitCategory": "High Profit"
                                },
                                {
                                    "City": "Vair",
                                    "State Province": "Texas",
                                    "Stock Item": "20 mm Double sided bubble wrap 50m",
                                    "Profit": "7360.00",
                                    "Unit Price": "108.00",
                                    "Date": "2015-07-22",
                                    "ProfitCategory": "High Profit"
                                },
                                {
                                    "City": "Hollywood Park",
                                    "State Province": "Texas",
                                    "Stock Item": "20 mm Double sided bubble wrap 50m",
                                    "Profit": "7360.00",
                                    "Unit Price": "108.00",
                                    "Date": "2015-07-22",
                                    "ProfitCategory": "High Profit"
                                },
                                {
                                    "City": "Buchanan Lake Village",
                                    "State Province": "Texas",
                                    "Stock Item": "20 mm Double sided bubble wrap 50m",
                                    "Profit": "7360.00",
                                    "Unit Price": "108.00",
                                    "Date": "2015-07-22",
                                    "ProfitCategory": "High Profit"
                                },
                                {
                                    "City": "Dawn",
                                    "State Province": "Texas",
                                    "Stock Item": "20 mm Double sided bubble wrap 50m",
                                    "Profit": "7360.00",
                                    "Unit Price": "108.00",
                                    "Date": "2015-07-22",
                                    "ProfitCategory": "High Profit"
                                },
                                {
                                    "City": "Buchanan Lake Village",
                                    "State Province": "Texas",
                                    "Stock Item": "20 mm Double sided bubble wrap 50m",
                                    "Profit": "7360.00",
                                    "Unit Price": "108.00",
                                    "Date": "2015-07-22",
                                    "ProfitCategory": "High Profit"
                                },
                                {
                                    "City": "Mendoza",
                                    "State Province": "Texas",
                                    "Stock Item": "20 mm Double sided bubble wrap 50m",
                                    "Profit": "7360.00",
                                    "Unit Price": "108.00",
                                    "Date": "2015-07-22",
                                    "ProfitCategory": "High Profit"
                                },
                                {
                                    "City": "Buchanan Lake Village",
                                    "State Province": "Texas",
                                    "Stock Item": "20 mm Double sided bubble wrap 50m",
                                    "Profit": "7360.00",
                                    "Unit Price": "108.00",
                                    "Date": "2015-07-22",
                                    "ProfitCategory": "High Profit"
                                },
                                {
                                    "City": "The Colony",
                                    "State Province": "Texas",
                                    "Stock Item": "20 mm Double sided bubble wrap 50m",
                                    "Profit": "7360.00",
                                    "Unit Price": "108.00",
                                    "Date": "2015-07-22",
                                    "ProfitCategory": "High Profit"
                                },
                                {
                                    "City": "Dickworsham",
                                    "State Province": "Texas",
                                    "Stock Item": "20 mm Double sided bubble wrap 50m",
                                    "Profit": "7360.00",
                                    "Unit Price": "108.00",
                                    "Date": "2015-07-22",
                                    "ProfitCategory": "High Profit"
                                },
                                {
                                    "City": "Haltom City",
                                    "State Province": "Texas",
                                    "Stock Item": "20 mm Double sided bubble wrap 50m",
                                    "Profit": "7360.00",
                                    "Unit Price": "108.00",
                                    "Date": "2015-07-22",
                                    "ProfitCategory": "High Profit"
                                },
                                {
                                    "City": "El Refugio",
                                    "State Province": "Texas",
                                    "Stock Item": "20 mm Double sided bubble wrap 50m",
                                    "Profit": "7360.00",
                                    "Unit Price": "108.00",
                                    "Date": "2015-07-22",
                                    "ProfitCategory": "High Profit"
                                },
                                {
                                    "City": "East Mountain",
                                    "State Province": "Texas",
                                    "Stock Item": "20 mm Double sided bubble wrap 50m",
                                    "Profit": "7360.00",
                                    "Unit Price": "108.00",
                                    "Date": "2015-07-22",
                                    "ProfitCategory": "High Profit"
                                },
                                {
                                    "City": "Truscott",
                                    "State Province": "Texas",
                                    "Stock Item": "20 mm Double sided bubble wrap 50m",
                                    "Profit": "7360.00",
                                    "Unit Price": "108.00",
                                    "Date": "2015-07-22",
                                    "ProfitCategory": "High Profit"
                                }
                            ]
                        },
                        "text/html": "<table><tr><th>City</th><th>State Province</th><th>Stock Item</th><th>Profit</th><th>Unit Price</th><th>Date</th><th>ProfitCategory</th></tr><tr><td>Yermo</td><td>California</td><td>20 mm Double sided bubble wrap 50m</td><td>7360.00</td><td>108.00</td><td>2015-07-22</td><td>High Profit</td></tr><tr><td>El Centro</td><td>California</td><td>20 mm Double sided bubble wrap 50m</td><td>7360.00</td><td>108.00</td><td>2015-07-22</td><td>High Profit</td></tr><tr><td>San Jacinto</td><td>California</td><td>20 mm Double sided bubble wrap 50m</td><td>7360.00</td><td>108.00</td><td>2015-07-22</td><td>High Profit</td></tr><tr><td>Arrowhead Highlands</td><td>California</td><td>20 mm Double sided bubble wrap 50m</td><td>7360.00</td><td>108.00</td><td>2015-07-22</td><td>High Profit</td></tr><tr><td>South Laguna</td><td>California</td><td>20 mm Double sided bubble wrap 50m</td><td>7360.00</td><td>108.00</td><td>2015-07-22</td><td>High Profit</td></tr><tr><td>Taft Heights</td><td>California</td><td>20 mm Double sided bubble wrap 50m</td><td>7360.00</td><td>108.00</td><td>2015-07-22</td><td>High Profit</td></tr><tr><td>Lompoc</td><td>California</td><td>20 mm Double sided bubble wrap 50m</td><td>7360.00</td><td>108.00</td><td>2015-07-22</td><td>High Profit</td></tr><tr><td>El Centro</td><td>California</td><td>20 mm Double sided bubble wrap 50m</td><td>7360.00</td><td>108.00</td><td>2015-07-22</td><td>High Profit</td></tr><tr><td>Arrowbear Lake</td><td>California</td><td>20 mm Double sided bubble wrap 50m</td><td>7360.00</td><td>108.00</td><td>2015-07-22</td><td>High Profit</td></tr><tr><td>Lompoc</td><td>California</td><td>20 mm Double sided bubble wrap 50m</td><td>7360.00</td><td>108.00</td><td>2015-07-22</td><td>High Profit</td></tr><tr><td>Herlong</td><td>California</td><td>20 mm Double sided bubble wrap 50m</td><td>7360.00</td><td>108.00</td><td>2015-07-22</td><td>High Profit</td></tr><tr><td>Jesmond Dene</td><td>California</td><td>20 mm Double sided bubble wrap 50m</td><td>7360.00</td><td>108.00</td><td>2015-07-22</td><td>High Profit</td></tr><tr><td>El Centro</td><td>California</td><td>20 mm Double sided bubble wrap 50m</td><td>7360.00</td><td>108.00</td><td>2015-07-22</td><td>High Profit</td></tr><tr><td>Arrowbear Lake</td><td>California</td><td>20 mm Double sided bubble wrap 50m</td><td>7360.00</td><td>108.00</td><td>2015-07-22</td><td>High Profit</td></tr><tr><td>Stallion Springs</td><td>California</td><td>20 mm Double sided bubble wrap 50m</td><td>7360.00</td><td>108.00</td><td>2015-07-22</td><td>High Profit</td></tr><tr><td>Floriston</td><td>California</td><td>20 mm Double sided bubble wrap 50m</td><td>7360.00</td><td>108.00</td><td>2015-07-22</td><td>High Profit</td></tr><tr><td>Knights Landing</td><td>California</td><td>20 mm Double sided bubble wrap 50m</td><td>7360.00</td><td>108.00</td><td>2015-07-22</td><td>High Profit</td></tr><tr><td>South Laguna</td><td>California</td><td>20 mm Double sided bubble wrap 50m</td><td>7360.00</td><td>108.00</td><td>2015-07-22</td><td>High Profit</td></tr><tr><td>Arrowbear Lake</td><td>California</td><td>20 mm Double sided bubble wrap 50m</td><td>7360.00</td><td>108.00</td><td>2015-07-22</td><td>High Profit</td></tr><tr><td>Lake Davis</td><td>California</td><td>20 mm Double sided bubble wrap 50m</td><td>7360.00</td><td>108.00</td><td>2015-07-22</td><td>High Profit</td></tr><tr><td>Ridgemark</td><td>California</td><td>20 mm Double sided bubble wrap 50m</td><td>7360.00</td><td>108.00</td><td>2015-07-22</td><td>High Profit</td></tr><tr><td>Termo</td><td>California</td><td>20 mm Double sided bubble wrap 50m</td><td>7360.00</td><td>108.00</td><td>2015-07-22</td><td>High Profit</td></tr><tr><td>San Jacinto</td><td>California</td><td>20 mm Double sided bubble wrap 50m</td><td>7360.00</td><td>108.00</td><td>2015-07-22</td><td>High Profit</td></tr><tr><td>Port Hueneme</td><td>California</td><td>20 mm Double sided bubble wrap 50m</td><td>7360.00</td><td>108.00</td><td>2015-07-22</td><td>High Profit</td></tr><tr><td>Fieldbrook</td><td>California</td><td>20 mm Double sided bubble wrap 50m</td><td>7360.00</td><td>108.00</td><td>2015-07-22</td><td>High Profit</td></tr><tr><td>Port Hueneme</td><td>California</td><td>20 mm Double sided bubble wrap 50m</td><td>7360.00</td><td>108.00</td><td>2015-07-22</td><td>High Profit</td></tr><tr><td>South Laguna</td><td>California</td><td>20 mm Double sided bubble wrap 50m</td><td>7360.00</td><td>108.00</td><td>2015-07-22</td><td>High Profit</td></tr><tr><td>South Laguna</td><td>California</td><td>20 mm Double sided bubble wrap 50m</td><td>7360.00</td><td>108.00</td><td>2015-07-22</td><td>High Profit</td></tr><tr><td>Herlong</td><td>California</td><td>20 mm Double sided bubble wrap 50m</td><td>7360.00</td><td>108.00</td><td>2015-07-22</td><td>High Profit</td></tr><tr><td>Orick</td><td>California</td><td>20 mm Double sided bubble wrap 50m</td><td>7360.00</td><td>108.00</td><td>2015-07-22</td><td>High Profit</td></tr><tr><td>Ridgemark</td><td>California</td><td>20 mm Double sided bubble wrap 50m</td><td>7360.00</td><td>108.00</td><td>2015-07-22</td><td>High Profit</td></tr><tr><td>Taft Heights</td><td>California</td><td>20 mm Double sided bubble wrap 50m</td><td>7360.00</td><td>108.00</td><td>2015-07-22</td><td>High Profit</td></tr><tr><td>Herlong</td><td>California</td><td>20 mm Double sided bubble wrap 50m</td><td>7360.00</td><td>108.00</td><td>2015-07-22</td><td>High Profit</td></tr><tr><td>Lompoc</td><td>California</td><td>20 mm Double sided bubble wrap 50m</td><td>7360.00</td><td>108.00</td><td>2015-07-22</td><td>High Profit</td></tr><tr><td>Rail Road Flat</td><td>California</td><td>20 mm Double sided bubble wrap 50m</td><td>7360.00</td><td>108.00</td><td>2015-07-22</td><td>High Profit</td></tr><tr><td>Floriston</td><td>California</td><td>20 mm Double sided bubble wrap 50m</td><td>7360.00</td><td>108.00</td><td>2015-07-22</td><td>High Profit</td></tr><tr><td>Termo</td><td>California</td><td>20 mm Double sided bubble wrap 50m</td><td>7360.00</td><td>108.00</td><td>2015-07-22</td><td>High Profit</td></tr><tr><td>Rail Road Flat</td><td>California</td><td>20 mm Double sided bubble wrap 50m</td><td>7360.00</td><td>108.00</td><td>2015-07-22</td><td>High Profit</td></tr><tr><td>Lake Hughes</td><td>California</td><td>20 mm Double sided bubble wrap 50m</td><td>7360.00</td><td>108.00</td><td>2015-07-22</td><td>High Profit</td></tr><tr><td>Marin City</td><td>California</td><td>20 mm Double sided bubble wrap 50m</td><td>7360.00</td><td>108.00</td><td>2015-07-22</td><td>High Profit</td></tr><tr><td>Jesmond Dene</td><td>California</td><td>20 mm Double sided bubble wrap 50m</td><td>7360.00</td><td>108.00</td><td>2015-07-22</td><td>High Profit</td></tr><tr><td>Valley View Park</td><td>California</td><td>20 mm Double sided bubble wrap 50m</td><td>7360.00</td><td>108.00</td><td>2015-07-22</td><td>High Profit</td></tr><tr><td>Bombay Beach</td><td>California</td><td>20 mm Double sided bubble wrap 50m</td><td>7360.00</td><td>108.00</td><td>2015-07-22</td><td>High Profit</td></tr><tr><td>El Centro</td><td>California</td><td>20 mm Double sided bubble wrap 50m</td><td>7360.00</td><td>108.00</td><td>2015-07-22</td><td>High Profit</td></tr><tr><td>Twin Peaks</td><td>California</td><td>20 mm Double sided bubble wrap 50m</td><td>7360.00</td><td>108.00</td><td>2015-07-22</td><td>High Profit</td></tr><tr><td>Lake Davis</td><td>California</td><td>20 mm Double sided bubble wrap 50m</td><td>7360.00</td><td>108.00</td><td>2015-07-22</td><td>High Profit</td></tr><tr><td>Arrowhead Highlands</td><td>California</td><td>20 mm Double sided bubble wrap 50m</td><td>7360.00</td><td>108.00</td><td>2015-07-22</td><td>High Profit</td></tr><tr><td>Bombay Beach</td><td>California</td><td>20 mm Double sided bubble wrap 50m</td><td>7360.00</td><td>108.00</td><td>2015-07-22</td><td>High Profit</td></tr><tr><td>Caruthers</td><td>California</td><td>20 mm Double sided bubble wrap 50m</td><td>7360.00</td><td>108.00</td><td>2015-07-22</td><td>High Profit</td></tr><tr><td>Avenal</td><td>California</td><td>20 mm Double sided bubble wrap 50m</td><td>7360.00</td><td>108.00</td><td>2015-07-22</td><td>High Profit</td></tr><tr><td>Rail Road Flat</td><td>California</td><td>20 mm Double sided bubble wrap 50m</td><td>7360.00</td><td>108.00</td><td>2015-07-22</td><td>High Profit</td></tr><tr><td>Termo</td><td>California</td><td>20 mm Double sided bubble wrap 50m</td><td>7360.00</td><td>108.00</td><td>2015-07-22</td><td>High Profit</td></tr><tr><td>San Jacinto</td><td>California</td><td>20 mm Double sided bubble wrap 50m</td><td>7360.00</td><td>108.00</td><td>2015-07-22</td><td>High Profit</td></tr><tr><td>Caruthers</td><td>California</td><td>20 mm Double sided bubble wrap 50m</td><td>7360.00</td><td>108.00</td><td>2015-07-22</td><td>High Profit</td></tr><tr><td>Floriston</td><td>California</td><td>20 mm Double sided bubble wrap 50m</td><td>7360.00</td><td>108.00</td><td>2015-07-22</td><td>High Profit</td></tr><tr><td>Fieldbrook</td><td>California</td><td>20 mm Double sided bubble wrap 50m</td><td>7360.00</td><td>108.00</td><td>2015-07-22</td><td>High Profit</td></tr><tr><td>Stallion Springs</td><td>California</td><td>20 mm Double sided bubble wrap 50m</td><td>7360.00</td><td>108.00</td><td>2015-07-22</td><td>High Profit</td></tr><tr><td>Lake Davis</td><td>California</td><td>20 mm Double sided bubble wrap 50m</td><td>7360.00</td><td>108.00</td><td>2015-07-22</td><td>High Profit</td></tr><tr><td>El Centro</td><td>California</td><td>20 mm Double sided bubble wrap 50m</td><td>7360.00</td><td>108.00</td><td>2015-07-22</td><td>High Profit</td></tr><tr><td>Orick</td><td>California</td><td>20 mm Double sided bubble wrap 50m</td><td>7360.00</td><td>108.00</td><td>2015-07-22</td><td>High Profit</td></tr><tr><td>Lake Davis</td><td>California</td><td>20 mm Double sided bubble wrap 50m</td><td>7360.00</td><td>108.00</td><td>2015-07-22</td><td>High Profit</td></tr><tr><td>Yermo</td><td>California</td><td>20 mm Double sided bubble wrap 50m</td><td>7360.00</td><td>108.00</td><td>2015-07-22</td><td>High Profit</td></tr><tr><td>Glen Avon</td><td>California</td><td>20 mm Double sided bubble wrap 50m</td><td>7360.00</td><td>108.00</td><td>2015-07-22</td><td>High Profit</td></tr><tr><td>Stallion Springs</td><td>California</td><td>20 mm Double sided bubble wrap 50m</td><td>7360.00</td><td>108.00</td><td>2015-07-22</td><td>High Profit</td></tr><tr><td>Clewiston</td><td>Florida</td><td>20 mm Double sided bubble wrap 50m</td><td>7360.00</td><td>108.00</td><td>2015-07-22</td><td>High Profit</td></tr><tr><td>Clewiston</td><td>Florida</td><td>20 mm Double sided bubble wrap 50m</td><td>7360.00</td><td>108.00</td><td>2015-07-22</td><td>High Profit</td></tr><tr><td>Oriole Beach</td><td>Florida</td><td>20 mm Double sided bubble wrap 50m</td><td>7360.00</td><td>108.00</td><td>2015-07-22</td><td>High Profit</td></tr><tr><td>Trilby</td><td>Florida</td><td>20 mm Double sided bubble wrap 50m</td><td>7360.00</td><td>108.00</td><td>2015-07-22</td><td>High Profit</td></tr><tr><td>West Frostproof</td><td>Florida</td><td>20 mm Double sided bubble wrap 50m</td><td>7360.00</td><td>108.00</td><td>2015-07-22</td><td>High Profit</td></tr><tr><td>Tierra Verde</td><td>Florida</td><td>20 mm Double sided bubble wrap 50m</td><td>7360.00</td><td>108.00</td><td>2015-07-22</td><td>High Profit</td></tr><tr><td>Trilby</td><td>Florida</td><td>20 mm Double sided bubble wrap 50m</td><td>7360.00</td><td>108.00</td><td>2015-07-22</td><td>High Profit</td></tr><tr><td>Lake Clarke Shores</td><td>Florida</td><td>20 mm Double sided bubble wrap 50m</td><td>7360.00</td><td>108.00</td><td>2015-07-22</td><td>High Profit</td></tr><tr><td>Tavares</td><td>Florida</td><td>20 mm Double sided bubble wrap 50m</td><td>7360.00</td><td>108.00</td><td>2015-07-22</td><td>High Profit</td></tr><tr><td>Mary Esther</td><td>Florida</td><td>20 mm Double sided bubble wrap 50m</td><td>7360.00</td><td>108.00</td><td>2015-07-22</td><td>High Profit</td></tr><tr><td>Mary Esther</td><td>Florida</td><td>20 mm Double sided bubble wrap 50m</td><td>7360.00</td><td>108.00</td><td>2015-07-22</td><td>High Profit</td></tr><tr><td>Bakers Mill</td><td>Florida</td><td>20 mm Double sided bubble wrap 50m</td><td>7360.00</td><td>108.00</td><td>2015-07-22</td><td>High Profit</td></tr><tr><td>Lake Clarke Shores</td><td>Florida</td><td>20 mm Double sided bubble wrap 50m</td><td>7360.00</td><td>108.00</td><td>2015-07-22</td><td>High Profit</td></tr><tr><td>West Frostproof</td><td>Florida</td><td>20 mm Double sided bubble wrap 50m</td><td>7360.00</td><td>108.00</td><td>2015-07-22</td><td>High Profit</td></tr><tr><td>Naples Park</td><td>Florida</td><td>20 mm Double sided bubble wrap 50m</td><td>7360.00</td><td>108.00</td><td>2015-07-22</td><td>High Profit</td></tr><tr><td>Mary Esther</td><td>Florida</td><td>20 mm Double sided bubble wrap 50m</td><td>7360.00</td><td>108.00</td><td>2015-07-22</td><td>High Profit</td></tr><tr><td>Tierra Verde</td><td>Florida</td><td>20 mm Double sided bubble wrap 50m</td><td>7360.00</td><td>108.00</td><td>2015-07-22</td><td>High Profit</td></tr><tr><td>Lynne</td><td>Florida</td><td>20 mm Double sided bubble wrap 50m</td><td>7360.00</td><td>108.00</td><td>2015-07-22</td><td>High Profit</td></tr><tr><td>West Frostproof</td><td>Florida</td><td>20 mm Double sided bubble wrap 50m</td><td>7360.00</td><td>108.00</td><td>2015-07-22</td><td>High Profit</td></tr><tr><td>Tavares</td><td>Florida</td><td>20 mm Double sided bubble wrap 50m</td><td>7360.00</td><td>108.00</td><td>2015-07-22</td><td>High Profit</td></tr><tr><td>Trilby</td><td>Florida</td><td>20 mm Double sided bubble wrap 50m</td><td>7360.00</td><td>108.00</td><td>2015-07-22</td><td>High Profit</td></tr><tr><td>Compass Lake</td><td>Florida</td><td>20 mm Double sided bubble wrap 50m</td><td>7360.00</td><td>108.00</td><td>2015-07-22</td><td>High Profit</td></tr><tr><td>West Frostproof</td><td>Florida</td><td>20 mm Double sided bubble wrap 50m</td><td>7360.00</td><td>108.00</td><td>2015-07-22</td><td>High Profit</td></tr><tr><td>Cloud Lake</td><td>Florida</td><td>20 mm Double sided bubble wrap 50m</td><td>7360.00</td><td>108.00</td><td>2015-07-22</td><td>High Profit</td></tr><tr><td>Bokeelia</td><td>Florida</td><td>20 mm Double sided bubble wrap 50m</td><td>7360.00</td><td>108.00</td><td>2015-07-22</td><td>High Profit</td></tr><tr><td>Naples Park</td><td>Florida</td><td>20 mm Double sided bubble wrap 50m</td><td>7360.00</td><td>108.00</td><td>2015-07-22</td><td>High Profit</td></tr><tr><td>Trilby</td><td>Florida</td><td>20 mm Double sided bubble wrap 50m</td><td>7360.00</td><td>108.00</td><td>2015-07-22</td><td>High Profit</td></tr><tr><td>Bokeelia</td><td>Florida</td><td>20 mm Double sided bubble wrap 50m</td><td>7360.00</td><td>108.00</td><td>2015-07-22</td><td>High Profit</td></tr><tr><td>Clewiston</td><td>Florida</td><td>20 mm Double sided bubble wrap 50m</td><td>7360.00</td><td>108.00</td><td>2015-07-22</td><td>High Profit</td></tr><tr><td>Lake Clarke Shores</td><td>Florida</td><td>20 mm Double sided bubble wrap 50m</td><td>7360.00</td><td>108.00</td><td>2015-07-22</td><td>High Profit</td></tr><tr><td>Tavares</td><td>Florida</td><td>20 mm Double sided bubble wrap 50m</td><td>7360.00</td><td>108.00</td><td>2015-07-22</td><td>High Profit</td></tr><tr><td>Eagle Valley</td><td>New York</td><td>20 mm Double sided bubble wrap 50m</td><td>7360.00</td><td>108.00</td><td>2015-07-22</td><td>High Profit</td></tr><tr><td>Esopus</td><td>New York</td><td>20 mm Double sided bubble wrap 50m</td><td>7360.00</td><td>108.00</td><td>2015-07-22</td><td>High Profit</td></tr><tr><td>Caton</td><td>New York</td><td>20 mm Double sided bubble wrap 50m</td><td>7360.00</td><td>108.00</td><td>2015-07-22</td><td>High Profit</td></tr><tr><td>Wappingers Falls</td><td>New York</td><td>20 mm Double sided bubble wrap 50m</td><td>7360.00</td><td>108.00</td><td>2015-07-22</td><td>High Profit</td></tr><tr><td>North Ridge</td><td>New York</td><td>20 mm Double sided bubble wrap 50m</td><td>7360.00</td><td>108.00</td><td>2015-07-22</td><td>High Profit</td></tr><tr><td>Roe Park</td><td>New York</td><td>20 mm Double sided bubble wrap 50m</td><td>7360.00</td><td>108.00</td><td>2015-07-22</td><td>High Profit</td></tr><tr><td>Eagle Valley</td><td>New York</td><td>20 mm Double sided bubble wrap 50m</td><td>7360.00</td><td>108.00</td><td>2015-07-22</td><td>High Profit</td></tr><tr><td>Esopus</td><td>New York</td><td>20 mm Double sided bubble wrap 50m</td><td>7360.00</td><td>108.00</td><td>2015-07-22</td><td>High Profit</td></tr><tr><td>Palatine Bridge</td><td>New York</td><td>20 mm Double sided bubble wrap 50m</td><td>7360.00</td><td>108.00</td><td>2015-07-22</td><td>High Profit</td></tr><tr><td>Walker Valley</td><td>New York</td><td>20 mm Double sided bubble wrap 50m</td><td>7360.00</td><td>108.00</td><td>2015-07-22</td><td>High Profit</td></tr><tr><td>Islip Terrace</td><td>New York</td><td>20 mm Double sided bubble wrap 50m</td><td>7360.00</td><td>108.00</td><td>2015-07-22</td><td>High Profit</td></tr><tr><td>Lake Ronkonkoma</td><td>New York</td><td>20 mm Double sided bubble wrap 50m</td><td>7360.00</td><td>108.00</td><td>2015-07-22</td><td>High Profit</td></tr><tr><td>Great Neck</td><td>New York</td><td>20 mm Double sided bubble wrap 50m</td><td>7360.00</td><td>108.00</td><td>2015-07-22</td><td>High Profit</td></tr><tr><td>Lime Lake</td><td>New York</td><td>20 mm Double sided bubble wrap 50m</td><td>7360.00</td><td>108.00</td><td>2015-07-22</td><td>High Profit</td></tr><tr><td>Sauquoit</td><td>New York</td><td>20 mm Double sided bubble wrap 50m</td><td>7360.00</td><td>108.00</td><td>2015-07-22</td><td>High Profit</td></tr><tr><td>Chateaugay</td><td>New York</td><td>20 mm Double sided bubble wrap 50m</td><td>7360.00</td><td>108.00</td><td>2015-07-22</td><td>High Profit</td></tr><tr><td>Sauquoit</td><td>New York</td><td>20 mm Double sided bubble wrap 50m</td><td>7360.00</td><td>108.00</td><td>2015-07-22</td><td>High Profit</td></tr><tr><td>Eagle Valley</td><td>New York</td><td>20 mm Double sided bubble wrap 50m</td><td>7360.00</td><td>108.00</td><td>2015-07-22</td><td>High Profit</td></tr><tr><td>Gasport</td><td>New York</td><td>20 mm Double sided bubble wrap 50m</td><td>7360.00</td><td>108.00</td><td>2015-07-22</td><td>High Profit</td></tr><tr><td>Greig</td><td>New York</td><td>20 mm Double sided bubble wrap 50m</td><td>7360.00</td><td>108.00</td><td>2015-07-22</td><td>High Profit</td></tr><tr><td>Eagle Valley</td><td>New York</td><td>20 mm Double sided bubble wrap 50m</td><td>7360.00</td><td>108.00</td><td>2015-07-22</td><td>High Profit</td></tr><tr><td>Great Neck Estates</td><td>New York</td><td>20 mm Double sided bubble wrap 50m</td><td>7360.00</td><td>108.00</td><td>2015-07-22</td><td>High Profit</td></tr><tr><td>Eastchester</td><td>New York</td><td>20 mm Double sided bubble wrap 50m</td><td>7360.00</td><td>108.00</td><td>2015-07-22</td><td>High Profit</td></tr><tr><td>Palatine Bridge</td><td>New York</td><td>20 mm Double sided bubble wrap 50m</td><td>7360.00</td><td>108.00</td><td>2015-07-22</td><td>High Profit</td></tr><tr><td>Esopus</td><td>New York</td><td>20 mm Double sided bubble wrap 50m</td><td>7360.00</td><td>108.00</td><td>2015-07-22</td><td>High Profit</td></tr><tr><td>Shenorock</td><td>New York</td><td>20 mm Double sided bubble wrap 50m</td><td>7360.00</td><td>108.00</td><td>2015-07-22</td><td>High Profit</td></tr><tr><td>Lake Ronkonkoma</td><td>New York</td><td>20 mm Double sided bubble wrap 50m</td><td>7360.00</td><td>108.00</td><td>2015-07-22</td><td>High Profit</td></tr><tr><td>Eagle Valley</td><td>New York</td><td>20 mm Double sided bubble wrap 50m</td><td>7360.00</td><td>108.00</td><td>2015-07-22</td><td>High Profit</td></tr><tr><td>Greig</td><td>New York</td><td>20 mm Double sided bubble wrap 50m</td><td>7360.00</td><td>108.00</td><td>2015-07-22</td><td>High Profit</td></tr><tr><td>Big Moose</td><td>New York</td><td>20 mm Double sided bubble wrap 50m</td><td>7360.00</td><td>108.00</td><td>2015-07-22</td><td>High Profit</td></tr><tr><td>Conewango</td><td>New York</td><td>20 mm Double sided bubble wrap 50m</td><td>7360.00</td><td>108.00</td><td>2015-07-22</td><td>High Profit</td></tr><tr><td>Caton</td><td>New York</td><td>20 mm Double sided bubble wrap 50m</td><td>7360.00</td><td>108.00</td><td>2015-07-22</td><td>High Profit</td></tr><tr><td>Copake</td><td>New York</td><td>20 mm Double sided bubble wrap 50m</td><td>7360.00</td><td>108.00</td><td>2015-07-22</td><td>High Profit</td></tr><tr><td>Glen Park</td><td>New York</td><td>20 mm Double sided bubble wrap 50m</td><td>7360.00</td><td>108.00</td><td>2015-07-22</td><td>High Profit</td></tr><tr><td>Athol Springs</td><td>New York</td><td>20 mm Double sided bubble wrap 50m</td><td>7360.00</td><td>108.00</td><td>2015-07-22</td><td>High Profit</td></tr><tr><td>Gasport</td><td>New York</td><td>20 mm Double sided bubble wrap 50m</td><td>7360.00</td><td>108.00</td><td>2015-07-22</td><td>High Profit</td></tr><tr><td>Sauquoit</td><td>New York</td><td>20 mm Double sided bubble wrap 50m</td><td>7360.00</td><td>108.00</td><td>2015-07-22</td><td>High Profit</td></tr><tr><td>Gasport</td><td>New York</td><td>20 mm Double sided bubble wrap 50m</td><td>7360.00</td><td>108.00</td><td>2015-07-22</td><td>High Profit</td></tr><tr><td>Lime Lake</td><td>New York</td><td>20 mm Double sided bubble wrap 50m</td><td>7360.00</td><td>108.00</td><td>2015-07-22</td><td>High Profit</td></tr><tr><td>Wappingers Falls</td><td>New York</td><td>20 mm Double sided bubble wrap 50m</td><td>7360.00</td><td>108.00</td><td>2015-07-22</td><td>High Profit</td></tr><tr><td>Roe Park</td><td>New York</td><td>20 mm Double sided bubble wrap 50m</td><td>7360.00</td><td>108.00</td><td>2015-07-22</td><td>High Profit</td></tr><tr><td>Schoharie</td><td>New York</td><td>20 mm Double sided bubble wrap 50m</td><td>7360.00</td><td>108.00</td><td>2015-07-22</td><td>High Profit</td></tr><tr><td>Trumansburg</td><td>New York</td><td>20 mm Double sided bubble wrap 50m</td><td>7360.00</td><td>108.00</td><td>2015-07-22</td><td>High Profit</td></tr><tr><td>Arietta</td><td>New York</td><td>20 mm Double sided bubble wrap 50m</td><td>7360.00</td><td>108.00</td><td>2015-07-22</td><td>High Profit</td></tr><tr><td>Islip Terrace</td><td>New York</td><td>20 mm Double sided bubble wrap 50m</td><td>7360.00</td><td>108.00</td><td>2015-07-22</td><td>High Profit</td></tr><tr><td>West Hempstead</td><td>New York</td><td>20 mm Double sided bubble wrap 50m</td><td>7360.00</td><td>108.00</td><td>2015-07-22</td><td>High Profit</td></tr><tr><td>Lake Erie Beach</td><td>New York</td><td>20 mm Double sided bubble wrap 50m</td><td>7360.00</td><td>108.00</td><td>2015-07-22</td><td>High Profit</td></tr><tr><td>Glen Park</td><td>New York</td><td>20 mm Double sided bubble wrap 50m</td><td>7360.00</td><td>108.00</td><td>2015-07-22</td><td>High Profit</td></tr><tr><td>Islip Terrace</td><td>New York</td><td>20 mm Double sided bubble wrap 50m</td><td>7360.00</td><td>108.00</td><td>2015-07-22</td><td>High Profit</td></tr><tr><td>Truscott</td><td>Texas</td><td>20 mm Double sided bubble wrap 50m</td><td>7360.00</td><td>108.00</td><td>2015-07-22</td><td>High Profit</td></tr><tr><td>Helotes</td><td>Texas</td><td>20 mm Double sided bubble wrap 50m</td><td>7360.00</td><td>108.00</td><td>2015-07-22</td><td>High Profit</td></tr><tr><td>Dawn</td><td>Texas</td><td>20 mm Double sided bubble wrap 50m</td><td>7360.00</td><td>108.00</td><td>2015-07-22</td><td>High Profit</td></tr><tr><td>Hollywood Park</td><td>Texas</td><td>20 mm Double sided bubble wrap 50m</td><td>7360.00</td><td>108.00</td><td>2015-07-22</td><td>High Profit</td></tr><tr><td>Vair</td><td>Texas</td><td>20 mm Double sided bubble wrap 50m</td><td>7360.00</td><td>108.00</td><td>2015-07-22</td><td>High Profit</td></tr><tr><td>Marfa</td><td>Texas</td><td>20 mm Double sided bubble wrap 50m</td><td>7360.00</td><td>108.00</td><td>2015-07-22</td><td>High Profit</td></tr><tr><td>Morita</td><td>Texas</td><td>20 mm Double sided bubble wrap 50m</td><td>7360.00</td><td>108.00</td><td>2015-07-22</td><td>High Profit</td></tr><tr><td>Rockwall</td><td>Texas</td><td>20 mm Double sided bubble wrap 50m</td><td>7360.00</td><td>108.00</td><td>2015-07-22</td><td>High Profit</td></tr><tr><td>Old River-Winfree</td><td>Texas</td><td>20 mm Double sided bubble wrap 50m</td><td>7360.00</td><td>108.00</td><td>2015-07-22</td><td>High Profit</td></tr><tr><td>Flowella</td><td>Texas</td><td>20 mm Double sided bubble wrap 50m</td><td>7360.00</td><td>108.00</td><td>2015-07-22</td><td>High Profit</td></tr><tr><td>South La Paloma</td><td>Texas</td><td>20 mm Double sided bubble wrap 50m</td><td>7360.00</td><td>108.00</td><td>2015-07-22</td><td>High Profit</td></tr><tr><td>Dorchester</td><td>Texas</td><td>20 mm Double sided bubble wrap 50m</td><td>7360.00</td><td>108.00</td><td>2015-07-22</td><td>High Profit</td></tr><tr><td>McCamey</td><td>Texas</td><td>20 mm Double sided bubble wrap 50m</td><td>7360.00</td><td>108.00</td><td>2015-07-22</td><td>High Profit</td></tr><tr><td>Old River-Winfree</td><td>Texas</td><td>20 mm Double sided bubble wrap 50m</td><td>7360.00</td><td>108.00</td><td>2015-07-22</td><td>High Profit</td></tr><tr><td>Pharr</td><td>Texas</td><td>20 mm Double sided bubble wrap 50m</td><td>7360.00</td><td>108.00</td><td>2015-07-22</td><td>High Profit</td></tr><tr><td>The Colony</td><td>Texas</td><td>20 mm Double sided bubble wrap 50m</td><td>7360.00</td><td>108.00</td><td>2015-07-22</td><td>High Profit</td></tr><tr><td>Haltom City</td><td>Texas</td><td>20 mm Double sided bubble wrap 50m</td><td>7360.00</td><td>108.00</td><td>2015-07-22</td><td>High Profit</td></tr><tr><td>Oak Point</td><td>Texas</td><td>20 mm Double sided bubble wrap 50m</td><td>7360.00</td><td>108.00</td><td>2015-07-22</td><td>High Profit</td></tr><tr><td>Flowella</td><td>Texas</td><td>20 mm Double sided bubble wrap 50m</td><td>7360.00</td><td>108.00</td><td>2015-07-22</td><td>High Profit</td></tr><tr><td>Dallardsville</td><td>Texas</td><td>20 mm Double sided bubble wrap 50m</td><td>7360.00</td><td>108.00</td><td>2015-07-22</td><td>High Profit</td></tr><tr><td>Oak Point</td><td>Texas</td><td>20 mm Double sided bubble wrap 50m</td><td>7360.00</td><td>108.00</td><td>2015-07-22</td><td>High Profit</td></tr><tr><td>Del Valle</td><td>Texas</td><td>20 mm Double sided bubble wrap 50m</td><td>7360.00</td><td>108.00</td><td>2015-07-22</td><td>High Profit</td></tr><tr><td>El Refugio</td><td>Texas</td><td>20 mm Double sided bubble wrap 50m</td><td>7360.00</td><td>108.00</td><td>2015-07-22</td><td>High Profit</td></tr><tr><td>Old River-Winfree</td><td>Texas</td><td>20 mm Double sided bubble wrap 50m</td><td>7360.00</td><td>108.00</td><td>2015-07-22</td><td>High Profit</td></tr><tr><td>Haltom City</td><td>Texas</td><td>20 mm Double sided bubble wrap 50m</td><td>7360.00</td><td>108.00</td><td>2015-07-22</td><td>High Profit</td></tr><tr><td>Flowella</td><td>Texas</td><td>20 mm Double sided bubble wrap 50m</td><td>7360.00</td><td>108.00</td><td>2015-07-22</td><td>High Profit</td></tr><tr><td>Lavon</td><td>Texas</td><td>20 mm Double sided bubble wrap 50m</td><td>7360.00</td><td>108.00</td><td>2015-07-22</td><td>High Profit</td></tr><tr><td>The Colony</td><td>Texas</td><td>20 mm Double sided bubble wrap 50m</td><td>7360.00</td><td>108.00</td><td>2015-07-22</td><td>High Profit</td></tr><tr><td>Rockwall</td><td>Texas</td><td>20 mm Double sided bubble wrap 50m</td><td>7360.00</td><td>108.00</td><td>2015-07-22</td><td>High Profit</td></tr><tr><td>Pharr</td><td>Texas</td><td>20 mm Double sided bubble wrap 50m</td><td>7360.00</td><td>108.00</td><td>2015-07-22</td><td>High Profit</td></tr><tr><td>Jones Creek</td><td>Texas</td><td>20 mm Double sided bubble wrap 50m</td><td>7360.00</td><td>108.00</td><td>2015-07-22</td><td>High Profit</td></tr><tr><td>East Mountain</td><td>Texas</td><td>20 mm Double sided bubble wrap 50m</td><td>7360.00</td><td>108.00</td><td>2015-07-22</td><td>High Profit</td></tr><tr><td>East Mountain</td><td>Texas</td><td>20 mm Double sided bubble wrap 50m</td><td>7360.00</td><td>108.00</td><td>2015-07-22</td><td>High Profit</td></tr><tr><td>El Refugio</td><td>Texas</td><td>20 mm Double sided bubble wrap 50m</td><td>7360.00</td><td>108.00</td><td>2015-07-22</td><td>High Profit</td></tr><tr><td>South La Paloma</td><td>Texas</td><td>20 mm Double sided bubble wrap 50m</td><td>7360.00</td><td>108.00</td><td>2015-07-22</td><td>High Profit</td></tr><tr><td>Plata</td><td>Texas</td><td>20 mm Double sided bubble wrap 50m</td><td>7360.00</td><td>108.00</td><td>2015-07-22</td><td>High Profit</td></tr><tr><td>Batson</td><td>Texas</td><td>20 mm Double sided bubble wrap 50m</td><td>7360.00</td><td>108.00</td><td>2015-07-22</td><td>High Profit</td></tr><tr><td>Ben Arnold</td><td>Texas</td><td>20 mm Double sided bubble wrap 50m</td><td>7360.00</td><td>108.00</td><td>2015-07-22</td><td>High Profit</td></tr><tr><td>Rockwall</td><td>Texas</td><td>20 mm Double sided bubble wrap 50m</td><td>7360.00</td><td>108.00</td><td>2015-07-22</td><td>High Profit</td></tr><tr><td>Flowella</td><td>Texas</td><td>20 mm Double sided bubble wrap 50m</td><td>7360.00</td><td>108.00</td><td>2015-07-22</td><td>High Profit</td></tr><tr><td>Marfa</td><td>Texas</td><td>20 mm Double sided bubble wrap 50m</td><td>7360.00</td><td>108.00</td><td>2015-07-22</td><td>High Profit</td></tr><tr><td>Pharr</td><td>Texas</td><td>20 mm Double sided bubble wrap 50m</td><td>7360.00</td><td>108.00</td><td>2015-07-22</td><td>High Profit</td></tr><tr><td>Tarzan</td><td>Texas</td><td>20 mm Double sided bubble wrap 50m</td><td>7360.00</td><td>108.00</td><td>2015-07-22</td><td>High Profit</td></tr><tr><td>Seagraves</td><td>Texas</td><td>20 mm Double sided bubble wrap 50m</td><td>7360.00</td><td>108.00</td><td>2015-07-22</td><td>High Profit</td></tr><tr><td>Ben Arnold</td><td>Texas</td><td>20 mm Double sided bubble wrap 50m</td><td>7360.00</td><td>108.00</td><td>2015-07-22</td><td>High Profit</td></tr><tr><td>Jones Creek</td><td>Texas</td><td>20 mm Double sided bubble wrap 50m</td><td>7360.00</td><td>108.00</td><td>2015-07-22</td><td>High Profit</td></tr><tr><td>Kopperl</td><td>Texas</td><td>20 mm Double sided bubble wrap 50m</td><td>7360.00</td><td>108.00</td><td>2015-07-22</td><td>High Profit</td></tr><tr><td>Old River-Winfree</td><td>Texas</td><td>20 mm Double sided bubble wrap 50m</td><td>7360.00</td><td>108.00</td><td>2015-07-22</td><td>High Profit</td></tr><tr><td>Jones Creek</td><td>Texas</td><td>20 mm Double sided bubble wrap 50m</td><td>7360.00</td><td>108.00</td><td>2015-07-22</td><td>High Profit</td></tr><tr><td>McCamey</td><td>Texas</td><td>20 mm Double sided bubble wrap 50m</td><td>7360.00</td><td>108.00</td><td>2015-07-22</td><td>High Profit</td></tr><tr><td>Jones Creek</td><td>Texas</td><td>20 mm Double sided bubble wrap 50m</td><td>7360.00</td><td>108.00</td><td>2015-07-22</td><td>High Profit</td></tr><tr><td>Haltom City</td><td>Texas</td><td>20 mm Double sided bubble wrap 50m</td><td>7360.00</td><td>108.00</td><td>2015-07-22</td><td>High Profit</td></tr><tr><td>Batson</td><td>Texas</td><td>20 mm Double sided bubble wrap 50m</td><td>7360.00</td><td>108.00</td><td>2015-07-22</td><td>High Profit</td></tr><tr><td>Bernstein</td><td>Texas</td><td>20 mm Double sided bubble wrap 50m</td><td>7360.00</td><td>108.00</td><td>2015-07-22</td><td>High Profit</td></tr><tr><td>East Mountain</td><td>Texas</td><td>20 mm Double sided bubble wrap 50m</td><td>7360.00</td><td>108.00</td><td>2015-07-22</td><td>High Profit</td></tr><tr><td>Plata</td><td>Texas</td><td>20 mm Double sided bubble wrap 50m</td><td>7360.00</td><td>108.00</td><td>2015-07-22</td><td>High Profit</td></tr><tr><td>McCamey</td><td>Texas</td><td>20 mm Double sided bubble wrap 50m</td><td>7360.00</td><td>108.00</td><td>2015-07-22</td><td>High Profit</td></tr><tr><td>Seagraves</td><td>Texas</td><td>20 mm Double sided bubble wrap 50m</td><td>7360.00</td><td>108.00</td><td>2015-07-22</td><td>High Profit</td></tr><tr><td>Mendoza</td><td>Texas</td><td>20 mm Double sided bubble wrap 50m</td><td>7360.00</td><td>108.00</td><td>2015-07-22</td><td>High Profit</td></tr><tr><td>Batson</td><td>Texas</td><td>20 mm Double sided bubble wrap 50m</td><td>7360.00</td><td>108.00</td><td>2015-07-22</td><td>High Profit</td></tr><tr><td>Maypearl</td><td>Texas</td><td>20 mm Double sided bubble wrap 50m</td><td>7360.00</td><td>108.00</td><td>2015-07-22</td><td>High Profit</td></tr><tr><td>Vair</td><td>Texas</td><td>20 mm Double sided bubble wrap 50m</td><td>7360.00</td><td>108.00</td><td>2015-07-22</td><td>High Profit</td></tr><tr><td>Ovilla</td><td>Texas</td><td>20 mm Double sided bubble wrap 50m</td><td>7360.00</td><td>108.00</td><td>2015-07-22</td><td>High Profit</td></tr><tr><td>Maypearl</td><td>Texas</td><td>20 mm Double sided bubble wrap 50m</td><td>7360.00</td><td>108.00</td><td>2015-07-22</td><td>High Profit</td></tr><tr><td>Vair</td><td>Texas</td><td>20 mm Double sided bubble wrap 50m</td><td>7360.00</td><td>108.00</td><td>2015-07-22</td><td>High Profit</td></tr><tr><td>Hollywood Park</td><td>Texas</td><td>20 mm Double sided bubble wrap 50m</td><td>7360.00</td><td>108.00</td><td>2015-07-22</td><td>High Profit</td></tr><tr><td>Buchanan Lake Village</td><td>Texas</td><td>20 mm Double sided bubble wrap 50m</td><td>7360.00</td><td>108.00</td><td>2015-07-22</td><td>High Profit</td></tr><tr><td>Dawn</td><td>Texas</td><td>20 mm Double sided bubble wrap 50m</td><td>7360.00</td><td>108.00</td><td>2015-07-22</td><td>High Profit</td></tr><tr><td>Buchanan Lake Village</td><td>Texas</td><td>20 mm Double sided bubble wrap 50m</td><td>7360.00</td><td>108.00</td><td>2015-07-22</td><td>High Profit</td></tr><tr><td>Mendoza</td><td>Texas</td><td>20 mm Double sided bubble wrap 50m</td><td>7360.00</td><td>108.00</td><td>2015-07-22</td><td>High Profit</td></tr><tr><td>Buchanan Lake Village</td><td>Texas</td><td>20 mm Double sided bubble wrap 50m</td><td>7360.00</td><td>108.00</td><td>2015-07-22</td><td>High Profit</td></tr><tr><td>The Colony</td><td>Texas</td><td>20 mm Double sided bubble wrap 50m</td><td>7360.00</td><td>108.00</td><td>2015-07-22</td><td>High Profit</td></tr><tr><td>Dickworsham</td><td>Texas</td><td>20 mm Double sided bubble wrap 50m</td><td>7360.00</td><td>108.00</td><td>2015-07-22</td><td>High Profit</td></tr><tr><td>Haltom City</td><td>Texas</td><td>20 mm Double sided bubble wrap 50m</td><td>7360.00</td><td>108.00</td><td>2015-07-22</td><td>High Profit</td></tr><tr><td>El Refugio</td><td>Texas</td><td>20 mm Double sided bubble wrap 50m</td><td>7360.00</td><td>108.00</td><td>2015-07-22</td><td>High Profit</td></tr><tr><td>East Mountain</td><td>Texas</td><td>20 mm Double sided bubble wrap 50m</td><td>7360.00</td><td>108.00</td><td>2015-07-22</td><td>High Profit</td></tr><tr><td>Truscott</td><td>Texas</td><td>20 mm Double sided bubble wrap 50m</td><td>7360.00</td><td>108.00</td><td>2015-07-22</td><td>High Profit</td></tr></table>"
                    },
                    "metadata": {}
                }
            ],
            "execution_count": 2
        },
        {
            "cell_type": "markdown",
            "source": [
                "## Q18 (Medium - WorldWideImposters)\n",
                "\n",
                "- Return a query that analyzes sales data from 2015, focusing on high-value transactions in February to ensure timely deliveries. \n",
                "- Tables involved include Sales.Customers, Sales.Orders, Sales.CustomerTransactions, and Sales.Invoices."
            ],
            "metadata": {
                "language": "sql",
                "azdata_cell_guid": "0e46e10d-b2de-45a1-8275-f191ee851f2b"
            },
            "attachments": {}
        },
        {
            "cell_type": "code",
            "source": [
                "USE WideWorldImporters;\r\n",
                "WITH CustomerOrderDetails AS (\r\n",
                "    SELECT\r\n",
                "        C.CustomerName,\r\n",
                "        O.OrderDate,\r\n",
                "        O.ExpectedDeliveryDate,\r\n",
                "        CT.TransactionAmount,\r\n",
                "\t\tI.ConfirmedDeliveryTime\r\n",
                "    FROM\r\n",
                "        Sales.Customers AS C\r\n",
                "    JOIN\r\n",
                "        Sales.Orders AS O ON C.CustomerID = O.CustomerID\r\n",
                "    JOIN\r\n",
                "        Sales.CustomerTransactions AS CT ON C.CustomerID = CT.CustomerID\r\n",
                "\tJOIN \r\n",
                "\t\tSales.Invoices AS I ON C.CustomerID = I.CustomerID\r\n",
                ")\r\n",
                "SELECT\r\n",
                "    CustomerName,\r\n",
                "    OrderDate,\r\n",
                "    ExpectedDeliveryDate,\r\n",
                "\tConfirmedDeliveryTime,\r\n",
                "    TransactionAmount\r\n",
                "\r\n",
                "FROM\r\n",
                "    CustomerOrderDetails\r\n",
                "WHERE \r\n",
                "    YEAR(OrderDate) = '2015' \r\n",
                "\tAND YEAR(ConfirmedDeliveryTime) = '2015'\r\n",
                "    AND MONTH(OrderDate) = '02'\r\n",
                "\tAND MONTH(ConfirmedDeliveryTIme) = '02'\r\n",
                "    AND TransactionAmount > 35000\r\n",
                "\t AND DATEDIFF(day, OrderDate, ExpectedDeliveryDate) >= 0 \r\n",
                "GROUP BY\r\n",
                "    CustomerName,\r\n",
                "    OrderDate,\r\n",
                "    ExpectedDeliveryDate,\r\n",
                "    TransactionAmount,\r\n",
                "\tConfirmedDeliveryTime\r\n",
                "ORDER BY\r\n",
                "    TransactionAmount DESC;\r\n",
                ""
            ],
            "metadata": {
                "language": "sql",
                "azdata_cell_guid": "23120327-ee35-44e1-8037-52a991c30596"
            },
            "outputs": [
                {
                    "output_type": "display_data",
                    "data": {
                        "text/html": "(9 rows affected)"
                    },
                    "metadata": {}
                },
                {
                    "output_type": "display_data",
                    "data": {
                        "text/html": "Total execution time: 00:00:00.082"
                    },
                    "metadata": {}
                },
                {
                    "output_type": "execute_result",
                    "execution_count": 26,
                    "data": {
                        "application/vnd.dataresource+json": {
                            "schema": {
                                "fields": [
                                    {
                                        "name": "CustomerName"
                                    },
                                    {
                                        "name": "OrderDate"
                                    },
                                    {
                                        "name": "ExpectedDeliveryDate"
                                    },
                                    {
                                        "name": "ConfirmedDeliveryTime"
                                    },
                                    {
                                        "name": "TransactionAmount"
                                    }
                                ]
                            },
                            "data": [
                                {
                                    "CustomerName": "Cong Hoa",
                                    "OrderDate": "2015-02-10",
                                    "ExpectedDeliveryDate": "2015-02-11",
                                    "ConfirmedDeliveryTime": "2015-02-11 11:20:00.0000000",
                                    "TransactionAmount": "36829.90"
                                },
                                {
                                    "CustomerName": "Cong Hoa",
                                    "OrderDate": "2015-02-10",
                                    "ExpectedDeliveryDate": "2015-02-11",
                                    "ConfirmedDeliveryTime": "2015-02-12 08:05:00.0000000",
                                    "TransactionAmount": "36829.90"
                                },
                                {
                                    "CustomerName": "Cong Hoa",
                                    "OrderDate": "2015-02-10",
                                    "ExpectedDeliveryDate": "2015-02-11",
                                    "ConfirmedDeliveryTime": "2015-02-22 09:00:00.0000000",
                                    "TransactionAmount": "36829.90"
                                },
                                {
                                    "CustomerName": "Cong Hoa",
                                    "OrderDate": "2015-02-11",
                                    "ExpectedDeliveryDate": "2015-02-12",
                                    "ConfirmedDeliveryTime": "2015-02-11 11:20:00.0000000",
                                    "TransactionAmount": "36829.90"
                                },
                                {
                                    "CustomerName": "Cong Hoa",
                                    "OrderDate": "2015-02-11",
                                    "ExpectedDeliveryDate": "2015-02-12",
                                    "ConfirmedDeliveryTime": "2015-02-12 08:05:00.0000000",
                                    "TransactionAmount": "36829.90"
                                },
                                {
                                    "CustomerName": "Cong Hoa",
                                    "OrderDate": "2015-02-11",
                                    "ExpectedDeliveryDate": "2015-02-12",
                                    "ConfirmedDeliveryTime": "2015-02-22 09:00:00.0000000",
                                    "TransactionAmount": "36829.90"
                                },
                                {
                                    "CustomerName": "Cong Hoa",
                                    "OrderDate": "2015-02-21",
                                    "ExpectedDeliveryDate": "2015-02-23",
                                    "ConfirmedDeliveryTime": "2015-02-11 11:20:00.0000000",
                                    "TransactionAmount": "36829.90"
                                },
                                {
                                    "CustomerName": "Cong Hoa",
                                    "OrderDate": "2015-02-21",
                                    "ExpectedDeliveryDate": "2015-02-23",
                                    "ConfirmedDeliveryTime": "2015-02-12 08:05:00.0000000",
                                    "TransactionAmount": "36829.90"
                                },
                                {
                                    "CustomerName": "Cong Hoa",
                                    "OrderDate": "2015-02-21",
                                    "ExpectedDeliveryDate": "2015-02-23",
                                    "ConfirmedDeliveryTime": "2015-02-22 09:00:00.0000000",
                                    "TransactionAmount": "36829.90"
                                }
                            ]
                        },
                        "text/html": "<table><tr><th>CustomerName</th><th>OrderDate</th><th>ExpectedDeliveryDate</th><th>ConfirmedDeliveryTime</th><th>TransactionAmount</th></tr><tr><td>Cong Hoa</td><td>2015-02-10</td><td>2015-02-11</td><td>2015-02-11 11:20:00.0000000</td><td>36829.90</td></tr><tr><td>Cong Hoa</td><td>2015-02-10</td><td>2015-02-11</td><td>2015-02-12 08:05:00.0000000</td><td>36829.90</td></tr><tr><td>Cong Hoa</td><td>2015-02-10</td><td>2015-02-11</td><td>2015-02-22 09:00:00.0000000</td><td>36829.90</td></tr><tr><td>Cong Hoa</td><td>2015-02-11</td><td>2015-02-12</td><td>2015-02-11 11:20:00.0000000</td><td>36829.90</td></tr><tr><td>Cong Hoa</td><td>2015-02-11</td><td>2015-02-12</td><td>2015-02-12 08:05:00.0000000</td><td>36829.90</td></tr><tr><td>Cong Hoa</td><td>2015-02-11</td><td>2015-02-12</td><td>2015-02-22 09:00:00.0000000</td><td>36829.90</td></tr><tr><td>Cong Hoa</td><td>2015-02-21</td><td>2015-02-23</td><td>2015-02-11 11:20:00.0000000</td><td>36829.90</td></tr><tr><td>Cong Hoa</td><td>2015-02-21</td><td>2015-02-23</td><td>2015-02-12 08:05:00.0000000</td><td>36829.90</td></tr><tr><td>Cong Hoa</td><td>2015-02-21</td><td>2015-02-23</td><td>2015-02-22 09:00:00.0000000</td><td>36829.90</td></tr></table>"
                    },
                    "metadata": {}
                }
            ],
            "execution_count": 26
        },
        {
            "cell_type": "markdown",
            "source": [
                "## Q19 (Complex - AdventureWorks2017)\n",
                "\n",
                "- Write a query that retrieves the product name, its special discount percentage, rating, start and end dates of the discount, and its standard price for comparison. Arrange the results from greatest to lowest discount percentage. \n",
                "- Tables involved: Production.ProductReview, Production.Product, Sales.SpecialOfferProduct, Sales.SpecialOffer, and Purchasing.ProductVendor\n",
                "\n",
                "Key View\n",
                "\n",
                "![](data:image/png;base64,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)\n",
                "\n",
                "Standard View\n",
                "\n",
                "![](data:image/png;base64,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)\n",
                "\n",
                "Columns\n",
                "\n",
                "| Table Name | Column Name |\n",
                "| --- | --- |\n",
                "| Production.ProductReview | Rating<br><br> |\n",
                "| Production.Product | Name |\n",
                "| Sales.SpecialOfferProduct | DiscountPct |\n",
                "| <br> | StartDate |\n",
                "| <br> | EndDate |\n",
                "| Sales.SpecialOffer | <br> |\n",
                "| Purchasing.ProductVendor | StandardPrice |"
            ],
            "metadata": {
                "language": "sql",
                "azdata_cell_guid": "0182847e-951e-4562-a0eb-c6114b91a5fd"
            },
            "attachments": {}
        },
        {
            "cell_type": "code",
            "source": [
                "USE AdventureWorks2017;\r\n",
                "GO\r\n",
                "\r\n",
                "-- Define a custom scalar function to categorize discount percentage\r\n",
                "DROP FUNCTION IF EXISTS dbo.CategorizeDiscountPercentage;\r\n",
                "GO\r\n",
                "CREATE FUNCTION dbo.CategorizeDiscountPercentage(@DiscountPct AS DECIMAL(10,2))\r\n",
                "RETURNS NVARCHAR(50)\r\n",
                "AS\r\n",
                "BEGIN\r\n",
                "    DECLARE @Category NVARCHAR(50);\r\n",
                "    \r\n",
                "    SET @Category = \r\n",
                "        CASE\r\n",
                "            WHEN @DiscountPct <= .20 THEN 'Low Discount'\r\n",
                "            WHEN @DiscountPct > .20 AND @DiscountPct <= .40 THEN 'Medium Discount'\r\n",
                "            ELSE 'High Discount'\r\n",
                "        END;\r\n",
                "    \r\n",
                "    RETURN @Category;\r\n",
                "END;\r\n",
                "GO\r\n",
                "\r\n",
                "WITH StoreProductDiscounts AS (\r\n",
                "    SELECT \r\n",
                "        s.Rating,\r\n",
                "        p.Name AS ProductName,\r\n",
                "        so.DiscountPct,\r\n",
                "        so.StartDate,\r\n",
                "        so.EndDate,\r\n",
                "        st.StandardPrice,\r\n",
                "        dbo.CategorizeDiscountPercentage(so.DiscountPct) AS DiscountCategory\r\n",
                "    FROM \r\n",
                "        Production.ProductReview s\r\n",
                "    INNER JOIN \r\n",
                "        Production.Product p ON s.ProductID = p.ProductID\r\n",
                "    INNER JOIN \r\n",
                "        Sales.SpecialOfferProduct sop ON p.ProductID = sop.ProductID\r\n",
                "    INNER JOIN \r\n",
                "        Sales.SpecialOffer so ON sop.SpecialOfferID = so.SpecialOfferID\r\n",
                "    INNER JOIN \r\n",
                "        Purchasing.ProductVendor st ON s.ProductID = st.ProductID\r\n",
                "),\r\n",
                "MaxDiscounts AS (\r\n",
                "    SELECT \r\n",
                "        Rating,\r\n",
                "        ProductName,\r\n",
                "        MAX(DiscountPct) AS MaxDiscount\r\n",
                "    FROM \r\n",
                "        StoreProductDiscounts\r\n",
                "    GROUP BY \r\n",
                "        Rating, ProductName\r\n",
                ")\r\n",
                "SELECT \r\n",
                "    spd.Rating,\r\n",
                "    spd.ProductName,\r\n",
                "    spd.DiscountPct,\r\n",
                "    spd.StartDate,\r\n",
                "    spd.EndDate,\r\n",
                "    spd.StandardPrice,\r\n",
                "    spd.DiscountCategory\r\n",
                "FROM \r\n",
                "    StoreProductDiscounts spd\r\n",
                "INNER JOIN \r\n",
                "    MaxDiscounts  AS md ON spd.Rating = md.Rating\r\n",
                "                    AND spd.ProductName = md.ProductName \r\n",
                "                    AND spd.DiscountPct = md.MaxDiscount\r\n",
                "WHERE \r\n",
                "    spd.DiscountPct = md.MaxDiscount\r\n",
                "ORDER BY \r\n",
                "    spd.DiscountPct DESC\r\n",
                "FOR JSON PATH, ROOT('ComplexOutput'), INCLUDE_NULL_VALUES;\r\n",
                "\r\n",
                "-- Cleanup\r\n",
                "DROP FUNCTION IF EXISTS dbo.CategorizeDiscountPercentage;\r\n",
                "GO\r\n",
                ""
            ],
            "metadata": {
                "language": "sql",
                "azdata_cell_guid": "da333637-64a3-40fe-bd5d-c4aa1ec450c7"
            },
            "outputs": [
                {
                    "output_type": "display_data",
                    "data": {
                        "text/html": "Commands completed successfully."
                    },
                    "metadata": {}
                },
                {
                    "output_type": "display_data",
                    "data": {
                        "text/html": "Commands completed successfully."
                    },
                    "metadata": {}
                },
                {
                    "output_type": "display_data",
                    "data": {
                        "text/html": "Commands completed successfully."
                    },
                    "metadata": {}
                },
                {
                    "output_type": "display_data",
                    "data": {
                        "text/html": "(3 rows affected)"
                    },
                    "metadata": {}
                },
                {
                    "output_type": "display_data",
                    "data": {
                        "text/html": "Total execution time: 00:00:00.110"
                    },
                    "metadata": {}
                },
                {
                    "output_type": "execute_result",
                    "execution_count": 31,
                    "data": {
                        "application/vnd.dataresource+json": {
                            "schema": {
                                "fields": [
                                    {
                                        "name": "JSON_F52E2B61-18A1-11d1-B105-00805F49916B"
                                    }
                                ]
                            },
                            "data": [
                                {
                                    "JSON_F52E2B61-18A1-11d1-B105-00805F49916B": "{\"ComplexOutput\":[{\"Rating\":2,\"ProductName\":\"HL Mountain Pedal\",\"DiscountPct\":0.5000,\"StartDate\":\"2013-07-14T00:00:00\",\"EndDate\":\"2013-08-14T00:00:00\",\"StandardPrice\":59.9900,\"DiscountCategory\":\"High Discount\"},{\"Rating\":4,\"ProductName\":\"HL Mountain Pedal\",\"DiscountPct\":0.5000,\"StartDate\":\"2013-07-14T00:00:00\",\"EndDate\":\"2013-08-14T00:00:00\",\"StandardPrice\":59.9900,\"DiscountCategory\":\"High Discount\"},{\"Rating\":5,\"ProductName\":\"Mountain Bike Socks, M\",\"DiscountPct\":0.1000,\"StartDate\":\"2011-05-31T00:00:00\",\"EndDate\":\"2014-05-30T00:00:00\",\"StandardPrice\":3.1000,\"DiscountCategory\":\"Low Discount\"}]}"
                                }
                            ]
                        },
                        "text/html": "<table><tr><th>JSON_F52E2B61-18A1-11d1-B105-00805F49916B</th></tr><tr><td>{&quot;ComplexOutput&quot;:[{&quot;Rating&quot;:2,&quot;ProductName&quot;:&quot;HL Mountain Pedal&quot;,&quot;DiscountPct&quot;:0.5000,&quot;StartDate&quot;:&quot;2013-07-14T00:00:00&quot;,&quot;EndDate&quot;:&quot;2013-08-14T00:00:00&quot;,&quot;StandardPrice&quot;:59.9900,&quot;DiscountCategory&quot;:&quot;High Discount&quot;},{&quot;Rating&quot;:4,&quot;ProductName&quot;:&quot;HL Mountain Pedal&quot;,&quot;DiscountPct&quot;:0.5000,&quot;StartDate&quot;:&quot;2013-07-14T00:00:00&quot;,&quot;EndDate&quot;:&quot;2013-08-14T00:00:00&quot;,&quot;StandardPrice&quot;:59.9900,&quot;DiscountCategory&quot;:&quot;High Discount&quot;},{&quot;Rating&quot;:5,&quot;ProductName&quot;:&quot;Mountain Bike Socks, M&quot;,&quot;DiscountPct&quot;:0.1000,&quot;StartDate&quot;:&quot;2011-05-31T00:00:00&quot;,&quot;EndDate&quot;:&quot;2014-05-30T00:00:00&quot;,&quot;StandardPrice&quot;:3.1000,&quot;DiscountCategory&quot;:&quot;Low Discount&quot;}]}</td></tr></table>"
                    },
                    "metadata": {}
                }
            ],
            "execution_count": 31
        },
        {
            "cell_type": "markdown",
            "source": [
                "## Q20 (Complex - Northwinds2022TSQLV7)\n",
                "\n",
                "- Write a query to retrieve the name of the most bought product, along with its supplier's country and the total quantity purchased for each of the products in 2016, including their order dates. \n",
                "- Tables involved: Production.Product, Production.Supplier,Sales.OrderDetail, Sales.\\[Order\\]\n",
                "\n",
                "Key View\n",
                "\n",
                "![](data:image/png;base64,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)\n",
                "\n",
                "Standard View\n",
                "\n",
                "![](data:image/png;base64,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)\n",
                "\n",
                "Columns:\n",
                "\n",
                "| Table Name | Column Name |\n",
                "| --- | --- |\n",
                "| Production.Product | ProductId<br><br> |\n",
                "|  | ProductName |\n",
                "| Production.Supplier | SupplierCountry |\n",
                "| Sales.OrderDetail | Quantity |\n",
                "|  | OrderId |\n",
                "| Sales.\\[Order\\] | OrderId |\n",
                "|  | OrderDate |"
            ],
            "metadata": {
                "language": "sql",
                "azdata_cell_guid": "65d76a29-5f73-4970-8af7-e87024035569"
            },
            "attachments": {}
        },
        {
            "cell_type": "code",
            "source": [
                "USE Northwinds2022TSQLV7;\r\n",
                "GO\r\n",
                "\r\n",
                "-- Define a custom scalar function to categorize total quantity\r\n",
                "DROP FUNCTION IF EXISTS dbo.CategorizeTotalQuantity;\r\n",
                "GO\r\n",
                "CREATE FUNCTION dbo.CategorizeTotalQuantity(@Quantity AS INT)\r\n",
                "RETURNS NVARCHAR(50)\r\n",
                "AS\r\n",
                "BEGIN\r\n",
                "    DECLARE @Category NVARCHAR(50);\r\n",
                "    \r\n",
                "    SET @Category = \r\n",
                "        CASE\r\n",
                "            WHEN @Quantity < 100 THEN 'Low Quantity'\r\n",
                "            WHEN @Quantity >= 100 AND @Quantity < 500 THEN 'Medium Quantity'\r\n",
                "            ELSE 'High Quantity'\r\n",
                "        END;\r\n",
                "    \r\n",
                "    RETURN @Category;\r\n",
                "END;\r\n",
                "GO\r\n",
                "\r\n",
                "WITH ProductSupplierSales AS (\r\n",
                "    SELECT \r\n",
                "        p.ProductId,\r\n",
                "        p.ProductName,\r\n",
                "        s.SupplierCountry,\r\n",
                "        SUM(od.Quantity) AS TotalQuantity,\r\n",
                "        dbo.CategorizeTotalQuantity(SUM(od.Quantity)) AS QuantityCategory\r\n",
                "    FROM \r\n",
                "        Production.Product p\r\n",
                "    INNER JOIN \r\n",
                "        Production.Supplier s ON p.SupplierId = s.SupplierId\r\n",
                "    INNER JOIN \r\n",
                "        Sales.OrderDetail od ON p.ProductId = od.ProductId\r\n",
                "    INNER JOIN \r\n",
                "        Sales.[Order] o ON od.OrderId = o.OrderId\r\n",
                "    WHERE \r\n",
                "        YEAR(o.OrderDate) = 2016\r\n",
                "    GROUP BY \r\n",
                "        p.ProductId, p.ProductName, s.SupplierCountry\r\n",
                ")\r\n",
                "SELECT \r\n",
                "    ProductName,\r\n",
                "    SupplierCountry,\r\n",
                "    TotalQuantity,\r\n",
                "    QuantityCategory\r\n",
                "FROM \r\n",
                "    ProductSupplierSales\r\n",
                "ORDER BY \r\n",
                "    TotalQuantity DESC\r\n",
                "FOR JSON PATH, ROOT('ComplexOutput'), INCLUDE_NULL_VALUES;\r\n",
                "\r\n",
                "-- Cleanup\r\n",
                "DROP FUNCTION IF EXISTS dbo.CategorizeTotalQuantity;\r\n",
                "GO\r\n",
                ""
            ],
            "metadata": {
                "language": "sql",
                "azdata_cell_guid": "3ed379e2-dda2-4544-9efd-5bcbccfa1d6d"
            },
            "outputs": [
                {
                    "output_type": "display_data",
                    "data": {
                        "text/html": "Commands completed successfully."
                    },
                    "metadata": {}
                },
                {
                    "output_type": "display_data",
                    "data": {
                        "text/html": "Commands completed successfully."
                    },
                    "metadata": {}
                },
                {
                    "output_type": "display_data",
                    "data": {
                        "text/html": "Commands completed successfully."
                    },
                    "metadata": {}
                },
                {
                    "output_type": "display_data",
                    "data": {
                        "text/html": "(76 rows affected)"
                    },
                    "metadata": {}
                },
                {
                    "output_type": "display_data",
                    "data": {
                        "text/html": "Total execution time: 00:00:00.048"
                    },
                    "metadata": {}
                },
                {
                    "output_type": "execute_result",
                    "execution_count": 30,
                    "data": {
                        "application/vnd.dataresource+json": {
                            "schema": {
                                "fields": [
                                    {
                                        "name": "ProductName"
                                    },
                                    {
                                        "name": "SupplierCountry"
                                    },
                                    {
                                        "name": "TotalQuantity"
                                    },
                                    {
                                        "name": "QuantityCategory"
                                    }
                                ]
                            },
                            "data": [
                                {
                                    "ProductName": "Product POXFU",
                                    "SupplierCountry": "Japan",
                                    "TotalQuantity": "659",
                                    "QuantityCategory": "High Quantity"
                                },
                                {
                                    "ProductName": "Product QOGNU",
                                    "SupplierCountry": "Brazil",
                                    "TotalQuantity": "546",
                                    "QuantityCategory": "High Quantity"
                                },
                                {
                                    "ProductName": "Product WHBYK",
                                    "SupplierCountry": "France",
                                    "TotalQuantity": "542",
                                    "QuantityCategory": "High Quantity"
                                },
                                {
                                    "ProductName": "Product UKXRI",
                                    "SupplierCountry": "France",
                                    "TotalQuantity": "513",
                                    "QuantityCategory": "High Quantity"
                                },
                                {
                                    "ProductName": "Product HMLNI",
                                    "SupplierCountry": "USA",
                                    "TotalQuantity": "414",
                                    "QuantityCategory": "Medium Quantity"
                                },
                                {
                                    "ProductName": "Product BWRLG",
                                    "SupplierCountry": "Germany",
                                    "TotalQuantity": "405",
                                    "QuantityCategory": "Medium Quantity"
                                },
                                {
                                    "ProductName": "Product HHYDP",
                                    "SupplierCountry": "UK",
                                    "TotalQuantity": "399",
                                    "QuantityCategory": "Medium Quantity"
                                },
                                {
                                    "ProductName": "Product RECZE",
                                    "SupplierCountry": "UK",
                                    "TotalQuantity": "396",
                                    "QuantityCategory": "Medium Quantity"
                                },
                                {
                                    "ProductName": "Product JYGFE",
                                    "SupplierCountry": "Finland",
                                    "TotalQuantity": "388",
                                    "QuantityCategory": "Medium Quantity"
                                },
                                {
                                    "ProductName": "Product WUXYK",
                                    "SupplierCountry": "Canada",
                                    "TotalQuantity": "351",
                                    "QuantityCategory": "Medium Quantity"
                                },
                                {
                                    "ProductName": "Product VJZZH",
                                    "SupplierCountry": "UK",
                                    "TotalQuantity": "351",
                                    "QuantityCategory": "Medium Quantity"
                                },
                                {
                                    "ProductName": "Product MYMOI",
                                    "SupplierCountry": "Norway",
                                    "TotalQuantity": "342",
                                    "QuantityCategory": "Medium Quantity"
                                },
                                {
                                    "ProductName": "Product HCQDE",
                                    "SupplierCountry": "Germany",
                                    "TotalQuantity": "335",
                                    "QuantityCategory": "Medium Quantity"
                                },
                                {
                                    "ProductName": "Product PAFRH",
                                    "SupplierCountry": "Australia",
                                    "TotalQuantity": "335",
                                    "QuantityCategory": "Medium Quantity"
                                },
                                {
                                    "ProductName": "Product VJXYN",
                                    "SupplierCountry": "Germany",
                                    "TotalQuantity": "318",
                                    "QuantityCategory": "Medium Quantity"
                                },
                                {
                                    "ProductName": "Product TTEEX",
                                    "SupplierCountry": "USA",
                                    "TotalQuantity": "318",
                                    "QuantityCategory": "Medium Quantity"
                                },
                                {
                                    "ProductName": "Product YHXGE",
                                    "SupplierCountry": "Japan",
                                    "TotalQuantity": "311",
                                    "QuantityCategory": "Medium Quantity"
                                },
                                {
                                    "ProductName": "Product YZIXQ",
                                    "SupplierCountry": "USA",
                                    "TotalQuantity": "303",
                                    "QuantityCategory": "Medium Quantity"
                                },
                                {
                                    "ProductName": "Product XWOXC",
                                    "SupplierCountry": "Italy",
                                    "TotalQuantity": "297",
                                    "QuantityCategory": "Medium Quantity"
                                },
                                {
                                    "ProductName": "Product LUNZZ",
                                    "SupplierCountry": "Germany",
                                    "TotalQuantity": "296",
                                    "QuantityCategory": "Medium Quantity"
                                },
                                {
                                    "ProductName": "Product TBTBL",
                                    "SupplierCountry": "UK",
                                    "TotalQuantity": "281",
                                    "QuantityCategory": "Medium Quantity"
                                },
                                {
                                    "ProductName": "Product NEVTJ",
                                    "SupplierCountry": "USA",
                                    "TotalQuantity": "263",
                                    "QuantityCategory": "Medium Quantity"
                                },
                                {
                                    "ProductName": "Product QDOMO",
                                    "SupplierCountry": "France",
                                    "TotalQuantity": "260",
                                    "QuantityCategory": "Medium Quantity"
                                },
                                {
                                    "ProductName": "Product YYWRT",
                                    "SupplierCountry": "Canada",
                                    "TotalQuantity": "256",
                                    "QuantityCategory": "Medium Quantity"
                                },
                                {
                                    "ProductName": "Product TOONT",
                                    "SupplierCountry": "Australia",
                                    "TotalQuantity": "248",
                                    "QuantityCategory": "Medium Quantity"
                                },
                                {
                                    "ProductName": "Product SWNJY",
                                    "SupplierCountry": "USA",
                                    "TotalQuantity": "245",
                                    "QuantityCategory": "Medium Quantity"
                                },
                                {
                                    "ProductName": "Product LSOFL",
                                    "SupplierCountry": "France",
                                    "TotalQuantity": "244",
                                    "QuantityCategory": "Medium Quantity"
                                },
                                {
                                    "ProductName": "Product GMKIJ",
                                    "SupplierCountry": "Sweden",
                                    "TotalQuantity": "234",
                                    "QuantityCategory": "Medium Quantity"
                                },
                                {
                                    "ProductName": "Product QMVUN",
                                    "SupplierCountry": "Spain",
                                    "TotalQuantity": "222",
                                    "QuantityCategory": "Medium Quantity"
                                },
                                {
                                    "ProductName": "Product XKXDO",
                                    "SupplierCountry": "UK",
                                    "TotalQuantity": "222",
                                    "QuantityCategory": "Medium Quantity"
                                },
                                {
                                    "ProductName": "Product APITJ",
                                    "SupplierCountry": "Australia",
                                    "TotalQuantity": "222",
                                    "QuantityCategory": "Medium Quantity"
                                },
                                {
                                    "ProductName": "Product BLCAX",
                                    "SupplierCountry": "Australia",
                                    "TotalQuantity": "217",
                                    "QuantityCategory": "Medium Quantity"
                                },
                                {
                                    "ProductName": "Product FPYPN",
                                    "SupplierCountry": "Finland",
                                    "TotalQuantity": "217",
                                    "QuantityCategory": "Medium Quantity"
                                },
                                {
                                    "ProductName": "Product HLGZA",
                                    "SupplierCountry": "Germany",
                                    "TotalQuantity": "211",
                                    "QuantityCategory": "Medium Quantity"
                                },
                                {
                                    "ProductName": "Product RJVNM",
                                    "SupplierCountry": "Singapore",
                                    "TotalQuantity": "209",
                                    "QuantityCategory": "Medium Quantity"
                                },
                                {
                                    "ProductName": "Product XYZPE",
                                    "SupplierCountry": "Canada",
                                    "TotalQuantity": "207",
                                    "QuantityCategory": "Medium Quantity"
                                },
                                {
                                    "ProductName": "Product ACRVI",
                                    "SupplierCountry": "France",
                                    "TotalQuantity": "202",
                                    "QuantityCategory": "Medium Quantity"
                                },
                                {
                                    "ProductName": "Product ASTMN",
                                    "SupplierCountry": "Norway",
                                    "TotalQuantity": "202",
                                    "QuantityCategory": "Medium Quantity"
                                },
                                {
                                    "ProductName": "Product VKCMF",
                                    "SupplierCountry": "Italy",
                                    "TotalQuantity": "196",
                                    "QuantityCategory": "Medium Quantity"
                                },
                                {
                                    "ProductName": "Product LYERX",
                                    "SupplierCountry": "Germany",
                                    "TotalQuantity": "196",
                                    "QuantityCategory": "Medium Quantity"
                                },
                                {
                                    "ProductName": "Product GEEOO",
                                    "SupplierCountry": "Italy",
                                    "TotalQuantity": "193",
                                    "QuantityCategory": "Medium Quantity"
                                },
                                {
                                    "ProductName": "Product JLUDZ",
                                    "SupplierCountry": "Sweden",
                                    "TotalQuantity": "188",
                                    "QuantityCategory": "Medium Quantity"
                                },
                                {
                                    "ProductName": "Product ZZZHumanResources",
                                    "SupplierCountry": "Singapore",
                                    "TotalQuantity": "186",
                                    "QuantityCategory": "Medium Quantity"
                                },
                                {
                                    "ProductName": "Product OVLQI",
                                    "SupplierCountry": "Italy",
                                    "TotalQuantity": "177",
                                    "QuantityCategory": "Medium Quantity"
                                },
                                {
                                    "ProductName": "Product VAIIV",
                                    "SupplierCountry": "USA",
                                    "TotalQuantity": "165",
                                    "QuantityCategory": "Medium Quantity"
                                },
                                {
                                    "ProductName": "Product OFBNT",
                                    "SupplierCountry": "Germany",
                                    "TotalQuantity": "161",
                                    "QuantityCategory": "Medium Quantity"
                                },
                                {
                                    "ProductName": "Product CBRRL",
                                    "SupplierCountry": "Denmark",
                                    "TotalQuantity": "161",
                                    "QuantityCategory": "Medium Quantity"
                                },
                                {
                                    "ProductName": "Product BKGEA",
                                    "SupplierCountry": "Australia",
                                    "TotalQuantity": "159",
                                    "QuantityCategory": "Medium Quantity"
                                },
                                {
                                    "ProductName": "Product CKEDC",
                                    "SupplierCountry": "Australia",
                                    "TotalQuantity": "151",
                                    "QuantityCategory": "Medium Quantity"
                                },
                                {
                                    "ProductName": "Product EPEIM",
                                    "SupplierCountry": "USA",
                                    "TotalQuantity": "150",
                                    "QuantityCategory": "Medium Quantity"
                                },
                                {
                                    "ProductName": "Product ICKNK",
                                    "SupplierCountry": "Australia",
                                    "TotalQuantity": "147",
                                    "QuantityCategory": "Medium Quantity"
                                },
                                {
                                    "ProductName": "Product NUNAW",
                                    "SupplierCountry": "Italy",
                                    "TotalQuantity": "147",
                                    "QuantityCategory": "Medium Quantity"
                                },
                                {
                                    "ProductName": "Product QSRXF",
                                    "SupplierCountry": "Australia",
                                    "TotalQuantity": "139",
                                    "QuantityCategory": "Medium Quantity"
                                },
                                {
                                    "ProductName": "Product COAXA",
                                    "SupplierCountry": "Norway",
                                    "TotalQuantity": "135",
                                    "QuantityCategory": "Medium Quantity"
                                },
                                {
                                    "ProductName": "Product CPHFY",
                                    "SupplierCountry": "Sweden",
                                    "TotalQuantity": "133",
                                    "QuantityCategory": "Medium Quantity"
                                },
                                {
                                    "ProductName": "Product WVJFP",
                                    "SupplierCountry": "USA",
                                    "TotalQuantity": "118",
                                    "QuantityCategory": "Medium Quantity"
                                },
                                {
                                    "ProductName": "Product XLXQF",
                                    "SupplierCountry": "USA",
                                    "TotalQuantity": "114",
                                    "QuantityCategory": "Medium Quantity"
                                },
                                {
                                    "ProductName": "Product QHFFP",
                                    "SupplierCountry": "UK",
                                    "TotalQuantity": "111",
                                    "QuantityCategory": "Medium Quantity"
                                },
                                {
                                    "ProductName": "Product EZZPR",
                                    "SupplierCountry": "Netherlands",
                                    "TotalQuantity": "110",
                                    "QuantityCategory": "Medium Quantity"
                                },
                                {
                                    "ProductName": "Product IMEHJ",
                                    "SupplierCountry": "UK",
                                    "TotalQuantity": "108",
                                    "QuantityCategory": "Medium Quantity"
                                },
                                {
                                    "ProductName": "Product QAQRL",
                                    "SupplierCountry": "Canada",
                                    "TotalQuantity": "107",
                                    "QuantityCategory": "Medium Quantity"
                                },
                                {
                                    "ProductName": "Product AQOKR",
                                    "SupplierCountry": "Denmark",
                                    "TotalQuantity": "101",
                                    "QuantityCategory": "Medium Quantity"
                                },
                                {
                                    "ProductName": "Product XYWBZ",
                                    "SupplierCountry": "USA",
                                    "TotalQuantity": "100",
                                    "QuantityCategory": "Medium Quantity"
                                },
                                {
                                    "ProductName": "Product OSFNS",
                                    "SupplierCountry": "Spain",
                                    "TotalQuantity": "96",
                                    "QuantityCategory": "Low Quantity"
                                },
                                {
                                    "ProductName": "Product LYLNI",
                                    "SupplierCountry": "Germany",
                                    "TotalQuantity": "95",
                                    "QuantityCategory": "Low Quantity"
                                },
                                {
                                    "ProductName": "Product KSBRM",
                                    "SupplierCountry": "USA",
                                    "TotalQuantity": "82",
                                    "QuantityCategory": "Low Quantity"
                                },
                                {
                                    "ProductName": "Product EVFFA",
                                    "SupplierCountry": "Sweden",
                                    "TotalQuantity": "68",
                                    "QuantityCategory": "Low Quantity"
                                },
                                {
                                    "ProductName": "Product VJIEO",
                                    "SupplierCountry": "Singapore",
                                    "TotalQuantity": "67",
                                    "QuantityCategory": "Low Quantity"
                                },
                                {
                                    "ProductName": "Product SMIOH",
                                    "SupplierCountry": "Germany",
                                    "TotalQuantity": "65",
                                    "QuantityCategory": "Low Quantity"
                                },
                                {
                                    "ProductName": "Product BIUDV",
                                    "SupplierCountry": "Finland",
                                    "TotalQuantity": "55",
                                    "QuantityCategory": "Low Quantity"
                                },
                                {
                                    "ProductName": "Product BKAZJ",
                                    "SupplierCountry": "Japan",
                                    "TotalQuantity": "40",
                                    "QuantityCategory": "Low Quantity"
                                },
                                {
                                    "ProductName": "Product PWCJB",
                                    "SupplierCountry": "Japan",
                                    "TotalQuantity": "21",
                                    "QuantityCategory": "Low Quantity"
                                },
                                {
                                    "ProductName": "Product WEUJZ",
                                    "SupplierCountry": "Sweden",
                                    "TotalQuantity": "12",
                                    "QuantityCategory": "Low Quantity"
                                },
                                {
                                    "ProductName": "Product MYNXN",
                                    "SupplierCountry": "Netherlands",
                                    "TotalQuantity": "8",
                                    "QuantityCategory": "Low Quantity"
                                },
                                {
                                    "ProductName": "Product AOZBW",
                                    "SupplierCountry": "Japan",
                                    "TotalQuantity": "3",
                                    "QuantityCategory": "Low Quantity"
                                },
                                {
                                    "ProductName": "Product LQMGN",
                                    "SupplierCountry": "USA",
                                    "TotalQuantity": "1",
                                    "QuantityCategory": "Low Quantity"
                                }
                            ]
                        },
                        "text/html": "<table><tr><th>ProductName</th><th>SupplierCountry</th><th>TotalQuantity</th><th>QuantityCategory</th></tr><tr><td>Product POXFU</td><td>Japan</td><td>659</td><td>High Quantity</td></tr><tr><td>Product QOGNU</td><td>Brazil</td><td>546</td><td>High Quantity</td></tr><tr><td>Product WHBYK</td><td>France</td><td>542</td><td>High Quantity</td></tr><tr><td>Product UKXRI</td><td>France</td><td>513</td><td>High Quantity</td></tr><tr><td>Product HMLNI</td><td>USA</td><td>414</td><td>Medium Quantity</td></tr><tr><td>Product BWRLG</td><td>Germany</td><td>405</td><td>Medium Quantity</td></tr><tr><td>Product HHYDP</td><td>UK</td><td>399</td><td>Medium Quantity</td></tr><tr><td>Product RECZE</td><td>UK</td><td>396</td><td>Medium Quantity</td></tr><tr><td>Product JYGFE</td><td>Finland</td><td>388</td><td>Medium Quantity</td></tr><tr><td>Product WUXYK</td><td>Canada</td><td>351</td><td>Medium Quantity</td></tr><tr><td>Product VJZZH</td><td>UK</td><td>351</td><td>Medium Quantity</td></tr><tr><td>Product MYMOI</td><td>Norway</td><td>342</td><td>Medium Quantity</td></tr><tr><td>Product HCQDE</td><td>Germany</td><td>335</td><td>Medium Quantity</td></tr><tr><td>Product PAFRH</td><td>Australia</td><td>335</td><td>Medium Quantity</td></tr><tr><td>Product VJXYN</td><td>Germany</td><td>318</td><td>Medium Quantity</td></tr><tr><td>Product TTEEX</td><td>USA</td><td>318</td><td>Medium Quantity</td></tr><tr><td>Product YHXGE</td><td>Japan</td><td>311</td><td>Medium Quantity</td></tr><tr><td>Product YZIXQ</td><td>USA</td><td>303</td><td>Medium Quantity</td></tr><tr><td>Product XWOXC</td><td>Italy</td><td>297</td><td>Medium Quantity</td></tr><tr><td>Product LUNZZ</td><td>Germany</td><td>296</td><td>Medium Quantity</td></tr><tr><td>Product TBTBL</td><td>UK</td><td>281</td><td>Medium Quantity</td></tr><tr><td>Product NEVTJ</td><td>USA</td><td>263</td><td>Medium Quantity</td></tr><tr><td>Product QDOMO</td><td>France</td><td>260</td><td>Medium Quantity</td></tr><tr><td>Product YYWRT</td><td>Canada</td><td>256</td><td>Medium Quantity</td></tr><tr><td>Product TOONT</td><td>Australia</td><td>248</td><td>Medium Quantity</td></tr><tr><td>Product SWNJY</td><td>USA</td><td>245</td><td>Medium Quantity</td></tr><tr><td>Product LSOFL</td><td>France</td><td>244</td><td>Medium Quantity</td></tr><tr><td>Product GMKIJ</td><td>Sweden</td><td>234</td><td>Medium Quantity</td></tr><tr><td>Product QMVUN</td><td>Spain</td><td>222</td><td>Medium Quantity</td></tr><tr><td>Product XKXDO</td><td>UK</td><td>222</td><td>Medium Quantity</td></tr><tr><td>Product APITJ</td><td>Australia</td><td>222</td><td>Medium Quantity</td></tr><tr><td>Product BLCAX</td><td>Australia</td><td>217</td><td>Medium Quantity</td></tr><tr><td>Product FPYPN</td><td>Finland</td><td>217</td><td>Medium Quantity</td></tr><tr><td>Product HLGZA</td><td>Germany</td><td>211</td><td>Medium Quantity</td></tr><tr><td>Product RJVNM</td><td>Singapore</td><td>209</td><td>Medium Quantity</td></tr><tr><td>Product XYZPE</td><td>Canada</td><td>207</td><td>Medium Quantity</td></tr><tr><td>Product ACRVI</td><td>France</td><td>202</td><td>Medium Quantity</td></tr><tr><td>Product ASTMN</td><td>Norway</td><td>202</td><td>Medium Quantity</td></tr><tr><td>Product VKCMF</td><td>Italy</td><td>196</td><td>Medium Quantity</td></tr><tr><td>Product LYERX</td><td>Germany</td><td>196</td><td>Medium Quantity</td></tr><tr><td>Product GEEOO</td><td>Italy</td><td>193</td><td>Medium Quantity</td></tr><tr><td>Product JLUDZ</td><td>Sweden</td><td>188</td><td>Medium Quantity</td></tr><tr><td>Product ZZZHumanResources</td><td>Singapore</td><td>186</td><td>Medium Quantity</td></tr><tr><td>Product OVLQI</td><td>Italy</td><td>177</td><td>Medium Quantity</td></tr><tr><td>Product VAIIV</td><td>USA</td><td>165</td><td>Medium Quantity</td></tr><tr><td>Product OFBNT</td><td>Germany</td><td>161</td><td>Medium Quantity</td></tr><tr><td>Product CBRRL</td><td>Denmark</td><td>161</td><td>Medium Quantity</td></tr><tr><td>Product BKGEA</td><td>Australia</td><td>159</td><td>Medium Quantity</td></tr><tr><td>Product CKEDC</td><td>Australia</td><td>151</td><td>Medium Quantity</td></tr><tr><td>Product EPEIM</td><td>USA</td><td>150</td><td>Medium Quantity</td></tr><tr><td>Product ICKNK</td><td>Australia</td><td>147</td><td>Medium Quantity</td></tr><tr><td>Product NUNAW</td><td>Italy</td><td>147</td><td>Medium Quantity</td></tr><tr><td>Product QSRXF</td><td>Australia</td><td>139</td><td>Medium Quantity</td></tr><tr><td>Product COAXA</td><td>Norway</td><td>135</td><td>Medium Quantity</td></tr><tr><td>Product CPHFY</td><td>Sweden</td><td>133</td><td>Medium Quantity</td></tr><tr><td>Product WVJFP</td><td>USA</td><td>118</td><td>Medium Quantity</td></tr><tr><td>Product XLXQF</td><td>USA</td><td>114</td><td>Medium Quantity</td></tr><tr><td>Product QHFFP</td><td>UK</td><td>111</td><td>Medium Quantity</td></tr><tr><td>Product EZZPR</td><td>Netherlands</td><td>110</td><td>Medium Quantity</td></tr><tr><td>Product IMEHJ</td><td>UK</td><td>108</td><td>Medium Quantity</td></tr><tr><td>Product QAQRL</td><td>Canada</td><td>107</td><td>Medium Quantity</td></tr><tr><td>Product AQOKR</td><td>Denmark</td><td>101</td><td>Medium Quantity</td></tr><tr><td>Product XYWBZ</td><td>USA</td><td>100</td><td>Medium Quantity</td></tr><tr><td>Product OSFNS</td><td>Spain</td><td>96</td><td>Low Quantity</td></tr><tr><td>Product LYLNI</td><td>Germany</td><td>95</td><td>Low Quantity</td></tr><tr><td>Product KSBRM</td><td>USA</td><td>82</td><td>Low Quantity</td></tr><tr><td>Product EVFFA</td><td>Sweden</td><td>68</td><td>Low Quantity</td></tr><tr><td>Product VJIEO</td><td>Singapore</td><td>67</td><td>Low Quantity</td></tr><tr><td>Product SMIOH</td><td>Germany</td><td>65</td><td>Low Quantity</td></tr><tr><td>Product BIUDV</td><td>Finland</td><td>55</td><td>Low Quantity</td></tr><tr><td>Product BKAZJ</td><td>Japan</td><td>40</td><td>Low Quantity</td></tr><tr><td>Product PWCJB</td><td>Japan</td><td>21</td><td>Low Quantity</td></tr><tr><td>Product WEUJZ</td><td>Sweden</td><td>12</td><td>Low Quantity</td></tr><tr><td>Product MYNXN</td><td>Netherlands</td><td>8</td><td>Low Quantity</td></tr><tr><td>Product AOZBW</td><td>Japan</td><td>3</td><td>Low Quantity</td></tr><tr><td>Product LQMGN</td><td>USA</td><td>1</td><td>Low Quantity</td></tr></table>"
                    },
                    "metadata": {}
                }
            ],
            "execution_count": 30
        }
    ]
}