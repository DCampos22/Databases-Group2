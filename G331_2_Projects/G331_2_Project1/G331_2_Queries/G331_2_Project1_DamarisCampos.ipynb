{
    "cells": [
        {
            "attachments": {},
            "cell_type": "markdown",
            "metadata": {
                "azdata_cell_guid": "8f07aad3-0ecc-47a0-8c79-182b098aa2b0"
            },
            "source": [
                "# Damaris Campos- Project 1"
            ]
        },
        {
            "attachments": {},
            "cell_type": "markdown",
            "metadata": {
                "azdata_cell_guid": "860c0ba3-5f67-4993-a6cd-bd929e4fcbdd",
                "language": "sql"
            },
            "source": [
                "Reminder \\[delete this text cell when everything is done\\]: \n",
                "\n",
                "**Problems should range from medium (13) to complex (7)** \n",
                "\n",
                "- All queries must use the ANSI 92 standard for queries with the type safe “on” and will have relational output\n",
                "    \n",
                "- Output should be in a JSON component.\n",
                "    \n",
                "\n",
                "Queries should be in one of two formats\n",
                "\n",
                "1. Medium query should have from 2 to 3 tables joined and use built-in SQL functions and group by summarization. It should include combinations of subqueries or CTE or virtual tables.\n",
                "    \n",
                "2. Complex query should have from 3 or more tables joined, a custom scalar function, and use built-in SQL functions and group by summarization. It should include combinations of subqueries or CTE or virtual tables."
            ]
        },
        {
            "attachments": {},
            "cell_type": "markdown",
            "metadata": {
                "azdata_cell_guid": "829651f8-c812-4394-9acb-e7546eb2732f",
                "language": "sql"
            },
            "source": [
                "## TOP 3 Problems:\n",
                "\n",
                "Prioritize their top 3 problems (medium, and complex); explain why they chose these problems for their top rating \\[delete this textbox after\\]"
            ]
        },
        {
            "attachments": {},
            "cell_type": "markdown",
            "metadata": {
                "azdata_cell_guid": "46237250-773f-4191-ade2-ee6d87b152da",
                "language": "sql"
            },
            "source": [
                "## Top 1"
            ]
        },
        {
            "attachments": {},
            "cell_type": "markdown",
            "metadata": {
                "azdata_cell_guid": "14a7cd22-8921-466c-b7b1-839ac2a68300",
                "language": "sql"
            },
            "source": [
                "## Top 2"
            ]
        },
        {
            "attachments": {},
            "cell_type": "markdown",
            "metadata": {
                "azdata_cell_guid": "00328b86-099b-4f20-8a89-ef907fa33617",
                "language": "sql"
            },
            "source": [
                "## Top 3"
            ]
        },
        {
            "attachments": {},
            "cell_type": "markdown",
            "metadata": {
                "azdata_cell_guid": "8deab935-36c7-41b4-b73a-20e3c4dcb881",
                "language": "sql"
            },
            "source": [
                "## Worst 3 Problems:\n",
                "\n",
                "Prioritize their 3 worst problems (medium, and complex); explain why they chose these problems for their lowest rating. How can the problems be fixed to make them better?"
            ]
        },
        {
            "attachments": {},
            "cell_type": "markdown",
            "metadata": {
                "azdata_cell_guid": "db2359e9-7708-4878-9d2a-e17e8ac1dd2f",
                "language": "sql"
            },
            "source": [
                "## Worst 1"
            ]
        },
        {
            "attachments": {},
            "cell_type": "markdown",
            "metadata": {
                "azdata_cell_guid": "2eff9265-4687-4e4c-8784-825a432c198c",
                "language": "sql"
            },
            "source": [
                "## Worst 2"
            ]
        },
        {
            "attachments": {},
            "cell_type": "markdown",
            "metadata": {
                "azdata_cell_guid": "7f0cac9a-d53d-4984-b519-164e88e755a6",
                "language": "sql"
            },
            "source": [
                "## Worst 3"
            ]
        },
        {
            "attachments": {},
            "cell_type": "markdown",
            "metadata": {
                "azdata_cell_guid": "dbc6f0f0-d68d-4d5b-8161-d7675525104c",
                "language": "sql"
            },
            "source": [
                "## Q7 (specify medium/complex)"
            ]
        },
        {
            "attachments": {},
            "cell_type": "markdown",
            "metadata": {
                "azdata_cell_guid": "6602b9d2-fbfb-4f6c-9140-3818db54d9c4",
                "language": "sql"
            },
            "source": [
                "## Q8 (specify medium/complex)"
            ]
        },
        {
            "attachments": {},
            "cell_type": "markdown",
            "metadata": {
                "azdata_cell_guid": "af460de8-d553-43e9-8785-cfaa4c963084",
                "language": "sql"
            },
            "source": [
                "## Q9 (specify medium/complex)"
            ]
        },
        {
            "attachments": {},
            "cell_type": "markdown",
            "metadata": {
                "azdata_cell_guid": "53dd71be-88f2-4826-a84d-f69475261f76",
                "language": "sql"
            },
            "source": [
                "## Q10 (specify medium/complex)"
            ]
        },
        {
            "attachments": {},
            "cell_type": "markdown",
            "metadata": {
                "azdata_cell_guid": "8978e7d3-cf35-4d6b-a8bb-cc15d6299344",
                "language": "sql"
            },
            "source": [
                "## Q11 (specify medium/complex)"
            ]
        },
        {
            "attachments": {},
            "cell_type": "markdown",
            "metadata": {
                "azdata_cell_guid": "0fa74fd7-e6d8-4086-afcb-db014fecaa45",
                "language": "sql"
            },
            "source": [
                "## Q12 (specify medium/complex)"
            ]
        },
        {
            "attachments": {},
            "cell_type": "markdown",
            "metadata": {
                "azdata_cell_guid": "262c948a-5399-4ded-bcd5-cfda1202fd1c",
                "language": "sql"
            },
            "source": [
                "## Q13 (specify medium/complex)"
            ]
        },
        {
            "attachments": {},
            "cell_type": "markdown",
            "metadata": {
                "azdata_cell_guid": "a6b8db2e-1dd1-4d5b-96ad-f88993568c76",
                "language": "sql"
            },
            "source": [
                "## Q14 (specify medium/complex)"
            ]
        },
        {
            "attachments": {},
            "cell_type": "markdown",
            "metadata": {
                "azdata_cell_guid": "2c8b6c5a-50ab-4109-a463-91964bd26080",
                "language": "sql"
            },
            "source": [
                "## Q15 (specify medium/complex)"
            ]
        },
        {
            "attachments": {},
            "cell_type": "markdown",
            "metadata": {
                "azdata_cell_guid": "5baa7d1a-12ec-4489-b5db-8b53c39e7661",
                "language": "sql"
            },
            "source": [
                "## Q16 (specify medium/complex)"
            ]
        },
        {
            "attachments": {},
            "cell_type": "markdown",
            "metadata": {
                "azdata_cell_guid": "8a7b134e-6176-49f9-bb5a-c453e787b922",
                "language": "sql"
            },
            "source": [
                "## Q17 (specify medium/complex)"
            ]
        },
        {
            "attachments": {},
            "cell_type": "markdown",
            "metadata": {
                "azdata_cell_guid": "57b8ae69-3538-49a6-9c1b-fb39a073c5ac",
                "language": "sql"
            },
            "source": [
                "## Q18 (specify medium/complex)"
            ]
        },
        {
            "attachments": {},
            "cell_type": "markdown",
            "metadata": {
                "azdata_cell_guid": "2bfc4fe2-8dcf-4cff-915d-8c91b05dc320",
                "language": "sql"
            },
            "source": [
                "## Q19 (specify medium/complex)"
            ]
        },
        {
            "attachments": {},
            "cell_type": "markdown",
            "metadata": {
                "azdata_cell_guid": "8d3ad99c-d84e-4549-abd5-978f17772a0b",
                "language": "sql"
            },
            "source": [
                "## Q20 (specify medium/complex)"
            ]
        }
    ],
    "metadata": {
        "kernelspec": {
            "display_name": "SQL",
            "language": "sql",
            "name": "SQL"
        },
        "language_info": {
            "name": "sql",
            "version": ""
        }
    },
    "nbformat": 4,
    "nbformat_minor": 2
}
