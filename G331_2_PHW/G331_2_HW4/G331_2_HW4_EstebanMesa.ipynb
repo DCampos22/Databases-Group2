{
    "metadata": {
        "kernelspec": {
            "name": "SQL",
            "display_name": "SQL",
            "language": "sql"
        },
        "language_info": {
            "name": "sql",
            "version": ""
        },
        "connection_name": "CSCI 331"
    },
    "nbformat_minor": 2,
    "nbformat": 4,
    "cells": [
        {
            "cell_type": "markdown",
            "source": [
                "# **PHW 4 -** Chapter 6 Set Operators - Group 2: Esteban Mesa"
            ],
            "metadata": {
                "language": "sql",
                "azdata_cell_guid": "620c813f-c014-40da-bfdc-7398b0e59c09"
            },
            "attachments": {}
        },
        {
            "cell_type": "markdown",
            "source": [
                "# Top 5 Queries:\n",
                "\n",
                "## _Top 1: Question 3_\n",
                "\n",
                "- Write a query that returns customer and employee pairs that had order activity in January\n",
                "2016 but not in February 2016:\n",
                "- Table involved: Sales.Orders table\n",
                "\n",
                "\n",
                "\n",
                ""
            ],
            "metadata": {
                "language": "sql",
                "azdata_cell_guid": "10546b2f-8a5b-463b-8d18-ac234c81397e"
            },
            "attachments": {}
        },
        {
            "cell_type": "code",
            "source": [
                "USE TSQLV4\n",
                "SELECT \n",
                "    JanuaryOrders.custid, \n",
                "    JanuaryOrders.empid\n",
                "FROM \n",
                "    (SELECT DISTINCT custid, empid\n",
                "     FROM Sales.Orders\n",
                "     WHERE orderdate >= '2016-01-01' AND orderdate <= '2016-01-31') AS JanuaryOrders\n",
                "LEFT JOIN \n",
                "    (SELECT DISTINCT custid, empid\n",
                "     FROM Sales.Orders\n",
                "     WHERE orderdate >= '2016-02-01' AND orderdate <= '2016-02-29') AS FebruaryOrders\n",
                "ON \n",
                "    JanuaryOrders.custid = FebruaryOrders.custid AND JanuaryOrders.empid = FebruaryOrders.empid\n",
                "WHERE \n",
                "    FebruaryOrders.custid IS NULL AND FebruaryOrders.empid IS NULL;\n",
                "\n",
                "\n",
                "\n",
                "USE Northwinds2022TSQLV7\n",
                "SELECT \n",
                "    JanuaryOrders.CustomerId, \n",
                "    JanuaryOrders.EmployeeId\n",
                "FROM \n",
                "    (SELECT DISTINCT CustomerId, EmployeeId\n",
                "     FROM Sales.[Order]\n",
                "     WHERE orderdate >= '2016-01-01' AND orderdate <= '2016-01-31') AS JanuaryOrders\n",
                "LEFT JOIN \n",
                "    (SELECT DISTINCT CustomerId, EmployeeId\n",
                "     FROM Sales.[Order]\n",
                "     WHERE orderdate >= '2016-02-01' AND orderdate <= '2016-02-29') AS FebruaryOrders\n",
                "ON \n",
                "    JanuaryOrders.CustomerId = FebruaryOrders.CustomerId AND JanuaryOrders.EmployeeId = FebruaryOrders.EmployeeId\n",
                "WHERE \n",
                "    FebruaryOrders.CustomerId IS NULL AND FebruaryOrders.EmployeeId IS NULL;\n",
                ""
            ],
            "metadata": {
                "language": "sql",
                "azdata_cell_guid": "475c4106-6baf-47b0-8193-d5c9fb503cd7",
                "tags": []
            },
            "outputs": [
                {
                    "output_type": "display_data",
                    "data": {
                        "text/html": "(50 rows affected)"
                    },
                    "metadata": {}
                },
                {
                    "output_type": "display_data",
                    "data": {
                        "text/html": "(50 rows affected)"
                    },
                    "metadata": {}
                },
                {
                    "output_type": "display_data",
                    "data": {
                        "text/html": "Total execution time: 00:00:00.011"
                    },
                    "metadata": {}
                },
                {
                    "output_type": "execute_result",
                    "metadata": {},
                    "execution_count": 30,
                    "data": {
                        "application/vnd.dataresource+json": {
                            "schema": {
                                "fields": [
                                    {
                                        "name": "custid"
                                    },
                                    {
                                        "name": "empid"
                                    }
                                ]
                            },
                            "data": [
                                {
                                    "custid": "1",
                                    "empid": "1"
                                },
                                {
                                    "custid": "3",
                                    "empid": "3"
                                },
                                {
                                    "custid": "5",
                                    "empid": "8"
                                },
                                {
                                    "custid": "5",
                                    "empid": "9"
                                },
                                {
                                    "custid": "6",
                                    "empid": "9"
                                },
                                {
                                    "custid": "7",
                                    "empid": "6"
                                },
                                {
                                    "custid": "9",
                                    "empid": "1"
                                },
                                {
                                    "custid": "12",
                                    "empid": "2"
                                },
                                {
                                    "custid": "16",
                                    "empid": "7"
                                },
                                {
                                    "custid": "17",
                                    "empid": "1"
                                },
                                {
                                    "custid": "20",
                                    "empid": "7"
                                },
                                {
                                    "custid": "24",
                                    "empid": "8"
                                },
                                {
                                    "custid": "25",
                                    "empid": "1"
                                },
                                {
                                    "custid": "26",
                                    "empid": "3"
                                },
                                {
                                    "custid": "32",
                                    "empid": "4"
                                },
                                {
                                    "custid": "38",
                                    "empid": "9"
                                },
                                {
                                    "custid": "39",
                                    "empid": "3"
                                },
                                {
                                    "custid": "40",
                                    "empid": "2"
                                },
                                {
                                    "custid": "41",
                                    "empid": "2"
                                },
                                {
                                    "custid": "42",
                                    "empid": "2"
                                },
                                {
                                    "custid": "44",
                                    "empid": "8"
                                },
                                {
                                    "custid": "47",
                                    "empid": "3"
                                },
                                {
                                    "custid": "47",
                                    "empid": "4"
                                },
                                {
                                    "custid": "47",
                                    "empid": "8"
                                },
                                {
                                    "custid": "49",
                                    "empid": "7"
                                },
                                {
                                    "custid": "55",
                                    "empid": "2"
                                },
                                {
                                    "custid": "55",
                                    "empid": "3"
                                },
                                {
                                    "custid": "56",
                                    "empid": "6"
                                },
                                {
                                    "custid": "59",
                                    "empid": "8"
                                },
                                {
                                    "custid": "63",
                                    "empid": "8"
                                },
                                {
                                    "custid": "64",
                                    "empid": "9"
                                },
                                {
                                    "custid": "65",
                                    "empid": "3"
                                },
                                {
                                    "custid": "65",
                                    "empid": "8"
                                },
                                {
                                    "custid": "66",
                                    "empid": "5"
                                },
                                {
                                    "custid": "67",
                                    "empid": "5"
                                },
                                {
                                    "custid": "70",
                                    "empid": "3"
                                },
                                {
                                    "custid": "71",
                                    "empid": "2"
                                },
                                {
                                    "custid": "75",
                                    "empid": "1"
                                },
                                {
                                    "custid": "76",
                                    "empid": "2"
                                },
                                {
                                    "custid": "76",
                                    "empid": "5"
                                },
                                {
                                    "custid": "80",
                                    "empid": "1"
                                },
                                {
                                    "custid": "81",
                                    "empid": "1"
                                },
                                {
                                    "custid": "81",
                                    "empid": "3"
                                },
                                {
                                    "custid": "81",
                                    "empid": "4"
                                },
                                {
                                    "custid": "82",
                                    "empid": "6"
                                },
                                {
                                    "custid": "84",
                                    "empid": "1"
                                },
                                {
                                    "custid": "84",
                                    "empid": "3"
                                },
                                {
                                    "custid": "84",
                                    "empid": "4"
                                },
                                {
                                    "custid": "88",
                                    "empid": "7"
                                },
                                {
                                    "custid": "89",
                                    "empid": "4"
                                }
                            ]
                        },
                        "text/html": [
                            "<table>",
                            "<tr><th>custid</th><th>empid</th></tr>",
                            "<tr><td>1</td><td>1</td></tr>",
                            "<tr><td>3</td><td>3</td></tr>",
                            "<tr><td>5</td><td>8</td></tr>",
                            "<tr><td>5</td><td>9</td></tr>",
                            "<tr><td>6</td><td>9</td></tr>",
                            "<tr><td>7</td><td>6</td></tr>",
                            "<tr><td>9</td><td>1</td></tr>",
                            "<tr><td>12</td><td>2</td></tr>",
                            "<tr><td>16</td><td>7</td></tr>",
                            "<tr><td>17</td><td>1</td></tr>",
                            "<tr><td>20</td><td>7</td></tr>",
                            "<tr><td>24</td><td>8</td></tr>",
                            "<tr><td>25</td><td>1</td></tr>",
                            "<tr><td>26</td><td>3</td></tr>",
                            "<tr><td>32</td><td>4</td></tr>",
                            "<tr><td>38</td><td>9</td></tr>",
                            "<tr><td>39</td><td>3</td></tr>",
                            "<tr><td>40</td><td>2</td></tr>",
                            "<tr><td>41</td><td>2</td></tr>",
                            "<tr><td>42</td><td>2</td></tr>",
                            "<tr><td>44</td><td>8</td></tr>",
                            "<tr><td>47</td><td>3</td></tr>",
                            "<tr><td>47</td><td>4</td></tr>",
                            "<tr><td>47</td><td>8</td></tr>",
                            "<tr><td>49</td><td>7</td></tr>",
                            "<tr><td>55</td><td>2</td></tr>",
                            "<tr><td>55</td><td>3</td></tr>",
                            "<tr><td>56</td><td>6</td></tr>",
                            "<tr><td>59</td><td>8</td></tr>",
                            "<tr><td>63</td><td>8</td></tr>",
                            "<tr><td>64</td><td>9</td></tr>",
                            "<tr><td>65</td><td>3</td></tr>",
                            "<tr><td>65</td><td>8</td></tr>",
                            "<tr><td>66</td><td>5</td></tr>",
                            "<tr><td>67</td><td>5</td></tr>",
                            "<tr><td>70</td><td>3</td></tr>",
                            "<tr><td>71</td><td>2</td></tr>",
                            "<tr><td>75</td><td>1</td></tr>",
                            "<tr><td>76</td><td>2</td></tr>",
                            "<tr><td>76</td><td>5</td></tr>",
                            "<tr><td>80</td><td>1</td></tr>",
                            "<tr><td>81</td><td>1</td></tr>",
                            "<tr><td>81</td><td>3</td></tr>",
                            "<tr><td>81</td><td>4</td></tr>",
                            "<tr><td>82</td><td>6</td></tr>",
                            "<tr><td>84</td><td>1</td></tr>",
                            "<tr><td>84</td><td>3</td></tr>",
                            "<tr><td>84</td><td>4</td></tr>",
                            "<tr><td>88</td><td>7</td></tr>",
                            "<tr><td>89</td><td>4</td></tr>",
                            "</table>"
                        ]
                    }
                },
                {
                    "output_type": "execute_result",
                    "metadata": {},
                    "execution_count": 30,
                    "data": {
                        "application/vnd.dataresource+json": {
                            "schema": {
                                "fields": [
                                    {
                                        "name": "CustomerId"
                                    },
                                    {
                                        "name": "EmployeeId"
                                    }
                                ]
                            },
                            "data": [
                                {
                                    "CustomerId": "1",
                                    "EmployeeId": "1"
                                },
                                {
                                    "CustomerId": "3",
                                    "EmployeeId": "3"
                                },
                                {
                                    "CustomerId": "5",
                                    "EmployeeId": "8"
                                },
                                {
                                    "CustomerId": "5",
                                    "EmployeeId": "9"
                                },
                                {
                                    "CustomerId": "6",
                                    "EmployeeId": "9"
                                },
                                {
                                    "CustomerId": "7",
                                    "EmployeeId": "6"
                                },
                                {
                                    "CustomerId": "9",
                                    "EmployeeId": "1"
                                },
                                {
                                    "CustomerId": "12",
                                    "EmployeeId": "2"
                                },
                                {
                                    "CustomerId": "16",
                                    "EmployeeId": "7"
                                },
                                {
                                    "CustomerId": "17",
                                    "EmployeeId": "1"
                                },
                                {
                                    "CustomerId": "20",
                                    "EmployeeId": "7"
                                },
                                {
                                    "CustomerId": "24",
                                    "EmployeeId": "8"
                                },
                                {
                                    "CustomerId": "25",
                                    "EmployeeId": "1"
                                },
                                {
                                    "CustomerId": "26",
                                    "EmployeeId": "3"
                                },
                                {
                                    "CustomerId": "32",
                                    "EmployeeId": "4"
                                },
                                {
                                    "CustomerId": "38",
                                    "EmployeeId": "9"
                                },
                                {
                                    "CustomerId": "39",
                                    "EmployeeId": "3"
                                },
                                {
                                    "CustomerId": "40",
                                    "EmployeeId": "2"
                                },
                                {
                                    "CustomerId": "41",
                                    "EmployeeId": "2"
                                },
                                {
                                    "CustomerId": "42",
                                    "EmployeeId": "2"
                                },
                                {
                                    "CustomerId": "44",
                                    "EmployeeId": "8"
                                },
                                {
                                    "CustomerId": "47",
                                    "EmployeeId": "3"
                                },
                                {
                                    "CustomerId": "47",
                                    "EmployeeId": "4"
                                },
                                {
                                    "CustomerId": "47",
                                    "EmployeeId": "8"
                                },
                                {
                                    "CustomerId": "49",
                                    "EmployeeId": "7"
                                },
                                {
                                    "CustomerId": "55",
                                    "EmployeeId": "2"
                                },
                                {
                                    "CustomerId": "55",
                                    "EmployeeId": "3"
                                },
                                {
                                    "CustomerId": "56",
                                    "EmployeeId": "6"
                                },
                                {
                                    "CustomerId": "59",
                                    "EmployeeId": "8"
                                },
                                {
                                    "CustomerId": "63",
                                    "EmployeeId": "8"
                                },
                                {
                                    "CustomerId": "64",
                                    "EmployeeId": "9"
                                },
                                {
                                    "CustomerId": "65",
                                    "EmployeeId": "3"
                                },
                                {
                                    "CustomerId": "65",
                                    "EmployeeId": "8"
                                },
                                {
                                    "CustomerId": "66",
                                    "EmployeeId": "5"
                                },
                                {
                                    "CustomerId": "67",
                                    "EmployeeId": "5"
                                },
                                {
                                    "CustomerId": "70",
                                    "EmployeeId": "3"
                                },
                                {
                                    "CustomerId": "71",
                                    "EmployeeId": "2"
                                },
                                {
                                    "CustomerId": "75",
                                    "EmployeeId": "1"
                                },
                                {
                                    "CustomerId": "76",
                                    "EmployeeId": "2"
                                },
                                {
                                    "CustomerId": "76",
                                    "EmployeeId": "5"
                                },
                                {
                                    "CustomerId": "80",
                                    "EmployeeId": "1"
                                },
                                {
                                    "CustomerId": "81",
                                    "EmployeeId": "1"
                                },
                                {
                                    "CustomerId": "81",
                                    "EmployeeId": "3"
                                },
                                {
                                    "CustomerId": "81",
                                    "EmployeeId": "4"
                                },
                                {
                                    "CustomerId": "82",
                                    "EmployeeId": "6"
                                },
                                {
                                    "CustomerId": "84",
                                    "EmployeeId": "1"
                                },
                                {
                                    "CustomerId": "84",
                                    "EmployeeId": "3"
                                },
                                {
                                    "CustomerId": "84",
                                    "EmployeeId": "4"
                                },
                                {
                                    "CustomerId": "88",
                                    "EmployeeId": "7"
                                },
                                {
                                    "CustomerId": "89",
                                    "EmployeeId": "4"
                                }
                            ]
                        },
                        "text/html": [
                            "<table>",
                            "<tr><th>CustomerId</th><th>EmployeeId</th></tr>",
                            "<tr><td>1</td><td>1</td></tr>",
                            "<tr><td>3</td><td>3</td></tr>",
                            "<tr><td>5</td><td>8</td></tr>",
                            "<tr><td>5</td><td>9</td></tr>",
                            "<tr><td>6</td><td>9</td></tr>",
                            "<tr><td>7</td><td>6</td></tr>",
                            "<tr><td>9</td><td>1</td></tr>",
                            "<tr><td>12</td><td>2</td></tr>",
                            "<tr><td>16</td><td>7</td></tr>",
                            "<tr><td>17</td><td>1</td></tr>",
                            "<tr><td>20</td><td>7</td></tr>",
                            "<tr><td>24</td><td>8</td></tr>",
                            "<tr><td>25</td><td>1</td></tr>",
                            "<tr><td>26</td><td>3</td></tr>",
                            "<tr><td>32</td><td>4</td></tr>",
                            "<tr><td>38</td><td>9</td></tr>",
                            "<tr><td>39</td><td>3</td></tr>",
                            "<tr><td>40</td><td>2</td></tr>",
                            "<tr><td>41</td><td>2</td></tr>",
                            "<tr><td>42</td><td>2</td></tr>",
                            "<tr><td>44</td><td>8</td></tr>",
                            "<tr><td>47</td><td>3</td></tr>",
                            "<tr><td>47</td><td>4</td></tr>",
                            "<tr><td>47</td><td>8</td></tr>",
                            "<tr><td>49</td><td>7</td></tr>",
                            "<tr><td>55</td><td>2</td></tr>",
                            "<tr><td>55</td><td>3</td></tr>",
                            "<tr><td>56</td><td>6</td></tr>",
                            "<tr><td>59</td><td>8</td></tr>",
                            "<tr><td>63</td><td>8</td></tr>",
                            "<tr><td>64</td><td>9</td></tr>",
                            "<tr><td>65</td><td>3</td></tr>",
                            "<tr><td>65</td><td>8</td></tr>",
                            "<tr><td>66</td><td>5</td></tr>",
                            "<tr><td>67</td><td>5</td></tr>",
                            "<tr><td>70</td><td>3</td></tr>",
                            "<tr><td>71</td><td>2</td></tr>",
                            "<tr><td>75</td><td>1</td></tr>",
                            "<tr><td>76</td><td>2</td></tr>",
                            "<tr><td>76</td><td>5</td></tr>",
                            "<tr><td>80</td><td>1</td></tr>",
                            "<tr><td>81</td><td>1</td></tr>",
                            "<tr><td>81</td><td>3</td></tr>",
                            "<tr><td>81</td><td>4</td></tr>",
                            "<tr><td>82</td><td>6</td></tr>",
                            "<tr><td>84</td><td>1</td></tr>",
                            "<tr><td>84</td><td>3</td></tr>",
                            "<tr><td>84</td><td>4</td></tr>",
                            "<tr><td>88</td><td>7</td></tr>",
                            "<tr><td>89</td><td>4</td></tr>",
                            "</table>"
                        ]
                    }
                }
            ],
            "execution_count": 30
        },
        {
            "cell_type": "markdown",
            "source": [
                "EXPLANATION: This SQL query is designed to identify customer and employee pairs that were active in placing orders in January 2016 but did not place any orders in February 2016 within the Sales.Orders table of the TSQLV4 database. It first isolates distinct custid and empid pairs that have orders dated within January 2016, forming the subset JanuaryOrders. Similarly, it creates a subset FebruaryOrders for orders in February 2016. By performing a left join between these two subsets on both custid and empid, the query then filters for those pairs present in JanuaryOrders but absent in FebruaryOrders (indicated by FebruaryOrders.custid IS NULL AND FebruaryOrders.empid IS NULL). The result is a list of customer and employee pairs meeting the specified activity criteria, highlighting a change or drop in ordering behavior from January to February."
            ],
            "metadata": {
                "language": "sql",
                "azdata_cell_guid": "b5268f21-58e5-4bb8-ae2a-d4dcdc8483d3"
            },
            "attachments": {}
        },
        {
            "cell_type": "markdown",
            "source": [
                "## _Top 2: The INTERSECT Operator_\n",
                "\n",
                "- Write a query that returns common locations (country, region, city) shared by both customers and employees.\n",
                "- Tables involved: HR.Employees, Sales.Customers"
            ],
            "metadata": {
                "language": "sql",
                "azdata_cell_guid": "7db7fe02-7b87-45b6-b474-76f0c75f78e7"
            },
            "attachments": {}
        },
        {
            "cell_type": "code",
            "source": [
                "USE TSQLV6;\n",
                "GO\n",
                "\n",
                "WITH INTERSECT_ALL AS\n",
                "(\n",
                "    SELECT\n",
                "        ROW_NUMBER() OVER(PARTITION BY country, region, city ORDER BY (SELECT NULL)) AS rownum,\n",
                "        country, region, city\n",
                "    FROM HR.Employees\n",
                "    INTERSECT\n",
                "    SELECT\n",
                "        ROW_NUMBER() OVER(PARTITION BY country, region, city ORDER BY (SELECT NULL)),\n",
                "        country, region, city\n",
                "    FROM Sales.Customers\n",
                ")\n",
                "SELECT country, region, city\n",
                "FROM INTERSECT_ALL;\n",
                "GO\n",
                "\n",
                "USE Northwinds2022TSQLV7;\n",
                "GO\n",
                "\n",
                "WITH INTERSECT_ALL AS\n",
                "(\n",
                "    SELECT\n",
                "        ROW_NUMBER() OVER(PARTITION BY EmployeeCountry, EmployeeRegion, EmployeeCity ORDER BY (SELECT NULL)) AS rownum,\n",
                "        EmployeeCountry, EmployeeRegion, EmployeeCity\n",
                "    FROM HumanResources.[Employee]\n",
                "    INTERSECT\n",
                "    SELECT\n",
                "        ROW_NUMBER() OVER(PARTITION BY CustomerCountry, CustomerRegion, CustomerCity ORDER BY (SELECT NULL)),\n",
                "        CustomerCountry, CustomerRegion, CustomerCity\n",
                "    FROM Sales.[Customer]\n",
                ")\n",
                "SELECT EmployeeCountry, EmployeeRegion,EmployeeCity\n",
                "FROM INTERSECT_ALL;\n",
                "GO"
            ],
            "metadata": {
                "azdata_cell_guid": "5471e6b2-b743-4131-9e2e-a15a33748b3f",
                "language": "sql"
            },
            "outputs": [
                {
                    "output_type": "display_data",
                    "data": {
                        "text/html": "Commands completed successfully."
                    },
                    "metadata": {}
                },
                {
                    "output_type": "display_data",
                    "data": {
                        "text/html": "(6 rows affected)"
                    },
                    "metadata": {}
                },
                {
                    "output_type": "display_data",
                    "data": {
                        "text/html": "Commands completed successfully."
                    },
                    "metadata": {}
                },
                {
                    "output_type": "display_data",
                    "data": {
                        "text/html": "(6 rows affected)"
                    },
                    "metadata": {}
                },
                {
                    "output_type": "display_data",
                    "data": {
                        "text/html": "Total execution time: 00:00:00.066"
                    },
                    "metadata": {}
                },
                {
                    "output_type": "execute_result",
                    "metadata": {},
                    "execution_count": 32,
                    "data": {
                        "application/vnd.dataresource+json": {
                            "schema": {
                                "fields": [
                                    {
                                        "name": "country"
                                    },
                                    {
                                        "name": "region"
                                    },
                                    {
                                        "name": "city"
                                    }
                                ]
                            },
                            "data": [
                                {
                                    "country": "UK",
                                    "region": "NULL",
                                    "city": "London"
                                },
                                {
                                    "country": "USA",
                                    "region": "WA",
                                    "city": "Kirkland"
                                },
                                {
                                    "country": "USA",
                                    "region": "WA",
                                    "city": "Seattle"
                                },
                                {
                                    "country": "UK",
                                    "region": "NULL",
                                    "city": "London"
                                },
                                {
                                    "country": "UK",
                                    "region": "NULL",
                                    "city": "London"
                                },
                                {
                                    "country": "UK",
                                    "region": "NULL",
                                    "city": "London"
                                }
                            ]
                        },
                        "text/html": [
                            "<table>",
                            "<tr><th>country</th><th>region</th><th>city</th></tr>",
                            "<tr><td>UK</td><td>NULL</td><td>London</td></tr>",
                            "<tr><td>USA</td><td>WA</td><td>Kirkland</td></tr>",
                            "<tr><td>USA</td><td>WA</td><td>Seattle</td></tr>",
                            "<tr><td>UK</td><td>NULL</td><td>London</td></tr>",
                            "<tr><td>UK</td><td>NULL</td><td>London</td></tr>",
                            "<tr><td>UK</td><td>NULL</td><td>London</td></tr>",
                            "</table>"
                        ]
                    }
                },
                {
                    "output_type": "execute_result",
                    "metadata": {},
                    "execution_count": 32,
                    "data": {
                        "application/vnd.dataresource+json": {
                            "schema": {
                                "fields": [
                                    {
                                        "name": "EmployeeCountry"
                                    },
                                    {
                                        "name": "EmployeeRegion"
                                    },
                                    {
                                        "name": "EmployeeCity"
                                    }
                                ]
                            },
                            "data": [
                                {
                                    "EmployeeCountry": "UK",
                                    "EmployeeRegion": "NULL",
                                    "EmployeeCity": "London"
                                },
                                {
                                    "EmployeeCountry": "USA",
                                    "EmployeeRegion": "WA",
                                    "EmployeeCity": "Kirkland"
                                },
                                {
                                    "EmployeeCountry": "USA",
                                    "EmployeeRegion": "WA",
                                    "EmployeeCity": "Seattle"
                                },
                                {
                                    "EmployeeCountry": "UK",
                                    "EmployeeRegion": "NULL",
                                    "EmployeeCity": "London"
                                },
                                {
                                    "EmployeeCountry": "UK",
                                    "EmployeeRegion": "NULL",
                                    "EmployeeCity": "London"
                                },
                                {
                                    "EmployeeCountry": "UK",
                                    "EmployeeRegion": "NULL",
                                    "EmployeeCity": "London"
                                }
                            ]
                        },
                        "text/html": [
                            "<table>",
                            "<tr><th>EmployeeCountry</th><th>EmployeeRegion</th><th>EmployeeCity</th></tr>",
                            "<tr><td>UK</td><td>NULL</td><td>London</td></tr>",
                            "<tr><td>USA</td><td>WA</td><td>Kirkland</td></tr>",
                            "<tr><td>USA</td><td>WA</td><td>Seattle</td></tr>",
                            "<tr><td>UK</td><td>NULL</td><td>London</td></tr>",
                            "<tr><td>UK</td><td>NULL</td><td>London</td></tr>",
                            "<tr><td>UK</td><td>NULL</td><td>London</td></tr>",
                            "</table>"
                        ]
                    }
                }
            ],
            "execution_count": 32
        },
        {
            "cell_type": "markdown",
            "source": [
                "EXPLANATION: This SQL query uses a CTE to identify geographical locations (country, region, city) that are common between the HR.Employees and Sales.Customers tables in the TSQLV6 database. It employs the INTERSECT operator to find overlaps in locations listed in both tables. However, the inclusion of ROW_NUMBER() alongside INTERSECT seems unnecessary for simply identifying common locations and may not affect the final result as intended. Essentially, the query is designed to pinpoint where both employees and customers are located, focusing on shared geographical areas."
            ],
            "metadata": {
                "language": "sql",
                "azdata_cell_guid": "d4f48bb2-9319-4408-a808-201a1b8bef00"
            },
            "attachments": {}
        },
        {
            "cell_type": "markdown",
            "source": [
                "## _Top 3:The EXCEPT Operator_\n",
                "Employees EXCEPT Customers\n",
                "\n",
                "- Write a query that returns unique locations (country, region, city) present in the HR.Employees table but not in the Sales.Customers table.\n",
                "- Tables involved: HR.Employees, Sales.Customers."
            ],
            "metadata": {
                "language": "sql",
                "azdata_cell_guid": "7b3cc83a-d0ff-4ba8-9662-02817c7ec1dd"
            },
            "attachments": {}
        },
        {
            "cell_type": "code",
            "source": [
                "USE TSQLV6;\n",
                "\n",
                "SELECT country, region, city FROM HR.Employees\n",
                "EXCEPT\n",
                "SELECT country, region, city FROM Sales.Customers;\n",
                "\n",
                "USE Northwinds2022TSQLV7\n",
                "SELECT EmployeeCountry, EmployeeRegion, EmployeeCity FROM HumanResources.[Employee]\n",
                "EXCEPT\n",
                "SELECT CustomerCountry, CustomerRegion, CustomerCity FROM Sales.[Customer];"
            ],
            "metadata": {
                "language": "sql",
                "azdata_cell_guid": "412365f4-8b8e-492e-b32d-6a684a51aac8"
            },
            "outputs": [
                {
                    "output_type": "display_data",
                    "data": {
                        "text/html": "(2 rows affected)"
                    },
                    "metadata": {}
                },
                {
                    "output_type": "display_data",
                    "data": {
                        "text/html": "(2 rows affected)"
                    },
                    "metadata": {}
                },
                {
                    "output_type": "display_data",
                    "data": {
                        "text/html": "Total execution time: 00:00:00.030"
                    },
                    "metadata": {}
                },
                {
                    "output_type": "execute_result",
                    "metadata": {},
                    "execution_count": 34,
                    "data": {
                        "application/vnd.dataresource+json": {
                            "schema": {
                                "fields": [
                                    {
                                        "name": "country"
                                    },
                                    {
                                        "name": "region"
                                    },
                                    {
                                        "name": "city"
                                    }
                                ]
                            },
                            "data": [
                                {
                                    "country": "USA",
                                    "region": "WA",
                                    "city": "Redmond"
                                },
                                {
                                    "country": "USA",
                                    "region": "WA",
                                    "city": "Tacoma"
                                }
                            ]
                        },
                        "text/html": [
                            "<table>",
                            "<tr><th>country</th><th>region</th><th>city</th></tr>",
                            "<tr><td>USA</td><td>WA</td><td>Redmond</td></tr>",
                            "<tr><td>USA</td><td>WA</td><td>Tacoma</td></tr>",
                            "</table>"
                        ]
                    }
                },
                {
                    "output_type": "execute_result",
                    "metadata": {},
                    "execution_count": 34,
                    "data": {
                        "application/vnd.dataresource+json": {
                            "schema": {
                                "fields": [
                                    {
                                        "name": "EmployeeCountry"
                                    },
                                    {
                                        "name": "EmployeeRegion"
                                    },
                                    {
                                        "name": "EmployeeCity"
                                    }
                                ]
                            },
                            "data": [
                                {
                                    "EmployeeCountry": "USA",
                                    "EmployeeRegion": "WA",
                                    "EmployeeCity": "Redmond"
                                },
                                {
                                    "EmployeeCountry": "USA",
                                    "EmployeeRegion": "WA",
                                    "EmployeeCity": "Tacoma"
                                }
                            ]
                        },
                        "text/html": [
                            "<table>",
                            "<tr><th>EmployeeCountry</th><th>EmployeeRegion</th><th>EmployeeCity</th></tr>",
                            "<tr><td>USA</td><td>WA</td><td>Redmond</td></tr>",
                            "<tr><td>USA</td><td>WA</td><td>Tacoma</td></tr>",
                            "</table>"
                        ]
                    }
                }
            ],
            "execution_count": 34
        },
        {
            "cell_type": "markdown",
            "source": [
                "EXPLANATION: This SQL query identifies geographical locations (country, region, city) that are unique to the HR.Employees table in the TSQLV6 database, excluding those found in the Sales.Customers table. It uses the EXCEPT operator to remove any employee locations that are also customer locations, thus highlighting areas where the company has employees but no recorded customers. This can be useful for understanding the geographical distribution of employees relative to the customer base."
            ],
            "metadata": {
                "language": "sql",
                "azdata_cell_guid": "ebd5a45a-fc57-450b-a58a-e5c450405c8e"
            },
            "attachments": {}
        },
        {
            "cell_type": "markdown",
            "source": [
                "## _Top 4: INTERSECT preceeds EXCEPT_\n",
                "\n",
                "- Write a query that returns locations (country, region, city) unique to both the Production.Suppliers table and the Sales.Customers table but not found in the HR.Employees table.\n",
                "- Tables involved: Production.Suppliers, HR.Employees, Sales.Customers."
            ],
            "metadata": {
                "language": "sql",
                "azdata_cell_guid": "a6da96e7-72d9-4c07-8c42-6e5f3fd77a33"
            },
            "attachments": {}
        },
        {
            "cell_type": "code",
            "source": [
                "USE TSQLV6\n",
                "SELECT country, region, city FROM Production.Suppliers\n",
                "EXCEPT\n",
                "SELECT country, region, city FROM HR.Employees\n",
                "INTERSECT\n",
                "SELECT country, region, city FROM Sales.Customers;\n",
                "\n",
                "\n",
                "USE Northwinds2022TSQLV7\n",
                "SELECT SupplierCountry, SupplierRegion, SupplierCity FROM Production.[Supplier]\n",
                "EXCEPT\n",
                "SELECT EmployeeCountry, EmployeeRegion, EmployeeCity FROM HumanResources.[Employee]\n",
                "INTERSECT\n",
                "SELECT CustomerCountry, CustomerRegion, CustomerCity FROM Sales.[Customer];\n",
                ""
            ],
            "metadata": {
                "language": "sql",
                "azdata_cell_guid": "b260a15f-346f-499d-99fa-efc211c68993"
            },
            "outputs": [
                {
                    "output_type": "display_data",
                    "data": {
                        "text/html": "(28 rows affected)"
                    },
                    "metadata": {}
                },
                {
                    "output_type": "display_data",
                    "data": {
                        "text/html": "(28 rows affected)"
                    },
                    "metadata": {}
                },
                {
                    "output_type": "display_data",
                    "data": {
                        "text/html": "Total execution time: 00:00:00.076"
                    },
                    "metadata": {}
                },
                {
                    "output_type": "execute_result",
                    "metadata": {},
                    "execution_count": 36,
                    "data": {
                        "application/vnd.dataresource+json": {
                            "schema": {
                                "fields": [
                                    {
                                        "name": "country"
                                    },
                                    {
                                        "name": "region"
                                    },
                                    {
                                        "name": "city"
                                    }
                                ]
                            },
                            "data": [
                                {
                                    "country": "Australia",
                                    "region": "NSW",
                                    "city": "Sydney"
                                },
                                {
                                    "country": "Australia",
                                    "region": "Victoria",
                                    "city": "Melbourne"
                                },
                                {
                                    "country": "Brazil",
                                    "region": "NULL",
                                    "city": "Sao Paulo"
                                },
                                {
                                    "country": "Canada",
                                    "region": "Québec",
                                    "city": "Montréal"
                                },
                                {
                                    "country": "Canada",
                                    "region": "Québec",
                                    "city": "Ste-Hyacinthe"
                                },
                                {
                                    "country": "Denmark",
                                    "region": "NULL",
                                    "city": "Lyngby"
                                },
                                {
                                    "country": "Finland",
                                    "region": "NULL",
                                    "city": "Lappeenranta"
                                },
                                {
                                    "country": "France",
                                    "region": "NULL",
                                    "city": "Annecy"
                                },
                                {
                                    "country": "France",
                                    "region": "NULL",
                                    "city": "Montceau"
                                },
                                {
                                    "country": "France",
                                    "region": "NULL",
                                    "city": "Paris"
                                },
                                {
                                    "country": "Germany",
                                    "region": "NULL",
                                    "city": "Berlin"
                                },
                                {
                                    "country": "Germany",
                                    "region": "NULL",
                                    "city": "Cuxhaven"
                                },
                                {
                                    "country": "Germany",
                                    "region": "NULL",
                                    "city": "Frankfurt"
                                },
                                {
                                    "country": "Italy",
                                    "region": "NULL",
                                    "city": "Ravenna"
                                },
                                {
                                    "country": "Italy",
                                    "region": "NULL",
                                    "city": "Salerno"
                                },
                                {
                                    "country": "Japan",
                                    "region": "NULL",
                                    "city": "Osaka"
                                },
                                {
                                    "country": "Japan",
                                    "region": "NULL",
                                    "city": "Tokyo"
                                },
                                {
                                    "country": "Netherlands",
                                    "region": "NULL",
                                    "city": "Zaandam"
                                },
                                {
                                    "country": "Norway",
                                    "region": "NULL",
                                    "city": "Sandvika"
                                },
                                {
                                    "country": "Singapore",
                                    "region": "NULL",
                                    "city": "Singapore"
                                },
                                {
                                    "country": "Spain",
                                    "region": "Asturias",
                                    "city": "Oviedo"
                                },
                                {
                                    "country": "Sweden",
                                    "region": "NULL",
                                    "city": "Göteborg"
                                },
                                {
                                    "country": "Sweden",
                                    "region": "NULL",
                                    "city": "Stockholm"
                                },
                                {
                                    "country": "UK",
                                    "region": "NULL",
                                    "city": "Manchester"
                                },
                                {
                                    "country": "USA",
                                    "region": "LA",
                                    "city": "New Orleans"
                                },
                                {
                                    "country": "USA",
                                    "region": "MA",
                                    "city": "Boston"
                                },
                                {
                                    "country": "USA",
                                    "region": "MI",
                                    "city": "Ann Arbor"
                                },
                                {
                                    "country": "USA",
                                    "region": "OR",
                                    "city": "Bend"
                                }
                            ]
                        },
                        "text/html": [
                            "<table>",
                            "<tr><th>country</th><th>region</th><th>city</th></tr>",
                            "<tr><td>Australia</td><td>NSW</td><td>Sydney</td></tr>",
                            "<tr><td>Australia</td><td>Victoria</td><td>Melbourne</td></tr>",
                            "<tr><td>Brazil</td><td>NULL</td><td>Sao Paulo</td></tr>",
                            "<tr><td>Canada</td><td>Québec</td><td>Montréal</td></tr>",
                            "<tr><td>Canada</td><td>Québec</td><td>Ste-Hyacinthe</td></tr>",
                            "<tr><td>Denmark</td><td>NULL</td><td>Lyngby</td></tr>",
                            "<tr><td>Finland</td><td>NULL</td><td>Lappeenranta</td></tr>",
                            "<tr><td>France</td><td>NULL</td><td>Annecy</td></tr>",
                            "<tr><td>France</td><td>NULL</td><td>Montceau</td></tr>",
                            "<tr><td>France</td><td>NULL</td><td>Paris</td></tr>",
                            "<tr><td>Germany</td><td>NULL</td><td>Berlin</td></tr>",
                            "<tr><td>Germany</td><td>NULL</td><td>Cuxhaven</td></tr>",
                            "<tr><td>Germany</td><td>NULL</td><td>Frankfurt</td></tr>",
                            "<tr><td>Italy</td><td>NULL</td><td>Ravenna</td></tr>",
                            "<tr><td>Italy</td><td>NULL</td><td>Salerno</td></tr>",
                            "<tr><td>Japan</td><td>NULL</td><td>Osaka</td></tr>",
                            "<tr><td>Japan</td><td>NULL</td><td>Tokyo</td></tr>",
                            "<tr><td>Netherlands</td><td>NULL</td><td>Zaandam</td></tr>",
                            "<tr><td>Norway</td><td>NULL</td><td>Sandvika</td></tr>",
                            "<tr><td>Singapore</td><td>NULL</td><td>Singapore</td></tr>",
                            "<tr><td>Spain</td><td>Asturias</td><td>Oviedo</td></tr>",
                            "<tr><td>Sweden</td><td>NULL</td><td>Göteborg</td></tr>",
                            "<tr><td>Sweden</td><td>NULL</td><td>Stockholm</td></tr>",
                            "<tr><td>UK</td><td>NULL</td><td>Manchester</td></tr>",
                            "<tr><td>USA</td><td>LA</td><td>New Orleans</td></tr>",
                            "<tr><td>USA</td><td>MA</td><td>Boston</td></tr>",
                            "<tr><td>USA</td><td>MI</td><td>Ann Arbor</td></tr>",
                            "<tr><td>USA</td><td>OR</td><td>Bend</td></tr>",
                            "</table>"
                        ]
                    }
                },
                {
                    "output_type": "execute_result",
                    "metadata": {},
                    "execution_count": 36,
                    "data": {
                        "application/vnd.dataresource+json": {
                            "schema": {
                                "fields": [
                                    {
                                        "name": "SupplierCountry"
                                    },
                                    {
                                        "name": "SupplierRegion"
                                    },
                                    {
                                        "name": "SupplierCity"
                                    }
                                ]
                            },
                            "data": [
                                {
                                    "SupplierCountry": "Australia",
                                    "SupplierRegion": "NSW",
                                    "SupplierCity": "Sydney"
                                },
                                {
                                    "SupplierCountry": "Australia",
                                    "SupplierRegion": "Victoria",
                                    "SupplierCity": "Melbourne"
                                },
                                {
                                    "SupplierCountry": "Brazil",
                                    "SupplierRegion": "NULL",
                                    "SupplierCity": "Sao Paulo"
                                },
                                {
                                    "SupplierCountry": "Canada",
                                    "SupplierRegion": "Québec",
                                    "SupplierCity": "Montréal"
                                },
                                {
                                    "SupplierCountry": "Canada",
                                    "SupplierRegion": "Québec",
                                    "SupplierCity": "Ste-Hyacinthe"
                                },
                                {
                                    "SupplierCountry": "Denmark",
                                    "SupplierRegion": "NULL",
                                    "SupplierCity": "Lyngby"
                                },
                                {
                                    "SupplierCountry": "Finland",
                                    "SupplierRegion": "NULL",
                                    "SupplierCity": "Lappeenranta"
                                },
                                {
                                    "SupplierCountry": "France",
                                    "SupplierRegion": "NULL",
                                    "SupplierCity": "Annecy"
                                },
                                {
                                    "SupplierCountry": "France",
                                    "SupplierRegion": "NULL",
                                    "SupplierCity": "Montceau"
                                },
                                {
                                    "SupplierCountry": "France",
                                    "SupplierRegion": "NULL",
                                    "SupplierCity": "Paris"
                                },
                                {
                                    "SupplierCountry": "Germany",
                                    "SupplierRegion": "NULL",
                                    "SupplierCity": "Berlin"
                                },
                                {
                                    "SupplierCountry": "Germany",
                                    "SupplierRegion": "NULL",
                                    "SupplierCity": "Cuxhaven"
                                },
                                {
                                    "SupplierCountry": "Germany",
                                    "SupplierRegion": "NULL",
                                    "SupplierCity": "Frankfurt"
                                },
                                {
                                    "SupplierCountry": "Italy",
                                    "SupplierRegion": "NULL",
                                    "SupplierCity": "Ravenna"
                                },
                                {
                                    "SupplierCountry": "Italy",
                                    "SupplierRegion": "NULL",
                                    "SupplierCity": "Salerno"
                                },
                                {
                                    "SupplierCountry": "Japan",
                                    "SupplierRegion": "NULL",
                                    "SupplierCity": "Osaka"
                                },
                                {
                                    "SupplierCountry": "Japan",
                                    "SupplierRegion": "NULL",
                                    "SupplierCity": "Tokyo"
                                },
                                {
                                    "SupplierCountry": "Netherlands",
                                    "SupplierRegion": "NULL",
                                    "SupplierCity": "Zaandam"
                                },
                                {
                                    "SupplierCountry": "Norway",
                                    "SupplierRegion": "NULL",
                                    "SupplierCity": "Sandvika"
                                },
                                {
                                    "SupplierCountry": "Singapore",
                                    "SupplierRegion": "NULL",
                                    "SupplierCity": "Singapore"
                                },
                                {
                                    "SupplierCountry": "Spain",
                                    "SupplierRegion": "Asturias",
                                    "SupplierCity": "Oviedo"
                                },
                                {
                                    "SupplierCountry": "Sweden",
                                    "SupplierRegion": "NULL",
                                    "SupplierCity": "Göteborg"
                                },
                                {
                                    "SupplierCountry": "Sweden",
                                    "SupplierRegion": "NULL",
                                    "SupplierCity": "Stockholm"
                                },
                                {
                                    "SupplierCountry": "UK",
                                    "SupplierRegion": "NULL",
                                    "SupplierCity": "Manchester"
                                },
                                {
                                    "SupplierCountry": "USA",
                                    "SupplierRegion": "LA",
                                    "SupplierCity": "New Orleans"
                                },
                                {
                                    "SupplierCountry": "USA",
                                    "SupplierRegion": "MA",
                                    "SupplierCity": "Boston"
                                },
                                {
                                    "SupplierCountry": "USA",
                                    "SupplierRegion": "MI",
                                    "SupplierCity": "Ann Arbor"
                                },
                                {
                                    "SupplierCountry": "USA",
                                    "SupplierRegion": "OR",
                                    "SupplierCity": "Bend"
                                }
                            ]
                        },
                        "text/html": [
                            "<table>",
                            "<tr><th>SupplierCountry</th><th>SupplierRegion</th><th>SupplierCity</th></tr>",
                            "<tr><td>Australia</td><td>NSW</td><td>Sydney</td></tr>",
                            "<tr><td>Australia</td><td>Victoria</td><td>Melbourne</td></tr>",
                            "<tr><td>Brazil</td><td>NULL</td><td>Sao Paulo</td></tr>",
                            "<tr><td>Canada</td><td>Québec</td><td>Montréal</td></tr>",
                            "<tr><td>Canada</td><td>Québec</td><td>Ste-Hyacinthe</td></tr>",
                            "<tr><td>Denmark</td><td>NULL</td><td>Lyngby</td></tr>",
                            "<tr><td>Finland</td><td>NULL</td><td>Lappeenranta</td></tr>",
                            "<tr><td>France</td><td>NULL</td><td>Annecy</td></tr>",
                            "<tr><td>France</td><td>NULL</td><td>Montceau</td></tr>",
                            "<tr><td>France</td><td>NULL</td><td>Paris</td></tr>",
                            "<tr><td>Germany</td><td>NULL</td><td>Berlin</td></tr>",
                            "<tr><td>Germany</td><td>NULL</td><td>Cuxhaven</td></tr>",
                            "<tr><td>Germany</td><td>NULL</td><td>Frankfurt</td></tr>",
                            "<tr><td>Italy</td><td>NULL</td><td>Ravenna</td></tr>",
                            "<tr><td>Italy</td><td>NULL</td><td>Salerno</td></tr>",
                            "<tr><td>Japan</td><td>NULL</td><td>Osaka</td></tr>",
                            "<tr><td>Japan</td><td>NULL</td><td>Tokyo</td></tr>",
                            "<tr><td>Netherlands</td><td>NULL</td><td>Zaandam</td></tr>",
                            "<tr><td>Norway</td><td>NULL</td><td>Sandvika</td></tr>",
                            "<tr><td>Singapore</td><td>NULL</td><td>Singapore</td></tr>",
                            "<tr><td>Spain</td><td>Asturias</td><td>Oviedo</td></tr>",
                            "<tr><td>Sweden</td><td>NULL</td><td>Göteborg</td></tr>",
                            "<tr><td>Sweden</td><td>NULL</td><td>Stockholm</td></tr>",
                            "<tr><td>UK</td><td>NULL</td><td>Manchester</td></tr>",
                            "<tr><td>USA</td><td>LA</td><td>New Orleans</td></tr>",
                            "<tr><td>USA</td><td>MA</td><td>Boston</td></tr>",
                            "<tr><td>USA</td><td>MI</td><td>Ann Arbor</td></tr>",
                            "<tr><td>USA</td><td>OR</td><td>Bend</td></tr>",
                            "</table>"
                        ]
                    }
                }
            ],
            "execution_count": 36
        },
        {
            "cell_type": "markdown",
            "source": [
                "EXPLANATION: This SQL query identifies geographical locations (country, region, city) that are shared between the Production.Suppliers and Sales.Customers tables in the TSQLV6 database but not found in the HR.Employees table. It first removes any locations from Production.Suppliers that also appear in HR.Employees using the EXCEPT operator. Then, it uses the INTERSECT operator to retain only those locations that also appear in Sales.Customers. This effectively filters for customer locations that are also supplier locations, excluding those where the company's employees are located. This can be useful for identifying potential areas for business expansion or understanding where suppliers overlap with customer markets but not with employee residences."
            ],
            "metadata": {
                "language": "sql",
                "azdata_cell_guid": "a94a381e-a27f-4d94-adce-0847c05e22d0"
            },
            "attachments": {}
        },
        {
            "cell_type": "markdown",
            "source": [
                "## _TOP 5: -- Two most recent orders for employees 3 and 5_\n",
                "\n",
                "- Write a query that combines the latest two orders from employees with empid 3 and the latest two orders from employees with empid 5, including empid, orderid, and orderdate for each order.\n",
                "- Table involved: Sales.Orders."
            ],
            "metadata": {
                "language": "sql",
                "azdata_cell_guid": "0b4d01ae-460c-428c-8a88-98e7a45c3d43"
            },
            "attachments": {}
        },
        {
            "cell_type": "code",
            "source": [
                "USE TSQLV6\n",
                "SELECT empid, orderid, orderdate\n",
                "FROM (SELECT TOP (2) empid, orderid, orderdate\n",
                "      FROM Sales.Orders\n",
                "      WHERE empid = 3\n",
                "      ORDER BY orderdate DESC, orderid DESC) AS D1\n",
                "\n",
                "UNION ALL\n",
                "\n",
                "SELECT empid, orderid, orderdate\n",
                "FROM (SELECT TOP (2) empid, orderid, orderdate\n",
                "      FROM Sales.Orders\n",
                "      WHERE empid = 5\n",
                "      ORDER BY orderdate DESC, orderid DESC) AS D2;\n",
                "\n",
                "USE Northwinds2022TSQLV7\n",
                "SELECT EmployeeId, OrderId, OrderDate\n",
                "FROM (SELECT TOP (2) EmployeeId, OrderId, OrderDate\n",
                "      FROM Sales.[Order]\n",
                "      WHERE EmployeeId = 3\n",
                "      ORDER BY OrderDate DESC, OrderId DESC) AS D1\n",
                "\n",
                "UNION ALL\n",
                "\n",
                "SELECT EmployeeId, OrderId, OrderDate\n",
                "FROM (SELECT TOP (2) EmployeeId, OrderId, OrderDate\n",
                "      FROM Sales.[Order]\n",
                "      WHERE EmployeeId = 5\n",
                "      ORDER BY OrderDate DESC, OrderId DESC) AS D2;"
            ],
            "metadata": {
                "language": "sql",
                "azdata_cell_guid": "2ac9b3ff-ebef-4572-8d0a-0bb6b5a9efa5"
            },
            "outputs": [
                {
                    "output_type": "display_data",
                    "data": {
                        "text/html": "(4 rows affected)"
                    },
                    "metadata": {}
                },
                {
                    "output_type": "display_data",
                    "data": {
                        "text/html": "(4 rows affected)"
                    },
                    "metadata": {}
                },
                {
                    "output_type": "display_data",
                    "data": {
                        "text/html": "Total execution time: 00:00:00.026"
                    },
                    "metadata": {}
                },
                {
                    "output_type": "execute_result",
                    "metadata": {},
                    "execution_count": 38,
                    "data": {
                        "application/vnd.dataresource+json": {
                            "schema": {
                                "fields": [
                                    {
                                        "name": "empid"
                                    },
                                    {
                                        "name": "orderid"
                                    },
                                    {
                                        "name": "orderdate"
                                    }
                                ]
                            },
                            "data": [
                                {
                                    "empid": "3",
                                    "orderid": "11063",
                                    "orderdate": "2022-04-30"
                                },
                                {
                                    "empid": "3",
                                    "orderid": "11057",
                                    "orderdate": "2022-04-29"
                                },
                                {
                                    "empid": "5",
                                    "orderid": "11043",
                                    "orderdate": "2022-04-22"
                                },
                                {
                                    "empid": "5",
                                    "orderid": "10954",
                                    "orderdate": "2022-03-17"
                                }
                            ]
                        },
                        "text/html": [
                            "<table>",
                            "<tr><th>empid</th><th>orderid</th><th>orderdate</th></tr>",
                            "<tr><td>3</td><td>11063</td><td>2022-04-30</td></tr>",
                            "<tr><td>3</td><td>11057</td><td>2022-04-29</td></tr>",
                            "<tr><td>5</td><td>11043</td><td>2022-04-22</td></tr>",
                            "<tr><td>5</td><td>10954</td><td>2022-03-17</td></tr>",
                            "</table>"
                        ]
                    }
                },
                {
                    "output_type": "execute_result",
                    "metadata": {},
                    "execution_count": 38,
                    "data": {
                        "application/vnd.dataresource+json": {
                            "schema": {
                                "fields": [
                                    {
                                        "name": "EmployeeId"
                                    },
                                    {
                                        "name": "OrderId"
                                    },
                                    {
                                        "name": "OrderDate"
                                    }
                                ]
                            },
                            "data": [
                                {
                                    "EmployeeId": "3",
                                    "OrderId": "11063",
                                    "OrderDate": "2016-04-30"
                                },
                                {
                                    "EmployeeId": "3",
                                    "OrderId": "11057",
                                    "OrderDate": "2016-04-29"
                                },
                                {
                                    "EmployeeId": "5",
                                    "OrderId": "11043",
                                    "OrderDate": "2016-04-22"
                                },
                                {
                                    "EmployeeId": "5",
                                    "OrderId": "10954",
                                    "OrderDate": "2016-03-17"
                                }
                            ]
                        },
                        "text/html": [
                            "<table>",
                            "<tr><th>EmployeeId</th><th>OrderId</th><th>OrderDate</th></tr>",
                            "<tr><td>3</td><td>11063</td><td>2016-04-30</td></tr>",
                            "<tr><td>3</td><td>11057</td><td>2016-04-29</td></tr>",
                            "<tr><td>5</td><td>11043</td><td>2016-04-22</td></tr>",
                            "<tr><td>5</td><td>10954</td><td>2016-03-17</td></tr>",
                            "</table>"
                        ]
                    }
                }
            ],
            "execution_count": 38
        },
        {
            "cell_type": "markdown",
            "source": [
                "EXPLANATION: This SQL query retrieves the two most recent orders made by each of two specific employees (identified by empid 3 and empid 5) from the Sales.Orders table in the TSQLV6 database. It separately selects the latest two orders for each employee based on the descending order of orderdate and orderid, then combines these subsets using UNION ALL, ensuring all four records (two for each employee) are included in the final result set, showcasing recent order activities for these employees."
            ],
            "metadata": {
                "language": "sql",
                "azdata_cell_guid": "7f38df49-7af4-4478-ae58-8eb47c18aa47"
            },
            "attachments": {}
        }
    ]
}