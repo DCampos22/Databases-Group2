{
    "metadata": {
        "kernelspec": {
            "name": "SQL",
            "display_name": "SQL",
            "language": "sql"
        },
        "language_info": {
            "name": "sql",
            "version": ""
        }
    },
    "nbformat_minor": 2,
    "nbformat": 4,
    "cells": [
        {
            "cell_type": "markdown",
            "source": [
                "# Top 5 Queries"
            ],
            "metadata": {
                "azdata_cell_guid": "400cc170-b89f-4802-b3d6-373185d0a066"
            },
            "attachments": {}
        },
        {
            "cell_type": "markdown",
            "source": [
                "# Top 1 - Chapter 6 Exercise 6\n",
                "\n",
                "\\-- You are given the following query:\n",
                "\n",
                "```\n",
                "SELECT country, region, city\n",
                "FROM HR.Employees\n",
                "\n",
                "UNION ALL\n",
                "\n",
                "SELECT country, region, city\n",
                "FROM Production.Suppliers;\n",
                "\n",
                "```\n",
                "\n",
                "You are asked to add logic to the query such that it would guarantee that the rows from Employee  would be returned in the output before the rows from Supplier, and within each segment, the rows should be sorted by country, region, city\n",
                "\n",
                "Tables Involved: HumanResources.Employee, Production.Supplier\n",
                "\n",
                "Desired Output:\n",
                "\n",
                "| country | region | city |\n",
                "| --- | --- | --- |\n",
                "| UK | NULL | London |\n",
                "| UK | NULL | London |\n",
                "| UK | NULL | London |\n",
                "| UK | NULL | London |\n",
                "| USA | WA | Kirkland |\n",
                "| USA | WA | Redmond |\n",
                "| USA | WA | Seattle |\n",
                "| USA | WA | Seattle |\n",
                "| USA | WA | Tacoma |\n",
                "| Australia | NSW | Sydney |\n",
                "| Australia | Victoria | Melbourne |\n",
                "| Brazil | NULL | Sao Paulo |\n",
                "| Canada | Québec | Montréal |\n",
                "| Canada | Québec | Ste-Hyacinthe |\n",
                "| Denmark | NULL | Lyngby |\n",
                "| Finland | NULL | Lappeenranta |\n",
                "| France | NULL | Annecy |\n",
                "| France | NULL | Montceau |\n",
                "| France | NULL | Paris |\n",
                "| Germany | NULL | Berlin |\n",
                "| Germany | NULL | Cuxhaven |\n",
                "| Germany | NULL | Frankfurt |\n",
                "| Italy | NULL | Ravenna |\n",
                "| Italy | NULL | Salerno |\n",
                "| Japan | NULL | Osaka |\n",
                "| Japan | NULL | Tokyo |\n",
                "| Netherlands | NULL | Zaandam |\n",
                "| Norway | NULL | Sandvika |\n",
                "| Singapore | NULL | Singapore |\n",
                "| Spain | Asturias | Oviedo |\n",
                "| Sweden | NULL | Göteborg |\n",
                "| Sweden | NULL | Stockholm |\n",
                "| UK | NULL | London |\n",
                "| UK | NULL | Manchester |\n",
                "| USA | LA | New Orleans |\n",
                "| USA | MA | Boston |\n",
                "| USA | MI | Ann Arbor |\n",
                "| USA | OR | Bend |\n",
                "\n",
                "(38 row(s) affected)"
            ],
            "metadata": {
                "azdata_cell_guid": "ca69c460-0d34-4fbd-82ce-170f159adcf7"
            },
            "attachments": {}
        },
        {
            "cell_type": "code",
            "source": [
                "use TSQLV6\n",
                "select country, region, city from \n",
                "(SELECT 1 sort,country, region, city\n",
                "FROM HR.Employees\n",
                "\n",
                "UNION ALL\n",
                "\n",
                "SELECT 2 sort,country, region, city\n",
                "FROM Production.Suppliers) s\n",
                "order by sort,country, region, city;\n",
                "\n",
                "use Northwinds2022TSQLV7\n",
                "select country, region, city from \n",
                "(SELECT 1 sort,EmployeeCountry country, EmployeeRegion region, EmployeeCity city\n",
                "FROM HumanResources.Employee\n",
                "\n",
                "UNION ALL\n",
                "\n",
                "SELECT 2 sort, SupplierCountry, SupplierRegion, SupplierCity\n",
                "FROM Production.Supplier) s\n",
                "order by sort,country, region, city;\n",
                ""
            ],
            "metadata": {
                "azdata_cell_guid": "0ee7220c-32b0-4cb2-a7dd-bc53615da0e6",
                "language": "sql",
                "tags": []
            },
            "outputs": [],
            "execution_count": null
        },
        {
            "cell_type": "markdown",
            "source": [
                "### Explanation:\n",
                "\n",
                "The proposition is to add logic to the query such that it would guarantee that the rows from HumanResources.Employee would be returned in the output before the rows from Production.Supplier, and within each segment, the rows should be sorted by country, region, city. The initial query didn't change except adding a column used to sort the Employee table before the Supplier table using 1 and 2 respectively. That new query is gonna be the inner query as we don't want to return the sorting column. The outer query selects only the country, region, and city columns from the subquery and then orders the results by the sorting column first so that employees comes before suppliers, which ends with order of country, region, and city."
            ],
            "metadata": {
                "language": "sql",
                "azdata_cell_guid": "43651166-0449-4a42-a052-e11e78c5c073"
            },
            "attachments": {}
        },
        {
            "cell_type": "markdown",
            "source": [
                "# Top 2- Chapter 6 Q1- Circumventing unsupported logical phases\n",
                "\n",
                "- Write a query that returns the distinct number of employees or customer locations for each country\n",
                "- Tables Included: HumanResources.Employees, Sales.Customer\n",
                "\n",
                "Desired Output:\n",
                "\n",
                "| country | numlocations |\n",
                "| --- | --- |\n",
                "| Argentina | 1 |\n",
                "| Austria | 2 |\n",
                "| Belgium | 2 |\n",
                "| Brazil | 4 |\n",
                "| Canada | 3 |\n",
                "| Denmark | 2 |\n",
                "| Finland | 2 |\n",
                "| France | 9 |\n",
                "| Germany | 11 |\n",
                "| Ireland | 1 |\n",
                "| Italy | 3 |\n",
                "| Mexico | 1 |\n",
                "| Norway | 1 |\n",
                "| Poland | 1 |\n",
                "| Portugal | 1 |\n",
                "| Spain | 3 |\n",
                "| Sweden | 2 |\n",
                "| Switzerland | 2 |\n",
                "| UK | 2 |\n",
                "| USA | 14 |\n",
                "| Venezuela | 4 |"
            ],
            "metadata": {
                "language": "sql",
                "azdata_cell_guid": "ed62a729-3a00-40e3-aa1b-ead3bad8a6b7"
            },
            "attachments": {}
        },
        {
            "cell_type": "code",
            "source": [
                "use TSQLV6\n",
                "SELECT country, COUNT(*) AS numlocations\n",
                "FROM (SELECT country, region, city FROM HR.Employees\n",
                "      UNION\n",
                "      SELECT country, region, city FROM Sales.Customers) AS U\n",
                "GROUP BY country;\n",
                "\n",
                "use Northwinds2022TSQLV7\n",
                "SELECT country, COUNT(*) AS numlocations\n",
                "FROM (SELECT employeecountry country, EmployeeRegion, EmployeeCity FROM HumanResources.Employee\n",
                "      UNION\n",
                "      SELECT CustomerCountry country, CustomerRegion, CustomerCity FROM Sales.Customer) AS U\n",
                "GROUP BY country;"
            ],
            "metadata": {
                "language": "sql",
                "azdata_cell_guid": "719235eb-c249-45f0-8117-1b9bef820ed6"
            },
            "outputs": [],
            "execution_count": 12
        },
        {
            "cell_type": "markdown",
            "source": [
                "### Explanation:\n",
                "\n",
                "The proposition is to w<span style=\"font-family: -apple-system, BlinkMacSystemFont, sans-serif; color: var(--vscode-foreground);\">rite a query that returns the number of employees or customer locations for each country</span><span style=\"font-family: -apple-system, BlinkMacSystemFont, sans-serif; color: var(--vscode-foreground);\">. The inner query unions the country, region, and city for both tables to get rid of any duplicates between the two tables to get the distinct locations of employees and customers. The outer query takes only the list of countries and the total count of rows inside the inner query. After getting the count we need to get the count for each country and we use the group by clause onto the country column to get the count of employee and customer locations in each country.</span>"
            ],
            "metadata": {
                "azdata_cell_guid": "76357e7c-4049-49bf-a421-f8a48be31fcb"
            },
            "attachments": {}
        },
        {
            "cell_type": "markdown",
            "source": [
                "# Top 3- Chapter 6 Q2- Circumventing unsupported logical phases\n",
                "\n",
                "- Write a query that returns the two most recent orders for employees 3 and 5\n",
                "- Tables Included: Sales.Order\n",
                "\n",
                "Desired Output:\n",
                "\n",
                "| empid | orderid | orderdate |\n",
                "| --- | --- | --- |\n",
                "| 3 | 11063 | 2016-04-30 |\n",
                "| 3 | 11057 | 2016-04-29 |\n",
                "| 5 | 11043 | 2016-04-22 |\n",
                "| 5 | 10954 | 2016-03-17 |"
            ],
            "metadata": {
                "azdata_cell_guid": "5d03ed91-2113-4469-bac5-e5bf5d570fcc"
            },
            "attachments": {}
        },
        {
            "cell_type": "code",
            "source": [
                "use TSQLV6\n",
                "SELECT empid, orderid, orderdate\n",
                "FROM (SELECT TOP (2) empid, orderid, orderdate\n",
                "      FROM Sales.Orders\n",
                "      WHERE empid = 3\n",
                "      ORDER BY orderdate DESC, orderid DESC) AS D1\n",
                "\n",
                "UNION ALL\n",
                "\n",
                "SELECT empid, orderid, orderdate\n",
                "FROM (SELECT TOP (2) empid, orderid, orderdate\n",
                "      FROM Sales.Orders\n",
                "      WHERE empid = 5\n",
                "      ORDER BY orderdate DESC, orderid DESC) AS D2;\n",
                "\n",
                "use Northwinds2022TSQLV7\n",
                "SELECT employeeid, orderid, orderdate\n",
                "FROM (SELECT TOP (2) employeeid, orderid, orderdate\n",
                "      FROM Sales.[Order]\n",
                "      WHERE employeeid = 3\n",
                "      ORDER BY orderdate DESC, orderid DESC) AS D1\n",
                "\n",
                "UNION ALL\n",
                "\n",
                "SELECT employeeid, orderid, orderdate\n",
                "FROM (SELECT TOP (2) employeeid, orderid, orderdate\n",
                "      FROM Sales.[Order]\n",
                "      WHERE employeeid = 5\n",
                "      ORDER BY orderdate DESC, orderid DESC) AS D2;"
            ],
            "metadata": {
                "azdata_cell_guid": "c75ac7cb-687b-4590-b12b-7d38b96624d0",
                "language": "sql"
            },
            "outputs": [],
            "execution_count": null
        },
        {
            "cell_type": "markdown",
            "source": [
                "### Explanation:\n",
                "\n",
                "The proposition is to <span style=\"font-family: -apple-system, BlinkMacSystemFont, sans-serif; color: var(--vscode-foreground);\">Write a query t</span> returns the two most recent orders for employees 3 and 5<span style=\"font-family: -apple-system, BlinkMacSystemFont, sans-serif; color: var(--vscode-foreground);\">. We will union two queries together as we need to join the top 2 rows for both employees. The query selects top 2 rows of&nbsp; the employeeid, orderid, and orderdate from the sales.order table. We then have a predicate that only gets the employees if their id is 3 for one table and 5 for the other table. Then to get the most recent orders we use order by clause on orderdate in descending order to get the closest date orders. Those are the inner queries as we need to unify both tables, so the outer query will select the&nbsp;</span>    <span style=\"font-family: -apple-system, BlinkMacSystemFont, sans-serif; color: var(--vscode-foreground);\">empid, orderid, and orderdate of the inner queries and we then unify both tables together so employees 3 and 5 two most recent orders are in one return.</span>"
            ],
            "metadata": {
                "language": "sql",
                "azdata_cell_guid": "e764b27b-2eee-48cf-ac22-75ee54bc9709"
            },
            "attachments": {}
        },
        {
            "cell_type": "markdown",
            "source": [
                "# Top 4 - Chapter 6 Exercise 4\n",
                "\n",
                "- Write a query that returns customer and employee pairs that had order activity in both January 2016 and February 2016\n",
                "- Tables Included: Sales.Order\n",
                "\n",
                "Desired Output:\n",
                "custid      |empid\n",
                "-----------| -----------\n",
                "20     |     3\n",
                "39      |    9\n",
                "46       |   5\n",
                "67        |  1\n",
                "71         | 4"
            ],
            "metadata": {
                "language": "",
                "azdata_cell_guid": "5a22be61-0e58-44da-9ae6-99963f5d7c34"
            },
            "attachments": {}
        },
        {
            "cell_type": "code",
            "source": [
                "use TSQLV4\n",
                "select custid, empid from Sales.Orders\n",
                "where orderdate >= '20160101' AND orderdate < '20160201'\n",
                "INTERSECT\n",
                "select custid, empid from Sales.Orders\n",
                "where orderdate >= '20160201' AND orderdate < '20160301'\n",
                "\n",
                "\n",
                "use Northwinds2022TSQLV7\n",
                "select customerid, employeeid from Sales.[Order]\n",
                "where orderdate >= '20160101' AND orderdate < '20160201'\n",
                "INTERSECT\n",
                "select customerid, employeeid from Sales.[Order]\n",
                "where orderdate >= '20160201' AND orderdate < '20160301'"
            ],
            "metadata": {
                "azdata_cell_guid": "e3ef4fda-7476-44b4-9ca4-acd97c932c44",
                "language": "sql",
                "tags": []
            },
            "outputs": [],
            "execution_count": null
        },
        {
            "cell_type": "markdown",
            "source": [
                "### Explanation:\n",
                "\n",
                "The proposition asks us to write a query that returns the <span style=\"font-family: -apple-system, BlinkMacSystemFont, sans-serif; color: var(--vscode-foreground);\">customer and employee pairs that had order activity in both January 2016 and February 2016. There is two queries that have almost the same layout except for the predicate. They both select the customerid and employeeid from the sales.order table and then create a predicate to get the range of dates that gets activity from the month of January 2016 in one table and Febuary 2016 in the other. After the two queries are made we intersect them to combine the results into one table that shows the customer and employee of orders in the two months. Also, since the dates are specific they are present in northwinds database but not in tsqlv6 so I had to switch it back to tsqlv4.</span>"
            ],
            "metadata": {
                "language": "sql",
                "azdata_cell_guid": "4b41cdae-c339-40a9-b297-cc116dfbdc13"
            },
            "attachments": {}
        },
        {
            "cell_type": "markdown",
            "source": [
                "# Top 5- Chapter 6 Q3- INTERSECT Precedes EXCEPT\n",
                "\n",
                "- Write a query that returns the locations that are supplier locations, but not locations that are both employee and customer locations\n",
                "- Tables Included: Sales.Customer, Production.Supplier, HumanResources.Employee\n",
                "\n",
                "Desired Output:\n",
                "\n",
                "| country | region | city |\n",
                "| --- | --- | --- |\n",
                "| Australia | NSW | Sydney |\n",
                "| Australia | Victoria | Melbourne |\n",
                "| Brazil | NULL | Sao Paulo |\n",
                "| Canada | Québec | Montréal |\n",
                "| Canada | Québec | Ste-Hyacinthe |\n",
                "| Denmark | NULL | Lyngby |\n",
                "| Finland | NULL | Lappeenranta |\n",
                "| France | NULL | Annecy |\n",
                "| France | NULL | Montceau |\n",
                "| France | NULL | Paris |\n",
                "| Germany | NULL | Berlin |\n",
                "| Germany | NULL | Cuxhaven |\n",
                "| Germany | NULL | Frankfurt |\n",
                "| Italy | NULL | Ravenna |\n",
                "| Italy | NULL | Salerno |\n",
                "| Japan | NULL | Osaka |\n",
                "| Japan | NULL | Tokyo |\n",
                "| Netherlands | NULL | Zaandam |\n",
                "| Norway | NULL | Sandvika |\n",
                "| Singapore | NULL | Singapore |\n",
                "| Spain | Asturias | Oviedo |\n",
                "| Sweden | NULL | Göteborg |\n",
                "| Sweden | NULL | Stockholm |\n",
                "| UK | NULL | Manchester |\n",
                "| USA | LA | New Orleans |\n",
                "| USA | MA | Boston |\n",
                "| USA | MI | Ann Arbor |\n",
                "| USA | OR | Bend |\n",
                "\n",
                "(28 row(s) affected)"
            ],
            "metadata": {
                "language": "sql",
                "azdata_cell_guid": "9bd08a19-af2d-4801-98ab-bcf242a5f018"
            },
            "attachments": {}
        },
        {
            "cell_type": "code",
            "source": [
                "USE TSQLV6\n",
                "SELECT country, region, city FROM Production.Suppliers\n",
                "EXCEPT\n",
                "SELECT country, region, city FROM HR.Employees\n",
                "INTERSECT\n",
                "SELECT country, region, city FROM Sales.Customers;\n",
                "\n",
                "use Northwinds2022TSQLV7\n",
                "SELECT SupplierCountry, SupplierRegion, SupplierCity FROM Production.Supplier\n",
                "EXCEPT\n",
                "SELECT EmployeeCountry, EmployeeRegion, EmployeeCity FROM HumanResources.Employee\n",
                "INTERSECT\n",
                "SELECT CustomerCountry, CustomerRegion, CustomerCity FROM Sales.Customer;"
            ],
            "metadata": {
                "language": "sql",
                "azdata_cell_guid": "8cf62424-445d-4863-9d0a-221e16eaf76e"
            },
            "outputs": [],
            "execution_count": null
        },
        {
            "cell_type": "markdown",
            "source": [
                "### Explanation:\n",
                "\n",
                "The proposition asks to w<span style=\"font-family: -apple-system, BlinkMacSystemFont, sans-serif; color: var(--vscode-foreground);\">rite a query that returns the locations that are supplier locations, but not locations that are both employee and customer locations. To get the locations from all the tables we select the country, region, and city from the supplier, employee, and customer tables. But, to include and exclude the certain tables we use the intersect and except operators. We are excluding both the location in the employee and customer tables so we place the intersect operator between them. As we including only the supplier locations not in the previous intersection we place the except operator after the supplier table but before the intersection as the intersect operator takes precedence over the except operator no matter where its placed in the query order. We got the locations in the supplier table only.</span>"
            ],
            "metadata": {
                "language": "sql",
                "azdata_cell_guid": "b36b9531-d6ab-44b3-a445-2694f445a4e8"
            },
            "attachments": {}
        }
    ]
}