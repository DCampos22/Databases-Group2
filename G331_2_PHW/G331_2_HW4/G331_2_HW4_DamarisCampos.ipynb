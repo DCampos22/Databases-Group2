{
    "metadata": {
        "kernelspec": {
            "name": "SQL",
            "display_name": "SQL",
            "language": "sql"
        },
        "language_info": {
            "name": "sql",
            "version": ""
        }
    },
    "nbformat_minor": 2,
    "nbformat": 4,
    "cells": [
        {
            "cell_type": "markdown",
            "source": [
                "# Damaris Campos PHW4: Chapter 6 + Propositions"
            ],
            "metadata": {
                "azdata_cell_guid": "a2cbb7ab-6fac-46bd-bb2c-380cc675424d"
            },
            "attachments": {}
        },
        {
            "cell_type": "markdown",
            "source": [
                "## **<mark>Top 5 Queries:</mark>**"
            ],
            "metadata": {
                "azdata_cell_guid": "8ef11345-c192-470d-85a7-c3b5ff66baa7"
            },
            "attachments": {}
        },
        {
            "cell_type": "markdown",
            "source": [
                "### **TOP 1 - Chapter 6: Exercise 5**\n",
                "\n",
                "- Write a query that returns customer and employee pairs that had order activity in both January 2016 and February 2016 but not in 2015\n",
                "- Tables involved: TSQLV4 database, Orders table\n",
                "\n",
                "Desired output\n",
                "\n",
                "| custid | empid |\n",
                "| --- | --- |\n",
                "| 67 |  1 |\n",
                "| 46 | 5 |\n",
                "\n",
                "\n",
                "(2 row(s) affected)"
            ],
            "metadata": {
                "azdata_cell_guid": "fd94485d-4cd4-427a-8c87-bc4aab84ab63"
            },
            "attachments": {}
        },
        {
            "cell_type": "code",
            "source": [
                "USE TSQLV6\r\n",
                "(SELECT custid, empid \r\n",
                "FROM Sales.Orders\r\n",
                "WHERE orderdate >= '20220101' AND orderdate < '20220201'\r\n",
                "\r\n",
                "INTERSECT\r\n",
                "\r\n",
                "SELECT custid, empid\r\n",
                "FROM Sales.Orders\r\n",
                "WHERE orderdate >= '20220201' AND orderdate < '20220301')\r\n",
                "\r\n",
                "EXCEPT\r\n",
                "\r\n",
                "SELECT custid, empid\r\n",
                "FROM Sales.Orders\r\n",
                "WHERE orderdate >= '20210101' AND orderdate < '20220101';\r\n",
                "\r\n",
                "----------------------------------------------------------\r\n",
                "\r\n",
                "USE Northwinds2022TSQLV7\r\n",
                "(SELECT CustomerId, EmployeeId\r\n",
                "FROM Sales.[Order]\r\n",
                "WHERE OrderDate >= '20160101' AND OrderDate < '20160201'\r\n",
                "\r\n",
                "INTERSECT\r\n",
                "\r\n",
                "SELECT CustomerId, EmployeeId\r\n",
                "FROM Sales.[Order]\r\n",
                "WHERE OrderDate >= '20160201' AND OrderDate < '20160301')\r\n",
                "\r\n",
                "EXCEPT\r\n",
                "\r\n",
                "SELECT CustomerId, EmployeeId\r\n",
                "FROM Sales.[Order]\r\n",
                "WHERE OrderDate >= '20150101' AND OrderDate < '20160101';\r\n",
                ""
            ],
            "metadata": {
                "azdata_cell_guid": "e0645fb3-24bd-4832-a769-54183c71a31a",
                "language": "sql"
            },
            "outputs": [
                {
                    "output_type": "display_data",
                    "data": {
                        "text/html": "(2 rows affected)"
                    },
                    "metadata": {}
                },
                {
                    "output_type": "display_data",
                    "data": {
                        "text/html": "(2 rows affected)"
                    },
                    "metadata": {}
                },
                {
                    "output_type": "display_data",
                    "data": {
                        "text/html": "Total execution time: 00:00:00.028"
                    },
                    "metadata": {}
                },
                {
                    "output_type": "execute_result",
                    "execution_count": 6,
                    "data": {
                        "application/vnd.dataresource+json": {
                            "schema": {
                                "fields": [
                                    {
                                        "name": "custid"
                                    },
                                    {
                                        "name": "empid"
                                    }
                                ]
                            },
                            "data": [
                                {
                                    "custid": "67",
                                    "empid": "1"
                                },
                                {
                                    "custid": "46",
                                    "empid": "5"
                                }
                            ]
                        },
                        "text/html": "<table><tr><th>custid</th><th>empid</th></tr><tr><td>67</td><td>1</td></tr><tr><td>46</td><td>5</td></tr></table>"
                    },
                    "metadata": {}
                },
                {
                    "output_type": "execute_result",
                    "execution_count": 6,
                    "data": {
                        "application/vnd.dataresource+json": {
                            "schema": {
                                "fields": [
                                    {
                                        "name": "CustomerId"
                                    },
                                    {
                                        "name": "EmployeeId"
                                    }
                                ]
                            },
                            "data": [
                                {
                                    "CustomerId": "67",
                                    "EmployeeId": "1"
                                },
                                {
                                    "CustomerId": "46",
                                    "EmployeeId": "5"
                                }
                            ]
                        },
                        "text/html": "<table><tr><th>CustomerId</th><th>EmployeeId</th></tr><tr><td>67</td><td>1</td></tr><tr><td>46</td><td>5</td></tr></table>"
                    },
                    "metadata": {}
                }
            ],
            "execution_count": 6
        },
        {
            "cell_type": "markdown",
            "source": [
                "Explanation: <br>\r\n",
                "We want to return customer and employee pairs that had order activity in both January 2016 but not in 2015. To achieve this, we combine two queries with the INSERSECT operation. For the first query we specify the table we want to get the information from which is the Sales.[Order] table and include the columns we want to return from there which are the CustomerId and the EmployeeId. We set the predicate in the where clasue to get the OrderDate to be inclusive '20160101' and exclusive '20160201'. For our second query our table and columns remain the same from the firsy query, however, for our predicate in the where clause sets OrderDate inclusive '20160201' and exclusive '20160301'. These two queries use parentheses to have the highest precedence and be evaluated first before using the EXCEPT operator. These two queries using INTERSECT returns only the distinct rows that appear in both input query results. Now the EXCEPT operator will go forth after and operate on the two input queries and returns rows that appear in the first input and not the second. Meaning that what we had before we have the intersection of January 2016 and February 2016 and the EXCEPT operator will only return that input and not any date from 2015. In that query the table and columns are the same from the previous queries and our predicate in the where clause sets OrderDate to be inclusive '20150101' and exclusive '20160101', these dates will be extempt from the results."
            ],
            "metadata": {
                "azdata_cell_guid": "99f73410-6b99-4cc5-9e5e-51a635ac6d7a"
            },
            "attachments": {}
        },
        {
            "cell_type": "markdown",
            "source": [
                "## Propositions"
            ],
            "metadata": {
                "language": "sql",
                "azdata_cell_guid": "6bf85b70-aec0-4e77-894d-c8fd5fb81cc8"
            },
            "attachments": {}
        },
        {
            "cell_type": "markdown",
            "source": [
                "### **TOP 2 - Chapter 6 Precedence Example**\n",
                "\n",
                "- Write a query that returns the country, region and city paris for  Production.Suppliers that emtempt from the intersection of the paris in HR.Employees and Sales.Customers.\n",
                "- Tables involved: TSQLV6 database, Production.Suppliers, HR.Employees, Sales.Customers"
            ],
            "metadata": {
                "azdata_cell_guid": "c653249b-dc09-46d3-933a-3f7bcbbc0f83"
            },
            "attachments": {}
        },
        {
            "cell_type": "code",
            "source": [
                "---------------------------------------------------------------------\r\n",
                "-- Precedence\r\n",
                "---------------------------------------------------------------------\r\n",
                "USE TSQLV6\r\n",
                "-- INTERSECT Precedes EXCEPT\r\n",
                "SELECT country, region, city FROM Production.Suppliers\r\n",
                "EXCEPT\r\n",
                "SELECT country, region, city FROM HR.Employees\r\n",
                "INTERSECT\r\n",
                "SELECT country, region, city FROM Sales.Customers;\r\n",
                "\r\n",
                "---------------------------------------------------------------------------------\r\n",
                "\r\n",
                "USE Northwinds2022TSQLV7\r\n",
                "SELECT SupplierCountry, SupplierRegion, SupplierCity FROM Production.Supplier\r\n",
                "EXCEPT\r\n",
                "SELECT EmployeeCountry, EmployeeRegion, EmployeeCity FROM HumanResources.Employee\r\n",
                "INTERSECT\r\n",
                "SELECT CustomerCountry, CustomerRegion, CustomerCity FROM Sales.Customer"
            ],
            "metadata": {
                "azdata_cell_guid": "ac4e700e-9734-4a36-9540-b00bca4846d6",
                "language": "sql"
            },
            "outputs": [
                {
                    "output_type": "display_data",
                    "data": {
                        "text/html": "(28 rows affected)"
                    },
                    "metadata": {}
                },
                {
                    "output_type": "display_data",
                    "data": {
                        "text/html": "(28 rows affected)"
                    },
                    "metadata": {}
                },
                {
                    "output_type": "display_data",
                    "data": {
                        "text/html": "Total execution time: 00:00:00.068"
                    },
                    "metadata": {}
                },
                {
                    "output_type": "execute_result",
                    "execution_count": 8,
                    "data": {
                        "application/vnd.dataresource+json": {
                            "schema": {
                                "fields": [
                                    {
                                        "name": "country"
                                    },
                                    {
                                        "name": "region"
                                    },
                                    {
                                        "name": "city"
                                    }
                                ]
                            },
                            "data": [
                                {
                                    "country": "Australia",
                                    "region": "NSW",
                                    "city": "Sydney"
                                },
                                {
                                    "country": "Australia",
                                    "region": "Victoria",
                                    "city": "Melbourne"
                                },
                                {
                                    "country": "Brazil",
                                    "region": "NULL",
                                    "city": "Sao Paulo"
                                },
                                {
                                    "country": "Canada",
                                    "region": "Québec",
                                    "city": "Montréal"
                                },
                                {
                                    "country": "Canada",
                                    "region": "Québec",
                                    "city": "Ste-Hyacinthe"
                                },
                                {
                                    "country": "Denmark",
                                    "region": "NULL",
                                    "city": "Lyngby"
                                },
                                {
                                    "country": "Finland",
                                    "region": "NULL",
                                    "city": "Lappeenranta"
                                },
                                {
                                    "country": "France",
                                    "region": "NULL",
                                    "city": "Annecy"
                                },
                                {
                                    "country": "France",
                                    "region": "NULL",
                                    "city": "Montceau"
                                },
                                {
                                    "country": "France",
                                    "region": "NULL",
                                    "city": "Paris"
                                },
                                {
                                    "country": "Germany",
                                    "region": "NULL",
                                    "city": "Berlin"
                                },
                                {
                                    "country": "Germany",
                                    "region": "NULL",
                                    "city": "Cuxhaven"
                                },
                                {
                                    "country": "Germany",
                                    "region": "NULL",
                                    "city": "Frankfurt"
                                },
                                {
                                    "country": "Italy",
                                    "region": "NULL",
                                    "city": "Ravenna"
                                },
                                {
                                    "country": "Italy",
                                    "region": "NULL",
                                    "city": "Salerno"
                                },
                                {
                                    "country": "Japan",
                                    "region": "NULL",
                                    "city": "Osaka"
                                },
                                {
                                    "country": "Japan",
                                    "region": "NULL",
                                    "city": "Tokyo"
                                },
                                {
                                    "country": "Netherlands",
                                    "region": "NULL",
                                    "city": "Zaandam"
                                },
                                {
                                    "country": "Norway",
                                    "region": "NULL",
                                    "city": "Sandvika"
                                },
                                {
                                    "country": "Singapore",
                                    "region": "NULL",
                                    "city": "Singapore"
                                },
                                {
                                    "country": "Spain",
                                    "region": "Asturias",
                                    "city": "Oviedo"
                                },
                                {
                                    "country": "Sweden",
                                    "region": "NULL",
                                    "city": "Göteborg"
                                },
                                {
                                    "country": "Sweden",
                                    "region": "NULL",
                                    "city": "Stockholm"
                                },
                                {
                                    "country": "UK",
                                    "region": "NULL",
                                    "city": "Manchester"
                                },
                                {
                                    "country": "USA",
                                    "region": "LA",
                                    "city": "New Orleans"
                                },
                                {
                                    "country": "USA",
                                    "region": "MA",
                                    "city": "Boston"
                                },
                                {
                                    "country": "USA",
                                    "region": "MI",
                                    "city": "Ann Arbor"
                                },
                                {
                                    "country": "USA",
                                    "region": "OR",
                                    "city": "Bend"
                                }
                            ]
                        },
                        "text/html": "<table><tr><th>country</th><th>region</th><th>city</th></tr><tr><td>Australia</td><td>NSW</td><td>Sydney</td></tr><tr><td>Australia</td><td>Victoria</td><td>Melbourne</td></tr><tr><td>Brazil</td><td>NULL</td><td>Sao Paulo</td></tr><tr><td>Canada</td><td>Québec</td><td>Montréal</td></tr><tr><td>Canada</td><td>Québec</td><td>Ste-Hyacinthe</td></tr><tr><td>Denmark</td><td>NULL</td><td>Lyngby</td></tr><tr><td>Finland</td><td>NULL</td><td>Lappeenranta</td></tr><tr><td>France</td><td>NULL</td><td>Annecy</td></tr><tr><td>France</td><td>NULL</td><td>Montceau</td></tr><tr><td>France</td><td>NULL</td><td>Paris</td></tr><tr><td>Germany</td><td>NULL</td><td>Berlin</td></tr><tr><td>Germany</td><td>NULL</td><td>Cuxhaven</td></tr><tr><td>Germany</td><td>NULL</td><td>Frankfurt</td></tr><tr><td>Italy</td><td>NULL</td><td>Ravenna</td></tr><tr><td>Italy</td><td>NULL</td><td>Salerno</td></tr><tr><td>Japan</td><td>NULL</td><td>Osaka</td></tr><tr><td>Japan</td><td>NULL</td><td>Tokyo</td></tr><tr><td>Netherlands</td><td>NULL</td><td>Zaandam</td></tr><tr><td>Norway</td><td>NULL</td><td>Sandvika</td></tr><tr><td>Singapore</td><td>NULL</td><td>Singapore</td></tr><tr><td>Spain</td><td>Asturias</td><td>Oviedo</td></tr><tr><td>Sweden</td><td>NULL</td><td>Göteborg</td></tr><tr><td>Sweden</td><td>NULL</td><td>Stockholm</td></tr><tr><td>UK</td><td>NULL</td><td>Manchester</td></tr><tr><td>USA</td><td>LA</td><td>New Orleans</td></tr><tr><td>USA</td><td>MA</td><td>Boston</td></tr><tr><td>USA</td><td>MI</td><td>Ann Arbor</td></tr><tr><td>USA</td><td>OR</td><td>Bend</td></tr></table>"
                    },
                    "metadata": {}
                },
                {
                    "output_type": "execute_result",
                    "execution_count": 8,
                    "data": {
                        "application/vnd.dataresource+json": {
                            "schema": {
                                "fields": [
                                    {
                                        "name": "SupplierCountry"
                                    },
                                    {
                                        "name": "SupplierRegion"
                                    },
                                    {
                                        "name": "SupplierCity"
                                    }
                                ]
                            },
                            "data": [
                                {
                                    "SupplierCountry": "Australia",
                                    "SupplierRegion": "NSW",
                                    "SupplierCity": "Sydney"
                                },
                                {
                                    "SupplierCountry": "Australia",
                                    "SupplierRegion": "Victoria",
                                    "SupplierCity": "Melbourne"
                                },
                                {
                                    "SupplierCountry": "Brazil",
                                    "SupplierRegion": "NULL",
                                    "SupplierCity": "Sao Paulo"
                                },
                                {
                                    "SupplierCountry": "Canada",
                                    "SupplierRegion": "Québec",
                                    "SupplierCity": "Montréal"
                                },
                                {
                                    "SupplierCountry": "Canada",
                                    "SupplierRegion": "Québec",
                                    "SupplierCity": "Ste-Hyacinthe"
                                },
                                {
                                    "SupplierCountry": "Denmark",
                                    "SupplierRegion": "NULL",
                                    "SupplierCity": "Lyngby"
                                },
                                {
                                    "SupplierCountry": "Finland",
                                    "SupplierRegion": "NULL",
                                    "SupplierCity": "Lappeenranta"
                                },
                                {
                                    "SupplierCountry": "France",
                                    "SupplierRegion": "NULL",
                                    "SupplierCity": "Annecy"
                                },
                                {
                                    "SupplierCountry": "France",
                                    "SupplierRegion": "NULL",
                                    "SupplierCity": "Montceau"
                                },
                                {
                                    "SupplierCountry": "France",
                                    "SupplierRegion": "NULL",
                                    "SupplierCity": "Paris"
                                },
                                {
                                    "SupplierCountry": "Germany",
                                    "SupplierRegion": "NULL",
                                    "SupplierCity": "Berlin"
                                },
                                {
                                    "SupplierCountry": "Germany",
                                    "SupplierRegion": "NULL",
                                    "SupplierCity": "Cuxhaven"
                                },
                                {
                                    "SupplierCountry": "Germany",
                                    "SupplierRegion": "NULL",
                                    "SupplierCity": "Frankfurt"
                                },
                                {
                                    "SupplierCountry": "Italy",
                                    "SupplierRegion": "NULL",
                                    "SupplierCity": "Ravenna"
                                },
                                {
                                    "SupplierCountry": "Italy",
                                    "SupplierRegion": "NULL",
                                    "SupplierCity": "Salerno"
                                },
                                {
                                    "SupplierCountry": "Japan",
                                    "SupplierRegion": "NULL",
                                    "SupplierCity": "Osaka"
                                },
                                {
                                    "SupplierCountry": "Japan",
                                    "SupplierRegion": "NULL",
                                    "SupplierCity": "Tokyo"
                                },
                                {
                                    "SupplierCountry": "Netherlands",
                                    "SupplierRegion": "NULL",
                                    "SupplierCity": "Zaandam"
                                },
                                {
                                    "SupplierCountry": "Norway",
                                    "SupplierRegion": "NULL",
                                    "SupplierCity": "Sandvika"
                                },
                                {
                                    "SupplierCountry": "Singapore",
                                    "SupplierRegion": "NULL",
                                    "SupplierCity": "Singapore"
                                },
                                {
                                    "SupplierCountry": "Spain",
                                    "SupplierRegion": "Asturias",
                                    "SupplierCity": "Oviedo"
                                },
                                {
                                    "SupplierCountry": "Sweden",
                                    "SupplierRegion": "NULL",
                                    "SupplierCity": "Göteborg"
                                },
                                {
                                    "SupplierCountry": "Sweden",
                                    "SupplierRegion": "NULL",
                                    "SupplierCity": "Stockholm"
                                },
                                {
                                    "SupplierCountry": "UK",
                                    "SupplierRegion": "NULL",
                                    "SupplierCity": "Manchester"
                                },
                                {
                                    "SupplierCountry": "USA",
                                    "SupplierRegion": "LA",
                                    "SupplierCity": "New Orleans"
                                },
                                {
                                    "SupplierCountry": "USA",
                                    "SupplierRegion": "MA",
                                    "SupplierCity": "Boston"
                                },
                                {
                                    "SupplierCountry": "USA",
                                    "SupplierRegion": "MI",
                                    "SupplierCity": "Ann Arbor"
                                },
                                {
                                    "SupplierCountry": "USA",
                                    "SupplierRegion": "OR",
                                    "SupplierCity": "Bend"
                                }
                            ]
                        },
                        "text/html": "<table><tr><th>SupplierCountry</th><th>SupplierRegion</th><th>SupplierCity</th></tr><tr><td>Australia</td><td>NSW</td><td>Sydney</td></tr><tr><td>Australia</td><td>Victoria</td><td>Melbourne</td></tr><tr><td>Brazil</td><td>NULL</td><td>Sao Paulo</td></tr><tr><td>Canada</td><td>Québec</td><td>Montréal</td></tr><tr><td>Canada</td><td>Québec</td><td>Ste-Hyacinthe</td></tr><tr><td>Denmark</td><td>NULL</td><td>Lyngby</td></tr><tr><td>Finland</td><td>NULL</td><td>Lappeenranta</td></tr><tr><td>France</td><td>NULL</td><td>Annecy</td></tr><tr><td>France</td><td>NULL</td><td>Montceau</td></tr><tr><td>France</td><td>NULL</td><td>Paris</td></tr><tr><td>Germany</td><td>NULL</td><td>Berlin</td></tr><tr><td>Germany</td><td>NULL</td><td>Cuxhaven</td></tr><tr><td>Germany</td><td>NULL</td><td>Frankfurt</td></tr><tr><td>Italy</td><td>NULL</td><td>Ravenna</td></tr><tr><td>Italy</td><td>NULL</td><td>Salerno</td></tr><tr><td>Japan</td><td>NULL</td><td>Osaka</td></tr><tr><td>Japan</td><td>NULL</td><td>Tokyo</td></tr><tr><td>Netherlands</td><td>NULL</td><td>Zaandam</td></tr><tr><td>Norway</td><td>NULL</td><td>Sandvika</td></tr><tr><td>Singapore</td><td>NULL</td><td>Singapore</td></tr><tr><td>Spain</td><td>Asturias</td><td>Oviedo</td></tr><tr><td>Sweden</td><td>NULL</td><td>Göteborg</td></tr><tr><td>Sweden</td><td>NULL</td><td>Stockholm</td></tr><tr><td>UK</td><td>NULL</td><td>Manchester</td></tr><tr><td>USA</td><td>LA</td><td>New Orleans</td></tr><tr><td>USA</td><td>MA</td><td>Boston</td></tr><tr><td>USA</td><td>MI</td><td>Ann Arbor</td></tr><tr><td>USA</td><td>OR</td><td>Bend</td></tr></table>"
                    },
                    "metadata": {}
                }
            ],
            "execution_count": 8
        },
        {
            "cell_type": "markdown",
            "source": [
                "Explanation:  \n",
                "We are trying to get the country, region, and city pairs from Production.Supplier that are not with HR.Employees and Sales.Customers. The first query retrieves data from the Supplier table in the Production schema. It select SupplierCountry, SupplierReegion, and SupplierCity. The EXCEPT operator is used to combine the results of the first SELECT statement with the following INTERSECT operation while excluding any rows that are common between them. The second query uses data from the Employee in the HumanResources schema and uses EmployeeCountry, EmployeeRegion, and EmployeeCity. The INTERSECT operator is used to combine the results of the second query with the third query that uses data from Customer in Sales schema and uses CustomerCountry, CustomerRegion, and CustomerCity. Since there is precedence, the INTERSECT operation will perform first, intersecting query 2 and 3 with distinct values and then query 1 will EXCEPT the combination from the intersection of 2 and 3"
            ],
            "metadata": {
                "language": "sql",
                "azdata_cell_guid": "baca87f6-79fe-4ac9-ae43-79fd85f573f3"
            },
            "attachments": {}
        },
        {
            "cell_type": "markdown",
            "source": [
                "### **TOP 3 - Chapter 6**\n",
                "\n",
                "- Return locations that are supplier locations but not employee locations and that are also customer locations\n",
                "- Tables involved: TSQLV6, Production.Suppliers, HR.Employees, Sales.Customers"
            ],
            "metadata": {
                "language": "sql",
                "azdata_cell_guid": "dd141425-5107-4def-a65f-94f8806fe824"
            },
            "attachments": {}
        },
        {
            "cell_type": "code",
            "source": [
                "-- Using Parenthesis\r\n",
                "USE TSQLV6\r\n",
                "(SELECT country, region, city FROM Production.Suppliers\r\n",
                " EXCEPT\r\n",
                " SELECT country, region, city FROM HR.Employees)\r\n",
                "INTERSECT\r\n",
                "SELECT country, region, city FROM Sales.Customers;\r\n",
                "\r\n",
                "-----------------------------------------------------------------------\r\n",
                "\r\n",
                "USE Northwinds2022TSQLV7\r\n",
                "(SELECT SupplierCountry, SupplierRegion, SupplierCity FROM Production.Supplier\r\n",
                " EXCEPT\r\n",
                " SELECT EmployeeCountry, EmployeeRegion, EmployeeCity FROM HumanResources.Employee)\r\n",
                "INTERSECT\r\n",
                "SELECT CustomerCountry, CustomerRegion, CustomerCity FROM Sales.Customer;"
            ],
            "metadata": {
                "language": "sql",
                "azdata_cell_guid": "5bb2d958-7f37-4f3f-b2dd-c634075c47a5"
            },
            "outputs": [
                {
                    "output_type": "display_data",
                    "data": {
                        "text/html": "(3 rows affected)"
                    },
                    "metadata": {}
                },
                {
                    "output_type": "display_data",
                    "data": {
                        "text/html": "(3 rows affected)"
                    },
                    "metadata": {}
                },
                {
                    "output_type": "display_data",
                    "data": {
                        "text/html": "Total execution time: 00:00:00.078"
                    },
                    "metadata": {}
                },
                {
                    "output_type": "execute_result",
                    "execution_count": 10,
                    "data": {
                        "application/vnd.dataresource+json": {
                            "schema": {
                                "fields": [
                                    {
                                        "name": "country"
                                    },
                                    {
                                        "name": "region"
                                    },
                                    {
                                        "name": "city"
                                    }
                                ]
                            },
                            "data": [
                                {
                                    "country": "Canada",
                                    "region": "Québec",
                                    "city": "Montréal"
                                },
                                {
                                    "country": "France",
                                    "region": "NULL",
                                    "city": "Paris"
                                },
                                {
                                    "country": "Germany",
                                    "region": "NULL",
                                    "city": "Berlin"
                                }
                            ]
                        },
                        "text/html": "<table><tr><th>country</th><th>region</th><th>city</th></tr><tr><td>Canada</td><td>Québec</td><td>Montréal</td></tr><tr><td>France</td><td>NULL</td><td>Paris</td></tr><tr><td>Germany</td><td>NULL</td><td>Berlin</td></tr></table>"
                    },
                    "metadata": {}
                },
                {
                    "output_type": "execute_result",
                    "execution_count": 10,
                    "data": {
                        "application/vnd.dataresource+json": {
                            "schema": {
                                "fields": [
                                    {
                                        "name": "SupplierCountry"
                                    },
                                    {
                                        "name": "SupplierRegion"
                                    },
                                    {
                                        "name": "SupplierCity"
                                    }
                                ]
                            },
                            "data": [
                                {
                                    "SupplierCountry": "Canada",
                                    "SupplierRegion": "Québec",
                                    "SupplierCity": "Montréal"
                                },
                                {
                                    "SupplierCountry": "France",
                                    "SupplierRegion": "NULL",
                                    "SupplierCity": "Paris"
                                },
                                {
                                    "SupplierCountry": "Germany",
                                    "SupplierRegion": "NULL",
                                    "SupplierCity": "Berlin"
                                }
                            ]
                        },
                        "text/html": "<table><tr><th>SupplierCountry</th><th>SupplierRegion</th><th>SupplierCity</th></tr><tr><td>Canada</td><td>Québec</td><td>Montréal</td></tr><tr><td>France</td><td>NULL</td><td>Paris</td></tr><tr><td>Germany</td><td>NULL</td><td>Berlin</td></tr></table>"
                    },
                    "metadata": {}
                }
            ],
            "execution_count": 10
        },
        {
            "cell_type": "markdown",
            "source": [
                "Explanation: <br>\r\n",
                "We want to return the locations that are supplier locations but not employee locations and that are also customer locations. By the order of evaluation of set operators, we start off with parenthesis because they have the highest precedence. Inside these paretheses is the first query that retrieves data from Production.Suppliers table and selects country, region, and city columns. We are then faced with a EXCEPT operator that returns the first input but not the second one. In this case the second input retrieves data from the HR.Employees selecting country, region, and city. Outside the parenthesis there is a INTERSECT operation which returns the rows only in common to results of the two input queries. So the first input query in this case is the results from Production.Suppliers that does not include data from HR.Employees and intersects this with the this query that returns data from Sales.Customers selecting country, region, and city.\r\n",
                ""
            ],
            "metadata": {
                "language": "sql",
                "azdata_cell_guid": "523c15b5-bdff-49db-8ba4-9af61dd3fbcd"
            },
            "attachments": {}
        },
        {
            "cell_type": "markdown",
            "source": [
                "### **TOP 4**\n",
                "\n",
                "- Return all the intersected country, region, and city values for the table HR.Employees and Sales.Customers\n",
                "- Tables involved: TSQLV6, HR.Employees, Sales.Customers"
            ],
            "metadata": {
                "language": "sql",
                "azdata_cell_guid": "a4a7a05b-be2d-4367-b154-fc369fd73170"
            },
            "attachments": {}
        },
        {
            "cell_type": "code",
            "source": [
                "USE TSQLV6\r\n",
                "-- The INTERSECT ALL Multiset Operator (Optional, Advanced)\r\n",
                "SELECT\r\n",
                "  ROW_NUMBER() \r\n",
                "    OVER(PARTITION BY country, region, city\r\n",
                "         ORDER     BY (SELECT 0)) AS rownum,\r\n",
                "  country, region, city\r\n",
                "FROM HR.Employees\r\n",
                "\r\n",
                "INTERSECT\r\n",
                "\r\n",
                "SELECT\r\n",
                "  ROW_NUMBER() \r\n",
                "    OVER(PARTITION BY country, region, city\r\n",
                "         ORDER     BY (SELECT 0)),\r\n",
                "  country, region, city\r\n",
                "FROM Sales.Customers;\r\n",
                "\r\n",
                "---------------------------------------------------------\r\n",
                "\r\n",
                "USE Northwinds2022TSQLV7;\r\n",
                "SELECT\r\n",
                "  ROW_NUMBER() \r\n",
                "    OVER(PARTITION BY EmployeeCountry, EmployeeRegion, EmployeeCity\r\n",
                "         ORDER     BY (SELECT 0)) AS rownum,\r\n",
                "  EmployeeCountry, EmployeeRegion, EmployeeCity\r\n",
                "FROM HumanResources.Employee\r\n",
                "\r\n",
                "INTERSECT\r\n",
                "\r\n",
                "SELECT\r\n",
                "  ROW_NUMBER() \r\n",
                "    OVER(PARTITION BY CustomerCountry, CustomerRegion, CustomerCity\r\n",
                "         ORDER     BY (SELECT 0)),\r\n",
                "  CustomerCountry, CustomerRegion, CustomerCity\r\n",
                "FROM Sales.Customer;\r\n",
                "\r\n",
                ""
            ],
            "metadata": {
                "language": "sql",
                "azdata_cell_guid": "aaed7a91-4cef-4cd2-a76f-a8c9dd4d4ae4"
            },
            "outputs": [
                {
                    "output_type": "display_data",
                    "data": {
                        "text/html": "(6 rows affected)"
                    },
                    "metadata": {}
                },
                {
                    "output_type": "display_data",
                    "data": {
                        "text/html": "(6 rows affected)"
                    },
                    "metadata": {}
                },
                {
                    "output_type": "display_data",
                    "data": {
                        "text/html": "Total execution time: 00:00:00.012"
                    },
                    "metadata": {}
                },
                {
                    "output_type": "execute_result",
                    "execution_count": 19,
                    "data": {
                        "application/vnd.dataresource+json": {
                            "schema": {
                                "fields": [
                                    {
                                        "name": "rownum"
                                    },
                                    {
                                        "name": "country"
                                    },
                                    {
                                        "name": "region"
                                    },
                                    {
                                        "name": "city"
                                    }
                                ]
                            },
                            "data": [
                                {
                                    "rownum": "1",
                                    "country": "UK",
                                    "region": "NULL",
                                    "city": "London"
                                },
                                {
                                    "rownum": "1",
                                    "country": "USA",
                                    "region": "WA",
                                    "city": "Kirkland"
                                },
                                {
                                    "rownum": "1",
                                    "country": "USA",
                                    "region": "WA",
                                    "city": "Seattle"
                                },
                                {
                                    "rownum": "2",
                                    "country": "UK",
                                    "region": "NULL",
                                    "city": "London"
                                },
                                {
                                    "rownum": "3",
                                    "country": "UK",
                                    "region": "NULL",
                                    "city": "London"
                                },
                                {
                                    "rownum": "4",
                                    "country": "UK",
                                    "region": "NULL",
                                    "city": "London"
                                }
                            ]
                        },
                        "text/html": "<table><tr><th>rownum</th><th>country</th><th>region</th><th>city</th></tr><tr><td>1</td><td>UK</td><td>NULL</td><td>London</td></tr><tr><td>1</td><td>USA</td><td>WA</td><td>Kirkland</td></tr><tr><td>1</td><td>USA</td><td>WA</td><td>Seattle</td></tr><tr><td>2</td><td>UK</td><td>NULL</td><td>London</td></tr><tr><td>3</td><td>UK</td><td>NULL</td><td>London</td></tr><tr><td>4</td><td>UK</td><td>NULL</td><td>London</td></tr></table>"
                    },
                    "metadata": {}
                },
                {
                    "output_type": "execute_result",
                    "execution_count": 19,
                    "data": {
                        "application/vnd.dataresource+json": {
                            "schema": {
                                "fields": [
                                    {
                                        "name": "rownum"
                                    },
                                    {
                                        "name": "EmployeeCountry"
                                    },
                                    {
                                        "name": "EmployeeRegion"
                                    },
                                    {
                                        "name": "EmployeeCity"
                                    }
                                ]
                            },
                            "data": [
                                {
                                    "rownum": "1",
                                    "EmployeeCountry": "UK",
                                    "EmployeeRegion": "NULL",
                                    "EmployeeCity": "London"
                                },
                                {
                                    "rownum": "1",
                                    "EmployeeCountry": "USA",
                                    "EmployeeRegion": "WA",
                                    "EmployeeCity": "Kirkland"
                                },
                                {
                                    "rownum": "1",
                                    "EmployeeCountry": "USA",
                                    "EmployeeRegion": "WA",
                                    "EmployeeCity": "Seattle"
                                },
                                {
                                    "rownum": "2",
                                    "EmployeeCountry": "UK",
                                    "EmployeeRegion": "NULL",
                                    "EmployeeCity": "London"
                                },
                                {
                                    "rownum": "3",
                                    "EmployeeCountry": "UK",
                                    "EmployeeRegion": "NULL",
                                    "EmployeeCity": "London"
                                },
                                {
                                    "rownum": "4",
                                    "EmployeeCountry": "UK",
                                    "EmployeeRegion": "NULL",
                                    "EmployeeCity": "London"
                                }
                            ]
                        },
                        "text/html": "<table><tr><th>rownum</th><th>EmployeeCountry</th><th>EmployeeRegion</th><th>EmployeeCity</th></tr><tr><td>1</td><td>UK</td><td>NULL</td><td>London</td></tr><tr><td>1</td><td>USA</td><td>WA</td><td>Kirkland</td></tr><tr><td>1</td><td>USA</td><td>WA</td><td>Seattle</td></tr><tr><td>2</td><td>UK</td><td>NULL</td><td>London</td></tr><tr><td>3</td><td>UK</td><td>NULL</td><td>London</td></tr><tr><td>4</td><td>UK</td><td>NULL</td><td>London</td></tr></table>"
                    },
                    "metadata": {}
                }
            ],
            "execution_count": 19
        },
        {
            "cell_type": "markdown",
            "source": [
                "Explanation: <br>\r\n",
                "We want to return all locations that are both employee locations and customer locations. Since the intersect all operation has not been implemented in T-SQL, we use the ROW_NUMBER function to number the occurances of each row in each input query. With the PARTITION BY clause we specify the country, region, city columns. Using the ORDER BY (SELECT 0) will indicate that order does not matter and we alias this as rownum. We do this for the two queries, one for the data from HR.Employees and the second one for Sales.Customers. We apply the INTERSECT operator between the two queries with the ROW_NUMBER function and since the rows are numbered, the intersection is based on row numbers."
            ],
            "metadata": {
                "language": "sql",
                "azdata_cell_guid": "b842fef4-31cc-482e-b9b5-6c03d488796c"
            },
            "attachments": {}
        },
        {
            "cell_type": "markdown",
            "source": [
                "### **TOP 5**\n",
                "\n",
                "- Return all the intersected country, region, and city values for the table HR.Employees and Sales.Customers\n",
                "- Tables involved: TSQLV6, HR.Employees, Sales.Customers"
            ],
            "metadata": {
                "language": "sql",
                "azdata_cell_guid": "374a8089-4fcf-4992-985e-2f1c04402879"
            },
            "attachments": {}
        },
        {
            "cell_type": "code",
            "source": [
                "USE TSQLV6;\r\n",
                "WITH INTERSECT_ALL\r\n",
                "AS\r\n",
                "(\r\n",
                "  SELECT\r\n",
                "    ROW_NUMBER() \r\n",
                "      OVER(PARTITION BY country, region, city\r\n",
                "           ORDER BY (SELECT 0)) AS rownum,\r\n",
                "    country, region, city\r\n",
                "  FROM HR.Employees\r\n",
                "\r\n",
                "  INTERSECT\r\n",
                "\r\n",
                "  SELECT\r\n",
                "    ROW_NUMBER() \r\n",
                "      OVER(PARTITION BY country, region, city\r\n",
                "           ORDER BY (SELECT 0)),\r\n",
                "    country, region, city\r\n",
                "  FROM Sales.Customers\r\n",
                ")\r\n",
                "SELECT country, region, city\r\n",
                "FROM INTERSECT_ALL;\r\n",
                "\r\n",
                "--------------------------------------------------------------------\r\n",
                "\r\n",
                "USE Northwinds2022TSQLV7;\r\n",
                "WITH INTERSECT_ALL\r\n",
                "AS\r\n",
                "(\r\n",
                "  SELECT\r\n",
                "    ROW_NUMBER() \r\n",
                "      OVER(PARTITION BY EmployeeCountry, EmployeeRegion, EmployeeCity\r\n",
                "           ORDER BY (SELECT 0)) AS rownum,\r\n",
                "    EmployeeCountry, EmployeeRegion, EmployeeCity\r\n",
                "  FROM HumanResources.Employee\r\n",
                "\r\n",
                "  INTERSECT\r\n",
                "\r\n",
                "  SELECT\r\n",
                "    ROW_NUMBER() \r\n",
                "      OVER(PARTITION BY CustomerCountry, CustomerRegion, CustomerCity\r\n",
                "           ORDER BY (SELECT 0)),\r\n",
                "    CustomerCountry, CustomerRegion, CustomerCity\r\n",
                "  FROM Sales.Customer\r\n",
                ")\r\n",
                "SELECT EmployeeCountry, EmployeeRegion, EmployeeCity\r\n",
                "FROM INTERSECT_ALL;"
            ],
            "metadata": {
                "language": "sql",
                "azdata_cell_guid": "d9d4c258-6eba-48a5-bc20-7d685f62e8db"
            },
            "outputs": [
                {
                    "output_type": "display_data",
                    "data": {
                        "text/html": "(6 rows affected)"
                    },
                    "metadata": {}
                },
                {
                    "output_type": "display_data",
                    "data": {
                        "text/html": "(6 rows affected)"
                    },
                    "metadata": {}
                },
                {
                    "output_type": "display_data",
                    "data": {
                        "text/html": "Total execution time: 00:00:00.013"
                    },
                    "metadata": {}
                },
                {
                    "output_type": "execute_result",
                    "execution_count": 20,
                    "data": {
                        "application/vnd.dataresource+json": {
                            "schema": {
                                "fields": [
                                    {
                                        "name": "country"
                                    },
                                    {
                                        "name": "region"
                                    },
                                    {
                                        "name": "city"
                                    }
                                ]
                            },
                            "data": [
                                {
                                    "country": "UK",
                                    "region": "NULL",
                                    "city": "London"
                                },
                                {
                                    "country": "USA",
                                    "region": "WA",
                                    "city": "Kirkland"
                                },
                                {
                                    "country": "USA",
                                    "region": "WA",
                                    "city": "Seattle"
                                },
                                {
                                    "country": "UK",
                                    "region": "NULL",
                                    "city": "London"
                                },
                                {
                                    "country": "UK",
                                    "region": "NULL",
                                    "city": "London"
                                },
                                {
                                    "country": "UK",
                                    "region": "NULL",
                                    "city": "London"
                                }
                            ]
                        },
                        "text/html": "<table><tr><th>country</th><th>region</th><th>city</th></tr><tr><td>UK</td><td>NULL</td><td>London</td></tr><tr><td>USA</td><td>WA</td><td>Kirkland</td></tr><tr><td>USA</td><td>WA</td><td>Seattle</td></tr><tr><td>UK</td><td>NULL</td><td>London</td></tr><tr><td>UK</td><td>NULL</td><td>London</td></tr><tr><td>UK</td><td>NULL</td><td>London</td></tr></table>"
                    },
                    "metadata": {}
                },
                {
                    "output_type": "execute_result",
                    "execution_count": 20,
                    "data": {
                        "application/vnd.dataresource+json": {
                            "schema": {
                                "fields": [
                                    {
                                        "name": "EmployeeCountry"
                                    },
                                    {
                                        "name": "EmployeeRegion"
                                    },
                                    {
                                        "name": "EmployeeCity"
                                    }
                                ]
                            },
                            "data": [
                                {
                                    "EmployeeCountry": "UK",
                                    "EmployeeRegion": "NULL",
                                    "EmployeeCity": "London"
                                },
                                {
                                    "EmployeeCountry": "USA",
                                    "EmployeeRegion": "WA",
                                    "EmployeeCity": "Kirkland"
                                },
                                {
                                    "EmployeeCountry": "USA",
                                    "EmployeeRegion": "WA",
                                    "EmployeeCity": "Seattle"
                                },
                                {
                                    "EmployeeCountry": "UK",
                                    "EmployeeRegion": "NULL",
                                    "EmployeeCity": "London"
                                },
                                {
                                    "EmployeeCountry": "UK",
                                    "EmployeeRegion": "NULL",
                                    "EmployeeCity": "London"
                                },
                                {
                                    "EmployeeCountry": "UK",
                                    "EmployeeRegion": "NULL",
                                    "EmployeeCity": "London"
                                }
                            ]
                        },
                        "text/html": "<table><tr><th>EmployeeCountry</th><th>EmployeeRegion</th><th>EmployeeCity</th></tr><tr><td>UK</td><td>NULL</td><td>London</td></tr><tr><td>USA</td><td>WA</td><td>Kirkland</td></tr><tr><td>USA</td><td>WA</td><td>Seattle</td></tr><tr><td>UK</td><td>NULL</td><td>London</td></tr><tr><td>UK</td><td>NULL</td><td>London</td></tr><tr><td>UK</td><td>NULL</td><td>London</td></tr></table>"
                    },
                    "metadata": {}
                }
            ],
            "execution_count": 20
        },
        {
            "cell_type": "markdown",
            "source": [
                "Explanation: <br>\r\n",
                "We want to return all locations that are both employee locations and customer locations. Since the intersect all operator is not supposed to return any row numbers, to exclude rownum we define a table expression. We define this table expression with WITH clause and name this temporary table INTERSECT_ALL. Inside this table expression we do the same as from previous question. We use the ROW_NUMBER function to number the occurances of each row in each input query. With the PARTITION BY clause we specify the country, region, city columns. Using the ORDER BY (SELECT 0) will indicate that order does not matter and we alias this as rownum. We do this for the two queries, one for the data from HR.Employees and the second one for Sales.Customers. We apply the INTERSECT operator between the two queries with the ROW_NUMBER function and since the rows are numbered, the intersection is based on row numbers. In the outer query we select attributes we want to return which are country, region, and city from INTERSECT_ALL."
            ],
            "metadata": {
                "language": "sql",
                "azdata_cell_guid": "e6d966b6-b6a6-4494-a2f9-2e9b024d2f55"
            },
            "attachments": {}
        }
    ]
}