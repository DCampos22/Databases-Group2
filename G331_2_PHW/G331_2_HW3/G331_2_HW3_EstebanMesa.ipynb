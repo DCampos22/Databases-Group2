{
    "metadata": {
        "kernelspec": {
            "name": "SQL",
            "display_name": "SQL",
            "language": "sql"
        },
        "language_info": {
            "name": "sql",
            "version": ""
        }
    },
    "nbformat_minor": 2,
    "nbformat": 4,
    "cells": [
        {
            "cell_type": "markdown",
            "source": [
                "## Esteban Mesa HW3: Chapter 4 & 5"
            ],
            "metadata": {
                "language": "sql",
                "azdata_cell_guid": "36b75151-7f4b-4acb-828e-67e6eb218847"
            },
            "attachments": {}
        },
        {
            "cell_type": "markdown",
            "source": [
                "Top 5 Queries:"
            ],
            "metadata": {
                "language": "sql",
                "azdata_cell_guid": "ef16832d-896a-4f78-9cfe-ecd7ccaf1339"
            },
            "attachments": {}
        },
        {
            "cell_type": "markdown",
            "source": [
                "### TOP 1 - Chapter 4: Exercise 6\n",
                "\n",
                "- Write a query that returns customers who placed orders in 2015 but not in 2016:\n",
                "- Tables involved: Sales.Customers and Sales.Orders\n",
                "\n",
                "\n",
                "- EXPECTED OUTPUT:\n",
                "| custid | companyname  |\n",
                "|--------|--------------|\n",
                "| 21     | Customer KIDPX |\n",
                "| 23     | Customer F    |\n",
                "| 33     | Customer FVXPQ |\n",
                "| 36     | Customer LVJSO |\n",
                "| 43     | Customer UISOJ |\n",
                "| 51     | Customer PVDZC |\n",
                "| 85     | Customer ENQZT |\n",
                ""
            ],
            "metadata": {
                "language": "sql",
                "azdata_cell_guid": "fc27c98d-ee30-4a65-ba1e-0cc610981b39"
            },
            "attachments": {}
        },
        {
            "cell_type": "code",
            "source": [
                "USE TSQLV4\n",
                "SELECT DISTINCT C.custid, C.companyname\n",
                "FROM Sales.Customers AS C\n",
                "JOIN Sales.Orders AS O ON C.custid = O.custid\n",
                "WHERE YEAR(O.orderdate) = 2015\n",
                "AND C.custid NOT IN (\n",
                "    SELECT O2.custid\n",
                "    FROM Sales.Orders AS O2\n",
                "    WHERE YEAR(O2.orderdate) = 2016\n",
                ")\n",
                "ORDER BY C.custid;\n",
                "\n",
                "USE Northwinds2022TSQLV7\n",
                "SELECT DISTINCT C.CustomerId, C.CustomerCompanyName\n",
                "FROM Sales.Customer AS C\n",
                "JOIN Sales.[Order] AS O ON C.CustomerId = O.CustomerId\n",
                "WHERE YEAR(O.orderdate) = 2015\n",
                "AND C.CustomerId NOT IN (\n",
                "    SELECT O2.CustomerId\n",
                "    FROM Sales.[Order] AS O2\n",
                "    WHERE YEAR(O2.orderdate) = 2016\n",
                ")\n",
                "ORDER BY C.CustomerId;\n",
                "\n",
                ""
            ],
            "metadata": {
                "language": "sql",
                "azdata_cell_guid": "3519a3df-f07a-484a-ac37-3f86bd3dcec9",
                "tags": []
            },
            "outputs": [],
            "execution_count": null
        },
        {
            "cell_type": "markdown",
            "source": [
                "Explanation: This query identifies customers who were active in 2015 but had no orders in 2016. It starts by connecting customer information in the Sales.Customers table with their order history in the Sales.Orders table.  Next, it focuses on orders specifically from the year 2015.  Then, using a clever subquery, it finds all customers who did place orders in 2016 within the Sales.Orders table and filters the main results to exclude those customers. Finally, it presents a list of distinct customer IDs and company names from the Sales.Customers table, ordered by customer ID."
            ],
            "metadata": {
                "language": "sql",
                "azdata_cell_guid": "f2eae8fa-107f-45f6-b9f0-9e4a88fe38d1"
            },
            "attachments": {}
        },
        {
            "cell_type": "markdown",
            "source": [
                "### TOP 2 - Chapter 5: Exercise 4\n",
                "\n",
                "- Write a solution using a recursive CTE that returns the management chain leading to Patricia Doyle (employee ID 9):\n",
                "- Table involved: HR.Employees\n",
                "\n",
                "EXPECTED OUTPUT:\n",
                "|empid|mgrid|firstname|lastname|\n",
                "|---|---|---|---|\n",
                "|9|5|Patricia|Doyle|\n",
                "|5|2|Sven|Mortensen|\n",
                "|2|1|Don|Funk|\n",
                "|1|NULL|Sara|Davis|\n",
                ""
            ],
            "metadata": {
                "language": "sql",
                "azdata_cell_guid": "08b558a5-0eba-49c5-aaf7-7b157de4db4f"
            },
            "attachments": {}
        },
        {
            "cell_type": "code",
            "source": [
                "USE TSQLV4;\n",
                "GO\n",
                "\n",
                "WITH RecursiveManagementChain AS (\n",
                "    SELECT empid, mgrid, firstname, lastname\n",
                "    FROM HR.Employees\n",
                "    WHERE empid = 9\n",
                "    UNION ALL\n",
                "    SELECT e.empid, e.mgrid, e.firstname, e.lastname\n",
                "    FROM HR.Employees e\n",
                "    INNER JOIN RecursiveManagementChain rmc ON e.empid = rmc.mgrid\n",
                ")\n",
                "SELECT * FROM RecursiveManagementChain;\n",
                "\n",
                "USE Northwinds2022TSQLV7;\n",
                "GO\n",
                "\n",
                "WITH RecursiveManagementChain AS (\n",
                "    SELECT EmployeeId, EmployeeManagerId, EmployeeFirstName, EmployeeLastName\n",
                "    FROM HumanResources.Employee\n",
                "    WHERE EmployeeId = 9\n",
                "    UNION ALL\n",
                "    SELECT e.EmployeeId, e.EmployeeManagerId, e.EmployeeFirstName, e.EmployeeLastName\n",
                "    FROM HumanResources.Employee e\n",
                "    INNER JOIN RecursiveManagementChain rmc ON e.EmployeeId = rmc.EmployeeManagerId\n",
                ")\n",
                "SELECT * FROM RecursiveManagementChain;\n",
                "\n",
                ""
            ],
            "metadata": {
                "language": "sql",
                "azdata_cell_guid": "2517009f-4fab-40c1-9da1-7b569b902931",
                "tags": []
            },
            "outputs": [],
            "execution_count": null
        },
        {
            "cell_type": "markdown",
            "source": [
                "Explanation: So basically, this query creates a hierarchical management chain starting from a specific employee, identified as Patricia Doyle with an employee ID of 9, and traces upwards through the organizational structure to the topmost manager. Utilizing a recursive Common Table Expression (CTE), it first selects Patricia Doyle's record from the HumanResources.Employee table, capturing essential details like the employee ID and name. The recursion then progressively joins each employee to their direct manager using the employee-managers relationship, effectively climbing the management ladder. This iterative process continues until it reaches the apex of the hierarchy, where a manager does not report to anyone else. The final output is a sequenced list that outlines the entire management chain from Patricia Doyle to the organization's highest authority, illustrating the direct and indirect reporting lines within the company. "
            ],
            "metadata": {
                "language": "sql",
                "azdata_cell_guid": "712ab9cd-5179-44a0-bc5b-a55b1d4927c2"
            },
            "attachments": {}
        },
        {
            "cell_type": "markdown",
            "source": [
                "## PROPOSITIONS:"
            ],
            "metadata": {
                "language": "sql",
                "azdata_cell_guid": "e712a098-6a2d-4fe5-a5b8-f153dd8ab222"
            },
            "attachments": {}
        },
        {
            "cell_type": "markdown",
            "source": [
                "### TOP 3 - Chapter 4.Q1\n",
                "- Proposition: Retrieve order IDs for employees whose last name starts with 'D'.\n",
                "- Use Table: Sales.Orders and HR.Employees"
            ],
            "metadata": {
                "language": "sql",
                "azdata_cell_guid": "466f2f29-11c1-4f16-9d20-65babe0199ad"
            },
            "attachments": {}
        },
        {
            "cell_type": "code",
            "source": [
                "--USE TSQLV4\n",
                "--SELECT orderid\n",
                "--FROM Sales.Orders\n",
                "--WHERE empid IN\n",
                "--  (SELECT E.empid\n",
                "--   FROM HR.Employees AS E\n",
                "--   WHERE E.lastname LIKE N'D%');\n",
                "--GO\n",
                "\n",
                "USE Northwinds2022TSQLV7;\n",
                "SELECT OrderId\n",
                "FROM Sales.[Order]\n",
                "WHERE EmployeeID IN\n",
                "  (SELECT E.EmployeeID\n",
                "   FROM HumanResources.Employee AS E\n",
                "   WHERE E.EmployeeLastName LIKE N'D%'); \n",
                "GO\n",
                "\n",
                ""
            ],
            "metadata": {
                "language": "sql",
                "azdata_cell_guid": "d4318f58-b49c-4962-94cf-04765bb2f51b",
                "tags": []
            },
            "outputs": [],
            "execution_count": null
        },
        {
            "cell_type": "markdown",
            "source": [
                "- Explanation: This query selects all order IDs from the \"Sales.Orders\" table where the corresponding employee ID matches an employee whose last name begins with the letter 'D' in the \"HR.Employees\" table."
            ],
            "metadata": {
                "language": "sql",
                "azdata_cell_guid": "7e2d6b53-781c-4b5d-b370-1093b6f83a96"
            },
            "attachments": {}
        },
        {
            "cell_type": "markdown",
            "source": [
                "### TOP 4 - Chapter 4.Q2:\n",
                "- Proposition: List customers without orders.\n",
                "- Use Table: Sales.Customers and Sales.Orders"
            ],
            "metadata": {
                "language": "sql",
                "azdata_cell_guid": "5f8ba1f1-1495-49ed-b2c2-25b5255c0041"
            },
            "attachments": {}
        },
        {
            "cell_type": "code",
            "source": [
                "-- Following returns an empty set\n",
                "--USE TSQLV4\n",
                "--SELECT custid, companyname\n",
                "--FROM Sales.Customers\n",
                "--WHERE custid NOT IN(SELECT O.custid\n",
                "--                    FROM Sales.Orders AS O);\n",
                "\n",
                "\n",
                "USE Northwinds2022TSQLV7\n",
                "SELECT CustomerId, CustomerCompanyName\n",
                "FROM Sales.[Customer]\n",
                "WHERE CustomerId NOT IN(SELECT O.CustomerId\n",
                "                    FROM Sales.[order] AS O);"
            ],
            "metadata": {
                "language": "sql",
                "azdata_cell_guid": "971dc4bb-28c6-41c0-ad96-473d51b990f4",
                "tags": []
            },
            "outputs": [],
            "execution_count": null
        },
        {
            "cell_type": "markdown",
            "source": [
                "- Explanation: This query fetches customer IDs and company names from the \"Sales.Customers\" table for those customers who have not placed any orders, as indicated by the absence of their customer ID in the \"Sales.Orders\" table."
            ],
            "metadata": {
                "language": "sql",
                "azdata_cell_guid": "ef32f72b-1904-485e-b4de-b2fbeab0362c"
            },
            "attachments": {}
        },
        {
            "cell_type": "markdown",
            "source": [
                "### TOP 5 - Chapter 4.Q3\n",
                "- Proposition: Calculate the percentage of each order's value to the total orders per customer.\n",
                "- Use Table: Sales.OrderValues"
            ],
            "metadata": {
                "language": "sql",
                "azdata_cell_guid": "ef3b524e-7e45-4877-920e-3eaf6bccf85d"
            },
            "attachments": {}
        },
        {
            "cell_type": "code",
            "source": [
                "-- Percentage of customer total\n",
                "--USE TSQLV4\n",
                "--GO\n",
                "--SELECT orderid, custid, val,\n",
                "--  CAST(100. * val / (SELECT SUM(O2.val)\n",
                "--                     FROM Sales.OrderValues AS O2\n",
                "--                     WHERE O2.custid = O1.custid)\n",
                "--       AS NUMERIC(5,2)) AS pct\n",
                "--FROM Sales.OrderValues AS O1\n",
                "--ORDER BY custid, orderid;\n",
                "\n",
                "-------------------------------\n",
                "USE Northwinds2022TSQLV7;\n",
                "GO\n",
                "WITH OrderValues AS (\n",
                "    SELECT \n",
                "        od.OrderId, \n",
                "        o.CustomerId, \n",
                "        SUM(od.UnitPrice * od.Quantity * (1 - od.DiscountPercentage / 100.0)) AS val\n",
                "    FROM \n",
                "        Sales.[OrderDetail] od\n",
                "    JOIN \n",
                "        Sales.[Order] o ON od.OrderId = o.OrderId\n",
                "    GROUP BY \n",
                "        od.OrderId, \n",
                "        o.CustomerId\n",
                ")\n",
                "SELECT \n",
                "    O1.OrderId, \n",
                "    O1.CustomerId, \n",
                "    CAST(100.0 * O1.val / (SELECT SUM(O2.val)\n",
                "                           FROM OrderValues AS O2\n",
                "                           WHERE O2.CustomerId = O1.CustomerId)\n",
                "         AS NUMERIC(5,2)) AS pct\n",
                "FROM \n",
                "    OrderValues AS O1\n",
                "ORDER BY \n",
                "    O1.CustomerId, O1.OrderId;\n",
                ""
            ],
            "metadata": {
                "language": "sql",
                "azdata_cell_guid": "9d2c9ec9-add1-4342-8bfb-1f68acff9664",
                "tags": []
            },
            "outputs": [],
            "execution_count": null
        },
        {
            "cell_type": "markdown",
            "source": [
                "Explanation: This query selects order IDs, customer IDs, and the value of each order as a percentage of the total value of all orders placed by the same customer, formatted as a numeric value with two decimal places."
            ],
            "metadata": {
                "language": "sql",
                "azdata_cell_guid": "f34644b2-4aac-4048-bb83-55718eaec6ea"
            },
            "attachments": {}
        },
        {
            "cell_type": "markdown",
            "source": [
                "Chapter 4.Q4:\n",
                "- Proposition: Display yearly order quantities and running totals.\n",
                "- Use Table: Sales.OrderTotalsByYear"
            ],
            "metadata": {
                "language": "sql",
                "azdata_cell_guid": "065f04c4-5992-490e-9adf-83be894408d7"
            },
            "attachments": {}
        },
        {
            "cell_type": "code",
            "source": [
                "--USE TSQLV4\n",
                "--SELECT orderyear, qty\n",
                "--FROM Sales.OrderTotalsByYear;\n",
                "\n",
                "--SELECT orderyear, qty,\n",
                "--  (SELECT SUM(O2.qty)\n",
                "--   FROM Sales.OrderTotalsByYear AS O2\n",
                "--   WHERE O2.orderyear <= O1.orderyear) AS runqty\n",
                "--FROM Sales.OrderTotalsByYear AS O1\n",
                "--ORDER BY orderyear;\n",
                "\n",
                "USE Northwinds2022TSQLV7;\n",
                "GO\n",
                "WITH YearlyOrderCounts AS (\n",
                "    SELECT \n",
                "        YEAR(OrderDate) AS OrderYear, \n",
                "        COUNT(*) AS Qty\n",
                "    FROM \n",
                "        Sales.[Order]\n",
                "    GROUP BY \n",
                "        YEAR(OrderDate)\n",
                ")\n",
                "SELECT \n",
                "    OrderYear, \n",
                "    Qty\n",
                "FROM \n",
                "    YearlyOrderCounts\n",
                "ORDER BY \n",
                "    OrderYear;\n",
                "WITH YearlyOrderCounts AS (\n",
                "    SELECT \n",
                "        YEAR(OrderDate) AS OrderYear, \n",
                "        COUNT(*) AS Qty\n",
                "    FROM \n",
                "        Sales.[Order]\n",
                "    GROUP BY \n",
                "        YEAR(OrderDate)\n",
                "),\n",
                "RunningOrderTotals AS (\n",
                "    SELECT \n",
                "        Y.OrderYear,\n",
                "        Y.Qty,\n",
                "        (SELECT SUM(Y2.Qty) FROM YearlyOrderCounts AS Y2 WHERE Y2.OrderYear <= Y.OrderYear) AS RunQty\n",
                "    FROM \n",
                "        YearlyOrderCounts AS Y\n",
                ")\n",
                "SELECT \n",
                "    OrderYear, \n",
                "    Qty,\n",
                "    RunQty\n",
                "FROM \n",
                "    RunningOrderTotals\n",
                "ORDER BY \n",
                "    OrderYear;\n",
                "\n",
                "\n",
                ""
            ],
            "metadata": {
                "language": "sql",
                "azdata_cell_guid": "c57359ce-7a49-4a85-b58e-22d8c28f1076",
                "tags": []
            },
            "outputs": [],
            "execution_count": null
        },
        {
            "cell_type": "markdown",
            "source": [
                "- Explanation: This set of queries first selects the total quantity of orders per year and then, for each year, calculates the cumulative sum (running total) of orders up to and including that year."
            ],
            "metadata": {
                "language": "sql",
                "azdata_cell_guid": "61c2c374-447f-4352-bbaa-0c2919feec74"
            },
            "attachments": {}
        },
        {
            "cell_type": "markdown",
            "source": [
                "Chapter 4.Q5:\n",
                "- Proposition: Create and populate the 'MyShippers' table.\n",
                "- Use Table: Creating and populating Sales.MyShippers"
            ],
            "metadata": {
                "language": "sql",
                "azdata_cell_guid": "cdc2e1a7-f618-44ea-afb0-4348c2354755"
            },
            "attachments": {}
        },
        {
            "cell_type": "code",
            "source": [
                "-- Create and populate table Sales.MyShippers\n",
                "--USE TSQLV4\n",
                "--DROP TABLE IF EXISTS Sales.MyShippers;\n",
                "\n",
                "--CREATE TABLE Sales.MyShippers\n",
                "--(\n",
                "--  shipper_id  INT          NOT NULL,\n",
                "--  companyname NVARCHAR(40) NOT NULL,\n",
                "--  phone       NVARCHAR(24) NOT NULL,\n",
                "--  CONSTRAINT PK_MyShippers PRIMARY KEY(shipper_id)\n",
                "--);\n",
                "\n",
                "--INSERT INTO Sales.MyShippers(shipper_id, companyname, phone)\n",
                "--  VALUES(1, N'Shipper GVSUA', N'(503) 555-0137'),\n",
                "--          (2, N'Shipper ETYNR', N'(425) 555-0136'),\n",
                "--                (3, N'Shipper ZHISN', N'(415) 555-0138');\n",
                "\n",
                "USE Northwinds2022TSQLV7;\n",
                "GO\n",
                "\n",
                "DROP TABLE IF EXISTS Sales.MyShippers;\n",
                "GO\n",
                "\n",
                "CREATE TABLE Sales.MyShippers\n",
                "(\n",
                "  shipper_id  INT          NOT NULL,\n",
                "  companyname NVARCHAR(40) NOT NULL,\n",
                "  phone       NVARCHAR(24) NOT NULL,\n",
                "  CONSTRAINT PK_MyShippers PRIMARY KEY(shipper_id)\n",
                ");\n",
                "GO\n",
                "\n",
                "INSERT INTO Sales.MyShippers(shipper_id, companyname, phone)\n",
                "VALUES\n",
                "  (1, N'Shipper GVSUA', N'(503) 555-0137'),\n",
                "  (2, N'Shipper ETYNR', N'(425) 555-0136'),\n",
                "  (3, N'Shipper ZHISN', N'(415) 555-0138');\n",
                "GO\n",
                "\n",
                "\n",
                ""
            ],
            "metadata": {
                "language": "sql",
                "azdata_cell_guid": "69c840b7-4afc-4058-aa70-c246621dd748",
                "tags": []
            },
            "outputs": [],
            "execution_count": null
        },
        {
            "cell_type": "markdown",
            "source": [
                "- Explanation: This query drops the \"Sales.MyShippers\" table if it exists, creates a new one, and inserts three records into it, defining columns for shipper ID, company name, and phone number."
            ],
            "metadata": {
                "language": "sql",
                "azdata_cell_guid": "8c849438-e0ed-484b-ab95-be277763c6bf"
            },
            "attachments": {}
        },
        {
            "cell_type": "markdown",
            "source": [
                "Chapter 5.Q1\n",
                "- Proposition: Get the three most recent orders for each customer.\n",
                "- Use Table: Sales.Customers and Sales.Orders with OUTER APPLY"
            ],
            "metadata": {
                "language": "sql",
                "azdata_cell_guid": "c8f10845-ba4f-4a5a-a3d6-79886af75985"
            },
            "attachments": {}
        },
        {
            "cell_type": "code",
            "source": [
                "-- 3 most recent orders for each customer, preserve customers\n",
                "--USE TSQLV4\n",
                "--SELECT C.custid, A.orderid, A.orderdate\n",
                "--FROM Sales.Customers AS C\n",
                "--  OUTER APPLY\n",
                "--    (SELECT TOP (3) orderid, empid, orderdate, requireddate \n",
                "--     FROM Sales.Orders AS O\n",
                "--     WHERE O.custid = C.custid\n",
                "--     ORDER BY orderdate DESC, orderid DESC) AS A;\n",
                "\n",
                "USE Northwinds2022TSQLV7\n",
                "SELECT C.CustomerId, A.OrderId, A.OrderDate\n",
                "FROM Sales.[Customer] AS C\n",
                "  OUTER APPLY\n",
                "    (SELECT TOP (3) OrderId, employeeId, OrderDate, RequiredDate\n",
                "     FROM Sales.[Order] AS O\n",
                "     WHERE O.CustomerId = C.CustomerId\n",
                "     ORDER BY OrderDate DESC, OrderId DESC) AS A;"
            ],
            "metadata": {
                "language": "sql",
                "azdata_cell_guid": "407a1222-d6d9-4813-9e7b-df95ede39a08",
                "tags": []
            },
            "outputs": [],
            "execution_count": null
        },
        {
            "cell_type": "markdown",
            "source": [
                "- Explanation: This query employs an OUTER APPLY to retrieve the top three most recent orders for each customer from the \"Sales.Orders\" table, ensuring even customers without orders are listed."
            ],
            "metadata": {
                "language": "sql",
                "azdata_cell_guid": "7932595e-8b39-4844-a692-8150aea1e61a"
            },
            "attachments": {}
        },
        {
            "cell_type": "markdown",
            "source": [
                "Chapter 5.Q2:\n",
                "- Proposition: Generate a cross-product of shippers and employees.\n",
                "- Use Table: Sales.Shippers and HR.Employees with CROSS APPLY"
            ],
            "metadata": {
                "language": "sql",
                "azdata_cell_guid": "3b832777-cb37-4688-a382-0f224cc1a001"
            },
            "attachments": {}
        },
        {
            "cell_type": "code",
            "source": [
                "--USE TSQLV4\n",
                "--SELECT S.shipperid, E.empid FROM Sales.Shippers AS S CROSS APPLY HR.Employees AS E;\n",
                "\n",
                "USE Northwinds2022TSQLV7\n",
                "SELECT S.ShipperId, E.EmployeeId FROM Sales.[Shipper] AS S CROSS APPLY HumanResources.Employee AS E;"
            ],
            "metadata": {
                "language": "sql",
                "azdata_cell_guid": "8340a0c8-73fd-490c-a3d1-bc53dc9717f5",
                "tags": []
            },
            "outputs": [],
            "execution_count": null
        },
        {
            "cell_type": "markdown",
            "source": [
                "- Explanation: This query uses CROSS APPLY to combine each shipper with each employee, resulting in a table that pairs every shipper with every employee."
            ],
            "metadata": {
                "language": "sql",
                "azdata_cell_guid": "25456bdd-8e4d-4f8c-944a-b0d9938f9fe1"
            },
            "attachments": {}
        },
        {
            "cell_type": "markdown",
            "source": [
                "Chapter 5.Q3\n",
                "- Proposition: Create a view for USA customers and test schema changes.\n",
                "- Use Table: Creating view Sales.USACusts based on Sales.Customers"
            ],
            "metadata": {
                "language": "sql",
                "azdata_cell_guid": "056a7706-0a0f-42e3-919d-f152006a5690"
            },
            "attachments": {}
        },
        {
            "cell_type": "code",
            "source": [
                "--USE TSQLV4\n",
                "--GO\n",
                "--ALTER VIEW Sales.USACusts\n",
                "--WITH SCHEMABINDING\n",
                "--AS\n",
                "--SELECT custid, companyname, contactname, contacttitle, address, city, region, postalcode, country, phone, fax\n",
                "--FROM Sales.Customers\n",
                "--WHERE country = N'USA';\n",
                "--GO\n",
                "\n",
                "USE Northwinds2022TSQLV7;\n",
                "GO\n",
                "ALTER VIEW Sales.[USACusts]\n",
                "WITH SCHEMABINDING\n",
                "AS\n",
                "SELECT \n",
                "    CustomerID, \n",
                "    CustomerCompanyName, \n",
                "    CustomerContactName, \n",
                "    CustomerAddress, \n",
                "    CustomerCity, \n",
                "    CustomerRegion, \n",
                "    CustomerPostalCode, \n",
                "    CustomerCountry, \n",
                "    CustomerPhoneNumber, \n",
                "    CustomerFaxNumber\n",
                "FROM \n",
                "    Sales.[Customer]\n",
                "WHERE \n",
                "    CustomerCountry = N'USA';\n",
                "GO"
            ],
            "metadata": {
                "language": "sql",
                "azdata_cell_guid": "cda43859-81b1-4bcf-8325-a305de7971c7",
                "tags": []
            },
            "outputs": [],
            "execution_count": null
        },
        {
            "cell_type": "markdown",
            "source": [
                "- Explanation: This query creates a view named \"Sales.USACusts\" that includes customers from the USA and attempts to make a schema change to the \"Sales.Customers\" table by dropping the 'address' column (commented out)."
            ],
            "metadata": {
                "language": "sql",
                "azdata_cell_guid": "d818a235-3a8c-48bc-8f82-b172f241b1f7"
            },
            "attachments": {}
        },
        {
            "cell_type": "markdown",
            "source": [
                "Chapter 5.Q4\n",
                "- Proposition: Count unique customers per year.\n",
                "- Use Table: Sales.Orders"
            ],
            "metadata": {
                "language": "sql",
                "azdata_cell_guid": "9369a4a0-202d-4c42-af60-b7760cb0e044"
            },
            "attachments": {}
        },
        {
            "cell_type": "code",
            "source": [
                "--USE TSQLV4\n",
                "--GO\n",
                "--WITH C AS ( SELECT YEAR(orderdate) AS orderyear, custid FROM Sales.Orders ) \n",
                "--SELECT orderyear, COUNT(DISTINCT custid) AS numcusts \n",
                "--FROM C GROUP BY orderyear;\n",
                "--GO\n",
                "USE Northwinds2022TSQLV7\n",
                "GO\n",
                "WITH C AS ( SELECT YEAR(OrderDate) AS orderyear, CustomerId FROM Sales.[Order] ) \n",
                "SELECT orderyear, COUNT(DISTINCT CustomerId) AS NumCusts\n",
                "FROM C GROUP BY orderyear;\n",
                "GO"
            ],
            "metadata": {
                "language": "sql",
                "azdata_cell_guid": "64d31f13-f4cb-49f7-80c9-75153eb508dc",
                "tags": []
            },
            "outputs": [],
            "execution_count": null
        },
        {
            "cell_type": "markdown",
            "source": [
                "- Explanation: This query calculates the number of distinct customers for each year based on the order date from the \"Sales.Orders\" table, grouping the results by year."
            ],
            "metadata": {
                "language": "sql",
                "azdata_cell_guid": "2e69021e-e89f-48ca-a77c-a9f899c1859e"
            },
            "attachments": {}
        },
        {
            "cell_type": "markdown",
            "source": [
                "Chapter 5.Q5\n",
                "- Proposition: Select USA customers using a subquery.\n",
                "- Use Table: Sales.Customers"
            ],
            "metadata": {
                "language": "sql",
                "azdata_cell_guid": "6d10123a-1949-449c-8fc0-1f8f3f3b22cb"
            },
            "attachments": {}
        },
        {
            "cell_type": "code",
            "source": [
                "--USE TSQLV4\n",
                "--SELECT * FROM (SELECT custid, companyname FROM Sales.Customers WHERE country = N'USA') AS USACusts;\n",
                "\n",
                "USE Northwinds2022TSQLV7\n",
                "SELECT * FROM (SELECT CustomerId, CustomerCompanyName FROM Sales.[Customer] WHERE CustomerCountry = N'USA') AS USACusts;\n",
                ""
            ],
            "metadata": {
                "language": "sql",
                "azdata_cell_guid": "26217877-8493-449e-81f4-1447388cba4f",
                "tags": []
            },
            "outputs": [],
            "execution_count": null
        },
        {
            "cell_type": "markdown",
            "source": [
                "- Explanation: This query selects all customers from the \"Sales.Customers\" table who are located in the USA, using a subquery to create a temporary table named \"USACusts\" containing their customer ID and company name."
            ],
            "metadata": {
                "language": "sql",
                "azdata_cell_guid": "b51fa2db-472b-4118-a2a2-b7aa85a9faf0"
            },
            "attachments": {}
        }
    ]
}