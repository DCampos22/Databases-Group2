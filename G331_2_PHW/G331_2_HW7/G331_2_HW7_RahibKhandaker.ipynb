{
    "metadata": {
        "kernelspec": {
            "name": "SQL",
            "display_name": "SQL",
            "language": "sql"
        },
        "language_info": {
            "name": "sql",
            "version": ""
        }
    },
    "nbformat_minor": 2,
    "nbformat": 4,
    "cells": [
        {
            "cell_type": "markdown",
            "source": [
                "# Top 5 Queries"
            ],
            "metadata": {
                "azdata_cell_guid": "829de135-60e0-4539-9b94-2cba3771dc89"
            },
            "attachments": {}
        },
        {
            "cell_type": "markdown",
            "source": [
                "# Top 1 - Chapter 7 Exercise 1\n",
                "- Write a query against the dbo.Orders table that computes for each  customer order, both a rank and a dense rank, partitioned by custid, ordered by qty \n",
                "- Tables Involved: Sales.Order(Substituted with the new table created in the chapter)\n",
                "\n",
                "Desired output:\n",
                "custid |orderid    | qty         |rnk                  |drnk\n",
                "------ |----------- |-----------| -------------------- |--------------------\n",
                "A      |30001   |    10      |    1                    |1\n",
                "A  |    40005   |    10      |    1                    |1\n",
                "A   |   10001   |    12      |    3                    |2\n",
                "A   |   40001   |    40      |    4                    |3\n",
                "B    |  20001   |    12      |    1                    |1\n",
                "B     | 30003   |    15      |    2                    |2\n",
                "B      |10005   |    20      |    3                    |3\n",
                "C     | 10006   |    14      |    1                    |1\n",
                "C      |20002   |    20      |    2                    |2\n",
                "C      |30004   |    22      |    3                    |3\n",
                "D      |30007   |    30      |    1                    |1"
            ],
            "metadata": {
                "azdata_cell_guid": "269061ba-6d09-44f1-8a80-57126ca56394"
            },
            "attachments": {}
        },
        {
            "cell_type": "code",
            "source": [
                "use Northwinds2022TSQLV7\n",
                "select custid, orderid, qty, \n",
                "rank() over (partition by custid order by qty) as rnk, \n",
                "DENSE_RANK() over (partition by custid order by qty) as drnk \n",
                "from dbo.Orders"
            ],
            "metadata": {
                "azdata_cell_guid": "9c30440a-7077-433b-baf1-70a8bf045b53",
                "language": "sql",
                "tags": []
            },
            "outputs": [],
            "execution_count": null
        },
        {
            "cell_type": "markdown",
            "source": [
                "### Explanation:\n",
                "\n",
                "The proposition is asking us to use the dbo.orders table that we created earlier in the chapter. I placed the new table inside the northwinds database to have consistency. I select the custid, orderid, and qty from that table. The proposition outlines the necesities for rank and denserank using the partition by clause on the custid and ordered by the qty for both columns. The rank represents how many different orders have a larger quantity while the dense rank column represents the number of orders with a distinct value larger than current row's qty value. For both columns they add one becuase it shows the rank of each row starting from 1."
            ],
            "metadata": {
                "language": "sql",
                "azdata_cell_guid": "2586efed-4bb6-482f-9ff4-7017819d509c"
            },
            "attachments": {}
        },
        {
            "cell_type": "markdown",
            "source": [
                "# Top 2 - Chapter 7 Exercise 2\n",
                "\n",
                "- The following query against the Sales.OrderValues view returns distinct values and their associated row numbers\n",
                "\n",
                "```\n",
                "SELECT val, ROW_NUMBER() OVER(ORDER BY val) AS rownum\n",
                "FROM Sales.OrderValues\n",
                "GROUP BY val;\n",
                "```\n",
                "\n",
                "- Can you think of an alternative way to achieve the same task?\n",
                "\n",
                "Tables involved: Sales.OrderValues view\n",
                "\n",
                "\\-- Desired output:\n",
                "\n",
                "| val | rownum |\n",
                "| --- | --- |\n",
                "| 12.50 | 1 |\n",
                "| 18.40 | 2 |\n",
                "| 23.80 | 3 |\n",
                "| 28.00 | 4 |\n",
                "| 30.00 | 5 |\n",
                "| 33.75 | 6 |\n",
                "| 36.00 | 7 |\n",
                "| 40.00 | 8 |\n",
                "| 45.00 | 9 |\n",
                "| 48.00 | 10 |\n",
                "| ... |  |\n",
                "| 12615.05 | 793 |\n",
                "| 15810.00 | 794 |\n",
                "| 16387.50 | 795 |\n",
                "\n",
                "(795 row(s) affected)"
            ],
            "metadata": {
                "azdata_cell_guid": "0fafcc0f-0526-44cf-b8ad-061398610b41"
            },
            "attachments": {}
        },
        {
            "cell_type": "code",
            "source": [
                "use TSQLV6\n",
                ";WITH temp AS\n",
                "(SELECT distinct val FROM Sales.OrderValues)\n",
                "SELECT val, ROW_NUMBER() OVER(ORDER BY val) AS rownum\n",
                "FROM temp;"
            ],
            "metadata": {
                "azdata_cell_guid": "2ad7005a-9895-4208-8eb2-8b9f86e8144f",
                "language": "sql"
            },
            "outputs": [],
            "execution_count": null
        },
        {
            "cell_type": "markdown",
            "source": [
                "### Explanation:\n",
                "\n",
                "The proposition is asking us to find an alternative way to achieve the distinct value and the row number they are in the table output. The example query uses a group by to get the distinct values so the alternative way I used was using the distinct operator to get the unique values in the val column of the view. and putting that into a cte so that we can represent the val columns as just the unique values. I select the vals from the cte and the row number on the over clause gets the row number for each value to get the desired output in a different way."
            ],
            "metadata": {
                "language": "sql",
                "azdata_cell_guid": "646c0f7b-fd03-47c6-9d7b-05723a7dd1d2"
            },
            "attachments": {}
        },
        {
            "cell_type": "markdown",
            "source": [
                "# Top 3 - Chapter 7 Q1 - Window functions, Described\n",
                "\n",
                "- Write a query that calculates the running total value for employee and month\n",
                "- Tables Involved: Sales.EmpOrders\n",
                "\n",
                "| empid | ordermonth | val | runval |\n",
                "| --- | --- | --- | --- |\n",
                "| 1 | 2014-07-01 | 1614.88 | 1614.88 |\n",
                "| 1 | 2014-08-01 | 5555.90 | 7170.78 |\n",
                "| 1 | 2014-09-01 | 6651.00 | 13821.78 |\n",
                "| 1 | 2014-10-01 | 3933.18 | 17754.96 |\n",
                "| 1 | 2014-11-01 | 9562.65 | 27317.61 |\n",
                "| ... |  |  |  |\n",
                "| 2 | 2014-07-01 | 1176.00 | 1176.00 |\n",
                "| 2 | 2014-08-01 | 1814.00 | 2990.00 |\n",
                "| 2 | 2014-09-01 | 2950.80 | 5940.80 |\n",
                "| 2 | 2014-10-01 | 5164.00 | 11104.80 |\n",
                "| 2 | 2014-11-01 | 4614.58 | 15719.38 |\n",
                "| ... |  |  |  |\n",
                "\n",
                "(192 row(s) affected)"
            ],
            "metadata": {
                "language": "sql",
                "azdata_cell_guid": "fc22c1ed-075d-42f0-8e22-493dc3c32545"
            },
            "attachments": {}
        },
        {
            "cell_type": "code",
            "source": [
                "use TSQLV6\n",
                "SELECT empid, ordermonth, val,\n",
                "  SUM(val) OVER(PARTITION BY empid\n",
                "                ORDER BY ordermonth\n",
                "                ROWS BETWEEN UNBOUNDED PRECEDING\n",
                "                         AND CURRENT ROW) AS runval\n",
                "FROM Sales.EmpOrders;"
            ],
            "metadata": {
                "language": "sql",
                "azdata_cell_guid": "4829e55c-d409-40aa-b13b-92ed8c46dbe4"
            },
            "outputs": [],
            "execution_count": null
        },
        {
            "cell_type": "markdown",
            "source": [
                "### Explanation:\n",
                "\n",
                "The proposition is asking us to calculate a running total value from the view Sales.EmpOrders based on each employee and month. We select the empid and ordermonth to get the employee and the months. The running total is from a over clause with the sum of the val column partition by the employee's id that is ordered by the month. The running total is used by that with the val of the previous row and the current row to consisntly add to the sum one row at a time."
            ],
            "metadata": {
                "language": "sql",
                "azdata_cell_guid": "a4a6548d-eba5-43c6-980f-0375d233fceb"
            },
            "attachments": {}
        },
        {
            "cell_type": "markdown",
            "source": [
                "# Top 4 - Chapter 7 Q7 - Offset Window Functions, Lag and Lead\n",
                "\n",
                "- Write a query that returns order val of current, previous, and next row from the OrderValues view\n",
                "- Tables Involved: Sales.OrderValues\n",
                "\n",
                "| custid | orderid | val | prevval | nextval |\n",
                "| --- | --- | --- | --- | --- |\n",
                "| 1 | 10643 | 814.50 | NULL | 878.00 |\n",
                "| 1 | 10692 | 878.00 | 814.50 | 330.00 |\n",
                "| 1 | 10702 | 330.00 | 878.00 | 845.80 |\n",
                "| 1 | 10835 | 845.80 | 330.00 | 471.20 |\n",
                "| 1 | 10952 | 471.20 | 845.80 | 933.50 |\n",
                "| 1 | 11011 | 933.50 | 471.20 | NULL |\n",
                "| 2 | 10308 | 88.80 | NULL | 479.75 |\n",
                "| 2 | 10625 | 479.75 | 88.80 | 320.00 |\n",
                "| 2 | 10759 | 320.00 | 479.75 | 514.40 |\n",
                "| 2 | 10926 | 514.40 | 320.00 | NULL |\n",
                "| 3 | 10365 | 403.20 | NULL | 749.06 |\n",
                "| 3 | 10507 | 749.06 | 403.20 | 1940.85 |\n",
                "| 3 | 10535 | 1940.85 | 749.06 | 2082.00 |\n",
                "| 3 | 10573 | 2082.00 | 1940.85 | 813.37 |\n",
                "| 3 | 10677 | 813.37 | 2082.00 | 375.50 |\n",
                "| 3 | 10682 | 375.50 | 813.37 | 660.00 |\n",
                "| 3 | 10856 | 660.00 | 375.50 | NULL |\n",
                "| ... |  |  |  |  |\n",
                "\n",
                "(830 row(s) affected)"
            ],
            "metadata": {
                "language": "sql",
                "azdata_cell_guid": "bcd3a7a5-520d-46ad-a5ca-aafe9d2ddd1e"
            },
            "attachments": {}
        },
        {
            "cell_type": "code",
            "source": [
                "use TSQLV6\n",
                "SELECT custid, orderid, val,\n",
                "  LAG(val)  OVER(PARTITION BY custid\n",
                "                 ORDER BY orderdate, orderid) AS prevval,\n",
                "  LEAD(val) OVER(PARTITION BY custid\n",
                "                 ORDER BY orderdate, orderid) AS nextval\n",
                "FROM Sales.OrderValues\n",
                "ORDER BY custid, orderdate, orderid;"
            ],
            "metadata": {
                "language": "sql",
                "azdata_cell_guid": "7ddc665e-5871-4cee-9a8a-a7416b8d42ca"
            },
            "outputs": [],
            "execution_count": null
        },
        {
            "cell_type": "markdown",
            "source": [
                "### Explanation:\n",
                "\n",
                "The proposition is asking us to use the view, Sales.OrderValues to get the order val of the current, previous, and next val order. I start by selecting the custid, orderid, and val for the order and the next column finds the previous val number. Using the lag offset function taking the val column and adding a over clause to a partition by on the custid and ordered by the date and id of the orders. Repeat the syntax excpet switch lag with lead to get the next val and it creates the desired output."
            ],
            "metadata": {
                "language": "sql",
                "azdata_cell_guid": "ce48486a-99a9-4036-8056-157d43026c89"
            },
            "attachments": {}
        },
        {
            "cell_type": "markdown",
            "source": [
                "# Top 5 - Chapter 7 Q8- Offset Window Functions, First\\_Value and Last\\_Value\n",
                "\n",
                "- Write a query that returns the value of the current, first, and last orders for each customer\n",
                "- Tables Involved: Sales.OrderValues\n",
                "\n",
                "| custid | orderid | val | firstval | lastval |\n",
                "| --- | --- | --- | --- | --- |\n",
                "| 1 | 10643 | 814.50 | 814.50 | 933.50 |\n",
                "| 1 | 10692 | 878.00 | 814.50 | 933.50 |\n",
                "| 1 | 10702 | 330.00 | 814.50 | 933.50 |\n",
                "| 1 | 10835 | 845.80 | 814.50 | 933.50 |\n",
                "| 1 | 10952 | 471.20 | 814.50 | 933.50 |\n",
                "| 1 | 11011 | 933.50 | 814.50 | 933.50 |\n",
                "| 2 | 10308 | 88.80 | 88.80 | 514.40 |\n",
                "| 2 | 10625 | 479.75 | 88.80 | 514.40 |\n",
                "| 2 | 10759 | 320.00 | 88.80 | 514.40 |\n",
                "| 2 | 10926 | 514.40 | 88.80 | 514.40 |\n",
                "| 3 | 10365 | 403.20 | 403.20 | 660.00 |\n",
                "| 3 | 10507 | 749.06 | 403.20 | 660.00 |\n",
                "| 3 | 10535 | 1940.85 | 403.20 | 660.00 |\n",
                "| 3 | 10573 | 2082.00 | 403.20 | 660.00 |\n",
                "| 3 | 10677 | 813.37 | 403.20 | 660.00 |\n",
                "| 3 | 10682 | 375.50 | 403.20 | 660.00 |\n",
                "| 3 | 10856 | 660.00 | 403.20 | 660.00 |\n",
                "| ... |  |  |  |  |\n",
                "\n",
                "(830 row(s) affected)"
            ],
            "metadata": {
                "language": "",
                "azdata_cell_guid": "ec0ffb61-a6ef-487e-9adb-d4ffb9336a6f"
            },
            "attachments": {}
        },
        {
            "cell_type": "code",
            "source": [
                "use TSQLV6\n",
                "SELECT custid, orderid, val,\n",
                "  FIRST_VALUE(val) OVER(PARTITION BY custid\n",
                "                        ORDER BY orderdate, orderid\n",
                "                        ROWS BETWEEN UNBOUNDED PRECEDING\n",
                "                                 AND CURRENT ROW) AS firstval,\n",
                "  LAST_VALUE(val)  OVER(PARTITION BY custid\n",
                "                        ORDER BY orderdate, orderid\n",
                "                        ROWS BETWEEN CURRENT ROW\n",
                "                                 AND UNBOUNDED FOLLOWING) AS lastval\n",
                "FROM Sales.OrderValues\n",
                "ORDER BY custid, orderdate, orderid;"
            ],
            "metadata": {
                "azdata_cell_guid": "073abf31-b640-40ab-9859-86827df465d9",
                "language": "sql",
                "tags": []
            },
            "outputs": [],
            "execution_count": null
        },
        {
            "cell_type": "markdown",
            "source": [
                "### Explanation:\n",
                "\n",
                "The proposition is asking us to use the view, Sales.OrderValues to get the order val of the current, first, and last val order for each customer. I start by selecting the custid, orderid, and val for the order and the next column finds the value of the first order for that customer. Using the First Value offset function taking the val column and adding a over clause to a partition by on the custid and ordered by the date and id of the orders. Then we add a Rows Between clause to filter the rows from a unbounded point to the current row. Repeat the syntax excpet switch first with last to get the last value with the rows between looking from the current row and no upper bound and it creates the desired output."
            ],
            "metadata": {
                "language": "sql",
                "azdata_cell_guid": "3c00368a-3918-47f7-83a7-eb38612949eb"
            },
            "attachments": {}
        },
        {
            "cell_type": "markdown",
            "source": [
                "# Chapter 7 Q2 - Ranking Window functions\n",
                "\n",
                "- Write a query that ranks the values using all the ranking functions\n",
                "- Tables Involved: Sales.OrderValues"
            ],
            "metadata": {
                "language": "sql",
                "azdata_cell_guid": "cbbe6427-7525-40a2-b65e-b01323c50c89"
            },
            "attachments": {}
        },
        {
            "cell_type": "code",
            "source": [
                "Use TSQLV6\n",
                "SELECT orderid, custid, val,\n",
                "  ROW_NUMBER() OVER(ORDER BY val) AS rownum,\n",
                "  RANK()       OVER(ORDER BY val) AS rank,\n",
                "  DENSE_RANK() OVER(ORDER BY val) AS dense_rank,\n",
                "  NTILE(10)    OVER(ORDER BY val) AS ntile\n",
                "FROM Sales.OrderValues\n",
                "ORDER BY val;"
            ],
            "metadata": {
                "language": "sql",
                "azdata_cell_guid": "ee0f8728-5b1e-4855-8878-73cfc49f6947"
            },
            "outputs": [],
            "execution_count": null
        },
        {
            "cell_type": "markdown",
            "source": [
                "### Explanation:\n",
                "\n",
                "We need to use all the ranking functions available to rank the values from the view Sales.OrderValues, so we just use the ranking functions row\\_number, rank, dense\\_rank, and ntile with all having the same over clause that is ordered by the value. The only difference for this specific case is the ntile function that breaks up the rows into 10 groups and evenly assigning the values so that there is about the same number of rows with a rank of each number from 1-10."
            ],
            "metadata": {
                "language": "sql",
                "azdata_cell_guid": "3f8f050b-7e8c-4ded-89cf-5767f9e075a3"
            },
            "attachments": {}
        },
        {
            "cell_type": "markdown",
            "source": [
                "# Chapter 7 Q3 - Ranking Window functions\n",
                "\n",
                "- Write a query that numbers each order for each customer\n",
                "- Tables Involved: Sales.OrderValues"
            ],
            "metadata": {
                "language": "sql",
                "azdata_cell_guid": "6f1b1b96-cbdc-4fa3-b56f-42984460c6d4"
            },
            "attachments": {}
        },
        {
            "cell_type": "code",
            "source": [
                "use TSQLV6\n",
                "SELECT orderid, custid, val,\n",
                "  ROW_NUMBER() OVER(PARTITION BY custid\n",
                "                    ORDER BY val) AS rownum\n",
                "FROM Sales.OrderValues\n",
                "ORDER BY custid, val;"
            ],
            "metadata": {
                "language": "sql",
                "azdata_cell_guid": "084734e8-98bf-4764-a54e-e6ab853efaec"
            },
            "outputs": [],
            "execution_count": null
        },
        {
            "cell_type": "markdown",
            "source": [
                "### Explanation:\n",
                "\n",
                "We get the regular information of the order with the cutsomer's id, the order's id, and the value of the order, and to number each order for the customer we use the row-number function with a over clause that partitions the customer id and orders by the val to assign a rank to each order from lowest to highest."
            ],
            "metadata": {
                "language": "sql",
                "azdata_cell_guid": "a654d724-fa3e-4608-ac73-6211d4c57500"
            },
            "attachments": {}
        },
        {
            "cell_type": "markdown",
            "source": [
                "# Chapter 7 Q4 & 5 - Ranking Window functions\n",
                "\n",
                "- Write a query that ranks each unique value number\n",
                "\n",
                "```\n",
                "SELECT DISTINCT val, ROW_NUMBER() OVER(ORDER BY val) AS rownum\n",
                "FROM Sales.OrderValues;\n",
                "```\n",
                "\n",
                "- Why does this attempt not produce the correct output and what is way achieve the desired output\n",
                "- Tables Involved: Sales.OrderValues"
            ],
            "metadata": {
                "language": "sql",
                "azdata_cell_guid": "26324510-4823-4bf2-8d8f-f784c8695467"
            },
            "attachments": {}
        },
        {
            "cell_type": "code",
            "source": [
                "use TSQLV6\n",
                "SELECT val, ROW_NUMBER() OVER(ORDER BY val) AS rownum\n",
                "FROM Sales.OrderValues\n",
                "GROUP BY val;"
            ],
            "metadata": {
                "language": "",
                "azdata_cell_guid": "33fbae63-d6b5-406e-a9b5-6098bfba9375"
            },
            "outputs": [],
            "execution_count": null
        },
        {
            "cell_type": "markdown",
            "source": [
                "### Explanation:\n",
                "\n",
                "The first attempt at answering the proposition doesn't work becuase the row\\_number clause is proccssed before the distinct clause so it already has ranked each value making it unique and the distinct will not see any duplicates. Fixing this we instead use group by in place of distinct so that we can have one single use of each value and then numbering the rows to get no duplicate value numbers."
            ],
            "metadata": {
                "azdata_cell_guid": "1d560f69-a026-4cb8-a243-b861d5c42c66",
                "language": ""
            },
            "attachments": {}
        }
    ]
}