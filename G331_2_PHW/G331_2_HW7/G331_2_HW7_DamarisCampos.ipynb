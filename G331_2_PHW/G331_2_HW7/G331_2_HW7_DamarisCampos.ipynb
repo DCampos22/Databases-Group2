{
    "metadata": {
        "kernelspec": {
            "name": "SQL",
            "display_name": "SQL",
            "language": "sql"
        },
        "language_info": {
            "name": "sql",
            "version": ""
        }
    },
    "nbformat_minor": 2,
    "nbformat": 4,
    "cells": [
        {
            "cell_type": "markdown",
            "source": [
                "# **Damaris Campos PHW7 Ch 7: Beyond the Fundamentals of Querying**"
            ],
            "metadata": {
                "azdata_cell_guid": "ee466ab2-98ed-4539-b61d-993724a1368d"
            },
            "attachments": {}
        },
        {
            "cell_type": "markdown",
            "source": [
                "Tables created in order to solve the propositions from Ch.7:"
            ],
            "metadata": {
                "language": "sql",
                "azdata_cell_guid": "1311856d-123e-4eb4-9ba0-333bb1059d46"
            },
            "attachments": {}
        },
        {
            "cell_type": "code",
            "source": [
                "USE TSQLV6\r\n",
                "DROP TABLE IF EXISTS dbo.Orders;\r\n",
                "CREATE TABLE dbo.Orders\r\n",
                "(\r\n",
                "orderid INT NOT NULL,\r\n",
                "orderdate DATE NOT NULL,\r\n",
                "empid INT NOT NULL,\r\n",
                "custid VARCHAR(5) NOT NULL,\r\n",
                "qty INT NOT NULL,\r\n",
                "CONSTRAINT PK_Orders PRIMARY KEY(orderid)\r\n",
                ");\r\n",
                "INSERT INTO dbo.Orders(orderid, orderdate, empid, custid, qty)\r\n",
                "VALUES\r\n",
                "(30001, '20140802', 3, 'A', 10),\r\n",
                "(10001, '20141224', 2, 'A', 12),\r\n",
                "(10005, '20141224', 1, 'B', 20),\r\n",
                "(40001, '20150109', 2, 'A', 40),\r\n",
                "(10006, '20150118', 1, 'C', 14),\r\n",
                "(20001, '20150212', 2, 'B', 12),\r\n",
                "(40005, '20160212', 3, 'A', 10),\r\n",
                "(20002, '20160216', 1, 'C', 20),\r\n",
                "(30003, '20160418', 2, 'B', 15),\r\n",
                "(30004, '20140418', 3, 'C', 22),\r\n",
                "(30007, '20160907', 3, 'D', 30);\r\n",
                "\r\n",
                ""
            ],
            "metadata": {
                "azdata_cell_guid": "a2eb8e7d-41a6-48e9-aa1d-12267de6556c",
                "language": "sql"
            },
            "outputs": [
                {
                    "output_type": "display_data",
                    "data": {
                        "text/html": "(11 rows affected)"
                    },
                    "metadata": {}
                },
                {
                    "output_type": "display_data",
                    "data": {
                        "text/html": "Total execution time: 00:00:00.018"
                    },
                    "metadata": {}
                }
            ],
            "execution_count": 83
        },
        {
            "cell_type": "code",
            "source": [
                "USE Northwinds2022TSQLV7\r\n",
                "DROP TABLE IF EXISTS dbo.Orders;\r\n",
                "CREATE TABLE dbo.Orders\r\n",
                "(\r\n",
                "OrderId INT NOT NULL,\r\n",
                "OrderDate DATE NOT NULL,\r\n",
                "EmployeeId INT NOT NULL,\r\n",
                "CustomerId VARCHAR(5) NOT NULL,\r\n",
                "Quantity INT NOT NULL,\r\n",
                "CONSTRAINT PK_Orders PRIMARY KEY(orderid)\r\n",
                ");\r\n",
                "INSERT INTO dbo.Orders(OrderId, OrderDate, EmployeeId, CustomerId, Quantity)\r\n",
                "VALUES\r\n",
                "(30001, '20140802', 3, 'A', 10),\r\n",
                "(10001, '20141224', 2, 'A', 12),\r\n",
                "(10005, '20141224', 1, 'B', 20),\r\n",
                "(40001, '20150109', 2, 'A', 40),\r\n",
                "(10006, '20150118', 1, 'C', 14),\r\n",
                "(20001, '20150212', 2, 'B', 12),\r\n",
                "(40005, '20160212', 3, 'A', 10),\r\n",
                "(20002, '20160216', 1, 'C', 20),\r\n",
                "(30003, '20160418', 2, 'B', 15),\r\n",
                "(30004, '20140418', 3, 'C', 22),\r\n",
                "(30007, '20160907', 3, 'D', 30);\r\n",
                "\r\n",
                "\r\n",
                "--DROP TABLE IF EXISTS dbo.Orders;\r\n",
                ""
            ],
            "metadata": {
                "language": "sql",
                "azdata_cell_guid": "283d1f16-a4bb-4d30-90bd-28fcc6ca3916"
            },
            "outputs": [
                {
                    "output_type": "display_data",
                    "data": {
                        "text/html": "(11 rows affected)"
                    },
                    "metadata": {}
                },
                {
                    "output_type": "display_data",
                    "data": {
                        "text/html": "Total execution time: 00:00:00.037"
                    },
                    "metadata": {}
                }
            ],
            "execution_count": 38
        },
        {
            "cell_type": "markdown",
            "source": [
                "# **<mark>Top 5 Queries</mark>**"
            ],
            "metadata": {
                "language": "sql",
                "azdata_cell_guid": "43c44152-b808-4d7d-b882-883b308375aa"
            },
            "attachments": {}
        },
        {
            "cell_type": "markdown",
            "source": [
                "## TOP 1:\n",
                "\n",
                "**Proposition**\n",
                "\n",
                "- Write a query against the dbo.Orders table that computes for each customer order:\n",
                "    - the difference between the current order quantity and the customer's previous order quantity\n",
                "    - the difference between the current order quantity and the customer's next order quantity.\n",
                "\n",
                "**Desired Output:**\n",
                "\n",
                "| custid | orderid | qty | diffprev | diffnext |\n",
                "| --- | --- | --- | --- | --- |\n",
                "| A | 30001 | 10 | NULL | \\-2 |\n",
                "| A | 10001 | 12 | 2 | \\-28 |\n",
                "| A | 40001 | 40 | 28 | 30 |\n",
                "| A | 40005 | 10 | \\-30 | NULL |\n",
                "| B | 10005 | 20 | NULL | 8 |\n",
                "| B | 20001 | 12 | \\-8 | \\-3 |\n",
                "| B | 30003 | 15 | 3 | NULL |\n",
                "| C | 30004 | 22 | NULL | 8 |\n",
                "| C | 10006 | 14 | \\-8 | \\-6 |\n",
                "| C | 20002 | 20 | 6 | NULL |\n",
                "| D | 30007 | 30 | NULL | NULL |"
            ],
            "metadata": {
                "azdata_cell_guid": "fbb9e342-9c7c-4138-a04c-d1869c323910"
            },
            "attachments": {}
        },
        {
            "cell_type": "code",
            "source": [
                "/*\r\n",
                "USE TSQLV4\r\n",
                "SELECT \r\n",
                "    custid, \r\n",
                "    orderid, \r\n",
                "    qty,\r\n",
                "    qty - LAG(qty) OVER(PARTITION BY custid ORDER BY orderdate, orderid) AS diffprev,\r\n",
                "    qty - LEAD(qty) OVER(PARTITION BY custid ORDER BY orderdate, orderid) AS diffnext\r\n",
                "FROM \r\n",
                "    dbo.Orders;\r\n",
                "*/\r\n",
                "USE Northwinds2022TSQLV7\r\n",
                "SELECT \r\n",
                "    CustomerId, \r\n",
                "    OrderId, \r\n",
                "    Quantity,\r\n",
                "    Quantity - LAG(Quantity) OVER(PARTITION BY CustomerId ORDER BY OrderDate, OrderId) AS DiffPrev,\r\n",
                "    Quantity - LEAD(Quantity) OVER(PARTITION BY CustomerId ORDER BY OrderDate, OrderId) AS DiffNext\r\n",
                "FROM \r\n",
                "    dbo.Orders;"
            ],
            "metadata": {
                "azdata_cell_guid": "cdb92527-3b0f-49cc-b801-212a7d235a4a",
                "language": "sql"
            },
            "outputs": [
                {
                    "output_type": "display_data",
                    "data": {
                        "text/html": "(11 rows affected)"
                    },
                    "metadata": {}
                },
                {
                    "output_type": "display_data",
                    "data": {
                        "text/html": "Total execution time: 00:00:00.006"
                    },
                    "metadata": {}
                },
                {
                    "output_type": "execute_result",
                    "metadata": {},
                    "execution_count": 52,
                    "data": {
                        "application/vnd.dataresource+json": {
                            "schema": {
                                "fields": [
                                    {
                                        "name": "CustomerId"
                                    },
                                    {
                                        "name": "OrderId"
                                    },
                                    {
                                        "name": "Quantity"
                                    },
                                    {
                                        "name": "DiffPrev"
                                    },
                                    {
                                        "name": "DiffNext"
                                    }
                                ]
                            },
                            "data": [
                                {
                                    "CustomerId": "A",
                                    "OrderId": "30001",
                                    "Quantity": "10",
                                    "DiffPrev": "NULL",
                                    "DiffNext": "-2"
                                },
                                {
                                    "CustomerId": "A",
                                    "OrderId": "10001",
                                    "Quantity": "12",
                                    "DiffPrev": "2",
                                    "DiffNext": "-28"
                                },
                                {
                                    "CustomerId": "A",
                                    "OrderId": "40001",
                                    "Quantity": "40",
                                    "DiffPrev": "28",
                                    "DiffNext": "30"
                                },
                                {
                                    "CustomerId": "A",
                                    "OrderId": "40005",
                                    "Quantity": "10",
                                    "DiffPrev": "-30",
                                    "DiffNext": "NULL"
                                },
                                {
                                    "CustomerId": "B",
                                    "OrderId": "10005",
                                    "Quantity": "20",
                                    "DiffPrev": "NULL",
                                    "DiffNext": "8"
                                },
                                {
                                    "CustomerId": "B",
                                    "OrderId": "20001",
                                    "Quantity": "12",
                                    "DiffPrev": "-8",
                                    "DiffNext": "-3"
                                },
                                {
                                    "CustomerId": "B",
                                    "OrderId": "30003",
                                    "Quantity": "15",
                                    "DiffPrev": "3",
                                    "DiffNext": "NULL"
                                },
                                {
                                    "CustomerId": "C",
                                    "OrderId": "30004",
                                    "Quantity": "22",
                                    "DiffPrev": "NULL",
                                    "DiffNext": "8"
                                },
                                {
                                    "CustomerId": "C",
                                    "OrderId": "10006",
                                    "Quantity": "14",
                                    "DiffPrev": "-8",
                                    "DiffNext": "-6"
                                },
                                {
                                    "CustomerId": "C",
                                    "OrderId": "20002",
                                    "Quantity": "20",
                                    "DiffPrev": "6",
                                    "DiffNext": "NULL"
                                },
                                {
                                    "CustomerId": "D",
                                    "OrderId": "30007",
                                    "Quantity": "30",
                                    "DiffPrev": "NULL",
                                    "DiffNext": "NULL"
                                }
                            ]
                        },
                        "text/html": [
                            "<table>",
                            "<tr><th>CustomerId</th><th>OrderId</th><th>Quantity</th><th>DiffPrev</th><th>DiffNext</th></tr>",
                            "<tr><td>A</td><td>30001</td><td>10</td><td>NULL</td><td>-2</td></tr>",
                            "<tr><td>A</td><td>10001</td><td>12</td><td>2</td><td>-28</td></tr>",
                            "<tr><td>A</td><td>40001</td><td>40</td><td>28</td><td>30</td></tr>",
                            "<tr><td>A</td><td>40005</td><td>10</td><td>-30</td><td>NULL</td></tr>",
                            "<tr><td>B</td><td>10005</td><td>20</td><td>NULL</td><td>8</td></tr>",
                            "<tr><td>B</td><td>20001</td><td>12</td><td>-8</td><td>-3</td></tr>",
                            "<tr><td>B</td><td>30003</td><td>15</td><td>3</td><td>NULL</td></tr>",
                            "<tr><td>C</td><td>30004</td><td>22</td><td>NULL</td><td>8</td></tr>",
                            "<tr><td>C</td><td>10006</td><td>14</td><td>-8</td><td>-6</td></tr>",
                            "<tr><td>C</td><td>20002</td><td>20</td><td>6</td><td>NULL</td></tr>",
                            "<tr><td>D</td><td>30007</td><td>30</td><td>NULL</td><td>NULL</td></tr>",
                            "</table>"
                        ]
                    }
                }
            ],
            "execution_count": 52
        },
        {
            "cell_type": "markdown",
            "source": [
                "**Explanation**\n",
                "\n",
                "- The <u>proposition</u> is to generate a query against dbo.Orders table that calculates for each customer order, the difference between the current order quantity and both the previous and next order quantities for that customer. <u>Table</u>s used are dbo.Orders containing the <u>columns</u> CustomerId, OrderId, Quantity, OrderDate. The <u>predicate:</u>\n",
                "    - 'LAG(Quantity) OVER(PARTITION BY CustomerId ORDER BY OrderDate, OrderId) AS DiffPrev', this calculates the difference between the current order quantity and the previous order quantity for each customer, considering the order date and order id for the ordering. \n",
                "    - 'LEAD(Quantity) OVER(PARTITION BY CustomerId ORDER BY OrderDate, OrderId) AS DiffNext' computes the difference between the current order quantity and the next order quantity for each customer, based on the order date and order ID for ordering. \n",
                "    - OVER(PARTITION BY CustomerId ORDER BY OrderDate, OrderId) clause partitions the data by CustomerId and then orders it by OrderDate and OrderId.  \n",
                "- <span style=\"color: var(--vscode-foreground);\">This ensures that the lag and lead functions operate on the data for each customer in the correct order based on the order date and order ID. The computed differences are returned as DiffPrev and DiffNext in the result set along with the CustomerId and OrderId for each order.</span>"
            ],
            "metadata": {
                "language": "sql",
                "azdata_cell_guid": "d6f18f97-64cd-4952-8472-9295234d901a"
            },
            "attachments": {}
        },
        {
            "cell_type": "markdown",
            "source": [
                "## _TOP 2_\n",
                "\n",
                "**Proposition**\n",
                "\n",
                "- Write a query against the dbo.Orders table that calculates the total quantity of products ordered, considering various grouping combinations such as by EmployeeId, CustomerId, both EmployeeId and CustomerId, and overall total quantity, utilizing the GROUPING SETS subclause."
            ],
            "metadata": {
                "azdata_cell_guid": "f88c897d-c296-468e-a7bb-1a1c985b1ed2"
            },
            "attachments": {}
        },
        {
            "cell_type": "code",
            "source": [
                "-- Using the GROUPING SETS subclause\r\n",
                "/*\r\n",
                "USE TSQLV4\r\n",
                "\r\n",
                "SELECT empid, custid, SUM(qty) AS sumqty\r\n",
                "FROM dbo.Orders\r\n",
                "GROUP BY\r\n",
                "  GROUPING SETS\r\n",
                "  (\r\n",
                "    (empid, custid),\r\n",
                "    (empid),\r\n",
                "    (custid),\r\n",
                "    ()\r\n",
                "  );\r\n",
                "*/\r\n",
                "USE Northwinds2022TSQLV7\r\n",
                "SELECT EmployeeId, CustomerId, SUM(Quantity) AS SumQuantity\r\n",
                "FROM dbo.Orders\r\n",
                "GROUP BY\r\n",
                "  GROUPING SETS \r\n",
                "  (\r\n",
                "    (EmployeeId, CustomerId),\r\n",
                "    (EmployeeId),\r\n",
                "    (CustomerId),\r\n",
                "    ()\r\n",
                "  );"
            ],
            "metadata": {
                "azdata_cell_guid": "2616725b-bba4-4303-990f-82c0b7ef9b9c",
                "language": "sql"
            },
            "outputs": [
                {
                    "output_type": "display_data",
                    "data": {
                        "text/html": "(15 rows affected)"
                    },
                    "metadata": {}
                },
                {
                    "output_type": "display_data",
                    "data": {
                        "text/html": "Total execution time: 00:00:00.004"
                    },
                    "metadata": {}
                },
                {
                    "output_type": "execute_result",
                    "metadata": {},
                    "execution_count": 60,
                    "data": {
                        "application/vnd.dataresource+json": {
                            "schema": {
                                "fields": [
                                    {
                                        "name": "EmployeeId"
                                    },
                                    {
                                        "name": "CustomerId"
                                    },
                                    {
                                        "name": "SumQuantity"
                                    }
                                ]
                            },
                            "data": [
                                {
                                    "EmployeeId": "2",
                                    "CustomerId": "A",
                                    "SumQuantity": "52"
                                },
                                {
                                    "EmployeeId": "3",
                                    "CustomerId": "A",
                                    "SumQuantity": "20"
                                },
                                {
                                    "EmployeeId": "NULL",
                                    "CustomerId": "A",
                                    "SumQuantity": "72"
                                },
                                {
                                    "EmployeeId": "1",
                                    "CustomerId": "B",
                                    "SumQuantity": "20"
                                },
                                {
                                    "EmployeeId": "2",
                                    "CustomerId": "B",
                                    "SumQuantity": "27"
                                },
                                {
                                    "EmployeeId": "NULL",
                                    "CustomerId": "B",
                                    "SumQuantity": "47"
                                },
                                {
                                    "EmployeeId": "1",
                                    "CustomerId": "C",
                                    "SumQuantity": "34"
                                },
                                {
                                    "EmployeeId": "3",
                                    "CustomerId": "C",
                                    "SumQuantity": "22"
                                },
                                {
                                    "EmployeeId": "NULL",
                                    "CustomerId": "C",
                                    "SumQuantity": "56"
                                },
                                {
                                    "EmployeeId": "3",
                                    "CustomerId": "D",
                                    "SumQuantity": "30"
                                },
                                {
                                    "EmployeeId": "NULL",
                                    "CustomerId": "D",
                                    "SumQuantity": "30"
                                },
                                {
                                    "EmployeeId": "NULL",
                                    "CustomerId": "NULL",
                                    "SumQuantity": "205"
                                },
                                {
                                    "EmployeeId": "1",
                                    "CustomerId": "NULL",
                                    "SumQuantity": "54"
                                },
                                {
                                    "EmployeeId": "2",
                                    "CustomerId": "NULL",
                                    "SumQuantity": "79"
                                },
                                {
                                    "EmployeeId": "3",
                                    "CustomerId": "NULL",
                                    "SumQuantity": "72"
                                }
                            ]
                        },
                        "text/html": [
                            "<table>",
                            "<tr><th>EmployeeId</th><th>CustomerId</th><th>SumQuantity</th></tr>",
                            "<tr><td>2</td><td>A</td><td>52</td></tr>",
                            "<tr><td>3</td><td>A</td><td>20</td></tr>",
                            "<tr><td>NULL</td><td>A</td><td>72</td></tr>",
                            "<tr><td>1</td><td>B</td><td>20</td></tr>",
                            "<tr><td>2</td><td>B</td><td>27</td></tr>",
                            "<tr><td>NULL</td><td>B</td><td>47</td></tr>",
                            "<tr><td>1</td><td>C</td><td>34</td></tr>",
                            "<tr><td>3</td><td>C</td><td>22</td></tr>",
                            "<tr><td>NULL</td><td>C</td><td>56</td></tr>",
                            "<tr><td>3</td><td>D</td><td>30</td></tr>",
                            "<tr><td>NULL</td><td>D</td><td>30</td></tr>",
                            "<tr><td>NULL</td><td>NULL</td><td>205</td></tr>",
                            "<tr><td>1</td><td>NULL</td><td>54</td></tr>",
                            "<tr><td>2</td><td>NULL</td><td>79</td></tr>",
                            "<tr><td>3</td><td>NULL</td><td>72</td></tr>",
                            "</table>"
                        ]
                    }
                }
            ],
            "execution_count": 60
        },
        {
            "cell_type": "markdown",
            "source": [
                "**Explanation**\n",
                "\n",
                "- The proposition is to generate a query against the dbo.Orders table that calculates the total quantity of products ordered, considering various grouping combinations such as by EmployeeId, CustomerId, both EmployeeId and CustomerId, and overall total quantity, utilizing the GROUPING SETS subclause. The tables used are dbo.orders containing columns EmployeeId, CustomerId, and Quantity. The predicate uses\n",
                "    - SUM(Quantity) AS SumQuantity to calculate the total quantity of products ordered for each grouping combination specified in the GROUPING SETS clause. \n",
                "    - GROUP BY GROUPING SETS (...): The GROUPING SETS clause specifies the various grouping combinations for aggregating the data. Each grouping set within the clause defines a different combination of grouping columns, including (EmployeeId, CustomerId), (EmployeeId), (CustomerId), and an empty set (), representing the overall total quantity.\n",
                "- This query provides a comprehensive analysis of product orders by different combinations of EmployeeId and CustomerId, enabling businesses to gain insights into sales performance, customer behavior, and employee productivity across various grouping dimensions."
            ],
            "metadata": {
                "language": "sql",
                "azdata_cell_guid": "41a03744-cf5a-4065-9524-e3ddd182f780"
            },
            "attachments": {}
        },
        {
            "cell_type": "markdown",
            "source": [
                "## _TOP 3_\n",
                "\n",
                "**Proposition**\n",
                "\n",
                "- Write a query against the dbo.Orders table that calculates the total quantity of products ordered, considering all possible combinations of grouping by EmployeeId, CustomerId, and their combinations, utilizing the CUBE grouping operator"
            ],
            "metadata": {
                "language": "sql",
                "azdata_cell_guid": "7b04bbce-c3fc-45ac-8d24-bf62baa3d1ec"
            },
            "attachments": {}
        },
        {
            "cell_type": "code",
            "source": [
                "-- Using the CUBE subclause\r\n",
                "/*\r\n",
                "USE TSQLV4\r\n",
                "SELECT empid, custid, SUM(qty) AS sumqty\r\n",
                "FROM dbo.Orders\r\n",
                "GROUP BY CUBE(empid, custid);\r\n",
                "*/\r\n",
                "\r\n",
                "USE Northwinds2022TSQLV7\r\n",
                "SELECT EmployeeId, CustomerId, SUM(Quantity) AS SumQuantity\r\n",
                "FROM dbo.Orders\r\n",
                "GROUP BY CUBE(EmployeeId, CustomerId);\r\n",
                ""
            ],
            "metadata": {
                "language": "sql",
                "azdata_cell_guid": "31e43198-2d88-4d4a-bfa7-592edaf7f859"
            },
            "outputs": [
                {
                    "output_type": "display_data",
                    "data": {
                        "text/html": "(15 rows affected)"
                    },
                    "metadata": {}
                },
                {
                    "output_type": "display_data",
                    "data": {
                        "text/html": "Total execution time: 00:00:00.003"
                    },
                    "metadata": {}
                },
                {
                    "output_type": "execute_result",
                    "metadata": {},
                    "execution_count": 62,
                    "data": {
                        "application/vnd.dataresource+json": {
                            "schema": {
                                "fields": [
                                    {
                                        "name": "EmployeeId"
                                    },
                                    {
                                        "name": "CustomerId"
                                    },
                                    {
                                        "name": "SumQuantity"
                                    }
                                ]
                            },
                            "data": [
                                {
                                    "EmployeeId": "2",
                                    "CustomerId": "A",
                                    "SumQuantity": "52"
                                },
                                {
                                    "EmployeeId": "3",
                                    "CustomerId": "A",
                                    "SumQuantity": "20"
                                },
                                {
                                    "EmployeeId": "NULL",
                                    "CustomerId": "A",
                                    "SumQuantity": "72"
                                },
                                {
                                    "EmployeeId": "1",
                                    "CustomerId": "B",
                                    "SumQuantity": "20"
                                },
                                {
                                    "EmployeeId": "2",
                                    "CustomerId": "B",
                                    "SumQuantity": "27"
                                },
                                {
                                    "EmployeeId": "NULL",
                                    "CustomerId": "B",
                                    "SumQuantity": "47"
                                },
                                {
                                    "EmployeeId": "1",
                                    "CustomerId": "C",
                                    "SumQuantity": "34"
                                },
                                {
                                    "EmployeeId": "3",
                                    "CustomerId": "C",
                                    "SumQuantity": "22"
                                },
                                {
                                    "EmployeeId": "NULL",
                                    "CustomerId": "C",
                                    "SumQuantity": "56"
                                },
                                {
                                    "EmployeeId": "3",
                                    "CustomerId": "D",
                                    "SumQuantity": "30"
                                },
                                {
                                    "EmployeeId": "NULL",
                                    "CustomerId": "D",
                                    "SumQuantity": "30"
                                },
                                {
                                    "EmployeeId": "NULL",
                                    "CustomerId": "NULL",
                                    "SumQuantity": "205"
                                },
                                {
                                    "EmployeeId": "1",
                                    "CustomerId": "NULL",
                                    "SumQuantity": "54"
                                },
                                {
                                    "EmployeeId": "2",
                                    "CustomerId": "NULL",
                                    "SumQuantity": "79"
                                },
                                {
                                    "EmployeeId": "3",
                                    "CustomerId": "NULL",
                                    "SumQuantity": "72"
                                }
                            ]
                        },
                        "text/html": [
                            "<table>",
                            "<tr><th>EmployeeId</th><th>CustomerId</th><th>SumQuantity</th></tr>",
                            "<tr><td>2</td><td>A</td><td>52</td></tr>",
                            "<tr><td>3</td><td>A</td><td>20</td></tr>",
                            "<tr><td>NULL</td><td>A</td><td>72</td></tr>",
                            "<tr><td>1</td><td>B</td><td>20</td></tr>",
                            "<tr><td>2</td><td>B</td><td>27</td></tr>",
                            "<tr><td>NULL</td><td>B</td><td>47</td></tr>",
                            "<tr><td>1</td><td>C</td><td>34</td></tr>",
                            "<tr><td>3</td><td>C</td><td>22</td></tr>",
                            "<tr><td>NULL</td><td>C</td><td>56</td></tr>",
                            "<tr><td>3</td><td>D</td><td>30</td></tr>",
                            "<tr><td>NULL</td><td>D</td><td>30</td></tr>",
                            "<tr><td>NULL</td><td>NULL</td><td>205</td></tr>",
                            "<tr><td>1</td><td>NULL</td><td>54</td></tr>",
                            "<tr><td>2</td><td>NULL</td><td>79</td></tr>",
                            "<tr><td>3</td><td>NULL</td><td>72</td></tr>",
                            "</table>"
                        ]
                    }
                }
            ],
            "execution_count": 62
        },
        {
            "cell_type": "markdown",
            "source": [
                "**Explanation**\n",
                "\n",
                "- The proposition is to generate a query against the dbo.Orders table that calculates the total quantity of products ordered, considering all possible combinations of grouping by EmployeeId, CustomerId, and their combinations, utilizing the CUBE grouping operator. The table used was dbo.Orders using the columns EmployeeId, CustomerId, and Quantity. The predicate was:\n",
                "    - SUM(Quantity) AS SumQuantity which calculates the total quantity of products ordered for each grouping combination generated by the CUBE grouping operator.\n",
                "    - GROUP BY CUBE(EmployeeId, CustomerId) uses CUBE grouping operator generates all possible combinations of grouping columns specified in the GROUP BY clause. In this case, it considers all possible combinations of grouping by EmployeeId, CustomerId, and their combinations.\n",
                "- This query provides a comprehensive analysis of product orders by considering all possible combinations of grouping by EmployeeId and CustomerId, allowing businesses to gain insights into sales performance, customer behavior, and employee productivity across various dimensions."
            ],
            "metadata": {
                "language": "sql",
                "azdata_cell_guid": "00dbd682-1953-4559-97dc-57984107a5bd"
            },
            "attachments": {}
        },
        {
            "cell_type": "markdown",
            "source": [
                "## _TOP 4_\n",
                "\n",
                "**Proposition**\n",
                "\n",
                "- Write a query against the dbo.Orders table that calculates the total quantity of products ordered, grouped by year, month, and day of the order date, while also providing subtotal quantities for each year, month, and day, utilizing the ROLLUP grouping operator."
            ],
            "metadata": {
                "language": "sql",
                "azdata_cell_guid": "945fef94-5df9-4fe9-a670-5f5defdef17f"
            },
            "attachments": {}
        },
        {
            "cell_type": "code",
            "source": [
                "-- Using the ROLLUP subclause\r\n",
                "/*\r\n",
                "USE TSQLV4\r\n",
                "SELECT \r\n",
                "  YEAR(orderdate) AS orderyear,\r\n",
                "  MONTH(orderdate) AS ordermonth,\r\n",
                "  DAY(orderdate) AS orderday,\r\n",
                "  SUM(qty) AS sumqty\r\n",
                "FROM dbo.Orders\r\n",
                "GROUP BY ROLLUP(YEAR(orderdate), MONTH(orderdate), DAY(orderdate));\r\n",
                "*/\r\n",
                "\r\n",
                "USE Northwinds2022TSQLV7\r\n",
                "SELECT \r\n",
                "  YEAR(OrderDate) AS orderyear,\r\n",
                "  MONTH(OrderDate) AS ordermonth,\r\n",
                "  DAY(OrderDate) AS orderday,\r\n",
                "  SUM(Quantity) AS sumqty\r\n",
                "FROM dbo.Orders\r\n",
                "GROUP BY ROLLUP(YEAR(OrderDate), MONTH(OrderDate), DAY(OrderDate));"
            ],
            "metadata": {
                "language": "sql",
                "azdata_cell_guid": "891434ae-b219-4394-a6d6-417e2a8d8f0f"
            },
            "outputs": [
                {
                    "output_type": "display_data",
                    "data": {
                        "text/html": "(22 rows affected)"
                    },
                    "metadata": {}
                },
                {
                    "output_type": "display_data",
                    "data": {
                        "text/html": "Total execution time: 00:00:00.014"
                    },
                    "metadata": {}
                },
                {
                    "output_type": "execute_result",
                    "metadata": {},
                    "execution_count": 85,
                    "data": {
                        "application/vnd.dataresource+json": {
                            "schema": {
                                "fields": [
                                    {
                                        "name": "orderyear"
                                    },
                                    {
                                        "name": "ordermonth"
                                    },
                                    {
                                        "name": "orderday"
                                    },
                                    {
                                        "name": "sumqty"
                                    }
                                ]
                            },
                            "data": [
                                {
                                    "orderyear": "2014",
                                    "ordermonth": "4",
                                    "orderday": "18",
                                    "sumqty": "22"
                                },
                                {
                                    "orderyear": "2014",
                                    "ordermonth": "4",
                                    "orderday": "NULL",
                                    "sumqty": "22"
                                },
                                {
                                    "orderyear": "2014",
                                    "ordermonth": "8",
                                    "orderday": "2",
                                    "sumqty": "10"
                                },
                                {
                                    "orderyear": "2014",
                                    "ordermonth": "8",
                                    "orderday": "NULL",
                                    "sumqty": "10"
                                },
                                {
                                    "orderyear": "2014",
                                    "ordermonth": "12",
                                    "orderday": "24",
                                    "sumqty": "32"
                                },
                                {
                                    "orderyear": "2014",
                                    "ordermonth": "12",
                                    "orderday": "NULL",
                                    "sumqty": "32"
                                },
                                {
                                    "orderyear": "2014",
                                    "ordermonth": "NULL",
                                    "orderday": "NULL",
                                    "sumqty": "64"
                                },
                                {
                                    "orderyear": "2015",
                                    "ordermonth": "1",
                                    "orderday": "9",
                                    "sumqty": "40"
                                },
                                {
                                    "orderyear": "2015",
                                    "ordermonth": "1",
                                    "orderday": "18",
                                    "sumqty": "14"
                                },
                                {
                                    "orderyear": "2015",
                                    "ordermonth": "1",
                                    "orderday": "NULL",
                                    "sumqty": "54"
                                },
                                {
                                    "orderyear": "2015",
                                    "ordermonth": "2",
                                    "orderday": "12",
                                    "sumqty": "12"
                                },
                                {
                                    "orderyear": "2015",
                                    "ordermonth": "2",
                                    "orderday": "NULL",
                                    "sumqty": "12"
                                },
                                {
                                    "orderyear": "2015",
                                    "ordermonth": "NULL",
                                    "orderday": "NULL",
                                    "sumqty": "66"
                                },
                                {
                                    "orderyear": "2016",
                                    "ordermonth": "2",
                                    "orderday": "12",
                                    "sumqty": "10"
                                },
                                {
                                    "orderyear": "2016",
                                    "ordermonth": "2",
                                    "orderday": "16",
                                    "sumqty": "20"
                                },
                                {
                                    "orderyear": "2016",
                                    "ordermonth": "2",
                                    "orderday": "NULL",
                                    "sumqty": "30"
                                },
                                {
                                    "orderyear": "2016",
                                    "ordermonth": "4",
                                    "orderday": "18",
                                    "sumqty": "15"
                                },
                                {
                                    "orderyear": "2016",
                                    "ordermonth": "4",
                                    "orderday": "NULL",
                                    "sumqty": "15"
                                },
                                {
                                    "orderyear": "2016",
                                    "ordermonth": "9",
                                    "orderday": "7",
                                    "sumqty": "30"
                                },
                                {
                                    "orderyear": "2016",
                                    "ordermonth": "9",
                                    "orderday": "NULL",
                                    "sumqty": "30"
                                },
                                {
                                    "orderyear": "2016",
                                    "ordermonth": "NULL",
                                    "orderday": "NULL",
                                    "sumqty": "75"
                                },
                                {
                                    "orderyear": "NULL",
                                    "ordermonth": "NULL",
                                    "orderday": "NULL",
                                    "sumqty": "205"
                                }
                            ]
                        },
                        "text/html": [
                            "<table>",
                            "<tr><th>orderyear</th><th>ordermonth</th><th>orderday</th><th>sumqty</th></tr>",
                            "<tr><td>2014</td><td>4</td><td>18</td><td>22</td></tr>",
                            "<tr><td>2014</td><td>4</td><td>NULL</td><td>22</td></tr>",
                            "<tr><td>2014</td><td>8</td><td>2</td><td>10</td></tr>",
                            "<tr><td>2014</td><td>8</td><td>NULL</td><td>10</td></tr>",
                            "<tr><td>2014</td><td>12</td><td>24</td><td>32</td></tr>",
                            "<tr><td>2014</td><td>12</td><td>NULL</td><td>32</td></tr>",
                            "<tr><td>2014</td><td>NULL</td><td>NULL</td><td>64</td></tr>",
                            "<tr><td>2015</td><td>1</td><td>9</td><td>40</td></tr>",
                            "<tr><td>2015</td><td>1</td><td>18</td><td>14</td></tr>",
                            "<tr><td>2015</td><td>1</td><td>NULL</td><td>54</td></tr>",
                            "<tr><td>2015</td><td>2</td><td>12</td><td>12</td></tr>",
                            "<tr><td>2015</td><td>2</td><td>NULL</td><td>12</td></tr>",
                            "<tr><td>2015</td><td>NULL</td><td>NULL</td><td>66</td></tr>",
                            "<tr><td>2016</td><td>2</td><td>12</td><td>10</td></tr>",
                            "<tr><td>2016</td><td>2</td><td>16</td><td>20</td></tr>",
                            "<tr><td>2016</td><td>2</td><td>NULL</td><td>30</td></tr>",
                            "<tr><td>2016</td><td>4</td><td>18</td><td>15</td></tr>",
                            "<tr><td>2016</td><td>4</td><td>NULL</td><td>15</td></tr>",
                            "<tr><td>2016</td><td>9</td><td>7</td><td>30</td></tr>",
                            "<tr><td>2016</td><td>9</td><td>NULL</td><td>30</td></tr>",
                            "<tr><td>2016</td><td>NULL</td><td>NULL</td><td>75</td></tr>",
                            "<tr><td>NULL</td><td>NULL</td><td>NULL</td><td>205</td></tr>",
                            "</table>"
                        ]
                    }
                }
            ],
            "execution_count": 85
        },
        {
            "cell_type": "markdown",
            "source": [
                "**Explanation**\n",
                "\n",
                "- The proposition is to write a query against the dbo.Orders table that calculates the total quantity of products ordered, grouped by year, month, and day of the order date. Additionally, the query should provide subtotal quantities for each year, month, and day, utilizing the ROLLUP grouping operator. Tables used are dbo.Orders and selected columns OrderDate and Quantity. The predicate was:\n",
                "\n",
                "    - YEAR(OrderDate) AS orderyear: Extracts the year from the OrderDate column and aliases it as orderyear.\n",
                "    - MONTH(OrderDate) AS ordermonth: Extracts the month from the OrderDate column and aliases it as ordermonth.\n",
                "    - DAY(OrderDate) AS orderday: Extracts the day from the OrderDate column and aliases it as orderday.\n",
                "    - SUM(Quantity) AS sumqty: Calculates the total quantity of products ordered for each grouping combination.\n",
                "    - GROUP BY ROLLUP(YEAR(OrderDate), MONTH(OrderDate), DAY(OrderDate)): The ROLLUP grouping operator generates subtotal quantities for each combination of grouping columns specified in the GROUP BY clause. In this case, it generates subtotals for each year, month, and day of the order date.\n",
                "\n",
                "- This query provides a detailed analysis of product orders by breaking down the total quantity ordered into subtotals for each year, month, and day. By using the ROLLUP operator, the query produces subtotal quantities for various levels of granularity, allowing for a comprehensive understanding of order patterns over time."
            ],
            "metadata": {
                "language": "sql",
                "azdata_cell_guid": "973b79a9-dbcb-4cdd-9a6a-1ab76a7865bb"
            },
            "attachments": {}
        },
        {
            "cell_type": "markdown",
            "source": [
                "## _Top 5_\n",
                "\n",
                "**Proposition**\n",
                "\n",
                "- Write a query against the Northwinds2022TSQLV7 database that calculates the total quantity of products ordered, considering all possible combinations of grouping by EmployeeId, CustomerId, and their combinations, utilizing the CUBE grouping operator."
            ],
            "metadata": {
                "language": "sql",
                "azdata_cell_guid": "b3b9c752-121b-4eec-ad68-1990e4031177"
            },
            "attachments": {}
        },
        {
            "cell_type": "code",
            "source": [
                "/*\r\n",
                "USE TSQLV4\r\n",
                "SELECT empid, custid, SUM(qty) AS sumqty\r\n",
                "FROM dbo.Orders\r\n",
                "GROUP BY CUBE(empid, custid);\r\n",
                "*/\r\n",
                "\r\n",
                "USE Northwinds2022TSQLV7\r\n",
                "SELECT EmployeeId, CustomerId, SUM(Quantity) AS SumQuantity\r\n",
                "FROM dbo.Orders\r\n",
                "GROUP BY CUBE(EmployeeId, CustomerId);"
            ],
            "metadata": {
                "language": "sql",
                "azdata_cell_guid": "4e146dbf-9529-4cb3-bb71-7f03d72b45f9"
            },
            "outputs": [
                {
                    "output_type": "display_data",
                    "data": {
                        "text/html": "(15 rows affected)"
                    },
                    "metadata": {}
                },
                {
                    "output_type": "display_data",
                    "data": {
                        "text/html": "Total execution time: 00:00:00.004"
                    },
                    "metadata": {}
                },
                {
                    "output_type": "execute_result",
                    "metadata": {},
                    "execution_count": 65,
                    "data": {
                        "application/vnd.dataresource+json": {
                            "schema": {
                                "fields": [
                                    {
                                        "name": "EmployeeId"
                                    },
                                    {
                                        "name": "CustomerId"
                                    },
                                    {
                                        "name": "SumQuantity"
                                    }
                                ]
                            },
                            "data": [
                                {
                                    "EmployeeId": "2",
                                    "CustomerId": "A",
                                    "SumQuantity": "52"
                                },
                                {
                                    "EmployeeId": "3",
                                    "CustomerId": "A",
                                    "SumQuantity": "20"
                                },
                                {
                                    "EmployeeId": "NULL",
                                    "CustomerId": "A",
                                    "SumQuantity": "72"
                                },
                                {
                                    "EmployeeId": "1",
                                    "CustomerId": "B",
                                    "SumQuantity": "20"
                                },
                                {
                                    "EmployeeId": "2",
                                    "CustomerId": "B",
                                    "SumQuantity": "27"
                                },
                                {
                                    "EmployeeId": "NULL",
                                    "CustomerId": "B",
                                    "SumQuantity": "47"
                                },
                                {
                                    "EmployeeId": "1",
                                    "CustomerId": "C",
                                    "SumQuantity": "34"
                                },
                                {
                                    "EmployeeId": "3",
                                    "CustomerId": "C",
                                    "SumQuantity": "22"
                                },
                                {
                                    "EmployeeId": "NULL",
                                    "CustomerId": "C",
                                    "SumQuantity": "56"
                                },
                                {
                                    "EmployeeId": "3",
                                    "CustomerId": "D",
                                    "SumQuantity": "30"
                                },
                                {
                                    "EmployeeId": "NULL",
                                    "CustomerId": "D",
                                    "SumQuantity": "30"
                                },
                                {
                                    "EmployeeId": "NULL",
                                    "CustomerId": "NULL",
                                    "SumQuantity": "205"
                                },
                                {
                                    "EmployeeId": "1",
                                    "CustomerId": "NULL",
                                    "SumQuantity": "54"
                                },
                                {
                                    "EmployeeId": "2",
                                    "CustomerId": "NULL",
                                    "SumQuantity": "79"
                                },
                                {
                                    "EmployeeId": "3",
                                    "CustomerId": "NULL",
                                    "SumQuantity": "72"
                                }
                            ]
                        },
                        "text/html": [
                            "<table>",
                            "<tr><th>EmployeeId</th><th>CustomerId</th><th>SumQuantity</th></tr>",
                            "<tr><td>2</td><td>A</td><td>52</td></tr>",
                            "<tr><td>3</td><td>A</td><td>20</td></tr>",
                            "<tr><td>NULL</td><td>A</td><td>72</td></tr>",
                            "<tr><td>1</td><td>B</td><td>20</td></tr>",
                            "<tr><td>2</td><td>B</td><td>27</td></tr>",
                            "<tr><td>NULL</td><td>B</td><td>47</td></tr>",
                            "<tr><td>1</td><td>C</td><td>34</td></tr>",
                            "<tr><td>3</td><td>C</td><td>22</td></tr>",
                            "<tr><td>NULL</td><td>C</td><td>56</td></tr>",
                            "<tr><td>3</td><td>D</td><td>30</td></tr>",
                            "<tr><td>NULL</td><td>D</td><td>30</td></tr>",
                            "<tr><td>NULL</td><td>NULL</td><td>205</td></tr>",
                            "<tr><td>1</td><td>NULL</td><td>54</td></tr>",
                            "<tr><td>2</td><td>NULL</td><td>79</td></tr>",
                            "<tr><td>3</td><td>NULL</td><td>72</td></tr>",
                            "</table>"
                        ]
                    }
                }
            ],
            "execution_count": 65
        },
        {
            "cell_type": "markdown",
            "source": [
                "**Explanation**\n",
                "\n",
                "- The proposition is to write a query against the Orders table in the Northwinds2022TSQLV7 database. The query aims to calculate the total quantity of products ordered, considering all possible combinations of grouping by EmployeeId, CustomerId, and their combinations. This is achieved by utilizing the CUBE grouping operator. The table used is dbo.Orders where it selects the columns EmployeeId, CustomerId, and Quantity. The predicate is:\n",
                "\n",
                "    - SUM(Quantity) AS SumQuantity: Calculates the total quantity of products ordered for each grouping combination.\n",
                "    - GROUP BY CUBE(EmployeeId, CustomerId): The CUBE grouping operator generates all possible combinations of grouping columns specified in the GROUP BY clause. In this case, it considers all possible combinations of grouping by EmployeeId, CustomerId, and their combinations.\n",
                "- This query provides a comprehensive analysis of product orders by considering all possible combinations of grouping by EmployeeId and CustomerId.The CUBE grouping operator generates subtotal quantities for various combinations of grouping columns, allowing for a detailed examination of product orders across different dimensions."
            ],
            "metadata": {
                "language": "sql",
                "azdata_cell_guid": "1ce91e4c-1a81-4de6-abed-7cf3de427dab"
            },
            "attachments": {}
        },
        {
            "cell_type": "markdown",
            "source": [
                "## _Q6._\n",
                "\n",
                "**Proposition**\n",
                "\n",
                "- Write a query against the dbo.Orders table that calculates the total quantity of products ordered, considering all possible combinations of grouping by EmployeeId, CustomerId, and their combinations. Additionally, the query should include indicators for grouping EmployeeId and CustomerId columns, utilizing the CUBE grouping operator"
            ],
            "metadata": {
                "language": "sql",
                "azdata_cell_guid": "42d29f3a-6626-44b9-be8d-200fe6de7904"
            },
            "attachments": {}
        },
        {
            "cell_type": "code",
            "source": [
                "/*\r\n",
                "USE TSQLV4\r\n",
                "SELECT\r\n",
                "  GROUPING(empid) AS grpemp,\r\n",
                "  GROUPING(custid) AS grpcust,\r\n",
                "  empid, custid, SUM(qty) AS sumqty\r\n",
                "FROM dbo.Orders\r\n",
                "GROUP BY CUBE(empid, custid);\r\n",
                "*/\r\n",
                "\r\n",
                "USE Northwinds2022TSQLV7\r\n",
                "SELECT\r\n",
                "  GROUPING(EmployeeId) AS GroupEmp,\r\n",
                "  GROUPING(CustomerId) AS GroupCust,\r\n",
                "  EmployeeId, CustomerId, SUM(Quantity) AS SumQuantity\r\n",
                "FROM dbo.Orders\r\n",
                "GROUP BY CUBE(EmployeeId, CustomerId);\r\n",
                ""
            ],
            "metadata": {
                "language": "sql",
                "azdata_cell_guid": "64513333-0422-4eeb-aaa0-abcd213e8961"
            },
            "outputs": [
                {
                    "output_type": "display_data",
                    "data": {
                        "text/html": "(15 rows affected)"
                    },
                    "metadata": {}
                },
                {
                    "output_type": "display_data",
                    "data": {
                        "text/html": "Total execution time: 00:00:00.007"
                    },
                    "metadata": {}
                },
                {
                    "output_type": "execute_result",
                    "metadata": {},
                    "execution_count": 58,
                    "data": {
                        "application/vnd.dataresource+json": {
                            "schema": {
                                "fields": [
                                    {
                                        "name": "GroupEmp"
                                    },
                                    {
                                        "name": "GroupCust"
                                    },
                                    {
                                        "name": "EmployeeId"
                                    },
                                    {
                                        "name": "CustomerId"
                                    },
                                    {
                                        "name": "SumQuantity"
                                    }
                                ]
                            },
                            "data": [
                                {
                                    "GroupEmp": "0",
                                    "GroupCust": "0",
                                    "EmployeeId": "2",
                                    "CustomerId": "A",
                                    "SumQuantity": "52"
                                },
                                {
                                    "GroupEmp": "0",
                                    "GroupCust": "0",
                                    "EmployeeId": "3",
                                    "CustomerId": "A",
                                    "SumQuantity": "20"
                                },
                                {
                                    "GroupEmp": "1",
                                    "GroupCust": "0",
                                    "EmployeeId": "NULL",
                                    "CustomerId": "A",
                                    "SumQuantity": "72"
                                },
                                {
                                    "GroupEmp": "0",
                                    "GroupCust": "0",
                                    "EmployeeId": "1",
                                    "CustomerId": "B",
                                    "SumQuantity": "20"
                                },
                                {
                                    "GroupEmp": "0",
                                    "GroupCust": "0",
                                    "EmployeeId": "2",
                                    "CustomerId": "B",
                                    "SumQuantity": "27"
                                },
                                {
                                    "GroupEmp": "1",
                                    "GroupCust": "0",
                                    "EmployeeId": "NULL",
                                    "CustomerId": "B",
                                    "SumQuantity": "47"
                                },
                                {
                                    "GroupEmp": "0",
                                    "GroupCust": "0",
                                    "EmployeeId": "1",
                                    "CustomerId": "C",
                                    "SumQuantity": "34"
                                },
                                {
                                    "GroupEmp": "0",
                                    "GroupCust": "0",
                                    "EmployeeId": "3",
                                    "CustomerId": "C",
                                    "SumQuantity": "22"
                                },
                                {
                                    "GroupEmp": "1",
                                    "GroupCust": "0",
                                    "EmployeeId": "NULL",
                                    "CustomerId": "C",
                                    "SumQuantity": "56"
                                },
                                {
                                    "GroupEmp": "0",
                                    "GroupCust": "0",
                                    "EmployeeId": "3",
                                    "CustomerId": "D",
                                    "SumQuantity": "30"
                                },
                                {
                                    "GroupEmp": "1",
                                    "GroupCust": "0",
                                    "EmployeeId": "NULL",
                                    "CustomerId": "D",
                                    "SumQuantity": "30"
                                },
                                {
                                    "GroupEmp": "1",
                                    "GroupCust": "1",
                                    "EmployeeId": "NULL",
                                    "CustomerId": "NULL",
                                    "SumQuantity": "205"
                                },
                                {
                                    "GroupEmp": "0",
                                    "GroupCust": "1",
                                    "EmployeeId": "1",
                                    "CustomerId": "NULL",
                                    "SumQuantity": "54"
                                },
                                {
                                    "GroupEmp": "0",
                                    "GroupCust": "1",
                                    "EmployeeId": "2",
                                    "CustomerId": "NULL",
                                    "SumQuantity": "79"
                                },
                                {
                                    "GroupEmp": "0",
                                    "GroupCust": "1",
                                    "EmployeeId": "3",
                                    "CustomerId": "NULL",
                                    "SumQuantity": "72"
                                }
                            ]
                        },
                        "text/html": [
                            "<table>",
                            "<tr><th>GroupEmp</th><th>GroupCust</th><th>EmployeeId</th><th>CustomerId</th><th>SumQuantity</th></tr>",
                            "<tr><td>0</td><td>0</td><td>2</td><td>A</td><td>52</td></tr>",
                            "<tr><td>0</td><td>0</td><td>3</td><td>A</td><td>20</td></tr>",
                            "<tr><td>1</td><td>0</td><td>NULL</td><td>A</td><td>72</td></tr>",
                            "<tr><td>0</td><td>0</td><td>1</td><td>B</td><td>20</td></tr>",
                            "<tr><td>0</td><td>0</td><td>2</td><td>B</td><td>27</td></tr>",
                            "<tr><td>1</td><td>0</td><td>NULL</td><td>B</td><td>47</td></tr>",
                            "<tr><td>0</td><td>0</td><td>1</td><td>C</td><td>34</td></tr>",
                            "<tr><td>0</td><td>0</td><td>3</td><td>C</td><td>22</td></tr>",
                            "<tr><td>1</td><td>0</td><td>NULL</td><td>C</td><td>56</td></tr>",
                            "<tr><td>0</td><td>0</td><td>3</td><td>D</td><td>30</td></tr>",
                            "<tr><td>1</td><td>0</td><td>NULL</td><td>D</td><td>30</td></tr>",
                            "<tr><td>1</td><td>1</td><td>NULL</td><td>NULL</td><td>205</td></tr>",
                            "<tr><td>0</td><td>1</td><td>1</td><td>NULL</td><td>54</td></tr>",
                            "<tr><td>0</td><td>1</td><td>2</td><td>NULL</td><td>79</td></tr>",
                            "<tr><td>0</td><td>1</td><td>3</td><td>NULL</td><td>72</td></tr>",
                            "</table>"
                        ]
                    }
                }
            ],
            "execution_count": 58
        },
        {
            "cell_type": "markdown",
            "source": [
                "**Explanation**\n",
                "\n",
                "- The proposition is to write a query against the dbo.Orders table that calculates the total quantity of products ordered, considering all possible combinations of grouping by EmployeeId, CustomerId, and their combinations. Additionally, the query should include indicators for grouping the EmployeeId and CustomerId columns, utilizing the CUBE grouping operator. The table used is dbo.Orders which selected EmployeeId, CustomerId, and Quantity columns. The predicate is:\n",
                "    - SUM(Quantity) AS SumQuantity: Calculates the total quantity of products ordered for each grouping combination.\n",
                "    - GROUP BY CUBE(EmployeeId, CustomerId): The CUBE grouping operator generates all possible combinations of grouping columns specified in the GROUP BY clause. In this case, it considers all possible combinations of grouping by EmployeeId, CustomerId, and their combinations.\n",
                "- This query provides a comprehensive analysis of product orders by considering all possible combinations of grouping by EmployeeId and CustomerId. The inclusion of indicators (GroupEmp and GroupCust) for grouping the EmployeeId and CustomerId columns provides additional information about the grouping status of each column in the result set. By utilizing the CUBE grouping operator, the query generates subtotal quantities for various combinations of grouping columns, allowing for a detailed examination of product orders across different dimensions."
            ],
            "metadata": {
                "language": "sql",
                "azdata_cell_guid": "45374abe-2bac-4f64-9e99-e59459982f22"
            },
            "attachments": {}
        },
        {
            "cell_type": "markdown",
            "source": [
                "## _Q7._\n",
                "\n",
                "**Proposition**\n",
                "\n",
                "- Write a query against the dbo.Orders table that calculates the total quantity of products ordered, considering all possible combinations of grouping by EmployeeId, CustomerId, and their combinations. Additionally, the query should include a grouping identifier for each grouping set, utilizing the CUBE grouping operator."
            ],
            "metadata": {
                "language": "sql",
                "azdata_cell_guid": "9fa899ab-7c4e-49a7-aca1-5e50836a1c66"
            },
            "attachments": {}
        },
        {
            "cell_type": "code",
            "source": [
                "/*\r\n",
                "USE TSQLV4\r\n",
                "SELECT\r\n",
                "  GROUPING_ID(empid, custid) AS groupingset,\r\n",
                "  empid, custid, SUM(qty) AS sumqty\r\n",
                "FROM dbo.Orders\r\n",
                "GROUP BY CUBE(empid, custid);\r\n",
                "*/\r\n",
                "\r\n",
                "USE Northwinds2022TSQLV7\r\n",
                "SELECT\r\n",
                "  GROUPING_ID(EmployeeId, CustomerId) AS groupingset,\r\n",
                "  EmployeeId, CustomerId, SUM(Quantity) AS sumqty\r\n",
                "FROM dbo.Orders\r\n",
                "GROUP BY CUBE(EmployeeId, CustomerId);"
            ],
            "metadata": {
                "language": "sql",
                "azdata_cell_guid": "93733d72-4100-4454-9118-9dbdd9a439b6"
            },
            "outputs": [
                {
                    "output_type": "display_data",
                    "data": {
                        "text/html": "(15 rows affected)"
                    },
                    "metadata": {}
                },
                {
                    "output_type": "display_data",
                    "data": {
                        "text/html": "Total execution time: 00:00:00.008"
                    },
                    "metadata": {}
                },
                {
                    "output_type": "execute_result",
                    "metadata": {},
                    "execution_count": 57,
                    "data": {
                        "application/vnd.dataresource+json": {
                            "schema": {
                                "fields": [
                                    {
                                        "name": "groupingset"
                                    },
                                    {
                                        "name": "EmployeeId"
                                    },
                                    {
                                        "name": "CustomerId"
                                    },
                                    {
                                        "name": "sumqty"
                                    }
                                ]
                            },
                            "data": [
                                {
                                    "groupingset": "0",
                                    "EmployeeId": "2",
                                    "CustomerId": "A",
                                    "sumqty": "52"
                                },
                                {
                                    "groupingset": "0",
                                    "EmployeeId": "3",
                                    "CustomerId": "A",
                                    "sumqty": "20"
                                },
                                {
                                    "groupingset": "2",
                                    "EmployeeId": "NULL",
                                    "CustomerId": "A",
                                    "sumqty": "72"
                                },
                                {
                                    "groupingset": "0",
                                    "EmployeeId": "1",
                                    "CustomerId": "B",
                                    "sumqty": "20"
                                },
                                {
                                    "groupingset": "0",
                                    "EmployeeId": "2",
                                    "CustomerId": "B",
                                    "sumqty": "27"
                                },
                                {
                                    "groupingset": "2",
                                    "EmployeeId": "NULL",
                                    "CustomerId": "B",
                                    "sumqty": "47"
                                },
                                {
                                    "groupingset": "0",
                                    "EmployeeId": "1",
                                    "CustomerId": "C",
                                    "sumqty": "34"
                                },
                                {
                                    "groupingset": "0",
                                    "EmployeeId": "3",
                                    "CustomerId": "C",
                                    "sumqty": "22"
                                },
                                {
                                    "groupingset": "2",
                                    "EmployeeId": "NULL",
                                    "CustomerId": "C",
                                    "sumqty": "56"
                                },
                                {
                                    "groupingset": "0",
                                    "EmployeeId": "3",
                                    "CustomerId": "D",
                                    "sumqty": "30"
                                },
                                {
                                    "groupingset": "2",
                                    "EmployeeId": "NULL",
                                    "CustomerId": "D",
                                    "sumqty": "30"
                                },
                                {
                                    "groupingset": "3",
                                    "EmployeeId": "NULL",
                                    "CustomerId": "NULL",
                                    "sumqty": "205"
                                },
                                {
                                    "groupingset": "1",
                                    "EmployeeId": "1",
                                    "CustomerId": "NULL",
                                    "sumqty": "54"
                                },
                                {
                                    "groupingset": "1",
                                    "EmployeeId": "2",
                                    "CustomerId": "NULL",
                                    "sumqty": "79"
                                },
                                {
                                    "groupingset": "1",
                                    "EmployeeId": "3",
                                    "CustomerId": "NULL",
                                    "sumqty": "72"
                                }
                            ]
                        },
                        "text/html": [
                            "<table>",
                            "<tr><th>groupingset</th><th>EmployeeId</th><th>CustomerId</th><th>sumqty</th></tr>",
                            "<tr><td>0</td><td>2</td><td>A</td><td>52</td></tr>",
                            "<tr><td>0</td><td>3</td><td>A</td><td>20</td></tr>",
                            "<tr><td>2</td><td>NULL</td><td>A</td><td>72</td></tr>",
                            "<tr><td>0</td><td>1</td><td>B</td><td>20</td></tr>",
                            "<tr><td>0</td><td>2</td><td>B</td><td>27</td></tr>",
                            "<tr><td>2</td><td>NULL</td><td>B</td><td>47</td></tr>",
                            "<tr><td>0</td><td>1</td><td>C</td><td>34</td></tr>",
                            "<tr><td>0</td><td>3</td><td>C</td><td>22</td></tr>",
                            "<tr><td>2</td><td>NULL</td><td>C</td><td>56</td></tr>",
                            "<tr><td>0</td><td>3</td><td>D</td><td>30</td></tr>",
                            "<tr><td>2</td><td>NULL</td><td>D</td><td>30</td></tr>",
                            "<tr><td>3</td><td>NULL</td><td>NULL</td><td>205</td></tr>",
                            "<tr><td>1</td><td>1</td><td>NULL</td><td>54</td></tr>",
                            "<tr><td>1</td><td>2</td><td>NULL</td><td>79</td></tr>",
                            "<tr><td>1</td><td>3</td><td>NULL</td><td>72</td></tr>",
                            "</table>"
                        ]
                    }
                }
            ],
            "execution_count": 57
        },
        {
            "cell_type": "markdown",
            "source": [
                "**Explanation**\n",
                "\n",
                "- The proposition is to write a query against the dbo.Orders table that calculates the total quantity of products ordered, considering all possible combinations of grouping by EmployeeId, CustomerId, and their combinations. Additionally, the query should include a grouping identifier for each grouping set, utilizing the CUBE grouping operator. The table used is dbo.Orders selecting EmployeeId, CustomerId, and Quantity. The predicate is:\n",
                "    - SUM(Quantity) AS sumqty: Calculates the total quantity of products ordered for each grouping combination.\n",
                "    - GROUP BY CUBE(EmployeeId, CustomerId): The CUBE grouping operator generates all possible combinations of grouping columns specified in the GROUP BY clause. In this case, it considers all possible combinations of grouping by EmployeeId, CustomerId, and their combinations.\n",
                "\n",
                "- This query provides a comprehensive analysis of product orders by considering all possible combinations of grouping by EmployeeId and CustomerId. The inclusion of a grouping identifier (groupingset) for each grouping set allows for easy identification and analysis of different grouping combinations. By utilizing the CUBE grouping operator, the query generates subtotal quantities for various combinations of grouping columns, enabling a detailed examination of product orders across different dimensions."
            ],
            "metadata": {
                "language": "sql",
                "azdata_cell_guid": "63a3e148-da15-48c2-80e4-4e44f08143bf"
            },
            "attachments": {}
        },
        {
            "cell_type": "code",
            "source": [
                "USE TSQLV4\r\n",
                "DROP TABLE IF EXISTS dbo.Orders;\r\n",
                "\r\n",
                "USE Northwinds2022TSQLV7\r\n",
                "DROP TABLE IF EXISTS dbo.Orders;"
            ],
            "metadata": {
                "language": "sql",
                "azdata_cell_guid": "9ecd6d79-52eb-4a10-ac09-8602db066dd4"
            },
            "outputs": [],
            "execution_count": null
        }
    ]
}