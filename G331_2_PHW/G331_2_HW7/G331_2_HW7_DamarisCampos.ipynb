{
    "metadata": {
        "kernelspec": {
            "name": "SQL",
            "display_name": "SQL",
            "language": "sql"
        },
        "language_info": {
            "name": "sql",
            "version": ""
        }
    },
    "nbformat_minor": 2,
    "nbformat": 4,
    "cells": [
        {
            "cell_type": "markdown",
            "source": [
                "# Damaris Campos - PHW 7"
            ],
            "metadata": {
                "azdata_cell_guid": "6ec11917-6942-4556-a2e0-13fab4846fba"
            },
            "attachments": {}
        }
    ]
}