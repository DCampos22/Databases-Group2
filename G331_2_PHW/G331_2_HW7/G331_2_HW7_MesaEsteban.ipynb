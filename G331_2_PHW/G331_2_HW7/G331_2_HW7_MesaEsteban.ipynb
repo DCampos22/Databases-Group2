{
    "metadata": {
        "kernelspec": {
            "name": "SQL",
            "display_name": "SQL",
            "language": "sql"
        },
        "language_info": {
            "name": "sql",
            "version": ""
        },
        "connection_name": "CSCI 331"
    },
    "nbformat_minor": 2,
    "nbformat": 4,
    "cells": [
        {
            "cell_type": "markdown",
            "source": [
                "# **Esteban Mesa PHW7 Ch 7: Beyond the Fundamentals of Querying**\n",
                "\n",
                "**All exercises for this chapter will involve querying the dbo.Orders**\n",
                "**table in the TSQLV4 database that you created and populated**\n",
                "**earlier by running the code in Listing 7-1**"
            ],
            "metadata": {
                "azdata_cell_guid": "58db4f29-afdb-4849-839f-11e5dd468e32"
            },
            "attachments": {}
        },
        {
            "cell_type": "code",
            "source": [
                "USE TSQLV4;\n",
                "GO\n",
                "\n",
                "DROP TABLE IF EXISTS dbo.Orders;\n",
                "GO\n",
                "\n",
                "CREATE TABLE dbo.Orders\n",
                "(\n",
                "    orderid INT NOT NULL,\n",
                "    orderdate DATE NOT NULL,\n",
                "    empid INT NOT NULL,\n",
                "    custid VARCHAR(5) NOT NULL,\n",
                "    qty INT NOT NULL,\n",
                "    CONSTRAINT PK_Orders PRIMARY KEY(orderid)\n",
                ");\n",
                "GO\n",
                "\n",
                "INSERT INTO dbo.Orders (orderid, orderdate, empid, custid, qty)\n",
                "VALUES\n",
                "    (30001, '20140802', 3, 'A', 10),\n",
                "    (10001, '20141224', 2, 'A', 12),\n",
                "    (10005, '20141224', 1, 'B', 20),\n",
                "    (40001, '20150109', 2, 'A', 40),\n",
                "    (10006, '20150118', 1, 'C', 14),\n",
                "    (20001, '20150212', 2, 'B', 12),\n",
                "    (40005, '20160212', 3, 'A', 10),\n",
                "    (20002, '20160216', 1, 'C', 20),\n",
                "    (30003, '20160418', 2, 'B', 15),\n",
                "    (30004, '20140418', 3, 'C', 22),\n",
                "    (30007, '20160907', 3, 'D', 30);\n",
                "GO\n",
                "\n",
                "\n",
                "\n",
                "USE Northwinds2022TSQLV7\n",
                "DROP TABLE IF EXISTS dbo.Orders;\n",
                "CREATE TABLE dbo.Orders\n",
                "(\n",
                "OrderId INT NOT NULL,\n",
                "OrderDate DATE NOT NULL,\n",
                "EmployeeId INT NOT NULL,\n",
                "CustomerId VARCHAR(5) NOT NULL,\n",
                "Quantity SMALLINT NOT NULL,\n",
                "CONSTRAINT PK_Orders PRIMARY KEY(orderid)\n",
                ");\n",
                "INSERT INTO dbo.Orders(OrderId, OrderDate, EmployeeId, CustomerId, Quantity)\n",
                "VALUES\n",
                "(30001, '20140802', 3, 'A', 10),\n",
                "(10001, '20141224', 2, 'A', 12),\n",
                "(10005, '20141224', 1, 'B', 20),\n",
                "(40001, '20150109', 2, 'A', 40),\n",
                "(10006, '20150118', 1, 'C', 14),\n",
                "(20001, '20150212', 2, 'B', 12),\n",
                "(40005, '20160212', 3, 'A', 10),\n",
                "(20002, '20160216', 1, 'C', 20),\n",
                "(30003, '20160418', 2, 'B', 15),\n",
                "(30004, '20140418', 3, 'C', 22),\n",
                "(30007, '20160907', 3, 'D', 30);\n",
                ""
            ],
            "metadata": {
                "azdata_cell_guid": "99396d93-242e-4252-9231-4c4f499e399b",
                "language": "sql",
                "tags": []
            },
            "outputs": [
                {
                    "output_type": "display_data",
                    "data": {
                        "text/html": "Commands completed successfully."
                    },
                    "metadata": {}
                },
                {
                    "output_type": "display_data",
                    "data": {
                        "text/html": "Commands completed successfully."
                    },
                    "metadata": {}
                },
                {
                    "output_type": "display_data",
                    "data": {
                        "text/html": "Commands completed successfully."
                    },
                    "metadata": {}
                },
                {
                    "output_type": "display_data",
                    "data": {
                        "text/html": "(11 rows affected)"
                    },
                    "metadata": {}
                },
                {
                    "output_type": "display_data",
                    "data": {
                        "text/html": "(11 rows affected)"
                    },
                    "metadata": {}
                },
                {
                    "output_type": "display_data",
                    "data": {
                        "text/html": "Total execution time: 00:00:00.062"
                    },
                    "metadata": {}
                }
            ],
            "execution_count": 24
        },
        {
            "cell_type": "markdown",
            "source": [
                "## **TOP 5 QUERIES**\n",
                "\n",
                "**TOP 1**\n",
                "\n",
                "Compute for each customer order, both a rank and a dense rank, partitioned by custid and ordered by qty.\n",
                "\n",
                "**Tables Involved:** dbo.orders"
            ],
            "metadata": {
                "azdata_cell_guid": "e3e4100e-035f-4994-8ae2-3818b71535bc"
            },
            "attachments": {}
        },
        {
            "cell_type": "code",
            "source": [
                "USE TSQLV4\n",
                "SELECT custid, orderid, qty,\n",
                "  RANK() OVER(PARTITION BY custid ORDER BY qty) AS rank,\n",
                "  DENSE_RANK() OVER(PARTITION BY custid ORDER BY qty) AS dense_rank\n",
                "FROM dbo.Orders\n",
                "ORDER BY custid, qty;\n",
                ""
            ],
            "metadata": {
                "azdata_cell_guid": "d8a79dba-1c86-490b-949d-cfad700ea1df",
                "language": "sql"
            },
            "outputs": [
                {
                    "output_type": "display_data",
                    "data": {
                        "text/html": "(11 rows affected)"
                    },
                    "metadata": {}
                },
                {
                    "output_type": "display_data",
                    "data": {
                        "text/html": "Total execution time: 00:00:00.006"
                    },
                    "metadata": {}
                },
                {
                    "output_type": "execute_result",
                    "metadata": {},
                    "execution_count": 26,
                    "data": {
                        "application/vnd.dataresource+json": {
                            "schema": {
                                "fields": [
                                    {
                                        "name": "custid"
                                    },
                                    {
                                        "name": "orderid"
                                    },
                                    {
                                        "name": "qty"
                                    },
                                    {
                                        "name": "rank"
                                    },
                                    {
                                        "name": "dense_rank"
                                    }
                                ]
                            },
                            "data": [
                                {
                                    "custid": "A",
                                    "orderid": "30001",
                                    "qty": "10",
                                    "rank": "1",
                                    "dense_rank": "1"
                                },
                                {
                                    "custid": "A",
                                    "orderid": "40005",
                                    "qty": "10",
                                    "rank": "1",
                                    "dense_rank": "1"
                                },
                                {
                                    "custid": "A",
                                    "orderid": "10001",
                                    "qty": "12",
                                    "rank": "3",
                                    "dense_rank": "2"
                                },
                                {
                                    "custid": "A",
                                    "orderid": "40001",
                                    "qty": "40",
                                    "rank": "4",
                                    "dense_rank": "3"
                                },
                                {
                                    "custid": "B",
                                    "orderid": "20001",
                                    "qty": "12",
                                    "rank": "1",
                                    "dense_rank": "1"
                                },
                                {
                                    "custid": "B",
                                    "orderid": "30003",
                                    "qty": "15",
                                    "rank": "2",
                                    "dense_rank": "2"
                                },
                                {
                                    "custid": "B",
                                    "orderid": "10005",
                                    "qty": "20",
                                    "rank": "3",
                                    "dense_rank": "3"
                                },
                                {
                                    "custid": "C",
                                    "orderid": "10006",
                                    "qty": "14",
                                    "rank": "1",
                                    "dense_rank": "1"
                                },
                                {
                                    "custid": "C",
                                    "orderid": "20002",
                                    "qty": "20",
                                    "rank": "2",
                                    "dense_rank": "2"
                                },
                                {
                                    "custid": "C",
                                    "orderid": "30004",
                                    "qty": "22",
                                    "rank": "3",
                                    "dense_rank": "3"
                                },
                                {
                                    "custid": "D",
                                    "orderid": "30007",
                                    "qty": "30",
                                    "rank": "1",
                                    "dense_rank": "1"
                                }
                            ]
                        },
                        "text/html": [
                            "<table>",
                            "<tr><th>custid</th><th>orderid</th><th>qty</th><th>rank</th><th>dense_rank</th></tr>",
                            "<tr><td>A</td><td>30001</td><td>10</td><td>1</td><td>1</td></tr>",
                            "<tr><td>A</td><td>40005</td><td>10</td><td>1</td><td>1</td></tr>",
                            "<tr><td>A</td><td>10001</td><td>12</td><td>3</td><td>2</td></tr>",
                            "<tr><td>A</td><td>40001</td><td>40</td><td>4</td><td>3</td></tr>",
                            "<tr><td>B</td><td>20001</td><td>12</td><td>1</td><td>1</td></tr>",
                            "<tr><td>B</td><td>30003</td><td>15</td><td>2</td><td>2</td></tr>",
                            "<tr><td>B</td><td>10005</td><td>20</td><td>3</td><td>3</td></tr>",
                            "<tr><td>C</td><td>10006</td><td>14</td><td>1</td><td>1</td></tr>",
                            "<tr><td>C</td><td>20002</td><td>20</td><td>2</td><td>2</td></tr>",
                            "<tr><td>C</td><td>30004</td><td>22</td><td>3</td><td>3</td></tr>",
                            "<tr><td>D</td><td>30007</td><td>30</td><td>1</td><td>1</td></tr>",
                            "</table>"
                        ]
                    }
                }
            ],
            "execution_count": 26
        },
        {
            "cell_type": "markdown",
            "source": [
                "**Explanation:** So this is supposed to rank customer orders within each customer (custid) based on the quantity (qty) of the order. The RANK() function assigns a unique rank to each order, with gaps in the ranking sequence for orders with the same quantity (ties), whereas the DENSE_RANK() function also assigns a unique rank but without gaps in the sequence for ties. This means that if two orders have the same quantity, they will receive the same rank, but the numbering will continue sequentially with DENSE_RANK() without skipping numbers. The partitioning by custid ensures that the ranking starts anew for each customer, allowing for an analysis of order sizes relative to each customer's purchase history."
            ],
            "metadata": {
                "azdata_cell_guid": "2be9b2bd-768f-4e7c-bf53-9c566ba8fbf1"
            },
            "attachments": {}
        },
        {
            "cell_type": "markdown",
            "source": [
                "**TOP 2:** \n",
                "\n",
                "Calculate the total value of orders and the percentage contribution of each order to the total value, both overall and partitioned by customer.\n",
                "\n",
                "**Tables Involved:** Sales.OrderValues"
            ],
            "metadata": {
                "azdata_cell_guid": "429cf820-3878-49e0-8597-6231684774cf"
            },
            "attachments": {}
        },
        {
            "cell_type": "code",
            "source": [
                "USE TSQLV4\n",
                "SELECT orderid, custid, val,\n",
                "  SUM(val) OVER() AS totalvalue,\n",
                "  100. * val / SUM(val) OVER() AS pctall,\n",
                "  SUM(val) OVER(PARTITION BY custid) AS custtotalvalue,\n",
                "  100. * val / SUM(val) OVER(PARTITION BY custid) AS pctcust\n",
                "FROM Sales.OrderValues;\n",
                ""
            ],
            "metadata": {
                "azdata_cell_guid": "81884c9f-3910-4d2b-9ab1-f303dc50b26a",
                "language": "sql"
            },
            "outputs": [
                {
                    "output_type": "display_data",
                    "data": {
                        "text/html": "(830 rows affected)"
                    },
                    "metadata": {}
                },
                {
                    "output_type": "display_data",
                    "data": {
                        "text/html": "Total execution time: 00:00:00.036"
                    },
                    "metadata": {}
                },
                {
                    "output_type": "execute_result",
                    "metadata": {},
                    "execution_count": 27,
                    "data": {
                        "application/vnd.dataresource+json": {
                            "schema": {
                                "fields": [
                                    {
                                        "name": "orderid"
                                    },
                                    {
                                        "name": "custid"
                                    },
                                    {
                                        "name": "val"
                                    },
                                    {
                                        "name": "totalvalue"
                                    },
                                    {
                                        "name": "pctall"
                                    },
                                    {
                                        "name": "custtotalvalue"
                                    },
                                    {
                                        "name": "pctcust"
                                    }
                                ]
                            },
                            "data": [
                                {
                                    "orderid": "10643",
                                    "custid": "1",
                                    "val": "814.50",
                                    "totalvalue": "1265793.22",
                                    "pctall": "0.0643470029014691672941",
                                    "custtotalvalue": "4273.00",
                                    "pctcust": "19.0615492628130119354083"
                                },
                                {
                                    "orderid": "10692",
                                    "custid": "1",
                                    "val": "878.00",
                                    "totalvalue": "1265793.22",
                                    "pctall": "0.0693636200705830925528",
                                    "custtotalvalue": "4273.00",
                                    "pctcust": "20.5476246197051252047741"
                                },
                                {
                                    "orderid": "10702",
                                    "custid": "1",
                                    "val": "330.00",
                                    "totalvalue": "1265793.22",
                                    "pctall": "0.0260706089103558320528",
                                    "custtotalvalue": "4273.00",
                                    "pctcust": "7.7229113035338169904048"
                                },
                                {
                                    "orderid": "10835",
                                    "custid": "1",
                                    "val": "845.80",
                                    "totalvalue": "1265793.22",
                                    "pctall": "0.0668197606556938265161",
                                    "custtotalvalue": "4273.00",
                                    "pctcust": "19.7940556985724315469225"
                                },
                                {
                                    "orderid": "10952",
                                    "custid": "1",
                                    "val": "471.20",
                                    "totalvalue": "1265793.22",
                                    "pctall": "0.0372256694501808123130",
                                    "custtotalvalue": "4273.00",
                                    "pctcust": "11.0273812309852562602387"
                                },
                                {
                                    "orderid": "11011",
                                    "custid": "1",
                                    "val": "933.50",
                                    "totalvalue": "1265793.22",
                                    "pctall": "0.0737482224782338461253",
                                    "custtotalvalue": "4273.00",
                                    "pctcust": "21.8464778843903580622513"
                                },
                                {
                                    "orderid": "10926",
                                    "custid": "2",
                                    "val": "514.40",
                                    "totalvalue": "1265793.22",
                                    "pctall": "0.0406385491620819394181",
                                    "custtotalvalue": "1402.95",
                                    "pctcust": "36.6655974910011048148544"
                                },
                                {
                                    "orderid": "10759",
                                    "custid": "2",
                                    "val": "320.00",
                                    "totalvalue": "1265793.22",
                                    "pctall": "0.0252805904585268674452",
                                    "custtotalvalue": "1402.95",
                                    "pctcust": "22.8090808653195053280587"
                                },
                                {
                                    "orderid": "10625",
                                    "custid": "2",
                                    "val": "479.75",
                                    "totalvalue": "1265793.22",
                                    "pctall": "0.0379011352264945770526",
                                    "custtotalvalue": "1402.95",
                                    "pctcust": "34.1958017035532271285505"
                                },
                                {
                                    "orderid": "10308",
                                    "custid": "2",
                                    "val": "88.80",
                                    "totalvalue": "1265793.22",
                                    "pctall": "0.0070153638522412057160",
                                    "custtotalvalue": "1402.95",
                                    "pctcust": "6.3295199401261627285362"
                                },
                                {
                                    "orderid": "10365",
                                    "custid": "3",
                                    "val": "403.20",
                                    "totalvalue": "1265793.22",
                                    "pctall": "0.0318535439777438529809",
                                    "custtotalvalue": "7023.98",
                                    "pctcust": "5.7403352515240647040566"
                                },
                                {
                                    "orderid": "10507",
                                    "custid": "3",
                                    "val": "749.06",
                                    "totalvalue": "1265793.22",
                                    "pctall": "0.0591771221527004229016",
                                    "custtotalvalue": "7023.98",
                                    "pctcust": "10.6643242150461704048132"
                                },
                                {
                                    "orderid": "10535",
                                    "custid": "3",
                                    "val": "1940.85",
                                    "totalvalue": "1265793.22",
                                    "pctall": "0.1533307312232245958783",
                                    "custtotalvalue": "7023.98",
                                    "pctcust": "27.6317700221242087819156"
                                },
                                {
                                    "orderid": "10677",
                                    "custid": "3",
                                    "val": "813.37",
                                    "totalvalue": "1265793.22",
                                    "pctall": "0.0642577308164124942934",
                                    "custtotalvalue": "7023.98",
                                    "pctcust": "11.5799019928872234829825"
                                },
                                {
                                    "orderid": "10573",
                                    "custid": "3",
                                    "val": "2082.00",
                                    "totalvalue": "1265793.22",
                                    "pctall": "0.1644818416707904313154",
                                    "custtotalvalue": "7023.98",
                                    "pctcust": "29.6413144684352745879116"
                                },
                                {
                                    "orderid": "10682",
                                    "custid": "3",
                                    "val": "375.50",
                                    "totalvalue": "1265793.22",
                                    "pctall": "0.0296651928661776210177",
                                    "custtotalvalue": "7023.98",
                                    "pctcust": "5.3459719418335473620369"
                                },
                                {
                                    "orderid": "10856",
                                    "custid": "3",
                                    "val": "660.00",
                                    "totalvalue": "1265793.22",
                                    "pctall": "0.0521412178207116641057",
                                    "custtotalvalue": "7023.98",
                                    "pctcust": "9.3963821081495106762832"
                                },
                                {
                                    "orderid": "10864",
                                    "custid": "4",
                                    "val": "282.00",
                                    "totalvalue": "1265793.22",
                                    "pctall": "0.0222785203415768019361",
                                    "custtotalvalue": "13390.65",
                                    "pctcust": "2.1059470600755004424729"
                                },
                                {
                                    "orderid": "10920",
                                    "custid": "4",
                                    "val": "390.00",
                                    "totalvalue": "1265793.22",
                                    "pctall": "0.0308107196213296196988",
                                    "custtotalvalue": "13390.65",
                                    "pctcust": "2.9124799767001601863987"
                                },
                                {
                                    "orderid": "10953",
                                    "custid": "4",
                                    "val": "4441.25",
                                    "totalvalue": "1265793.22",
                                    "pctall": "0.3508669449185389063784",
                                    "custtotalvalue": "13390.65",
                                    "pctcust": "33.1667992218450934047264"
                                },
                                {
                                    "orderid": "11016",
                                    "custid": "4",
                                    "val": "491.50",
                                    "totalvalue": "1265793.22",
                                    "pctall": "0.0388294069073936104666",
                                    "custtotalvalue": "13390.65",
                                    "pctcust": "3.6704715603798172605512"
                                },
                                {
                                    "orderid": "10707",
                                    "custid": "4",
                                    "val": "1641.00",
                                    "totalvalue": "1265793.22",
                                    "pctall": "0.1296420279451330921175",
                                    "custtotalvalue": "13390.65",
                                    "pctcust": "12.2548195942691355535392"
                                },
                                {
                                    "orderid": "10741",
                                    "custid": "4",
                                    "val": "228.00",
                                    "totalvalue": "1265793.22",
                                    "pctall": "0.0180124207017003930547",
                                    "custtotalvalue": "13390.65",
                                    "pctcust": "1.7026806017631705705100"
                                },
                                {
                                    "orderid": "10743",
                                    "custid": "4",
                                    "val": "319.20",
                                    "totalvalue": "1265793.22",
                                    "pctall": "0.0252173889823805502766",
                                    "custtotalvalue": "13390.65",
                                    "pctcust": "2.3837528424684387987140"
                                },
                                {
                                    "orderid": "10768",
                                    "custid": "4",
                                    "val": "1477.00",
                                    "totalvalue": "1265793.22",
                                    "pctall": "0.1166857253351380725518",
                                    "custtotalvalue": "13390.65",
                                    "pctcust": "11.0300844245798374238741"
                                },
                                {
                                    "orderid": "10793",
                                    "custid": "4",
                                    "val": "191.10",
                                    "totalvalue": "1265793.22",
                                    "pctall": "0.0150972526144515136524",
                                    "custtotalvalue": "13390.65",
                                    "pctcust": "1.4271151885830784913353"
                                },
                                {
                                    "orderid": "10558",
                                    "custid": "4",
                                    "val": "2142.90",
                                    "totalvalue": "1265793.22",
                                    "pctall": "0.1692930540424288257761",
                                    "custtotalvalue": "13390.65",
                                    "pctcust": "16.0029572873609570857277"
                                },
                                {
                                    "orderid": "10453",
                                    "custid": "4",
                                    "val": "407.70",
                                    "totalvalue": "1265793.22",
                                    "pctall": "0.0322090522810668870544",
                                    "custtotalvalue": "13390.65",
                                    "pctcust": "3.0446617602580905333198"
                                },
                                {
                                    "orderid": "10355",
                                    "custid": "4",
                                    "val": "480.00",
                                    "totalvalue": "1265793.22",
                                    "pctall": "0.0379208856877903011678",
                                    "custtotalvalue": "13390.65",
                                    "pctcust": "3.5845907405540433063368"
                                },
                                {
                                    "orderid": "10383",
                                    "custid": "4",
                                    "val": "899.00",
                                    "totalvalue": "1265793.22",
                                    "pctall": "0.0710226588194239182289",
                                    "custtotalvalue": "13390.65",
                                    "pctcust": "6.7136397411626769424934"
                                },
                                {
                                    "orderid": "10384",
                                    "custid": "5",
                                    "val": "2222.40",
                                    "totalvalue": "1265793.22",
                                    "pctall": "0.1755737007344690944070",
                                    "custtotalvalue": "24927.58",
                                    "pctcust": "8.9154262066353813727606"
                                },
                                {
                                    "orderid": "10278",
                                    "custid": "5",
                                    "val": "1488.80",
                                    "totalvalue": "1265793.22",
                                    "pctall": "0.1176179471082962507888",
                                    "custtotalvalue": "24927.58",
                                    "pctcust": "5.9725011413061356136456"
                                },
                                {
                                    "orderid": "10280",
                                    "custid": "5",
                                    "val": "613.20",
                                    "totalvalue": "1265793.22",
                                    "pctall": "0.0484439314661521097419",
                                    "custtotalvalue": "24927.58",
                                    "pctcust": "2.4599259133858962642984"
                                },
                                {
                                    "orderid": "10444",
                                    "custid": "5",
                                    "val": "1031.70",
                                    "totalvalue": "1265793.22",
                                    "pctall": "0.0815062036751942785726",
                                    "custtotalvalue": "24927.58",
                                    "pctcust": "4.1387892446840006129756"
                                },
                                {
                                    "orderid": "10445",
                                    "custid": "5",
                                    "val": "174.90",
                                    "totalvalue": "1265793.22",
                                    "pctall": "0.0138174227224885909880",
                                    "custtotalvalue": "24927.58",
                                    "pctcust": "0.7016324889941181614902"
                                },
                                {
                                    "orderid": "10524",
                                    "custid": "5",
                                    "val": "3192.65",
                                    "totalvalue": "1265793.22",
                                    "pctall": "0.2522252410231743854655",
                                    "custtotalvalue": "24927.58",
                                    "pctcust": "12.8077013492685611679914"
                                },
                                {
                                    "orderid": "10572",
                                    "custid": "5",
                                    "val": "1501.09",
                                    "totalvalue": "1265793.22",
                                    "pctall": "0.1185888797855940482917",
                                    "custtotalvalue": "24927.58",
                                    "pctcust": "6.0218039617162997771945"
                                },
                                {
                                    "orderid": "10672",
                                    "custid": "5",
                                    "val": "3815.25",
                                    "totalvalue": "1265793.22",
                                    "pctall": "0.3014117898340457219386",
                                    "custtotalvalue": "24927.58",
                                    "pctcust": "15.3053364987696358812207"
                                },
                                {
                                    "orderid": "10654",
                                    "custid": "5",
                                    "val": "601.83",
                                    "totalvalue": "1265793.22",
                                    "pctall": "0.0475456804864225769829",
                                    "custtotalvalue": "24927.58",
                                    "pctcust": "2.4143137841699836085171"
                                },
                                {
                                    "orderid": "10626",
                                    "custid": "5",
                                    "val": "1503.60",
                                    "totalvalue": "1265793.22",
                                    "pctall": "0.1187871744170031184082",
                                    "custtotalvalue": "24927.58",
                                    "pctcust": "6.0318731300832250864303"
                                },
                                {
                                    "orderid": "10778",
                                    "custid": "5",
                                    "val": "96.50",
                                    "totalvalue": "1265793.22",
                                    "pctall": "0.0076236780601495084639",
                                    "custtotalvalue": "24927.58",
                                    "pctcust": "0.3871214133100766299817"
                                },
                                {
                                    "orderid": "10733",
                                    "custid": "5",
                                    "val": "1459.00",
                                    "totalvalue": "1265793.22",
                                    "pctall": "0.1152636921218459362580",
                                    "custtotalvalue": "24927.58",
                                    "pctcust": "5.8529548395792932968222"
                                },
                                {
                                    "orderid": "10689",
                                    "custid": "5",
                                    "val": "472.50",
                                    "totalvalue": "1265793.22",
                                    "pctall": "0.0373283718489185777120",
                                    "custtotalvalue": "24927.58",
                                    "pctcust": "1.8954908579172145872162"
                                },
                                {
                                    "orderid": "10924",
                                    "custid": "5",
                                    "val": "1835.70",
                                    "totalvalue": "1265793.22",
                                    "pctall": "0.1450236872022430330287",
                                    "custtotalvalue": "24927.58",
                                    "pctcust": "7.3641324187907530534452"
                                },
                                {
                                    "orderid": "10866",
                                    "custid": "5",
                                    "val": "1096.20",
                                    "totalvalue": "1265793.22",
                                    "pctall": "0.0866018226894911002920",
                                    "custtotalvalue": "24927.58",
                                    "pctcust": "4.3975387903679378423416"
                                },
                                {
                                    "orderid": "10857",
                                    "custid": "5",
                                    "val": "2048.21",
                                    "totalvalue": "1265793.22",
                                    "pctall": "0.1618123693220603599061",
                                    "custtotalvalue": "24927.58",
                                    "pctcust": "8.2166419684542181792215"
                                },
                                {
                                    "orderid": "10837",
                                    "custid": "5",
                                    "val": "1064.50",
                                    "totalvalue": "1265793.22",
                                    "pctall": "0.0840974641971932824857",
                                    "custtotalvalue": "24927.58",
                                    "pctcust": "4.2703704090007934986067"
                                },
                                {
                                    "orderid": "10875",
                                    "custid": "5",
                                    "val": "709.55",
                                    "totalvalue": "1265793.22",
                                    "pctall": "0.0560557592495241837367",
                                    "custtotalvalue": "24927.58",
                                    "pctcust": "2.8464455835664753658397"
                                },
                                {
                                    "orderid": "10853",
                                    "custid": "6",
                                    "val": "625.00",
                                    "totalvalue": "1265793.22",
                                    "pctall": "0.0493761532393102879789",
                                    "custtotalvalue": "3239.80",
                                    "pctcust": "19.2913142786591764923760"
                                },
                                {
                                    "orderid": "10956",
                                    "custid": "6",
                                    "val": "677.00",
                                    "totalvalue": "1265793.22",
                                    "pctall": "0.0534842491888209039387",
                                    "custtotalvalue": "3239.80",
                                    "pctcust": "20.8963516266436199765417"
                                },
                                {
                                    "orderid": "11058",
                                    "custid": "6",
                                    "val": "858.00",
                                    "totalvalue": "1265793.22",
                                    "pctall": "0.0677835831669251633374",
                                    "custtotalvalue": "3239.80",
                                    "pctcust": "26.4831162417433174887338"
                                },
                                {
                                    "orderid": "10614",
                                    "custid": "6",
                                    "val": "464.00",
                                    "totalvalue": "1265793.22",
                                    "pctall": "0.0366568561648639577955",
                                    "custtotalvalue": "3239.80",
                                    "pctcust": "14.3218717204765726279399"
                                },
                                {
                                    "orderid": "10582",
                                    "custid": "6",
                                    "val": "330.00",
                                    "totalvalue": "1265793.22",
                                    "pctall": "0.0260706089103558320528",
                                    "custtotalvalue": "3239.80",
                                    "pctcust": "10.1858139391320451879745"
                                },
                                {
                                    "orderid": "10501",
                                    "custid": "6",
                                    "val": "149.00",
                                    "totalvalue": "1265793.22",
                                    "pctall": "0.0117712749322515726541",
                                    "custtotalvalue": "3239.80",
                                    "pctcust": "4.5990493240323476757824"
                                },
                                {
                                    "orderid": "10509",
                                    "custid": "6",
                                    "val": "136.80",
                                    "totalvalue": "1265793.22",
                                    "pctall": "0.0108074524210202358328",
                                    "custtotalvalue": "3239.80",
                                    "pctcust": "4.2224828693129205506512"
                                },
                                {
                                    "orderid": "10436",
                                    "custid": "7",
                                    "val": "1994.52",
                                    "totalvalue": "1265793.22",
                                    "pctall": "0.1575707602541906489276",
                                    "custtotalvalue": "18534.08",
                                    "pctcust": "10.7613650097550026761511"
                                },
                                {
                                    "orderid": "10449",
                                    "custid": "7",
                                    "val": "1838.20",
                                    "totalvalue": "1265793.22",
                                    "pctall": "0.1452211918152002741806",
                                    "custtotalvalue": "18534.08",
                                    "pctcust": "9.9179457518258257221291"
                                },
                                {
                                    "orderid": "10265",
                                    "custid": "7",
                                    "val": "1176.00",
                                    "totalvalue": "1265793.22",
                                    "pctall": "0.0929061699350862378611",
                                    "custtotalvalue": "18534.08",
                                    "pctcust": "6.3450681123638184360917"
                                },
                                {
                                    "orderid": "10297",
                                    "custid": "7",
                                    "val": "1420.00",
                                    "totalvalue": "1265793.22",
                                    "pctall": "0.1121826201597129742881",
                                    "custtotalvalue": "18534.08",
                                    "pctcust": "7.6615618363576719211312"
                                },
                                {
                                    "orderid": "10360",
                                    "custid": "7",
                                    "val": "7390.20",
                                    "totalvalue": "1265793.22",
                                    "pctall": "0.5838394362706414243552",
                                    "custtotalvalue": "18534.08",
                                    "pctcust": "39.8735734387679345292563"
                                },
                                {
                                    "orderid": "10584",
                                    "custid": "7",
                                    "val": "593.75",
                                    "totalvalue": "1265793.22",
                                    "pctall": "0.0469073455773447735800",
                                    "custtotalvalue": "18534.08",
                                    "pctcust": "3.2035579861530758473039"
                                },
                                {
                                    "orderid": "10559",
                                    "custid": "7",
                                    "val": "520.41",
                                    "totalvalue": "1265793.22",
                                    "pctall": "0.0411133502516311471473",
                                    "custtotalvalue": "18534.08",
                                    "pctcust": "2.8078545037034479186450"
                                },
                                {
                                    "orderid": "10566",
                                    "custid": "7",
                                    "val": "1761.00",
                                    "totalvalue": "1265793.22",
                                    "pctall": "0.1391222493670806674094",
                                    "custtotalvalue": "18534.08",
                                    "pctcust": "9.5014157702999015866986"
                                },
                                {
                                    "orderid": "10628",
                                    "custid": "7",
                                    "val": "450.00",
                                    "totalvalue": "1265793.22",
                                    "pctall": "0.0355508303323034073448",
                                    "custtotalvalue": "18534.08",
                                    "pctcust": "2.4279597368739101158514"
                                },
                                {
                                    "orderid": "10679",
                                    "custid": "7",
                                    "val": "660.00",
                                    "totalvalue": "1265793.22",
                                    "pctall": "0.0521412178207116641057",
                                    "custtotalvalue": "18534.08",
                                    "pctcust": "3.5610076140817348365821"
                                },
                                {
                                    "orderid": "10826",
                                    "custid": "7",
                                    "val": "730.00",
                                    "totalvalue": "1265793.22",
                                    "pctall": "0.0576713469835144163594",
                                    "custtotalvalue": "18534.08",
                                    "pctcust": "3.9386902398176764101590"
                                },
                                {
                                    "orderid": "10801",
                                    "custid": "8",
                                    "val": "3026.85",
                                    "totalvalue": "1265793.22",
                                    "pctall": "0.2391267350918501522705",
                                    "custtotalvalue": "4232.85",
                                    "pctcust": "71.5085580637159360714412"
                                },
                                {
                                    "orderid": "10326",
                                    "custid": "8",
                                    "val": "982.00",
                                    "totalvalue": "1265793.22",
                                    "pctall": "0.0775798119696043244725",
                                    "custtotalvalue": "4232.85",
                                    "pctcust": "23.1994991554153820711813"
                                },
                                {
                                    "orderid": "10970",
                                    "custid": "8",
                                    "val": "224.00",
                                    "totalvalue": "1265793.22",
                                    "pctall": "0.0176964133209688072116",
                                    "custtotalvalue": "4232.85",
                                    "pctcust": "5.2919427808686818573774"
                                },
                                {
                                    "orderid": "10932",
                                    "custid": "9",
                                    "val": "1788.63",
                                    "totalvalue": "1265793.22",
                                    "pctall": "0.1413050703494840966204",
                                    "custtotalvalue": "21963.25",
                                    "pctcust": "8.1437401113223225160210"
                                },
                                {
                                    "orderid": "10940",
                                    "custid": "9",
                                    "val": "360.00",
                                    "totalvalue": "1265793.22",
                                    "pctall": "0.0284406642658427258758",
                                    "custtotalvalue": "21963.25",
                                    "pctcust": "1.6391016812174883043265"
                                },
                                {
                                    "orderid": "10876",
                                    "custid": "9",
                                    "val": "917.00",
                                    "totalvalue": "1265793.22",
                                    "pctall": "0.0724446920327160545227",
                                    "custtotalvalue": "21963.25",
                                    "pctcust": "4.1751562268789910418540"
                                },
                                {
                                    "orderid": "10871",
                                    "custid": "9",
                                    "val": "1979.23",
                                    "totalvalue": "1265793.22",
                                    "pctall": "0.1563628220413441620425",
                                    "custtotalvalue": "21963.25",
                                    "pctcust": "9.0115533903224704904784"
                                },
                                {
                                    "orderid": "11076",
                                    "custid": "9",
                                    "val": "792.75",
                                    "totalvalue": "1265793.22",
                                    "pctall": "0.0626287127687411692724",
                                    "custtotalvalue": "21963.25",
                                    "pctcust": "3.6094384938476773701524"
                                },
                                {
                                    "orderid": "10331",
                                    "custid": "9",
                                    "val": "88.50",
                                    "totalvalue": "1265793.22",
                                    "pctall": "0.0069916632986863367778",
                                    "custtotalvalue": "21963.25",
                                    "pctcust": "0.4029458299659658748136"
                                },
                                {
                                    "orderid": "10340",
                                    "custid": "9",
                                    "val": "2436.18",
                                    "totalvalue": "1265793.22",
                                    "pctall": "0.1924627151976686997896",
                                    "custtotalvalue": "21963.25",
                                    "pctcust": "11.0920742604122796034284"
                                },
                                {
                                    "orderid": "10362",
                                    "custid": "9",
                                    "val": "1549.60",
                                    "totalvalue": "1265793.22",
                                    "pctall": "0.1224212592954163556034",
                                    "custtotalvalue": "21963.25",
                                    "pctcust": "7.0554221255961663232900"
                                },
                                {
                                    "orderid": "10511",
                                    "custid": "9",
                                    "val": "2550.00",
                                    "totalvalue": "1265793.22",
                                    "pctall": "0.2014547052163859749541",
                                    "custtotalvalue": "21963.25",
                                    "pctcust": "11.6103035752905421556463"
                                },
                                {
                                    "orderid": "10525",
                                    "custid": "9",
                                    "val": "818.40",
                                    "totalvalue": "1265793.22",
                                    "pctall": "0.0646551100976824634911",
                                    "custtotalvalue": "21963.25",
                                    "pctcust": "3.7262244886344234118356"
                                },
                                {
                                    "orderid": "10470",
                                    "custid": "9",
                                    "val": "1820.80",
                                    "totalvalue": "1265793.22",
                                    "pctall": "0.1438465597090178757633",
                                    "custtotalvalue": "21963.25",
                                    "pctcust": "8.2902120587800075125493"
                                },
                                {
                                    "orderid": "10827",
                                    "custid": "9",
                                    "val": "843.00",
                                    "totalvalue": "1265793.22",
                                    "pctall": "0.0665985554891817164260",
                                    "custtotalvalue": "21963.25",
                                    "pctcust": "3.8382297701842851126313"
                                },
                                {
                                    "orderid": "10730",
                                    "custid": "9",
                                    "val": "484.26",
                                    "totalvalue": "1265793.22",
                                    "pctall": "0.0382574335482694400906",
                                    "custtotalvalue": "21963.25",
                                    "pctcust": "2.2048649448510580173699"
                                },
                                {
                                    "orderid": "10715",
                                    "custid": "9",
                                    "val": "1296.00",
                                    "totalvalue": "1265793.22",
                                    "pctall": "0.1023863913570338131531",
                                    "custtotalvalue": "21963.25",
                                    "pctcust": "5.9007660523829578955755"
                                },
                                {
                                    "orderid": "10732",
                                    "custid": "9",
                                    "val": "360.00",
                                    "totalvalue": "1265793.22",
                                    "pctall": "0.0284406642658427258758",
                                    "custtotalvalue": "21963.25",
                                    "pctcust": "1.6391016812174883043265"
                                },
                                {
                                    "orderid": "10755",
                                    "custid": "9",
                                    "val": "1948.50",
                                    "totalvalue": "1265793.22",
                                    "pctall": "0.1539350953388737538031",
                                    "custtotalvalue": "21963.25",
                                    "pctcust": "8.8716378495896554471674"
                                },
                                {
                                    "orderid": "10663",
                                    "custid": "9",
                                    "val": "1930.40",
                                    "totalvalue": "1265793.22",
                                    "pctall": "0.1525051619410633278632",
                                    "custtotalvalue": "21963.25",
                                    "pctcust": "8.7892274595062206185332"
                                },
                                {
                                    "orderid": "10742",
                                    "custid": "10",
                                    "val": "3118.00",
                                    "totalvalue": "1265793.22",
                                    "pctall": "0.2463277532802711646693",
                                    "custtotalvalue": "20801.61",
                                    "pctcust": "14.9892243917658296641461"
                                },
                                {
                                    "orderid": "10492",
                                    "custid": "10",
                                    "val": "851.20",
                                    "totalvalue": "1265793.22",
                                    "pctall": "0.0672463706196814674042",
                                    "custtotalvalue": "20801.61",
                                    "pctcust": "4.0919909564692348332653"
                                },
                                {
                                    "orderid": "10431",
                                    "custid": "10",
                                    "val": "1892.25",
                                    "totalvalue": "1265793.22",
                                    "pctall": "0.1494912415473358278850",
                                    "custtotalvalue": "20801.61",
                                    "pctcust": "9.0966516534056738877423"
                                },
                                {
                                    "orderid": "10410",
                                    "custid": "10",
                                    "val": "802.00",
                                    "totalvalue": "1265793.22",
                                    "pctall": "0.0633594798366829615345",
                                    "custtotalvalue": "20801.61",
                                    "pctcust": "3.8554708025003833837861"
                                },
                                {
                                    "orderid": "10411",
                                    "custid": "10",
                                    "val": "966.80",
                                    "totalvalue": "1265793.22",
                                    "pctall": "0.0763789839228242982688",
                                    "custtotalvalue": "20801.61",
                                    "pctcust": "4.6477171718919833609033"
                                },
                                {
                                    "orderid": "10389",
                                    "custid": "10",
                                    "val": "1832.80",
                                    "totalvalue": "1265793.22",
                                    "pctall": "0.1447945818512126332925",
                                    "custtotalvalue": "20801.61",
                                    "pctcust": "8.8108564673599783862883"
                                },
                                {
                                    "orderid": "11027",
                                    "custid": "10",
                                    "val": "877.73",
                                    "totalvalue": "1265793.22",
                                    "pctall": "0.0693422895723837105084",
                                    "custtotalvalue": "20801.61",
                                    "pctcust": "4.2195291614447150965718"
                                },
                                {
                                    "orderid": "11045",
                                    "custid": "10",
                                    "val": "1309.50",
                                    "totalvalue": "1265793.22",
                                    "pctall": "0.1034529162670029153734",
                                    "custtotalvalue": "20801.61",
                                    "pctcust": "6.2951858053294913230274"
                                },
                                {
                                    "orderid": "11048",
                                    "custid": "10",
                                    "val": "525.00",
                                    "totalvalue": "1265793.22",
                                    "pctall": "0.0414759687210206419023",
                                    "custtotalvalue": "20801.61",
                                    "pctcust": "2.5238431063749392474909"
                                },
                                {
                                    "orderid": "10982",
                                    "custid": "10",
                                    "val": "1014.00",
                                    "totalvalue": "1265793.22",
                                    "pctall": "0.0801078710154570112170",
                                    "custtotalvalue": "20801.61",
                                    "pctcust": "4.8746226854555969465825"
                                },
                                {
                                    "orderid": "10918",
                                    "custid": "10",
                                    "val": "1447.50",
                                    "totalvalue": "1265793.22",
                                    "pctall": "0.1143551709022426269592",
                                    "custtotalvalue": "20801.61",
                                    "pctcust": "6.9585959932909039252250"
                                },
                                {
                                    "orderid": "10975",
                                    "custid": "10",
                                    "val": "717.50",
                                    "totalvalue": "1265793.22",
                                    "pctall": "0.0566838239187282105998",
                                    "custtotalvalue": "20801.61",
                                    "pctcust": "3.4492522453790836382376"
                                },
                                {
                                    "orderid": "10944",
                                    "custid": "10",
                                    "val": "1025.33",
                                    "totalvalue": "1265793.22",
                                    "pctall": "0.0810029619213792281175",
                                    "custtotalvalue": "20801.61",
                                    "pctcust": "4.9290896233512694450093"
                                },
                                {
                                    "orderid": "10949",
                                    "custid": "10",
                                    "val": "4422.00",
                                    "totalvalue": "1265793.22",
                                    "pctall": "0.3493461593987681495086",
                                    "custtotalvalue": "20801.61",
                                    "pctcust": "21.2579699359809168617236"
                                },
                                {
                                    "orderid": "10947",
                                    "custid": "11",
                                    "val": "220.00",
                                    "totalvalue": "1265793.22",
                                    "pctall": "0.0173804059402372213685",
                                    "custtotalvalue": "6089.90",
                                    "pctcust": "3.6125387937404555083006"
                                },
                                {
                                    "orderid": "10943",
                                    "custid": "11",
                                    "val": "711.00",
                                    "totalvalue": "1265793.22",
                                    "pctall": "0.0561703119250393836048",
                                    "custtotalvalue": "6089.90",
                                    "pctcust": "11.6750685561339266654624"
                                },
                                {
                                    "orderid": "11023",
                                    "custid": "11",
                                    "val": "1500.00",
                                    "totalvalue": "1265793.22",
                                    "pctall": "0.1185027677743446911494",
                                    "custtotalvalue": "6089.90",
                                    "pctcust": "24.6309463209576511929588"
                                },
                                {
                                    "orderid": "10289",
                                    "custid": "11",
                                    "val": "479.40",
                                    "totalvalue": "1265793.22",
                                    "pctall": "0.0378734845806805632913",
                                    "custtotalvalue": "6089.90",
                                    "pctcust": "7.8720504441780653212696"
                                },
                                {
                                    "orderid": "10484",
                                    "custid": "11",
                                    "val": "386.20",
                                    "totalvalue": "1265793.22",
                                    "pctall": "0.0305105126096346131479",
                                    "custtotalvalue": "6089.90",
                                    "pctcust": "6.3416476461025632604804"
                                },
                                {
                                    "orderid": "10471",
                                    "custid": "11",
                                    "val": "1328.00",
                                    "totalvalue": "1265793.22",
                                    "pctall": "0.1049144504028864998976",
                                    "custtotalvalue": "6089.90",
                                    "pctcust": "21.8065978094878405228328"
                                },
                                {
                                    "orderid": "10538",
                                    "custid": "11",
                                    "val": "139.80",
                                    "totalvalue": "1265793.22",
                                    "pctall": "0.0110444579565689252151",
                                    "custtotalvalue": "6089.90",
                                    "pctcust": "2.2956041971132530911837"
                                },
                                {
                                    "orderid": "10539",
                                    "custid": "11",
                                    "val": "355.50",
                                    "totalvalue": "1265793.22",
                                    "pctall": "0.0280851559625196918024",
                                    "custtotalvalue": "6089.90",
                                    "pctcust": "5.8375342780669633327312"
                                },
                                {
                                    "orderid": "10578",
                                    "custid": "11",
                                    "val": "477.00",
                                    "totalvalue": "1265793.22",
                                    "pctall": "0.0376838801522416117855",
                                    "custtotalvalue": "6089.90",
                                    "pctcust": "7.8326409300645330793609"
                                },
                                {
                                    "orderid": "10599",
                                    "custid": "11",
                                    "val": "493.00",
                                    "totalvalue": "1265793.22",
                                    "pctall": "0.0389479096751679551577",
                                    "custtotalvalue": "6089.90",
                                    "pctcust": "8.0953710241547480254191"
                                },
                                {
                                    "orderid": "10819",
                                    "custid": "12",
                                    "val": "477.00",
                                    "totalvalue": "1265793.22",
                                    "pctall": "0.0376838801522416117855",
                                    "custtotalvalue": "1814.80",
                                    "pctcust": "26.2838880317390346043641"
                                },
                                {
                                    "orderid": "10782",
                                    "custid": "12",
                                    "val": "12.50",
                                    "totalvalue": "1265793.22",
                                    "pctall": "0.0009875230647862057595",
                                    "custtotalvalue": "1814.80",
                                    "pctcust": "0.6887811329072074057747"
                                },
                                {
                                    "orderid": "10521",
                                    "custid": "12",
                                    "val": "225.50",
                                    "totalvalue": "1265793.22",
                                    "pctall": "0.0178149160887431519028",
                                    "custtotalvalue": "1814.80",
                                    "pctcust": "12.4256116376460216001763"
                                },
                                {
                                    "orderid": "11054",
                                    "custid": "12",
                                    "val": "305.00",
                                    "totalvalue": "1265793.22",
                                    "pctall": "0.0240955627807834205337",
                                    "custtotalvalue": "1814.80",
                                    "pctcust": "16.8062596429358607009036"
                                },
                                {
                                    "orderid": "10937",
                                    "custid": "12",
                                    "val": "644.80",
                                    "totalvalue": "1265793.22",
                                    "pctall": "0.0509403897739316379021",
                                    "custtotalvalue": "1814.80",
                                    "pctcust": "35.5300859598853868194842"
                                },
                                {
                                    "orderid": "10881",
                                    "custid": "12",
                                    "val": "150.00",
                                    "totalvalue": "1265793.22",
                                    "pctall": "0.0118502767774344691149",
                                    "custtotalvalue": "1814.80",
                                    "pctcust": "8.2653735948864888692968"
                                },
                                {
                                    "orderid": "10259",
                                    "custid": "13",
                                    "val": "100.80",
                                    "totalvalue": "1265793.22",
                                    "pctall": "0.0079633859944359632452",
                                    "custtotalvalue": "100.80",
                                    "pctcust": "100.0000000000000000000000"
                                },
                                {
                                    "orderid": "10254",
                                    "custid": "14",
                                    "val": "556.62",
                                    "totalvalue": "1265793.22",
                                    "pctall": "0.0439740070657038279917",
                                    "custtotalvalue": "12348.88",
                                    "pctcust": "4.5074533075064297328988"
                                },
                                {
                                    "orderid": "10370",
                                    "custid": "14",
                                    "val": "1117.60",
                                    "totalvalue": "1265793.22",
                                    "pctall": "0.0882924621764050845524",
                                    "custtotalvalue": "12348.88",
                                    "pctcust": "9.0502134606539216511942"
                                },
                                {
                                    "orderid": "10519",
                                    "custid": "14",
                                    "val": "2314.20",
                                    "totalvalue": "1265793.22",
                                    "pctall": "0.1828260701222589895054",
                                    "custtotalvalue": "12348.88",
                                    "pctcust": "18.7401610510426856524640"
                                },
                                {
                                    "orderid": "10746",
                                    "custid": "14",
                                    "val": "2311.70",
                                    "totalvalue": "1265793.22",
                                    "pctall": "0.1826285655093017483534",
                                    "custtotalvalue": "12348.88",
                                    "pctcust": "18.7199163001017096287274"
                                },
                                {
                                    "orderid": "10731",
                                    "custid": "14",
                                    "val": "1890.50",
                                    "totalvalue": "1265793.22",
                                    "pctall": "0.1493529883182657590787",
                                    "custtotalvalue": "12348.88",
                                    "pctcust": "15.3090806615660691495908"
                                },
                                {
                                    "orderid": "10966",
                                    "custid": "14",
                                    "val": "1098.46",
                                    "totalvalue": "1265793.22",
                                    "pctall": "0.0867803668596044462933",
                                    "custtotalvalue": "12348.88",
                                    "pctcust": "8.8952196474498092134671"
                                },
                                {
                                    "orderid": "11029",
                                    "custid": "14",
                                    "val": "1286.80",
                                    "totalvalue": "1265793.22",
                                    "pctall": "0.1016595743813511657140",
                                    "custtotalvalue": "12348.88",
                                    "pctcust": "10.4203782043391789376850"
                                },
                                {
                                    "orderid": "11041",
                                    "custid": "14",
                                    "val": "1773.00",
                                    "totalvalue": "1265793.22",
                                    "pctall": "0.1400702715092754249386",
                                    "custtotalvalue": "12348.88",
                                    "pctcust": "14.3575773673401960339723"
                                },
                                {
                                    "orderid": "11042",
                                    "custid": "15",
                                    "val": "405.75",
                                    "totalvalue": "1265793.22",
                                    "pctall": "0.0320549986829602389559",
                                    "custtotalvalue": "3810.75",
                                    "pctcust": "10.6475103326116906120842"
                                },
                                {
                                    "orderid": "10969",
                                    "custid": "15",
                                    "val": "108.00",
                                    "totalvalue": "1265793.22",
                                    "pctall": "0.0085321992797528177627",
                                    "custtotalvalue": "3810.75",
                                    "pctcust": "2.8340877779964573902775"
                                },
                                {
                                    "orderid": "10466",
                                    "custid": "15",
                                    "val": "216.00",
                                    "totalvalue": "1265793.22",
                                    "pctall": "0.0170643985595056355255",
                                    "custtotalvalue": "3810.75",
                                    "pctcust": "5.6681755559929147805550"
                                },
                                {
                                    "orderid": "10494",
                                    "custid": "15",
                                    "val": "912.00",
                                    "totalvalue": "1265793.22",
                                    "pctall": "0.0720496828068015722188",
                                    "custtotalvalue": "3810.75",
                                    "pctcust": "23.9322967919700846290100"
                                },
                                {
                                    "orderid": "10290",
                                    "custid": "15",
                                    "val": "2169.00",
                                    "totalvalue": "1265793.22",
                                    "pctall": "0.1713550022017024234021",
                                    "custtotalvalue": "3810.75",
                                    "pctcust": "56.9179295414288525880732"
                                },
                                {
                                    "orderid": "10435",
                                    "custid": "16",
                                    "val": "631.60",
                                    "totalvalue": "1265793.22",
                                    "pctall": "0.0498975654175174046200",
                                    "custtotalvalue": "1719.10",
                                    "pctcust": "36.7401547321272759001803"
                                },
                                {
                                    "orderid": "10462",
                                    "custid": "16",
                                    "val": "156.00",
                                    "totalvalue": "1265793.22",
                                    "pctall": "0.0123242878485318478795",
                                    "custtotalvalue": "1719.10",
                                    "pctcust": "9.0745157349776045605258"
                                },
                                {
                                    "orderid": "10848",
                                    "custid": "16",
                                    "val": "931.50",
                                    "totalvalue": "1265793.22",
                                    "pctall": "0.0735902187878680532038",
                                    "custtotalvalue": "1719.10",
                                    "pctcust": "54.1853295328951195392938"
                                },
                                {
                                    "orderid": "10825",
                                    "custid": "17",
                                    "val": "1030.76",
                                    "totalvalue": "1265793.22",
                                    "pctall": "0.0814319419407223558994",
                                    "custtotalvalue": "3763.21",
                                    "pctcust": "27.3904459224970171741677"
                                },
                                {
                                    "orderid": "11036",
                                    "custid": "17",
                                    "val": "1692.00",
                                    "totalvalue": "1265793.22",
                                    "pctall": "0.1336711220494608116166",
                                    "custtotalvalue": "3763.21",
                                    "pctcust": "44.9616152167962989043927"
                                },
                                {
                                    "orderid": "11067",
                                    "custid": "17",
                                    "val": "86.85",
                                    "totalvalue": "1265793.22",
                                    "pctall": "0.0068613102541345576175",
                                    "custtotalvalue": "3763.21",
                                    "pctcust": "2.3078701427770440661031"
                                },
                                {
                                    "orderid": "10391",
                                    "custid": "17",
                                    "val": "86.40",
                                    "totalvalue": "1265793.22",
                                    "pctall": "0.0068257594238022542102",
                                    "custtotalvalue": "3763.21",
                                    "pctcust": "2.2959122663895982419264"
                                },
                                {
                                    "orderid": "10363",
                                    "custid": "17",
                                    "val": "447.20",
                                    "totalvalue": "1265793.22",
                                    "pctall": "0.0353296251657912972546",
                                    "custtotalvalue": "3763.21",
                                    "pctcust": "11.8834718232572723818229"
                                },
                                {
                                    "orderid": "10797",
                                    "custid": "17",
                                    "val": "420.00",
                                    "totalvalue": "1265793.22",
                                    "pctall": "0.0331807749768165135218",
                                    "custtotalvalue": "3763.21",
                                    "pctcust": "11.1606846282827692315868"
                                },
                                {
                                    "orderid": "10683",
                                    "custid": "18",
                                    "val": "63.00",
                                    "totalvalue": "1265793.22",
                                    "pctall": "0.0049771162465224770282",
                                    "custtotalvalue": "1615.90",
                                    "pctcust": "3.8987561111454916764651"
                                },
                                {
                                    "orderid": "10609",
                                    "custid": "18",
                                    "val": "424.00",
                                    "totalvalue": "1265793.22",
                                    "pctall": "0.0334967823575480993649",
                                    "custtotalvalue": "1615.90",
                                    "pctcust": "26.2392474781855312828764"
                                },
                                {
                                    "orderid": "10311",
                                    "custid": "18",
                                    "val": "268.80",
                                    "totalvalue": "1265793.22",
                                    "pctall": "0.0212356959851625686539",
                                    "custtotalvalue": "1615.90",
                                    "pctcust": "16.6346927408874311529178"
                                },
                                {
                                    "orderid": "10890",
                                    "custid": "18",
                                    "val": "860.10",
                                    "totalvalue": "1265793.22",
                                    "pctall": "0.0679494870418092459051",
                                    "custtotalvalue": "1615.90",
                                    "pctcust": "53.2273036697815458877405"
                                },
                                {
                                    "orderid": "11056",
                                    "custid": "19",
                                    "val": "3740.00",
                                    "totalvalue": "1265793.22",
                                    "pctall": "0.2954669009840327632660",
                                    "custtotalvalue": "14761.04",
                                    "pctcust": "25.3369681269070471999262"
                                },
                                {
                                    "orderid": "11047",
                                    "custid": "19",
                                    "val": "817.88",
                                    "totalvalue": "1265793.22",
                                    "pctall": "0.0646140291381873573315",
                                    "custtotalvalue": "14761.04",
                                    "pctcust": "5.5408020031108919154747"
                                },
                                {
                                    "orderid": "11024",
                                    "custid": "19",
                                    "val": "1966.81",
                                    "totalvalue": "1265793.22",
                                    "pctall": "0.1553816191241725879997",
                                    "custtotalvalue": "14761.04",
                                    "pctcust": "13.3243321608775533431248"
                                },
                                {
                                    "orderid": "10987",
                                    "custid": "19",
                                    "val": "2772.00",
                                    "totalvalue": "1265793.22",
                                    "pctall": "0.2189931148469889892442",
                                    "custtotalvalue": "14761.04",
                                    "pctcust": "18.7791646117075761599453"
                                },
                                {
                                    "orderid": "10364",
                                    "custid": "19",
                                    "val": "950.00",
                                    "totalvalue": "1265793.22",
                                    "pctall": "0.0750517529237516377280",
                                    "custtotalvalue": "14761.04",
                                    "pctcust": "6.4358608878507205454358"
                                },
                                {
                                    "orderid": "10400",
                                    "custid": "19",
                                    "val": "3063.00",
                                    "totalvalue": "1265793.22",
                                    "pctall": "0.2419826517952118593272",
                                    "custtotalvalue": "14761.04",
                                    "pctcust": "20.7505704205123758217578"
                                },
                                {
                                    "orderid": "10532",
                                    "custid": "19",
                                    "val": "796.35",
                                    "totalvalue": "1265793.22",
                                    "pctall": "0.0629131194113995965312",
                                    "custtotalvalue": "14761.04",
                                    "pctcust": "5.3949450716209697961661"
                                },
                                {
                                    "orderid": "10726",
                                    "custid": "19",
                                    "val": "655.00",
                                    "totalvalue": "1265793.22",
                                    "pctall": "0.0517462085947971818019",
                                    "custtotalvalue": "14761.04",
                                    "pctcust": "4.4373567174128652181689"
                                },
                                {
                                    "orderid": "10698",
                                    "custid": "20",
                                    "val": "3436.44",
                                    "totalvalue": "1265793.22",
                                    "pctall": "0.2714851008603127136358",
                                    "custtotalvalue": "104874.99",
                                    "pctcust": "3.2767011467653060086108"
                                },
                                {
                                    "orderid": "10795",
                                    "custid": "20",
                                    "val": "2158.00",
                                    "totalvalue": "1265793.22",
                                    "pctall": "0.1704859819046905623337",
                                    "custtotalvalue": "104874.99",
                                    "pctcust": "2.0576879196841878125566"
                                },
                                {
                                    "orderid": "10776",
                                    "custid": "20",
                                    "val": "6635.28",
                                    "totalvalue": "1265793.22",
                                    "pctall": "0.5241993633051692281935",
                                    "custtotalvalue": "104874.99",
                                    "pctcust": "6.3268468488054206250699"
                                },
                                {
                                    "orderid": "10771",
                                    "custid": "20",
                                    "val": "344.00",
                                    "totalvalue": "1265793.22",
                                    "pctall": "0.0271766347429163825036",
                                    "custtotalvalue": "104874.99",
                                    "pctcust": "0.3280095664371457866169"
                                },
                                {
                                    "orderid": "10773",
                                    "custid": "20",
                                    "val": "2030.40",
                                    "totalvalue": "1265793.22",
                                    "pctall": "0.1604053464593529739399",
                                    "custtotalvalue": "104874.99",
                                    "pctcust": "1.9360192549243628056603"
                                },
                                {
                                    "orderid": "10764",
                                    "custid": "20",
                                    "val": "2286.00",
                                    "totalvalue": "1265793.22",
                                    "pctall": "0.1805982180881013093118",
                                    "custtotalvalue": "104874.99",
                                    "pctcust": "2.1797379909166141517629"
                                },
                                {
                                    "orderid": "10595",
                                    "custid": "20",
                                    "val": "4725.00",
                                    "totalvalue": "1265793.22",
                                    "pctall": "0.3732837184891857771208",
                                    "custtotalvalue": "104874.99",
                                    "pctcust": "4.5053639576032379121085"
                                },
                                {
                                    "orderid": "10571",
                                    "custid": "20",
                                    "val": "550.59",
                                    "totalvalue": "1265793.22",
                                    "pctall": "0.0434976259392509623333",
                                    "custtotalvalue": "104874.99",
                                    "pctcust": "0.5249964743739188914344"
                                },
                                {
                                    "orderid": "10667",
                                    "custid": "20",
                                    "val": "1536.80",
                                    "totalvalue": "1265793.22",
                                    "pctall": "0.1214100356770752809056",
                                    "custtotalvalue": "104874.99",
                                    "pctcust": "1.4653636677343187350959"
                                },
                                {
                                    "orderid": "10633",
                                    "custid": "20",
                                    "val": "5510.59",
                                    "totalvalue": "1265793.22",
                                    "pctall": "0.4353467780464174077342",
                                    "custtotalvalue": "104874.99",
                                    "pctcust": "5.2544367346304395356795"
                                },
                                {
                                    "orderid": "10514",
                                    "custid": "20",
                                    "val": "8623.45",
                                    "totalvalue": "1265793.22",
                                    "pctall": "0.6812684618424484845952",
                                    "custtotalvalue": "104874.99",
                                    "pctcust": "8.2225991153848977720999"
                                },
                                {
                                    "orderid": "10402",
                                    "custid": "20",
                                    "val": "2713.50",
                                    "totalvalue": "1265793.22",
                                    "pctall": "0.2143715069037895462894",
                                    "custtotalvalue": "104874.99",
                                    "pctcust": "2.5873661585092880580965"
                                },
                                {
                                    "orderid": "10403",
                                    "custid": "20",
                                    "val": "855.02",
                                    "totalvalue": "1265793.22",
                                    "pctall": "0.0675481576682801318844",
                                    "custtotalvalue": "104874.99",
                                    "pctcust": "0.8152754055089778792827"
                                },
                                {
                                    "orderid": "10430",
                                    "custid": "20",
                                    "val": "4899.20",
                                    "totalvalue": "1265793.22",
                                    "pctall": "0.3870458399200463405863",
                                    "custtotalvalue": "104874.99",
                                    "pctcust": "4.6714664764211181331221"
                                },
                                {
                                    "orderid": "10442",
                                    "custid": "20",
                                    "val": "1792.00",
                                    "totalvalue": "1265793.22",
                                    "pctall": "0.1415713065677504576932",
                                    "custtotalvalue": "104874.99",
                                    "pctcust": "1.7087009972539687488885"
                                },
                                {
                                    "orderid": "10368",
                                    "custid": "20",
                                    "val": "1689.78",
                                    "totalvalue": "1265793.22",
                                    "pctall": "0.1334957379531547814737",
                                    "custtotalvalue": "104874.99",
                                    "pctcust": "1.6112325731806982770630"
                                },
                                {
                                    "orderid": "10390",
                                    "custid": "20",
                                    "val": "2090.88",
                                    "totalvalue": "1265793.22",
                                    "pctall": "0.1651833780560145518870",
                                    "custtotalvalue": "104874.99",
                                    "pctcust": "1.9936879135816842509353"
                                },
                                {
                                    "orderid": "10382",
                                    "custid": "20",
                                    "val": "2900.00",
                                    "totalvalue": "1265793.22",
                                    "pctall": "0.2291053510303997362223",
                                    "custtotalvalue": "104874.99",
                                    "pctcust": "2.7651969263596592476433"
                                },
                                {
                                    "orderid": "10351",
                                    "custid": "20",
                                    "val": "5398.73",
                                    "totalvalue": "1265793.22",
                                    "pctall": "0.4265096316442586096329",
                                    "custtotalvalue": "104874.99",
                                    "pctcust": "5.1477764145674769551825"
                                },
                                {
                                    "orderid": "10258",
                                    "custid": "20",
                                    "val": "1614.88",
                                    "totalvalue": "1265793.22",
                                    "pctall": "0.1275784997489558365623",
                                    "custtotalvalue": "104874.99",
                                    "pctcust": "1.5398142111860988020118"
                                },
                                {
                                    "orderid": "10263",
                                    "custid": "20",
                                    "val": "1873.80",
                                    "totalvalue": "1265793.22",
                                    "pctall": "0.1480336575037113881839",
                                    "custtotalvalue": "104874.99",
                                    "pctcust": "1.7866986209009412062876"
                                },
                                {
                                    "orderid": "10979",
                                    "custid": "20",
                                    "val": "4813.50",
                                    "totalvalue": "1265793.22",
                                    "pctall": "0.3802753817878721138986",
                                    "custtotalvalue": "104874.99",
                                    "pctcust": "4.5897501396662826857003"
                                },
                                {
                                    "orderid": "10990",
                                    "custid": "20",
                                    "val": "4288.85",
                                    "totalvalue": "1265793.22",
                                    "pctall": "0.3388270637126654857576",
                                    "custtotalvalue": "104874.99",
                                    "pctcust": "4.0894878750405601945706"
                                },
                                {
                                    "orderid": "11008",
                                    "custid": "20",
                                    "val": "4680.90",
                                    "totalvalue": "1265793.22",
                                    "pctall": "0.3697997371166200432010",
                                    "custtotalvalue": "104874.99",
                                    "pctcust": "4.4633138939989410249288"
                                },
                                {
                                    "orderid": "11017",
                                    "custid": "20",
                                    "val": "6750.00",
                                    "totalvalue": "1265793.22",
                                    "pctall": "0.5332624549845511101726",
                                    "custtotalvalue": "104874.99",
                                    "pctcust": "6.4362342251474827315835"
                                },
                                {
                                    "orderid": "11072",
                                    "custid": "20",
                                    "val": "5218.00",
                                    "totalvalue": "1265793.22",
                                    "pctall": "0.4122316281643537322786",
                                    "custtotalvalue": "104874.99",
                                    "pctcust": "4.9754474350843799842078"
                                },
                                {
                                    "orderid": "10895",
                                    "custid": "20",
                                    "val": "6379.40",
                                    "totalvalue": "1265793.22",
                                    "pctall": "0.5039843711597696818126",
                                    "custtotalvalue": "104874.99",
                                    "pctcust": "6.0828611282823483463502"
                                },
                                {
                                    "orderid": "10836",
                                    "custid": "20",
                                    "val": "4705.50",
                                    "totalvalue": "1265793.22",
                                    "pctall": "0.3717431825081192961359",
                                    "custtotalvalue": "104874.99",
                                    "pctcust": "4.4867703920639229619950"
                                },
                                {
                                    "orderid": "10854",
                                    "custid": "20",
                                    "val": "2966.50",
                                    "totalvalue": "1265793.22",
                                    "pctall": "0.2343589737350623508632",
                                    "custtotalvalue": "104874.99",
                                    "pctcust": "2.8286057524296307441840"
                                },
                                {
                                    "orderid": "10968",
                                    "custid": "20",
                                    "val": "1408.00",
                                    "totalvalue": "1265793.22",
                                    "pctall": "0.1112345980175182167589",
                                    "custtotalvalue": "104874.99",
                                    "pctcust": "1.3425507835566897312695"
                                },
                                {
                                    "orderid": "10347",
                                    "custid": "21",
                                    "val": "814.42",
                                    "totalvalue": "1265793.22",
                                    "pctall": "0.0643406827538545355773",
                                    "custtotalvalue": "4107.55",
                                    "pctcust": "19.8273910238463317549390"
                                },
                                {
                                    "orderid": "10386",
                                    "custid": "21",
                                    "val": "166.00",
                                    "totalvalue": "1265793.22",
                                    "pctall": "0.0131143063003608124872",
                                    "custtotalvalue": "4107.55",
                                    "pctcust": "4.0413385107911041861937"
                                },
                                {
                                    "orderid": "10414",
                                    "custid": "21",
                                    "val": "224.83",
                                    "totalvalue": "1265793.22",
                                    "pctall": "0.0177619848524706112740",
                                    "custtotalvalue": "4107.55",
                                    "pctcust": "5.4735791408503852661562"
                                },
                                {
                                    "orderid": "10512",
                                    "custid": "21",
                                    "val": "525.30",
                                    "totalvalue": "1265793.22",
                                    "pctall": "0.0414996692745755108405",
                                    "custtotalvalue": "4107.55",
                                    "pctcust": "12.7886452995094399337804"
                                },
                                {
                                    "orderid": "10650",
                                    "custid": "21",
                                    "val": "1779.20",
                                    "totalvalue": "1265793.22",
                                    "pctall": "0.1405600829494093829954",
                                    "custtotalvalue": "4107.55",
                                    "pctcust": "43.3153583036116419763606"
                                },
                                {
                                    "orderid": "10581",
                                    "custid": "21",
                                    "val": "310.00",
                                    "totalvalue": "1265793.22",
                                    "pctall": "0.0244905720066979028375",
                                    "custtotalvalue": "4107.55",
                                    "pctcust": "7.5470779418388090224099"
                                },
                                {
                                    "orderid": "10725",
                                    "custid": "21",
                                    "val": "287.80",
                                    "totalvalue": "1265793.22",
                                    "pctall": "0.0227367310436376014085",
                                    "custtotalvalue": "4107.55",
                                    "pctcust": "7.0066097795522878601599"
                                },
                                {
                                    "orderid": "10763",
                                    "custid": "23",
                                    "val": "616.00",
                                    "totalvalue": "1265793.22",
                                    "pctall": "0.0486651366326642198320",
                                    "custtotalvalue": "11666.90",
                                    "pctcust": "5.2798944021119577608447"
                                },
                                {
                                    "orderid": "10789",
                                    "custid": "23",
                                    "val": "3687.00",
                                    "totalvalue": "1265793.22",
                                    "pctall": "0.2912798031893392508454",
                                    "custtotalvalue": "11666.90",
                                    "pctcust": "31.6022250983551757536277"
                                },
                                {
                                    "orderid": "10634",
                                    "custid": "23",
                                    "val": "4985.50",
                                    "totalvalue": "1265793.22",
                                    "pctall": "0.3938636991593303051504",
                                    "custtotalvalue": "11666.90",
                                    "pctcust": "42.7320025028070867154085"
                                },
                                {
                                    "orderid": "10480",
                                    "custid": "23",
                                    "val": "756.00",
                                    "totalvalue": "1265793.22",
                                    "pctall": "0.0597253949582697243393",
                                    "custtotalvalue": "11666.90",
                                    "pctcust": "6.4798704025919481610367"
                                },
                                {
                                    "orderid": "10408",
                                    "custid": "23",
                                    "val": "1622.40",
                                    "totalvalue": "1265793.22",
                                    "pctall": "0.1281725936247312179472",
                                    "custtotalvalue": "11666.90",
                                    "pctcust": "13.9060075941338316090821"
                                },
                                {
                                    "orderid": "10434",
                                    "custid": "24",
                                    "val": "321.12",
                                    "totalvalue": "1265793.22",
                                    "pctall": "0.0253690725251317114812",
                                    "custtotalvalue": "29567.57",
                                    "pctcust": "1.0860547552605777207934"
                                },
                                {
                                    "orderid": "10460",
                                    "custid": "24",
                                    "val": "176.10",
                                    "totalvalue": "1265793.22",
                                    "pctall": "0.0139122249367080667409",
                                    "custtotalvalue": "29567.57",
                                    "pctcust": "0.5955849601438332605621"
                                },
                                {
                                    "orderid": "10533",
                                    "custid": "24",
                                    "val": "2222.20",
                                    "totalvalue": "1265793.22",
                                    "pctall": "0.1755579003654325151149",
                                    "custtotalvalue": "29567.57",
                                    "pctcust": "7.5156666577605126156799"
                                },
                                {
                                    "orderid": "10378",
                                    "custid": "24",
                                    "val": "103.20",
                                    "totalvalue": "1265793.22",
                                    "pctall": "0.0081529904228749147510",
                                    "custtotalvalue": "29567.57",
                                    "pctcust": "0.3490310498968971748439"
                                },
                                {
                                    "orderid": "10327",
                                    "custid": "24",
                                    "val": "1810.00",
                                    "totalvalue": "1265793.22",
                                    "pctall": "0.1429933397810425939870",
                                    "custtotalvalue": "29567.57",
                                    "pctcust": "6.1215717084630221556928"
                                },
                                {
                                    "orderid": "10264",
                                    "custid": "24",
                                    "val": "695.63",
                                    "totalvalue": "1265793.22",
                                    "pctall": "0.0549560535645782650028",
                                    "custtotalvalue": "29567.57",
                                    "pctcust": "2.3526789655017304431848"
                                },
                                {
                                    "orderid": "10561",
                                    "custid": "24",
                                    "val": "2844.50",
                                    "totalvalue": "1265793.22",
                                    "pctall": "0.2247207486227489826497",
                                    "custtotalvalue": "29567.57",
                                    "pctcust": "9.6203374169740699015847"
                                },
                                {
                                    "orderid": "10762",
                                    "custid": "24",
                                    "val": "4337.00",
                                    "totalvalue": "1265793.22",
                                    "pctall": "0.3426310025582219503435",
                                    "custtotalvalue": "29567.57",
                                    "pctcust": "14.6680975135934403807955"
                                },
                                {
                                    "orderid": "10774",
                                    "custid": "24",
                                    "val": "868.75",
                                    "totalvalue": "1265793.22",
                                    "pctall": "0.0686328530026413002907",
                                    "custtotalvalue": "29567.57",
                                    "pctcust": "2.9381853158714091147835"
                                },
                                {
                                    "orderid": "10824",
                                    "custid": "24",
                                    "val": "250.80",
                                    "totalvalue": "1265793.22",
                                    "pctall": "0.0198136627718704323601",
                                    "custtotalvalue": "29567.57",
                                    "pctcust": "0.8482266212610640644462"
                                },
                                {
                                    "orderid": "10703",
                                    "custid": "24",
                                    "val": "2545.00",
                                    "totalvalue": "1265793.22",
                                    "pctall": "0.2010596959904714926502",
                                    "custtotalvalue": "29567.57",
                                    "pctcust": "8.6074033138333654067615"
                                },
                                {
                                    "orderid": "10977",
                                    "custid": "24",
                                    "val": "2233.00",
                                    "totalvalue": "1265793.22",
                                    "pctall": "0.1764111202934077968911",
                                    "custtotalvalue": "29567.57",
                                    "pctcust": "7.5521931629822809246752"
                                },
                                {
                                    "orderid": "10955",
                                    "custid": "24",
                                    "val": "74.40",
                                    "totalvalue": "1265793.22",
                                    "pctall": "0.0058777372816074966810",
                                    "custtotalvalue": "29567.57",
                                    "pctcust": "0.2516270359721816841898"
                                },
                                {
                                    "orderid": "10902",
                                    "custid": "24",
                                    "val": "863.43",
                                    "totalvalue": "1265793.22",
                                    "pctall": "0.0682125631862682911194",
                                    "custtotalvalue": "29567.57",
                                    "pctcust": "2.9201926299658713922043"
                                },
                                {
                                    "orderid": "10880",
                                    "custid": "24",
                                    "val": "1500.00",
                                    "totalvalue": "1265793.22",
                                    "pctall": "0.1185027677743446911494",
                                    "custtotalvalue": "29567.57",
                                    "pctcust": "5.0731257252455984715686"
                                },
                                {
                                    "orderid": "11050",
                                    "custid": "24",
                                    "val": "810.00",
                                    "totalvalue": "1265793.22",
                                    "pctall": "0.0639914945981461332207",
                                    "custtotalvalue": "29567.57",
                                    "pctcust": "2.7394878916326231746470"
                                },
                                {
                                    "orderid": "11001",
                                    "custid": "24",
                                    "val": "2769.00",
                                    "totalvalue": "1265793.22",
                                    "pctall": "0.2187561093114402998619",
                                    "custtotalvalue": "29567.57",
                                    "pctcust": "9.3649900888033747785157"
                                },
                                {
                                    "orderid": "10993",
                                    "custid": "24",
                                    "val": "4895.44",
                                    "totalvalue": "1265793.22",
                                    "pctall": "0.3867487929821586498938",
                                    "custtotalvalue": "29567.57",
                                    "pctcust": "16.5567884002642083877707"
                                },
                                {
                                    "orderid": "10980",
                                    "custid": "24",
                                    "val": "248.00",
                                    "totalvalue": "1265793.22",
                                    "pctall": "0.0195924576053583222700",
                                    "custtotalvalue": "29567.57",
                                    "pctcust": "0.8387567865739389472993"
                                },
                                {
                                    "orderid": "11012",
                                    "custid": "25",
                                    "val": "2825.30",
                                    "totalvalue": "1265793.22",
                                    "pctall": "0.2232039131952373706030",
                                    "custtotalvalue": "26656.57",
                                    "pctcust": "10.5988880039705033318240"
                                },
                                {
                                    "orderid": "10859",
                                    "custid": "25",
                                    "val": "1078.69",
                                    "totalvalue": "1265793.22",
                                    "pctall": "0.0852185003803385832640",
                                    "custtotalvalue": "26656.57",
                                    "pctcust": "4.0466196513654982617793"
                                },
                                {
                                    "orderid": "10929",
                                    "custid": "25",
                                    "val": "1174.75",
                                    "totalvalue": "1265793.22",
                                    "pctall": "0.0928074176286076172852",
                                    "custtotalvalue": "26656.57",
                                    "pctcust": "4.4069810932164190666691"
                                },
                                {
                                    "orderid": "10717",
                                    "custid": "25",
                                    "val": "1270.75",
                                    "totalvalue": "1265793.22",
                                    "pctall": "0.1003915947661656775187",
                                    "custtotalvalue": "26656.57",
                                    "pctcust": "4.7671174498444473538793"
                                },
                                {
                                    "orderid": "10791",
                                    "custid": "25",
                                    "val": "1829.76",
                                    "totalvalue": "1265793.22",
                                    "pctall": "0.1445544162418566280517",
                                    "custtotalvalue": "26656.57",
                                    "pctcust": "6.8641989573302191542272"
                                },
                                {
                                    "orderid": "10560",
                                    "custid": "25",
                                    "val": "1072.43",
                                    "totalvalue": "1265793.22",
                                    "pctall": "0.0847239488294936514196",
                                    "custtotalvalue": "26656.57",
                                    "pctcust": "4.0231357597770455838841"
                                },
                                {
                                    "orderid": "10623",
                                    "custid": "25",
                                    "val": "1336.95",
                                    "totalvalue": "1265793.22",
                                    "pctall": "0.1056215169172734232215",
                                    "custtotalvalue": "26656.57",
                                    "pctcust": "5.0154614791025251936014"
                                },
                                {
                                    "orderid": "10653",
                                    "custid": "25",
                                    "val": "1083.15",
                                    "totalvalue": "1265793.22",
                                    "pctall": "0.0855708486098543014790",
                                    "custtotalvalue": "26656.57",
                                    "pctcust": "4.0633509862671754092893"
                                },
                                {
                                    "orderid": "10670",
                                    "custid": "25",
                                    "val": "2301.75",
                                    "totalvalue": "1265793.22",
                                    "pctall": "0.1818424971497319285688",
                                    "custtotalvalue": "26656.57",
                                    "pctcust": "8.6348318632142094800643"
                                },
                                {
                                    "orderid": "10675",
                                    "custid": "25",
                                    "val": "1423.00",
                                    "totalvalue": "1265793.22",
                                    "pctall": "0.1124196256952616636704",
                                    "custtotalvalue": "26656.57",
                                    "pctcust": "5.3382712029342109656268"
                                },
                                {
                                    "orderid": "10267",
                                    "custid": "25",
                                    "val": "3536.60",
                                    "totalvalue": "1265793.22",
                                    "pctall": "0.2793979256738316231461",
                                    "custtotalvalue": "26656.57",
                                    "pctcust": "13.2672733213613004223724"
                                },
                                {
                                    "orderid": "10342",
                                    "custid": "25",
                                    "val": "1840.64",
                                    "totalvalue": "1265793.22",
                                    "pctall": "0.1454139563174465415449",
                                    "custtotalvalue": "26656.57",
                                    "pctcust": "6.9050144110813956934444"
                                },
                                {
                                    "orderid": "10337",
                                    "custid": "25",
                                    "val": "2467.00",
                                    "totalvalue": "1265793.22",
                                    "pctall": "0.1948975520662055687105",
                                    "custtotalvalue": "26656.57",
                                    "pctcust": "9.2547540812640185890382"
                                },
                                {
                                    "orderid": "10488",
                                    "custid": "25",
                                    "val": "1512.00",
                                    "totalvalue": "1265793.22",
                                    "pctall": "0.1194507899165394486786",
                                    "custtotalvalue": "26656.57",
                                    "pctcust": "5.6721476168914455235613"
                                },
                                {
                                    "orderid": "10396",
                                    "custid": "25",
                                    "val": "1903.80",
                                    "totalvalue": "1265793.22",
                                    "pctall": "0.1504037128591982820069",
                                    "custtotalvalue": "26656.57",
                                    "pctcust": "7.1419541223795859707381"
                                },
                                {
                                    "orderid": "10671",
                                    "custid": "26",
                                    "val": "920.10",
                                    "totalvalue": "1265793.22",
                                    "pctall": "0.0726895977527830335510",
                                    "custtotalvalue": "3172.16",
                                    "pctcust": "29.0054726117219812367598"
                                },
                                {
                                    "orderid": "10971",
                                    "custid": "26",
                                    "val": "1733.06",
                                    "totalvalue": "1265793.22",
                                    "pctall": "0.1369149378126705402956",
                                    "custtotalvalue": "3172.16",
                                    "pctcust": "54.6334358922626853626550"
                                },
                                {
                                    "orderid": "10860",
                                    "custid": "26",
                                    "val": "519.00",
                                    "totalvalue": "1265793.22",
                                    "pctall": "0.0410019576499232631377",
                                    "custtotalvalue": "3172.16",
                                    "pctcust": "16.3610914960153334005850"
                                },
                                {
                                    "orderid": "11026",
                                    "custid": "27",
                                    "val": "1030.00",
                                    "totalvalue": "1265793.22",
                                    "pctall": "0.0813719005383833545893",
                                    "custtotalvalue": "1545.70",
                                    "pctcust": "66.6364753833214724720191"
                                },
                                {
                                    "orderid": "11060",
                                    "custid": "27",
                                    "val": "266.00",
                                    "totalvalue": "1265793.22",
                                    "pctall": "0.0210144908186504585638",
                                    "custtotalvalue": "1545.70",
                                    "pctcust": "17.2090315067606909490845"
                                },
                                {
                                    "orderid": "10807",
                                    "custid": "27",
                                    "val": "18.40",
                                    "totalvalue": "1265793.22",
                                    "pctall": "0.0014536339513652948781",
                                    "custtotalvalue": "1545.70",
                                    "pctcust": "1.1903991718962282461020"
                                },
                                {
                                    "orderid": "10710",
                                    "custid": "27",
                                    "val": "93.50",
                                    "totalvalue": "1265793.22",
                                    "pctall": "0.0073866725246008190816",
                                    "custtotalvalue": "1545.70",
                                    "pctcust": "6.0490392702335511418774"
                                },
                                {
                                    "orderid": "10753",
                                    "custid": "27",
                                    "val": "88.00",
                                    "totalvalue": "1265793.22",
                                    "pctall": "0.0069521623760948885474",
                                    "custtotalvalue": "1545.70",
                                    "pctcust": "5.6932134308080481335317"
                                },
                                {
                                    "orderid": "10422",
                                    "custid": "27",
                                    "val": "49.80",
                                    "totalvalue": "1265793.22",
                                    "pctall": "0.0039342918901082437461",
                                    "custtotalvalue": "1545.70",
                                    "pctcust": "3.2218412369800090573850"
                                },
                                {
                                    "orderid": "10491",
                                    "custid": "28",
                                    "val": "259.51",
                                    "totalvalue": "1265793.22",
                                    "pctall": "0.0205017688434134605334",
                                    "custtotalvalue": "6427.43",
                                    "pctcust": "4.0375391097219261820043"
                                },
                                {
                                    "orderid": "10464",
                                    "custid": "28",
                                    "val": "1609.28",
                                    "totalvalue": "1265793.22",
                                    "pctall": "0.1271360894159316163820",
                                    "custtotalvalue": "6427.43",
                                    "pctcust": "25.0376900254067333288732"
                                },
                                {
                                    "orderid": "10352",
                                    "custid": "28",
                                    "val": "136.30",
                                    "totalvalue": "1265793.22",
                                    "pctall": "0.0107679514984287876024",
                                    "custtotalvalue": "6427.43",
                                    "pctcust": "2.1205987463107338391861"
                                },
                                {
                                    "orderid": "10328",
                                    "custid": "28",
                                    "val": "1168.00",
                                    "totalvalue": "1265793.22",
                                    "pctall": "0.0922741551736230661750",
                                    "custtotalvalue": "6427.43",
                                    "pctcust": "18.1721154489430456652192"
                                },
                                {
                                    "orderid": "10664",
                                    "custid": "28",
                                    "val": "1288.39",
                                    "totalvalue": "1265793.22",
                                    "pctall": "0.1017851873151919710867",
                                    "custtotalvalue": "6427.43",
                                    "pctcust": "20.0451813555340159286059"
                                },
                                {
                                    "orderid": "10551",
                                    "custid": "28",
                                    "val": "1677.30",
                                    "totalvalue": "1265793.22",
                                    "pctall": "0.1325097949252722336433",
                                    "custtotalvalue": "6427.43",
                                    "pctcust": "26.0959668172193240533152"
                                },
                                {
                                    "orderid": "10604",
                                    "custid": "28",
                                    "val": "230.85",
                                    "totalvalue": "1265793.22",
                                    "pctall": "0.0182375759604716479679",
                                    "custtotalvalue": "6427.43",
                                    "pctcust": "3.5916377152298819279245"
                                },
                                {
                                    "orderid": "10963",
                                    "custid": "28",
                                    "val": "57.80",
                                    "totalvalue": "1265793.22",
                                    "pctall": "0.0045663066515714154322",
                                    "custtotalvalue": "6427.43",
                                    "pctcust": "0.8992707816343390748712"
                                },
                                {
                                    "orderid": "10928",
                                    "custid": "29",
                                    "val": "137.50",
                                    "totalvalue": "1265793.22",
                                    "pctall": "0.0108627537126482633553",
                                    "custtotalvalue": "836.70",
                                    "pctcust": "16.4336082227799689255408"
                                },
                                {
                                    "orderid": "10887",
                                    "custid": "29",
                                    "val": "70.00",
                                    "totalvalue": "1265793.22",
                                    "pctall": "0.0055301291628027522536",
                                    "custtotalvalue": "836.70",
                                    "pctcust": "8.3662005497788932711844"
                                },
                                {
                                    "orderid": "10568",
                                    "custid": "29",
                                    "val": "155.00",
                                    "totalvalue": "1265793.22",
                                    "pctall": "0.0122452860033489514187",
                                    "custtotalvalue": "836.70",
                                    "pctcust": "18.5251583602246922433369"
                                },
                                {
                                    "orderid": "10366",
                                    "custid": "29",
                                    "val": "136.00",
                                    "totalvalue": "1265793.22",
                                    "pctall": "0.0107442509448739186642",
                                    "custtotalvalue": "836.70",
                                    "pctcust": "16.2543324967132783554440"
                                },
                                {
                                    "orderid": "10426",
                                    "custid": "29",
                                    "val": "338.20",
                                    "totalvalue": "1265793.22",
                                    "pctall": "0.0267184240408555830311",
                                    "custtotalvalue": "836.70",
                                    "pctcust": "40.4207003705031672044938"
                                },
                                {
                                    "orderid": "10303",
                                    "custid": "30",
                                    "val": "1117.80",
                                    "totalvalue": "1265793.22",
                                    "pctall": "0.0883082625454416638445",
                                    "custtotalvalue": "11446.36",
                                    "pctcust": "9.7655499215471119202960"
                                },
                                {
                                    "orderid": "10550",
                                    "custid": "30",
                                    "val": "683.30",
                                    "totalvalue": "1265793.22",
                                    "pctall": "0.0539819608134731516416",
                                    "custtotalvalue": "11446.36",
                                    "pctcust": "5.9695833435258020890483"
                                },
                                {
                                    "orderid": "10629",
                                    "custid": "30",
                                    "val": "2775.05",
                                    "totalvalue": "1265793.22",
                                    "pctall": "0.2192340704747968234495",
                                    "custtotalvalue": "11446.36",
                                    "pctcust": "24.2439517890403586817119"
                                },
                                {
                                    "orderid": "10888",
                                    "custid": "30",
                                    "val": "605.00",
                                    "totalvalue": "1265793.22",
                                    "pctall": "0.0477961163356523587636",
                                    "custtotalvalue": "11446.36",
                                    "pctcust": "5.2855230833208111574334"
                                },
                                {
                                    "orderid": "10872",
                                    "custid": "30",
                                    "val": "2058.46",
                                    "totalvalue": "1265793.22",
                                    "pctall": "0.1626221382351850486290",
                                    "custtotalvalue": "11446.36",
                                    "pctcust": "17.9835336299050527853396"
                                },
                                {
                                    "orderid": "10874",
                                    "custid": "30",
                                    "val": "310.00",
                                    "totalvalue": "1265793.22",
                                    "pctall": "0.0244905720066979028375",
                                    "custtotalvalue": "11446.36",
                                    "pctcust": "2.7082845550900024112468"
                                },
                                {
                                    "orderid": "10911",
                                    "custid": "30",
                                    "val": "858.00",
                                    "totalvalue": "1265793.22",
                                    "pctall": "0.0677835831669251633374",
                                    "custtotalvalue": "11446.36",
                                    "pctcust": "7.4958327363458776414510"
                                },
                                {
                                    "orderid": "10948",
                                    "custid": "30",
                                    "val": "2362.25",
                                    "totalvalue": "1265793.22",
                                    "pctall": "0.1866221087832971644452",
                                    "custtotalvalue": "11446.36",
                                    "pctcust": "20.6375651298753490192515"
                                },
                                {
                                    "orderid": "11037",
                                    "custid": "30",
                                    "val": "60.00",
                                    "totalvalue": "1265793.22",
                                    "pctall": "0.0047401107109737876459",
                                    "custtotalvalue": "11446.36",
                                    "pctcust": "0.5241841074367746602413"
                                },
                                {
                                    "orderid": "11009",
                                    "custid": "30",
                                    "val": "616.50",
                                    "totalvalue": "1265793.22",
                                    "pctall": "0.0487046375552556680624",
                                    "custtotalvalue": "11446.36",
                                    "pctcust": "5.3859917039128596339797"
                                },
                                {
                                    "orderid": "11049",
                                    "custid": "31",
                                    "val": "273.60",
                                    "totalvalue": "1265793.22",
                                    "pctall": "0.0216149048420404716656",
                                    "custtotalvalue": "8414.14",
                                    "pctcust": "3.2516692139660143520312"
                                },
                                {
                                    "orderid": "10959",
                                    "custid": "31",
                                    "val": "131.75",
                                    "totalvalue": "1265793.22",
                                    "pctall": "0.0104084931028466087059",
                                    "custtotalvalue": "8414.14",
                                    "pctcust": "1.5658165896930642941524"
                                },
                                {
                                    "orderid": "10652",
                                    "custid": "31",
                                    "val": "318.84",
                                    "totalvalue": "1265793.22",
                                    "pctall": "0.0251889483181147075507",
                                    "custtotalvalue": "8414.14",
                                    "pctcust": "3.7893355708367105848012"
                                },
                                {
                                    "orderid": "10734",
                                    "custid": "31",
                                    "val": "1498.35",
                                    "totalvalue": "1265793.22",
                                    "pctall": "0.1183724147297929119892",
                                    "custtotalvalue": "8414.14",
                                    "pctcust": "17.8075240012645380276534"
                                },
                                {
                                    "orderid": "10709",
                                    "custid": "31",
                                    "val": "3424.00",
                                    "totalvalue": "1265793.22",
                                    "pctall": "0.2705023179062374816638",
                                    "custtotalvalue": "8414.14",
                                    "pctcust": "40.6934041981711737622620"
                                },
                                {
                                    "orderid": "10685",
                                    "custid": "31",
                                    "val": "801.10",
                                    "totalvalue": "1265793.22",
                                    "pctall": "0.0632883781760183547198",
                                    "custtotalvalue": "8414.14",
                                    "pctcust": "9.5208779506877708238750"
                                },
                                {
                                    "orderid": "10790",
                                    "custid": "31",
                                    "val": "722.50",
                                    "totalvalue": "1265793.22",
                                    "pctall": "0.0570788331446426929036",
                                    "custtotalvalue": "8414.14",
                                    "pctcust": "8.5867361370264816130941"
                                },
                                {
                                    "orderid": "10777",
                                    "custid": "31",
                                    "val": "224.00",
                                    "totalvalue": "1265793.22",
                                    "pctall": "0.0176964133209688072116",
                                    "custtotalvalue": "8414.14",
                                    "pctcust": "2.6621853213756842648208"
                                },
                                {
                                    "orderid": "10423",
                                    "custid": "31",
                                    "val": "1020.00",
                                    "totalvalue": "1265793.22",
                                    "pctall": "0.0805818820865543899816",
                                    "custtotalvalue": "8414.14",
                                    "pctcust": "12.1224510169785622773093"
                                },
                                {
                                    "orderid": "10528",
                                    "custid": "32",
                                    "val": "392.20",
                                    "totalvalue": "1265793.22",
                                    "pctall": "0.0309845236807319919125",
                                    "custtotalvalue": "18507.46",
                                    "pctcust": "2.1191454689082132286115"
                                },
                                {
                                    "orderid": "10816",
                                    "custid": "32",
                                    "val": "8446.45",
                                    "totalvalue": "1265793.22",
                                    "pctall": "0.6672851352450758110396",
                                    "custtotalvalue": "18507.46",
                                    "pctcust": "45.6380832377862764528465"
                                },
                                {
                                    "orderid": "10656",
                                    "custid": "32",
                                    "val": "604.22",
                                    "totalvalue": "1265793.22",
                                    "pctall": "0.0477344948964096995242",
                                    "custtotalvalue": "18507.46",
                                    "pctcust": "3.2647375706877118740226"
                                },
                                {
                                    "orderid": "10681",
                                    "custid": "32",
                                    "val": "1287.40",
                                    "totalvalue": "1265793.22",
                                    "pctall": "0.1017069754884609035905",
                                    "custtotalvalue": "18507.46",
                                    "pctcust": "6.9561139129842776912661"
                                },
                                {
                                    "orderid": "10616",
                                    "custid": "32",
                                    "val": "4807.00",
                                    "totalvalue": "1265793.22",
                                    "pctall": "0.3797618697941832869036",
                                    "custtotalvalue": "18507.46",
                                    "pctcust": "25.9733102219321289901477"
                                },
                                {
                                    "orderid": "10617",
                                    "custid": "32",
                                    "val": "1402.50",
                                    "totalvalue": "1265793.22",
                                    "pctall": "0.1108000878690122862247",
                                    "custtotalvalue": "18507.46",
                                    "pctcust": "7.5780252935843168106266"
                                },
                                {
                                    "orderid": "10589",
                                    "custid": "32",
                                    "val": "72.00",
                                    "totalvalue": "1265793.22",
                                    "pctall": "0.0056881328531685451751",
                                    "custtotalvalue": "18507.46",
                                    "pctcust": "0.3890323145369488843958"
                                },
                                {
                                    "orderid": "10936",
                                    "custid": "32",
                                    "val": "456.00",
                                    "totalvalue": "1265793.22",
                                    "pctall": "0.0360248414034007861094",
                                    "custtotalvalue": "18507.46",
                                    "pctcust": "2.4638713254006762678401"
                                },
                                {
                                    "orderid": "11040",
                                    "custid": "32",
                                    "val": "200.00",
                                    "totalvalue": "1265793.22",
                                    "pctall": "0.0158003690365792921532",
                                    "custtotalvalue": "18507.46",
                                    "pctcust": "1.0806453181581913455439"
                                },
                                {
                                    "orderid": "11006",
                                    "custid": "32",
                                    "val": "329.69",
                                    "totalvalue": "1265793.22",
                                    "pctall": "0.0260461183383491341500",
                                    "custtotalvalue": "18507.46",
                                    "pctcust": "1.7813897747178705235618"
                                },
                                {
                                    "orderid": "11061",
                                    "custid": "32",
                                    "val": "510.00",
                                    "totalvalue": "1265793.22",
                                    "pctall": "0.0402909410432771949908",
                                    "custtotalvalue": "18507.46",
                                    "pctcust": "2.7556455613033879311369"
                                },
                                {
                                    "orderid": "10785",
                                    "custid": "33",
                                    "val": "387.50",
                                    "totalvalue": "1265793.22",
                                    "pctall": "0.0306132150083723785469",
                                    "custtotalvalue": "1488.70",
                                    "pctcust": "26.0294216430442668099684"
                                },
                                {
                                    "orderid": "10268",
                                    "custid": "33",
                                    "val": "1101.20",
                                    "totalvalue": "1265793.22",
                                    "pctall": "0.0869968319154055825958",
                                    "custtotalvalue": "1488.70",
                                    "pctcust": "73.9705783569557331900315"
                                },
                                {
                                    "orderid": "10253",
                                    "custid": "34",
                                    "val": "1444.80",
                                    "totalvalue": "1265793.22",
                                    "pctall": "0.1141418659202488065151",
                                    "custtotalvalue": "32841.37",
                                    "pctcust": "4.3993292606246328944255"
                                },
                                {
                                    "orderid": "10250",
                                    "custid": "34",
                                    "val": "1552.60",
                                    "totalvalue": "1265793.22",
                                    "pctall": "0.1226582648309650449857",
                                    "custtotalvalue": "32841.37",
                                    "pctcust": "4.7275737887913932944941"
                                },
                                {
                                    "orderid": "10783",
                                    "custid": "34",
                                    "val": "1442.50",
                                    "totalvalue": "1265793.22",
                                    "pctall": "0.1139601616763281446554",
                                    "custtotalvalue": "32841.37",
                                    "pctcust": "4.3923258987064181549064"
                                },
                                {
                                    "orderid": "10770",
                                    "custid": "34",
                                    "val": "236.25",
                                    "totalvalue": "1265793.22",
                                    "pctall": "0.0186641859244592888560",
                                    "custtotalvalue": "32841.37",
                                    "pctcust": "0.7193670665992313962541"
                                },
                                {
                                    "orderid": "10690",
                                    "custid": "34",
                                    "val": "862.50",
                                    "totalvalue": "1265793.22",
                                    "pctall": "0.0681390914702481974109",
                                    "custtotalvalue": "32841.37",
                                    "pctcust": "2.6262607193305273196581"
                                },
                                {
                                    "orderid": "10541",
                                    "custid": "34",
                                    "val": "1946.52",
                                    "totalvalue": "1265793.22",
                                    "pctall": "0.1537786716854116188108",
                                    "custtotalvalue": "32841.37",
                                    "pctcust": "5.9270365395840672907372"
                                },
                                {
                                    "orderid": "10645",
                                    "custid": "34",
                                    "val": "1535.00",
                                    "totalvalue": "1265793.22",
                                    "pctall": "0.1212678323557460672762",
                                    "custtotalvalue": "32841.37",
                                    "pctcust": "4.6739828454172283312176"
                                },
                                {
                                    "orderid": "11052",
                                    "custid": "34",
                                    "val": "1332.00",
                                    "totalvalue": "1265793.22",
                                    "pctall": "0.1052304577836180857407",
                                    "custtotalvalue": "32841.37",
                                    "pctcust": "4.0558600326356665388806"
                                },
                                {
                                    "orderid": "10981",
                                    "custid": "34",
                                    "val": "15810.00",
                                    "totalvalue": "1265793.22",
                                    "pctall": "1.2490191723415930447154",
                                    "custtotalvalue": "32841.37",
                                    "pctcust": "48.1405008378152312159937"
                                },
                                {
                                    "orderid": "11022",
                                    "custid": "34",
                                    "val": "1402.00",
                                    "totalvalue": "1265793.22",
                                    "pctall": "0.1107605869464208379943",
                                    "custtotalvalue": "32841.37",
                                    "pctcust": "4.2690058301465499155485"
                                },
                                {
                                    "orderid": "10925",
                                    "custid": "34",
                                    "val": "475.15",
                                    "totalvalue": "1265793.22",
                                    "pctall": "0.0375377267386532533331",
                                    "custtotalvalue": "32841.37",
                                    "pctcust": "1.4468032241042319489107"
                                },
                                {
                                    "orderid": "10922",
                                    "custid": "34",
                                    "val": "742.50",
                                    "totalvalue": "1265793.22",
                                    "pctall": "0.0586588700483006221189",
                                    "custtotalvalue": "32841.37",
                                    "pctcust": "2.2608679235975843882274"
                                },
                                {
                                    "orderid": "10903",
                                    "custid": "34",
                                    "val": "932.05",
                                    "totalvalue": "1265793.22",
                                    "pctall": "0.0736336698027186462572",
                                    "custtotalvalue": "32841.37",
                                    "pctcust": "2.8380362938574121603331"
                                },
                                {
                                    "orderid": "10886",
                                    "custid": "34",
                                    "val": "3127.50",
                                    "totalvalue": "1265793.22",
                                    "pctall": "0.2470782708095086810466",
                                    "custtotalvalue": "32841.37",
                                    "pctcust": "9.5230497387898251504124"
                                },
                                {
                                    "orderid": "10901",
                                    "custid": "35",
                                    "val": "934.50",
                                    "totalvalue": "1265793.22",
                                    "pctall": "0.0738272243234167425861",
                                    "custtotalvalue": "22768.76",
                                    "pctcust": "4.1043078323105869621358"
                                },
                                {
                                    "orderid": "10863",
                                    "custid": "35",
                                    "val": "441.15",
                                    "totalvalue": "1265793.22",
                                    "pctall": "0.0348516640024347736670",
                                    "custtotalvalue": "22768.76",
                                    "pctcust": "1.9375231677087377617402"
                                },
                                {
                                    "orderid": "10960",
                                    "custid": "35",
                                    "val": "265.35",
                                    "totalvalue": "1265793.22",
                                    "pctall": "0.0209631396192815758643",
                                    "custtotalvalue": "22768.76",
                                    "pctcust": "1.1654126092066498131650"
                                },
                                {
                                    "orderid": "10957",
                                    "custid": "35",
                                    "val": "1762.70",
                                    "totalvalue": "1265793.22",
                                    "pctall": "0.1392565525038915913927",
                                    "custtotalvalue": "22768.76",
                                    "pctcust": "7.7417479037066577187339"
                                },
                                {
                                    "orderid": "10976",
                                    "custid": "35",
                                    "val": "912.00",
                                    "totalvalue": "1265793.22",
                                    "pctall": "0.0720496828068015722188",
                                    "custtotalvalue": "22768.76",
                                    "pctcust": "4.0054882215807975489222"
                                },
                                {
                                    "orderid": "11055",
                                    "custid": "35",
                                    "val": "1727.50",
                                    "totalvalue": "1265793.22",
                                    "pctall": "0.1364756875534536359738",
                                    "custtotalvalue": "22768.76",
                                    "pctcust": "7.5871501126982760589509"
                                },
                                {
                                    "orderid": "10641",
                                    "custid": "35",
                                    "val": "2054.00",
                                    "totalvalue": "1265793.22",
                                    "pctall": "0.1622697900056693304140",
                                    "custtotalvalue": "22768.76",
                                    "pctcust": "9.0211324639549979884719"
                                },
                                {
                                    "orderid": "10552",
                                    "custid": "35",
                                    "val": "880.50",
                                    "totalvalue": "1265793.22",
                                    "pctall": "0.0695611246835403337047",
                                    "custtotalvalue": "22768.76",
                                    "pctcust": "3.8671407665590923704233"
                                },
                                {
                                    "orderid": "10613",
                                    "custid": "35",
                                    "val": "353.20",
                                    "totalvalue": "1265793.22",
                                    "pctall": "0.0279034517185990299426",
                                    "custtotalvalue": "22768.76",
                                    "pctcust": "1.5512482893227386998677"
                                },
                                {
                                    "orderid": "10601",
                                    "custid": "35",
                                    "val": "2285.00",
                                    "totalvalue": "1265793.22",
                                    "pctall": "0.1805192162429184128510",
                                    "custtotalvalue": "22768.76",
                                    "pctcust": "10.0356804674475026307976"
                                },
                                {
                                    "orderid": "10705",
                                    "custid": "35",
                                    "val": "378.00",
                                    "totalvalue": "1265793.22",
                                    "pctall": "0.0298626974791348621696",
                                    "custtotalvalue": "22768.76",
                                    "pctcust": "1.6601694602604621419875"
                                },
                                {
                                    "orderid": "10796",
                                    "custid": "35",
                                    "val": "2341.36",
                                    "totalvalue": "1265793.22",
                                    "pctall": "0.1849717602374264573798",
                                    "custtotalvalue": "22768.76",
                                    "pctcust": "10.2832126123688773565183"
                                },
                                {
                                    "orderid": "10257",
                                    "custid": "35",
                                    "val": "1119.90",
                                    "totalvalue": "1265793.22",
                                    "pctall": "0.0884741664203257464121",
                                    "custtotalvalue": "22768.76",
                                    "pctcust": "4.9185814247240517270154"
                                },
                                {
                                    "orderid": "10476",
                                    "custid": "35",
                                    "val": "180.48",
                                    "totalvalue": "1265793.22",
                                    "pctall": "0.0142582530186091532391",
                                    "custtotalvalue": "22768.76",
                                    "pctcust": "0.7926650375338841465235"
                                },
                                {
                                    "orderid": "10498",
                                    "custid": "35",
                                    "val": "575.00",
                                    "totalvalue": "1265793.22",
                                    "pctall": "0.0454260609801654649406",
                                    "custtotalvalue": "22768.76",
                                    "pctcust": "2.5253900519835072265683"
                                },
                                {
                                    "orderid": "10490",
                                    "custid": "35",
                                    "val": "3163.20",
                                    "totalvalue": "1265793.22",
                                    "pctall": "0.2498986366825380846960",
                                    "custtotalvalue": "22768.76",
                                    "pctcust": "13.8927196737986609723146"
                                },
                                {
                                    "orderid": "10486",
                                    "custid": "35",
                                    "val": "1272.00",
                                    "totalvalue": "1265793.22",
                                    "pctall": "0.1004903470726442980947",
                                    "custtotalvalue": "22768.76",
                                    "pctcust": "5.5866019932574281603389"
                                },
                                {
                                    "orderid": "10395",
                                    "custid": "35",
                                    "val": "2122.92",
                                    "totalvalue": "1265793.22",
                                    "pctall": "0.1677145971756745544900",
                                    "custtotalvalue": "22768.76",
                                    "pctcust": "9.3238279115770907155242"
                                },
                                {
                                    "orderid": "10394",
                                    "custid": "36",
                                    "val": "442.00",
                                    "totalvalue": "1265793.22",
                                    "pctall": "0.0349188155708402356587",
                                    "custtotalvalue": "3063.20",
                                    "pctcust": "14.4293549229563854792373"
                                },
                                {
                                    "orderid": "10415",
                                    "custid": "36",
                                    "val": "102.40",
                                    "totalvalue": "1265793.22",
                                    "pctall": "0.0080897889467285975824",
                                    "custtotalvalue": "3063.20",
                                    "pctcust": "3.3429093758161399843301"
                                },
                                {
                                    "orderid": "10375",
                                    "custid": "36",
                                    "val": "338.00",
                                    "totalvalue": "1265793.22",
                                    "pctall": "0.0267026236718190037390",
                                    "custtotalvalue": "3063.20",
                                    "pctcust": "11.0342125881431183076521"
                                },
                                {
                                    "orderid": "10600",
                                    "custid": "36",
                                    "val": "479.80",
                                    "totalvalue": "1265793.22",
                                    "pctall": "0.0379050853187537218756",
                                    "custtotalvalue": "3063.20",
                                    "pctcust": "15.6633585792635152781405"
                                },
                                {
                                    "orderid": "10660",
                                    "custid": "36",
                                    "val": "1701.00",
                                    "totalvalue": "1265793.22",
                                    "pctall": "0.1343821386561068797635",
                                    "custtotalvalue": "3063.20",
                                    "pctcust": "55.5301645338208409506398"
                                },
                                {
                                    "orderid": "10661",
                                    "custid": "37",
                                    "val": "562.60",
                                    "totalvalue": "1265793.22",
                                    "pctall": "0.0444464380998975488271",
                                    "custtotalvalue": "49979.91",
                                    "pctcust": "1.1256522870889523410506"
                                },
                                {
                                    "orderid": "10646",
                                    "custid": "37",
                                    "val": "1446.00",
                                    "totalvalue": "1265793.22",
                                    "pctall": "0.1142366681344682822680",
                                    "custtotalvalue": "49979.91",
                                    "pctcust": "2.8931624726815234361166"
                                },
                                {
                                    "orderid": "10567",
                                    "custid": "37",
                                    "val": "2519.00",
                                    "totalvalue": "1265793.22",
                                    "pctall": "0.1990056480157161846703",
                                    "custtotalvalue": "49979.91",
                                    "pctcust": "5.0400250820779789319348"
                                },
                                {
                                    "orderid": "10701",
                                    "custid": "37",
                                    "val": "2864.50",
                                    "totalvalue": "1265793.22",
                                    "pctall": "0.2263007855264069118651",
                                    "custtotalvalue": "49979.91",
                                    "pctcust": "5.7313028374800995039806"
                                },
                                {
                                    "orderid": "10712",
                                    "custid": "37",
                                    "val": "1233.48",
                                    "totalvalue": "1265793.22",
                                    "pctall": "0.0974471959961991264260",
                                    "custtotalvalue": "49979.91",
                                    "pctcust": "2.4679516229621061742608"
                                },
                                {
                                    "orderid": "10687",
                                    "custid": "37",
                                    "val": "4960.90",
                                    "totalvalue": "1265793.22",
                                    "pctall": "0.3919202537678310522156",
                                    "custtotalvalue": "49979.91",
                                    "pctcust": "9.9257881816914036059688"
                                },
                                {
                                    "orderid": "10736",
                                    "custid": "37",
                                    "val": "997.00",
                                    "totalvalue": "1265793.22",
                                    "pctall": "0.0787648396473477713840",
                                    "custtotalvalue": "49979.91",
                                    "pctcust": "1.9948015112472191326474"
                                },
                                {
                                    "orderid": "10373",
                                    "custid": "37",
                                    "val": "1366.40",
                                    "totalvalue": "1265793.22",
                                    "pctall": "0.1079481212579097239910",
                                    "custtotalvalue": "49979.91",
                                    "pctcust": "2.7338984804094285083746"
                                },
                                {
                                    "orderid": "10380",
                                    "custid": "37",
                                    "val": "1313.82",
                                    "totalvalue": "1265793.22",
                                    "pctall": "0.1037942042381930280840",
                                    "custtotalvalue": "49979.91",
                                    "pctcust": "2.6286962101372331402757"
                                },
                                {
                                    "orderid": "10335",
                                    "custid": "37",
                                    "val": "2036.16",
                                    "totalvalue": "1265793.22",
                                    "pctall": "0.1608603970876064575539",
                                    "custtotalvalue": "49979.91",
                                    "pctcust": "4.0739569158888041214960"
                                },
                                {
                                    "orderid": "10309",
                                    "custid": "37",
                                    "val": "1762.00",
                                    "totalvalue": "1265793.22",
                                    "pctall": "0.1392012512122635638702",
                                    "custtotalvalue": "49979.91",
                                    "pctcust": "3.5254165123546641040370"
                                },
                                {
                                    "orderid": "10298",
                                    "custid": "37",
                                    "val": "2645.00",
                                    "totalvalue": "1265793.22",
                                    "pctall": "0.2089598805087611387269",
                                    "custtotalvalue": "49979.91",
                                    "pctcust": "5.2921263763780286919284"
                                },
                                {
                                    "orderid": "10429",
                                    "custid": "37",
                                    "val": "1441.38",
                                    "totalvalue": "1265793.22",
                                    "pctall": "0.1138716796097233006193",
                                    "custtotalvalue": "49979.91",
                                    "pctcust": "2.8839187585571882782502"
                                },
                                {
                                    "orderid": "10516",
                                    "custid": "37",
                                    "val": "2381.05",
                                    "totalvalue": "1265793.22",
                                    "pctall": "0.1881073434727356179076",
                                    "custtotalvalue": "49979.91",
                                    "pctcust": "4.7640141808978847701006"
                                },
                                {
                                    "orderid": "10503",
                                    "custid": "37",
                                    "val": "2048.50",
                                    "totalvalue": "1265793.22",
                                    "pctall": "0.1618352798571633998798",
                                    "custtotalvalue": "49979.91",
                                    "pctcust": "4.0986468362988248678318"
                                },
                                {
                                    "orderid": "11063",
                                    "custid": "37",
                                    "val": "1342.95",
                                    "totalvalue": "1265793.22",
                                    "pctall": "0.1060955279883708019861",
                                    "custtotalvalue": "49979.91",
                                    "pctcust": "2.6869796284146970252647"
                                },
                                {
                                    "orderid": "10985",
                                    "custid": "37",
                                    "val": "2023.38",
                                    "totalvalue": "1265793.22",
                                    "pctall": "0.1598507535061690407853",
                                    "custtotalvalue": "49979.91",
                                    "pctcust": "4.0483866417526562172680"
                                },
                                {
                                    "orderid": "10912",
                                    "custid": "37",
                                    "val": "6200.55",
                                    "totalvalue": "1265793.22",
                                    "pctall": "0.4898548911488086498045",
                                    "custtotalvalue": "49979.91",
                                    "pctcust": "12.4060847648585201533976"
                                },
                                {
                                    "orderid": "10897",
                                    "custid": "37",
                                    "val": "10835.24",
                                    "totalvalue": "1265793.22",
                                    "pctall": "0.8560039529995270475536",
                                    "custtotalvalue": "49979.91",
                                    "pctcust": "21.6791906988227869958149"
                                },
                                {
                                    "orderid": "10933",
                                    "custid": "38",
                                    "val": "920.60",
                                    "totalvalue": "1265793.22",
                                    "pctall": "0.0727290986753744817814",
                                    "custtotalvalue": "6146.30",
                                    "pctcust": "14.9781169158680832370694"
                                },
                                {
                                    "orderid": "10473",
                                    "custid": "38",
                                    "val": "230.40",
                                    "totalvalue": "1265793.22",
                                    "pctall": "0.0182020251301393445605",
                                    "custtotalvalue": "6146.30",
                                    "pctcust": "3.7485967167238826611131"
                                },
                                {
                                    "orderid": "10315",
                                    "custid": "38",
                                    "val": "516.80",
                                    "totalvalue": "1265793.22",
                                    "pctall": "0.0408281535905208909240",
                                    "custtotalvalue": "6146.30",
                                    "pctcust": "8.4083106909848201356913"
                                },
                                {
                                    "orderid": "10318",
                                    "custid": "38",
                                    "val": "240.40",
                                    "totalvalue": "1265793.22",
                                    "pctall": "0.0189920435819683091682",
                                    "custtotalvalue": "6146.30",
                                    "pctcust": "3.9112962269983567349462"
                                },
                                {
                                    "orderid": "10321",
                                    "custid": "38",
                                    "val": "144.00",
                                    "totalvalue": "1265793.22",
                                    "pctall": "0.0113762657063370903503",
                                    "custtotalvalue": "6146.30",
                                    "pctcust": "2.3428729479524266631957"
                                },
                                {
                                    "orderid": "10749",
                                    "custid": "38",
                                    "val": "1080.00",
                                    "totalvalue": "1265793.22",
                                    "pctall": "0.0853219927975281776276",
                                    "custtotalvalue": "6146.30",
                                    "pctcust": "17.5715471096431999739680"
                                },
                                {
                                    "orderid": "10798",
                                    "custid": "38",
                                    "val": "446.60",
                                    "totalvalue": "1265793.22",
                                    "pctall": "0.0352822240586815593782",
                                    "custtotalvalue": "6146.30",
                                    "pctcust": "7.2661601288580121373834"
                                },
                                {
                                    "orderid": "10829",
                                    "custid": "38",
                                    "val": "1764.00",
                                    "totalvalue": "1265793.22",
                                    "pctall": "0.1393592549026293567917",
                                    "custtotalvalue": "6146.30",
                                    "pctcust": "28.7001936124172266241478"
                                },
                                {
                                    "orderid": "10621",
                                    "custid": "38",
                                    "val": "758.50",
                                    "totalvalue": "1265793.22",
                                    "pctall": "0.0599228995712269654912",
                                    "custtotalvalue": "6146.30",
                                    "pctcust": "12.3407578543188585002359"
                                },
                                {
                                    "orderid": "10674",
                                    "custid": "38",
                                    "val": "45.00",
                                    "totalvalue": "1265793.22",
                                    "pctall": "0.0035550830332303407344",
                                    "custtotalvalue": "6146.30",
                                    "pctcust": "0.7321477962351333322486"
                                },
                                {
                                    "orderid": "10630",
                                    "custid": "39",
                                    "val": "903.60",
                                    "totalvalue": "1265793.22",
                                    "pctall": "0.0713860673072652419484",
                                    "custtotalvalue": "30908.39",
                                    "pctcust": "2.9234780588700996719660"
                                },
                                {
                                    "orderid": "10542",
                                    "custid": "39",
                                    "val": "469.11",
                                    "totalvalue": "1265793.22",
                                    "pctall": "0.0370605555937485587100",
                                    "custtotalvalue": "30908.39",
                                    "pctcust": "1.5177432405893674824214"
                                },
                                {
                                    "orderid": "10817",
                                    "custid": "39",
                                    "val": "10952.85",
                                    "totalvalue": "1265793.22",
                                    "pctall": "0.8652953600114875003043",
                                    "custtotalvalue": "30908.39",
                                    "pctcust": "35.4364947511015617442383"
                                },
                                {
                                    "orderid": "10799",
                                    "custid": "39",
                                    "val": "1553.50",
                                    "totalvalue": "1265793.22",
                                    "pctall": "0.1227293664916296518004",
                                    "custtotalvalue": "30908.39",
                                    "pctcust": "5.0261433869573924749881"
                                },
                                {
                                    "orderid": "10718",
                                    "custid": "39",
                                    "val": "3463.00",
                                    "totalvalue": "1265793.22",
                                    "pctall": "0.2735833898683704436337",
                                    "custtotalvalue": "30908.39",
                                    "pctcust": "11.2040775983478919477850"
                                },
                                {
                                    "orderid": "10323",
                                    "custid": "39",
                                    "val": "164.40",
                                    "totalvalue": "1265793.22",
                                    "pctall": "0.0129879033480681781499",
                                    "custtotalvalue": "30908.39",
                                    "pctcust": "0.5318944144292213214599"
                                },
                                {
                                    "orderid": "10325",
                                    "custid": "39",
                                    "val": "1497.00",
                                    "totalvalue": "1265793.22",
                                    "pctall": "0.1182657622387960017671",
                                    "custtotalvalue": "30908.39",
                                    "pctcust": "4.8433451240909021789876"
                                },
                                {
                                    "orderid": "10468",
                                    "custid": "39",
                                    "val": "717.60",
                                    "totalvalue": "1265793.22",
                                    "pctall": "0.0566917241032465002459",
                                    "custtotalvalue": "30908.39",
                                    "pctcust": "2.3216997067786448922121"
                                },
                                {
                                    "orderid": "10506",
                                    "custid": "39",
                                    "val": "415.80",
                                    "totalvalue": "1265793.22",
                                    "pctall": "0.0328489672270483483866",
                                    "custtotalvalue": "30908.39",
                                    "pctcust": "1.3452657999979940721596"
                                },
                                {
                                    "orderid": "10456",
                                    "custid": "39",
                                    "val": "557.60",
                                    "totalvalue": "1265793.22",
                                    "pctall": "0.0440514288739830665232",
                                    "custtotalvalue": "30908.39",
                                    "pctcust": "1.8040409092806192752194"
                                },
                                {
                                    "orderid": "10457",
                                    "custid": "39",
                                    "val": "1584.00",
                                    "totalvalue": "1265793.22",
                                    "pctall": "0.1251389227697079938538",
                                    "custtotalvalue": "30908.39",
                                    "pctcust": "5.1248220952304536082274"
                                },
                                {
                                    "orderid": "10893",
                                    "custid": "39",
                                    "val": "5502.11",
                                    "totalvalue": "1265793.22",
                                    "pctall": "0.4346768423992664457469",
                                    "custtotalvalue": "30908.39",
                                    "pctcust": "17.8013477893866357969470"
                                },
                                {
                                    "orderid": "10849",
                                    "custid": "39",
                                    "val": "967.82",
                                    "totalvalue": "1265793.22",
                                    "pctall": "0.0764595658049108526588",
                                    "custtotalvalue": "30908.39",
                                    "pctcust": "3.1312533587158697039865"
                                },
                                {
                                    "orderid": "11028",
                                    "custid": "39",
                                    "val": "2160.00",
                                    "totalvalue": "1265793.22",
                                    "pctall": "0.1706439855950563552552",
                                    "custtotalvalue": "30908.39",
                                    "pctcust": "6.9883937662233458294010"
                                },
                                {
                                    "orderid": "10858",
                                    "custid": "40",
                                    "val": "649.00",
                                    "totalvalue": "1265793.22",
                                    "pctall": "0.0512721975236998030373",
                                    "custtotalvalue": "1992.05",
                                    "pctcust": "32.5795035265179086870309"
                                },
                                {
                                    "orderid": "10927",
                                    "custid": "40",
                                    "val": "800.00",
                                    "totalvalue": "1265793.22",
                                    "pctall": "0.0632014761463171686130",
                                    "custtotalvalue": "1992.05",
                                    "pctcust": "40.1596345473256193368640"
                                },
                                {
                                    "orderid": "10972",
                                    "custid": "40",
                                    "val": "251.50",
                                    "totalvalue": "1265793.22",
                                    "pctall": "0.0198689640634984598827",
                                    "custtotalvalue": "1992.05",
                                    "pctcust": "12.6251851108154915790266"
                                },
                                {
                                    "orderid": "10973",
                                    "custid": "40",
                                    "val": "291.55",
                                    "totalvalue": "1265793.22",
                                    "pctall": "0.0230329879630734631364",
                                    "custtotalvalue": "1992.05",
                                    "pctcust": "14.6356768153409803970783"
                                },
                                {
                                    "orderid": "10923",
                                    "custid": "41",
                                    "val": "748.80",
                                    "totalvalue": "1265793.22",
                                    "pctall": "0.0591565816729528698218",
                                    "custtotalvalue": "9328.20",
                                    "pctcust": "8.0272721425355374027143"
                                },
                                {
                                    "orderid": "10832",
                                    "custid": "41",
                                    "val": "475.11",
                                    "totalvalue": "1265793.22",
                                    "pctall": "0.0375345666648459374746",
                                    "custtotalvalue": "9328.20",
                                    "pctcust": "5.0932655817842670611693"
                                },
                                {
                                    "orderid": "11051",
                                    "custid": "41",
                                    "val": "36.00",
                                    "totalvalue": "1265793.22",
                                    "pctall": "0.0028440664265842725875",
                                    "custtotalvalue": "9328.20",
                                    "pctcust": "0.3859265453142085289766"
                                },
                                {
                                    "orderid": "10454",
                                    "custid": "41",
                                    "val": "331.20",
                                    "totalvalue": "1265793.22",
                                    "pctall": "0.0261654111245753078058",
                                    "custtotalvalue": "9328.20",
                                    "pctcust": "3.5505242168907184665851"
                                },
                                {
                                    "orderid": "10425",
                                    "custid": "41",
                                    "val": "360.00",
                                    "totalvalue": "1265793.22",
                                    "pctall": "0.0284406642658427258758",
                                    "custtotalvalue": "9328.20",
                                    "pctcust": "3.8592654531420852897665"
                                },
                                {
                                    "orderid": "10413",
                                    "custid": "41",
                                    "val": "2123.20",
                                    "totalvalue": "1265793.22",
                                    "pctall": "0.1677367176923257654990",
                                    "custtotalvalue": "9328.20",
                                    "pctcust": "22.7610900280868763534229"
                                },
                                {
                                    "orderid": "10500",
                                    "custid": "41",
                                    "val": "523.26",
                                    "totalvalue": "1265793.22",
                                    "pctall": "0.0413385055104024020605",
                                    "custtotalvalue": "9328.20",
                                    "pctcust": "5.6094423361420209686756"
                                },
                                {
                                    "orderid": "10493",
                                    "custid": "41",
                                    "val": "608.40",
                                    "totalvalue": "1265793.22",
                                    "pctall": "0.0480647226092742067302",
                                    "custtotalvalue": "9328.20",
                                    "pctcust": "6.5221586158101241397054"
                                },
                                {
                                    "orderid": "10371",
                                    "custid": "41",
                                    "val": "72.96",
                                    "totalvalue": "1265793.22",
                                    "pctall": "0.0057639746245441257775",
                                    "custtotalvalue": "9328.20",
                                    "pctcust": "0.7821444651701292853926"
                                },
                                {
                                    "orderid": "10358",
                                    "custid": "41",
                                    "val": "429.40",
                                    "totalvalue": "1265793.22",
                                    "pctall": "0.0339233923215357402530",
                                    "custtotalvalue": "9328.20",
                                    "pctcust": "4.6032460710533650650715"
                                },
                                {
                                    "orderid": "10350",
                                    "custid": "41",
                                    "val": "642.06",
                                    "totalvalue": "1265793.22",
                                    "pctall": "0.0507239247181305015996",
                                    "custtotalvalue": "9328.20",
                                    "pctcust": "6.8829999356789091142985"
                                },
                                {
                                    "orderid": "10787",
                                    "custid": "41",
                                    "val": "2622.76",
                                    "totalvalue": "1265793.22",
                                    "pctall": "0.2072028794718935214394",
                                    "custtotalvalue": "9328.20",
                                    "pctcust": "28.1164640552303767071889"
                                },
                                {
                                    "orderid": "10610",
                                    "custid": "41",
                                    "val": "299.25",
                                    "totalvalue": "1265793.22",
                                    "pctall": "0.0236413021709817658843",
                                    "custtotalvalue": "9328.20",
                                    "pctcust": "3.2080144079243583971184"
                                },
                                {
                                    "orderid": "10631",
                                    "custid": "41",
                                    "val": "55.80",
                                    "totalvalue": "1265793.22",
                                    "pctall": "0.0044083029612056225107",
                                    "custtotalvalue": "9328.20",
                                    "pctcust": "0.5981861452370232199138"
                                },
                                {
                                    "orderid": "10620",
                                    "custid": "42",
                                    "val": "57.50",
                                    "totalvalue": "1265793.22",
                                    "pctall": "0.0045426060980165464940",
                                    "custtotalvalue": "522.50",
                                    "pctcust": "11.0047846889952153110047"
                                },
                                {
                                    "orderid": "10810",
                                    "custid": "42",
                                    "val": "187.00",
                                    "totalvalue": "1265793.22",
                                    "pctall": "0.0147733450492016381633",
                                    "custtotalvalue": "522.50",
                                    "pctcust": "35.7894736842105263157894"
                                },
                                {
                                    "orderid": "10495",
                                    "custid": "42",
                                    "val": "278.00",
                                    "totalvalue": "1265793.22",
                                    "pctall": "0.0219625129608452160930",
                                    "custtotalvalue": "522.50",
                                    "pctcust": "53.2057416267942583732057"
                                },
                                {
                                    "orderid": "10482",
                                    "custid": "43",
                                    "val": "147.00",
                                    "totalvalue": "1265793.22",
                                    "pctall": "0.0116132712418857797326",
                                    "custtotalvalue": "357.00",
                                    "pctcust": "41.1764705882352941176470"
                                },
                                {
                                    "orderid": "10545",
                                    "custid": "43",
                                    "val": "210.00",
                                    "totalvalue": "1265793.22",
                                    "pctall": "0.0165903874884082567609",
                                    "custtotalvalue": "357.00",
                                    "pctcust": "58.8235294117647058823529"
                                },
                                {
                                    "orderid": "10557",
                                    "custid": "44",
                                    "val": "1152.50",
                                    "totalvalue": "1265793.22",
                                    "pctall": "0.0910496265732881710331",
                                    "custtotalvalue": "19261.42",
                                    "pctcust": "5.9834633168271082817362"
                                },
                                {
                                    "orderid": "10592",
                                    "custid": "44",
                                    "val": "516.47",
                                    "totalvalue": "1265793.22",
                                    "pctall": "0.0408020829816105350919",
                                    "custtotalvalue": "19261.42",
                                    "pctcust": "2.6813703247216456522935"
                                },
                                {
                                    "orderid": "10593",
                                    "custid": "44",
                                    "val": "1994.40",
                                    "totalvalue": "1265793.22",
                                    "pctall": "0.1575612800327687013523",
                                    "custtotalvalue": "19261.42",
                                    "pctcust": "10.3543767801127850386939"
                                },
                                {
                                    "orderid": "10772",
                                    "custid": "44",
                                    "val": "3603.22",
                                    "totalvalue": "1265793.22",
                                    "pctall": "0.2846610285999161853624",
                                    "custtotalvalue": "19261.42",
                                    "pctcust": "18.7069281496379810003623"
                                },
                                {
                                    "orderid": "10497",
                                    "custid": "44",
                                    "val": "1380.60",
                                    "totalvalue": "1265793.22",
                                    "pctall": "0.1090699474595068537339",
                                    "custtotalvalue": "19261.42",
                                    "pctcust": "7.1676958396629116648720"
                                },
                                {
                                    "orderid": "10522",
                                    "custid": "44",
                                    "val": "2318.24",
                                    "totalvalue": "1265793.22",
                                    "pctall": "0.1831452375767978912069",
                                    "custtotalvalue": "19261.42",
                                    "pctcust": "12.0356650755759440373555"
                                },
                                {
                                    "orderid": "10534",
                                    "custid": "44",
                                    "val": "465.70",
                                    "totalvalue": "1265793.22",
                                    "pctall": "0.0367911593016748817788",
                                    "custtotalvalue": "19261.42",
                                    "pctcust": "2.4177864352680124310668"
                                },
                                {
                                    "orderid": "10536",
                                    "custid": "44",
                                    "val": "1645.00",
                                    "totalvalue": "1265793.22",
                                    "pctall": "0.1299580353258646779605",
                                    "custtotalvalue": "19261.42",
                                    "pctcust": "8.5403879880091914303306"
                                },
                                {
                                    "orderid": "10343",
                                    "custid": "44",
                                    "val": "1584.00",
                                    "totalvalue": "1265793.22",
                                    "pctall": "0.1251389227697079938538",
                                    "custtotalvalue": "19261.42",
                                    "pctcust": "8.2236927495480603195403"
                                },
                                {
                                    "orderid": "10284",
                                    "custid": "44",
                                    "val": "1170.38",
                                    "totalvalue": "1265793.22",
                                    "pctall": "0.0924621795651583597516",
                                    "custtotalvalue": "19261.42",
                                    "pctcust": "6.0762913637727644171613"
                                },
                                {
                                    "orderid": "10279",
                                    "custid": "44",
                                    "val": "351.00",
                                    "totalvalue": "1265793.22",
                                    "pctall": "0.0277296476591966577289",
                                    "custtotalvalue": "19261.42",
                                    "pctcust": "1.8222955524566724571708"
                                },
                                {
                                    "orderid": "11070",
                                    "custid": "44",
                                    "val": "1629.98",
                                    "totalvalue": "1265793.22",
                                    "pctall": "0.1287714276112175731198",
                                    "custtotalvalue": "19261.42",
                                    "pctcust": "8.4624082751946637371491"
                                },
                                {
                                    "orderid": "10862",
                                    "custid": "44",
                                    "val": "581.00",
                                    "totalvalue": "1265793.22",
                                    "pctall": "0.0459000720512628437052",
                                    "custtotalvalue": "19261.42",
                                    "pctcust": "3.0163923532117569732657"
                                },
                                {
                                    "orderid": "10891",
                                    "custid": "44",
                                    "val": "368.93",
                                    "totalvalue": "1265793.22",
                                    "pctall": "0.0291461507433259912705",
                                    "custtotalvalue": "19261.42",
                                    "pctcust": "1.9153831856633623066212"
                                },
                                {
                                    "orderid": "10934",
                                    "custid": "44",
                                    "val": "500.00",
                                    "totalvalue": "1265793.22",
                                    "pctall": "0.0395009225914482303831",
                                    "custtotalvalue": "19261.42",
                                    "pctcust": "2.5958626103371402523801"
                                },
                                {
                                    "orderid": "10884",
                                    "custid": "45",
                                    "val": "1378.07",
                                    "totalvalue": "1265793.22",
                                    "pctall": "0.1088700727911941256882",
                                    "custtotalvalue": "3076.47",
                                    "pctcust": "44.7938708974896553517505"
                                },
                                {
                                    "orderid": "10719",
                                    "custid": "45",
                                    "val": "844.25",
                                    "totalvalue": "1265793.22",
                                    "pctall": "0.0666973077956603370019",
                                    "custtotalvalue": "3076.47",
                                    "pctcust": "27.4421658589227263714581"
                                },
                                {
                                    "orderid": "10735",
                                    "custid": "45",
                                    "val": "536.40",
                                    "totalvalue": "1265793.22",
                                    "pctall": "0.0423765897561056615550",
                                    "custtotalvalue": "3076.47",
                                    "pctcust": "17.4355673872977795980458"
                                },
                                {
                                    "orderid": "10579",
                                    "custid": "45",
                                    "val": "317.75",
                                    "totalvalue": "1265793.22",
                                    "pctall": "0.0251028363068653504084",
                                    "custtotalvalue": "3076.47",
                                    "pctcust": "10.3283958562898386787454"
                                },
                                {
                                    "orderid": "10543",
                                    "custid": "46",
                                    "val": "1504.50",
                                    "totalvalue": "1265793.22",
                                    "pctall": "0.1188582760776677252229",
                                    "custtotalvalue": "16076.60",
                                    "pctcust": "9.3583220332657402684647"
                                },
                                {
                                    "orderid": "10780",
                                    "custid": "46",
                                    "val": "720.00",
                                    "totalvalue": "1265793.22",
                                    "pctall": "0.0568813285316854517517",
                                    "custtotalvalue": "16076.60",
                                    "pctcust": "4.4785588992697460905912"
                                },
                                {
                                    "orderid": "10823",
                                    "custid": "46",
                                    "val": "2826.00",
                                    "totalvalue": "1265793.22",
                                    "pctall": "0.2232592144868653981256",
                                    "custtotalvalue": "16076.60",
                                    "pctcust": "17.5783436796337534055708"
                                },
                                {
                                    "orderid": "10296",
                                    "custid": "46",
                                    "val": "1050.60",
                                    "totalvalue": "1265793.22",
                                    "pctall": "0.0829993385491510216810",
                                    "custtotalvalue": "16076.60",
                                    "pctcust": "6.5349638605177711705211"
                                },
                                {
                                    "orderid": "10283",
                                    "custid": "46",
                                    "val": "1414.80",
                                    "totalvalue": "1265793.22",
                                    "pctall": "0.1117718105647619126921",
                                    "custtotalvalue": "16076.60",
                                    "pctcust": "8.8003682370650510680118"
                                },
                                {
                                    "orderid": "10330",
                                    "custid": "46",
                                    "val": "1649.00",
                                    "totalvalue": "1265793.22",
                                    "pctall": "0.1302740427065962638036",
                                    "custtotalvalue": "16076.60",
                                    "pctcust": "10.2571439234664045880347"
                                },
                                {
                                    "orderid": "10381",
                                    "custid": "46",
                                    "val": "112.00",
                                    "totalvalue": "1265793.22",
                                    "pctall": "0.0088482066604844036058",
                                    "custtotalvalue": "16076.60",
                                    "pctcust": "0.6966647176641827252030"
                                },
                                {
                                    "orderid": "10357",
                                    "custid": "46",
                                    "val": "1167.68",
                                    "totalvalue": "1265793.22",
                                    "pctall": "0.0922488745831645393076",
                                    "custtotalvalue": "16076.60",
                                    "pctcust": "7.2632272993045793264745"
                                },
                                {
                                    "orderid": "10499",
                                    "custid": "46",
                                    "val": "1412.00",
                                    "totalvalue": "1265793.22",
                                    "pctall": "0.1115506053982498026020",
                                    "custtotalvalue": "16076.60",
                                    "pctcust": "8.7829516191234464998818"
                                },
                                {
                                    "orderid": "10461",
                                    "custid": "46",
                                    "val": "1538.70",
                                    "totalvalue": "1265793.22",
                                    "pctall": "0.1215601391829227841811",
                                    "custtotalvalue": "16076.60",
                                    "pctcust": "9.5710535809810532077678"
                                },
                                {
                                    "orderid": "10899",
                                    "custid": "46",
                                    "val": "122.40",
                                    "totalvalue": "1265793.22",
                                    "pctall": "0.0096698258503865267977",
                                    "custtotalvalue": "16076.60",
                                    "pctcust": "0.7613550128758568354005"
                                },
                                {
                                    "orderid": "11071",
                                    "custid": "46",
                                    "val": "484.50",
                                    "totalvalue": "1265793.22",
                                    "pctall": "0.0382763939911133352412",
                                    "custtotalvalue": "16076.60",
                                    "pctcust": "3.0136969259669333067937"
                                },
                                {
                                    "orderid": "11065",
                                    "custid": "46",
                                    "val": "189.42",
                                    "totalvalue": "1265793.22",
                                    "pctall": "0.0149645295145442475983",
                                    "custtotalvalue": "16076.60",
                                    "pctcust": "1.1782342037495490339997"
                                },
                                {
                                    "orderid": "10997",
                                    "custid": "46",
                                    "val": "1885.00",
                                    "totalvalue": "1265793.22",
                                    "pctall": "0.1489184781697598285445",
                                    "custtotalvalue": "16076.60",
                                    "pctcust": "11.7251160071159324732841"
                                },
                                {
                                    "orderid": "11014",
                                    "custid": "47",
                                    "val": "243.18",
                                    "totalvalue": "1265793.22",
                                    "pctall": "0.0192116687115767613291",
                                    "custtotalvalue": "16476.58",
                                    "pctcust": "1.4759130839045481525899"
                                },
                                {
                                    "orderid": "11039",
                                    "custid": "47",
                                    "val": "3090.00",
                                    "totalvalue": "1265793.22",
                                    "pctall": "0.2441157016151500637679",
                                    "custtotalvalue": "16476.58",
                                    "pctcust": "18.7538918877582605128005"
                                },
                                {
                                    "orderid": "10838",
                                    "custid": "47",
                                    "val": "1938.38",
                                    "totalvalue": "1265793.22",
                                    "pctall": "0.1531355966656228416202",
                                    "custtotalvalue": "16476.58",
                                    "pctcust": "11.7644559732662967678972"
                                },
                                {
                                    "orderid": "10840",
                                    "custid": "47",
                                    "val": "211.20",
                                    "totalvalue": "1265793.22",
                                    "pctall": "0.0166851897026277325138",
                                    "custtotalvalue": "16476.58",
                                    "pctcust": "1.2818194066972636311661"
                                },
                                {
                                    "orderid": "10919",
                                    "custid": "47",
                                    "val": "1122.80",
                                    "totalvalue": "1265793.22",
                                    "pctall": "0.0887032717713561461484",
                                    "custtotalvalue": "16476.58",
                                    "pctcust": "6.8145209746197329785671"
                                },
                                {
                                    "orderid": "10954",
                                    "custid": "47",
                                    "val": "1659.54",
                                    "totalvalue": "1265793.22",
                                    "pctall": "0.1311067221548239925001",
                                    "custtotalvalue": "16476.58",
                                    "pctcust": "10.0721144800680723790980"
                                },
                                {
                                    "orderid": "10405",
                                    "custid": "47",
                                    "val": "400.00",
                                    "totalvalue": "1265793.22",
                                    "pctall": "0.0316007380731585843065",
                                    "custtotalvalue": "16476.58",
                                    "pctcust": "2.4276882702599689984207"
                                },
                                {
                                    "orderid": "10485",
                                    "custid": "47",
                                    "val": "1584.00",
                                    "totalvalue": "1265793.22",
                                    "pctall": "0.1251389227697079938538",
                                    "custtotalvalue": "16476.58",
                                    "pctcust": "9.6136455502294772337463"
                                },
                                {
                                    "orderid": "10811",
                                    "custid": "47",
                                    "val": "852.00",
                                    "totalvalue": "1265793.22",
                                    "pctall": "0.0673095720958277845729",
                                    "custtotalvalue": "16476.58",
                                    "pctcust": "5.1709760156537339666362"
                                },
                                {
                                    "orderid": "10729",
                                    "custid": "47",
                                    "val": "1850.00",
                                    "totalvalue": "1265793.22",
                                    "pctall": "0.1461534135883584524176",
                                    "custtotalvalue": "16476.58",
                                    "pctcust": "11.2280582499523566176961"
                                },
                                {
                                    "orderid": "10697",
                                    "custid": "47",
                                    "val": "805.43",
                                    "totalvalue": "1265793.22",
                                    "pctall": "0.0636304561656602963950",
                                    "custtotalvalue": "16476.58",
                                    "pctcust": "4.8883324087887170759951"
                                },
                                {
                                    "orderid": "10638",
                                    "custid": "47",
                                    "val": "2720.05",
                                    "totalvalue": "1265793.22",
                                    "pctall": "0.2148889689897375181074",
                                    "custtotalvalue": "16476.58",
                                    "pctcust": "16.5085836988015716853861"
                                },
                                {
                                    "orderid": "10662",
                                    "custid": "48",
                                    "val": "125.00",
                                    "totalvalue": "1265793.22",
                                    "pctall": "0.0098752306478620575957",
                                    "custtotalvalue": "4258.60",
                                    "pctcust": "2.9352369323251772883107"
                                },
                                {
                                    "orderid": "10665",
                                    "custid": "48",
                                    "val": "1295.00",
                                    "totalvalue": "1265793.22",
                                    "pctall": "0.1023073895118509166923",
                                    "custtotalvalue": "4258.60",
                                    "pctcust": "30.4090546188888367068989"
                                },
                                {
                                    "orderid": "10544",
                                    "custid": "48",
                                    "val": "417.20",
                                    "totalvalue": "1265793.22",
                                    "pctall": "0.0329595698103044034317",
                                    "custtotalvalue": "4258.60",
                                    "pctcust": "9.7966467853285117174658"
                                },
                                {
                                    "orderid": "10317",
                                    "custid": "48",
                                    "val": "288.00",
                                    "totalvalue": "1265793.22",
                                    "pctall": "0.0227525314126741807006",
                                    "custtotalvalue": "4258.60",
                                    "pctcust": "6.7627858920772084722678"
                                },
                                {
                                    "orderid": "10307",
                                    "custid": "48",
                                    "val": "424.00",
                                    "totalvalue": "1265793.22",
                                    "pctall": "0.0334967823575480993649",
                                    "custtotalvalue": "4258.60",
                                    "pctcust": "9.9563236744470013619499"
                                },
                                {
                                    "orderid": "10867",
                                    "custid": "48",
                                    "val": "98.40",
                                    "totalvalue": "1265793.22",
                                    "pctall": "0.0077737815659970117394",
                                    "custtotalvalue": "4258.60",
                                    "pctcust": "2.3106185131263795613581"
                                },
                                {
                                    "orderid": "10883",
                                    "custid": "48",
                                    "val": "36.00",
                                    "totalvalue": "1265793.22",
                                    "pctall": "0.0028440664265842725875",
                                    "custtotalvalue": "4258.60",
                                    "pctcust": "0.8453482365096510590334"
                                },
                                {
                                    "orderid": "11018",
                                    "custid": "48",
                                    "val": "1575.00",
                                    "totalvalue": "1265793.22",
                                    "pctall": "0.1244279061630619257069",
                                    "custtotalvalue": "4258.60",
                                    "pctcust": "36.9839853472972338327149"
                                },
                                {
                                    "orderid": "10950",
                                    "custid": "49",
                                    "val": "110.00",
                                    "totalvalue": "1265793.22",
                                    "pctall": "0.0086902029701186106842",
                                    "custtotalvalue": "7176.22",
                                    "pctcust": "1.5328404090175607771222"
                                },
                                {
                                    "orderid": "10939",
                                    "custid": "49",
                                    "val": "637.50",
                                    "totalvalue": "1265793.22",
                                    "pctall": "0.0503636763040964937385",
                                    "custtotalvalue": "7176.22",
                                    "pctcust": "8.8835069158972272310492"
                                },
                                {
                                    "orderid": "10300",
                                    "custid": "49",
                                    "val": "608.00",
                                    "totalvalue": "1265793.22",
                                    "pctall": "0.0480331218712010481459",
                                    "custtotalvalue": "7176.22",
                                    "pctcust": "8.4724269880243359317300"
                                },
                                {
                                    "orderid": "10275",
                                    "custid": "49",
                                    "val": "291.84",
                                    "totalvalue": "1265793.22",
                                    "pctall": "0.0230558984981765031100",
                                    "custtotalvalue": "7176.22",
                                    "pctcust": "4.0667649542516812472304"
                                },
                                {
                                    "orderid": "10467",
                                    "custid": "49",
                                    "val": "235.20",
                                    "totalvalue": "1265793.22",
                                    "pctall": "0.0185812339870172475722",
                                    "custtotalvalue": "7176.22",
                                    "pctcust": "3.2774914927357299525376"
                                },
                                {
                                    "orderid": "10404",
                                    "custid": "49",
                                    "val": "1591.25",
                                    "totalvalue": "1265793.22",
                                    "pctall": "0.1257116861472839931944",
                                    "custtotalvalue": "7176.22",
                                    "pctcust": "22.1739300077199416963248"
                                },
                                {
                                    "orderid": "10635",
                                    "custid": "49",
                                    "val": "1326.23",
                                    "totalvalue": "1265793.22",
                                    "pctall": "0.1047746171369127731621",
                                    "custtotalvalue": "7176.22",
                                    "pctcust": "18.4808994150123602676618"
                                },
                                {
                                    "orderid": "10754",
                                    "custid": "49",
                                    "val": "55.20",
                                    "totalvalue": "1265793.22",
                                    "pctall": "0.0043609018540958846343",
                                    "custtotalvalue": "7176.22",
                                    "pctcust": "0.7692071870706304990649"
                                },
                                {
                                    "orderid": "10818",
                                    "custid": "49",
                                    "val": "833.00",
                                    "totalvalue": "1265793.22",
                                    "pctall": "0.0658085370373527518183",
                                    "custtotalvalue": "7176.22",
                                    "pctcust": "11.6077823701057102485709"
                                },
                                {
                                    "orderid": "10784",
                                    "custid": "49",
                                    "val": "1488.00",
                                    "totalvalue": "1265793.22",
                                    "pctall": "0.1175547456321499336202",
                                    "custtotalvalue": "7176.22",
                                    "pctcust": "20.7351502601648221487078"
                                },
                                {
                                    "orderid": "10760",
                                    "custid": "50",
                                    "val": "2917.00",
                                    "totalvalue": "1265793.22",
                                    "pctall": "0.2304483823985089760553",
                                    "custtotalvalue": "9736.08",
                                    "pctcust": "29.9607234122973517062308"
                                },
                                {
                                    "orderid": "10649",
                                    "custid": "50",
                                    "val": "1434.00",
                                    "totalvalue": "1265793.22",
                                    "pctall": "0.1132886459922735247388",
                                    "custtotalvalue": "9736.08",
                                    "pctcust": "14.7287203884931101634333"
                                },
                                {
                                    "orderid": "10529",
                                    "custid": "50",
                                    "val": "946.00",
                                    "totalvalue": "1265793.22",
                                    "pctall": "0.0747357455430200518849",
                                    "custtotalvalue": "9736.08",
                                    "pctcust": "9.7164361837618425485410"
                                },
                                {
                                    "orderid": "10978",
                                    "custid": "50",
                                    "val": "1303.20",
                                    "totalvalue": "1265793.22",
                                    "pctall": "0.1029552046423506676706",
                                    "custtotalvalue": "9736.08",
                                    "pctcust": "13.3852638844380900732122"
                                },
                                {
                                    "orderid": "10892",
                                    "custid": "50",
                                    "val": "2090.00",
                                    "totalvalue": "1265793.22",
                                    "pctall": "0.1651138564322536030016",
                                    "custtotalvalue": "9736.08",
                                    "pctcust": "21.4665450571482567932884"
                                },
                                {
                                    "orderid": "10896",
                                    "custid": "50",
                                    "val": "750.50",
                                    "totalvalue": "1265793.22",
                                    "pctall": "0.0592908848097637938051",
                                    "custtotalvalue": "9736.08",
                                    "pctcust": "7.7084411796123285757717"
                                },
                                {
                                    "orderid": "11004",
                                    "custid": "50",
                                    "val": "295.38",
                                    "totalvalue": "1265793.22",
                                    "pctall": "0.0233355650301239565811",
                                    "custtotalvalue": "9736.08",
                                    "pctcust": "3.0338698942490201395222"
                                },
                                {
                                    "orderid": "10505",
                                    "custid": "51",
                                    "val": "147.90",
                                    "totalvalue": "1265793.22",
                                    "pctall": "0.0116843729025503865473",
                                    "custtotalvalue": "28872.19",
                                    "pctcust": "0.5122576430814565850390"
                                },
                                {
                                    "orderid": "10424",
                                    "custid": "51",
                                    "val": "9194.56",
                                    "totalvalue": "1265793.22",
                                    "pctall": "0.7263872056448524823035",
                                    "custtotalvalue": "28872.19",
                                    "pctcust": "31.8457311343545467108660"
                                },
                                {
                                    "orderid": "10439",
                                    "custid": "51",
                                    "val": "1078.00",
                                    "totalvalue": "1265793.22",
                                    "pctall": "0.0851639891071623847060",
                                    "custtotalvalue": "28872.19",
                                    "pctcust": "3.7336966818242745008258"
                                },
                                {
                                    "orderid": "10332",
                                    "custid": "51",
                                    "val": "1786.88",
                                    "totalvalue": "1265793.22",
                                    "pctall": "0.1411668171204140278141",
                                    "custtotalvalue": "28872.19",
                                    "pctcust": "6.1889312864732464007752"
                                },
                                {
                                    "orderid": "10339",
                                    "custid": "51",
                                    "val": "3354.00",
                                    "totalvalue": "1265793.22",
                                    "pctall": "0.2649721887434347294102",
                                    "custtotalvalue": "28872.19",
                                    "pctcust": "11.6167149080135590684322"
                                },
                                {
                                    "orderid": "10376",
                                    "custid": "51",
                                    "val": "399.00",
                                    "totalvalue": "1265793.22",
                                    "pctall": "0.0315217362279756878457",
                                    "custtotalvalue": "28872.19",
                                    "pctcust": "1.3819526679479457567991"
                                },
                                {
                                    "orderid": "10618",
                                    "custid": "51",
                                    "val": "2697.50",
                                    "totalvalue": "1265793.22",
                                    "pctall": "0.2131074773808632029171",
                                    "custtotalvalue": "28872.19",
                                    "pctcust": "9.3429005558636182430220"
                                },
                                {
                                    "orderid": "10619",
                                    "custid": "51",
                                    "val": "1260.00",
                                    "totalvalue": "1265793.22",
                                    "pctall": "0.0995423249304495405655",
                                    "custtotalvalue": "28872.19",
                                    "pctcust": "4.3640610566777234425237"
                                },
                                {
                                    "orderid": "10565",
                                    "custid": "51",
                                    "val": "639.90",
                                    "totalvalue": "1265793.22",
                                    "pctall": "0.0505532807325354452443",
                                    "custtotalvalue": "28872.19",
                                    "pctcust": "2.2163195794984724054531"
                                },
                                {
                                    "orderid": "10570",
                                    "custid": "51",
                                    "val": "2465.25",
                                    "totalvalue": "1265793.22",
                                    "pctall": "0.1947592988371354999041",
                                    "custtotalvalue": "28872.19",
                                    "pctcust": "8.5384932698212362830807"
                                },
                                {
                                    "orderid": "10590",
                                    "custid": "51",
                                    "val": "1101.00",
                                    "totalvalue": "1265793.22",
                                    "pctall": "0.0869810315463690033037",
                                    "custtotalvalue": "28872.19",
                                    "pctcust": "3.8133581138112488176338"
                                },
                                {
                                    "orderid": "10605",
                                    "custid": "51",
                                    "val": "4109.70",
                                    "totalvalue": "1265793.22",
                                    "pctall": "0.3246738831481495848113",
                                    "custtotalvalue": "28872.19",
                                    "pctcust": "14.2341124798638412950316"
                                },
                                {
                                    "orderid": "10724",
                                    "custid": "51",
                                    "val": "638.50",
                                    "totalvalue": "1265793.22",
                                    "pctall": "0.0504426781492793901992",
                                    "custtotalvalue": "28872.19",
                                    "pctcust": "2.2114706227688304905169"
                                },
                                {
                                    "orderid": "10699",
                                    "custid": "52",
                                    "val": "114.00",
                                    "totalvalue": "1265793.22",
                                    "pctall": "0.0090062103508501965273",
                                    "custtotalvalue": "5042.20",
                                    "pctcust": "2.2609178533179961128079"
                                },
                                {
                                    "orderid": "10779",
                                    "custid": "52",
                                    "val": "1335.00",
                                    "totalvalue": "1265793.22",
                                    "pctall": "0.1054674633191667751230",
                                    "custtotalvalue": "5042.20",
                                    "pctcust": "26.4765380191186386894609"
                                },
                                {
                                    "orderid": "10575",
                                    "custid": "52",
                                    "val": "2147.40",
                                    "totalvalue": "1265793.22",
                                    "pctall": "0.1696485623457518598495",
                                    "custtotalvalue": "5042.20",
                                    "pctcust": "42.5885526159216215144183"
                                },
                                {
                                    "orderid": "10277",
                                    "custid": "52",
                                    "val": "1200.80",
                                    "totalvalue": "1265793.22",
                                    "pctall": "0.0948654156956220700881",
                                    "custtotalvalue": "5042.20",
                                    "pctcust": "23.8150013882828923882432"
                                },
                                {
                                    "orderid": "10945",
                                    "custid": "52",
                                    "val": "245.00",
                                    "totalvalue": "1265793.22",
                                    "pctall": "0.0193554520698096328877",
                                    "custtotalvalue": "5042.20",
                                    "pctcust": "4.8589901233588512950696"
                                },
                                {
                                    "orderid": "11057",
                                    "custid": "53",
                                    "val": "45.00",
                                    "totalvalue": "1265793.22",
                                    "pctall": "0.0035550830332303407344",
                                    "custtotalvalue": "649.00",
                                    "pctcust": "6.9337442218798151001540"
                                },
                                {
                                    "orderid": "10517",
                                    "custid": "53",
                                    "val": "352.00",
                                    "totalvalue": "1265793.22",
                                    "pctall": "0.0278086495043795541897",
                                    "custtotalvalue": "649.00",
                                    "pctcust": "54.2372881355932203389830"
                                },
                                {
                                    "orderid": "10752",
                                    "custid": "53",
                                    "val": "252.00",
                                    "totalvalue": "1265793.22",
                                    "pctall": "0.0199084649860899081131",
                                    "custtotalvalue": "649.00",
                                    "pctcust": "38.8289676425269645608628"
                                },
                                {
                                    "orderid": "10531",
                                    "custid": "54",
                                    "val": "110.00",
                                    "totalvalue": "1265793.22",
                                    "pctall": "0.0086902029701186106842",
                                    "custtotalvalue": "3460.20",
                                    "pctcust": "3.1790069938153863938500"
                                },
                                {
                                    "orderid": "10409",
                                    "custid": "54",
                                    "val": "319.20",
                                    "totalvalue": "1265793.22",
                                    "pctall": "0.0252173889823805502766",
                                    "custtotalvalue": "3460.20",
                                    "pctcust": "9.2249002947806485174267"
                                },
                                {
                                    "orderid": "10986",
                                    "custid": "54",
                                    "val": "2220.00",
                                    "totalvalue": "1265793.22",
                                    "pctall": "0.1753840963060301429012",
                                    "custtotalvalue": "3460.20",
                                    "pctcust": "64.1581411479105254031558"
                                },
                                {
                                    "orderid": "10958",
                                    "custid": "54",
                                    "val": "781.00",
                                    "totalvalue": "1265793.22",
                                    "pctall": "0.0617004410878421358584",
                                    "custtotalvalue": "3460.20",
                                    "pctcust": "22.5709496560892433963354"
                                },
                                {
                                    "orderid": "10898",
                                    "custid": "54",
                                    "val": "30.00",
                                    "totalvalue": "1265793.22",
                                    "pctall": "0.0023700553554868938229",
                                    "custtotalvalue": "3460.20",
                                    "pctcust": "0.8670019074041962892318"
                                },
                                {
                                    "orderid": "10855",
                                    "custid": "55",
                                    "val": "2227.89",
                                    "totalvalue": "1265793.22",
                                    "pctall": "0.1760074208645231959766",
                                    "custtotalvalue": "15177.47",
                                    "pctcust": "14.6789287015556611213858"
                                },
                                {
                                    "orderid": "10965",
                                    "custid": "55",
                                    "val": "848.00",
                                    "totalvalue": "1265793.22",
                                    "pctall": "0.0669935647150961987298",
                                    "custtotalvalue": "15177.47",
                                    "pctcust": "5.5872289650383100740769"
                                },
                                {
                                    "orderid": "11034",
                                    "custid": "55",
                                    "val": "539.40",
                                    "totalvalue": "1265793.22",
                                    "pctall": "0.0426135952916543509373",
                                    "custtotalvalue": "15177.47",
                                    "pctcust": "3.5539520091293212900437"
                                },
                                {
                                    "orderid": "10441",
                                    "custid": "55",
                                    "val": "1755.00",
                                    "totalvalue": "1265793.22",
                                    "pctall": "0.1386482382959832886448",
                                    "custtotalvalue": "15177.47",
                                    "pctcust": "11.5631920208045214386851"
                                },
                                {
                                    "orderid": "10305",
                                    "custid": "55",
                                    "val": "3741.30",
                                    "totalvalue": "1265793.22",
                                    "pctall": "0.2955696033827705286650",
                                    "custtotalvalue": "15177.47",
                                    "pctcust": "24.6503534515304592926225"
                                },
                                {
                                    "orderid": "10338",
                                    "custid": "55",
                                    "val": "934.50",
                                    "totalvalue": "1265793.22",
                                    "pctall": "0.0738272243234167425861",
                                    "custtotalvalue": "15177.47",
                                    "pctcust": "6.1571526743258263729066"
                                },
                                {
                                    "orderid": "10594",
                                    "custid": "55",
                                    "val": "565.50",
                                    "totalvalue": "1265793.22",
                                    "pctall": "0.0446755434509279485633",
                                    "custtotalvalue": "15177.47",
                                    "pctcust": "3.7259174289259013524652"
                                },
                                {
                                    "orderid": "10680",
                                    "custid": "55",
                                    "val": "1261.88",
                                    "totalvalue": "1265793.22",
                                    "pctall": "0.0996908483993933859118",
                                    "custtotalvalue": "15177.47",
                                    "pctcust": "8.3141656679275267880615"
                                },
                                {
                                    "orderid": "10706",
                                    "custid": "55",
                                    "val": "1893.00",
                                    "totalvalue": "1265793.22",
                                    "pctall": "0.1495504929312230002306",
                                    "custtotalvalue": "15177.47",
                                    "pctcust": "12.4724344703036803894193"
                                },
                                {
                                    "orderid": "10808",
                                    "custid": "55",
                                    "val": "1411.00",
                                    "totalvalue": "1265793.22",
                                    "pctall": "0.1114716035530669061412",
                                    "custtotalvalue": "15177.47",
                                    "pctcust": "9.2966746104587918803331"
                                },
                                {
                                    "orderid": "10766",
                                    "custid": "56",
                                    "val": "2310.00",
                                    "totalvalue": "1265793.22",
                                    "pctall": "0.1824942623724908243701",
                                    "custtotalvalue": "12496.21",
                                    "pctcust": "18.4856048353860890622036"
                                },
                                {
                                    "orderid": "10684",
                                    "custid": "56",
                                    "val": "1768.00",
                                    "totalvalue": "1265793.22",
                                    "pctall": "0.1396752622833609426348",
                                    "custtotalvalue": "12496.21",
                                    "pctcust": "14.1482897614556733601628"
                                },
                                {
                                    "orderid": "10580",
                                    "custid": "56",
                                    "val": "1013.75",
                                    "totalvalue": "1265793.22",
                                    "pctall": "0.0800881205541612871018",
                                    "custtotalvalue": "12496.21",
                                    "pctcust": "8.1124596977803670072766"
                                },
                                {
                                    "orderid": "10554",
                                    "custid": "56",
                                    "val": "1728.53",
                                    "totalvalue": "1265793.22",
                                    "pctall": "0.1365570594539920193284",
                                    "custtotalvalue": "12496.21",
                                    "pctcust": "13.8324339939869768513813"
                                },
                                {
                                    "orderid": "10260",
                                    "custid": "56",
                                    "val": "1504.65",
                                    "totalvalue": "1265793.22",
                                    "pctall": "0.1188701263544451596920",
                                    "custtotalvalue": "12496.21",
                                    "pctcust": "12.0408507859583025573353"
                                },
                                {
                                    "orderid": "10407",
                                    "custid": "56",
                                    "val": "1194.00",
                                    "totalvalue": "1265793.22",
                                    "pctall": "0.0943282031483783741549",
                                    "custtotalvalue": "12496.21",
                                    "pctcust": "9.5548970447839785022818"
                                },
                                {
                                    "orderid": "10508",
                                    "custid": "56",
                                    "val": "240.00",
                                    "totalvalue": "1265793.22",
                                    "pctall": "0.0189604428438951505839",
                                    "custtotalvalue": "12496.21",
                                    "pctcust": "1.9205823205595936688003"
                                },
                                {
                                    "orderid": "11020",
                                    "custid": "56",
                                    "val": "632.40",
                                    "totalvalue": "1265793.22",
                                    "pctall": "0.0499607668936637217886",
                                    "custtotalvalue": "12496.21",
                                    "pctcust": "5.0607344146745293172890"
                                },
                                {
                                    "orderid": "10999",
                                    "custid": "56",
                                    "val": "1197.95",
                                    "totalvalue": "1265793.22",
                                    "pctall": "0.0946402604368508151750",
                                    "custtotalvalue": "12496.21",
                                    "pctcust": "9.5865066288098551480808"
                                },
                                {
                                    "orderid": "10833",
                                    "custid": "56",
                                    "val": "906.93",
                                    "totalvalue": "1265793.22",
                                    "pctall": "0.0716491434517242871627",
                                    "custtotalvalue": "12496.21",
                                    "pctcust": "7.2576405166046345251880"
                                },
                                {
                                    "orderid": "10995",
                                    "custid": "58",
                                    "val": "1196.00",
                                    "totalvalue": "1265793.22",
                                    "pctall": "0.0944862068387441670765",
                                    "custtotalvalue": "4242.20",
                                    "pctcust": "28.1929187685634812125783"
                                },
                                {
                                    "orderid": "11073",
                                    "custid": "58",
                                    "val": "300.00",
                                    "totalvalue": "1265793.22",
                                    "pctall": "0.0237005535548689382298",
                                    "custtotalvalue": "4242.20",
                                    "pctcust": "7.0718023666965253877704"
                                },
                                {
                                    "orderid": "10502",
                                    "custid": "58",
                                    "val": "816.30",
                                    "totalvalue": "1265793.22",
                                    "pctall": "0.0644892062227983809235",
                                    "custtotalvalue": "4242.20",
                                    "pctcust": "19.2423742397812455801235"
                                },
                                {
                                    "orderid": "10474",
                                    "custid": "58",
                                    "val": "1249.10",
                                    "totalvalue": "1265793.22",
                                    "pctall": "0.0986812048179559691432",
                                    "custtotalvalue": "4242.20",
                                    "pctcust": "29.4446277874687662062137"
                                },
                                {
                                    "orderid": "10322",
                                    "custid": "58",
                                    "val": "112.00",
                                    "totalvalue": "1265793.22",
                                    "pctall": "0.0088482066604844036058",
                                    "custtotalvalue": "4242.20",
                                    "pctcust": "2.6401395502333694781009"
                                },
                                {
                                    "orderid": "10354",
                                    "custid": "58",
                                    "val": "568.80",
                                    "totalvalue": "1265793.22",
                                    "pctall": "0.0449362495400315068838",
                                    "custtotalvalue": "4242.20",
                                    "pctcust": "13.4081372872566121352128"
                                },
                                {
                                    "orderid": "10353",
                                    "custid": "59",
                                    "val": "8593.28",
                                    "totalvalue": "1265793.22",
                                    "pctall": "0.6788849761732804983739",
                                    "custtotalvalue": "23128.86",
                                    "pctcust": "37.1539280362283311845028"
                                },
                                {
                                    "orderid": "10489",
                                    "custid": "59",
                                    "val": "439.20",
                                    "totalvalue": "1265793.22",
                                    "pctall": "0.0346976104043281255685",
                                    "custtotalvalue": "23128.86",
                                    "pctcust": "1.8989262765220594529950"
                                },
                                {
                                    "orderid": "10530",
                                    "custid": "59",
                                    "val": "4180.00",
                                    "totalvalue": "1265793.22",
                                    "pctall": "0.3302277128645072060032",
                                    "custtotalvalue": "23128.86",
                                    "pctcust": "18.0726590069722416063740"
                                },
                                {
                                    "orderid": "10427",
                                    "custid": "59",
                                    "val": "651.00",
                                    "totalvalue": "1265793.22",
                                    "pctall": "0.0514302012140655959588",
                                    "custtotalvalue": "23128.86",
                                    "pctcust": "2.8146653142437629870214"
                                },
                                {
                                    "orderid": "10392",
                                    "custid": "59",
                                    "val": "1440.00",
                                    "totalvalue": "1265793.22",
                                    "pctall": "0.1137626570633709035034",
                                    "custtotalvalue": "23128.86",
                                    "pctcust": "6.2259877918756047639183"
                                },
                                {
                                    "orderid": "10597",
                                    "custid": "59",
                                    "val": "718.08",
                                    "totalvalue": "1265793.22",
                                    "pctall": "0.0567296449889342905470",
                                    "custtotalvalue": "23128.86",
                                    "pctcust": "3.1046925788819682422739"
                                },
                                {
                                    "orderid": "10686",
                                    "custid": "59",
                                    "val": "1404.45",
                                    "totalvalue": "1265793.22",
                                    "pctall": "0.1109541414671189343232",
                                    "custtotalvalue": "23128.86",
                                    "pctcust": "6.0722837182636757713090"
                                },
                                {
                                    "orderid": "10747",
                                    "custid": "59",
                                    "val": "1912.85",
                                    "totalvalue": "1265793.22",
                                    "pctall": "0.1511186795581034949768",
                                    "custtotalvalue": "23128.86",
                                    "pctcust": "8.2704032970064240087924"
                                },
                                {
                                    "orderid": "11053",
                                    "custid": "59",
                                    "val": "3055.00",
                                    "totalvalue": "1265793.22",
                                    "pctall": "0.2413506370337486876410",
                                    "custtotalvalue": "23128.86",
                                    "pctcust": "13.2086060445694253845628"
                                },
                                {
                                    "orderid": "10844",
                                    "custid": "59",
                                    "val": "735.00",
                                    "totalvalue": "1265793.22",
                                    "pctall": "0.0580663562094288986632",
                                    "custtotalvalue": "23128.86",
                                    "pctcust": "3.1778479354365065982499"
                                },
                                {
                                    "orderid": "11007",
                                    "custid": "60",
                                    "val": "2633.90",
                                    "totalvalue": "1265793.22",
                                    "pctall": "0.2080829600272309880124",
                                    "custtotalvalue": "5044.94",
                                    "pctcust": "52.2087477749983151434903"
                                },
                                {
                                    "orderid": "10397",
                                    "custid": "60",
                                    "val": "716.72",
                                    "totalvalue": "1265793.22",
                                    "pctall": "0.0566222024794855513604",
                                    "custtotalvalue": "5044.94",
                                    "pctcust": "14.2067100897136536807177"
                                },
                                {
                                    "orderid": "10433",
                                    "custid": "60",
                                    "val": "851.20",
                                    "totalvalue": "1265793.22",
                                    "pctall": "0.0672463706196814674042",
                                    "custtotalvalue": "5044.94",
                                    "pctcust": "16.8723513064575594556129"
                                },
                                {
                                    "orderid": "10477",
                                    "custid": "60",
                                    "val": "558.00",
                                    "totalvalue": "1265793.22",
                                    "pctall": "0.0440830296120562251076",
                                    "custtotalvalue": "5044.94",
                                    "pctcust": "11.0605874400884846995207"
                                },
                                {
                                    "orderid": "10336",
                                    "custid": "60",
                                    "val": "285.12",
                                    "totalvalue": "1265793.22",
                                    "pctall": "0.0225250060985474388936",
                                    "custtotalvalue": "5044.94",
                                    "pctcust": "5.6516033887419870206583"
                                },
                                {
                                    "orderid": "10379",
                                    "custid": "61",
                                    "val": "863.28",
                                    "totalvalue": "1265793.22",
                                    "pctall": "0.0682007129094908566503",
                                    "custtotalvalue": "6664.81",
                                    "pctcust": "12.9528073568488824137522"
                                },
                                {
                                    "orderid": "10261",
                                    "custid": "61",
                                    "val": "448.00",
                                    "totalvalue": "1265793.22",
                                    "pctall": "0.0353928266419376144233",
                                    "custtotalvalue": "6664.81",
                                    "pctcust": "6.7218720413635197402476"
                                },
                                {
                                    "orderid": "10291",
                                    "custid": "61",
                                    "val": "497.52",
                                    "totalvalue": "1265793.22",
                                    "pctall": "0.0393049980153946471604",
                                    "custtotalvalue": "6664.81",
                                    "pctcust": "7.4648789687928087972500"
                                },
                                {
                                    "orderid": "10421",
                                    "custid": "61",
                                    "val": "1194.27",
                                    "totalvalue": "1265793.22",
                                    "pctall": "0.0943495336465777561993",
                                    "custtotalvalue": "6664.81",
                                    "pctcust": "17.9190404527660953575570"
                                },
                                {
                                    "orderid": "10720",
                                    "custid": "61",
                                    "val": "550.00",
                                    "totalvalue": "1265793.22",
                                    "pctall": "0.0434510148505930534214",
                                    "custtotalvalue": "6664.81",
                                    "pctcust": "8.2522982650668211096790"
                                },
                                {
                                    "orderid": "10794",
                                    "custid": "61",
                                    "val": "314.76",
                                    "totalvalue": "1265793.22",
                                    "pctall": "0.0248666207897684899908",
                                    "custtotalvalue": "6664.81",
                                    "pctcust": "4.7227152762044229317865"
                                },
                                {
                                    "orderid": "10587",
                                    "custid": "61",
                                    "val": "807.38",
                                    "totalvalue": "1265793.22",
                                    "pctall": "0.0637845097637669444935",
                                    "custtotalvalue": "6664.81",
                                    "pctcust": "12.1140737695448182318775"
                                },
                                {
                                    "orderid": "10647",
                                    "custid": "61",
                                    "val": "636.00",
                                    "totalvalue": "1265793.22",
                                    "pctall": "0.0502451735363221490473",
                                    "custtotalvalue": "6664.81",
                                    "pctcust": "9.5426576301499967741015"
                                },
                                {
                                    "orderid": "10989",
                                    "custid": "61",
                                    "val": "1353.60",
                                    "totalvalue": "1265793.22",
                                    "pctall": "0.1069368976395686492932",
                                    "custtotalvalue": "6664.81",
                                    "pctcust": "20.3096562392626346437482"
                                },
                                {
                                    "orderid": "11068",
                                    "custid": "62",
                                    "val": "2027.08",
                                    "totalvalue": "1265793.22",
                                    "pctall": "0.1601430603333457576901",
                                    "custtotalvalue": "25717.50",
                                    "pctcust": "7.8821036259356469330222"
                                },
                                {
                                    "orderid": "10868",
                                    "custid": "62",
                                    "val": "1920.60",
                                    "totalvalue": "1265793.22",
                                    "pctall": "0.1517309438582709425477",
                                    "custtotalvalue": "25717.50",
                                    "pctcust": "7.4680664916885389326334"
                                },
                                {
                                    "orderid": "10961",
                                    "custid": "62",
                                    "val": "1119.90",
                                    "totalvalue": "1265793.22",
                                    "pctall": "0.0884741664203257464121",
                                    "custtotalvalue": "25717.50",
                                    "pctcust": "4.3546223388743073782443"
                                },
                                {
                                    "orderid": "10913",
                                    "custid": "62",
                                    "val": "768.75",
                                    "totalvalue": "1265793.22",
                                    "pctall": "0.0607326684843516542141",
                                    "custtotalvalue": "25717.50",
                                    "pctcust": "2.9892096821230679498396"
                                },
                                {
                                    "orderid": "10914",
                                    "custid": "62",
                                    "val": "537.50",
                                    "totalvalue": "1265793.22",
                                    "pctall": "0.0424634917858068476618",
                                    "custtotalvalue": "25717.50",
                                    "pctcust": "2.0900165257120637698065"
                                },
                                {
                                    "orderid": "10637",
                                    "custid": "62",
                                    "val": "2761.94",
                                    "totalvalue": "1265793.22",
                                    "pctall": "0.2181983562844490508489",
                                    "custtotalvalue": "25717.50",
                                    "pctcust": "10.7395353358607951783804"
                                },
                                {
                                    "orderid": "10659",
                                    "custid": "62",
                                    "val": "1227.02",
                                    "totalvalue": "1265793.22",
                                    "pctall": "0.0969368440763176152894",
                                    "custtotalvalue": "25717.50",
                                    "pctcust": "4.7711480509380771847963"
                                },
                                {
                                    "orderid": "10786",
                                    "custid": "62",
                                    "val": "1531.08",
                                    "totalvalue": "1265793.22",
                                    "pctall": "0.1209581451226291131500",
                                    "custtotalvalue": "25717.50",
                                    "pctcust": "5.9534558180227471566054"
                                },
                                {
                                    "orderid": "10704",
                                    "custid": "62",
                                    "val": "595.50",
                                    "totalvalue": "1265793.22",
                                    "pctall": "0.0470455988064148423863",
                                    "custtotalvalue": "25717.50",
                                    "pctcust": "2.3155438903470399533391"
                                },
                                {
                                    "orderid": "10728",
                                    "custid": "62",
                                    "val": "1296.75",
                                    "totalvalue": "1265793.22",
                                    "pctall": "0.1024456427409209854987",
                                    "custtotalvalue": "25717.50",
                                    "pctcust": "5.0422863808690580344123"
                                },
                                {
                                    "orderid": "10406",
                                    "custid": "62",
                                    "val": "1830.78",
                                    "totalvalue": "1265793.22",
                                    "pctall": "0.1446349981239431824417",
                                    "custtotalvalue": "25717.50",
                                    "pctcust": "7.1188101487314085739282"
                                },
                                {
                                    "orderid": "10487",
                                    "custid": "62",
                                    "val": "889.70",
                                    "totalvalue": "1265793.22",
                                    "pctall": "0.0702879416592229811437",
                                    "custtotalvalue": "25717.50",
                                    "pctcust": "3.4595120054437639739477"
                                },
                                {
                                    "orderid": "10372",
                                    "custid": "62",
                                    "val": "9210.90",
                                    "totalvalue": "1265793.22",
                                    "pctall": "0.7276780957951410104724",
                                    "custtotalvalue": "25717.50",
                                    "pctcust": "35.8156897054534849810440"
                                },
                                {
                                    "orderid": "10361",
                                    "custid": "63",
                                    "val": "2046.24",
                                    "totalvalue": "1265793.22",
                                    "pctall": "0.1616567356870500538784",
                                    "custtotalvalue": "110277.32",
                                    "pctcust": "1.8555401962978425663590"
                                },
                                {
                                    "orderid": "10345",
                                    "custid": "63",
                                    "val": "2924.80",
                                    "totalvalue": "1265793.22",
                                    "pctall": "0.2310645967909355684493",
                                    "custtotalvalue": "110277.32",
                                    "pctcust": "2.6522225966318368999174"
                                },
                                {
                                    "orderid": "10285",
                                    "custid": "63",
                                    "val": "1743.36",
                                    "totalvalue": "1265793.22",
                                    "pctall": "0.1377286568180543738415",
                                    "custtotalvalue": "110277.32",
                                    "pctcust": "1.5808871670076857145240"
                                },
                                {
                                    "orderid": "10286",
                                    "custid": "63",
                                    "val": "3016.00",
                                    "totalvalue": "1265793.22",
                                    "pctall": "0.2382695650716157256712",
                                    "custtotalvalue": "110277.32",
                                    "pctcust": "2.7349231918222169345428"
                                },
                                {
                                    "orderid": "10313",
                                    "custid": "63",
                                    "val": "182.40",
                                    "totalvalue": "1265793.22",
                                    "pctall": "0.0144099365613603144437",
                                    "custtotalvalue": "110277.32",
                                    "pctcust": "0.1654011903807600692508"
                                },
                                {
                                    "orderid": "10273",
                                    "custid": "63",
                                    "val": "2037.28",
                                    "totalvalue": "1265793.22",
                                    "pctall": "0.1609488791542113015900",
                                    "custtotalvalue": "110277.32",
                                    "pctcust": "1.8474152255422964576941"
                                },
                                {
                                    "orderid": "10540",
                                    "custid": "63",
                                    "val": "10191.70",
                                    "totalvalue": "1265793.22",
                                    "pctall": "0.8051631055505258591920",
                                    "custtotalvalue": "110277.32",
                                    "pctcust": "9.2418821930021513036406"
                                },
                                {
                                    "orderid": "10527",
                                    "custid": "63",
                                    "val": "1503.00",
                                    "totalvalue": "1265793.22",
                                    "pctall": "0.1187397733098933805317",
                                    "custtotalvalue": "110277.32",
                                    "pctcust": "1.3629275720519867548467"
                                },
                                {
                                    "orderid": "10515",
                                    "custid": "63",
                                    "val": "9921.30",
                                    "totalvalue": "1265793.22",
                                    "pctall": "0.7838010066130706562008",
                                    "custtotalvalue": "110277.32",
                                    "pctcust": "8.9966821827008490957161"
                                },
                                {
                                    "orderid": "10418",
                                    "custid": "63",
                                    "val": "1814.80",
                                    "totalvalue": "1265793.22",
                                    "pctall": "0.1433725486379204969987",
                                    "custtotalvalue": "110277.32",
                                    "pctcust": "1.6456692999068167416473"
                                },
                                {
                                    "orderid": "10451",
                                    "custid": "63",
                                    "val": "3849.66",
                                    "totalvalue": "1265793.22",
                                    "pctall": "0.3041302433267891891536",
                                    "custtotalvalue": "110277.32",
                                    "pctcust": "3.4908900579012982905279"
                                },
                                {
                                    "orderid": "10745",
                                    "custid": "63",
                                    "val": "4529.80",
                                    "totalvalue": "1265793.22",
                                    "pctall": "0.3578625583094843879792",
                                    "custtotalvalue": "110277.32",
                                    "pctcust": "4.1076442554099065882268"
                                },
                                {
                                    "orderid": "10721",
                                    "custid": "63",
                                    "val": "923.88",
                                    "totalvalue": "1265793.22",
                                    "pctall": "0.0729882247275743821727",
                                    "custtotalvalue": "110277.32",
                                    "pctcust": "0.8377787925930735349752"
                                },
                                {
                                    "orderid": "10691",
                                    "custid": "63",
                                    "val": "10164.80",
                                    "totalvalue": "1265793.22",
                                    "pctall": "0.8030379559151059443974",
                                    "custtotalvalue": "110277.32",
                                    "pctcust": "9.2174891446400764907961"
                                },
                                {
                                    "orderid": "10694",
                                    "custid": "63",
                                    "val": "4825.00",
                                    "totalvalue": "1265793.22",
                                    "pctall": "0.3811839030074754231974",
                                    "custtotalvalue": "110277.32",
                                    "pctcust": "4.3753330240524524897775"
                                },
                                {
                                    "orderid": "10788",
                                    "custid": "63",
                                    "val": "731.50",
                                    "totalvalue": "1265793.22",
                                    "pctall": "0.0577898497512887610505",
                                    "custtotalvalue": "110277.32",
                                    "pctcust": "0.6633276905895065277248"
                                },
                                {
                                    "orderid": "10765",
                                    "custid": "63",
                                    "val": "1515.60",
                                    "totalvalue": "1265793.22",
                                    "pctall": "0.1197351965591978759374",
                                    "custtotalvalue": "110277.32",
                                    "pctcust": "1.3743533121769734701568"
                                },
                                {
                                    "orderid": "10658",
                                    "custid": "63",
                                    "val": "4464.60",
                                    "totalvalue": "1265793.22",
                                    "pctall": "0.3527116380035595387372",
                                    "custtotalvalue": "110277.32",
                                    "pctcust": "4.0485205842869594582095"
                                },
                                {
                                    "orderid": "10588",
                                    "custid": "63",
                                    "val": "3120.00",
                                    "totalvalue": "1265793.22",
                                    "pctall": "0.2464857569706369575909",
                                    "custtotalvalue": "110277.32",
                                    "pctcust": "2.8292308880919485529753"
                                },
                                {
                                    "orderid": "10549",
                                    "custid": "63",
                                    "val": "3554.28",
                                    "totalvalue": "1265793.22",
                                    "pctall": "0.2807946782966652325725",
                                    "custtotalvalue": "110277.32",
                                    "pctcust": "3.2230380643998240073298"
                                },
                                {
                                    "orderid": "10938",
                                    "custid": "63",
                                    "val": "2731.88",
                                    "totalvalue": "1265793.22",
                                    "pctall": "0.2158235608182511832382",
                                    "custtotalvalue": "110277.32",
                                    "pctcust": "2.4772818200514847477250"
                                },
                                {
                                    "orderid": "10962",
                                    "custid": "63",
                                    "val": "3584.00",
                                    "totalvalue": "1265793.22",
                                    "pctall": "0.2831426131355009153864",
                                    "custtotalvalue": "110277.32",
                                    "pctcust": "3.2499883022184434659819"
                                },
                                {
                                    "orderid": "10865",
                                    "custid": "63",
                                    "val": "16387.50",
                                    "totalvalue": "1265793.22",
                                    "pctall": "1.2946427379347157508080",
                                    "custtotalvalue": "110277.32",
                                    "pctcust": "14.8602631982714124717575"
                                },
                                {
                                    "orderid": "10845",
                                    "custid": "63",
                                    "val": "3812.70",
                                    "totalvalue": "1265793.22",
                                    "pctall": "0.3012103351288293359637",
                                    "custtotalvalue": "110277.32",
                                    "pctcust": "3.4573745535346705922849"
                                },
                                {
                                    "orderid": "10878",
                                    "custid": "63",
                                    "val": "1539.00",
                                    "totalvalue": "1265793.22",
                                    "pctall": "0.1215838397364776531193",
                                    "custtotalvalue": "110277.32",
                                    "pctcust": "1.3955725438376630843041"
                                },
                                {
                                    "orderid": "10991",
                                    "custid": "63",
                                    "val": "2296.00",
                                    "totalvalue": "1265793.22",
                                    "pctall": "0.1813882365399302739194",
                                    "custtotalvalue": "110277.32",
                                    "pctcust": "2.0820237561086903453946"
                                },
                                {
                                    "orderid": "10996",
                                    "custid": "63",
                                    "val": "560.00",
                                    "totalvalue": "1265793.22",
                                    "pctall": "0.0442410333024220180291",
                                    "custtotalvalue": "110277.32",
                                    "pctcust": "0.5078106722216317915596"
                                },
                                {
                                    "orderid": "11021",
                                    "custid": "63",
                                    "val": "6306.24",
                                    "totalvalue": "1265793.22",
                                    "pctall": "0.4982045961661889767429",
                                    "custtotalvalue": "110277.32",
                                    "pctcust": "5.7185285242695415521523"
                                },
                                {
                                    "orderid": "11019",
                                    "custid": "64",
                                    "val": "76.00",
                                    "totalvalue": "1265793.22",
                                    "pctall": "0.0060041402339001310182",
                                    "custtotalvalue": "2844.10",
                                    "pctcust": "2.6721985865475897471959"
                                },
                                {
                                    "orderid": "10916",
                                    "custid": "64",
                                    "val": "686.70",
                                    "totalvalue": "1265793.22",
                                    "pctall": "0.0542505670870949996082",
                                    "custtotalvalue": "2844.10",
                                    "pctcust": "24.1447206497661826236770"
                                },
                                {
                                    "orderid": "10828",
                                    "custid": "64",
                                    "val": "932.00",
                                    "totalvalue": "1265793.22",
                                    "pctall": "0.0736297197104595014342",
                                    "custtotalvalue": "2844.10",
                                    "pctcust": "32.7695931929257058471924"
                                },
                                {
                                    "orderid": "10716",
                                    "custid": "64",
                                    "val": "706.00",
                                    "totalvalue": "1265793.22",
                                    "pctall": "0.0557753026991249013010",
                                    "custtotalvalue": "2844.10",
                                    "pctcust": "24.8233184487183994936886"
                                },
                                {
                                    "orderid": "10448",
                                    "custid": "64",
                                    "val": "443.40",
                                    "totalvalue": "1265793.22",
                                    "pctall": "0.0350294181540962907037",
                                    "custtotalvalue": "2844.10",
                                    "pctcust": "15.5901691220421222882458"
                                },
                                {
                                    "orderid": "10401",
                                    "custid": "65",
                                    "val": "3868.60",
                                    "totalvalue": "1265793.22",
                                    "pctall": "0.3056265382745532481205",
                                    "custtotalvalue": "51097.80",
                                    "pctcust": "7.5709717443803842826892"
                                },
                                {
                                    "orderid": "10479",
                                    "custid": "65",
                                    "val": "10495.60",
                                    "totalvalue": "1265793.22",
                                    "pctall": "0.8291717663016080936189",
                                    "custtotalvalue": "51097.80",
                                    "pctcust": "20.5402189526750662455135"
                                },
                                {
                                    "orderid": "10272",
                                    "custid": "65",
                                    "val": "1456.00",
                                    "totalvalue": "1265793.22",
                                    "pctall": "0.1150266865862972468757",
                                    "custtotalvalue": "51097.80",
                                    "pctcust": "2.8494377448735562000712"
                                },
                                {
                                    "orderid": "10262",
                                    "custid": "65",
                                    "val": "584.00",
                                    "totalvalue": "1265793.22",
                                    "pctall": "0.0461370775868115330875",
                                    "custtotalvalue": "51097.80",
                                    "pctcust": "1.1429063482185143000285"
                                },
                                {
                                    "orderid": "10314",
                                    "custid": "65",
                                    "val": "2094.30",
                                    "totalvalue": "1265793.22",
                                    "pctall": "0.1654535643665400577828",
                                    "custtotalvalue": "51097.80",
                                    "pctcust": "4.0986108990993741413524"
                                },
                                {
                                    "orderid": "10316",
                                    "custid": "65",
                                    "val": "2835.00",
                                    "totalvalue": "1265793.22",
                                    "pctall": "0.2239702310935114662725",
                                    "custtotalvalue": "51097.80",
                                    "pctcust": "5.5481840705470685626387"
                                },
                                {
                                    "orderid": "10294",
                                    "custid": "65",
                                    "val": "1887.60",
                                    "totalvalue": "1265793.22",
                                    "pctall": "0.1491238829672353593424",
                                    "custtotalvalue": "51097.80",
                                    "pctcust": "3.6940925049610746450923"
                                },
                                {
                                    "orderid": "10346",
                                    "custid": "65",
                                    "val": "1618.88",
                                    "totalvalue": "1265793.22",
                                    "pctall": "0.1278945071296874224053",
                                    "custtotalvalue": "51097.80",
                                    "pctcust": "3.1681990222671034760792"
                                },
                                {
                                    "orderid": "10820",
                                    "custid": "65",
                                    "val": "1140.00",
                                    "totalvalue": "1265793.22",
                                    "pctall": "0.0900621035085019652736",
                                    "custtotalvalue": "51097.80",
                                    "pctcust": "2.2310158167279217500557"
                                },
                                {
                                    "orderid": "10761",
                                    "custid": "65",
                                    "val": "507.00",
                                    "totalvalue": "1265793.22",
                                    "pctall": "0.0400539355077285056085",
                                    "custtotalvalue": "51097.80",
                                    "pctcust": "0.9922149290184704625248"
                                },
                                {
                                    "orderid": "10569",
                                    "custid": "65",
                                    "val": "890.00",
                                    "totalvalue": "1265793.22",
                                    "pctall": "0.0703116422127778500820",
                                    "custtotalvalue": "51097.80",
                                    "pctcust": "1.7417579621823248750435"
                                },
                                {
                                    "orderid": "10564",
                                    "custid": "65",
                                    "val": "1234.05",
                                    "totalvalue": "1265793.22",
                                    "pctall": "0.0974922270479533774086",
                                    "custtotalvalue": "51097.80",
                                    "pctcust": "2.4150746216079752944353"
                                },
                                {
                                    "orderid": "10598",
                                    "custid": "65",
                                    "val": "2388.50",
                                    "totalvalue": "1265793.22",
                                    "pctall": "0.1886959072193481965403",
                                    "custtotalvalue": "51097.80",
                                    "pctcust": "4.6743695423286325438668"
                                },
                                {
                                    "orderid": "10889",
                                    "custid": "65",
                                    "val": "11380.00",
                                    "totalvalue": "1265793.22",
                                    "pctall": "0.8990409981813617235206",
                                    "custtotalvalue": "51097.80",
                                    "pctcust": "22.2710175389155697505567"
                                },
                                {
                                    "orderid": "10852",
                                    "custid": "65",
                                    "val": "2984.00",
                                    "totalvalue": "1265793.22",
                                    "pctall": "0.2357415060257630389266",
                                    "custtotalvalue": "51097.80",
                                    "pctcust": "5.8397817518562443001459"
                                },
                                {
                                    "orderid": "10988",
                                    "custid": "65",
                                    "val": "3574.80",
                                    "totalvalue": "1265793.22",
                                    "pctall": "0.2824157961598182679474",
                                    "custtotalvalue": "51097.80",
                                    "pctcust": "6.9959959137183988351748"
                                },
                                {
                                    "orderid": "11000",
                                    "custid": "65",
                                    "val": "903.75",
                                    "totalvalue": "1265793.22",
                                    "pctall": "0.0713979175840426764175",
                                    "custtotalvalue": "51097.80",
                                    "pctcust": "1.7686671441823327031692"
                                },
                                {
                                    "orderid": "11077",
                                    "custid": "65",
                                    "val": "1255.72",
                                    "totalvalue": "1265793.22",
                                    "pctall": "0.0992041970330667437134",
                                    "custtotalvalue": "51097.80",
                                    "pctcust": "2.4574834924399876315614"
                                },
                                {
                                    "orderid": "11062",
                                    "custid": "66",
                                    "val": "406.40",
                                    "totalvalue": "1265793.22",
                                    "pctall": "0.0321063498823291216554",
                                    "custtotalvalue": "7048.24",
                                    "pctcust": "5.7659784570332451789382"
                                },
                                {
                                    "orderid": "11010",
                                    "custid": "66",
                                    "val": "645.00",
                                    "totalvalue": "1265793.22",
                                    "pctall": "0.0509561901429682171942",
                                    "custtotalvalue": "7048.24",
                                    "pctcust": "9.1512207302816022155885"
                                },
                                {
                                    "orderid": "10908",
                                    "custid": "66",
                                    "val": "663.10",
                                    "totalvalue": "1265793.22",
                                    "pctall": "0.0523861235407786431341",
                                    "custtotalvalue": "7048.24",
                                    "pctcust": "9.4080224282941557041190"
                                },
                                {
                                    "orderid": "10942",
                                    "custid": "66",
                                    "val": "560.00",
                                    "totalvalue": "1265793.22",
                                    "pctall": "0.0442410333024220180291",
                                    "custtotalvalue": "7048.24",
                                    "pctcust": "7.9452459053607709158598"
                                },
                                {
                                    "orderid": "10586",
                                    "custid": "66",
                                    "val": "23.80",
                                    "totalvalue": "1265793.22",
                                    "pctall": "0.0018802439153529357662",
                                    "custtotalvalue": "7048.24",
                                    "pctcust": "0.3376729509778327639240"
                                },
                                {
                                    "orderid": "10562",
                                    "custid": "66",
                                    "val": "488.70",
                                    "totalvalue": "1265793.22",
                                    "pctall": "0.0386082017408815003764",
                                    "custtotalvalue": "7048.24",
                                    "pctcust": "6.9336458463389441903226"
                                },
                                {
                                    "orderid": "10655",
                                    "custid": "66",
                                    "val": "154.40",
                                    "totalvalue": "1265793.22",
                                    "pctall": "0.0121978848962392135423",
                                    "custtotalvalue": "7048.24",
                                    "pctcust": "2.1906177996208982668013"
                                },
                                {
                                    "orderid": "10812",
                                    "custid": "66",
                                    "val": "1692.80",
                                    "totalvalue": "1265793.22",
                                    "pctall": "0.1337343235256071287852",
                                    "custtotalvalue": "7048.24",
                                    "pctcust": "24.0173433367762732256563"
                                },
                                {
                                    "orderid": "10727",
                                    "custid": "66",
                                    "val": "1624.50",
                                    "totalvalue": "1265793.22",
                                    "pctall": "0.1283384974996153005148",
                                    "custtotalvalue": "7048.24",
                                    "pctcust": "23.0483070951045934871684"
                                },
                                {
                                    "orderid": "10288",
                                    "custid": "66",
                                    "val": "80.10",
                                    "totalvalue": "1265793.22",
                                    "pctall": "0.0063280477991500065073",
                                    "custtotalvalue": "7048.24",
                                    "pctcust": "1.1364539232489245542149"
                                },
                                {
                                    "orderid": "10428",
                                    "custid": "66",
                                    "val": "192.00",
                                    "totalvalue": "1265793.22",
                                    "pctall": "0.0151683542751161204671",
                                    "custtotalvalue": "7048.24",
                                    "pctcust": "2.7240843104094071711519"
                                },
                                {
                                    "orderid": "10443",
                                    "custid": "66",
                                    "val": "517.44",
                                    "totalvalue": "1265793.22",
                                    "pctall": "0.0408787147714379446589",
                                    "custtotalvalue": "7048.24",
                                    "pctcust": "7.3414072165533523262544"
                                },
                                {
                                    "orderid": "10447",
                                    "custid": "67",
                                    "val": "914.40",
                                    "totalvalue": "1265793.22",
                                    "pctall": "0.0722392872352405237247",
                                    "custtotalvalue": "12450.81",
                                    "pctcust": "7.3441005043045392227493"
                                },
                                {
                                    "orderid": "10481",
                                    "custid": "67",
                                    "val": "1472.00",
                                    "totalvalue": "1265793.22",
                                    "pctall": "0.1162907161092235902480",
                                    "custtotalvalue": "12450.81",
                                    "pctcust": "11.8225239964307543043384"
                                },
                                {
                                    "orderid": "10299",
                                    "custid": "67",
                                    "val": "349.50",
                                    "totalvalue": "1265793.22",
                                    "pctall": "0.0276111448914223130378",
                                    "custtotalvalue": "12450.81",
                                    "pctcust": "2.8070462885547205362542"
                                },
                                {
                                    "orderid": "10287",
                                    "custid": "67",
                                    "val": "819.00",
                                    "totalvalue": "1265793.22",
                                    "pctall": "0.0647025112047922013676",
                                    "custtotalvalue": "12450.81",
                                    "pctcust": "6.5778852942097743038404"
                                },
                                {
                                    "orderid": "10813",
                                    "custid": "67",
                                    "val": "602.40",
                                    "totalvalue": "1265793.22",
                                    "pctall": "0.0475907115381768279656",
                                    "custtotalvalue": "12450.81",
                                    "pctcust": "4.8382394398436728212863"
                                },
                                {
                                    "orderid": "10648",
                                    "custid": "67",
                                    "val": "372.38",
                                    "totalvalue": "1265793.22",
                                    "pctall": "0.0294187071092069840601",
                                    "custtotalvalue": "12450.81",
                                    "pctcust": "2.9908094332818507390282"
                                },
                                {
                                    "orderid": "10622",
                                    "custid": "67",
                                    "val": "560.00",
                                    "totalvalue": "1265793.22",
                                    "pctall": "0.0442410333024220180291",
                                    "custtotalvalue": "12450.81",
                                    "pctcust": "4.4976993464682217462157"
                                },
                                {
                                    "orderid": "10563",
                                    "custid": "67",
                                    "val": "965.00",
                                    "totalvalue": "1265793.22",
                                    "pctall": "0.0762367806014950846394",
                                    "custtotalvalue": "12450.81",
                                    "pctcust": "7.7504997666818464019609"
                                },
                                {
                                    "orderid": "10851",
                                    "custid": "67",
                                    "val": "2603.00",
                                    "totalvalue": "1265793.22",
                                    "pctall": "0.2056418030110794873747",
                                    "custtotalvalue": "12450.81",
                                    "pctcust": "20.9062703551013950096419"
                                },
                                {
                                    "orderid": "10877",
                                    "custid": "67",
                                    "val": "1955.13",
                                    "totalvalue": "1265793.22",
                                    "pctall": "0.1544588775724363573380",
                                    "custtotalvalue": "12450.81",
                                    "pctcust": "15.7028337915364542547834"
                                },
                                {
                                    "orderid": "11059",
                                    "custid": "67",
                                    "val": "1838.00",
                                    "totalvalue": "1265793.22",
                                    "pctall": "0.1452053914461636948884",
                                    "custtotalvalue": "12450.81",
                                    "pctcust": "14.7620917835867706599008"
                                },
                                {
                                    "orderid": "11075",
                                    "custid": "68",
                                    "val": "498.10",
                                    "totalvalue": "1265793.22",
                                    "pctall": "0.0393508190856007271077",
                                    "custtotalvalue": "19343.78",
                                    "pctcust": "2.5749879289363299210392"
                                },
                                {
                                    "orderid": "11033",
                                    "custid": "68",
                                    "val": "3232.80",
                                    "totalvalue": "1265793.22",
                                    "pctall": "0.2553971651072676783653",
                                    "custtotalvalue": "19343.78",
                                    "pctcust": "16.7123488790712053176783"
                                },
                                {
                                    "orderid": "10951",
                                    "custid": "68",
                                    "val": "458.76",
                                    "totalvalue": "1265793.22",
                                    "pctall": "0.0362428864961055803411",
                                    "custtotalvalue": "19343.78",
                                    "pctcust": "2.3716150617924728258902"
                                },
                                {
                                    "orderid": "10931",
                                    "custid": "68",
                                    "val": "799.20",
                                    "totalvalue": "1265793.22",
                                    "pctall": "0.0631382746701708514444",
                                    "custtotalvalue": "19343.78",
                                    "pctcust": "4.1315606360287389538135"
                                },
                                {
                                    "orderid": "10666",
                                    "custid": "68",
                                    "val": "4666.94",
                                    "totalvalue": "1265793.22",
                                    "pctall": "0.3686968713578668086087",
                                    "custtotalvalue": "19343.78",
                                    "pctcust": "24.1263083016866403567451"
                                },
                                {
                                    "orderid": "10758",
                                    "custid": "68",
                                    "val": "1644.60",
                                    "totalvalue": "1265793.22",
                                    "pctall": "0.1299264345877915193762",
                                    "custtotalvalue": "19343.78",
                                    "pctcust": "8.5019577352513314357379"
                                },
                                {
                                    "orderid": "10751",
                                    "custid": "68",
                                    "val": "1631.48",
                                    "totalvalue": "1265793.22",
                                    "pctall": "0.1288899303789919178110",
                                    "custtotalvalue": "19343.78",
                                    "pctcust": "8.4341323154006093948545"
                                },
                                {
                                    "orderid": "10255",
                                    "custid": "68",
                                    "val": "2490.50",
                                    "totalvalue": "1265793.22",
                                    "pctall": "0.1967540954280036355385",
                                    "custtotalvalue": "19343.78",
                                    "pctcust": "12.8749396446816496051960"
                                },
                                {
                                    "orderid": "10537",
                                    "custid": "68",
                                    "val": "1823.80",
                                    "totalvalue": "1265793.22",
                                    "pctall": "0.1440835652445665651456",
                                    "custtotalvalue": "19343.78",
                                    "pctcust": "9.4283537137002178478043"
                                },
                                {
                                    "orderid": "10419",
                                    "custid": "68",
                                    "val": "2097.60",
                                    "totalvalue": "1265793.22",
                                    "pctall": "0.1657142704556436161034",
                                    "custtotalvalue": "19343.78",
                                    "pctcust": "10.8437957834508043412404"
                                },
                                {
                                    "orderid": "10281",
                                    "custid": "69",
                                    "val": "86.50",
                                    "totalvalue": "1265793.22",
                                    "pctall": "0.0068336596083205438562",
                                    "custtotalvalue": "1467.29",
                                    "pctcust": "5.8952218034608018864709"
                                },
                                {
                                    "orderid": "10282",
                                    "custid": "69",
                                    "val": "155.40",
                                    "totalvalue": "1265793.22",
                                    "pctall": "0.0122768867414221100030",
                                    "custtotalvalue": "1467.29",
                                    "pctcust": "10.5909533902636833891050"
                                },
                                {
                                    "orderid": "10306",
                                    "custid": "69",
                                    "val": "498.50",
                                    "totalvalue": "1265793.22",
                                    "pctall": "0.0393824198236738856920",
                                    "custtotalvalue": "1467.29",
                                    "pctcust": "33.9741973297712108717431"
                                },
                                {
                                    "orderid": "10917",
                                    "custid": "69",
                                    "val": "365.89",
                                    "totalvalue": "1265793.22",
                                    "pctall": "0.0289059851339699860297",
                                    "custtotalvalue": "1467.29",
                                    "pctcust": "24.9364474643730959796631"
                                },
                                {
                                    "orderid": "11013",
                                    "custid": "69",
                                    "val": "361.00",
                                    "totalvalue": "1265793.22",
                                    "pctall": "0.0285196661110256223366",
                                    "custtotalvalue": "1467.29",
                                    "pctcust": "24.6031800121312078730176"
                                },
                                {
                                    "orderid": "11015",
                                    "custid": "70",
                                    "val": "622.35",
                                    "totalvalue": "1265793.22",
                                    "pctall": "0.0491667983495756123579",
                                    "custtotalvalue": "5735.15",
                                    "pctcust": "10.8515034480353608885556"
                                },
                                {
                                    "orderid": "10909",
                                    "custid": "70",
                                    "val": "670.00",
                                    "totalvalue": "1265793.22",
                                    "pctall": "0.0529312362725406287134",
                                    "custtotalvalue": "5735.15",
                                    "pctcust": "11.6823448384087600149952"
                                },
                                {
                                    "orderid": "10831",
                                    "custid": "70",
                                    "val": "2684.40",
                                    "totalvalue": "1265793.22",
                                    "pctall": "0.2120725532089672592811",
                                    "custtotalvalue": "5735.15",
                                    "pctcust": "46.8060992301857841556018"
                                },
                                {
                                    "orderid": "10387",
                                    "custid": "70",
                                    "val": "1058.40",
                                    "totalvalue": "1265793.22",
                                    "pctall": "0.0836155529415776140750",
                                    "custtotalvalue": "5735.15",
                                    "pctcust": "18.4546175775698979102551"
                                },
                                {
                                    "orderid": "10520",
                                    "custid": "70",
                                    "val": "200.00",
                                    "totalvalue": "1265793.22",
                                    "pctall": "0.0158003690365792921532",
                                    "custtotalvalue": "5735.15",
                                    "pctcust": "3.4872671159429134373120"
                                },
                                {
                                    "orderid": "10639",
                                    "custid": "70",
                                    "val": "500.00",
                                    "totalvalue": "1265793.22",
                                    "pctall": "0.0395009225914482303831",
                                    "custtotalvalue": "5735.15",
                                    "pctcust": "8.7181677898572835932800"
                                },
                                {
                                    "orderid": "10627",
                                    "custid": "71",
                                    "val": "1185.75",
                                    "totalvalue": "1265793.22",
                                    "pctall": "0.0936764379256194783536",
                                    "custtotalvalue": "104361.96",
                                    "pctcust": "1.1361898530843997180581"
                                },
                                {
                                    "orderid": "10657",
                                    "custid": "71",
                                    "val": "4371.60",
                                    "totalvalue": "1265793.22",
                                    "pctall": "0.3453644664015501678860",
                                    "custtotalvalue": "104361.96",
                                    "pctcust": "4.1888826158496831604159"
                                },
                                {
                                    "orderid": "10678",
                                    "custid": "71",
                                    "val": "5256.50",
                                    "totalvalue": "1265793.22",
                                    "pctall": "0.4152731992038952460181",
                                    "custtotalvalue": "104361.96",
                                    "pctcust": "5.0367969325221565405632"
                                },
                                {
                                    "orderid": "10555",
                                    "custid": "71",
                                    "val": "2944.40",
                                    "totalvalue": "1265793.22",
                                    "pctall": "0.2326130329565203390803",
                                    "custtotalvalue": "104361.96",
                                    "pctcust": "2.8213345169063517013287"
                                },
                                {
                                    "orderid": "10603",
                                    "custid": "71",
                                    "val": "1483.00",
                                    "totalvalue": "1265793.22",
                                    "pctall": "0.1171597364062354513164",
                                    "custtotalvalue": "104361.96",
                                    "pctcust": "1.4210158567355385046428"
                                },
                                {
                                    "orderid": "10607",
                                    "custid": "71",
                                    "val": "6475.40",
                                    "totalvalue": "1265793.22",
                                    "pctall": "0.5115685482973277420462",
                                    "custtotalvalue": "104361.96",
                                    "pctcust": "6.2047512331121416270832"
                                },
                                {
                                    "orderid": "10612",
                                    "custid": "71",
                                    "val": "6375.00",
                                    "totalvalue": "1265793.22",
                                    "pctall": "0.5036367630409649373852",
                                    "custtotalvalue": "104361.96",
                                    "pctcust": "6.1085475972279554734311"
                                },
                                {
                                    "orderid": "10748",
                                    "custid": "71",
                                    "val": "2196.00",
                                    "totalvalue": "1265793.22",
                                    "pctall": "0.1734880520216406278428",
                                    "custtotalvalue": "104361.96",
                                    "pctcust": "2.1042149840804063089654"
                                },
                                {
                                    "orderid": "10700",
                                    "custid": "71",
                                    "val": "1638.40",
                                    "totalvalue": "1265793.22",
                                    "pctall": "0.1294366231476575613195",
                                    "custtotalvalue": "104361.96",
                                    "pctcust": "1.5699206875762011368893"
                                },
                                {
                                    "orderid": "10722",
                                    "custid": "71",
                                    "val": "1570.00",
                                    "totalvalue": "1265793.22",
                                    "pctall": "0.1240328969371474434031",
                                    "custtotalvalue": "104361.96",
                                    "pctcust": "1.5043795651212376616920"
                                },
                                {
                                    "orderid": "10713",
                                    "custid": "71",
                                    "val": "2827.90",
                                    "totalvalue": "1265793.22",
                                    "pctall": "0.2234093179927129014010",
                                    "custtotalvalue": "104361.96",
                                    "pctcust": "2.7097038039530878875789"
                                },
                                {
                                    "orderid": "10714",
                                    "custid": "71",
                                    "val": "2205.75",
                                    "totalvalue": "1265793.22",
                                    "pctall": "0.1742583200121738683353",
                                    "custtotalvalue": "104361.96",
                                    "pctcust": "2.1135574686408725938071"
                                },
                                {
                                    "orderid": "10711",
                                    "custid": "71",
                                    "val": "4451.70",
                                    "totalvalue": "1265793.22",
                                    "pctall": "0.3516925142007001743934",
                                    "custtotalvalue": "104361.96",
                                    "pctcust": "4.2656347197772061774232"
                                },
                                {
                                    "orderid": "10757",
                                    "custid": "71",
                                    "val": "3082.00",
                                    "totalvalue": "1265793.22",
                                    "pctall": "0.2434836868536868920817",
                                    "custtotalvalue": "104361.96",
                                    "pctcust": "2.9531833246520092186846"
                                },
                                {
                                    "orderid": "10815",
                                    "custid": "71",
                                    "val": "40.00",
                                    "totalvalue": "1265793.22",
                                    "pctall": "0.0031600738073158584306",
                                    "custtotalvalue": "104361.96",
                                    "pctcust": "0.0383281417865283480685"
                                },
                                {
                                    "orderid": "10510",
                                    "custid": "71",
                                    "val": "4707.54",
                                    "totalvalue": "1265793.22",
                                    "pctall": "0.3719043462722924049158",
                                    "custtotalvalue": "104361.96",
                                    "pctcust": "4.5107815146438414916699"
                                },
                                {
                                    "orderid": "10398",
                                    "custid": "71",
                                    "val": "2505.60",
                                    "totalvalue": "1265793.22",
                                    "pctall": "0.1979470232902653720960",
                                    "custtotalvalue": "104361.96",
                                    "pctcust": "2.4008748015081357230163"
                                },
                                {
                                    "orderid": "10393",
                                    "custid": "71",
                                    "val": "2556.95",
                                    "totalvalue": "1265793.22",
                                    "pctall": "0.2020037680404071053564",
                                    "custtotalvalue": "104361.96",
                                    "pctcust": "2.4500785535265914898493"
                                },
                                {
                                    "orderid": "10452",
                                    "custid": "71",
                                    "val": "2018.50",
                                    "totalvalue": "1265793.22",
                                    "pctall": "0.1594652245016765060568",
                                    "custtotalvalue": "104361.96",
                                    "pctcust": "1.9341338549026867644110"
                                },
                                {
                                    "orderid": "10440",
                                    "custid": "71",
                                    "val": "4924.14",
                                    "totalvalue": "1265793.22",
                                    "pctall": "0.3890161459389077783178",
                                    "custtotalvalue": "104361.96",
                                    "pctcust": "4.7183284024178924964613"
                                },
                                {
                                    "orderid": "10324",
                                    "custid": "71",
                                    "val": "5275.72",
                                    "totalvalue": "1265793.22",
                                    "pctall": "0.4167916146683105159940",
                                    "custtotalvalue": "104361.96",
                                    "pctcust": "5.0552136046505834118102"
                                },
                                {
                                    "orderid": "10847",
                                    "custid": "71",
                                    "val": "4931.92",
                                    "totalvalue": "1265793.22",
                                    "pctall": "0.3896307802944307127826",
                                    "custtotalvalue": "104361.96",
                                    "pctcust": "4.7257832259953722601606"
                                },
                                {
                                    "orderid": "10882",
                                    "custid": "71",
                                    "val": "892.64",
                                    "totalvalue": "1265793.22",
                                    "pctall": "0.0705202070840606967384",
                                    "custtotalvalue": "104361.96",
                                    "pctcust": "0.8553308121081666154985"
                                },
                                {
                                    "orderid": "10894",
                                    "custid": "71",
                                    "val": "2753.10",
                                    "totalvalue": "1265793.22",
                                    "pctall": "0.2174999799730322461357",
                                    "custtotalvalue": "104361.96",
                                    "pctcust": "2.6380301788122798766907"
                                },
                                {
                                    "orderid": "10941",
                                    "custid": "71",
                                    "val": "4011.75",
                                    "totalvalue": "1265793.22",
                                    "pctall": "0.3169356524124848764792",
                                    "custtotalvalue": "104361.96",
                                    "pctcust": "3.8440730703026275091038"
                                },
                                {
                                    "orderid": "11002",
                                    "custid": "71",
                                    "val": "1811.10",
                                    "totalvalue": "1265793.22",
                                    "pctall": "0.1430802418107437800938",
                                    "custtotalvalue": "104361.96",
                                    "pctcust": "1.7354024397395372796754"
                                },
                                {
                                    "orderid": "10983",
                                    "custid": "71",
                                    "val": "720.90",
                                    "totalvalue": "1265793.22",
                                    "pctall": "0.0569524301923500585664",
                                    "custtotalvalue": "104361.96",
                                    "pctcust": "0.6907689353477071530661"
                                },
                                {
                                    "orderid": "10984",
                                    "custid": "71",
                                    "val": "1809.75",
                                    "totalvalue": "1265793.22",
                                    "pctall": "0.1429735893197468698718",
                                    "custtotalvalue": "104361.96",
                                    "pctcust": "1.7341088649542419479281"
                                },
                                {
                                    "orderid": "11030",
                                    "custid": "71",
                                    "val": "12615.05",
                                    "totalvalue": "1265793.22",
                                    "pctall": "0.9966122270744979973901",
                                    "custtotalvalue": "104361.96",
                                    "pctcust": "12.0877856261036109325658"
                                },
                                {
                                    "orderid": "11031",
                                    "custid": "71",
                                    "val": "2393.50",
                                    "totalvalue": "1265793.22",
                                    "pctall": "0.1890909164452626788441",
                                    "custtotalvalue": "104361.96",
                                    "pctcust": "2.2934601841513900275541"
                                },
                                {
                                    "orderid": "11064",
                                    "custid": "71",
                                    "val": "4330.40",
                                    "totalvalue": "1265793.22",
                                    "pctall": "0.3421095903800148337024",
                                    "custtotalvalue": "104361.96",
                                    "pctcust": "4.1494046298095589619052"
                                },
                                {
                                    "orderid": "10869",
                                    "custid": "72",
                                    "val": "1630.00",
                                    "totalvalue": "1265793.22",
                                    "pctall": "0.1287730076481212310490",
                                    "custtotalvalue": "16215.33",
                                    "pctcust": "10.0522160202721745410053"
                                },
                                {
                                    "orderid": "10388",
                                    "custid": "72",
                                    "val": "1228.80",
                                    "totalvalue": "1265793.22",
                                    "pctall": "0.0970774673607431709896",
                                    "custtotalvalue": "16215.33",
                                    "pctcust": "7.5780141384726675312805"
                                },
                                {
                                    "orderid": "10377",
                                    "custid": "72",
                                    "val": "863.60",
                                    "totalvalue": "1265793.22",
                                    "pctall": "0.0682259934999493835177",
                                    "custtotalvalue": "16215.33",
                                    "pctcust": "5.3258243896362269531363"
                                },
                                {
                                    "orderid": "10359",
                                    "custid": "72",
                                    "val": "3471.68",
                                    "totalvalue": "1265793.22",
                                    "pctall": "0.2742691258845579849132",
                                    "custtotalvalue": "16215.33",
                                    "pctcust": "21.4098633823671796997039"
                                },
                                {
                                    "orderid": "10523",
                                    "custid": "72",
                                    "val": "2444.31",
                                    "totalvalue": "1265793.22",
                                    "pctall": "0.1931050001990056480157",
                                    "custtotalvalue": "16215.33",
                                    "pctcust": "15.0740687978598030382360"
                                },
                                {
                                    "orderid": "10472",
                                    "custid": "72",
                                    "val": "1036.80",
                                    "totalvalue": "1265793.22",
                                    "pctall": "0.0819091130856270505225",
                                    "custtotalvalue": "16215.33",
                                    "pctcust": "6.3939494293363132295179"
                                },
                                {
                                    "orderid": "10804",
                                    "custid": "72",
                                    "val": "2278.40",
                                    "totalvalue": "1265793.22",
                                    "pctall": "0.1799978040647112962099",
                                    "custtotalvalue": "16215.33",
                                    "pctcust": "14.0509012150847377142494"
                                },
                                {
                                    "orderid": "10800",
                                    "custid": "72",
                                    "val": "1468.94",
                                    "totalvalue": "1265793.22",
                                    "pctall": "0.1160489704629639270780",
                                    "custtotalvalue": "16215.33",
                                    "pctcust": "9.0589584054101890001621"
                                },
                                {
                                    "orderid": "10547",
                                    "custid": "72",
                                    "val": "1792.80",
                                    "totalvalue": "1265793.22",
                                    "pctall": "0.1416345080438967748618",
                                    "custtotalvalue": "16215.33",
                                    "pctcust": "11.0562042215607082927081"
                                },
                                {
                                    "orderid": "10556",
                                    "custid": "73",
                                    "val": "835.20",
                                    "totalvalue": "1265793.22",
                                    "pctall": "0.0659823410967551240320",
                                    "custtotalvalue": "16817.10",
                                    "pctcust": "4.9663735126745990688049"
                                },
                                {
                                    "orderid": "10669",
                                    "custid": "73",
                                    "val": "570.00",
                                    "totalvalue": "1265793.22",
                                    "pctall": "0.0450310517542509826368",
                                    "custtotalvalue": "16817.10",
                                    "pctcust": "3.3894072105178657437964"
                                },
                                {
                                    "orderid": "10642",
                                    "custid": "73",
                                    "val": "696.00",
                                    "totalvalue": "1265793.22",
                                    "pctall": "0.0549852842472959366933",
                                    "custtotalvalue": "16817.10",
                                    "pctcust": "4.1386445938954992240041"
                                },
                                {
                                    "orderid": "10802",
                                    "custid": "73",
                                    "val": "2942.81",
                                    "totalvalue": "1265793.22",
                                    "pctall": "0.2324874200226795337077",
                                    "custtotalvalue": "16817.10",
                                    "pctcust": "17.4989147950597903324592"
                                },
                                {
                                    "orderid": "10417",
                                    "custid": "73",
                                    "val": "11188.40",
                                    "totalvalue": "1265793.22",
                                    "pctall": "0.8839042446443187616378",
                                    "custtotalvalue": "16817.10",
                                    "pctcust": "66.5299011125580510313906"
                                },
                                {
                                    "orderid": "10341",
                                    "custid": "73",
                                    "val": "352.60",
                                    "totalvalue": "1265793.22",
                                    "pctall": "0.0278560506114892920662",
                                    "custtotalvalue": "16817.10",
                                    "pctcust": "2.0966754077694727390572"
                                },
                                {
                                    "orderid": "11074",
                                    "custid": "73",
                                    "val": "232.09",
                                    "totalvalue": "1265793.22",
                                    "pctall": "0.0183355382484984395792",
                                    "custtotalvalue": "16817.10",
                                    "pctcust": "1.3800833675247218604872"
                                },
                                {
                                    "orderid": "11043",
                                    "custid": "74",
                                    "val": "210.00",
                                    "totalvalue": "1265793.22",
                                    "pctall": "0.0165903874884082567609",
                                    "custtotalvalue": "2423.35",
                                    "pctcust": "8.6656900571522891864567"
                                },
                                {
                                    "orderid": "10907",
                                    "custid": "74",
                                    "val": "108.50",
                                    "totalvalue": "1265793.22",
                                    "pctall": "0.0085717002023442659931",
                                    "custtotalvalue": "2423.35",
                                    "pctcust": "4.4772731961953494130026"
                                },
                                {
                                    "orderid": "10964",
                                    "custid": "74",
                                    "val": "2052.50",
                                    "totalvalue": "1265793.22",
                                    "pctall": "0.1621512872378949857228",
                                    "custtotalvalue": "2423.35",
                                    "pctcust": "84.6968040109765407390595"
                                },
                                {
                                    "orderid": "10738",
                                    "custid": "74",
                                    "val": "52.35",
                                    "totalvalue": "1265793.22",
                                    "pctall": "0.0041357465953246297211",
                                    "custtotalvalue": "2423.35",
                                    "pctcust": "2.1602327356758206614810"
                                },
                                {
                                    "orderid": "10756",
                                    "custid": "75",
                                    "val": "1990.00",
                                    "totalvalue": "1265793.22",
                                    "pctall": "0.1572136719139639569249",
                                    "custtotalvalue": "11441.63",
                                    "pctcust": "17.3926267498599412845896"
                                },
                                {
                                    "orderid": "10821",
                                    "custid": "75",
                                    "val": "678.00",
                                    "totalvalue": "1265793.22",
                                    "pctall": "0.0535632510340038003995",
                                    "custtotalvalue": "11441.63",
                                    "pctcust": "5.9257291137713769803777"
                                },
                                {
                                    "orderid": "10349",
                                    "custid": "75",
                                    "val": "141.60",
                                    "totalvalue": "1265793.22",
                                    "pctall": "0.0111866612778981388445",
                                    "custtotalvalue": "11441.63",
                                    "pctcust": "1.2375859034071194401496"
                                },
                                {
                                    "orderid": "10329",
                                    "custid": "75",
                                    "val": "4578.43",
                                    "totalvalue": "1265793.22",
                                    "pctall": "0.3617044180407286428663",
                                    "custtotalvalue": "11441.63",
                                    "pctcust": "40.0155397439001261183939"
                                },
                                {
                                    "orderid": "10369",
                                    "custid": "75",
                                    "val": "2390.40",
                                    "totalvalue": "1265793.22",
                                    "pctall": "0.1888460107251956998158",
                                    "custtotalvalue": "11441.63",
                                    "pctcust": "20.8921281320930671591372"
                                },
                                {
                                    "orderid": "10385",
                                    "custid": "75",
                                    "val": "691.20",
                                    "totalvalue": "1265793.22",
                                    "pctall": "0.0546060753904180336816",
                                    "custtotalvalue": "11441.63",
                                    "pctcust": "6.0410972912076338773409"
                                },
                                {
                                    "orderid": "10271",
                                    "custid": "75",
                                    "val": "48.00",
                                    "totalvalue": "1265793.22",
                                    "pctall": "0.0037920885687790301167",
                                    "custtotalvalue": "11441.63",
                                    "pctcust": "0.4195206452227523525931"
                                },
                                {
                                    "orderid": "10432",
                                    "custid": "75",
                                    "val": "485.00",
                                    "totalvalue": "1265793.22",
                                    "pctall": "0.0383158949137047834716",
                                    "custtotalvalue": "11441.63",
                                    "pctcust": "4.2389065194382268959929"
                                },
                                {
                                    "orderid": "10974",
                                    "custid": "75",
                                    "val": "439.00",
                                    "totalvalue": "1265793.22",
                                    "pctall": "0.0346818100352915462764",
                                    "custtotalvalue": "11441.63",
                                    "pctcust": "3.8368659010997558914245"
                                },
                                {
                                    "orderid": "10930",
                                    "custid": "76",
                                    "val": "2255.50",
                                    "totalvalue": "1265793.22",
                                    "pctall": "0.1781886618100229672584",
                                    "custtotalvalue": "24088.78",
                                    "pctcust": "9.3632803321712432094942"
                                },
                                {
                                    "orderid": "10846",
                                    "custid": "76",
                                    "val": "1112.00",
                                    "totalvalue": "1265793.22",
                                    "pctall": "0.0878500518433808643721",
                                    "custtotalvalue": "24088.78",
                                    "pctcust": "4.6162570292061283302848"
                                },
                                {
                                    "orderid": "10841",
                                    "custid": "76",
                                    "val": "4581.00",
                                    "totalvalue": "1265793.22",
                                    "pctall": "0.3619074527828486867704",
                                    "custtotalvalue": "24088.78",
                                    "pctcust": "19.0171523838069009721538"
                                },
                                {
                                    "orderid": "10885",
                                    "custid": "76",
                                    "val": "1209.00",
                                    "totalvalue": "1265793.22",
                                    "pctall": "0.0955132308261218210664",
                                    "custtotalvalue": "24088.78",
                                    "pctcust": "5.0189341261782456396712"
                                },
                                {
                                    "orderid": "11035",
                                    "custid": "76",
                                    "val": "1754.50",
                                    "totalvalue": "1265793.22",
                                    "pctall": "0.1386087373733918404145",
                                    "custtotalvalue": "24088.78",
                                    "pctcust": "7.2834738828616476218388"
                                },
                                {
                                    "orderid": "11038",
                                    "custid": "76",
                                    "val": "732.60",
                                    "totalvalue": "1265793.22",
                                    "pctall": "0.0578767517809899471574",
                                    "custtotalvalue": "24088.78",
                                    "pctcust": "3.0412499097090014521283"
                                },
                                {
                                    "orderid": "10463",
                                    "custid": "76",
                                    "val": "713.30",
                                    "totalvalue": "1265793.22",
                                    "pctall": "0.0563520161689600454646",
                                    "custtotalvalue": "24088.78",
                                    "pctcust": "2.9611296213423842967555"
                                },
                                {
                                    "orderid": "10458",
                                    "custid": "76",
                                    "val": "3891.00",
                                    "totalvalue": "1265793.22",
                                    "pctall": "0.3073961796066501288417",
                                    "custtotalvalue": "24088.78",
                                    "pctcust": "16.1527482919433860909518"
                                },
                                {
                                    "orderid": "10475",
                                    "custid": "76",
                                    "val": "1505.18",
                                    "totalvalue": "1265793.22",
                                    "pctall": "0.1189119973323920948162",
                                    "custtotalvalue": "24088.78",
                                    "pctcust": "6.2484692043349642447645"
                                },
                                {
                                    "orderid": "10252",
                                    "custid": "76",
                                    "val": "3597.90",
                                    "totalvalue": "1265793.22",
                                    "pctall": "0.2842407387835431761911",
                                    "custtotalvalue": "24088.78",
                                    "pctcust": "14.9359992494431017261978"
                                },
                                {
                                    "orderid": "10302",
                                    "custid": "76",
                                    "val": "2708.80",
                                    "totalvalue": "1265793.22",
                                    "pctall": "0.2140001982314299329237",
                                    "custtotalvalue": "24088.78",
                                    "pctcust": "11.2450692812172305944925"
                                },
                                {
                                    "orderid": "10767",
                                    "custid": "76",
                                    "val": "28.00",
                                    "totalvalue": "1265793.22",
                                    "pctall": "0.0022120516651211009014",
                                    "custtotalvalue": "24088.78",
                                    "pctcust": "0.1162366877857658212661"
                                },
                                {
                                    "orderid": "10805",
                                    "custid": "77",
                                    "val": "2775.00",
                                    "totalvalue": "1265793.22",
                                    "pctall": "0.2192301203825376786265",
                                    "custtotalvalue": "3361.00",
                                    "pctcust": "82.5647128830705147277595"
                                },
                                {
                                    "orderid": "10708",
                                    "custid": "77",
                                    "val": "180.40",
                                    "totalvalue": "1265793.22",
                                    "pctall": "0.0142519328709945215222",
                                    "custtotalvalue": "3361.00",
                                    "pctcust": "5.3674501636417732817613"
                                },
                                {
                                    "orderid": "10310",
                                    "custid": "77",
                                    "val": "336.00",
                                    "totalvalue": "1265793.22",
                                    "pctall": "0.0265446199814532108174",
                                    "custtotalvalue": "3361.00",
                                    "pctcust": "9.9970246950312407021719"
                                },
                                {
                                    "orderid": "10992",
                                    "custid": "77",
                                    "val": "69.60",
                                    "totalvalue": "1265793.22",
                                    "pctall": "0.0054985284247295936693",
                                    "custtotalvalue": "3361.00",
                                    "pctcust": "2.0708122582564712883070"
                                },
                                {
                                    "orderid": "11003",
                                    "custid": "78",
                                    "val": "326.00",
                                    "totalvalue": "1265793.22",
                                    "pctall": "0.0257546015296242462098",
                                    "custtotalvalue": "1947.24",
                                    "pctcust": "16.7416445841293317721492"
                                },
                                {
                                    "orderid": "10775",
                                    "custid": "78",
                                    "val": "228.00",
                                    "totalvalue": "1265793.22",
                                    "pctall": "0.0180124207017003930547",
                                    "custtotalvalue": "1947.24",
                                    "pctcust": "11.7088802612929068835890"
                                },
                                {
                                    "orderid": "10624",
                                    "custid": "78",
                                    "val": "1393.24",
                                    "totalvalue": "1265793.22",
                                    "pctall": "0.1100685307826186649980",
                                    "custtotalvalue": "1947.24",
                                    "pctcust": "71.5494751545777613442616"
                                },
                                {
                                    "orderid": "10548",
                                    "custid": "79",
                                    "val": "240.10",
                                    "totalvalue": "1265793.22",
                                    "pctall": "0.0189683430284134402299",
                                    "custtotalvalue": "4778.14",
                                    "pctcust": "5.0249678745285822516711"
                                },
                                {
                                    "orderid": "10608",
                                    "custid": "79",
                                    "val": "1064.00",
                                    "totalvalue": "1265793.22",
                                    "pctall": "0.0840579632746018342553",
                                    "custtotalvalue": "4778.14",
                                    "pctcust": "22.2680792107389067712540"
                                },
                                {
                                    "orderid": "10249",
                                    "custid": "79",
                                    "val": "1863.40",
                                    "totalvalue": "1265793.22",
                                    "pctall": "0.1472120383138092649919",
                                    "custtotalvalue": "4778.14",
                                    "pctcust": "38.9984387230177433059726"
                                },
                                {
                                    "orderid": "10438",
                                    "custid": "79",
                                    "val": "454.00",
                                    "totalvalue": "1265793.22",
                                    "pctall": "0.0358668377130349931879",
                                    "custtotalvalue": "4778.14",
                                    "pctcust": "9.5016052271385936787117"
                                },
                                {
                                    "orderid": "10446",
                                    "custid": "79",
                                    "val": "246.24",
                                    "totalvalue": "1265793.22",
                                    "pctall": "0.0194534143578364244990",
                                    "custtotalvalue": "4778.14",
                                    "pctcust": "5.1534697601995755670616"
                                },
                                {
                                    "orderid": "10967",
                                    "custid": "79",
                                    "val": "910.40",
                                    "totalvalue": "1265793.22",
                                    "pctall": "0.0719232798545089378816",
                                    "custtotalvalue": "4778.14",
                                    "pctcust": "19.0534392043765984253286"
                                },
                                {
                                    "orderid": "10915",
                                    "custid": "80",
                                    "val": "539.50",
                                    "totalvalue": "1265793.22",
                                    "pctall": "0.0426214954761726405834",
                                    "custtotalvalue": "10812.15",
                                    "pctcust": "4.9897568938647725013064"
                                },
                                {
                                    "orderid": "10842",
                                    "custid": "80",
                                    "val": "975.00",
                                    "totalvalue": "1265793.22",
                                    "pctall": "0.0770267990533240492471",
                                    "custtotalvalue": "10812.15",
                                    "pctcust": "9.0176329407194683758549"
                                },
                                {
                                    "orderid": "11069",
                                    "custid": "80",
                                    "val": "360.00",
                                    "totalvalue": "1265793.22",
                                    "pctall": "0.0284406642658427258758",
                                    "custtotalvalue": "10812.15",
                                    "pctcust": "3.3295875473425729387772"
                                },
                                {
                                    "orderid": "10518",
                                    "custid": "80",
                                    "val": "4150.05",
                                    "totalvalue": "1265793.22",
                                    "pctall": "0.3278616076012794570032",
                                    "custtotalvalue": "10812.15",
                                    "pctcust": "38.3832077801362356238121"
                                },
                                {
                                    "orderid": "10276",
                                    "custid": "80",
                                    "val": "420.00",
                                    "totalvalue": "1265793.22",
                                    "pctall": "0.0331807749768165135218",
                                    "custtotalvalue": "10812.15",
                                    "pctcust": "3.8845188052330017619067"
                                },
                                {
                                    "orderid": "10304",
                                    "custid": "80",
                                    "val": "954.40",
                                    "totalvalue": "1265793.22",
                                    "pctall": "0.0753993610425563821553",
                                    "custtotalvalue": "10812.15",
                                    "pctcust": "8.8271065421770878132471"
                                },
                                {
                                    "orderid": "10293",
                                    "custid": "80",
                                    "val": "848.70",
                                    "totalvalue": "1265793.22",
                                    "pctall": "0.0670488660067242262523",
                                    "custtotalvalue": "10812.15",
                                    "pctcust": "7.8495026428601157031672"
                                },
                                {
                                    "orderid": "10319",
                                    "custid": "80",
                                    "val": "1191.20",
                                    "totalvalue": "1265793.22",
                                    "pctall": "0.0941069979818662640648",
                                    "custtotalvalue": "10812.15",
                                    "pctcust": "11.0172352399846469018650"
                                },
                                {
                                    "orderid": "10576",
                                    "custid": "80",
                                    "val": "838.45",
                                    "totalvalue": "1265793.22",
                                    "pctall": "0.0662390970935995375295",
                                    "custtotalvalue": "10812.15",
                                    "pctcust": "7.7547018863038341125493"
                                },
                                {
                                    "orderid": "10676",
                                    "custid": "80",
                                    "val": "534.85",
                                    "totalvalue": "1265793.22",
                                    "pctall": "0.0422541368960721720408",
                                    "custtotalvalue": "10812.15",
                                    "pctcust": "4.9467497213782642675138"
                                },
                                {
                                    "orderid": "10606",
                                    "custid": "81",
                                    "val": "1130.40",
                                    "totalvalue": "1265793.22",
                                    "pctall": "0.0893036857947461592502",
                                    "custtotalvalue": "6850.66",
                                    "pctcust": "16.5005999421953505209717"
                                },
                                {
                                    "orderid": "10830",
                                    "custid": "81",
                                    "val": "1974.00",
                                    "totalvalue": "1265793.22",
                                    "pctall": "0.1559496423910376135527",
                                    "custtotalvalue": "6850.66",
                                    "pctcust": "28.8147419372731970350302"
                                },
                                {
                                    "orderid": "10292",
                                    "custid": "81",
                                    "val": "1296.00",
                                    "totalvalue": "1265793.22",
                                    "pctall": "0.1023863913570338131531",
                                    "custtotalvalue": "6850.66",
                                    "pctcust": "18.9178852840456248011140"
                                },
                                {
                                    "orderid": "10496",
                                    "custid": "81",
                                    "val": "190.00",
                                    "totalvalue": "1265793.22",
                                    "pctall": "0.0150103505847503275456",
                                    "custtotalvalue": "6850.66",
                                    "pctcust": "2.7734554042968122779411"
                                },
                                {
                                    "orderid": "10834",
                                    "custid": "81",
                                    "val": "1432.71",
                                    "totalvalue": "1265793.22",
                                    "pctall": "0.1131867336119875883045",
                                    "custtotalvalue": "6850.66",
                                    "pctcust": "20.9134594331057153617315"
                                },
                                {
                                    "orderid": "10839",
                                    "custid": "81",
                                    "val": "827.55",
                                    "totalvalue": "1265793.22",
                                    "pctall": "0.0653779769811059661071",
                                    "custtotalvalue": "6850.66",
                                    "pctcust": "12.0798579990833000032113"
                                },
                                {
                                    "orderid": "10822",
                                    "custid": "82",
                                    "val": "237.90",
                                    "totalvalue": "1265793.22",
                                    "pctall": "0.0187945389690110680163",
                                    "custtotalvalue": "1571.20",
                                    "pctcust": "15.1412932790224032586558"
                                },
                                {
                                    "orderid": "10577",
                                    "custid": "82",
                                    "val": "569.00",
                                    "totalvalue": "1265793.22",
                                    "pctall": "0.0449520499090680861760",
                                    "custtotalvalue": "1571.20",
                                    "pctcust": "36.2143584521384928716904"
                                },
                                {
                                    "orderid": "10574",
                                    "custid": "82",
                                    "val": "764.30",
                                    "totalvalue": "1265793.22",
                                    "pctall": "0.0603811102732877649636",
                                    "custtotalvalue": "1571.20",
                                    "pctcust": "48.6443482688391038696537"
                                },
                                {
                                    "orderid": "10602",
                                    "custid": "83",
                                    "val": "48.75",
                                    "totalvalue": "1265793.22",
                                    "pctall": "0.0038513399526662024623",
                                    "custtotalvalue": "15843.93",
                                    "pctcust": "0.3076888120560997176836"
                                },
                                {
                                    "orderid": "10591",
                                    "custid": "83",
                                    "val": "812.50",
                                    "totalvalue": "1265793.22",
                                    "pctall": "0.0641889992111033743726",
                                    "custtotalvalue": "15843.93",
                                    "pctcust": "5.1281468676016619613946"
                                },
                                {
                                    "orderid": "10769",
                                    "custid": "83",
                                    "val": "1684.28",
                                    "totalvalue": "1265793.22",
                                    "pctall": "0.1330612278046488509394",
                                    "custtotalvalue": "15843.93",
                                    "pctcust": "10.6304433306635411794927"
                                },
                                {
                                    "orderid": "10688",
                                    "custid": "83",
                                    "val": "3160.60",
                                    "totalvalue": "1265793.22",
                                    "pctall": "0.2496932318850625538980",
                                    "custtotalvalue": "15843.93",
                                    "pctcust": "19.9483335258360772863803"
                                },
                                {
                                    "orderid": "10744",
                                    "custid": "83",
                                    "val": "736.00",
                                    "totalvalue": "1265793.22",
                                    "pctall": "0.0581453580546117951240",
                                    "custtotalvalue": "15843.93",
                                    "pctcust": "4.6453121163751670197987"
                                },
                                {
                                    "orderid": "10465",
                                    "custid": "83",
                                    "val": "2518.00",
                                    "totalvalue": "1265793.22",
                                    "pctall": "0.1989266461705332882095",
                                    "custtotalvalue": "15843.93",
                                    "pctcust": "15.8925216155335197769745"
                                },
                                {
                                    "orderid": "10399",
                                    "custid": "83",
                                    "val": "1765.60",
                                    "totalvalue": "1265793.22",
                                    "pctall": "0.1394856578549219911290",
                                    "custtotalvalue": "15843.93",
                                    "pctcust": "11.1436998269999930572780"
                                },
                                {
                                    "orderid": "10367",
                                    "custid": "83",
                                    "val": "834.20",
                                    "totalvalue": "1265793.22",
                                    "pctall": "0.0659033392515722275712",
                                    "custtotalvalue": "15843.93",
                                    "pctcust": "5.2651078362502232716251"
                                },
                                {
                                    "orderid": "10921",
                                    "custid": "83",
                                    "val": "1936.00",
                                    "totalvalue": "1265793.22",
                                    "pctall": "0.1529475722740875480435",
                                    "custtotalvalue": "15843.93",
                                    "pctcust": "12.2191905669868523781662"
                                },
                                {
                                    "orderid": "10946",
                                    "custid": "83",
                                    "val": "1407.50",
                                    "totalvalue": "1265793.22",
                                    "pctall": "0.1111950970949267685285",
                                    "custtotalvalue": "15843.93",
                                    "pctcust": "8.8835282660299559515852"
                                },
                                {
                                    "orderid": "10994",
                                    "custid": "83",
                                    "val": "940.50",
                                    "totalvalue": "1265793.22",
                                    "pctall": "0.0743012353945141213507",
                                    "custtotalvalue": "15843.93",
                                    "pctcust": "5.9360272356669083996205"
                                },
                                {
                                    "orderid": "10843",
                                    "custid": "84",
                                    "val": "159.00",
                                    "totalvalue": "1265793.22",
                                    "pctall": "0.0125612933840805372618",
                                    "custtotalvalue": "9182.43",
                                    "pctcust": "1.7315677876117759677993"
                                },
                                {
                                    "orderid": "10850",
                                    "custid": "84",
                                    "val": "629.00",
                                    "totalvalue": "1265793.22",
                                    "pctall": "0.0496921606200418738220",
                                    "custtotalvalue": "9182.43",
                                    "pctcust": "6.8500386063384093317346"
                                },
                                {
                                    "orderid": "10334",
                                    "custid": "84",
                                    "val": "144.80",
                                    "totalvalue": "1265793.22",
                                    "pctall": "0.0114394671824834075189",
                                    "custtotalvalue": "9182.43",
                                    "pctcust": "1.5769246267055670448889"
                                },
                                {
                                    "orderid": "10251",
                                    "custid": "84",
                                    "val": "654.06",
                                    "totalvalue": "1265793.22",
                                    "pctall": "0.0516719468603252591288",
                                    "custtotalvalue": "9182.43",
                                    "pctcust": "7.1229511142475357830116"
                                },
                                {
                                    "orderid": "10459",
                                    "custid": "84",
                                    "val": "1659.20",
                                    "totalvalue": "1265793.22",
                                    "pctall": "0.1310798615274618077034",
                                    "custtotalvalue": "9182.43",
                                    "pctcust": "18.0692910264494256966837"
                                },
                                {
                                    "orderid": "10450",
                                    "custid": "84",
                                    "val": "425.12",
                                    "totalvalue": "1265793.22",
                                    "pctall": "0.0335852644241529434009",
                                    "custtotalvalue": "9182.43",
                                    "pctcust": "4.6297113073554603737790"
                                },
                                {
                                    "orderid": "10478",
                                    "custid": "84",
                                    "val": "471.20",
                                    "totalvalue": "1265793.22",
                                    "pctall": "0.0372256694501808123130",
                                    "custtotalvalue": "9182.43",
                                    "pctcust": "5.1315392548595524278431"
                                },
                                {
                                    "orderid": "10806",
                                    "custid": "84",
                                    "val": "439.60",
                                    "totalvalue": "1265793.22",
                                    "pctall": "0.0347292111424012841528",
                                    "custtotalvalue": "9182.43",
                                    "pctcust": "4.7874037700260170782679"
                                },
                                {
                                    "orderid": "10814",
                                    "custid": "84",
                                    "val": "1788.45",
                                    "totalvalue": "1265793.22",
                                    "pctall": "0.1412908500173511752575",
                                    "custtotalvalue": "9182.43",
                                    "pctcust": "19.4768705015992498717659"
                                },
                                {
                                    "orderid": "10546",
                                    "custid": "84",
                                    "val": "2812.00",
                                    "totalvalue": "1265793.22",
                                    "pctall": "0.2221531886543048476748",
                                    "custtotalvalue": "9182.43",
                                    "pctcust": "30.6237020048070064242253"
                                },
                                {
                                    "orderid": "10739",
                                    "custid": "85",
                                    "val": "240.00",
                                    "totalvalue": "1265793.22",
                                    "pctall": "0.0189604428438951505839",
                                    "custtotalvalue": "1480.00",
                                    "pctcust": "16.2162162162162162162162"
                                },
                                {
                                    "orderid": "10737",
                                    "custid": "85",
                                    "val": "139.80",
                                    "totalvalue": "1265793.22",
                                    "pctall": "0.0110444579565689252151",
                                    "custtotalvalue": "1480.00",
                                    "pctcust": "9.4459459459459459459459"
                                },
                                {
                                    "orderid": "10248",
                                    "custid": "85",
                                    "val": "440.00",
                                    "totalvalue": "1265793.22",
                                    "pctall": "0.0347608118804744427371",
                                    "custtotalvalue": "1480.00",
                                    "pctcust": "29.7297297297297297297297"
                                },
                                {
                                    "orderid": "10274",
                                    "custid": "85",
                                    "val": "538.60",
                                    "totalvalue": "1265793.22",
                                    "pctall": "0.0425503938155080337687",
                                    "custtotalvalue": "1480.00",
                                    "pctcust": "36.3918918918918918918918"
                                },
                                {
                                    "orderid": "10295",
                                    "custid": "85",
                                    "val": "121.60",
                                    "totalvalue": "1265793.22",
                                    "pctall": "0.0096066243742402096291",
                                    "custtotalvalue": "1480.00",
                                    "pctcust": "8.2162162162162162162162"
                                },
                                {
                                    "orderid": "10301",
                                    "custid": "86",
                                    "val": "755.00",
                                    "totalvalue": "1265793.22",
                                    "pctall": "0.0596463931130868278785",
                                    "custtotalvalue": "9588.43",
                                    "pctcust": "7.8740732320098285120713"
                                },
                                {
                                    "orderid": "10312",
                                    "custid": "86",
                                    "val": "1614.80",
                                    "totalvalue": "1265793.22",
                                    "pctall": "0.1275721796013412048454",
                                    "custtotalvalue": "9588.43",
                                    "pctcust": "16.8411304040390345447586"
                                },
                                {
                                    "orderid": "10348",
                                    "custid": "86",
                                    "val": "363.60",
                                    "totalvalue": "1265793.22",
                                    "pctall": "0.0287250709085011531346",
                                    "custtotalvalue": "9588.43",
                                    "pctcust": "3.7920702346473823138928"
                                },
                                {
                                    "orderid": "10356",
                                    "custid": "86",
                                    "val": "1106.40",
                                    "totalvalue": "1265793.22",
                                    "pctall": "0.0874076415103566441918",
                                    "custtotalvalue": "9588.43",
                                    "pctcust": "11.5389067866167871069612"
                                },
                                {
                                    "orderid": "10513",
                                    "custid": "86",
                                    "val": "1942.00",
                                    "totalvalue": "1265793.22",
                                    "pctall": "0.1534215833451849268081",
                                    "custtotalvalue": "9588.43",
                                    "pctcust": "20.2535764457789231396589"
                                },
                                {
                                    "orderid": "10668",
                                    "custid": "86",
                                    "val": "625.28",
                                    "totalvalue": "1265793.22",
                                    "pctall": "0.0493982737559614989879",
                                    "custtotalvalue": "9588.43",
                                    "pctcust": "6.5211927291537822146065"
                                },
                                {
                                    "orderid": "10651",
                                    "custid": "86",
                                    "val": "397.80",
                                    "totalvalue": "1265793.22",
                                    "pctall": "0.0314269340137562120928",
                                    "custtotalvalue": "9588.43",
                                    "pctcust": "4.1487501082033242147045"
                                },
                                {
                                    "orderid": "10632",
                                    "custid": "86",
                                    "val": "589.00",
                                    "totalvalue": "1265793.22",
                                    "pctall": "0.0465320868127260153913",
                                    "custtotalvalue": "9588.43",
                                    "pctcust": "6.1428200445745549584238"
                                },
                                {
                                    "orderid": "10640",
                                    "custid": "86",
                                    "val": "708.75",
                                    "totalvalue": "1265793.22",
                                    "pctall": "0.0559925577733778665681",
                                    "custtotalvalue": "9588.43",
                                    "pctcust": "7.3917210638237959707689"
                                },
                                {
                                    "orderid": "11046",
                                    "custid": "86",
                                    "val": "1485.80",
                                    "totalvalue": "1265793.22",
                                    "pctall": "0.1173809415727475614065",
                                    "custtotalvalue": "9588.43",
                                    "pctcust": "15.4957589511525870241530"
                                },
                                {
                                    "orderid": "11025",
                                    "custid": "87",
                                    "val": "270.00",
                                    "totalvalue": "1265793.22",
                                    "pctall": "0.0213304981993820444069",
                                    "custtotalvalue": "15648.70",
                                    "pctcust": "1.7253829391578853195473"
                                },
                                {
                                    "orderid": "10636",
                                    "custid": "87",
                                    "val": "629.50",
                                    "totalvalue": "1265793.22",
                                    "pctall": "0.0497316615426333220523",
                                    "custtotalvalue": "15648.70",
                                    "pctcust": "4.0226983711106992913149"
                                },
                                {
                                    "orderid": "10553",
                                    "custid": "87",
                                    "val": "1546.30",
                                    "totalvalue": "1265793.22",
                                    "pctall": "0.1221605532063127972829",
                                    "custtotalvalue": "15648.70",
                                    "pctcust": "9.8813319956290298874666"
                                },
                                {
                                    "orderid": "10583",
                                    "custid": "87",
                                    "val": "2237.50",
                                    "totalvalue": "1265793.22",
                                    "pctall": "0.1767666285967308309646",
                                    "custtotalvalue": "15648.70",
                                    "pctcust": "14.2983123198732163055078"
                                },
                                {
                                    "orderid": "10750",
                                    "custid": "87",
                                    "val": "1590.56",
                                    "totalvalue": "1265793.22",
                                    "pctall": "0.1256571748741077946364",
                                    "custtotalvalue": "15648.70",
                                    "pctcust": "10.1641669915072817550339"
                                },
                                {
                                    "orderid": "10781",
                                    "custid": "87",
                                    "val": "975.88",
                                    "totalvalue": "1265793.22",
                                    "pctall": "0.0770963206770849981326",
                                    "custtotalvalue": "15648.70",
                                    "pctcust": "6.2361729728348041690364"
                                },
                                {
                                    "orderid": "10526",
                                    "custid": "87",
                                    "val": "1151.40",
                                    "totalvalue": "1265793.22",
                                    "pctall": "0.0909627245435869849263",
                                    "custtotalvalue": "15648.70",
                                    "pctcust": "7.3577996894310709515806"
                                },
                                {
                                    "orderid": "10455",
                                    "custid": "87",
                                    "val": "2684.00",
                                    "totalvalue": "1265793.22",
                                    "pctall": "0.2120409524708941006967",
                                    "custtotalvalue": "15648.70",
                                    "pctcust": "17.1515844766657933246851"
                                },
                                {
                                    "orderid": "10437",
                                    "custid": "87",
                                    "val": "393.00",
                                    "totalvalue": "1265793.22",
                                    "pctall": "0.0310477251568783090811",
                                    "custtotalvalue": "15648.70",
                                    "pctcust": "2.5113907225520330762299"
                                },
                                {
                                    "orderid": "10416",
                                    "custid": "87",
                                    "val": "720.00",
                                    "totalvalue": "1265793.22",
                                    "pctall": "0.0568813285316854517517",
                                    "custtotalvalue": "15648.70",
                                    "pctcust": "4.6010211710876941854594"
                                },
                                {
                                    "orderid": "10412",
                                    "custid": "87",
                                    "val": "334.80",
                                    "totalvalue": "1265793.22",
                                    "pctall": "0.0264498177672337350645",
                                    "custtotalvalue": "15648.70",
                                    "pctcust": "2.1394748445557777962386"
                                },
                                {
                                    "orderid": "10333",
                                    "custid": "87",
                                    "val": "877.20",
                                    "totalvalue": "1265793.22",
                                    "pctall": "0.0693004185944367753842",
                                    "custtotalvalue": "15648.70",
                                    "pctcust": "5.6055774601085074159514"
                                },
                                {
                                    "orderid": "10320",
                                    "custid": "87",
                                    "val": "516.00",
                                    "totalvalue": "1265793.22",
                                    "pctall": "0.0407649521143745737554",
                                    "custtotalvalue": "15648.70",
                                    "pctcust": "3.2973985059461808329126"
                                },
                                {
                                    "orderid": "10270",
                                    "custid": "87",
                                    "val": "1376.00",
                                    "totalvalue": "1265793.22",
                                    "pctall": "0.1087065389716655300144",
                                    "custtotalvalue": "15648.70",
                                    "pctcust": "8.7930626825231488877670"
                                },
                                {
                                    "orderid": "10266",
                                    "custid": "87",
                                    "val": "346.56",
                                    "totalvalue": "1265793.22",
                                    "pctall": "0.0273788794665845974431",
                                    "custtotalvalue": "15648.70",
                                    "pctcust": "2.2146248570168768012678"
                                },
                                {
                                    "orderid": "10256",
                                    "custid": "88",
                                    "val": "517.80",
                                    "totalvalue": "1265793.22",
                                    "pctall": "0.0409071554357037873847",
                                    "custtotalvalue": "6068.20",
                                    "pctcust": "8.5330081407995781286048"
                                },
                                {
                                    "orderid": "10420",
                                    "custid": "88",
                                    "val": "1707.84",
                                    "totalvalue": "1265793.22",
                                    "pctall": "0.1349225112771578915551",
                                    "custtotalvalue": "6068.20",
                                    "pctcust": "28.1440954484031508519824"
                                },
                                {
                                    "orderid": "10803",
                                    "custid": "88",
                                    "val": "1193.01",
                                    "totalvalue": "1265793.22",
                                    "pctall": "0.0942499913216473066588",
                                    "custtotalvalue": "6068.20",
                                    "pctcust": "19.6600309811805807323423"
                                },
                                {
                                    "orderid": "10809",
                                    "custid": "88",
                                    "val": "140.00",
                                    "totalvalue": "1265793.22",
                                    "pctall": "0.0110602583256055045072",
                                    "custtotalvalue": "6068.20",
                                    "pctcust": "2.3071091921821957087769"
                                },
                                {
                                    "orderid": "10585",
                                    "custid": "88",
                                    "val": "142.50",
                                    "totalvalue": "1265793.22",
                                    "pctall": "0.0112577629385627456592",
                                    "custtotalvalue": "6068.20",
                                    "pctcust": "2.3483075706140206321479"
                                },
                                {
                                    "orderid": "10644",
                                    "custid": "88",
                                    "val": "1371.80",
                                    "totalvalue": "1265793.22",
                                    "pctall": "0.1083747312218973648792",
                                    "custtotalvalue": "6068.20",
                                    "pctcust": "22.6063742131109719521439"
                                },
                                {
                                    "orderid": "10900",
                                    "custid": "88",
                                    "val": "33.75",
                                    "totalvalue": "1265793.22",
                                    "pctall": "0.0026663122749227555508",
                                    "custtotalvalue": "6068.20",
                                    "pctcust": "0.5561781088296364655087"
                                },
                                {
                                    "orderid": "10905",
                                    "custid": "88",
                                    "val": "342.00",
                                    "totalvalue": "1265793.22",
                                    "pctall": "0.0270186310525505895820",
                                    "custtotalvalue": "6068.20",
                                    "pctcust": "5.6359381694736495171550"
                                },
                                {
                                    "orderid": "10935",
                                    "custid": "88",
                                    "val": "619.50",
                                    "totalvalue": "1265793.22",
                                    "pctall": "0.0489416430908043574447",
                                    "custtotalvalue": "6068.20",
                                    "pctcust": "10.2089581754062160113377"
                                },
                                {
                                    "orderid": "10904",
                                    "custid": "89",
                                    "val": "1924.25",
                                    "totalvalue": "1265793.22",
                                    "pctall": "0.1520193005931885146295",
                                    "custtotalvalue": "27363.61",
                                    "pctcust": "7.0321496323036324520046"
                                },
                                {
                                    "orderid": "10861",
                                    "custid": "89",
                                    "val": "3523.40",
                                    "totalvalue": "1265793.22",
                                    "pctall": "0.2783551013174173898640",
                                    "custtotalvalue": "27363.61",
                                    "pctcust": "12.8762250302500291445463"
                                },
                                {
                                    "orderid": "11032",
                                    "custid": "89",
                                    "val": "8902.50",
                                    "totalvalue": "1265793.22",
                                    "pctall": "0.7033139267407357419721",
                                    "custtotalvalue": "27363.61",
                                    "pctcust": "32.5340845012774264799125"
                                },
                                {
                                    "orderid": "11066",
                                    "custid": "89",
                                    "val": "928.75",
                                    "totalvalue": "1265793.22",
                                    "pctall": "0.0733729637136150879367",
                                    "custtotalvalue": "27363.61",
                                    "pctcust": "3.3941062601023768428215"
                                },
                                {
                                    "orderid": "10596",
                                    "custid": "89",
                                    "val": "1180.88",
                                    "totalvalue": "1265793.22",
                                    "pctall": "0.0932916989395787725897",
                                    "custtotalvalue": "27363.61",
                                    "pctcust": "4.3155124634505461815893"
                                },
                                {
                                    "orderid": "10740",
                                    "custid": "89",
                                    "val": "1416.00",
                                    "totalvalue": "1265793.22",
                                    "pctall": "0.1118666127789813884451",
                                    "custtotalvalue": "27363.61",
                                    "pctcust": "5.1747558162099225942775"
                                },
                                {
                                    "orderid": "10696",
                                    "custid": "89",
                                    "val": "996.00",
                                    "totalvalue": "1265793.22",
                                    "pctall": "0.0786858378021648749232",
                                    "custtotalvalue": "27363.61",
                                    "pctcust": "3.6398706164866404688562"
                                },
                                {
                                    "orderid": "10693",
                                    "custid": "89",
                                    "val": "2071.20",
                                    "totalvalue": "1265793.22",
                                    "pctall": "0.1636286217428151495391",
                                    "custtotalvalue": "27363.61",
                                    "pctcust": "7.5691767277782427099348"
                                },
                                {
                                    "orderid": "10723",
                                    "custid": "89",
                                    "val": "468.45",
                                    "totalvalue": "1265793.22",
                                    "pctall": "0.0370084143759278470459",
                                    "custtotalvalue": "27363.61",
                                    "pctcust": "1.7119451709770750277467"
                                },
                                {
                                    "orderid": "10504",
                                    "custid": "89",
                                    "val": "1388.50",
                                    "totalvalue": "1265793.22",
                                    "pctall": "0.1096940620364517357740",
                                    "custtotalvalue": "27363.61",
                                    "pctcust": "5.0742573805137553122559"
                                },
                                {
                                    "orderid": "10483",
                                    "custid": "89",
                                    "val": "668.80",
                                    "totalvalue": "1265793.22",
                                    "pctall": "0.0528364340583211529605",
                                    "custtotalvalue": "27363.61",
                                    "pctcust": "2.4441219561307882987661"
                                },
                                {
                                    "orderid": "10469",
                                    "custid": "89",
                                    "val": "956.68",
                                    "totalvalue": "1265793.22",
                                    "pctall": "0.0755794852495733860859",
                                    "custtotalvalue": "27363.61",
                                    "pctcust": "3.4961761258839751041620"
                                },
                                {
                                    "orderid": "10269",
                                    "custid": "89",
                                    "val": "642.20",
                                    "totalvalue": "1265793.22",
                                    "pctall": "0.0507349849764561071041",
                                    "custtotalvalue": "27363.61",
                                    "pctcust": "2.3469125601483137641561"
                                },
                                {
                                    "orderid": "10344",
                                    "custid": "89",
                                    "val": "2296.00",
                                    "totalvalue": "1265793.22",
                                    "pctall": "0.1813882365399302739194",
                                    "custtotalvalue": "27363.61",
                                    "pctcust": "8.3907057584872756189698"
                                },
                                {
                                    "orderid": "10695",
                                    "custid": "90",
                                    "val": "642.00",
                                    "totalvalue": "1265793.22",
                                    "pctall": "0.0507191846074195278119",
                                    "custtotalvalue": "3161.35",
                                    "pctcust": "20.3077799041548705458111"
                                },
                                {
                                    "orderid": "10615",
                                    "custid": "90",
                                    "val": "120.00",
                                    "totalvalue": "1265793.22",
                                    "pctall": "0.0094802214219475752919",
                                    "custtotalvalue": "3161.35",
                                    "pctcust": "3.7958467110569851487497"
                                },
                                {
                                    "orderid": "10673",
                                    "custid": "90",
                                    "val": "412.35",
                                    "totalvalue": "1265793.22",
                                    "pctall": "0.0325764108611673555969",
                                    "custtotalvalue": "3161.35",
                                    "pctcust": "13.0434782608695652173913"
                                },
                                {
                                    "orderid": "11005",
                                    "custid": "90",
                                    "val": "586.00",
                                    "totalvalue": "1265793.22",
                                    "pctall": "0.0462950812771773260090",
                                    "custtotalvalue": "3161.35",
                                    "pctcust": "18.5363847723282774763945"
                                },
                                {
                                    "orderid": "10879",
                                    "custid": "90",
                                    "val": "611.30",
                                    "totalvalue": "1265793.22",
                                    "pctall": "0.0482938279603046064664",
                                    "custtotalvalue": "3161.35",
                                    "pctcust": "19.3366757872427918452559"
                                },
                                {
                                    "orderid": "10873",
                                    "custid": "90",
                                    "val": "336.80",
                                    "totalvalue": "1265793.22",
                                    "pctall": "0.0266078214575995279860",
                                    "custtotalvalue": "3161.35",
                                    "pctcust": "10.6536764356999383174909"
                                },
                                {
                                    "orderid": "10910",
                                    "custid": "90",
                                    "val": "452.90",
                                    "totalvalue": "1265793.22",
                                    "pctall": "0.0357799356833338070810",
                                    "custtotalvalue": "3161.35",
                                    "pctcust": "14.3261581286475714489063"
                                },
                                {
                                    "orderid": "10906",
                                    "custid": "91",
                                    "val": "427.50",
                                    "totalvalue": "1265793.22",
                                    "pctall": "0.0337732888156882369776",
                                    "custtotalvalue": "3531.95",
                                    "pctcust": "12.1037953538413624201928"
                                },
                                {
                                    "orderid": "10870",
                                    "custid": "91",
                                    "val": "160.00",
                                    "totalvalue": "1265793.22",
                                    "pctall": "0.0126402952292634337226",
                                    "custtotalvalue": "3531.95",
                                    "pctcust": "4.5300754540692818414756"
                                },
                                {
                                    "orderid": "10998",
                                    "custid": "91",
                                    "val": "686.00",
                                    "totalvalue": "1265793.22",
                                    "pctall": "0.0541952657954669720856",
                                    "custtotalvalue": "3531.95",
                                    "pctcust": "19.4226985093220458953269"
                                },
                                {
                                    "orderid": "11044",
                                    "custid": "91",
                                    "val": "591.60",
                                    "totalvalue": "1265793.22",
                                    "pctall": "0.0467374916102015461893",
                                    "custtotalvalue": "3531.95",
                                    "pctcust": "16.7499539914211696088562"
                                },
                                {
                                    "orderid": "10611",
                                    "custid": "91",
                                    "val": "808.00",
                                    "totalvalue": "1265793.22",
                                    "pctall": "0.0638334909077803402991",
                                    "custtotalvalue": "3531.95",
                                    "pctcust": "22.8768810430498732994521"
                                },
                                {
                                    "orderid": "10792",
                                    "custid": "91",
                                    "val": "399.85",
                                    "totalvalue": "1265793.22",
                                    "pctall": "0.0315888877963811498374",
                                    "custtotalvalue": "3531.95",
                                    "pctcust": "11.3209416894350146519627"
                                },
                                {
                                    "orderid": "10374",
                                    "custid": "91",
                                    "val": "459.00",
                                    "totalvalue": "1265793.22",
                                    "pctall": "0.0362618469389494754917",
                                    "custtotalvalue": "3531.95",
                                    "pctcust": "12.9956539588612522827333"
                                }
                            ]
                        },
                        "text/html": [
                            "<table>",
                            "<tr><th>orderid</th><th>custid</th><th>val</th><th>totalvalue</th><th>pctall</th><th>custtotalvalue</th><th>pctcust</th></tr>",
                            "<tr><td>10643</td><td>1</td><td>814.50</td><td>1265793.22</td><td>0.0643470029014691672941</td><td>4273.00</td><td>19.0615492628130119354083</td></tr>",
                            "<tr><td>10692</td><td>1</td><td>878.00</td><td>1265793.22</td><td>0.0693636200705830925528</td><td>4273.00</td><td>20.5476246197051252047741</td></tr>",
                            "<tr><td>10702</td><td>1</td><td>330.00</td><td>1265793.22</td><td>0.0260706089103558320528</td><td>4273.00</td><td>7.7229113035338169904048</td></tr>",
                            "<tr><td>10835</td><td>1</td><td>845.80</td><td>1265793.22</td><td>0.0668197606556938265161</td><td>4273.00</td><td>19.7940556985724315469225</td></tr>",
                            "<tr><td>10952</td><td>1</td><td>471.20</td><td>1265793.22</td><td>0.0372256694501808123130</td><td>4273.00</td><td>11.0273812309852562602387</td></tr>",
                            "<tr><td>11011</td><td>1</td><td>933.50</td><td>1265793.22</td><td>0.0737482224782338461253</td><td>4273.00</td><td>21.8464778843903580622513</td></tr>",
                            "<tr><td>10926</td><td>2</td><td>514.40</td><td>1265793.22</td><td>0.0406385491620819394181</td><td>1402.95</td><td>36.6655974910011048148544</td></tr>",
                            "<tr><td>10759</td><td>2</td><td>320.00</td><td>1265793.22</td><td>0.0252805904585268674452</td><td>1402.95</td><td>22.8090808653195053280587</td></tr>",
                            "<tr><td>10625</td><td>2</td><td>479.75</td><td>1265793.22</td><td>0.0379011352264945770526</td><td>1402.95</td><td>34.1958017035532271285505</td></tr>",
                            "<tr><td>10308</td><td>2</td><td>88.80</td><td>1265793.22</td><td>0.0070153638522412057160</td><td>1402.95</td><td>6.3295199401261627285362</td></tr>",
                            "<tr><td>10365</td><td>3</td><td>403.20</td><td>1265793.22</td><td>0.0318535439777438529809</td><td>7023.98</td><td>5.7403352515240647040566</td></tr>",
                            "<tr><td>10507</td><td>3</td><td>749.06</td><td>1265793.22</td><td>0.0591771221527004229016</td><td>7023.98</td><td>10.6643242150461704048132</td></tr>",
                            "<tr><td>10535</td><td>3</td><td>1940.85</td><td>1265793.22</td><td>0.1533307312232245958783</td><td>7023.98</td><td>27.6317700221242087819156</td></tr>",
                            "<tr><td>10677</td><td>3</td><td>813.37</td><td>1265793.22</td><td>0.0642577308164124942934</td><td>7023.98</td><td>11.5799019928872234829825</td></tr>",
                            "<tr><td>10573</td><td>3</td><td>2082.00</td><td>1265793.22</td><td>0.1644818416707904313154</td><td>7023.98</td><td>29.6413144684352745879116</td></tr>",
                            "<tr><td>10682</td><td>3</td><td>375.50</td><td>1265793.22</td><td>0.0296651928661776210177</td><td>7023.98</td><td>5.3459719418335473620369</td></tr>",
                            "<tr><td>10856</td><td>3</td><td>660.00</td><td>1265793.22</td><td>0.0521412178207116641057</td><td>7023.98</td><td>9.3963821081495106762832</td></tr>",
                            "<tr><td>10864</td><td>4</td><td>282.00</td><td>1265793.22</td><td>0.0222785203415768019361</td><td>13390.65</td><td>2.1059470600755004424729</td></tr>",
                            "<tr><td>10920</td><td>4</td><td>390.00</td><td>1265793.22</td><td>0.0308107196213296196988</td><td>13390.65</td><td>2.9124799767001601863987</td></tr>",
                            "<tr><td>10953</td><td>4</td><td>4441.25</td><td>1265793.22</td><td>0.3508669449185389063784</td><td>13390.65</td><td>33.1667992218450934047264</td></tr>",
                            "<tr><td>11016</td><td>4</td><td>491.50</td><td>1265793.22</td><td>0.0388294069073936104666</td><td>13390.65</td><td>3.6704715603798172605512</td></tr>",
                            "<tr><td>10707</td><td>4</td><td>1641.00</td><td>1265793.22</td><td>0.1296420279451330921175</td><td>13390.65</td><td>12.2548195942691355535392</td></tr>",
                            "<tr><td>10741</td><td>4</td><td>228.00</td><td>1265793.22</td><td>0.0180124207017003930547</td><td>13390.65</td><td>1.7026806017631705705100</td></tr>",
                            "<tr><td>10743</td><td>4</td><td>319.20</td><td>1265793.22</td><td>0.0252173889823805502766</td><td>13390.65</td><td>2.3837528424684387987140</td></tr>",
                            "<tr><td>10768</td><td>4</td><td>1477.00</td><td>1265793.22</td><td>0.1166857253351380725518</td><td>13390.65</td><td>11.0300844245798374238741</td></tr>",
                            "<tr><td>10793</td><td>4</td><td>191.10</td><td>1265793.22</td><td>0.0150972526144515136524</td><td>13390.65</td><td>1.4271151885830784913353</td></tr>",
                            "<tr><td>10558</td><td>4</td><td>2142.90</td><td>1265793.22</td><td>0.1692930540424288257761</td><td>13390.65</td><td>16.0029572873609570857277</td></tr>",
                            "<tr><td>10453</td><td>4</td><td>407.70</td><td>1265793.22</td><td>0.0322090522810668870544</td><td>13390.65</td><td>3.0446617602580905333198</td></tr>",
                            "<tr><td>10355</td><td>4</td><td>480.00</td><td>1265793.22</td><td>0.0379208856877903011678</td><td>13390.65</td><td>3.5845907405540433063368</td></tr>",
                            "<tr><td>10383</td><td>4</td><td>899.00</td><td>1265793.22</td><td>0.0710226588194239182289</td><td>13390.65</td><td>6.7136397411626769424934</td></tr>",
                            "<tr><td>10384</td><td>5</td><td>2222.40</td><td>1265793.22</td><td>0.1755737007344690944070</td><td>24927.58</td><td>8.9154262066353813727606</td></tr>",
                            "<tr><td>10278</td><td>5</td><td>1488.80</td><td>1265793.22</td><td>0.1176179471082962507888</td><td>24927.58</td><td>5.9725011413061356136456</td></tr>",
                            "<tr><td>10280</td><td>5</td><td>613.20</td><td>1265793.22</td><td>0.0484439314661521097419</td><td>24927.58</td><td>2.4599259133858962642984</td></tr>",
                            "<tr><td>10444</td><td>5</td><td>1031.70</td><td>1265793.22</td><td>0.0815062036751942785726</td><td>24927.58</td><td>4.1387892446840006129756</td></tr>",
                            "<tr><td>10445</td><td>5</td><td>174.90</td><td>1265793.22</td><td>0.0138174227224885909880</td><td>24927.58</td><td>0.7016324889941181614902</td></tr>",
                            "<tr><td>10524</td><td>5</td><td>3192.65</td><td>1265793.22</td><td>0.2522252410231743854655</td><td>24927.58</td><td>12.8077013492685611679914</td></tr>",
                            "<tr><td>10572</td><td>5</td><td>1501.09</td><td>1265793.22</td><td>0.1185888797855940482917</td><td>24927.58</td><td>6.0218039617162997771945</td></tr>",
                            "<tr><td>10672</td><td>5</td><td>3815.25</td><td>1265793.22</td><td>0.3014117898340457219386</td><td>24927.58</td><td>15.3053364987696358812207</td></tr>",
                            "<tr><td>10654</td><td>5</td><td>601.83</td><td>1265793.22</td><td>0.0475456804864225769829</td><td>24927.58</td><td>2.4143137841699836085171</td></tr>",
                            "<tr><td>10626</td><td>5</td><td>1503.60</td><td>1265793.22</td><td>0.1187871744170031184082</td><td>24927.58</td><td>6.0318731300832250864303</td></tr>",
                            "<tr><td>10778</td><td>5</td><td>96.50</td><td>1265793.22</td><td>0.0076236780601495084639</td><td>24927.58</td><td>0.3871214133100766299817</td></tr>",
                            "<tr><td>10733</td><td>5</td><td>1459.00</td><td>1265793.22</td><td>0.1152636921218459362580</td><td>24927.58</td><td>5.8529548395792932968222</td></tr>",
                            "<tr><td>10689</td><td>5</td><td>472.50</td><td>1265793.22</td><td>0.0373283718489185777120</td><td>24927.58</td><td>1.8954908579172145872162</td></tr>",
                            "<tr><td>10924</td><td>5</td><td>1835.70</td><td>1265793.22</td><td>0.1450236872022430330287</td><td>24927.58</td><td>7.3641324187907530534452</td></tr>",
                            "<tr><td>10866</td><td>5</td><td>1096.20</td><td>1265793.22</td><td>0.0866018226894911002920</td><td>24927.58</td><td>4.3975387903679378423416</td></tr>",
                            "<tr><td>10857</td><td>5</td><td>2048.21</td><td>1265793.22</td><td>0.1618123693220603599061</td><td>24927.58</td><td>8.2166419684542181792215</td></tr>",
                            "<tr><td>10837</td><td>5</td><td>1064.50</td><td>1265793.22</td><td>0.0840974641971932824857</td><td>24927.58</td><td>4.2703704090007934986067</td></tr>",
                            "<tr><td>10875</td><td>5</td><td>709.55</td><td>1265793.22</td><td>0.0560557592495241837367</td><td>24927.58</td><td>2.8464455835664753658397</td></tr>",
                            "<tr><td>10853</td><td>6</td><td>625.00</td><td>1265793.22</td><td>0.0493761532393102879789</td><td>3239.80</td><td>19.2913142786591764923760</td></tr>",
                            "<tr><td>10956</td><td>6</td><td>677.00</td><td>1265793.22</td><td>0.0534842491888209039387</td><td>3239.80</td><td>20.8963516266436199765417</td></tr>",
                            "<tr><td>11058</td><td>6</td><td>858.00</td><td>1265793.22</td><td>0.0677835831669251633374</td><td>3239.80</td><td>26.4831162417433174887338</td></tr>",
                            "<tr><td>10614</td><td>6</td><td>464.00</td><td>1265793.22</td><td>0.0366568561648639577955</td><td>3239.80</td><td>14.3218717204765726279399</td></tr>",
                            "<tr><td>10582</td><td>6</td><td>330.00</td><td>1265793.22</td><td>0.0260706089103558320528</td><td>3239.80</td><td>10.1858139391320451879745</td></tr>",
                            "<tr><td>10501</td><td>6</td><td>149.00</td><td>1265793.22</td><td>0.0117712749322515726541</td><td>3239.80</td><td>4.5990493240323476757824</td></tr>",
                            "<tr><td>10509</td><td>6</td><td>136.80</td><td>1265793.22</td><td>0.0108074524210202358328</td><td>3239.80</td><td>4.2224828693129205506512</td></tr>",
                            "<tr><td>10436</td><td>7</td><td>1994.52</td><td>1265793.22</td><td>0.1575707602541906489276</td><td>18534.08</td><td>10.7613650097550026761511</td></tr>",
                            "<tr><td>10449</td><td>7</td><td>1838.20</td><td>1265793.22</td><td>0.1452211918152002741806</td><td>18534.08</td><td>9.9179457518258257221291</td></tr>",
                            "<tr><td>10265</td><td>7</td><td>1176.00</td><td>1265793.22</td><td>0.0929061699350862378611</td><td>18534.08</td><td>6.3450681123638184360917</td></tr>",
                            "<tr><td>10297</td><td>7</td><td>1420.00</td><td>1265793.22</td><td>0.1121826201597129742881</td><td>18534.08</td><td>7.6615618363576719211312</td></tr>",
                            "<tr><td>10360</td><td>7</td><td>7390.20</td><td>1265793.22</td><td>0.5838394362706414243552</td><td>18534.08</td><td>39.8735734387679345292563</td></tr>",
                            "<tr><td>10584</td><td>7</td><td>593.75</td><td>1265793.22</td><td>0.0469073455773447735800</td><td>18534.08</td><td>3.2035579861530758473039</td></tr>",
                            "<tr><td>10559</td><td>7</td><td>520.41</td><td>1265793.22</td><td>0.0411133502516311471473</td><td>18534.08</td><td>2.8078545037034479186450</td></tr>",
                            "<tr><td>10566</td><td>7</td><td>1761.00</td><td>1265793.22</td><td>0.1391222493670806674094</td><td>18534.08</td><td>9.5014157702999015866986</td></tr>",
                            "<tr><td>10628</td><td>7</td><td>450.00</td><td>1265793.22</td><td>0.0355508303323034073448</td><td>18534.08</td><td>2.4279597368739101158514</td></tr>",
                            "<tr><td>10679</td><td>7</td><td>660.00</td><td>1265793.22</td><td>0.0521412178207116641057</td><td>18534.08</td><td>3.5610076140817348365821</td></tr>",
                            "<tr><td>10826</td><td>7</td><td>730.00</td><td>1265793.22</td><td>0.0576713469835144163594</td><td>18534.08</td><td>3.9386902398176764101590</td></tr>",
                            "<tr><td>10801</td><td>8</td><td>3026.85</td><td>1265793.22</td><td>0.2391267350918501522705</td><td>4232.85</td><td>71.5085580637159360714412</td></tr>",
                            "<tr><td>10326</td><td>8</td><td>982.00</td><td>1265793.22</td><td>0.0775798119696043244725</td><td>4232.85</td><td>23.1994991554153820711813</td></tr>",
                            "<tr><td>10970</td><td>8</td><td>224.00</td><td>1265793.22</td><td>0.0176964133209688072116</td><td>4232.85</td><td>5.2919427808686818573774</td></tr>",
                            "<tr><td>10932</td><td>9</td><td>1788.63</td><td>1265793.22</td><td>0.1413050703494840966204</td><td>21963.25</td><td>8.1437401113223225160210</td></tr>",
                            "<tr><td>10940</td><td>9</td><td>360.00</td><td>1265793.22</td><td>0.0284406642658427258758</td><td>21963.25</td><td>1.6391016812174883043265</td></tr>",
                            "<tr><td>10876</td><td>9</td><td>917.00</td><td>1265793.22</td><td>0.0724446920327160545227</td><td>21963.25</td><td>4.1751562268789910418540</td></tr>",
                            "<tr><td>10871</td><td>9</td><td>1979.23</td><td>1265793.22</td><td>0.1563628220413441620425</td><td>21963.25</td><td>9.0115533903224704904784</td></tr>",
                            "<tr><td>11076</td><td>9</td><td>792.75</td><td>1265793.22</td><td>0.0626287127687411692724</td><td>21963.25</td><td>3.6094384938476773701524</td></tr>",
                            "<tr><td>10331</td><td>9</td><td>88.50</td><td>1265793.22</td><td>0.0069916632986863367778</td><td>21963.25</td><td>0.4029458299659658748136</td></tr>",
                            "<tr><td>10340</td><td>9</td><td>2436.18</td><td>1265793.22</td><td>0.1924627151976686997896</td><td>21963.25</td><td>11.0920742604122796034284</td></tr>",
                            "<tr><td>10362</td><td>9</td><td>1549.60</td><td>1265793.22</td><td>0.1224212592954163556034</td><td>21963.25</td><td>7.0554221255961663232900</td></tr>",
                            "<tr><td>10511</td><td>9</td><td>2550.00</td><td>1265793.22</td><td>0.2014547052163859749541</td><td>21963.25</td><td>11.6103035752905421556463</td></tr>",
                            "<tr><td>10525</td><td>9</td><td>818.40</td><td>1265793.22</td><td>0.0646551100976824634911</td><td>21963.25</td><td>3.7262244886344234118356</td></tr>",
                            "<tr><td>10470</td><td>9</td><td>1820.80</td><td>1265793.22</td><td>0.1438465597090178757633</td><td>21963.25</td><td>8.2902120587800075125493</td></tr>",
                            "<tr><td>10827</td><td>9</td><td>843.00</td><td>1265793.22</td><td>0.0665985554891817164260</td><td>21963.25</td><td>3.8382297701842851126313</td></tr>",
                            "<tr><td>10730</td><td>9</td><td>484.26</td><td>1265793.22</td><td>0.0382574335482694400906</td><td>21963.25</td><td>2.2048649448510580173699</td></tr>",
                            "<tr><td>10715</td><td>9</td><td>1296.00</td><td>1265793.22</td><td>0.1023863913570338131531</td><td>21963.25</td><td>5.9007660523829578955755</td></tr>",
                            "<tr><td>10732</td><td>9</td><td>360.00</td><td>1265793.22</td><td>0.0284406642658427258758</td><td>21963.25</td><td>1.6391016812174883043265</td></tr>",
                            "<tr><td>10755</td><td>9</td><td>1948.50</td><td>1265793.22</td><td>0.1539350953388737538031</td><td>21963.25</td><td>8.8716378495896554471674</td></tr>",
                            "<tr><td>10663</td><td>9</td><td>1930.40</td><td>1265793.22</td><td>0.1525051619410633278632</td><td>21963.25</td><td>8.7892274595062206185332</td></tr>",
                            "<tr><td>10742</td><td>10</td><td>3118.00</td><td>1265793.22</td><td>0.2463277532802711646693</td><td>20801.61</td><td>14.9892243917658296641461</td></tr>",
                            "<tr><td>10492</td><td>10</td><td>851.20</td><td>1265793.22</td><td>0.0672463706196814674042</td><td>20801.61</td><td>4.0919909564692348332653</td></tr>",
                            "<tr><td>10431</td><td>10</td><td>1892.25</td><td>1265793.22</td><td>0.1494912415473358278850</td><td>20801.61</td><td>9.0966516534056738877423</td></tr>",
                            "<tr><td>10410</td><td>10</td><td>802.00</td><td>1265793.22</td><td>0.0633594798366829615345</td><td>20801.61</td><td>3.8554708025003833837861</td></tr>",
                            "<tr><td>10411</td><td>10</td><td>966.80</td><td>1265793.22</td><td>0.0763789839228242982688</td><td>20801.61</td><td>4.6477171718919833609033</td></tr>",
                            "<tr><td>10389</td><td>10</td><td>1832.80</td><td>1265793.22</td><td>0.1447945818512126332925</td><td>20801.61</td><td>8.8108564673599783862883</td></tr>",
                            "<tr><td>11027</td><td>10</td><td>877.73</td><td>1265793.22</td><td>0.0693422895723837105084</td><td>20801.61</td><td>4.2195291614447150965718</td></tr>",
                            "<tr><td>11045</td><td>10</td><td>1309.50</td><td>1265793.22</td><td>0.1034529162670029153734</td><td>20801.61</td><td>6.2951858053294913230274</td></tr>",
                            "<tr><td>11048</td><td>10</td><td>525.00</td><td>1265793.22</td><td>0.0414759687210206419023</td><td>20801.61</td><td>2.5238431063749392474909</td></tr>",
                            "<tr><td>10982</td><td>10</td><td>1014.00</td><td>1265793.22</td><td>0.0801078710154570112170</td><td>20801.61</td><td>4.8746226854555969465825</td></tr>",
                            "<tr><td>10918</td><td>10</td><td>1447.50</td><td>1265793.22</td><td>0.1143551709022426269592</td><td>20801.61</td><td>6.9585959932909039252250</td></tr>",
                            "<tr><td>10975</td><td>10</td><td>717.50</td><td>1265793.22</td><td>0.0566838239187282105998</td><td>20801.61</td><td>3.4492522453790836382376</td></tr>",
                            "<tr><td>10944</td><td>10</td><td>1025.33</td><td>1265793.22</td><td>0.0810029619213792281175</td><td>20801.61</td><td>4.9290896233512694450093</td></tr>",
                            "<tr><td>10949</td><td>10</td><td>4422.00</td><td>1265793.22</td><td>0.3493461593987681495086</td><td>20801.61</td><td>21.2579699359809168617236</td></tr>",
                            "<tr><td>10947</td><td>11</td><td>220.00</td><td>1265793.22</td><td>0.0173804059402372213685</td><td>6089.90</td><td>3.6125387937404555083006</td></tr>",
                            "<tr><td>10943</td><td>11</td><td>711.00</td><td>1265793.22</td><td>0.0561703119250393836048</td><td>6089.90</td><td>11.6750685561339266654624</td></tr>",
                            "<tr><td>11023</td><td>11</td><td>1500.00</td><td>1265793.22</td><td>0.1185027677743446911494</td><td>6089.90</td><td>24.6309463209576511929588</td></tr>",
                            "<tr><td>10289</td><td>11</td><td>479.40</td><td>1265793.22</td><td>0.0378734845806805632913</td><td>6089.90</td><td>7.8720504441780653212696</td></tr>",
                            "<tr><td>10484</td><td>11</td><td>386.20</td><td>1265793.22</td><td>0.0305105126096346131479</td><td>6089.90</td><td>6.3416476461025632604804</td></tr>",
                            "<tr><td>10471</td><td>11</td><td>1328.00</td><td>1265793.22</td><td>0.1049144504028864998976</td><td>6089.90</td><td>21.8065978094878405228328</td></tr>",
                            "<tr><td>10538</td><td>11</td><td>139.80</td><td>1265793.22</td><td>0.0110444579565689252151</td><td>6089.90</td><td>2.2956041971132530911837</td></tr>",
                            "<tr><td>10539</td><td>11</td><td>355.50</td><td>1265793.22</td><td>0.0280851559625196918024</td><td>6089.90</td><td>5.8375342780669633327312</td></tr>",
                            "<tr><td>10578</td><td>11</td><td>477.00</td><td>1265793.22</td><td>0.0376838801522416117855</td><td>6089.90</td><td>7.8326409300645330793609</td></tr>",
                            "<tr><td>10599</td><td>11</td><td>493.00</td><td>1265793.22</td><td>0.0389479096751679551577</td><td>6089.90</td><td>8.0953710241547480254191</td></tr>",
                            "<tr><td>10819</td><td>12</td><td>477.00</td><td>1265793.22</td><td>0.0376838801522416117855</td><td>1814.80</td><td>26.2838880317390346043641</td></tr>",
                            "<tr><td>10782</td><td>12</td><td>12.50</td><td>1265793.22</td><td>0.0009875230647862057595</td><td>1814.80</td><td>0.6887811329072074057747</td></tr>",
                            "<tr><td>10521</td><td>12</td><td>225.50</td><td>1265793.22</td><td>0.0178149160887431519028</td><td>1814.80</td><td>12.4256116376460216001763</td></tr>",
                            "<tr><td>11054</td><td>12</td><td>305.00</td><td>1265793.22</td><td>0.0240955627807834205337</td><td>1814.80</td><td>16.8062596429358607009036</td></tr>",
                            "<tr><td>10937</td><td>12</td><td>644.80</td><td>1265793.22</td><td>0.0509403897739316379021</td><td>1814.80</td><td>35.5300859598853868194842</td></tr>",
                            "<tr><td>10881</td><td>12</td><td>150.00</td><td>1265793.22</td><td>0.0118502767774344691149</td><td>1814.80</td><td>8.2653735948864888692968</td></tr>",
                            "<tr><td>10259</td><td>13</td><td>100.80</td><td>1265793.22</td><td>0.0079633859944359632452</td><td>100.80</td><td>100.0000000000000000000000</td></tr>",
                            "<tr><td>10254</td><td>14</td><td>556.62</td><td>1265793.22</td><td>0.0439740070657038279917</td><td>12348.88</td><td>4.5074533075064297328988</td></tr>",
                            "<tr><td>10370</td><td>14</td><td>1117.60</td><td>1265793.22</td><td>0.0882924621764050845524</td><td>12348.88</td><td>9.0502134606539216511942</td></tr>",
                            "<tr><td>10519</td><td>14</td><td>2314.20</td><td>1265793.22</td><td>0.1828260701222589895054</td><td>12348.88</td><td>18.7401610510426856524640</td></tr>",
                            "<tr><td>10746</td><td>14</td><td>2311.70</td><td>1265793.22</td><td>0.1826285655093017483534</td><td>12348.88</td><td>18.7199163001017096287274</td></tr>",
                            "<tr><td>10731</td><td>14</td><td>1890.50</td><td>1265793.22</td><td>0.1493529883182657590787</td><td>12348.88</td><td>15.3090806615660691495908</td></tr>",
                            "<tr><td>10966</td><td>14</td><td>1098.46</td><td>1265793.22</td><td>0.0867803668596044462933</td><td>12348.88</td><td>8.8952196474498092134671</td></tr>",
                            "<tr><td>11029</td><td>14</td><td>1286.80</td><td>1265793.22</td><td>0.1016595743813511657140</td><td>12348.88</td><td>10.4203782043391789376850</td></tr>",
                            "<tr><td>11041</td><td>14</td><td>1773.00</td><td>1265793.22</td><td>0.1400702715092754249386</td><td>12348.88</td><td>14.3575773673401960339723</td></tr>",
                            "<tr><td>11042</td><td>15</td><td>405.75</td><td>1265793.22</td><td>0.0320549986829602389559</td><td>3810.75</td><td>10.6475103326116906120842</td></tr>",
                            "<tr><td>10969</td><td>15</td><td>108.00</td><td>1265793.22</td><td>0.0085321992797528177627</td><td>3810.75</td><td>2.8340877779964573902775</td></tr>",
                            "<tr><td>10466</td><td>15</td><td>216.00</td><td>1265793.22</td><td>0.0170643985595056355255</td><td>3810.75</td><td>5.6681755559929147805550</td></tr>",
                            "<tr><td>10494</td><td>15</td><td>912.00</td><td>1265793.22</td><td>0.0720496828068015722188</td><td>3810.75</td><td>23.9322967919700846290100</td></tr>",
                            "<tr><td>10290</td><td>15</td><td>2169.00</td><td>1265793.22</td><td>0.1713550022017024234021</td><td>3810.75</td><td>56.9179295414288525880732</td></tr>",
                            "<tr><td>10435</td><td>16</td><td>631.60</td><td>1265793.22</td><td>0.0498975654175174046200</td><td>1719.10</td><td>36.7401547321272759001803</td></tr>",
                            "<tr><td>10462</td><td>16</td><td>156.00</td><td>1265793.22</td><td>0.0123242878485318478795</td><td>1719.10</td><td>9.0745157349776045605258</td></tr>",
                            "<tr><td>10848</td><td>16</td><td>931.50</td><td>1265793.22</td><td>0.0735902187878680532038</td><td>1719.10</td><td>54.1853295328951195392938</td></tr>",
                            "<tr><td>10825</td><td>17</td><td>1030.76</td><td>1265793.22</td><td>0.0814319419407223558994</td><td>3763.21</td><td>27.3904459224970171741677</td></tr>",
                            "<tr><td>11036</td><td>17</td><td>1692.00</td><td>1265793.22</td><td>0.1336711220494608116166</td><td>3763.21</td><td>44.9616152167962989043927</td></tr>",
                            "<tr><td>11067</td><td>17</td><td>86.85</td><td>1265793.22</td><td>0.0068613102541345576175</td><td>3763.21</td><td>2.3078701427770440661031</td></tr>",
                            "<tr><td>10391</td><td>17</td><td>86.40</td><td>1265793.22</td><td>0.0068257594238022542102</td><td>3763.21</td><td>2.2959122663895982419264</td></tr>",
                            "<tr><td>10363</td><td>17</td><td>447.20</td><td>1265793.22</td><td>0.0353296251657912972546</td><td>3763.21</td><td>11.8834718232572723818229</td></tr>",
                            "<tr><td>10797</td><td>17</td><td>420.00</td><td>1265793.22</td><td>0.0331807749768165135218</td><td>3763.21</td><td>11.1606846282827692315868</td></tr>",
                            "<tr><td>10683</td><td>18</td><td>63.00</td><td>1265793.22</td><td>0.0049771162465224770282</td><td>1615.90</td><td>3.8987561111454916764651</td></tr>",
                            "<tr><td>10609</td><td>18</td><td>424.00</td><td>1265793.22</td><td>0.0334967823575480993649</td><td>1615.90</td><td>26.2392474781855312828764</td></tr>",
                            "<tr><td>10311</td><td>18</td><td>268.80</td><td>1265793.22</td><td>0.0212356959851625686539</td><td>1615.90</td><td>16.6346927408874311529178</td></tr>",
                            "<tr><td>10890</td><td>18</td><td>860.10</td><td>1265793.22</td><td>0.0679494870418092459051</td><td>1615.90</td><td>53.2273036697815458877405</td></tr>",
                            "<tr><td>11056</td><td>19</td><td>3740.00</td><td>1265793.22</td><td>0.2954669009840327632660</td><td>14761.04</td><td>25.3369681269070471999262</td></tr>",
                            "<tr><td>11047</td><td>19</td><td>817.88</td><td>1265793.22</td><td>0.0646140291381873573315</td><td>14761.04</td><td>5.5408020031108919154747</td></tr>",
                            "<tr><td>11024</td><td>19</td><td>1966.81</td><td>1265793.22</td><td>0.1553816191241725879997</td><td>14761.04</td><td>13.3243321608775533431248</td></tr>",
                            "<tr><td>10987</td><td>19</td><td>2772.00</td><td>1265793.22</td><td>0.2189931148469889892442</td><td>14761.04</td><td>18.7791646117075761599453</td></tr>",
                            "<tr><td>10364</td><td>19</td><td>950.00</td><td>1265793.22</td><td>0.0750517529237516377280</td><td>14761.04</td><td>6.4358608878507205454358</td></tr>",
                            "<tr><td>10400</td><td>19</td><td>3063.00</td><td>1265793.22</td><td>0.2419826517952118593272</td><td>14761.04</td><td>20.7505704205123758217578</td></tr>",
                            "<tr><td>10532</td><td>19</td><td>796.35</td><td>1265793.22</td><td>0.0629131194113995965312</td><td>14761.04</td><td>5.3949450716209697961661</td></tr>",
                            "<tr><td>10726</td><td>19</td><td>655.00</td><td>1265793.22</td><td>0.0517462085947971818019</td><td>14761.04</td><td>4.4373567174128652181689</td></tr>",
                            "<tr><td>10698</td><td>20</td><td>3436.44</td><td>1265793.22</td><td>0.2714851008603127136358</td><td>104874.99</td><td>3.2767011467653060086108</td></tr>",
                            "<tr><td>10795</td><td>20</td><td>2158.00</td><td>1265793.22</td><td>0.1704859819046905623337</td><td>104874.99</td><td>2.0576879196841878125566</td></tr>",
                            "<tr><td>10776</td><td>20</td><td>6635.28</td><td>1265793.22</td><td>0.5241993633051692281935</td><td>104874.99</td><td>6.3268468488054206250699</td></tr>",
                            "<tr><td>10771</td><td>20</td><td>344.00</td><td>1265793.22</td><td>0.0271766347429163825036</td><td>104874.99</td><td>0.3280095664371457866169</td></tr>",
                            "<tr><td>10773</td><td>20</td><td>2030.40</td><td>1265793.22</td><td>0.1604053464593529739399</td><td>104874.99</td><td>1.9360192549243628056603</td></tr>",
                            "<tr><td>10764</td><td>20</td><td>2286.00</td><td>1265793.22</td><td>0.1805982180881013093118</td><td>104874.99</td><td>2.1797379909166141517629</td></tr>",
                            "<tr><td>10595</td><td>20</td><td>4725.00</td><td>1265793.22</td><td>0.3732837184891857771208</td><td>104874.99</td><td>4.5053639576032379121085</td></tr>",
                            "<tr><td>10571</td><td>20</td><td>550.59</td><td>1265793.22</td><td>0.0434976259392509623333</td><td>104874.99</td><td>0.5249964743739188914344</td></tr>",
                            "<tr><td>10667</td><td>20</td><td>1536.80</td><td>1265793.22</td><td>0.1214100356770752809056</td><td>104874.99</td><td>1.4653636677343187350959</td></tr>",
                            "<tr><td>10633</td><td>20</td><td>5510.59</td><td>1265793.22</td><td>0.4353467780464174077342</td><td>104874.99</td><td>5.2544367346304395356795</td></tr>",
                            "<tr><td>10514</td><td>20</td><td>8623.45</td><td>1265793.22</td><td>0.6812684618424484845952</td><td>104874.99</td><td>8.2225991153848977720999</td></tr>",
                            "<tr><td>10402</td><td>20</td><td>2713.50</td><td>1265793.22</td><td>0.2143715069037895462894</td><td>104874.99</td><td>2.5873661585092880580965</td></tr>",
                            "<tr><td>10403</td><td>20</td><td>855.02</td><td>1265793.22</td><td>0.0675481576682801318844</td><td>104874.99</td><td>0.8152754055089778792827</td></tr>",
                            "<tr><td>10430</td><td>20</td><td>4899.20</td><td>1265793.22</td><td>0.3870458399200463405863</td><td>104874.99</td><td>4.6714664764211181331221</td></tr>",
                            "<tr><td>10442</td><td>20</td><td>1792.00</td><td>1265793.22</td><td>0.1415713065677504576932</td><td>104874.99</td><td>1.7087009972539687488885</td></tr>",
                            "<tr><td>10368</td><td>20</td><td>1689.78</td><td>1265793.22</td><td>0.1334957379531547814737</td><td>104874.99</td><td>1.6112325731806982770630</td></tr>",
                            "<tr><td>10390</td><td>20</td><td>2090.88</td><td>1265793.22</td><td>0.1651833780560145518870</td><td>104874.99</td><td>1.9936879135816842509353</td></tr>",
                            "<tr><td>10382</td><td>20</td><td>2900.00</td><td>1265793.22</td><td>0.2291053510303997362223</td><td>104874.99</td><td>2.7651969263596592476433</td></tr>",
                            "<tr><td>10351</td><td>20</td><td>5398.73</td><td>1265793.22</td><td>0.4265096316442586096329</td><td>104874.99</td><td>5.1477764145674769551825</td></tr>",
                            "<tr><td>10258</td><td>20</td><td>1614.88</td><td>1265793.22</td><td>0.1275784997489558365623</td><td>104874.99</td><td>1.5398142111860988020118</td></tr>",
                            "<tr><td>10263</td><td>20</td><td>1873.80</td><td>1265793.22</td><td>0.1480336575037113881839</td><td>104874.99</td><td>1.7866986209009412062876</td></tr>",
                            "<tr><td>10979</td><td>20</td><td>4813.50</td><td>1265793.22</td><td>0.3802753817878721138986</td><td>104874.99</td><td>4.5897501396662826857003</td></tr>",
                            "<tr><td>10990</td><td>20</td><td>4288.85</td><td>1265793.22</td><td>0.3388270637126654857576</td><td>104874.99</td><td>4.0894878750405601945706</td></tr>",
                            "<tr><td>11008</td><td>20</td><td>4680.90</td><td>1265793.22</td><td>0.3697997371166200432010</td><td>104874.99</td><td>4.4633138939989410249288</td></tr>",
                            "<tr><td>11017</td><td>20</td><td>6750.00</td><td>1265793.22</td><td>0.5332624549845511101726</td><td>104874.99</td><td>6.4362342251474827315835</td></tr>",
                            "<tr><td>11072</td><td>20</td><td>5218.00</td><td>1265793.22</td><td>0.4122316281643537322786</td><td>104874.99</td><td>4.9754474350843799842078</td></tr>",
                            "<tr><td>10895</td><td>20</td><td>6379.40</td><td>1265793.22</td><td>0.5039843711597696818126</td><td>104874.99</td><td>6.0828611282823483463502</td></tr>",
                            "<tr><td>10836</td><td>20</td><td>4705.50</td><td>1265793.22</td><td>0.3717431825081192961359</td><td>104874.99</td><td>4.4867703920639229619950</td></tr>",
                            "<tr><td>10854</td><td>20</td><td>2966.50</td><td>1265793.22</td><td>0.2343589737350623508632</td><td>104874.99</td><td>2.8286057524296307441840</td></tr>",
                            "<tr><td>10968</td><td>20</td><td>1408.00</td><td>1265793.22</td><td>0.1112345980175182167589</td><td>104874.99</td><td>1.3425507835566897312695</td></tr>",
                            "<tr><td>10347</td><td>21</td><td>814.42</td><td>1265793.22</td><td>0.0643406827538545355773</td><td>4107.55</td><td>19.8273910238463317549390</td></tr>",
                            "<tr><td>10386</td><td>21</td><td>166.00</td><td>1265793.22</td><td>0.0131143063003608124872</td><td>4107.55</td><td>4.0413385107911041861937</td></tr>",
                            "<tr><td>10414</td><td>21</td><td>224.83</td><td>1265793.22</td><td>0.0177619848524706112740</td><td>4107.55</td><td>5.4735791408503852661562</td></tr>",
                            "<tr><td>10512</td><td>21</td><td>525.30</td><td>1265793.22</td><td>0.0414996692745755108405</td><td>4107.55</td><td>12.7886452995094399337804</td></tr>",
                            "<tr><td>10650</td><td>21</td><td>1779.20</td><td>1265793.22</td><td>0.1405600829494093829954</td><td>4107.55</td><td>43.3153583036116419763606</td></tr>",
                            "<tr><td>10581</td><td>21</td><td>310.00</td><td>1265793.22</td><td>0.0244905720066979028375</td><td>4107.55</td><td>7.5470779418388090224099</td></tr>",
                            "<tr><td>10725</td><td>21</td><td>287.80</td><td>1265793.22</td><td>0.0227367310436376014085</td><td>4107.55</td><td>7.0066097795522878601599</td></tr>",
                            "<tr><td>10763</td><td>23</td><td>616.00</td><td>1265793.22</td><td>0.0486651366326642198320</td><td>11666.90</td><td>5.2798944021119577608447</td></tr>",
                            "<tr><td>10789</td><td>23</td><td>3687.00</td><td>1265793.22</td><td>0.2912798031893392508454</td><td>11666.90</td><td>31.6022250983551757536277</td></tr>",
                            "<tr><td>10634</td><td>23</td><td>4985.50</td><td>1265793.22</td><td>0.3938636991593303051504</td><td>11666.90</td><td>42.7320025028070867154085</td></tr>",
                            "<tr><td>10480</td><td>23</td><td>756.00</td><td>1265793.22</td><td>0.0597253949582697243393</td><td>11666.90</td><td>6.4798704025919481610367</td></tr>",
                            "<tr><td>10408</td><td>23</td><td>1622.40</td><td>1265793.22</td><td>0.1281725936247312179472</td><td>11666.90</td><td>13.9060075941338316090821</td></tr>",
                            "<tr><td>10434</td><td>24</td><td>321.12</td><td>1265793.22</td><td>0.0253690725251317114812</td><td>29567.57</td><td>1.0860547552605777207934</td></tr>",
                            "<tr><td>10460</td><td>24</td><td>176.10</td><td>1265793.22</td><td>0.0139122249367080667409</td><td>29567.57</td><td>0.5955849601438332605621</td></tr>",
                            "<tr><td>10533</td><td>24</td><td>2222.20</td><td>1265793.22</td><td>0.1755579003654325151149</td><td>29567.57</td><td>7.5156666577605126156799</td></tr>",
                            "<tr><td>10378</td><td>24</td><td>103.20</td><td>1265793.22</td><td>0.0081529904228749147510</td><td>29567.57</td><td>0.3490310498968971748439</td></tr>",
                            "<tr><td>10327</td><td>24</td><td>1810.00</td><td>1265793.22</td><td>0.1429933397810425939870</td><td>29567.57</td><td>6.1215717084630221556928</td></tr>",
                            "<tr><td>10264</td><td>24</td><td>695.63</td><td>1265793.22</td><td>0.0549560535645782650028</td><td>29567.57</td><td>2.3526789655017304431848</td></tr>",
                            "<tr><td>10561</td><td>24</td><td>2844.50</td><td>1265793.22</td><td>0.2247207486227489826497</td><td>29567.57</td><td>9.6203374169740699015847</td></tr>",
                            "<tr><td>10762</td><td>24</td><td>4337.00</td><td>1265793.22</td><td>0.3426310025582219503435</td><td>29567.57</td><td>14.6680975135934403807955</td></tr>",
                            "<tr><td>10774</td><td>24</td><td>868.75</td><td>1265793.22</td><td>0.0686328530026413002907</td><td>29567.57</td><td>2.9381853158714091147835</td></tr>",
                            "<tr><td>10824</td><td>24</td><td>250.80</td><td>1265793.22</td><td>0.0198136627718704323601</td><td>29567.57</td><td>0.8482266212610640644462</td></tr>",
                            "<tr><td>10703</td><td>24</td><td>2545.00</td><td>1265793.22</td><td>0.2010596959904714926502</td><td>29567.57</td><td>8.6074033138333654067615</td></tr>",
                            "<tr><td>10977</td><td>24</td><td>2233.00</td><td>1265793.22</td><td>0.1764111202934077968911</td><td>29567.57</td><td>7.5521931629822809246752</td></tr>",
                            "<tr><td>10955</td><td>24</td><td>74.40</td><td>1265793.22</td><td>0.0058777372816074966810</td><td>29567.57</td><td>0.2516270359721816841898</td></tr>",
                            "<tr><td>10902</td><td>24</td><td>863.43</td><td>1265793.22</td><td>0.0682125631862682911194</td><td>29567.57</td><td>2.9201926299658713922043</td></tr>",
                            "<tr><td>10880</td><td>24</td><td>1500.00</td><td>1265793.22</td><td>0.1185027677743446911494</td><td>29567.57</td><td>5.0731257252455984715686</td></tr>",
                            "<tr><td>11050</td><td>24</td><td>810.00</td><td>1265793.22</td><td>0.0639914945981461332207</td><td>29567.57</td><td>2.7394878916326231746470</td></tr>",
                            "<tr><td>11001</td><td>24</td><td>2769.00</td><td>1265793.22</td><td>0.2187561093114402998619</td><td>29567.57</td><td>9.3649900888033747785157</td></tr>",
                            "<tr><td>10993</td><td>24</td><td>4895.44</td><td>1265793.22</td><td>0.3867487929821586498938</td><td>29567.57</td><td>16.5567884002642083877707</td></tr>",
                            "<tr><td>10980</td><td>24</td><td>248.00</td><td>1265793.22</td><td>0.0195924576053583222700</td><td>29567.57</td><td>0.8387567865739389472993</td></tr>",
                            "<tr><td>11012</td><td>25</td><td>2825.30</td><td>1265793.22</td><td>0.2232039131952373706030</td><td>26656.57</td><td>10.5988880039705033318240</td></tr>",
                            "<tr><td>10859</td><td>25</td><td>1078.69</td><td>1265793.22</td><td>0.0852185003803385832640</td><td>26656.57</td><td>4.0466196513654982617793</td></tr>",
                            "<tr><td>10929</td><td>25</td><td>1174.75</td><td>1265793.22</td><td>0.0928074176286076172852</td><td>26656.57</td><td>4.4069810932164190666691</td></tr>",
                            "<tr><td>10717</td><td>25</td><td>1270.75</td><td>1265793.22</td><td>0.1003915947661656775187</td><td>26656.57</td><td>4.7671174498444473538793</td></tr>",
                            "<tr><td>10791</td><td>25</td><td>1829.76</td><td>1265793.22</td><td>0.1445544162418566280517</td><td>26656.57</td><td>6.8641989573302191542272</td></tr>",
                            "<tr><td>10560</td><td>25</td><td>1072.43</td><td>1265793.22</td><td>0.0847239488294936514196</td><td>26656.57</td><td>4.0231357597770455838841</td></tr>",
                            "<tr><td>10623</td><td>25</td><td>1336.95</td><td>1265793.22</td><td>0.1056215169172734232215</td><td>26656.57</td><td>5.0154614791025251936014</td></tr>",
                            "<tr><td>10653</td><td>25</td><td>1083.15</td><td>1265793.22</td><td>0.0855708486098543014790</td><td>26656.57</td><td>4.0633509862671754092893</td></tr>",
                            "<tr><td>10670</td><td>25</td><td>2301.75</td><td>1265793.22</td><td>0.1818424971497319285688</td><td>26656.57</td><td>8.6348318632142094800643</td></tr>",
                            "<tr><td>10675</td><td>25</td><td>1423.00</td><td>1265793.22</td><td>0.1124196256952616636704</td><td>26656.57</td><td>5.3382712029342109656268</td></tr>",
                            "<tr><td>10267</td><td>25</td><td>3536.60</td><td>1265793.22</td><td>0.2793979256738316231461</td><td>26656.57</td><td>13.2672733213613004223724</td></tr>",
                            "<tr><td>10342</td><td>25</td><td>1840.64</td><td>1265793.22</td><td>0.1454139563174465415449</td><td>26656.57</td><td>6.9050144110813956934444</td></tr>",
                            "<tr><td>10337</td><td>25</td><td>2467.00</td><td>1265793.22</td><td>0.1948975520662055687105</td><td>26656.57</td><td>9.2547540812640185890382</td></tr>",
                            "<tr><td>10488</td><td>25</td><td>1512.00</td><td>1265793.22</td><td>0.1194507899165394486786</td><td>26656.57</td><td>5.6721476168914455235613</td></tr>",
                            "<tr><td>10396</td><td>25</td><td>1903.80</td><td>1265793.22</td><td>0.1504037128591982820069</td><td>26656.57</td><td>7.1419541223795859707381</td></tr>",
                            "<tr><td>10671</td><td>26</td><td>920.10</td><td>1265793.22</td><td>0.0726895977527830335510</td><td>3172.16</td><td>29.0054726117219812367598</td></tr>",
                            "<tr><td>10971</td><td>26</td><td>1733.06</td><td>1265793.22</td><td>0.1369149378126705402956</td><td>3172.16</td><td>54.6334358922626853626550</td></tr>",
                            "<tr><td>10860</td><td>26</td><td>519.00</td><td>1265793.22</td><td>0.0410019576499232631377</td><td>3172.16</td><td>16.3610914960153334005850</td></tr>",
                            "<tr><td>11026</td><td>27</td><td>1030.00</td><td>1265793.22</td><td>0.0813719005383833545893</td><td>1545.70</td><td>66.6364753833214724720191</td></tr>",
                            "<tr><td>11060</td><td>27</td><td>266.00</td><td>1265793.22</td><td>0.0210144908186504585638</td><td>1545.70</td><td>17.2090315067606909490845</td></tr>",
                            "<tr><td>10807</td><td>27</td><td>18.40</td><td>1265793.22</td><td>0.0014536339513652948781</td><td>1545.70</td><td>1.1903991718962282461020</td></tr>",
                            "<tr><td>10710</td><td>27</td><td>93.50</td><td>1265793.22</td><td>0.0073866725246008190816</td><td>1545.70</td><td>6.0490392702335511418774</td></tr>",
                            "<tr><td>10753</td><td>27</td><td>88.00</td><td>1265793.22</td><td>0.0069521623760948885474</td><td>1545.70</td><td>5.6932134308080481335317</td></tr>",
                            "<tr><td>10422</td><td>27</td><td>49.80</td><td>1265793.22</td><td>0.0039342918901082437461</td><td>1545.70</td><td>3.2218412369800090573850</td></tr>",
                            "<tr><td>10491</td><td>28</td><td>259.51</td><td>1265793.22</td><td>0.0205017688434134605334</td><td>6427.43</td><td>4.0375391097219261820043</td></tr>",
                            "<tr><td>10464</td><td>28</td><td>1609.28</td><td>1265793.22</td><td>0.1271360894159316163820</td><td>6427.43</td><td>25.0376900254067333288732</td></tr>",
                            "<tr><td>10352</td><td>28</td><td>136.30</td><td>1265793.22</td><td>0.0107679514984287876024</td><td>6427.43</td><td>2.1205987463107338391861</td></tr>",
                            "<tr><td>10328</td><td>28</td><td>1168.00</td><td>1265793.22</td><td>0.0922741551736230661750</td><td>6427.43</td><td>18.1721154489430456652192</td></tr>",
                            "<tr><td>10664</td><td>28</td><td>1288.39</td><td>1265793.22</td><td>0.1017851873151919710867</td><td>6427.43</td><td>20.0451813555340159286059</td></tr>",
                            "<tr><td>10551</td><td>28</td><td>1677.30</td><td>1265793.22</td><td>0.1325097949252722336433</td><td>6427.43</td><td>26.0959668172193240533152</td></tr>",
                            "<tr><td>10604</td><td>28</td><td>230.85</td><td>1265793.22</td><td>0.0182375759604716479679</td><td>6427.43</td><td>3.5916377152298819279245</td></tr>",
                            "<tr><td>10963</td><td>28</td><td>57.80</td><td>1265793.22</td><td>0.0045663066515714154322</td><td>6427.43</td><td>0.8992707816343390748712</td></tr>",
                            "<tr><td>10928</td><td>29</td><td>137.50</td><td>1265793.22</td><td>0.0108627537126482633553</td><td>836.70</td><td>16.4336082227799689255408</td></tr>",
                            "<tr><td>10887</td><td>29</td><td>70.00</td><td>1265793.22</td><td>0.0055301291628027522536</td><td>836.70</td><td>8.3662005497788932711844</td></tr>",
                            "<tr><td>10568</td><td>29</td><td>155.00</td><td>1265793.22</td><td>0.0122452860033489514187</td><td>836.70</td><td>18.5251583602246922433369</td></tr>",
                            "<tr><td>10366</td><td>29</td><td>136.00</td><td>1265793.22</td><td>0.0107442509448739186642</td><td>836.70</td><td>16.2543324967132783554440</td></tr>",
                            "<tr><td>10426</td><td>29</td><td>338.20</td><td>1265793.22</td><td>0.0267184240408555830311</td><td>836.70</td><td>40.4207003705031672044938</td></tr>",
                            "<tr><td>10303</td><td>30</td><td>1117.80</td><td>1265793.22</td><td>0.0883082625454416638445</td><td>11446.36</td><td>9.7655499215471119202960</td></tr>",
                            "<tr><td>10550</td><td>30</td><td>683.30</td><td>1265793.22</td><td>0.0539819608134731516416</td><td>11446.36</td><td>5.9695833435258020890483</td></tr>",
                            "<tr><td>10629</td><td>30</td><td>2775.05</td><td>1265793.22</td><td>0.2192340704747968234495</td><td>11446.36</td><td>24.2439517890403586817119</td></tr>",
                            "<tr><td>10888</td><td>30</td><td>605.00</td><td>1265793.22</td><td>0.0477961163356523587636</td><td>11446.36</td><td>5.2855230833208111574334</td></tr>",
                            "<tr><td>10872</td><td>30</td><td>2058.46</td><td>1265793.22</td><td>0.1626221382351850486290</td><td>11446.36</td><td>17.9835336299050527853396</td></tr>",
                            "<tr><td>10874</td><td>30</td><td>310.00</td><td>1265793.22</td><td>0.0244905720066979028375</td><td>11446.36</td><td>2.7082845550900024112468</td></tr>",
                            "<tr><td>10911</td><td>30</td><td>858.00</td><td>1265793.22</td><td>0.0677835831669251633374</td><td>11446.36</td><td>7.4958327363458776414510</td></tr>",
                            "<tr><td>10948</td><td>30</td><td>2362.25</td><td>1265793.22</td><td>0.1866221087832971644452</td><td>11446.36</td><td>20.6375651298753490192515</td></tr>",
                            "<tr><td>11037</td><td>30</td><td>60.00</td><td>1265793.22</td><td>0.0047401107109737876459</td><td>11446.36</td><td>0.5241841074367746602413</td></tr>",
                            "<tr><td>11009</td><td>30</td><td>616.50</td><td>1265793.22</td><td>0.0487046375552556680624</td><td>11446.36</td><td>5.3859917039128596339797</td></tr>",
                            "<tr><td>11049</td><td>31</td><td>273.60</td><td>1265793.22</td><td>0.0216149048420404716656</td><td>8414.14</td><td>3.2516692139660143520312</td></tr>",
                            "<tr><td>10959</td><td>31</td><td>131.75</td><td>1265793.22</td><td>0.0104084931028466087059</td><td>8414.14</td><td>1.5658165896930642941524</td></tr>",
                            "<tr><td>10652</td><td>31</td><td>318.84</td><td>1265793.22</td><td>0.0251889483181147075507</td><td>8414.14</td><td>3.7893355708367105848012</td></tr>",
                            "<tr><td>10734</td><td>31</td><td>1498.35</td><td>1265793.22</td><td>0.1183724147297929119892</td><td>8414.14</td><td>17.8075240012645380276534</td></tr>",
                            "<tr><td>10709</td><td>31</td><td>3424.00</td><td>1265793.22</td><td>0.2705023179062374816638</td><td>8414.14</td><td>40.6934041981711737622620</td></tr>",
                            "<tr><td>10685</td><td>31</td><td>801.10</td><td>1265793.22</td><td>0.0632883781760183547198</td><td>8414.14</td><td>9.5208779506877708238750</td></tr>",
                            "<tr><td>10790</td><td>31</td><td>722.50</td><td>1265793.22</td><td>0.0570788331446426929036</td><td>8414.14</td><td>8.5867361370264816130941</td></tr>",
                            "<tr><td>10777</td><td>31</td><td>224.00</td><td>1265793.22</td><td>0.0176964133209688072116</td><td>8414.14</td><td>2.6621853213756842648208</td></tr>",
                            "<tr><td>10423</td><td>31</td><td>1020.00</td><td>1265793.22</td><td>0.0805818820865543899816</td><td>8414.14</td><td>12.1224510169785622773093</td></tr>",
                            "<tr><td>10528</td><td>32</td><td>392.20</td><td>1265793.22</td><td>0.0309845236807319919125</td><td>18507.46</td><td>2.1191454689082132286115</td></tr>",
                            "<tr><td>10816</td><td>32</td><td>8446.45</td><td>1265793.22</td><td>0.6672851352450758110396</td><td>18507.46</td><td>45.6380832377862764528465</td></tr>",
                            "<tr><td>10656</td><td>32</td><td>604.22</td><td>1265793.22</td><td>0.0477344948964096995242</td><td>18507.46</td><td>3.2647375706877118740226</td></tr>",
                            "<tr><td>10681</td><td>32</td><td>1287.40</td><td>1265793.22</td><td>0.1017069754884609035905</td><td>18507.46</td><td>6.9561139129842776912661</td></tr>",
                            "<tr><td>10616</td><td>32</td><td>4807.00</td><td>1265793.22</td><td>0.3797618697941832869036</td><td>18507.46</td><td>25.9733102219321289901477</td></tr>",
                            "<tr><td>10617</td><td>32</td><td>1402.50</td><td>1265793.22</td><td>0.1108000878690122862247</td><td>18507.46</td><td>7.5780252935843168106266</td></tr>",
                            "<tr><td>10589</td><td>32</td><td>72.00</td><td>1265793.22</td><td>0.0056881328531685451751</td><td>18507.46</td><td>0.3890323145369488843958</td></tr>",
                            "<tr><td>10936</td><td>32</td><td>456.00</td><td>1265793.22</td><td>0.0360248414034007861094</td><td>18507.46</td><td>2.4638713254006762678401</td></tr>",
                            "<tr><td>11040</td><td>32</td><td>200.00</td><td>1265793.22</td><td>0.0158003690365792921532</td><td>18507.46</td><td>1.0806453181581913455439</td></tr>",
                            "<tr><td>11006</td><td>32</td><td>329.69</td><td>1265793.22</td><td>0.0260461183383491341500</td><td>18507.46</td><td>1.7813897747178705235618</td></tr>",
                            "<tr><td>11061</td><td>32</td><td>510.00</td><td>1265793.22</td><td>0.0402909410432771949908</td><td>18507.46</td><td>2.7556455613033879311369</td></tr>",
                            "<tr><td>10785</td><td>33</td><td>387.50</td><td>1265793.22</td><td>0.0306132150083723785469</td><td>1488.70</td><td>26.0294216430442668099684</td></tr>",
                            "<tr><td>10268</td><td>33</td><td>1101.20</td><td>1265793.22</td><td>0.0869968319154055825958</td><td>1488.70</td><td>73.9705783569557331900315</td></tr>",
                            "<tr><td>10253</td><td>34</td><td>1444.80</td><td>1265793.22</td><td>0.1141418659202488065151</td><td>32841.37</td><td>4.3993292606246328944255</td></tr>",
                            "<tr><td>10250</td><td>34</td><td>1552.60</td><td>1265793.22</td><td>0.1226582648309650449857</td><td>32841.37</td><td>4.7275737887913932944941</td></tr>",
                            "<tr><td>10783</td><td>34</td><td>1442.50</td><td>1265793.22</td><td>0.1139601616763281446554</td><td>32841.37</td><td>4.3923258987064181549064</td></tr>",
                            "<tr><td>10770</td><td>34</td><td>236.25</td><td>1265793.22</td><td>0.0186641859244592888560</td><td>32841.37</td><td>0.7193670665992313962541</td></tr>",
                            "<tr><td>10690</td><td>34</td><td>862.50</td><td>1265793.22</td><td>0.0681390914702481974109</td><td>32841.37</td><td>2.6262607193305273196581</td></tr>",
                            "<tr><td>10541</td><td>34</td><td>1946.52</td><td>1265793.22</td><td>0.1537786716854116188108</td><td>32841.37</td><td>5.9270365395840672907372</td></tr>",
                            "<tr><td>10645</td><td>34</td><td>1535.00</td><td>1265793.22</td><td>0.1212678323557460672762</td><td>32841.37</td><td>4.6739828454172283312176</td></tr>",
                            "<tr><td>11052</td><td>34</td><td>1332.00</td><td>1265793.22</td><td>0.1052304577836180857407</td><td>32841.37</td><td>4.0558600326356665388806</td></tr>",
                            "<tr><td>10981</td><td>34</td><td>15810.00</td><td>1265793.22</td><td>1.2490191723415930447154</td><td>32841.37</td><td>48.1405008378152312159937</td></tr>",
                            "<tr><td>11022</td><td>34</td><td>1402.00</td><td>1265793.22</td><td>0.1107605869464208379943</td><td>32841.37</td><td>4.2690058301465499155485</td></tr>",
                            "<tr><td>10925</td><td>34</td><td>475.15</td><td>1265793.22</td><td>0.0375377267386532533331</td><td>32841.37</td><td>1.4468032241042319489107</td></tr>",
                            "<tr><td>10922</td><td>34</td><td>742.50</td><td>1265793.22</td><td>0.0586588700483006221189</td><td>32841.37</td><td>2.2608679235975843882274</td></tr>",
                            "<tr><td>10903</td><td>34</td><td>932.05</td><td>1265793.22</td><td>0.0736336698027186462572</td><td>32841.37</td><td>2.8380362938574121603331</td></tr>",
                            "<tr><td>10886</td><td>34</td><td>3127.50</td><td>1265793.22</td><td>0.2470782708095086810466</td><td>32841.37</td><td>9.5230497387898251504124</td></tr>",
                            "<tr><td>10901</td><td>35</td><td>934.50</td><td>1265793.22</td><td>0.0738272243234167425861</td><td>22768.76</td><td>4.1043078323105869621358</td></tr>",
                            "<tr><td>10863</td><td>35</td><td>441.15</td><td>1265793.22</td><td>0.0348516640024347736670</td><td>22768.76</td><td>1.9375231677087377617402</td></tr>",
                            "<tr><td>10960</td><td>35</td><td>265.35</td><td>1265793.22</td><td>0.0209631396192815758643</td><td>22768.76</td><td>1.1654126092066498131650</td></tr>",
                            "<tr><td>10957</td><td>35</td><td>1762.70</td><td>1265793.22</td><td>0.1392565525038915913927</td><td>22768.76</td><td>7.7417479037066577187339</td></tr>",
                            "<tr><td>10976</td><td>35</td><td>912.00</td><td>1265793.22</td><td>0.0720496828068015722188</td><td>22768.76</td><td>4.0054882215807975489222</td></tr>",
                            "<tr><td>11055</td><td>35</td><td>1727.50</td><td>1265793.22</td><td>0.1364756875534536359738</td><td>22768.76</td><td>7.5871501126982760589509</td></tr>",
                            "<tr><td>10641</td><td>35</td><td>2054.00</td><td>1265793.22</td><td>0.1622697900056693304140</td><td>22768.76</td><td>9.0211324639549979884719</td></tr>",
                            "<tr><td>10552</td><td>35</td><td>880.50</td><td>1265793.22</td><td>0.0695611246835403337047</td><td>22768.76</td><td>3.8671407665590923704233</td></tr>",
                            "<tr><td>10613</td><td>35</td><td>353.20</td><td>1265793.22</td><td>0.0279034517185990299426</td><td>22768.76</td><td>1.5512482893227386998677</td></tr>",
                            "<tr><td>10601</td><td>35</td><td>2285.00</td><td>1265793.22</td><td>0.1805192162429184128510</td><td>22768.76</td><td>10.0356804674475026307976</td></tr>",
                            "<tr><td>10705</td><td>35</td><td>378.00</td><td>1265793.22</td><td>0.0298626974791348621696</td><td>22768.76</td><td>1.6601694602604621419875</td></tr>",
                            "<tr><td>10796</td><td>35</td><td>2341.36</td><td>1265793.22</td><td>0.1849717602374264573798</td><td>22768.76</td><td>10.2832126123688773565183</td></tr>",
                            "<tr><td>10257</td><td>35</td><td>1119.90</td><td>1265793.22</td><td>0.0884741664203257464121</td><td>22768.76</td><td>4.9185814247240517270154</td></tr>",
                            "<tr><td>10476</td><td>35</td><td>180.48</td><td>1265793.22</td><td>0.0142582530186091532391</td><td>22768.76</td><td>0.7926650375338841465235</td></tr>",
                            "<tr><td>10498</td><td>35</td><td>575.00</td><td>1265793.22</td><td>0.0454260609801654649406</td><td>22768.76</td><td>2.5253900519835072265683</td></tr>",
                            "<tr><td>10490</td><td>35</td><td>3163.20</td><td>1265793.22</td><td>0.2498986366825380846960</td><td>22768.76</td><td>13.8927196737986609723146</td></tr>",
                            "<tr><td>10486</td><td>35</td><td>1272.00</td><td>1265793.22</td><td>0.1004903470726442980947</td><td>22768.76</td><td>5.5866019932574281603389</td></tr>",
                            "<tr><td>10395</td><td>35</td><td>2122.92</td><td>1265793.22</td><td>0.1677145971756745544900</td><td>22768.76</td><td>9.3238279115770907155242</td></tr>",
                            "<tr><td>10394</td><td>36</td><td>442.00</td><td>1265793.22</td><td>0.0349188155708402356587</td><td>3063.20</td><td>14.4293549229563854792373</td></tr>",
                            "<tr><td>10415</td><td>36</td><td>102.40</td><td>1265793.22</td><td>0.0080897889467285975824</td><td>3063.20</td><td>3.3429093758161399843301</td></tr>",
                            "<tr><td>10375</td><td>36</td><td>338.00</td><td>1265793.22</td><td>0.0267026236718190037390</td><td>3063.20</td><td>11.0342125881431183076521</td></tr>",
                            "<tr><td>10600</td><td>36</td><td>479.80</td><td>1265793.22</td><td>0.0379050853187537218756</td><td>3063.20</td><td>15.6633585792635152781405</td></tr>",
                            "<tr><td>10660</td><td>36</td><td>1701.00</td><td>1265793.22</td><td>0.1343821386561068797635</td><td>3063.20</td><td>55.5301645338208409506398</td></tr>",
                            "<tr><td>10661</td><td>37</td><td>562.60</td><td>1265793.22</td><td>0.0444464380998975488271</td><td>49979.91</td><td>1.1256522870889523410506</td></tr>",
                            "<tr><td>10646</td><td>37</td><td>1446.00</td><td>1265793.22</td><td>0.1142366681344682822680</td><td>49979.91</td><td>2.8931624726815234361166</td></tr>",
                            "<tr><td>10567</td><td>37</td><td>2519.00</td><td>1265793.22</td><td>0.1990056480157161846703</td><td>49979.91</td><td>5.0400250820779789319348</td></tr>",
                            "<tr><td>10701</td><td>37</td><td>2864.50</td><td>1265793.22</td><td>0.2263007855264069118651</td><td>49979.91</td><td>5.7313028374800995039806</td></tr>",
                            "<tr><td>10712</td><td>37</td><td>1233.48</td><td>1265793.22</td><td>0.0974471959961991264260</td><td>49979.91</td><td>2.4679516229621061742608</td></tr>",
                            "<tr><td>10687</td><td>37</td><td>4960.90</td><td>1265793.22</td><td>0.3919202537678310522156</td><td>49979.91</td><td>9.9257881816914036059688</td></tr>",
                            "<tr><td>10736</td><td>37</td><td>997.00</td><td>1265793.22</td><td>0.0787648396473477713840</td><td>49979.91</td><td>1.9948015112472191326474</td></tr>",
                            "<tr><td>10373</td><td>37</td><td>1366.40</td><td>1265793.22</td><td>0.1079481212579097239910</td><td>49979.91</td><td>2.7338984804094285083746</td></tr>",
                            "<tr><td>10380</td><td>37</td><td>1313.82</td><td>1265793.22</td><td>0.1037942042381930280840</td><td>49979.91</td><td>2.6286962101372331402757</td></tr>",
                            "<tr><td>10335</td><td>37</td><td>2036.16</td><td>1265793.22</td><td>0.1608603970876064575539</td><td>49979.91</td><td>4.0739569158888041214960</td></tr>",
                            "<tr><td>10309</td><td>37</td><td>1762.00</td><td>1265793.22</td><td>0.1392012512122635638702</td><td>49979.91</td><td>3.5254165123546641040370</td></tr>",
                            "<tr><td>10298</td><td>37</td><td>2645.00</td><td>1265793.22</td><td>0.2089598805087611387269</td><td>49979.91</td><td>5.2921263763780286919284</td></tr>",
                            "<tr><td>10429</td><td>37</td><td>1441.38</td><td>1265793.22</td><td>0.1138716796097233006193</td><td>49979.91</td><td>2.8839187585571882782502</td></tr>",
                            "<tr><td>10516</td><td>37</td><td>2381.05</td><td>1265793.22</td><td>0.1881073434727356179076</td><td>49979.91</td><td>4.7640141808978847701006</td></tr>",
                            "<tr><td>10503</td><td>37</td><td>2048.50</td><td>1265793.22</td><td>0.1618352798571633998798</td><td>49979.91</td><td>4.0986468362988248678318</td></tr>",
                            "<tr><td>11063</td><td>37</td><td>1342.95</td><td>1265793.22</td><td>0.1060955279883708019861</td><td>49979.91</td><td>2.6869796284146970252647</td></tr>",
                            "<tr><td>10985</td><td>37</td><td>2023.38</td><td>1265793.22</td><td>0.1598507535061690407853</td><td>49979.91</td><td>4.0483866417526562172680</td></tr>",
                            "<tr><td>10912</td><td>37</td><td>6200.55</td><td>1265793.22</td><td>0.4898548911488086498045</td><td>49979.91</td><td>12.4060847648585201533976</td></tr>",
                            "<tr><td>10897</td><td>37</td><td>10835.24</td><td>1265793.22</td><td>0.8560039529995270475536</td><td>49979.91</td><td>21.6791906988227869958149</td></tr>",
                            "<tr><td>10933</td><td>38</td><td>920.60</td><td>1265793.22</td><td>0.0727290986753744817814</td><td>6146.30</td><td>14.9781169158680832370694</td></tr>",
                            "<tr><td>10473</td><td>38</td><td>230.40</td><td>1265793.22</td><td>0.0182020251301393445605</td><td>6146.30</td><td>3.7485967167238826611131</td></tr>",
                            "<tr><td>10315</td><td>38</td><td>516.80</td><td>1265793.22</td><td>0.0408281535905208909240</td><td>6146.30</td><td>8.4083106909848201356913</td></tr>",
                            "<tr><td>10318</td><td>38</td><td>240.40</td><td>1265793.22</td><td>0.0189920435819683091682</td><td>6146.30</td><td>3.9112962269983567349462</td></tr>",
                            "<tr><td>10321</td><td>38</td><td>144.00</td><td>1265793.22</td><td>0.0113762657063370903503</td><td>6146.30</td><td>2.3428729479524266631957</td></tr>",
                            "<tr><td>10749</td><td>38</td><td>1080.00</td><td>1265793.22</td><td>0.0853219927975281776276</td><td>6146.30</td><td>17.5715471096431999739680</td></tr>",
                            "<tr><td>10798</td><td>38</td><td>446.60</td><td>1265793.22</td><td>0.0352822240586815593782</td><td>6146.30</td><td>7.2661601288580121373834</td></tr>",
                            "<tr><td>10829</td><td>38</td><td>1764.00</td><td>1265793.22</td><td>0.1393592549026293567917</td><td>6146.30</td><td>28.7001936124172266241478</td></tr>",
                            "<tr><td>10621</td><td>38</td><td>758.50</td><td>1265793.22</td><td>0.0599228995712269654912</td><td>6146.30</td><td>12.3407578543188585002359</td></tr>",
                            "<tr><td>10674</td><td>38</td><td>45.00</td><td>1265793.22</td><td>0.0035550830332303407344</td><td>6146.30</td><td>0.7321477962351333322486</td></tr>",
                            "<tr><td>10630</td><td>39</td><td>903.60</td><td>1265793.22</td><td>0.0713860673072652419484</td><td>30908.39</td><td>2.9234780588700996719660</td></tr>",
                            "<tr><td>10542</td><td>39</td><td>469.11</td><td>1265793.22</td><td>0.0370605555937485587100</td><td>30908.39</td><td>1.5177432405893674824214</td></tr>",
                            "<tr><td>10817</td><td>39</td><td>10952.85</td><td>1265793.22</td><td>0.8652953600114875003043</td><td>30908.39</td><td>35.4364947511015617442383</td></tr>",
                            "<tr><td>10799</td><td>39</td><td>1553.50</td><td>1265793.22</td><td>0.1227293664916296518004</td><td>30908.39</td><td>5.0261433869573924749881</td></tr>",
                            "<tr><td>10718</td><td>39</td><td>3463.00</td><td>1265793.22</td><td>0.2735833898683704436337</td><td>30908.39</td><td>11.2040775983478919477850</td></tr>",
                            "<tr><td>10323</td><td>39</td><td>164.40</td><td>1265793.22</td><td>0.0129879033480681781499</td><td>30908.39</td><td>0.5318944144292213214599</td></tr>",
                            "<tr><td>10325</td><td>39</td><td>1497.00</td><td>1265793.22</td><td>0.1182657622387960017671</td><td>30908.39</td><td>4.8433451240909021789876</td></tr>",
                            "<tr><td>10468</td><td>39</td><td>717.60</td><td>1265793.22</td><td>0.0566917241032465002459</td><td>30908.39</td><td>2.3216997067786448922121</td></tr>",
                            "<tr><td>10506</td><td>39</td><td>415.80</td><td>1265793.22</td><td>0.0328489672270483483866</td><td>30908.39</td><td>1.3452657999979940721596</td></tr>",
                            "<tr><td>10456</td><td>39</td><td>557.60</td><td>1265793.22</td><td>0.0440514288739830665232</td><td>30908.39</td><td>1.8040409092806192752194</td></tr>",
                            "<tr><td>10457</td><td>39</td><td>1584.00</td><td>1265793.22</td><td>0.1251389227697079938538</td><td>30908.39</td><td>5.1248220952304536082274</td></tr>",
                            "<tr><td>10893</td><td>39</td><td>5502.11</td><td>1265793.22</td><td>0.4346768423992664457469</td><td>30908.39</td><td>17.8013477893866357969470</td></tr>",
                            "<tr><td>10849</td><td>39</td><td>967.82</td><td>1265793.22</td><td>0.0764595658049108526588</td><td>30908.39</td><td>3.1312533587158697039865</td></tr>",
                            "<tr><td>11028</td><td>39</td><td>2160.00</td><td>1265793.22</td><td>0.1706439855950563552552</td><td>30908.39</td><td>6.9883937662233458294010</td></tr>",
                            "<tr><td>10858</td><td>40</td><td>649.00</td><td>1265793.22</td><td>0.0512721975236998030373</td><td>1992.05</td><td>32.5795035265179086870309</td></tr>",
                            "<tr><td>10927</td><td>40</td><td>800.00</td><td>1265793.22</td><td>0.0632014761463171686130</td><td>1992.05</td><td>40.1596345473256193368640</td></tr>",
                            "<tr><td>10972</td><td>40</td><td>251.50</td><td>1265793.22</td><td>0.0198689640634984598827</td><td>1992.05</td><td>12.6251851108154915790266</td></tr>",
                            "<tr><td>10973</td><td>40</td><td>291.55</td><td>1265793.22</td><td>0.0230329879630734631364</td><td>1992.05</td><td>14.6356768153409803970783</td></tr>",
                            "<tr><td>10923</td><td>41</td><td>748.80</td><td>1265793.22</td><td>0.0591565816729528698218</td><td>9328.20</td><td>8.0272721425355374027143</td></tr>",
                            "<tr><td>10832</td><td>41</td><td>475.11</td><td>1265793.22</td><td>0.0375345666648459374746</td><td>9328.20</td><td>5.0932655817842670611693</td></tr>",
                            "<tr><td>11051</td><td>41</td><td>36.00</td><td>1265793.22</td><td>0.0028440664265842725875</td><td>9328.20</td><td>0.3859265453142085289766</td></tr>",
                            "<tr><td>10454</td><td>41</td><td>331.20</td><td>1265793.22</td><td>0.0261654111245753078058</td><td>9328.20</td><td>3.5505242168907184665851</td></tr>",
                            "<tr><td>10425</td><td>41</td><td>360.00</td><td>1265793.22</td><td>0.0284406642658427258758</td><td>9328.20</td><td>3.8592654531420852897665</td></tr>",
                            "<tr><td>10413</td><td>41</td><td>2123.20</td><td>1265793.22</td><td>0.1677367176923257654990</td><td>9328.20</td><td>22.7610900280868763534229</td></tr>",
                            "<tr><td>10500</td><td>41</td><td>523.26</td><td>1265793.22</td><td>0.0413385055104024020605</td><td>9328.20</td><td>5.6094423361420209686756</td></tr>",
                            "<tr><td>10493</td><td>41</td><td>608.40</td><td>1265793.22</td><td>0.0480647226092742067302</td><td>9328.20</td><td>6.5221586158101241397054</td></tr>",
                            "<tr><td>10371</td><td>41</td><td>72.96</td><td>1265793.22</td><td>0.0057639746245441257775</td><td>9328.20</td><td>0.7821444651701292853926</td></tr>",
                            "<tr><td>10358</td><td>41</td><td>429.40</td><td>1265793.22</td><td>0.0339233923215357402530</td><td>9328.20</td><td>4.6032460710533650650715</td></tr>",
                            "<tr><td>10350</td><td>41</td><td>642.06</td><td>1265793.22</td><td>0.0507239247181305015996</td><td>9328.20</td><td>6.8829999356789091142985</td></tr>",
                            "<tr><td>10787</td><td>41</td><td>2622.76</td><td>1265793.22</td><td>0.2072028794718935214394</td><td>9328.20</td><td>28.1164640552303767071889</td></tr>",
                            "<tr><td>10610</td><td>41</td><td>299.25</td><td>1265793.22</td><td>0.0236413021709817658843</td><td>9328.20</td><td>3.2080144079243583971184</td></tr>",
                            "<tr><td>10631</td><td>41</td><td>55.80</td><td>1265793.22</td><td>0.0044083029612056225107</td><td>9328.20</td><td>0.5981861452370232199138</td></tr>",
                            "<tr><td>10620</td><td>42</td><td>57.50</td><td>1265793.22</td><td>0.0045426060980165464940</td><td>522.50</td><td>11.0047846889952153110047</td></tr>",
                            "<tr><td>10810</td><td>42</td><td>187.00</td><td>1265793.22</td><td>0.0147733450492016381633</td><td>522.50</td><td>35.7894736842105263157894</td></tr>",
                            "<tr><td>10495</td><td>42</td><td>278.00</td><td>1265793.22</td><td>0.0219625129608452160930</td><td>522.50</td><td>53.2057416267942583732057</td></tr>",
                            "<tr><td>10482</td><td>43</td><td>147.00</td><td>1265793.22</td><td>0.0116132712418857797326</td><td>357.00</td><td>41.1764705882352941176470</td></tr>",
                            "<tr><td>10545</td><td>43</td><td>210.00</td><td>1265793.22</td><td>0.0165903874884082567609</td><td>357.00</td><td>58.8235294117647058823529</td></tr>",
                            "<tr><td>10557</td><td>44</td><td>1152.50</td><td>1265793.22</td><td>0.0910496265732881710331</td><td>19261.42</td><td>5.9834633168271082817362</td></tr>",
                            "<tr><td>10592</td><td>44</td><td>516.47</td><td>1265793.22</td><td>0.0408020829816105350919</td><td>19261.42</td><td>2.6813703247216456522935</td></tr>",
                            "<tr><td>10593</td><td>44</td><td>1994.40</td><td>1265793.22</td><td>0.1575612800327687013523</td><td>19261.42</td><td>10.3543767801127850386939</td></tr>",
                            "<tr><td>10772</td><td>44</td><td>3603.22</td><td>1265793.22</td><td>0.2846610285999161853624</td><td>19261.42</td><td>18.7069281496379810003623</td></tr>",
                            "<tr><td>10497</td><td>44</td><td>1380.60</td><td>1265793.22</td><td>0.1090699474595068537339</td><td>19261.42</td><td>7.1676958396629116648720</td></tr>",
                            "<tr><td>10522</td><td>44</td><td>2318.24</td><td>1265793.22</td><td>0.1831452375767978912069</td><td>19261.42</td><td>12.0356650755759440373555</td></tr>",
                            "<tr><td>10534</td><td>44</td><td>465.70</td><td>1265793.22</td><td>0.0367911593016748817788</td><td>19261.42</td><td>2.4177864352680124310668</td></tr>",
                            "<tr><td>10536</td><td>44</td><td>1645.00</td><td>1265793.22</td><td>0.1299580353258646779605</td><td>19261.42</td><td>8.5403879880091914303306</td></tr>",
                            "<tr><td>10343</td><td>44</td><td>1584.00</td><td>1265793.22</td><td>0.1251389227697079938538</td><td>19261.42</td><td>8.2236927495480603195403</td></tr>",
                            "<tr><td>10284</td><td>44</td><td>1170.38</td><td>1265793.22</td><td>0.0924621795651583597516</td><td>19261.42</td><td>6.0762913637727644171613</td></tr>",
                            "<tr><td>10279</td><td>44</td><td>351.00</td><td>1265793.22</td><td>0.0277296476591966577289</td><td>19261.42</td><td>1.8222955524566724571708</td></tr>",
                            "<tr><td>11070</td><td>44</td><td>1629.98</td><td>1265793.22</td><td>0.1287714276112175731198</td><td>19261.42</td><td>8.4624082751946637371491</td></tr>",
                            "<tr><td>10862</td><td>44</td><td>581.00</td><td>1265793.22</td><td>0.0459000720512628437052</td><td>19261.42</td><td>3.0163923532117569732657</td></tr>",
                            "<tr><td>10891</td><td>44</td><td>368.93</td><td>1265793.22</td><td>0.0291461507433259912705</td><td>19261.42</td><td>1.9153831856633623066212</td></tr>",
                            "<tr><td>10934</td><td>44</td><td>500.00</td><td>1265793.22</td><td>0.0395009225914482303831</td><td>19261.42</td><td>2.5958626103371402523801</td></tr>",
                            "<tr><td>10884</td><td>45</td><td>1378.07</td><td>1265793.22</td><td>0.1088700727911941256882</td><td>3076.47</td><td>44.7938708974896553517505</td></tr>",
                            "<tr><td>10719</td><td>45</td><td>844.25</td><td>1265793.22</td><td>0.0666973077956603370019</td><td>3076.47</td><td>27.4421658589227263714581</td></tr>",
                            "<tr><td>10735</td><td>45</td><td>536.40</td><td>1265793.22</td><td>0.0423765897561056615550</td><td>3076.47</td><td>17.4355673872977795980458</td></tr>",
                            "<tr><td>10579</td><td>45</td><td>317.75</td><td>1265793.22</td><td>0.0251028363068653504084</td><td>3076.47</td><td>10.3283958562898386787454</td></tr>",
                            "<tr><td>10543</td><td>46</td><td>1504.50</td><td>1265793.22</td><td>0.1188582760776677252229</td><td>16076.60</td><td>9.3583220332657402684647</td></tr>",
                            "<tr><td>10780</td><td>46</td><td>720.00</td><td>1265793.22</td><td>0.0568813285316854517517</td><td>16076.60</td><td>4.4785588992697460905912</td></tr>",
                            "<tr><td>10823</td><td>46</td><td>2826.00</td><td>1265793.22</td><td>0.2232592144868653981256</td><td>16076.60</td><td>17.5783436796337534055708</td></tr>",
                            "<tr><td>10296</td><td>46</td><td>1050.60</td><td>1265793.22</td><td>0.0829993385491510216810</td><td>16076.60</td><td>6.5349638605177711705211</td></tr>",
                            "<tr><td>10283</td><td>46</td><td>1414.80</td><td>1265793.22</td><td>0.1117718105647619126921</td><td>16076.60</td><td>8.8003682370650510680118</td></tr>",
                            "<tr><td>10330</td><td>46</td><td>1649.00</td><td>1265793.22</td><td>0.1302740427065962638036</td><td>16076.60</td><td>10.2571439234664045880347</td></tr>",
                            "<tr><td>10381</td><td>46</td><td>112.00</td><td>1265793.22</td><td>0.0088482066604844036058</td><td>16076.60</td><td>0.6966647176641827252030</td></tr>",
                            "<tr><td>10357</td><td>46</td><td>1167.68</td><td>1265793.22</td><td>0.0922488745831645393076</td><td>16076.60</td><td>7.2632272993045793264745</td></tr>",
                            "<tr><td>10499</td><td>46</td><td>1412.00</td><td>1265793.22</td><td>0.1115506053982498026020</td><td>16076.60</td><td>8.7829516191234464998818</td></tr>",
                            "<tr><td>10461</td><td>46</td><td>1538.70</td><td>1265793.22</td><td>0.1215601391829227841811</td><td>16076.60</td><td>9.5710535809810532077678</td></tr>",
                            "<tr><td>10899</td><td>46</td><td>122.40</td><td>1265793.22</td><td>0.0096698258503865267977</td><td>16076.60</td><td>0.7613550128758568354005</td></tr>",
                            "<tr><td>11071</td><td>46</td><td>484.50</td><td>1265793.22</td><td>0.0382763939911133352412</td><td>16076.60</td><td>3.0136969259669333067937</td></tr>",
                            "<tr><td>11065</td><td>46</td><td>189.42</td><td>1265793.22</td><td>0.0149645295145442475983</td><td>16076.60</td><td>1.1782342037495490339997</td></tr>",
                            "<tr><td>10997</td><td>46</td><td>1885.00</td><td>1265793.22</td><td>0.1489184781697598285445</td><td>16076.60</td><td>11.7251160071159324732841</td></tr>",
                            "<tr><td>11014</td><td>47</td><td>243.18</td><td>1265793.22</td><td>0.0192116687115767613291</td><td>16476.58</td><td>1.4759130839045481525899</td></tr>",
                            "<tr><td>11039</td><td>47</td><td>3090.00</td><td>1265793.22</td><td>0.2441157016151500637679</td><td>16476.58</td><td>18.7538918877582605128005</td></tr>",
                            "<tr><td>10838</td><td>47</td><td>1938.38</td><td>1265793.22</td><td>0.1531355966656228416202</td><td>16476.58</td><td>11.7644559732662967678972</td></tr>",
                            "<tr><td>10840</td><td>47</td><td>211.20</td><td>1265793.22</td><td>0.0166851897026277325138</td><td>16476.58</td><td>1.2818194066972636311661</td></tr>",
                            "<tr><td>10919</td><td>47</td><td>1122.80</td><td>1265793.22</td><td>0.0887032717713561461484</td><td>16476.58</td><td>6.8145209746197329785671</td></tr>",
                            "<tr><td>10954</td><td>47</td><td>1659.54</td><td>1265793.22</td><td>0.1311067221548239925001</td><td>16476.58</td><td>10.0721144800680723790980</td></tr>",
                            "<tr><td>10405</td><td>47</td><td>400.00</td><td>1265793.22</td><td>0.0316007380731585843065</td><td>16476.58</td><td>2.4276882702599689984207</td></tr>",
                            "<tr><td>10485</td><td>47</td><td>1584.00</td><td>1265793.22</td><td>0.1251389227697079938538</td><td>16476.58</td><td>9.6136455502294772337463</td></tr>",
                            "<tr><td>10811</td><td>47</td><td>852.00</td><td>1265793.22</td><td>0.0673095720958277845729</td><td>16476.58</td><td>5.1709760156537339666362</td></tr>",
                            "<tr><td>10729</td><td>47</td><td>1850.00</td><td>1265793.22</td><td>0.1461534135883584524176</td><td>16476.58</td><td>11.2280582499523566176961</td></tr>",
                            "<tr><td>10697</td><td>47</td><td>805.43</td><td>1265793.22</td><td>0.0636304561656602963950</td><td>16476.58</td><td>4.8883324087887170759951</td></tr>",
                            "<tr><td>10638</td><td>47</td><td>2720.05</td><td>1265793.22</td><td>0.2148889689897375181074</td><td>16476.58</td><td>16.5085836988015716853861</td></tr>",
                            "<tr><td>10662</td><td>48</td><td>125.00</td><td>1265793.22</td><td>0.0098752306478620575957</td><td>4258.60</td><td>2.9352369323251772883107</td></tr>",
                            "<tr><td>10665</td><td>48</td><td>1295.00</td><td>1265793.22</td><td>0.1023073895118509166923</td><td>4258.60</td><td>30.4090546188888367068989</td></tr>",
                            "<tr><td>10544</td><td>48</td><td>417.20</td><td>1265793.22</td><td>0.0329595698103044034317</td><td>4258.60</td><td>9.7966467853285117174658</td></tr>",
                            "<tr><td>10317</td><td>48</td><td>288.00</td><td>1265793.22</td><td>0.0227525314126741807006</td><td>4258.60</td><td>6.7627858920772084722678</td></tr>",
                            "<tr><td>10307</td><td>48</td><td>424.00</td><td>1265793.22</td><td>0.0334967823575480993649</td><td>4258.60</td><td>9.9563236744470013619499</td></tr>",
                            "<tr><td>10867</td><td>48</td><td>98.40</td><td>1265793.22</td><td>0.0077737815659970117394</td><td>4258.60</td><td>2.3106185131263795613581</td></tr>",
                            "<tr><td>10883</td><td>48</td><td>36.00</td><td>1265793.22</td><td>0.0028440664265842725875</td><td>4258.60</td><td>0.8453482365096510590334</td></tr>",
                            "<tr><td>11018</td><td>48</td><td>1575.00</td><td>1265793.22</td><td>0.1244279061630619257069</td><td>4258.60</td><td>36.9839853472972338327149</td></tr>",
                            "<tr><td>10950</td><td>49</td><td>110.00</td><td>1265793.22</td><td>0.0086902029701186106842</td><td>7176.22</td><td>1.5328404090175607771222</td></tr>",
                            "<tr><td>10939</td><td>49</td><td>637.50</td><td>1265793.22</td><td>0.0503636763040964937385</td><td>7176.22</td><td>8.8835069158972272310492</td></tr>",
                            "<tr><td>10300</td><td>49</td><td>608.00</td><td>1265793.22</td><td>0.0480331218712010481459</td><td>7176.22</td><td>8.4724269880243359317300</td></tr>",
                            "<tr><td>10275</td><td>49</td><td>291.84</td><td>1265793.22</td><td>0.0230558984981765031100</td><td>7176.22</td><td>4.0667649542516812472304</td></tr>",
                            "<tr><td>10467</td><td>49</td><td>235.20</td><td>1265793.22</td><td>0.0185812339870172475722</td><td>7176.22</td><td>3.2774914927357299525376</td></tr>",
                            "<tr><td>10404</td><td>49</td><td>1591.25</td><td>1265793.22</td><td>0.1257116861472839931944</td><td>7176.22</td><td>22.1739300077199416963248</td></tr>",
                            "<tr><td>10635</td><td>49</td><td>1326.23</td><td>1265793.22</td><td>0.1047746171369127731621</td><td>7176.22</td><td>18.4808994150123602676618</td></tr>",
                            "<tr><td>10754</td><td>49</td><td>55.20</td><td>1265793.22</td><td>0.0043609018540958846343</td><td>7176.22</td><td>0.7692071870706304990649</td></tr>",
                            "<tr><td>10818</td><td>49</td><td>833.00</td><td>1265793.22</td><td>0.0658085370373527518183</td><td>7176.22</td><td>11.6077823701057102485709</td></tr>",
                            "<tr><td>10784</td><td>49</td><td>1488.00</td><td>1265793.22</td><td>0.1175547456321499336202</td><td>7176.22</td><td>20.7351502601648221487078</td></tr>",
                            "<tr><td>10760</td><td>50</td><td>2917.00</td><td>1265793.22</td><td>0.2304483823985089760553</td><td>9736.08</td><td>29.9607234122973517062308</td></tr>",
                            "<tr><td>10649</td><td>50</td><td>1434.00</td><td>1265793.22</td><td>0.1132886459922735247388</td><td>9736.08</td><td>14.7287203884931101634333</td></tr>",
                            "<tr><td>10529</td><td>50</td><td>946.00</td><td>1265793.22</td><td>0.0747357455430200518849</td><td>9736.08</td><td>9.7164361837618425485410</td></tr>",
                            "<tr><td>10978</td><td>50</td><td>1303.20</td><td>1265793.22</td><td>0.1029552046423506676706</td><td>9736.08</td><td>13.3852638844380900732122</td></tr>",
                            "<tr><td>10892</td><td>50</td><td>2090.00</td><td>1265793.22</td><td>0.1651138564322536030016</td><td>9736.08</td><td>21.4665450571482567932884</td></tr>",
                            "<tr><td>10896</td><td>50</td><td>750.50</td><td>1265793.22</td><td>0.0592908848097637938051</td><td>9736.08</td><td>7.7084411796123285757717</td></tr>",
                            "<tr><td>11004</td><td>50</td><td>295.38</td><td>1265793.22</td><td>0.0233355650301239565811</td><td>9736.08</td><td>3.0338698942490201395222</td></tr>",
                            "<tr><td>10505</td><td>51</td><td>147.90</td><td>1265793.22</td><td>0.0116843729025503865473</td><td>28872.19</td><td>0.5122576430814565850390</td></tr>",
                            "<tr><td>10424</td><td>51</td><td>9194.56</td><td>1265793.22</td><td>0.7263872056448524823035</td><td>28872.19</td><td>31.8457311343545467108660</td></tr>",
                            "<tr><td>10439</td><td>51</td><td>1078.00</td><td>1265793.22</td><td>0.0851639891071623847060</td><td>28872.19</td><td>3.7336966818242745008258</td></tr>",
                            "<tr><td>10332</td><td>51</td><td>1786.88</td><td>1265793.22</td><td>0.1411668171204140278141</td><td>28872.19</td><td>6.1889312864732464007752</td></tr>",
                            "<tr><td>10339</td><td>51</td><td>3354.00</td><td>1265793.22</td><td>0.2649721887434347294102</td><td>28872.19</td><td>11.6167149080135590684322</td></tr>",
                            "<tr><td>10376</td><td>51</td><td>399.00</td><td>1265793.22</td><td>0.0315217362279756878457</td><td>28872.19</td><td>1.3819526679479457567991</td></tr>",
                            "<tr><td>10618</td><td>51</td><td>2697.50</td><td>1265793.22</td><td>0.2131074773808632029171</td><td>28872.19</td><td>9.3429005558636182430220</td></tr>",
                            "<tr><td>10619</td><td>51</td><td>1260.00</td><td>1265793.22</td><td>0.0995423249304495405655</td><td>28872.19</td><td>4.3640610566777234425237</td></tr>",
                            "<tr><td>10565</td><td>51</td><td>639.90</td><td>1265793.22</td><td>0.0505532807325354452443</td><td>28872.19</td><td>2.2163195794984724054531</td></tr>",
                            "<tr><td>10570</td><td>51</td><td>2465.25</td><td>1265793.22</td><td>0.1947592988371354999041</td><td>28872.19</td><td>8.5384932698212362830807</td></tr>",
                            "<tr><td>10590</td><td>51</td><td>1101.00</td><td>1265793.22</td><td>0.0869810315463690033037</td><td>28872.19</td><td>3.8133581138112488176338</td></tr>",
                            "<tr><td>10605</td><td>51</td><td>4109.70</td><td>1265793.22</td><td>0.3246738831481495848113</td><td>28872.19</td><td>14.2341124798638412950316</td></tr>",
                            "<tr><td>10724</td><td>51</td><td>638.50</td><td>1265793.22</td><td>0.0504426781492793901992</td><td>28872.19</td><td>2.2114706227688304905169</td></tr>",
                            "<tr><td>10699</td><td>52</td><td>114.00</td><td>1265793.22</td><td>0.0090062103508501965273</td><td>5042.20</td><td>2.2609178533179961128079</td></tr>",
                            "<tr><td>10779</td><td>52</td><td>1335.00</td><td>1265793.22</td><td>0.1054674633191667751230</td><td>5042.20</td><td>26.4765380191186386894609</td></tr>",
                            "<tr><td>10575</td><td>52</td><td>2147.40</td><td>1265793.22</td><td>0.1696485623457518598495</td><td>5042.20</td><td>42.5885526159216215144183</td></tr>",
                            "<tr><td>10277</td><td>52</td><td>1200.80</td><td>1265793.22</td><td>0.0948654156956220700881</td><td>5042.20</td><td>23.8150013882828923882432</td></tr>",
                            "<tr><td>10945</td><td>52</td><td>245.00</td><td>1265793.22</td><td>0.0193554520698096328877</td><td>5042.20</td><td>4.8589901233588512950696</td></tr>",
                            "<tr><td>11057</td><td>53</td><td>45.00</td><td>1265793.22</td><td>0.0035550830332303407344</td><td>649.00</td><td>6.9337442218798151001540</td></tr>",
                            "<tr><td>10517</td><td>53</td><td>352.00</td><td>1265793.22</td><td>0.0278086495043795541897</td><td>649.00</td><td>54.2372881355932203389830</td></tr>",
                            "<tr><td>10752</td><td>53</td><td>252.00</td><td>1265793.22</td><td>0.0199084649860899081131</td><td>649.00</td><td>38.8289676425269645608628</td></tr>",
                            "<tr><td>10531</td><td>54</td><td>110.00</td><td>1265793.22</td><td>0.0086902029701186106842</td><td>3460.20</td><td>3.1790069938153863938500</td></tr>",
                            "<tr><td>10409</td><td>54</td><td>319.20</td><td>1265793.22</td><td>0.0252173889823805502766</td><td>3460.20</td><td>9.2249002947806485174267</td></tr>",
                            "<tr><td>10986</td><td>54</td><td>2220.00</td><td>1265793.22</td><td>0.1753840963060301429012</td><td>3460.20</td><td>64.1581411479105254031558</td></tr>",
                            "<tr><td>10958</td><td>54</td><td>781.00</td><td>1265793.22</td><td>0.0617004410878421358584</td><td>3460.20</td><td>22.5709496560892433963354</td></tr>",
                            "<tr><td>10898</td><td>54</td><td>30.00</td><td>1265793.22</td><td>0.0023700553554868938229</td><td>3460.20</td><td>0.8670019074041962892318</td></tr>",
                            "<tr><td>10855</td><td>55</td><td>2227.89</td><td>1265793.22</td><td>0.1760074208645231959766</td><td>15177.47</td><td>14.6789287015556611213858</td></tr>",
                            "<tr><td>10965</td><td>55</td><td>848.00</td><td>1265793.22</td><td>0.0669935647150961987298</td><td>15177.47</td><td>5.5872289650383100740769</td></tr>",
                            "<tr><td>11034</td><td>55</td><td>539.40</td><td>1265793.22</td><td>0.0426135952916543509373</td><td>15177.47</td><td>3.5539520091293212900437</td></tr>",
                            "<tr><td>10441</td><td>55</td><td>1755.00</td><td>1265793.22</td><td>0.1386482382959832886448</td><td>15177.47</td><td>11.5631920208045214386851</td></tr>",
                            "<tr><td>10305</td><td>55</td><td>3741.30</td><td>1265793.22</td><td>0.2955696033827705286650</td><td>15177.47</td><td>24.6503534515304592926225</td></tr>",
                            "<tr><td>10338</td><td>55</td><td>934.50</td><td>1265793.22</td><td>0.0738272243234167425861</td><td>15177.47</td><td>6.1571526743258263729066</td></tr>",
                            "<tr><td>10594</td><td>55</td><td>565.50</td><td>1265793.22</td><td>0.0446755434509279485633</td><td>15177.47</td><td>3.7259174289259013524652</td></tr>",
                            "<tr><td>10680</td><td>55</td><td>1261.88</td><td>1265793.22</td><td>0.0996908483993933859118</td><td>15177.47</td><td>8.3141656679275267880615</td></tr>",
                            "<tr><td>10706</td><td>55</td><td>1893.00</td><td>1265793.22</td><td>0.1495504929312230002306</td><td>15177.47</td><td>12.4724344703036803894193</td></tr>",
                            "<tr><td>10808</td><td>55</td><td>1411.00</td><td>1265793.22</td><td>0.1114716035530669061412</td><td>15177.47</td><td>9.2966746104587918803331</td></tr>",
                            "<tr><td>10766</td><td>56</td><td>2310.00</td><td>1265793.22</td><td>0.1824942623724908243701</td><td>12496.21</td><td>18.4856048353860890622036</td></tr>",
                            "<tr><td>10684</td><td>56</td><td>1768.00</td><td>1265793.22</td><td>0.1396752622833609426348</td><td>12496.21</td><td>14.1482897614556733601628</td></tr>",
                            "<tr><td>10580</td><td>56</td><td>1013.75</td><td>1265793.22</td><td>0.0800881205541612871018</td><td>12496.21</td><td>8.1124596977803670072766</td></tr>",
                            "<tr><td>10554</td><td>56</td><td>1728.53</td><td>1265793.22</td><td>0.1365570594539920193284</td><td>12496.21</td><td>13.8324339939869768513813</td></tr>",
                            "<tr><td>10260</td><td>56</td><td>1504.65</td><td>1265793.22</td><td>0.1188701263544451596920</td><td>12496.21</td><td>12.0408507859583025573353</td></tr>",
                            "<tr><td>10407</td><td>56</td><td>1194.00</td><td>1265793.22</td><td>0.0943282031483783741549</td><td>12496.21</td><td>9.5548970447839785022818</td></tr>",
                            "<tr><td>10508</td><td>56</td><td>240.00</td><td>1265793.22</td><td>0.0189604428438951505839</td><td>12496.21</td><td>1.9205823205595936688003</td></tr>",
                            "<tr><td>11020</td><td>56</td><td>632.40</td><td>1265793.22</td><td>0.0499607668936637217886</td><td>12496.21</td><td>5.0607344146745293172890</td></tr>",
                            "<tr><td>10999</td><td>56</td><td>1197.95</td><td>1265793.22</td><td>0.0946402604368508151750</td><td>12496.21</td><td>9.5865066288098551480808</td></tr>",
                            "<tr><td>10833</td><td>56</td><td>906.93</td><td>1265793.22</td><td>0.0716491434517242871627</td><td>12496.21</td><td>7.2576405166046345251880</td></tr>",
                            "<tr><td>10995</td><td>58</td><td>1196.00</td><td>1265793.22</td><td>0.0944862068387441670765</td><td>4242.20</td><td>28.1929187685634812125783</td></tr>",
                            "<tr><td>11073</td><td>58</td><td>300.00</td><td>1265793.22</td><td>0.0237005535548689382298</td><td>4242.20</td><td>7.0718023666965253877704</td></tr>",
                            "<tr><td>10502</td><td>58</td><td>816.30</td><td>1265793.22</td><td>0.0644892062227983809235</td><td>4242.20</td><td>19.2423742397812455801235</td></tr>",
                            "<tr><td>10474</td><td>58</td><td>1249.10</td><td>1265793.22</td><td>0.0986812048179559691432</td><td>4242.20</td><td>29.4446277874687662062137</td></tr>",
                            "<tr><td>10322</td><td>58</td><td>112.00</td><td>1265793.22</td><td>0.0088482066604844036058</td><td>4242.20</td><td>2.6401395502333694781009</td></tr>",
                            "<tr><td>10354</td><td>58</td><td>568.80</td><td>1265793.22</td><td>0.0449362495400315068838</td><td>4242.20</td><td>13.4081372872566121352128</td></tr>",
                            "<tr><td>10353</td><td>59</td><td>8593.28</td><td>1265793.22</td><td>0.6788849761732804983739</td><td>23128.86</td><td>37.1539280362283311845028</td></tr>",
                            "<tr><td>10489</td><td>59</td><td>439.20</td><td>1265793.22</td><td>0.0346976104043281255685</td><td>23128.86</td><td>1.8989262765220594529950</td></tr>",
                            "<tr><td>10530</td><td>59</td><td>4180.00</td><td>1265793.22</td><td>0.3302277128645072060032</td><td>23128.86</td><td>18.0726590069722416063740</td></tr>",
                            "<tr><td>10427</td><td>59</td><td>651.00</td><td>1265793.22</td><td>0.0514302012140655959588</td><td>23128.86</td><td>2.8146653142437629870214</td></tr>",
                            "<tr><td>10392</td><td>59</td><td>1440.00</td><td>1265793.22</td><td>0.1137626570633709035034</td><td>23128.86</td><td>6.2259877918756047639183</td></tr>",
                            "<tr><td>10597</td><td>59</td><td>718.08</td><td>1265793.22</td><td>0.0567296449889342905470</td><td>23128.86</td><td>3.1046925788819682422739</td></tr>",
                            "<tr><td>10686</td><td>59</td><td>1404.45</td><td>1265793.22</td><td>0.1109541414671189343232</td><td>23128.86</td><td>6.0722837182636757713090</td></tr>",
                            "<tr><td>10747</td><td>59</td><td>1912.85</td><td>1265793.22</td><td>0.1511186795581034949768</td><td>23128.86</td><td>8.2704032970064240087924</td></tr>",
                            "<tr><td>11053</td><td>59</td><td>3055.00</td><td>1265793.22</td><td>0.2413506370337486876410</td><td>23128.86</td><td>13.2086060445694253845628</td></tr>",
                            "<tr><td>10844</td><td>59</td><td>735.00</td><td>1265793.22</td><td>0.0580663562094288986632</td><td>23128.86</td><td>3.1778479354365065982499</td></tr>",
                            "<tr><td>11007</td><td>60</td><td>2633.90</td><td>1265793.22</td><td>0.2080829600272309880124</td><td>5044.94</td><td>52.2087477749983151434903</td></tr>",
                            "<tr><td>10397</td><td>60</td><td>716.72</td><td>1265793.22</td><td>0.0566222024794855513604</td><td>5044.94</td><td>14.2067100897136536807177</td></tr>",
                            "<tr><td>10433</td><td>60</td><td>851.20</td><td>1265793.22</td><td>0.0672463706196814674042</td><td>5044.94</td><td>16.8723513064575594556129</td></tr>",
                            "<tr><td>10477</td><td>60</td><td>558.00</td><td>1265793.22</td><td>0.0440830296120562251076</td><td>5044.94</td><td>11.0605874400884846995207</td></tr>",
                            "<tr><td>10336</td><td>60</td><td>285.12</td><td>1265793.22</td><td>0.0225250060985474388936</td><td>5044.94</td><td>5.6516033887419870206583</td></tr>",
                            "<tr><td>10379</td><td>61</td><td>863.28</td><td>1265793.22</td><td>0.0682007129094908566503</td><td>6664.81</td><td>12.9528073568488824137522</td></tr>",
                            "<tr><td>10261</td><td>61</td><td>448.00</td><td>1265793.22</td><td>0.0353928266419376144233</td><td>6664.81</td><td>6.7218720413635197402476</td></tr>",
                            "<tr><td>10291</td><td>61</td><td>497.52</td><td>1265793.22</td><td>0.0393049980153946471604</td><td>6664.81</td><td>7.4648789687928087972500</td></tr>",
                            "<tr><td>10421</td><td>61</td><td>1194.27</td><td>1265793.22</td><td>0.0943495336465777561993</td><td>6664.81</td><td>17.9190404527660953575570</td></tr>",
                            "<tr><td>10720</td><td>61</td><td>550.00</td><td>1265793.22</td><td>0.0434510148505930534214</td><td>6664.81</td><td>8.2522982650668211096790</td></tr>",
                            "<tr><td>10794</td><td>61</td><td>314.76</td><td>1265793.22</td><td>0.0248666207897684899908</td><td>6664.81</td><td>4.7227152762044229317865</td></tr>",
                            "<tr><td>10587</td><td>61</td><td>807.38</td><td>1265793.22</td><td>0.0637845097637669444935</td><td>6664.81</td><td>12.1140737695448182318775</td></tr>",
                            "<tr><td>10647</td><td>61</td><td>636.00</td><td>1265793.22</td><td>0.0502451735363221490473</td><td>6664.81</td><td>9.5426576301499967741015</td></tr>",
                            "<tr><td>10989</td><td>61</td><td>1353.60</td><td>1265793.22</td><td>0.1069368976395686492932</td><td>6664.81</td><td>20.3096562392626346437482</td></tr>",
                            "<tr><td>11068</td><td>62</td><td>2027.08</td><td>1265793.22</td><td>0.1601430603333457576901</td><td>25717.50</td><td>7.8821036259356469330222</td></tr>",
                            "<tr><td>10868</td><td>62</td><td>1920.60</td><td>1265793.22</td><td>0.1517309438582709425477</td><td>25717.50</td><td>7.4680664916885389326334</td></tr>",
                            "<tr><td>10961</td><td>62</td><td>1119.90</td><td>1265793.22</td><td>0.0884741664203257464121</td><td>25717.50</td><td>4.3546223388743073782443</td></tr>",
                            "<tr><td>10913</td><td>62</td><td>768.75</td><td>1265793.22</td><td>0.0607326684843516542141</td><td>25717.50</td><td>2.9892096821230679498396</td></tr>",
                            "<tr><td>10914</td><td>62</td><td>537.50</td><td>1265793.22</td><td>0.0424634917858068476618</td><td>25717.50</td><td>2.0900165257120637698065</td></tr>",
                            "<tr><td>10637</td><td>62</td><td>2761.94</td><td>1265793.22</td><td>0.2181983562844490508489</td><td>25717.50</td><td>10.7395353358607951783804</td></tr>",
                            "<tr><td>10659</td><td>62</td><td>1227.02</td><td>1265793.22</td><td>0.0969368440763176152894</td><td>25717.50</td><td>4.7711480509380771847963</td></tr>",
                            "<tr><td>10786</td><td>62</td><td>1531.08</td><td>1265793.22</td><td>0.1209581451226291131500</td><td>25717.50</td><td>5.9534558180227471566054</td></tr>",
                            "<tr><td>10704</td><td>62</td><td>595.50</td><td>1265793.22</td><td>0.0470455988064148423863</td><td>25717.50</td><td>2.3155438903470399533391</td></tr>",
                            "<tr><td>10728</td><td>62</td><td>1296.75</td><td>1265793.22</td><td>0.1024456427409209854987</td><td>25717.50</td><td>5.0422863808690580344123</td></tr>",
                            "<tr><td>10406</td><td>62</td><td>1830.78</td><td>1265793.22</td><td>0.1446349981239431824417</td><td>25717.50</td><td>7.1188101487314085739282</td></tr>",
                            "<tr><td>10487</td><td>62</td><td>889.70</td><td>1265793.22</td><td>0.0702879416592229811437</td><td>25717.50</td><td>3.4595120054437639739477</td></tr>",
                            "<tr><td>10372</td><td>62</td><td>9210.90</td><td>1265793.22</td><td>0.7276780957951410104724</td><td>25717.50</td><td>35.8156897054534849810440</td></tr>",
                            "<tr><td>10361</td><td>63</td><td>2046.24</td><td>1265793.22</td><td>0.1616567356870500538784</td><td>110277.32</td><td>1.8555401962978425663590</td></tr>",
                            "<tr><td>10345</td><td>63</td><td>2924.80</td><td>1265793.22</td><td>0.2310645967909355684493</td><td>110277.32</td><td>2.6522225966318368999174</td></tr>",
                            "<tr><td>10285</td><td>63</td><td>1743.36</td><td>1265793.22</td><td>0.1377286568180543738415</td><td>110277.32</td><td>1.5808871670076857145240</td></tr>",
                            "<tr><td>10286</td><td>63</td><td>3016.00</td><td>1265793.22</td><td>0.2382695650716157256712</td><td>110277.32</td><td>2.7349231918222169345428</td></tr>",
                            "<tr><td>10313</td><td>63</td><td>182.40</td><td>1265793.22</td><td>0.0144099365613603144437</td><td>110277.32</td><td>0.1654011903807600692508</td></tr>",
                            "<tr><td>10273</td><td>63</td><td>2037.28</td><td>1265793.22</td><td>0.1609488791542113015900</td><td>110277.32</td><td>1.8474152255422964576941</td></tr>",
                            "<tr><td>10540</td><td>63</td><td>10191.70</td><td>1265793.22</td><td>0.8051631055505258591920</td><td>110277.32</td><td>9.2418821930021513036406</td></tr>",
                            "<tr><td>10527</td><td>63</td><td>1503.00</td><td>1265793.22</td><td>0.1187397733098933805317</td><td>110277.32</td><td>1.3629275720519867548467</td></tr>",
                            "<tr><td>10515</td><td>63</td><td>9921.30</td><td>1265793.22</td><td>0.7838010066130706562008</td><td>110277.32</td><td>8.9966821827008490957161</td></tr>",
                            "<tr><td>10418</td><td>63</td><td>1814.80</td><td>1265793.22</td><td>0.1433725486379204969987</td><td>110277.32</td><td>1.6456692999068167416473</td></tr>",
                            "<tr><td>10451</td><td>63</td><td>3849.66</td><td>1265793.22</td><td>0.3041302433267891891536</td><td>110277.32</td><td>3.4908900579012982905279</td></tr>",
                            "<tr><td>10745</td><td>63</td><td>4529.80</td><td>1265793.22</td><td>0.3578625583094843879792</td><td>110277.32</td><td>4.1076442554099065882268</td></tr>",
                            "<tr><td>10721</td><td>63</td><td>923.88</td><td>1265793.22</td><td>0.0729882247275743821727</td><td>110277.32</td><td>0.8377787925930735349752</td></tr>",
                            "<tr><td>10691</td><td>63</td><td>10164.80</td><td>1265793.22</td><td>0.8030379559151059443974</td><td>110277.32</td><td>9.2174891446400764907961</td></tr>",
                            "<tr><td>10694</td><td>63</td><td>4825.00</td><td>1265793.22</td><td>0.3811839030074754231974</td><td>110277.32</td><td>4.3753330240524524897775</td></tr>",
                            "<tr><td>10788</td><td>63</td><td>731.50</td><td>1265793.22</td><td>0.0577898497512887610505</td><td>110277.32</td><td>0.6633276905895065277248</td></tr>",
                            "<tr><td>10765</td><td>63</td><td>1515.60</td><td>1265793.22</td><td>0.1197351965591978759374</td><td>110277.32</td><td>1.3743533121769734701568</td></tr>",
                            "<tr><td>10658</td><td>63</td><td>4464.60</td><td>1265793.22</td><td>0.3527116380035595387372</td><td>110277.32</td><td>4.0485205842869594582095</td></tr>",
                            "<tr><td>10588</td><td>63</td><td>3120.00</td><td>1265793.22</td><td>0.2464857569706369575909</td><td>110277.32</td><td>2.8292308880919485529753</td></tr>",
                            "<tr><td>10549</td><td>63</td><td>3554.28</td><td>1265793.22</td><td>0.2807946782966652325725</td><td>110277.32</td><td>3.2230380643998240073298</td></tr>",
                            "<tr><td>10938</td><td>63</td><td>2731.88</td><td>1265793.22</td><td>0.2158235608182511832382</td><td>110277.32</td><td>2.4772818200514847477250</td></tr>",
                            "<tr><td>10962</td><td>63</td><td>3584.00</td><td>1265793.22</td><td>0.2831426131355009153864</td><td>110277.32</td><td>3.2499883022184434659819</td></tr>",
                            "<tr><td>10865</td><td>63</td><td>16387.50</td><td>1265793.22</td><td>1.2946427379347157508080</td><td>110277.32</td><td>14.8602631982714124717575</td></tr>",
                            "<tr><td>10845</td><td>63</td><td>3812.70</td><td>1265793.22</td><td>0.3012103351288293359637</td><td>110277.32</td><td>3.4573745535346705922849</td></tr>",
                            "<tr><td>10878</td><td>63</td><td>1539.00</td><td>1265793.22</td><td>0.1215838397364776531193</td><td>110277.32</td><td>1.3955725438376630843041</td></tr>",
                            "<tr><td>10991</td><td>63</td><td>2296.00</td><td>1265793.22</td><td>0.1813882365399302739194</td><td>110277.32</td><td>2.0820237561086903453946</td></tr>",
                            "<tr><td>10996</td><td>63</td><td>560.00</td><td>1265793.22</td><td>0.0442410333024220180291</td><td>110277.32</td><td>0.5078106722216317915596</td></tr>",
                            "<tr><td>11021</td><td>63</td><td>6306.24</td><td>1265793.22</td><td>0.4982045961661889767429</td><td>110277.32</td><td>5.7185285242695415521523</td></tr>",
                            "<tr><td>11019</td><td>64</td><td>76.00</td><td>1265793.22</td><td>0.0060041402339001310182</td><td>2844.10</td><td>2.6721985865475897471959</td></tr>",
                            "<tr><td>10916</td><td>64</td><td>686.70</td><td>1265793.22</td><td>0.0542505670870949996082</td><td>2844.10</td><td>24.1447206497661826236770</td></tr>",
                            "<tr><td>10828</td><td>64</td><td>932.00</td><td>1265793.22</td><td>0.0736297197104595014342</td><td>2844.10</td><td>32.7695931929257058471924</td></tr>",
                            "<tr><td>10716</td><td>64</td><td>706.00</td><td>1265793.22</td><td>0.0557753026991249013010</td><td>2844.10</td><td>24.8233184487183994936886</td></tr>",
                            "<tr><td>10448</td><td>64</td><td>443.40</td><td>1265793.22</td><td>0.0350294181540962907037</td><td>2844.10</td><td>15.5901691220421222882458</td></tr>",
                            "<tr><td>10401</td><td>65</td><td>3868.60</td><td>1265793.22</td><td>0.3056265382745532481205</td><td>51097.80</td><td>7.5709717443803842826892</td></tr>",
                            "<tr><td>10479</td><td>65</td><td>10495.60</td><td>1265793.22</td><td>0.8291717663016080936189</td><td>51097.80</td><td>20.5402189526750662455135</td></tr>",
                            "<tr><td>10272</td><td>65</td><td>1456.00</td><td>1265793.22</td><td>0.1150266865862972468757</td><td>51097.80</td><td>2.8494377448735562000712</td></tr>",
                            "<tr><td>10262</td><td>65</td><td>584.00</td><td>1265793.22</td><td>0.0461370775868115330875</td><td>51097.80</td><td>1.1429063482185143000285</td></tr>",
                            "<tr><td>10314</td><td>65</td><td>2094.30</td><td>1265793.22</td><td>0.1654535643665400577828</td><td>51097.80</td><td>4.0986108990993741413524</td></tr>",
                            "<tr><td>10316</td><td>65</td><td>2835.00</td><td>1265793.22</td><td>0.2239702310935114662725</td><td>51097.80</td><td>5.5481840705470685626387</td></tr>",
                            "<tr><td>10294</td><td>65</td><td>1887.60</td><td>1265793.22</td><td>0.1491238829672353593424</td><td>51097.80</td><td>3.6940925049610746450923</td></tr>",
                            "<tr><td>10346</td><td>65</td><td>1618.88</td><td>1265793.22</td><td>0.1278945071296874224053</td><td>51097.80</td><td>3.1681990222671034760792</td></tr>",
                            "<tr><td>10820</td><td>65</td><td>1140.00</td><td>1265793.22</td><td>0.0900621035085019652736</td><td>51097.80</td><td>2.2310158167279217500557</td></tr>",
                            "<tr><td>10761</td><td>65</td><td>507.00</td><td>1265793.22</td><td>0.0400539355077285056085</td><td>51097.80</td><td>0.9922149290184704625248</td></tr>",
                            "<tr><td>10569</td><td>65</td><td>890.00</td><td>1265793.22</td><td>0.0703116422127778500820</td><td>51097.80</td><td>1.7417579621823248750435</td></tr>",
                            "<tr><td>10564</td><td>65</td><td>1234.05</td><td>1265793.22</td><td>0.0974922270479533774086</td><td>51097.80</td><td>2.4150746216079752944353</td></tr>",
                            "<tr><td>10598</td><td>65</td><td>2388.50</td><td>1265793.22</td><td>0.1886959072193481965403</td><td>51097.80</td><td>4.6743695423286325438668</td></tr>",
                            "<tr><td>10889</td><td>65</td><td>11380.00</td><td>1265793.22</td><td>0.8990409981813617235206</td><td>51097.80</td><td>22.2710175389155697505567</td></tr>",
                            "<tr><td>10852</td><td>65</td><td>2984.00</td><td>1265793.22</td><td>0.2357415060257630389266</td><td>51097.80</td><td>5.8397817518562443001459</td></tr>",
                            "<tr><td>10988</td><td>65</td><td>3574.80</td><td>1265793.22</td><td>0.2824157961598182679474</td><td>51097.80</td><td>6.9959959137183988351748</td></tr>",
                            "<tr><td>11000</td><td>65</td><td>903.75</td><td>1265793.22</td><td>0.0713979175840426764175</td><td>51097.80</td><td>1.7686671441823327031692</td></tr>",
                            "<tr><td>11077</td><td>65</td><td>1255.72</td><td>1265793.22</td><td>0.0992041970330667437134</td><td>51097.80</td><td>2.4574834924399876315614</td></tr>",
                            "<tr><td>11062</td><td>66</td><td>406.40</td><td>1265793.22</td><td>0.0321063498823291216554</td><td>7048.24</td><td>5.7659784570332451789382</td></tr>",
                            "<tr><td>11010</td><td>66</td><td>645.00</td><td>1265793.22</td><td>0.0509561901429682171942</td><td>7048.24</td><td>9.1512207302816022155885</td></tr>",
                            "<tr><td>10908</td><td>66</td><td>663.10</td><td>1265793.22</td><td>0.0523861235407786431341</td><td>7048.24</td><td>9.4080224282941557041190</td></tr>",
                            "<tr><td>10942</td><td>66</td><td>560.00</td><td>1265793.22</td><td>0.0442410333024220180291</td><td>7048.24</td><td>7.9452459053607709158598</td></tr>",
                            "<tr><td>10586</td><td>66</td><td>23.80</td><td>1265793.22</td><td>0.0018802439153529357662</td><td>7048.24</td><td>0.3376729509778327639240</td></tr>",
                            "<tr><td>10562</td><td>66</td><td>488.70</td><td>1265793.22</td><td>0.0386082017408815003764</td><td>7048.24</td><td>6.9336458463389441903226</td></tr>",
                            "<tr><td>10655</td><td>66</td><td>154.40</td><td>1265793.22</td><td>0.0121978848962392135423</td><td>7048.24</td><td>2.1906177996208982668013</td></tr>",
                            "<tr><td>10812</td><td>66</td><td>1692.80</td><td>1265793.22</td><td>0.1337343235256071287852</td><td>7048.24</td><td>24.0173433367762732256563</td></tr>",
                            "<tr><td>10727</td><td>66</td><td>1624.50</td><td>1265793.22</td><td>0.1283384974996153005148</td><td>7048.24</td><td>23.0483070951045934871684</td></tr>",
                            "<tr><td>10288</td><td>66</td><td>80.10</td><td>1265793.22</td><td>0.0063280477991500065073</td><td>7048.24</td><td>1.1364539232489245542149</td></tr>",
                            "<tr><td>10428</td><td>66</td><td>192.00</td><td>1265793.22</td><td>0.0151683542751161204671</td><td>7048.24</td><td>2.7240843104094071711519</td></tr>",
                            "<tr><td>10443</td><td>66</td><td>517.44</td><td>1265793.22</td><td>0.0408787147714379446589</td><td>7048.24</td><td>7.3414072165533523262544</td></tr>",
                            "<tr><td>10447</td><td>67</td><td>914.40</td><td>1265793.22</td><td>0.0722392872352405237247</td><td>12450.81</td><td>7.3441005043045392227493</td></tr>",
                            "<tr><td>10481</td><td>67</td><td>1472.00</td><td>1265793.22</td><td>0.1162907161092235902480</td><td>12450.81</td><td>11.8225239964307543043384</td></tr>",
                            "<tr><td>10299</td><td>67</td><td>349.50</td><td>1265793.22</td><td>0.0276111448914223130378</td><td>12450.81</td><td>2.8070462885547205362542</td></tr>",
                            "<tr><td>10287</td><td>67</td><td>819.00</td><td>1265793.22</td><td>0.0647025112047922013676</td><td>12450.81</td><td>6.5778852942097743038404</td></tr>",
                            "<tr><td>10813</td><td>67</td><td>602.40</td><td>1265793.22</td><td>0.0475907115381768279656</td><td>12450.81</td><td>4.8382394398436728212863</td></tr>",
                            "<tr><td>10648</td><td>67</td><td>372.38</td><td>1265793.22</td><td>0.0294187071092069840601</td><td>12450.81</td><td>2.9908094332818507390282</td></tr>",
                            "<tr><td>10622</td><td>67</td><td>560.00</td><td>1265793.22</td><td>0.0442410333024220180291</td><td>12450.81</td><td>4.4976993464682217462157</td></tr>",
                            "<tr><td>10563</td><td>67</td><td>965.00</td><td>1265793.22</td><td>0.0762367806014950846394</td><td>12450.81</td><td>7.7504997666818464019609</td></tr>",
                            "<tr><td>10851</td><td>67</td><td>2603.00</td><td>1265793.22</td><td>0.2056418030110794873747</td><td>12450.81</td><td>20.9062703551013950096419</td></tr>",
                            "<tr><td>10877</td><td>67</td><td>1955.13</td><td>1265793.22</td><td>0.1544588775724363573380</td><td>12450.81</td><td>15.7028337915364542547834</td></tr>",
                            "<tr><td>11059</td><td>67</td><td>1838.00</td><td>1265793.22</td><td>0.1452053914461636948884</td><td>12450.81</td><td>14.7620917835867706599008</td></tr>",
                            "<tr><td>11075</td><td>68</td><td>498.10</td><td>1265793.22</td><td>0.0393508190856007271077</td><td>19343.78</td><td>2.5749879289363299210392</td></tr>",
                            "<tr><td>11033</td><td>68</td><td>3232.80</td><td>1265793.22</td><td>0.2553971651072676783653</td><td>19343.78</td><td>16.7123488790712053176783</td></tr>",
                            "<tr><td>10951</td><td>68</td><td>458.76</td><td>1265793.22</td><td>0.0362428864961055803411</td><td>19343.78</td><td>2.3716150617924728258902</td></tr>",
                            "<tr><td>10931</td><td>68</td><td>799.20</td><td>1265793.22</td><td>0.0631382746701708514444</td><td>19343.78</td><td>4.1315606360287389538135</td></tr>",
                            "<tr><td>10666</td><td>68</td><td>4666.94</td><td>1265793.22</td><td>0.3686968713578668086087</td><td>19343.78</td><td>24.1263083016866403567451</td></tr>",
                            "<tr><td>10758</td><td>68</td><td>1644.60</td><td>1265793.22</td><td>0.1299264345877915193762</td><td>19343.78</td><td>8.5019577352513314357379</td></tr>",
                            "<tr><td>10751</td><td>68</td><td>1631.48</td><td>1265793.22</td><td>0.1288899303789919178110</td><td>19343.78</td><td>8.4341323154006093948545</td></tr>",
                            "<tr><td>10255</td><td>68</td><td>2490.50</td><td>1265793.22</td><td>0.1967540954280036355385</td><td>19343.78</td><td>12.8749396446816496051960</td></tr>",
                            "<tr><td>10537</td><td>68</td><td>1823.80</td><td>1265793.22</td><td>0.1440835652445665651456</td><td>19343.78</td><td>9.4283537137002178478043</td></tr>",
                            "<tr><td>10419</td><td>68</td><td>2097.60</td><td>1265793.22</td><td>0.1657142704556436161034</td><td>19343.78</td><td>10.8437957834508043412404</td></tr>",
                            "<tr><td>10281</td><td>69</td><td>86.50</td><td>1265793.22</td><td>0.0068336596083205438562</td><td>1467.29</td><td>5.8952218034608018864709</td></tr>",
                            "<tr><td>10282</td><td>69</td><td>155.40</td><td>1265793.22</td><td>0.0122768867414221100030</td><td>1467.29</td><td>10.5909533902636833891050</td></tr>",
                            "<tr><td>10306</td><td>69</td><td>498.50</td><td>1265793.22</td><td>0.0393824198236738856920</td><td>1467.29</td><td>33.9741973297712108717431</td></tr>",
                            "<tr><td>10917</td><td>69</td><td>365.89</td><td>1265793.22</td><td>0.0289059851339699860297</td><td>1467.29</td><td>24.9364474643730959796631</td></tr>",
                            "<tr><td>11013</td><td>69</td><td>361.00</td><td>1265793.22</td><td>0.0285196661110256223366</td><td>1467.29</td><td>24.6031800121312078730176</td></tr>",
                            "<tr><td>11015</td><td>70</td><td>622.35</td><td>1265793.22</td><td>0.0491667983495756123579</td><td>5735.15</td><td>10.8515034480353608885556</td></tr>",
                            "<tr><td>10909</td><td>70</td><td>670.00</td><td>1265793.22</td><td>0.0529312362725406287134</td><td>5735.15</td><td>11.6823448384087600149952</td></tr>",
                            "<tr><td>10831</td><td>70</td><td>2684.40</td><td>1265793.22</td><td>0.2120725532089672592811</td><td>5735.15</td><td>46.8060992301857841556018</td></tr>",
                            "<tr><td>10387</td><td>70</td><td>1058.40</td><td>1265793.22</td><td>0.0836155529415776140750</td><td>5735.15</td><td>18.4546175775698979102551</td></tr>",
                            "<tr><td>10520</td><td>70</td><td>200.00</td><td>1265793.22</td><td>0.0158003690365792921532</td><td>5735.15</td><td>3.4872671159429134373120</td></tr>",
                            "<tr><td>10639</td><td>70</td><td>500.00</td><td>1265793.22</td><td>0.0395009225914482303831</td><td>5735.15</td><td>8.7181677898572835932800</td></tr>",
                            "<tr><td>10627</td><td>71</td><td>1185.75</td><td>1265793.22</td><td>0.0936764379256194783536</td><td>104361.96</td><td>1.1361898530843997180581</td></tr>",
                            "<tr><td>10657</td><td>71</td><td>4371.60</td><td>1265793.22</td><td>0.3453644664015501678860</td><td>104361.96</td><td>4.1888826158496831604159</td></tr>",
                            "<tr><td>10678</td><td>71</td><td>5256.50</td><td>1265793.22</td><td>0.4152731992038952460181</td><td>104361.96</td><td>5.0367969325221565405632</td></tr>",
                            "<tr><td>10555</td><td>71</td><td>2944.40</td><td>1265793.22</td><td>0.2326130329565203390803</td><td>104361.96</td><td>2.8213345169063517013287</td></tr>",
                            "<tr><td>10603</td><td>71</td><td>1483.00</td><td>1265793.22</td><td>0.1171597364062354513164</td><td>104361.96</td><td>1.4210158567355385046428</td></tr>",
                            "<tr><td>10607</td><td>71</td><td>6475.40</td><td>1265793.22</td><td>0.5115685482973277420462</td><td>104361.96</td><td>6.2047512331121416270832</td></tr>",
                            "<tr><td>10612</td><td>71</td><td>6375.00</td><td>1265793.22</td><td>0.5036367630409649373852</td><td>104361.96</td><td>6.1085475972279554734311</td></tr>",
                            "<tr><td>10748</td><td>71</td><td>2196.00</td><td>1265793.22</td><td>0.1734880520216406278428</td><td>104361.96</td><td>2.1042149840804063089654</td></tr>",
                            "<tr><td>10700</td><td>71</td><td>1638.40</td><td>1265793.22</td><td>0.1294366231476575613195</td><td>104361.96</td><td>1.5699206875762011368893</td></tr>",
                            "<tr><td>10722</td><td>71</td><td>1570.00</td><td>1265793.22</td><td>0.1240328969371474434031</td><td>104361.96</td><td>1.5043795651212376616920</td></tr>",
                            "<tr><td>10713</td><td>71</td><td>2827.90</td><td>1265793.22</td><td>0.2234093179927129014010</td><td>104361.96</td><td>2.7097038039530878875789</td></tr>",
                            "<tr><td>10714</td><td>71</td><td>2205.75</td><td>1265793.22</td><td>0.1742583200121738683353</td><td>104361.96</td><td>2.1135574686408725938071</td></tr>",
                            "<tr><td>10711</td><td>71</td><td>4451.70</td><td>1265793.22</td><td>0.3516925142007001743934</td><td>104361.96</td><td>4.2656347197772061774232</td></tr>",
                            "<tr><td>10757</td><td>71</td><td>3082.00</td><td>1265793.22</td><td>0.2434836868536868920817</td><td>104361.96</td><td>2.9531833246520092186846</td></tr>",
                            "<tr><td>10815</td><td>71</td><td>40.00</td><td>1265793.22</td><td>0.0031600738073158584306</td><td>104361.96</td><td>0.0383281417865283480685</td></tr>",
                            "<tr><td>10510</td><td>71</td><td>4707.54</td><td>1265793.22</td><td>0.3719043462722924049158</td><td>104361.96</td><td>4.5107815146438414916699</td></tr>",
                            "<tr><td>10398</td><td>71</td><td>2505.60</td><td>1265793.22</td><td>0.1979470232902653720960</td><td>104361.96</td><td>2.4008748015081357230163</td></tr>",
                            "<tr><td>10393</td><td>71</td><td>2556.95</td><td>1265793.22</td><td>0.2020037680404071053564</td><td>104361.96</td><td>2.4500785535265914898493</td></tr>",
                            "<tr><td>10452</td><td>71</td><td>2018.50</td><td>1265793.22</td><td>0.1594652245016765060568</td><td>104361.96</td><td>1.9341338549026867644110</td></tr>",
                            "<tr><td>10440</td><td>71</td><td>4924.14</td><td>1265793.22</td><td>0.3890161459389077783178</td><td>104361.96</td><td>4.7183284024178924964613</td></tr>",
                            "<tr><td>10324</td><td>71</td><td>5275.72</td><td>1265793.22</td><td>0.4167916146683105159940</td><td>104361.96</td><td>5.0552136046505834118102</td></tr>",
                            "<tr><td>10847</td><td>71</td><td>4931.92</td><td>1265793.22</td><td>0.3896307802944307127826</td><td>104361.96</td><td>4.7257832259953722601606</td></tr>",
                            "<tr><td>10882</td><td>71</td><td>892.64</td><td>1265793.22</td><td>0.0705202070840606967384</td><td>104361.96</td><td>0.8553308121081666154985</td></tr>",
                            "<tr><td>10894</td><td>71</td><td>2753.10</td><td>1265793.22</td><td>0.2174999799730322461357</td><td>104361.96</td><td>2.6380301788122798766907</td></tr>",
                            "<tr><td>10941</td><td>71</td><td>4011.75</td><td>1265793.22</td><td>0.3169356524124848764792</td><td>104361.96</td><td>3.8440730703026275091038</td></tr>",
                            "<tr><td>11002</td><td>71</td><td>1811.10</td><td>1265793.22</td><td>0.1430802418107437800938</td><td>104361.96</td><td>1.7354024397395372796754</td></tr>",
                            "<tr><td>10983</td><td>71</td><td>720.90</td><td>1265793.22</td><td>0.0569524301923500585664</td><td>104361.96</td><td>0.6907689353477071530661</td></tr>",
                            "<tr><td>10984</td><td>71</td><td>1809.75</td><td>1265793.22</td><td>0.1429735893197468698718</td><td>104361.96</td><td>1.7341088649542419479281</td></tr>",
                            "<tr><td>11030</td><td>71</td><td>12615.05</td><td>1265793.22</td><td>0.9966122270744979973901</td><td>104361.96</td><td>12.0877856261036109325658</td></tr>",
                            "<tr><td>11031</td><td>71</td><td>2393.50</td><td>1265793.22</td><td>0.1890909164452626788441</td><td>104361.96</td><td>2.2934601841513900275541</td></tr>",
                            "<tr><td>11064</td><td>71</td><td>4330.40</td><td>1265793.22</td><td>0.3421095903800148337024</td><td>104361.96</td><td>4.1494046298095589619052</td></tr>",
                            "<tr><td>10869</td><td>72</td><td>1630.00</td><td>1265793.22</td><td>0.1287730076481212310490</td><td>16215.33</td><td>10.0522160202721745410053</td></tr>",
                            "<tr><td>10388</td><td>72</td><td>1228.80</td><td>1265793.22</td><td>0.0970774673607431709896</td><td>16215.33</td><td>7.5780141384726675312805</td></tr>",
                            "<tr><td>10377</td><td>72</td><td>863.60</td><td>1265793.22</td><td>0.0682259934999493835177</td><td>16215.33</td><td>5.3258243896362269531363</td></tr>",
                            "<tr><td>10359</td><td>72</td><td>3471.68</td><td>1265793.22</td><td>0.2742691258845579849132</td><td>16215.33</td><td>21.4098633823671796997039</td></tr>",
                            "<tr><td>10523</td><td>72</td><td>2444.31</td><td>1265793.22</td><td>0.1931050001990056480157</td><td>16215.33</td><td>15.0740687978598030382360</td></tr>",
                            "<tr><td>10472</td><td>72</td><td>1036.80</td><td>1265793.22</td><td>0.0819091130856270505225</td><td>16215.33</td><td>6.3939494293363132295179</td></tr>",
                            "<tr><td>10804</td><td>72</td><td>2278.40</td><td>1265793.22</td><td>0.1799978040647112962099</td><td>16215.33</td><td>14.0509012150847377142494</td></tr>",
                            "<tr><td>10800</td><td>72</td><td>1468.94</td><td>1265793.22</td><td>0.1160489704629639270780</td><td>16215.33</td><td>9.0589584054101890001621</td></tr>",
                            "<tr><td>10547</td><td>72</td><td>1792.80</td><td>1265793.22</td><td>0.1416345080438967748618</td><td>16215.33</td><td>11.0562042215607082927081</td></tr>",
                            "<tr><td>10556</td><td>73</td><td>835.20</td><td>1265793.22</td><td>0.0659823410967551240320</td><td>16817.10</td><td>4.9663735126745990688049</td></tr>",
                            "<tr><td>10669</td><td>73</td><td>570.00</td><td>1265793.22</td><td>0.0450310517542509826368</td><td>16817.10</td><td>3.3894072105178657437964</td></tr>",
                            "<tr><td>10642</td><td>73</td><td>696.00</td><td>1265793.22</td><td>0.0549852842472959366933</td><td>16817.10</td><td>4.1386445938954992240041</td></tr>",
                            "<tr><td>10802</td><td>73</td><td>2942.81</td><td>1265793.22</td><td>0.2324874200226795337077</td><td>16817.10</td><td>17.4989147950597903324592</td></tr>",
                            "<tr><td>10417</td><td>73</td><td>11188.40</td><td>1265793.22</td><td>0.8839042446443187616378</td><td>16817.10</td><td>66.5299011125580510313906</td></tr>",
                            "<tr><td>10341</td><td>73</td><td>352.60</td><td>1265793.22</td><td>0.0278560506114892920662</td><td>16817.10</td><td>2.0966754077694727390572</td></tr>",
                            "<tr><td>11074</td><td>73</td><td>232.09</td><td>1265793.22</td><td>0.0183355382484984395792</td><td>16817.10</td><td>1.3800833675247218604872</td></tr>",
                            "<tr><td>11043</td><td>74</td><td>210.00</td><td>1265793.22</td><td>0.0165903874884082567609</td><td>2423.35</td><td>8.6656900571522891864567</td></tr>",
                            "<tr><td>10907</td><td>74</td><td>108.50</td><td>1265793.22</td><td>0.0085717002023442659931</td><td>2423.35</td><td>4.4772731961953494130026</td></tr>",
                            "<tr><td>10964</td><td>74</td><td>2052.50</td><td>1265793.22</td><td>0.1621512872378949857228</td><td>2423.35</td><td>84.6968040109765407390595</td></tr>",
                            "<tr><td>10738</td><td>74</td><td>52.35</td><td>1265793.22</td><td>0.0041357465953246297211</td><td>2423.35</td><td>2.1602327356758206614810</td></tr>",
                            "<tr><td>10756</td><td>75</td><td>1990.00</td><td>1265793.22</td><td>0.1572136719139639569249</td><td>11441.63</td><td>17.3926267498599412845896</td></tr>",
                            "<tr><td>10821</td><td>75</td><td>678.00</td><td>1265793.22</td><td>0.0535632510340038003995</td><td>11441.63</td><td>5.9257291137713769803777</td></tr>",
                            "<tr><td>10349</td><td>75</td><td>141.60</td><td>1265793.22</td><td>0.0111866612778981388445</td><td>11441.63</td><td>1.2375859034071194401496</td></tr>",
                            "<tr><td>10329</td><td>75</td><td>4578.43</td><td>1265793.22</td><td>0.3617044180407286428663</td><td>11441.63</td><td>40.0155397439001261183939</td></tr>",
                            "<tr><td>10369</td><td>75</td><td>2390.40</td><td>1265793.22</td><td>0.1888460107251956998158</td><td>11441.63</td><td>20.8921281320930671591372</td></tr>",
                            "<tr><td>10385</td><td>75</td><td>691.20</td><td>1265793.22</td><td>0.0546060753904180336816</td><td>11441.63</td><td>6.0410972912076338773409</td></tr>",
                            "<tr><td>10271</td><td>75</td><td>48.00</td><td>1265793.22</td><td>0.0037920885687790301167</td><td>11441.63</td><td>0.4195206452227523525931</td></tr>",
                            "<tr><td>10432</td><td>75</td><td>485.00</td><td>1265793.22</td><td>0.0383158949137047834716</td><td>11441.63</td><td>4.2389065194382268959929</td></tr>",
                            "<tr><td>10974</td><td>75</td><td>439.00</td><td>1265793.22</td><td>0.0346818100352915462764</td><td>11441.63</td><td>3.8368659010997558914245</td></tr>",
                            "<tr><td>10930</td><td>76</td><td>2255.50</td><td>1265793.22</td><td>0.1781886618100229672584</td><td>24088.78</td><td>9.3632803321712432094942</td></tr>",
                            "<tr><td>10846</td><td>76</td><td>1112.00</td><td>1265793.22</td><td>0.0878500518433808643721</td><td>24088.78</td><td>4.6162570292061283302848</td></tr>",
                            "<tr><td>10841</td><td>76</td><td>4581.00</td><td>1265793.22</td><td>0.3619074527828486867704</td><td>24088.78</td><td>19.0171523838069009721538</td></tr>",
                            "<tr><td>10885</td><td>76</td><td>1209.00</td><td>1265793.22</td><td>0.0955132308261218210664</td><td>24088.78</td><td>5.0189341261782456396712</td></tr>",
                            "<tr><td>11035</td><td>76</td><td>1754.50</td><td>1265793.22</td><td>0.1386087373733918404145</td><td>24088.78</td><td>7.2834738828616476218388</td></tr>",
                            "<tr><td>11038</td><td>76</td><td>732.60</td><td>1265793.22</td><td>0.0578767517809899471574</td><td>24088.78</td><td>3.0412499097090014521283</td></tr>",
                            "<tr><td>10463</td><td>76</td><td>713.30</td><td>1265793.22</td><td>0.0563520161689600454646</td><td>24088.78</td><td>2.9611296213423842967555</td></tr>",
                            "<tr><td>10458</td><td>76</td><td>3891.00</td><td>1265793.22</td><td>0.3073961796066501288417</td><td>24088.78</td><td>16.1527482919433860909518</td></tr>",
                            "<tr><td>10475</td><td>76</td><td>1505.18</td><td>1265793.22</td><td>0.1189119973323920948162</td><td>24088.78</td><td>6.2484692043349642447645</td></tr>",
                            "<tr><td>10252</td><td>76</td><td>3597.90</td><td>1265793.22</td><td>0.2842407387835431761911</td><td>24088.78</td><td>14.9359992494431017261978</td></tr>",
                            "<tr><td>10302</td><td>76</td><td>2708.80</td><td>1265793.22</td><td>0.2140001982314299329237</td><td>24088.78</td><td>11.2450692812172305944925</td></tr>",
                            "<tr><td>10767</td><td>76</td><td>28.00</td><td>1265793.22</td><td>0.0022120516651211009014</td><td>24088.78</td><td>0.1162366877857658212661</td></tr>",
                            "<tr><td>10805</td><td>77</td><td>2775.00</td><td>1265793.22</td><td>0.2192301203825376786265</td><td>3361.00</td><td>82.5647128830705147277595</td></tr>",
                            "<tr><td>10708</td><td>77</td><td>180.40</td><td>1265793.22</td><td>0.0142519328709945215222</td><td>3361.00</td><td>5.3674501636417732817613</td></tr>",
                            "<tr><td>10310</td><td>77</td><td>336.00</td><td>1265793.22</td><td>0.0265446199814532108174</td><td>3361.00</td><td>9.9970246950312407021719</td></tr>",
                            "<tr><td>10992</td><td>77</td><td>69.60</td><td>1265793.22</td><td>0.0054985284247295936693</td><td>3361.00</td><td>2.0708122582564712883070</td></tr>",
                            "<tr><td>11003</td><td>78</td><td>326.00</td><td>1265793.22</td><td>0.0257546015296242462098</td><td>1947.24</td><td>16.7416445841293317721492</td></tr>",
                            "<tr><td>10775</td><td>78</td><td>228.00</td><td>1265793.22</td><td>0.0180124207017003930547</td><td>1947.24</td><td>11.7088802612929068835890</td></tr>",
                            "<tr><td>10624</td><td>78</td><td>1393.24</td><td>1265793.22</td><td>0.1100685307826186649980</td><td>1947.24</td><td>71.5494751545777613442616</td></tr>",
                            "<tr><td>10548</td><td>79</td><td>240.10</td><td>1265793.22</td><td>0.0189683430284134402299</td><td>4778.14</td><td>5.0249678745285822516711</td></tr>",
                            "<tr><td>10608</td><td>79</td><td>1064.00</td><td>1265793.22</td><td>0.0840579632746018342553</td><td>4778.14</td><td>22.2680792107389067712540</td></tr>",
                            "<tr><td>10249</td><td>79</td><td>1863.40</td><td>1265793.22</td><td>0.1472120383138092649919</td><td>4778.14</td><td>38.9984387230177433059726</td></tr>",
                            "<tr><td>10438</td><td>79</td><td>454.00</td><td>1265793.22</td><td>0.0358668377130349931879</td><td>4778.14</td><td>9.5016052271385936787117</td></tr>",
                            "<tr><td>10446</td><td>79</td><td>246.24</td><td>1265793.22</td><td>0.0194534143578364244990</td><td>4778.14</td><td>5.1534697601995755670616</td></tr>",
                            "<tr><td>10967</td><td>79</td><td>910.40</td><td>1265793.22</td><td>0.0719232798545089378816</td><td>4778.14</td><td>19.0534392043765984253286</td></tr>",
                            "<tr><td>10915</td><td>80</td><td>539.50</td><td>1265793.22</td><td>0.0426214954761726405834</td><td>10812.15</td><td>4.9897568938647725013064</td></tr>",
                            "<tr><td>10842</td><td>80</td><td>975.00</td><td>1265793.22</td><td>0.0770267990533240492471</td><td>10812.15</td><td>9.0176329407194683758549</td></tr>",
                            "<tr><td>11069</td><td>80</td><td>360.00</td><td>1265793.22</td><td>0.0284406642658427258758</td><td>10812.15</td><td>3.3295875473425729387772</td></tr>",
                            "<tr><td>10518</td><td>80</td><td>4150.05</td><td>1265793.22</td><td>0.3278616076012794570032</td><td>10812.15</td><td>38.3832077801362356238121</td></tr>",
                            "<tr><td>10276</td><td>80</td><td>420.00</td><td>1265793.22</td><td>0.0331807749768165135218</td><td>10812.15</td><td>3.8845188052330017619067</td></tr>",
                            "<tr><td>10304</td><td>80</td><td>954.40</td><td>1265793.22</td><td>0.0753993610425563821553</td><td>10812.15</td><td>8.8271065421770878132471</td></tr>",
                            "<tr><td>10293</td><td>80</td><td>848.70</td><td>1265793.22</td><td>0.0670488660067242262523</td><td>10812.15</td><td>7.8495026428601157031672</td></tr>",
                            "<tr><td>10319</td><td>80</td><td>1191.20</td><td>1265793.22</td><td>0.0941069979818662640648</td><td>10812.15</td><td>11.0172352399846469018650</td></tr>",
                            "<tr><td>10576</td><td>80</td><td>838.45</td><td>1265793.22</td><td>0.0662390970935995375295</td><td>10812.15</td><td>7.7547018863038341125493</td></tr>",
                            "<tr><td>10676</td><td>80</td><td>534.85</td><td>1265793.22</td><td>0.0422541368960721720408</td><td>10812.15</td><td>4.9467497213782642675138</td></tr>",
                            "<tr><td>10606</td><td>81</td><td>1130.40</td><td>1265793.22</td><td>0.0893036857947461592502</td><td>6850.66</td><td>16.5005999421953505209717</td></tr>",
                            "<tr><td>10830</td><td>81</td><td>1974.00</td><td>1265793.22</td><td>0.1559496423910376135527</td><td>6850.66</td><td>28.8147419372731970350302</td></tr>",
                            "<tr><td>10292</td><td>81</td><td>1296.00</td><td>1265793.22</td><td>0.1023863913570338131531</td><td>6850.66</td><td>18.9178852840456248011140</td></tr>",
                            "<tr><td>10496</td><td>81</td><td>190.00</td><td>1265793.22</td><td>0.0150103505847503275456</td><td>6850.66</td><td>2.7734554042968122779411</td></tr>",
                            "<tr><td>10834</td><td>81</td><td>1432.71</td><td>1265793.22</td><td>0.1131867336119875883045</td><td>6850.66</td><td>20.9134594331057153617315</td></tr>",
                            "<tr><td>10839</td><td>81</td><td>827.55</td><td>1265793.22</td><td>0.0653779769811059661071</td><td>6850.66</td><td>12.0798579990833000032113</td></tr>",
                            "<tr><td>10822</td><td>82</td><td>237.90</td><td>1265793.22</td><td>0.0187945389690110680163</td><td>1571.20</td><td>15.1412932790224032586558</td></tr>",
                            "<tr><td>10577</td><td>82</td><td>569.00</td><td>1265793.22</td><td>0.0449520499090680861760</td><td>1571.20</td><td>36.2143584521384928716904</td></tr>",
                            "<tr><td>10574</td><td>82</td><td>764.30</td><td>1265793.22</td><td>0.0603811102732877649636</td><td>1571.20</td><td>48.6443482688391038696537</td></tr>",
                            "<tr><td>10602</td><td>83</td><td>48.75</td><td>1265793.22</td><td>0.0038513399526662024623</td><td>15843.93</td><td>0.3076888120560997176836</td></tr>",
                            "<tr><td>10591</td><td>83</td><td>812.50</td><td>1265793.22</td><td>0.0641889992111033743726</td><td>15843.93</td><td>5.1281468676016619613946</td></tr>",
                            "<tr><td>10769</td><td>83</td><td>1684.28</td><td>1265793.22</td><td>0.1330612278046488509394</td><td>15843.93</td><td>10.6304433306635411794927</td></tr>",
                            "<tr><td>10688</td><td>83</td><td>3160.60</td><td>1265793.22</td><td>0.2496932318850625538980</td><td>15843.93</td><td>19.9483335258360772863803</td></tr>",
                            "<tr><td>10744</td><td>83</td><td>736.00</td><td>1265793.22</td><td>0.0581453580546117951240</td><td>15843.93</td><td>4.6453121163751670197987</td></tr>",
                            "<tr><td>10465</td><td>83</td><td>2518.00</td><td>1265793.22</td><td>0.1989266461705332882095</td><td>15843.93</td><td>15.8925216155335197769745</td></tr>",
                            "<tr><td>10399</td><td>83</td><td>1765.60</td><td>1265793.22</td><td>0.1394856578549219911290</td><td>15843.93</td><td>11.1436998269999930572780</td></tr>",
                            "<tr><td>10367</td><td>83</td><td>834.20</td><td>1265793.22</td><td>0.0659033392515722275712</td><td>15843.93</td><td>5.2651078362502232716251</td></tr>",
                            "<tr><td>10921</td><td>83</td><td>1936.00</td><td>1265793.22</td><td>0.1529475722740875480435</td><td>15843.93</td><td>12.2191905669868523781662</td></tr>",
                            "<tr><td>10946</td><td>83</td><td>1407.50</td><td>1265793.22</td><td>0.1111950970949267685285</td><td>15843.93</td><td>8.8835282660299559515852</td></tr>",
                            "<tr><td>10994</td><td>83</td><td>940.50</td><td>1265793.22</td><td>0.0743012353945141213507</td><td>15843.93</td><td>5.9360272356669083996205</td></tr>",
                            "<tr><td>10843</td><td>84</td><td>159.00</td><td>1265793.22</td><td>0.0125612933840805372618</td><td>9182.43</td><td>1.7315677876117759677993</td></tr>",
                            "<tr><td>10850</td><td>84</td><td>629.00</td><td>1265793.22</td><td>0.0496921606200418738220</td><td>9182.43</td><td>6.8500386063384093317346</td></tr>",
                            "<tr><td>10334</td><td>84</td><td>144.80</td><td>1265793.22</td><td>0.0114394671824834075189</td><td>9182.43</td><td>1.5769246267055670448889</td></tr>",
                            "<tr><td>10251</td><td>84</td><td>654.06</td><td>1265793.22</td><td>0.0516719468603252591288</td><td>9182.43</td><td>7.1229511142475357830116</td></tr>",
                            "<tr><td>10459</td><td>84</td><td>1659.20</td><td>1265793.22</td><td>0.1310798615274618077034</td><td>9182.43</td><td>18.0692910264494256966837</td></tr>",
                            "<tr><td>10450</td><td>84</td><td>425.12</td><td>1265793.22</td><td>0.0335852644241529434009</td><td>9182.43</td><td>4.6297113073554603737790</td></tr>",
                            "<tr><td>10478</td><td>84</td><td>471.20</td><td>1265793.22</td><td>0.0372256694501808123130</td><td>9182.43</td><td>5.1315392548595524278431</td></tr>",
                            "<tr><td>10806</td><td>84</td><td>439.60</td><td>1265793.22</td><td>0.0347292111424012841528</td><td>9182.43</td><td>4.7874037700260170782679</td></tr>",
                            "<tr><td>10814</td><td>84</td><td>1788.45</td><td>1265793.22</td><td>0.1412908500173511752575</td><td>9182.43</td><td>19.4768705015992498717659</td></tr>",
                            "<tr><td>10546</td><td>84</td><td>2812.00</td><td>1265793.22</td><td>0.2221531886543048476748</td><td>9182.43</td><td>30.6237020048070064242253</td></tr>",
                            "<tr><td>10739</td><td>85</td><td>240.00</td><td>1265793.22</td><td>0.0189604428438951505839</td><td>1480.00</td><td>16.2162162162162162162162</td></tr>",
                            "<tr><td>10737</td><td>85</td><td>139.80</td><td>1265793.22</td><td>0.0110444579565689252151</td><td>1480.00</td><td>9.4459459459459459459459</td></tr>",
                            "<tr><td>10248</td><td>85</td><td>440.00</td><td>1265793.22</td><td>0.0347608118804744427371</td><td>1480.00</td><td>29.7297297297297297297297</td></tr>",
                            "<tr><td>10274</td><td>85</td><td>538.60</td><td>1265793.22</td><td>0.0425503938155080337687</td><td>1480.00</td><td>36.3918918918918918918918</td></tr>",
                            "<tr><td>10295</td><td>85</td><td>121.60</td><td>1265793.22</td><td>0.0096066243742402096291</td><td>1480.00</td><td>8.2162162162162162162162</td></tr>",
                            "<tr><td>10301</td><td>86</td><td>755.00</td><td>1265793.22</td><td>0.0596463931130868278785</td><td>9588.43</td><td>7.8740732320098285120713</td></tr>",
                            "<tr><td>10312</td><td>86</td><td>1614.80</td><td>1265793.22</td><td>0.1275721796013412048454</td><td>9588.43</td><td>16.8411304040390345447586</td></tr>",
                            "<tr><td>10348</td><td>86</td><td>363.60</td><td>1265793.22</td><td>0.0287250709085011531346</td><td>9588.43</td><td>3.7920702346473823138928</td></tr>",
                            "<tr><td>10356</td><td>86</td><td>1106.40</td><td>1265793.22</td><td>0.0874076415103566441918</td><td>9588.43</td><td>11.5389067866167871069612</td></tr>",
                            "<tr><td>10513</td><td>86</td><td>1942.00</td><td>1265793.22</td><td>0.1534215833451849268081</td><td>9588.43</td><td>20.2535764457789231396589</td></tr>",
                            "<tr><td>10668</td><td>86</td><td>625.28</td><td>1265793.22</td><td>0.0493982737559614989879</td><td>9588.43</td><td>6.5211927291537822146065</td></tr>",
                            "<tr><td>10651</td><td>86</td><td>397.80</td><td>1265793.22</td><td>0.0314269340137562120928</td><td>9588.43</td><td>4.1487501082033242147045</td></tr>",
                            "<tr><td>10632</td><td>86</td><td>589.00</td><td>1265793.22</td><td>0.0465320868127260153913</td><td>9588.43</td><td>6.1428200445745549584238</td></tr>",
                            "<tr><td>10640</td><td>86</td><td>708.75</td><td>1265793.22</td><td>0.0559925577733778665681</td><td>9588.43</td><td>7.3917210638237959707689</td></tr>",
                            "<tr><td>11046</td><td>86</td><td>1485.80</td><td>1265793.22</td><td>0.1173809415727475614065</td><td>9588.43</td><td>15.4957589511525870241530</td></tr>",
                            "<tr><td>11025</td><td>87</td><td>270.00</td><td>1265793.22</td><td>0.0213304981993820444069</td><td>15648.70</td><td>1.7253829391578853195473</td></tr>",
                            "<tr><td>10636</td><td>87</td><td>629.50</td><td>1265793.22</td><td>0.0497316615426333220523</td><td>15648.70</td><td>4.0226983711106992913149</td></tr>",
                            "<tr><td>10553</td><td>87</td><td>1546.30</td><td>1265793.22</td><td>0.1221605532063127972829</td><td>15648.70</td><td>9.8813319956290298874666</td></tr>",
                            "<tr><td>10583</td><td>87</td><td>2237.50</td><td>1265793.22</td><td>0.1767666285967308309646</td><td>15648.70</td><td>14.2983123198732163055078</td></tr>",
                            "<tr><td>10750</td><td>87</td><td>1590.56</td><td>1265793.22</td><td>0.1256571748741077946364</td><td>15648.70</td><td>10.1641669915072817550339</td></tr>",
                            "<tr><td>10781</td><td>87</td><td>975.88</td><td>1265793.22</td><td>0.0770963206770849981326</td><td>15648.70</td><td>6.2361729728348041690364</td></tr>",
                            "<tr><td>10526</td><td>87</td><td>1151.40</td><td>1265793.22</td><td>0.0909627245435869849263</td><td>15648.70</td><td>7.3577996894310709515806</td></tr>",
                            "<tr><td>10455</td><td>87</td><td>2684.00</td><td>1265793.22</td><td>0.2120409524708941006967</td><td>15648.70</td><td>17.1515844766657933246851</td></tr>",
                            "<tr><td>10437</td><td>87</td><td>393.00</td><td>1265793.22</td><td>0.0310477251568783090811</td><td>15648.70</td><td>2.5113907225520330762299</td></tr>",
                            "<tr><td>10416</td><td>87</td><td>720.00</td><td>1265793.22</td><td>0.0568813285316854517517</td><td>15648.70</td><td>4.6010211710876941854594</td></tr>",
                            "<tr><td>10412</td><td>87</td><td>334.80</td><td>1265793.22</td><td>0.0264498177672337350645</td><td>15648.70</td><td>2.1394748445557777962386</td></tr>",
                            "<tr><td>10333</td><td>87</td><td>877.20</td><td>1265793.22</td><td>0.0693004185944367753842</td><td>15648.70</td><td>5.6055774601085074159514</td></tr>",
                            "<tr><td>10320</td><td>87</td><td>516.00</td><td>1265793.22</td><td>0.0407649521143745737554</td><td>15648.70</td><td>3.2973985059461808329126</td></tr>",
                            "<tr><td>10270</td><td>87</td><td>1376.00</td><td>1265793.22</td><td>0.1087065389716655300144</td><td>15648.70</td><td>8.7930626825231488877670</td></tr>",
                            "<tr><td>10266</td><td>87</td><td>346.56</td><td>1265793.22</td><td>0.0273788794665845974431</td><td>15648.70</td><td>2.2146248570168768012678</td></tr>",
                            "<tr><td>10256</td><td>88</td><td>517.80</td><td>1265793.22</td><td>0.0409071554357037873847</td><td>6068.20</td><td>8.5330081407995781286048</td></tr>",
                            "<tr><td>10420</td><td>88</td><td>1707.84</td><td>1265793.22</td><td>0.1349225112771578915551</td><td>6068.20</td><td>28.1440954484031508519824</td></tr>",
                            "<tr><td>10803</td><td>88</td><td>1193.01</td><td>1265793.22</td><td>0.0942499913216473066588</td><td>6068.20</td><td>19.6600309811805807323423</td></tr>",
                            "<tr><td>10809</td><td>88</td><td>140.00</td><td>1265793.22</td><td>0.0110602583256055045072</td><td>6068.20</td><td>2.3071091921821957087769</td></tr>",
                            "<tr><td>10585</td><td>88</td><td>142.50</td><td>1265793.22</td><td>0.0112577629385627456592</td><td>6068.20</td><td>2.3483075706140206321479</td></tr>",
                            "<tr><td>10644</td><td>88</td><td>1371.80</td><td>1265793.22</td><td>0.1083747312218973648792</td><td>6068.20</td><td>22.6063742131109719521439</td></tr>",
                            "<tr><td>10900</td><td>88</td><td>33.75</td><td>1265793.22</td><td>0.0026663122749227555508</td><td>6068.20</td><td>0.5561781088296364655087</td></tr>",
                            "<tr><td>10905</td><td>88</td><td>342.00</td><td>1265793.22</td><td>0.0270186310525505895820</td><td>6068.20</td><td>5.6359381694736495171550</td></tr>",
                            "<tr><td>10935</td><td>88</td><td>619.50</td><td>1265793.22</td><td>0.0489416430908043574447</td><td>6068.20</td><td>10.2089581754062160113377</td></tr>",
                            "<tr><td>10904</td><td>89</td><td>1924.25</td><td>1265793.22</td><td>0.1520193005931885146295</td><td>27363.61</td><td>7.0321496323036324520046</td></tr>",
                            "<tr><td>10861</td><td>89</td><td>3523.40</td><td>1265793.22</td><td>0.2783551013174173898640</td><td>27363.61</td><td>12.8762250302500291445463</td></tr>",
                            "<tr><td>11032</td><td>89</td><td>8902.50</td><td>1265793.22</td><td>0.7033139267407357419721</td><td>27363.61</td><td>32.5340845012774264799125</td></tr>",
                            "<tr><td>11066</td><td>89</td><td>928.75</td><td>1265793.22</td><td>0.0733729637136150879367</td><td>27363.61</td><td>3.3941062601023768428215</td></tr>",
                            "<tr><td>10596</td><td>89</td><td>1180.88</td><td>1265793.22</td><td>0.0932916989395787725897</td><td>27363.61</td><td>4.3155124634505461815893</td></tr>",
                            "<tr><td>10740</td><td>89</td><td>1416.00</td><td>1265793.22</td><td>0.1118666127789813884451</td><td>27363.61</td><td>5.1747558162099225942775</td></tr>",
                            "<tr><td>10696</td><td>89</td><td>996.00</td><td>1265793.22</td><td>0.0786858378021648749232</td><td>27363.61</td><td>3.6398706164866404688562</td></tr>",
                            "<tr><td>10693</td><td>89</td><td>2071.20</td><td>1265793.22</td><td>0.1636286217428151495391</td><td>27363.61</td><td>7.5691767277782427099348</td></tr>",
                            "<tr><td>10723</td><td>89</td><td>468.45</td><td>1265793.22</td><td>0.0370084143759278470459</td><td>27363.61</td><td>1.7119451709770750277467</td></tr>",
                            "<tr><td>10504</td><td>89</td><td>1388.50</td><td>1265793.22</td><td>0.1096940620364517357740</td><td>27363.61</td><td>5.0742573805137553122559</td></tr>",
                            "<tr><td>10483</td><td>89</td><td>668.80</td><td>1265793.22</td><td>0.0528364340583211529605</td><td>27363.61</td><td>2.4441219561307882987661</td></tr>",
                            "<tr><td>10469</td><td>89</td><td>956.68</td><td>1265793.22</td><td>0.0755794852495733860859</td><td>27363.61</td><td>3.4961761258839751041620</td></tr>",
                            "<tr><td>10269</td><td>89</td><td>642.20</td><td>1265793.22</td><td>0.0507349849764561071041</td><td>27363.61</td><td>2.3469125601483137641561</td></tr>",
                            "<tr><td>10344</td><td>89</td><td>2296.00</td><td>1265793.22</td><td>0.1813882365399302739194</td><td>27363.61</td><td>8.3907057584872756189698</td></tr>",
                            "<tr><td>10695</td><td>90</td><td>642.00</td><td>1265793.22</td><td>0.0507191846074195278119</td><td>3161.35</td><td>20.3077799041548705458111</td></tr>",
                            "<tr><td>10615</td><td>90</td><td>120.00</td><td>1265793.22</td><td>0.0094802214219475752919</td><td>3161.35</td><td>3.7958467110569851487497</td></tr>",
                            "<tr><td>10673</td><td>90</td><td>412.35</td><td>1265793.22</td><td>0.0325764108611673555969</td><td>3161.35</td><td>13.0434782608695652173913</td></tr>",
                            "<tr><td>11005</td><td>90</td><td>586.00</td><td>1265793.22</td><td>0.0462950812771773260090</td><td>3161.35</td><td>18.5363847723282774763945</td></tr>",
                            "<tr><td>10879</td><td>90</td><td>611.30</td><td>1265793.22</td><td>0.0482938279603046064664</td><td>3161.35</td><td>19.3366757872427918452559</td></tr>",
                            "<tr><td>10873</td><td>90</td><td>336.80</td><td>1265793.22</td><td>0.0266078214575995279860</td><td>3161.35</td><td>10.6536764356999383174909</td></tr>",
                            "<tr><td>10910</td><td>90</td><td>452.90</td><td>1265793.22</td><td>0.0357799356833338070810</td><td>3161.35</td><td>14.3261581286475714489063</td></tr>",
                            "<tr><td>10906</td><td>91</td><td>427.50</td><td>1265793.22</td><td>0.0337732888156882369776</td><td>3531.95</td><td>12.1037953538413624201928</td></tr>",
                            "<tr><td>10870</td><td>91</td><td>160.00</td><td>1265793.22</td><td>0.0126402952292634337226</td><td>3531.95</td><td>4.5300754540692818414756</td></tr>",
                            "<tr><td>10998</td><td>91</td><td>686.00</td><td>1265793.22</td><td>0.0541952657954669720856</td><td>3531.95</td><td>19.4226985093220458953269</td></tr>",
                            "<tr><td>11044</td><td>91</td><td>591.60</td><td>1265793.22</td><td>0.0467374916102015461893</td><td>3531.95</td><td>16.7499539914211696088562</td></tr>",
                            "<tr><td>10611</td><td>91</td><td>808.00</td><td>1265793.22</td><td>0.0638334909077803402991</td><td>3531.95</td><td>22.8768810430498732994521</td></tr>",
                            "<tr><td>10792</td><td>91</td><td>399.85</td><td>1265793.22</td><td>0.0315888877963811498374</td><td>3531.95</td><td>11.3209416894350146519627</td></tr>",
                            "<tr><td>10374</td><td>91</td><td>459.00</td><td>1265793.22</td><td>0.0362618469389494754917</td><td>3531.95</td><td>12.9956539588612522827333</td></tr>",
                            "</table>"
                        ]
                    }
                }
            ],
            "execution_count": 27
        },
        {
            "cell_type": "markdown",
            "source": [
                "**Explanation:** This query demonstrates the use of aggregate window functions to compute total and percentage values. The SUM(val) OVER() calculates the total value of all orders in the dataset, while SUM(val) OVER(PARTITION BY custid) computes the total value of orders for each customer (custid). The percentages (pctall and pctcust) are then calculated by dividing each order's value (val) by these totals. This analysis is useful for understanding the relative importance of each order in the context of overall sales and within each customer's orders. This query demonstrates the use of aggregate window functions to compute total and percentage values. The SUM(val) OVER() calculates the total value of all orders in the dataset, while SUM(val) OVER(PARTITION BY custid) computes the total value of orders for each customer (custid). The percentages (pctall and pctcust) are then calculated by dividing each order's value (val) by these totals. This analysis is useful for understanding the relative importance of each order in the context of overall sales and within each customer's orders."
            ],
            "metadata": {
                "azdata_cell_guid": "8bb00f3a-a501-42cf-af0d-3cba39061392"
            },
            "attachments": {}
        },
        {
            "cell_type": "markdown",
            "source": [
                "**TOP 3:** \n",
                "\n",
                "Pivot order quantities by customer, grouping by employee, to analyze the distribution of orders across customers for each employee.\n",
                "\n",
                "**Tables Involved:** dbo.Orders"
            ],
            "metadata": {
                "azdata_cell_guid": "a5c485c4-c339-4f7a-a08e-7b7e2228361e"
            },
            "attachments": {}
        },
        {
            "cell_type": "code",
            "source": [
                "USE TSQLV4\n",
                "SELECT empid,\n",
                "  SUM(CASE WHEN custid = 'A' THEN qty END) AS A,\n",
                "  SUM(CASE WHEN custid = 'B' THEN qty END) AS B,\n",
                "  SUM(CASE WHEN custid = 'C' THEN qty END) AS C,\n",
                "  SUM(CASE WHEN custid = 'D' THEN qty END) AS D\n",
                "FROM dbo.Orders\n",
                "GROUP BY empid;\n",
                ""
            ],
            "metadata": {
                "azdata_cell_guid": "42318f11-e49f-449e-a8fc-d8ae8d740a8a",
                "language": "sql",
                "tags": []
            },
            "outputs": [
                {
                    "output_type": "display_data",
                    "data": {
                        "text/html": "Warning: Null value is eliminated by an aggregate or other SET operation."
                    },
                    "metadata": {}
                },
                {
                    "output_type": "display_data",
                    "data": {
                        "text/html": "(3 rows affected)"
                    },
                    "metadata": {}
                },
                {
                    "output_type": "display_data",
                    "data": {
                        "text/html": "Total execution time: 00:00:00.039"
                    },
                    "metadata": {}
                },
                {
                    "output_type": "execute_result",
                    "metadata": {},
                    "execution_count": 28,
                    "data": {
                        "application/vnd.dataresource+json": {
                            "schema": {
                                "fields": [
                                    {
                                        "name": "empid"
                                    },
                                    {
                                        "name": "A"
                                    },
                                    {
                                        "name": "B"
                                    },
                                    {
                                        "name": "C"
                                    },
                                    {
                                        "name": "D"
                                    }
                                ]
                            },
                            "data": [
                                {
                                    "empid": "1",
                                    "A": "NULL",
                                    "B": "20",
                                    "C": "34",
                                    "D": "NULL"
                                },
                                {
                                    "empid": "2",
                                    "A": "52",
                                    "B": "27",
                                    "C": "NULL",
                                    "D": "NULL"
                                },
                                {
                                    "empid": "3",
                                    "A": "20",
                                    "B": "NULL",
                                    "C": "22",
                                    "D": "30"
                                }
                            ]
                        },
                        "text/html": [
                            "<table>",
                            "<tr><th>empid</th><th>A</th><th>B</th><th>C</th><th>D</th></tr>",
                            "<tr><td>1</td><td>NULL</td><td>20</td><td>34</td><td>NULL</td></tr>",
                            "<tr><td>2</td><td>52</td><td>27</td><td>NULL</td><td>NULL</td></tr>",
                            "<tr><td>3</td><td>20</td><td>NULL</td><td>22</td><td>30</td></tr>",
                            "</table>"
                        ]
                    }
                }
            ],
            "execution_count": 28
        },
        {
            "cell_type": "markdown",
            "source": [
                "**Explanaiton:** This query illustrates a manual pivoting technique using conditional aggregation to transform row-based customer data (custid) into a columnar format. Each column represents the total quantity of orders (qty) for a specific customer (A, B, C, D), aggregated for each employee (empid). This format makes it easier to compare the performance and customer focus of each employee at a glance."
            ],
            "metadata": {
                "azdata_cell_guid": "a330149d-1be8-4248-9eb5-06cb80a7ffe7"
            },
            "attachments": {}
        },
        {
            "cell_type": "markdown",
            "source": [
                "**TOP 4:** \n",
                "Unpivot a table of employee-customer order summaries to normalize the data, making it suitable for detailed analysis and reporting.\n",
                "\n",
                "**Tables Involed:** dbo.EmpCustOrders\n",
                ""
            ],
            "metadata": {
                "azdata_cell_guid": "21d0c883-b682-47ce-8a22-d4660be407b5"
            },
            "attachments": {}
        },
        {
            "cell_type": "code",
            "source": [
                "USE TSQLV4\n",
                "SELECT empid, custid, qty\n",
                "FROM dbo.EmpCustOrders\n",
                "  CROSS APPLY (VALUES('A', A),('B', B),('C', C),('D', D)) AS C(custid, qty)\n",
                "WHERE qty IS NOT NULL;\n",
                ""
            ],
            "metadata": {
                "azdata_cell_guid": "8d137c41-2e64-4218-88b5-5443098b46ac",
                "language": "sql"
            },
            "outputs": [
                {
                    "output_type": "display_data",
                    "data": {
                        "text/html": "(7 rows affected)"
                    },
                    "metadata": {}
                },
                {
                    "output_type": "display_data",
                    "data": {
                        "text/html": "Total execution time: 00:00:00.033"
                    },
                    "metadata": {}
                },
                {
                    "output_type": "execute_result",
                    "metadata": {},
                    "execution_count": 29,
                    "data": {
                        "application/vnd.dataresource+json": {
                            "schema": {
                                "fields": [
                                    {
                                        "name": "empid"
                                    },
                                    {
                                        "name": "custid"
                                    },
                                    {
                                        "name": "qty"
                                    }
                                ]
                            },
                            "data": [
                                {
                                    "empid": "1",
                                    "custid": "B",
                                    "qty": "20"
                                },
                                {
                                    "empid": "1",
                                    "custid": "C",
                                    "qty": "34"
                                },
                                {
                                    "empid": "2",
                                    "custid": "A",
                                    "qty": "52"
                                },
                                {
                                    "empid": "2",
                                    "custid": "B",
                                    "qty": "27"
                                },
                                {
                                    "empid": "3",
                                    "custid": "A",
                                    "qty": "20"
                                },
                                {
                                    "empid": "3",
                                    "custid": "C",
                                    "qty": "22"
                                },
                                {
                                    "empid": "3",
                                    "custid": "D",
                                    "qty": "30"
                                }
                            ]
                        },
                        "text/html": [
                            "<table>",
                            "<tr><th>empid</th><th>custid</th><th>qty</th></tr>",
                            "<tr><td>1</td><td>B</td><td>20</td></tr>",
                            "<tr><td>1</td><td>C</td><td>34</td></tr>",
                            "<tr><td>2</td><td>A</td><td>52</td></tr>",
                            "<tr><td>2</td><td>B</td><td>27</td></tr>",
                            "<tr><td>3</td><td>A</td><td>20</td></tr>",
                            "<tr><td>3</td><td>C</td><td>22</td></tr>",
                            "<tr><td>3</td><td>D</td><td>30</td></tr>",
                            "</table>"
                        ]
                    }
                }
            ],
            "execution_count": 29
        },
        {
            "cell_type": "markdown",
            "source": [
                "**Explanation:** So this quiery uses the CROSS APPLY operator to transform columns representing each customer's order quantities back into a normalized row format. Each row in the result represents an individual record of an employee's order quantity for a customer, effectively unpivoting the data. The WHERE qty IS NOT NULL condition filters out records where there was no order quantity, ensuring the result set includes only relevant data. This approach is particularly useful for reporting and analysis in environments that require a more traditional, row-based data structure."
            ],
            "metadata": {
                "azdata_cell_guid": "5950a53a-a06b-4861-87e5-116bf1bfdb3a"
            },
            "attachments": {}
        },
        {
            "cell_type": "markdown",
            "source": [
                "**Top 5:** Write a query against the dbo.Orders table that computes for each customer order, both a rank and a dense rank, partitioned by custid, ordered by qty "
            ],
            "metadata": {
                "azdata_cell_guid": "117bb41f-f216-4267-ae12-d3e6f4e091f2"
            },
            "attachments": {}
        },
        {
            "cell_type": "code",
            "source": [
                "\n",
                "USE TSQLV4\n",
                "SELECT custid, orderid, qty,\n",
                "       RANK() OVER(PARTITION BY custid ORDER BY qty) AS rnk,\n",
                "       DENSE_RANK() OVER(PARTITION BY custid ORDER BY qty) AS drnk\n",
                "FROM dbo.Orders\n",
                "ORDER BY custid, qty;\n",
                ""
            ],
            "metadata": {
                "azdata_cell_guid": "e5dd36e0-8796-411c-9bcb-93a0c45806a5",
                "language": "sql"
            },
            "outputs": [
                {
                    "output_type": "display_data",
                    "data": {
                        "text/html": "(11 rows affected)"
                    },
                    "metadata": {}
                },
                {
                    "output_type": "display_data",
                    "data": {
                        "text/html": "Total execution time: 00:00:00.006"
                    },
                    "metadata": {}
                },
                {
                    "output_type": "execute_result",
                    "metadata": {},
                    "execution_count": 32,
                    "data": {
                        "application/vnd.dataresource+json": {
                            "schema": {
                                "fields": [
                                    {
                                        "name": "custid"
                                    },
                                    {
                                        "name": "orderid"
                                    },
                                    {
                                        "name": "qty"
                                    },
                                    {
                                        "name": "rnk"
                                    },
                                    {
                                        "name": "drnk"
                                    }
                                ]
                            },
                            "data": [
                                {
                                    "custid": "A",
                                    "orderid": "30001",
                                    "qty": "10",
                                    "rnk": "1",
                                    "drnk": "1"
                                },
                                {
                                    "custid": "A",
                                    "orderid": "40005",
                                    "qty": "10",
                                    "rnk": "1",
                                    "drnk": "1"
                                },
                                {
                                    "custid": "A",
                                    "orderid": "10001",
                                    "qty": "12",
                                    "rnk": "3",
                                    "drnk": "2"
                                },
                                {
                                    "custid": "A",
                                    "orderid": "40001",
                                    "qty": "40",
                                    "rnk": "4",
                                    "drnk": "3"
                                },
                                {
                                    "custid": "B",
                                    "orderid": "20001",
                                    "qty": "12",
                                    "rnk": "1",
                                    "drnk": "1"
                                },
                                {
                                    "custid": "B",
                                    "orderid": "30003",
                                    "qty": "15",
                                    "rnk": "2",
                                    "drnk": "2"
                                },
                                {
                                    "custid": "B",
                                    "orderid": "10005",
                                    "qty": "20",
                                    "rnk": "3",
                                    "drnk": "3"
                                },
                                {
                                    "custid": "C",
                                    "orderid": "10006",
                                    "qty": "14",
                                    "rnk": "1",
                                    "drnk": "1"
                                },
                                {
                                    "custid": "C",
                                    "orderid": "20002",
                                    "qty": "20",
                                    "rnk": "2",
                                    "drnk": "2"
                                },
                                {
                                    "custid": "C",
                                    "orderid": "30004",
                                    "qty": "22",
                                    "rnk": "3",
                                    "drnk": "3"
                                },
                                {
                                    "custid": "D",
                                    "orderid": "30007",
                                    "qty": "30",
                                    "rnk": "1",
                                    "drnk": "1"
                                }
                            ]
                        },
                        "text/html": [
                            "<table>",
                            "<tr><th>custid</th><th>orderid</th><th>qty</th><th>rnk</th><th>drnk</th></tr>",
                            "<tr><td>A</td><td>30001</td><td>10</td><td>1</td><td>1</td></tr>",
                            "<tr><td>A</td><td>40005</td><td>10</td><td>1</td><td>1</td></tr>",
                            "<tr><td>A</td><td>10001</td><td>12</td><td>3</td><td>2</td></tr>",
                            "<tr><td>A</td><td>40001</td><td>40</td><td>4</td><td>3</td></tr>",
                            "<tr><td>B</td><td>20001</td><td>12</td><td>1</td><td>1</td></tr>",
                            "<tr><td>B</td><td>30003</td><td>15</td><td>2</td><td>2</td></tr>",
                            "<tr><td>B</td><td>10005</td><td>20</td><td>3</td><td>3</td></tr>",
                            "<tr><td>C</td><td>10006</td><td>14</td><td>1</td><td>1</td></tr>",
                            "<tr><td>C</td><td>20002</td><td>20</td><td>2</td><td>2</td></tr>",
                            "<tr><td>C</td><td>30004</td><td>22</td><td>3</td><td>3</td></tr>",
                            "<tr><td>D</td><td>30007</td><td>30</td><td>1</td><td>1</td></tr>",
                            "</table>"
                        ]
                    }
                }
            ],
            "execution_count": 32
        },
        {
            "cell_type": "markdown",
            "source": [
                "**Explation:** This query ranks each customer's orders based on quantity, using RANK() for standard ranking with gaps and DENSE_RANK() for continuous ranking without gaps, both partitioned by customer."
            ],
            "metadata": {
                "azdata_cell_guid": "0244be4d-6bc7-40a0-a5ad-7a8db5eb04b1"
            },
            "attachments": {}
        },
        {
            "cell_type": "markdown",
            "source": [
                "**Q6:**\n",
                "The following query against the Sales.OrderValues view returns distinct values and their associated row numbers\n",
                "\n",
                "**USE** TSQLV4;\n",
                ""
            ],
            "metadata": {
                "azdata_cell_guid": "e448bd22-b6f8-4933-9081-72caef42e3ca"
            },
            "attachments": {}
        },
        {
            "cell_type": "code",
            "source": [
                "USE TSQLV4\n",
                "SELECT DISTINCT val, ROW_NUMBER() OVER(ORDER BY val) AS rownum\n",
                "FROM Sales.OrderValues\n",
                "ORDER BY val;\n",
                ""
            ],
            "metadata": {
                "azdata_cell_guid": "8c065f5e-e985-473c-906c-19832a4ab4a7",
                "language": "sql"
            },
            "outputs": [
                {
                    "output_type": "display_data",
                    "data": {
                        "text/html": "(830 rows affected)"
                    },
                    "metadata": {}
                },
                {
                    "output_type": "display_data",
                    "data": {
                        "text/html": "Total execution time: 00:00:00.041"
                    },
                    "metadata": {}
                },
                {
                    "output_type": "execute_result",
                    "metadata": {},
                    "execution_count": 33,
                    "data": {
                        "application/vnd.dataresource+json": {
                            "schema": {
                                "fields": [
                                    {
                                        "name": "val"
                                    },
                                    {
                                        "name": "rownum"
                                    }
                                ]
                            },
                            "data": [
                                {
                                    "val": "12.50",
                                    "rownum": "1"
                                },
                                {
                                    "val": "18.40",
                                    "rownum": "2"
                                },
                                {
                                    "val": "23.80",
                                    "rownum": "3"
                                },
                                {
                                    "val": "28.00",
                                    "rownum": "4"
                                },
                                {
                                    "val": "30.00",
                                    "rownum": "5"
                                },
                                {
                                    "val": "33.75",
                                    "rownum": "6"
                                },
                                {
                                    "val": "36.00",
                                    "rownum": "7"
                                },
                                {
                                    "val": "36.00",
                                    "rownum": "8"
                                },
                                {
                                    "val": "40.00",
                                    "rownum": "9"
                                },
                                {
                                    "val": "45.00",
                                    "rownum": "10"
                                },
                                {
                                    "val": "45.00",
                                    "rownum": "11"
                                },
                                {
                                    "val": "48.00",
                                    "rownum": "12"
                                },
                                {
                                    "val": "48.75",
                                    "rownum": "13"
                                },
                                {
                                    "val": "49.80",
                                    "rownum": "14"
                                },
                                {
                                    "val": "52.35",
                                    "rownum": "15"
                                },
                                {
                                    "val": "55.20",
                                    "rownum": "16"
                                },
                                {
                                    "val": "55.80",
                                    "rownum": "17"
                                },
                                {
                                    "val": "57.50",
                                    "rownum": "18"
                                },
                                {
                                    "val": "57.80",
                                    "rownum": "19"
                                },
                                {
                                    "val": "60.00",
                                    "rownum": "20"
                                },
                                {
                                    "val": "63.00",
                                    "rownum": "21"
                                },
                                {
                                    "val": "69.60",
                                    "rownum": "22"
                                },
                                {
                                    "val": "70.00",
                                    "rownum": "23"
                                },
                                {
                                    "val": "72.00",
                                    "rownum": "24"
                                },
                                {
                                    "val": "72.96",
                                    "rownum": "25"
                                },
                                {
                                    "val": "74.40",
                                    "rownum": "26"
                                },
                                {
                                    "val": "76.00",
                                    "rownum": "27"
                                },
                                {
                                    "val": "80.10",
                                    "rownum": "28"
                                },
                                {
                                    "val": "86.40",
                                    "rownum": "29"
                                },
                                {
                                    "val": "86.50",
                                    "rownum": "30"
                                },
                                {
                                    "val": "86.85",
                                    "rownum": "31"
                                },
                                {
                                    "val": "88.00",
                                    "rownum": "32"
                                },
                                {
                                    "val": "88.50",
                                    "rownum": "33"
                                },
                                {
                                    "val": "88.80",
                                    "rownum": "34"
                                },
                                {
                                    "val": "93.50",
                                    "rownum": "35"
                                },
                                {
                                    "val": "96.50",
                                    "rownum": "36"
                                },
                                {
                                    "val": "98.40",
                                    "rownum": "37"
                                },
                                {
                                    "val": "100.80",
                                    "rownum": "38"
                                },
                                {
                                    "val": "102.40",
                                    "rownum": "39"
                                },
                                {
                                    "val": "103.20",
                                    "rownum": "40"
                                },
                                {
                                    "val": "108.00",
                                    "rownum": "41"
                                },
                                {
                                    "val": "108.50",
                                    "rownum": "42"
                                },
                                {
                                    "val": "110.00",
                                    "rownum": "43"
                                },
                                {
                                    "val": "110.00",
                                    "rownum": "44"
                                },
                                {
                                    "val": "112.00",
                                    "rownum": "45"
                                },
                                {
                                    "val": "112.00",
                                    "rownum": "46"
                                },
                                {
                                    "val": "114.00",
                                    "rownum": "47"
                                },
                                {
                                    "val": "120.00",
                                    "rownum": "48"
                                },
                                {
                                    "val": "121.60",
                                    "rownum": "49"
                                },
                                {
                                    "val": "122.40",
                                    "rownum": "50"
                                },
                                {
                                    "val": "125.00",
                                    "rownum": "51"
                                },
                                {
                                    "val": "131.75",
                                    "rownum": "52"
                                },
                                {
                                    "val": "136.00",
                                    "rownum": "53"
                                },
                                {
                                    "val": "136.30",
                                    "rownum": "54"
                                },
                                {
                                    "val": "136.80",
                                    "rownum": "55"
                                },
                                {
                                    "val": "137.50",
                                    "rownum": "56"
                                },
                                {
                                    "val": "139.80",
                                    "rownum": "57"
                                },
                                {
                                    "val": "139.80",
                                    "rownum": "58"
                                },
                                {
                                    "val": "140.00",
                                    "rownum": "59"
                                },
                                {
                                    "val": "141.60",
                                    "rownum": "60"
                                },
                                {
                                    "val": "142.50",
                                    "rownum": "61"
                                },
                                {
                                    "val": "144.00",
                                    "rownum": "62"
                                },
                                {
                                    "val": "144.80",
                                    "rownum": "63"
                                },
                                {
                                    "val": "147.00",
                                    "rownum": "64"
                                },
                                {
                                    "val": "147.90",
                                    "rownum": "65"
                                },
                                {
                                    "val": "149.00",
                                    "rownum": "66"
                                },
                                {
                                    "val": "150.00",
                                    "rownum": "67"
                                },
                                {
                                    "val": "154.40",
                                    "rownum": "68"
                                },
                                {
                                    "val": "155.00",
                                    "rownum": "69"
                                },
                                {
                                    "val": "155.40",
                                    "rownum": "70"
                                },
                                {
                                    "val": "156.00",
                                    "rownum": "71"
                                },
                                {
                                    "val": "159.00",
                                    "rownum": "72"
                                },
                                {
                                    "val": "160.00",
                                    "rownum": "73"
                                },
                                {
                                    "val": "164.40",
                                    "rownum": "74"
                                },
                                {
                                    "val": "166.00",
                                    "rownum": "75"
                                },
                                {
                                    "val": "174.90",
                                    "rownum": "76"
                                },
                                {
                                    "val": "176.10",
                                    "rownum": "77"
                                },
                                {
                                    "val": "180.40",
                                    "rownum": "78"
                                },
                                {
                                    "val": "180.48",
                                    "rownum": "79"
                                },
                                {
                                    "val": "182.40",
                                    "rownum": "80"
                                },
                                {
                                    "val": "187.00",
                                    "rownum": "81"
                                },
                                {
                                    "val": "189.42",
                                    "rownum": "82"
                                },
                                {
                                    "val": "190.00",
                                    "rownum": "83"
                                },
                                {
                                    "val": "191.10",
                                    "rownum": "84"
                                },
                                {
                                    "val": "192.00",
                                    "rownum": "85"
                                },
                                {
                                    "val": "200.00",
                                    "rownum": "86"
                                },
                                {
                                    "val": "200.00",
                                    "rownum": "87"
                                },
                                {
                                    "val": "210.00",
                                    "rownum": "88"
                                },
                                {
                                    "val": "210.00",
                                    "rownum": "89"
                                },
                                {
                                    "val": "211.20",
                                    "rownum": "90"
                                },
                                {
                                    "val": "216.00",
                                    "rownum": "91"
                                },
                                {
                                    "val": "220.00",
                                    "rownum": "92"
                                },
                                {
                                    "val": "224.00",
                                    "rownum": "93"
                                },
                                {
                                    "val": "224.00",
                                    "rownum": "94"
                                },
                                {
                                    "val": "224.83",
                                    "rownum": "95"
                                },
                                {
                                    "val": "225.50",
                                    "rownum": "96"
                                },
                                {
                                    "val": "228.00",
                                    "rownum": "97"
                                },
                                {
                                    "val": "228.00",
                                    "rownum": "98"
                                },
                                {
                                    "val": "230.40",
                                    "rownum": "99"
                                },
                                {
                                    "val": "230.85",
                                    "rownum": "100"
                                },
                                {
                                    "val": "232.09",
                                    "rownum": "101"
                                },
                                {
                                    "val": "235.20",
                                    "rownum": "102"
                                },
                                {
                                    "val": "236.25",
                                    "rownum": "103"
                                },
                                {
                                    "val": "237.90",
                                    "rownum": "104"
                                },
                                {
                                    "val": "240.00",
                                    "rownum": "105"
                                },
                                {
                                    "val": "240.00",
                                    "rownum": "106"
                                },
                                {
                                    "val": "240.10",
                                    "rownum": "107"
                                },
                                {
                                    "val": "240.40",
                                    "rownum": "108"
                                },
                                {
                                    "val": "243.18",
                                    "rownum": "109"
                                },
                                {
                                    "val": "245.00",
                                    "rownum": "110"
                                },
                                {
                                    "val": "246.24",
                                    "rownum": "111"
                                },
                                {
                                    "val": "248.00",
                                    "rownum": "112"
                                },
                                {
                                    "val": "250.80",
                                    "rownum": "113"
                                },
                                {
                                    "val": "251.50",
                                    "rownum": "114"
                                },
                                {
                                    "val": "252.00",
                                    "rownum": "115"
                                },
                                {
                                    "val": "259.51",
                                    "rownum": "116"
                                },
                                {
                                    "val": "265.35",
                                    "rownum": "117"
                                },
                                {
                                    "val": "266.00",
                                    "rownum": "118"
                                },
                                {
                                    "val": "268.80",
                                    "rownum": "119"
                                },
                                {
                                    "val": "270.00",
                                    "rownum": "120"
                                },
                                {
                                    "val": "273.60",
                                    "rownum": "121"
                                },
                                {
                                    "val": "278.00",
                                    "rownum": "122"
                                },
                                {
                                    "val": "282.00",
                                    "rownum": "123"
                                },
                                {
                                    "val": "285.12",
                                    "rownum": "124"
                                },
                                {
                                    "val": "287.80",
                                    "rownum": "125"
                                },
                                {
                                    "val": "288.00",
                                    "rownum": "126"
                                },
                                {
                                    "val": "291.55",
                                    "rownum": "127"
                                },
                                {
                                    "val": "291.84",
                                    "rownum": "128"
                                },
                                {
                                    "val": "295.38",
                                    "rownum": "129"
                                },
                                {
                                    "val": "299.25",
                                    "rownum": "130"
                                },
                                {
                                    "val": "300.00",
                                    "rownum": "131"
                                },
                                {
                                    "val": "305.00",
                                    "rownum": "132"
                                },
                                {
                                    "val": "310.00",
                                    "rownum": "133"
                                },
                                {
                                    "val": "310.00",
                                    "rownum": "134"
                                },
                                {
                                    "val": "314.76",
                                    "rownum": "135"
                                },
                                {
                                    "val": "317.75",
                                    "rownum": "136"
                                },
                                {
                                    "val": "318.84",
                                    "rownum": "137"
                                },
                                {
                                    "val": "319.20",
                                    "rownum": "138"
                                },
                                {
                                    "val": "319.20",
                                    "rownum": "139"
                                },
                                {
                                    "val": "320.00",
                                    "rownum": "140"
                                },
                                {
                                    "val": "321.12",
                                    "rownum": "141"
                                },
                                {
                                    "val": "326.00",
                                    "rownum": "142"
                                },
                                {
                                    "val": "329.69",
                                    "rownum": "143"
                                },
                                {
                                    "val": "330.00",
                                    "rownum": "144"
                                },
                                {
                                    "val": "330.00",
                                    "rownum": "145"
                                },
                                {
                                    "val": "331.20",
                                    "rownum": "146"
                                },
                                {
                                    "val": "334.80",
                                    "rownum": "147"
                                },
                                {
                                    "val": "336.00",
                                    "rownum": "148"
                                },
                                {
                                    "val": "336.80",
                                    "rownum": "149"
                                },
                                {
                                    "val": "338.00",
                                    "rownum": "150"
                                },
                                {
                                    "val": "338.20",
                                    "rownum": "151"
                                },
                                {
                                    "val": "342.00",
                                    "rownum": "152"
                                },
                                {
                                    "val": "344.00",
                                    "rownum": "153"
                                },
                                {
                                    "val": "346.56",
                                    "rownum": "154"
                                },
                                {
                                    "val": "349.50",
                                    "rownum": "155"
                                },
                                {
                                    "val": "351.00",
                                    "rownum": "156"
                                },
                                {
                                    "val": "352.00",
                                    "rownum": "157"
                                },
                                {
                                    "val": "352.60",
                                    "rownum": "158"
                                },
                                {
                                    "val": "353.20",
                                    "rownum": "159"
                                },
                                {
                                    "val": "355.50",
                                    "rownum": "160"
                                },
                                {
                                    "val": "360.00",
                                    "rownum": "161"
                                },
                                {
                                    "val": "360.00",
                                    "rownum": "162"
                                },
                                {
                                    "val": "360.00",
                                    "rownum": "163"
                                },
                                {
                                    "val": "360.00",
                                    "rownum": "164"
                                },
                                {
                                    "val": "361.00",
                                    "rownum": "165"
                                },
                                {
                                    "val": "363.60",
                                    "rownum": "166"
                                },
                                {
                                    "val": "365.89",
                                    "rownum": "167"
                                },
                                {
                                    "val": "368.93",
                                    "rownum": "168"
                                },
                                {
                                    "val": "372.38",
                                    "rownum": "169"
                                },
                                {
                                    "val": "375.50",
                                    "rownum": "170"
                                },
                                {
                                    "val": "378.00",
                                    "rownum": "171"
                                },
                                {
                                    "val": "386.20",
                                    "rownum": "172"
                                },
                                {
                                    "val": "387.50",
                                    "rownum": "173"
                                },
                                {
                                    "val": "390.00",
                                    "rownum": "174"
                                },
                                {
                                    "val": "392.20",
                                    "rownum": "175"
                                },
                                {
                                    "val": "393.00",
                                    "rownum": "176"
                                },
                                {
                                    "val": "397.80",
                                    "rownum": "177"
                                },
                                {
                                    "val": "399.00",
                                    "rownum": "178"
                                },
                                {
                                    "val": "399.85",
                                    "rownum": "179"
                                },
                                {
                                    "val": "400.00",
                                    "rownum": "180"
                                },
                                {
                                    "val": "403.20",
                                    "rownum": "181"
                                },
                                {
                                    "val": "405.75",
                                    "rownum": "182"
                                },
                                {
                                    "val": "406.40",
                                    "rownum": "183"
                                },
                                {
                                    "val": "407.70",
                                    "rownum": "184"
                                },
                                {
                                    "val": "412.35",
                                    "rownum": "185"
                                },
                                {
                                    "val": "415.80",
                                    "rownum": "186"
                                },
                                {
                                    "val": "417.20",
                                    "rownum": "187"
                                },
                                {
                                    "val": "420.00",
                                    "rownum": "188"
                                },
                                {
                                    "val": "420.00",
                                    "rownum": "189"
                                },
                                {
                                    "val": "424.00",
                                    "rownum": "190"
                                },
                                {
                                    "val": "424.00",
                                    "rownum": "191"
                                },
                                {
                                    "val": "425.12",
                                    "rownum": "192"
                                },
                                {
                                    "val": "427.50",
                                    "rownum": "193"
                                },
                                {
                                    "val": "429.40",
                                    "rownum": "194"
                                },
                                {
                                    "val": "439.00",
                                    "rownum": "195"
                                },
                                {
                                    "val": "439.20",
                                    "rownum": "196"
                                },
                                {
                                    "val": "439.60",
                                    "rownum": "197"
                                },
                                {
                                    "val": "440.00",
                                    "rownum": "198"
                                },
                                {
                                    "val": "441.15",
                                    "rownum": "199"
                                },
                                {
                                    "val": "442.00",
                                    "rownum": "200"
                                },
                                {
                                    "val": "443.40",
                                    "rownum": "201"
                                },
                                {
                                    "val": "446.60",
                                    "rownum": "202"
                                },
                                {
                                    "val": "447.20",
                                    "rownum": "203"
                                },
                                {
                                    "val": "448.00",
                                    "rownum": "204"
                                },
                                {
                                    "val": "450.00",
                                    "rownum": "205"
                                },
                                {
                                    "val": "452.90",
                                    "rownum": "206"
                                },
                                {
                                    "val": "454.00",
                                    "rownum": "207"
                                },
                                {
                                    "val": "456.00",
                                    "rownum": "208"
                                },
                                {
                                    "val": "458.76",
                                    "rownum": "209"
                                },
                                {
                                    "val": "459.00",
                                    "rownum": "210"
                                },
                                {
                                    "val": "464.00",
                                    "rownum": "211"
                                },
                                {
                                    "val": "465.70",
                                    "rownum": "212"
                                },
                                {
                                    "val": "468.45",
                                    "rownum": "213"
                                },
                                {
                                    "val": "469.11",
                                    "rownum": "214"
                                },
                                {
                                    "val": "471.20",
                                    "rownum": "215"
                                },
                                {
                                    "val": "471.20",
                                    "rownum": "216"
                                },
                                {
                                    "val": "472.50",
                                    "rownum": "217"
                                },
                                {
                                    "val": "475.11",
                                    "rownum": "218"
                                },
                                {
                                    "val": "475.15",
                                    "rownum": "219"
                                },
                                {
                                    "val": "477.00",
                                    "rownum": "220"
                                },
                                {
                                    "val": "477.00",
                                    "rownum": "221"
                                },
                                {
                                    "val": "479.40",
                                    "rownum": "222"
                                },
                                {
                                    "val": "479.75",
                                    "rownum": "223"
                                },
                                {
                                    "val": "479.80",
                                    "rownum": "224"
                                },
                                {
                                    "val": "480.00",
                                    "rownum": "225"
                                },
                                {
                                    "val": "484.26",
                                    "rownum": "226"
                                },
                                {
                                    "val": "484.50",
                                    "rownum": "227"
                                },
                                {
                                    "val": "485.00",
                                    "rownum": "228"
                                },
                                {
                                    "val": "488.70",
                                    "rownum": "229"
                                },
                                {
                                    "val": "491.50",
                                    "rownum": "230"
                                },
                                {
                                    "val": "493.00",
                                    "rownum": "231"
                                },
                                {
                                    "val": "497.52",
                                    "rownum": "232"
                                },
                                {
                                    "val": "498.10",
                                    "rownum": "233"
                                },
                                {
                                    "val": "498.50",
                                    "rownum": "234"
                                },
                                {
                                    "val": "500.00",
                                    "rownum": "235"
                                },
                                {
                                    "val": "500.00",
                                    "rownum": "236"
                                },
                                {
                                    "val": "507.00",
                                    "rownum": "237"
                                },
                                {
                                    "val": "510.00",
                                    "rownum": "238"
                                },
                                {
                                    "val": "514.40",
                                    "rownum": "239"
                                },
                                {
                                    "val": "516.00",
                                    "rownum": "240"
                                },
                                {
                                    "val": "516.47",
                                    "rownum": "241"
                                },
                                {
                                    "val": "516.80",
                                    "rownum": "242"
                                },
                                {
                                    "val": "517.44",
                                    "rownum": "243"
                                },
                                {
                                    "val": "517.80",
                                    "rownum": "244"
                                },
                                {
                                    "val": "519.00",
                                    "rownum": "245"
                                },
                                {
                                    "val": "520.41",
                                    "rownum": "246"
                                },
                                {
                                    "val": "523.26",
                                    "rownum": "247"
                                },
                                {
                                    "val": "525.00",
                                    "rownum": "248"
                                },
                                {
                                    "val": "525.30",
                                    "rownum": "249"
                                },
                                {
                                    "val": "534.85",
                                    "rownum": "250"
                                },
                                {
                                    "val": "536.40",
                                    "rownum": "251"
                                },
                                {
                                    "val": "537.50",
                                    "rownum": "252"
                                },
                                {
                                    "val": "538.60",
                                    "rownum": "253"
                                },
                                {
                                    "val": "539.40",
                                    "rownum": "254"
                                },
                                {
                                    "val": "539.50",
                                    "rownum": "255"
                                },
                                {
                                    "val": "550.00",
                                    "rownum": "256"
                                },
                                {
                                    "val": "550.59",
                                    "rownum": "257"
                                },
                                {
                                    "val": "556.62",
                                    "rownum": "258"
                                },
                                {
                                    "val": "557.60",
                                    "rownum": "259"
                                },
                                {
                                    "val": "558.00",
                                    "rownum": "260"
                                },
                                {
                                    "val": "560.00",
                                    "rownum": "261"
                                },
                                {
                                    "val": "560.00",
                                    "rownum": "262"
                                },
                                {
                                    "val": "560.00",
                                    "rownum": "263"
                                },
                                {
                                    "val": "562.60",
                                    "rownum": "264"
                                },
                                {
                                    "val": "565.50",
                                    "rownum": "265"
                                },
                                {
                                    "val": "568.80",
                                    "rownum": "266"
                                },
                                {
                                    "val": "569.00",
                                    "rownum": "267"
                                },
                                {
                                    "val": "570.00",
                                    "rownum": "268"
                                },
                                {
                                    "val": "575.00",
                                    "rownum": "269"
                                },
                                {
                                    "val": "581.00",
                                    "rownum": "270"
                                },
                                {
                                    "val": "584.00",
                                    "rownum": "271"
                                },
                                {
                                    "val": "586.00",
                                    "rownum": "272"
                                },
                                {
                                    "val": "589.00",
                                    "rownum": "273"
                                },
                                {
                                    "val": "591.60",
                                    "rownum": "274"
                                },
                                {
                                    "val": "593.75",
                                    "rownum": "275"
                                },
                                {
                                    "val": "595.50",
                                    "rownum": "276"
                                },
                                {
                                    "val": "601.83",
                                    "rownum": "277"
                                },
                                {
                                    "val": "602.40",
                                    "rownum": "278"
                                },
                                {
                                    "val": "604.22",
                                    "rownum": "279"
                                },
                                {
                                    "val": "605.00",
                                    "rownum": "280"
                                },
                                {
                                    "val": "608.00",
                                    "rownum": "281"
                                },
                                {
                                    "val": "608.40",
                                    "rownum": "282"
                                },
                                {
                                    "val": "611.30",
                                    "rownum": "283"
                                },
                                {
                                    "val": "613.20",
                                    "rownum": "284"
                                },
                                {
                                    "val": "616.00",
                                    "rownum": "285"
                                },
                                {
                                    "val": "616.50",
                                    "rownum": "286"
                                },
                                {
                                    "val": "619.50",
                                    "rownum": "287"
                                },
                                {
                                    "val": "622.35",
                                    "rownum": "288"
                                },
                                {
                                    "val": "625.00",
                                    "rownum": "289"
                                },
                                {
                                    "val": "625.28",
                                    "rownum": "290"
                                },
                                {
                                    "val": "629.00",
                                    "rownum": "291"
                                },
                                {
                                    "val": "629.50",
                                    "rownum": "292"
                                },
                                {
                                    "val": "631.60",
                                    "rownum": "293"
                                },
                                {
                                    "val": "632.40",
                                    "rownum": "294"
                                },
                                {
                                    "val": "636.00",
                                    "rownum": "295"
                                },
                                {
                                    "val": "637.50",
                                    "rownum": "296"
                                },
                                {
                                    "val": "638.50",
                                    "rownum": "297"
                                },
                                {
                                    "val": "639.90",
                                    "rownum": "298"
                                },
                                {
                                    "val": "642.00",
                                    "rownum": "299"
                                },
                                {
                                    "val": "642.06",
                                    "rownum": "300"
                                },
                                {
                                    "val": "642.20",
                                    "rownum": "301"
                                },
                                {
                                    "val": "644.80",
                                    "rownum": "302"
                                },
                                {
                                    "val": "645.00",
                                    "rownum": "303"
                                },
                                {
                                    "val": "649.00",
                                    "rownum": "304"
                                },
                                {
                                    "val": "651.00",
                                    "rownum": "305"
                                },
                                {
                                    "val": "654.06",
                                    "rownum": "306"
                                },
                                {
                                    "val": "655.00",
                                    "rownum": "307"
                                },
                                {
                                    "val": "660.00",
                                    "rownum": "308"
                                },
                                {
                                    "val": "660.00",
                                    "rownum": "309"
                                },
                                {
                                    "val": "663.10",
                                    "rownum": "310"
                                },
                                {
                                    "val": "668.80",
                                    "rownum": "311"
                                },
                                {
                                    "val": "670.00",
                                    "rownum": "312"
                                },
                                {
                                    "val": "677.00",
                                    "rownum": "313"
                                },
                                {
                                    "val": "678.00",
                                    "rownum": "314"
                                },
                                {
                                    "val": "683.30",
                                    "rownum": "315"
                                },
                                {
                                    "val": "686.00",
                                    "rownum": "316"
                                },
                                {
                                    "val": "686.70",
                                    "rownum": "317"
                                },
                                {
                                    "val": "691.20",
                                    "rownum": "318"
                                },
                                {
                                    "val": "695.63",
                                    "rownum": "319"
                                },
                                {
                                    "val": "696.00",
                                    "rownum": "320"
                                },
                                {
                                    "val": "706.00",
                                    "rownum": "321"
                                },
                                {
                                    "val": "708.75",
                                    "rownum": "322"
                                },
                                {
                                    "val": "709.55",
                                    "rownum": "323"
                                },
                                {
                                    "val": "711.00",
                                    "rownum": "324"
                                },
                                {
                                    "val": "713.30",
                                    "rownum": "325"
                                },
                                {
                                    "val": "716.72",
                                    "rownum": "326"
                                },
                                {
                                    "val": "717.50",
                                    "rownum": "327"
                                },
                                {
                                    "val": "717.60",
                                    "rownum": "328"
                                },
                                {
                                    "val": "718.08",
                                    "rownum": "329"
                                },
                                {
                                    "val": "720.00",
                                    "rownum": "330"
                                },
                                {
                                    "val": "720.00",
                                    "rownum": "331"
                                },
                                {
                                    "val": "720.90",
                                    "rownum": "332"
                                },
                                {
                                    "val": "722.50",
                                    "rownum": "333"
                                },
                                {
                                    "val": "730.00",
                                    "rownum": "334"
                                },
                                {
                                    "val": "731.50",
                                    "rownum": "335"
                                },
                                {
                                    "val": "732.60",
                                    "rownum": "336"
                                },
                                {
                                    "val": "735.00",
                                    "rownum": "337"
                                },
                                {
                                    "val": "736.00",
                                    "rownum": "338"
                                },
                                {
                                    "val": "742.50",
                                    "rownum": "339"
                                },
                                {
                                    "val": "748.80",
                                    "rownum": "340"
                                },
                                {
                                    "val": "749.06",
                                    "rownum": "341"
                                },
                                {
                                    "val": "750.50",
                                    "rownum": "342"
                                },
                                {
                                    "val": "755.00",
                                    "rownum": "343"
                                },
                                {
                                    "val": "756.00",
                                    "rownum": "344"
                                },
                                {
                                    "val": "758.50",
                                    "rownum": "345"
                                },
                                {
                                    "val": "764.30",
                                    "rownum": "346"
                                },
                                {
                                    "val": "768.75",
                                    "rownum": "347"
                                },
                                {
                                    "val": "781.00",
                                    "rownum": "348"
                                },
                                {
                                    "val": "792.75",
                                    "rownum": "349"
                                },
                                {
                                    "val": "796.35",
                                    "rownum": "350"
                                },
                                {
                                    "val": "799.20",
                                    "rownum": "351"
                                },
                                {
                                    "val": "800.00",
                                    "rownum": "352"
                                },
                                {
                                    "val": "801.10",
                                    "rownum": "353"
                                },
                                {
                                    "val": "802.00",
                                    "rownum": "354"
                                },
                                {
                                    "val": "805.43",
                                    "rownum": "355"
                                },
                                {
                                    "val": "807.38",
                                    "rownum": "356"
                                },
                                {
                                    "val": "808.00",
                                    "rownum": "357"
                                },
                                {
                                    "val": "810.00",
                                    "rownum": "358"
                                },
                                {
                                    "val": "812.50",
                                    "rownum": "359"
                                },
                                {
                                    "val": "813.37",
                                    "rownum": "360"
                                },
                                {
                                    "val": "814.42",
                                    "rownum": "361"
                                },
                                {
                                    "val": "814.50",
                                    "rownum": "362"
                                },
                                {
                                    "val": "816.30",
                                    "rownum": "363"
                                },
                                {
                                    "val": "817.88",
                                    "rownum": "364"
                                },
                                {
                                    "val": "818.40",
                                    "rownum": "365"
                                },
                                {
                                    "val": "819.00",
                                    "rownum": "366"
                                },
                                {
                                    "val": "827.55",
                                    "rownum": "367"
                                },
                                {
                                    "val": "833.00",
                                    "rownum": "368"
                                },
                                {
                                    "val": "834.20",
                                    "rownum": "369"
                                },
                                {
                                    "val": "835.20",
                                    "rownum": "370"
                                },
                                {
                                    "val": "838.45",
                                    "rownum": "371"
                                },
                                {
                                    "val": "843.00",
                                    "rownum": "372"
                                },
                                {
                                    "val": "844.25",
                                    "rownum": "373"
                                },
                                {
                                    "val": "845.80",
                                    "rownum": "374"
                                },
                                {
                                    "val": "848.00",
                                    "rownum": "375"
                                },
                                {
                                    "val": "848.70",
                                    "rownum": "376"
                                },
                                {
                                    "val": "851.20",
                                    "rownum": "377"
                                },
                                {
                                    "val": "851.20",
                                    "rownum": "378"
                                },
                                {
                                    "val": "852.00",
                                    "rownum": "379"
                                },
                                {
                                    "val": "855.02",
                                    "rownum": "380"
                                },
                                {
                                    "val": "858.00",
                                    "rownum": "381"
                                },
                                {
                                    "val": "858.00",
                                    "rownum": "382"
                                },
                                {
                                    "val": "860.10",
                                    "rownum": "383"
                                },
                                {
                                    "val": "862.50",
                                    "rownum": "384"
                                },
                                {
                                    "val": "863.28",
                                    "rownum": "385"
                                },
                                {
                                    "val": "863.43",
                                    "rownum": "386"
                                },
                                {
                                    "val": "863.60",
                                    "rownum": "387"
                                },
                                {
                                    "val": "868.75",
                                    "rownum": "388"
                                },
                                {
                                    "val": "877.20",
                                    "rownum": "389"
                                },
                                {
                                    "val": "877.73",
                                    "rownum": "390"
                                },
                                {
                                    "val": "878.00",
                                    "rownum": "391"
                                },
                                {
                                    "val": "880.50",
                                    "rownum": "392"
                                },
                                {
                                    "val": "889.70",
                                    "rownum": "393"
                                },
                                {
                                    "val": "890.00",
                                    "rownum": "394"
                                },
                                {
                                    "val": "892.64",
                                    "rownum": "395"
                                },
                                {
                                    "val": "899.00",
                                    "rownum": "396"
                                },
                                {
                                    "val": "903.60",
                                    "rownum": "397"
                                },
                                {
                                    "val": "903.75",
                                    "rownum": "398"
                                },
                                {
                                    "val": "906.93",
                                    "rownum": "399"
                                },
                                {
                                    "val": "910.40",
                                    "rownum": "400"
                                },
                                {
                                    "val": "912.00",
                                    "rownum": "401"
                                },
                                {
                                    "val": "912.00",
                                    "rownum": "402"
                                },
                                {
                                    "val": "914.40",
                                    "rownum": "403"
                                },
                                {
                                    "val": "917.00",
                                    "rownum": "404"
                                },
                                {
                                    "val": "920.10",
                                    "rownum": "405"
                                },
                                {
                                    "val": "920.60",
                                    "rownum": "406"
                                },
                                {
                                    "val": "923.88",
                                    "rownum": "407"
                                },
                                {
                                    "val": "928.75",
                                    "rownum": "408"
                                },
                                {
                                    "val": "931.50",
                                    "rownum": "409"
                                },
                                {
                                    "val": "932.00",
                                    "rownum": "410"
                                },
                                {
                                    "val": "932.05",
                                    "rownum": "411"
                                },
                                {
                                    "val": "933.50",
                                    "rownum": "412"
                                },
                                {
                                    "val": "934.50",
                                    "rownum": "413"
                                },
                                {
                                    "val": "934.50",
                                    "rownum": "414"
                                },
                                {
                                    "val": "940.50",
                                    "rownum": "415"
                                },
                                {
                                    "val": "946.00",
                                    "rownum": "416"
                                },
                                {
                                    "val": "950.00",
                                    "rownum": "417"
                                },
                                {
                                    "val": "954.40",
                                    "rownum": "418"
                                },
                                {
                                    "val": "956.68",
                                    "rownum": "419"
                                },
                                {
                                    "val": "965.00",
                                    "rownum": "420"
                                },
                                {
                                    "val": "966.80",
                                    "rownum": "421"
                                },
                                {
                                    "val": "967.82",
                                    "rownum": "422"
                                },
                                {
                                    "val": "975.00",
                                    "rownum": "423"
                                },
                                {
                                    "val": "975.88",
                                    "rownum": "424"
                                },
                                {
                                    "val": "982.00",
                                    "rownum": "425"
                                },
                                {
                                    "val": "996.00",
                                    "rownum": "426"
                                },
                                {
                                    "val": "997.00",
                                    "rownum": "427"
                                },
                                {
                                    "val": "1013.75",
                                    "rownum": "428"
                                },
                                {
                                    "val": "1014.00",
                                    "rownum": "429"
                                },
                                {
                                    "val": "1020.00",
                                    "rownum": "430"
                                },
                                {
                                    "val": "1025.33",
                                    "rownum": "431"
                                },
                                {
                                    "val": "1030.00",
                                    "rownum": "432"
                                },
                                {
                                    "val": "1030.76",
                                    "rownum": "433"
                                },
                                {
                                    "val": "1031.70",
                                    "rownum": "434"
                                },
                                {
                                    "val": "1036.80",
                                    "rownum": "435"
                                },
                                {
                                    "val": "1050.60",
                                    "rownum": "436"
                                },
                                {
                                    "val": "1058.40",
                                    "rownum": "437"
                                },
                                {
                                    "val": "1064.00",
                                    "rownum": "438"
                                },
                                {
                                    "val": "1064.50",
                                    "rownum": "439"
                                },
                                {
                                    "val": "1072.43",
                                    "rownum": "440"
                                },
                                {
                                    "val": "1078.00",
                                    "rownum": "441"
                                },
                                {
                                    "val": "1078.69",
                                    "rownum": "442"
                                },
                                {
                                    "val": "1080.00",
                                    "rownum": "443"
                                },
                                {
                                    "val": "1083.15",
                                    "rownum": "444"
                                },
                                {
                                    "val": "1096.20",
                                    "rownum": "445"
                                },
                                {
                                    "val": "1098.46",
                                    "rownum": "446"
                                },
                                {
                                    "val": "1101.00",
                                    "rownum": "447"
                                },
                                {
                                    "val": "1101.20",
                                    "rownum": "448"
                                },
                                {
                                    "val": "1106.40",
                                    "rownum": "449"
                                },
                                {
                                    "val": "1112.00",
                                    "rownum": "450"
                                },
                                {
                                    "val": "1117.60",
                                    "rownum": "451"
                                },
                                {
                                    "val": "1117.80",
                                    "rownum": "452"
                                },
                                {
                                    "val": "1119.90",
                                    "rownum": "453"
                                },
                                {
                                    "val": "1119.90",
                                    "rownum": "454"
                                },
                                {
                                    "val": "1122.80",
                                    "rownum": "455"
                                },
                                {
                                    "val": "1130.40",
                                    "rownum": "456"
                                },
                                {
                                    "val": "1140.00",
                                    "rownum": "457"
                                },
                                {
                                    "val": "1151.40",
                                    "rownum": "458"
                                },
                                {
                                    "val": "1152.50",
                                    "rownum": "459"
                                },
                                {
                                    "val": "1167.68",
                                    "rownum": "460"
                                },
                                {
                                    "val": "1168.00",
                                    "rownum": "461"
                                },
                                {
                                    "val": "1170.38",
                                    "rownum": "462"
                                },
                                {
                                    "val": "1174.75",
                                    "rownum": "463"
                                },
                                {
                                    "val": "1176.00",
                                    "rownum": "464"
                                },
                                {
                                    "val": "1180.88",
                                    "rownum": "465"
                                },
                                {
                                    "val": "1185.75",
                                    "rownum": "466"
                                },
                                {
                                    "val": "1191.20",
                                    "rownum": "467"
                                },
                                {
                                    "val": "1193.01",
                                    "rownum": "468"
                                },
                                {
                                    "val": "1194.00",
                                    "rownum": "469"
                                },
                                {
                                    "val": "1194.27",
                                    "rownum": "470"
                                },
                                {
                                    "val": "1196.00",
                                    "rownum": "471"
                                },
                                {
                                    "val": "1197.95",
                                    "rownum": "472"
                                },
                                {
                                    "val": "1200.80",
                                    "rownum": "473"
                                },
                                {
                                    "val": "1209.00",
                                    "rownum": "474"
                                },
                                {
                                    "val": "1227.02",
                                    "rownum": "475"
                                },
                                {
                                    "val": "1228.80",
                                    "rownum": "476"
                                },
                                {
                                    "val": "1233.48",
                                    "rownum": "477"
                                },
                                {
                                    "val": "1234.05",
                                    "rownum": "478"
                                },
                                {
                                    "val": "1249.10",
                                    "rownum": "479"
                                },
                                {
                                    "val": "1255.72",
                                    "rownum": "480"
                                },
                                {
                                    "val": "1260.00",
                                    "rownum": "481"
                                },
                                {
                                    "val": "1261.88",
                                    "rownum": "482"
                                },
                                {
                                    "val": "1270.75",
                                    "rownum": "483"
                                },
                                {
                                    "val": "1272.00",
                                    "rownum": "484"
                                },
                                {
                                    "val": "1286.80",
                                    "rownum": "485"
                                },
                                {
                                    "val": "1287.40",
                                    "rownum": "486"
                                },
                                {
                                    "val": "1288.39",
                                    "rownum": "487"
                                },
                                {
                                    "val": "1295.00",
                                    "rownum": "488"
                                },
                                {
                                    "val": "1296.00",
                                    "rownum": "489"
                                },
                                {
                                    "val": "1296.00",
                                    "rownum": "490"
                                },
                                {
                                    "val": "1296.75",
                                    "rownum": "491"
                                },
                                {
                                    "val": "1303.20",
                                    "rownum": "492"
                                },
                                {
                                    "val": "1309.50",
                                    "rownum": "493"
                                },
                                {
                                    "val": "1313.82",
                                    "rownum": "494"
                                },
                                {
                                    "val": "1326.23",
                                    "rownum": "495"
                                },
                                {
                                    "val": "1328.00",
                                    "rownum": "496"
                                },
                                {
                                    "val": "1332.00",
                                    "rownum": "497"
                                },
                                {
                                    "val": "1335.00",
                                    "rownum": "498"
                                },
                                {
                                    "val": "1336.95",
                                    "rownum": "499"
                                },
                                {
                                    "val": "1342.95",
                                    "rownum": "500"
                                },
                                {
                                    "val": "1353.60",
                                    "rownum": "501"
                                },
                                {
                                    "val": "1366.40",
                                    "rownum": "502"
                                },
                                {
                                    "val": "1371.80",
                                    "rownum": "503"
                                },
                                {
                                    "val": "1376.00",
                                    "rownum": "504"
                                },
                                {
                                    "val": "1378.07",
                                    "rownum": "505"
                                },
                                {
                                    "val": "1380.60",
                                    "rownum": "506"
                                },
                                {
                                    "val": "1388.50",
                                    "rownum": "507"
                                },
                                {
                                    "val": "1393.24",
                                    "rownum": "508"
                                },
                                {
                                    "val": "1402.00",
                                    "rownum": "509"
                                },
                                {
                                    "val": "1402.50",
                                    "rownum": "510"
                                },
                                {
                                    "val": "1404.45",
                                    "rownum": "511"
                                },
                                {
                                    "val": "1407.50",
                                    "rownum": "512"
                                },
                                {
                                    "val": "1408.00",
                                    "rownum": "513"
                                },
                                {
                                    "val": "1411.00",
                                    "rownum": "514"
                                },
                                {
                                    "val": "1412.00",
                                    "rownum": "515"
                                },
                                {
                                    "val": "1414.80",
                                    "rownum": "516"
                                },
                                {
                                    "val": "1416.00",
                                    "rownum": "517"
                                },
                                {
                                    "val": "1420.00",
                                    "rownum": "518"
                                },
                                {
                                    "val": "1423.00",
                                    "rownum": "519"
                                },
                                {
                                    "val": "1432.71",
                                    "rownum": "520"
                                },
                                {
                                    "val": "1434.00",
                                    "rownum": "521"
                                },
                                {
                                    "val": "1440.00",
                                    "rownum": "522"
                                },
                                {
                                    "val": "1441.38",
                                    "rownum": "523"
                                },
                                {
                                    "val": "1442.50",
                                    "rownum": "524"
                                },
                                {
                                    "val": "1444.80",
                                    "rownum": "525"
                                },
                                {
                                    "val": "1446.00",
                                    "rownum": "526"
                                },
                                {
                                    "val": "1447.50",
                                    "rownum": "527"
                                },
                                {
                                    "val": "1456.00",
                                    "rownum": "528"
                                },
                                {
                                    "val": "1459.00",
                                    "rownum": "529"
                                },
                                {
                                    "val": "1468.94",
                                    "rownum": "530"
                                },
                                {
                                    "val": "1472.00",
                                    "rownum": "531"
                                },
                                {
                                    "val": "1477.00",
                                    "rownum": "532"
                                },
                                {
                                    "val": "1483.00",
                                    "rownum": "533"
                                },
                                {
                                    "val": "1485.80",
                                    "rownum": "534"
                                },
                                {
                                    "val": "1488.00",
                                    "rownum": "535"
                                },
                                {
                                    "val": "1488.80",
                                    "rownum": "536"
                                },
                                {
                                    "val": "1497.00",
                                    "rownum": "537"
                                },
                                {
                                    "val": "1498.35",
                                    "rownum": "538"
                                },
                                {
                                    "val": "1500.00",
                                    "rownum": "539"
                                },
                                {
                                    "val": "1500.00",
                                    "rownum": "540"
                                },
                                {
                                    "val": "1501.09",
                                    "rownum": "541"
                                },
                                {
                                    "val": "1503.00",
                                    "rownum": "542"
                                },
                                {
                                    "val": "1503.60",
                                    "rownum": "543"
                                },
                                {
                                    "val": "1504.50",
                                    "rownum": "544"
                                },
                                {
                                    "val": "1504.65",
                                    "rownum": "545"
                                },
                                {
                                    "val": "1505.18",
                                    "rownum": "546"
                                },
                                {
                                    "val": "1512.00",
                                    "rownum": "547"
                                },
                                {
                                    "val": "1515.60",
                                    "rownum": "548"
                                },
                                {
                                    "val": "1531.08",
                                    "rownum": "549"
                                },
                                {
                                    "val": "1535.00",
                                    "rownum": "550"
                                },
                                {
                                    "val": "1536.80",
                                    "rownum": "551"
                                },
                                {
                                    "val": "1538.70",
                                    "rownum": "552"
                                },
                                {
                                    "val": "1539.00",
                                    "rownum": "553"
                                },
                                {
                                    "val": "1546.30",
                                    "rownum": "554"
                                },
                                {
                                    "val": "1549.60",
                                    "rownum": "555"
                                },
                                {
                                    "val": "1552.60",
                                    "rownum": "556"
                                },
                                {
                                    "val": "1553.50",
                                    "rownum": "557"
                                },
                                {
                                    "val": "1570.00",
                                    "rownum": "558"
                                },
                                {
                                    "val": "1575.00",
                                    "rownum": "559"
                                },
                                {
                                    "val": "1584.00",
                                    "rownum": "560"
                                },
                                {
                                    "val": "1584.00",
                                    "rownum": "561"
                                },
                                {
                                    "val": "1584.00",
                                    "rownum": "562"
                                },
                                {
                                    "val": "1590.56",
                                    "rownum": "563"
                                },
                                {
                                    "val": "1591.25",
                                    "rownum": "564"
                                },
                                {
                                    "val": "1609.28",
                                    "rownum": "565"
                                },
                                {
                                    "val": "1614.80",
                                    "rownum": "566"
                                },
                                {
                                    "val": "1614.88",
                                    "rownum": "567"
                                },
                                {
                                    "val": "1618.88",
                                    "rownum": "568"
                                },
                                {
                                    "val": "1622.40",
                                    "rownum": "569"
                                },
                                {
                                    "val": "1624.50",
                                    "rownum": "570"
                                },
                                {
                                    "val": "1629.98",
                                    "rownum": "571"
                                },
                                {
                                    "val": "1630.00",
                                    "rownum": "572"
                                },
                                {
                                    "val": "1631.48",
                                    "rownum": "573"
                                },
                                {
                                    "val": "1638.40",
                                    "rownum": "574"
                                },
                                {
                                    "val": "1641.00",
                                    "rownum": "575"
                                },
                                {
                                    "val": "1644.60",
                                    "rownum": "576"
                                },
                                {
                                    "val": "1645.00",
                                    "rownum": "577"
                                },
                                {
                                    "val": "1649.00",
                                    "rownum": "578"
                                },
                                {
                                    "val": "1659.20",
                                    "rownum": "579"
                                },
                                {
                                    "val": "1659.54",
                                    "rownum": "580"
                                },
                                {
                                    "val": "1677.30",
                                    "rownum": "581"
                                },
                                {
                                    "val": "1684.28",
                                    "rownum": "582"
                                },
                                {
                                    "val": "1689.78",
                                    "rownum": "583"
                                },
                                {
                                    "val": "1692.00",
                                    "rownum": "584"
                                },
                                {
                                    "val": "1692.80",
                                    "rownum": "585"
                                },
                                {
                                    "val": "1701.00",
                                    "rownum": "586"
                                },
                                {
                                    "val": "1707.84",
                                    "rownum": "587"
                                },
                                {
                                    "val": "1727.50",
                                    "rownum": "588"
                                },
                                {
                                    "val": "1728.53",
                                    "rownum": "589"
                                },
                                {
                                    "val": "1733.06",
                                    "rownum": "590"
                                },
                                {
                                    "val": "1743.36",
                                    "rownum": "591"
                                },
                                {
                                    "val": "1754.50",
                                    "rownum": "592"
                                },
                                {
                                    "val": "1755.00",
                                    "rownum": "593"
                                },
                                {
                                    "val": "1761.00",
                                    "rownum": "594"
                                },
                                {
                                    "val": "1762.00",
                                    "rownum": "595"
                                },
                                {
                                    "val": "1762.70",
                                    "rownum": "596"
                                },
                                {
                                    "val": "1764.00",
                                    "rownum": "597"
                                },
                                {
                                    "val": "1765.60",
                                    "rownum": "598"
                                },
                                {
                                    "val": "1768.00",
                                    "rownum": "599"
                                },
                                {
                                    "val": "1773.00",
                                    "rownum": "600"
                                },
                                {
                                    "val": "1779.20",
                                    "rownum": "601"
                                },
                                {
                                    "val": "1786.88",
                                    "rownum": "602"
                                },
                                {
                                    "val": "1788.45",
                                    "rownum": "603"
                                },
                                {
                                    "val": "1788.63",
                                    "rownum": "604"
                                },
                                {
                                    "val": "1792.00",
                                    "rownum": "605"
                                },
                                {
                                    "val": "1792.80",
                                    "rownum": "606"
                                },
                                {
                                    "val": "1809.75",
                                    "rownum": "607"
                                },
                                {
                                    "val": "1810.00",
                                    "rownum": "608"
                                },
                                {
                                    "val": "1811.10",
                                    "rownum": "609"
                                },
                                {
                                    "val": "1814.80",
                                    "rownum": "610"
                                },
                                {
                                    "val": "1820.80",
                                    "rownum": "611"
                                },
                                {
                                    "val": "1823.80",
                                    "rownum": "612"
                                },
                                {
                                    "val": "1829.76",
                                    "rownum": "613"
                                },
                                {
                                    "val": "1830.78",
                                    "rownum": "614"
                                },
                                {
                                    "val": "1832.80",
                                    "rownum": "615"
                                },
                                {
                                    "val": "1835.70",
                                    "rownum": "616"
                                },
                                {
                                    "val": "1838.00",
                                    "rownum": "617"
                                },
                                {
                                    "val": "1838.20",
                                    "rownum": "618"
                                },
                                {
                                    "val": "1840.64",
                                    "rownum": "619"
                                },
                                {
                                    "val": "1850.00",
                                    "rownum": "620"
                                },
                                {
                                    "val": "1863.40",
                                    "rownum": "621"
                                },
                                {
                                    "val": "1873.80",
                                    "rownum": "622"
                                },
                                {
                                    "val": "1885.00",
                                    "rownum": "623"
                                },
                                {
                                    "val": "1887.60",
                                    "rownum": "624"
                                },
                                {
                                    "val": "1890.50",
                                    "rownum": "625"
                                },
                                {
                                    "val": "1892.25",
                                    "rownum": "626"
                                },
                                {
                                    "val": "1893.00",
                                    "rownum": "627"
                                },
                                {
                                    "val": "1903.80",
                                    "rownum": "628"
                                },
                                {
                                    "val": "1912.85",
                                    "rownum": "629"
                                },
                                {
                                    "val": "1920.60",
                                    "rownum": "630"
                                },
                                {
                                    "val": "1924.25",
                                    "rownum": "631"
                                },
                                {
                                    "val": "1930.40",
                                    "rownum": "632"
                                },
                                {
                                    "val": "1936.00",
                                    "rownum": "633"
                                },
                                {
                                    "val": "1938.38",
                                    "rownum": "634"
                                },
                                {
                                    "val": "1940.85",
                                    "rownum": "635"
                                },
                                {
                                    "val": "1942.00",
                                    "rownum": "636"
                                },
                                {
                                    "val": "1946.52",
                                    "rownum": "637"
                                },
                                {
                                    "val": "1948.50",
                                    "rownum": "638"
                                },
                                {
                                    "val": "1955.13",
                                    "rownum": "639"
                                },
                                {
                                    "val": "1966.81",
                                    "rownum": "640"
                                },
                                {
                                    "val": "1974.00",
                                    "rownum": "641"
                                },
                                {
                                    "val": "1979.23",
                                    "rownum": "642"
                                },
                                {
                                    "val": "1990.00",
                                    "rownum": "643"
                                },
                                {
                                    "val": "1994.40",
                                    "rownum": "644"
                                },
                                {
                                    "val": "1994.52",
                                    "rownum": "645"
                                },
                                {
                                    "val": "2018.50",
                                    "rownum": "646"
                                },
                                {
                                    "val": "2023.38",
                                    "rownum": "647"
                                },
                                {
                                    "val": "2027.08",
                                    "rownum": "648"
                                },
                                {
                                    "val": "2030.40",
                                    "rownum": "649"
                                },
                                {
                                    "val": "2036.16",
                                    "rownum": "650"
                                },
                                {
                                    "val": "2037.28",
                                    "rownum": "651"
                                },
                                {
                                    "val": "2046.24",
                                    "rownum": "652"
                                },
                                {
                                    "val": "2048.21",
                                    "rownum": "653"
                                },
                                {
                                    "val": "2048.50",
                                    "rownum": "654"
                                },
                                {
                                    "val": "2052.50",
                                    "rownum": "655"
                                },
                                {
                                    "val": "2054.00",
                                    "rownum": "656"
                                },
                                {
                                    "val": "2058.46",
                                    "rownum": "657"
                                },
                                {
                                    "val": "2071.20",
                                    "rownum": "658"
                                },
                                {
                                    "val": "2082.00",
                                    "rownum": "659"
                                },
                                {
                                    "val": "2090.00",
                                    "rownum": "660"
                                },
                                {
                                    "val": "2090.88",
                                    "rownum": "661"
                                },
                                {
                                    "val": "2094.30",
                                    "rownum": "662"
                                },
                                {
                                    "val": "2097.60",
                                    "rownum": "663"
                                },
                                {
                                    "val": "2122.92",
                                    "rownum": "664"
                                },
                                {
                                    "val": "2123.20",
                                    "rownum": "665"
                                },
                                {
                                    "val": "2142.90",
                                    "rownum": "666"
                                },
                                {
                                    "val": "2147.40",
                                    "rownum": "667"
                                },
                                {
                                    "val": "2158.00",
                                    "rownum": "668"
                                },
                                {
                                    "val": "2160.00",
                                    "rownum": "669"
                                },
                                {
                                    "val": "2169.00",
                                    "rownum": "670"
                                },
                                {
                                    "val": "2196.00",
                                    "rownum": "671"
                                },
                                {
                                    "val": "2205.75",
                                    "rownum": "672"
                                },
                                {
                                    "val": "2220.00",
                                    "rownum": "673"
                                },
                                {
                                    "val": "2222.20",
                                    "rownum": "674"
                                },
                                {
                                    "val": "2222.40",
                                    "rownum": "675"
                                },
                                {
                                    "val": "2227.89",
                                    "rownum": "676"
                                },
                                {
                                    "val": "2233.00",
                                    "rownum": "677"
                                },
                                {
                                    "val": "2237.50",
                                    "rownum": "678"
                                },
                                {
                                    "val": "2255.50",
                                    "rownum": "679"
                                },
                                {
                                    "val": "2278.40",
                                    "rownum": "680"
                                },
                                {
                                    "val": "2285.00",
                                    "rownum": "681"
                                },
                                {
                                    "val": "2286.00",
                                    "rownum": "682"
                                },
                                {
                                    "val": "2296.00",
                                    "rownum": "683"
                                },
                                {
                                    "val": "2296.00",
                                    "rownum": "684"
                                },
                                {
                                    "val": "2301.75",
                                    "rownum": "685"
                                },
                                {
                                    "val": "2310.00",
                                    "rownum": "686"
                                },
                                {
                                    "val": "2311.70",
                                    "rownum": "687"
                                },
                                {
                                    "val": "2314.20",
                                    "rownum": "688"
                                },
                                {
                                    "val": "2318.24",
                                    "rownum": "689"
                                },
                                {
                                    "val": "2341.36",
                                    "rownum": "690"
                                },
                                {
                                    "val": "2362.25",
                                    "rownum": "691"
                                },
                                {
                                    "val": "2381.05",
                                    "rownum": "692"
                                },
                                {
                                    "val": "2388.50",
                                    "rownum": "693"
                                },
                                {
                                    "val": "2390.40",
                                    "rownum": "694"
                                },
                                {
                                    "val": "2393.50",
                                    "rownum": "695"
                                },
                                {
                                    "val": "2436.18",
                                    "rownum": "696"
                                },
                                {
                                    "val": "2444.31",
                                    "rownum": "697"
                                },
                                {
                                    "val": "2465.25",
                                    "rownum": "698"
                                },
                                {
                                    "val": "2467.00",
                                    "rownum": "699"
                                },
                                {
                                    "val": "2490.50",
                                    "rownum": "700"
                                },
                                {
                                    "val": "2505.60",
                                    "rownum": "701"
                                },
                                {
                                    "val": "2518.00",
                                    "rownum": "702"
                                },
                                {
                                    "val": "2519.00",
                                    "rownum": "703"
                                },
                                {
                                    "val": "2545.00",
                                    "rownum": "704"
                                },
                                {
                                    "val": "2550.00",
                                    "rownum": "705"
                                },
                                {
                                    "val": "2556.95",
                                    "rownum": "706"
                                },
                                {
                                    "val": "2603.00",
                                    "rownum": "707"
                                },
                                {
                                    "val": "2622.76",
                                    "rownum": "708"
                                },
                                {
                                    "val": "2633.90",
                                    "rownum": "709"
                                },
                                {
                                    "val": "2645.00",
                                    "rownum": "710"
                                },
                                {
                                    "val": "2684.00",
                                    "rownum": "711"
                                },
                                {
                                    "val": "2684.40",
                                    "rownum": "712"
                                },
                                {
                                    "val": "2697.50",
                                    "rownum": "713"
                                },
                                {
                                    "val": "2708.80",
                                    "rownum": "714"
                                },
                                {
                                    "val": "2713.50",
                                    "rownum": "715"
                                },
                                {
                                    "val": "2720.05",
                                    "rownum": "716"
                                },
                                {
                                    "val": "2731.88",
                                    "rownum": "717"
                                },
                                {
                                    "val": "2753.10",
                                    "rownum": "718"
                                },
                                {
                                    "val": "2761.94",
                                    "rownum": "719"
                                },
                                {
                                    "val": "2769.00",
                                    "rownum": "720"
                                },
                                {
                                    "val": "2772.00",
                                    "rownum": "721"
                                },
                                {
                                    "val": "2775.00",
                                    "rownum": "722"
                                },
                                {
                                    "val": "2775.05",
                                    "rownum": "723"
                                },
                                {
                                    "val": "2812.00",
                                    "rownum": "724"
                                },
                                {
                                    "val": "2825.30",
                                    "rownum": "725"
                                },
                                {
                                    "val": "2826.00",
                                    "rownum": "726"
                                },
                                {
                                    "val": "2827.90",
                                    "rownum": "727"
                                },
                                {
                                    "val": "2835.00",
                                    "rownum": "728"
                                },
                                {
                                    "val": "2844.50",
                                    "rownum": "729"
                                },
                                {
                                    "val": "2864.50",
                                    "rownum": "730"
                                },
                                {
                                    "val": "2900.00",
                                    "rownum": "731"
                                },
                                {
                                    "val": "2917.00",
                                    "rownum": "732"
                                },
                                {
                                    "val": "2924.80",
                                    "rownum": "733"
                                },
                                {
                                    "val": "2942.81",
                                    "rownum": "734"
                                },
                                {
                                    "val": "2944.40",
                                    "rownum": "735"
                                },
                                {
                                    "val": "2966.50",
                                    "rownum": "736"
                                },
                                {
                                    "val": "2984.00",
                                    "rownum": "737"
                                },
                                {
                                    "val": "3016.00",
                                    "rownum": "738"
                                },
                                {
                                    "val": "3026.85",
                                    "rownum": "739"
                                },
                                {
                                    "val": "3055.00",
                                    "rownum": "740"
                                },
                                {
                                    "val": "3063.00",
                                    "rownum": "741"
                                },
                                {
                                    "val": "3082.00",
                                    "rownum": "742"
                                },
                                {
                                    "val": "3090.00",
                                    "rownum": "743"
                                },
                                {
                                    "val": "3118.00",
                                    "rownum": "744"
                                },
                                {
                                    "val": "3120.00",
                                    "rownum": "745"
                                },
                                {
                                    "val": "3127.50",
                                    "rownum": "746"
                                },
                                {
                                    "val": "3160.60",
                                    "rownum": "747"
                                },
                                {
                                    "val": "3163.20",
                                    "rownum": "748"
                                },
                                {
                                    "val": "3192.65",
                                    "rownum": "749"
                                },
                                {
                                    "val": "3232.80",
                                    "rownum": "750"
                                },
                                {
                                    "val": "3354.00",
                                    "rownum": "751"
                                },
                                {
                                    "val": "3424.00",
                                    "rownum": "752"
                                },
                                {
                                    "val": "3436.44",
                                    "rownum": "753"
                                },
                                {
                                    "val": "3463.00",
                                    "rownum": "754"
                                },
                                {
                                    "val": "3471.68",
                                    "rownum": "755"
                                },
                                {
                                    "val": "3523.40",
                                    "rownum": "756"
                                },
                                {
                                    "val": "3536.60",
                                    "rownum": "757"
                                },
                                {
                                    "val": "3554.28",
                                    "rownum": "758"
                                },
                                {
                                    "val": "3574.80",
                                    "rownum": "759"
                                },
                                {
                                    "val": "3584.00",
                                    "rownum": "760"
                                },
                                {
                                    "val": "3597.90",
                                    "rownum": "761"
                                },
                                {
                                    "val": "3603.22",
                                    "rownum": "762"
                                },
                                {
                                    "val": "3687.00",
                                    "rownum": "763"
                                },
                                {
                                    "val": "3740.00",
                                    "rownum": "764"
                                },
                                {
                                    "val": "3741.30",
                                    "rownum": "765"
                                },
                                {
                                    "val": "3812.70",
                                    "rownum": "766"
                                },
                                {
                                    "val": "3815.25",
                                    "rownum": "767"
                                },
                                {
                                    "val": "3849.66",
                                    "rownum": "768"
                                },
                                {
                                    "val": "3868.60",
                                    "rownum": "769"
                                },
                                {
                                    "val": "3891.00",
                                    "rownum": "770"
                                },
                                {
                                    "val": "4011.75",
                                    "rownum": "771"
                                },
                                {
                                    "val": "4109.70",
                                    "rownum": "772"
                                },
                                {
                                    "val": "4150.05",
                                    "rownum": "773"
                                },
                                {
                                    "val": "4180.00",
                                    "rownum": "774"
                                },
                                {
                                    "val": "4288.85",
                                    "rownum": "775"
                                },
                                {
                                    "val": "4330.40",
                                    "rownum": "776"
                                },
                                {
                                    "val": "4337.00",
                                    "rownum": "777"
                                },
                                {
                                    "val": "4371.60",
                                    "rownum": "778"
                                },
                                {
                                    "val": "4422.00",
                                    "rownum": "779"
                                },
                                {
                                    "val": "4441.25",
                                    "rownum": "780"
                                },
                                {
                                    "val": "4451.70",
                                    "rownum": "781"
                                },
                                {
                                    "val": "4464.60",
                                    "rownum": "782"
                                },
                                {
                                    "val": "4529.80",
                                    "rownum": "783"
                                },
                                {
                                    "val": "4578.43",
                                    "rownum": "784"
                                },
                                {
                                    "val": "4581.00",
                                    "rownum": "785"
                                },
                                {
                                    "val": "4666.94",
                                    "rownum": "786"
                                },
                                {
                                    "val": "4680.90",
                                    "rownum": "787"
                                },
                                {
                                    "val": "4705.50",
                                    "rownum": "788"
                                },
                                {
                                    "val": "4707.54",
                                    "rownum": "789"
                                },
                                {
                                    "val": "4725.00",
                                    "rownum": "790"
                                },
                                {
                                    "val": "4807.00",
                                    "rownum": "791"
                                },
                                {
                                    "val": "4813.50",
                                    "rownum": "792"
                                },
                                {
                                    "val": "4825.00",
                                    "rownum": "793"
                                },
                                {
                                    "val": "4895.44",
                                    "rownum": "794"
                                },
                                {
                                    "val": "4899.20",
                                    "rownum": "795"
                                },
                                {
                                    "val": "4924.14",
                                    "rownum": "796"
                                },
                                {
                                    "val": "4931.92",
                                    "rownum": "797"
                                },
                                {
                                    "val": "4960.90",
                                    "rownum": "798"
                                },
                                {
                                    "val": "4985.50",
                                    "rownum": "799"
                                },
                                {
                                    "val": "5218.00",
                                    "rownum": "800"
                                },
                                {
                                    "val": "5256.50",
                                    "rownum": "801"
                                },
                                {
                                    "val": "5275.72",
                                    "rownum": "802"
                                },
                                {
                                    "val": "5398.73",
                                    "rownum": "803"
                                },
                                {
                                    "val": "5502.11",
                                    "rownum": "804"
                                },
                                {
                                    "val": "5510.59",
                                    "rownum": "805"
                                },
                                {
                                    "val": "6200.55",
                                    "rownum": "806"
                                },
                                {
                                    "val": "6306.24",
                                    "rownum": "807"
                                },
                                {
                                    "val": "6375.00",
                                    "rownum": "808"
                                },
                                {
                                    "val": "6379.40",
                                    "rownum": "809"
                                },
                                {
                                    "val": "6475.40",
                                    "rownum": "810"
                                },
                                {
                                    "val": "6635.28",
                                    "rownum": "811"
                                },
                                {
                                    "val": "6750.00",
                                    "rownum": "812"
                                },
                                {
                                    "val": "7390.20",
                                    "rownum": "813"
                                },
                                {
                                    "val": "8446.45",
                                    "rownum": "814"
                                },
                                {
                                    "val": "8593.28",
                                    "rownum": "815"
                                },
                                {
                                    "val": "8623.45",
                                    "rownum": "816"
                                },
                                {
                                    "val": "8902.50",
                                    "rownum": "817"
                                },
                                {
                                    "val": "9194.56",
                                    "rownum": "818"
                                },
                                {
                                    "val": "9210.90",
                                    "rownum": "819"
                                },
                                {
                                    "val": "9921.30",
                                    "rownum": "820"
                                },
                                {
                                    "val": "10164.80",
                                    "rownum": "821"
                                },
                                {
                                    "val": "10191.70",
                                    "rownum": "822"
                                },
                                {
                                    "val": "10495.60",
                                    "rownum": "823"
                                },
                                {
                                    "val": "10835.24",
                                    "rownum": "824"
                                },
                                {
                                    "val": "10952.85",
                                    "rownum": "825"
                                },
                                {
                                    "val": "11188.40",
                                    "rownum": "826"
                                },
                                {
                                    "val": "11380.00",
                                    "rownum": "827"
                                },
                                {
                                    "val": "12615.05",
                                    "rownum": "828"
                                },
                                {
                                    "val": "15810.00",
                                    "rownum": "829"
                                },
                                {
                                    "val": "16387.50",
                                    "rownum": "830"
                                }
                            ]
                        },
                        "text/html": [
                            "<table>",
                            "<tr><th>val</th><th>rownum</th></tr>",
                            "<tr><td>12.50</td><td>1</td></tr>",
                            "<tr><td>18.40</td><td>2</td></tr>",
                            "<tr><td>23.80</td><td>3</td></tr>",
                            "<tr><td>28.00</td><td>4</td></tr>",
                            "<tr><td>30.00</td><td>5</td></tr>",
                            "<tr><td>33.75</td><td>6</td></tr>",
                            "<tr><td>36.00</td><td>7</td></tr>",
                            "<tr><td>36.00</td><td>8</td></tr>",
                            "<tr><td>40.00</td><td>9</td></tr>",
                            "<tr><td>45.00</td><td>10</td></tr>",
                            "<tr><td>45.00</td><td>11</td></tr>",
                            "<tr><td>48.00</td><td>12</td></tr>",
                            "<tr><td>48.75</td><td>13</td></tr>",
                            "<tr><td>49.80</td><td>14</td></tr>",
                            "<tr><td>52.35</td><td>15</td></tr>",
                            "<tr><td>55.20</td><td>16</td></tr>",
                            "<tr><td>55.80</td><td>17</td></tr>",
                            "<tr><td>57.50</td><td>18</td></tr>",
                            "<tr><td>57.80</td><td>19</td></tr>",
                            "<tr><td>60.00</td><td>20</td></tr>",
                            "<tr><td>63.00</td><td>21</td></tr>",
                            "<tr><td>69.60</td><td>22</td></tr>",
                            "<tr><td>70.00</td><td>23</td></tr>",
                            "<tr><td>72.00</td><td>24</td></tr>",
                            "<tr><td>72.96</td><td>25</td></tr>",
                            "<tr><td>74.40</td><td>26</td></tr>",
                            "<tr><td>76.00</td><td>27</td></tr>",
                            "<tr><td>80.10</td><td>28</td></tr>",
                            "<tr><td>86.40</td><td>29</td></tr>",
                            "<tr><td>86.50</td><td>30</td></tr>",
                            "<tr><td>86.85</td><td>31</td></tr>",
                            "<tr><td>88.00</td><td>32</td></tr>",
                            "<tr><td>88.50</td><td>33</td></tr>",
                            "<tr><td>88.80</td><td>34</td></tr>",
                            "<tr><td>93.50</td><td>35</td></tr>",
                            "<tr><td>96.50</td><td>36</td></tr>",
                            "<tr><td>98.40</td><td>37</td></tr>",
                            "<tr><td>100.80</td><td>38</td></tr>",
                            "<tr><td>102.40</td><td>39</td></tr>",
                            "<tr><td>103.20</td><td>40</td></tr>",
                            "<tr><td>108.00</td><td>41</td></tr>",
                            "<tr><td>108.50</td><td>42</td></tr>",
                            "<tr><td>110.00</td><td>43</td></tr>",
                            "<tr><td>110.00</td><td>44</td></tr>",
                            "<tr><td>112.00</td><td>45</td></tr>",
                            "<tr><td>112.00</td><td>46</td></tr>",
                            "<tr><td>114.00</td><td>47</td></tr>",
                            "<tr><td>120.00</td><td>48</td></tr>",
                            "<tr><td>121.60</td><td>49</td></tr>",
                            "<tr><td>122.40</td><td>50</td></tr>",
                            "<tr><td>125.00</td><td>51</td></tr>",
                            "<tr><td>131.75</td><td>52</td></tr>",
                            "<tr><td>136.00</td><td>53</td></tr>",
                            "<tr><td>136.30</td><td>54</td></tr>",
                            "<tr><td>136.80</td><td>55</td></tr>",
                            "<tr><td>137.50</td><td>56</td></tr>",
                            "<tr><td>139.80</td><td>57</td></tr>",
                            "<tr><td>139.80</td><td>58</td></tr>",
                            "<tr><td>140.00</td><td>59</td></tr>",
                            "<tr><td>141.60</td><td>60</td></tr>",
                            "<tr><td>142.50</td><td>61</td></tr>",
                            "<tr><td>144.00</td><td>62</td></tr>",
                            "<tr><td>144.80</td><td>63</td></tr>",
                            "<tr><td>147.00</td><td>64</td></tr>",
                            "<tr><td>147.90</td><td>65</td></tr>",
                            "<tr><td>149.00</td><td>66</td></tr>",
                            "<tr><td>150.00</td><td>67</td></tr>",
                            "<tr><td>154.40</td><td>68</td></tr>",
                            "<tr><td>155.00</td><td>69</td></tr>",
                            "<tr><td>155.40</td><td>70</td></tr>",
                            "<tr><td>156.00</td><td>71</td></tr>",
                            "<tr><td>159.00</td><td>72</td></tr>",
                            "<tr><td>160.00</td><td>73</td></tr>",
                            "<tr><td>164.40</td><td>74</td></tr>",
                            "<tr><td>166.00</td><td>75</td></tr>",
                            "<tr><td>174.90</td><td>76</td></tr>",
                            "<tr><td>176.10</td><td>77</td></tr>",
                            "<tr><td>180.40</td><td>78</td></tr>",
                            "<tr><td>180.48</td><td>79</td></tr>",
                            "<tr><td>182.40</td><td>80</td></tr>",
                            "<tr><td>187.00</td><td>81</td></tr>",
                            "<tr><td>189.42</td><td>82</td></tr>",
                            "<tr><td>190.00</td><td>83</td></tr>",
                            "<tr><td>191.10</td><td>84</td></tr>",
                            "<tr><td>192.00</td><td>85</td></tr>",
                            "<tr><td>200.00</td><td>86</td></tr>",
                            "<tr><td>200.00</td><td>87</td></tr>",
                            "<tr><td>210.00</td><td>88</td></tr>",
                            "<tr><td>210.00</td><td>89</td></tr>",
                            "<tr><td>211.20</td><td>90</td></tr>",
                            "<tr><td>216.00</td><td>91</td></tr>",
                            "<tr><td>220.00</td><td>92</td></tr>",
                            "<tr><td>224.00</td><td>93</td></tr>",
                            "<tr><td>224.00</td><td>94</td></tr>",
                            "<tr><td>224.83</td><td>95</td></tr>",
                            "<tr><td>225.50</td><td>96</td></tr>",
                            "<tr><td>228.00</td><td>97</td></tr>",
                            "<tr><td>228.00</td><td>98</td></tr>",
                            "<tr><td>230.40</td><td>99</td></tr>",
                            "<tr><td>230.85</td><td>100</td></tr>",
                            "<tr><td>232.09</td><td>101</td></tr>",
                            "<tr><td>235.20</td><td>102</td></tr>",
                            "<tr><td>236.25</td><td>103</td></tr>",
                            "<tr><td>237.90</td><td>104</td></tr>",
                            "<tr><td>240.00</td><td>105</td></tr>",
                            "<tr><td>240.00</td><td>106</td></tr>",
                            "<tr><td>240.10</td><td>107</td></tr>",
                            "<tr><td>240.40</td><td>108</td></tr>",
                            "<tr><td>243.18</td><td>109</td></tr>",
                            "<tr><td>245.00</td><td>110</td></tr>",
                            "<tr><td>246.24</td><td>111</td></tr>",
                            "<tr><td>248.00</td><td>112</td></tr>",
                            "<tr><td>250.80</td><td>113</td></tr>",
                            "<tr><td>251.50</td><td>114</td></tr>",
                            "<tr><td>252.00</td><td>115</td></tr>",
                            "<tr><td>259.51</td><td>116</td></tr>",
                            "<tr><td>265.35</td><td>117</td></tr>",
                            "<tr><td>266.00</td><td>118</td></tr>",
                            "<tr><td>268.80</td><td>119</td></tr>",
                            "<tr><td>270.00</td><td>120</td></tr>",
                            "<tr><td>273.60</td><td>121</td></tr>",
                            "<tr><td>278.00</td><td>122</td></tr>",
                            "<tr><td>282.00</td><td>123</td></tr>",
                            "<tr><td>285.12</td><td>124</td></tr>",
                            "<tr><td>287.80</td><td>125</td></tr>",
                            "<tr><td>288.00</td><td>126</td></tr>",
                            "<tr><td>291.55</td><td>127</td></tr>",
                            "<tr><td>291.84</td><td>128</td></tr>",
                            "<tr><td>295.38</td><td>129</td></tr>",
                            "<tr><td>299.25</td><td>130</td></tr>",
                            "<tr><td>300.00</td><td>131</td></tr>",
                            "<tr><td>305.00</td><td>132</td></tr>",
                            "<tr><td>310.00</td><td>133</td></tr>",
                            "<tr><td>310.00</td><td>134</td></tr>",
                            "<tr><td>314.76</td><td>135</td></tr>",
                            "<tr><td>317.75</td><td>136</td></tr>",
                            "<tr><td>318.84</td><td>137</td></tr>",
                            "<tr><td>319.20</td><td>138</td></tr>",
                            "<tr><td>319.20</td><td>139</td></tr>",
                            "<tr><td>320.00</td><td>140</td></tr>",
                            "<tr><td>321.12</td><td>141</td></tr>",
                            "<tr><td>326.00</td><td>142</td></tr>",
                            "<tr><td>329.69</td><td>143</td></tr>",
                            "<tr><td>330.00</td><td>144</td></tr>",
                            "<tr><td>330.00</td><td>145</td></tr>",
                            "<tr><td>331.20</td><td>146</td></tr>",
                            "<tr><td>334.80</td><td>147</td></tr>",
                            "<tr><td>336.00</td><td>148</td></tr>",
                            "<tr><td>336.80</td><td>149</td></tr>",
                            "<tr><td>338.00</td><td>150</td></tr>",
                            "<tr><td>338.20</td><td>151</td></tr>",
                            "<tr><td>342.00</td><td>152</td></tr>",
                            "<tr><td>344.00</td><td>153</td></tr>",
                            "<tr><td>346.56</td><td>154</td></tr>",
                            "<tr><td>349.50</td><td>155</td></tr>",
                            "<tr><td>351.00</td><td>156</td></tr>",
                            "<tr><td>352.00</td><td>157</td></tr>",
                            "<tr><td>352.60</td><td>158</td></tr>",
                            "<tr><td>353.20</td><td>159</td></tr>",
                            "<tr><td>355.50</td><td>160</td></tr>",
                            "<tr><td>360.00</td><td>161</td></tr>",
                            "<tr><td>360.00</td><td>162</td></tr>",
                            "<tr><td>360.00</td><td>163</td></tr>",
                            "<tr><td>360.00</td><td>164</td></tr>",
                            "<tr><td>361.00</td><td>165</td></tr>",
                            "<tr><td>363.60</td><td>166</td></tr>",
                            "<tr><td>365.89</td><td>167</td></tr>",
                            "<tr><td>368.93</td><td>168</td></tr>",
                            "<tr><td>372.38</td><td>169</td></tr>",
                            "<tr><td>375.50</td><td>170</td></tr>",
                            "<tr><td>378.00</td><td>171</td></tr>",
                            "<tr><td>386.20</td><td>172</td></tr>",
                            "<tr><td>387.50</td><td>173</td></tr>",
                            "<tr><td>390.00</td><td>174</td></tr>",
                            "<tr><td>392.20</td><td>175</td></tr>",
                            "<tr><td>393.00</td><td>176</td></tr>",
                            "<tr><td>397.80</td><td>177</td></tr>",
                            "<tr><td>399.00</td><td>178</td></tr>",
                            "<tr><td>399.85</td><td>179</td></tr>",
                            "<tr><td>400.00</td><td>180</td></tr>",
                            "<tr><td>403.20</td><td>181</td></tr>",
                            "<tr><td>405.75</td><td>182</td></tr>",
                            "<tr><td>406.40</td><td>183</td></tr>",
                            "<tr><td>407.70</td><td>184</td></tr>",
                            "<tr><td>412.35</td><td>185</td></tr>",
                            "<tr><td>415.80</td><td>186</td></tr>",
                            "<tr><td>417.20</td><td>187</td></tr>",
                            "<tr><td>420.00</td><td>188</td></tr>",
                            "<tr><td>420.00</td><td>189</td></tr>",
                            "<tr><td>424.00</td><td>190</td></tr>",
                            "<tr><td>424.00</td><td>191</td></tr>",
                            "<tr><td>425.12</td><td>192</td></tr>",
                            "<tr><td>427.50</td><td>193</td></tr>",
                            "<tr><td>429.40</td><td>194</td></tr>",
                            "<tr><td>439.00</td><td>195</td></tr>",
                            "<tr><td>439.20</td><td>196</td></tr>",
                            "<tr><td>439.60</td><td>197</td></tr>",
                            "<tr><td>440.00</td><td>198</td></tr>",
                            "<tr><td>441.15</td><td>199</td></tr>",
                            "<tr><td>442.00</td><td>200</td></tr>",
                            "<tr><td>443.40</td><td>201</td></tr>",
                            "<tr><td>446.60</td><td>202</td></tr>",
                            "<tr><td>447.20</td><td>203</td></tr>",
                            "<tr><td>448.00</td><td>204</td></tr>",
                            "<tr><td>450.00</td><td>205</td></tr>",
                            "<tr><td>452.90</td><td>206</td></tr>",
                            "<tr><td>454.00</td><td>207</td></tr>",
                            "<tr><td>456.00</td><td>208</td></tr>",
                            "<tr><td>458.76</td><td>209</td></tr>",
                            "<tr><td>459.00</td><td>210</td></tr>",
                            "<tr><td>464.00</td><td>211</td></tr>",
                            "<tr><td>465.70</td><td>212</td></tr>",
                            "<tr><td>468.45</td><td>213</td></tr>",
                            "<tr><td>469.11</td><td>214</td></tr>",
                            "<tr><td>471.20</td><td>215</td></tr>",
                            "<tr><td>471.20</td><td>216</td></tr>",
                            "<tr><td>472.50</td><td>217</td></tr>",
                            "<tr><td>475.11</td><td>218</td></tr>",
                            "<tr><td>475.15</td><td>219</td></tr>",
                            "<tr><td>477.00</td><td>220</td></tr>",
                            "<tr><td>477.00</td><td>221</td></tr>",
                            "<tr><td>479.40</td><td>222</td></tr>",
                            "<tr><td>479.75</td><td>223</td></tr>",
                            "<tr><td>479.80</td><td>224</td></tr>",
                            "<tr><td>480.00</td><td>225</td></tr>",
                            "<tr><td>484.26</td><td>226</td></tr>",
                            "<tr><td>484.50</td><td>227</td></tr>",
                            "<tr><td>485.00</td><td>228</td></tr>",
                            "<tr><td>488.70</td><td>229</td></tr>",
                            "<tr><td>491.50</td><td>230</td></tr>",
                            "<tr><td>493.00</td><td>231</td></tr>",
                            "<tr><td>497.52</td><td>232</td></tr>",
                            "<tr><td>498.10</td><td>233</td></tr>",
                            "<tr><td>498.50</td><td>234</td></tr>",
                            "<tr><td>500.00</td><td>235</td></tr>",
                            "<tr><td>500.00</td><td>236</td></tr>",
                            "<tr><td>507.00</td><td>237</td></tr>",
                            "<tr><td>510.00</td><td>238</td></tr>",
                            "<tr><td>514.40</td><td>239</td></tr>",
                            "<tr><td>516.00</td><td>240</td></tr>",
                            "<tr><td>516.47</td><td>241</td></tr>",
                            "<tr><td>516.80</td><td>242</td></tr>",
                            "<tr><td>517.44</td><td>243</td></tr>",
                            "<tr><td>517.80</td><td>244</td></tr>",
                            "<tr><td>519.00</td><td>245</td></tr>",
                            "<tr><td>520.41</td><td>246</td></tr>",
                            "<tr><td>523.26</td><td>247</td></tr>",
                            "<tr><td>525.00</td><td>248</td></tr>",
                            "<tr><td>525.30</td><td>249</td></tr>",
                            "<tr><td>534.85</td><td>250</td></tr>",
                            "<tr><td>536.40</td><td>251</td></tr>",
                            "<tr><td>537.50</td><td>252</td></tr>",
                            "<tr><td>538.60</td><td>253</td></tr>",
                            "<tr><td>539.40</td><td>254</td></tr>",
                            "<tr><td>539.50</td><td>255</td></tr>",
                            "<tr><td>550.00</td><td>256</td></tr>",
                            "<tr><td>550.59</td><td>257</td></tr>",
                            "<tr><td>556.62</td><td>258</td></tr>",
                            "<tr><td>557.60</td><td>259</td></tr>",
                            "<tr><td>558.00</td><td>260</td></tr>",
                            "<tr><td>560.00</td><td>261</td></tr>",
                            "<tr><td>560.00</td><td>262</td></tr>",
                            "<tr><td>560.00</td><td>263</td></tr>",
                            "<tr><td>562.60</td><td>264</td></tr>",
                            "<tr><td>565.50</td><td>265</td></tr>",
                            "<tr><td>568.80</td><td>266</td></tr>",
                            "<tr><td>569.00</td><td>267</td></tr>",
                            "<tr><td>570.00</td><td>268</td></tr>",
                            "<tr><td>575.00</td><td>269</td></tr>",
                            "<tr><td>581.00</td><td>270</td></tr>",
                            "<tr><td>584.00</td><td>271</td></tr>",
                            "<tr><td>586.00</td><td>272</td></tr>",
                            "<tr><td>589.00</td><td>273</td></tr>",
                            "<tr><td>591.60</td><td>274</td></tr>",
                            "<tr><td>593.75</td><td>275</td></tr>",
                            "<tr><td>595.50</td><td>276</td></tr>",
                            "<tr><td>601.83</td><td>277</td></tr>",
                            "<tr><td>602.40</td><td>278</td></tr>",
                            "<tr><td>604.22</td><td>279</td></tr>",
                            "<tr><td>605.00</td><td>280</td></tr>",
                            "<tr><td>608.00</td><td>281</td></tr>",
                            "<tr><td>608.40</td><td>282</td></tr>",
                            "<tr><td>611.30</td><td>283</td></tr>",
                            "<tr><td>613.20</td><td>284</td></tr>",
                            "<tr><td>616.00</td><td>285</td></tr>",
                            "<tr><td>616.50</td><td>286</td></tr>",
                            "<tr><td>619.50</td><td>287</td></tr>",
                            "<tr><td>622.35</td><td>288</td></tr>",
                            "<tr><td>625.00</td><td>289</td></tr>",
                            "<tr><td>625.28</td><td>290</td></tr>",
                            "<tr><td>629.00</td><td>291</td></tr>",
                            "<tr><td>629.50</td><td>292</td></tr>",
                            "<tr><td>631.60</td><td>293</td></tr>",
                            "<tr><td>632.40</td><td>294</td></tr>",
                            "<tr><td>636.00</td><td>295</td></tr>",
                            "<tr><td>637.50</td><td>296</td></tr>",
                            "<tr><td>638.50</td><td>297</td></tr>",
                            "<tr><td>639.90</td><td>298</td></tr>",
                            "<tr><td>642.00</td><td>299</td></tr>",
                            "<tr><td>642.06</td><td>300</td></tr>",
                            "<tr><td>642.20</td><td>301</td></tr>",
                            "<tr><td>644.80</td><td>302</td></tr>",
                            "<tr><td>645.00</td><td>303</td></tr>",
                            "<tr><td>649.00</td><td>304</td></tr>",
                            "<tr><td>651.00</td><td>305</td></tr>",
                            "<tr><td>654.06</td><td>306</td></tr>",
                            "<tr><td>655.00</td><td>307</td></tr>",
                            "<tr><td>660.00</td><td>308</td></tr>",
                            "<tr><td>660.00</td><td>309</td></tr>",
                            "<tr><td>663.10</td><td>310</td></tr>",
                            "<tr><td>668.80</td><td>311</td></tr>",
                            "<tr><td>670.00</td><td>312</td></tr>",
                            "<tr><td>677.00</td><td>313</td></tr>",
                            "<tr><td>678.00</td><td>314</td></tr>",
                            "<tr><td>683.30</td><td>315</td></tr>",
                            "<tr><td>686.00</td><td>316</td></tr>",
                            "<tr><td>686.70</td><td>317</td></tr>",
                            "<tr><td>691.20</td><td>318</td></tr>",
                            "<tr><td>695.63</td><td>319</td></tr>",
                            "<tr><td>696.00</td><td>320</td></tr>",
                            "<tr><td>706.00</td><td>321</td></tr>",
                            "<tr><td>708.75</td><td>322</td></tr>",
                            "<tr><td>709.55</td><td>323</td></tr>",
                            "<tr><td>711.00</td><td>324</td></tr>",
                            "<tr><td>713.30</td><td>325</td></tr>",
                            "<tr><td>716.72</td><td>326</td></tr>",
                            "<tr><td>717.50</td><td>327</td></tr>",
                            "<tr><td>717.60</td><td>328</td></tr>",
                            "<tr><td>718.08</td><td>329</td></tr>",
                            "<tr><td>720.00</td><td>330</td></tr>",
                            "<tr><td>720.00</td><td>331</td></tr>",
                            "<tr><td>720.90</td><td>332</td></tr>",
                            "<tr><td>722.50</td><td>333</td></tr>",
                            "<tr><td>730.00</td><td>334</td></tr>",
                            "<tr><td>731.50</td><td>335</td></tr>",
                            "<tr><td>732.60</td><td>336</td></tr>",
                            "<tr><td>735.00</td><td>337</td></tr>",
                            "<tr><td>736.00</td><td>338</td></tr>",
                            "<tr><td>742.50</td><td>339</td></tr>",
                            "<tr><td>748.80</td><td>340</td></tr>",
                            "<tr><td>749.06</td><td>341</td></tr>",
                            "<tr><td>750.50</td><td>342</td></tr>",
                            "<tr><td>755.00</td><td>343</td></tr>",
                            "<tr><td>756.00</td><td>344</td></tr>",
                            "<tr><td>758.50</td><td>345</td></tr>",
                            "<tr><td>764.30</td><td>346</td></tr>",
                            "<tr><td>768.75</td><td>347</td></tr>",
                            "<tr><td>781.00</td><td>348</td></tr>",
                            "<tr><td>792.75</td><td>349</td></tr>",
                            "<tr><td>796.35</td><td>350</td></tr>",
                            "<tr><td>799.20</td><td>351</td></tr>",
                            "<tr><td>800.00</td><td>352</td></tr>",
                            "<tr><td>801.10</td><td>353</td></tr>",
                            "<tr><td>802.00</td><td>354</td></tr>",
                            "<tr><td>805.43</td><td>355</td></tr>",
                            "<tr><td>807.38</td><td>356</td></tr>",
                            "<tr><td>808.00</td><td>357</td></tr>",
                            "<tr><td>810.00</td><td>358</td></tr>",
                            "<tr><td>812.50</td><td>359</td></tr>",
                            "<tr><td>813.37</td><td>360</td></tr>",
                            "<tr><td>814.42</td><td>361</td></tr>",
                            "<tr><td>814.50</td><td>362</td></tr>",
                            "<tr><td>816.30</td><td>363</td></tr>",
                            "<tr><td>817.88</td><td>364</td></tr>",
                            "<tr><td>818.40</td><td>365</td></tr>",
                            "<tr><td>819.00</td><td>366</td></tr>",
                            "<tr><td>827.55</td><td>367</td></tr>",
                            "<tr><td>833.00</td><td>368</td></tr>",
                            "<tr><td>834.20</td><td>369</td></tr>",
                            "<tr><td>835.20</td><td>370</td></tr>",
                            "<tr><td>838.45</td><td>371</td></tr>",
                            "<tr><td>843.00</td><td>372</td></tr>",
                            "<tr><td>844.25</td><td>373</td></tr>",
                            "<tr><td>845.80</td><td>374</td></tr>",
                            "<tr><td>848.00</td><td>375</td></tr>",
                            "<tr><td>848.70</td><td>376</td></tr>",
                            "<tr><td>851.20</td><td>377</td></tr>",
                            "<tr><td>851.20</td><td>378</td></tr>",
                            "<tr><td>852.00</td><td>379</td></tr>",
                            "<tr><td>855.02</td><td>380</td></tr>",
                            "<tr><td>858.00</td><td>381</td></tr>",
                            "<tr><td>858.00</td><td>382</td></tr>",
                            "<tr><td>860.10</td><td>383</td></tr>",
                            "<tr><td>862.50</td><td>384</td></tr>",
                            "<tr><td>863.28</td><td>385</td></tr>",
                            "<tr><td>863.43</td><td>386</td></tr>",
                            "<tr><td>863.60</td><td>387</td></tr>",
                            "<tr><td>868.75</td><td>388</td></tr>",
                            "<tr><td>877.20</td><td>389</td></tr>",
                            "<tr><td>877.73</td><td>390</td></tr>",
                            "<tr><td>878.00</td><td>391</td></tr>",
                            "<tr><td>880.50</td><td>392</td></tr>",
                            "<tr><td>889.70</td><td>393</td></tr>",
                            "<tr><td>890.00</td><td>394</td></tr>",
                            "<tr><td>892.64</td><td>395</td></tr>",
                            "<tr><td>899.00</td><td>396</td></tr>",
                            "<tr><td>903.60</td><td>397</td></tr>",
                            "<tr><td>903.75</td><td>398</td></tr>",
                            "<tr><td>906.93</td><td>399</td></tr>",
                            "<tr><td>910.40</td><td>400</td></tr>",
                            "<tr><td>912.00</td><td>401</td></tr>",
                            "<tr><td>912.00</td><td>402</td></tr>",
                            "<tr><td>914.40</td><td>403</td></tr>",
                            "<tr><td>917.00</td><td>404</td></tr>",
                            "<tr><td>920.10</td><td>405</td></tr>",
                            "<tr><td>920.60</td><td>406</td></tr>",
                            "<tr><td>923.88</td><td>407</td></tr>",
                            "<tr><td>928.75</td><td>408</td></tr>",
                            "<tr><td>931.50</td><td>409</td></tr>",
                            "<tr><td>932.00</td><td>410</td></tr>",
                            "<tr><td>932.05</td><td>411</td></tr>",
                            "<tr><td>933.50</td><td>412</td></tr>",
                            "<tr><td>934.50</td><td>413</td></tr>",
                            "<tr><td>934.50</td><td>414</td></tr>",
                            "<tr><td>940.50</td><td>415</td></tr>",
                            "<tr><td>946.00</td><td>416</td></tr>",
                            "<tr><td>950.00</td><td>417</td></tr>",
                            "<tr><td>954.40</td><td>418</td></tr>",
                            "<tr><td>956.68</td><td>419</td></tr>",
                            "<tr><td>965.00</td><td>420</td></tr>",
                            "<tr><td>966.80</td><td>421</td></tr>",
                            "<tr><td>967.82</td><td>422</td></tr>",
                            "<tr><td>975.00</td><td>423</td></tr>",
                            "<tr><td>975.88</td><td>424</td></tr>",
                            "<tr><td>982.00</td><td>425</td></tr>",
                            "<tr><td>996.00</td><td>426</td></tr>",
                            "<tr><td>997.00</td><td>427</td></tr>",
                            "<tr><td>1013.75</td><td>428</td></tr>",
                            "<tr><td>1014.00</td><td>429</td></tr>",
                            "<tr><td>1020.00</td><td>430</td></tr>",
                            "<tr><td>1025.33</td><td>431</td></tr>",
                            "<tr><td>1030.00</td><td>432</td></tr>",
                            "<tr><td>1030.76</td><td>433</td></tr>",
                            "<tr><td>1031.70</td><td>434</td></tr>",
                            "<tr><td>1036.80</td><td>435</td></tr>",
                            "<tr><td>1050.60</td><td>436</td></tr>",
                            "<tr><td>1058.40</td><td>437</td></tr>",
                            "<tr><td>1064.00</td><td>438</td></tr>",
                            "<tr><td>1064.50</td><td>439</td></tr>",
                            "<tr><td>1072.43</td><td>440</td></tr>",
                            "<tr><td>1078.00</td><td>441</td></tr>",
                            "<tr><td>1078.69</td><td>442</td></tr>",
                            "<tr><td>1080.00</td><td>443</td></tr>",
                            "<tr><td>1083.15</td><td>444</td></tr>",
                            "<tr><td>1096.20</td><td>445</td></tr>",
                            "<tr><td>1098.46</td><td>446</td></tr>",
                            "<tr><td>1101.00</td><td>447</td></tr>",
                            "<tr><td>1101.20</td><td>448</td></tr>",
                            "<tr><td>1106.40</td><td>449</td></tr>",
                            "<tr><td>1112.00</td><td>450</td></tr>",
                            "<tr><td>1117.60</td><td>451</td></tr>",
                            "<tr><td>1117.80</td><td>452</td></tr>",
                            "<tr><td>1119.90</td><td>453</td></tr>",
                            "<tr><td>1119.90</td><td>454</td></tr>",
                            "<tr><td>1122.80</td><td>455</td></tr>",
                            "<tr><td>1130.40</td><td>456</td></tr>",
                            "<tr><td>1140.00</td><td>457</td></tr>",
                            "<tr><td>1151.40</td><td>458</td></tr>",
                            "<tr><td>1152.50</td><td>459</td></tr>",
                            "<tr><td>1167.68</td><td>460</td></tr>",
                            "<tr><td>1168.00</td><td>461</td></tr>",
                            "<tr><td>1170.38</td><td>462</td></tr>",
                            "<tr><td>1174.75</td><td>463</td></tr>",
                            "<tr><td>1176.00</td><td>464</td></tr>",
                            "<tr><td>1180.88</td><td>465</td></tr>",
                            "<tr><td>1185.75</td><td>466</td></tr>",
                            "<tr><td>1191.20</td><td>467</td></tr>",
                            "<tr><td>1193.01</td><td>468</td></tr>",
                            "<tr><td>1194.00</td><td>469</td></tr>",
                            "<tr><td>1194.27</td><td>470</td></tr>",
                            "<tr><td>1196.00</td><td>471</td></tr>",
                            "<tr><td>1197.95</td><td>472</td></tr>",
                            "<tr><td>1200.80</td><td>473</td></tr>",
                            "<tr><td>1209.00</td><td>474</td></tr>",
                            "<tr><td>1227.02</td><td>475</td></tr>",
                            "<tr><td>1228.80</td><td>476</td></tr>",
                            "<tr><td>1233.48</td><td>477</td></tr>",
                            "<tr><td>1234.05</td><td>478</td></tr>",
                            "<tr><td>1249.10</td><td>479</td></tr>",
                            "<tr><td>1255.72</td><td>480</td></tr>",
                            "<tr><td>1260.00</td><td>481</td></tr>",
                            "<tr><td>1261.88</td><td>482</td></tr>",
                            "<tr><td>1270.75</td><td>483</td></tr>",
                            "<tr><td>1272.00</td><td>484</td></tr>",
                            "<tr><td>1286.80</td><td>485</td></tr>",
                            "<tr><td>1287.40</td><td>486</td></tr>",
                            "<tr><td>1288.39</td><td>487</td></tr>",
                            "<tr><td>1295.00</td><td>488</td></tr>",
                            "<tr><td>1296.00</td><td>489</td></tr>",
                            "<tr><td>1296.00</td><td>490</td></tr>",
                            "<tr><td>1296.75</td><td>491</td></tr>",
                            "<tr><td>1303.20</td><td>492</td></tr>",
                            "<tr><td>1309.50</td><td>493</td></tr>",
                            "<tr><td>1313.82</td><td>494</td></tr>",
                            "<tr><td>1326.23</td><td>495</td></tr>",
                            "<tr><td>1328.00</td><td>496</td></tr>",
                            "<tr><td>1332.00</td><td>497</td></tr>",
                            "<tr><td>1335.00</td><td>498</td></tr>",
                            "<tr><td>1336.95</td><td>499</td></tr>",
                            "<tr><td>1342.95</td><td>500</td></tr>",
                            "<tr><td>1353.60</td><td>501</td></tr>",
                            "<tr><td>1366.40</td><td>502</td></tr>",
                            "<tr><td>1371.80</td><td>503</td></tr>",
                            "<tr><td>1376.00</td><td>504</td></tr>",
                            "<tr><td>1378.07</td><td>505</td></tr>",
                            "<tr><td>1380.60</td><td>506</td></tr>",
                            "<tr><td>1388.50</td><td>507</td></tr>",
                            "<tr><td>1393.24</td><td>508</td></tr>",
                            "<tr><td>1402.00</td><td>509</td></tr>",
                            "<tr><td>1402.50</td><td>510</td></tr>",
                            "<tr><td>1404.45</td><td>511</td></tr>",
                            "<tr><td>1407.50</td><td>512</td></tr>",
                            "<tr><td>1408.00</td><td>513</td></tr>",
                            "<tr><td>1411.00</td><td>514</td></tr>",
                            "<tr><td>1412.00</td><td>515</td></tr>",
                            "<tr><td>1414.80</td><td>516</td></tr>",
                            "<tr><td>1416.00</td><td>517</td></tr>",
                            "<tr><td>1420.00</td><td>518</td></tr>",
                            "<tr><td>1423.00</td><td>519</td></tr>",
                            "<tr><td>1432.71</td><td>520</td></tr>",
                            "<tr><td>1434.00</td><td>521</td></tr>",
                            "<tr><td>1440.00</td><td>522</td></tr>",
                            "<tr><td>1441.38</td><td>523</td></tr>",
                            "<tr><td>1442.50</td><td>524</td></tr>",
                            "<tr><td>1444.80</td><td>525</td></tr>",
                            "<tr><td>1446.00</td><td>526</td></tr>",
                            "<tr><td>1447.50</td><td>527</td></tr>",
                            "<tr><td>1456.00</td><td>528</td></tr>",
                            "<tr><td>1459.00</td><td>529</td></tr>",
                            "<tr><td>1468.94</td><td>530</td></tr>",
                            "<tr><td>1472.00</td><td>531</td></tr>",
                            "<tr><td>1477.00</td><td>532</td></tr>",
                            "<tr><td>1483.00</td><td>533</td></tr>",
                            "<tr><td>1485.80</td><td>534</td></tr>",
                            "<tr><td>1488.00</td><td>535</td></tr>",
                            "<tr><td>1488.80</td><td>536</td></tr>",
                            "<tr><td>1497.00</td><td>537</td></tr>",
                            "<tr><td>1498.35</td><td>538</td></tr>",
                            "<tr><td>1500.00</td><td>539</td></tr>",
                            "<tr><td>1500.00</td><td>540</td></tr>",
                            "<tr><td>1501.09</td><td>541</td></tr>",
                            "<tr><td>1503.00</td><td>542</td></tr>",
                            "<tr><td>1503.60</td><td>543</td></tr>",
                            "<tr><td>1504.50</td><td>544</td></tr>",
                            "<tr><td>1504.65</td><td>545</td></tr>",
                            "<tr><td>1505.18</td><td>546</td></tr>",
                            "<tr><td>1512.00</td><td>547</td></tr>",
                            "<tr><td>1515.60</td><td>548</td></tr>",
                            "<tr><td>1531.08</td><td>549</td></tr>",
                            "<tr><td>1535.00</td><td>550</td></tr>",
                            "<tr><td>1536.80</td><td>551</td></tr>",
                            "<tr><td>1538.70</td><td>552</td></tr>",
                            "<tr><td>1539.00</td><td>553</td></tr>",
                            "<tr><td>1546.30</td><td>554</td></tr>",
                            "<tr><td>1549.60</td><td>555</td></tr>",
                            "<tr><td>1552.60</td><td>556</td></tr>",
                            "<tr><td>1553.50</td><td>557</td></tr>",
                            "<tr><td>1570.00</td><td>558</td></tr>",
                            "<tr><td>1575.00</td><td>559</td></tr>",
                            "<tr><td>1584.00</td><td>560</td></tr>",
                            "<tr><td>1584.00</td><td>561</td></tr>",
                            "<tr><td>1584.00</td><td>562</td></tr>",
                            "<tr><td>1590.56</td><td>563</td></tr>",
                            "<tr><td>1591.25</td><td>564</td></tr>",
                            "<tr><td>1609.28</td><td>565</td></tr>",
                            "<tr><td>1614.80</td><td>566</td></tr>",
                            "<tr><td>1614.88</td><td>567</td></tr>",
                            "<tr><td>1618.88</td><td>568</td></tr>",
                            "<tr><td>1622.40</td><td>569</td></tr>",
                            "<tr><td>1624.50</td><td>570</td></tr>",
                            "<tr><td>1629.98</td><td>571</td></tr>",
                            "<tr><td>1630.00</td><td>572</td></tr>",
                            "<tr><td>1631.48</td><td>573</td></tr>",
                            "<tr><td>1638.40</td><td>574</td></tr>",
                            "<tr><td>1641.00</td><td>575</td></tr>",
                            "<tr><td>1644.60</td><td>576</td></tr>",
                            "<tr><td>1645.00</td><td>577</td></tr>",
                            "<tr><td>1649.00</td><td>578</td></tr>",
                            "<tr><td>1659.20</td><td>579</td></tr>",
                            "<tr><td>1659.54</td><td>580</td></tr>",
                            "<tr><td>1677.30</td><td>581</td></tr>",
                            "<tr><td>1684.28</td><td>582</td></tr>",
                            "<tr><td>1689.78</td><td>583</td></tr>",
                            "<tr><td>1692.00</td><td>584</td></tr>",
                            "<tr><td>1692.80</td><td>585</td></tr>",
                            "<tr><td>1701.00</td><td>586</td></tr>",
                            "<tr><td>1707.84</td><td>587</td></tr>",
                            "<tr><td>1727.50</td><td>588</td></tr>",
                            "<tr><td>1728.53</td><td>589</td></tr>",
                            "<tr><td>1733.06</td><td>590</td></tr>",
                            "<tr><td>1743.36</td><td>591</td></tr>",
                            "<tr><td>1754.50</td><td>592</td></tr>",
                            "<tr><td>1755.00</td><td>593</td></tr>",
                            "<tr><td>1761.00</td><td>594</td></tr>",
                            "<tr><td>1762.00</td><td>595</td></tr>",
                            "<tr><td>1762.70</td><td>596</td></tr>",
                            "<tr><td>1764.00</td><td>597</td></tr>",
                            "<tr><td>1765.60</td><td>598</td></tr>",
                            "<tr><td>1768.00</td><td>599</td></tr>",
                            "<tr><td>1773.00</td><td>600</td></tr>",
                            "<tr><td>1779.20</td><td>601</td></tr>",
                            "<tr><td>1786.88</td><td>602</td></tr>",
                            "<tr><td>1788.45</td><td>603</td></tr>",
                            "<tr><td>1788.63</td><td>604</td></tr>",
                            "<tr><td>1792.00</td><td>605</td></tr>",
                            "<tr><td>1792.80</td><td>606</td></tr>",
                            "<tr><td>1809.75</td><td>607</td></tr>",
                            "<tr><td>1810.00</td><td>608</td></tr>",
                            "<tr><td>1811.10</td><td>609</td></tr>",
                            "<tr><td>1814.80</td><td>610</td></tr>",
                            "<tr><td>1820.80</td><td>611</td></tr>",
                            "<tr><td>1823.80</td><td>612</td></tr>",
                            "<tr><td>1829.76</td><td>613</td></tr>",
                            "<tr><td>1830.78</td><td>614</td></tr>",
                            "<tr><td>1832.80</td><td>615</td></tr>",
                            "<tr><td>1835.70</td><td>616</td></tr>",
                            "<tr><td>1838.00</td><td>617</td></tr>",
                            "<tr><td>1838.20</td><td>618</td></tr>",
                            "<tr><td>1840.64</td><td>619</td></tr>",
                            "<tr><td>1850.00</td><td>620</td></tr>",
                            "<tr><td>1863.40</td><td>621</td></tr>",
                            "<tr><td>1873.80</td><td>622</td></tr>",
                            "<tr><td>1885.00</td><td>623</td></tr>",
                            "<tr><td>1887.60</td><td>624</td></tr>",
                            "<tr><td>1890.50</td><td>625</td></tr>",
                            "<tr><td>1892.25</td><td>626</td></tr>",
                            "<tr><td>1893.00</td><td>627</td></tr>",
                            "<tr><td>1903.80</td><td>628</td></tr>",
                            "<tr><td>1912.85</td><td>629</td></tr>",
                            "<tr><td>1920.60</td><td>630</td></tr>",
                            "<tr><td>1924.25</td><td>631</td></tr>",
                            "<tr><td>1930.40</td><td>632</td></tr>",
                            "<tr><td>1936.00</td><td>633</td></tr>",
                            "<tr><td>1938.38</td><td>634</td></tr>",
                            "<tr><td>1940.85</td><td>635</td></tr>",
                            "<tr><td>1942.00</td><td>636</td></tr>",
                            "<tr><td>1946.52</td><td>637</td></tr>",
                            "<tr><td>1948.50</td><td>638</td></tr>",
                            "<tr><td>1955.13</td><td>639</td></tr>",
                            "<tr><td>1966.81</td><td>640</td></tr>",
                            "<tr><td>1974.00</td><td>641</td></tr>",
                            "<tr><td>1979.23</td><td>642</td></tr>",
                            "<tr><td>1990.00</td><td>643</td></tr>",
                            "<tr><td>1994.40</td><td>644</td></tr>",
                            "<tr><td>1994.52</td><td>645</td></tr>",
                            "<tr><td>2018.50</td><td>646</td></tr>",
                            "<tr><td>2023.38</td><td>647</td></tr>",
                            "<tr><td>2027.08</td><td>648</td></tr>",
                            "<tr><td>2030.40</td><td>649</td></tr>",
                            "<tr><td>2036.16</td><td>650</td></tr>",
                            "<tr><td>2037.28</td><td>651</td></tr>",
                            "<tr><td>2046.24</td><td>652</td></tr>",
                            "<tr><td>2048.21</td><td>653</td></tr>",
                            "<tr><td>2048.50</td><td>654</td></tr>",
                            "<tr><td>2052.50</td><td>655</td></tr>",
                            "<tr><td>2054.00</td><td>656</td></tr>",
                            "<tr><td>2058.46</td><td>657</td></tr>",
                            "<tr><td>2071.20</td><td>658</td></tr>",
                            "<tr><td>2082.00</td><td>659</td></tr>",
                            "<tr><td>2090.00</td><td>660</td></tr>",
                            "<tr><td>2090.88</td><td>661</td></tr>",
                            "<tr><td>2094.30</td><td>662</td></tr>",
                            "<tr><td>2097.60</td><td>663</td></tr>",
                            "<tr><td>2122.92</td><td>664</td></tr>",
                            "<tr><td>2123.20</td><td>665</td></tr>",
                            "<tr><td>2142.90</td><td>666</td></tr>",
                            "<tr><td>2147.40</td><td>667</td></tr>",
                            "<tr><td>2158.00</td><td>668</td></tr>",
                            "<tr><td>2160.00</td><td>669</td></tr>",
                            "<tr><td>2169.00</td><td>670</td></tr>",
                            "<tr><td>2196.00</td><td>671</td></tr>",
                            "<tr><td>2205.75</td><td>672</td></tr>",
                            "<tr><td>2220.00</td><td>673</td></tr>",
                            "<tr><td>2222.20</td><td>674</td></tr>",
                            "<tr><td>2222.40</td><td>675</td></tr>",
                            "<tr><td>2227.89</td><td>676</td></tr>",
                            "<tr><td>2233.00</td><td>677</td></tr>",
                            "<tr><td>2237.50</td><td>678</td></tr>",
                            "<tr><td>2255.50</td><td>679</td></tr>",
                            "<tr><td>2278.40</td><td>680</td></tr>",
                            "<tr><td>2285.00</td><td>681</td></tr>",
                            "<tr><td>2286.00</td><td>682</td></tr>",
                            "<tr><td>2296.00</td><td>683</td></tr>",
                            "<tr><td>2296.00</td><td>684</td></tr>",
                            "<tr><td>2301.75</td><td>685</td></tr>",
                            "<tr><td>2310.00</td><td>686</td></tr>",
                            "<tr><td>2311.70</td><td>687</td></tr>",
                            "<tr><td>2314.20</td><td>688</td></tr>",
                            "<tr><td>2318.24</td><td>689</td></tr>",
                            "<tr><td>2341.36</td><td>690</td></tr>",
                            "<tr><td>2362.25</td><td>691</td></tr>",
                            "<tr><td>2381.05</td><td>692</td></tr>",
                            "<tr><td>2388.50</td><td>693</td></tr>",
                            "<tr><td>2390.40</td><td>694</td></tr>",
                            "<tr><td>2393.50</td><td>695</td></tr>",
                            "<tr><td>2436.18</td><td>696</td></tr>",
                            "<tr><td>2444.31</td><td>697</td></tr>",
                            "<tr><td>2465.25</td><td>698</td></tr>",
                            "<tr><td>2467.00</td><td>699</td></tr>",
                            "<tr><td>2490.50</td><td>700</td></tr>",
                            "<tr><td>2505.60</td><td>701</td></tr>",
                            "<tr><td>2518.00</td><td>702</td></tr>",
                            "<tr><td>2519.00</td><td>703</td></tr>",
                            "<tr><td>2545.00</td><td>704</td></tr>",
                            "<tr><td>2550.00</td><td>705</td></tr>",
                            "<tr><td>2556.95</td><td>706</td></tr>",
                            "<tr><td>2603.00</td><td>707</td></tr>",
                            "<tr><td>2622.76</td><td>708</td></tr>",
                            "<tr><td>2633.90</td><td>709</td></tr>",
                            "<tr><td>2645.00</td><td>710</td></tr>",
                            "<tr><td>2684.00</td><td>711</td></tr>",
                            "<tr><td>2684.40</td><td>712</td></tr>",
                            "<tr><td>2697.50</td><td>713</td></tr>",
                            "<tr><td>2708.80</td><td>714</td></tr>",
                            "<tr><td>2713.50</td><td>715</td></tr>",
                            "<tr><td>2720.05</td><td>716</td></tr>",
                            "<tr><td>2731.88</td><td>717</td></tr>",
                            "<tr><td>2753.10</td><td>718</td></tr>",
                            "<tr><td>2761.94</td><td>719</td></tr>",
                            "<tr><td>2769.00</td><td>720</td></tr>",
                            "<tr><td>2772.00</td><td>721</td></tr>",
                            "<tr><td>2775.00</td><td>722</td></tr>",
                            "<tr><td>2775.05</td><td>723</td></tr>",
                            "<tr><td>2812.00</td><td>724</td></tr>",
                            "<tr><td>2825.30</td><td>725</td></tr>",
                            "<tr><td>2826.00</td><td>726</td></tr>",
                            "<tr><td>2827.90</td><td>727</td></tr>",
                            "<tr><td>2835.00</td><td>728</td></tr>",
                            "<tr><td>2844.50</td><td>729</td></tr>",
                            "<tr><td>2864.50</td><td>730</td></tr>",
                            "<tr><td>2900.00</td><td>731</td></tr>",
                            "<tr><td>2917.00</td><td>732</td></tr>",
                            "<tr><td>2924.80</td><td>733</td></tr>",
                            "<tr><td>2942.81</td><td>734</td></tr>",
                            "<tr><td>2944.40</td><td>735</td></tr>",
                            "<tr><td>2966.50</td><td>736</td></tr>",
                            "<tr><td>2984.00</td><td>737</td></tr>",
                            "<tr><td>3016.00</td><td>738</td></tr>",
                            "<tr><td>3026.85</td><td>739</td></tr>",
                            "<tr><td>3055.00</td><td>740</td></tr>",
                            "<tr><td>3063.00</td><td>741</td></tr>",
                            "<tr><td>3082.00</td><td>742</td></tr>",
                            "<tr><td>3090.00</td><td>743</td></tr>",
                            "<tr><td>3118.00</td><td>744</td></tr>",
                            "<tr><td>3120.00</td><td>745</td></tr>",
                            "<tr><td>3127.50</td><td>746</td></tr>",
                            "<tr><td>3160.60</td><td>747</td></tr>",
                            "<tr><td>3163.20</td><td>748</td></tr>",
                            "<tr><td>3192.65</td><td>749</td></tr>",
                            "<tr><td>3232.80</td><td>750</td></tr>",
                            "<tr><td>3354.00</td><td>751</td></tr>",
                            "<tr><td>3424.00</td><td>752</td></tr>",
                            "<tr><td>3436.44</td><td>753</td></tr>",
                            "<tr><td>3463.00</td><td>754</td></tr>",
                            "<tr><td>3471.68</td><td>755</td></tr>",
                            "<tr><td>3523.40</td><td>756</td></tr>",
                            "<tr><td>3536.60</td><td>757</td></tr>",
                            "<tr><td>3554.28</td><td>758</td></tr>",
                            "<tr><td>3574.80</td><td>759</td></tr>",
                            "<tr><td>3584.00</td><td>760</td></tr>",
                            "<tr><td>3597.90</td><td>761</td></tr>",
                            "<tr><td>3603.22</td><td>762</td></tr>",
                            "<tr><td>3687.00</td><td>763</td></tr>",
                            "<tr><td>3740.00</td><td>764</td></tr>",
                            "<tr><td>3741.30</td><td>765</td></tr>",
                            "<tr><td>3812.70</td><td>766</td></tr>",
                            "<tr><td>3815.25</td><td>767</td></tr>",
                            "<tr><td>3849.66</td><td>768</td></tr>",
                            "<tr><td>3868.60</td><td>769</td></tr>",
                            "<tr><td>3891.00</td><td>770</td></tr>",
                            "<tr><td>4011.75</td><td>771</td></tr>",
                            "<tr><td>4109.70</td><td>772</td></tr>",
                            "<tr><td>4150.05</td><td>773</td></tr>",
                            "<tr><td>4180.00</td><td>774</td></tr>",
                            "<tr><td>4288.85</td><td>775</td></tr>",
                            "<tr><td>4330.40</td><td>776</td></tr>",
                            "<tr><td>4337.00</td><td>777</td></tr>",
                            "<tr><td>4371.60</td><td>778</td></tr>",
                            "<tr><td>4422.00</td><td>779</td></tr>",
                            "<tr><td>4441.25</td><td>780</td></tr>",
                            "<tr><td>4451.70</td><td>781</td></tr>",
                            "<tr><td>4464.60</td><td>782</td></tr>",
                            "<tr><td>4529.80</td><td>783</td></tr>",
                            "<tr><td>4578.43</td><td>784</td></tr>",
                            "<tr><td>4581.00</td><td>785</td></tr>",
                            "<tr><td>4666.94</td><td>786</td></tr>",
                            "<tr><td>4680.90</td><td>787</td></tr>",
                            "<tr><td>4705.50</td><td>788</td></tr>",
                            "<tr><td>4707.54</td><td>789</td></tr>",
                            "<tr><td>4725.00</td><td>790</td></tr>",
                            "<tr><td>4807.00</td><td>791</td></tr>",
                            "<tr><td>4813.50</td><td>792</td></tr>",
                            "<tr><td>4825.00</td><td>793</td></tr>",
                            "<tr><td>4895.44</td><td>794</td></tr>",
                            "<tr><td>4899.20</td><td>795</td></tr>",
                            "<tr><td>4924.14</td><td>796</td></tr>",
                            "<tr><td>4931.92</td><td>797</td></tr>",
                            "<tr><td>4960.90</td><td>798</td></tr>",
                            "<tr><td>4985.50</td><td>799</td></tr>",
                            "<tr><td>5218.00</td><td>800</td></tr>",
                            "<tr><td>5256.50</td><td>801</td></tr>",
                            "<tr><td>5275.72</td><td>802</td></tr>",
                            "<tr><td>5398.73</td><td>803</td></tr>",
                            "<tr><td>5502.11</td><td>804</td></tr>",
                            "<tr><td>5510.59</td><td>805</td></tr>",
                            "<tr><td>6200.55</td><td>806</td></tr>",
                            "<tr><td>6306.24</td><td>807</td></tr>",
                            "<tr><td>6375.00</td><td>808</td></tr>",
                            "<tr><td>6379.40</td><td>809</td></tr>",
                            "<tr><td>6475.40</td><td>810</td></tr>",
                            "<tr><td>6635.28</td><td>811</td></tr>",
                            "<tr><td>6750.00</td><td>812</td></tr>",
                            "<tr><td>7390.20</td><td>813</td></tr>",
                            "<tr><td>8446.45</td><td>814</td></tr>",
                            "<tr><td>8593.28</td><td>815</td></tr>",
                            "<tr><td>8623.45</td><td>816</td></tr>",
                            "<tr><td>8902.50</td><td>817</td></tr>",
                            "<tr><td>9194.56</td><td>818</td></tr>",
                            "<tr><td>9210.90</td><td>819</td></tr>",
                            "<tr><td>9921.30</td><td>820</td></tr>",
                            "<tr><td>10164.80</td><td>821</td></tr>",
                            "<tr><td>10191.70</td><td>822</td></tr>",
                            "<tr><td>10495.60</td><td>823</td></tr>",
                            "<tr><td>10835.24</td><td>824</td></tr>",
                            "<tr><td>10952.85</td><td>825</td></tr>",
                            "<tr><td>11188.40</td><td>826</td></tr>",
                            "<tr><td>11380.00</td><td>827</td></tr>",
                            "<tr><td>12615.05</td><td>828</td></tr>",
                            "<tr><td>15810.00</td><td>829</td></tr>",
                            "<tr><td>16387.50</td><td>830</td></tr>",
                            "</table>"
                        ]
                    }
                }
            ],
            "execution_count": 33
        },
        {
            "cell_type": "markdown",
            "source": [
                "**Explanation:** The original query groups values to ensure distinctness. An alternative is explicitly using DISTINCT, but GROUP BY is the correct approach for pairing with ROW_NUMBER() to assign unique row numbers to distinct values."
            ],
            "metadata": {
                "azdata_cell_guid": "db3f1697-642f-47ad-b364-0afab17a5e15"
            },
            "attachments": {}
        },
        {
            "cell_type": "markdown",
            "source": [
                "**Q7:**\n",
                "Write a query against the dbo.Orders table that computes for each\n",
                "    customer order:\n",
                "* the difference between the current order quantity and the customer's previous order quantity\n",
                "* the difference between the current order quantity and the customer's next order quantity."
            ],
            "metadata": {
                "azdata_cell_guid": "c5759e78-1af3-4a87-aefe-d9adfa88f1ac"
            },
            "attachments": {}
        },
        {
            "cell_type": "code",
            "source": [
                "USE TSQLV4\n",
                "SELECT \n",
                "  custid, \n",
                "  orderid, \n",
                "  qty,\n",
                "  qty - LAG(qty) OVER(PARTITION BY custid ORDER BY orderid) AS diffprev,\n",
                "  LEAD(qty) OVER(PARTITION BY custid ORDER BY orderid) - qty AS diffnext\n",
                "FROM dbo.Orders\n",
                "ORDER BY custid, orderid;\n",
                ""
            ],
            "metadata": {
                "azdata_cell_guid": "c7546ec1-f81e-4f40-9b8a-05f924ba3204",
                "language": "sql"
            },
            "outputs": [
                {
                    "output_type": "display_data",
                    "data": {
                        "text/html": "(11 rows affected)"
                    },
                    "metadata": {}
                },
                {
                    "output_type": "display_data",
                    "data": {
                        "text/html": "Total execution time: 00:00:00.031"
                    },
                    "metadata": {}
                },
                {
                    "output_type": "execute_result",
                    "metadata": {},
                    "execution_count": 34,
                    "data": {
                        "application/vnd.dataresource+json": {
                            "schema": {
                                "fields": [
                                    {
                                        "name": "custid"
                                    },
                                    {
                                        "name": "orderid"
                                    },
                                    {
                                        "name": "qty"
                                    },
                                    {
                                        "name": "diffprev"
                                    },
                                    {
                                        "name": "diffnext"
                                    }
                                ]
                            },
                            "data": [
                                {
                                    "custid": "A",
                                    "orderid": "10001",
                                    "qty": "12",
                                    "diffprev": "NULL",
                                    "diffnext": "-2"
                                },
                                {
                                    "custid": "A",
                                    "orderid": "30001",
                                    "qty": "10",
                                    "diffprev": "-2",
                                    "diffnext": "30"
                                },
                                {
                                    "custid": "A",
                                    "orderid": "40001",
                                    "qty": "40",
                                    "diffprev": "30",
                                    "diffnext": "-30"
                                },
                                {
                                    "custid": "A",
                                    "orderid": "40005",
                                    "qty": "10",
                                    "diffprev": "-30",
                                    "diffnext": "NULL"
                                },
                                {
                                    "custid": "B",
                                    "orderid": "10005",
                                    "qty": "20",
                                    "diffprev": "NULL",
                                    "diffnext": "-8"
                                },
                                {
                                    "custid": "B",
                                    "orderid": "20001",
                                    "qty": "12",
                                    "diffprev": "-8",
                                    "diffnext": "3"
                                },
                                {
                                    "custid": "B",
                                    "orderid": "30003",
                                    "qty": "15",
                                    "diffprev": "3",
                                    "diffnext": "NULL"
                                },
                                {
                                    "custid": "C",
                                    "orderid": "10006",
                                    "qty": "14",
                                    "diffprev": "NULL",
                                    "diffnext": "6"
                                },
                                {
                                    "custid": "C",
                                    "orderid": "20002",
                                    "qty": "20",
                                    "diffprev": "6",
                                    "diffnext": "2"
                                },
                                {
                                    "custid": "C",
                                    "orderid": "30004",
                                    "qty": "22",
                                    "diffprev": "2",
                                    "diffnext": "NULL"
                                },
                                {
                                    "custid": "D",
                                    "orderid": "30007",
                                    "qty": "30",
                                    "diffprev": "NULL",
                                    "diffnext": "NULL"
                                }
                            ]
                        },
                        "text/html": [
                            "<table>",
                            "<tr><th>custid</th><th>orderid</th><th>qty</th><th>diffprev</th><th>diffnext</th></tr>",
                            "<tr><td>A</td><td>10001</td><td>12</td><td>NULL</td><td>-2</td></tr>",
                            "<tr><td>A</td><td>30001</td><td>10</td><td>-2</td><td>30</td></tr>",
                            "<tr><td>A</td><td>40001</td><td>40</td><td>30</td><td>-30</td></tr>",
                            "<tr><td>A</td><td>40005</td><td>10</td><td>-30</td><td>NULL</td></tr>",
                            "<tr><td>B</td><td>10005</td><td>20</td><td>NULL</td><td>-8</td></tr>",
                            "<tr><td>B</td><td>20001</td><td>12</td><td>-8</td><td>3</td></tr>",
                            "<tr><td>B</td><td>30003</td><td>15</td><td>3</td><td>NULL</td></tr>",
                            "<tr><td>C</td><td>10006</td><td>14</td><td>NULL</td><td>6</td></tr>",
                            "<tr><td>C</td><td>20002</td><td>20</td><td>6</td><td>2</td></tr>",
                            "<tr><td>C</td><td>30004</td><td>22</td><td>2</td><td>NULL</td></tr>",
                            "<tr><td>D</td><td>30007</td><td>30</td><td>NULL</td><td>NULL</td></tr>",
                            "</table>"
                        ]
                    }
                }
            ],
            "execution_count": 34
        },
        {
            "cell_type": "markdown",
            "source": [
                "**Explanation:** This query calculates the quantity difference between a customer's consecutive orders, using LAG() for the previous order's quantity and LEAD() for the next, within each customer's set of orders."
            ],
            "metadata": {
                "azdata_cell_guid": "581d390f-c916-42f3-9021-85a1c9bdc6dd"
            },
            "attachments": {}
        },
        {
            "cell_type": "code",
            "source": [
                "\n",
                "USE TSQLV4\n",
                "DROP TABLE IF EXISTS dbo.Orders;\n",
                "\n",
                "USE Northwinds2022TSQLV7\n",
                "DROP TABLE IF EXISTS dbo.Orders;"
            ],
            "metadata": {
                "azdata_cell_guid": "a5d0f7d1-2c3c-42bf-9a63-cd9e93c4243c",
                "language": "sql"
            },
            "outputs": [],
            "execution_count": null
        }
    ]
}