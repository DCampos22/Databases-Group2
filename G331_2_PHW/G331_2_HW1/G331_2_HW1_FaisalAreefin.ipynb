{
    "metadata": {
        "kernelspec": {
            "name": "SQL",
            "display_name": "SQL",
            "language": "sql"
        },
        "language_info": {
            "name": "sql",
            "version": ""
        }
    },
    "nbformat_minor": 2,
    "nbformat": 4,
    "cells": [
        {
            "cell_type": "markdown",
            "source": [
                "# Problem Homework 1: Exercises 1-4\n",
                "\n",
                "## _<u>Exercise 1:</u>_\n",
                "\n",
                "- Return orders placed in June 2015\n",
                "    \n",
                "- Tables involved: TSQLV4 database, Sales.Orders\n",
                "    \n",
                "\n",
                "<span style=\"color: var(--vscode-foreground);\">Desired output:</span>\n",
                "\n",
                "| orderid | orderdate | custid | empid |\n",
                "| --- | --- | --- | --- |\n",
                "| 10555 | 2015-06-02 | 71 | 6 |\n",
                "| 10556 | 2015-06-03 | 73 | 2 |\n",
                "| 10557 | 2015-06-03 | 44 | 9 |\n",
                "| 10558 | 2015-06-04 | 4 | 1 |\n",
                "| 10559 | 2015-06-05 | 7 | 6 |\n",
                "| 10560 | 2015-06-06 | 25 | 8 |\n",
                "| 10561 | 2015-06-06 | 24 | 2 |\n",
                "| 10562 | 2015-06-09 | 66 | 1 |\n",
                "| 10563 | 2015-06-10 | 67 | 2 |\n",
                "| 10564 | 2015-06-10 | 65 | 4 |\n",
                "| 10565 | 2015-06-11 | 51 | 8 |\n",
                "| 10566 | 2015-06-12 | 7 | 9 |\n",
                "| 10567 | 2015-06-12 | 37 | 1 |\n",
                "| 10568 | 2015-06-13 | 29 | 3 |\n",
                "| 10569 | 2015-06-16 | 65 | 5 |\n",
                "| 10570 | 2015-06-17 | 51 | 3 |\n",
                "| 10571 | 2015-06-17 | 20 | 8 |\n",
                "| 10572 | 2015-06-18 | 5 | 3 |\n",
                "| 10573 | 2015-06-19 | 3 | 7 |\n",
                "| 10574 | 2015-06-19 | 82 | 4 |\n",
                "| 10575 | 2015-06-20 | 52 | 5 |\n",
                "| 10576 | 2015-06-23 | 80 | 3 |\n",
                "| 10577 | 2015-06-23 | 82 | 9 |\n",
                "| 10578 | 2015-06-24 | 11 | 4 |\n",
                "| 10579 | 2015-06-25 | 45 | 1 |\n",
                "| 10580 | 2015-06-26 | 56 | 4 |\n",
                "| 10581 | 2015-06-26 | 21 | 3 |\n",
                "| 10582 | 2015-06-27 | 6 | 3 |\n",
                "| 10583 | 2015-06-30 | 87 | 2 |\n",
                "| 10584 | 2015-06-30 | 7 | 4<br> |\n",
                "\n",
                "<span style=\"color: var(--vscode-foreground);\">...</span>\n",
                "\n",
                "<span style=\"color: var(--vscode-foreground);\">(30 row(s) affected)</span>"
            ],
            "metadata": {
                "azdata_cell_guid": "594acce9-ea47-4712-bba7-82b5db196b8a"
            },
            "attachments": {}
        },
        {
            "cell_type": "code",
            "source": [
                "SELECT OrderId AS orderid,\r\n",
                "    OrderDate AS orderdate,\r\n",
                "     CustomerId AS custid,\r\n",
                "      EmployeeId AS empid \r\n",
                "FROM Sales.[Order] WHERE YEAR(OrderDate) = 2015 AND MONTH(orderdate) = 6;"
            ],
            "metadata": {
                "azdata_cell_guid": "c084938a-03b0-4c1c-a5ac-62e58331f4a9",
                "language": "sql"
            },
            "outputs": [
                {
                    "output_type": "display_data",
                    "data": {
                        "text/html": "(30 rows affected)"
                    },
                    "metadata": {}
                },
                {
                    "output_type": "display_data",
                    "data": {
                        "text/html": "Total execution time: 00:00:00.006"
                    },
                    "metadata": {}
                },
                {
                    "output_type": "execute_result",
                    "execution_count": 6,
                    "data": {
                        "application/vnd.dataresource+json": {
                            "schema": {
                                "fields": [
                                    {
                                        "name": "orderid"
                                    },
                                    {
                                        "name": "orderdate"
                                    },
                                    {
                                        "name": "custid"
                                    },
                                    {
                                        "name": "empid"
                                    }
                                ]
                            },
                            "data": [
                                {
                                    "orderid": "10555",
                                    "orderdate": "2015-06-02",
                                    "custid": "71",
                                    "empid": "6"
                                },
                                {
                                    "orderid": "10556",
                                    "orderdate": "2015-06-03",
                                    "custid": "73",
                                    "empid": "2"
                                },
                                {
                                    "orderid": "10557",
                                    "orderdate": "2015-06-03",
                                    "custid": "44",
                                    "empid": "9"
                                },
                                {
                                    "orderid": "10558",
                                    "orderdate": "2015-06-04",
                                    "custid": "4",
                                    "empid": "1"
                                },
                                {
                                    "orderid": "10559",
                                    "orderdate": "2015-06-05",
                                    "custid": "7",
                                    "empid": "6"
                                },
                                {
                                    "orderid": "10560",
                                    "orderdate": "2015-06-06",
                                    "custid": "25",
                                    "empid": "8"
                                },
                                {
                                    "orderid": "10561",
                                    "orderdate": "2015-06-06",
                                    "custid": "24",
                                    "empid": "2"
                                },
                                {
                                    "orderid": "10562",
                                    "orderdate": "2015-06-09",
                                    "custid": "66",
                                    "empid": "1"
                                },
                                {
                                    "orderid": "10563",
                                    "orderdate": "2015-06-10",
                                    "custid": "67",
                                    "empid": "2"
                                },
                                {
                                    "orderid": "10564",
                                    "orderdate": "2015-06-10",
                                    "custid": "65",
                                    "empid": "4"
                                },
                                {
                                    "orderid": "10565",
                                    "orderdate": "2015-06-11",
                                    "custid": "51",
                                    "empid": "8"
                                },
                                {
                                    "orderid": "10566",
                                    "orderdate": "2015-06-12",
                                    "custid": "7",
                                    "empid": "9"
                                },
                                {
                                    "orderid": "10567",
                                    "orderdate": "2015-06-12",
                                    "custid": "37",
                                    "empid": "1"
                                },
                                {
                                    "orderid": "10568",
                                    "orderdate": "2015-06-13",
                                    "custid": "29",
                                    "empid": "3"
                                },
                                {
                                    "orderid": "10569",
                                    "orderdate": "2015-06-16",
                                    "custid": "65",
                                    "empid": "5"
                                },
                                {
                                    "orderid": "10570",
                                    "orderdate": "2015-06-17",
                                    "custid": "51",
                                    "empid": "3"
                                },
                                {
                                    "orderid": "10571",
                                    "orderdate": "2015-06-17",
                                    "custid": "20",
                                    "empid": "8"
                                },
                                {
                                    "orderid": "10572",
                                    "orderdate": "2015-06-18",
                                    "custid": "5",
                                    "empid": "3"
                                },
                                {
                                    "orderid": "10573",
                                    "orderdate": "2015-06-19",
                                    "custid": "3",
                                    "empid": "7"
                                },
                                {
                                    "orderid": "10574",
                                    "orderdate": "2015-06-19",
                                    "custid": "82",
                                    "empid": "4"
                                },
                                {
                                    "orderid": "10575",
                                    "orderdate": "2015-06-20",
                                    "custid": "52",
                                    "empid": "5"
                                },
                                {
                                    "orderid": "10576",
                                    "orderdate": "2015-06-23",
                                    "custid": "80",
                                    "empid": "3"
                                },
                                {
                                    "orderid": "10577",
                                    "orderdate": "2015-06-23",
                                    "custid": "82",
                                    "empid": "9"
                                },
                                {
                                    "orderid": "10578",
                                    "orderdate": "2015-06-24",
                                    "custid": "11",
                                    "empid": "4"
                                },
                                {
                                    "orderid": "10579",
                                    "orderdate": "2015-06-25",
                                    "custid": "45",
                                    "empid": "1"
                                },
                                {
                                    "orderid": "10580",
                                    "orderdate": "2015-06-26",
                                    "custid": "56",
                                    "empid": "4"
                                },
                                {
                                    "orderid": "10581",
                                    "orderdate": "2015-06-26",
                                    "custid": "21",
                                    "empid": "3"
                                },
                                {
                                    "orderid": "10582",
                                    "orderdate": "2015-06-27",
                                    "custid": "6",
                                    "empid": "3"
                                },
                                {
                                    "orderid": "10583",
                                    "orderdate": "2015-06-30",
                                    "custid": "87",
                                    "empid": "2"
                                },
                                {
                                    "orderid": "10584",
                                    "orderdate": "2015-06-30",
                                    "custid": "7",
                                    "empid": "4"
                                }
                            ]
                        },
                        "text/html": "<table><tr><th>orderid</th><th>orderdate</th><th>custid</th><th>empid</th></tr><tr><td>10555</td><td>2015-06-02</td><td>71</td><td>6</td></tr><tr><td>10556</td><td>2015-06-03</td><td>73</td><td>2</td></tr><tr><td>10557</td><td>2015-06-03</td><td>44</td><td>9</td></tr><tr><td>10558</td><td>2015-06-04</td><td>4</td><td>1</td></tr><tr><td>10559</td><td>2015-06-05</td><td>7</td><td>6</td></tr><tr><td>10560</td><td>2015-06-06</td><td>25</td><td>8</td></tr><tr><td>10561</td><td>2015-06-06</td><td>24</td><td>2</td></tr><tr><td>10562</td><td>2015-06-09</td><td>66</td><td>1</td></tr><tr><td>10563</td><td>2015-06-10</td><td>67</td><td>2</td></tr><tr><td>10564</td><td>2015-06-10</td><td>65</td><td>4</td></tr><tr><td>10565</td><td>2015-06-11</td><td>51</td><td>8</td></tr><tr><td>10566</td><td>2015-06-12</td><td>7</td><td>9</td></tr><tr><td>10567</td><td>2015-06-12</td><td>37</td><td>1</td></tr><tr><td>10568</td><td>2015-06-13</td><td>29</td><td>3</td></tr><tr><td>10569</td><td>2015-06-16</td><td>65</td><td>5</td></tr><tr><td>10570</td><td>2015-06-17</td><td>51</td><td>3</td></tr><tr><td>10571</td><td>2015-06-17</td><td>20</td><td>8</td></tr><tr><td>10572</td><td>2015-06-18</td><td>5</td><td>3</td></tr><tr><td>10573</td><td>2015-06-19</td><td>3</td><td>7</td></tr><tr><td>10574</td><td>2015-06-19</td><td>82</td><td>4</td></tr><tr><td>10575</td><td>2015-06-20</td><td>52</td><td>5</td></tr><tr><td>10576</td><td>2015-06-23</td><td>80</td><td>3</td></tr><tr><td>10577</td><td>2015-06-23</td><td>82</td><td>9</td></tr><tr><td>10578</td><td>2015-06-24</td><td>11</td><td>4</td></tr><tr><td>10579</td><td>2015-06-25</td><td>45</td><td>1</td></tr><tr><td>10580</td><td>2015-06-26</td><td>56</td><td>4</td></tr><tr><td>10581</td><td>2015-06-26</td><td>21</td><td>3</td></tr><tr><td>10582</td><td>2015-06-27</td><td>6</td><td>3</td></tr><tr><td>10583</td><td>2015-06-30</td><td>87</td><td>2</td></tr><tr><td>10584</td><td>2015-06-30</td><td>7</td><td>4</td></tr></table>"
                    },
                    "metadata": {}
                }
            ],
            "execution_count": 6
        },
        {
            "cell_type": "markdown",
            "source": [
                "### **Explanation:**\n",
                "\n",
                "The SQL code performs a query on a \"Sales\" database table, specifically \"Order\" to retrieve four columns: \"OrderId,\" \"OrderDate,\" \"CustomerId,\" and \"EmployeeId.\" The AS keyword provides aliases for the selected columns, while the FROM clause specifies the table to retrieve data from. The WHERE clause filters the rows based on a condition, ensuring only rows with the year \"OrderDate\" in 2015 and the month \"June\" are included in the result set."
            ],
            "metadata": {
                "azdata_cell_guid": "6a9a4fe9-e0ac-42ec-889a-22c65bc4a87e"
            },
            "attachments": {}
        },
        {
            "cell_type": "markdown",
            "source": [
                "## <u>_Exercise 2:_</u>\n",
                "\n",
                "- Return orders placed on the last day of the month\n",
                "    \n",
                "- Tables involved: Sales.Orders\n",
                "    \n",
                "\n",
                "Desired output:\n",
                "\n",
                "| orderid | orderdate | custid | empid |\n",
                "| --- | --- | --- | --- |\n",
                "| 10269 | 2014-07-31 | 89 | 5 |\n",
                "| 10317 | 2014-09-30 | 48 | 6 |\n",
                "| 10343 | 2014-10-31 | 44 | 4 |\n",
                "| 10399 | 2014-12-31 | 83 | 8 |\n",
                "| 10432 | 2015-01-31 | 75 | 3 |\n",
                "| 10460 | 2015-02-28 | 24 | 8 |\n",
                "| 10461 | 2015-02-28 | 46 | 1 |\n",
                "| 10490 | 2015-03-31 | 35 | 7 |\n",
                "| 10491 | 2015-03-31 | 28 | 8 |\n",
                "| 10522 | 2015-04-30 | 44 | 4 |\n",
                "| 10583 | 2015-06-30 | 87 | 2 |\n",
                "| 10584 | 2015-06-30 | 7 | 4 |\n",
                "| 10616 | 2015-07-31 | 32 | 1 |\n",
                "| 10617 | 2015-07-31 | 32 | 4 |\n",
                "| 10686 | 2015-09-30 | 59 | 2 |\n",
                "| 10687 | 2015-09-30 | 37 | 9 |\n",
                "| 10725 | 2015-10-31 | 21 | 4 |\n",
                "| 10806 | 2015-12-31 | 84 | 3 |\n",
                "| 10807 | 2015-12-31 | 27 | 4 |\n",
                "| 10987 | 2016-03-31 | 19 | 8 |\n",
                "| 10988 | 2016-03-31 | 65 | 3 |\n",
                "| 10989 | 2016-03-31 | 61 | 2 |\n",
                "| 11060 | 2016-04-30 | 27 | 2 |\n",
                "| 11061 | 2016-04-30 | 32 | 4 |\n",
                "| 11062 | 2016-04-30 | 66 | 4 |\n",
                "| 11063 | 2016-04-30 | 37 | 3 |\n",
                "\n",
                "<span style=\"color: var(--vscode-foreground);\">...</span>\n",
                "\n",
                "<span style=\"color: var(--vscode-foreground);\">(26 row(s) affected)</span>"
            ],
            "metadata": {
                "azdata_cell_guid": "c594279e-ed5f-4973-a8e7-d96b79f6942f"
            },
            "attachments": {}
        },
        {
            "cell_type": "code",
            "source": [
                "SELECT  OrderId AS orderid,\r\n",
                "        OrderDate AS orderdate,\r\n",
                "        CustomerId AS custid,\r\n",
                "        EmployeeId AS empid \r\n",
                "FROM Sales.[Order] WHERE OrderDate = EOMONTH(OrderDate); "
            ],
            "metadata": {
                "azdata_cell_guid": "cbd1b624-c073-4954-a618-c72701bca6ec",
                "language": "sql"
            },
            "outputs": [
                {
                    "output_type": "display_data",
                    "data": {
                        "text/html": "(26 rows affected)"
                    },
                    "metadata": {}
                },
                {
                    "output_type": "display_data",
                    "data": {
                        "text/html": "Total execution time: 00:00:00.004"
                    },
                    "metadata": {}
                },
                {
                    "output_type": "execute_result",
                    "execution_count": 7,
                    "data": {
                        "application/vnd.dataresource+json": {
                            "schema": {
                                "fields": [
                                    {
                                        "name": "orderid"
                                    },
                                    {
                                        "name": "orderdate"
                                    },
                                    {
                                        "name": "custid"
                                    },
                                    {
                                        "name": "empid"
                                    }
                                ]
                            },
                            "data": [
                                {
                                    "orderid": "10269",
                                    "orderdate": "2014-07-31",
                                    "custid": "89",
                                    "empid": "5"
                                },
                                {
                                    "orderid": "10317",
                                    "orderdate": "2014-09-30",
                                    "custid": "48",
                                    "empid": "6"
                                },
                                {
                                    "orderid": "10343",
                                    "orderdate": "2014-10-31",
                                    "custid": "44",
                                    "empid": "4"
                                },
                                {
                                    "orderid": "10399",
                                    "orderdate": "2014-12-31",
                                    "custid": "83",
                                    "empid": "8"
                                },
                                {
                                    "orderid": "10432",
                                    "orderdate": "2015-01-31",
                                    "custid": "75",
                                    "empid": "3"
                                },
                                {
                                    "orderid": "10460",
                                    "orderdate": "2015-02-28",
                                    "custid": "24",
                                    "empid": "8"
                                },
                                {
                                    "orderid": "10461",
                                    "orderdate": "2015-02-28",
                                    "custid": "46",
                                    "empid": "1"
                                },
                                {
                                    "orderid": "10490",
                                    "orderdate": "2015-03-31",
                                    "custid": "35",
                                    "empid": "7"
                                },
                                {
                                    "orderid": "10491",
                                    "orderdate": "2015-03-31",
                                    "custid": "28",
                                    "empid": "8"
                                },
                                {
                                    "orderid": "10522",
                                    "orderdate": "2015-04-30",
                                    "custid": "44",
                                    "empid": "4"
                                },
                                {
                                    "orderid": "10583",
                                    "orderdate": "2015-06-30",
                                    "custid": "87",
                                    "empid": "2"
                                },
                                {
                                    "orderid": "10584",
                                    "orderdate": "2015-06-30",
                                    "custid": "7",
                                    "empid": "4"
                                },
                                {
                                    "orderid": "10616",
                                    "orderdate": "2015-07-31",
                                    "custid": "32",
                                    "empid": "1"
                                },
                                {
                                    "orderid": "10617",
                                    "orderdate": "2015-07-31",
                                    "custid": "32",
                                    "empid": "4"
                                },
                                {
                                    "orderid": "10686",
                                    "orderdate": "2015-09-30",
                                    "custid": "59",
                                    "empid": "2"
                                },
                                {
                                    "orderid": "10687",
                                    "orderdate": "2015-09-30",
                                    "custid": "37",
                                    "empid": "9"
                                },
                                {
                                    "orderid": "10725",
                                    "orderdate": "2015-10-31",
                                    "custid": "21",
                                    "empid": "4"
                                },
                                {
                                    "orderid": "10806",
                                    "orderdate": "2015-12-31",
                                    "custid": "84",
                                    "empid": "3"
                                },
                                {
                                    "orderid": "10807",
                                    "orderdate": "2015-12-31",
                                    "custid": "27",
                                    "empid": "4"
                                },
                                {
                                    "orderid": "10987",
                                    "orderdate": "2016-03-31",
                                    "custid": "19",
                                    "empid": "8"
                                },
                                {
                                    "orderid": "10988",
                                    "orderdate": "2016-03-31",
                                    "custid": "65",
                                    "empid": "3"
                                },
                                {
                                    "orderid": "10989",
                                    "orderdate": "2016-03-31",
                                    "custid": "61",
                                    "empid": "2"
                                },
                                {
                                    "orderid": "11060",
                                    "orderdate": "2016-04-30",
                                    "custid": "27",
                                    "empid": "2"
                                },
                                {
                                    "orderid": "11061",
                                    "orderdate": "2016-04-30",
                                    "custid": "32",
                                    "empid": "4"
                                },
                                {
                                    "orderid": "11062",
                                    "orderdate": "2016-04-30",
                                    "custid": "66",
                                    "empid": "4"
                                },
                                {
                                    "orderid": "11063",
                                    "orderdate": "2016-04-30",
                                    "custid": "37",
                                    "empid": "3"
                                }
                            ]
                        },
                        "text/html": "<table><tr><th>orderid</th><th>orderdate</th><th>custid</th><th>empid</th></tr><tr><td>10269</td><td>2014-07-31</td><td>89</td><td>5</td></tr><tr><td>10317</td><td>2014-09-30</td><td>48</td><td>6</td></tr><tr><td>10343</td><td>2014-10-31</td><td>44</td><td>4</td></tr><tr><td>10399</td><td>2014-12-31</td><td>83</td><td>8</td></tr><tr><td>10432</td><td>2015-01-31</td><td>75</td><td>3</td></tr><tr><td>10460</td><td>2015-02-28</td><td>24</td><td>8</td></tr><tr><td>10461</td><td>2015-02-28</td><td>46</td><td>1</td></tr><tr><td>10490</td><td>2015-03-31</td><td>35</td><td>7</td></tr><tr><td>10491</td><td>2015-03-31</td><td>28</td><td>8</td></tr><tr><td>10522</td><td>2015-04-30</td><td>44</td><td>4</td></tr><tr><td>10583</td><td>2015-06-30</td><td>87</td><td>2</td></tr><tr><td>10584</td><td>2015-06-30</td><td>7</td><td>4</td></tr><tr><td>10616</td><td>2015-07-31</td><td>32</td><td>1</td></tr><tr><td>10617</td><td>2015-07-31</td><td>32</td><td>4</td></tr><tr><td>10686</td><td>2015-09-30</td><td>59</td><td>2</td></tr><tr><td>10687</td><td>2015-09-30</td><td>37</td><td>9</td></tr><tr><td>10725</td><td>2015-10-31</td><td>21</td><td>4</td></tr><tr><td>10806</td><td>2015-12-31</td><td>84</td><td>3</td></tr><tr><td>10807</td><td>2015-12-31</td><td>27</td><td>4</td></tr><tr><td>10987</td><td>2016-03-31</td><td>19</td><td>8</td></tr><tr><td>10988</td><td>2016-03-31</td><td>65</td><td>3</td></tr><tr><td>10989</td><td>2016-03-31</td><td>61</td><td>2</td></tr><tr><td>11060</td><td>2016-04-30</td><td>27</td><td>2</td></tr><tr><td>11061</td><td>2016-04-30</td><td>32</td><td>4</td></tr><tr><td>11062</td><td>2016-04-30</td><td>66</td><td>4</td></tr><tr><td>11063</td><td>2016-04-30</td><td>37</td><td>3</td></tr></table>"
                    },
                    "metadata": {}
                }
            ],
            "execution_count": 7
        },
        {
            "cell_type": "markdown",
            "source": [
                "### **Explanation:**\n",
                "\n",
                "\"OrderId\", \"OrderDate\", \"CustomerId\", and \"EmployeeId\" are the four columns that are chosen when the SQL code runs a query on the \"Order\" database table in the \"Sales\" schema. Whereas the \"FROM clause\" defines the table from which data should be retrieved, the AS keyword offers aliases for the chosen columns. To guarantee that only orders placed on the last day of the month are included in the result set, the WHERE clause filters the rows according to point of comparison."
            ],
            "metadata": {
                "azdata_cell_guid": "03b18c09-534d-4086-a15a-9845b77bb0f1"
            },
            "attachments": {}
        },
        {
            "cell_type": "markdown",
            "source": [
                "## <u>_Exercise 3:_</u>\n",
                "\n",
                "- Return employees with the last name containing the letter 'e' twice or more\n",
                "    \n",
                "- Tables involved: HR.Employees table\n",
                "    \n",
                "\n",
                "Desired output:\n",
                "\n",
                "| empid | firstname | lastname |\n",
                "| --- | --- | --- |\n",
                "| 4 | Yael | Peled |\n",
                "| 5 | Sven | Mortensen |\n",
                "\n",
                "(2 row(s) affected)"
            ],
            "metadata": {
                "azdata_cell_guid": "febd5b12-d302-4474-8c9c-14a9779ade31"
            },
            "attachments": {}
        },
        {
            "cell_type": "code",
            "source": [
                "SELECT EmployeeId AS empid, \r\n",
                "\tEmployeeFirstName AS firstname,\r\n",
                "\tEmployeeLastName AS lastname \r\n",
                "FROM HumanResources.Employee WHERE EmployeeLastName LIKE '%e%e%';"
            ],
            "metadata": {
                "azdata_cell_guid": "26654bd8-b7a8-458a-bb9a-8544a3afb865",
                "language": "sql"
            },
            "outputs": [
                {
                    "output_type": "display_data",
                    "data": {
                        "text/html": "(2 rows affected)"
                    },
                    "metadata": {}
                },
                {
                    "output_type": "display_data",
                    "data": {
                        "text/html": "Total execution time: 00:00:00.004"
                    },
                    "metadata": {}
                },
                {
                    "output_type": "execute_result",
                    "execution_count": 8,
                    "data": {
                        "application/vnd.dataresource+json": {
                            "schema": {
                                "fields": [
                                    {
                                        "name": "empid"
                                    },
                                    {
                                        "name": "firstname"
                                    },
                                    {
                                        "name": "lastname"
                                    }
                                ]
                            },
                            "data": [
                                {
                                    "empid": "4",
                                    "firstname": "Yael",
                                    "lastname": "Peled"
                                },
                                {
                                    "empid": "5",
                                    "firstname": "Sven",
                                    "lastname": "Mortensen"
                                }
                            ]
                        },
                        "text/html": "<table><tr><th>empid</th><th>firstname</th><th>lastname</th></tr><tr><td>4</td><td>Yael</td><td>Peled</td></tr><tr><td>5</td><td>Sven</td><td>Mortensen</td></tr></table>"
                    },
                    "metadata": {}
                }
            ],
            "execution_count": 8
        },
        {
            "cell_type": "markdown",
            "source": [
                "### **Explanation:**\n",
                "\n",
                "Three columns are selected in the SQL code query on the \"Employee\" database table within the \"HumanResources\" schema: \"EmployeeId,\" \"EmployeeFirstName,\" and \"EmployeeLastName.\" The table from which to extract data is specified in the FROM clause, and aliases for the selected columns are provided by the AS keyword. The WHERE clause filters the rows based on criteria, guaranteeing that the result set only contains rows with two 'e' letters separated by any number of characters."
            ],
            "metadata": {
                "azdata_cell_guid": "3ecf3c6f-0829-4079-a688-3edc46eadcbc"
            },
            "attachments": {}
        },
        {
            "cell_type": "markdown",
            "source": [
                "## <u>_Exercise 4:_</u>\n",
                "\n",
                "- Return orders with total value(qty \\* unitprice) greater than 10,000\n",
                "    \n",
                "- Sorted by total value\n",
                "    \n",
                "- Tables involved: Sales.OrderDetails\n",
                "    \n",
                "\n",
                "Desired output:\n",
                "\n",
                "| orderid | totalvalue |\n",
                "| --- | --- |\n",
                "| 10865 | 17250.00 |\n",
                "| 11030 | 16321.90 |\n",
                "| 10981 | 15810.00 |\n",
                "| 10372 | 12281.20 |\n",
                "| 10424 | 11493.20 |\n",
                "| 10817 | 11490.70 |\n",
                "| 10889 | 11380.00 |\n",
                "| 10417 | 11283.20 |\n",
                "| 10897 | 10835.24 |\n",
                "| 10353 | 10741.60 |\n",
                "| 10515 | 10588.50 |\n",
                "| 10479 | 10495.60 |\n",
                "| 10540 | 10191.70 |\n",
                "| 10691 | 10164.80 |\n",
                "\n",
                "(14 row(s) affected)"
            ],
            "metadata": {
                "azdata_cell_guid": "cbd18e31-8032-421a-9c8d-436c25dd689b"
            },
            "attachments": {}
        },
        {
            "cell_type": "code",
            "source": [
                "SELECT  OrderId AS orderid,\r\n",
                "\t    SUM(Quantity * UnitPrice) AS totalvalue \r\n",
                "FROM Sales.OrderDetail GROUP BY OrderId HAVING SUM(Quantity * UnitPrice) > 10000 ORDER BY totalvalue DESC;"
            ],
            "metadata": {
                "azdata_cell_guid": "d9e2f732-f984-49e8-8c6a-5d53fe373788",
                "language": "sql"
            },
            "outputs": [
                {
                    "output_type": "display_data",
                    "data": {
                        "text/html": "(14 rows affected)"
                    },
                    "metadata": {}
                },
                {
                    "output_type": "display_data",
                    "data": {
                        "text/html": "Total execution time: 00:00:00.014"
                    },
                    "metadata": {}
                },
                {
                    "output_type": "execute_result",
                    "execution_count": 4,
                    "data": {
                        "application/vnd.dataresource+json": {
                            "schema": {
                                "fields": [
                                    {
                                        "name": "orderid"
                                    },
                                    {
                                        "name": "totalvalue"
                                    }
                                ]
                            },
                            "data": [
                                {
                                    "orderid": "10865",
                                    "totalvalue": "17250.00"
                                },
                                {
                                    "orderid": "11030",
                                    "totalvalue": "16321.90"
                                },
                                {
                                    "orderid": "10981",
                                    "totalvalue": "15810.00"
                                },
                                {
                                    "orderid": "10372",
                                    "totalvalue": "12281.20"
                                },
                                {
                                    "orderid": "10424",
                                    "totalvalue": "11493.20"
                                },
                                {
                                    "orderid": "10817",
                                    "totalvalue": "11490.70"
                                },
                                {
                                    "orderid": "10889",
                                    "totalvalue": "11380.00"
                                },
                                {
                                    "orderid": "10417",
                                    "totalvalue": "11283.20"
                                },
                                {
                                    "orderid": "10897",
                                    "totalvalue": "10835.24"
                                },
                                {
                                    "orderid": "10353",
                                    "totalvalue": "10741.60"
                                },
                                {
                                    "orderid": "10515",
                                    "totalvalue": "10588.50"
                                },
                                {
                                    "orderid": "10479",
                                    "totalvalue": "10495.60"
                                },
                                {
                                    "orderid": "10540",
                                    "totalvalue": "10191.70"
                                },
                                {
                                    "orderid": "10691",
                                    "totalvalue": "10164.80"
                                }
                            ]
                        },
                        "text/html": "<table><tr><th>orderid</th><th>totalvalue</th></tr><tr><td>10865</td><td>17250.00</td></tr><tr><td>11030</td><td>16321.90</td></tr><tr><td>10981</td><td>15810.00</td></tr><tr><td>10372</td><td>12281.20</td></tr><tr><td>10424</td><td>11493.20</td></tr><tr><td>10817</td><td>11490.70</td></tr><tr><td>10889</td><td>11380.00</td></tr><tr><td>10417</td><td>11283.20</td></tr><tr><td>10897</td><td>10835.24</td></tr><tr><td>10353</td><td>10741.60</td></tr><tr><td>10515</td><td>10588.50</td></tr><tr><td>10479</td><td>10495.60</td></tr><tr><td>10540</td><td>10191.70</td></tr><tr><td>10691</td><td>10164.80</td></tr></table>"
                    },
                    "metadata": {}
                }
            ],
            "execution_count": 4
        },
        {
            "cell_type": "markdown",
            "source": [
                "### **Explanation:**\n",
                "\n",
                "The \"OrderDetail\" table in the \"Sales\" schema is the basis of the data that the SQL code queries, choosing two columns: \"OrderId\" and \"SUM(Quantity \\* UnitPrice),\" which represents the total calculated value of each order. An alias for the calculated column \"totalvalue\" is provided via the AS keyword. The \"OrderId\" column is used in the GROUP BY clause to group the rows according to a distinct order. Orders totaling more than $10,000 are included in the categories that are filtered by the HAVING clause. Descending order is applied to the result set using the ORDER BY clause."
            ],
            "metadata": {
                "azdata_cell_guid": "ea98059e-0908-47d4-8e0d-bc3de470048f"
            },
            "attachments": {}
        },
        {
            "cell_type": "markdown",
            "source": [
                "## <u>_Proposition:_</u>\n",
                "\n",
                "- Show top 10 most expensive orders with total value(qty \\* unitprice)\n",
                "    \n",
                "- Sort top 10 list by most expensive starting at the top\n",
                "    \n",
                "- Show CustomerId, OrderId, TotalValue, and Country they are from columns\n",
                "    \n",
                "- Tables involved: Sales.OrderDetail, Sales.Order\n",
                "    \n",
                "\n",
                "Desired output:\n",
                "\n",
                "| CustomerId | OrderId | TotalValue | Country |\n",
                "| --- | --- | --- | --- |\n",
                "| 63 | 10865 | 17250.00 | Germany |\n",
                "| 71 | 11030 | 16321.90 | USA |\n",
                "| 34 | 10981 | 15810.00 | Brazil |\n",
                "| 62 | 10372 | 12281.20 | Brazil |\n",
                "| 51 | 10424 | 11493.20 | Canada |\n",
                "| 39 | 10817 | 11490.70 | Germany |\n",
                "| 65 | 10889 | 11380.00 | USA |\n",
                "| 73 | 10417 | 11283.20 | Denmark |\n",
                "| 37 | 10897 | 10835.24 | Ireland |\n",
                "| 59 | 10353 | 10741.60 | Austria |\n",
                "\n",
                "(10 rows affected)"
            ],
            "metadata": {
                "azdata_cell_guid": "be9f6c08-9862-430a-935a-acfa394a7f96"
            },
            "attachments": {}
        },
        {
            "cell_type": "code",
            "source": [
                "SELECT TOP(10) \r\n",
                "    Sales.[Order].CustomerId,\r\n",
                "    Sales.[Order].OrderId,\r\n",
                "    SUM(Quantity * UnitPrice) AS TotalValue, \r\n",
                "    ShipToCountry AS Country\r\n",
                "FROM \r\n",
                "    Sales.OrderDetail \r\n",
                "JOIN \r\n",
                "    Sales.[Order] ON Sales.OrderDetail.OrderId = Sales.[Order].orderid \r\n",
                "GROUP BY \r\n",
                "    Sales.[Order].CustomerId,\r\n",
                "    Sales.[Order].orderid, \r\n",
                "    ShipToCountry \r\n",
                "HAVING \r\n",
                "    SUM(Quantity * UnitPrice) > 10000 \r\n",
                "ORDER BY \r\n",
                "    totalvalue DESC;"
            ],
            "metadata": {
                "azdata_cell_guid": "11f43def-2eb3-4b0c-8ec1-31311835676a",
                "language": "sql"
            },
            "outputs": [
                {
                    "output_type": "display_data",
                    "data": {
                        "text/html": "(10 rows affected)"
                    },
                    "metadata": {}
                },
                {
                    "output_type": "display_data",
                    "data": {
                        "text/html": "Total execution time: 00:00:00.012"
                    },
                    "metadata": {}
                },
                {
                    "output_type": "execute_result",
                    "execution_count": 5,
                    "data": {
                        "application/vnd.dataresource+json": {
                            "schema": {
                                "fields": [
                                    {
                                        "name": "CustomerId"
                                    },
                                    {
                                        "name": "OrderId"
                                    },
                                    {
                                        "name": "TotalValue"
                                    },
                                    {
                                        "name": "Country"
                                    }
                                ]
                            },
                            "data": [
                                {
                                    "CustomerId": "63",
                                    "OrderId": "10865",
                                    "TotalValue": "17250.00",
                                    "Country": "Germany"
                                },
                                {
                                    "CustomerId": "71",
                                    "OrderId": "11030",
                                    "TotalValue": "16321.90",
                                    "Country": "USA"
                                },
                                {
                                    "CustomerId": "34",
                                    "OrderId": "10981",
                                    "TotalValue": "15810.00",
                                    "Country": "Brazil"
                                },
                                {
                                    "CustomerId": "62",
                                    "OrderId": "10372",
                                    "TotalValue": "12281.20",
                                    "Country": "Brazil"
                                },
                                {
                                    "CustomerId": "51",
                                    "OrderId": "10424",
                                    "TotalValue": "11493.20",
                                    "Country": "Canada"
                                },
                                {
                                    "CustomerId": "39",
                                    "OrderId": "10817",
                                    "TotalValue": "11490.70",
                                    "Country": "Germany"
                                },
                                {
                                    "CustomerId": "65",
                                    "OrderId": "10889",
                                    "TotalValue": "11380.00",
                                    "Country": "USA"
                                },
                                {
                                    "CustomerId": "73",
                                    "OrderId": "10417",
                                    "TotalValue": "11283.20",
                                    "Country": "Denmark"
                                },
                                {
                                    "CustomerId": "37",
                                    "OrderId": "10897",
                                    "TotalValue": "10835.24",
                                    "Country": "Ireland"
                                },
                                {
                                    "CustomerId": "59",
                                    "OrderId": "10353",
                                    "TotalValue": "10741.60",
                                    "Country": "Austria"
                                }
                            ]
                        },
                        "text/html": "<table><tr><th>CustomerId</th><th>OrderId</th><th>TotalValue</th><th>Country</th></tr><tr><td>63</td><td>10865</td><td>17250.00</td><td>Germany</td></tr><tr><td>71</td><td>11030</td><td>16321.90</td><td>USA</td></tr><tr><td>34</td><td>10981</td><td>15810.00</td><td>Brazil</td></tr><tr><td>62</td><td>10372</td><td>12281.20</td><td>Brazil</td></tr><tr><td>51</td><td>10424</td><td>11493.20</td><td>Canada</td></tr><tr><td>39</td><td>10817</td><td>11490.70</td><td>Germany</td></tr><tr><td>65</td><td>10889</td><td>11380.00</td><td>USA</td></tr><tr><td>73</td><td>10417</td><td>11283.20</td><td>Denmark</td></tr><tr><td>37</td><td>10897</td><td>10835.24</td><td>Ireland</td></tr><tr><td>59</td><td>10353</td><td>10741.60</td><td>Austria</td></tr></table>"
                    },
                    "metadata": {}
                }
            ],
            "execution_count": 5
        },
        {
            "cell_type": "markdown",
            "source": [
                "### **Explanation:**\n",
                "\n",
                "The SQL query effectively collects and ranks the top ten orders based on total value, taking into account both the number and unit pricing of each order's contents. The query consists of a select statement, a FROM clause, an inner join, a GROUP BY clause, a HAVING clause, and an ORDER BY clause. The quantity of each item in the order multiplied by its unit price yields the overall value. In a business context, analyzing sales performance is crucial for businesses to identify high-value customers, optimize inventory management, and make strategic decisions. By analyzing the top 10 orders based on their total value, businesses can segment their customers, optimize marketing efforts, and manage customer relationships. This data can also help businesses evaluate sales strategies, identify bestselling products, and optimize pricing and promotions. By monitoring and analyzing high-value orders, businesses can detect potential fraudulent activities and implement fraud detection measures. Performance benchmarking can also help businesses identify strengths and areas for improvement, guiding strategic initiatives towards sustainable growth and profitability."
            ],
            "metadata": {
                "azdata_cell_guid": "808ed125-3a62-43ce-a328-8af5e485d0a5"
            },
            "attachments": {}
        }
    ]
}