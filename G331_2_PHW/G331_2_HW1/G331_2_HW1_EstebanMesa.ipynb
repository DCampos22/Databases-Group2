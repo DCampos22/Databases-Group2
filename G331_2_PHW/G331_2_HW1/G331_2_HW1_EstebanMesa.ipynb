{
    "metadata": {
        "kernelspec": {
            "name": "SQL",
            "display_name": "SQL",
            "language": "sql"
        },
        "language_info": {
            "name": "sql",
            "version": ""
        }
    },
    "nbformat_minor": 2,
    "nbformat": 4,
    "cells": [
        {
            "cell_type": "markdown",
            "source": [
                "**QUESTION 8**\n",
                "\n",
                "<span style=\"font-family: -apple-system, BlinkMacSystemFont, sans-serif; color: var(--vscode-foreground);\">Write a query against the Sales.Orders table that calculates row numbers for orders based on order date ordering (using the order ID as the tiebreaker) for each customer separately:</span>  \n",
                "\n",
                "- Tables involved: TSQLV4 database and the Sales.Orders table\n",
                "- Desired output (abbreviated):\n",
                "\n",
                "**SOLUTION**\n",
                "\n",
                "- First, the SELECT statement retrieves order details: customer ID, order date, and order ID.\n",
                "    \n",
                "- Second, ROW\\_NUMBER() assigns a sequence number to each order within each customer group, based on order date and ID.\n",
                "    \n",
                "- Third, FROM identifies the data source as the Sales.\\[Order\\] table.\n",
                "    \n",
                "- Finally, results are sorted by customer ID and the sequence number to organize orders per customer sequentially."
            ],
            "metadata": {
                "language": "sql",
                "azdata_cell_guid": "3fd7fa1d-d6c2-4f57-a135-d51c28c62a88"
            },
            "attachments": {}
        },
        {
            "cell_type": "code",
            "source": [
                "SELECT CustomerId AS custid, \n",
                "OrderDate AS orderdate, \n",
                "OrderId AS orderid, \n",
                "ROW_NUMBER() OVER(PARTITION BY CustomerId ORDER BY OrderDate, OrderId) AS rownum \n",
                "FROM Sales.[Order] ORDER BY CustomerId, rownum;"
            ],
            "metadata": {
                "language": "sql",
                "azdata_cell_guid": "a389e15a-90bc-4a17-b716-74eea5bd1c7f",
                "tags": []
            },
            "outputs": [
                {
                    "output_type": "display_data",
                    "data": {
                        "text/html": "(830 rows affected)"
                    },
                    "metadata": {}
                },
                {
                    "output_type": "display_data",
                    "data": {
                        "text/html": "Total execution time: 00:00:00.073"
                    },
                    "metadata": {}
                },
                {
                    "output_type": "execute_result",
                    "execution_count": 29,
                    "data": {
                        "application/vnd.dataresource+json": {
                            "schema": {
                                "fields": [
                                    {
                                        "name": "custid"
                                    },
                                    {
                                        "name": "orderdate"
                                    },
                                    {
                                        "name": "orderid"
                                    },
                                    {
                                        "name": "rownum"
                                    }
                                ]
                            },
                            "data": [
                                {
                                    "custid": "1",
                                    "orderdate": "2015-08-25",
                                    "orderid": "10643",
                                    "rownum": "1"
                                },
                                {
                                    "custid": "1",
                                    "orderdate": "2015-10-03",
                                    "orderid": "10692",
                                    "rownum": "2"
                                },
                                {
                                    "custid": "1",
                                    "orderdate": "2015-10-13",
                                    "orderid": "10702",
                                    "rownum": "3"
                                },
                                {
                                    "custid": "1",
                                    "orderdate": "2016-01-15",
                                    "orderid": "10835",
                                    "rownum": "4"
                                },
                                {
                                    "custid": "1",
                                    "orderdate": "2016-03-16",
                                    "orderid": "10952",
                                    "rownum": "5"
                                },
                                {
                                    "custid": "1",
                                    "orderdate": "2016-04-09",
                                    "orderid": "11011",
                                    "rownum": "6"
                                },
                                {
                                    "custid": "2",
                                    "orderdate": "2014-09-18",
                                    "orderid": "10308",
                                    "rownum": "1"
                                },
                                {
                                    "custid": "2",
                                    "orderdate": "2015-08-08",
                                    "orderid": "10625",
                                    "rownum": "2"
                                },
                                {
                                    "custid": "2",
                                    "orderdate": "2015-11-28",
                                    "orderid": "10759",
                                    "rownum": "3"
                                },
                                {
                                    "custid": "2",
                                    "orderdate": "2016-03-04",
                                    "orderid": "10926",
                                    "rownum": "4"
                                },
                                {
                                    "custid": "3",
                                    "orderdate": "2014-11-27",
                                    "orderid": "10365",
                                    "rownum": "1"
                                },
                                {
                                    "custid": "3",
                                    "orderdate": "2015-04-15",
                                    "orderid": "10507",
                                    "rownum": "2"
                                },
                                {
                                    "custid": "3",
                                    "orderdate": "2015-05-13",
                                    "orderid": "10535",
                                    "rownum": "3"
                                },
                                {
                                    "custid": "3",
                                    "orderdate": "2015-06-19",
                                    "orderid": "10573",
                                    "rownum": "4"
                                },
                                {
                                    "custid": "3",
                                    "orderdate": "2015-09-22",
                                    "orderid": "10677",
                                    "rownum": "5"
                                },
                                {
                                    "custid": "3",
                                    "orderdate": "2015-09-25",
                                    "orderid": "10682",
                                    "rownum": "6"
                                },
                                {
                                    "custid": "3",
                                    "orderdate": "2016-01-28",
                                    "orderid": "10856",
                                    "rownum": "7"
                                },
                                {
                                    "custid": "4",
                                    "orderdate": "2014-11-15",
                                    "orderid": "10355",
                                    "rownum": "1"
                                },
                                {
                                    "custid": "4",
                                    "orderdate": "2014-12-16",
                                    "orderid": "10383",
                                    "rownum": "2"
                                },
                                {
                                    "custid": "4",
                                    "orderdate": "2015-02-21",
                                    "orderid": "10453",
                                    "rownum": "3"
                                },
                                {
                                    "custid": "4",
                                    "orderdate": "2015-06-04",
                                    "orderid": "10558",
                                    "rownum": "4"
                                },
                                {
                                    "custid": "4",
                                    "orderdate": "2015-10-16",
                                    "orderid": "10707",
                                    "rownum": "5"
                                },
                                {
                                    "custid": "4",
                                    "orderdate": "2015-11-14",
                                    "orderid": "10741",
                                    "rownum": "6"
                                },
                                {
                                    "custid": "4",
                                    "orderdate": "2015-11-17",
                                    "orderid": "10743",
                                    "rownum": "7"
                                },
                                {
                                    "custid": "4",
                                    "orderdate": "2015-12-08",
                                    "orderid": "10768",
                                    "rownum": "8"
                                },
                                {
                                    "custid": "4",
                                    "orderdate": "2015-12-24",
                                    "orderid": "10793",
                                    "rownum": "9"
                                },
                                {
                                    "custid": "4",
                                    "orderdate": "2016-02-02",
                                    "orderid": "10864",
                                    "rownum": "10"
                                },
                                {
                                    "custid": "4",
                                    "orderdate": "2016-03-03",
                                    "orderid": "10920",
                                    "rownum": "11"
                                },
                                {
                                    "custid": "4",
                                    "orderdate": "2016-03-16",
                                    "orderid": "10953",
                                    "rownum": "12"
                                },
                                {
                                    "custid": "4",
                                    "orderdate": "2016-04-10",
                                    "orderid": "11016",
                                    "rownum": "13"
                                },
                                {
                                    "custid": "5",
                                    "orderdate": "2014-08-12",
                                    "orderid": "10278",
                                    "rownum": "1"
                                },
                                {
                                    "custid": "5",
                                    "orderdate": "2014-08-14",
                                    "orderid": "10280",
                                    "rownum": "2"
                                },
                                {
                                    "custid": "5",
                                    "orderdate": "2014-12-16",
                                    "orderid": "10384",
                                    "rownum": "3"
                                },
                                {
                                    "custid": "5",
                                    "orderdate": "2015-02-12",
                                    "orderid": "10444",
                                    "rownum": "4"
                                },
                                {
                                    "custid": "5",
                                    "orderdate": "2015-02-13",
                                    "orderid": "10445",
                                    "rownum": "5"
                                },
                                {
                                    "custid": "5",
                                    "orderdate": "2015-05-01",
                                    "orderid": "10524",
                                    "rownum": "6"
                                },
                                {
                                    "custid": "5",
                                    "orderdate": "2015-06-18",
                                    "orderid": "10572",
                                    "rownum": "7"
                                },
                                {
                                    "custid": "5",
                                    "orderdate": "2015-08-11",
                                    "orderid": "10626",
                                    "rownum": "8"
                                },
                                {
                                    "custid": "5",
                                    "orderdate": "2015-09-02",
                                    "orderid": "10654",
                                    "rownum": "9"
                                },
                                {
                                    "custid": "5",
                                    "orderdate": "2015-09-17",
                                    "orderid": "10672",
                                    "rownum": "10"
                                },
                                {
                                    "custid": "5",
                                    "orderdate": "2015-10-01",
                                    "orderid": "10689",
                                    "rownum": "11"
                                },
                                {
                                    "custid": "5",
                                    "orderdate": "2015-11-07",
                                    "orderid": "10733",
                                    "rownum": "12"
                                },
                                {
                                    "custid": "5",
                                    "orderdate": "2015-12-16",
                                    "orderid": "10778",
                                    "rownum": "13"
                                },
                                {
                                    "custid": "5",
                                    "orderdate": "2016-01-16",
                                    "orderid": "10837",
                                    "rownum": "14"
                                },
                                {
                                    "custid": "5",
                                    "orderdate": "2016-01-28",
                                    "orderid": "10857",
                                    "rownum": "15"
                                },
                                {
                                    "custid": "5",
                                    "orderdate": "2016-02-03",
                                    "orderid": "10866",
                                    "rownum": "16"
                                },
                                {
                                    "custid": "5",
                                    "orderdate": "2016-02-06",
                                    "orderid": "10875",
                                    "rownum": "17"
                                },
                                {
                                    "custid": "5",
                                    "orderdate": "2016-03-04",
                                    "orderid": "10924",
                                    "rownum": "18"
                                },
                                {
                                    "custid": "6",
                                    "orderdate": "2015-04-09",
                                    "orderid": "10501",
                                    "rownum": "1"
                                },
                                {
                                    "custid": "6",
                                    "orderdate": "2015-04-17",
                                    "orderid": "10509",
                                    "rownum": "2"
                                },
                                {
                                    "custid": "6",
                                    "orderdate": "2015-06-27",
                                    "orderid": "10582",
                                    "rownum": "3"
                                },
                                {
                                    "custid": "6",
                                    "orderdate": "2015-07-29",
                                    "orderid": "10614",
                                    "rownum": "4"
                                },
                                {
                                    "custid": "6",
                                    "orderdate": "2016-01-27",
                                    "orderid": "10853",
                                    "rownum": "5"
                                },
                                {
                                    "custid": "6",
                                    "orderdate": "2016-03-17",
                                    "orderid": "10956",
                                    "rownum": "6"
                                },
                                {
                                    "custid": "6",
                                    "orderdate": "2016-04-29",
                                    "orderid": "11058",
                                    "rownum": "7"
                                },
                                {
                                    "custid": "7",
                                    "orderdate": "2014-07-25",
                                    "orderid": "10265",
                                    "rownum": "1"
                                },
                                {
                                    "custid": "7",
                                    "orderdate": "2014-09-04",
                                    "orderid": "10297",
                                    "rownum": "2"
                                },
                                {
                                    "custid": "7",
                                    "orderdate": "2014-11-22",
                                    "orderid": "10360",
                                    "rownum": "3"
                                },
                                {
                                    "custid": "7",
                                    "orderdate": "2015-02-05",
                                    "orderid": "10436",
                                    "rownum": "4"
                                },
                                {
                                    "custid": "7",
                                    "orderdate": "2015-02-18",
                                    "orderid": "10449",
                                    "rownum": "5"
                                },
                                {
                                    "custid": "7",
                                    "orderdate": "2015-06-05",
                                    "orderid": "10559",
                                    "rownum": "6"
                                },
                                {
                                    "custid": "7",
                                    "orderdate": "2015-06-12",
                                    "orderid": "10566",
                                    "rownum": "7"
                                },
                                {
                                    "custid": "7",
                                    "orderdate": "2015-06-30",
                                    "orderid": "10584",
                                    "rownum": "8"
                                },
                                {
                                    "custid": "7",
                                    "orderdate": "2015-08-12",
                                    "orderid": "10628",
                                    "rownum": "9"
                                },
                                {
                                    "custid": "7",
                                    "orderdate": "2015-09-23",
                                    "orderid": "10679",
                                    "rownum": "10"
                                },
                                {
                                    "custid": "7",
                                    "orderdate": "2016-01-12",
                                    "orderid": "10826",
                                    "rownum": "11"
                                },
                                {
                                    "custid": "8",
                                    "orderdate": "2014-10-10",
                                    "orderid": "10326",
                                    "rownum": "1"
                                },
                                {
                                    "custid": "8",
                                    "orderdate": "2015-12-29",
                                    "orderid": "10801",
                                    "rownum": "2"
                                },
                                {
                                    "custid": "8",
                                    "orderdate": "2016-03-24",
                                    "orderid": "10970",
                                    "rownum": "3"
                                },
                                {
                                    "custid": "9",
                                    "orderdate": "2014-10-16",
                                    "orderid": "10331",
                                    "rownum": "1"
                                },
                                {
                                    "custid": "9",
                                    "orderdate": "2014-10-29",
                                    "orderid": "10340",
                                    "rownum": "2"
                                },
                                {
                                    "custid": "9",
                                    "orderdate": "2014-11-25",
                                    "orderid": "10362",
                                    "rownum": "3"
                                },
                                {
                                    "custid": "9",
                                    "orderdate": "2015-03-11",
                                    "orderid": "10470",
                                    "rownum": "4"
                                },
                                {
                                    "custid": "9",
                                    "orderdate": "2015-04-18",
                                    "orderid": "10511",
                                    "rownum": "5"
                                },
                                {
                                    "custid": "9",
                                    "orderdate": "2015-05-02",
                                    "orderid": "10525",
                                    "rownum": "6"
                                },
                                {
                                    "custid": "9",
                                    "orderdate": "2015-09-10",
                                    "orderid": "10663",
                                    "rownum": "7"
                                },
                                {
                                    "custid": "9",
                                    "orderdate": "2015-10-23",
                                    "orderid": "10715",
                                    "rownum": "8"
                                },
                                {
                                    "custid": "9",
                                    "orderdate": "2015-11-05",
                                    "orderid": "10730",
                                    "rownum": "9"
                                },
                                {
                                    "custid": "9",
                                    "orderdate": "2015-11-06",
                                    "orderid": "10732",
                                    "rownum": "10"
                                },
                                {
                                    "custid": "9",
                                    "orderdate": "2015-11-26",
                                    "orderid": "10755",
                                    "rownum": "11"
                                },
                                {
                                    "custid": "9",
                                    "orderdate": "2016-01-12",
                                    "orderid": "10827",
                                    "rownum": "12"
                                },
                                {
                                    "custid": "9",
                                    "orderdate": "2016-02-05",
                                    "orderid": "10871",
                                    "rownum": "13"
                                },
                                {
                                    "custid": "9",
                                    "orderdate": "2016-02-09",
                                    "orderid": "10876",
                                    "rownum": "14"
                                },
                                {
                                    "custid": "9",
                                    "orderdate": "2016-03-06",
                                    "orderid": "10932",
                                    "rownum": "15"
                                },
                                {
                                    "custid": "9",
                                    "orderdate": "2016-03-11",
                                    "orderid": "10940",
                                    "rownum": "16"
                                },
                                {
                                    "custid": "9",
                                    "orderdate": "2016-05-06",
                                    "orderid": "11076",
                                    "rownum": "17"
                                },
                                {
                                    "custid": "10",
                                    "orderdate": "2014-12-20",
                                    "orderid": "10389",
                                    "rownum": "1"
                                },
                                {
                                    "custid": "10",
                                    "orderdate": "2015-01-10",
                                    "orderid": "10410",
                                    "rownum": "2"
                                },
                                {
                                    "custid": "10",
                                    "orderdate": "2015-01-10",
                                    "orderid": "10411",
                                    "rownum": "3"
                                },
                                {
                                    "custid": "10",
                                    "orderdate": "2015-01-30",
                                    "orderid": "10431",
                                    "rownum": "4"
                                },
                                {
                                    "custid": "10",
                                    "orderdate": "2015-04-01",
                                    "orderid": "10492",
                                    "rownum": "5"
                                },
                                {
                                    "custid": "10",
                                    "orderdate": "2015-11-14",
                                    "orderid": "10742",
                                    "rownum": "6"
                                },
                                {
                                    "custid": "10",
                                    "orderdate": "2016-03-02",
                                    "orderid": "10918",
                                    "rownum": "7"
                                },
                                {
                                    "custid": "10",
                                    "orderdate": "2016-03-12",
                                    "orderid": "10944",
                                    "rownum": "8"
                                },
                                {
                                    "custid": "10",
                                    "orderdate": "2016-03-13",
                                    "orderid": "10949",
                                    "rownum": "9"
                                },
                                {
                                    "custid": "10",
                                    "orderdate": "2016-03-25",
                                    "orderid": "10975",
                                    "rownum": "10"
                                },
                                {
                                    "custid": "10",
                                    "orderdate": "2016-03-27",
                                    "orderid": "10982",
                                    "rownum": "11"
                                },
                                {
                                    "custid": "10",
                                    "orderdate": "2016-04-16",
                                    "orderid": "11027",
                                    "rownum": "12"
                                },
                                {
                                    "custid": "10",
                                    "orderdate": "2016-04-23",
                                    "orderid": "11045",
                                    "rownum": "13"
                                },
                                {
                                    "custid": "10",
                                    "orderdate": "2016-04-24",
                                    "orderid": "11048",
                                    "rownum": "14"
                                },
                                {
                                    "custid": "11",
                                    "orderdate": "2014-08-26",
                                    "orderid": "10289",
                                    "rownum": "1"
                                },
                                {
                                    "custid": "11",
                                    "orderdate": "2015-03-11",
                                    "orderid": "10471",
                                    "rownum": "2"
                                },
                                {
                                    "custid": "11",
                                    "orderdate": "2015-03-24",
                                    "orderid": "10484",
                                    "rownum": "3"
                                },
                                {
                                    "custid": "11",
                                    "orderdate": "2015-05-15",
                                    "orderid": "10538",
                                    "rownum": "4"
                                },
                                {
                                    "custid": "11",
                                    "orderdate": "2015-05-16",
                                    "orderid": "10539",
                                    "rownum": "5"
                                },
                                {
                                    "custid": "11",
                                    "orderdate": "2015-06-24",
                                    "orderid": "10578",
                                    "rownum": "6"
                                },
                                {
                                    "custid": "11",
                                    "orderdate": "2015-07-15",
                                    "orderid": "10599",
                                    "rownum": "7"
                                },
                                {
                                    "custid": "11",
                                    "orderdate": "2016-03-11",
                                    "orderid": "10943",
                                    "rownum": "8"
                                },
                                {
                                    "custid": "11",
                                    "orderdate": "2016-03-13",
                                    "orderid": "10947",
                                    "rownum": "9"
                                },
                                {
                                    "custid": "11",
                                    "orderdate": "2016-04-14",
                                    "orderid": "11023",
                                    "rownum": "10"
                                },
                                {
                                    "custid": "12",
                                    "orderdate": "2015-04-29",
                                    "orderid": "10521",
                                    "rownum": "1"
                                },
                                {
                                    "custid": "12",
                                    "orderdate": "2015-12-17",
                                    "orderid": "10782",
                                    "rownum": "2"
                                },
                                {
                                    "custid": "12",
                                    "orderdate": "2016-01-07",
                                    "orderid": "10819",
                                    "rownum": "3"
                                },
                                {
                                    "custid": "12",
                                    "orderdate": "2016-02-11",
                                    "orderid": "10881",
                                    "rownum": "4"
                                },
                                {
                                    "custid": "12",
                                    "orderdate": "2016-03-10",
                                    "orderid": "10937",
                                    "rownum": "5"
                                },
                                {
                                    "custid": "12",
                                    "orderdate": "2016-04-28",
                                    "orderid": "11054",
                                    "rownum": "6"
                                },
                                {
                                    "custid": "13",
                                    "orderdate": "2014-07-18",
                                    "orderid": "10259",
                                    "rownum": "1"
                                },
                                {
                                    "custid": "14",
                                    "orderdate": "2014-07-11",
                                    "orderid": "10254",
                                    "rownum": "1"
                                },
                                {
                                    "custid": "14",
                                    "orderdate": "2014-12-03",
                                    "orderid": "10370",
                                    "rownum": "2"
                                },
                                {
                                    "custid": "14",
                                    "orderdate": "2015-04-28",
                                    "orderid": "10519",
                                    "rownum": "3"
                                },
                                {
                                    "custid": "14",
                                    "orderdate": "2015-11-06",
                                    "orderid": "10731",
                                    "rownum": "4"
                                },
                                {
                                    "custid": "14",
                                    "orderdate": "2015-11-19",
                                    "orderid": "10746",
                                    "rownum": "5"
                                },
                                {
                                    "custid": "14",
                                    "orderdate": "2016-03-20",
                                    "orderid": "10966",
                                    "rownum": "6"
                                },
                                {
                                    "custid": "14",
                                    "orderdate": "2016-04-16",
                                    "orderid": "11029",
                                    "rownum": "7"
                                },
                                {
                                    "custid": "14",
                                    "orderdate": "2016-04-22",
                                    "orderid": "11041",
                                    "rownum": "8"
                                },
                                {
                                    "custid": "15",
                                    "orderdate": "2014-08-27",
                                    "orderid": "10290",
                                    "rownum": "1"
                                },
                                {
                                    "custid": "15",
                                    "orderdate": "2015-03-06",
                                    "orderid": "10466",
                                    "rownum": "2"
                                },
                                {
                                    "custid": "15",
                                    "orderdate": "2015-04-02",
                                    "orderid": "10494",
                                    "rownum": "3"
                                },
                                {
                                    "custid": "15",
                                    "orderdate": "2016-03-23",
                                    "orderid": "10969",
                                    "rownum": "4"
                                },
                                {
                                    "custid": "15",
                                    "orderdate": "2016-04-22",
                                    "orderid": "11042",
                                    "rownum": "5"
                                },
                                {
                                    "custid": "16",
                                    "orderdate": "2015-02-04",
                                    "orderid": "10435",
                                    "rownum": "1"
                                },
                                {
                                    "custid": "16",
                                    "orderdate": "2015-03-03",
                                    "orderid": "10462",
                                    "rownum": "2"
                                },
                                {
                                    "custid": "16",
                                    "orderdate": "2016-01-23",
                                    "orderid": "10848",
                                    "rownum": "3"
                                },
                                {
                                    "custid": "17",
                                    "orderdate": "2014-11-26",
                                    "orderid": "10363",
                                    "rownum": "1"
                                },
                                {
                                    "custid": "17",
                                    "orderdate": "2014-12-23",
                                    "orderid": "10391",
                                    "rownum": "2"
                                },
                                {
                                    "custid": "17",
                                    "orderdate": "2015-12-25",
                                    "orderid": "10797",
                                    "rownum": "3"
                                },
                                {
                                    "custid": "17",
                                    "orderdate": "2016-01-09",
                                    "orderid": "10825",
                                    "rownum": "4"
                                },
                                {
                                    "custid": "17",
                                    "orderdate": "2016-04-20",
                                    "orderid": "11036",
                                    "rownum": "5"
                                },
                                {
                                    "custid": "17",
                                    "orderdate": "2016-05-04",
                                    "orderid": "11067",
                                    "rownum": "6"
                                },
                                {
                                    "custid": "18",
                                    "orderdate": "2014-09-20",
                                    "orderid": "10311",
                                    "rownum": "1"
                                },
                                {
                                    "custid": "18",
                                    "orderdate": "2015-07-24",
                                    "orderid": "10609",
                                    "rownum": "2"
                                },
                                {
                                    "custid": "18",
                                    "orderdate": "2015-09-26",
                                    "orderid": "10683",
                                    "rownum": "3"
                                },
                                {
                                    "custid": "18",
                                    "orderdate": "2016-02-16",
                                    "orderid": "10890",
                                    "rownum": "4"
                                },
                                {
                                    "custid": "19",
                                    "orderdate": "2014-11-26",
                                    "orderid": "10364",
                                    "rownum": "1"
                                },
                                {
                                    "custid": "19",
                                    "orderdate": "2015-01-01",
                                    "orderid": "10400",
                                    "rownum": "2"
                                },
                                {
                                    "custid": "19",
                                    "orderdate": "2015-05-09",
                                    "orderid": "10532",
                                    "rownum": "3"
                                },
                                {
                                    "custid": "19",
                                    "orderdate": "2015-11-03",
                                    "orderid": "10726",
                                    "rownum": "4"
                                },
                                {
                                    "custid": "19",
                                    "orderdate": "2016-03-31",
                                    "orderid": "10987",
                                    "rownum": "5"
                                },
                                {
                                    "custid": "19",
                                    "orderdate": "2016-04-15",
                                    "orderid": "11024",
                                    "rownum": "6"
                                },
                                {
                                    "custid": "19",
                                    "orderdate": "2016-04-24",
                                    "orderid": "11047",
                                    "rownum": "7"
                                },
                                {
                                    "custid": "19",
                                    "orderdate": "2016-04-28",
                                    "orderid": "11056",
                                    "rownum": "8"
                                },
                                {
                                    "custid": "20",
                                    "orderdate": "2014-07-17",
                                    "orderid": "10258",
                                    "rownum": "1"
                                },
                                {
                                    "custid": "20",
                                    "orderdate": "2014-07-23",
                                    "orderid": "10263",
                                    "rownum": "2"
                                },
                                {
                                    "custid": "20",
                                    "orderdate": "2014-11-11",
                                    "orderid": "10351",
                                    "rownum": "3"
                                },
                                {
                                    "custid": "20",
                                    "orderdate": "2014-11-29",
                                    "orderid": "10368",
                                    "rownum": "4"
                                },
                                {
                                    "custid": "20",
                                    "orderdate": "2014-12-13",
                                    "orderid": "10382",
                                    "rownum": "5"
                                },
                                {
                                    "custid": "20",
                                    "orderdate": "2014-12-23",
                                    "orderid": "10390",
                                    "rownum": "6"
                                },
                                {
                                    "custid": "20",
                                    "orderdate": "2015-01-02",
                                    "orderid": "10402",
                                    "rownum": "7"
                                },
                                {
                                    "custid": "20",
                                    "orderdate": "2015-01-03",
                                    "orderid": "10403",
                                    "rownum": "8"
                                },
                                {
                                    "custid": "20",
                                    "orderdate": "2015-01-30",
                                    "orderid": "10430",
                                    "rownum": "9"
                                },
                                {
                                    "custid": "20",
                                    "orderdate": "2015-02-11",
                                    "orderid": "10442",
                                    "rownum": "10"
                                },
                                {
                                    "custid": "20",
                                    "orderdate": "2015-04-22",
                                    "orderid": "10514",
                                    "rownum": "11"
                                },
                                {
                                    "custid": "20",
                                    "orderdate": "2015-06-17",
                                    "orderid": "10571",
                                    "rownum": "12"
                                },
                                {
                                    "custid": "20",
                                    "orderdate": "2015-07-10",
                                    "orderid": "10595",
                                    "rownum": "13"
                                },
                                {
                                    "custid": "20",
                                    "orderdate": "2015-08-15",
                                    "orderid": "10633",
                                    "rownum": "14"
                                },
                                {
                                    "custid": "20",
                                    "orderdate": "2015-09-12",
                                    "orderid": "10667",
                                    "rownum": "15"
                                },
                                {
                                    "custid": "20",
                                    "orderdate": "2015-10-09",
                                    "orderid": "10698",
                                    "rownum": "16"
                                },
                                {
                                    "custid": "20",
                                    "orderdate": "2015-12-03",
                                    "orderid": "10764",
                                    "rownum": "17"
                                },
                                {
                                    "custid": "20",
                                    "orderdate": "2015-12-10",
                                    "orderid": "10771",
                                    "rownum": "18"
                                },
                                {
                                    "custid": "20",
                                    "orderdate": "2015-12-11",
                                    "orderid": "10773",
                                    "rownum": "19"
                                },
                                {
                                    "custid": "20",
                                    "orderdate": "2015-12-15",
                                    "orderid": "10776",
                                    "rownum": "20"
                                },
                                {
                                    "custid": "20",
                                    "orderdate": "2015-12-24",
                                    "orderid": "10795",
                                    "rownum": "21"
                                },
                                {
                                    "custid": "20",
                                    "orderdate": "2016-01-16",
                                    "orderid": "10836",
                                    "rownum": "22"
                                },
                                {
                                    "custid": "20",
                                    "orderdate": "2016-01-27",
                                    "orderid": "10854",
                                    "rownum": "23"
                                },
                                {
                                    "custid": "20",
                                    "orderdate": "2016-02-18",
                                    "orderid": "10895",
                                    "rownum": "24"
                                },
                                {
                                    "custid": "20",
                                    "orderdate": "2016-03-23",
                                    "orderid": "10968",
                                    "rownum": "25"
                                },
                                {
                                    "custid": "20",
                                    "orderdate": "2016-03-26",
                                    "orderid": "10979",
                                    "rownum": "26"
                                },
                                {
                                    "custid": "20",
                                    "orderdate": "2016-04-01",
                                    "orderid": "10990",
                                    "rownum": "27"
                                },
                                {
                                    "custid": "20",
                                    "orderdate": "2016-04-08",
                                    "orderid": "11008",
                                    "rownum": "28"
                                },
                                {
                                    "custid": "20",
                                    "orderdate": "2016-04-13",
                                    "orderid": "11017",
                                    "rownum": "29"
                                },
                                {
                                    "custid": "20",
                                    "orderdate": "2016-05-05",
                                    "orderid": "11072",
                                    "rownum": "30"
                                },
                                {
                                    "custid": "21",
                                    "orderdate": "2014-11-06",
                                    "orderid": "10347",
                                    "rownum": "1"
                                },
                                {
                                    "custid": "21",
                                    "orderdate": "2014-12-18",
                                    "orderid": "10386",
                                    "rownum": "2"
                                },
                                {
                                    "custid": "21",
                                    "orderdate": "2015-01-14",
                                    "orderid": "10414",
                                    "rownum": "3"
                                },
                                {
                                    "custid": "21",
                                    "orderdate": "2015-04-21",
                                    "orderid": "10512",
                                    "rownum": "4"
                                },
                                {
                                    "custid": "21",
                                    "orderdate": "2015-06-26",
                                    "orderid": "10581",
                                    "rownum": "5"
                                },
                                {
                                    "custid": "21",
                                    "orderdate": "2015-08-29",
                                    "orderid": "10650",
                                    "rownum": "6"
                                },
                                {
                                    "custid": "21",
                                    "orderdate": "2015-10-31",
                                    "orderid": "10725",
                                    "rownum": "7"
                                },
                                {
                                    "custid": "23",
                                    "orderdate": "2015-01-08",
                                    "orderid": "10408",
                                    "rownum": "1"
                                },
                                {
                                    "custid": "23",
                                    "orderdate": "2015-03-20",
                                    "orderid": "10480",
                                    "rownum": "2"
                                },
                                {
                                    "custid": "23",
                                    "orderdate": "2015-08-15",
                                    "orderid": "10634",
                                    "rownum": "3"
                                },
                                {
                                    "custid": "23",
                                    "orderdate": "2015-12-03",
                                    "orderid": "10763",
                                    "rownum": "4"
                                },
                                {
                                    "custid": "23",
                                    "orderdate": "2015-12-22",
                                    "orderid": "10789",
                                    "rownum": "5"
                                },
                                {
                                    "custid": "24",
                                    "orderdate": "2014-07-24",
                                    "orderid": "10264",
                                    "rownum": "1"
                                },
                                {
                                    "custid": "24",
                                    "orderdate": "2014-10-11",
                                    "orderid": "10327",
                                    "rownum": "2"
                                },
                                {
                                    "custid": "24",
                                    "orderdate": "2014-12-10",
                                    "orderid": "10378",
                                    "rownum": "3"
                                },
                                {
                                    "custid": "24",
                                    "orderdate": "2015-02-03",
                                    "orderid": "10434",
                                    "rownum": "4"
                                },
                                {
                                    "custid": "24",
                                    "orderdate": "2015-02-28",
                                    "orderid": "10460",
                                    "rownum": "5"
                                },
                                {
                                    "custid": "24",
                                    "orderdate": "2015-05-12",
                                    "orderid": "10533",
                                    "rownum": "6"
                                },
                                {
                                    "custid": "24",
                                    "orderdate": "2015-06-06",
                                    "orderid": "10561",
                                    "rownum": "7"
                                },
                                {
                                    "custid": "24",
                                    "orderdate": "2015-10-14",
                                    "orderid": "10703",
                                    "rownum": "8"
                                },
                                {
                                    "custid": "24",
                                    "orderdate": "2015-12-02",
                                    "orderid": "10762",
                                    "rownum": "9"
                                },
                                {
                                    "custid": "24",
                                    "orderdate": "2015-12-11",
                                    "orderid": "10774",
                                    "rownum": "10"
                                },
                                {
                                    "custid": "24",
                                    "orderdate": "2016-01-09",
                                    "orderid": "10824",
                                    "rownum": "11"
                                },
                                {
                                    "custid": "24",
                                    "orderdate": "2016-02-10",
                                    "orderid": "10880",
                                    "rownum": "12"
                                },
                                {
                                    "custid": "24",
                                    "orderdate": "2016-02-23",
                                    "orderid": "10902",
                                    "rownum": "13"
                                },
                                {
                                    "custid": "24",
                                    "orderdate": "2016-03-17",
                                    "orderid": "10955",
                                    "rownum": "14"
                                },
                                {
                                    "custid": "24",
                                    "orderdate": "2016-03-26",
                                    "orderid": "10977",
                                    "rownum": "15"
                                },
                                {
                                    "custid": "24",
                                    "orderdate": "2016-03-27",
                                    "orderid": "10980",
                                    "rownum": "16"
                                },
                                {
                                    "custid": "24",
                                    "orderdate": "2016-04-01",
                                    "orderid": "10993",
                                    "rownum": "17"
                                },
                                {
                                    "custid": "24",
                                    "orderdate": "2016-04-06",
                                    "orderid": "11001",
                                    "rownum": "18"
                                },
                                {
                                    "custid": "24",
                                    "orderdate": "2016-04-27",
                                    "orderid": "11050",
                                    "rownum": "19"
                                },
                                {
                                    "custid": "25",
                                    "orderdate": "2014-07-29",
                                    "orderid": "10267",
                                    "rownum": "1"
                                },
                                {
                                    "custid": "25",
                                    "orderdate": "2014-10-24",
                                    "orderid": "10337",
                                    "rownum": "2"
                                },
                                {
                                    "custid": "25",
                                    "orderdate": "2014-10-30",
                                    "orderid": "10342",
                                    "rownum": "3"
                                },
                                {
                                    "custid": "25",
                                    "orderdate": "2014-12-27",
                                    "orderid": "10396",
                                    "rownum": "4"
                                },
                                {
                                    "custid": "25",
                                    "orderdate": "2015-03-27",
                                    "orderid": "10488",
                                    "rownum": "5"
                                },
                                {
                                    "custid": "25",
                                    "orderdate": "2015-06-06",
                                    "orderid": "10560",
                                    "rownum": "6"
                                },
                                {
                                    "custid": "25",
                                    "orderdate": "2015-08-07",
                                    "orderid": "10623",
                                    "rownum": "7"
                                },
                                {
                                    "custid": "25",
                                    "orderdate": "2015-09-02",
                                    "orderid": "10653",
                                    "rownum": "8"
                                },
                                {
                                    "custid": "25",
                                    "orderdate": "2015-09-16",
                                    "orderid": "10670",
                                    "rownum": "9"
                                },
                                {
                                    "custid": "25",
                                    "orderdate": "2015-09-19",
                                    "orderid": "10675",
                                    "rownum": "10"
                                },
                                {
                                    "custid": "25",
                                    "orderdate": "2015-10-24",
                                    "orderid": "10717",
                                    "rownum": "11"
                                },
                                {
                                    "custid": "25",
                                    "orderdate": "2015-12-23",
                                    "orderid": "10791",
                                    "rownum": "12"
                                },
                                {
                                    "custid": "25",
                                    "orderdate": "2016-01-29",
                                    "orderid": "10859",
                                    "rownum": "13"
                                },
                                {
                                    "custid": "25",
                                    "orderdate": "2016-03-05",
                                    "orderid": "10929",
                                    "rownum": "14"
                                },
                                {
                                    "custid": "25",
                                    "orderdate": "2016-04-09",
                                    "orderid": "11012",
                                    "rownum": "15"
                                },
                                {
                                    "custid": "26",
                                    "orderdate": "2015-09-17",
                                    "orderid": "10671",
                                    "rownum": "1"
                                },
                                {
                                    "custid": "26",
                                    "orderdate": "2016-01-29",
                                    "orderid": "10860",
                                    "rownum": "2"
                                },
                                {
                                    "custid": "26",
                                    "orderdate": "2016-03-24",
                                    "orderid": "10971",
                                    "rownum": "3"
                                },
                                {
                                    "custid": "27",
                                    "orderdate": "2015-01-22",
                                    "orderid": "10422",
                                    "rownum": "1"
                                },
                                {
                                    "custid": "27",
                                    "orderdate": "2015-10-20",
                                    "orderid": "10710",
                                    "rownum": "2"
                                },
                                {
                                    "custid": "27",
                                    "orderdate": "2015-11-25",
                                    "orderid": "10753",
                                    "rownum": "3"
                                },
                                {
                                    "custid": "27",
                                    "orderdate": "2015-12-31",
                                    "orderid": "10807",
                                    "rownum": "4"
                                },
                                {
                                    "custid": "27",
                                    "orderdate": "2016-04-15",
                                    "orderid": "11026",
                                    "rownum": "5"
                                },
                                {
                                    "custid": "27",
                                    "orderdate": "2016-04-30",
                                    "orderid": "11060",
                                    "rownum": "6"
                                },
                                {
                                    "custid": "28",
                                    "orderdate": "2014-10-14",
                                    "orderid": "10328",
                                    "rownum": "1"
                                },
                                {
                                    "custid": "28",
                                    "orderdate": "2014-11-12",
                                    "orderid": "10352",
                                    "rownum": "2"
                                },
                                {
                                    "custid": "28",
                                    "orderdate": "2015-03-04",
                                    "orderid": "10464",
                                    "rownum": "3"
                                },
                                {
                                    "custid": "28",
                                    "orderdate": "2015-03-31",
                                    "orderid": "10491",
                                    "rownum": "4"
                                },
                                {
                                    "custid": "28",
                                    "orderdate": "2015-05-28",
                                    "orderid": "10551",
                                    "rownum": "5"
                                },
                                {
                                    "custid": "28",
                                    "orderdate": "2015-07-18",
                                    "orderid": "10604",
                                    "rownum": "6"
                                },
                                {
                                    "custid": "28",
                                    "orderdate": "2015-09-10",
                                    "orderid": "10664",
                                    "rownum": "7"
                                },
                                {
                                    "custid": "28",
                                    "orderdate": "2016-03-19",
                                    "orderid": "10963",
                                    "rownum": "8"
                                },
                                {
                                    "custid": "29",
                                    "orderdate": "2014-11-28",
                                    "orderid": "10366",
                                    "rownum": "1"
                                },
                                {
                                    "custid": "29",
                                    "orderdate": "2015-01-27",
                                    "orderid": "10426",
                                    "rownum": "2"
                                },
                                {
                                    "custid": "29",
                                    "orderdate": "2015-06-13",
                                    "orderid": "10568",
                                    "rownum": "3"
                                },
                                {
                                    "custid": "29",
                                    "orderdate": "2016-02-13",
                                    "orderid": "10887",
                                    "rownum": "4"
                                },
                                {
                                    "custid": "29",
                                    "orderdate": "2016-03-05",
                                    "orderid": "10928",
                                    "rownum": "5"
                                },
                                {
                                    "custid": "30",
                                    "orderdate": "2014-09-11",
                                    "orderid": "10303",
                                    "rownum": "1"
                                },
                                {
                                    "custid": "30",
                                    "orderdate": "2015-05-28",
                                    "orderid": "10550",
                                    "rownum": "2"
                                },
                                {
                                    "custid": "30",
                                    "orderdate": "2015-08-12",
                                    "orderid": "10629",
                                    "rownum": "3"
                                },
                                {
                                    "custid": "30",
                                    "orderdate": "2016-02-05",
                                    "orderid": "10872",
                                    "rownum": "4"
                                },
                                {
                                    "custid": "30",
                                    "orderdate": "2016-02-06",
                                    "orderid": "10874",
                                    "rownum": "5"
                                },
                                {
                                    "custid": "30",
                                    "orderdate": "2016-02-16",
                                    "orderid": "10888",
                                    "rownum": "6"
                                },
                                {
                                    "custid": "30",
                                    "orderdate": "2016-02-26",
                                    "orderid": "10911",
                                    "rownum": "7"
                                },
                                {
                                    "custid": "30",
                                    "orderdate": "2016-03-13",
                                    "orderid": "10948",
                                    "rownum": "8"
                                },
                                {
                                    "custid": "30",
                                    "orderdate": "2016-04-08",
                                    "orderid": "11009",
                                    "rownum": "9"
                                },
                                {
                                    "custid": "30",
                                    "orderdate": "2016-04-21",
                                    "orderid": "11037",
                                    "rownum": "10"
                                },
                                {
                                    "custid": "31",
                                    "orderdate": "2015-01-23",
                                    "orderid": "10423",
                                    "rownum": "1"
                                },
                                {
                                    "custid": "31",
                                    "orderdate": "2015-09-01",
                                    "orderid": "10652",
                                    "rownum": "2"
                                },
                                {
                                    "custid": "31",
                                    "orderdate": "2015-09-29",
                                    "orderid": "10685",
                                    "rownum": "3"
                                },
                                {
                                    "custid": "31",
                                    "orderdate": "2015-10-17",
                                    "orderid": "10709",
                                    "rownum": "4"
                                },
                                {
                                    "custid": "31",
                                    "orderdate": "2015-11-07",
                                    "orderid": "10734",
                                    "rownum": "5"
                                },
                                {
                                    "custid": "31",
                                    "orderdate": "2015-12-15",
                                    "orderid": "10777",
                                    "rownum": "6"
                                },
                                {
                                    "custid": "31",
                                    "orderdate": "2015-12-22",
                                    "orderid": "10790",
                                    "rownum": "7"
                                },
                                {
                                    "custid": "31",
                                    "orderdate": "2016-03-18",
                                    "orderid": "10959",
                                    "rownum": "8"
                                },
                                {
                                    "custid": "31",
                                    "orderdate": "2016-04-24",
                                    "orderid": "11049",
                                    "rownum": "9"
                                },
                                {
                                    "custid": "32",
                                    "orderdate": "2015-05-06",
                                    "orderid": "10528",
                                    "rownum": "1"
                                },
                                {
                                    "custid": "32",
                                    "orderdate": "2015-07-04",
                                    "orderid": "10589",
                                    "rownum": "2"
                                },
                                {
                                    "custid": "32",
                                    "orderdate": "2015-07-31",
                                    "orderid": "10616",
                                    "rownum": "3"
                                },
                                {
                                    "custid": "32",
                                    "orderdate": "2015-07-31",
                                    "orderid": "10617",
                                    "rownum": "4"
                                },
                                {
                                    "custid": "32",
                                    "orderdate": "2015-09-04",
                                    "orderid": "10656",
                                    "rownum": "5"
                                },
                                {
                                    "custid": "32",
                                    "orderdate": "2015-09-25",
                                    "orderid": "10681",
                                    "rownum": "6"
                                },
                                {
                                    "custid": "32",
                                    "orderdate": "2016-01-06",
                                    "orderid": "10816",
                                    "rownum": "7"
                                },
                                {
                                    "custid": "32",
                                    "orderdate": "2016-03-09",
                                    "orderid": "10936",
                                    "rownum": "8"
                                },
                                {
                                    "custid": "32",
                                    "orderdate": "2016-04-07",
                                    "orderid": "11006",
                                    "rownum": "9"
                                },
                                {
                                    "custid": "32",
                                    "orderdate": "2016-04-22",
                                    "orderid": "11040",
                                    "rownum": "10"
                                },
                                {
                                    "custid": "32",
                                    "orderdate": "2016-04-30",
                                    "orderid": "11061",
                                    "rownum": "11"
                                },
                                {
                                    "custid": "33",
                                    "orderdate": "2014-07-30",
                                    "orderid": "10268",
                                    "rownum": "1"
                                },
                                {
                                    "custid": "33",
                                    "orderdate": "2015-12-18",
                                    "orderid": "10785",
                                    "rownum": "2"
                                },
                                {
                                    "custid": "34",
                                    "orderdate": "2014-07-08",
                                    "orderid": "10250",
                                    "rownum": "1"
                                },
                                {
                                    "custid": "34",
                                    "orderdate": "2014-07-10",
                                    "orderid": "10253",
                                    "rownum": "2"
                                },
                                {
                                    "custid": "34",
                                    "orderdate": "2015-05-19",
                                    "orderid": "10541",
                                    "rownum": "3"
                                },
                                {
                                    "custid": "34",
                                    "orderdate": "2015-08-26",
                                    "orderid": "10645",
                                    "rownum": "4"
                                },
                                {
                                    "custid": "34",
                                    "orderdate": "2015-10-02",
                                    "orderid": "10690",
                                    "rownum": "5"
                                },
                                {
                                    "custid": "34",
                                    "orderdate": "2015-12-09",
                                    "orderid": "10770",
                                    "rownum": "6"
                                },
                                {
                                    "custid": "34",
                                    "orderdate": "2015-12-18",
                                    "orderid": "10783",
                                    "rownum": "7"
                                },
                                {
                                    "custid": "34",
                                    "orderdate": "2016-02-13",
                                    "orderid": "10886",
                                    "rownum": "8"
                                },
                                {
                                    "custid": "34",
                                    "orderdate": "2016-02-24",
                                    "orderid": "10903",
                                    "rownum": "9"
                                },
                                {
                                    "custid": "34",
                                    "orderdate": "2016-03-03",
                                    "orderid": "10922",
                                    "rownum": "10"
                                },
                                {
                                    "custid": "34",
                                    "orderdate": "2016-03-04",
                                    "orderid": "10925",
                                    "rownum": "11"
                                },
                                {
                                    "custid": "34",
                                    "orderdate": "2016-03-27",
                                    "orderid": "10981",
                                    "rownum": "12"
                                },
                                {
                                    "custid": "34",
                                    "orderdate": "2016-04-14",
                                    "orderid": "11022",
                                    "rownum": "13"
                                },
                                {
                                    "custid": "34",
                                    "orderdate": "2016-04-27",
                                    "orderid": "11052",
                                    "rownum": "14"
                                },
                                {
                                    "custid": "35",
                                    "orderdate": "2014-07-16",
                                    "orderid": "10257",
                                    "rownum": "1"
                                },
                                {
                                    "custid": "35",
                                    "orderdate": "2014-12-26",
                                    "orderid": "10395",
                                    "rownum": "2"
                                },
                                {
                                    "custid": "35",
                                    "orderdate": "2015-03-17",
                                    "orderid": "10476",
                                    "rownum": "3"
                                },
                                {
                                    "custid": "35",
                                    "orderdate": "2015-03-26",
                                    "orderid": "10486",
                                    "rownum": "4"
                                },
                                {
                                    "custid": "35",
                                    "orderdate": "2015-03-31",
                                    "orderid": "10490",
                                    "rownum": "5"
                                },
                                {
                                    "custid": "35",
                                    "orderdate": "2015-04-07",
                                    "orderid": "10498",
                                    "rownum": "6"
                                },
                                {
                                    "custid": "35",
                                    "orderdate": "2015-05-29",
                                    "orderid": "10552",
                                    "rownum": "7"
                                },
                                {
                                    "custid": "35",
                                    "orderdate": "2015-07-16",
                                    "orderid": "10601",
                                    "rownum": "8"
                                },
                                {
                                    "custid": "35",
                                    "orderdate": "2015-07-29",
                                    "orderid": "10613",
                                    "rownum": "9"
                                },
                                {
                                    "custid": "35",
                                    "orderdate": "2015-08-22",
                                    "orderid": "10641",
                                    "rownum": "10"
                                },
                                {
                                    "custid": "35",
                                    "orderdate": "2015-10-15",
                                    "orderid": "10705",
                                    "rownum": "11"
                                },
                                {
                                    "custid": "35",
                                    "orderdate": "2015-12-25",
                                    "orderid": "10796",
                                    "rownum": "12"
                                },
                                {
                                    "custid": "35",
                                    "orderdate": "2016-02-02",
                                    "orderid": "10863",
                                    "rownum": "13"
                                },
                                {
                                    "custid": "35",
                                    "orderdate": "2016-02-23",
                                    "orderid": "10901",
                                    "rownum": "14"
                                },
                                {
                                    "custid": "35",
                                    "orderdate": "2016-03-18",
                                    "orderid": "10957",
                                    "rownum": "15"
                                },
                                {
                                    "custid": "35",
                                    "orderdate": "2016-03-19",
                                    "orderid": "10960",
                                    "rownum": "16"
                                },
                                {
                                    "custid": "35",
                                    "orderdate": "2016-03-25",
                                    "orderid": "10976",
                                    "rownum": "17"
                                },
                                {
                                    "custid": "35",
                                    "orderdate": "2016-04-28",
                                    "orderid": "11055",
                                    "rownum": "18"
                                },
                                {
                                    "custid": "36",
                                    "orderdate": "2014-12-06",
                                    "orderid": "10375",
                                    "rownum": "1"
                                },
                                {
                                    "custid": "36",
                                    "orderdate": "2014-12-25",
                                    "orderid": "10394",
                                    "rownum": "2"
                                },
                                {
                                    "custid": "36",
                                    "orderdate": "2015-01-15",
                                    "orderid": "10415",
                                    "rownum": "3"
                                },
                                {
                                    "custid": "36",
                                    "orderdate": "2015-07-16",
                                    "orderid": "10600",
                                    "rownum": "4"
                                },
                                {
                                    "custid": "36",
                                    "orderdate": "2015-09-08",
                                    "orderid": "10660",
                                    "rownum": "5"
                                },
                                {
                                    "custid": "37",
                                    "orderdate": "2014-09-05",
                                    "orderid": "10298",
                                    "rownum": "1"
                                },
                                {
                                    "custid": "37",
                                    "orderdate": "2014-09-19",
                                    "orderid": "10309",
                                    "rownum": "2"
                                },
                                {
                                    "custid": "37",
                                    "orderdate": "2014-10-22",
                                    "orderid": "10335",
                                    "rownum": "3"
                                },
                                {
                                    "custid": "37",
                                    "orderdate": "2014-12-05",
                                    "orderid": "10373",
                                    "rownum": "4"
                                },
                                {
                                    "custid": "37",
                                    "orderdate": "2014-12-12",
                                    "orderid": "10380",
                                    "rownum": "5"
                                },
                                {
                                    "custid": "37",
                                    "orderdate": "2015-01-29",
                                    "orderid": "10429",
                                    "rownum": "6"
                                },
                                {
                                    "custid": "37",
                                    "orderdate": "2015-04-11",
                                    "orderid": "10503",
                                    "rownum": "7"
                                },
                                {
                                    "custid": "37",
                                    "orderdate": "2015-04-24",
                                    "orderid": "10516",
                                    "rownum": "8"
                                },
                                {
                                    "custid": "37",
                                    "orderdate": "2015-06-12",
                                    "orderid": "10567",
                                    "rownum": "9"
                                },
                                {
                                    "custid": "37",
                                    "orderdate": "2015-08-27",
                                    "orderid": "10646",
                                    "rownum": "10"
                                },
                                {
                                    "custid": "37",
                                    "orderdate": "2015-09-09",
                                    "orderid": "10661",
                                    "rownum": "11"
                                },
                                {
                                    "custid": "37",
                                    "orderdate": "2015-09-30",
                                    "orderid": "10687",
                                    "rownum": "12"
                                },
                                {
                                    "custid": "37",
                                    "orderdate": "2015-10-13",
                                    "orderid": "10701",
                                    "rownum": "13"
                                },
                                {
                                    "custid": "37",
                                    "orderdate": "2015-10-21",
                                    "orderid": "10712",
                                    "rownum": "14"
                                },
                                {
                                    "custid": "37",
                                    "orderdate": "2015-11-11",
                                    "orderid": "10736",
                                    "rownum": "15"
                                },
                                {
                                    "custid": "37",
                                    "orderdate": "2016-02-19",
                                    "orderid": "10897",
                                    "rownum": "16"
                                },
                                {
                                    "custid": "37",
                                    "orderdate": "2016-02-26",
                                    "orderid": "10912",
                                    "rownum": "17"
                                },
                                {
                                    "custid": "37",
                                    "orderdate": "2016-03-30",
                                    "orderid": "10985",
                                    "rownum": "18"
                                },
                                {
                                    "custid": "37",
                                    "orderdate": "2016-04-30",
                                    "orderid": "11063",
                                    "rownum": "19"
                                },
                                {
                                    "custid": "38",
                                    "orderdate": "2014-09-26",
                                    "orderid": "10315",
                                    "rownum": "1"
                                },
                                {
                                    "custid": "38",
                                    "orderdate": "2014-10-01",
                                    "orderid": "10318",
                                    "rownum": "2"
                                },
                                {
                                    "custid": "38",
                                    "orderdate": "2014-10-03",
                                    "orderid": "10321",
                                    "rownum": "3"
                                },
                                {
                                    "custid": "38",
                                    "orderdate": "2015-03-13",
                                    "orderid": "10473",
                                    "rownum": "4"
                                },
                                {
                                    "custid": "38",
                                    "orderdate": "2015-08-05",
                                    "orderid": "10621",
                                    "rownum": "5"
                                },
                                {
                                    "custid": "38",
                                    "orderdate": "2015-09-18",
                                    "orderid": "10674",
                                    "rownum": "6"
                                },
                                {
                                    "custid": "38",
                                    "orderdate": "2015-11-20",
                                    "orderid": "10749",
                                    "rownum": "7"
                                },
                                {
                                    "custid": "38",
                                    "orderdate": "2015-12-26",
                                    "orderid": "10798",
                                    "rownum": "8"
                                },
                                {
                                    "custid": "38",
                                    "orderdate": "2016-01-13",
                                    "orderid": "10829",
                                    "rownum": "9"
                                },
                                {
                                    "custid": "38",
                                    "orderdate": "2016-03-06",
                                    "orderid": "10933",
                                    "rownum": "10"
                                },
                                {
                                    "custid": "39",
                                    "orderdate": "2014-10-07",
                                    "orderid": "10323",
                                    "rownum": "1"
                                },
                                {
                                    "custid": "39",
                                    "orderdate": "2014-10-09",
                                    "orderid": "10325",
                                    "rownum": "2"
                                },
                                {
                                    "custid": "39",
                                    "orderdate": "2015-02-25",
                                    "orderid": "10456",
                                    "rownum": "3"
                                },
                                {
                                    "custid": "39",
                                    "orderdate": "2015-02-25",
                                    "orderid": "10457",
                                    "rownum": "4"
                                },
                                {
                                    "custid": "39",
                                    "orderdate": "2015-03-07",
                                    "orderid": "10468",
                                    "rownum": "5"
                                },
                                {
                                    "custid": "39",
                                    "orderdate": "2015-04-15",
                                    "orderid": "10506",
                                    "rownum": "6"
                                },
                                {
                                    "custid": "39",
                                    "orderdate": "2015-05-20",
                                    "orderid": "10542",
                                    "rownum": "7"
                                },
                                {
                                    "custid": "39",
                                    "orderdate": "2015-08-13",
                                    "orderid": "10630",
                                    "rownum": "8"
                                },
                                {
                                    "custid": "39",
                                    "orderdate": "2015-10-27",
                                    "orderid": "10718",
                                    "rownum": "9"
                                },
                                {
                                    "custid": "39",
                                    "orderdate": "2015-12-26",
                                    "orderid": "10799",
                                    "rownum": "10"
                                },
                                {
                                    "custid": "39",
                                    "orderdate": "2016-01-06",
                                    "orderid": "10817",
                                    "rownum": "11"
                                },
                                {
                                    "custid": "39",
                                    "orderdate": "2016-01-23",
                                    "orderid": "10849",
                                    "rownum": "12"
                                },
                                {
                                    "custid": "39",
                                    "orderdate": "2016-02-18",
                                    "orderid": "10893",
                                    "rownum": "13"
                                },
                                {
                                    "custid": "39",
                                    "orderdate": "2016-04-16",
                                    "orderid": "11028",
                                    "rownum": "14"
                                },
                                {
                                    "custid": "40",
                                    "orderdate": "2016-01-29",
                                    "orderid": "10858",
                                    "rownum": "1"
                                },
                                {
                                    "custid": "40",
                                    "orderdate": "2016-03-05",
                                    "orderid": "10927",
                                    "rownum": "2"
                                },
                                {
                                    "custid": "40",
                                    "orderdate": "2016-03-24",
                                    "orderid": "10972",
                                    "rownum": "3"
                                },
                                {
                                    "custid": "40",
                                    "orderdate": "2016-03-24",
                                    "orderid": "10973",
                                    "rownum": "4"
                                },
                                {
                                    "custid": "41",
                                    "orderdate": "2014-11-11",
                                    "orderid": "10350",
                                    "rownum": "1"
                                },
                                {
                                    "custid": "41",
                                    "orderdate": "2014-11-20",
                                    "orderid": "10358",
                                    "rownum": "2"
                                },
                                {
                                    "custid": "41",
                                    "orderdate": "2014-12-03",
                                    "orderid": "10371",
                                    "rownum": "3"
                                },
                                {
                                    "custid": "41",
                                    "orderdate": "2015-01-14",
                                    "orderid": "10413",
                                    "rownum": "4"
                                },
                                {
                                    "custid": "41",
                                    "orderdate": "2015-01-24",
                                    "orderid": "10425",
                                    "rownum": "5"
                                },
                                {
                                    "custid": "41",
                                    "orderdate": "2015-02-21",
                                    "orderid": "10454",
                                    "rownum": "6"
                                },
                                {
                                    "custid": "41",
                                    "orderdate": "2015-04-02",
                                    "orderid": "10493",
                                    "rownum": "7"
                                },
                                {
                                    "custid": "41",
                                    "orderdate": "2015-04-09",
                                    "orderid": "10500",
                                    "rownum": "8"
                                },
                                {
                                    "custid": "41",
                                    "orderdate": "2015-07-25",
                                    "orderid": "10610",
                                    "rownum": "9"
                                },
                                {
                                    "custid": "41",
                                    "orderdate": "2015-08-14",
                                    "orderid": "10631",
                                    "rownum": "10"
                                },
                                {
                                    "custid": "41",
                                    "orderdate": "2015-12-19",
                                    "orderid": "10787",
                                    "rownum": "11"
                                },
                                {
                                    "custid": "41",
                                    "orderdate": "2016-01-14",
                                    "orderid": "10832",
                                    "rownum": "12"
                                },
                                {
                                    "custid": "41",
                                    "orderdate": "2016-03-03",
                                    "orderid": "10923",
                                    "rownum": "13"
                                },
                                {
                                    "custid": "41",
                                    "orderdate": "2016-04-27",
                                    "orderid": "11051",
                                    "rownum": "14"
                                },
                                {
                                    "custid": "42",
                                    "orderdate": "2015-04-03",
                                    "orderid": "10495",
                                    "rownum": "1"
                                },
                                {
                                    "custid": "42",
                                    "orderdate": "2015-08-05",
                                    "orderid": "10620",
                                    "rownum": "2"
                                },
                                {
                                    "custid": "42",
                                    "orderdate": "2016-01-01",
                                    "orderid": "10810",
                                    "rownum": "3"
                                },
                                {
                                    "custid": "43",
                                    "orderdate": "2015-03-21",
                                    "orderid": "10482",
                                    "rownum": "1"
                                },
                                {
                                    "custid": "43",
                                    "orderdate": "2015-05-22",
                                    "orderid": "10545",
                                    "rownum": "2"
                                },
                                {
                                    "custid": "44",
                                    "orderdate": "2014-08-13",
                                    "orderid": "10279",
                                    "rownum": "1"
                                },
                                {
                                    "custid": "44",
                                    "orderdate": "2014-08-19",
                                    "orderid": "10284",
                                    "rownum": "2"
                                },
                                {
                                    "custid": "44",
                                    "orderdate": "2014-10-31",
                                    "orderid": "10343",
                                    "rownum": "3"
                                },
                                {
                                    "custid": "44",
                                    "orderdate": "2015-04-04",
                                    "orderid": "10497",
                                    "rownum": "4"
                                },
                                {
                                    "custid": "44",
                                    "orderdate": "2015-04-30",
                                    "orderid": "10522",
                                    "rownum": "5"
                                },
                                {
                                    "custid": "44",
                                    "orderdate": "2015-05-12",
                                    "orderid": "10534",
                                    "rownum": "6"
                                },
                                {
                                    "custid": "44",
                                    "orderdate": "2015-05-14",
                                    "orderid": "10536",
                                    "rownum": "7"
                                },
                                {
                                    "custid": "44",
                                    "orderdate": "2015-06-03",
                                    "orderid": "10557",
                                    "rownum": "8"
                                },
                                {
                                    "custid": "44",
                                    "orderdate": "2015-07-08",
                                    "orderid": "10592",
                                    "rownum": "9"
                                },
                                {
                                    "custid": "44",
                                    "orderdate": "2015-07-09",
                                    "orderid": "10593",
                                    "rownum": "10"
                                },
                                {
                                    "custid": "44",
                                    "orderdate": "2015-12-10",
                                    "orderid": "10772",
                                    "rownum": "11"
                                },
                                {
                                    "custid": "44",
                                    "orderdate": "2016-01-30",
                                    "orderid": "10862",
                                    "rownum": "12"
                                },
                                {
                                    "custid": "44",
                                    "orderdate": "2016-02-17",
                                    "orderid": "10891",
                                    "rownum": "13"
                                },
                                {
                                    "custid": "44",
                                    "orderdate": "2016-03-09",
                                    "orderid": "10934",
                                    "rownum": "14"
                                },
                                {
                                    "custid": "44",
                                    "orderdate": "2016-05-05",
                                    "orderid": "11070",
                                    "rownum": "15"
                                },
                                {
                                    "custid": "45",
                                    "orderdate": "2015-06-25",
                                    "orderid": "10579",
                                    "rownum": "1"
                                },
                                {
                                    "custid": "45",
                                    "orderdate": "2015-10-27",
                                    "orderid": "10719",
                                    "rownum": "2"
                                },
                                {
                                    "custid": "45",
                                    "orderdate": "2015-11-10",
                                    "orderid": "10735",
                                    "rownum": "3"
                                },
                                {
                                    "custid": "45",
                                    "orderdate": "2016-02-12",
                                    "orderid": "10884",
                                    "rownum": "4"
                                },
                                {
                                    "custid": "46",
                                    "orderdate": "2014-08-16",
                                    "orderid": "10283",
                                    "rownum": "1"
                                },
                                {
                                    "custid": "46",
                                    "orderdate": "2014-09-03",
                                    "orderid": "10296",
                                    "rownum": "2"
                                },
                                {
                                    "custid": "46",
                                    "orderdate": "2014-10-16",
                                    "orderid": "10330",
                                    "rownum": "3"
                                },
                                {
                                    "custid": "46",
                                    "orderdate": "2014-11-19",
                                    "orderid": "10357",
                                    "rownum": "4"
                                },
                                {
                                    "custid": "46",
                                    "orderdate": "2014-12-12",
                                    "orderid": "10381",
                                    "rownum": "5"
                                },
                                {
                                    "custid": "46",
                                    "orderdate": "2015-02-28",
                                    "orderid": "10461",
                                    "rownum": "6"
                                },
                                {
                                    "custid": "46",
                                    "orderdate": "2015-04-08",
                                    "orderid": "10499",
                                    "rownum": "7"
                                },
                                {
                                    "custid": "46",
                                    "orderdate": "2015-05-21",
                                    "orderid": "10543",
                                    "rownum": "8"
                                },
                                {
                                    "custid": "46",
                                    "orderdate": "2015-12-16",
                                    "orderid": "10780",
                                    "rownum": "9"
                                },
                                {
                                    "custid": "46",
                                    "orderdate": "2016-01-09",
                                    "orderid": "10823",
                                    "rownum": "10"
                                },
                                {
                                    "custid": "46",
                                    "orderdate": "2016-02-20",
                                    "orderid": "10899",
                                    "rownum": "11"
                                },
                                {
                                    "custid": "46",
                                    "orderdate": "2016-04-03",
                                    "orderid": "10997",
                                    "rownum": "12"
                                },
                                {
                                    "custid": "46",
                                    "orderdate": "2016-05-01",
                                    "orderid": "11065",
                                    "rownum": "13"
                                },
                                {
                                    "custid": "46",
                                    "orderdate": "2016-05-05",
                                    "orderid": "11071",
                                    "rownum": "14"
                                },
                                {
                                    "custid": "47",
                                    "orderdate": "2015-01-06",
                                    "orderid": "10405",
                                    "rownum": "1"
                                },
                                {
                                    "custid": "47",
                                    "orderdate": "2015-03-25",
                                    "orderid": "10485",
                                    "rownum": "2"
                                },
                                {
                                    "custid": "47",
                                    "orderdate": "2015-08-20",
                                    "orderid": "10638",
                                    "rownum": "3"
                                },
                                {
                                    "custid": "47",
                                    "orderdate": "2015-10-08",
                                    "orderid": "10697",
                                    "rownum": "4"
                                },
                                {
                                    "custid": "47",
                                    "orderdate": "2015-11-04",
                                    "orderid": "10729",
                                    "rownum": "5"
                                },
                                {
                                    "custid": "47",
                                    "orderdate": "2016-01-02",
                                    "orderid": "10811",
                                    "rownum": "6"
                                },
                                {
                                    "custid": "47",
                                    "orderdate": "2016-01-19",
                                    "orderid": "10838",
                                    "rownum": "7"
                                },
                                {
                                    "custid": "47",
                                    "orderdate": "2016-01-19",
                                    "orderid": "10840",
                                    "rownum": "8"
                                },
                                {
                                    "custid": "47",
                                    "orderdate": "2016-03-02",
                                    "orderid": "10919",
                                    "rownum": "9"
                                },
                                {
                                    "custid": "47",
                                    "orderdate": "2016-03-17",
                                    "orderid": "10954",
                                    "rownum": "10"
                                },
                                {
                                    "custid": "47",
                                    "orderdate": "2016-04-10",
                                    "orderid": "11014",
                                    "rownum": "11"
                                },
                                {
                                    "custid": "47",
                                    "orderdate": "2016-04-21",
                                    "orderid": "11039",
                                    "rownum": "12"
                                },
                                {
                                    "custid": "48",
                                    "orderdate": "2014-09-17",
                                    "orderid": "10307",
                                    "rownum": "1"
                                },
                                {
                                    "custid": "48",
                                    "orderdate": "2014-09-30",
                                    "orderid": "10317",
                                    "rownum": "2"
                                },
                                {
                                    "custid": "48",
                                    "orderdate": "2015-05-21",
                                    "orderid": "10544",
                                    "rownum": "3"
                                },
                                {
                                    "custid": "48",
                                    "orderdate": "2015-09-09",
                                    "orderid": "10662",
                                    "rownum": "4"
                                },
                                {
                                    "custid": "48",
                                    "orderdate": "2015-09-11",
                                    "orderid": "10665",
                                    "rownum": "5"
                                },
                                {
                                    "custid": "48",
                                    "orderdate": "2016-02-03",
                                    "orderid": "10867",
                                    "rownum": "6"
                                },
                                {
                                    "custid": "48",
                                    "orderdate": "2016-02-12",
                                    "orderid": "10883",
                                    "rownum": "7"
                                },
                                {
                                    "custid": "48",
                                    "orderdate": "2016-04-13",
                                    "orderid": "11018",
                                    "rownum": "8"
                                },
                                {
                                    "custid": "49",
                                    "orderdate": "2014-08-07",
                                    "orderid": "10275",
                                    "rownum": "1"
                                },
                                {
                                    "custid": "49",
                                    "orderdate": "2014-09-09",
                                    "orderid": "10300",
                                    "rownum": "2"
                                },
                                {
                                    "custid": "49",
                                    "orderdate": "2015-01-03",
                                    "orderid": "10404",
                                    "rownum": "3"
                                },
                                {
                                    "custid": "49",
                                    "orderdate": "2015-03-06",
                                    "orderid": "10467",
                                    "rownum": "4"
                                },
                                {
                                    "custid": "49",
                                    "orderdate": "2015-08-18",
                                    "orderid": "10635",
                                    "rownum": "5"
                                },
                                {
                                    "custid": "49",
                                    "orderdate": "2015-11-25",
                                    "orderid": "10754",
                                    "rownum": "6"
                                },
                                {
                                    "custid": "49",
                                    "orderdate": "2015-12-18",
                                    "orderid": "10784",
                                    "rownum": "7"
                                },
                                {
                                    "custid": "49",
                                    "orderdate": "2016-01-07",
                                    "orderid": "10818",
                                    "rownum": "8"
                                },
                                {
                                    "custid": "49",
                                    "orderdate": "2016-03-10",
                                    "orderid": "10939",
                                    "rownum": "9"
                                },
                                {
                                    "custid": "49",
                                    "orderdate": "2016-03-16",
                                    "orderid": "10950",
                                    "rownum": "10"
                                },
                                {
                                    "custid": "50",
                                    "orderdate": "2015-05-07",
                                    "orderid": "10529",
                                    "rownum": "1"
                                },
                                {
                                    "custid": "50",
                                    "orderdate": "2015-08-28",
                                    "orderid": "10649",
                                    "rownum": "2"
                                },
                                {
                                    "custid": "50",
                                    "orderdate": "2015-12-01",
                                    "orderid": "10760",
                                    "rownum": "3"
                                },
                                {
                                    "custid": "50",
                                    "orderdate": "2016-02-17",
                                    "orderid": "10892",
                                    "rownum": "4"
                                },
                                {
                                    "custid": "50",
                                    "orderdate": "2016-02-19",
                                    "orderid": "10896",
                                    "rownum": "5"
                                },
                                {
                                    "custid": "50",
                                    "orderdate": "2016-03-26",
                                    "orderid": "10978",
                                    "rownum": "6"
                                },
                                {
                                    "custid": "50",
                                    "orderdate": "2016-04-07",
                                    "orderid": "11004",
                                    "rownum": "7"
                                },
                                {
                                    "custid": "51",
                                    "orderdate": "2014-10-17",
                                    "orderid": "10332",
                                    "rownum": "1"
                                },
                                {
                                    "custid": "51",
                                    "orderdate": "2014-10-28",
                                    "orderid": "10339",
                                    "rownum": "2"
                                },
                                {
                                    "custid": "51",
                                    "orderdate": "2014-12-09",
                                    "orderid": "10376",
                                    "rownum": "3"
                                },
                                {
                                    "custid": "51",
                                    "orderdate": "2015-01-23",
                                    "orderid": "10424",
                                    "rownum": "4"
                                },
                                {
                                    "custid": "51",
                                    "orderdate": "2015-02-07",
                                    "orderid": "10439",
                                    "rownum": "5"
                                },
                                {
                                    "custid": "51",
                                    "orderdate": "2015-04-14",
                                    "orderid": "10505",
                                    "rownum": "6"
                                },
                                {
                                    "custid": "51",
                                    "orderdate": "2015-06-11",
                                    "orderid": "10565",
                                    "rownum": "7"
                                },
                                {
                                    "custid": "51",
                                    "orderdate": "2015-06-17",
                                    "orderid": "10570",
                                    "rownum": "8"
                                },
                                {
                                    "custid": "51",
                                    "orderdate": "2015-07-07",
                                    "orderid": "10590",
                                    "rownum": "9"
                                },
                                {
                                    "custid": "51",
                                    "orderdate": "2015-07-21",
                                    "orderid": "10605",
                                    "rownum": "10"
                                },
                                {
                                    "custid": "51",
                                    "orderdate": "2015-08-01",
                                    "orderid": "10618",
                                    "rownum": "11"
                                },
                                {
                                    "custid": "51",
                                    "orderdate": "2015-08-04",
                                    "orderid": "10619",
                                    "rownum": "12"
                                },
                                {
                                    "custid": "51",
                                    "orderdate": "2015-10-30",
                                    "orderid": "10724",
                                    "rownum": "13"
                                },
                                {
                                    "custid": "52",
                                    "orderdate": "2014-08-09",
                                    "orderid": "10277",
                                    "rownum": "1"
                                },
                                {
                                    "custid": "52",
                                    "orderdate": "2015-06-20",
                                    "orderid": "10575",
                                    "rownum": "2"
                                },
                                {
                                    "custid": "52",
                                    "orderdate": "2015-10-09",
                                    "orderid": "10699",
                                    "rownum": "3"
                                },
                                {
                                    "custid": "52",
                                    "orderdate": "2015-12-16",
                                    "orderid": "10779",
                                    "rownum": "4"
                                },
                                {
                                    "custid": "52",
                                    "orderdate": "2016-03-12",
                                    "orderid": "10945",
                                    "rownum": "5"
                                },
                                {
                                    "custid": "53",
                                    "orderdate": "2015-04-24",
                                    "orderid": "10517",
                                    "rownum": "1"
                                },
                                {
                                    "custid": "53",
                                    "orderdate": "2015-11-24",
                                    "orderid": "10752",
                                    "rownum": "2"
                                },
                                {
                                    "custid": "53",
                                    "orderdate": "2016-04-29",
                                    "orderid": "11057",
                                    "rownum": "3"
                                },
                                {
                                    "custid": "54",
                                    "orderdate": "2015-01-09",
                                    "orderid": "10409",
                                    "rownum": "1"
                                },
                                {
                                    "custid": "54",
                                    "orderdate": "2015-05-08",
                                    "orderid": "10531",
                                    "rownum": "2"
                                },
                                {
                                    "custid": "54",
                                    "orderdate": "2016-02-20",
                                    "orderid": "10898",
                                    "rownum": "3"
                                },
                                {
                                    "custid": "54",
                                    "orderdate": "2016-03-18",
                                    "orderid": "10958",
                                    "rownum": "4"
                                },
                                {
                                    "custid": "54",
                                    "orderdate": "2016-03-30",
                                    "orderid": "10986",
                                    "rownum": "5"
                                },
                                {
                                    "custid": "55",
                                    "orderdate": "2014-09-13",
                                    "orderid": "10305",
                                    "rownum": "1"
                                },
                                {
                                    "custid": "55",
                                    "orderdate": "2014-10-25",
                                    "orderid": "10338",
                                    "rownum": "2"
                                },
                                {
                                    "custid": "55",
                                    "orderdate": "2015-02-10",
                                    "orderid": "10441",
                                    "rownum": "3"
                                },
                                {
                                    "custid": "55",
                                    "orderdate": "2015-07-09",
                                    "orderid": "10594",
                                    "rownum": "4"
                                },
                                {
                                    "custid": "55",
                                    "orderdate": "2015-09-24",
                                    "orderid": "10680",
                                    "rownum": "5"
                                },
                                {
                                    "custid": "55",
                                    "orderdate": "2015-10-16",
                                    "orderid": "10706",
                                    "rownum": "6"
                                },
                                {
                                    "custid": "55",
                                    "orderdate": "2016-01-01",
                                    "orderid": "10808",
                                    "rownum": "7"
                                },
                                {
                                    "custid": "55",
                                    "orderdate": "2016-01-27",
                                    "orderid": "10855",
                                    "rownum": "8"
                                },
                                {
                                    "custid": "55",
                                    "orderdate": "2016-03-20",
                                    "orderid": "10965",
                                    "rownum": "9"
                                },
                                {
                                    "custid": "55",
                                    "orderdate": "2016-04-20",
                                    "orderid": "11034",
                                    "rownum": "10"
                                },
                                {
                                    "custid": "56",
                                    "orderdate": "2014-07-19",
                                    "orderid": "10260",
                                    "rownum": "1"
                                },
                                {
                                    "custid": "56",
                                    "orderdate": "2015-01-07",
                                    "orderid": "10407",
                                    "rownum": "2"
                                },
                                {
                                    "custid": "56",
                                    "orderdate": "2015-04-16",
                                    "orderid": "10508",
                                    "rownum": "3"
                                },
                                {
                                    "custid": "56",
                                    "orderdate": "2015-05-30",
                                    "orderid": "10554",
                                    "rownum": "4"
                                },
                                {
                                    "custid": "56",
                                    "orderdate": "2015-06-26",
                                    "orderid": "10580",
                                    "rownum": "5"
                                },
                                {
                                    "custid": "56",
                                    "orderdate": "2015-09-26",
                                    "orderid": "10684",
                                    "rownum": "6"
                                },
                                {
                                    "custid": "56",
                                    "orderdate": "2015-12-05",
                                    "orderid": "10766",
                                    "rownum": "7"
                                },
                                {
                                    "custid": "56",
                                    "orderdate": "2016-01-15",
                                    "orderid": "10833",
                                    "rownum": "8"
                                },
                                {
                                    "custid": "56",
                                    "orderdate": "2016-04-03",
                                    "orderid": "10999",
                                    "rownum": "9"
                                },
                                {
                                    "custid": "56",
                                    "orderdate": "2016-04-14",
                                    "orderid": "11020",
                                    "rownum": "10"
                                },
                                {
                                    "custid": "58",
                                    "orderdate": "2014-10-04",
                                    "orderid": "10322",
                                    "rownum": "1"
                                },
                                {
                                    "custid": "58",
                                    "orderdate": "2014-11-14",
                                    "orderid": "10354",
                                    "rownum": "2"
                                },
                                {
                                    "custid": "58",
                                    "orderdate": "2015-03-13",
                                    "orderid": "10474",
                                    "rownum": "3"
                                },
                                {
                                    "custid": "58",
                                    "orderdate": "2015-04-10",
                                    "orderid": "10502",
                                    "rownum": "4"
                                },
                                {
                                    "custid": "58",
                                    "orderdate": "2016-04-02",
                                    "orderid": "10995",
                                    "rownum": "5"
                                },
                                {
                                    "custid": "58",
                                    "orderdate": "2016-05-05",
                                    "orderid": "11073",
                                    "rownum": "6"
                                },
                                {
                                    "custid": "59",
                                    "orderdate": "2014-11-13",
                                    "orderid": "10353",
                                    "rownum": "1"
                                },
                                {
                                    "custid": "59",
                                    "orderdate": "2014-12-24",
                                    "orderid": "10392",
                                    "rownum": "2"
                                },
                                {
                                    "custid": "59",
                                    "orderdate": "2015-01-27",
                                    "orderid": "10427",
                                    "rownum": "3"
                                },
                                {
                                    "custid": "59",
                                    "orderdate": "2015-03-28",
                                    "orderid": "10489",
                                    "rownum": "4"
                                },
                                {
                                    "custid": "59",
                                    "orderdate": "2015-05-08",
                                    "orderid": "10530",
                                    "rownum": "5"
                                },
                                {
                                    "custid": "59",
                                    "orderdate": "2015-07-11",
                                    "orderid": "10597",
                                    "rownum": "6"
                                },
                                {
                                    "custid": "59",
                                    "orderdate": "2015-09-30",
                                    "orderid": "10686",
                                    "rownum": "7"
                                },
                                {
                                    "custid": "59",
                                    "orderdate": "2015-11-19",
                                    "orderid": "10747",
                                    "rownum": "8"
                                },
                                {
                                    "custid": "59",
                                    "orderdate": "2016-01-21",
                                    "orderid": "10844",
                                    "rownum": "9"
                                },
                                {
                                    "custid": "59",
                                    "orderdate": "2016-04-27",
                                    "orderid": "11053",
                                    "rownum": "10"
                                },
                                {
                                    "custid": "60",
                                    "orderdate": "2014-10-23",
                                    "orderid": "10336",
                                    "rownum": "1"
                                },
                                {
                                    "custid": "60",
                                    "orderdate": "2014-12-27",
                                    "orderid": "10397",
                                    "rownum": "2"
                                },
                                {
                                    "custid": "60",
                                    "orderdate": "2015-02-03",
                                    "orderid": "10433",
                                    "rownum": "3"
                                },
                                {
                                    "custid": "60",
                                    "orderdate": "2015-03-17",
                                    "orderid": "10477",
                                    "rownum": "4"
                                },
                                {
                                    "custid": "60",
                                    "orderdate": "2016-04-08",
                                    "orderid": "11007",
                                    "rownum": "5"
                                },
                                {
                                    "custid": "61",
                                    "orderdate": "2014-07-19",
                                    "orderid": "10261",
                                    "rownum": "1"
                                },
                                {
                                    "custid": "61",
                                    "orderdate": "2014-08-27",
                                    "orderid": "10291",
                                    "rownum": "2"
                                },
                                {
                                    "custid": "61",
                                    "orderdate": "2014-12-11",
                                    "orderid": "10379",
                                    "rownum": "3"
                                },
                                {
                                    "custid": "61",
                                    "orderdate": "2015-01-21",
                                    "orderid": "10421",
                                    "rownum": "4"
                                },
                                {
                                    "custid": "61",
                                    "orderdate": "2015-07-02",
                                    "orderid": "10587",
                                    "rownum": "5"
                                },
                                {
                                    "custid": "61",
                                    "orderdate": "2015-08-27",
                                    "orderid": "10647",
                                    "rownum": "6"
                                },
                                {
                                    "custid": "61",
                                    "orderdate": "2015-10-28",
                                    "orderid": "10720",
                                    "rownum": "7"
                                },
                                {
                                    "custid": "61",
                                    "orderdate": "2015-12-24",
                                    "orderid": "10794",
                                    "rownum": "8"
                                },
                                {
                                    "custid": "61",
                                    "orderdate": "2016-03-31",
                                    "orderid": "10989",
                                    "rownum": "9"
                                },
                                {
                                    "custid": "62",
                                    "orderdate": "2014-12-04",
                                    "orderid": "10372",
                                    "rownum": "1"
                                },
                                {
                                    "custid": "62",
                                    "orderdate": "2015-01-07",
                                    "orderid": "10406",
                                    "rownum": "2"
                                },
                                {
                                    "custid": "62",
                                    "orderdate": "2015-03-26",
                                    "orderid": "10487",
                                    "rownum": "3"
                                },
                                {
                                    "custid": "62",
                                    "orderdate": "2015-08-19",
                                    "orderid": "10637",
                                    "rownum": "4"
                                },
                                {
                                    "custid": "62",
                                    "orderdate": "2015-09-05",
                                    "orderid": "10659",
                                    "rownum": "5"
                                },
                                {
                                    "custid": "62",
                                    "orderdate": "2015-10-14",
                                    "orderid": "10704",
                                    "rownum": "6"
                                },
                                {
                                    "custid": "62",
                                    "orderdate": "2015-11-04",
                                    "orderid": "10728",
                                    "rownum": "7"
                                },
                                {
                                    "custid": "62",
                                    "orderdate": "2015-12-19",
                                    "orderid": "10786",
                                    "rownum": "8"
                                },
                                {
                                    "custid": "62",
                                    "orderdate": "2016-02-04",
                                    "orderid": "10868",
                                    "rownum": "9"
                                },
                                {
                                    "custid": "62",
                                    "orderdate": "2016-02-26",
                                    "orderid": "10913",
                                    "rownum": "10"
                                },
                                {
                                    "custid": "62",
                                    "orderdate": "2016-02-27",
                                    "orderid": "10914",
                                    "rownum": "11"
                                },
                                {
                                    "custid": "62",
                                    "orderdate": "2016-03-19",
                                    "orderid": "10961",
                                    "rownum": "12"
                                },
                                {
                                    "custid": "62",
                                    "orderdate": "2016-05-04",
                                    "orderid": "11068",
                                    "rownum": "13"
                                },
                                {
                                    "custid": "63",
                                    "orderdate": "2014-08-05",
                                    "orderid": "10273",
                                    "rownum": "1"
                                },
                                {
                                    "custid": "63",
                                    "orderdate": "2014-08-20",
                                    "orderid": "10285",
                                    "rownum": "2"
                                },
                                {
                                    "custid": "63",
                                    "orderdate": "2014-08-21",
                                    "orderid": "10286",
                                    "rownum": "3"
                                },
                                {
                                    "custid": "63",
                                    "orderdate": "2014-09-24",
                                    "orderid": "10313",
                                    "rownum": "4"
                                },
                                {
                                    "custid": "63",
                                    "orderdate": "2014-11-04",
                                    "orderid": "10345",
                                    "rownum": "5"
                                },
                                {
                                    "custid": "63",
                                    "orderdate": "2014-11-22",
                                    "orderid": "10361",
                                    "rownum": "6"
                                },
                                {
                                    "custid": "63",
                                    "orderdate": "2015-01-17",
                                    "orderid": "10418",
                                    "rownum": "7"
                                },
                                {
                                    "custid": "63",
                                    "orderdate": "2015-02-19",
                                    "orderid": "10451",
                                    "rownum": "8"
                                },
                                {
                                    "custid": "63",
                                    "orderdate": "2015-04-23",
                                    "orderid": "10515",
                                    "rownum": "9"
                                },
                                {
                                    "custid": "63",
                                    "orderdate": "2015-05-05",
                                    "orderid": "10527",
                                    "rownum": "10"
                                },
                                {
                                    "custid": "63",
                                    "orderdate": "2015-05-19",
                                    "orderid": "10540",
                                    "rownum": "11"
                                },
                                {
                                    "custid": "63",
                                    "orderdate": "2015-05-27",
                                    "orderid": "10549",
                                    "rownum": "12"
                                },
                                {
                                    "custid": "63",
                                    "orderdate": "2015-07-03",
                                    "orderid": "10588",
                                    "rownum": "13"
                                },
                                {
                                    "custid": "63",
                                    "orderdate": "2015-09-05",
                                    "orderid": "10658",
                                    "rownum": "14"
                                },
                                {
                                    "custid": "63",
                                    "orderdate": "2015-10-03",
                                    "orderid": "10691",
                                    "rownum": "15"
                                },
                                {
                                    "custid": "63",
                                    "orderdate": "2015-10-06",
                                    "orderid": "10694",
                                    "rownum": "16"
                                },
                                {
                                    "custid": "63",
                                    "orderdate": "2015-10-29",
                                    "orderid": "10721",
                                    "rownum": "17"
                                },
                                {
                                    "custid": "63",
                                    "orderdate": "2015-11-18",
                                    "orderid": "10745",
                                    "rownum": "18"
                                },
                                {
                                    "custid": "63",
                                    "orderdate": "2015-12-04",
                                    "orderid": "10765",
                                    "rownum": "19"
                                },
                                {
                                    "custid": "63",
                                    "orderdate": "2015-12-22",
                                    "orderid": "10788",
                                    "rownum": "20"
                                },
                                {
                                    "custid": "63",
                                    "orderdate": "2016-01-21",
                                    "orderid": "10845",
                                    "rownum": "21"
                                },
                                {
                                    "custid": "63",
                                    "orderdate": "2016-02-02",
                                    "orderid": "10865",
                                    "rownum": "22"
                                },
                                {
                                    "custid": "63",
                                    "orderdate": "2016-02-10",
                                    "orderid": "10878",
                                    "rownum": "23"
                                },
                                {
                                    "custid": "63",
                                    "orderdate": "2016-03-10",
                                    "orderid": "10938",
                                    "rownum": "24"
                                },
                                {
                                    "custid": "63",
                                    "orderdate": "2016-03-19",
                                    "orderid": "10962",
                                    "rownum": "25"
                                },
                                {
                                    "custid": "63",
                                    "orderdate": "2016-04-01",
                                    "orderid": "10991",
                                    "rownum": "26"
                                },
                                {
                                    "custid": "63",
                                    "orderdate": "2016-04-02",
                                    "orderid": "10996",
                                    "rownum": "27"
                                },
                                {
                                    "custid": "63",
                                    "orderdate": "2016-04-14",
                                    "orderid": "11021",
                                    "rownum": "28"
                                },
                                {
                                    "custid": "64",
                                    "orderdate": "2015-02-17",
                                    "orderid": "10448",
                                    "rownum": "1"
                                },
                                {
                                    "custid": "64",
                                    "orderdate": "2015-10-24",
                                    "orderid": "10716",
                                    "rownum": "2"
                                },
                                {
                                    "custid": "64",
                                    "orderdate": "2016-01-13",
                                    "orderid": "10828",
                                    "rownum": "3"
                                },
                                {
                                    "custid": "64",
                                    "orderdate": "2016-02-27",
                                    "orderid": "10916",
                                    "rownum": "4"
                                },
                                {
                                    "custid": "64",
                                    "orderdate": "2016-04-13",
                                    "orderid": "11019",
                                    "rownum": "5"
                                },
                                {
                                    "custid": "65",
                                    "orderdate": "2014-07-22",
                                    "orderid": "10262",
                                    "rownum": "1"
                                },
                                {
                                    "custid": "65",
                                    "orderdate": "2014-08-02",
                                    "orderid": "10272",
                                    "rownum": "2"
                                },
                                {
                                    "custid": "65",
                                    "orderdate": "2014-08-30",
                                    "orderid": "10294",
                                    "rownum": "3"
                                },
                                {
                                    "custid": "65",
                                    "orderdate": "2014-09-25",
                                    "orderid": "10314",
                                    "rownum": "4"
                                },
                                {
                                    "custid": "65",
                                    "orderdate": "2014-09-27",
                                    "orderid": "10316",
                                    "rownum": "5"
                                },
                                {
                                    "custid": "65",
                                    "orderdate": "2014-11-05",
                                    "orderid": "10346",
                                    "rownum": "6"
                                },
                                {
                                    "custid": "65",
                                    "orderdate": "2015-01-01",
                                    "orderid": "10401",
                                    "rownum": "7"
                                },
                                {
                                    "custid": "65",
                                    "orderdate": "2015-03-19",
                                    "orderid": "10479",
                                    "rownum": "8"
                                },
                                {
                                    "custid": "65",
                                    "orderdate": "2015-06-10",
                                    "orderid": "10564",
                                    "rownum": "9"
                                },
                                {
                                    "custid": "65",
                                    "orderdate": "2015-06-16",
                                    "orderid": "10569",
                                    "rownum": "10"
                                },
                                {
                                    "custid": "65",
                                    "orderdate": "2015-07-14",
                                    "orderid": "10598",
                                    "rownum": "11"
                                },
                                {
                                    "custid": "65",
                                    "orderdate": "2015-12-02",
                                    "orderid": "10761",
                                    "rownum": "12"
                                },
                                {
                                    "custid": "65",
                                    "orderdate": "2016-01-07",
                                    "orderid": "10820",
                                    "rownum": "13"
                                },
                                {
                                    "custid": "65",
                                    "orderdate": "2016-01-26",
                                    "orderid": "10852",
                                    "rownum": "14"
                                },
                                {
                                    "custid": "65",
                                    "orderdate": "2016-02-16",
                                    "orderid": "10889",
                                    "rownum": "15"
                                },
                                {
                                    "custid": "65",
                                    "orderdate": "2016-03-31",
                                    "orderid": "10988",
                                    "rownum": "16"
                                },
                                {
                                    "custid": "65",
                                    "orderdate": "2016-04-06",
                                    "orderid": "11000",
                                    "rownum": "17"
                                },
                                {
                                    "custid": "65",
                                    "orderdate": "2016-05-06",
                                    "orderid": "11077",
                                    "rownum": "18"
                                },
                                {
                                    "custid": "66",
                                    "orderdate": "2014-08-23",
                                    "orderid": "10288",
                                    "rownum": "1"
                                },
                                {
                                    "custid": "66",
                                    "orderdate": "2015-01-28",
                                    "orderid": "10428",
                                    "rownum": "2"
                                },
                                {
                                    "custid": "66",
                                    "orderdate": "2015-02-12",
                                    "orderid": "10443",
                                    "rownum": "3"
                                },
                                {
                                    "custid": "66",
                                    "orderdate": "2015-06-09",
                                    "orderid": "10562",
                                    "rownum": "4"
                                },
                                {
                                    "custid": "66",
                                    "orderdate": "2015-07-02",
                                    "orderid": "10586",
                                    "rownum": "5"
                                },
                                {
                                    "custid": "66",
                                    "orderdate": "2015-09-03",
                                    "orderid": "10655",
                                    "rownum": "6"
                                },
                                {
                                    "custid": "66",
                                    "orderdate": "2015-11-03",
                                    "orderid": "10727",
                                    "rownum": "7"
                                },
                                {
                                    "custid": "66",
                                    "orderdate": "2016-01-02",
                                    "orderid": "10812",
                                    "rownum": "8"
                                },
                                {
                                    "custid": "66",
                                    "orderdate": "2016-02-26",
                                    "orderid": "10908",
                                    "rownum": "9"
                                },
                                {
                                    "custid": "66",
                                    "orderdate": "2016-03-11",
                                    "orderid": "10942",
                                    "rownum": "10"
                                },
                                {
                                    "custid": "66",
                                    "orderdate": "2016-04-09",
                                    "orderid": "11010",
                                    "rownum": "11"
                                },
                                {
                                    "custid": "66",
                                    "orderdate": "2016-04-30",
                                    "orderid": "11062",
                                    "rownum": "12"
                                },
                                {
                                    "custid": "67",
                                    "orderdate": "2014-08-22",
                                    "orderid": "10287",
                                    "rownum": "1"
                                },
                                {
                                    "custid": "67",
                                    "orderdate": "2014-09-06",
                                    "orderid": "10299",
                                    "rownum": "2"
                                },
                                {
                                    "custid": "67",
                                    "orderdate": "2015-02-14",
                                    "orderid": "10447",
                                    "rownum": "3"
                                },
                                {
                                    "custid": "67",
                                    "orderdate": "2015-03-20",
                                    "orderid": "10481",
                                    "rownum": "4"
                                },
                                {
                                    "custid": "67",
                                    "orderdate": "2015-06-10",
                                    "orderid": "10563",
                                    "rownum": "5"
                                },
                                {
                                    "custid": "67",
                                    "orderdate": "2015-08-06",
                                    "orderid": "10622",
                                    "rownum": "6"
                                },
                                {
                                    "custid": "67",
                                    "orderdate": "2015-08-28",
                                    "orderid": "10648",
                                    "rownum": "7"
                                },
                                {
                                    "custid": "67",
                                    "orderdate": "2016-01-05",
                                    "orderid": "10813",
                                    "rownum": "8"
                                },
                                {
                                    "custid": "67",
                                    "orderdate": "2016-01-26",
                                    "orderid": "10851",
                                    "rownum": "9"
                                },
                                {
                                    "custid": "67",
                                    "orderdate": "2016-02-09",
                                    "orderid": "10877",
                                    "rownum": "10"
                                },
                                {
                                    "custid": "67",
                                    "orderdate": "2016-04-29",
                                    "orderid": "11059",
                                    "rownum": "11"
                                },
                                {
                                    "custid": "68",
                                    "orderdate": "2014-07-12",
                                    "orderid": "10255",
                                    "rownum": "1"
                                },
                                {
                                    "custid": "68",
                                    "orderdate": "2015-01-20",
                                    "orderid": "10419",
                                    "rownum": "2"
                                },
                                {
                                    "custid": "68",
                                    "orderdate": "2015-05-14",
                                    "orderid": "10537",
                                    "rownum": "3"
                                },
                                {
                                    "custid": "68",
                                    "orderdate": "2015-09-12",
                                    "orderid": "10666",
                                    "rownum": "4"
                                },
                                {
                                    "custid": "68",
                                    "orderdate": "2015-11-24",
                                    "orderid": "10751",
                                    "rownum": "5"
                                },
                                {
                                    "custid": "68",
                                    "orderdate": "2015-11-28",
                                    "orderid": "10758",
                                    "rownum": "6"
                                },
                                {
                                    "custid": "68",
                                    "orderdate": "2016-03-06",
                                    "orderid": "10931",
                                    "rownum": "7"
                                },
                                {
                                    "custid": "68",
                                    "orderdate": "2016-03-16",
                                    "orderid": "10951",
                                    "rownum": "8"
                                },
                                {
                                    "custid": "68",
                                    "orderdate": "2016-04-17",
                                    "orderid": "11033",
                                    "rownum": "9"
                                },
                                {
                                    "custid": "68",
                                    "orderdate": "2016-05-06",
                                    "orderid": "11075",
                                    "rownum": "10"
                                },
                                {
                                    "custid": "69",
                                    "orderdate": "2014-08-14",
                                    "orderid": "10281",
                                    "rownum": "1"
                                },
                                {
                                    "custid": "69",
                                    "orderdate": "2014-08-15",
                                    "orderid": "10282",
                                    "rownum": "2"
                                },
                                {
                                    "custid": "69",
                                    "orderdate": "2014-09-16",
                                    "orderid": "10306",
                                    "rownum": "3"
                                },
                                {
                                    "custid": "69",
                                    "orderdate": "2016-03-02",
                                    "orderid": "10917",
                                    "rownum": "4"
                                },
                                {
                                    "custid": "69",
                                    "orderdate": "2016-04-09",
                                    "orderid": "11013",
                                    "rownum": "5"
                                },
                                {
                                    "custid": "70",
                                    "orderdate": "2014-12-18",
                                    "orderid": "10387",
                                    "rownum": "1"
                                },
                                {
                                    "custid": "70",
                                    "orderdate": "2015-04-29",
                                    "orderid": "10520",
                                    "rownum": "2"
                                },
                                {
                                    "custid": "70",
                                    "orderdate": "2015-08-20",
                                    "orderid": "10639",
                                    "rownum": "3"
                                },
                                {
                                    "custid": "70",
                                    "orderdate": "2016-01-14",
                                    "orderid": "10831",
                                    "rownum": "4"
                                },
                                {
                                    "custid": "70",
                                    "orderdate": "2016-02-26",
                                    "orderid": "10909",
                                    "rownum": "5"
                                },
                                {
                                    "custid": "70",
                                    "orderdate": "2016-04-10",
                                    "orderid": "11015",
                                    "rownum": "6"
                                },
                                {
                                    "custid": "71",
                                    "orderdate": "2014-10-08",
                                    "orderid": "10324",
                                    "rownum": "1"
                                },
                                {
                                    "custid": "71",
                                    "orderdate": "2014-12-25",
                                    "orderid": "10393",
                                    "rownum": "2"
                                },
                                {
                                    "custid": "71",
                                    "orderdate": "2014-12-30",
                                    "orderid": "10398",
                                    "rownum": "3"
                                },
                                {
                                    "custid": "71",
                                    "orderdate": "2015-02-10",
                                    "orderid": "10440",
                                    "rownum": "4"
                                },
                                {
                                    "custid": "71",
                                    "orderdate": "2015-02-20",
                                    "orderid": "10452",
                                    "rownum": "5"
                                },
                                {
                                    "custid": "71",
                                    "orderdate": "2015-04-18",
                                    "orderid": "10510",
                                    "rownum": "6"
                                },
                                {
                                    "custid": "71",
                                    "orderdate": "2015-06-02",
                                    "orderid": "10555",
                                    "rownum": "7"
                                },
                                {
                                    "custid": "71",
                                    "orderdate": "2015-07-18",
                                    "orderid": "10603",
                                    "rownum": "8"
                                },
                                {
                                    "custid": "71",
                                    "orderdate": "2015-07-22",
                                    "orderid": "10607",
                                    "rownum": "9"
                                },
                                {
                                    "custid": "71",
                                    "orderdate": "2015-07-28",
                                    "orderid": "10612",
                                    "rownum": "10"
                                },
                                {
                                    "custid": "71",
                                    "orderdate": "2015-08-11",
                                    "orderid": "10627",
                                    "rownum": "11"
                                },
                                {
                                    "custid": "71",
                                    "orderdate": "2015-09-04",
                                    "orderid": "10657",
                                    "rownum": "12"
                                },
                                {
                                    "custid": "71",
                                    "orderdate": "2015-09-23",
                                    "orderid": "10678",
                                    "rownum": "13"
                                },
                                {
                                    "custid": "71",
                                    "orderdate": "2015-10-10",
                                    "orderid": "10700",
                                    "rownum": "14"
                                },
                                {
                                    "custid": "71",
                                    "orderdate": "2015-10-21",
                                    "orderid": "10711",
                                    "rownum": "15"
                                },
                                {
                                    "custid": "71",
                                    "orderdate": "2015-10-22",
                                    "orderid": "10713",
                                    "rownum": "16"
                                },
                                {
                                    "custid": "71",
                                    "orderdate": "2015-10-22",
                                    "orderid": "10714",
                                    "rownum": "17"
                                },
                                {
                                    "custid": "71",
                                    "orderdate": "2015-10-29",
                                    "orderid": "10722",
                                    "rownum": "18"
                                },
                                {
                                    "custid": "71",
                                    "orderdate": "2015-11-20",
                                    "orderid": "10748",
                                    "rownum": "19"
                                },
                                {
                                    "custid": "71",
                                    "orderdate": "2015-11-27",
                                    "orderid": "10757",
                                    "rownum": "20"
                                },
                                {
                                    "custid": "71",
                                    "orderdate": "2016-01-05",
                                    "orderid": "10815",
                                    "rownum": "21"
                                },
                                {
                                    "custid": "71",
                                    "orderdate": "2016-01-22",
                                    "orderid": "10847",
                                    "rownum": "22"
                                },
                                {
                                    "custid": "71",
                                    "orderdate": "2016-02-11",
                                    "orderid": "10882",
                                    "rownum": "23"
                                },
                                {
                                    "custid": "71",
                                    "orderdate": "2016-02-18",
                                    "orderid": "10894",
                                    "rownum": "24"
                                },
                                {
                                    "custid": "71",
                                    "orderdate": "2016-03-11",
                                    "orderid": "10941",
                                    "rownum": "25"
                                },
                                {
                                    "custid": "71",
                                    "orderdate": "2016-03-27",
                                    "orderid": "10983",
                                    "rownum": "26"
                                },
                                {
                                    "custid": "71",
                                    "orderdate": "2016-03-30",
                                    "orderid": "10984",
                                    "rownum": "27"
                                },
                                {
                                    "custid": "71",
                                    "orderdate": "2016-04-06",
                                    "orderid": "11002",
                                    "rownum": "28"
                                },
                                {
                                    "custid": "71",
                                    "orderdate": "2016-04-17",
                                    "orderid": "11030",
                                    "rownum": "29"
                                },
                                {
                                    "custid": "71",
                                    "orderdate": "2016-04-17",
                                    "orderid": "11031",
                                    "rownum": "30"
                                },
                                {
                                    "custid": "71",
                                    "orderdate": "2016-05-01",
                                    "orderid": "11064",
                                    "rownum": "31"
                                },
                                {
                                    "custid": "72",
                                    "orderdate": "2014-11-21",
                                    "orderid": "10359",
                                    "rownum": "1"
                                },
                                {
                                    "custid": "72",
                                    "orderdate": "2014-12-09",
                                    "orderid": "10377",
                                    "rownum": "2"
                                },
                                {
                                    "custid": "72",
                                    "orderdate": "2014-12-19",
                                    "orderid": "10388",
                                    "rownum": "3"
                                },
                                {
                                    "custid": "72",
                                    "orderdate": "2015-03-12",
                                    "orderid": "10472",
                                    "rownum": "4"
                                },
                                {
                                    "custid": "72",
                                    "orderdate": "2015-05-01",
                                    "orderid": "10523",
                                    "rownum": "5"
                                },
                                {
                                    "custid": "72",
                                    "orderdate": "2015-05-23",
                                    "orderid": "10547",
                                    "rownum": "6"
                                },
                                {
                                    "custid": "72",
                                    "orderdate": "2015-12-26",
                                    "orderid": "10800",
                                    "rownum": "7"
                                },
                                {
                                    "custid": "72",
                                    "orderdate": "2015-12-30",
                                    "orderid": "10804",
                                    "rownum": "8"
                                },
                                {
                                    "custid": "72",
                                    "orderdate": "2016-02-04",
                                    "orderid": "10869",
                                    "rownum": "9"
                                },
                                {
                                    "custid": "73",
                                    "orderdate": "2014-10-29",
                                    "orderid": "10341",
                                    "rownum": "1"
                                },
                                {
                                    "custid": "73",
                                    "orderdate": "2015-01-16",
                                    "orderid": "10417",
                                    "rownum": "2"
                                },
                                {
                                    "custid": "73",
                                    "orderdate": "2015-06-03",
                                    "orderid": "10556",
                                    "rownum": "3"
                                },
                                {
                                    "custid": "73",
                                    "orderdate": "2015-08-22",
                                    "orderid": "10642",
                                    "rownum": "4"
                                },
                                {
                                    "custid": "73",
                                    "orderdate": "2015-09-15",
                                    "orderid": "10669",
                                    "rownum": "5"
                                },
                                {
                                    "custid": "73",
                                    "orderdate": "2015-12-29",
                                    "orderid": "10802",
                                    "rownum": "6"
                                },
                                {
                                    "custid": "73",
                                    "orderdate": "2016-05-06",
                                    "orderid": "11074",
                                    "rownum": "7"
                                },
                                {
                                    "custid": "74",
                                    "orderdate": "2015-11-12",
                                    "orderid": "10738",
                                    "rownum": "1"
                                },
                                {
                                    "custid": "74",
                                    "orderdate": "2016-02-25",
                                    "orderid": "10907",
                                    "rownum": "2"
                                },
                                {
                                    "custid": "74",
                                    "orderdate": "2016-03-20",
                                    "orderid": "10964",
                                    "rownum": "3"
                                },
                                {
                                    "custid": "74",
                                    "orderdate": "2016-04-22",
                                    "orderid": "11043",
                                    "rownum": "4"
                                },
                                {
                                    "custid": "75",
                                    "orderdate": "2014-08-01",
                                    "orderid": "10271",
                                    "rownum": "1"
                                },
                                {
                                    "custid": "75",
                                    "orderdate": "2014-10-15",
                                    "orderid": "10329",
                                    "rownum": "2"
                                },
                                {
                                    "custid": "75",
                                    "orderdate": "2014-11-08",
                                    "orderid": "10349",
                                    "rownum": "3"
                                },
                                {
                                    "custid": "75",
                                    "orderdate": "2014-12-02",
                                    "orderid": "10369",
                                    "rownum": "4"
                                },
                                {
                                    "custid": "75",
                                    "orderdate": "2014-12-17",
                                    "orderid": "10385",
                                    "rownum": "5"
                                },
                                {
                                    "custid": "75",
                                    "orderdate": "2015-01-31",
                                    "orderid": "10432",
                                    "rownum": "6"
                                },
                                {
                                    "custid": "75",
                                    "orderdate": "2015-11-27",
                                    "orderid": "10756",
                                    "rownum": "7"
                                },
                                {
                                    "custid": "75",
                                    "orderdate": "2016-01-08",
                                    "orderid": "10821",
                                    "rownum": "8"
                                },
                                {
                                    "custid": "75",
                                    "orderdate": "2016-03-25",
                                    "orderid": "10974",
                                    "rownum": "9"
                                },
                                {
                                    "custid": "76",
                                    "orderdate": "2014-07-09",
                                    "orderid": "10252",
                                    "rownum": "1"
                                },
                                {
                                    "custid": "76",
                                    "orderdate": "2014-09-10",
                                    "orderid": "10302",
                                    "rownum": "2"
                                },
                                {
                                    "custid": "76",
                                    "orderdate": "2015-02-26",
                                    "orderid": "10458",
                                    "rownum": "3"
                                },
                                {
                                    "custid": "76",
                                    "orderdate": "2015-03-04",
                                    "orderid": "10463",
                                    "rownum": "4"
                                },
                                {
                                    "custid": "76",
                                    "orderdate": "2015-03-14",
                                    "orderid": "10475",
                                    "rownum": "5"
                                },
                                {
                                    "custid": "76",
                                    "orderdate": "2015-12-05",
                                    "orderid": "10767",
                                    "rownum": "6"
                                },
                                {
                                    "custid": "76",
                                    "orderdate": "2016-01-20",
                                    "orderid": "10841",
                                    "rownum": "7"
                                },
                                {
                                    "custid": "76",
                                    "orderdate": "2016-01-22",
                                    "orderid": "10846",
                                    "rownum": "8"
                                },
                                {
                                    "custid": "76",
                                    "orderdate": "2016-02-12",
                                    "orderid": "10885",
                                    "rownum": "9"
                                },
                                {
                                    "custid": "76",
                                    "orderdate": "2016-03-06",
                                    "orderid": "10930",
                                    "rownum": "10"
                                },
                                {
                                    "custid": "76",
                                    "orderdate": "2016-04-20",
                                    "orderid": "11035",
                                    "rownum": "11"
                                },
                                {
                                    "custid": "76",
                                    "orderdate": "2016-04-21",
                                    "orderid": "11038",
                                    "rownum": "12"
                                },
                                {
                                    "custid": "77",
                                    "orderdate": "2014-09-20",
                                    "orderid": "10310",
                                    "rownum": "1"
                                },
                                {
                                    "custid": "77",
                                    "orderdate": "2015-10-17",
                                    "orderid": "10708",
                                    "rownum": "2"
                                },
                                {
                                    "custid": "77",
                                    "orderdate": "2015-12-30",
                                    "orderid": "10805",
                                    "rownum": "3"
                                },
                                {
                                    "custid": "77",
                                    "orderdate": "2016-04-01",
                                    "orderid": "10992",
                                    "rownum": "4"
                                },
                                {
                                    "custid": "78",
                                    "orderdate": "2015-08-07",
                                    "orderid": "10624",
                                    "rownum": "1"
                                },
                                {
                                    "custid": "78",
                                    "orderdate": "2015-12-12",
                                    "orderid": "10775",
                                    "rownum": "2"
                                },
                                {
                                    "custid": "78",
                                    "orderdate": "2016-04-06",
                                    "orderid": "11003",
                                    "rownum": "3"
                                },
                                {
                                    "custid": "79",
                                    "orderdate": "2014-07-05",
                                    "orderid": "10249",
                                    "rownum": "1"
                                },
                                {
                                    "custid": "79",
                                    "orderdate": "2015-02-06",
                                    "orderid": "10438",
                                    "rownum": "2"
                                },
                                {
                                    "custid": "79",
                                    "orderdate": "2015-02-14",
                                    "orderid": "10446",
                                    "rownum": "3"
                                },
                                {
                                    "custid": "79",
                                    "orderdate": "2015-05-26",
                                    "orderid": "10548",
                                    "rownum": "4"
                                },
                                {
                                    "custid": "79",
                                    "orderdate": "2015-07-23",
                                    "orderid": "10608",
                                    "rownum": "5"
                                },
                                {
                                    "custid": "79",
                                    "orderdate": "2016-03-23",
                                    "orderid": "10967",
                                    "rownum": "6"
                                },
                                {
                                    "custid": "80",
                                    "orderdate": "2014-08-08",
                                    "orderid": "10276",
                                    "rownum": "1"
                                },
                                {
                                    "custid": "80",
                                    "orderdate": "2014-08-29",
                                    "orderid": "10293",
                                    "rownum": "2"
                                },
                                {
                                    "custid": "80",
                                    "orderdate": "2014-09-12",
                                    "orderid": "10304",
                                    "rownum": "3"
                                },
                                {
                                    "custid": "80",
                                    "orderdate": "2014-10-02",
                                    "orderid": "10319",
                                    "rownum": "4"
                                },
                                {
                                    "custid": "80",
                                    "orderdate": "2015-04-25",
                                    "orderid": "10518",
                                    "rownum": "5"
                                },
                                {
                                    "custid": "80",
                                    "orderdate": "2015-06-23",
                                    "orderid": "10576",
                                    "rownum": "6"
                                },
                                {
                                    "custid": "80",
                                    "orderdate": "2015-09-22",
                                    "orderid": "10676",
                                    "rownum": "7"
                                },
                                {
                                    "custid": "80",
                                    "orderdate": "2016-01-20",
                                    "orderid": "10842",
                                    "rownum": "8"
                                },
                                {
                                    "custid": "80",
                                    "orderdate": "2016-02-27",
                                    "orderid": "10915",
                                    "rownum": "9"
                                },
                                {
                                    "custid": "80",
                                    "orderdate": "2016-05-04",
                                    "orderid": "11069",
                                    "rownum": "10"
                                },
                                {
                                    "custid": "81",
                                    "orderdate": "2014-08-28",
                                    "orderid": "10292",
                                    "rownum": "1"
                                },
                                {
                                    "custid": "81",
                                    "orderdate": "2015-04-04",
                                    "orderid": "10496",
                                    "rownum": "2"
                                },
                                {
                                    "custid": "81",
                                    "orderdate": "2015-07-22",
                                    "orderid": "10606",
                                    "rownum": "3"
                                },
                                {
                                    "custid": "81",
                                    "orderdate": "2016-01-13",
                                    "orderid": "10830",
                                    "rownum": "4"
                                },
                                {
                                    "custid": "81",
                                    "orderdate": "2016-01-15",
                                    "orderid": "10834",
                                    "rownum": "5"
                                },
                                {
                                    "custid": "81",
                                    "orderdate": "2016-01-19",
                                    "orderid": "10839",
                                    "rownum": "6"
                                },
                                {
                                    "custid": "82",
                                    "orderdate": "2015-06-19",
                                    "orderid": "10574",
                                    "rownum": "1"
                                },
                                {
                                    "custid": "82",
                                    "orderdate": "2015-06-23",
                                    "orderid": "10577",
                                    "rownum": "2"
                                },
                                {
                                    "custid": "82",
                                    "orderdate": "2016-01-08",
                                    "orderid": "10822",
                                    "rownum": "3"
                                },
                                {
                                    "custid": "83",
                                    "orderdate": "2014-11-28",
                                    "orderid": "10367",
                                    "rownum": "1"
                                },
                                {
                                    "custid": "83",
                                    "orderdate": "2014-12-31",
                                    "orderid": "10399",
                                    "rownum": "2"
                                },
                                {
                                    "custid": "83",
                                    "orderdate": "2015-03-05",
                                    "orderid": "10465",
                                    "rownum": "3"
                                },
                                {
                                    "custid": "83",
                                    "orderdate": "2015-07-07",
                                    "orderid": "10591",
                                    "rownum": "4"
                                },
                                {
                                    "custid": "83",
                                    "orderdate": "2015-07-17",
                                    "orderid": "10602",
                                    "rownum": "5"
                                },
                                {
                                    "custid": "83",
                                    "orderdate": "2015-10-01",
                                    "orderid": "10688",
                                    "rownum": "6"
                                },
                                {
                                    "custid": "83",
                                    "orderdate": "2015-11-17",
                                    "orderid": "10744",
                                    "rownum": "7"
                                },
                                {
                                    "custid": "83",
                                    "orderdate": "2015-12-08",
                                    "orderid": "10769",
                                    "rownum": "8"
                                },
                                {
                                    "custid": "83",
                                    "orderdate": "2016-03-03",
                                    "orderid": "10921",
                                    "rownum": "9"
                                },
                                {
                                    "custid": "83",
                                    "orderdate": "2016-03-12",
                                    "orderid": "10946",
                                    "rownum": "10"
                                },
                                {
                                    "custid": "83",
                                    "orderdate": "2016-04-02",
                                    "orderid": "10994",
                                    "rownum": "11"
                                },
                                {
                                    "custid": "84",
                                    "orderdate": "2014-07-08",
                                    "orderid": "10251",
                                    "rownum": "1"
                                },
                                {
                                    "custid": "84",
                                    "orderdate": "2014-10-21",
                                    "orderid": "10334",
                                    "rownum": "2"
                                },
                                {
                                    "custid": "84",
                                    "orderdate": "2015-02-19",
                                    "orderid": "10450",
                                    "rownum": "3"
                                },
                                {
                                    "custid": "84",
                                    "orderdate": "2015-02-27",
                                    "orderid": "10459",
                                    "rownum": "4"
                                },
                                {
                                    "custid": "84",
                                    "orderdate": "2015-03-18",
                                    "orderid": "10478",
                                    "rownum": "5"
                                },
                                {
                                    "custid": "84",
                                    "orderdate": "2015-05-23",
                                    "orderid": "10546",
                                    "rownum": "6"
                                },
                                {
                                    "custid": "84",
                                    "orderdate": "2015-12-31",
                                    "orderid": "10806",
                                    "rownum": "7"
                                },
                                {
                                    "custid": "84",
                                    "orderdate": "2016-01-05",
                                    "orderid": "10814",
                                    "rownum": "8"
                                },
                                {
                                    "custid": "84",
                                    "orderdate": "2016-01-21",
                                    "orderid": "10843",
                                    "rownum": "9"
                                },
                                {
                                    "custid": "84",
                                    "orderdate": "2016-01-23",
                                    "orderid": "10850",
                                    "rownum": "10"
                                },
                                {
                                    "custid": "85",
                                    "orderdate": "2014-07-04",
                                    "orderid": "10248",
                                    "rownum": "1"
                                },
                                {
                                    "custid": "85",
                                    "orderdate": "2014-08-06",
                                    "orderid": "10274",
                                    "rownum": "2"
                                },
                                {
                                    "custid": "85",
                                    "orderdate": "2014-09-02",
                                    "orderid": "10295",
                                    "rownum": "3"
                                },
                                {
                                    "custid": "85",
                                    "orderdate": "2015-11-11",
                                    "orderid": "10737",
                                    "rownum": "4"
                                },
                                {
                                    "custid": "85",
                                    "orderdate": "2015-11-12",
                                    "orderid": "10739",
                                    "rownum": "5"
                                },
                                {
                                    "custid": "86",
                                    "orderdate": "2014-09-09",
                                    "orderid": "10301",
                                    "rownum": "1"
                                },
                                {
                                    "custid": "86",
                                    "orderdate": "2014-09-23",
                                    "orderid": "10312",
                                    "rownum": "2"
                                },
                                {
                                    "custid": "86",
                                    "orderdate": "2014-11-07",
                                    "orderid": "10348",
                                    "rownum": "3"
                                },
                                {
                                    "custid": "86",
                                    "orderdate": "2014-11-18",
                                    "orderid": "10356",
                                    "rownum": "4"
                                },
                                {
                                    "custid": "86",
                                    "orderdate": "2015-04-22",
                                    "orderid": "10513",
                                    "rownum": "5"
                                },
                                {
                                    "custid": "86",
                                    "orderdate": "2015-08-14",
                                    "orderid": "10632",
                                    "rownum": "6"
                                },
                                {
                                    "custid": "86",
                                    "orderdate": "2015-08-21",
                                    "orderid": "10640",
                                    "rownum": "7"
                                },
                                {
                                    "custid": "86",
                                    "orderdate": "2015-09-01",
                                    "orderid": "10651",
                                    "rownum": "8"
                                },
                                {
                                    "custid": "86",
                                    "orderdate": "2015-09-15",
                                    "orderid": "10668",
                                    "rownum": "9"
                                },
                                {
                                    "custid": "86",
                                    "orderdate": "2016-04-23",
                                    "orderid": "11046",
                                    "rownum": "10"
                                },
                                {
                                    "custid": "87",
                                    "orderdate": "2014-07-26",
                                    "orderid": "10266",
                                    "rownum": "1"
                                },
                                {
                                    "custid": "87",
                                    "orderdate": "2014-08-01",
                                    "orderid": "10270",
                                    "rownum": "2"
                                },
                                {
                                    "custid": "87",
                                    "orderdate": "2014-10-03",
                                    "orderid": "10320",
                                    "rownum": "3"
                                },
                                {
                                    "custid": "87",
                                    "orderdate": "2014-10-18",
                                    "orderid": "10333",
                                    "rownum": "4"
                                },
                                {
                                    "custid": "87",
                                    "orderdate": "2015-01-13",
                                    "orderid": "10412",
                                    "rownum": "5"
                                },
                                {
                                    "custid": "87",
                                    "orderdate": "2015-01-16",
                                    "orderid": "10416",
                                    "rownum": "6"
                                },
                                {
                                    "custid": "87",
                                    "orderdate": "2015-02-05",
                                    "orderid": "10437",
                                    "rownum": "7"
                                },
                                {
                                    "custid": "87",
                                    "orderdate": "2015-02-24",
                                    "orderid": "10455",
                                    "rownum": "8"
                                },
                                {
                                    "custid": "87",
                                    "orderdate": "2015-05-05",
                                    "orderid": "10526",
                                    "rownum": "9"
                                },
                                {
                                    "custid": "87",
                                    "orderdate": "2015-05-30",
                                    "orderid": "10553",
                                    "rownum": "10"
                                },
                                {
                                    "custid": "87",
                                    "orderdate": "2015-06-30",
                                    "orderid": "10583",
                                    "rownum": "11"
                                },
                                {
                                    "custid": "87",
                                    "orderdate": "2015-08-19",
                                    "orderid": "10636",
                                    "rownum": "12"
                                },
                                {
                                    "custid": "87",
                                    "orderdate": "2015-11-21",
                                    "orderid": "10750",
                                    "rownum": "13"
                                },
                                {
                                    "custid": "87",
                                    "orderdate": "2015-12-17",
                                    "orderid": "10781",
                                    "rownum": "14"
                                },
                                {
                                    "custid": "87",
                                    "orderdate": "2016-04-15",
                                    "orderid": "11025",
                                    "rownum": "15"
                                },
                                {
                                    "custid": "88",
                                    "orderdate": "2014-07-15",
                                    "orderid": "10256",
                                    "rownum": "1"
                                },
                                {
                                    "custid": "88",
                                    "orderdate": "2015-01-21",
                                    "orderid": "10420",
                                    "rownum": "2"
                                },
                                {
                                    "custid": "88",
                                    "orderdate": "2015-07-01",
                                    "orderid": "10585",
                                    "rownum": "3"
                                },
                                {
                                    "custid": "88",
                                    "orderdate": "2015-08-25",
                                    "orderid": "10644",
                                    "rownum": "4"
                                },
                                {
                                    "custid": "88",
                                    "orderdate": "2015-12-30",
                                    "orderid": "10803",
                                    "rownum": "5"
                                },
                                {
                                    "custid": "88",
                                    "orderdate": "2016-01-01",
                                    "orderid": "10809",
                                    "rownum": "6"
                                },
                                {
                                    "custid": "88",
                                    "orderdate": "2016-02-20",
                                    "orderid": "10900",
                                    "rownum": "7"
                                },
                                {
                                    "custid": "88",
                                    "orderdate": "2016-02-24",
                                    "orderid": "10905",
                                    "rownum": "8"
                                },
                                {
                                    "custid": "88",
                                    "orderdate": "2016-03-09",
                                    "orderid": "10935",
                                    "rownum": "9"
                                },
                                {
                                    "custid": "89",
                                    "orderdate": "2014-07-31",
                                    "orderid": "10269",
                                    "rownum": "1"
                                },
                                {
                                    "custid": "89",
                                    "orderdate": "2014-11-01",
                                    "orderid": "10344",
                                    "rownum": "2"
                                },
                                {
                                    "custid": "89",
                                    "orderdate": "2015-03-10",
                                    "orderid": "10469",
                                    "rownum": "3"
                                },
                                {
                                    "custid": "89",
                                    "orderdate": "2015-03-24",
                                    "orderid": "10483",
                                    "rownum": "4"
                                },
                                {
                                    "custid": "89",
                                    "orderdate": "2015-04-11",
                                    "orderid": "10504",
                                    "rownum": "5"
                                },
                                {
                                    "custid": "89",
                                    "orderdate": "2015-07-11",
                                    "orderid": "10596",
                                    "rownum": "6"
                                },
                                {
                                    "custid": "89",
                                    "orderdate": "2015-10-06",
                                    "orderid": "10693",
                                    "rownum": "7"
                                },
                                {
                                    "custid": "89",
                                    "orderdate": "2015-10-08",
                                    "orderid": "10696",
                                    "rownum": "8"
                                },
                                {
                                    "custid": "89",
                                    "orderdate": "2015-10-30",
                                    "orderid": "10723",
                                    "rownum": "9"
                                },
                                {
                                    "custid": "89",
                                    "orderdate": "2015-11-13",
                                    "orderid": "10740",
                                    "rownum": "10"
                                },
                                {
                                    "custid": "89",
                                    "orderdate": "2016-01-30",
                                    "orderid": "10861",
                                    "rownum": "11"
                                },
                                {
                                    "custid": "89",
                                    "orderdate": "2016-02-24",
                                    "orderid": "10904",
                                    "rownum": "12"
                                },
                                {
                                    "custid": "89",
                                    "orderdate": "2016-04-17",
                                    "orderid": "11032",
                                    "rownum": "13"
                                },
                                {
                                    "custid": "89",
                                    "orderdate": "2016-05-01",
                                    "orderid": "11066",
                                    "rownum": "14"
                                },
                                {
                                    "custid": "90",
                                    "orderdate": "2015-07-30",
                                    "orderid": "10615",
                                    "rownum": "1"
                                },
                                {
                                    "custid": "90",
                                    "orderdate": "2015-09-18",
                                    "orderid": "10673",
                                    "rownum": "2"
                                },
                                {
                                    "custid": "90",
                                    "orderdate": "2015-10-07",
                                    "orderid": "10695",
                                    "rownum": "3"
                                },
                                {
                                    "custid": "90",
                                    "orderdate": "2016-02-06",
                                    "orderid": "10873",
                                    "rownum": "4"
                                },
                                {
                                    "custid": "90",
                                    "orderdate": "2016-02-10",
                                    "orderid": "10879",
                                    "rownum": "5"
                                },
                                {
                                    "custid": "90",
                                    "orderdate": "2016-02-26",
                                    "orderid": "10910",
                                    "rownum": "6"
                                },
                                {
                                    "custid": "90",
                                    "orderdate": "2016-04-07",
                                    "orderid": "11005",
                                    "rownum": "7"
                                },
                                {
                                    "custid": "91",
                                    "orderdate": "2014-12-05",
                                    "orderid": "10374",
                                    "rownum": "1"
                                },
                                {
                                    "custid": "91",
                                    "orderdate": "2015-07-25",
                                    "orderid": "10611",
                                    "rownum": "2"
                                },
                                {
                                    "custid": "91",
                                    "orderdate": "2015-12-23",
                                    "orderid": "10792",
                                    "rownum": "3"
                                },
                                {
                                    "custid": "91",
                                    "orderdate": "2016-02-04",
                                    "orderid": "10870",
                                    "rownum": "4"
                                },
                                {
                                    "custid": "91",
                                    "orderdate": "2016-02-25",
                                    "orderid": "10906",
                                    "rownum": "5"
                                },
                                {
                                    "custid": "91",
                                    "orderdate": "2016-04-03",
                                    "orderid": "10998",
                                    "rownum": "6"
                                },
                                {
                                    "custid": "91",
                                    "orderdate": "2016-04-23",
                                    "orderid": "11044",
                                    "rownum": "7"
                                }
                            ]
                        },
                        "text/html": "<table><tr><th>custid</th><th>orderdate</th><th>orderid</th><th>rownum</th></tr><tr><td>1</td><td>2015-08-25</td><td>10643</td><td>1</td></tr><tr><td>1</td><td>2015-10-03</td><td>10692</td><td>2</td></tr><tr><td>1</td><td>2015-10-13</td><td>10702</td><td>3</td></tr><tr><td>1</td><td>2016-01-15</td><td>10835</td><td>4</td></tr><tr><td>1</td><td>2016-03-16</td><td>10952</td><td>5</td></tr><tr><td>1</td><td>2016-04-09</td><td>11011</td><td>6</td></tr><tr><td>2</td><td>2014-09-18</td><td>10308</td><td>1</td></tr><tr><td>2</td><td>2015-08-08</td><td>10625</td><td>2</td></tr><tr><td>2</td><td>2015-11-28</td><td>10759</td><td>3</td></tr><tr><td>2</td><td>2016-03-04</td><td>10926</td><td>4</td></tr><tr><td>3</td><td>2014-11-27</td><td>10365</td><td>1</td></tr><tr><td>3</td><td>2015-04-15</td><td>10507</td><td>2</td></tr><tr><td>3</td><td>2015-05-13</td><td>10535</td><td>3</td></tr><tr><td>3</td><td>2015-06-19</td><td>10573</td><td>4</td></tr><tr><td>3</td><td>2015-09-22</td><td>10677</td><td>5</td></tr><tr><td>3</td><td>2015-09-25</td><td>10682</td><td>6</td></tr><tr><td>3</td><td>2016-01-28</td><td>10856</td><td>7</td></tr><tr><td>4</td><td>2014-11-15</td><td>10355</td><td>1</td></tr><tr><td>4</td><td>2014-12-16</td><td>10383</td><td>2</td></tr><tr><td>4</td><td>2015-02-21</td><td>10453</td><td>3</td></tr><tr><td>4</td><td>2015-06-04</td><td>10558</td><td>4</td></tr><tr><td>4</td><td>2015-10-16</td><td>10707</td><td>5</td></tr><tr><td>4</td><td>2015-11-14</td><td>10741</td><td>6</td></tr><tr><td>4</td><td>2015-11-17</td><td>10743</td><td>7</td></tr><tr><td>4</td><td>2015-12-08</td><td>10768</td><td>8</td></tr><tr><td>4</td><td>2015-12-24</td><td>10793</td><td>9</td></tr><tr><td>4</td><td>2016-02-02</td><td>10864</td><td>10</td></tr><tr><td>4</td><td>2016-03-03</td><td>10920</td><td>11</td></tr><tr><td>4</td><td>2016-03-16</td><td>10953</td><td>12</td></tr><tr><td>4</td><td>2016-04-10</td><td>11016</td><td>13</td></tr><tr><td>5</td><td>2014-08-12</td><td>10278</td><td>1</td></tr><tr><td>5</td><td>2014-08-14</td><td>10280</td><td>2</td></tr><tr><td>5</td><td>2014-12-16</td><td>10384</td><td>3</td></tr><tr><td>5</td><td>2015-02-12</td><td>10444</td><td>4</td></tr><tr><td>5</td><td>2015-02-13</td><td>10445</td><td>5</td></tr><tr><td>5</td><td>2015-05-01</td><td>10524</td><td>6</td></tr><tr><td>5</td><td>2015-06-18</td><td>10572</td><td>7</td></tr><tr><td>5</td><td>2015-08-11</td><td>10626</td><td>8</td></tr><tr><td>5</td><td>2015-09-02</td><td>10654</td><td>9</td></tr><tr><td>5</td><td>2015-09-17</td><td>10672</td><td>10</td></tr><tr><td>5</td><td>2015-10-01</td><td>10689</td><td>11</td></tr><tr><td>5</td><td>2015-11-07</td><td>10733</td><td>12</td></tr><tr><td>5</td><td>2015-12-16</td><td>10778</td><td>13</td></tr><tr><td>5</td><td>2016-01-16</td><td>10837</td><td>14</td></tr><tr><td>5</td><td>2016-01-28</td><td>10857</td><td>15</td></tr><tr><td>5</td><td>2016-02-03</td><td>10866</td><td>16</td></tr><tr><td>5</td><td>2016-02-06</td><td>10875</td><td>17</td></tr><tr><td>5</td><td>2016-03-04</td><td>10924</td><td>18</td></tr><tr><td>6</td><td>2015-04-09</td><td>10501</td><td>1</td></tr><tr><td>6</td><td>2015-04-17</td><td>10509</td><td>2</td></tr><tr><td>6</td><td>2015-06-27</td><td>10582</td><td>3</td></tr><tr><td>6</td><td>2015-07-29</td><td>10614</td><td>4</td></tr><tr><td>6</td><td>2016-01-27</td><td>10853</td><td>5</td></tr><tr><td>6</td><td>2016-03-17</td><td>10956</td><td>6</td></tr><tr><td>6</td><td>2016-04-29</td><td>11058</td><td>7</td></tr><tr><td>7</td><td>2014-07-25</td><td>10265</td><td>1</td></tr><tr><td>7</td><td>2014-09-04</td><td>10297</td><td>2</td></tr><tr><td>7</td><td>2014-11-22</td><td>10360</td><td>3</td></tr><tr><td>7</td><td>2015-02-05</td><td>10436</td><td>4</td></tr><tr><td>7</td><td>2015-02-18</td><td>10449</td><td>5</td></tr><tr><td>7</td><td>2015-06-05</td><td>10559</td><td>6</td></tr><tr><td>7</td><td>2015-06-12</td><td>10566</td><td>7</td></tr><tr><td>7</td><td>2015-06-30</td><td>10584</td><td>8</td></tr><tr><td>7</td><td>2015-08-12</td><td>10628</td><td>9</td></tr><tr><td>7</td><td>2015-09-23</td><td>10679</td><td>10</td></tr><tr><td>7</td><td>2016-01-12</td><td>10826</td><td>11</td></tr><tr><td>8</td><td>2014-10-10</td><td>10326</td><td>1</td></tr><tr><td>8</td><td>2015-12-29</td><td>10801</td><td>2</td></tr><tr><td>8</td><td>2016-03-24</td><td>10970</td><td>3</td></tr><tr><td>9</td><td>2014-10-16</td><td>10331</td><td>1</td></tr><tr><td>9</td><td>2014-10-29</td><td>10340</td><td>2</td></tr><tr><td>9</td><td>2014-11-25</td><td>10362</td><td>3</td></tr><tr><td>9</td><td>2015-03-11</td><td>10470</td><td>4</td></tr><tr><td>9</td><td>2015-04-18</td><td>10511</td><td>5</td></tr><tr><td>9</td><td>2015-05-02</td><td>10525</td><td>6</td></tr><tr><td>9</td><td>2015-09-10</td><td>10663</td><td>7</td></tr><tr><td>9</td><td>2015-10-23</td><td>10715</td><td>8</td></tr><tr><td>9</td><td>2015-11-05</td><td>10730</td><td>9</td></tr><tr><td>9</td><td>2015-11-06</td><td>10732</td><td>10</td></tr><tr><td>9</td><td>2015-11-26</td><td>10755</td><td>11</td></tr><tr><td>9</td><td>2016-01-12</td><td>10827</td><td>12</td></tr><tr><td>9</td><td>2016-02-05</td><td>10871</td><td>13</td></tr><tr><td>9</td><td>2016-02-09</td><td>10876</td><td>14</td></tr><tr><td>9</td><td>2016-03-06</td><td>10932</td><td>15</td></tr><tr><td>9</td><td>2016-03-11</td><td>10940</td><td>16</td></tr><tr><td>9</td><td>2016-05-06</td><td>11076</td><td>17</td></tr><tr><td>10</td><td>2014-12-20</td><td>10389</td><td>1</td></tr><tr><td>10</td><td>2015-01-10</td><td>10410</td><td>2</td></tr><tr><td>10</td><td>2015-01-10</td><td>10411</td><td>3</td></tr><tr><td>10</td><td>2015-01-30</td><td>10431</td><td>4</td></tr><tr><td>10</td><td>2015-04-01</td><td>10492</td><td>5</td></tr><tr><td>10</td><td>2015-11-14</td><td>10742</td><td>6</td></tr><tr><td>10</td><td>2016-03-02</td><td>10918</td><td>7</td></tr><tr><td>10</td><td>2016-03-12</td><td>10944</td><td>8</td></tr><tr><td>10</td><td>2016-03-13</td><td>10949</td><td>9</td></tr><tr><td>10</td><td>2016-03-25</td><td>10975</td><td>10</td></tr><tr><td>10</td><td>2016-03-27</td><td>10982</td><td>11</td></tr><tr><td>10</td><td>2016-04-16</td><td>11027</td><td>12</td></tr><tr><td>10</td><td>2016-04-23</td><td>11045</td><td>13</td></tr><tr><td>10</td><td>2016-04-24</td><td>11048</td><td>14</td></tr><tr><td>11</td><td>2014-08-26</td><td>10289</td><td>1</td></tr><tr><td>11</td><td>2015-03-11</td><td>10471</td><td>2</td></tr><tr><td>11</td><td>2015-03-24</td><td>10484</td><td>3</td></tr><tr><td>11</td><td>2015-05-15</td><td>10538</td><td>4</td></tr><tr><td>11</td><td>2015-05-16</td><td>10539</td><td>5</td></tr><tr><td>11</td><td>2015-06-24</td><td>10578</td><td>6</td></tr><tr><td>11</td><td>2015-07-15</td><td>10599</td><td>7</td></tr><tr><td>11</td><td>2016-03-11</td><td>10943</td><td>8</td></tr><tr><td>11</td><td>2016-03-13</td><td>10947</td><td>9</td></tr><tr><td>11</td><td>2016-04-14</td><td>11023</td><td>10</td></tr><tr><td>12</td><td>2015-04-29</td><td>10521</td><td>1</td></tr><tr><td>12</td><td>2015-12-17</td><td>10782</td><td>2</td></tr><tr><td>12</td><td>2016-01-07</td><td>10819</td><td>3</td></tr><tr><td>12</td><td>2016-02-11</td><td>10881</td><td>4</td></tr><tr><td>12</td><td>2016-03-10</td><td>10937</td><td>5</td></tr><tr><td>12</td><td>2016-04-28</td><td>11054</td><td>6</td></tr><tr><td>13</td><td>2014-07-18</td><td>10259</td><td>1</td></tr><tr><td>14</td><td>2014-07-11</td><td>10254</td><td>1</td></tr><tr><td>14</td><td>2014-12-03</td><td>10370</td><td>2</td></tr><tr><td>14</td><td>2015-04-28</td><td>10519</td><td>3</td></tr><tr><td>14</td><td>2015-11-06</td><td>10731</td><td>4</td></tr><tr><td>14</td><td>2015-11-19</td><td>10746</td><td>5</td></tr><tr><td>14</td><td>2016-03-20</td><td>10966</td><td>6</td></tr><tr><td>14</td><td>2016-04-16</td><td>11029</td><td>7</td></tr><tr><td>14</td><td>2016-04-22</td><td>11041</td><td>8</td></tr><tr><td>15</td><td>2014-08-27</td><td>10290</td><td>1</td></tr><tr><td>15</td><td>2015-03-06</td><td>10466</td><td>2</td></tr><tr><td>15</td><td>2015-04-02</td><td>10494</td><td>3</td></tr><tr><td>15</td><td>2016-03-23</td><td>10969</td><td>4</td></tr><tr><td>15</td><td>2016-04-22</td><td>11042</td><td>5</td></tr><tr><td>16</td><td>2015-02-04</td><td>10435</td><td>1</td></tr><tr><td>16</td><td>2015-03-03</td><td>10462</td><td>2</td></tr><tr><td>16</td><td>2016-01-23</td><td>10848</td><td>3</td></tr><tr><td>17</td><td>2014-11-26</td><td>10363</td><td>1</td></tr><tr><td>17</td><td>2014-12-23</td><td>10391</td><td>2</td></tr><tr><td>17</td><td>2015-12-25</td><td>10797</td><td>3</td></tr><tr><td>17</td><td>2016-01-09</td><td>10825</td><td>4</td></tr><tr><td>17</td><td>2016-04-20</td><td>11036</td><td>5</td></tr><tr><td>17</td><td>2016-05-04</td><td>11067</td><td>6</td></tr><tr><td>18</td><td>2014-09-20</td><td>10311</td><td>1</td></tr><tr><td>18</td><td>2015-07-24</td><td>10609</td><td>2</td></tr><tr><td>18</td><td>2015-09-26</td><td>10683</td><td>3</td></tr><tr><td>18</td><td>2016-02-16</td><td>10890</td><td>4</td></tr><tr><td>19</td><td>2014-11-26</td><td>10364</td><td>1</td></tr><tr><td>19</td><td>2015-01-01</td><td>10400</td><td>2</td></tr><tr><td>19</td><td>2015-05-09</td><td>10532</td><td>3</td></tr><tr><td>19</td><td>2015-11-03</td><td>10726</td><td>4</td></tr><tr><td>19</td><td>2016-03-31</td><td>10987</td><td>5</td></tr><tr><td>19</td><td>2016-04-15</td><td>11024</td><td>6</td></tr><tr><td>19</td><td>2016-04-24</td><td>11047</td><td>7</td></tr><tr><td>19</td><td>2016-04-28</td><td>11056</td><td>8</td></tr><tr><td>20</td><td>2014-07-17</td><td>10258</td><td>1</td></tr><tr><td>20</td><td>2014-07-23</td><td>10263</td><td>2</td></tr><tr><td>20</td><td>2014-11-11</td><td>10351</td><td>3</td></tr><tr><td>20</td><td>2014-11-29</td><td>10368</td><td>4</td></tr><tr><td>20</td><td>2014-12-13</td><td>10382</td><td>5</td></tr><tr><td>20</td><td>2014-12-23</td><td>10390</td><td>6</td></tr><tr><td>20</td><td>2015-01-02</td><td>10402</td><td>7</td></tr><tr><td>20</td><td>2015-01-03</td><td>10403</td><td>8</td></tr><tr><td>20</td><td>2015-01-30</td><td>10430</td><td>9</td></tr><tr><td>20</td><td>2015-02-11</td><td>10442</td><td>10</td></tr><tr><td>20</td><td>2015-04-22</td><td>10514</td><td>11</td></tr><tr><td>20</td><td>2015-06-17</td><td>10571</td><td>12</td></tr><tr><td>20</td><td>2015-07-10</td><td>10595</td><td>13</td></tr><tr><td>20</td><td>2015-08-15</td><td>10633</td><td>14</td></tr><tr><td>20</td><td>2015-09-12</td><td>10667</td><td>15</td></tr><tr><td>20</td><td>2015-10-09</td><td>10698</td><td>16</td></tr><tr><td>20</td><td>2015-12-03</td><td>10764</td><td>17</td></tr><tr><td>20</td><td>2015-12-10</td><td>10771</td><td>18</td></tr><tr><td>20</td><td>2015-12-11</td><td>10773</td><td>19</td></tr><tr><td>20</td><td>2015-12-15</td><td>10776</td><td>20</td></tr><tr><td>20</td><td>2015-12-24</td><td>10795</td><td>21</td></tr><tr><td>20</td><td>2016-01-16</td><td>10836</td><td>22</td></tr><tr><td>20</td><td>2016-01-27</td><td>10854</td><td>23</td></tr><tr><td>20</td><td>2016-02-18</td><td>10895</td><td>24</td></tr><tr><td>20</td><td>2016-03-23</td><td>10968</td><td>25</td></tr><tr><td>20</td><td>2016-03-26</td><td>10979</td><td>26</td></tr><tr><td>20</td><td>2016-04-01</td><td>10990</td><td>27</td></tr><tr><td>20</td><td>2016-04-08</td><td>11008</td><td>28</td></tr><tr><td>20</td><td>2016-04-13</td><td>11017</td><td>29</td></tr><tr><td>20</td><td>2016-05-05</td><td>11072</td><td>30</td></tr><tr><td>21</td><td>2014-11-06</td><td>10347</td><td>1</td></tr><tr><td>21</td><td>2014-12-18</td><td>10386</td><td>2</td></tr><tr><td>21</td><td>2015-01-14</td><td>10414</td><td>3</td></tr><tr><td>21</td><td>2015-04-21</td><td>10512</td><td>4</td></tr><tr><td>21</td><td>2015-06-26</td><td>10581</td><td>5</td></tr><tr><td>21</td><td>2015-08-29</td><td>10650</td><td>6</td></tr><tr><td>21</td><td>2015-10-31</td><td>10725</td><td>7</td></tr><tr><td>23</td><td>2015-01-08</td><td>10408</td><td>1</td></tr><tr><td>23</td><td>2015-03-20</td><td>10480</td><td>2</td></tr><tr><td>23</td><td>2015-08-15</td><td>10634</td><td>3</td></tr><tr><td>23</td><td>2015-12-03</td><td>10763</td><td>4</td></tr><tr><td>23</td><td>2015-12-22</td><td>10789</td><td>5</td></tr><tr><td>24</td><td>2014-07-24</td><td>10264</td><td>1</td></tr><tr><td>24</td><td>2014-10-11</td><td>10327</td><td>2</td></tr><tr><td>24</td><td>2014-12-10</td><td>10378</td><td>3</td></tr><tr><td>24</td><td>2015-02-03</td><td>10434</td><td>4</td></tr><tr><td>24</td><td>2015-02-28</td><td>10460</td><td>5</td></tr><tr><td>24</td><td>2015-05-12</td><td>10533</td><td>6</td></tr><tr><td>24</td><td>2015-06-06</td><td>10561</td><td>7</td></tr><tr><td>24</td><td>2015-10-14</td><td>10703</td><td>8</td></tr><tr><td>24</td><td>2015-12-02</td><td>10762</td><td>9</td></tr><tr><td>24</td><td>2015-12-11</td><td>10774</td><td>10</td></tr><tr><td>24</td><td>2016-01-09</td><td>10824</td><td>11</td></tr><tr><td>24</td><td>2016-02-10</td><td>10880</td><td>12</td></tr><tr><td>24</td><td>2016-02-23</td><td>10902</td><td>13</td></tr><tr><td>24</td><td>2016-03-17</td><td>10955</td><td>14</td></tr><tr><td>24</td><td>2016-03-26</td><td>10977</td><td>15</td></tr><tr><td>24</td><td>2016-03-27</td><td>10980</td><td>16</td></tr><tr><td>24</td><td>2016-04-01</td><td>10993</td><td>17</td></tr><tr><td>24</td><td>2016-04-06</td><td>11001</td><td>18</td></tr><tr><td>24</td><td>2016-04-27</td><td>11050</td><td>19</td></tr><tr><td>25</td><td>2014-07-29</td><td>10267</td><td>1</td></tr><tr><td>25</td><td>2014-10-24</td><td>10337</td><td>2</td></tr><tr><td>25</td><td>2014-10-30</td><td>10342</td><td>3</td></tr><tr><td>25</td><td>2014-12-27</td><td>10396</td><td>4</td></tr><tr><td>25</td><td>2015-03-27</td><td>10488</td><td>5</td></tr><tr><td>25</td><td>2015-06-06</td><td>10560</td><td>6</td></tr><tr><td>25</td><td>2015-08-07</td><td>10623</td><td>7</td></tr><tr><td>25</td><td>2015-09-02</td><td>10653</td><td>8</td></tr><tr><td>25</td><td>2015-09-16</td><td>10670</td><td>9</td></tr><tr><td>25</td><td>2015-09-19</td><td>10675</td><td>10</td></tr><tr><td>25</td><td>2015-10-24</td><td>10717</td><td>11</td></tr><tr><td>25</td><td>2015-12-23</td><td>10791</td><td>12</td></tr><tr><td>25</td><td>2016-01-29</td><td>10859</td><td>13</td></tr><tr><td>25</td><td>2016-03-05</td><td>10929</td><td>14</td></tr><tr><td>25</td><td>2016-04-09</td><td>11012</td><td>15</td></tr><tr><td>26</td><td>2015-09-17</td><td>10671</td><td>1</td></tr><tr><td>26</td><td>2016-01-29</td><td>10860</td><td>2</td></tr><tr><td>26</td><td>2016-03-24</td><td>10971</td><td>3</td></tr><tr><td>27</td><td>2015-01-22</td><td>10422</td><td>1</td></tr><tr><td>27</td><td>2015-10-20</td><td>10710</td><td>2</td></tr><tr><td>27</td><td>2015-11-25</td><td>10753</td><td>3</td></tr><tr><td>27</td><td>2015-12-31</td><td>10807</td><td>4</td></tr><tr><td>27</td><td>2016-04-15</td><td>11026</td><td>5</td></tr><tr><td>27</td><td>2016-04-30</td><td>11060</td><td>6</td></tr><tr><td>28</td><td>2014-10-14</td><td>10328</td><td>1</td></tr><tr><td>28</td><td>2014-11-12</td><td>10352</td><td>2</td></tr><tr><td>28</td><td>2015-03-04</td><td>10464</td><td>3</td></tr><tr><td>28</td><td>2015-03-31</td><td>10491</td><td>4</td></tr><tr><td>28</td><td>2015-05-28</td><td>10551</td><td>5</td></tr><tr><td>28</td><td>2015-07-18</td><td>10604</td><td>6</td></tr><tr><td>28</td><td>2015-09-10</td><td>10664</td><td>7</td></tr><tr><td>28</td><td>2016-03-19</td><td>10963</td><td>8</td></tr><tr><td>29</td><td>2014-11-28</td><td>10366</td><td>1</td></tr><tr><td>29</td><td>2015-01-27</td><td>10426</td><td>2</td></tr><tr><td>29</td><td>2015-06-13</td><td>10568</td><td>3</td></tr><tr><td>29</td><td>2016-02-13</td><td>10887</td><td>4</td></tr><tr><td>29</td><td>2016-03-05</td><td>10928</td><td>5</td></tr><tr><td>30</td><td>2014-09-11</td><td>10303</td><td>1</td></tr><tr><td>30</td><td>2015-05-28</td><td>10550</td><td>2</td></tr><tr><td>30</td><td>2015-08-12</td><td>10629</td><td>3</td></tr><tr><td>30</td><td>2016-02-05</td><td>10872</td><td>4</td></tr><tr><td>30</td><td>2016-02-06</td><td>10874</td><td>5</td></tr><tr><td>30</td><td>2016-02-16</td><td>10888</td><td>6</td></tr><tr><td>30</td><td>2016-02-26</td><td>10911</td><td>7</td></tr><tr><td>30</td><td>2016-03-13</td><td>10948</td><td>8</td></tr><tr><td>30</td><td>2016-04-08</td><td>11009</td><td>9</td></tr><tr><td>30</td><td>2016-04-21</td><td>11037</td><td>10</td></tr><tr><td>31</td><td>2015-01-23</td><td>10423</td><td>1</td></tr><tr><td>31</td><td>2015-09-01</td><td>10652</td><td>2</td></tr><tr><td>31</td><td>2015-09-29</td><td>10685</td><td>3</td></tr><tr><td>31</td><td>2015-10-17</td><td>10709</td><td>4</td></tr><tr><td>31</td><td>2015-11-07</td><td>10734</td><td>5</td></tr><tr><td>31</td><td>2015-12-15</td><td>10777</td><td>6</td></tr><tr><td>31</td><td>2015-12-22</td><td>10790</td><td>7</td></tr><tr><td>31</td><td>2016-03-18</td><td>10959</td><td>8</td></tr><tr><td>31</td><td>2016-04-24</td><td>11049</td><td>9</td></tr><tr><td>32</td><td>2015-05-06</td><td>10528</td><td>1</td></tr><tr><td>32</td><td>2015-07-04</td><td>10589</td><td>2</td></tr><tr><td>32</td><td>2015-07-31</td><td>10616</td><td>3</td></tr><tr><td>32</td><td>2015-07-31</td><td>10617</td><td>4</td></tr><tr><td>32</td><td>2015-09-04</td><td>10656</td><td>5</td></tr><tr><td>32</td><td>2015-09-25</td><td>10681</td><td>6</td></tr><tr><td>32</td><td>2016-01-06</td><td>10816</td><td>7</td></tr><tr><td>32</td><td>2016-03-09</td><td>10936</td><td>8</td></tr><tr><td>32</td><td>2016-04-07</td><td>11006</td><td>9</td></tr><tr><td>32</td><td>2016-04-22</td><td>11040</td><td>10</td></tr><tr><td>32</td><td>2016-04-30</td><td>11061</td><td>11</td></tr><tr><td>33</td><td>2014-07-30</td><td>10268</td><td>1</td></tr><tr><td>33</td><td>2015-12-18</td><td>10785</td><td>2</td></tr><tr><td>34</td><td>2014-07-08</td><td>10250</td><td>1</td></tr><tr><td>34</td><td>2014-07-10</td><td>10253</td><td>2</td></tr><tr><td>34</td><td>2015-05-19</td><td>10541</td><td>3</td></tr><tr><td>34</td><td>2015-08-26</td><td>10645</td><td>4</td></tr><tr><td>34</td><td>2015-10-02</td><td>10690</td><td>5</td></tr><tr><td>34</td><td>2015-12-09</td><td>10770</td><td>6</td></tr><tr><td>34</td><td>2015-12-18</td><td>10783</td><td>7</td></tr><tr><td>34</td><td>2016-02-13</td><td>10886</td><td>8</td></tr><tr><td>34</td><td>2016-02-24</td><td>10903</td><td>9</td></tr><tr><td>34</td><td>2016-03-03</td><td>10922</td><td>10</td></tr><tr><td>34</td><td>2016-03-04</td><td>10925</td><td>11</td></tr><tr><td>34</td><td>2016-03-27</td><td>10981</td><td>12</td></tr><tr><td>34</td><td>2016-04-14</td><td>11022</td><td>13</td></tr><tr><td>34</td><td>2016-04-27</td><td>11052</td><td>14</td></tr><tr><td>35</td><td>2014-07-16</td><td>10257</td><td>1</td></tr><tr><td>35</td><td>2014-12-26</td><td>10395</td><td>2</td></tr><tr><td>35</td><td>2015-03-17</td><td>10476</td><td>3</td></tr><tr><td>35</td><td>2015-03-26</td><td>10486</td><td>4</td></tr><tr><td>35</td><td>2015-03-31</td><td>10490</td><td>5</td></tr><tr><td>35</td><td>2015-04-07</td><td>10498</td><td>6</td></tr><tr><td>35</td><td>2015-05-29</td><td>10552</td><td>7</td></tr><tr><td>35</td><td>2015-07-16</td><td>10601</td><td>8</td></tr><tr><td>35</td><td>2015-07-29</td><td>10613</td><td>9</td></tr><tr><td>35</td><td>2015-08-22</td><td>10641</td><td>10</td></tr><tr><td>35</td><td>2015-10-15</td><td>10705</td><td>11</td></tr><tr><td>35</td><td>2015-12-25</td><td>10796</td><td>12</td></tr><tr><td>35</td><td>2016-02-02</td><td>10863</td><td>13</td></tr><tr><td>35</td><td>2016-02-23</td><td>10901</td><td>14</td></tr><tr><td>35</td><td>2016-03-18</td><td>10957</td><td>15</td></tr><tr><td>35</td><td>2016-03-19</td><td>10960</td><td>16</td></tr><tr><td>35</td><td>2016-03-25</td><td>10976</td><td>17</td></tr><tr><td>35</td><td>2016-04-28</td><td>11055</td><td>18</td></tr><tr><td>36</td><td>2014-12-06</td><td>10375</td><td>1</td></tr><tr><td>36</td><td>2014-12-25</td><td>10394</td><td>2</td></tr><tr><td>36</td><td>2015-01-15</td><td>10415</td><td>3</td></tr><tr><td>36</td><td>2015-07-16</td><td>10600</td><td>4</td></tr><tr><td>36</td><td>2015-09-08</td><td>10660</td><td>5</td></tr><tr><td>37</td><td>2014-09-05</td><td>10298</td><td>1</td></tr><tr><td>37</td><td>2014-09-19</td><td>10309</td><td>2</td></tr><tr><td>37</td><td>2014-10-22</td><td>10335</td><td>3</td></tr><tr><td>37</td><td>2014-12-05</td><td>10373</td><td>4</td></tr><tr><td>37</td><td>2014-12-12</td><td>10380</td><td>5</td></tr><tr><td>37</td><td>2015-01-29</td><td>10429</td><td>6</td></tr><tr><td>37</td><td>2015-04-11</td><td>10503</td><td>7</td></tr><tr><td>37</td><td>2015-04-24</td><td>10516</td><td>8</td></tr><tr><td>37</td><td>2015-06-12</td><td>10567</td><td>9</td></tr><tr><td>37</td><td>2015-08-27</td><td>10646</td><td>10</td></tr><tr><td>37</td><td>2015-09-09</td><td>10661</td><td>11</td></tr><tr><td>37</td><td>2015-09-30</td><td>10687</td><td>12</td></tr><tr><td>37</td><td>2015-10-13</td><td>10701</td><td>13</td></tr><tr><td>37</td><td>2015-10-21</td><td>10712</td><td>14</td></tr><tr><td>37</td><td>2015-11-11</td><td>10736</td><td>15</td></tr><tr><td>37</td><td>2016-02-19</td><td>10897</td><td>16</td></tr><tr><td>37</td><td>2016-02-26</td><td>10912</td><td>17</td></tr><tr><td>37</td><td>2016-03-30</td><td>10985</td><td>18</td></tr><tr><td>37</td><td>2016-04-30</td><td>11063</td><td>19</td></tr><tr><td>38</td><td>2014-09-26</td><td>10315</td><td>1</td></tr><tr><td>38</td><td>2014-10-01</td><td>10318</td><td>2</td></tr><tr><td>38</td><td>2014-10-03</td><td>10321</td><td>3</td></tr><tr><td>38</td><td>2015-03-13</td><td>10473</td><td>4</td></tr><tr><td>38</td><td>2015-08-05</td><td>10621</td><td>5</td></tr><tr><td>38</td><td>2015-09-18</td><td>10674</td><td>6</td></tr><tr><td>38</td><td>2015-11-20</td><td>10749</td><td>7</td></tr><tr><td>38</td><td>2015-12-26</td><td>10798</td><td>8</td></tr><tr><td>38</td><td>2016-01-13</td><td>10829</td><td>9</td></tr><tr><td>38</td><td>2016-03-06</td><td>10933</td><td>10</td></tr><tr><td>39</td><td>2014-10-07</td><td>10323</td><td>1</td></tr><tr><td>39</td><td>2014-10-09</td><td>10325</td><td>2</td></tr><tr><td>39</td><td>2015-02-25</td><td>10456</td><td>3</td></tr><tr><td>39</td><td>2015-02-25</td><td>10457</td><td>4</td></tr><tr><td>39</td><td>2015-03-07</td><td>10468</td><td>5</td></tr><tr><td>39</td><td>2015-04-15</td><td>10506</td><td>6</td></tr><tr><td>39</td><td>2015-05-20</td><td>10542</td><td>7</td></tr><tr><td>39</td><td>2015-08-13</td><td>10630</td><td>8</td></tr><tr><td>39</td><td>2015-10-27</td><td>10718</td><td>9</td></tr><tr><td>39</td><td>2015-12-26</td><td>10799</td><td>10</td></tr><tr><td>39</td><td>2016-01-06</td><td>10817</td><td>11</td></tr><tr><td>39</td><td>2016-01-23</td><td>10849</td><td>12</td></tr><tr><td>39</td><td>2016-02-18</td><td>10893</td><td>13</td></tr><tr><td>39</td><td>2016-04-16</td><td>11028</td><td>14</td></tr><tr><td>40</td><td>2016-01-29</td><td>10858</td><td>1</td></tr><tr><td>40</td><td>2016-03-05</td><td>10927</td><td>2</td></tr><tr><td>40</td><td>2016-03-24</td><td>10972</td><td>3</td></tr><tr><td>40</td><td>2016-03-24</td><td>10973</td><td>4</td></tr><tr><td>41</td><td>2014-11-11</td><td>10350</td><td>1</td></tr><tr><td>41</td><td>2014-11-20</td><td>10358</td><td>2</td></tr><tr><td>41</td><td>2014-12-03</td><td>10371</td><td>3</td></tr><tr><td>41</td><td>2015-01-14</td><td>10413</td><td>4</td></tr><tr><td>41</td><td>2015-01-24</td><td>10425</td><td>5</td></tr><tr><td>41</td><td>2015-02-21</td><td>10454</td><td>6</td></tr><tr><td>41</td><td>2015-04-02</td><td>10493</td><td>7</td></tr><tr><td>41</td><td>2015-04-09</td><td>10500</td><td>8</td></tr><tr><td>41</td><td>2015-07-25</td><td>10610</td><td>9</td></tr><tr><td>41</td><td>2015-08-14</td><td>10631</td><td>10</td></tr><tr><td>41</td><td>2015-12-19</td><td>10787</td><td>11</td></tr><tr><td>41</td><td>2016-01-14</td><td>10832</td><td>12</td></tr><tr><td>41</td><td>2016-03-03</td><td>10923</td><td>13</td></tr><tr><td>41</td><td>2016-04-27</td><td>11051</td><td>14</td></tr><tr><td>42</td><td>2015-04-03</td><td>10495</td><td>1</td></tr><tr><td>42</td><td>2015-08-05</td><td>10620</td><td>2</td></tr><tr><td>42</td><td>2016-01-01</td><td>10810</td><td>3</td></tr><tr><td>43</td><td>2015-03-21</td><td>10482</td><td>1</td></tr><tr><td>43</td><td>2015-05-22</td><td>10545</td><td>2</td></tr><tr><td>44</td><td>2014-08-13</td><td>10279</td><td>1</td></tr><tr><td>44</td><td>2014-08-19</td><td>10284</td><td>2</td></tr><tr><td>44</td><td>2014-10-31</td><td>10343</td><td>3</td></tr><tr><td>44</td><td>2015-04-04</td><td>10497</td><td>4</td></tr><tr><td>44</td><td>2015-04-30</td><td>10522</td><td>5</td></tr><tr><td>44</td><td>2015-05-12</td><td>10534</td><td>6</td></tr><tr><td>44</td><td>2015-05-14</td><td>10536</td><td>7</td></tr><tr><td>44</td><td>2015-06-03</td><td>10557</td><td>8</td></tr><tr><td>44</td><td>2015-07-08</td><td>10592</td><td>9</td></tr><tr><td>44</td><td>2015-07-09</td><td>10593</td><td>10</td></tr><tr><td>44</td><td>2015-12-10</td><td>10772</td><td>11</td></tr><tr><td>44</td><td>2016-01-30</td><td>10862</td><td>12</td></tr><tr><td>44</td><td>2016-02-17</td><td>10891</td><td>13</td></tr><tr><td>44</td><td>2016-03-09</td><td>10934</td><td>14</td></tr><tr><td>44</td><td>2016-05-05</td><td>11070</td><td>15</td></tr><tr><td>45</td><td>2015-06-25</td><td>10579</td><td>1</td></tr><tr><td>45</td><td>2015-10-27</td><td>10719</td><td>2</td></tr><tr><td>45</td><td>2015-11-10</td><td>10735</td><td>3</td></tr><tr><td>45</td><td>2016-02-12</td><td>10884</td><td>4</td></tr><tr><td>46</td><td>2014-08-16</td><td>10283</td><td>1</td></tr><tr><td>46</td><td>2014-09-03</td><td>10296</td><td>2</td></tr><tr><td>46</td><td>2014-10-16</td><td>10330</td><td>3</td></tr><tr><td>46</td><td>2014-11-19</td><td>10357</td><td>4</td></tr><tr><td>46</td><td>2014-12-12</td><td>10381</td><td>5</td></tr><tr><td>46</td><td>2015-02-28</td><td>10461</td><td>6</td></tr><tr><td>46</td><td>2015-04-08</td><td>10499</td><td>7</td></tr><tr><td>46</td><td>2015-05-21</td><td>10543</td><td>8</td></tr><tr><td>46</td><td>2015-12-16</td><td>10780</td><td>9</td></tr><tr><td>46</td><td>2016-01-09</td><td>10823</td><td>10</td></tr><tr><td>46</td><td>2016-02-20</td><td>10899</td><td>11</td></tr><tr><td>46</td><td>2016-04-03</td><td>10997</td><td>12</td></tr><tr><td>46</td><td>2016-05-01</td><td>11065</td><td>13</td></tr><tr><td>46</td><td>2016-05-05</td><td>11071</td><td>14</td></tr><tr><td>47</td><td>2015-01-06</td><td>10405</td><td>1</td></tr><tr><td>47</td><td>2015-03-25</td><td>10485</td><td>2</td></tr><tr><td>47</td><td>2015-08-20</td><td>10638</td><td>3</td></tr><tr><td>47</td><td>2015-10-08</td><td>10697</td><td>4</td></tr><tr><td>47</td><td>2015-11-04</td><td>10729</td><td>5</td></tr><tr><td>47</td><td>2016-01-02</td><td>10811</td><td>6</td></tr><tr><td>47</td><td>2016-01-19</td><td>10838</td><td>7</td></tr><tr><td>47</td><td>2016-01-19</td><td>10840</td><td>8</td></tr><tr><td>47</td><td>2016-03-02</td><td>10919</td><td>9</td></tr><tr><td>47</td><td>2016-03-17</td><td>10954</td><td>10</td></tr><tr><td>47</td><td>2016-04-10</td><td>11014</td><td>11</td></tr><tr><td>47</td><td>2016-04-21</td><td>11039</td><td>12</td></tr><tr><td>48</td><td>2014-09-17</td><td>10307</td><td>1</td></tr><tr><td>48</td><td>2014-09-30</td><td>10317</td><td>2</td></tr><tr><td>48</td><td>2015-05-21</td><td>10544</td><td>3</td></tr><tr><td>48</td><td>2015-09-09</td><td>10662</td><td>4</td></tr><tr><td>48</td><td>2015-09-11</td><td>10665</td><td>5</td></tr><tr><td>48</td><td>2016-02-03</td><td>10867</td><td>6</td></tr><tr><td>48</td><td>2016-02-12</td><td>10883</td><td>7</td></tr><tr><td>48</td><td>2016-04-13</td><td>11018</td><td>8</td></tr><tr><td>49</td><td>2014-08-07</td><td>10275</td><td>1</td></tr><tr><td>49</td><td>2014-09-09</td><td>10300</td><td>2</td></tr><tr><td>49</td><td>2015-01-03</td><td>10404</td><td>3</td></tr><tr><td>49</td><td>2015-03-06</td><td>10467</td><td>4</td></tr><tr><td>49</td><td>2015-08-18</td><td>10635</td><td>5</td></tr><tr><td>49</td><td>2015-11-25</td><td>10754</td><td>6</td></tr><tr><td>49</td><td>2015-12-18</td><td>10784</td><td>7</td></tr><tr><td>49</td><td>2016-01-07</td><td>10818</td><td>8</td></tr><tr><td>49</td><td>2016-03-10</td><td>10939</td><td>9</td></tr><tr><td>49</td><td>2016-03-16</td><td>10950</td><td>10</td></tr><tr><td>50</td><td>2015-05-07</td><td>10529</td><td>1</td></tr><tr><td>50</td><td>2015-08-28</td><td>10649</td><td>2</td></tr><tr><td>50</td><td>2015-12-01</td><td>10760</td><td>3</td></tr><tr><td>50</td><td>2016-02-17</td><td>10892</td><td>4</td></tr><tr><td>50</td><td>2016-02-19</td><td>10896</td><td>5</td></tr><tr><td>50</td><td>2016-03-26</td><td>10978</td><td>6</td></tr><tr><td>50</td><td>2016-04-07</td><td>11004</td><td>7</td></tr><tr><td>51</td><td>2014-10-17</td><td>10332</td><td>1</td></tr><tr><td>51</td><td>2014-10-28</td><td>10339</td><td>2</td></tr><tr><td>51</td><td>2014-12-09</td><td>10376</td><td>3</td></tr><tr><td>51</td><td>2015-01-23</td><td>10424</td><td>4</td></tr><tr><td>51</td><td>2015-02-07</td><td>10439</td><td>5</td></tr><tr><td>51</td><td>2015-04-14</td><td>10505</td><td>6</td></tr><tr><td>51</td><td>2015-06-11</td><td>10565</td><td>7</td></tr><tr><td>51</td><td>2015-06-17</td><td>10570</td><td>8</td></tr><tr><td>51</td><td>2015-07-07</td><td>10590</td><td>9</td></tr><tr><td>51</td><td>2015-07-21</td><td>10605</td><td>10</td></tr><tr><td>51</td><td>2015-08-01</td><td>10618</td><td>11</td></tr><tr><td>51</td><td>2015-08-04</td><td>10619</td><td>12</td></tr><tr><td>51</td><td>2015-10-30</td><td>10724</td><td>13</td></tr><tr><td>52</td><td>2014-08-09</td><td>10277</td><td>1</td></tr><tr><td>52</td><td>2015-06-20</td><td>10575</td><td>2</td></tr><tr><td>52</td><td>2015-10-09</td><td>10699</td><td>3</td></tr><tr><td>52</td><td>2015-12-16</td><td>10779</td><td>4</td></tr><tr><td>52</td><td>2016-03-12</td><td>10945</td><td>5</td></tr><tr><td>53</td><td>2015-04-24</td><td>10517</td><td>1</td></tr><tr><td>53</td><td>2015-11-24</td><td>10752</td><td>2</td></tr><tr><td>53</td><td>2016-04-29</td><td>11057</td><td>3</td></tr><tr><td>54</td><td>2015-01-09</td><td>10409</td><td>1</td></tr><tr><td>54</td><td>2015-05-08</td><td>10531</td><td>2</td></tr><tr><td>54</td><td>2016-02-20</td><td>10898</td><td>3</td></tr><tr><td>54</td><td>2016-03-18</td><td>10958</td><td>4</td></tr><tr><td>54</td><td>2016-03-30</td><td>10986</td><td>5</td></tr><tr><td>55</td><td>2014-09-13</td><td>10305</td><td>1</td></tr><tr><td>55</td><td>2014-10-25</td><td>10338</td><td>2</td></tr><tr><td>55</td><td>2015-02-10</td><td>10441</td><td>3</td></tr><tr><td>55</td><td>2015-07-09</td><td>10594</td><td>4</td></tr><tr><td>55</td><td>2015-09-24</td><td>10680</td><td>5</td></tr><tr><td>55</td><td>2015-10-16</td><td>10706</td><td>6</td></tr><tr><td>55</td><td>2016-01-01</td><td>10808</td><td>7</td></tr><tr><td>55</td><td>2016-01-27</td><td>10855</td><td>8</td></tr><tr><td>55</td><td>2016-03-20</td><td>10965</td><td>9</td></tr><tr><td>55</td><td>2016-04-20</td><td>11034</td><td>10</td></tr><tr><td>56</td><td>2014-07-19</td><td>10260</td><td>1</td></tr><tr><td>56</td><td>2015-01-07</td><td>10407</td><td>2</td></tr><tr><td>56</td><td>2015-04-16</td><td>10508</td><td>3</td></tr><tr><td>56</td><td>2015-05-30</td><td>10554</td><td>4</td></tr><tr><td>56</td><td>2015-06-26</td><td>10580</td><td>5</td></tr><tr><td>56</td><td>2015-09-26</td><td>10684</td><td>6</td></tr><tr><td>56</td><td>2015-12-05</td><td>10766</td><td>7</td></tr><tr><td>56</td><td>2016-01-15</td><td>10833</td><td>8</td></tr><tr><td>56</td><td>2016-04-03</td><td>10999</td><td>9</td></tr><tr><td>56</td><td>2016-04-14</td><td>11020</td><td>10</td></tr><tr><td>58</td><td>2014-10-04</td><td>10322</td><td>1</td></tr><tr><td>58</td><td>2014-11-14</td><td>10354</td><td>2</td></tr><tr><td>58</td><td>2015-03-13</td><td>10474</td><td>3</td></tr><tr><td>58</td><td>2015-04-10</td><td>10502</td><td>4</td></tr><tr><td>58</td><td>2016-04-02</td><td>10995</td><td>5</td></tr><tr><td>58</td><td>2016-05-05</td><td>11073</td><td>6</td></tr><tr><td>59</td><td>2014-11-13</td><td>10353</td><td>1</td></tr><tr><td>59</td><td>2014-12-24</td><td>10392</td><td>2</td></tr><tr><td>59</td><td>2015-01-27</td><td>10427</td><td>3</td></tr><tr><td>59</td><td>2015-03-28</td><td>10489</td><td>4</td></tr><tr><td>59</td><td>2015-05-08</td><td>10530</td><td>5</td></tr><tr><td>59</td><td>2015-07-11</td><td>10597</td><td>6</td></tr><tr><td>59</td><td>2015-09-30</td><td>10686</td><td>7</td></tr><tr><td>59</td><td>2015-11-19</td><td>10747</td><td>8</td></tr><tr><td>59</td><td>2016-01-21</td><td>10844</td><td>9</td></tr><tr><td>59</td><td>2016-04-27</td><td>11053</td><td>10</td></tr><tr><td>60</td><td>2014-10-23</td><td>10336</td><td>1</td></tr><tr><td>60</td><td>2014-12-27</td><td>10397</td><td>2</td></tr><tr><td>60</td><td>2015-02-03</td><td>10433</td><td>3</td></tr><tr><td>60</td><td>2015-03-17</td><td>10477</td><td>4</td></tr><tr><td>60</td><td>2016-04-08</td><td>11007</td><td>5</td></tr><tr><td>61</td><td>2014-07-19</td><td>10261</td><td>1</td></tr><tr><td>61</td><td>2014-08-27</td><td>10291</td><td>2</td></tr><tr><td>61</td><td>2014-12-11</td><td>10379</td><td>3</td></tr><tr><td>61</td><td>2015-01-21</td><td>10421</td><td>4</td></tr><tr><td>61</td><td>2015-07-02</td><td>10587</td><td>5</td></tr><tr><td>61</td><td>2015-08-27</td><td>10647</td><td>6</td></tr><tr><td>61</td><td>2015-10-28</td><td>10720</td><td>7</td></tr><tr><td>61</td><td>2015-12-24</td><td>10794</td><td>8</td></tr><tr><td>61</td><td>2016-03-31</td><td>10989</td><td>9</td></tr><tr><td>62</td><td>2014-12-04</td><td>10372</td><td>1</td></tr><tr><td>62</td><td>2015-01-07</td><td>10406</td><td>2</td></tr><tr><td>62</td><td>2015-03-26</td><td>10487</td><td>3</td></tr><tr><td>62</td><td>2015-08-19</td><td>10637</td><td>4</td></tr><tr><td>62</td><td>2015-09-05</td><td>10659</td><td>5</td></tr><tr><td>62</td><td>2015-10-14</td><td>10704</td><td>6</td></tr><tr><td>62</td><td>2015-11-04</td><td>10728</td><td>7</td></tr><tr><td>62</td><td>2015-12-19</td><td>10786</td><td>8</td></tr><tr><td>62</td><td>2016-02-04</td><td>10868</td><td>9</td></tr><tr><td>62</td><td>2016-02-26</td><td>10913</td><td>10</td></tr><tr><td>62</td><td>2016-02-27</td><td>10914</td><td>11</td></tr><tr><td>62</td><td>2016-03-19</td><td>10961</td><td>12</td></tr><tr><td>62</td><td>2016-05-04</td><td>11068</td><td>13</td></tr><tr><td>63</td><td>2014-08-05</td><td>10273</td><td>1</td></tr><tr><td>63</td><td>2014-08-20</td><td>10285</td><td>2</td></tr><tr><td>63</td><td>2014-08-21</td><td>10286</td><td>3</td></tr><tr><td>63</td><td>2014-09-24</td><td>10313</td><td>4</td></tr><tr><td>63</td><td>2014-11-04</td><td>10345</td><td>5</td></tr><tr><td>63</td><td>2014-11-22</td><td>10361</td><td>6</td></tr><tr><td>63</td><td>2015-01-17</td><td>10418</td><td>7</td></tr><tr><td>63</td><td>2015-02-19</td><td>10451</td><td>8</td></tr><tr><td>63</td><td>2015-04-23</td><td>10515</td><td>9</td></tr><tr><td>63</td><td>2015-05-05</td><td>10527</td><td>10</td></tr><tr><td>63</td><td>2015-05-19</td><td>10540</td><td>11</td></tr><tr><td>63</td><td>2015-05-27</td><td>10549</td><td>12</td></tr><tr><td>63</td><td>2015-07-03</td><td>10588</td><td>13</td></tr><tr><td>63</td><td>2015-09-05</td><td>10658</td><td>14</td></tr><tr><td>63</td><td>2015-10-03</td><td>10691</td><td>15</td></tr><tr><td>63</td><td>2015-10-06</td><td>10694</td><td>16</td></tr><tr><td>63</td><td>2015-10-29</td><td>10721</td><td>17</td></tr><tr><td>63</td><td>2015-11-18</td><td>10745</td><td>18</td></tr><tr><td>63</td><td>2015-12-04</td><td>10765</td><td>19</td></tr><tr><td>63</td><td>2015-12-22</td><td>10788</td><td>20</td></tr><tr><td>63</td><td>2016-01-21</td><td>10845</td><td>21</td></tr><tr><td>63</td><td>2016-02-02</td><td>10865</td><td>22</td></tr><tr><td>63</td><td>2016-02-10</td><td>10878</td><td>23</td></tr><tr><td>63</td><td>2016-03-10</td><td>10938</td><td>24</td></tr><tr><td>63</td><td>2016-03-19</td><td>10962</td><td>25</td></tr><tr><td>63</td><td>2016-04-01</td><td>10991</td><td>26</td></tr><tr><td>63</td><td>2016-04-02</td><td>10996</td><td>27</td></tr><tr><td>63</td><td>2016-04-14</td><td>11021</td><td>28</td></tr><tr><td>64</td><td>2015-02-17</td><td>10448</td><td>1</td></tr><tr><td>64</td><td>2015-10-24</td><td>10716</td><td>2</td></tr><tr><td>64</td><td>2016-01-13</td><td>10828</td><td>3</td></tr><tr><td>64</td><td>2016-02-27</td><td>10916</td><td>4</td></tr><tr><td>64</td><td>2016-04-13</td><td>11019</td><td>5</td></tr><tr><td>65</td><td>2014-07-22</td><td>10262</td><td>1</td></tr><tr><td>65</td><td>2014-08-02</td><td>10272</td><td>2</td></tr><tr><td>65</td><td>2014-08-30</td><td>10294</td><td>3</td></tr><tr><td>65</td><td>2014-09-25</td><td>10314</td><td>4</td></tr><tr><td>65</td><td>2014-09-27</td><td>10316</td><td>5</td></tr><tr><td>65</td><td>2014-11-05</td><td>10346</td><td>6</td></tr><tr><td>65</td><td>2015-01-01</td><td>10401</td><td>7</td></tr><tr><td>65</td><td>2015-03-19</td><td>10479</td><td>8</td></tr><tr><td>65</td><td>2015-06-10</td><td>10564</td><td>9</td></tr><tr><td>65</td><td>2015-06-16</td><td>10569</td><td>10</td></tr><tr><td>65</td><td>2015-07-14</td><td>10598</td><td>11</td></tr><tr><td>65</td><td>2015-12-02</td><td>10761</td><td>12</td></tr><tr><td>65</td><td>2016-01-07</td><td>10820</td><td>13</td></tr><tr><td>65</td><td>2016-01-26</td><td>10852</td><td>14</td></tr><tr><td>65</td><td>2016-02-16</td><td>10889</td><td>15</td></tr><tr><td>65</td><td>2016-03-31</td><td>10988</td><td>16</td></tr><tr><td>65</td><td>2016-04-06</td><td>11000</td><td>17</td></tr><tr><td>65</td><td>2016-05-06</td><td>11077</td><td>18</td></tr><tr><td>66</td><td>2014-08-23</td><td>10288</td><td>1</td></tr><tr><td>66</td><td>2015-01-28</td><td>10428</td><td>2</td></tr><tr><td>66</td><td>2015-02-12</td><td>10443</td><td>3</td></tr><tr><td>66</td><td>2015-06-09</td><td>10562</td><td>4</td></tr><tr><td>66</td><td>2015-07-02</td><td>10586</td><td>5</td></tr><tr><td>66</td><td>2015-09-03</td><td>10655</td><td>6</td></tr><tr><td>66</td><td>2015-11-03</td><td>10727</td><td>7</td></tr><tr><td>66</td><td>2016-01-02</td><td>10812</td><td>8</td></tr><tr><td>66</td><td>2016-02-26</td><td>10908</td><td>9</td></tr><tr><td>66</td><td>2016-03-11</td><td>10942</td><td>10</td></tr><tr><td>66</td><td>2016-04-09</td><td>11010</td><td>11</td></tr><tr><td>66</td><td>2016-04-30</td><td>11062</td><td>12</td></tr><tr><td>67</td><td>2014-08-22</td><td>10287</td><td>1</td></tr><tr><td>67</td><td>2014-09-06</td><td>10299</td><td>2</td></tr><tr><td>67</td><td>2015-02-14</td><td>10447</td><td>3</td></tr><tr><td>67</td><td>2015-03-20</td><td>10481</td><td>4</td></tr><tr><td>67</td><td>2015-06-10</td><td>10563</td><td>5</td></tr><tr><td>67</td><td>2015-08-06</td><td>10622</td><td>6</td></tr><tr><td>67</td><td>2015-08-28</td><td>10648</td><td>7</td></tr><tr><td>67</td><td>2016-01-05</td><td>10813</td><td>8</td></tr><tr><td>67</td><td>2016-01-26</td><td>10851</td><td>9</td></tr><tr><td>67</td><td>2016-02-09</td><td>10877</td><td>10</td></tr><tr><td>67</td><td>2016-04-29</td><td>11059</td><td>11</td></tr><tr><td>68</td><td>2014-07-12</td><td>10255</td><td>1</td></tr><tr><td>68</td><td>2015-01-20</td><td>10419</td><td>2</td></tr><tr><td>68</td><td>2015-05-14</td><td>10537</td><td>3</td></tr><tr><td>68</td><td>2015-09-12</td><td>10666</td><td>4</td></tr><tr><td>68</td><td>2015-11-24</td><td>10751</td><td>5</td></tr><tr><td>68</td><td>2015-11-28</td><td>10758</td><td>6</td></tr><tr><td>68</td><td>2016-03-06</td><td>10931</td><td>7</td></tr><tr><td>68</td><td>2016-03-16</td><td>10951</td><td>8</td></tr><tr><td>68</td><td>2016-04-17</td><td>11033</td><td>9</td></tr><tr><td>68</td><td>2016-05-06</td><td>11075</td><td>10</td></tr><tr><td>69</td><td>2014-08-14</td><td>10281</td><td>1</td></tr><tr><td>69</td><td>2014-08-15</td><td>10282</td><td>2</td></tr><tr><td>69</td><td>2014-09-16</td><td>10306</td><td>3</td></tr><tr><td>69</td><td>2016-03-02</td><td>10917</td><td>4</td></tr><tr><td>69</td><td>2016-04-09</td><td>11013</td><td>5</td></tr><tr><td>70</td><td>2014-12-18</td><td>10387</td><td>1</td></tr><tr><td>70</td><td>2015-04-29</td><td>10520</td><td>2</td></tr><tr><td>70</td><td>2015-08-20</td><td>10639</td><td>3</td></tr><tr><td>70</td><td>2016-01-14</td><td>10831</td><td>4</td></tr><tr><td>70</td><td>2016-02-26</td><td>10909</td><td>5</td></tr><tr><td>70</td><td>2016-04-10</td><td>11015</td><td>6</td></tr><tr><td>71</td><td>2014-10-08</td><td>10324</td><td>1</td></tr><tr><td>71</td><td>2014-12-25</td><td>10393</td><td>2</td></tr><tr><td>71</td><td>2014-12-30</td><td>10398</td><td>3</td></tr><tr><td>71</td><td>2015-02-10</td><td>10440</td><td>4</td></tr><tr><td>71</td><td>2015-02-20</td><td>10452</td><td>5</td></tr><tr><td>71</td><td>2015-04-18</td><td>10510</td><td>6</td></tr><tr><td>71</td><td>2015-06-02</td><td>10555</td><td>7</td></tr><tr><td>71</td><td>2015-07-18</td><td>10603</td><td>8</td></tr><tr><td>71</td><td>2015-07-22</td><td>10607</td><td>9</td></tr><tr><td>71</td><td>2015-07-28</td><td>10612</td><td>10</td></tr><tr><td>71</td><td>2015-08-11</td><td>10627</td><td>11</td></tr><tr><td>71</td><td>2015-09-04</td><td>10657</td><td>12</td></tr><tr><td>71</td><td>2015-09-23</td><td>10678</td><td>13</td></tr><tr><td>71</td><td>2015-10-10</td><td>10700</td><td>14</td></tr><tr><td>71</td><td>2015-10-21</td><td>10711</td><td>15</td></tr><tr><td>71</td><td>2015-10-22</td><td>10713</td><td>16</td></tr><tr><td>71</td><td>2015-10-22</td><td>10714</td><td>17</td></tr><tr><td>71</td><td>2015-10-29</td><td>10722</td><td>18</td></tr><tr><td>71</td><td>2015-11-20</td><td>10748</td><td>19</td></tr><tr><td>71</td><td>2015-11-27</td><td>10757</td><td>20</td></tr><tr><td>71</td><td>2016-01-05</td><td>10815</td><td>21</td></tr><tr><td>71</td><td>2016-01-22</td><td>10847</td><td>22</td></tr><tr><td>71</td><td>2016-02-11</td><td>10882</td><td>23</td></tr><tr><td>71</td><td>2016-02-18</td><td>10894</td><td>24</td></tr><tr><td>71</td><td>2016-03-11</td><td>10941</td><td>25</td></tr><tr><td>71</td><td>2016-03-27</td><td>10983</td><td>26</td></tr><tr><td>71</td><td>2016-03-30</td><td>10984</td><td>27</td></tr><tr><td>71</td><td>2016-04-06</td><td>11002</td><td>28</td></tr><tr><td>71</td><td>2016-04-17</td><td>11030</td><td>29</td></tr><tr><td>71</td><td>2016-04-17</td><td>11031</td><td>30</td></tr><tr><td>71</td><td>2016-05-01</td><td>11064</td><td>31</td></tr><tr><td>72</td><td>2014-11-21</td><td>10359</td><td>1</td></tr><tr><td>72</td><td>2014-12-09</td><td>10377</td><td>2</td></tr><tr><td>72</td><td>2014-12-19</td><td>10388</td><td>3</td></tr><tr><td>72</td><td>2015-03-12</td><td>10472</td><td>4</td></tr><tr><td>72</td><td>2015-05-01</td><td>10523</td><td>5</td></tr><tr><td>72</td><td>2015-05-23</td><td>10547</td><td>6</td></tr><tr><td>72</td><td>2015-12-26</td><td>10800</td><td>7</td></tr><tr><td>72</td><td>2015-12-30</td><td>10804</td><td>8</td></tr><tr><td>72</td><td>2016-02-04</td><td>10869</td><td>9</td></tr><tr><td>73</td><td>2014-10-29</td><td>10341</td><td>1</td></tr><tr><td>73</td><td>2015-01-16</td><td>10417</td><td>2</td></tr><tr><td>73</td><td>2015-06-03</td><td>10556</td><td>3</td></tr><tr><td>73</td><td>2015-08-22</td><td>10642</td><td>4</td></tr><tr><td>73</td><td>2015-09-15</td><td>10669</td><td>5</td></tr><tr><td>73</td><td>2015-12-29</td><td>10802</td><td>6</td></tr><tr><td>73</td><td>2016-05-06</td><td>11074</td><td>7</td></tr><tr><td>74</td><td>2015-11-12</td><td>10738</td><td>1</td></tr><tr><td>74</td><td>2016-02-25</td><td>10907</td><td>2</td></tr><tr><td>74</td><td>2016-03-20</td><td>10964</td><td>3</td></tr><tr><td>74</td><td>2016-04-22</td><td>11043</td><td>4</td></tr><tr><td>75</td><td>2014-08-01</td><td>10271</td><td>1</td></tr><tr><td>75</td><td>2014-10-15</td><td>10329</td><td>2</td></tr><tr><td>75</td><td>2014-11-08</td><td>10349</td><td>3</td></tr><tr><td>75</td><td>2014-12-02</td><td>10369</td><td>4</td></tr><tr><td>75</td><td>2014-12-17</td><td>10385</td><td>5</td></tr><tr><td>75</td><td>2015-01-31</td><td>10432</td><td>6</td></tr><tr><td>75</td><td>2015-11-27</td><td>10756</td><td>7</td></tr><tr><td>75</td><td>2016-01-08</td><td>10821</td><td>8</td></tr><tr><td>75</td><td>2016-03-25</td><td>10974</td><td>9</td></tr><tr><td>76</td><td>2014-07-09</td><td>10252</td><td>1</td></tr><tr><td>76</td><td>2014-09-10</td><td>10302</td><td>2</td></tr><tr><td>76</td><td>2015-02-26</td><td>10458</td><td>3</td></tr><tr><td>76</td><td>2015-03-04</td><td>10463</td><td>4</td></tr><tr><td>76</td><td>2015-03-14</td><td>10475</td><td>5</td></tr><tr><td>76</td><td>2015-12-05</td><td>10767</td><td>6</td></tr><tr><td>76</td><td>2016-01-20</td><td>10841</td><td>7</td></tr><tr><td>76</td><td>2016-01-22</td><td>10846</td><td>8</td></tr><tr><td>76</td><td>2016-02-12</td><td>10885</td><td>9</td></tr><tr><td>76</td><td>2016-03-06</td><td>10930</td><td>10</td></tr><tr><td>76</td><td>2016-04-20</td><td>11035</td><td>11</td></tr><tr><td>76</td><td>2016-04-21</td><td>11038</td><td>12</td></tr><tr><td>77</td><td>2014-09-20</td><td>10310</td><td>1</td></tr><tr><td>77</td><td>2015-10-17</td><td>10708</td><td>2</td></tr><tr><td>77</td><td>2015-12-30</td><td>10805</td><td>3</td></tr><tr><td>77</td><td>2016-04-01</td><td>10992</td><td>4</td></tr><tr><td>78</td><td>2015-08-07</td><td>10624</td><td>1</td></tr><tr><td>78</td><td>2015-12-12</td><td>10775</td><td>2</td></tr><tr><td>78</td><td>2016-04-06</td><td>11003</td><td>3</td></tr><tr><td>79</td><td>2014-07-05</td><td>10249</td><td>1</td></tr><tr><td>79</td><td>2015-02-06</td><td>10438</td><td>2</td></tr><tr><td>79</td><td>2015-02-14</td><td>10446</td><td>3</td></tr><tr><td>79</td><td>2015-05-26</td><td>10548</td><td>4</td></tr><tr><td>79</td><td>2015-07-23</td><td>10608</td><td>5</td></tr><tr><td>79</td><td>2016-03-23</td><td>10967</td><td>6</td></tr><tr><td>80</td><td>2014-08-08</td><td>10276</td><td>1</td></tr><tr><td>80</td><td>2014-08-29</td><td>10293</td><td>2</td></tr><tr><td>80</td><td>2014-09-12</td><td>10304</td><td>3</td></tr><tr><td>80</td><td>2014-10-02</td><td>10319</td><td>4</td></tr><tr><td>80</td><td>2015-04-25</td><td>10518</td><td>5</td></tr><tr><td>80</td><td>2015-06-23</td><td>10576</td><td>6</td></tr><tr><td>80</td><td>2015-09-22</td><td>10676</td><td>7</td></tr><tr><td>80</td><td>2016-01-20</td><td>10842</td><td>8</td></tr><tr><td>80</td><td>2016-02-27</td><td>10915</td><td>9</td></tr><tr><td>80</td><td>2016-05-04</td><td>11069</td><td>10</td></tr><tr><td>81</td><td>2014-08-28</td><td>10292</td><td>1</td></tr><tr><td>81</td><td>2015-04-04</td><td>10496</td><td>2</td></tr><tr><td>81</td><td>2015-07-22</td><td>10606</td><td>3</td></tr><tr><td>81</td><td>2016-01-13</td><td>10830</td><td>4</td></tr><tr><td>81</td><td>2016-01-15</td><td>10834</td><td>5</td></tr><tr><td>81</td><td>2016-01-19</td><td>10839</td><td>6</td></tr><tr><td>82</td><td>2015-06-19</td><td>10574</td><td>1</td></tr><tr><td>82</td><td>2015-06-23</td><td>10577</td><td>2</td></tr><tr><td>82</td><td>2016-01-08</td><td>10822</td><td>3</td></tr><tr><td>83</td><td>2014-11-28</td><td>10367</td><td>1</td></tr><tr><td>83</td><td>2014-12-31</td><td>10399</td><td>2</td></tr><tr><td>83</td><td>2015-03-05</td><td>10465</td><td>3</td></tr><tr><td>83</td><td>2015-07-07</td><td>10591</td><td>4</td></tr><tr><td>83</td><td>2015-07-17</td><td>10602</td><td>5</td></tr><tr><td>83</td><td>2015-10-01</td><td>10688</td><td>6</td></tr><tr><td>83</td><td>2015-11-17</td><td>10744</td><td>7</td></tr><tr><td>83</td><td>2015-12-08</td><td>10769</td><td>8</td></tr><tr><td>83</td><td>2016-03-03</td><td>10921</td><td>9</td></tr><tr><td>83</td><td>2016-03-12</td><td>10946</td><td>10</td></tr><tr><td>83</td><td>2016-04-02</td><td>10994</td><td>11</td></tr><tr><td>84</td><td>2014-07-08</td><td>10251</td><td>1</td></tr><tr><td>84</td><td>2014-10-21</td><td>10334</td><td>2</td></tr><tr><td>84</td><td>2015-02-19</td><td>10450</td><td>3</td></tr><tr><td>84</td><td>2015-02-27</td><td>10459</td><td>4</td></tr><tr><td>84</td><td>2015-03-18</td><td>10478</td><td>5</td></tr><tr><td>84</td><td>2015-05-23</td><td>10546</td><td>6</td></tr><tr><td>84</td><td>2015-12-31</td><td>10806</td><td>7</td></tr><tr><td>84</td><td>2016-01-05</td><td>10814</td><td>8</td></tr><tr><td>84</td><td>2016-01-21</td><td>10843</td><td>9</td></tr><tr><td>84</td><td>2016-01-23</td><td>10850</td><td>10</td></tr><tr><td>85</td><td>2014-07-04</td><td>10248</td><td>1</td></tr><tr><td>85</td><td>2014-08-06</td><td>10274</td><td>2</td></tr><tr><td>85</td><td>2014-09-02</td><td>10295</td><td>3</td></tr><tr><td>85</td><td>2015-11-11</td><td>10737</td><td>4</td></tr><tr><td>85</td><td>2015-11-12</td><td>10739</td><td>5</td></tr><tr><td>86</td><td>2014-09-09</td><td>10301</td><td>1</td></tr><tr><td>86</td><td>2014-09-23</td><td>10312</td><td>2</td></tr><tr><td>86</td><td>2014-11-07</td><td>10348</td><td>3</td></tr><tr><td>86</td><td>2014-11-18</td><td>10356</td><td>4</td></tr><tr><td>86</td><td>2015-04-22</td><td>10513</td><td>5</td></tr><tr><td>86</td><td>2015-08-14</td><td>10632</td><td>6</td></tr><tr><td>86</td><td>2015-08-21</td><td>10640</td><td>7</td></tr><tr><td>86</td><td>2015-09-01</td><td>10651</td><td>8</td></tr><tr><td>86</td><td>2015-09-15</td><td>10668</td><td>9</td></tr><tr><td>86</td><td>2016-04-23</td><td>11046</td><td>10</td></tr><tr><td>87</td><td>2014-07-26</td><td>10266</td><td>1</td></tr><tr><td>87</td><td>2014-08-01</td><td>10270</td><td>2</td></tr><tr><td>87</td><td>2014-10-03</td><td>10320</td><td>3</td></tr><tr><td>87</td><td>2014-10-18</td><td>10333</td><td>4</td></tr><tr><td>87</td><td>2015-01-13</td><td>10412</td><td>5</td></tr><tr><td>87</td><td>2015-01-16</td><td>10416</td><td>6</td></tr><tr><td>87</td><td>2015-02-05</td><td>10437</td><td>7</td></tr><tr><td>87</td><td>2015-02-24</td><td>10455</td><td>8</td></tr><tr><td>87</td><td>2015-05-05</td><td>10526</td><td>9</td></tr><tr><td>87</td><td>2015-05-30</td><td>10553</td><td>10</td></tr><tr><td>87</td><td>2015-06-30</td><td>10583</td><td>11</td></tr><tr><td>87</td><td>2015-08-19</td><td>10636</td><td>12</td></tr><tr><td>87</td><td>2015-11-21</td><td>10750</td><td>13</td></tr><tr><td>87</td><td>2015-12-17</td><td>10781</td><td>14</td></tr><tr><td>87</td><td>2016-04-15</td><td>11025</td><td>15</td></tr><tr><td>88</td><td>2014-07-15</td><td>10256</td><td>1</td></tr><tr><td>88</td><td>2015-01-21</td><td>10420</td><td>2</td></tr><tr><td>88</td><td>2015-07-01</td><td>10585</td><td>3</td></tr><tr><td>88</td><td>2015-08-25</td><td>10644</td><td>4</td></tr><tr><td>88</td><td>2015-12-30</td><td>10803</td><td>5</td></tr><tr><td>88</td><td>2016-01-01</td><td>10809</td><td>6</td></tr><tr><td>88</td><td>2016-02-20</td><td>10900</td><td>7</td></tr><tr><td>88</td><td>2016-02-24</td><td>10905</td><td>8</td></tr><tr><td>88</td><td>2016-03-09</td><td>10935</td><td>9</td></tr><tr><td>89</td><td>2014-07-31</td><td>10269</td><td>1</td></tr><tr><td>89</td><td>2014-11-01</td><td>10344</td><td>2</td></tr><tr><td>89</td><td>2015-03-10</td><td>10469</td><td>3</td></tr><tr><td>89</td><td>2015-03-24</td><td>10483</td><td>4</td></tr><tr><td>89</td><td>2015-04-11</td><td>10504</td><td>5</td></tr><tr><td>89</td><td>2015-07-11</td><td>10596</td><td>6</td></tr><tr><td>89</td><td>2015-10-06</td><td>10693</td><td>7</td></tr><tr><td>89</td><td>2015-10-08</td><td>10696</td><td>8</td></tr><tr><td>89</td><td>2015-10-30</td><td>10723</td><td>9</td></tr><tr><td>89</td><td>2015-11-13</td><td>10740</td><td>10</td></tr><tr><td>89</td><td>2016-01-30</td><td>10861</td><td>11</td></tr><tr><td>89</td><td>2016-02-24</td><td>10904</td><td>12</td></tr><tr><td>89</td><td>2016-04-17</td><td>11032</td><td>13</td></tr><tr><td>89</td><td>2016-05-01</td><td>11066</td><td>14</td></tr><tr><td>90</td><td>2015-07-30</td><td>10615</td><td>1</td></tr><tr><td>90</td><td>2015-09-18</td><td>10673</td><td>2</td></tr><tr><td>90</td><td>2015-10-07</td><td>10695</td><td>3</td></tr><tr><td>90</td><td>2016-02-06</td><td>10873</td><td>4</td></tr><tr><td>90</td><td>2016-02-10</td><td>10879</td><td>5</td></tr><tr><td>90</td><td>2016-02-26</td><td>10910</td><td>6</td></tr><tr><td>90</td><td>2016-04-07</td><td>11005</td><td>7</td></tr><tr><td>91</td><td>2014-12-05</td><td>10374</td><td>1</td></tr><tr><td>91</td><td>2015-07-25</td><td>10611</td><td>2</td></tr><tr><td>91</td><td>2015-12-23</td><td>10792</td><td>3</td></tr><tr><td>91</td><td>2016-02-04</td><td>10870</td><td>4</td></tr><tr><td>91</td><td>2016-02-25</td><td>10906</td><td>5</td></tr><tr><td>91</td><td>2016-04-03</td><td>10998</td><td>6</td></tr><tr><td>91</td><td>2016-04-23</td><td>11044</td><td>7</td></tr></table>"
                    },
                    "metadata": {}
                }
            ],
            "execution_count": 29
        },
        {
            "cell_type": "markdown",
            "source": [
                "**QUESTION 9** Using the HR.Employees table, write a SELECT statement that returns for each employee the gender based on the title of courtesy. For ‘Ms.’ and ‘Mrs.’ return ‘Female’; for ‘Mr.’ return ‘Male’; and in all other cases (for example, ‘Dr.‘) return ‘Unknown’:\n",
                "\n",
                "- Tables involved: TSQLV4 database and the HR.Employees table\n",
                "\n",
                "**SOLUTION**\n",
                "\n",
                "- First, the SELECT statement retrieves employee details like employee ID, first name, last name, and title of courtesy.\n",
                "- Second, a CASE statement assigns a gender based on the title of courtesy, categorizing 'Ms.' and 'Mrs.' as 'Female', 'Mr.' as 'Male', and anything else as 'Unknown'.\n",
                "- Third, FROM identifies the TSQLV4.HR.Employees table as the source for this data.\n",
                "- Finally, the query doesn't specify an order, so results are shown as they come from the table, with the added gender information."
            ],
            "metadata": {
                "language": "sql",
                "azdata_cell_guid": "94e98ffa-b2e9-4e78-89e8-11feb2362974"
            },
            "attachments": {}
        },
        {
            "cell_type": "code",
            "source": [
                "SELECT \n",
                "    empid,\n",
                "    firstname,\n",
                "    lastname,\n",
                "    titleofcourtesy,\n",
                "    CASE \n",
                "        WHEN titleofcourtesy IN ('Ms.', 'Mrs.') THEN 'Female'\n",
                "        WHEN titleofcourtesy = 'Mr.' THEN 'Male'\n",
                "        ELSE 'Unknown'\n",
                "    END AS Gender\n",
                "FROM \n",
                "    TSQLV4.HR.Employees; "
            ],
            "metadata": {
                "azdata_cell_guid": "bc40b8d8-df69-41a9-9e39-2091e40ee00c",
                "language": "sql",
                "tags": []
            },
            "outputs": [
                {
                    "output_type": "display_data",
                    "data": {
                        "text/html": "(9 rows affected)"
                    },
                    "metadata": {}
                },
                {
                    "output_type": "display_data",
                    "data": {
                        "text/html": "Total execution time: 00:00:00.051"
                    },
                    "metadata": {}
                },
                {
                    "output_type": "execute_result",
                    "execution_count": 33,
                    "data": {
                        "application/vnd.dataresource+json": {
                            "schema": {
                                "fields": [
                                    {
                                        "name": "empid"
                                    },
                                    {
                                        "name": "firstname"
                                    },
                                    {
                                        "name": "lastname"
                                    },
                                    {
                                        "name": "titleofcourtesy"
                                    },
                                    {
                                        "name": "Gender"
                                    }
                                ]
                            },
                            "data": [
                                {
                                    "empid": "1",
                                    "firstname": "Sara",
                                    "lastname": "Davis",
                                    "titleofcourtesy": "Ms.",
                                    "Gender": "Female"
                                },
                                {
                                    "empid": "2",
                                    "firstname": "Don",
                                    "lastname": "Funk",
                                    "titleofcourtesy": "Dr.",
                                    "Gender": "Unknown"
                                },
                                {
                                    "empid": "3",
                                    "firstname": "Judy",
                                    "lastname": "Lew",
                                    "titleofcourtesy": "Ms.",
                                    "Gender": "Female"
                                },
                                {
                                    "empid": "4",
                                    "firstname": "Yael",
                                    "lastname": "Peled",
                                    "titleofcourtesy": "Mrs.",
                                    "Gender": "Female"
                                },
                                {
                                    "empid": "5",
                                    "firstname": "Sven",
                                    "lastname": "Mortensen",
                                    "titleofcourtesy": "Mr.",
                                    "Gender": "Male"
                                },
                                {
                                    "empid": "6",
                                    "firstname": "Paul",
                                    "lastname": "Suurs",
                                    "titleofcourtesy": "Mr.",
                                    "Gender": "Male"
                                },
                                {
                                    "empid": "7",
                                    "firstname": "Russell",
                                    "lastname": "King",
                                    "titleofcourtesy": "Mr.",
                                    "Gender": "Male"
                                },
                                {
                                    "empid": "8",
                                    "firstname": "Maria",
                                    "lastname": "Cameron",
                                    "titleofcourtesy": "Ms.",
                                    "Gender": "Female"
                                },
                                {
                                    "empid": "9",
                                    "firstname": "Patricia",
                                    "lastname": "Doyle",
                                    "titleofcourtesy": "Ms.",
                                    "Gender": "Female"
                                }
                            ]
                        },
                        "text/html": "<table><tr><th>empid</th><th>firstname</th><th>lastname</th><th>titleofcourtesy</th><th>Gender</th></tr><tr><td>1</td><td>Sara</td><td>Davis</td><td>Ms.</td><td>Female</td></tr><tr><td>2</td><td>Don</td><td>Funk</td><td>Dr.</td><td>Unknown</td></tr><tr><td>3</td><td>Judy</td><td>Lew</td><td>Ms.</td><td>Female</td></tr><tr><td>4</td><td>Yael</td><td>Peled</td><td>Mrs.</td><td>Female</td></tr><tr><td>5</td><td>Sven</td><td>Mortensen</td><td>Mr.</td><td>Male</td></tr><tr><td>6</td><td>Paul</td><td>Suurs</td><td>Mr.</td><td>Male</td></tr><tr><td>7</td><td>Russell</td><td>King</td><td>Mr.</td><td>Male</td></tr><tr><td>8</td><td>Maria</td><td>Cameron</td><td>Ms.</td><td>Female</td></tr><tr><td>9</td><td>Patricia</td><td>Doyle</td><td>Ms.</td><td>Female</td></tr></table>"
                    },
                    "metadata": {}
                }
            ],
            "execution_count": 33
        },
        {
            "cell_type": "markdown",
            "source": [
                "**QUESTION 10**\n",
                "Write a query against the Sales.Customers table that returns for each customer the customer ID and region. Sort the rows in the output by region, having NULLs sort last (after non-NULL values). Note that the default sort behavior for NULLs in T-SQL is to sort first (before non-NULL values):\n",
                "- Tables involved: TSQLV4 database and the Sales.Customers table.\n",
                "\n",
                "\n",
                "**SOLUTION**\n",
                " - The SELECT statement is used to retrieve customer IDs and their corresponding regions from the TSQLV4.Sales.Customers table.\n",
                " - The ORDER BY clause employs a CASE statement to categorize the results into two groups: those with a NULL region and those with a non-NULL region. It assigns a higher sort value to NULL regions, effectively placing them last in the sorted list.\n",
                "- The query efficiently organizes customer data by region, ensuring any entries without a specified region are listed at the end of the output."
            ],
            "metadata": {
                "language": "sql",
                "azdata_cell_guid": "5a2e29c1-7245-4a76-8bd1-2495fa31e3fd"
            },
            "attachments": {}
        },
        {
            "cell_type": "code",
            "source": [
                "SELECT \n",
                "    custid,\n",
                "    region\n",
                "FROM \n",
                "    TSQLV4.Sales.Customers\n",
                "ORDER BY \n",
                "    CASE WHEN region IS NULL THEN 1 ELSE 0 END;\n",
                "    \n",
                ""
            ],
            "metadata": {
                "language": "sql",
                "azdata_cell_guid": "9944c76d-9b59-4584-b707-e771c94fe633"
            },
            "outputs": [
                {
                    "output_type": "display_data",
                    "data": {
                        "text/html": "(91 rows affected)"
                    },
                    "metadata": {}
                },
                {
                    "output_type": "display_data",
                    "data": {
                        "text/html": "Total execution time: 00:00:00.044"
                    },
                    "metadata": {}
                },
                {
                    "output_type": "execute_result",
                    "execution_count": 37,
                    "data": {
                        "application/vnd.dataresource+json": {
                            "schema": {
                                "fields": [
                                    {
                                        "name": "custid"
                                    },
                                    {
                                        "name": "region"
                                    }
                                ]
                            },
                            "data": [
                                {
                                    "custid": "55",
                                    "region": "AK"
                                },
                                {
                                    "custid": "10",
                                    "region": "BC"
                                },
                                {
                                    "custid": "42",
                                    "region": "BC"
                                },
                                {
                                    "custid": "45",
                                    "region": "CA"
                                },
                                {
                                    "custid": "37",
                                    "region": "Co. Cork"
                                },
                                {
                                    "custid": "33",
                                    "region": "DF"
                                },
                                {
                                    "custid": "71",
                                    "region": "ID"
                                },
                                {
                                    "custid": "38",
                                    "region": "Isle of Wight"
                                },
                                {
                                    "custid": "46",
                                    "region": "Lara"
                                },
                                {
                                    "custid": "78",
                                    "region": "MT"
                                },
                                {
                                    "custid": "65",
                                    "region": "NM"
                                },
                                {
                                    "custid": "47",
                                    "region": "Nueva Esparta"
                                },
                                {
                                    "custid": "32",
                                    "region": "OR"
                                },
                                {
                                    "custid": "36",
                                    "region": "OR"
                                },
                                {
                                    "custid": "48",
                                    "region": "OR"
                                },
                                {
                                    "custid": "77",
                                    "region": "OR"
                                },
                                {
                                    "custid": "51",
                                    "region": "Québec"
                                },
                                {
                                    "custid": "34",
                                    "region": "RJ"
                                },
                                {
                                    "custid": "61",
                                    "region": "RJ"
                                },
                                {
                                    "custid": "67",
                                    "region": "RJ"
                                },
                                {
                                    "custid": "15",
                                    "region": "SP"
                                },
                                {
                                    "custid": "21",
                                    "region": "SP"
                                },
                                {
                                    "custid": "31",
                                    "region": "SP"
                                },
                                {
                                    "custid": "62",
                                    "region": "SP"
                                },
                                {
                                    "custid": "81",
                                    "region": "SP"
                                },
                                {
                                    "custid": "88",
                                    "region": "SP"
                                },
                                {
                                    "custid": "35",
                                    "region": "Táchira"
                                },
                                {
                                    "custid": "43",
                                    "region": "WA"
                                },
                                {
                                    "custid": "82",
                                    "region": "WA"
                                },
                                {
                                    "custid": "89",
                                    "region": "WA"
                                },
                                {
                                    "custid": "75",
                                    "region": "WY"
                                },
                                {
                                    "custid": "1",
                                    "region": "NULL"
                                },
                                {
                                    "custid": "2",
                                    "region": "NULL"
                                },
                                {
                                    "custid": "3",
                                    "region": "NULL"
                                },
                                {
                                    "custid": "4",
                                    "region": "NULL"
                                },
                                {
                                    "custid": "5",
                                    "region": "NULL"
                                },
                                {
                                    "custid": "6",
                                    "region": "NULL"
                                },
                                {
                                    "custid": "7",
                                    "region": "NULL"
                                },
                                {
                                    "custid": "8",
                                    "region": "NULL"
                                },
                                {
                                    "custid": "9",
                                    "region": "NULL"
                                },
                                {
                                    "custid": "11",
                                    "region": "NULL"
                                },
                                {
                                    "custid": "12",
                                    "region": "NULL"
                                },
                                {
                                    "custid": "13",
                                    "region": "NULL"
                                },
                                {
                                    "custid": "14",
                                    "region": "NULL"
                                },
                                {
                                    "custid": "16",
                                    "region": "NULL"
                                },
                                {
                                    "custid": "17",
                                    "region": "NULL"
                                },
                                {
                                    "custid": "18",
                                    "region": "NULL"
                                },
                                {
                                    "custid": "19",
                                    "region": "NULL"
                                },
                                {
                                    "custid": "20",
                                    "region": "NULL"
                                },
                                {
                                    "custid": "22",
                                    "region": "NULL"
                                },
                                {
                                    "custid": "23",
                                    "region": "NULL"
                                },
                                {
                                    "custid": "24",
                                    "region": "NULL"
                                },
                                {
                                    "custid": "25",
                                    "region": "NULL"
                                },
                                {
                                    "custid": "26",
                                    "region": "NULL"
                                },
                                {
                                    "custid": "27",
                                    "region": "NULL"
                                },
                                {
                                    "custid": "28",
                                    "region": "NULL"
                                },
                                {
                                    "custid": "29",
                                    "region": "NULL"
                                },
                                {
                                    "custid": "30",
                                    "region": "NULL"
                                },
                                {
                                    "custid": "39",
                                    "region": "NULL"
                                },
                                {
                                    "custid": "40",
                                    "region": "NULL"
                                },
                                {
                                    "custid": "41",
                                    "region": "NULL"
                                },
                                {
                                    "custid": "44",
                                    "region": "NULL"
                                },
                                {
                                    "custid": "49",
                                    "region": "NULL"
                                },
                                {
                                    "custid": "50",
                                    "region": "NULL"
                                },
                                {
                                    "custid": "52",
                                    "region": "NULL"
                                },
                                {
                                    "custid": "53",
                                    "region": "NULL"
                                },
                                {
                                    "custid": "54",
                                    "region": "NULL"
                                },
                                {
                                    "custid": "56",
                                    "region": "NULL"
                                },
                                {
                                    "custid": "57",
                                    "region": "NULL"
                                },
                                {
                                    "custid": "58",
                                    "region": "NULL"
                                },
                                {
                                    "custid": "59",
                                    "region": "NULL"
                                },
                                {
                                    "custid": "60",
                                    "region": "NULL"
                                },
                                {
                                    "custid": "63",
                                    "region": "NULL"
                                },
                                {
                                    "custid": "64",
                                    "region": "NULL"
                                },
                                {
                                    "custid": "66",
                                    "region": "NULL"
                                },
                                {
                                    "custid": "68",
                                    "region": "NULL"
                                },
                                {
                                    "custid": "69",
                                    "region": "NULL"
                                },
                                {
                                    "custid": "70",
                                    "region": "NULL"
                                },
                                {
                                    "custid": "72",
                                    "region": "NULL"
                                },
                                {
                                    "custid": "73",
                                    "region": "NULL"
                                },
                                {
                                    "custid": "74",
                                    "region": "NULL"
                                },
                                {
                                    "custid": "76",
                                    "region": "NULL"
                                },
                                {
                                    "custid": "79",
                                    "region": "NULL"
                                },
                                {
                                    "custid": "80",
                                    "region": "NULL"
                                },
                                {
                                    "custid": "83",
                                    "region": "NULL"
                                },
                                {
                                    "custid": "84",
                                    "region": "NULL"
                                },
                                {
                                    "custid": "85",
                                    "region": "NULL"
                                },
                                {
                                    "custid": "86",
                                    "region": "NULL"
                                },
                                {
                                    "custid": "87",
                                    "region": "NULL"
                                },
                                {
                                    "custid": "90",
                                    "region": "NULL"
                                },
                                {
                                    "custid": "91",
                                    "region": "NULL"
                                }
                            ]
                        },
                        "text/html": "<table><tr><th>custid</th><th>region</th></tr><tr><td>55</td><td>AK</td></tr><tr><td>10</td><td>BC</td></tr><tr><td>42</td><td>BC</td></tr><tr><td>45</td><td>CA</td></tr><tr><td>37</td><td>Co. Cork</td></tr><tr><td>33</td><td>DF</td></tr><tr><td>71</td><td>ID</td></tr><tr><td>38</td><td>Isle of Wight</td></tr><tr><td>46</td><td>Lara</td></tr><tr><td>78</td><td>MT</td></tr><tr><td>65</td><td>NM</td></tr><tr><td>47</td><td>Nueva Esparta</td></tr><tr><td>32</td><td>OR</td></tr><tr><td>36</td><td>OR</td></tr><tr><td>48</td><td>OR</td></tr><tr><td>77</td><td>OR</td></tr><tr><td>51</td><td>Québec</td></tr><tr><td>34</td><td>RJ</td></tr><tr><td>61</td><td>RJ</td></tr><tr><td>67</td><td>RJ</td></tr><tr><td>15</td><td>SP</td></tr><tr><td>21</td><td>SP</td></tr><tr><td>31</td><td>SP</td></tr><tr><td>62</td><td>SP</td></tr><tr><td>81</td><td>SP</td></tr><tr><td>88</td><td>SP</td></tr><tr><td>35</td><td>Táchira</td></tr><tr><td>43</td><td>WA</td></tr><tr><td>82</td><td>WA</td></tr><tr><td>89</td><td>WA</td></tr><tr><td>75</td><td>WY</td></tr><tr><td>1</td><td>NULL</td></tr><tr><td>2</td><td>NULL</td></tr><tr><td>3</td><td>NULL</td></tr><tr><td>4</td><td>NULL</td></tr><tr><td>5</td><td>NULL</td></tr><tr><td>6</td><td>NULL</td></tr><tr><td>7</td><td>NULL</td></tr><tr><td>8</td><td>NULL</td></tr><tr><td>9</td><td>NULL</td></tr><tr><td>11</td><td>NULL</td></tr><tr><td>12</td><td>NULL</td></tr><tr><td>13</td><td>NULL</td></tr><tr><td>14</td><td>NULL</td></tr><tr><td>16</td><td>NULL</td></tr><tr><td>17</td><td>NULL</td></tr><tr><td>18</td><td>NULL</td></tr><tr><td>19</td><td>NULL</td></tr><tr><td>20</td><td>NULL</td></tr><tr><td>22</td><td>NULL</td></tr><tr><td>23</td><td>NULL</td></tr><tr><td>24</td><td>NULL</td></tr><tr><td>25</td><td>NULL</td></tr><tr><td>26</td><td>NULL</td></tr><tr><td>27</td><td>NULL</td></tr><tr><td>28</td><td>NULL</td></tr><tr><td>29</td><td>NULL</td></tr><tr><td>30</td><td>NULL</td></tr><tr><td>39</td><td>NULL</td></tr><tr><td>40</td><td>NULL</td></tr><tr><td>41</td><td>NULL</td></tr><tr><td>44</td><td>NULL</td></tr><tr><td>49</td><td>NULL</td></tr><tr><td>50</td><td>NULL</td></tr><tr><td>52</td><td>NULL</td></tr><tr><td>53</td><td>NULL</td></tr><tr><td>54</td><td>NULL</td></tr><tr><td>56</td><td>NULL</td></tr><tr><td>57</td><td>NULL</td></tr><tr><td>58</td><td>NULL</td></tr><tr><td>59</td><td>NULL</td></tr><tr><td>60</td><td>NULL</td></tr><tr><td>63</td><td>NULL</td></tr><tr><td>64</td><td>NULL</td></tr><tr><td>66</td><td>NULL</td></tr><tr><td>68</td><td>NULL</td></tr><tr><td>69</td><td>NULL</td></tr><tr><td>70</td><td>NULL</td></tr><tr><td>72</td><td>NULL</td></tr><tr><td>73</td><td>NULL</td></tr><tr><td>74</td><td>NULL</td></tr><tr><td>76</td><td>NULL</td></tr><tr><td>79</td><td>NULL</td></tr><tr><td>80</td><td>NULL</td></tr><tr><td>83</td><td>NULL</td></tr><tr><td>84</td><td>NULL</td></tr><tr><td>85</td><td>NULL</td></tr><tr><td>86</td><td>NULL</td></tr><tr><td>87</td><td>NULL</td></tr><tr><td>90</td><td>NULL</td></tr><tr><td>91</td><td>NULL</td></tr></table>"
                    },
                    "metadata": {}
                }
            ],
            "execution_count": 37
        },
        {
            "cell_type": "markdown",
            "source": [
                "**PROPOSITION**\n",
                "\n",
                "I crafted a SQL query targeting the Sales.Customer table to rank our clients from the highest to the lowest based on their order volume. This strategy helps us identify and prioritize our most significant customers, ensuring we know who our top clients are."
            ],
            "metadata": {
                "language": "sql",
                "azdata_cell_guid": "8aa76833-952b-4722-80b9-5ebef87a9e87"
            },
            "attachments": {}
        },
        {
            "cell_type": "code",
            "source": [
                "SELECT \n",
                "    C.CustomerCity, \n",
                "    COUNT(O.OrderId) AS OrderCount\n",
                "FROM \n",
                "    Sales.Customer AS C\n",
                "JOIN \n",
                "    Sales.[Order] AS O ON C.CustomerId = O.CustomerId\n",
                "GROUP BY \n",
                "    C.CustomerCity\n",
                "ORDER BY \n",
                "    OrderCount DESC;\n",
                ""
            ],
            "metadata": {
                "language": "sql",
                "azdata_cell_guid": "46abedd5-a316-4382-b507-1676ceb4cf7c"
            },
            "outputs": [
                {
                    "output_type": "display_data",
                    "data": {
                        "text/html": "(69 rows affected)"
                    },
                    "metadata": {}
                },
                {
                    "output_type": "display_data",
                    "data": {
                        "text/html": "Total execution time: 00:00:00.046"
                    },
                    "metadata": {}
                },
                {
                    "output_type": "execute_result",
                    "execution_count": 46,
                    "data": {
                        "application/vnd.dataresource+json": {
                            "schema": {
                                "fields": [
                                    {
                                        "name": "CustomerCity"
                                    },
                                    {
                                        "name": "OrderCount"
                                    }
                                ]
                            },
                            "data": [
                                {
                                    "CustomerCity": "London",
                                    "OrderCount": "46"
                                },
                                {
                                    "CustomerCity": "Rio de Janeiro",
                                    "OrderCount": "34"
                                },
                                {
                                    "CustomerCity": "Sao Paulo",
                                    "OrderCount": "31"
                                },
                                {
                                    "CustomerCity": "Boise",
                                    "OrderCount": "31"
                                },
                                {
                                    "CustomerCity": "Graz",
                                    "OrderCount": "30"
                                },
                                {
                                    "CustomerCity": "Cunewalde",
                                    "OrderCount": "28"
                                },
                                {
                                    "CustomerCity": "México D.F.",
                                    "OrderCount": "28"
                                },
                                {
                                    "CustomerCity": "Cork",
                                    "OrderCount": "19"
                                },
                                {
                                    "CustomerCity": "Bräcke",
                                    "OrderCount": "19"
                                },
                                {
                                    "CustomerCity": "Albuquerque",
                                    "OrderCount": "18"
                                },
                                {
                                    "CustomerCity": "Luleå",
                                    "OrderCount": "18"
                                },
                                {
                                    "CustomerCity": "San Cristóbal",
                                    "OrderCount": "18"
                                },
                                {
                                    "CustomerCity": "Marseille",
                                    "OrderCount": "17"
                                },
                                {
                                    "CustomerCity": "Buenos Aires",
                                    "OrderCount": "16"
                                },
                                {
                                    "CustomerCity": "Frankfurt a.M.",
                                    "OrderCount": "15"
                                },
                                {
                                    "CustomerCity": "München",
                                    "OrderCount": "15"
                                },
                                {
                                    "CustomerCity": "Oulu",
                                    "OrderCount": "15"
                                },
                                {
                                    "CustomerCity": "Seattle",
                                    "OrderCount": "14"
                                },
                                {
                                    "CustomerCity": "Toulouse",
                                    "OrderCount": "14"
                                },
                                {
                                    "CustomerCity": "Tsawassen",
                                    "OrderCount": "14"
                                },
                                {
                                    "CustomerCity": "Brandenburg",
                                    "OrderCount": "14"
                                },
                                {
                                    "CustomerCity": "Barquisimeto",
                                    "OrderCount": "14"
                                },
                                {
                                    "CustomerCity": "Montréal",
                                    "OrderCount": "13"
                                },
                                {
                                    "CustomerCity": "Lisboa",
                                    "OrderCount": "13"
                                },
                                {
                                    "CustomerCity": "Portland",
                                    "OrderCount": "12"
                                },
                                {
                                    "CustomerCity": "Reggio Emilia",
                                    "OrderCount": "12"
                                },
                                {
                                    "CustomerCity": "Charleroi",
                                    "OrderCount": "12"
                                },
                                {
                                    "CustomerCity": "I. de Margarita",
                                    "OrderCount": "12"
                                },
                                {
                                    "CustomerCity": "Eugene",
                                    "OrderCount": "11"
                                },
                                {
                                    "CustomerCity": "Århus",
                                    "OrderCount": "11"
                                },
                                {
                                    "CustomerCity": "Strasbourg",
                                    "OrderCount": "11"
                                },
                                {
                                    "CustomerCity": "Stuttgart",
                                    "OrderCount": "10"
                                },
                                {
                                    "CustomerCity": "Sevilla",
                                    "OrderCount": "10"
                                },
                                {
                                    "CustomerCity": "Salzburg",
                                    "OrderCount": "10"
                                },
                                {
                                    "CustomerCity": "Lyon",
                                    "OrderCount": "10"
                                },
                                {
                                    "CustomerCity": "Anchorage",
                                    "OrderCount": "10"
                                },
                                {
                                    "CustomerCity": "Bergamo",
                                    "OrderCount": "10"
                                },
                                {
                                    "CustomerCity": "Genève",
                                    "OrderCount": "10"
                                },
                                {
                                    "CustomerCity": "Cowes",
                                    "OrderCount": "10"
                                },
                                {
                                    "CustomerCity": "Köln",
                                    "OrderCount": "10"
                                },
                                {
                                    "CustomerCity": "Lander",
                                    "OrderCount": "9"
                                },
                                {
                                    "CustomerCity": "Campinas",
                                    "OrderCount": "9"
                                },
                                {
                                    "CustomerCity": "Resende",
                                    "OrderCount": "9"
                                },
                                {
                                    "CustomerCity": "Madrid",
                                    "OrderCount": "8"
                                },
                                {
                                    "CustomerCity": "Bern",
                                    "OrderCount": "8"
                                },
                                {
                                    "CustomerCity": "Bruxelles",
                                    "OrderCount": "7"
                                },
                                {
                                    "CustomerCity": "Helsinki",
                                    "OrderCount": "7"
                                },
                                {
                                    "CustomerCity": "Mannheim",
                                    "OrderCount": "7"
                                },
                                {
                                    "CustomerCity": "Kobenhavn",
                                    "OrderCount": "7"
                                },
                                {
                                    "CustomerCity": "Nantes",
                                    "OrderCount": "7"
                                },
                                {
                                    "CustomerCity": "Warszawa",
                                    "OrderCount": "7"
                                },
                                {
                                    "CustomerCity": "Torino",
                                    "OrderCount": "6"
                                },
                                {
                                    "CustomerCity": "Stavern",
                                    "OrderCount": "6"
                                },
                                {
                                    "CustomerCity": "Münster",
                                    "OrderCount": "6"
                                },
                                {
                                    "CustomerCity": "Aachen",
                                    "OrderCount": "6"
                                },
                                {
                                    "CustomerCity": "Berlin",
                                    "OrderCount": "6"
                                },
                                {
                                    "CustomerCity": "Barcelona",
                                    "OrderCount": "5"
                                },
                                {
                                    "CustomerCity": "Leipzig",
                                    "OrderCount": "5"
                                },
                                {
                                    "CustomerCity": "Lille",
                                    "OrderCount": "5"
                                },
                                {
                                    "CustomerCity": "Elgin",
                                    "OrderCount": "5"
                                },
                                {
                                    "CustomerCity": "Reims",
                                    "OrderCount": "5"
                                },
                                {
                                    "CustomerCity": "Paris",
                                    "OrderCount": "4"
                                },
                                {
                                    "CustomerCity": "San Francisco",
                                    "OrderCount": "4"
                                },
                                {
                                    "CustomerCity": "Versailles",
                                    "OrderCount": "4"
                                },
                                {
                                    "CustomerCity": "Vancouver",
                                    "OrderCount": "3"
                                },
                                {
                                    "CustomerCity": "Kirkland",
                                    "OrderCount": "3"
                                },
                                {
                                    "CustomerCity": "Butte",
                                    "OrderCount": "3"
                                },
                                {
                                    "CustomerCity": "Caracas",
                                    "OrderCount": "2"
                                },
                                {
                                    "CustomerCity": "Walla Walla",
                                    "OrderCount": "2"
                                }
                            ]
                        },
                        "text/html": "<table><tr><th>CustomerCity</th><th>OrderCount</th></tr><tr><td>London</td><td>46</td></tr><tr><td>Rio de Janeiro</td><td>34</td></tr><tr><td>Sao Paulo</td><td>31</td></tr><tr><td>Boise</td><td>31</td></tr><tr><td>Graz</td><td>30</td></tr><tr><td>Cunewalde</td><td>28</td></tr><tr><td>México D.F.</td><td>28</td></tr><tr><td>Cork</td><td>19</td></tr><tr><td>Bräcke</td><td>19</td></tr><tr><td>Albuquerque</td><td>18</td></tr><tr><td>Luleå</td><td>18</td></tr><tr><td>San Cristóbal</td><td>18</td></tr><tr><td>Marseille</td><td>17</td></tr><tr><td>Buenos Aires</td><td>16</td></tr><tr><td>Frankfurt a.M.</td><td>15</td></tr><tr><td>München</td><td>15</td></tr><tr><td>Oulu</td><td>15</td></tr><tr><td>Seattle</td><td>14</td></tr><tr><td>Toulouse</td><td>14</td></tr><tr><td>Tsawassen</td><td>14</td></tr><tr><td>Brandenburg</td><td>14</td></tr><tr><td>Barquisimeto</td><td>14</td></tr><tr><td>Montréal</td><td>13</td></tr><tr><td>Lisboa</td><td>13</td></tr><tr><td>Portland</td><td>12</td></tr><tr><td>Reggio Emilia</td><td>12</td></tr><tr><td>Charleroi</td><td>12</td></tr><tr><td>I. de Margarita</td><td>12</td></tr><tr><td>Eugene</td><td>11</td></tr><tr><td>Århus</td><td>11</td></tr><tr><td>Strasbourg</td><td>11</td></tr><tr><td>Stuttgart</td><td>10</td></tr><tr><td>Sevilla</td><td>10</td></tr><tr><td>Salzburg</td><td>10</td></tr><tr><td>Lyon</td><td>10</td></tr><tr><td>Anchorage</td><td>10</td></tr><tr><td>Bergamo</td><td>10</td></tr><tr><td>Genève</td><td>10</td></tr><tr><td>Cowes</td><td>10</td></tr><tr><td>Köln</td><td>10</td></tr><tr><td>Lander</td><td>9</td></tr><tr><td>Campinas</td><td>9</td></tr><tr><td>Resende</td><td>9</td></tr><tr><td>Madrid</td><td>8</td></tr><tr><td>Bern</td><td>8</td></tr><tr><td>Bruxelles</td><td>7</td></tr><tr><td>Helsinki</td><td>7</td></tr><tr><td>Mannheim</td><td>7</td></tr><tr><td>Kobenhavn</td><td>7</td></tr><tr><td>Nantes</td><td>7</td></tr><tr><td>Warszawa</td><td>7</td></tr><tr><td>Torino</td><td>6</td></tr><tr><td>Stavern</td><td>6</td></tr><tr><td>Münster</td><td>6</td></tr><tr><td>Aachen</td><td>6</td></tr><tr><td>Berlin</td><td>6</td></tr><tr><td>Barcelona</td><td>5</td></tr><tr><td>Leipzig</td><td>5</td></tr><tr><td>Lille</td><td>5</td></tr><tr><td>Elgin</td><td>5</td></tr><tr><td>Reims</td><td>5</td></tr><tr><td>Paris</td><td>4</td></tr><tr><td>San Francisco</td><td>4</td></tr><tr><td>Versailles</td><td>4</td></tr><tr><td>Vancouver</td><td>3</td></tr><tr><td>Kirkland</td><td>3</td></tr><tr><td>Butte</td><td>3</td></tr><tr><td>Caracas</td><td>2</td></tr><tr><td>Walla Walla</td><td>2</td></tr></table>"
                    },
                    "metadata": {}
                }
            ],
            "execution_count": 46
        },
        {
            "cell_type": "markdown",
            "source": [
                ""
            ],
            "metadata": {
                "language": "sql",
                "azdata_cell_guid": "e2cf70a9-8ad9-4c67-be33-f80a443e553b"
            }
        }
    ]
}