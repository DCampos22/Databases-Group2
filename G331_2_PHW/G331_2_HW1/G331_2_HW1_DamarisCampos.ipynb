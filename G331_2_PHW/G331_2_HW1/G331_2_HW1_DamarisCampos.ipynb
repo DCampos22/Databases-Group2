{
    "metadata": {
        "kernelspec": {
            "name": "SQL",
            "display_name": "SQL",
            "language": "sql"
        },
        "language_info": {
            "name": "sql",
            "version": ""
        }
    },
    "nbformat_minor": 2,
    "nbformat": 4,
    "cells": [
        {
            "cell_type": "markdown",
            "source": [
                "# **Problem Homework 1**: Exercises 5-7 + Proposition"
            ],
            "metadata": {
                "azdata_cell_guid": "58a3ad49-1e3e-4259-b315-5530e98cfd0f"
            },
            "attachments": {}
        },
        {
            "cell_type": "markdown",
            "source": [
                "<u>Exercise 5:\n",
                "</u>\n",
                "- Write a query against the HR.Employees table that returns employees With a last name that starts with a lower case letter. \n",
                "- Remember that the collation of the sample database is case insensitive (Latin1_General_CI_AS). \n",
                "- For simplicity, you can assume that only English letters are used in the employee last names. Tables involved: Sales.OrderDetails table\n",
                "\n",
                "Desired output:\n",
                "\n",
                "empid       lastname\n",
                "\n",
                "\n",
                "(0 row(s) affected)"
            ],
            "metadata": {
                "azdata_cell_guid": "ff8cd075-1e17-411e-ba1c-fa46cbbe06de",
                "language": ""
            },
            "attachments": {}
        },
        {
            "cell_type": "code",
            "source": [
                "SELECT EmployeeId AS empid, EmployeeLastName AS lastname\r\n",
                "FROM HumanResources.Employee\r\n",
                "WHERE EmployeeLastName COLLATE Latin1_General_CS_AS LIKE N'[abcdefghijklmnopqrstuvwxyz]%';"
            ],
            "metadata": {
                "azdata_cell_guid": "602d6fb9-84e3-4e16-bff0-9e1c4d4d2dc8",
                "language": "sql",
                "tags": []
            },
            "outputs": [
                {
                    "output_type": "display_data",
                    "data": {
                        "text/html": "(0 rows affected)"
                    },
                    "metadata": {}
                },
                {
                    "output_type": "display_data",
                    "data": {
                        "text/html": "Total execution time: 00:00:00.045"
                    },
                    "metadata": {}
                },
                {
                    "output_type": "execute_result",
                    "metadata": {},
                    "execution_count": 1,
                    "data": {
                        "application/vnd.dataresource+json": {
                            "schema": {
                                "fields": [
                                    {
                                        "name": "empid"
                                    },
                                    {
                                        "name": "lastname"
                                    }
                                ]
                            },
                            "data": []
                        },
                        "text/html": [
                            "<table>",
                            "<tr><th>empid</th><th>lastname</th></tr>",
                            "</table>"
                        ]
                    }
                }
            ],
            "execution_count": 1
        },
        {
            "cell_type": "markdown",
            "source": [
                "**Explanation:** <span style=\"color: var(--vscode-foreground);\">The proposition in this query is to get information about employees whose last names start with a lowercase letter.</span>\n",
                "\n",
                "The table contains information about employees, and we are specifically interested in the EmployeeID and LastName columns. The <mark>SELECT</mark> clause specifies the columns to be included in the output. In this case, we select EmployeeID and alias it as empid, and LastName as lastname. <span style=\"color: var(--vscode-foreground);\"><br></span>\n",
                "\n",
                "```\n",
                "SELECT EmployeeId AS empid, EmployeeLastName AS lastname\n",
                "FROM HumanResources.Employees\n",
                "\n",
                "```\n",
                "\n",
                "The <mark>WHERE</mark> clause contains the predicate that defines the condition for filtering rows and ensures that the last names being retrieved have a first character that is a lowercase English letter. To return the lastnames if they the first letter is lowercase, we use _WHERE_ to filter rows looking at the lastnames. We use _COLLATE_ to specify the collation used for comparison and _Latin1\\_General\\_CS\\_AS_ for case-sensitive comparison. Finally, using _LIKE N'\\[abcdefghijklmnopqrstuvwxyz\\]%_ The N indicates that it is a unicode string and in the brackets it specifies first char of lastname must be lowercase with english letters only.\n",
                "\n",
                "```\n",
                "WHERE EmployeeLastName COLLATE Latin1_General_CS_AS LIKE N'[abcdefghijklmnopqrstuvwxyz]%';\n",
                "\n",
                "```"
            ],
            "metadata": {
                "azdata_cell_guid": "d2a20ef4-a0bf-4d46-95bf-6802579773fb"
            },
            "attachments": {}
        },
        {
            "cell_type": "markdown",
            "source": [
                "<u>Exercise 6:</u>\n",
                "\n",
                "Explain the difference between the following two queries\n",
                "\n",
                "<font color=#0317fc> Query 1 <br>\n",
                "    SELECT empid, COUNT(\\*) AS numorders  \n",
                "    FROM Sales.Orders  \n",
                "    WHERE orderdate \\< '20160501'  \n",
                "    GROUP BY empid; </font>\n",
                "\n",
                "Explanation:  \n",
                "The proposition of this query is to calculate the number of orders for each employee in the Sales.Orders table. The table involved is Sales.Orders and the selected columns are empid and COUNT() as numorders. The WHERE clause is the predicate, filtering rows where the orderdate is less than '20160501'. \n",
                "\n",
                "**Difference:** <span style=\"color: var(--vscode-foreground);\">This query filters rows from the Sales.Orders table based on the condition orderdate &lt; '20160501' using the WHERE clause. It then groups the results by empid using GROUP BY, calculating the count of orders for each employee. <span style=\"background-color: yellow;\">This query filters before performing the grouping.</span></span>\n",
                "\n",
                "<font color=#fcca03>Query 2 <br>\n",
                "    SELECT empid, COUNT(\\*) AS numorders  \n",
                "    FROM Sales.Orders  \n",
                "    GROUP BY empid  \n",
                "    HAVING MAX(orderdate) \\< '20160501'; </font>\n",
                "\n",
                "Explanation:  \n",
                "The proposition of this query is calculating the number of orders for each employee in Sales.Orders table. The selected columns are empid and COUNT(\\*) as numorders, same as in Query 1. The HAVING acts as the predicate, filtering the grouped results. It checks that the maximum orderdate for each employee is less than '20160501'.   \n",
                "\n",
                "**Difference:** <span style=\"color: var(--vscode-foreground);\">In contrast to Query 1, Query 2 first groups orders by empid using GROUP BY. The HAVING clause is then used to filter the grouped results based on the maximum orderdate condition 'MAX(orderdate) &lt; '20160501''. <span style=\"background-color: yellow;\">This query filters after performing the grouping.</span></span>"
            ],
            "metadata": {
                "azdata_cell_guid": "6d1e3235-5836-4914-876f-ec4c899f8398"
            },
            "attachments": {}
        },
        {
            "cell_type": "code",
            "source": [
                "-- Testing QUERY 1\r\n",
                "SELECT EmployeeId AS empid, COUNT(*) AS numorders\r\n",
                "FROM Sales.[Order]\r\n",
                "WHERE orderdate < '20160501'\r\n",
                "GROUP BY EmployeeId;"
            ],
            "metadata": {
                "azdata_cell_guid": "2729200f-a8a9-41bb-a436-5cf25fa0ac64",
                "language": "sql",
                "tags": []
            },
            "outputs": [
                {
                    "output_type": "display_data",
                    "data": {
                        "text/html": "(9 rows affected)"
                    },
                    "metadata": {}
                },
                {
                    "output_type": "display_data",
                    "data": {
                        "text/html": "Total execution time: 00:00:00.017"
                    },
                    "metadata": {}
                },
                {
                    "output_type": "execute_result",
                    "execution_count": 2,
                    "data": {
                        "application/vnd.dataresource+json": {
                            "schema": {
                                "fields": [
                                    {
                                        "name": "empid"
                                    },
                                    {
                                        "name": "numorders"
                                    }
                                ]
                            },
                            "data": [
                                {
                                    "empid": "9",
                                    "numorders": "43"
                                },
                                {
                                    "empid": "3",
                                    "numorders": "127"
                                },
                                {
                                    "empid": "6",
                                    "numorders": "67"
                                },
                                {
                                    "empid": "7",
                                    "numorders": "70"
                                },
                                {
                                    "empid": "1",
                                    "numorders": "118"
                                },
                                {
                                    "empid": "4",
                                    "numorders": "154"
                                },
                                {
                                    "empid": "5",
                                    "numorders": "42"
                                },
                                {
                                    "empid": "2",
                                    "numorders": "94"
                                },
                                {
                                    "empid": "8",
                                    "numorders": "101"
                                }
                            ]
                        },
                        "text/html": "<table><tr><th>empid</th><th>numorders</th></tr><tr><td>9</td><td>43</td></tr><tr><td>3</td><td>127</td></tr><tr><td>6</td><td>67</td></tr><tr><td>7</td><td>70</td></tr><tr><td>1</td><td>118</td></tr><tr><td>4</td><td>154</td></tr><tr><td>5</td><td>42</td></tr><tr><td>2</td><td>94</td></tr><tr><td>8</td><td>101</td></tr></table>"
                    },
                    "metadata": {}
                }
            ],
            "execution_count": 2
        },
        {
            "cell_type": "code",
            "source": [
                "-- Testing Query 2\r\n",
                "SELECT EmployeeId AS empid, COUNT(*) AS numorders\r\n",
                "FROM Sales.[Order]\r\n",
                "GROUP BY EmployeeId\r\n",
                "HAVING MAX(orderdate) < '20160501';"
            ],
            "metadata": {
                "language": "sql",
                "azdata_cell_guid": "87bc5855-fc2f-483f-9cd1-06dd371a26ce"
            },
            "outputs": [
                {
                    "output_type": "display_data",
                    "data": {
                        "text/html": "(4 rows affected)"
                    },
                    "metadata": {}
                },
                {
                    "output_type": "display_data",
                    "data": {
                        "text/html": "Total execution time: 00:00:00.005"
                    },
                    "metadata": {}
                },
                {
                    "output_type": "execute_result",
                    "execution_count": 3,
                    "data": {
                        "application/vnd.dataresource+json": {
                            "schema": {
                                "fields": [
                                    {
                                        "name": "empid"
                                    },
                                    {
                                        "name": "numorders"
                                    }
                                ]
                            },
                            "data": [
                                {
                                    "empid": "9",
                                    "numorders": "43"
                                },
                                {
                                    "empid": "3",
                                    "numorders": "127"
                                },
                                {
                                    "empid": "6",
                                    "numorders": "67"
                                },
                                {
                                    "empid": "5",
                                    "numorders": "42"
                                }
                            ]
                        },
                        "text/html": "<table><tr><th>empid</th><th>numorders</th></tr><tr><td>9</td><td>43</td></tr><tr><td>3</td><td>127</td></tr><tr><td>6</td><td>67</td></tr><tr><td>5</td><td>42</td></tr></table>"
                    },
                    "metadata": {}
                }
            ],
            "execution_count": 3
        },
        {
            "cell_type": "markdown",
            "source": [
                "<u>Exercise 7: </u>\n",
                "\n",
                "- Return the three ship countries with the highest average freight for orders placed in 2015\n",
                "- Tables involved: Sales.Orders table\n",
                "\n",
                "Desired output: \n",
                "\n",
                "shipcountry     avgfreight<br>\n",
                "Austria         178.3642 <br>\n",
                "Switzerland     117.1775 <br>\n",
                "Sweden          105.16\n",
                "\n",
                "\n",
                "(3 row(s) affected)"
            ],
            "metadata": {
                "azdata_cell_guid": "0240f5d2-b5f5-4dd9-9964-c7776cdacd58"
            },
            "attachments": {}
        },
        {
            "cell_type": "code",
            "source": [
                "SELECT TOP 3 ShipToCountry AS shipcountry, \r\n",
                "AVG(freight) AS avgfreight\r\n",
                "FROM Sales.[Order]\r\n",
                "WHERE YEAR(orderdate) = 2015\r\n",
                "GROUP BY ShipToCountry\r\n",
                "ORDER BY avgfreight DESC;"
            ],
            "metadata": {
                "azdata_cell_guid": "b72cef62-9ddc-4cf1-8c9c-2eb3617302e5",
                "language": "sql"
            },
            "outputs": [
                {
                    "output_type": "display_data",
                    "data": {
                        "text/html": "(3 rows affected)"
                    },
                    "metadata": {}
                },
                {
                    "output_type": "display_data",
                    "data": {
                        "text/html": "Total execution time: 00:00:00.030"
                    },
                    "metadata": {}
                },
                {
                    "output_type": "execute_result",
                    "execution_count": 4,
                    "data": {
                        "application/vnd.dataresource+json": {
                            "schema": {
                                "fields": [
                                    {
                                        "name": "shipcountry"
                                    },
                                    {
                                        "name": "avgfreight"
                                    }
                                ]
                            },
                            "data": [
                                {
                                    "shipcountry": "Austria",
                                    "avgfreight": "178.3642"
                                },
                                {
                                    "shipcountry": "Switzerland",
                                    "avgfreight": "117.1775"
                                },
                                {
                                    "shipcountry": "Sweden",
                                    "avgfreight": "105.16"
                                }
                            ]
                        },
                        "text/html": "<table><tr><th>shipcountry</th><th>avgfreight</th></tr><tr><td>Austria</td><td>178.3642</td></tr><tr><td>Switzerland</td><td>117.1775</td></tr><tr><td>Sweden</td><td>105.16</td></tr></table>"
                    },
                    "metadata": {}
                }
            ],
            "execution_count": 4
        },
        {
            "cell_type": "markdown",
            "source": [
                "**Explanation:**  \n",
                "The proposition of this query is to retrieve the three ship countries with the highest average freight for orders placed in the year 2015. The table involved is Sales.\\[Order\\]. The selected columns are ShipToCountry (aliased as shipcountry) and the average freight cost (AVG(freight), aliased as avgfreight). \n",
                "\n",
                "```\n",
                "SELECT TOP 3 hipToCountry AS shipcountry, AVG(freight) AS avgfreight\n",
                "FROM Sales.[Order]\n",
                "\n",
                "```\n",
                "\n",
                "The <mark>WHERE</mark> clause acts as the predicate, filtering rows where the order date's year is 2015. We use _<mark>GROUP BY</mark>_ to group the results by the shipcountry column. Finally, we use _<mark>ORDER BY</mark>_ to see the results in descending order based on average, so highest will be listed first.\n",
                "\n",
                "```\n",
                "WHERE YEAR(orderdate) = 2015\n",
                "GROUP BY ShipToCountry\n",
                "ORDER BY avgfreight DESC;\n",
                "\n",
                "```"
            ],
            "metadata": {
                "azdata_cell_guid": "9025528d-8602-49ad-9867-8f2c094cff24"
            },
            "attachments": {}
        },
        {
            "cell_type": "markdown",
            "source": [
                "<u>Proposition Against Northwinds:</u>\n",
                "\n",
                "This query aims to identify and highlight the top three cities that received the highest number of orders during the year 2015. By calculating the count of orders for each city and presenting the top three performers."
            ],
            "metadata": {
                "azdata_cell_guid": "0cb42ccd-9ba3-49f9-b3c8-4df44db7b44d"
            },
            "attachments": {}
        },
        {
            "cell_type": "code",
            "source": [
                "SELECT TOP 3 ShipToCity AS shipcity, COUNT(*) AS order_count\r\n",
                "FROM Sales.[Order]\r\n",
                "WHERE YEAR(OrderDate)=2015\r\n",
                "GROUP BY ShipToCity\r\n",
                "ORDER BY order_count DESC;"
            ],
            "metadata": {
                "azdata_cell_guid": "12c35aea-18bb-4aa8-9afe-e5a1a55621ba",
                "language": "sql"
            },
            "outputs": [
                {
                    "output_type": "display_data",
                    "data": {
                        "text/html": "(3 rows affected)"
                    },
                    "metadata": {}
                },
                {
                    "output_type": "display_data",
                    "data": {
                        "text/html": "Total execution time: 00:00:00.020"
                    },
                    "metadata": {}
                },
                {
                    "output_type": "execute_result",
                    "metadata": {},
                    "execution_count": 4,
                    "data": {
                        "application/vnd.dataresource+json": {
                            "schema": {
                                "fields": [
                                    {
                                        "name": "shipcity"
                                    },
                                    {
                                        "name": "order_count"
                                    }
                                ]
                            },
                            "data": [
                                {
                                    "shipcity": "London",
                                    "order_count": "18"
                                },
                                {
                                    "shipcity": "Boise",
                                    "order_count": "17"
                                },
                                {
                                    "shipcity": "Sao Paulo",
                                    "order_count": "16"
                                }
                            ]
                        },
                        "text/html": [
                            "<table>",
                            "<tr><th>shipcity</th><th>order_count</th></tr>",
                            "<tr><td>London</td><td>18</td></tr>",
                            "<tr><td>Boise</td><td>17</td></tr>",
                            "<tr><td>Sao Paulo</td><td>16</td></tr>",
                            "</table>"
                        ]
                    }
                }
            ],
            "execution_count": 4
        },
        {
            "cell_type": "markdown",
            "source": [
                "**Explanation:** The proposition emphasizes the order of distribution in the year 2015 and the identification of cities with the highest order counts. The table involved is Sales.Orders. \n",
                "\n",
                "The <mark>SELECT</mark> clause specifies two columns to be included in the output. <span style=\"color: var(--vscode-foreground);\">ShipCity which represents the city to which the orders were shipped and&nbsp;</span> <span style=\"color: var(--vscode-foreground);\">COUNT(*) AS order_count that calculates the number of orders for each city.</span>\n",
                "\n",
                "```\n",
                "SELECT TOP 3 ShipToCity AS shipcity, COUNT(*) AS order_count\n",
                "FROM Sales.[Order]\n",
                "\n",
                "```\n",
                "\n",
                "<span style=\"color: var(--vscode-foreground);\">The <span style=\"background-color: yellow;\">WHERE</span> clause acts as the predicate, filtering orders based on the condition of 2015 year.&nbsp;</span>  <span style=\"color: var(--vscode-foreground);\">The <span style=\"background-color: yellow;\">GROUP BY</span> groups the results based on ShipCity. This grouping allows the query to analyze order distribution on a city-by-city basis.&nbsp;The <span style=\"background-color: yellow;\">ORDER BY</span> arranges the results to identify and present the top three cities with the highest order counts first.</span>\n",
                "\n",
                "```\n",
                "WHERE YEAR(OrderDate)=2015\n",
                "GROUP BY ShipToCity\n",
                "ORDER BY order_count DESC;\n",
                "\n",
                "```"
            ],
            "metadata": {
                "azdata_cell_guid": "7745e30c-ca3e-4e1e-b01a-f60d1df5053c"
            },
            "attachments": {}
        }
    ]
}