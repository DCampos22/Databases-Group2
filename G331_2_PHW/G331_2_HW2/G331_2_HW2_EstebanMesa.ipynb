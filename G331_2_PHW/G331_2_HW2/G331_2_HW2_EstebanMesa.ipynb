{
    "metadata": {
        "kernelspec": {
            "name": "SQL",
            "display_name": "SQL",
            "language": "sql"
        },
        "language_info": {
            "name": "sql",
            "version": ""
        },
        "connection_name": "CSCI 331"
    },
    "nbformat_minor": 2,
    "nbformat": 4,
    "cells": [
        {
            "cell_type": "markdown",
            "source": [
                "**ESTEBAN MESA - CHAPTER 3**\n",
                "\n",
                "\n",
                "<mark>**TOP 5 QUERIES**</mark>\n",
                "\n",
                "\n",
                "**TOP 1 - EXERCISE 3**\n",
                "\n",
                "Return US customers, and for each customer return the total number of orders and total\n",
                "quantities:\n",
                "- Tables involved: Sales.Customers, Sales.Orders, and Sales.OrderDetails\n",
                ""
            ],
            "metadata": {
                "language": "sql",
                "azdata_cell_guid": "c5ebc013-8ade-4eab-8e22-845e616a5e0c"
            },
            "attachments": {}
        },
        {
            "cell_type": "code",
            "source": [
                "SELECT \n",
                "    C.custid, \n",
                "    COUNT(O.orderid) AS numorders, \n",
                "    SUM(OD.qty) AS totalqty\n",
                "FROM \n",
                "    Sales.Customers AS C\n",
                "    INNER JOIN Sales.Orders AS O ON C.custid = O.custid\n",
                "    INNER JOIN Sales.OrderDetails AS OD ON O.orderid = OD.orderid\n",
                "WHERE \n",
                "    C.country = 'USA'\n",
                "GROUP BY \n",
                "    C.custid\n",
                "ORDER BY \n",
                "    C.custid;\n",
                ""
            ],
            "metadata": {
                "language": "sql",
                "azdata_cell_guid": "fa6b1f99-5b57-453b-a9d2-3864e6b173ae"
            },
            "outputs": [
                {
                    "output_type": "display_data",
                    "data": {
                        "text/html": "(13 rows affected)"
                    },
                    "metadata": {}
                },
                {
                    "output_type": "display_data",
                    "data": {
                        "text/html": "Total execution time: 00:00:00.030"
                    },
                    "metadata": {}
                },
                {
                    "output_type": "execute_result",
                    "execution_count": 31,
                    "data": {
                        "application/vnd.dataresource+json": {
                            "schema": {
                                "fields": [
                                    {
                                        "name": "custid"
                                    },
                                    {
                                        "name": "numorders"
                                    },
                                    {
                                        "name": "totalqty"
                                    }
                                ]
                            },
                            "data": [
                                {
                                    "custid": "32",
                                    "numorders": "22",
                                    "totalqty": "345"
                                },
                                {
                                    "custid": "36",
                                    "numorders": "9",
                                    "totalqty": "122"
                                },
                                {
                                    "custid": "43",
                                    "numorders": "2",
                                    "totalqty": "20"
                                },
                                {
                                    "custid": "45",
                                    "numorders": "10",
                                    "totalqty": "181"
                                },
                                {
                                    "custid": "48",
                                    "numorders": "14",
                                    "totalqty": "134"
                                },
                                {
                                    "custid": "55",
                                    "numorders": "24",
                                    "totalqty": "603"
                                },
                                {
                                    "custid": "65",
                                    "numorders": "71",
                                    "totalqty": "1383"
                                },
                                {
                                    "custid": "71",
                                    "numorders": "116",
                                    "totalqty": "4958"
                                },
                                {
                                    "custid": "75",
                                    "numorders": "20",
                                    "totalqty": "327"
                                },
                                {
                                    "custid": "77",
                                    "numorders": "7",
                                    "totalqty": "46"
                                },
                                {
                                    "custid": "78",
                                    "numorders": "8",
                                    "totalqty": "59"
                                },
                                {
                                    "custid": "82",
                                    "numorders": "9",
                                    "totalqty": "89"
                                },
                                {
                                    "custid": "89",
                                    "numorders": "40",
                                    "totalqty": "1063"
                                }
                            ]
                        },
                        "text/html": "<table><tr><th>custid</th><th>numorders</th><th>totalqty</th></tr><tr><td>32</td><td>22</td><td>345</td></tr><tr><td>36</td><td>9</td><td>122</td></tr><tr><td>43</td><td>2</td><td>20</td></tr><tr><td>45</td><td>10</td><td>181</td></tr><tr><td>48</td><td>14</td><td>134</td></tr><tr><td>55</td><td>24</td><td>603</td></tr><tr><td>65</td><td>71</td><td>1383</td></tr><tr><td>71</td><td>116</td><td>4958</td></tr><tr><td>75</td><td>20</td><td>327</td></tr><tr><td>77</td><td>7</td><td>46</td></tr><tr><td>78</td><td>8</td><td>59</td></tr><tr><td>82</td><td>9</td><td>89</td></tr><tr><td>89</td><td>40</td><td>1063</td></tr></table>"
                    },
                    "metadata": {}
                }
            ],
            "execution_count": 31
        },
        {
            "cell_type": "markdown",
            "source": [
                "<mark>EXPLANATION</mark> : Basically this SQL query retrieves the customer ID, total number of orders, and total quantity of items ordered for each customer located in the USA by joining three tables: Sales.Customers, Sales.Orders, and Sales.OrderDetails. The INNER JOIN is used to link these tables based on matching customer IDs between Customers and Orders, and then matching order IDs between Orders and OrderDetails. This ensures that only those records with corresponding entries in all three tables are selected, focusing on customers with orders and the details of those orders. The query groups the results by customer ID and sorts them in ascending order, allowing for a clear, organized view of the ordering activity of customers in the USA."
            ],
            "metadata": {
                "language": "sql",
                "azdata_cell_guid": "2084b6a6-4a3a-4696-8be6-f7e776a28251"
            },
            "attachments": {}
        },
        {
            "cell_type": "markdown",
            "source": [
                "**<mark>TOP 2 - EXERCISE 7:</mark>**\n",
                "\n",
                "Write a query that returns all customers in the output, but matches them with their respective <span style=\"font-family: -apple-system, BlinkMacSystemFont, sans-serif; color: var(--vscode-foreground);\">orders only if they were placed on February 12, 2016:</span>\n",
                "\n",
                "\\- Tables involved: Sales.Customers and Sales.Orders"
            ],
            "metadata": {
                "language": "sql",
                "azdata_cell_guid": "404a10b4-e2d4-4507-a98f-2443914dbd39"
            },
            "attachments": {}
        },
        {
            "cell_type": "code",
            "source": [
                "SELECT \n",
                "    C.custid, \n",
                "    C.companyname, \n",
                "    CASE \n",
                "        WHEN O.orderdate = '2016-02-12' THEN O.orderid\n",
                "        ELSE NULL\n",
                "    END AS orderid,\n",
                "    CASE \n",
                "        WHEN O.orderdate = '2016-02-12' THEN O.orderdate\n",
                "        ELSE NULL\n",
                "    END AS orderdate\n",
                "FROM \n",
                "    Sales.Customers AS C\n",
                "    LEFT JOIN Sales.Orders AS O ON C.custid = O.custid AND O.orderdate = '2016-02-12'\n",
                "ORDER BY \n",
                "    C.companyname;"
            ],
            "metadata": {
                "language": "sql",
                "azdata_cell_guid": "d1704507-692b-4910-bc38-8096570217c6"
            },
            "outputs": [
                {
                    "output_type": "display_data",
                    "data": {
                        "text/html": "(91 rows affected)"
                    },
                    "metadata": {}
                },
                {
                    "output_type": "display_data",
                    "data": {
                        "text/html": "Total execution time: 00:00:00.027"
                    },
                    "metadata": {}
                },
                {
                    "output_type": "execute_result",
                    "execution_count": 32,
                    "data": {
                        "application/vnd.dataresource+json": {
                            "schema": {
                                "fields": [
                                    {
                                        "name": "custid"
                                    },
                                    {
                                        "name": "companyname"
                                    },
                                    {
                                        "name": "orderid"
                                    },
                                    {
                                        "name": "orderdate"
                                    }
                                ]
                            },
                            "data": [
                                {
                                    "custid": "72",
                                    "companyname": "Customer AHPOP",
                                    "orderid": "NULL",
                                    "orderdate": "NULL"
                                },
                                {
                                    "custid": "58",
                                    "companyname": "Customer AHXHT",
                                    "orderid": "NULL",
                                    "orderdate": "NULL"
                                },
                                {
                                    "custid": "25",
                                    "companyname": "Customer AZJED",
                                    "orderid": "NULL",
                                    "orderdate": "NULL"
                                },
                                {
                                    "custid": "18",
                                    "companyname": "Customer BSVAR",
                                    "orderid": "NULL",
                                    "orderdate": "NULL"
                                },
                                {
                                    "custid": "91",
                                    "companyname": "Customer CCFIZ",
                                    "orderid": "NULL",
                                    "orderdate": "NULL"
                                },
                                {
                                    "custid": "68",
                                    "companyname": "Customer CCKOT",
                                    "orderid": "NULL",
                                    "orderdate": "NULL"
                                },
                                {
                                    "custid": "49",
                                    "companyname": "Customer CQRAA",
                                    "orderid": "NULL",
                                    "orderdate": "NULL"
                                },
                                {
                                    "custid": "24",
                                    "companyname": "Customer CYZTN",
                                    "orderid": "NULL",
                                    "orderdate": "NULL"
                                },
                                {
                                    "custid": "22",
                                    "companyname": "Customer DTDMN",
                                    "orderid": "NULL",
                                    "orderdate": "NULL"
                                },
                                {
                                    "custid": "48",
                                    "companyname": "Customer DVFMB",
                                    "orderid": "10883",
                                    "orderdate": "2016-02-12"
                                },
                                {
                                    "custid": "10",
                                    "companyname": "Customer EEALV",
                                    "orderid": "NULL",
                                    "orderdate": "NULL"
                                },
                                {
                                    "custid": "40",
                                    "companyname": "Customer EFFTC",
                                    "orderid": "NULL",
                                    "orderdate": "NULL"
                                },
                                {
                                    "custid": "85",
                                    "companyname": "Customer ENQZT",
                                    "orderid": "NULL",
                                    "orderdate": "NULL"
                                },
                                {
                                    "custid": "82",
                                    "companyname": "Customer EYHKM",
                                    "orderid": "NULL",
                                    "orderdate": "NULL"
                                },
                                {
                                    "custid": "79",
                                    "companyname": "Customer FAPSM",
                                    "orderid": "NULL",
                                    "orderdate": "NULL"
                                },
                                {
                                    "custid": "17",
                                    "companyname": "Customer FEVNN",
                                    "orderid": "NULL",
                                    "orderdate": "NULL"
                                },
                                {
                                    "custid": "37",
                                    "companyname": "Customer FRXZL",
                                    "orderid": "NULL",
                                    "orderdate": "NULL"
                                },
                                {
                                    "custid": "33",
                                    "companyname": "Customer FVXPQ",
                                    "orderid": "NULL",
                                    "orderdate": "NULL"
                                },
                                {
                                    "custid": "53",
                                    "companyname": "Customer GCJSG",
                                    "orderid": "NULL",
                                    "orderdate": "NULL"
                                },
                                {
                                    "custid": "39",
                                    "companyname": "Customer GLLAG",
                                    "orderid": "NULL",
                                    "orderdate": "NULL"
                                },
                                {
                                    "custid": "16",
                                    "companyname": "Customer GYBBY",
                                    "orderid": "NULL",
                                    "orderdate": "NULL"
                                },
                                {
                                    "custid": "4",
                                    "companyname": "Customer HFBZG",
                                    "orderid": "NULL",
                                    "orderdate": "NULL"
                                },
                                {
                                    "custid": "5",
                                    "companyname": "Customer HGVLZ",
                                    "orderid": "NULL",
                                    "orderdate": "NULL"
                                },
                                {
                                    "custid": "42",
                                    "companyname": "Customer IAIJK",
                                    "orderid": "NULL",
                                    "orderdate": "NULL"
                                },
                                {
                                    "custid": "34",
                                    "companyname": "Customer IBVRG",
                                    "orderid": "NULL",
                                    "orderdate": "NULL"
                                },
                                {
                                    "custid": "63",
                                    "companyname": "Customer IRRVL",
                                    "orderid": "NULL",
                                    "orderdate": "NULL"
                                },
                                {
                                    "custid": "73",
                                    "companyname": "Customer JMIKW",
                                    "orderid": "NULL",
                                    "orderdate": "NULL"
                                },
                                {
                                    "custid": "15",
                                    "companyname": "Customer JUWXK",
                                    "orderid": "NULL",
                                    "orderdate": "NULL"
                                },
                                {
                                    "custid": "50",
                                    "companyname": "Customer JYPSC",
                                    "orderid": "NULL",
                                    "orderdate": "NULL"
                                },
                                {
                                    "custid": "3",
                                    "companyname": "Customer KBUDE",
                                    "orderid": "NULL",
                                    "orderdate": "NULL"
                                },
                                {
                                    "custid": "21",
                                    "companyname": "Customer KIDPX",
                                    "orderid": "NULL",
                                    "orderdate": "NULL"
                                },
                                {
                                    "custid": "30",
                                    "companyname": "Customer KSLQF",
                                    "orderid": "NULL",
                                    "orderdate": "NULL"
                                },
                                {
                                    "custid": "55",
                                    "companyname": "Customer KZQZT",
                                    "orderid": "NULL",
                                    "orderdate": "NULL"
                                },
                                {
                                    "custid": "71",
                                    "companyname": "Customer LCOUJ",
                                    "orderid": "NULL",
                                    "orderdate": "NULL"
                                },
                                {
                                    "custid": "77",
                                    "companyname": "Customer LCYBZ",
                                    "orderid": "NULL",
                                    "orderdate": "NULL"
                                },
                                {
                                    "custid": "66",
                                    "companyname": "Customer LHANT",
                                    "orderid": "NULL",
                                    "orderdate": "NULL"
                                },
                                {
                                    "custid": "38",
                                    "companyname": "Customer LJUCA",
                                    "orderid": "NULL",
                                    "orderdate": "NULL"
                                },
                                {
                                    "custid": "59",
                                    "companyname": "Customer LOLJO",
                                    "orderid": "NULL",
                                    "orderdate": "NULL"
                                },
                                {
                                    "custid": "36",
                                    "companyname": "Customer LVJSO",
                                    "orderid": "NULL",
                                    "orderdate": "NULL"
                                },
                                {
                                    "custid": "64",
                                    "companyname": "Customer LWGMD",
                                    "orderid": "NULL",
                                    "orderdate": "NULL"
                                },
                                {
                                    "custid": "29",
                                    "companyname": "Customer MDLWA",
                                    "orderid": "NULL",
                                    "orderdate": "NULL"
                                },
                                {
                                    "custid": "2",
                                    "companyname": "Customer MLTDN",
                                    "orderid": "NULL",
                                    "orderdate": "NULL"
                                },
                                {
                                    "custid": "78",
                                    "companyname": "Customer NLTYP",
                                    "orderid": "NULL",
                                    "orderdate": "NULL"
                                },
                                {
                                    "custid": "84",
                                    "companyname": "Customer NRCSK",
                                    "orderid": "NULL",
                                    "orderdate": "NULL"
                                },
                                {
                                    "custid": "1",
                                    "companyname": "Customer NRZBB",
                                    "orderid": "NULL",
                                    "orderdate": "NULL"
                                },
                                {
                                    "custid": "65",
                                    "companyname": "Customer NYUHS",
                                    "orderid": "NULL",
                                    "orderdate": "NULL"
                                },
                                {
                                    "custid": "44",
                                    "companyname": "Customer OXFRU",
                                    "orderid": "NULL",
                                    "orderdate": "NULL"
                                },
                                {
                                    "custid": "12",
                                    "companyname": "Customer PSNMQ",
                                    "orderid": "NULL",
                                    "orderdate": "NULL"
                                },
                                {
                                    "custid": "47",
                                    "companyname": "Customer PSQUZ",
                                    "orderid": "NULL",
                                    "orderdate": "NULL"
                                },
                                {
                                    "custid": "51",
                                    "companyname": "Customer PVDZC",
                                    "orderid": "NULL",
                                    "orderdate": "NULL"
                                },
                                {
                                    "custid": "52",
                                    "companyname": "Customer PZNLA",
                                    "orderid": "NULL",
                                    "orderdate": "NULL"
                                },
                                {
                                    "custid": "56",
                                    "companyname": "Customer QNIVZ",
                                    "orderid": "NULL",
                                    "orderdate": "NULL"
                                },
                                {
                                    "custid": "8",
                                    "companyname": "Customer QUHWH",
                                    "orderid": "NULL",
                                    "orderdate": "NULL"
                                },
                                {
                                    "custid": "67",
                                    "companyname": "Customer QVEPD",
                                    "orderid": "NULL",
                                    "orderdate": "NULL"
                                },
                                {
                                    "custid": "45",
                                    "companyname": "Customer QXPPT",
                                    "orderid": "10884",
                                    "orderdate": "2016-02-12"
                                },
                                {
                                    "custid": "7",
                                    "companyname": "Customer QXVLA",
                                    "orderid": "NULL",
                                    "orderdate": "NULL"
                                },
                                {
                                    "custid": "60",
                                    "companyname": "Customer QZURI",
                                    "orderid": "NULL",
                                    "orderdate": "NULL"
                                },
                                {
                                    "custid": "19",
                                    "companyname": "Customer RFNQC",
                                    "orderid": "NULL",
                                    "orderdate": "NULL"
                                },
                                {
                                    "custid": "9",
                                    "companyname": "Customer RTXGC",
                                    "orderid": "NULL",
                                    "orderdate": "NULL"
                                },
                                {
                                    "custid": "76",
                                    "companyname": "Customer SFOGW",
                                    "orderid": "10885",
                                    "orderdate": "2016-02-12"
                                },
                                {
                                    "custid": "69",
                                    "companyname": "Customer SIUIH",
                                    "orderid": "NULL",
                                    "orderdate": "NULL"
                                },
                                {
                                    "custid": "86",
                                    "companyname": "Customer SNXOJ",
                                    "orderid": "NULL",
                                    "orderdate": "NULL"
                                },
                                {
                                    "custid": "88",
                                    "companyname": "Customer SRQVM",
                                    "orderid": "NULL",
                                    "orderdate": "NULL"
                                },
                                {
                                    "custid": "54",
                                    "companyname": "Customer TDKEG",
                                    "orderid": "NULL",
                                    "orderdate": "NULL"
                                },
                                {
                                    "custid": "20",
                                    "companyname": "Customer THHDP",
                                    "orderid": "NULL",
                                    "orderdate": "NULL"
                                },
                                {
                                    "custid": "70",
                                    "companyname": "Customer TMXGN",
                                    "orderid": "NULL",
                                    "orderdate": "NULL"
                                },
                                {
                                    "custid": "11",
                                    "companyname": "Customer UBHAU",
                                    "orderid": "NULL",
                                    "orderdate": "NULL"
                                },
                                {
                                    "custid": "43",
                                    "companyname": "Customer UISOJ",
                                    "orderid": "NULL",
                                    "orderdate": "NULL"
                                },
                                {
                                    "custid": "35",
                                    "companyname": "Customer UMTLM",
                                    "orderid": "NULL",
                                    "orderdate": "NULL"
                                },
                                {
                                    "custid": "26",
                                    "companyname": "Customer USDBG",
                                    "orderid": "NULL",
                                    "orderdate": "NULL"
                                },
                                {
                                    "custid": "13",
                                    "companyname": "Customer VMLOG",
                                    "orderid": "NULL",
                                    "orderdate": "NULL"
                                },
                                {
                                    "custid": "80",
                                    "companyname": "Customer VONTK",
                                    "orderid": "NULL",
                                    "orderdate": "NULL"
                                },
                                {
                                    "custid": "62",
                                    "companyname": "Customer WFIZJ",
                                    "orderid": "NULL",
                                    "orderdate": "NULL"
                                },
                                {
                                    "custid": "27",
                                    "companyname": "Customer WMFEA",
                                    "orderid": "NULL",
                                    "orderdate": "NULL"
                                },
                                {
                                    "custid": "14",
                                    "companyname": "Customer WNMAF",
                                    "orderid": "NULL",
                                    "orderdate": "NULL"
                                },
                                {
                                    "custid": "61",
                                    "companyname": "Customer WULWD",
                                    "orderid": "NULL",
                                    "orderdate": "NULL"
                                },
                                {
                                    "custid": "57",
                                    "companyname": "Customer WVAXS",
                                    "orderid": "NULL",
                                    "orderdate": "NULL"
                                },
                                {
                                    "custid": "23",
                                    "companyname": "Customer WVFAF",
                                    "orderid": "NULL",
                                    "orderdate": "NULL"
                                },
                                {
                                    "custid": "90",
                                    "companyname": "Customer XBBVR",
                                    "orderid": "NULL",
                                    "orderdate": "NULL"
                                },
                                {
                                    "custid": "6",
                                    "companyname": "Customer XHXJV",
                                    "orderid": "NULL",
                                    "orderdate": "NULL"
                                },
                                {
                                    "custid": "41",
                                    "companyname": "Customer XIIWM",
                                    "orderid": "NULL",
                                    "orderdate": "NULL"
                                },
                                {
                                    "custid": "75",
                                    "companyname": "Customer XOJYP",
                                    "orderid": "NULL",
                                    "orderdate": "NULL"
                                },
                                {
                                    "custid": "46",
                                    "companyname": "Customer XPNIK",
                                    "orderid": "NULL",
                                    "orderdate": "NULL"
                                },
                                {
                                    "custid": "28",
                                    "companyname": "Customer XYUFB",
                                    "orderid": "NULL",
                                    "orderdate": "NULL"
                                },
                                {
                                    "custid": "89",
                                    "companyname": "Customer YBQTI",
                                    "orderid": "NULL",
                                    "orderdate": "NULL"
                                },
                                {
                                    "custid": "31",
                                    "companyname": "Customer YJCBX",
                                    "orderid": "NULL",
                                    "orderdate": "NULL"
                                },
                                {
                                    "custid": "81",
                                    "companyname": "Customer YQQWW",
                                    "orderid": "NULL",
                                    "orderdate": "NULL"
                                },
                                {
                                    "custid": "74",
                                    "companyname": "Customer YSHXL",
                                    "orderid": "NULL",
                                    "orderdate": "NULL"
                                },
                                {
                                    "custid": "32",
                                    "companyname": "Customer YSIQX",
                                    "orderid": "NULL",
                                    "orderdate": "NULL"
                                },
                                {
                                    "custid": "87",
                                    "companyname": "Customer ZHYOS",
                                    "orderid": "NULL",
                                    "orderdate": "NULL"
                                },
                                {
                                    "custid": "83",
                                    "companyname": "Customer ZRNDE",
                                    "orderid": "NULL",
                                    "orderdate": "NULL"
                                }
                            ]
                        },
                        "text/html": "<table><tr><th>custid</th><th>companyname</th><th>orderid</th><th>orderdate</th></tr><tr><td>72</td><td>Customer AHPOP</td><td>NULL</td><td>NULL</td></tr><tr><td>58</td><td>Customer AHXHT</td><td>NULL</td><td>NULL</td></tr><tr><td>25</td><td>Customer AZJED</td><td>NULL</td><td>NULL</td></tr><tr><td>18</td><td>Customer BSVAR</td><td>NULL</td><td>NULL</td></tr><tr><td>91</td><td>Customer CCFIZ</td><td>NULL</td><td>NULL</td></tr><tr><td>68</td><td>Customer CCKOT</td><td>NULL</td><td>NULL</td></tr><tr><td>49</td><td>Customer CQRAA</td><td>NULL</td><td>NULL</td></tr><tr><td>24</td><td>Customer CYZTN</td><td>NULL</td><td>NULL</td></tr><tr><td>22</td><td>Customer DTDMN</td><td>NULL</td><td>NULL</td></tr><tr><td>48</td><td>Customer DVFMB</td><td>10883</td><td>2016-02-12</td></tr><tr><td>10</td><td>Customer EEALV</td><td>NULL</td><td>NULL</td></tr><tr><td>40</td><td>Customer EFFTC</td><td>NULL</td><td>NULL</td></tr><tr><td>85</td><td>Customer ENQZT</td><td>NULL</td><td>NULL</td></tr><tr><td>82</td><td>Customer EYHKM</td><td>NULL</td><td>NULL</td></tr><tr><td>79</td><td>Customer FAPSM</td><td>NULL</td><td>NULL</td></tr><tr><td>17</td><td>Customer FEVNN</td><td>NULL</td><td>NULL</td></tr><tr><td>37</td><td>Customer FRXZL</td><td>NULL</td><td>NULL</td></tr><tr><td>33</td><td>Customer FVXPQ</td><td>NULL</td><td>NULL</td></tr><tr><td>53</td><td>Customer GCJSG</td><td>NULL</td><td>NULL</td></tr><tr><td>39</td><td>Customer GLLAG</td><td>NULL</td><td>NULL</td></tr><tr><td>16</td><td>Customer GYBBY</td><td>NULL</td><td>NULL</td></tr><tr><td>4</td><td>Customer HFBZG</td><td>NULL</td><td>NULL</td></tr><tr><td>5</td><td>Customer HGVLZ</td><td>NULL</td><td>NULL</td></tr><tr><td>42</td><td>Customer IAIJK</td><td>NULL</td><td>NULL</td></tr><tr><td>34</td><td>Customer IBVRG</td><td>NULL</td><td>NULL</td></tr><tr><td>63</td><td>Customer IRRVL</td><td>NULL</td><td>NULL</td></tr><tr><td>73</td><td>Customer JMIKW</td><td>NULL</td><td>NULL</td></tr><tr><td>15</td><td>Customer JUWXK</td><td>NULL</td><td>NULL</td></tr><tr><td>50</td><td>Customer JYPSC</td><td>NULL</td><td>NULL</td></tr><tr><td>3</td><td>Customer KBUDE</td><td>NULL</td><td>NULL</td></tr><tr><td>21</td><td>Customer KIDPX</td><td>NULL</td><td>NULL</td></tr><tr><td>30</td><td>Customer KSLQF</td><td>NULL</td><td>NULL</td></tr><tr><td>55</td><td>Customer KZQZT</td><td>NULL</td><td>NULL</td></tr><tr><td>71</td><td>Customer LCOUJ</td><td>NULL</td><td>NULL</td></tr><tr><td>77</td><td>Customer LCYBZ</td><td>NULL</td><td>NULL</td></tr><tr><td>66</td><td>Customer LHANT</td><td>NULL</td><td>NULL</td></tr><tr><td>38</td><td>Customer LJUCA</td><td>NULL</td><td>NULL</td></tr><tr><td>59</td><td>Customer LOLJO</td><td>NULL</td><td>NULL</td></tr><tr><td>36</td><td>Customer LVJSO</td><td>NULL</td><td>NULL</td></tr><tr><td>64</td><td>Customer LWGMD</td><td>NULL</td><td>NULL</td></tr><tr><td>29</td><td>Customer MDLWA</td><td>NULL</td><td>NULL</td></tr><tr><td>2</td><td>Customer MLTDN</td><td>NULL</td><td>NULL</td></tr><tr><td>78</td><td>Customer NLTYP</td><td>NULL</td><td>NULL</td></tr><tr><td>84</td><td>Customer NRCSK</td><td>NULL</td><td>NULL</td></tr><tr><td>1</td><td>Customer NRZBB</td><td>NULL</td><td>NULL</td></tr><tr><td>65</td><td>Customer NYUHS</td><td>NULL</td><td>NULL</td></tr><tr><td>44</td><td>Customer OXFRU</td><td>NULL</td><td>NULL</td></tr><tr><td>12</td><td>Customer PSNMQ</td><td>NULL</td><td>NULL</td></tr><tr><td>47</td><td>Customer PSQUZ</td><td>NULL</td><td>NULL</td></tr><tr><td>51</td><td>Customer PVDZC</td><td>NULL</td><td>NULL</td></tr><tr><td>52</td><td>Customer PZNLA</td><td>NULL</td><td>NULL</td></tr><tr><td>56</td><td>Customer QNIVZ</td><td>NULL</td><td>NULL</td></tr><tr><td>8</td><td>Customer QUHWH</td><td>NULL</td><td>NULL</td></tr><tr><td>67</td><td>Customer QVEPD</td><td>NULL</td><td>NULL</td></tr><tr><td>45</td><td>Customer QXPPT</td><td>10884</td><td>2016-02-12</td></tr><tr><td>7</td><td>Customer QXVLA</td><td>NULL</td><td>NULL</td></tr><tr><td>60</td><td>Customer QZURI</td><td>NULL</td><td>NULL</td></tr><tr><td>19</td><td>Customer RFNQC</td><td>NULL</td><td>NULL</td></tr><tr><td>9</td><td>Customer RTXGC</td><td>NULL</td><td>NULL</td></tr><tr><td>76</td><td>Customer SFOGW</td><td>10885</td><td>2016-02-12</td></tr><tr><td>69</td><td>Customer SIUIH</td><td>NULL</td><td>NULL</td></tr><tr><td>86</td><td>Customer SNXOJ</td><td>NULL</td><td>NULL</td></tr><tr><td>88</td><td>Customer SRQVM</td><td>NULL</td><td>NULL</td></tr><tr><td>54</td><td>Customer TDKEG</td><td>NULL</td><td>NULL</td></tr><tr><td>20</td><td>Customer THHDP</td><td>NULL</td><td>NULL</td></tr><tr><td>70</td><td>Customer TMXGN</td><td>NULL</td><td>NULL</td></tr><tr><td>11</td><td>Customer UBHAU</td><td>NULL</td><td>NULL</td></tr><tr><td>43</td><td>Customer UISOJ</td><td>NULL</td><td>NULL</td></tr><tr><td>35</td><td>Customer UMTLM</td><td>NULL</td><td>NULL</td></tr><tr><td>26</td><td>Customer USDBG</td><td>NULL</td><td>NULL</td></tr><tr><td>13</td><td>Customer VMLOG</td><td>NULL</td><td>NULL</td></tr><tr><td>80</td><td>Customer VONTK</td><td>NULL</td><td>NULL</td></tr><tr><td>62</td><td>Customer WFIZJ</td><td>NULL</td><td>NULL</td></tr><tr><td>27</td><td>Customer WMFEA</td><td>NULL</td><td>NULL</td></tr><tr><td>14</td><td>Customer WNMAF</td><td>NULL</td><td>NULL</td></tr><tr><td>61</td><td>Customer WULWD</td><td>NULL</td><td>NULL</td></tr><tr><td>57</td><td>Customer WVAXS</td><td>NULL</td><td>NULL</td></tr><tr><td>23</td><td>Customer WVFAF</td><td>NULL</td><td>NULL</td></tr><tr><td>90</td><td>Customer XBBVR</td><td>NULL</td><td>NULL</td></tr><tr><td>6</td><td>Customer XHXJV</td><td>NULL</td><td>NULL</td></tr><tr><td>41</td><td>Customer XIIWM</td><td>NULL</td><td>NULL</td></tr><tr><td>75</td><td>Customer XOJYP</td><td>NULL</td><td>NULL</td></tr><tr><td>46</td><td>Customer XPNIK</td><td>NULL</td><td>NULL</td></tr><tr><td>28</td><td>Customer XYUFB</td><td>NULL</td><td>NULL</td></tr><tr><td>89</td><td>Customer YBQTI</td><td>NULL</td><td>NULL</td></tr><tr><td>31</td><td>Customer YJCBX</td><td>NULL</td><td>NULL</td></tr><tr><td>81</td><td>Customer YQQWW</td><td>NULL</td><td>NULL</td></tr><tr><td>74</td><td>Customer YSHXL</td><td>NULL</td><td>NULL</td></tr><tr><td>32</td><td>Customer YSIQX</td><td>NULL</td><td>NULL</td></tr><tr><td>87</td><td>Customer ZHYOS</td><td>NULL</td><td>NULL</td></tr><tr><td>83</td><td>Customer ZRNDE</td><td>NULL</td><td>NULL</td></tr></table>"
                    },
                    "metadata": {}
                }
            ],
            "execution_count": 32
        },
        {
            "cell_type": "markdown",
            "source": [
                "<mark>EXPLANATION: </mark> This query lists all customers and links them to orders made on February 12, 2016, using a LEFT JOIN. It ensures every customer is included, showing order details for that date where applicable. Customers without orders on February 12 will still appear, with NULL for order fields."
            ],
            "metadata": {
                "language": "sql",
                "azdata_cell_guid": "a011c592-cedf-4fa1-9b33-07c9f38a2642"
            },
            "attachments": {}
        },
        {
            "cell_type": "markdown",
            "source": [
                "<mark>**TOP 3 - PREPOSITON 1:**</mark> Create a new table, Sales.OrderDetailsAudit, to track every update made to Sales.OrderDetails. This table will log who (login name) made changes, what column they changed, and the before and after values, alongside the exact date and time of the change. It connects back to OrderDetails with orderid and productid.\n",
                "\n",
                "Tables Involved: Sales.OrderDetailsAudit, Sales.OrderDetails, TSQLV4"
            ],
            "metadata": {
                "language": "sql",
                "azdata_cell_guid": "e5052234-162b-4d87-b092-c6e5a325d8aa"
            },
            "attachments": {}
        },
        {
            "cell_type": "code",
            "source": [
                "USE TSQLV4;\n",
                "\n",
                "DROP TABLE IF EXISTS Sales.OrderDetailsAudit;\n",
                "\n",
                "CREATE TABLE Sales.OrderDetailsAudit\n",
                "(\n",
                "  lsn        INT NOT NULL IDENTITY,\n",
                "  orderid    INT NOT NULL,\n",
                "  productid  INT NOT NULL,\n",
                "  dt         DATETIME NOT NULL,\n",
                "  loginname  sysname NOT NULL,\n",
                "  columnname sysname NOT NULL,\n",
                "  oldval     SQL_VARIANT,\n",
                "  newval     SQL_VARIANT,\n",
                "  CONSTRAINT PK_OrderDetailsAudit PRIMARY KEY(lsn),\n",
                "  CONSTRAINT FK_OrderDetailsAudit_OrderDetails\n",
                "    FOREIGN KEY(orderid, productid)\n",
                "    REFERENCES Sales.OrderDetails(orderid, productid)\n",
                ");\n",
                "-- printing the new table afterwards\n",
                "SELECT \n",
                "    COLUMN_NAME, \n",
                "    DATA_TYPE,\n",
                "    CHARACTER_MAXIMUM_LENGTH,\n",
                "    IS_NULLABLE\n",
                "FROM \n",
                "    INFORMATION_SCHEMA.COLUMNS \n",
                "WHERE \n",
                "    TABLE_SCHEMA = 'Sales' \n",
                "    AND TABLE_NAME = 'OrderDetailsAudit'\n",
                "ORDER BY \n",
                "    ORDINAL_POSITION;"
            ],
            "metadata": {
                "language": "sql",
                "azdata_cell_guid": "a31afeb4-8b11-46ae-88b0-787a1fffc8df"
            },
            "outputs": [
                {
                    "output_type": "display_data",
                    "data": {
                        "text/html": "(8 rows affected)"
                    },
                    "metadata": {}
                },
                {
                    "output_type": "display_data",
                    "data": {
                        "text/html": "Total execution time: 00:00:00.030"
                    },
                    "metadata": {}
                },
                {
                    "output_type": "execute_result",
                    "execution_count": 33,
                    "data": {
                        "application/vnd.dataresource+json": {
                            "schema": {
                                "fields": [
                                    {
                                        "name": "COLUMN_NAME"
                                    },
                                    {
                                        "name": "DATA_TYPE"
                                    },
                                    {
                                        "name": "CHARACTER_MAXIMUM_LENGTH"
                                    },
                                    {
                                        "name": "IS_NULLABLE"
                                    }
                                ]
                            },
                            "data": [
                                {
                                    "COLUMN_NAME": "lsn",
                                    "DATA_TYPE": "int",
                                    "CHARACTER_MAXIMUM_LENGTH": "NULL",
                                    "IS_NULLABLE": "NO"
                                },
                                {
                                    "COLUMN_NAME": "orderid",
                                    "DATA_TYPE": "int",
                                    "CHARACTER_MAXIMUM_LENGTH": "NULL",
                                    "IS_NULLABLE": "NO"
                                },
                                {
                                    "COLUMN_NAME": "productid",
                                    "DATA_TYPE": "int",
                                    "CHARACTER_MAXIMUM_LENGTH": "NULL",
                                    "IS_NULLABLE": "NO"
                                },
                                {
                                    "COLUMN_NAME": "dt",
                                    "DATA_TYPE": "datetime",
                                    "CHARACTER_MAXIMUM_LENGTH": "NULL",
                                    "IS_NULLABLE": "NO"
                                },
                                {
                                    "COLUMN_NAME": "loginname",
                                    "DATA_TYPE": "nvarchar",
                                    "CHARACTER_MAXIMUM_LENGTH": "128",
                                    "IS_NULLABLE": "NO"
                                },
                                {
                                    "COLUMN_NAME": "columnname",
                                    "DATA_TYPE": "nvarchar",
                                    "CHARACTER_MAXIMUM_LENGTH": "128",
                                    "IS_NULLABLE": "NO"
                                },
                                {
                                    "COLUMN_NAME": "oldval",
                                    "DATA_TYPE": "sql_variant",
                                    "CHARACTER_MAXIMUM_LENGTH": "0",
                                    "IS_NULLABLE": "YES"
                                },
                                {
                                    "COLUMN_NAME": "newval",
                                    "DATA_TYPE": "sql_variant",
                                    "CHARACTER_MAXIMUM_LENGTH": "0",
                                    "IS_NULLABLE": "YES"
                                }
                            ]
                        },
                        "text/html": "<table><tr><th>COLUMN_NAME</th><th>DATA_TYPE</th><th>CHARACTER_MAXIMUM_LENGTH</th><th>IS_NULLABLE</th></tr><tr><td>lsn</td><td>int</td><td>NULL</td><td>NO</td></tr><tr><td>orderid</td><td>int</td><td>NULL</td><td>NO</td></tr><tr><td>productid</td><td>int</td><td>NULL</td><td>NO</td></tr><tr><td>dt</td><td>datetime</td><td>NULL</td><td>NO</td></tr><tr><td>loginname</td><td>nvarchar</td><td>128</td><td>NO</td></tr><tr><td>columnname</td><td>nvarchar</td><td>128</td><td>NO</td></tr><tr><td>oldval</td><td>sql_variant</td><td>0</td><td>YES</td></tr><tr><td>newval</td><td>sql_variant</td><td>0</td><td>YES</td></tr></table>"
                    },
                    "metadata": {}
                }
            ],
            "execution_count": 33
        },
        {
            "cell_type": "markdown",
            "source": [
                "<mark>EXPLANATION:</mark> This script sets up an audit table called Sales.OrderDetailsAudit in the TSQLV4 database to track changes in the Sales.OrderDetails table. It starts by ensuring it's working within the right database. Then, it checks if the audit table already exists and drops it if needed to avoid issues. The CREATE TABLE part defines the audit table's structure, including columns for storing information like IDs, timestamps, user names, and before-and-after values for changes. Constraints ensure data accuracy. Lastly, it queries the system catalog to show the new table's layout, providing a quick overview of its columns and types. This way, it creates a handy tool for monitoring order detail updates while confirming the table's setup in one go."
            ],
            "metadata": {
                "language": "sql",
                "azdata_cell_guid": "15ea8a23-010c-4aa9-90b0-4a5bdb59c752"
            },
            "attachments": {}
        },
        {
            "cell_type": "markdown",
            "source": [
                "<mark>**TOP 4 - PREPOSITON 3:**</mark> Generate a list of unique employee pairings from the HR.Employees table. This list shows potential collaborations or mentoring pairs by combining each employee with every other, ensuring no duplicates or self-pairings, giving you their IDs and names.\n",
                "\n",
                "Tables Involved: HR.Employees."
            ],
            "metadata": {
                "language": "sql",
                "azdata_cell_guid": "a5695684-5ba7-4910-a99b-013317237d68"
            },
            "attachments": {}
        },
        {
            "cell_type": "code",
            "source": [
                "SELECT\n",
                "  E1.empid, E1.firstname, E1.lastname,\n",
                "  E2.empid, E2.firstname, E2.lastname\n",
                "FROM HR.Employees AS E1\n",
                "  INNER JOIN HR.Employees AS E2\n",
                "    ON E1.empid < E2.empid;"
            ],
            "metadata": {
                "language": "sql",
                "azdata_cell_guid": "92ea05f9-ddbe-4b62-a320-f610150bd1ac"
            },
            "outputs": [
                {
                    "output_type": "display_data",
                    "data": {
                        "text/html": "(36 rows affected)"
                    },
                    "metadata": {}
                },
                {
                    "output_type": "display_data",
                    "data": {
                        "text/html": "Total execution time: 00:00:00.012"
                    },
                    "metadata": {}
                },
                {
                    "output_type": "execute_result",
                    "execution_count": 34,
                    "data": {
                        "application/vnd.dataresource+json": {
                            "schema": {
                                "fields": [
                                    {
                                        "name": "empid"
                                    },
                                    {
                                        "name": "firstname"
                                    },
                                    {
                                        "name": "lastname"
                                    },
                                    {
                                        "name": "empid"
                                    },
                                    {
                                        "name": "firstname"
                                    },
                                    {
                                        "name": "lastname"
                                    }
                                ]
                            },
                            "data": [
                                {
                                    "empid": "2",
                                    "firstname": "Don",
                                    "lastname": "Funk"
                                },
                                {
                                    "empid": "3",
                                    "firstname": "Judy",
                                    "lastname": "Lew"
                                },
                                {
                                    "empid": "3",
                                    "firstname": "Judy",
                                    "lastname": "Lew"
                                },
                                {
                                    "empid": "4",
                                    "firstname": "Yael",
                                    "lastname": "Peled"
                                },
                                {
                                    "empid": "4",
                                    "firstname": "Yael",
                                    "lastname": "Peled"
                                },
                                {
                                    "empid": "4",
                                    "firstname": "Yael",
                                    "lastname": "Peled"
                                },
                                {
                                    "empid": "5",
                                    "firstname": "Sven",
                                    "lastname": "Mortensen"
                                },
                                {
                                    "empid": "5",
                                    "firstname": "Sven",
                                    "lastname": "Mortensen"
                                },
                                {
                                    "empid": "5",
                                    "firstname": "Sven",
                                    "lastname": "Mortensen"
                                },
                                {
                                    "empid": "5",
                                    "firstname": "Sven",
                                    "lastname": "Mortensen"
                                },
                                {
                                    "empid": "6",
                                    "firstname": "Paul",
                                    "lastname": "Suurs"
                                },
                                {
                                    "empid": "6",
                                    "firstname": "Paul",
                                    "lastname": "Suurs"
                                },
                                {
                                    "empid": "6",
                                    "firstname": "Paul",
                                    "lastname": "Suurs"
                                },
                                {
                                    "empid": "6",
                                    "firstname": "Paul",
                                    "lastname": "Suurs"
                                },
                                {
                                    "empid": "6",
                                    "firstname": "Paul",
                                    "lastname": "Suurs"
                                },
                                {
                                    "empid": "7",
                                    "firstname": "Russell",
                                    "lastname": "King"
                                },
                                {
                                    "empid": "7",
                                    "firstname": "Russell",
                                    "lastname": "King"
                                },
                                {
                                    "empid": "7",
                                    "firstname": "Russell",
                                    "lastname": "King"
                                },
                                {
                                    "empid": "7",
                                    "firstname": "Russell",
                                    "lastname": "King"
                                },
                                {
                                    "empid": "7",
                                    "firstname": "Russell",
                                    "lastname": "King"
                                },
                                {
                                    "empid": "7",
                                    "firstname": "Russell",
                                    "lastname": "King"
                                },
                                {
                                    "empid": "8",
                                    "firstname": "Maria",
                                    "lastname": "Cameron"
                                },
                                {
                                    "empid": "8",
                                    "firstname": "Maria",
                                    "lastname": "Cameron"
                                },
                                {
                                    "empid": "8",
                                    "firstname": "Maria",
                                    "lastname": "Cameron"
                                },
                                {
                                    "empid": "8",
                                    "firstname": "Maria",
                                    "lastname": "Cameron"
                                },
                                {
                                    "empid": "8",
                                    "firstname": "Maria",
                                    "lastname": "Cameron"
                                },
                                {
                                    "empid": "8",
                                    "firstname": "Maria",
                                    "lastname": "Cameron"
                                },
                                {
                                    "empid": "8",
                                    "firstname": "Maria",
                                    "lastname": "Cameron"
                                },
                                {
                                    "empid": "9",
                                    "firstname": "Patricia",
                                    "lastname": "Doyle"
                                },
                                {
                                    "empid": "9",
                                    "firstname": "Patricia",
                                    "lastname": "Doyle"
                                },
                                {
                                    "empid": "9",
                                    "firstname": "Patricia",
                                    "lastname": "Doyle"
                                },
                                {
                                    "empid": "9",
                                    "firstname": "Patricia",
                                    "lastname": "Doyle"
                                },
                                {
                                    "empid": "9",
                                    "firstname": "Patricia",
                                    "lastname": "Doyle"
                                },
                                {
                                    "empid": "9",
                                    "firstname": "Patricia",
                                    "lastname": "Doyle"
                                },
                                {
                                    "empid": "9",
                                    "firstname": "Patricia",
                                    "lastname": "Doyle"
                                },
                                {
                                    "empid": "9",
                                    "firstname": "Patricia",
                                    "lastname": "Doyle"
                                }
                            ]
                        },
                        "text/html": "<table><tr><th>empid</th><th>firstname</th><th>lastname</th><th>empid</th><th>firstname</th><th>lastname</th></tr><tr><td>1</td><td>Sara</td><td>Davis</td><td>2</td><td>Don</td><td>Funk</td></tr><tr><td>1</td><td>Sara</td><td>Davis</td><td>3</td><td>Judy</td><td>Lew</td></tr><tr><td>2</td><td>Don</td><td>Funk</td><td>3</td><td>Judy</td><td>Lew</td></tr><tr><td>1</td><td>Sara</td><td>Davis</td><td>4</td><td>Yael</td><td>Peled</td></tr><tr><td>2</td><td>Don</td><td>Funk</td><td>4</td><td>Yael</td><td>Peled</td></tr><tr><td>3</td><td>Judy</td><td>Lew</td><td>4</td><td>Yael</td><td>Peled</td></tr><tr><td>1</td><td>Sara</td><td>Davis</td><td>5</td><td>Sven</td><td>Mortensen</td></tr><tr><td>2</td><td>Don</td><td>Funk</td><td>5</td><td>Sven</td><td>Mortensen</td></tr><tr><td>3</td><td>Judy</td><td>Lew</td><td>5</td><td>Sven</td><td>Mortensen</td></tr><tr><td>4</td><td>Yael</td><td>Peled</td><td>5</td><td>Sven</td><td>Mortensen</td></tr><tr><td>1</td><td>Sara</td><td>Davis</td><td>6</td><td>Paul</td><td>Suurs</td></tr><tr><td>2</td><td>Don</td><td>Funk</td><td>6</td><td>Paul</td><td>Suurs</td></tr><tr><td>3</td><td>Judy</td><td>Lew</td><td>6</td><td>Paul</td><td>Suurs</td></tr><tr><td>4</td><td>Yael</td><td>Peled</td><td>6</td><td>Paul</td><td>Suurs</td></tr><tr><td>5</td><td>Sven</td><td>Mortensen</td><td>6</td><td>Paul</td><td>Suurs</td></tr><tr><td>1</td><td>Sara</td><td>Davis</td><td>7</td><td>Russell</td><td>King</td></tr><tr><td>2</td><td>Don</td><td>Funk</td><td>7</td><td>Russell</td><td>King</td></tr><tr><td>3</td><td>Judy</td><td>Lew</td><td>7</td><td>Russell</td><td>King</td></tr><tr><td>4</td><td>Yael</td><td>Peled</td><td>7</td><td>Russell</td><td>King</td></tr><tr><td>5</td><td>Sven</td><td>Mortensen</td><td>7</td><td>Russell</td><td>King</td></tr><tr><td>6</td><td>Paul</td><td>Suurs</td><td>7</td><td>Russell</td><td>King</td></tr><tr><td>1</td><td>Sara</td><td>Davis</td><td>8</td><td>Maria</td><td>Cameron</td></tr><tr><td>2</td><td>Don</td><td>Funk</td><td>8</td><td>Maria</td><td>Cameron</td></tr><tr><td>3</td><td>Judy</td><td>Lew</td><td>8</td><td>Maria</td><td>Cameron</td></tr><tr><td>4</td><td>Yael</td><td>Peled</td><td>8</td><td>Maria</td><td>Cameron</td></tr><tr><td>5</td><td>Sven</td><td>Mortensen</td><td>8</td><td>Maria</td><td>Cameron</td></tr><tr><td>6</td><td>Paul</td><td>Suurs</td><td>8</td><td>Maria</td><td>Cameron</td></tr><tr><td>7</td><td>Russell</td><td>King</td><td>8</td><td>Maria</td><td>Cameron</td></tr><tr><td>1</td><td>Sara</td><td>Davis</td><td>9</td><td>Patricia</td><td>Doyle</td></tr><tr><td>2</td><td>Don</td><td>Funk</td><td>9</td><td>Patricia</td><td>Doyle</td></tr><tr><td>3</td><td>Judy</td><td>Lew</td><td>9</td><td>Patricia</td><td>Doyle</td></tr><tr><td>4</td><td>Yael</td><td>Peled</td><td>9</td><td>Patricia</td><td>Doyle</td></tr><tr><td>5</td><td>Sven</td><td>Mortensen</td><td>9</td><td>Patricia</td><td>Doyle</td></tr><tr><td>6</td><td>Paul</td><td>Suurs</td><td>9</td><td>Patricia</td><td>Doyle</td></tr><tr><td>7</td><td>Russell</td><td>King</td><td>9</td><td>Patricia</td><td>Doyle</td></tr><tr><td>8</td><td>Maria</td><td>Cameron</td><td>9</td><td>Patricia</td><td>Doyle</td></tr></table>"
                    },
                    "metadata": {}
                }
            ],
            "execution_count": 34
        },
        {
            "cell_type": "markdown",
            "source": [
                "<mark>EXPLANATION:</mark> This SQL query retrieves pairs of employees from the HR.Employees table, allowing for unique combinations of employees to be selected. The query achieves this by joining the Employees table with itself using an INNER JOIN. By doing so, each employee in the table is paired with every other employee, ensuring no duplicates or self-pairings. The condition E1.empid < E2.empid in the ON clause ensures that each pair is unique, as it specifies that the empid of the first employee (E1) must be less than the empid of the second employee (E2). This way, the query efficiently generates a list of distinct employee pairs, which can be useful for identifying potential collaborations or mentorship opportunities within the organization."
            ],
            "metadata": {
                "language": "sql",
                "azdata_cell_guid": "1078fec8-a173-49d4-9a63-6e0eb9218dc3"
            },
            "attachments": {}
        },
        {
            "cell_type": "markdown",
            "source": [
                "<mark>**TOP 5 - PREPOSITON 4:**</mark> Pull together a comprehensive view of each order by joining Sales.Customers, Sales.Orders, and Sales.OrderDetails. This will give you a full rundown for each order: who placed it (customer ID and name), the order ID, and the specifics of what was ordered (product ID and quantity). This multi-join approach gives a complete snapshot of the order process."
            ],
            "metadata": {
                "language": "sql",
                "azdata_cell_guid": "d7e4c9cc-18e7-46cc-a20f-4d69a8144cac"
            },
            "attachments": {}
        },
        {
            "cell_type": "code",
            "source": [
                "SELECT\n",
                "  C.custid, C.companyname, O.orderid,\n",
                "  OD.productid, OD.qty\n",
                "FROM Sales.Customers AS C\n",
                "  INNER JOIN Sales.Orders AS O\n",
                "    ON C.custid = O.custid\n",
                "  INNER JOIN Sales.OrderDetails AS OD\n",
                "    ON O.orderid = OD.orderid;\n",
                ""
            ],
            "metadata": {
                "language": "sql",
                "azdata_cell_guid": "91c9d529-d257-4ffe-b804-6f62e7c58034"
            },
            "outputs": [
                {
                    "output_type": "display_data",
                    "data": {
                        "text/html": "(2155 rows affected)"
                    },
                    "metadata": {}
                },
                {
                    "output_type": "display_data",
                    "data": {
                        "text/html": "Total execution time: 00:00:00.083"
                    },
                    "metadata": {}
                },
                {
                    "output_type": "execute_result",
                    "execution_count": 35,
                    "data": {
                        "application/vnd.dataresource+json": {
                            "schema": {
                                "fields": [
                                    {
                                        "name": "custid"
                                    },
                                    {
                                        "name": "companyname"
                                    },
                                    {
                                        "name": "orderid"
                                    },
                                    {
                                        "name": "productid"
                                    },
                                    {
                                        "name": "qty"
                                    }
                                ]
                            },
                            "data": [
                                {
                                    "custid": "85",
                                    "companyname": "Customer ENQZT",
                                    "orderid": "10248",
                                    "productid": "11",
                                    "qty": "12"
                                },
                                {
                                    "custid": "85",
                                    "companyname": "Customer ENQZT",
                                    "orderid": "10248",
                                    "productid": "42",
                                    "qty": "10"
                                },
                                {
                                    "custid": "85",
                                    "companyname": "Customer ENQZT",
                                    "orderid": "10248",
                                    "productid": "72",
                                    "qty": "5"
                                },
                                {
                                    "custid": "79",
                                    "companyname": "Customer FAPSM",
                                    "orderid": "10249",
                                    "productid": "14",
                                    "qty": "9"
                                },
                                {
                                    "custid": "79",
                                    "companyname": "Customer FAPSM",
                                    "orderid": "10249",
                                    "productid": "51",
                                    "qty": "40"
                                },
                                {
                                    "custid": "34",
                                    "companyname": "Customer IBVRG",
                                    "orderid": "10250",
                                    "productid": "41",
                                    "qty": "10"
                                },
                                {
                                    "custid": "34",
                                    "companyname": "Customer IBVRG",
                                    "orderid": "10250",
                                    "productid": "51",
                                    "qty": "35"
                                },
                                {
                                    "custid": "34",
                                    "companyname": "Customer IBVRG",
                                    "orderid": "10250",
                                    "productid": "65",
                                    "qty": "15"
                                },
                                {
                                    "custid": "84",
                                    "companyname": "Customer NRCSK",
                                    "orderid": "10251",
                                    "productid": "22",
                                    "qty": "6"
                                },
                                {
                                    "custid": "84",
                                    "companyname": "Customer NRCSK",
                                    "orderid": "10251",
                                    "productid": "57",
                                    "qty": "15"
                                },
                                {
                                    "custid": "84",
                                    "companyname": "Customer NRCSK",
                                    "orderid": "10251",
                                    "productid": "65",
                                    "qty": "20"
                                },
                                {
                                    "custid": "76",
                                    "companyname": "Customer SFOGW",
                                    "orderid": "10252",
                                    "productid": "20",
                                    "qty": "40"
                                },
                                {
                                    "custid": "76",
                                    "companyname": "Customer SFOGW",
                                    "orderid": "10252",
                                    "productid": "33",
                                    "qty": "25"
                                },
                                {
                                    "custid": "76",
                                    "companyname": "Customer SFOGW",
                                    "orderid": "10252",
                                    "productid": "60",
                                    "qty": "40"
                                },
                                {
                                    "custid": "34",
                                    "companyname": "Customer IBVRG",
                                    "orderid": "10253",
                                    "productid": "31",
                                    "qty": "20"
                                },
                                {
                                    "custid": "34",
                                    "companyname": "Customer IBVRG",
                                    "orderid": "10253",
                                    "productid": "39",
                                    "qty": "42"
                                },
                                {
                                    "custid": "34",
                                    "companyname": "Customer IBVRG",
                                    "orderid": "10253",
                                    "productid": "49",
                                    "qty": "40"
                                },
                                {
                                    "custid": "14",
                                    "companyname": "Customer WNMAF",
                                    "orderid": "10254",
                                    "productid": "24",
                                    "qty": "15"
                                },
                                {
                                    "custid": "14",
                                    "companyname": "Customer WNMAF",
                                    "orderid": "10254",
                                    "productid": "55",
                                    "qty": "21"
                                },
                                {
                                    "custid": "14",
                                    "companyname": "Customer WNMAF",
                                    "orderid": "10254",
                                    "productid": "74",
                                    "qty": "21"
                                },
                                {
                                    "custid": "68",
                                    "companyname": "Customer CCKOT",
                                    "orderid": "10255",
                                    "productid": "2",
                                    "qty": "20"
                                },
                                {
                                    "custid": "68",
                                    "companyname": "Customer CCKOT",
                                    "orderid": "10255",
                                    "productid": "16",
                                    "qty": "35"
                                },
                                {
                                    "custid": "68",
                                    "companyname": "Customer CCKOT",
                                    "orderid": "10255",
                                    "productid": "36",
                                    "qty": "25"
                                },
                                {
                                    "custid": "68",
                                    "companyname": "Customer CCKOT",
                                    "orderid": "10255",
                                    "productid": "59",
                                    "qty": "30"
                                },
                                {
                                    "custid": "88",
                                    "companyname": "Customer SRQVM",
                                    "orderid": "10256",
                                    "productid": "53",
                                    "qty": "15"
                                },
                                {
                                    "custid": "88",
                                    "companyname": "Customer SRQVM",
                                    "orderid": "10256",
                                    "productid": "77",
                                    "qty": "12"
                                },
                                {
                                    "custid": "35",
                                    "companyname": "Customer UMTLM",
                                    "orderid": "10257",
                                    "productid": "27",
                                    "qty": "25"
                                },
                                {
                                    "custid": "35",
                                    "companyname": "Customer UMTLM",
                                    "orderid": "10257",
                                    "productid": "39",
                                    "qty": "6"
                                },
                                {
                                    "custid": "35",
                                    "companyname": "Customer UMTLM",
                                    "orderid": "10257",
                                    "productid": "77",
                                    "qty": "15"
                                },
                                {
                                    "custid": "20",
                                    "companyname": "Customer THHDP",
                                    "orderid": "10258",
                                    "productid": "2",
                                    "qty": "50"
                                },
                                {
                                    "custid": "20",
                                    "companyname": "Customer THHDP",
                                    "orderid": "10258",
                                    "productid": "5",
                                    "qty": "65"
                                },
                                {
                                    "custid": "20",
                                    "companyname": "Customer THHDP",
                                    "orderid": "10258",
                                    "productid": "32",
                                    "qty": "6"
                                },
                                {
                                    "custid": "13",
                                    "companyname": "Customer VMLOG",
                                    "orderid": "10259",
                                    "productid": "21",
                                    "qty": "10"
                                },
                                {
                                    "custid": "13",
                                    "companyname": "Customer VMLOG",
                                    "orderid": "10259",
                                    "productid": "37",
                                    "qty": "1"
                                },
                                {
                                    "custid": "56",
                                    "companyname": "Customer QNIVZ",
                                    "orderid": "10260",
                                    "productid": "41",
                                    "qty": "16"
                                },
                                {
                                    "custid": "56",
                                    "companyname": "Customer QNIVZ",
                                    "orderid": "10260",
                                    "productid": "57",
                                    "qty": "50"
                                },
                                {
                                    "custid": "56",
                                    "companyname": "Customer QNIVZ",
                                    "orderid": "10260",
                                    "productid": "62",
                                    "qty": "15"
                                },
                                {
                                    "custid": "56",
                                    "companyname": "Customer QNIVZ",
                                    "orderid": "10260",
                                    "productid": "70",
                                    "qty": "21"
                                },
                                {
                                    "custid": "61",
                                    "companyname": "Customer WULWD",
                                    "orderid": "10261",
                                    "productid": "21",
                                    "qty": "20"
                                },
                                {
                                    "custid": "61",
                                    "companyname": "Customer WULWD",
                                    "orderid": "10261",
                                    "productid": "35",
                                    "qty": "20"
                                },
                                {
                                    "custid": "65",
                                    "companyname": "Customer NYUHS",
                                    "orderid": "10262",
                                    "productid": "5",
                                    "qty": "12"
                                },
                                {
                                    "custid": "65",
                                    "companyname": "Customer NYUHS",
                                    "orderid": "10262",
                                    "productid": "7",
                                    "qty": "15"
                                },
                                {
                                    "custid": "65",
                                    "companyname": "Customer NYUHS",
                                    "orderid": "10262",
                                    "productid": "56",
                                    "qty": "2"
                                },
                                {
                                    "custid": "20",
                                    "companyname": "Customer THHDP",
                                    "orderid": "10263",
                                    "productid": "16",
                                    "qty": "60"
                                },
                                {
                                    "custid": "20",
                                    "companyname": "Customer THHDP",
                                    "orderid": "10263",
                                    "productid": "24",
                                    "qty": "28"
                                },
                                {
                                    "custid": "20",
                                    "companyname": "Customer THHDP",
                                    "orderid": "10263",
                                    "productid": "30",
                                    "qty": "60"
                                },
                                {
                                    "custid": "20",
                                    "companyname": "Customer THHDP",
                                    "orderid": "10263",
                                    "productid": "74",
                                    "qty": "36"
                                },
                                {
                                    "custid": "24",
                                    "companyname": "Customer CYZTN",
                                    "orderid": "10264",
                                    "productid": "2",
                                    "qty": "35"
                                },
                                {
                                    "custid": "24",
                                    "companyname": "Customer CYZTN",
                                    "orderid": "10264",
                                    "productid": "41",
                                    "qty": "25"
                                },
                                {
                                    "custid": "7",
                                    "companyname": "Customer QXVLA",
                                    "orderid": "10265",
                                    "productid": "17",
                                    "qty": "30"
                                },
                                {
                                    "custid": "7",
                                    "companyname": "Customer QXVLA",
                                    "orderid": "10265",
                                    "productid": "70",
                                    "qty": "20"
                                },
                                {
                                    "custid": "87",
                                    "companyname": "Customer ZHYOS",
                                    "orderid": "10266",
                                    "productid": "12",
                                    "qty": "12"
                                },
                                {
                                    "custid": "25",
                                    "companyname": "Customer AZJED",
                                    "orderid": "10267",
                                    "productid": "40",
                                    "qty": "50"
                                },
                                {
                                    "custid": "25",
                                    "companyname": "Customer AZJED",
                                    "orderid": "10267",
                                    "productid": "59",
                                    "qty": "70"
                                },
                                {
                                    "custid": "25",
                                    "companyname": "Customer AZJED",
                                    "orderid": "10267",
                                    "productid": "76",
                                    "qty": "15"
                                },
                                {
                                    "custid": "33",
                                    "companyname": "Customer FVXPQ",
                                    "orderid": "10268",
                                    "productid": "29",
                                    "qty": "10"
                                },
                                {
                                    "custid": "33",
                                    "companyname": "Customer FVXPQ",
                                    "orderid": "10268",
                                    "productid": "72",
                                    "qty": "4"
                                },
                                {
                                    "custid": "89",
                                    "companyname": "Customer YBQTI",
                                    "orderid": "10269",
                                    "productid": "33",
                                    "qty": "60"
                                },
                                {
                                    "custid": "89",
                                    "companyname": "Customer YBQTI",
                                    "orderid": "10269",
                                    "productid": "72",
                                    "qty": "20"
                                },
                                {
                                    "custid": "87",
                                    "companyname": "Customer ZHYOS",
                                    "orderid": "10270",
                                    "productid": "36",
                                    "qty": "30"
                                },
                                {
                                    "custid": "87",
                                    "companyname": "Customer ZHYOS",
                                    "orderid": "10270",
                                    "productid": "43",
                                    "qty": "25"
                                },
                                {
                                    "custid": "75",
                                    "companyname": "Customer XOJYP",
                                    "orderid": "10271",
                                    "productid": "33",
                                    "qty": "24"
                                },
                                {
                                    "custid": "65",
                                    "companyname": "Customer NYUHS",
                                    "orderid": "10272",
                                    "productid": "20",
                                    "qty": "6"
                                },
                                {
                                    "custid": "65",
                                    "companyname": "Customer NYUHS",
                                    "orderid": "10272",
                                    "productid": "31",
                                    "qty": "40"
                                },
                                {
                                    "custid": "65",
                                    "companyname": "Customer NYUHS",
                                    "orderid": "10272",
                                    "productid": "72",
                                    "qty": "24"
                                },
                                {
                                    "custid": "63",
                                    "companyname": "Customer IRRVL",
                                    "orderid": "10273",
                                    "productid": "10",
                                    "qty": "24"
                                },
                                {
                                    "custid": "63",
                                    "companyname": "Customer IRRVL",
                                    "orderid": "10273",
                                    "productid": "31",
                                    "qty": "15"
                                },
                                {
                                    "custid": "63",
                                    "companyname": "Customer IRRVL",
                                    "orderid": "10273",
                                    "productid": "33",
                                    "qty": "20"
                                },
                                {
                                    "custid": "63",
                                    "companyname": "Customer IRRVL",
                                    "orderid": "10273",
                                    "productid": "40",
                                    "qty": "60"
                                },
                                {
                                    "custid": "63",
                                    "companyname": "Customer IRRVL",
                                    "orderid": "10273",
                                    "productid": "76",
                                    "qty": "33"
                                },
                                {
                                    "custid": "85",
                                    "companyname": "Customer ENQZT",
                                    "orderid": "10274",
                                    "productid": "71",
                                    "qty": "20"
                                },
                                {
                                    "custid": "85",
                                    "companyname": "Customer ENQZT",
                                    "orderid": "10274",
                                    "productid": "72",
                                    "qty": "7"
                                },
                                {
                                    "custid": "49",
                                    "companyname": "Customer CQRAA",
                                    "orderid": "10275",
                                    "productid": "24",
                                    "qty": "12"
                                },
                                {
                                    "custid": "49",
                                    "companyname": "Customer CQRAA",
                                    "orderid": "10275",
                                    "productid": "59",
                                    "qty": "6"
                                },
                                {
                                    "custid": "80",
                                    "companyname": "Customer VONTK",
                                    "orderid": "10276",
                                    "productid": "10",
                                    "qty": "15"
                                },
                                {
                                    "custid": "80",
                                    "companyname": "Customer VONTK",
                                    "orderid": "10276",
                                    "productid": "13",
                                    "qty": "10"
                                },
                                {
                                    "custid": "52",
                                    "companyname": "Customer PZNLA",
                                    "orderid": "10277",
                                    "productid": "28",
                                    "qty": "20"
                                },
                                {
                                    "custid": "52",
                                    "companyname": "Customer PZNLA",
                                    "orderid": "10277",
                                    "productid": "62",
                                    "qty": "12"
                                },
                                {
                                    "custid": "5",
                                    "companyname": "Customer HGVLZ",
                                    "orderid": "10278",
                                    "productid": "44",
                                    "qty": "16"
                                },
                                {
                                    "custid": "5",
                                    "companyname": "Customer HGVLZ",
                                    "orderid": "10278",
                                    "productid": "59",
                                    "qty": "15"
                                },
                                {
                                    "custid": "5",
                                    "companyname": "Customer HGVLZ",
                                    "orderid": "10278",
                                    "productid": "63",
                                    "qty": "8"
                                },
                                {
                                    "custid": "5",
                                    "companyname": "Customer HGVLZ",
                                    "orderid": "10278",
                                    "productid": "73",
                                    "qty": "25"
                                },
                                {
                                    "custid": "44",
                                    "companyname": "Customer OXFRU",
                                    "orderid": "10279",
                                    "productid": "17",
                                    "qty": "15"
                                },
                                {
                                    "custid": "5",
                                    "companyname": "Customer HGVLZ",
                                    "orderid": "10280",
                                    "productid": "24",
                                    "qty": "12"
                                },
                                {
                                    "custid": "5",
                                    "companyname": "Customer HGVLZ",
                                    "orderid": "10280",
                                    "productid": "55",
                                    "qty": "20"
                                },
                                {
                                    "custid": "5",
                                    "companyname": "Customer HGVLZ",
                                    "orderid": "10280",
                                    "productid": "75",
                                    "qty": "30"
                                },
                                {
                                    "custid": "69",
                                    "companyname": "Customer SIUIH",
                                    "orderid": "10281",
                                    "productid": "19",
                                    "qty": "1"
                                },
                                {
                                    "custid": "69",
                                    "companyname": "Customer SIUIH",
                                    "orderid": "10281",
                                    "productid": "24",
                                    "qty": "6"
                                },
                                {
                                    "custid": "69",
                                    "companyname": "Customer SIUIH",
                                    "orderid": "10281",
                                    "productid": "35",
                                    "qty": "4"
                                },
                                {
                                    "custid": "69",
                                    "companyname": "Customer SIUIH",
                                    "orderid": "10282",
                                    "productid": "30",
                                    "qty": "6"
                                },
                                {
                                    "custid": "69",
                                    "companyname": "Customer SIUIH",
                                    "orderid": "10282",
                                    "productid": "57",
                                    "qty": "2"
                                },
                                {
                                    "custid": "46",
                                    "companyname": "Customer XPNIK",
                                    "orderid": "10283",
                                    "productid": "15",
                                    "qty": "20"
                                },
                                {
                                    "custid": "46",
                                    "companyname": "Customer XPNIK",
                                    "orderid": "10283",
                                    "productid": "19",
                                    "qty": "18"
                                },
                                {
                                    "custid": "46",
                                    "companyname": "Customer XPNIK",
                                    "orderid": "10283",
                                    "productid": "60",
                                    "qty": "35"
                                },
                                {
                                    "custid": "46",
                                    "companyname": "Customer XPNIK",
                                    "orderid": "10283",
                                    "productid": "72",
                                    "qty": "3"
                                },
                                {
                                    "custid": "44",
                                    "companyname": "Customer OXFRU",
                                    "orderid": "10284",
                                    "productid": "27",
                                    "qty": "15"
                                },
                                {
                                    "custid": "44",
                                    "companyname": "Customer OXFRU",
                                    "orderid": "10284",
                                    "productid": "44",
                                    "qty": "21"
                                },
                                {
                                    "custid": "44",
                                    "companyname": "Customer OXFRU",
                                    "orderid": "10284",
                                    "productid": "60",
                                    "qty": "20"
                                },
                                {
                                    "custid": "44",
                                    "companyname": "Customer OXFRU",
                                    "orderid": "10284",
                                    "productid": "67",
                                    "qty": "5"
                                },
                                {
                                    "custid": "63",
                                    "companyname": "Customer IRRVL",
                                    "orderid": "10285",
                                    "productid": "1",
                                    "qty": "45"
                                },
                                {
                                    "custid": "63",
                                    "companyname": "Customer IRRVL",
                                    "orderid": "10285",
                                    "productid": "40",
                                    "qty": "40"
                                },
                                {
                                    "custid": "63",
                                    "companyname": "Customer IRRVL",
                                    "orderid": "10285",
                                    "productid": "53",
                                    "qty": "36"
                                },
                                {
                                    "custid": "63",
                                    "companyname": "Customer IRRVL",
                                    "orderid": "10286",
                                    "productid": "35",
                                    "qty": "100"
                                },
                                {
                                    "custid": "63",
                                    "companyname": "Customer IRRVL",
                                    "orderid": "10286",
                                    "productid": "62",
                                    "qty": "40"
                                },
                                {
                                    "custid": "67",
                                    "companyname": "Customer QVEPD",
                                    "orderid": "10287",
                                    "productid": "16",
                                    "qty": "40"
                                },
                                {
                                    "custid": "67",
                                    "companyname": "Customer QVEPD",
                                    "orderid": "10287",
                                    "productid": "34",
                                    "qty": "20"
                                },
                                {
                                    "custid": "67",
                                    "companyname": "Customer QVEPD",
                                    "orderid": "10287",
                                    "productid": "46",
                                    "qty": "15"
                                },
                                {
                                    "custid": "66",
                                    "companyname": "Customer LHANT",
                                    "orderid": "10288",
                                    "productid": "54",
                                    "qty": "10"
                                },
                                {
                                    "custid": "66",
                                    "companyname": "Customer LHANT",
                                    "orderid": "10288",
                                    "productid": "68",
                                    "qty": "3"
                                },
                                {
                                    "custid": "11",
                                    "companyname": "Customer UBHAU",
                                    "orderid": "10289",
                                    "productid": "3",
                                    "qty": "30"
                                },
                                {
                                    "custid": "11",
                                    "companyname": "Customer UBHAU",
                                    "orderid": "10289",
                                    "productid": "64",
                                    "qty": "9"
                                },
                                {
                                    "custid": "15",
                                    "companyname": "Customer JUWXK",
                                    "orderid": "10290",
                                    "productid": "5",
                                    "qty": "20"
                                },
                                {
                                    "custid": "15",
                                    "companyname": "Customer JUWXK",
                                    "orderid": "10290",
                                    "productid": "29",
                                    "qty": "15"
                                },
                                {
                                    "custid": "15",
                                    "companyname": "Customer JUWXK",
                                    "orderid": "10290",
                                    "productid": "49",
                                    "qty": "15"
                                },
                                {
                                    "custid": "15",
                                    "companyname": "Customer JUWXK",
                                    "orderid": "10290",
                                    "productid": "77",
                                    "qty": "10"
                                },
                                {
                                    "custid": "61",
                                    "companyname": "Customer WULWD",
                                    "orderid": "10291",
                                    "productid": "13",
                                    "qty": "20"
                                },
                                {
                                    "custid": "61",
                                    "companyname": "Customer WULWD",
                                    "orderid": "10291",
                                    "productid": "44",
                                    "qty": "24"
                                },
                                {
                                    "custid": "61",
                                    "companyname": "Customer WULWD",
                                    "orderid": "10291",
                                    "productid": "51",
                                    "qty": "2"
                                },
                                {
                                    "custid": "81",
                                    "companyname": "Customer YQQWW",
                                    "orderid": "10292",
                                    "productid": "20",
                                    "qty": "20"
                                },
                                {
                                    "custid": "80",
                                    "companyname": "Customer VONTK",
                                    "orderid": "10293",
                                    "productid": "18",
                                    "qty": "12"
                                },
                                {
                                    "custid": "80",
                                    "companyname": "Customer VONTK",
                                    "orderid": "10293",
                                    "productid": "24",
                                    "qty": "10"
                                },
                                {
                                    "custid": "80",
                                    "companyname": "Customer VONTK",
                                    "orderid": "10293",
                                    "productid": "63",
                                    "qty": "5"
                                },
                                {
                                    "custid": "80",
                                    "companyname": "Customer VONTK",
                                    "orderid": "10293",
                                    "productid": "75",
                                    "qty": "6"
                                },
                                {
                                    "custid": "65",
                                    "companyname": "Customer NYUHS",
                                    "orderid": "10294",
                                    "productid": "1",
                                    "qty": "18"
                                },
                                {
                                    "custid": "65",
                                    "companyname": "Customer NYUHS",
                                    "orderid": "10294",
                                    "productid": "17",
                                    "qty": "15"
                                },
                                {
                                    "custid": "65",
                                    "companyname": "Customer NYUHS",
                                    "orderid": "10294",
                                    "productid": "43",
                                    "qty": "15"
                                },
                                {
                                    "custid": "65",
                                    "companyname": "Customer NYUHS",
                                    "orderid": "10294",
                                    "productid": "60",
                                    "qty": "21"
                                },
                                {
                                    "custid": "65",
                                    "companyname": "Customer NYUHS",
                                    "orderid": "10294",
                                    "productid": "75",
                                    "qty": "6"
                                },
                                {
                                    "custid": "85",
                                    "companyname": "Customer ENQZT",
                                    "orderid": "10295",
                                    "productid": "56",
                                    "qty": "4"
                                },
                                {
                                    "custid": "46",
                                    "companyname": "Customer XPNIK",
                                    "orderid": "10296",
                                    "productid": "11",
                                    "qty": "12"
                                },
                                {
                                    "custid": "46",
                                    "companyname": "Customer XPNIK",
                                    "orderid": "10296",
                                    "productid": "16",
                                    "qty": "30"
                                },
                                {
                                    "custid": "46",
                                    "companyname": "Customer XPNIK",
                                    "orderid": "10296",
                                    "productid": "69",
                                    "qty": "15"
                                },
                                {
                                    "custid": "7",
                                    "companyname": "Customer QXVLA",
                                    "orderid": "10297",
                                    "productid": "39",
                                    "qty": "60"
                                },
                                {
                                    "custid": "7",
                                    "companyname": "Customer QXVLA",
                                    "orderid": "10297",
                                    "productid": "72",
                                    "qty": "20"
                                },
                                {
                                    "custid": "37",
                                    "companyname": "Customer FRXZL",
                                    "orderid": "10298",
                                    "productid": "2",
                                    "qty": "40"
                                },
                                {
                                    "custid": "37",
                                    "companyname": "Customer FRXZL",
                                    "orderid": "10298",
                                    "productid": "36",
                                    "qty": "40"
                                },
                                {
                                    "custid": "37",
                                    "companyname": "Customer FRXZL",
                                    "orderid": "10298",
                                    "productid": "59",
                                    "qty": "30"
                                },
                                {
                                    "custid": "37",
                                    "companyname": "Customer FRXZL",
                                    "orderid": "10298",
                                    "productid": "62",
                                    "qty": "15"
                                },
                                {
                                    "custid": "67",
                                    "companyname": "Customer QVEPD",
                                    "orderid": "10299",
                                    "productid": "19",
                                    "qty": "15"
                                },
                                {
                                    "custid": "67",
                                    "companyname": "Customer QVEPD",
                                    "orderid": "10299",
                                    "productid": "70",
                                    "qty": "20"
                                },
                                {
                                    "custid": "49",
                                    "companyname": "Customer CQRAA",
                                    "orderid": "10300",
                                    "productid": "66",
                                    "qty": "30"
                                },
                                {
                                    "custid": "49",
                                    "companyname": "Customer CQRAA",
                                    "orderid": "10300",
                                    "productid": "68",
                                    "qty": "20"
                                },
                                {
                                    "custid": "86",
                                    "companyname": "Customer SNXOJ",
                                    "orderid": "10301",
                                    "productid": "40",
                                    "qty": "10"
                                },
                                {
                                    "custid": "86",
                                    "companyname": "Customer SNXOJ",
                                    "orderid": "10301",
                                    "productid": "56",
                                    "qty": "20"
                                },
                                {
                                    "custid": "76",
                                    "companyname": "Customer SFOGW",
                                    "orderid": "10302",
                                    "productid": "17",
                                    "qty": "40"
                                },
                                {
                                    "custid": "76",
                                    "companyname": "Customer SFOGW",
                                    "orderid": "10302",
                                    "productid": "28",
                                    "qty": "28"
                                },
                                {
                                    "custid": "76",
                                    "companyname": "Customer SFOGW",
                                    "orderid": "10302",
                                    "productid": "43",
                                    "qty": "12"
                                },
                                {
                                    "custid": "30",
                                    "companyname": "Customer KSLQF",
                                    "orderid": "10303",
                                    "productid": "40",
                                    "qty": "40"
                                },
                                {
                                    "custid": "30",
                                    "companyname": "Customer KSLQF",
                                    "orderid": "10303",
                                    "productid": "65",
                                    "qty": "30"
                                },
                                {
                                    "custid": "30",
                                    "companyname": "Customer KSLQF",
                                    "orderid": "10303",
                                    "productid": "68",
                                    "qty": "15"
                                },
                                {
                                    "custid": "80",
                                    "companyname": "Customer VONTK",
                                    "orderid": "10304",
                                    "productid": "49",
                                    "qty": "30"
                                },
                                {
                                    "custid": "80",
                                    "companyname": "Customer VONTK",
                                    "orderid": "10304",
                                    "productid": "59",
                                    "qty": "10"
                                },
                                {
                                    "custid": "80",
                                    "companyname": "Customer VONTK",
                                    "orderid": "10304",
                                    "productid": "71",
                                    "qty": "2"
                                },
                                {
                                    "custid": "55",
                                    "companyname": "Customer KZQZT",
                                    "orderid": "10305",
                                    "productid": "18",
                                    "qty": "25"
                                },
                                {
                                    "custid": "55",
                                    "companyname": "Customer KZQZT",
                                    "orderid": "10305",
                                    "productid": "29",
                                    "qty": "25"
                                },
                                {
                                    "custid": "55",
                                    "companyname": "Customer KZQZT",
                                    "orderid": "10305",
                                    "productid": "39",
                                    "qty": "30"
                                },
                                {
                                    "custid": "69",
                                    "companyname": "Customer SIUIH",
                                    "orderid": "10306",
                                    "productid": "30",
                                    "qty": "10"
                                },
                                {
                                    "custid": "69",
                                    "companyname": "Customer SIUIH",
                                    "orderid": "10306",
                                    "productid": "53",
                                    "qty": "10"
                                },
                                {
                                    "custid": "69",
                                    "companyname": "Customer SIUIH",
                                    "orderid": "10306",
                                    "productid": "54",
                                    "qty": "5"
                                },
                                {
                                    "custid": "48",
                                    "companyname": "Customer DVFMB",
                                    "orderid": "10307",
                                    "productid": "62",
                                    "qty": "10"
                                },
                                {
                                    "custid": "48",
                                    "companyname": "Customer DVFMB",
                                    "orderid": "10307",
                                    "productid": "68",
                                    "qty": "3"
                                },
                                {
                                    "custid": "2",
                                    "companyname": "Customer MLTDN",
                                    "orderid": "10308",
                                    "productid": "69",
                                    "qty": "1"
                                },
                                {
                                    "custid": "2",
                                    "companyname": "Customer MLTDN",
                                    "orderid": "10308",
                                    "productid": "70",
                                    "qty": "5"
                                },
                                {
                                    "custid": "37",
                                    "companyname": "Customer FRXZL",
                                    "orderid": "10309",
                                    "productid": "4",
                                    "qty": "20"
                                },
                                {
                                    "custid": "37",
                                    "companyname": "Customer FRXZL",
                                    "orderid": "10309",
                                    "productid": "6",
                                    "qty": "30"
                                },
                                {
                                    "custid": "37",
                                    "companyname": "Customer FRXZL",
                                    "orderid": "10309",
                                    "productid": "42",
                                    "qty": "2"
                                },
                                {
                                    "custid": "37",
                                    "companyname": "Customer FRXZL",
                                    "orderid": "10309",
                                    "productid": "43",
                                    "qty": "20"
                                },
                                {
                                    "custid": "37",
                                    "companyname": "Customer FRXZL",
                                    "orderid": "10309",
                                    "productid": "71",
                                    "qty": "3"
                                },
                                {
                                    "custid": "77",
                                    "companyname": "Customer LCYBZ",
                                    "orderid": "10310",
                                    "productid": "16",
                                    "qty": "10"
                                },
                                {
                                    "custid": "77",
                                    "companyname": "Customer LCYBZ",
                                    "orderid": "10310",
                                    "productid": "62",
                                    "qty": "5"
                                },
                                {
                                    "custid": "18",
                                    "companyname": "Customer BSVAR",
                                    "orderid": "10311",
                                    "productid": "42",
                                    "qty": "6"
                                },
                                {
                                    "custid": "18",
                                    "companyname": "Customer BSVAR",
                                    "orderid": "10311",
                                    "productid": "69",
                                    "qty": "7"
                                },
                                {
                                    "custid": "86",
                                    "companyname": "Customer SNXOJ",
                                    "orderid": "10312",
                                    "productid": "28",
                                    "qty": "4"
                                },
                                {
                                    "custid": "86",
                                    "companyname": "Customer SNXOJ",
                                    "orderid": "10312",
                                    "productid": "43",
                                    "qty": "24"
                                },
                                {
                                    "custid": "86",
                                    "companyname": "Customer SNXOJ",
                                    "orderid": "10312",
                                    "productid": "53",
                                    "qty": "20"
                                },
                                {
                                    "custid": "86",
                                    "companyname": "Customer SNXOJ",
                                    "orderid": "10312",
                                    "productid": "75",
                                    "qty": "10"
                                },
                                {
                                    "custid": "63",
                                    "companyname": "Customer IRRVL",
                                    "orderid": "10313",
                                    "productid": "36",
                                    "qty": "12"
                                },
                                {
                                    "custid": "65",
                                    "companyname": "Customer NYUHS",
                                    "orderid": "10314",
                                    "productid": "32",
                                    "qty": "40"
                                },
                                {
                                    "custid": "65",
                                    "companyname": "Customer NYUHS",
                                    "orderid": "10314",
                                    "productid": "58",
                                    "qty": "30"
                                },
                                {
                                    "custid": "65",
                                    "companyname": "Customer NYUHS",
                                    "orderid": "10314",
                                    "productid": "62",
                                    "qty": "25"
                                },
                                {
                                    "custid": "38",
                                    "companyname": "Customer LJUCA",
                                    "orderid": "10315",
                                    "productid": "34",
                                    "qty": "14"
                                },
                                {
                                    "custid": "38",
                                    "companyname": "Customer LJUCA",
                                    "orderid": "10315",
                                    "productid": "70",
                                    "qty": "30"
                                },
                                {
                                    "custid": "65",
                                    "companyname": "Customer NYUHS",
                                    "orderid": "10316",
                                    "productid": "41",
                                    "qty": "10"
                                },
                                {
                                    "custid": "65",
                                    "companyname": "Customer NYUHS",
                                    "orderid": "10316",
                                    "productid": "62",
                                    "qty": "70"
                                },
                                {
                                    "custid": "48",
                                    "companyname": "Customer DVFMB",
                                    "orderid": "10317",
                                    "productid": "1",
                                    "qty": "20"
                                },
                                {
                                    "custid": "38",
                                    "companyname": "Customer LJUCA",
                                    "orderid": "10318",
                                    "productid": "41",
                                    "qty": "20"
                                },
                                {
                                    "custid": "38",
                                    "companyname": "Customer LJUCA",
                                    "orderid": "10318",
                                    "productid": "76",
                                    "qty": "6"
                                },
                                {
                                    "custid": "80",
                                    "companyname": "Customer VONTK",
                                    "orderid": "10319",
                                    "productid": "17",
                                    "qty": "8"
                                },
                                {
                                    "custid": "80",
                                    "companyname": "Customer VONTK",
                                    "orderid": "10319",
                                    "productid": "28",
                                    "qty": "14"
                                },
                                {
                                    "custid": "80",
                                    "companyname": "Customer VONTK",
                                    "orderid": "10319",
                                    "productid": "76",
                                    "qty": "30"
                                },
                                {
                                    "custid": "87",
                                    "companyname": "Customer ZHYOS",
                                    "orderid": "10320",
                                    "productid": "71",
                                    "qty": "30"
                                },
                                {
                                    "custid": "38",
                                    "companyname": "Customer LJUCA",
                                    "orderid": "10321",
                                    "productid": "35",
                                    "qty": "10"
                                },
                                {
                                    "custid": "58",
                                    "companyname": "Customer AHXHT",
                                    "orderid": "10322",
                                    "productid": "52",
                                    "qty": "20"
                                },
                                {
                                    "custid": "39",
                                    "companyname": "Customer GLLAG",
                                    "orderid": "10323",
                                    "productid": "15",
                                    "qty": "5"
                                },
                                {
                                    "custid": "39",
                                    "companyname": "Customer GLLAG",
                                    "orderid": "10323",
                                    "productid": "25",
                                    "qty": "4"
                                },
                                {
                                    "custid": "39",
                                    "companyname": "Customer GLLAG",
                                    "orderid": "10323",
                                    "productid": "39",
                                    "qty": "4"
                                },
                                {
                                    "custid": "71",
                                    "companyname": "Customer LCOUJ",
                                    "orderid": "10324",
                                    "productid": "16",
                                    "qty": "21"
                                },
                                {
                                    "custid": "71",
                                    "companyname": "Customer LCOUJ",
                                    "orderid": "10324",
                                    "productid": "35",
                                    "qty": "70"
                                },
                                {
                                    "custid": "71",
                                    "companyname": "Customer LCOUJ",
                                    "orderid": "10324",
                                    "productid": "46",
                                    "qty": "30"
                                },
                                {
                                    "custid": "71",
                                    "companyname": "Customer LCOUJ",
                                    "orderid": "10324",
                                    "productid": "59",
                                    "qty": "40"
                                },
                                {
                                    "custid": "71",
                                    "companyname": "Customer LCOUJ",
                                    "orderid": "10324",
                                    "productid": "63",
                                    "qty": "80"
                                },
                                {
                                    "custid": "39",
                                    "companyname": "Customer GLLAG",
                                    "orderid": "10325",
                                    "productid": "6",
                                    "qty": "6"
                                },
                                {
                                    "custid": "39",
                                    "companyname": "Customer GLLAG",
                                    "orderid": "10325",
                                    "productid": "13",
                                    "qty": "12"
                                },
                                {
                                    "custid": "39",
                                    "companyname": "Customer GLLAG",
                                    "orderid": "10325",
                                    "productid": "14",
                                    "qty": "9"
                                },
                                {
                                    "custid": "39",
                                    "companyname": "Customer GLLAG",
                                    "orderid": "10325",
                                    "productid": "31",
                                    "qty": "4"
                                },
                                {
                                    "custid": "39",
                                    "companyname": "Customer GLLAG",
                                    "orderid": "10325",
                                    "productid": "72",
                                    "qty": "40"
                                },
                                {
                                    "custid": "8",
                                    "companyname": "Customer QUHWH",
                                    "orderid": "10326",
                                    "productid": "4",
                                    "qty": "24"
                                },
                                {
                                    "custid": "8",
                                    "companyname": "Customer QUHWH",
                                    "orderid": "10326",
                                    "productid": "57",
                                    "qty": "16"
                                },
                                {
                                    "custid": "8",
                                    "companyname": "Customer QUHWH",
                                    "orderid": "10326",
                                    "productid": "75",
                                    "qty": "50"
                                },
                                {
                                    "custid": "24",
                                    "companyname": "Customer CYZTN",
                                    "orderid": "10327",
                                    "productid": "2",
                                    "qty": "25"
                                },
                                {
                                    "custid": "24",
                                    "companyname": "Customer CYZTN",
                                    "orderid": "10327",
                                    "productid": "11",
                                    "qty": "50"
                                },
                                {
                                    "custid": "24",
                                    "companyname": "Customer CYZTN",
                                    "orderid": "10327",
                                    "productid": "30",
                                    "qty": "35"
                                },
                                {
                                    "custid": "24",
                                    "companyname": "Customer CYZTN",
                                    "orderid": "10327",
                                    "productid": "58",
                                    "qty": "30"
                                },
                                {
                                    "custid": "28",
                                    "companyname": "Customer XYUFB",
                                    "orderid": "10328",
                                    "productid": "59",
                                    "qty": "9"
                                },
                                {
                                    "custid": "28",
                                    "companyname": "Customer XYUFB",
                                    "orderid": "10328",
                                    "productid": "65",
                                    "qty": "40"
                                },
                                {
                                    "custid": "28",
                                    "companyname": "Customer XYUFB",
                                    "orderid": "10328",
                                    "productid": "68",
                                    "qty": "10"
                                },
                                {
                                    "custid": "75",
                                    "companyname": "Customer XOJYP",
                                    "orderid": "10329",
                                    "productid": "19",
                                    "qty": "10"
                                },
                                {
                                    "custid": "75",
                                    "companyname": "Customer XOJYP",
                                    "orderid": "10329",
                                    "productid": "30",
                                    "qty": "8"
                                },
                                {
                                    "custid": "75",
                                    "companyname": "Customer XOJYP",
                                    "orderid": "10329",
                                    "productid": "38",
                                    "qty": "20"
                                },
                                {
                                    "custid": "75",
                                    "companyname": "Customer XOJYP",
                                    "orderid": "10329",
                                    "productid": "56",
                                    "qty": "12"
                                },
                                {
                                    "custid": "46",
                                    "companyname": "Customer XPNIK",
                                    "orderid": "10330",
                                    "productid": "26",
                                    "qty": "50"
                                },
                                {
                                    "custid": "46",
                                    "companyname": "Customer XPNIK",
                                    "orderid": "10330",
                                    "productid": "72",
                                    "qty": "25"
                                },
                                {
                                    "custid": "9",
                                    "companyname": "Customer RTXGC",
                                    "orderid": "10331",
                                    "productid": "54",
                                    "qty": "15"
                                },
                                {
                                    "custid": "51",
                                    "companyname": "Customer PVDZC",
                                    "orderid": "10332",
                                    "productid": "18",
                                    "qty": "40"
                                },
                                {
                                    "custid": "51",
                                    "companyname": "Customer PVDZC",
                                    "orderid": "10332",
                                    "productid": "42",
                                    "qty": "10"
                                },
                                {
                                    "custid": "51",
                                    "companyname": "Customer PVDZC",
                                    "orderid": "10332",
                                    "productid": "47",
                                    "qty": "16"
                                },
                                {
                                    "custid": "87",
                                    "companyname": "Customer ZHYOS",
                                    "orderid": "10333",
                                    "productid": "14",
                                    "qty": "10"
                                },
                                {
                                    "custid": "87",
                                    "companyname": "Customer ZHYOS",
                                    "orderid": "10333",
                                    "productid": "21",
                                    "qty": "10"
                                },
                                {
                                    "custid": "87",
                                    "companyname": "Customer ZHYOS",
                                    "orderid": "10333",
                                    "productid": "71",
                                    "qty": "40"
                                },
                                {
                                    "custid": "84",
                                    "companyname": "Customer NRCSK",
                                    "orderid": "10334",
                                    "productid": "52",
                                    "qty": "8"
                                },
                                {
                                    "custid": "84",
                                    "companyname": "Customer NRCSK",
                                    "orderid": "10334",
                                    "productid": "68",
                                    "qty": "10"
                                },
                                {
                                    "custid": "37",
                                    "companyname": "Customer FRXZL",
                                    "orderid": "10335",
                                    "productid": "2",
                                    "qty": "7"
                                },
                                {
                                    "custid": "37",
                                    "companyname": "Customer FRXZL",
                                    "orderid": "10335",
                                    "productid": "31",
                                    "qty": "25"
                                },
                                {
                                    "custid": "37",
                                    "companyname": "Customer FRXZL",
                                    "orderid": "10335",
                                    "productid": "32",
                                    "qty": "6"
                                },
                                {
                                    "custid": "37",
                                    "companyname": "Customer FRXZL",
                                    "orderid": "10335",
                                    "productid": "51",
                                    "qty": "48"
                                },
                                {
                                    "custid": "60",
                                    "companyname": "Customer QZURI",
                                    "orderid": "10336",
                                    "productid": "4",
                                    "qty": "18"
                                },
                                {
                                    "custid": "25",
                                    "companyname": "Customer AZJED",
                                    "orderid": "10337",
                                    "productid": "23",
                                    "qty": "40"
                                },
                                {
                                    "custid": "25",
                                    "companyname": "Customer AZJED",
                                    "orderid": "10337",
                                    "productid": "26",
                                    "qty": "24"
                                },
                                {
                                    "custid": "25",
                                    "companyname": "Customer AZJED",
                                    "orderid": "10337",
                                    "productid": "36",
                                    "qty": "20"
                                },
                                {
                                    "custid": "25",
                                    "companyname": "Customer AZJED",
                                    "orderid": "10337",
                                    "productid": "37",
                                    "qty": "28"
                                },
                                {
                                    "custid": "25",
                                    "companyname": "Customer AZJED",
                                    "orderid": "10337",
                                    "productid": "72",
                                    "qty": "25"
                                },
                                {
                                    "custid": "55",
                                    "companyname": "Customer KZQZT",
                                    "orderid": "10338",
                                    "productid": "17",
                                    "qty": "20"
                                },
                                {
                                    "custid": "55",
                                    "companyname": "Customer KZQZT",
                                    "orderid": "10338",
                                    "productid": "30",
                                    "qty": "15"
                                },
                                {
                                    "custid": "51",
                                    "companyname": "Customer PVDZC",
                                    "orderid": "10339",
                                    "productid": "4",
                                    "qty": "10"
                                },
                                {
                                    "custid": "51",
                                    "companyname": "Customer PVDZC",
                                    "orderid": "10339",
                                    "productid": "17",
                                    "qty": "70"
                                },
                                {
                                    "custid": "51",
                                    "companyname": "Customer PVDZC",
                                    "orderid": "10339",
                                    "productid": "62",
                                    "qty": "28"
                                },
                                {
                                    "custid": "9",
                                    "companyname": "Customer RTXGC",
                                    "orderid": "10340",
                                    "productid": "18",
                                    "qty": "20"
                                },
                                {
                                    "custid": "9",
                                    "companyname": "Customer RTXGC",
                                    "orderid": "10340",
                                    "productid": "41",
                                    "qty": "12"
                                },
                                {
                                    "custid": "9",
                                    "companyname": "Customer RTXGC",
                                    "orderid": "10340",
                                    "productid": "43",
                                    "qty": "40"
                                },
                                {
                                    "custid": "73",
                                    "companyname": "Customer JMIKW",
                                    "orderid": "10341",
                                    "productid": "33",
                                    "qty": "8"
                                },
                                {
                                    "custid": "73",
                                    "companyname": "Customer JMIKW",
                                    "orderid": "10341",
                                    "productid": "59",
                                    "qty": "9"
                                },
                                {
                                    "custid": "25",
                                    "companyname": "Customer AZJED",
                                    "orderid": "10342",
                                    "productid": "2",
                                    "qty": "24"
                                },
                                {
                                    "custid": "25",
                                    "companyname": "Customer AZJED",
                                    "orderid": "10342",
                                    "productid": "31",
                                    "qty": "56"
                                },
                                {
                                    "custid": "25",
                                    "companyname": "Customer AZJED",
                                    "orderid": "10342",
                                    "productid": "36",
                                    "qty": "40"
                                },
                                {
                                    "custid": "25",
                                    "companyname": "Customer AZJED",
                                    "orderid": "10342",
                                    "productid": "55",
                                    "qty": "40"
                                },
                                {
                                    "custid": "44",
                                    "companyname": "Customer OXFRU",
                                    "orderid": "10343",
                                    "productid": "64",
                                    "qty": "50"
                                },
                                {
                                    "custid": "44",
                                    "companyname": "Customer OXFRU",
                                    "orderid": "10343",
                                    "productid": "68",
                                    "qty": "4"
                                },
                                {
                                    "custid": "44",
                                    "companyname": "Customer OXFRU",
                                    "orderid": "10343",
                                    "productid": "76",
                                    "qty": "15"
                                },
                                {
                                    "custid": "89",
                                    "companyname": "Customer YBQTI",
                                    "orderid": "10344",
                                    "productid": "4",
                                    "qty": "35"
                                },
                                {
                                    "custid": "89",
                                    "companyname": "Customer YBQTI",
                                    "orderid": "10344",
                                    "productid": "8",
                                    "qty": "70"
                                },
                                {
                                    "custid": "63",
                                    "companyname": "Customer IRRVL",
                                    "orderid": "10345",
                                    "productid": "8",
                                    "qty": "70"
                                },
                                {
                                    "custid": "63",
                                    "companyname": "Customer IRRVL",
                                    "orderid": "10345",
                                    "productid": "19",
                                    "qty": "80"
                                },
                                {
                                    "custid": "63",
                                    "companyname": "Customer IRRVL",
                                    "orderid": "10345",
                                    "productid": "42",
                                    "qty": "9"
                                },
                                {
                                    "custid": "65",
                                    "companyname": "Customer NYUHS",
                                    "orderid": "10346",
                                    "productid": "17",
                                    "qty": "36"
                                },
                                {
                                    "custid": "65",
                                    "companyname": "Customer NYUHS",
                                    "orderid": "10346",
                                    "productid": "56",
                                    "qty": "20"
                                },
                                {
                                    "custid": "21",
                                    "companyname": "Customer KIDPX",
                                    "orderid": "10347",
                                    "productid": "25",
                                    "qty": "10"
                                },
                                {
                                    "custid": "21",
                                    "companyname": "Customer KIDPX",
                                    "orderid": "10347",
                                    "productid": "39",
                                    "qty": "50"
                                },
                                {
                                    "custid": "21",
                                    "companyname": "Customer KIDPX",
                                    "orderid": "10347",
                                    "productid": "40",
                                    "qty": "4"
                                },
                                {
                                    "custid": "21",
                                    "companyname": "Customer KIDPX",
                                    "orderid": "10347",
                                    "productid": "75",
                                    "qty": "6"
                                },
                                {
                                    "custid": "86",
                                    "companyname": "Customer SNXOJ",
                                    "orderid": "10348",
                                    "productid": "1",
                                    "qty": "15"
                                },
                                {
                                    "custid": "86",
                                    "companyname": "Customer SNXOJ",
                                    "orderid": "10348",
                                    "productid": "23",
                                    "qty": "25"
                                },
                                {
                                    "custid": "75",
                                    "companyname": "Customer XOJYP",
                                    "orderid": "10349",
                                    "productid": "54",
                                    "qty": "24"
                                },
                                {
                                    "custid": "41",
                                    "companyname": "Customer XIIWM",
                                    "orderid": "10350",
                                    "productid": "50",
                                    "qty": "15"
                                },
                                {
                                    "custid": "41",
                                    "companyname": "Customer XIIWM",
                                    "orderid": "10350",
                                    "productid": "69",
                                    "qty": "18"
                                },
                                {
                                    "custid": "20",
                                    "companyname": "Customer THHDP",
                                    "orderid": "10351",
                                    "productid": "38",
                                    "qty": "20"
                                },
                                {
                                    "custid": "20",
                                    "companyname": "Customer THHDP",
                                    "orderid": "10351",
                                    "productid": "41",
                                    "qty": "13"
                                },
                                {
                                    "custid": "20",
                                    "companyname": "Customer THHDP",
                                    "orderid": "10351",
                                    "productid": "44",
                                    "qty": "77"
                                },
                                {
                                    "custid": "20",
                                    "companyname": "Customer THHDP",
                                    "orderid": "10351",
                                    "productid": "65",
                                    "qty": "10"
                                },
                                {
                                    "custid": "28",
                                    "companyname": "Customer XYUFB",
                                    "orderid": "10352",
                                    "productid": "24",
                                    "qty": "10"
                                },
                                {
                                    "custid": "28",
                                    "companyname": "Customer XYUFB",
                                    "orderid": "10352",
                                    "productid": "54",
                                    "qty": "20"
                                },
                                {
                                    "custid": "59",
                                    "companyname": "Customer LOLJO",
                                    "orderid": "10353",
                                    "productid": "11",
                                    "qty": "12"
                                },
                                {
                                    "custid": "59",
                                    "companyname": "Customer LOLJO",
                                    "orderid": "10353",
                                    "productid": "38",
                                    "qty": "50"
                                },
                                {
                                    "custid": "58",
                                    "companyname": "Customer AHXHT",
                                    "orderid": "10354",
                                    "productid": "1",
                                    "qty": "12"
                                },
                                {
                                    "custid": "58",
                                    "companyname": "Customer AHXHT",
                                    "orderid": "10354",
                                    "productid": "29",
                                    "qty": "4"
                                },
                                {
                                    "custid": "4",
                                    "companyname": "Customer HFBZG",
                                    "orderid": "10355",
                                    "productid": "24",
                                    "qty": "25"
                                },
                                {
                                    "custid": "4",
                                    "companyname": "Customer HFBZG",
                                    "orderid": "10355",
                                    "productid": "57",
                                    "qty": "25"
                                },
                                {
                                    "custid": "86",
                                    "companyname": "Customer SNXOJ",
                                    "orderid": "10356",
                                    "productid": "31",
                                    "qty": "30"
                                },
                                {
                                    "custid": "86",
                                    "companyname": "Customer SNXOJ",
                                    "orderid": "10356",
                                    "productid": "55",
                                    "qty": "12"
                                },
                                {
                                    "custid": "86",
                                    "companyname": "Customer SNXOJ",
                                    "orderid": "10356",
                                    "productid": "69",
                                    "qty": "20"
                                },
                                {
                                    "custid": "46",
                                    "companyname": "Customer XPNIK",
                                    "orderid": "10357",
                                    "productid": "10",
                                    "qty": "30"
                                },
                                {
                                    "custid": "46",
                                    "companyname": "Customer XPNIK",
                                    "orderid": "10357",
                                    "productid": "26",
                                    "qty": "16"
                                },
                                {
                                    "custid": "46",
                                    "companyname": "Customer XPNIK",
                                    "orderid": "10357",
                                    "productid": "60",
                                    "qty": "8"
                                },
                                {
                                    "custid": "41",
                                    "companyname": "Customer XIIWM",
                                    "orderid": "10358",
                                    "productid": "24",
                                    "qty": "10"
                                },
                                {
                                    "custid": "41",
                                    "companyname": "Customer XIIWM",
                                    "orderid": "10358",
                                    "productid": "34",
                                    "qty": "10"
                                },
                                {
                                    "custid": "41",
                                    "companyname": "Customer XIIWM",
                                    "orderid": "10358",
                                    "productid": "36",
                                    "qty": "20"
                                },
                                {
                                    "custid": "72",
                                    "companyname": "Customer AHPOP",
                                    "orderid": "10359",
                                    "productid": "16",
                                    "qty": "56"
                                },
                                {
                                    "custid": "72",
                                    "companyname": "Customer AHPOP",
                                    "orderid": "10359",
                                    "productid": "31",
                                    "qty": "70"
                                },
                                {
                                    "custid": "72",
                                    "companyname": "Customer AHPOP",
                                    "orderid": "10359",
                                    "productid": "60",
                                    "qty": "80"
                                },
                                {
                                    "custid": "7",
                                    "companyname": "Customer QXVLA",
                                    "orderid": "10360",
                                    "productid": "28",
                                    "qty": "30"
                                },
                                {
                                    "custid": "7",
                                    "companyname": "Customer QXVLA",
                                    "orderid": "10360",
                                    "productid": "29",
                                    "qty": "35"
                                },
                                {
                                    "custid": "7",
                                    "companyname": "Customer QXVLA",
                                    "orderid": "10360",
                                    "productid": "38",
                                    "qty": "10"
                                },
                                {
                                    "custid": "7",
                                    "companyname": "Customer QXVLA",
                                    "orderid": "10360",
                                    "productid": "49",
                                    "qty": "35"
                                },
                                {
                                    "custid": "7",
                                    "companyname": "Customer QXVLA",
                                    "orderid": "10360",
                                    "productid": "54",
                                    "qty": "28"
                                },
                                {
                                    "custid": "63",
                                    "companyname": "Customer IRRVL",
                                    "orderid": "10361",
                                    "productid": "39",
                                    "qty": "54"
                                },
                                {
                                    "custid": "63",
                                    "companyname": "Customer IRRVL",
                                    "orderid": "10361",
                                    "productid": "60",
                                    "qty": "55"
                                },
                                {
                                    "custid": "9",
                                    "companyname": "Customer RTXGC",
                                    "orderid": "10362",
                                    "productid": "25",
                                    "qty": "50"
                                },
                                {
                                    "custid": "9",
                                    "companyname": "Customer RTXGC",
                                    "orderid": "10362",
                                    "productid": "51",
                                    "qty": "20"
                                },
                                {
                                    "custid": "9",
                                    "companyname": "Customer RTXGC",
                                    "orderid": "10362",
                                    "productid": "54",
                                    "qty": "24"
                                },
                                {
                                    "custid": "17",
                                    "companyname": "Customer FEVNN",
                                    "orderid": "10363",
                                    "productid": "31",
                                    "qty": "20"
                                },
                                {
                                    "custid": "17",
                                    "companyname": "Customer FEVNN",
                                    "orderid": "10363",
                                    "productid": "75",
                                    "qty": "12"
                                },
                                {
                                    "custid": "17",
                                    "companyname": "Customer FEVNN",
                                    "orderid": "10363",
                                    "productid": "76",
                                    "qty": "12"
                                },
                                {
                                    "custid": "19",
                                    "companyname": "Customer RFNQC",
                                    "orderid": "10364",
                                    "productid": "69",
                                    "qty": "30"
                                },
                                {
                                    "custid": "19",
                                    "companyname": "Customer RFNQC",
                                    "orderid": "10364",
                                    "productid": "71",
                                    "qty": "5"
                                },
                                {
                                    "custid": "3",
                                    "companyname": "Customer KBUDE",
                                    "orderid": "10365",
                                    "productid": "11",
                                    "qty": "24"
                                },
                                {
                                    "custid": "29",
                                    "companyname": "Customer MDLWA",
                                    "orderid": "10366",
                                    "productid": "65",
                                    "qty": "5"
                                },
                                {
                                    "custid": "29",
                                    "companyname": "Customer MDLWA",
                                    "orderid": "10366",
                                    "productid": "77",
                                    "qty": "5"
                                },
                                {
                                    "custid": "83",
                                    "companyname": "Customer ZRNDE",
                                    "orderid": "10367",
                                    "productid": "34",
                                    "qty": "36"
                                },
                                {
                                    "custid": "83",
                                    "companyname": "Customer ZRNDE",
                                    "orderid": "10367",
                                    "productid": "54",
                                    "qty": "18"
                                },
                                {
                                    "custid": "83",
                                    "companyname": "Customer ZRNDE",
                                    "orderid": "10367",
                                    "productid": "65",
                                    "qty": "15"
                                },
                                {
                                    "custid": "83",
                                    "companyname": "Customer ZRNDE",
                                    "orderid": "10367",
                                    "productid": "77",
                                    "qty": "7"
                                },
                                {
                                    "custid": "20",
                                    "companyname": "Customer THHDP",
                                    "orderid": "10368",
                                    "productid": "21",
                                    "qty": "5"
                                },
                                {
                                    "custid": "20",
                                    "companyname": "Customer THHDP",
                                    "orderid": "10368",
                                    "productid": "28",
                                    "qty": "13"
                                },
                                {
                                    "custid": "20",
                                    "companyname": "Customer THHDP",
                                    "orderid": "10368",
                                    "productid": "57",
                                    "qty": "25"
                                },
                                {
                                    "custid": "20",
                                    "companyname": "Customer THHDP",
                                    "orderid": "10368",
                                    "productid": "64",
                                    "qty": "35"
                                },
                                {
                                    "custid": "75",
                                    "companyname": "Customer XOJYP",
                                    "orderid": "10369",
                                    "productid": "29",
                                    "qty": "20"
                                },
                                {
                                    "custid": "75",
                                    "companyname": "Customer XOJYP",
                                    "orderid": "10369",
                                    "productid": "56",
                                    "qty": "18"
                                },
                                {
                                    "custid": "14",
                                    "companyname": "Customer WNMAF",
                                    "orderid": "10370",
                                    "productid": "1",
                                    "qty": "15"
                                },
                                {
                                    "custid": "14",
                                    "companyname": "Customer WNMAF",
                                    "orderid": "10370",
                                    "productid": "64",
                                    "qty": "30"
                                },
                                {
                                    "custid": "14",
                                    "companyname": "Customer WNMAF",
                                    "orderid": "10370",
                                    "productid": "74",
                                    "qty": "20"
                                },
                                {
                                    "custid": "41",
                                    "companyname": "Customer XIIWM",
                                    "orderid": "10371",
                                    "productid": "36",
                                    "qty": "6"
                                },
                                {
                                    "custid": "62",
                                    "companyname": "Customer WFIZJ",
                                    "orderid": "10372",
                                    "productid": "20",
                                    "qty": "12"
                                },
                                {
                                    "custid": "62",
                                    "companyname": "Customer WFIZJ",
                                    "orderid": "10372",
                                    "productid": "38",
                                    "qty": "40"
                                },
                                {
                                    "custid": "62",
                                    "companyname": "Customer WFIZJ",
                                    "orderid": "10372",
                                    "productid": "60",
                                    "qty": "70"
                                },
                                {
                                    "custid": "62",
                                    "companyname": "Customer WFIZJ",
                                    "orderid": "10372",
                                    "productid": "72",
                                    "qty": "42"
                                },
                                {
                                    "custid": "37",
                                    "companyname": "Customer FRXZL",
                                    "orderid": "10373",
                                    "productid": "58",
                                    "qty": "80"
                                },
                                {
                                    "custid": "37",
                                    "companyname": "Customer FRXZL",
                                    "orderid": "10373",
                                    "productid": "71",
                                    "qty": "50"
                                },
                                {
                                    "custid": "91",
                                    "companyname": "Customer CCFIZ",
                                    "orderid": "10374",
                                    "productid": "31",
                                    "qty": "30"
                                },
                                {
                                    "custid": "91",
                                    "companyname": "Customer CCFIZ",
                                    "orderid": "10374",
                                    "productid": "58",
                                    "qty": "15"
                                },
                                {
                                    "custid": "36",
                                    "companyname": "Customer LVJSO",
                                    "orderid": "10375",
                                    "productid": "14",
                                    "qty": "15"
                                },
                                {
                                    "custid": "36",
                                    "companyname": "Customer LVJSO",
                                    "orderid": "10375",
                                    "productid": "54",
                                    "qty": "10"
                                },
                                {
                                    "custid": "51",
                                    "companyname": "Customer PVDZC",
                                    "orderid": "10376",
                                    "productid": "31",
                                    "qty": "42"
                                },
                                {
                                    "custid": "72",
                                    "companyname": "Customer AHPOP",
                                    "orderid": "10377",
                                    "productid": "28",
                                    "qty": "20"
                                },
                                {
                                    "custid": "72",
                                    "companyname": "Customer AHPOP",
                                    "orderid": "10377",
                                    "productid": "39",
                                    "qty": "20"
                                },
                                {
                                    "custid": "24",
                                    "companyname": "Customer CYZTN",
                                    "orderid": "10378",
                                    "productid": "71",
                                    "qty": "6"
                                },
                                {
                                    "custid": "61",
                                    "companyname": "Customer WULWD",
                                    "orderid": "10379",
                                    "productid": "41",
                                    "qty": "8"
                                },
                                {
                                    "custid": "61",
                                    "companyname": "Customer WULWD",
                                    "orderid": "10379",
                                    "productid": "63",
                                    "qty": "16"
                                },
                                {
                                    "custid": "61",
                                    "companyname": "Customer WULWD",
                                    "orderid": "10379",
                                    "productid": "65",
                                    "qty": "20"
                                },
                                {
                                    "custid": "37",
                                    "companyname": "Customer FRXZL",
                                    "orderid": "10380",
                                    "productid": "30",
                                    "qty": "18"
                                },
                                {
                                    "custid": "37",
                                    "companyname": "Customer FRXZL",
                                    "orderid": "10380",
                                    "productid": "53",
                                    "qty": "20"
                                },
                                {
                                    "custid": "37",
                                    "companyname": "Customer FRXZL",
                                    "orderid": "10380",
                                    "productid": "60",
                                    "qty": "6"
                                },
                                {
                                    "custid": "37",
                                    "companyname": "Customer FRXZL",
                                    "orderid": "10380",
                                    "productid": "70",
                                    "qty": "30"
                                },
                                {
                                    "custid": "46",
                                    "companyname": "Customer XPNIK",
                                    "orderid": "10381",
                                    "productid": "74",
                                    "qty": "14"
                                },
                                {
                                    "custid": "20",
                                    "companyname": "Customer THHDP",
                                    "orderid": "10382",
                                    "productid": "5",
                                    "qty": "32"
                                },
                                {
                                    "custid": "20",
                                    "companyname": "Customer THHDP",
                                    "orderid": "10382",
                                    "productid": "18",
                                    "qty": "9"
                                },
                                {
                                    "custid": "20",
                                    "companyname": "Customer THHDP",
                                    "orderid": "10382",
                                    "productid": "29",
                                    "qty": "14"
                                },
                                {
                                    "custid": "20",
                                    "companyname": "Customer THHDP",
                                    "orderid": "10382",
                                    "productid": "33",
                                    "qty": "60"
                                },
                                {
                                    "custid": "20",
                                    "companyname": "Customer THHDP",
                                    "orderid": "10382",
                                    "productid": "74",
                                    "qty": "50"
                                },
                                {
                                    "custid": "4",
                                    "companyname": "Customer HFBZG",
                                    "orderid": "10383",
                                    "productid": "13",
                                    "qty": "20"
                                },
                                {
                                    "custid": "4",
                                    "companyname": "Customer HFBZG",
                                    "orderid": "10383",
                                    "productid": "50",
                                    "qty": "15"
                                },
                                {
                                    "custid": "4",
                                    "companyname": "Customer HFBZG",
                                    "orderid": "10383",
                                    "productid": "56",
                                    "qty": "20"
                                },
                                {
                                    "custid": "5",
                                    "companyname": "Customer HGVLZ",
                                    "orderid": "10384",
                                    "productid": "20",
                                    "qty": "28"
                                },
                                {
                                    "custid": "5",
                                    "companyname": "Customer HGVLZ",
                                    "orderid": "10384",
                                    "productid": "60",
                                    "qty": "15"
                                },
                                {
                                    "custid": "75",
                                    "companyname": "Customer XOJYP",
                                    "orderid": "10385",
                                    "productid": "7",
                                    "qty": "10"
                                },
                                {
                                    "custid": "75",
                                    "companyname": "Customer XOJYP",
                                    "orderid": "10385",
                                    "productid": "60",
                                    "qty": "20"
                                },
                                {
                                    "custid": "75",
                                    "companyname": "Customer XOJYP",
                                    "orderid": "10385",
                                    "productid": "68",
                                    "qty": "8"
                                },
                                {
                                    "custid": "21",
                                    "companyname": "Customer KIDPX",
                                    "orderid": "10386",
                                    "productid": "24",
                                    "qty": "15"
                                },
                                {
                                    "custid": "21",
                                    "companyname": "Customer KIDPX",
                                    "orderid": "10386",
                                    "productid": "34",
                                    "qty": "10"
                                },
                                {
                                    "custid": "70",
                                    "companyname": "Customer TMXGN",
                                    "orderid": "10387",
                                    "productid": "24",
                                    "qty": "15"
                                },
                                {
                                    "custid": "70",
                                    "companyname": "Customer TMXGN",
                                    "orderid": "10387",
                                    "productid": "28",
                                    "qty": "6"
                                },
                                {
                                    "custid": "70",
                                    "companyname": "Customer TMXGN",
                                    "orderid": "10387",
                                    "productid": "59",
                                    "qty": "12"
                                },
                                {
                                    "custid": "70",
                                    "companyname": "Customer TMXGN",
                                    "orderid": "10387",
                                    "productid": "71",
                                    "qty": "15"
                                },
                                {
                                    "custid": "72",
                                    "companyname": "Customer AHPOP",
                                    "orderid": "10388",
                                    "productid": "45",
                                    "qty": "15"
                                },
                                {
                                    "custid": "72",
                                    "companyname": "Customer AHPOP",
                                    "orderid": "10388",
                                    "productid": "52",
                                    "qty": "20"
                                },
                                {
                                    "custid": "72",
                                    "companyname": "Customer AHPOP",
                                    "orderid": "10388",
                                    "productid": "53",
                                    "qty": "40"
                                },
                                {
                                    "custid": "10",
                                    "companyname": "Customer EEALV",
                                    "orderid": "10389",
                                    "productid": "10",
                                    "qty": "16"
                                },
                                {
                                    "custid": "10",
                                    "companyname": "Customer EEALV",
                                    "orderid": "10389",
                                    "productid": "55",
                                    "qty": "15"
                                },
                                {
                                    "custid": "10",
                                    "companyname": "Customer EEALV",
                                    "orderid": "10389",
                                    "productid": "62",
                                    "qty": "20"
                                },
                                {
                                    "custid": "10",
                                    "companyname": "Customer EEALV",
                                    "orderid": "10389",
                                    "productid": "70",
                                    "qty": "30"
                                },
                                {
                                    "custid": "20",
                                    "companyname": "Customer THHDP",
                                    "orderid": "10390",
                                    "productid": "31",
                                    "qty": "60"
                                },
                                {
                                    "custid": "20",
                                    "companyname": "Customer THHDP",
                                    "orderid": "10390",
                                    "productid": "35",
                                    "qty": "40"
                                },
                                {
                                    "custid": "20",
                                    "companyname": "Customer THHDP",
                                    "orderid": "10390",
                                    "productid": "46",
                                    "qty": "45"
                                },
                                {
                                    "custid": "20",
                                    "companyname": "Customer THHDP",
                                    "orderid": "10390",
                                    "productid": "72",
                                    "qty": "24"
                                },
                                {
                                    "custid": "17",
                                    "companyname": "Customer FEVNN",
                                    "orderid": "10391",
                                    "productid": "13",
                                    "qty": "18"
                                },
                                {
                                    "custid": "59",
                                    "companyname": "Customer LOLJO",
                                    "orderid": "10392",
                                    "productid": "69",
                                    "qty": "50"
                                },
                                {
                                    "custid": "71",
                                    "companyname": "Customer LCOUJ",
                                    "orderid": "10393",
                                    "productid": "2",
                                    "qty": "25"
                                },
                                {
                                    "custid": "71",
                                    "companyname": "Customer LCOUJ",
                                    "orderid": "10393",
                                    "productid": "14",
                                    "qty": "42"
                                },
                                {
                                    "custid": "71",
                                    "companyname": "Customer LCOUJ",
                                    "orderid": "10393",
                                    "productid": "25",
                                    "qty": "7"
                                },
                                {
                                    "custid": "71",
                                    "companyname": "Customer LCOUJ",
                                    "orderid": "10393",
                                    "productid": "26",
                                    "qty": "70"
                                },
                                {
                                    "custid": "71",
                                    "companyname": "Customer LCOUJ",
                                    "orderid": "10393",
                                    "productid": "31",
                                    "qty": "32"
                                },
                                {
                                    "custid": "36",
                                    "companyname": "Customer LVJSO",
                                    "orderid": "10394",
                                    "productid": "13",
                                    "qty": "10"
                                },
                                {
                                    "custid": "36",
                                    "companyname": "Customer LVJSO",
                                    "orderid": "10394",
                                    "productid": "62",
                                    "qty": "10"
                                },
                                {
                                    "custid": "35",
                                    "companyname": "Customer UMTLM",
                                    "orderid": "10395",
                                    "productid": "46",
                                    "qty": "28"
                                },
                                {
                                    "custid": "35",
                                    "companyname": "Customer UMTLM",
                                    "orderid": "10395",
                                    "productid": "53",
                                    "qty": "70"
                                },
                                {
                                    "custid": "35",
                                    "companyname": "Customer UMTLM",
                                    "orderid": "10395",
                                    "productid": "69",
                                    "qty": "8"
                                },
                                {
                                    "custid": "25",
                                    "companyname": "Customer AZJED",
                                    "orderid": "10396",
                                    "productid": "23",
                                    "qty": "40"
                                },
                                {
                                    "custid": "25",
                                    "companyname": "Customer AZJED",
                                    "orderid": "10396",
                                    "productid": "71",
                                    "qty": "60"
                                },
                                {
                                    "custid": "25",
                                    "companyname": "Customer AZJED",
                                    "orderid": "10396",
                                    "productid": "72",
                                    "qty": "21"
                                },
                                {
                                    "custid": "60",
                                    "companyname": "Customer QZURI",
                                    "orderid": "10397",
                                    "productid": "21",
                                    "qty": "10"
                                },
                                {
                                    "custid": "60",
                                    "companyname": "Customer QZURI",
                                    "orderid": "10397",
                                    "productid": "51",
                                    "qty": "18"
                                },
                                {
                                    "custid": "71",
                                    "companyname": "Customer LCOUJ",
                                    "orderid": "10398",
                                    "productid": "35",
                                    "qty": "30"
                                },
                                {
                                    "custid": "71",
                                    "companyname": "Customer LCOUJ",
                                    "orderid": "10398",
                                    "productid": "55",
                                    "qty": "120"
                                },
                                {
                                    "custid": "83",
                                    "companyname": "Customer ZRNDE",
                                    "orderid": "10399",
                                    "productid": "68",
                                    "qty": "60"
                                },
                                {
                                    "custid": "83",
                                    "companyname": "Customer ZRNDE",
                                    "orderid": "10399",
                                    "productid": "71",
                                    "qty": "30"
                                },
                                {
                                    "custid": "83",
                                    "companyname": "Customer ZRNDE",
                                    "orderid": "10399",
                                    "productid": "76",
                                    "qty": "35"
                                },
                                {
                                    "custid": "83",
                                    "companyname": "Customer ZRNDE",
                                    "orderid": "10399",
                                    "productid": "77",
                                    "qty": "14"
                                },
                                {
                                    "custid": "19",
                                    "companyname": "Customer RFNQC",
                                    "orderid": "10400",
                                    "productid": "29",
                                    "qty": "21"
                                },
                                {
                                    "custid": "19",
                                    "companyname": "Customer RFNQC",
                                    "orderid": "10400",
                                    "productid": "35",
                                    "qty": "35"
                                },
                                {
                                    "custid": "19",
                                    "companyname": "Customer RFNQC",
                                    "orderid": "10400",
                                    "productid": "49",
                                    "qty": "30"
                                },
                                {
                                    "custid": "65",
                                    "companyname": "Customer NYUHS",
                                    "orderid": "10401",
                                    "productid": "30",
                                    "qty": "18"
                                },
                                {
                                    "custid": "65",
                                    "companyname": "Customer NYUHS",
                                    "orderid": "10401",
                                    "productid": "56",
                                    "qty": "70"
                                },
                                {
                                    "custid": "65",
                                    "companyname": "Customer NYUHS",
                                    "orderid": "10401",
                                    "productid": "65",
                                    "qty": "20"
                                },
                                {
                                    "custid": "65",
                                    "companyname": "Customer NYUHS",
                                    "orderid": "10401",
                                    "productid": "71",
                                    "qty": "60"
                                },
                                {
                                    "custid": "20",
                                    "companyname": "Customer THHDP",
                                    "orderid": "10402",
                                    "productid": "23",
                                    "qty": "60"
                                },
                                {
                                    "custid": "20",
                                    "companyname": "Customer THHDP",
                                    "orderid": "10402",
                                    "productid": "63",
                                    "qty": "65"
                                },
                                {
                                    "custid": "20",
                                    "companyname": "Customer THHDP",
                                    "orderid": "10403",
                                    "productid": "16",
                                    "qty": "21"
                                },
                                {
                                    "custid": "20",
                                    "companyname": "Customer THHDP",
                                    "orderid": "10403",
                                    "productid": "48",
                                    "qty": "70"
                                },
                                {
                                    "custid": "49",
                                    "companyname": "Customer CQRAA",
                                    "orderid": "10404",
                                    "productid": "26",
                                    "qty": "30"
                                },
                                {
                                    "custid": "49",
                                    "companyname": "Customer CQRAA",
                                    "orderid": "10404",
                                    "productid": "42",
                                    "qty": "40"
                                },
                                {
                                    "custid": "49",
                                    "companyname": "Customer CQRAA",
                                    "orderid": "10404",
                                    "productid": "49",
                                    "qty": "30"
                                },
                                {
                                    "custid": "47",
                                    "companyname": "Customer PSQUZ",
                                    "orderid": "10405",
                                    "productid": "3",
                                    "qty": "50"
                                },
                                {
                                    "custid": "62",
                                    "companyname": "Customer WFIZJ",
                                    "orderid": "10406",
                                    "productid": "1",
                                    "qty": "10"
                                },
                                {
                                    "custid": "62",
                                    "companyname": "Customer WFIZJ",
                                    "orderid": "10406",
                                    "productid": "21",
                                    "qty": "30"
                                },
                                {
                                    "custid": "62",
                                    "companyname": "Customer WFIZJ",
                                    "orderid": "10406",
                                    "productid": "28",
                                    "qty": "42"
                                },
                                {
                                    "custid": "62",
                                    "companyname": "Customer WFIZJ",
                                    "orderid": "10406",
                                    "productid": "36",
                                    "qty": "5"
                                },
                                {
                                    "custid": "62",
                                    "companyname": "Customer WFIZJ",
                                    "orderid": "10406",
                                    "productid": "40",
                                    "qty": "2"
                                },
                                {
                                    "custid": "56",
                                    "companyname": "Customer QNIVZ",
                                    "orderid": "10407",
                                    "productid": "11",
                                    "qty": "30"
                                },
                                {
                                    "custid": "56",
                                    "companyname": "Customer QNIVZ",
                                    "orderid": "10407",
                                    "productid": "69",
                                    "qty": "15"
                                },
                                {
                                    "custid": "56",
                                    "companyname": "Customer QNIVZ",
                                    "orderid": "10407",
                                    "productid": "71",
                                    "qty": "15"
                                },
                                {
                                    "custid": "23",
                                    "companyname": "Customer WVFAF",
                                    "orderid": "10408",
                                    "productid": "37",
                                    "qty": "10"
                                },
                                {
                                    "custid": "23",
                                    "companyname": "Customer WVFAF",
                                    "orderid": "10408",
                                    "productid": "54",
                                    "qty": "6"
                                },
                                {
                                    "custid": "23",
                                    "companyname": "Customer WVFAF",
                                    "orderid": "10408",
                                    "productid": "62",
                                    "qty": "35"
                                },
                                {
                                    "custid": "54",
                                    "companyname": "Customer TDKEG",
                                    "orderid": "10409",
                                    "productid": "14",
                                    "qty": "12"
                                },
                                {
                                    "custid": "54",
                                    "companyname": "Customer TDKEG",
                                    "orderid": "10409",
                                    "productid": "21",
                                    "qty": "12"
                                },
                                {
                                    "custid": "10",
                                    "companyname": "Customer EEALV",
                                    "orderid": "10410",
                                    "productid": "33",
                                    "qty": "49"
                                },
                                {
                                    "custid": "10",
                                    "companyname": "Customer EEALV",
                                    "orderid": "10410",
                                    "productid": "59",
                                    "qty": "16"
                                },
                                {
                                    "custid": "10",
                                    "companyname": "Customer EEALV",
                                    "orderid": "10411",
                                    "productid": "41",
                                    "qty": "25"
                                },
                                {
                                    "custid": "10",
                                    "companyname": "Customer EEALV",
                                    "orderid": "10411",
                                    "productid": "44",
                                    "qty": "40"
                                },
                                {
                                    "custid": "10",
                                    "companyname": "Customer EEALV",
                                    "orderid": "10411",
                                    "productid": "59",
                                    "qty": "9"
                                },
                                {
                                    "custid": "87",
                                    "companyname": "Customer ZHYOS",
                                    "orderid": "10412",
                                    "productid": "14",
                                    "qty": "20"
                                },
                                {
                                    "custid": "41",
                                    "companyname": "Customer XIIWM",
                                    "orderid": "10413",
                                    "productid": "1",
                                    "qty": "24"
                                },
                                {
                                    "custid": "41",
                                    "companyname": "Customer XIIWM",
                                    "orderid": "10413",
                                    "productid": "62",
                                    "qty": "40"
                                },
                                {
                                    "custid": "41",
                                    "companyname": "Customer XIIWM",
                                    "orderid": "10413",
                                    "productid": "76",
                                    "qty": "14"
                                },
                                {
                                    "custid": "21",
                                    "companyname": "Customer KIDPX",
                                    "orderid": "10414",
                                    "productid": "19",
                                    "qty": "18"
                                },
                                {
                                    "custid": "21",
                                    "companyname": "Customer KIDPX",
                                    "orderid": "10414",
                                    "productid": "33",
                                    "qty": "50"
                                },
                                {
                                    "custid": "36",
                                    "companyname": "Customer LVJSO",
                                    "orderid": "10415",
                                    "productid": "17",
                                    "qty": "2"
                                },
                                {
                                    "custid": "36",
                                    "companyname": "Customer LVJSO",
                                    "orderid": "10415",
                                    "productid": "33",
                                    "qty": "20"
                                },
                                {
                                    "custid": "87",
                                    "companyname": "Customer ZHYOS",
                                    "orderid": "10416",
                                    "productid": "19",
                                    "qty": "20"
                                },
                                {
                                    "custid": "87",
                                    "companyname": "Customer ZHYOS",
                                    "orderid": "10416",
                                    "productid": "53",
                                    "qty": "10"
                                },
                                {
                                    "custid": "87",
                                    "companyname": "Customer ZHYOS",
                                    "orderid": "10416",
                                    "productid": "57",
                                    "qty": "20"
                                },
                                {
                                    "custid": "73",
                                    "companyname": "Customer JMIKW",
                                    "orderid": "10417",
                                    "productid": "38",
                                    "qty": "50"
                                },
                                {
                                    "custid": "73",
                                    "companyname": "Customer JMIKW",
                                    "orderid": "10417",
                                    "productid": "46",
                                    "qty": "2"
                                },
                                {
                                    "custid": "73",
                                    "companyname": "Customer JMIKW",
                                    "orderid": "10417",
                                    "productid": "68",
                                    "qty": "36"
                                },
                                {
                                    "custid": "73",
                                    "companyname": "Customer JMIKW",
                                    "orderid": "10417",
                                    "productid": "77",
                                    "qty": "35"
                                },
                                {
                                    "custid": "63",
                                    "companyname": "Customer IRRVL",
                                    "orderid": "10418",
                                    "productid": "2",
                                    "qty": "60"
                                },
                                {
                                    "custid": "63",
                                    "companyname": "Customer IRRVL",
                                    "orderid": "10418",
                                    "productid": "47",
                                    "qty": "55"
                                },
                                {
                                    "custid": "63",
                                    "companyname": "Customer IRRVL",
                                    "orderid": "10418",
                                    "productid": "61",
                                    "qty": "16"
                                },
                                {
                                    "custid": "63",
                                    "companyname": "Customer IRRVL",
                                    "orderid": "10418",
                                    "productid": "74",
                                    "qty": "15"
                                },
                                {
                                    "custid": "68",
                                    "companyname": "Customer CCKOT",
                                    "orderid": "10419",
                                    "productid": "60",
                                    "qty": "60"
                                },
                                {
                                    "custid": "68",
                                    "companyname": "Customer CCKOT",
                                    "orderid": "10419",
                                    "productid": "69",
                                    "qty": "20"
                                },
                                {
                                    "custid": "88",
                                    "companyname": "Customer SRQVM",
                                    "orderid": "10420",
                                    "productid": "9",
                                    "qty": "20"
                                },
                                {
                                    "custid": "88",
                                    "companyname": "Customer SRQVM",
                                    "orderid": "10420",
                                    "productid": "13",
                                    "qty": "2"
                                },
                                {
                                    "custid": "88",
                                    "companyname": "Customer SRQVM",
                                    "orderid": "10420",
                                    "productid": "70",
                                    "qty": "8"
                                },
                                {
                                    "custid": "88",
                                    "companyname": "Customer SRQVM",
                                    "orderid": "10420",
                                    "productid": "73",
                                    "qty": "20"
                                },
                                {
                                    "custid": "61",
                                    "companyname": "Customer WULWD",
                                    "orderid": "10421",
                                    "productid": "19",
                                    "qty": "4"
                                },
                                {
                                    "custid": "61",
                                    "companyname": "Customer WULWD",
                                    "orderid": "10421",
                                    "productid": "26",
                                    "qty": "30"
                                },
                                {
                                    "custid": "61",
                                    "companyname": "Customer WULWD",
                                    "orderid": "10421",
                                    "productid": "53",
                                    "qty": "15"
                                },
                                {
                                    "custid": "61",
                                    "companyname": "Customer WULWD",
                                    "orderid": "10421",
                                    "productid": "77",
                                    "qty": "10"
                                },
                                {
                                    "custid": "27",
                                    "companyname": "Customer WMFEA",
                                    "orderid": "10422",
                                    "productid": "26",
                                    "qty": "2"
                                },
                                {
                                    "custid": "31",
                                    "companyname": "Customer YJCBX",
                                    "orderid": "10423",
                                    "productid": "31",
                                    "qty": "14"
                                },
                                {
                                    "custid": "31",
                                    "companyname": "Customer YJCBX",
                                    "orderid": "10423",
                                    "productid": "59",
                                    "qty": "20"
                                },
                                {
                                    "custid": "51",
                                    "companyname": "Customer PVDZC",
                                    "orderid": "10424",
                                    "productid": "35",
                                    "qty": "60"
                                },
                                {
                                    "custid": "51",
                                    "companyname": "Customer PVDZC",
                                    "orderid": "10424",
                                    "productid": "38",
                                    "qty": "49"
                                },
                                {
                                    "custid": "51",
                                    "companyname": "Customer PVDZC",
                                    "orderid": "10424",
                                    "productid": "68",
                                    "qty": "30"
                                },
                                {
                                    "custid": "41",
                                    "companyname": "Customer XIIWM",
                                    "orderid": "10425",
                                    "productid": "55",
                                    "qty": "10"
                                },
                                {
                                    "custid": "41",
                                    "companyname": "Customer XIIWM",
                                    "orderid": "10425",
                                    "productid": "76",
                                    "qty": "20"
                                },
                                {
                                    "custid": "29",
                                    "companyname": "Customer MDLWA",
                                    "orderid": "10426",
                                    "productid": "56",
                                    "qty": "5"
                                },
                                {
                                    "custid": "29",
                                    "companyname": "Customer MDLWA",
                                    "orderid": "10426",
                                    "productid": "64",
                                    "qty": "7"
                                },
                                {
                                    "custid": "59",
                                    "companyname": "Customer LOLJO",
                                    "orderid": "10427",
                                    "productid": "14",
                                    "qty": "35"
                                },
                                {
                                    "custid": "66",
                                    "companyname": "Customer LHANT",
                                    "orderid": "10428",
                                    "productid": "46",
                                    "qty": "20"
                                },
                                {
                                    "custid": "37",
                                    "companyname": "Customer FRXZL",
                                    "orderid": "10429",
                                    "productid": "50",
                                    "qty": "40"
                                },
                                {
                                    "custid": "37",
                                    "companyname": "Customer FRXZL",
                                    "orderid": "10429",
                                    "productid": "63",
                                    "qty": "35"
                                },
                                {
                                    "custid": "20",
                                    "companyname": "Customer THHDP",
                                    "orderid": "10430",
                                    "productid": "17",
                                    "qty": "45"
                                },
                                {
                                    "custid": "20",
                                    "companyname": "Customer THHDP",
                                    "orderid": "10430",
                                    "productid": "21",
                                    "qty": "50"
                                },
                                {
                                    "custid": "20",
                                    "companyname": "Customer THHDP",
                                    "orderid": "10430",
                                    "productid": "56",
                                    "qty": "30"
                                },
                                {
                                    "custid": "20",
                                    "companyname": "Customer THHDP",
                                    "orderid": "10430",
                                    "productid": "59",
                                    "qty": "70"
                                },
                                {
                                    "custid": "10",
                                    "companyname": "Customer EEALV",
                                    "orderid": "10431",
                                    "productid": "17",
                                    "qty": "50"
                                },
                                {
                                    "custid": "10",
                                    "companyname": "Customer EEALV",
                                    "orderid": "10431",
                                    "productid": "40",
                                    "qty": "50"
                                },
                                {
                                    "custid": "10",
                                    "companyname": "Customer EEALV",
                                    "orderid": "10431",
                                    "productid": "47",
                                    "qty": "30"
                                },
                                {
                                    "custid": "75",
                                    "companyname": "Customer XOJYP",
                                    "orderid": "10432",
                                    "productid": "26",
                                    "qty": "10"
                                },
                                {
                                    "custid": "75",
                                    "companyname": "Customer XOJYP",
                                    "orderid": "10432",
                                    "productid": "54",
                                    "qty": "40"
                                },
                                {
                                    "custid": "60",
                                    "companyname": "Customer QZURI",
                                    "orderid": "10433",
                                    "productid": "56",
                                    "qty": "28"
                                },
                                {
                                    "custid": "24",
                                    "companyname": "Customer CYZTN",
                                    "orderid": "10434",
                                    "productid": "11",
                                    "qty": "6"
                                },
                                {
                                    "custid": "24",
                                    "companyname": "Customer CYZTN",
                                    "orderid": "10434",
                                    "productid": "76",
                                    "qty": "18"
                                },
                                {
                                    "custid": "16",
                                    "companyname": "Customer GYBBY",
                                    "orderid": "10435",
                                    "productid": "2",
                                    "qty": "10"
                                },
                                {
                                    "custid": "16",
                                    "companyname": "Customer GYBBY",
                                    "orderid": "10435",
                                    "productid": "22",
                                    "qty": "12"
                                },
                                {
                                    "custid": "16",
                                    "companyname": "Customer GYBBY",
                                    "orderid": "10435",
                                    "productid": "72",
                                    "qty": "10"
                                },
                                {
                                    "custid": "7",
                                    "companyname": "Customer QXVLA",
                                    "orderid": "10436",
                                    "productid": "46",
                                    "qty": "5"
                                },
                                {
                                    "custid": "7",
                                    "companyname": "Customer QXVLA",
                                    "orderid": "10436",
                                    "productid": "56",
                                    "qty": "40"
                                },
                                {
                                    "custid": "7",
                                    "companyname": "Customer QXVLA",
                                    "orderid": "10436",
                                    "productid": "64",
                                    "qty": "30"
                                },
                                {
                                    "custid": "7",
                                    "companyname": "Customer QXVLA",
                                    "orderid": "10436",
                                    "productid": "75",
                                    "qty": "24"
                                },
                                {
                                    "custid": "87",
                                    "companyname": "Customer ZHYOS",
                                    "orderid": "10437",
                                    "productid": "53",
                                    "qty": "15"
                                },
                                {
                                    "custid": "79",
                                    "companyname": "Customer FAPSM",
                                    "orderid": "10438",
                                    "productid": "19",
                                    "qty": "15"
                                },
                                {
                                    "custid": "79",
                                    "companyname": "Customer FAPSM",
                                    "orderid": "10438",
                                    "productid": "34",
                                    "qty": "20"
                                },
                                {
                                    "custid": "79",
                                    "companyname": "Customer FAPSM",
                                    "orderid": "10438",
                                    "productid": "57",
                                    "qty": "15"
                                },
                                {
                                    "custid": "51",
                                    "companyname": "Customer PVDZC",
                                    "orderid": "10439",
                                    "productid": "12",
                                    "qty": "15"
                                },
                                {
                                    "custid": "51",
                                    "companyname": "Customer PVDZC",
                                    "orderid": "10439",
                                    "productid": "16",
                                    "qty": "16"
                                },
                                {
                                    "custid": "51",
                                    "companyname": "Customer PVDZC",
                                    "orderid": "10439",
                                    "productid": "64",
                                    "qty": "6"
                                },
                                {
                                    "custid": "51",
                                    "companyname": "Customer PVDZC",
                                    "orderid": "10439",
                                    "productid": "74",
                                    "qty": "30"
                                },
                                {
                                    "custid": "71",
                                    "companyname": "Customer LCOUJ",
                                    "orderid": "10440",
                                    "productid": "2",
                                    "qty": "45"
                                },
                                {
                                    "custid": "71",
                                    "companyname": "Customer LCOUJ",
                                    "orderid": "10440",
                                    "productid": "16",
                                    "qty": "49"
                                },
                                {
                                    "custid": "71",
                                    "companyname": "Customer LCOUJ",
                                    "orderid": "10440",
                                    "productid": "29",
                                    "qty": "24"
                                },
                                {
                                    "custid": "71",
                                    "companyname": "Customer LCOUJ",
                                    "orderid": "10440",
                                    "productid": "61",
                                    "qty": "90"
                                },
                                {
                                    "custid": "55",
                                    "companyname": "Customer KZQZT",
                                    "orderid": "10441",
                                    "productid": "27",
                                    "qty": "50"
                                },
                                {
                                    "custid": "20",
                                    "companyname": "Customer THHDP",
                                    "orderid": "10442",
                                    "productid": "11",
                                    "qty": "30"
                                },
                                {
                                    "custid": "20",
                                    "companyname": "Customer THHDP",
                                    "orderid": "10442",
                                    "productid": "54",
                                    "qty": "80"
                                },
                                {
                                    "custid": "20",
                                    "companyname": "Customer THHDP",
                                    "orderid": "10442",
                                    "productid": "66",
                                    "qty": "60"
                                },
                                {
                                    "custid": "66",
                                    "companyname": "Customer LHANT",
                                    "orderid": "10443",
                                    "productid": "11",
                                    "qty": "6"
                                },
                                {
                                    "custid": "66",
                                    "companyname": "Customer LHANT",
                                    "orderid": "10443",
                                    "productid": "28",
                                    "qty": "12"
                                },
                                {
                                    "custid": "5",
                                    "companyname": "Customer HGVLZ",
                                    "orderid": "10444",
                                    "productid": "17",
                                    "qty": "10"
                                },
                                {
                                    "custid": "5",
                                    "companyname": "Customer HGVLZ",
                                    "orderid": "10444",
                                    "productid": "26",
                                    "qty": "15"
                                },
                                {
                                    "custid": "5",
                                    "companyname": "Customer HGVLZ",
                                    "orderid": "10444",
                                    "productid": "35",
                                    "qty": "8"
                                },
                                {
                                    "custid": "5",
                                    "companyname": "Customer HGVLZ",
                                    "orderid": "10444",
                                    "productid": "41",
                                    "qty": "30"
                                },
                                {
                                    "custid": "5",
                                    "companyname": "Customer HGVLZ",
                                    "orderid": "10445",
                                    "productid": "39",
                                    "qty": "6"
                                },
                                {
                                    "custid": "5",
                                    "companyname": "Customer HGVLZ",
                                    "orderid": "10445",
                                    "productid": "54",
                                    "qty": "15"
                                },
                                {
                                    "custid": "79",
                                    "companyname": "Customer FAPSM",
                                    "orderid": "10446",
                                    "productid": "19",
                                    "qty": "12"
                                },
                                {
                                    "custid": "79",
                                    "companyname": "Customer FAPSM",
                                    "orderid": "10446",
                                    "productid": "24",
                                    "qty": "20"
                                },
                                {
                                    "custid": "79",
                                    "companyname": "Customer FAPSM",
                                    "orderid": "10446",
                                    "productid": "31",
                                    "qty": "3"
                                },
                                {
                                    "custid": "79",
                                    "companyname": "Customer FAPSM",
                                    "orderid": "10446",
                                    "productid": "52",
                                    "qty": "15"
                                },
                                {
                                    "custid": "67",
                                    "companyname": "Customer QVEPD",
                                    "orderid": "10447",
                                    "productid": "19",
                                    "qty": "40"
                                },
                                {
                                    "custid": "67",
                                    "companyname": "Customer QVEPD",
                                    "orderid": "10447",
                                    "productid": "65",
                                    "qty": "35"
                                },
                                {
                                    "custid": "67",
                                    "companyname": "Customer QVEPD",
                                    "orderid": "10447",
                                    "productid": "71",
                                    "qty": "2"
                                },
                                {
                                    "custid": "64",
                                    "companyname": "Customer LWGMD",
                                    "orderid": "10448",
                                    "productid": "26",
                                    "qty": "6"
                                },
                                {
                                    "custid": "64",
                                    "companyname": "Customer LWGMD",
                                    "orderid": "10448",
                                    "productid": "40",
                                    "qty": "20"
                                },
                                {
                                    "custid": "7",
                                    "companyname": "Customer QXVLA",
                                    "orderid": "10449",
                                    "productid": "10",
                                    "qty": "14"
                                },
                                {
                                    "custid": "7",
                                    "companyname": "Customer QXVLA",
                                    "orderid": "10449",
                                    "productid": "52",
                                    "qty": "20"
                                },
                                {
                                    "custid": "7",
                                    "companyname": "Customer QXVLA",
                                    "orderid": "10449",
                                    "productid": "62",
                                    "qty": "35"
                                },
                                {
                                    "custid": "84",
                                    "companyname": "Customer NRCSK",
                                    "orderid": "10450",
                                    "productid": "10",
                                    "qty": "20"
                                },
                                {
                                    "custid": "84",
                                    "companyname": "Customer NRCSK",
                                    "orderid": "10450",
                                    "productid": "54",
                                    "qty": "6"
                                },
                                {
                                    "custid": "63",
                                    "companyname": "Customer IRRVL",
                                    "orderid": "10451",
                                    "productid": "55",
                                    "qty": "120"
                                },
                                {
                                    "custid": "63",
                                    "companyname": "Customer IRRVL",
                                    "orderid": "10451",
                                    "productid": "64",
                                    "qty": "35"
                                },
                                {
                                    "custid": "63",
                                    "companyname": "Customer IRRVL",
                                    "orderid": "10451",
                                    "productid": "65",
                                    "qty": "28"
                                },
                                {
                                    "custid": "63",
                                    "companyname": "Customer IRRVL",
                                    "orderid": "10451",
                                    "productid": "77",
                                    "qty": "55"
                                },
                                {
                                    "custid": "71",
                                    "companyname": "Customer LCOUJ",
                                    "orderid": "10452",
                                    "productid": "28",
                                    "qty": "15"
                                },
                                {
                                    "custid": "71",
                                    "companyname": "Customer LCOUJ",
                                    "orderid": "10452",
                                    "productid": "44",
                                    "qty": "100"
                                },
                                {
                                    "custid": "4",
                                    "companyname": "Customer HFBZG",
                                    "orderid": "10453",
                                    "productid": "48",
                                    "qty": "15"
                                },
                                {
                                    "custid": "4",
                                    "companyname": "Customer HFBZG",
                                    "orderid": "10453",
                                    "productid": "70",
                                    "qty": "25"
                                },
                                {
                                    "custid": "41",
                                    "companyname": "Customer XIIWM",
                                    "orderid": "10454",
                                    "productid": "16",
                                    "qty": "20"
                                },
                                {
                                    "custid": "41",
                                    "companyname": "Customer XIIWM",
                                    "orderid": "10454",
                                    "productid": "33",
                                    "qty": "20"
                                },
                                {
                                    "custid": "41",
                                    "companyname": "Customer XIIWM",
                                    "orderid": "10454",
                                    "productid": "46",
                                    "qty": "10"
                                },
                                {
                                    "custid": "87",
                                    "companyname": "Customer ZHYOS",
                                    "orderid": "10455",
                                    "productid": "39",
                                    "qty": "20"
                                },
                                {
                                    "custid": "87",
                                    "companyname": "Customer ZHYOS",
                                    "orderid": "10455",
                                    "productid": "53",
                                    "qty": "50"
                                },
                                {
                                    "custid": "87",
                                    "companyname": "Customer ZHYOS",
                                    "orderid": "10455",
                                    "productid": "61",
                                    "qty": "25"
                                },
                                {
                                    "custid": "87",
                                    "companyname": "Customer ZHYOS",
                                    "orderid": "10455",
                                    "productid": "71",
                                    "qty": "30"
                                },
                                {
                                    "custid": "39",
                                    "companyname": "Customer GLLAG",
                                    "orderid": "10456",
                                    "productid": "21",
                                    "qty": "40"
                                },
                                {
                                    "custid": "39",
                                    "companyname": "Customer GLLAG",
                                    "orderid": "10456",
                                    "productid": "49",
                                    "qty": "21"
                                },
                                {
                                    "custid": "39",
                                    "companyname": "Customer GLLAG",
                                    "orderid": "10457",
                                    "productid": "59",
                                    "qty": "36"
                                },
                                {
                                    "custid": "76",
                                    "companyname": "Customer SFOGW",
                                    "orderid": "10458",
                                    "productid": "26",
                                    "qty": "30"
                                },
                                {
                                    "custid": "76",
                                    "companyname": "Customer SFOGW",
                                    "orderid": "10458",
                                    "productid": "28",
                                    "qty": "30"
                                },
                                {
                                    "custid": "76",
                                    "companyname": "Customer SFOGW",
                                    "orderid": "10458",
                                    "productid": "43",
                                    "qty": "20"
                                },
                                {
                                    "custid": "76",
                                    "companyname": "Customer SFOGW",
                                    "orderid": "10458",
                                    "productid": "56",
                                    "qty": "15"
                                },
                                {
                                    "custid": "76",
                                    "companyname": "Customer SFOGW",
                                    "orderid": "10458",
                                    "productid": "71",
                                    "qty": "50"
                                },
                                {
                                    "custid": "84",
                                    "companyname": "Customer NRCSK",
                                    "orderid": "10459",
                                    "productid": "7",
                                    "qty": "16"
                                },
                                {
                                    "custid": "84",
                                    "companyname": "Customer NRCSK",
                                    "orderid": "10459",
                                    "productid": "46",
                                    "qty": "20"
                                },
                                {
                                    "custid": "84",
                                    "companyname": "Customer NRCSK",
                                    "orderid": "10459",
                                    "productid": "72",
                                    "qty": "40"
                                },
                                {
                                    "custid": "24",
                                    "companyname": "Customer CYZTN",
                                    "orderid": "10460",
                                    "productid": "68",
                                    "qty": "21"
                                },
                                {
                                    "custid": "24",
                                    "companyname": "Customer CYZTN",
                                    "orderid": "10460",
                                    "productid": "75",
                                    "qty": "4"
                                },
                                {
                                    "custid": "46",
                                    "companyname": "Customer XPNIK",
                                    "orderid": "10461",
                                    "productid": "21",
                                    "qty": "40"
                                },
                                {
                                    "custid": "46",
                                    "companyname": "Customer XPNIK",
                                    "orderid": "10461",
                                    "productid": "30",
                                    "qty": "28"
                                },
                                {
                                    "custid": "46",
                                    "companyname": "Customer XPNIK",
                                    "orderid": "10461",
                                    "productid": "55",
                                    "qty": "60"
                                },
                                {
                                    "custid": "16",
                                    "companyname": "Customer GYBBY",
                                    "orderid": "10462",
                                    "productid": "13",
                                    "qty": "1"
                                },
                                {
                                    "custid": "16",
                                    "companyname": "Customer GYBBY",
                                    "orderid": "10462",
                                    "productid": "23",
                                    "qty": "21"
                                },
                                {
                                    "custid": "76",
                                    "companyname": "Customer SFOGW",
                                    "orderid": "10463",
                                    "productid": "19",
                                    "qty": "21"
                                },
                                {
                                    "custid": "76",
                                    "companyname": "Customer SFOGW",
                                    "orderid": "10463",
                                    "productid": "42",
                                    "qty": "50"
                                },
                                {
                                    "custid": "28",
                                    "companyname": "Customer XYUFB",
                                    "orderid": "10464",
                                    "productid": "4",
                                    "qty": "16"
                                },
                                {
                                    "custid": "28",
                                    "companyname": "Customer XYUFB",
                                    "orderid": "10464",
                                    "productid": "43",
                                    "qty": "3"
                                },
                                {
                                    "custid": "28",
                                    "companyname": "Customer XYUFB",
                                    "orderid": "10464",
                                    "productid": "56",
                                    "qty": "30"
                                },
                                {
                                    "custid": "28",
                                    "companyname": "Customer XYUFB",
                                    "orderid": "10464",
                                    "productid": "60",
                                    "qty": "20"
                                },
                                {
                                    "custid": "83",
                                    "companyname": "Customer ZRNDE",
                                    "orderid": "10465",
                                    "productid": "24",
                                    "qty": "25"
                                },
                                {
                                    "custid": "83",
                                    "companyname": "Customer ZRNDE",
                                    "orderid": "10465",
                                    "productid": "29",
                                    "qty": "18"
                                },
                                {
                                    "custid": "83",
                                    "companyname": "Customer ZRNDE",
                                    "orderid": "10465",
                                    "productid": "40",
                                    "qty": "20"
                                },
                                {
                                    "custid": "83",
                                    "companyname": "Customer ZRNDE",
                                    "orderid": "10465",
                                    "productid": "45",
                                    "qty": "30"
                                },
                                {
                                    "custid": "83",
                                    "companyname": "Customer ZRNDE",
                                    "orderid": "10465",
                                    "productid": "50",
                                    "qty": "25"
                                },
                                {
                                    "custid": "15",
                                    "companyname": "Customer JUWXK",
                                    "orderid": "10466",
                                    "productid": "11",
                                    "qty": "10"
                                },
                                {
                                    "custid": "15",
                                    "companyname": "Customer JUWXK",
                                    "orderid": "10466",
                                    "productid": "46",
                                    "qty": "5"
                                },
                                {
                                    "custid": "49",
                                    "companyname": "Customer CQRAA",
                                    "orderid": "10467",
                                    "productid": "24",
                                    "qty": "28"
                                },
                                {
                                    "custid": "49",
                                    "companyname": "Customer CQRAA",
                                    "orderid": "10467",
                                    "productid": "25",
                                    "qty": "12"
                                },
                                {
                                    "custid": "39",
                                    "companyname": "Customer GLLAG",
                                    "orderid": "10468",
                                    "productid": "30",
                                    "qty": "8"
                                },
                                {
                                    "custid": "39",
                                    "companyname": "Customer GLLAG",
                                    "orderid": "10468",
                                    "productid": "43",
                                    "qty": "15"
                                },
                                {
                                    "custid": "89",
                                    "companyname": "Customer YBQTI",
                                    "orderid": "10469",
                                    "productid": "2",
                                    "qty": "40"
                                },
                                {
                                    "custid": "89",
                                    "companyname": "Customer YBQTI",
                                    "orderid": "10469",
                                    "productid": "16",
                                    "qty": "35"
                                },
                                {
                                    "custid": "89",
                                    "companyname": "Customer YBQTI",
                                    "orderid": "10469",
                                    "productid": "44",
                                    "qty": "2"
                                },
                                {
                                    "custid": "9",
                                    "companyname": "Customer RTXGC",
                                    "orderid": "10470",
                                    "productid": "18",
                                    "qty": "30"
                                },
                                {
                                    "custid": "9",
                                    "companyname": "Customer RTXGC",
                                    "orderid": "10470",
                                    "productid": "23",
                                    "qty": "15"
                                },
                                {
                                    "custid": "9",
                                    "companyname": "Customer RTXGC",
                                    "orderid": "10470",
                                    "productid": "64",
                                    "qty": "8"
                                },
                                {
                                    "custid": "11",
                                    "companyname": "Customer UBHAU",
                                    "orderid": "10471",
                                    "productid": "7",
                                    "qty": "30"
                                },
                                {
                                    "custid": "11",
                                    "companyname": "Customer UBHAU",
                                    "orderid": "10471",
                                    "productid": "56",
                                    "qty": "20"
                                },
                                {
                                    "custid": "72",
                                    "companyname": "Customer AHPOP",
                                    "orderid": "10472",
                                    "productid": "24",
                                    "qty": "80"
                                },
                                {
                                    "custid": "72",
                                    "companyname": "Customer AHPOP",
                                    "orderid": "10472",
                                    "productid": "51",
                                    "qty": "18"
                                },
                                {
                                    "custid": "38",
                                    "companyname": "Customer LJUCA",
                                    "orderid": "10473",
                                    "productid": "33",
                                    "qty": "12"
                                },
                                {
                                    "custid": "38",
                                    "companyname": "Customer LJUCA",
                                    "orderid": "10473",
                                    "productid": "71",
                                    "qty": "12"
                                },
                                {
                                    "custid": "58",
                                    "companyname": "Customer AHXHT",
                                    "orderid": "10474",
                                    "productid": "14",
                                    "qty": "12"
                                },
                                {
                                    "custid": "58",
                                    "companyname": "Customer AHXHT",
                                    "orderid": "10474",
                                    "productid": "28",
                                    "qty": "18"
                                },
                                {
                                    "custid": "58",
                                    "companyname": "Customer AHXHT",
                                    "orderid": "10474",
                                    "productid": "40",
                                    "qty": "21"
                                },
                                {
                                    "custid": "58",
                                    "companyname": "Customer AHXHT",
                                    "orderid": "10474",
                                    "productid": "75",
                                    "qty": "10"
                                },
                                {
                                    "custid": "76",
                                    "companyname": "Customer SFOGW",
                                    "orderid": "10475",
                                    "productid": "31",
                                    "qty": "35"
                                },
                                {
                                    "custid": "76",
                                    "companyname": "Customer SFOGW",
                                    "orderid": "10475",
                                    "productid": "66",
                                    "qty": "60"
                                },
                                {
                                    "custid": "76",
                                    "companyname": "Customer SFOGW",
                                    "orderid": "10475",
                                    "productid": "76",
                                    "qty": "42"
                                },
                                {
                                    "custid": "35",
                                    "companyname": "Customer UMTLM",
                                    "orderid": "10476",
                                    "productid": "55",
                                    "qty": "2"
                                },
                                {
                                    "custid": "35",
                                    "companyname": "Customer UMTLM",
                                    "orderid": "10476",
                                    "productid": "70",
                                    "qty": "12"
                                },
                                {
                                    "custid": "60",
                                    "companyname": "Customer QZURI",
                                    "orderid": "10477",
                                    "productid": "1",
                                    "qty": "15"
                                },
                                {
                                    "custid": "60",
                                    "companyname": "Customer QZURI",
                                    "orderid": "10477",
                                    "productid": "21",
                                    "qty": "21"
                                },
                                {
                                    "custid": "60",
                                    "companyname": "Customer QZURI",
                                    "orderid": "10477",
                                    "productid": "39",
                                    "qty": "20"
                                },
                                {
                                    "custid": "84",
                                    "companyname": "Customer NRCSK",
                                    "orderid": "10478",
                                    "productid": "10",
                                    "qty": "20"
                                },
                                {
                                    "custid": "65",
                                    "companyname": "Customer NYUHS",
                                    "orderid": "10479",
                                    "productid": "38",
                                    "qty": "30"
                                },
                                {
                                    "custid": "65",
                                    "companyname": "Customer NYUHS",
                                    "orderid": "10479",
                                    "productid": "53",
                                    "qty": "28"
                                },
                                {
                                    "custid": "65",
                                    "companyname": "Customer NYUHS",
                                    "orderid": "10479",
                                    "productid": "59",
                                    "qty": "60"
                                },
                                {
                                    "custid": "65",
                                    "companyname": "Customer NYUHS",
                                    "orderid": "10479",
                                    "productid": "64",
                                    "qty": "30"
                                },
                                {
                                    "custid": "23",
                                    "companyname": "Customer WVFAF",
                                    "orderid": "10480",
                                    "productid": "47",
                                    "qty": "30"
                                },
                                {
                                    "custid": "23",
                                    "companyname": "Customer WVFAF",
                                    "orderid": "10480",
                                    "productid": "59",
                                    "qty": "12"
                                },
                                {
                                    "custid": "67",
                                    "companyname": "Customer QVEPD",
                                    "orderid": "10481",
                                    "productid": "49",
                                    "qty": "24"
                                },
                                {
                                    "custid": "67",
                                    "companyname": "Customer QVEPD",
                                    "orderid": "10481",
                                    "productid": "60",
                                    "qty": "40"
                                },
                                {
                                    "custid": "43",
                                    "companyname": "Customer UISOJ",
                                    "orderid": "10482",
                                    "productid": "40",
                                    "qty": "10"
                                },
                                {
                                    "custid": "89",
                                    "companyname": "Customer YBQTI",
                                    "orderid": "10483",
                                    "productid": "34",
                                    "qty": "35"
                                },
                                {
                                    "custid": "89",
                                    "companyname": "Customer YBQTI",
                                    "orderid": "10483",
                                    "productid": "77",
                                    "qty": "30"
                                },
                                {
                                    "custid": "11",
                                    "companyname": "Customer UBHAU",
                                    "orderid": "10484",
                                    "productid": "21",
                                    "qty": "14"
                                },
                                {
                                    "custid": "11",
                                    "companyname": "Customer UBHAU",
                                    "orderid": "10484",
                                    "productid": "40",
                                    "qty": "10"
                                },
                                {
                                    "custid": "11",
                                    "companyname": "Customer UBHAU",
                                    "orderid": "10484",
                                    "productid": "51",
                                    "qty": "3"
                                },
                                {
                                    "custid": "47",
                                    "companyname": "Customer PSQUZ",
                                    "orderid": "10485",
                                    "productid": "2",
                                    "qty": "20"
                                },
                                {
                                    "custid": "47",
                                    "companyname": "Customer PSQUZ",
                                    "orderid": "10485",
                                    "productid": "3",
                                    "qty": "20"
                                },
                                {
                                    "custid": "47",
                                    "companyname": "Customer PSQUZ",
                                    "orderid": "10485",
                                    "productid": "55",
                                    "qty": "30"
                                },
                                {
                                    "custid": "47",
                                    "companyname": "Customer PSQUZ",
                                    "orderid": "10485",
                                    "productid": "70",
                                    "qty": "60"
                                },
                                {
                                    "custid": "35",
                                    "companyname": "Customer UMTLM",
                                    "orderid": "10486",
                                    "productid": "11",
                                    "qty": "5"
                                },
                                {
                                    "custid": "35",
                                    "companyname": "Customer UMTLM",
                                    "orderid": "10486",
                                    "productid": "51",
                                    "qty": "25"
                                },
                                {
                                    "custid": "35",
                                    "companyname": "Customer UMTLM",
                                    "orderid": "10486",
                                    "productid": "74",
                                    "qty": "16"
                                },
                                {
                                    "custid": "62",
                                    "companyname": "Customer WFIZJ",
                                    "orderid": "10487",
                                    "productid": "19",
                                    "qty": "5"
                                },
                                {
                                    "custid": "62",
                                    "companyname": "Customer WFIZJ",
                                    "orderid": "10487",
                                    "productid": "26",
                                    "qty": "30"
                                },
                                {
                                    "custid": "62",
                                    "companyname": "Customer WFIZJ",
                                    "orderid": "10487",
                                    "productid": "54",
                                    "qty": "24"
                                },
                                {
                                    "custid": "25",
                                    "companyname": "Customer AZJED",
                                    "orderid": "10488",
                                    "productid": "59",
                                    "qty": "30"
                                },
                                {
                                    "custid": "25",
                                    "companyname": "Customer AZJED",
                                    "orderid": "10488",
                                    "productid": "73",
                                    "qty": "20"
                                },
                                {
                                    "custid": "59",
                                    "companyname": "Customer LOLJO",
                                    "orderid": "10489",
                                    "productid": "11",
                                    "qty": "15"
                                },
                                {
                                    "custid": "59",
                                    "companyname": "Customer LOLJO",
                                    "orderid": "10489",
                                    "productid": "16",
                                    "qty": "18"
                                },
                                {
                                    "custid": "35",
                                    "companyname": "Customer UMTLM",
                                    "orderid": "10490",
                                    "productid": "59",
                                    "qty": "60"
                                },
                                {
                                    "custid": "35",
                                    "companyname": "Customer UMTLM",
                                    "orderid": "10490",
                                    "productid": "68",
                                    "qty": "30"
                                },
                                {
                                    "custid": "35",
                                    "companyname": "Customer UMTLM",
                                    "orderid": "10490",
                                    "productid": "75",
                                    "qty": "36"
                                },
                                {
                                    "custid": "28",
                                    "companyname": "Customer XYUFB",
                                    "orderid": "10491",
                                    "productid": "44",
                                    "qty": "15"
                                },
                                {
                                    "custid": "28",
                                    "companyname": "Customer XYUFB",
                                    "orderid": "10491",
                                    "productid": "77",
                                    "qty": "7"
                                },
                                {
                                    "custid": "10",
                                    "companyname": "Customer EEALV",
                                    "orderid": "10492",
                                    "productid": "25",
                                    "qty": "60"
                                },
                                {
                                    "custid": "10",
                                    "companyname": "Customer EEALV",
                                    "orderid": "10492",
                                    "productid": "42",
                                    "qty": "20"
                                },
                                {
                                    "custid": "41",
                                    "companyname": "Customer XIIWM",
                                    "orderid": "10493",
                                    "productid": "65",
                                    "qty": "15"
                                },
                                {
                                    "custid": "41",
                                    "companyname": "Customer XIIWM",
                                    "orderid": "10493",
                                    "productid": "66",
                                    "qty": "10"
                                },
                                {
                                    "custid": "41",
                                    "companyname": "Customer XIIWM",
                                    "orderid": "10493",
                                    "productid": "69",
                                    "qty": "10"
                                },
                                {
                                    "custid": "15",
                                    "companyname": "Customer JUWXK",
                                    "orderid": "10494",
                                    "productid": "56",
                                    "qty": "30"
                                },
                                {
                                    "custid": "42",
                                    "companyname": "Customer IAIJK",
                                    "orderid": "10495",
                                    "productid": "23",
                                    "qty": "10"
                                },
                                {
                                    "custid": "42",
                                    "companyname": "Customer IAIJK",
                                    "orderid": "10495",
                                    "productid": "41",
                                    "qty": "20"
                                },
                                {
                                    "custid": "42",
                                    "companyname": "Customer IAIJK",
                                    "orderid": "10495",
                                    "productid": "77",
                                    "qty": "5"
                                },
                                {
                                    "custid": "81",
                                    "companyname": "Customer YQQWW",
                                    "orderid": "10496",
                                    "productid": "31",
                                    "qty": "20"
                                },
                                {
                                    "custid": "44",
                                    "companyname": "Customer OXFRU",
                                    "orderid": "10497",
                                    "productid": "56",
                                    "qty": "14"
                                },
                                {
                                    "custid": "44",
                                    "companyname": "Customer OXFRU",
                                    "orderid": "10497",
                                    "productid": "72",
                                    "qty": "25"
                                },
                                {
                                    "custid": "44",
                                    "companyname": "Customer OXFRU",
                                    "orderid": "10497",
                                    "productid": "77",
                                    "qty": "25"
                                },
                                {
                                    "custid": "35",
                                    "companyname": "Customer UMTLM",
                                    "orderid": "10498",
                                    "productid": "24",
                                    "qty": "14"
                                },
                                {
                                    "custid": "35",
                                    "companyname": "Customer UMTLM",
                                    "orderid": "10498",
                                    "productid": "40",
                                    "qty": "5"
                                },
                                {
                                    "custid": "35",
                                    "companyname": "Customer UMTLM",
                                    "orderid": "10498",
                                    "productid": "42",
                                    "qty": "30"
                                },
                                {
                                    "custid": "46",
                                    "companyname": "Customer XPNIK",
                                    "orderid": "10499",
                                    "productid": "28",
                                    "qty": "20"
                                },
                                {
                                    "custid": "46",
                                    "companyname": "Customer XPNIK",
                                    "orderid": "10499",
                                    "productid": "49",
                                    "qty": "25"
                                },
                                {
                                    "custid": "41",
                                    "companyname": "Customer XIIWM",
                                    "orderid": "10500",
                                    "productid": "15",
                                    "qty": "12"
                                },
                                {
                                    "custid": "41",
                                    "companyname": "Customer XIIWM",
                                    "orderid": "10500",
                                    "productid": "28",
                                    "qty": "8"
                                },
                                {
                                    "custid": "6",
                                    "companyname": "Customer XHXJV",
                                    "orderid": "10501",
                                    "productid": "54",
                                    "qty": "20"
                                },
                                {
                                    "custid": "58",
                                    "companyname": "Customer AHXHT",
                                    "orderid": "10502",
                                    "productid": "45",
                                    "qty": "21"
                                },
                                {
                                    "custid": "58",
                                    "companyname": "Customer AHXHT",
                                    "orderid": "10502",
                                    "productid": "53",
                                    "qty": "6"
                                },
                                {
                                    "custid": "58",
                                    "companyname": "Customer AHXHT",
                                    "orderid": "10502",
                                    "productid": "67",
                                    "qty": "30"
                                },
                                {
                                    "custid": "37",
                                    "companyname": "Customer FRXZL",
                                    "orderid": "10503",
                                    "productid": "14",
                                    "qty": "70"
                                },
                                {
                                    "custid": "37",
                                    "companyname": "Customer FRXZL",
                                    "orderid": "10503",
                                    "productid": "65",
                                    "qty": "20"
                                },
                                {
                                    "custid": "89",
                                    "companyname": "Customer YBQTI",
                                    "orderid": "10504",
                                    "productid": "2",
                                    "qty": "12"
                                },
                                {
                                    "custid": "89",
                                    "companyname": "Customer YBQTI",
                                    "orderid": "10504",
                                    "productid": "21",
                                    "qty": "12"
                                },
                                {
                                    "custid": "89",
                                    "companyname": "Customer YBQTI",
                                    "orderid": "10504",
                                    "productid": "53",
                                    "qty": "10"
                                },
                                {
                                    "custid": "89",
                                    "companyname": "Customer YBQTI",
                                    "orderid": "10504",
                                    "productid": "61",
                                    "qty": "25"
                                },
                                {
                                    "custid": "51",
                                    "companyname": "Customer PVDZC",
                                    "orderid": "10505",
                                    "productid": "62",
                                    "qty": "3"
                                },
                                {
                                    "custid": "39",
                                    "companyname": "Customer GLLAG",
                                    "orderid": "10506",
                                    "productid": "25",
                                    "qty": "18"
                                },
                                {
                                    "custid": "39",
                                    "companyname": "Customer GLLAG",
                                    "orderid": "10506",
                                    "productid": "70",
                                    "qty": "14"
                                },
                                {
                                    "custid": "3",
                                    "companyname": "Customer KBUDE",
                                    "orderid": "10507",
                                    "productid": "43",
                                    "qty": "15"
                                },
                                {
                                    "custid": "3",
                                    "companyname": "Customer KBUDE",
                                    "orderid": "10507",
                                    "productid": "48",
                                    "qty": "15"
                                },
                                {
                                    "custid": "56",
                                    "companyname": "Customer QNIVZ",
                                    "orderid": "10508",
                                    "productid": "13",
                                    "qty": "10"
                                },
                                {
                                    "custid": "56",
                                    "companyname": "Customer QNIVZ",
                                    "orderid": "10508",
                                    "productid": "39",
                                    "qty": "10"
                                },
                                {
                                    "custid": "6",
                                    "companyname": "Customer XHXJV",
                                    "orderid": "10509",
                                    "productid": "28",
                                    "qty": "3"
                                },
                                {
                                    "custid": "71",
                                    "companyname": "Customer LCOUJ",
                                    "orderid": "10510",
                                    "productid": "29",
                                    "qty": "36"
                                },
                                {
                                    "custid": "71",
                                    "companyname": "Customer LCOUJ",
                                    "orderid": "10510",
                                    "productid": "75",
                                    "qty": "36"
                                },
                                {
                                    "custid": "9",
                                    "companyname": "Customer RTXGC",
                                    "orderid": "10511",
                                    "productid": "4",
                                    "qty": "50"
                                },
                                {
                                    "custid": "9",
                                    "companyname": "Customer RTXGC",
                                    "orderid": "10511",
                                    "productid": "7",
                                    "qty": "50"
                                },
                                {
                                    "custid": "9",
                                    "companyname": "Customer RTXGC",
                                    "orderid": "10511",
                                    "productid": "8",
                                    "qty": "10"
                                },
                                {
                                    "custid": "21",
                                    "companyname": "Customer KIDPX",
                                    "orderid": "10512",
                                    "productid": "24",
                                    "qty": "10"
                                },
                                {
                                    "custid": "21",
                                    "companyname": "Customer KIDPX",
                                    "orderid": "10512",
                                    "productid": "46",
                                    "qty": "9"
                                },
                                {
                                    "custid": "21",
                                    "companyname": "Customer KIDPX",
                                    "orderid": "10512",
                                    "productid": "47",
                                    "qty": "6"
                                },
                                {
                                    "custid": "21",
                                    "companyname": "Customer KIDPX",
                                    "orderid": "10512",
                                    "productid": "60",
                                    "qty": "12"
                                },
                                {
                                    "custid": "86",
                                    "companyname": "Customer SNXOJ",
                                    "orderid": "10513",
                                    "productid": "21",
                                    "qty": "40"
                                },
                                {
                                    "custid": "86",
                                    "companyname": "Customer SNXOJ",
                                    "orderid": "10513",
                                    "productid": "32",
                                    "qty": "50"
                                },
                                {
                                    "custid": "86",
                                    "companyname": "Customer SNXOJ",
                                    "orderid": "10513",
                                    "productid": "61",
                                    "qty": "15"
                                },
                                {
                                    "custid": "20",
                                    "companyname": "Customer THHDP",
                                    "orderid": "10514",
                                    "productid": "20",
                                    "qty": "39"
                                },
                                {
                                    "custid": "20",
                                    "companyname": "Customer THHDP",
                                    "orderid": "10514",
                                    "productid": "28",
                                    "qty": "35"
                                },
                                {
                                    "custid": "20",
                                    "companyname": "Customer THHDP",
                                    "orderid": "10514",
                                    "productid": "56",
                                    "qty": "70"
                                },
                                {
                                    "custid": "20",
                                    "companyname": "Customer THHDP",
                                    "orderid": "10514",
                                    "productid": "65",
                                    "qty": "39"
                                },
                                {
                                    "custid": "20",
                                    "companyname": "Customer THHDP",
                                    "orderid": "10514",
                                    "productid": "75",
                                    "qty": "50"
                                },
                                {
                                    "custid": "63",
                                    "companyname": "Customer IRRVL",
                                    "orderid": "10515",
                                    "productid": "9",
                                    "qty": "16"
                                },
                                {
                                    "custid": "63",
                                    "companyname": "Customer IRRVL",
                                    "orderid": "10515",
                                    "productid": "16",
                                    "qty": "50"
                                },
                                {
                                    "custid": "63",
                                    "companyname": "Customer IRRVL",
                                    "orderid": "10515",
                                    "productid": "27",
                                    "qty": "120"
                                },
                                {
                                    "custid": "63",
                                    "companyname": "Customer IRRVL",
                                    "orderid": "10515",
                                    "productid": "33",
                                    "qty": "16"
                                },
                                {
                                    "custid": "63",
                                    "companyname": "Customer IRRVL",
                                    "orderid": "10515",
                                    "productid": "60",
                                    "qty": "84"
                                },
                                {
                                    "custid": "37",
                                    "companyname": "Customer FRXZL",
                                    "orderid": "10516",
                                    "productid": "18",
                                    "qty": "25"
                                },
                                {
                                    "custid": "37",
                                    "companyname": "Customer FRXZL",
                                    "orderid": "10516",
                                    "productid": "41",
                                    "qty": "80"
                                },
                                {
                                    "custid": "37",
                                    "companyname": "Customer FRXZL",
                                    "orderid": "10516",
                                    "productid": "42",
                                    "qty": "20"
                                },
                                {
                                    "custid": "53",
                                    "companyname": "Customer GCJSG",
                                    "orderid": "10517",
                                    "productid": "52",
                                    "qty": "6"
                                },
                                {
                                    "custid": "53",
                                    "companyname": "Customer GCJSG",
                                    "orderid": "10517",
                                    "productid": "59",
                                    "qty": "4"
                                },
                                {
                                    "custid": "53",
                                    "companyname": "Customer GCJSG",
                                    "orderid": "10517",
                                    "productid": "70",
                                    "qty": "6"
                                },
                                {
                                    "custid": "80",
                                    "companyname": "Customer VONTK",
                                    "orderid": "10518",
                                    "productid": "24",
                                    "qty": "5"
                                },
                                {
                                    "custid": "80",
                                    "companyname": "Customer VONTK",
                                    "orderid": "10518",
                                    "productid": "38",
                                    "qty": "15"
                                },
                                {
                                    "custid": "80",
                                    "companyname": "Customer VONTK",
                                    "orderid": "10518",
                                    "productid": "44",
                                    "qty": "9"
                                },
                                {
                                    "custid": "14",
                                    "companyname": "Customer WNMAF",
                                    "orderid": "10519",
                                    "productid": "10",
                                    "qty": "16"
                                },
                                {
                                    "custid": "14",
                                    "companyname": "Customer WNMAF",
                                    "orderid": "10519",
                                    "productid": "56",
                                    "qty": "40"
                                },
                                {
                                    "custid": "14",
                                    "companyname": "Customer WNMAF",
                                    "orderid": "10519",
                                    "productid": "60",
                                    "qty": "10"
                                },
                                {
                                    "custid": "70",
                                    "companyname": "Customer TMXGN",
                                    "orderid": "10520",
                                    "productid": "24",
                                    "qty": "8"
                                },
                                {
                                    "custid": "70",
                                    "companyname": "Customer TMXGN",
                                    "orderid": "10520",
                                    "productid": "53",
                                    "qty": "5"
                                },
                                {
                                    "custid": "12",
                                    "companyname": "Customer PSNMQ",
                                    "orderid": "10521",
                                    "productid": "35",
                                    "qty": "3"
                                },
                                {
                                    "custid": "12",
                                    "companyname": "Customer PSNMQ",
                                    "orderid": "10521",
                                    "productid": "41",
                                    "qty": "10"
                                },
                                {
                                    "custid": "12",
                                    "companyname": "Customer PSNMQ",
                                    "orderid": "10521",
                                    "productid": "68",
                                    "qty": "6"
                                },
                                {
                                    "custid": "44",
                                    "companyname": "Customer OXFRU",
                                    "orderid": "10522",
                                    "productid": "1",
                                    "qty": "40"
                                },
                                {
                                    "custid": "44",
                                    "companyname": "Customer OXFRU",
                                    "orderid": "10522",
                                    "productid": "8",
                                    "qty": "24"
                                },
                                {
                                    "custid": "44",
                                    "companyname": "Customer OXFRU",
                                    "orderid": "10522",
                                    "productid": "30",
                                    "qty": "20"
                                },
                                {
                                    "custid": "44",
                                    "companyname": "Customer OXFRU",
                                    "orderid": "10522",
                                    "productid": "40",
                                    "qty": "25"
                                },
                                {
                                    "custid": "72",
                                    "companyname": "Customer AHPOP",
                                    "orderid": "10523",
                                    "productid": "17",
                                    "qty": "25"
                                },
                                {
                                    "custid": "72",
                                    "companyname": "Customer AHPOP",
                                    "orderid": "10523",
                                    "productid": "20",
                                    "qty": "15"
                                },
                                {
                                    "custid": "72",
                                    "companyname": "Customer AHPOP",
                                    "orderid": "10523",
                                    "productid": "37",
                                    "qty": "18"
                                },
                                {
                                    "custid": "72",
                                    "companyname": "Customer AHPOP",
                                    "orderid": "10523",
                                    "productid": "41",
                                    "qty": "6"
                                },
                                {
                                    "custid": "5",
                                    "companyname": "Customer HGVLZ",
                                    "orderid": "10524",
                                    "productid": "10",
                                    "qty": "2"
                                },
                                {
                                    "custid": "5",
                                    "companyname": "Customer HGVLZ",
                                    "orderid": "10524",
                                    "productid": "30",
                                    "qty": "10"
                                },
                                {
                                    "custid": "5",
                                    "companyname": "Customer HGVLZ",
                                    "orderid": "10524",
                                    "productid": "43",
                                    "qty": "60"
                                },
                                {
                                    "custid": "5",
                                    "companyname": "Customer HGVLZ",
                                    "orderid": "10524",
                                    "productid": "54",
                                    "qty": "15"
                                },
                                {
                                    "custid": "9",
                                    "companyname": "Customer RTXGC",
                                    "orderid": "10525",
                                    "productid": "36",
                                    "qty": "30"
                                },
                                {
                                    "custid": "9",
                                    "companyname": "Customer RTXGC",
                                    "orderid": "10525",
                                    "productid": "40",
                                    "qty": "15"
                                },
                                {
                                    "custid": "87",
                                    "companyname": "Customer ZHYOS",
                                    "orderid": "10526",
                                    "productid": "1",
                                    "qty": "8"
                                },
                                {
                                    "custid": "87",
                                    "companyname": "Customer ZHYOS",
                                    "orderid": "10526",
                                    "productid": "13",
                                    "qty": "10"
                                },
                                {
                                    "custid": "87",
                                    "companyname": "Customer ZHYOS",
                                    "orderid": "10526",
                                    "productid": "56",
                                    "qty": "30"
                                },
                                {
                                    "custid": "63",
                                    "companyname": "Customer IRRVL",
                                    "orderid": "10527",
                                    "productid": "4",
                                    "qty": "50"
                                },
                                {
                                    "custid": "63",
                                    "companyname": "Customer IRRVL",
                                    "orderid": "10527",
                                    "productid": "36",
                                    "qty": "30"
                                },
                                {
                                    "custid": "32",
                                    "companyname": "Customer YSIQX",
                                    "orderid": "10528",
                                    "productid": "11",
                                    "qty": "3"
                                },
                                {
                                    "custid": "32",
                                    "companyname": "Customer YSIQX",
                                    "orderid": "10528",
                                    "productid": "33",
                                    "qty": "8"
                                },
                                {
                                    "custid": "32",
                                    "companyname": "Customer YSIQX",
                                    "orderid": "10528",
                                    "productid": "72",
                                    "qty": "9"
                                },
                                {
                                    "custid": "50",
                                    "companyname": "Customer JYPSC",
                                    "orderid": "10529",
                                    "productid": "55",
                                    "qty": "14"
                                },
                                {
                                    "custid": "50",
                                    "companyname": "Customer JYPSC",
                                    "orderid": "10529",
                                    "productid": "68",
                                    "qty": "20"
                                },
                                {
                                    "custid": "50",
                                    "companyname": "Customer JYPSC",
                                    "orderid": "10529",
                                    "productid": "69",
                                    "qty": "10"
                                },
                                {
                                    "custid": "59",
                                    "companyname": "Customer LOLJO",
                                    "orderid": "10530",
                                    "productid": "17",
                                    "qty": "40"
                                },
                                {
                                    "custid": "59",
                                    "companyname": "Customer LOLJO",
                                    "orderid": "10530",
                                    "productid": "43",
                                    "qty": "25"
                                },
                                {
                                    "custid": "59",
                                    "companyname": "Customer LOLJO",
                                    "orderid": "10530",
                                    "productid": "61",
                                    "qty": "20"
                                },
                                {
                                    "custid": "59",
                                    "companyname": "Customer LOLJO",
                                    "orderid": "10530",
                                    "productid": "76",
                                    "qty": "50"
                                },
                                {
                                    "custid": "54",
                                    "companyname": "Customer TDKEG",
                                    "orderid": "10531",
                                    "productid": "59",
                                    "qty": "2"
                                },
                                {
                                    "custid": "19",
                                    "companyname": "Customer RFNQC",
                                    "orderid": "10532",
                                    "productid": "30",
                                    "qty": "15"
                                },
                                {
                                    "custid": "19",
                                    "companyname": "Customer RFNQC",
                                    "orderid": "10532",
                                    "productid": "66",
                                    "qty": "24"
                                },
                                {
                                    "custid": "24",
                                    "companyname": "Customer CYZTN",
                                    "orderid": "10533",
                                    "productid": "4",
                                    "qty": "50"
                                },
                                {
                                    "custid": "24",
                                    "companyname": "Customer CYZTN",
                                    "orderid": "10533",
                                    "productid": "72",
                                    "qty": "24"
                                },
                                {
                                    "custid": "24",
                                    "companyname": "Customer CYZTN",
                                    "orderid": "10533",
                                    "productid": "73",
                                    "qty": "24"
                                },
                                {
                                    "custid": "44",
                                    "companyname": "Customer OXFRU",
                                    "orderid": "10534",
                                    "productid": "30",
                                    "qty": "10"
                                },
                                {
                                    "custid": "44",
                                    "companyname": "Customer OXFRU",
                                    "orderid": "10534",
                                    "productid": "40",
                                    "qty": "10"
                                },
                                {
                                    "custid": "44",
                                    "companyname": "Customer OXFRU",
                                    "orderid": "10534",
                                    "productid": "54",
                                    "qty": "10"
                                },
                                {
                                    "custid": "3",
                                    "companyname": "Customer KBUDE",
                                    "orderid": "10535",
                                    "productid": "11",
                                    "qty": "50"
                                },
                                {
                                    "custid": "3",
                                    "companyname": "Customer KBUDE",
                                    "orderid": "10535",
                                    "productid": "40",
                                    "qty": "10"
                                },
                                {
                                    "custid": "3",
                                    "companyname": "Customer KBUDE",
                                    "orderid": "10535",
                                    "productid": "57",
                                    "qty": "5"
                                },
                                {
                                    "custid": "3",
                                    "companyname": "Customer KBUDE",
                                    "orderid": "10535",
                                    "productid": "59",
                                    "qty": "15"
                                },
                                {
                                    "custid": "44",
                                    "companyname": "Customer OXFRU",
                                    "orderid": "10536",
                                    "productid": "12",
                                    "qty": "15"
                                },
                                {
                                    "custid": "44",
                                    "companyname": "Customer OXFRU",
                                    "orderid": "10536",
                                    "productid": "31",
                                    "qty": "20"
                                },
                                {
                                    "custid": "44",
                                    "companyname": "Customer OXFRU",
                                    "orderid": "10536",
                                    "productid": "33",
                                    "qty": "30"
                                },
                                {
                                    "custid": "44",
                                    "companyname": "Customer OXFRU",
                                    "orderid": "10536",
                                    "productid": "60",
                                    "qty": "35"
                                },
                                {
                                    "custid": "68",
                                    "companyname": "Customer CCKOT",
                                    "orderid": "10537",
                                    "productid": "31",
                                    "qty": "30"
                                },
                                {
                                    "custid": "68",
                                    "companyname": "Customer CCKOT",
                                    "orderid": "10537",
                                    "productid": "51",
                                    "qty": "6"
                                },
                                {
                                    "custid": "68",
                                    "companyname": "Customer CCKOT",
                                    "orderid": "10537",
                                    "productid": "58",
                                    "qty": "20"
                                },
                                {
                                    "custid": "68",
                                    "companyname": "Customer CCKOT",
                                    "orderid": "10537",
                                    "productid": "72",
                                    "qty": "21"
                                },
                                {
                                    "custid": "68",
                                    "companyname": "Customer CCKOT",
                                    "orderid": "10537",
                                    "productid": "73",
                                    "qty": "9"
                                },
                                {
                                    "custid": "11",
                                    "companyname": "Customer UBHAU",
                                    "orderid": "10538",
                                    "productid": "70",
                                    "qty": "7"
                                },
                                {
                                    "custid": "11",
                                    "companyname": "Customer UBHAU",
                                    "orderid": "10538",
                                    "productid": "72",
                                    "qty": "1"
                                },
                                {
                                    "custid": "11",
                                    "companyname": "Customer UBHAU",
                                    "orderid": "10539",
                                    "productid": "13",
                                    "qty": "8"
                                },
                                {
                                    "custid": "11",
                                    "companyname": "Customer UBHAU",
                                    "orderid": "10539",
                                    "productid": "21",
                                    "qty": "15"
                                },
                                {
                                    "custid": "11",
                                    "companyname": "Customer UBHAU",
                                    "orderid": "10539",
                                    "productid": "33",
                                    "qty": "15"
                                },
                                {
                                    "custid": "11",
                                    "companyname": "Customer UBHAU",
                                    "orderid": "10539",
                                    "productid": "49",
                                    "qty": "6"
                                },
                                {
                                    "custid": "63",
                                    "companyname": "Customer IRRVL",
                                    "orderid": "10540",
                                    "productid": "3",
                                    "qty": "60"
                                },
                                {
                                    "custid": "63",
                                    "companyname": "Customer IRRVL",
                                    "orderid": "10540",
                                    "productid": "26",
                                    "qty": "40"
                                },
                                {
                                    "custid": "63",
                                    "companyname": "Customer IRRVL",
                                    "orderid": "10540",
                                    "productid": "38",
                                    "qty": "30"
                                },
                                {
                                    "custid": "63",
                                    "companyname": "Customer IRRVL",
                                    "orderid": "10540",
                                    "productid": "68",
                                    "qty": "35"
                                },
                                {
                                    "custid": "34",
                                    "companyname": "Customer IBVRG",
                                    "orderid": "10541",
                                    "productid": "24",
                                    "qty": "35"
                                },
                                {
                                    "custid": "34",
                                    "companyname": "Customer IBVRG",
                                    "orderid": "10541",
                                    "productid": "38",
                                    "qty": "4"
                                },
                                {
                                    "custid": "34",
                                    "companyname": "Customer IBVRG",
                                    "orderid": "10541",
                                    "productid": "65",
                                    "qty": "36"
                                },
                                {
                                    "custid": "34",
                                    "companyname": "Customer IBVRG",
                                    "orderid": "10541",
                                    "productid": "71",
                                    "qty": "9"
                                },
                                {
                                    "custid": "39",
                                    "companyname": "Customer GLLAG",
                                    "orderid": "10542",
                                    "productid": "11",
                                    "qty": "15"
                                },
                                {
                                    "custid": "39",
                                    "companyname": "Customer GLLAG",
                                    "orderid": "10542",
                                    "productid": "54",
                                    "qty": "24"
                                },
                                {
                                    "custid": "46",
                                    "companyname": "Customer XPNIK",
                                    "orderid": "10543",
                                    "productid": "12",
                                    "qty": "30"
                                },
                                {
                                    "custid": "46",
                                    "companyname": "Customer XPNIK",
                                    "orderid": "10543",
                                    "productid": "23",
                                    "qty": "70"
                                },
                                {
                                    "custid": "48",
                                    "companyname": "Customer DVFMB",
                                    "orderid": "10544",
                                    "productid": "28",
                                    "qty": "7"
                                },
                                {
                                    "custid": "48",
                                    "companyname": "Customer DVFMB",
                                    "orderid": "10544",
                                    "productid": "67",
                                    "qty": "7"
                                },
                                {
                                    "custid": "43",
                                    "companyname": "Customer UISOJ",
                                    "orderid": "10545",
                                    "productid": "11",
                                    "qty": "10"
                                },
                                {
                                    "custid": "84",
                                    "companyname": "Customer NRCSK",
                                    "orderid": "10546",
                                    "productid": "7",
                                    "qty": "10"
                                },
                                {
                                    "custid": "84",
                                    "companyname": "Customer NRCSK",
                                    "orderid": "10546",
                                    "productid": "35",
                                    "qty": "30"
                                },
                                {
                                    "custid": "84",
                                    "companyname": "Customer NRCSK",
                                    "orderid": "10546",
                                    "productid": "62",
                                    "qty": "40"
                                },
                                {
                                    "custid": "72",
                                    "companyname": "Customer AHPOP",
                                    "orderid": "10547",
                                    "productid": "32",
                                    "qty": "24"
                                },
                                {
                                    "custid": "72",
                                    "companyname": "Customer AHPOP",
                                    "orderid": "10547",
                                    "productid": "36",
                                    "qty": "60"
                                },
                                {
                                    "custid": "79",
                                    "companyname": "Customer FAPSM",
                                    "orderid": "10548",
                                    "productid": "34",
                                    "qty": "10"
                                },
                                {
                                    "custid": "79",
                                    "companyname": "Customer FAPSM",
                                    "orderid": "10548",
                                    "productid": "41",
                                    "qty": "14"
                                },
                                {
                                    "custid": "63",
                                    "companyname": "Customer IRRVL",
                                    "orderid": "10549",
                                    "productid": "31",
                                    "qty": "55"
                                },
                                {
                                    "custid": "63",
                                    "companyname": "Customer IRRVL",
                                    "orderid": "10549",
                                    "productid": "45",
                                    "qty": "100"
                                },
                                {
                                    "custid": "63",
                                    "companyname": "Customer IRRVL",
                                    "orderid": "10549",
                                    "productid": "51",
                                    "qty": "48"
                                },
                                {
                                    "custid": "30",
                                    "companyname": "Customer KSLQF",
                                    "orderid": "10550",
                                    "productid": "17",
                                    "qty": "8"
                                },
                                {
                                    "custid": "30",
                                    "companyname": "Customer KSLQF",
                                    "orderid": "10550",
                                    "productid": "19",
                                    "qty": "10"
                                },
                                {
                                    "custid": "30",
                                    "companyname": "Customer KSLQF",
                                    "orderid": "10550",
                                    "productid": "21",
                                    "qty": "6"
                                },
                                {
                                    "custid": "30",
                                    "companyname": "Customer KSLQF",
                                    "orderid": "10550",
                                    "productid": "61",
                                    "qty": "10"
                                },
                                {
                                    "custid": "28",
                                    "companyname": "Customer XYUFB",
                                    "orderid": "10551",
                                    "productid": "16",
                                    "qty": "40"
                                },
                                {
                                    "custid": "28",
                                    "companyname": "Customer XYUFB",
                                    "orderid": "10551",
                                    "productid": "35",
                                    "qty": "20"
                                },
                                {
                                    "custid": "28",
                                    "companyname": "Customer XYUFB",
                                    "orderid": "10551",
                                    "productid": "44",
                                    "qty": "40"
                                },
                                {
                                    "custid": "35",
                                    "companyname": "Customer UMTLM",
                                    "orderid": "10552",
                                    "productid": "69",
                                    "qty": "18"
                                },
                                {
                                    "custid": "35",
                                    "companyname": "Customer UMTLM",
                                    "orderid": "10552",
                                    "productid": "75",
                                    "qty": "30"
                                },
                                {
                                    "custid": "87",
                                    "companyname": "Customer ZHYOS",
                                    "orderid": "10553",
                                    "productid": "11",
                                    "qty": "15"
                                },
                                {
                                    "custid": "87",
                                    "companyname": "Customer ZHYOS",
                                    "orderid": "10553",
                                    "productid": "16",
                                    "qty": "14"
                                },
                                {
                                    "custid": "87",
                                    "companyname": "Customer ZHYOS",
                                    "orderid": "10553",
                                    "productid": "22",
                                    "qty": "24"
                                },
                                {
                                    "custid": "87",
                                    "companyname": "Customer ZHYOS",
                                    "orderid": "10553",
                                    "productid": "31",
                                    "qty": "30"
                                },
                                {
                                    "custid": "87",
                                    "companyname": "Customer ZHYOS",
                                    "orderid": "10553",
                                    "productid": "35",
                                    "qty": "6"
                                },
                                {
                                    "custid": "56",
                                    "companyname": "Customer QNIVZ",
                                    "orderid": "10554",
                                    "productid": "16",
                                    "qty": "30"
                                },
                                {
                                    "custid": "56",
                                    "companyname": "Customer QNIVZ",
                                    "orderid": "10554",
                                    "productid": "23",
                                    "qty": "20"
                                },
                                {
                                    "custid": "56",
                                    "companyname": "Customer QNIVZ",
                                    "orderid": "10554",
                                    "productid": "62",
                                    "qty": "20"
                                },
                                {
                                    "custid": "56",
                                    "companyname": "Customer QNIVZ",
                                    "orderid": "10554",
                                    "productid": "77",
                                    "qty": "10"
                                },
                                {
                                    "custid": "71",
                                    "companyname": "Customer LCOUJ",
                                    "orderid": "10555",
                                    "productid": "14",
                                    "qty": "30"
                                },
                                {
                                    "custid": "71",
                                    "companyname": "Customer LCOUJ",
                                    "orderid": "10555",
                                    "productid": "19",
                                    "qty": "35"
                                },
                                {
                                    "custid": "71",
                                    "companyname": "Customer LCOUJ",
                                    "orderid": "10555",
                                    "productid": "24",
                                    "qty": "18"
                                },
                                {
                                    "custid": "71",
                                    "companyname": "Customer LCOUJ",
                                    "orderid": "10555",
                                    "productid": "51",
                                    "qty": "20"
                                },
                                {
                                    "custid": "71",
                                    "companyname": "Customer LCOUJ",
                                    "orderid": "10555",
                                    "productid": "56",
                                    "qty": "40"
                                },
                                {
                                    "custid": "73",
                                    "companyname": "Customer JMIKW",
                                    "orderid": "10556",
                                    "productid": "72",
                                    "qty": "24"
                                },
                                {
                                    "custid": "44",
                                    "companyname": "Customer OXFRU",
                                    "orderid": "10557",
                                    "productid": "64",
                                    "qty": "30"
                                },
                                {
                                    "custid": "44",
                                    "companyname": "Customer OXFRU",
                                    "orderid": "10557",
                                    "productid": "75",
                                    "qty": "20"
                                },
                                {
                                    "custid": "4",
                                    "companyname": "Customer HFBZG",
                                    "orderid": "10558",
                                    "productid": "47",
                                    "qty": "25"
                                },
                                {
                                    "custid": "4",
                                    "companyname": "Customer HFBZG",
                                    "orderid": "10558",
                                    "productid": "51",
                                    "qty": "20"
                                },
                                {
                                    "custid": "4",
                                    "companyname": "Customer HFBZG",
                                    "orderid": "10558",
                                    "productid": "52",
                                    "qty": "30"
                                },
                                {
                                    "custid": "4",
                                    "companyname": "Customer HFBZG",
                                    "orderid": "10558",
                                    "productid": "53",
                                    "qty": "18"
                                },
                                {
                                    "custid": "4",
                                    "companyname": "Customer HFBZG",
                                    "orderid": "10558",
                                    "productid": "73",
                                    "qty": "3"
                                },
                                {
                                    "custid": "7",
                                    "companyname": "Customer QXVLA",
                                    "orderid": "10559",
                                    "productid": "41",
                                    "qty": "12"
                                },
                                {
                                    "custid": "7",
                                    "companyname": "Customer QXVLA",
                                    "orderid": "10559",
                                    "productid": "55",
                                    "qty": "18"
                                },
                                {
                                    "custid": "25",
                                    "companyname": "Customer AZJED",
                                    "orderid": "10560",
                                    "productid": "30",
                                    "qty": "20"
                                },
                                {
                                    "custid": "25",
                                    "companyname": "Customer AZJED",
                                    "orderid": "10560",
                                    "productid": "62",
                                    "qty": "15"
                                },
                                {
                                    "custid": "24",
                                    "companyname": "Customer CYZTN",
                                    "orderid": "10561",
                                    "productid": "44",
                                    "qty": "10"
                                },
                                {
                                    "custid": "24",
                                    "companyname": "Customer CYZTN",
                                    "orderid": "10561",
                                    "productid": "51",
                                    "qty": "50"
                                },
                                {
                                    "custid": "66",
                                    "companyname": "Customer LHANT",
                                    "orderid": "10562",
                                    "productid": "33",
                                    "qty": "20"
                                },
                                {
                                    "custid": "66",
                                    "companyname": "Customer LHANT",
                                    "orderid": "10562",
                                    "productid": "62",
                                    "qty": "10"
                                },
                                {
                                    "custid": "67",
                                    "companyname": "Customer QVEPD",
                                    "orderid": "10563",
                                    "productid": "36",
                                    "qty": "25"
                                },
                                {
                                    "custid": "67",
                                    "companyname": "Customer QVEPD",
                                    "orderid": "10563",
                                    "productid": "52",
                                    "qty": "70"
                                },
                                {
                                    "custid": "65",
                                    "companyname": "Customer NYUHS",
                                    "orderid": "10564",
                                    "productid": "17",
                                    "qty": "16"
                                },
                                {
                                    "custid": "65",
                                    "companyname": "Customer NYUHS",
                                    "orderid": "10564",
                                    "productid": "31",
                                    "qty": "6"
                                },
                                {
                                    "custid": "65",
                                    "companyname": "Customer NYUHS",
                                    "orderid": "10564",
                                    "productid": "55",
                                    "qty": "25"
                                },
                                {
                                    "custid": "51",
                                    "companyname": "Customer PVDZC",
                                    "orderid": "10565",
                                    "productid": "24",
                                    "qty": "25"
                                },
                                {
                                    "custid": "51",
                                    "companyname": "Customer PVDZC",
                                    "orderid": "10565",
                                    "productid": "64",
                                    "qty": "18"
                                },
                                {
                                    "custid": "7",
                                    "companyname": "Customer QXVLA",
                                    "orderid": "10566",
                                    "productid": "11",
                                    "qty": "35"
                                },
                                {
                                    "custid": "7",
                                    "companyname": "Customer QXVLA",
                                    "orderid": "10566",
                                    "productid": "18",
                                    "qty": "18"
                                },
                                {
                                    "custid": "7",
                                    "companyname": "Customer QXVLA",
                                    "orderid": "10566",
                                    "productid": "76",
                                    "qty": "10"
                                },
                                {
                                    "custid": "37",
                                    "companyname": "Customer FRXZL",
                                    "orderid": "10567",
                                    "productid": "31",
                                    "qty": "60"
                                },
                                {
                                    "custid": "37",
                                    "companyname": "Customer FRXZL",
                                    "orderid": "10567",
                                    "productid": "51",
                                    "qty": "3"
                                },
                                {
                                    "custid": "37",
                                    "companyname": "Customer FRXZL",
                                    "orderid": "10567",
                                    "productid": "59",
                                    "qty": "40"
                                },
                                {
                                    "custid": "29",
                                    "companyname": "Customer MDLWA",
                                    "orderid": "10568",
                                    "productid": "10",
                                    "qty": "5"
                                },
                                {
                                    "custid": "65",
                                    "companyname": "Customer NYUHS",
                                    "orderid": "10569",
                                    "productid": "31",
                                    "qty": "35"
                                },
                                {
                                    "custid": "65",
                                    "companyname": "Customer NYUHS",
                                    "orderid": "10569",
                                    "productid": "76",
                                    "qty": "30"
                                },
                                {
                                    "custid": "51",
                                    "companyname": "Customer PVDZC",
                                    "orderid": "10570",
                                    "productid": "11",
                                    "qty": "15"
                                },
                                {
                                    "custid": "51",
                                    "companyname": "Customer PVDZC",
                                    "orderid": "10570",
                                    "productid": "56",
                                    "qty": "60"
                                },
                                {
                                    "custid": "20",
                                    "companyname": "Customer THHDP",
                                    "orderid": "10571",
                                    "productid": "14",
                                    "qty": "11"
                                },
                                {
                                    "custid": "20",
                                    "companyname": "Customer THHDP",
                                    "orderid": "10571",
                                    "productid": "42",
                                    "qty": "28"
                                },
                                {
                                    "custid": "5",
                                    "companyname": "Customer HGVLZ",
                                    "orderid": "10572",
                                    "productid": "16",
                                    "qty": "12"
                                },
                                {
                                    "custid": "5",
                                    "companyname": "Customer HGVLZ",
                                    "orderid": "10572",
                                    "productid": "32",
                                    "qty": "10"
                                },
                                {
                                    "custid": "5",
                                    "companyname": "Customer HGVLZ",
                                    "orderid": "10572",
                                    "productid": "40",
                                    "qty": "50"
                                },
                                {
                                    "custid": "5",
                                    "companyname": "Customer HGVLZ",
                                    "orderid": "10572",
                                    "productid": "75",
                                    "qty": "15"
                                },
                                {
                                    "custid": "3",
                                    "companyname": "Customer KBUDE",
                                    "orderid": "10573",
                                    "productid": "17",
                                    "qty": "18"
                                },
                                {
                                    "custid": "3",
                                    "companyname": "Customer KBUDE",
                                    "orderid": "10573",
                                    "productid": "34",
                                    "qty": "40"
                                },
                                {
                                    "custid": "3",
                                    "companyname": "Customer KBUDE",
                                    "orderid": "10573",
                                    "productid": "53",
                                    "qty": "25"
                                },
                                {
                                    "custid": "82",
                                    "companyname": "Customer EYHKM",
                                    "orderid": "10574",
                                    "productid": "33",
                                    "qty": "14"
                                },
                                {
                                    "custid": "82",
                                    "companyname": "Customer EYHKM",
                                    "orderid": "10574",
                                    "productid": "40",
                                    "qty": "2"
                                },
                                {
                                    "custid": "82",
                                    "companyname": "Customer EYHKM",
                                    "orderid": "10574",
                                    "productid": "62",
                                    "qty": "10"
                                },
                                {
                                    "custid": "82",
                                    "companyname": "Customer EYHKM",
                                    "orderid": "10574",
                                    "productid": "64",
                                    "qty": "6"
                                },
                                {
                                    "custid": "52",
                                    "companyname": "Customer PZNLA",
                                    "orderid": "10575",
                                    "productid": "59",
                                    "qty": "12"
                                },
                                {
                                    "custid": "52",
                                    "companyname": "Customer PZNLA",
                                    "orderid": "10575",
                                    "productid": "63",
                                    "qty": "6"
                                },
                                {
                                    "custid": "52",
                                    "companyname": "Customer PZNLA",
                                    "orderid": "10575",
                                    "productid": "72",
                                    "qty": "30"
                                },
                                {
                                    "custid": "52",
                                    "companyname": "Customer PZNLA",
                                    "orderid": "10575",
                                    "productid": "76",
                                    "qty": "10"
                                },
                                {
                                    "custid": "80",
                                    "companyname": "Customer VONTK",
                                    "orderid": "10576",
                                    "productid": "1",
                                    "qty": "10"
                                },
                                {
                                    "custid": "80",
                                    "companyname": "Customer VONTK",
                                    "orderid": "10576",
                                    "productid": "31",
                                    "qty": "20"
                                },
                                {
                                    "custid": "80",
                                    "companyname": "Customer VONTK",
                                    "orderid": "10576",
                                    "productid": "44",
                                    "qty": "21"
                                },
                                {
                                    "custid": "82",
                                    "companyname": "Customer EYHKM",
                                    "orderid": "10577",
                                    "productid": "39",
                                    "qty": "10"
                                },
                                {
                                    "custid": "82",
                                    "companyname": "Customer EYHKM",
                                    "orderid": "10577",
                                    "productid": "75",
                                    "qty": "20"
                                },
                                {
                                    "custid": "82",
                                    "companyname": "Customer EYHKM",
                                    "orderid": "10577",
                                    "productid": "77",
                                    "qty": "18"
                                },
                                {
                                    "custid": "11",
                                    "companyname": "Customer UBHAU",
                                    "orderid": "10578",
                                    "productid": "35",
                                    "qty": "20"
                                },
                                {
                                    "custid": "11",
                                    "companyname": "Customer UBHAU",
                                    "orderid": "10578",
                                    "productid": "57",
                                    "qty": "6"
                                },
                                {
                                    "custid": "45",
                                    "companyname": "Customer QXPPT",
                                    "orderid": "10579",
                                    "productid": "15",
                                    "qty": "10"
                                },
                                {
                                    "custid": "45",
                                    "companyname": "Customer QXPPT",
                                    "orderid": "10579",
                                    "productid": "75",
                                    "qty": "21"
                                },
                                {
                                    "custid": "56",
                                    "companyname": "Customer QNIVZ",
                                    "orderid": "10580",
                                    "productid": "14",
                                    "qty": "15"
                                },
                                {
                                    "custid": "56",
                                    "companyname": "Customer QNIVZ",
                                    "orderid": "10580",
                                    "productid": "41",
                                    "qty": "9"
                                },
                                {
                                    "custid": "56",
                                    "companyname": "Customer QNIVZ",
                                    "orderid": "10580",
                                    "productid": "65",
                                    "qty": "30"
                                },
                                {
                                    "custid": "21",
                                    "companyname": "Customer KIDPX",
                                    "orderid": "10581",
                                    "productid": "75",
                                    "qty": "50"
                                },
                                {
                                    "custid": "6",
                                    "companyname": "Customer XHXJV",
                                    "orderid": "10582",
                                    "productid": "57",
                                    "qty": "4"
                                },
                                {
                                    "custid": "6",
                                    "companyname": "Customer XHXJV",
                                    "orderid": "10582",
                                    "productid": "76",
                                    "qty": "14"
                                },
                                {
                                    "custid": "87",
                                    "companyname": "Customer ZHYOS",
                                    "orderid": "10583",
                                    "productid": "29",
                                    "qty": "10"
                                },
                                {
                                    "custid": "87",
                                    "companyname": "Customer ZHYOS",
                                    "orderid": "10583",
                                    "productid": "60",
                                    "qty": "24"
                                },
                                {
                                    "custid": "87",
                                    "companyname": "Customer ZHYOS",
                                    "orderid": "10583",
                                    "productid": "69",
                                    "qty": "10"
                                },
                                {
                                    "custid": "7",
                                    "companyname": "Customer QXVLA",
                                    "orderid": "10584",
                                    "productid": "31",
                                    "qty": "50"
                                },
                                {
                                    "custid": "88",
                                    "companyname": "Customer SRQVM",
                                    "orderid": "10585",
                                    "productid": "47",
                                    "qty": "15"
                                },
                                {
                                    "custid": "66",
                                    "companyname": "Customer LHANT",
                                    "orderid": "10586",
                                    "productid": "52",
                                    "qty": "4"
                                },
                                {
                                    "custid": "61",
                                    "companyname": "Customer WULWD",
                                    "orderid": "10587",
                                    "productid": "26",
                                    "qty": "6"
                                },
                                {
                                    "custid": "61",
                                    "companyname": "Customer WULWD",
                                    "orderid": "10587",
                                    "productid": "35",
                                    "qty": "20"
                                },
                                {
                                    "custid": "61",
                                    "companyname": "Customer WULWD",
                                    "orderid": "10587",
                                    "productid": "77",
                                    "qty": "20"
                                },
                                {
                                    "custid": "63",
                                    "companyname": "Customer IRRVL",
                                    "orderid": "10588",
                                    "productid": "18",
                                    "qty": "40"
                                },
                                {
                                    "custid": "63",
                                    "companyname": "Customer IRRVL",
                                    "orderid": "10588",
                                    "productid": "42",
                                    "qty": "100"
                                },
                                {
                                    "custid": "32",
                                    "companyname": "Customer YSIQX",
                                    "orderid": "10589",
                                    "productid": "35",
                                    "qty": "4"
                                },
                                {
                                    "custid": "51",
                                    "companyname": "Customer PVDZC",
                                    "orderid": "10590",
                                    "productid": "1",
                                    "qty": "20"
                                },
                                {
                                    "custid": "51",
                                    "companyname": "Customer PVDZC",
                                    "orderid": "10590",
                                    "productid": "77",
                                    "qty": "60"
                                },
                                {
                                    "custid": "83",
                                    "companyname": "Customer ZRNDE",
                                    "orderid": "10591",
                                    "productid": "3",
                                    "qty": "14"
                                },
                                {
                                    "custid": "83",
                                    "companyname": "Customer ZRNDE",
                                    "orderid": "10591",
                                    "productid": "7",
                                    "qty": "10"
                                },
                                {
                                    "custid": "83",
                                    "companyname": "Customer ZRNDE",
                                    "orderid": "10591",
                                    "productid": "54",
                                    "qty": "50"
                                },
                                {
                                    "custid": "44",
                                    "companyname": "Customer OXFRU",
                                    "orderid": "10592",
                                    "productid": "15",
                                    "qty": "25"
                                },
                                {
                                    "custid": "44",
                                    "companyname": "Customer OXFRU",
                                    "orderid": "10592",
                                    "productid": "26",
                                    "qty": "5"
                                },
                                {
                                    "custid": "44",
                                    "companyname": "Customer OXFRU",
                                    "orderid": "10593",
                                    "productid": "20",
                                    "qty": "21"
                                },
                                {
                                    "custid": "44",
                                    "companyname": "Customer OXFRU",
                                    "orderid": "10593",
                                    "productid": "69",
                                    "qty": "20"
                                },
                                {
                                    "custid": "44",
                                    "companyname": "Customer OXFRU",
                                    "orderid": "10593",
                                    "productid": "76",
                                    "qty": "4"
                                },
                                {
                                    "custid": "55",
                                    "companyname": "Customer KZQZT",
                                    "orderid": "10594",
                                    "productid": "52",
                                    "qty": "24"
                                },
                                {
                                    "custid": "55",
                                    "companyname": "Customer KZQZT",
                                    "orderid": "10594",
                                    "productid": "58",
                                    "qty": "30"
                                },
                                {
                                    "custid": "20",
                                    "companyname": "Customer THHDP",
                                    "orderid": "10595",
                                    "productid": "35",
                                    "qty": "30"
                                },
                                {
                                    "custid": "20",
                                    "companyname": "Customer THHDP",
                                    "orderid": "10595",
                                    "productid": "61",
                                    "qty": "120"
                                },
                                {
                                    "custid": "20",
                                    "companyname": "Customer THHDP",
                                    "orderid": "10595",
                                    "productid": "69",
                                    "qty": "65"
                                },
                                {
                                    "custid": "89",
                                    "companyname": "Customer YBQTI",
                                    "orderid": "10596",
                                    "productid": "56",
                                    "qty": "5"
                                },
                                {
                                    "custid": "89",
                                    "companyname": "Customer YBQTI",
                                    "orderid": "10596",
                                    "productid": "63",
                                    "qty": "24"
                                },
                                {
                                    "custid": "89",
                                    "companyname": "Customer YBQTI",
                                    "orderid": "10596",
                                    "productid": "75",
                                    "qty": "30"
                                },
                                {
                                    "custid": "59",
                                    "companyname": "Customer LOLJO",
                                    "orderid": "10597",
                                    "productid": "24",
                                    "qty": "35"
                                },
                                {
                                    "custid": "59",
                                    "companyname": "Customer LOLJO",
                                    "orderid": "10597",
                                    "productid": "57",
                                    "qty": "20"
                                },
                                {
                                    "custid": "59",
                                    "companyname": "Customer LOLJO",
                                    "orderid": "10597",
                                    "productid": "65",
                                    "qty": "12"
                                },
                                {
                                    "custid": "65",
                                    "companyname": "Customer NYUHS",
                                    "orderid": "10598",
                                    "productid": "27",
                                    "qty": "50"
                                },
                                {
                                    "custid": "65",
                                    "companyname": "Customer NYUHS",
                                    "orderid": "10598",
                                    "productid": "71",
                                    "qty": "9"
                                },
                                {
                                    "custid": "11",
                                    "companyname": "Customer UBHAU",
                                    "orderid": "10599",
                                    "productid": "62",
                                    "qty": "10"
                                },
                                {
                                    "custid": "36",
                                    "companyname": "Customer LVJSO",
                                    "orderid": "10600",
                                    "productid": "54",
                                    "qty": "4"
                                },
                                {
                                    "custid": "36",
                                    "companyname": "Customer LVJSO",
                                    "orderid": "10600",
                                    "productid": "73",
                                    "qty": "30"
                                },
                                {
                                    "custid": "35",
                                    "companyname": "Customer UMTLM",
                                    "orderid": "10601",
                                    "productid": "13",
                                    "qty": "60"
                                },
                                {
                                    "custid": "35",
                                    "companyname": "Customer UMTLM",
                                    "orderid": "10601",
                                    "productid": "59",
                                    "qty": "35"
                                },
                                {
                                    "custid": "83",
                                    "companyname": "Customer ZRNDE",
                                    "orderid": "10602",
                                    "productid": "77",
                                    "qty": "5"
                                },
                                {
                                    "custid": "71",
                                    "companyname": "Customer LCOUJ",
                                    "orderid": "10603",
                                    "productid": "22",
                                    "qty": "48"
                                },
                                {
                                    "custid": "71",
                                    "companyname": "Customer LCOUJ",
                                    "orderid": "10603",
                                    "productid": "49",
                                    "qty": "25"
                                },
                                {
                                    "custid": "28",
                                    "companyname": "Customer XYUFB",
                                    "orderid": "10604",
                                    "productid": "48",
                                    "qty": "6"
                                },
                                {
                                    "custid": "28",
                                    "companyname": "Customer XYUFB",
                                    "orderid": "10604",
                                    "productid": "76",
                                    "qty": "10"
                                },
                                {
                                    "custid": "51",
                                    "companyname": "Customer PVDZC",
                                    "orderid": "10605",
                                    "productid": "16",
                                    "qty": "30"
                                },
                                {
                                    "custid": "51",
                                    "companyname": "Customer PVDZC",
                                    "orderid": "10605",
                                    "productid": "59",
                                    "qty": "20"
                                },
                                {
                                    "custid": "51",
                                    "companyname": "Customer PVDZC",
                                    "orderid": "10605",
                                    "productid": "60",
                                    "qty": "70"
                                },
                                {
                                    "custid": "51",
                                    "companyname": "Customer PVDZC",
                                    "orderid": "10605",
                                    "productid": "71",
                                    "qty": "15"
                                },
                                {
                                    "custid": "81",
                                    "companyname": "Customer YQQWW",
                                    "orderid": "10606",
                                    "productid": "4",
                                    "qty": "20"
                                },
                                {
                                    "custid": "81",
                                    "companyname": "Customer YQQWW",
                                    "orderid": "10606",
                                    "productid": "55",
                                    "qty": "20"
                                },
                                {
                                    "custid": "81",
                                    "companyname": "Customer YQQWW",
                                    "orderid": "10606",
                                    "productid": "62",
                                    "qty": "10"
                                },
                                {
                                    "custid": "71",
                                    "companyname": "Customer LCOUJ",
                                    "orderid": "10607",
                                    "productid": "7",
                                    "qty": "45"
                                },
                                {
                                    "custid": "71",
                                    "companyname": "Customer LCOUJ",
                                    "orderid": "10607",
                                    "productid": "17",
                                    "qty": "100"
                                },
                                {
                                    "custid": "71",
                                    "companyname": "Customer LCOUJ",
                                    "orderid": "10607",
                                    "productid": "33",
                                    "qty": "14"
                                },
                                {
                                    "custid": "71",
                                    "companyname": "Customer LCOUJ",
                                    "orderid": "10607",
                                    "productid": "40",
                                    "qty": "42"
                                },
                                {
                                    "custid": "71",
                                    "companyname": "Customer LCOUJ",
                                    "orderid": "10607",
                                    "productid": "72",
                                    "qty": "12"
                                },
                                {
                                    "custid": "79",
                                    "companyname": "Customer FAPSM",
                                    "orderid": "10608",
                                    "productid": "56",
                                    "qty": "28"
                                },
                                {
                                    "custid": "18",
                                    "companyname": "Customer BSVAR",
                                    "orderid": "10609",
                                    "productid": "1",
                                    "qty": "3"
                                },
                                {
                                    "custid": "18",
                                    "companyname": "Customer BSVAR",
                                    "orderid": "10609",
                                    "productid": "10",
                                    "qty": "10"
                                },
                                {
                                    "custid": "18",
                                    "companyname": "Customer BSVAR",
                                    "orderid": "10609",
                                    "productid": "21",
                                    "qty": "6"
                                },
                                {
                                    "custid": "41",
                                    "companyname": "Customer XIIWM",
                                    "orderid": "10610",
                                    "productid": "36",
                                    "qty": "21"
                                },
                                {
                                    "custid": "91",
                                    "companyname": "Customer CCFIZ",
                                    "orderid": "10611",
                                    "productid": "1",
                                    "qty": "6"
                                },
                                {
                                    "custid": "91",
                                    "companyname": "Customer CCFIZ",
                                    "orderid": "10611",
                                    "productid": "2",
                                    "qty": "10"
                                },
                                {
                                    "custid": "91",
                                    "companyname": "Customer CCFIZ",
                                    "orderid": "10611",
                                    "productid": "60",
                                    "qty": "15"
                                },
                                {
                                    "custid": "71",
                                    "companyname": "Customer LCOUJ",
                                    "orderid": "10612",
                                    "productid": "10",
                                    "qty": "70"
                                },
                                {
                                    "custid": "71",
                                    "companyname": "Customer LCOUJ",
                                    "orderid": "10612",
                                    "productid": "36",
                                    "qty": "55"
                                },
                                {
                                    "custid": "71",
                                    "companyname": "Customer LCOUJ",
                                    "orderid": "10612",
                                    "productid": "49",
                                    "qty": "18"
                                },
                                {
                                    "custid": "71",
                                    "companyname": "Customer LCOUJ",
                                    "orderid": "10612",
                                    "productid": "60",
                                    "qty": "40"
                                },
                                {
                                    "custid": "71",
                                    "companyname": "Customer LCOUJ",
                                    "orderid": "10612",
                                    "productid": "76",
                                    "qty": "80"
                                },
                                {
                                    "custid": "35",
                                    "companyname": "Customer UMTLM",
                                    "orderid": "10613",
                                    "productid": "13",
                                    "qty": "8"
                                },
                                {
                                    "custid": "35",
                                    "companyname": "Customer UMTLM",
                                    "orderid": "10613",
                                    "productid": "75",
                                    "qty": "40"
                                },
                                {
                                    "custid": "6",
                                    "companyname": "Customer XHXJV",
                                    "orderid": "10614",
                                    "productid": "11",
                                    "qty": "14"
                                },
                                {
                                    "custid": "6",
                                    "companyname": "Customer XHXJV",
                                    "orderid": "10614",
                                    "productid": "21",
                                    "qty": "8"
                                },
                                {
                                    "custid": "6",
                                    "companyname": "Customer XHXJV",
                                    "orderid": "10614",
                                    "productid": "39",
                                    "qty": "5"
                                },
                                {
                                    "custid": "90",
                                    "companyname": "Customer XBBVR",
                                    "orderid": "10615",
                                    "productid": "55",
                                    "qty": "5"
                                },
                                {
                                    "custid": "32",
                                    "companyname": "Customer YSIQX",
                                    "orderid": "10616",
                                    "productid": "38",
                                    "qty": "15"
                                },
                                {
                                    "custid": "32",
                                    "companyname": "Customer YSIQX",
                                    "orderid": "10616",
                                    "productid": "56",
                                    "qty": "14"
                                },
                                {
                                    "custid": "32",
                                    "companyname": "Customer YSIQX",
                                    "orderid": "10616",
                                    "productid": "70",
                                    "qty": "15"
                                },
                                {
                                    "custid": "32",
                                    "companyname": "Customer YSIQX",
                                    "orderid": "10616",
                                    "productid": "71",
                                    "qty": "15"
                                },
                                {
                                    "custid": "32",
                                    "companyname": "Customer YSIQX",
                                    "orderid": "10617",
                                    "productid": "59",
                                    "qty": "30"
                                },
                                {
                                    "custid": "51",
                                    "companyname": "Customer PVDZC",
                                    "orderid": "10618",
                                    "productid": "6",
                                    "qty": "70"
                                },
                                {
                                    "custid": "51",
                                    "companyname": "Customer PVDZC",
                                    "orderid": "10618",
                                    "productid": "56",
                                    "qty": "20"
                                },
                                {
                                    "custid": "51",
                                    "companyname": "Customer PVDZC",
                                    "orderid": "10618",
                                    "productid": "68",
                                    "qty": "15"
                                },
                                {
                                    "custid": "51",
                                    "companyname": "Customer PVDZC",
                                    "orderid": "10619",
                                    "productid": "21",
                                    "qty": "42"
                                },
                                {
                                    "custid": "51",
                                    "companyname": "Customer PVDZC",
                                    "orderid": "10619",
                                    "productid": "22",
                                    "qty": "40"
                                },
                                {
                                    "custid": "42",
                                    "companyname": "Customer IAIJK",
                                    "orderid": "10620",
                                    "productid": "24",
                                    "qty": "5"
                                },
                                {
                                    "custid": "42",
                                    "companyname": "Customer IAIJK",
                                    "orderid": "10620",
                                    "productid": "52",
                                    "qty": "5"
                                },
                                {
                                    "custid": "38",
                                    "companyname": "Customer LJUCA",
                                    "orderid": "10621",
                                    "productid": "19",
                                    "qty": "5"
                                },
                                {
                                    "custid": "38",
                                    "companyname": "Customer LJUCA",
                                    "orderid": "10621",
                                    "productid": "23",
                                    "qty": "10"
                                },
                                {
                                    "custid": "38",
                                    "companyname": "Customer LJUCA",
                                    "orderid": "10621",
                                    "productid": "70",
                                    "qty": "20"
                                },
                                {
                                    "custid": "38",
                                    "companyname": "Customer LJUCA",
                                    "orderid": "10621",
                                    "productid": "71",
                                    "qty": "15"
                                },
                                {
                                    "custid": "67",
                                    "companyname": "Customer QVEPD",
                                    "orderid": "10622",
                                    "productid": "2",
                                    "qty": "20"
                                },
                                {
                                    "custid": "67",
                                    "companyname": "Customer QVEPD",
                                    "orderid": "10622",
                                    "productid": "68",
                                    "qty": "18"
                                },
                                {
                                    "custid": "25",
                                    "companyname": "Customer AZJED",
                                    "orderid": "10623",
                                    "productid": "14",
                                    "qty": "21"
                                },
                                {
                                    "custid": "25",
                                    "companyname": "Customer AZJED",
                                    "orderid": "10623",
                                    "productid": "19",
                                    "qty": "15"
                                },
                                {
                                    "custid": "25",
                                    "companyname": "Customer AZJED",
                                    "orderid": "10623",
                                    "productid": "21",
                                    "qty": "25"
                                },
                                {
                                    "custid": "25",
                                    "companyname": "Customer AZJED",
                                    "orderid": "10623",
                                    "productid": "24",
                                    "qty": "3"
                                },
                                {
                                    "custid": "25",
                                    "companyname": "Customer AZJED",
                                    "orderid": "10623",
                                    "productid": "35",
                                    "qty": "30"
                                },
                                {
                                    "custid": "78",
                                    "companyname": "Customer NLTYP",
                                    "orderid": "10624",
                                    "productid": "28",
                                    "qty": "10"
                                },
                                {
                                    "custid": "78",
                                    "companyname": "Customer NLTYP",
                                    "orderid": "10624",
                                    "productid": "29",
                                    "qty": "6"
                                },
                                {
                                    "custid": "78",
                                    "companyname": "Customer NLTYP",
                                    "orderid": "10624",
                                    "productid": "44",
                                    "qty": "10"
                                },
                                {
                                    "custid": "2",
                                    "companyname": "Customer MLTDN",
                                    "orderid": "10625",
                                    "productid": "14",
                                    "qty": "3"
                                },
                                {
                                    "custid": "2",
                                    "companyname": "Customer MLTDN",
                                    "orderid": "10625",
                                    "productid": "42",
                                    "qty": "5"
                                },
                                {
                                    "custid": "2",
                                    "companyname": "Customer MLTDN",
                                    "orderid": "10625",
                                    "productid": "60",
                                    "qty": "10"
                                },
                                {
                                    "custid": "5",
                                    "companyname": "Customer HGVLZ",
                                    "orderid": "10626",
                                    "productid": "53",
                                    "qty": "12"
                                },
                                {
                                    "custid": "5",
                                    "companyname": "Customer HGVLZ",
                                    "orderid": "10626",
                                    "productid": "60",
                                    "qty": "20"
                                },
                                {
                                    "custid": "5",
                                    "companyname": "Customer HGVLZ",
                                    "orderid": "10626",
                                    "productid": "71",
                                    "qty": "20"
                                },
                                {
                                    "custid": "71",
                                    "companyname": "Customer LCOUJ",
                                    "orderid": "10627",
                                    "productid": "62",
                                    "qty": "15"
                                },
                                {
                                    "custid": "71",
                                    "companyname": "Customer LCOUJ",
                                    "orderid": "10627",
                                    "productid": "73",
                                    "qty": "35"
                                },
                                {
                                    "custid": "7",
                                    "companyname": "Customer QXVLA",
                                    "orderid": "10628",
                                    "productid": "1",
                                    "qty": "25"
                                },
                                {
                                    "custid": "30",
                                    "companyname": "Customer KSLQF",
                                    "orderid": "10629",
                                    "productid": "29",
                                    "qty": "20"
                                },
                                {
                                    "custid": "30",
                                    "companyname": "Customer KSLQF",
                                    "orderid": "10629",
                                    "productid": "64",
                                    "qty": "9"
                                },
                                {
                                    "custid": "39",
                                    "companyname": "Customer GLLAG",
                                    "orderid": "10630",
                                    "productid": "55",
                                    "qty": "12"
                                },
                                {
                                    "custid": "39",
                                    "companyname": "Customer GLLAG",
                                    "orderid": "10630",
                                    "productid": "76",
                                    "qty": "35"
                                },
                                {
                                    "custid": "41",
                                    "companyname": "Customer XIIWM",
                                    "orderid": "10631",
                                    "productid": "75",
                                    "qty": "8"
                                },
                                {
                                    "custid": "86",
                                    "companyname": "Customer SNXOJ",
                                    "orderid": "10632",
                                    "productid": "2",
                                    "qty": "30"
                                },
                                {
                                    "custid": "86",
                                    "companyname": "Customer SNXOJ",
                                    "orderid": "10632",
                                    "productid": "33",
                                    "qty": "20"
                                },
                                {
                                    "custid": "20",
                                    "companyname": "Customer THHDP",
                                    "orderid": "10633",
                                    "productid": "12",
                                    "qty": "36"
                                },
                                {
                                    "custid": "20",
                                    "companyname": "Customer THHDP",
                                    "orderid": "10633",
                                    "productid": "13",
                                    "qty": "13"
                                },
                                {
                                    "custid": "20",
                                    "companyname": "Customer THHDP",
                                    "orderid": "10633",
                                    "productid": "26",
                                    "qty": "35"
                                },
                                {
                                    "custid": "20",
                                    "companyname": "Customer THHDP",
                                    "orderid": "10633",
                                    "productid": "62",
                                    "qty": "80"
                                },
                                {
                                    "custid": "23",
                                    "companyname": "Customer WVFAF",
                                    "orderid": "10634",
                                    "productid": "7",
                                    "qty": "35"
                                },
                                {
                                    "custid": "23",
                                    "companyname": "Customer WVFAF",
                                    "orderid": "10634",
                                    "productid": "18",
                                    "qty": "50"
                                },
                                {
                                    "custid": "23",
                                    "companyname": "Customer WVFAF",
                                    "orderid": "10634",
                                    "productid": "51",
                                    "qty": "15"
                                },
                                {
                                    "custid": "23",
                                    "companyname": "Customer WVFAF",
                                    "orderid": "10634",
                                    "productid": "75",
                                    "qty": "2"
                                },
                                {
                                    "custid": "49",
                                    "companyname": "Customer CQRAA",
                                    "orderid": "10635",
                                    "productid": "4",
                                    "qty": "10"
                                },
                                {
                                    "custid": "49",
                                    "companyname": "Customer CQRAA",
                                    "orderid": "10635",
                                    "productid": "5",
                                    "qty": "15"
                                },
                                {
                                    "custid": "49",
                                    "companyname": "Customer CQRAA",
                                    "orderid": "10635",
                                    "productid": "22",
                                    "qty": "40"
                                },
                                {
                                    "custid": "87",
                                    "companyname": "Customer ZHYOS",
                                    "orderid": "10636",
                                    "productid": "4",
                                    "qty": "25"
                                },
                                {
                                    "custid": "87",
                                    "companyname": "Customer ZHYOS",
                                    "orderid": "10636",
                                    "productid": "58",
                                    "qty": "6"
                                },
                                {
                                    "custid": "62",
                                    "companyname": "Customer WFIZJ",
                                    "orderid": "10637",
                                    "productid": "11",
                                    "qty": "10"
                                },
                                {
                                    "custid": "62",
                                    "companyname": "Customer WFIZJ",
                                    "orderid": "10637",
                                    "productid": "50",
                                    "qty": "25"
                                },
                                {
                                    "custid": "62",
                                    "companyname": "Customer WFIZJ",
                                    "orderid": "10637",
                                    "productid": "56",
                                    "qty": "60"
                                },
                                {
                                    "custid": "47",
                                    "companyname": "Customer PSQUZ",
                                    "orderid": "10638",
                                    "productid": "45",
                                    "qty": "20"
                                },
                                {
                                    "custid": "47",
                                    "companyname": "Customer PSQUZ",
                                    "orderid": "10638",
                                    "productid": "65",
                                    "qty": "21"
                                },
                                {
                                    "custid": "47",
                                    "companyname": "Customer PSQUZ",
                                    "orderid": "10638",
                                    "productid": "72",
                                    "qty": "60"
                                },
                                {
                                    "custid": "70",
                                    "companyname": "Customer TMXGN",
                                    "orderid": "10639",
                                    "productid": "18",
                                    "qty": "8"
                                },
                                {
                                    "custid": "86",
                                    "companyname": "Customer SNXOJ",
                                    "orderid": "10640",
                                    "productid": "69",
                                    "qty": "20"
                                },
                                {
                                    "custid": "86",
                                    "companyname": "Customer SNXOJ",
                                    "orderid": "10640",
                                    "productid": "70",
                                    "qty": "15"
                                },
                                {
                                    "custid": "35",
                                    "companyname": "Customer UMTLM",
                                    "orderid": "10641",
                                    "productid": "2",
                                    "qty": "50"
                                },
                                {
                                    "custid": "35",
                                    "companyname": "Customer UMTLM",
                                    "orderid": "10641",
                                    "productid": "40",
                                    "qty": "60"
                                },
                                {
                                    "custid": "73",
                                    "companyname": "Customer JMIKW",
                                    "orderid": "10642",
                                    "productid": "21",
                                    "qty": "30"
                                },
                                {
                                    "custid": "73",
                                    "companyname": "Customer JMIKW",
                                    "orderid": "10642",
                                    "productid": "61",
                                    "qty": "20"
                                },
                                {
                                    "custid": "1",
                                    "companyname": "Customer NRZBB",
                                    "orderid": "10643",
                                    "productid": "28",
                                    "qty": "15"
                                },
                                {
                                    "custid": "1",
                                    "companyname": "Customer NRZBB",
                                    "orderid": "10643",
                                    "productid": "39",
                                    "qty": "21"
                                },
                                {
                                    "custid": "1",
                                    "companyname": "Customer NRZBB",
                                    "orderid": "10643",
                                    "productid": "46",
                                    "qty": "2"
                                },
                                {
                                    "custid": "88",
                                    "companyname": "Customer SRQVM",
                                    "orderid": "10644",
                                    "productid": "18",
                                    "qty": "4"
                                },
                                {
                                    "custid": "88",
                                    "companyname": "Customer SRQVM",
                                    "orderid": "10644",
                                    "productid": "43",
                                    "qty": "20"
                                },
                                {
                                    "custid": "88",
                                    "companyname": "Customer SRQVM",
                                    "orderid": "10644",
                                    "productid": "46",
                                    "qty": "21"
                                },
                                {
                                    "custid": "34",
                                    "companyname": "Customer IBVRG",
                                    "orderid": "10645",
                                    "productid": "18",
                                    "qty": "20"
                                },
                                {
                                    "custid": "34",
                                    "companyname": "Customer IBVRG",
                                    "orderid": "10645",
                                    "productid": "36",
                                    "qty": "15"
                                },
                                {
                                    "custid": "37",
                                    "companyname": "Customer FRXZL",
                                    "orderid": "10646",
                                    "productid": "1",
                                    "qty": "15"
                                },
                                {
                                    "custid": "37",
                                    "companyname": "Customer FRXZL",
                                    "orderid": "10646",
                                    "productid": "10",
                                    "qty": "18"
                                },
                                {
                                    "custid": "37",
                                    "companyname": "Customer FRXZL",
                                    "orderid": "10646",
                                    "productid": "71",
                                    "qty": "30"
                                },
                                {
                                    "custid": "37",
                                    "companyname": "Customer FRXZL",
                                    "orderid": "10646",
                                    "productid": "77",
                                    "qty": "35"
                                },
                                {
                                    "custid": "61",
                                    "companyname": "Customer WULWD",
                                    "orderid": "10647",
                                    "productid": "19",
                                    "qty": "30"
                                },
                                {
                                    "custid": "61",
                                    "companyname": "Customer WULWD",
                                    "orderid": "10647",
                                    "productid": "39",
                                    "qty": "20"
                                },
                                {
                                    "custid": "67",
                                    "companyname": "Customer QVEPD",
                                    "orderid": "10648",
                                    "productid": "22",
                                    "qty": "15"
                                },
                                {
                                    "custid": "67",
                                    "companyname": "Customer QVEPD",
                                    "orderid": "10648",
                                    "productid": "24",
                                    "qty": "15"
                                },
                                {
                                    "custid": "50",
                                    "companyname": "Customer JYPSC",
                                    "orderid": "10649",
                                    "productid": "28",
                                    "qty": "20"
                                },
                                {
                                    "custid": "50",
                                    "companyname": "Customer JYPSC",
                                    "orderid": "10649",
                                    "productid": "72",
                                    "qty": "15"
                                },
                                {
                                    "custid": "21",
                                    "companyname": "Customer KIDPX",
                                    "orderid": "10650",
                                    "productid": "30",
                                    "qty": "30"
                                },
                                {
                                    "custid": "21",
                                    "companyname": "Customer KIDPX",
                                    "orderid": "10650",
                                    "productid": "53",
                                    "qty": "25"
                                },
                                {
                                    "custid": "21",
                                    "companyname": "Customer KIDPX",
                                    "orderid": "10650",
                                    "productid": "54",
                                    "qty": "30"
                                },
                                {
                                    "custid": "86",
                                    "companyname": "Customer SNXOJ",
                                    "orderid": "10651",
                                    "productid": "19",
                                    "qty": "12"
                                },
                                {
                                    "custid": "86",
                                    "companyname": "Customer SNXOJ",
                                    "orderid": "10651",
                                    "productid": "22",
                                    "qty": "20"
                                },
                                {
                                    "custid": "31",
                                    "companyname": "Customer YJCBX",
                                    "orderid": "10652",
                                    "productid": "30",
                                    "qty": "2"
                                },
                                {
                                    "custid": "31",
                                    "companyname": "Customer YJCBX",
                                    "orderid": "10652",
                                    "productid": "42",
                                    "qty": "20"
                                },
                                {
                                    "custid": "25",
                                    "companyname": "Customer AZJED",
                                    "orderid": "10653",
                                    "productid": "16",
                                    "qty": "30"
                                },
                                {
                                    "custid": "25",
                                    "companyname": "Customer AZJED",
                                    "orderid": "10653",
                                    "productid": "60",
                                    "qty": "20"
                                },
                                {
                                    "custid": "5",
                                    "companyname": "Customer HGVLZ",
                                    "orderid": "10654",
                                    "productid": "4",
                                    "qty": "12"
                                },
                                {
                                    "custid": "5",
                                    "companyname": "Customer HGVLZ",
                                    "orderid": "10654",
                                    "productid": "39",
                                    "qty": "20"
                                },
                                {
                                    "custid": "5",
                                    "companyname": "Customer HGVLZ",
                                    "orderid": "10654",
                                    "productid": "54",
                                    "qty": "6"
                                },
                                {
                                    "custid": "66",
                                    "companyname": "Customer LHANT",
                                    "orderid": "10655",
                                    "productid": "41",
                                    "qty": "20"
                                },
                                {
                                    "custid": "32",
                                    "companyname": "Customer YSIQX",
                                    "orderid": "10656",
                                    "productid": "14",
                                    "qty": "3"
                                },
                                {
                                    "custid": "32",
                                    "companyname": "Customer YSIQX",
                                    "orderid": "10656",
                                    "productid": "44",
                                    "qty": "28"
                                },
                                {
                                    "custid": "32",
                                    "companyname": "Customer YSIQX",
                                    "orderid": "10656",
                                    "productid": "47",
                                    "qty": "6"
                                },
                                {
                                    "custid": "71",
                                    "companyname": "Customer LCOUJ",
                                    "orderid": "10657",
                                    "productid": "15",
                                    "qty": "50"
                                },
                                {
                                    "custid": "71",
                                    "companyname": "Customer LCOUJ",
                                    "orderid": "10657",
                                    "productid": "41",
                                    "qty": "24"
                                },
                                {
                                    "custid": "71",
                                    "companyname": "Customer LCOUJ",
                                    "orderid": "10657",
                                    "productid": "46",
                                    "qty": "45"
                                },
                                {
                                    "custid": "71",
                                    "companyname": "Customer LCOUJ",
                                    "orderid": "10657",
                                    "productid": "47",
                                    "qty": "10"
                                },
                                {
                                    "custid": "71",
                                    "companyname": "Customer LCOUJ",
                                    "orderid": "10657",
                                    "productid": "56",
                                    "qty": "45"
                                },
                                {
                                    "custid": "71",
                                    "companyname": "Customer LCOUJ",
                                    "orderid": "10657",
                                    "productid": "60",
                                    "qty": "30"
                                },
                                {
                                    "custid": "63",
                                    "companyname": "Customer IRRVL",
                                    "orderid": "10658",
                                    "productid": "21",
                                    "qty": "60"
                                },
                                {
                                    "custid": "63",
                                    "companyname": "Customer IRRVL",
                                    "orderid": "10658",
                                    "productid": "40",
                                    "qty": "70"
                                },
                                {
                                    "custid": "63",
                                    "companyname": "Customer IRRVL",
                                    "orderid": "10658",
                                    "productid": "60",
                                    "qty": "55"
                                },
                                {
                                    "custid": "63",
                                    "companyname": "Customer IRRVL",
                                    "orderid": "10658",
                                    "productid": "77",
                                    "qty": "70"
                                },
                                {
                                    "custid": "62",
                                    "companyname": "Customer WFIZJ",
                                    "orderid": "10659",
                                    "productid": "31",
                                    "qty": "20"
                                },
                                {
                                    "custid": "62",
                                    "companyname": "Customer WFIZJ",
                                    "orderid": "10659",
                                    "productid": "40",
                                    "qty": "24"
                                },
                                {
                                    "custid": "62",
                                    "companyname": "Customer WFIZJ",
                                    "orderid": "10659",
                                    "productid": "70",
                                    "qty": "40"
                                },
                                {
                                    "custid": "36",
                                    "companyname": "Customer LVJSO",
                                    "orderid": "10660",
                                    "productid": "20",
                                    "qty": "21"
                                },
                                {
                                    "custid": "37",
                                    "companyname": "Customer FRXZL",
                                    "orderid": "10661",
                                    "productid": "39",
                                    "qty": "3"
                                },
                                {
                                    "custid": "37",
                                    "companyname": "Customer FRXZL",
                                    "orderid": "10661",
                                    "productid": "58",
                                    "qty": "49"
                                },
                                {
                                    "custid": "48",
                                    "companyname": "Customer DVFMB",
                                    "orderid": "10662",
                                    "productid": "68",
                                    "qty": "10"
                                },
                                {
                                    "custid": "9",
                                    "companyname": "Customer RTXGC",
                                    "orderid": "10663",
                                    "productid": "40",
                                    "qty": "30"
                                },
                                {
                                    "custid": "9",
                                    "companyname": "Customer RTXGC",
                                    "orderid": "10663",
                                    "productid": "42",
                                    "qty": "30"
                                },
                                {
                                    "custid": "9",
                                    "companyname": "Customer RTXGC",
                                    "orderid": "10663",
                                    "productid": "51",
                                    "qty": "20"
                                },
                                {
                                    "custid": "28",
                                    "companyname": "Customer XYUFB",
                                    "orderid": "10664",
                                    "productid": "10",
                                    "qty": "24"
                                },
                                {
                                    "custid": "28",
                                    "companyname": "Customer XYUFB",
                                    "orderid": "10664",
                                    "productid": "56",
                                    "qty": "12"
                                },
                                {
                                    "custid": "28",
                                    "companyname": "Customer XYUFB",
                                    "orderid": "10664",
                                    "productid": "65",
                                    "qty": "15"
                                },
                                {
                                    "custid": "48",
                                    "companyname": "Customer DVFMB",
                                    "orderid": "10665",
                                    "productid": "51",
                                    "qty": "20"
                                },
                                {
                                    "custid": "48",
                                    "companyname": "Customer DVFMB",
                                    "orderid": "10665",
                                    "productid": "59",
                                    "qty": "1"
                                },
                                {
                                    "custid": "48",
                                    "companyname": "Customer DVFMB",
                                    "orderid": "10665",
                                    "productid": "76",
                                    "qty": "10"
                                },
                                {
                                    "custid": "68",
                                    "companyname": "Customer CCKOT",
                                    "orderid": "10666",
                                    "productid": "29",
                                    "qty": "36"
                                },
                                {
                                    "custid": "68",
                                    "companyname": "Customer CCKOT",
                                    "orderid": "10666",
                                    "productid": "65",
                                    "qty": "10"
                                },
                                {
                                    "custid": "20",
                                    "companyname": "Customer THHDP",
                                    "orderid": "10667",
                                    "productid": "69",
                                    "qty": "45"
                                },
                                {
                                    "custid": "20",
                                    "companyname": "Customer THHDP",
                                    "orderid": "10667",
                                    "productid": "71",
                                    "qty": "14"
                                },
                                {
                                    "custid": "86",
                                    "companyname": "Customer SNXOJ",
                                    "orderid": "10668",
                                    "productid": "31",
                                    "qty": "8"
                                },
                                {
                                    "custid": "86",
                                    "companyname": "Customer SNXOJ",
                                    "orderid": "10668",
                                    "productid": "55",
                                    "qty": "4"
                                },
                                {
                                    "custid": "86",
                                    "companyname": "Customer SNXOJ",
                                    "orderid": "10668",
                                    "productid": "64",
                                    "qty": "15"
                                },
                                {
                                    "custid": "73",
                                    "companyname": "Customer JMIKW",
                                    "orderid": "10669",
                                    "productid": "36",
                                    "qty": "30"
                                },
                                {
                                    "custid": "25",
                                    "companyname": "Customer AZJED",
                                    "orderid": "10670",
                                    "productid": "23",
                                    "qty": "32"
                                },
                                {
                                    "custid": "25",
                                    "companyname": "Customer AZJED",
                                    "orderid": "10670",
                                    "productid": "46",
                                    "qty": "60"
                                },
                                {
                                    "custid": "25",
                                    "companyname": "Customer AZJED",
                                    "orderid": "10670",
                                    "productid": "67",
                                    "qty": "25"
                                },
                                {
                                    "custid": "25",
                                    "companyname": "Customer AZJED",
                                    "orderid": "10670",
                                    "productid": "73",
                                    "qty": "50"
                                },
                                {
                                    "custid": "25",
                                    "companyname": "Customer AZJED",
                                    "orderid": "10670",
                                    "productid": "75",
                                    "qty": "25"
                                },
                                {
                                    "custid": "26",
                                    "companyname": "Customer USDBG",
                                    "orderid": "10671",
                                    "productid": "16",
                                    "qty": "10"
                                },
                                {
                                    "custid": "26",
                                    "companyname": "Customer USDBG",
                                    "orderid": "10671",
                                    "productid": "62",
                                    "qty": "10"
                                },
                                {
                                    "custid": "26",
                                    "companyname": "Customer USDBG",
                                    "orderid": "10671",
                                    "productid": "65",
                                    "qty": "12"
                                },
                                {
                                    "custid": "5",
                                    "companyname": "Customer HGVLZ",
                                    "orderid": "10672",
                                    "productid": "38",
                                    "qty": "15"
                                },
                                {
                                    "custid": "5",
                                    "companyname": "Customer HGVLZ",
                                    "orderid": "10672",
                                    "productid": "71",
                                    "qty": "12"
                                },
                                {
                                    "custid": "90",
                                    "companyname": "Customer XBBVR",
                                    "orderid": "10673",
                                    "productid": "16",
                                    "qty": "3"
                                },
                                {
                                    "custid": "90",
                                    "companyname": "Customer XBBVR",
                                    "orderid": "10673",
                                    "productid": "42",
                                    "qty": "6"
                                },
                                {
                                    "custid": "90",
                                    "companyname": "Customer XBBVR",
                                    "orderid": "10673",
                                    "productid": "43",
                                    "qty": "6"
                                },
                                {
                                    "custid": "38",
                                    "companyname": "Customer LJUCA",
                                    "orderid": "10674",
                                    "productid": "23",
                                    "qty": "5"
                                },
                                {
                                    "custid": "25",
                                    "companyname": "Customer AZJED",
                                    "orderid": "10675",
                                    "productid": "14",
                                    "qty": "30"
                                },
                                {
                                    "custid": "25",
                                    "companyname": "Customer AZJED",
                                    "orderid": "10675",
                                    "productid": "53",
                                    "qty": "10"
                                },
                                {
                                    "custid": "25",
                                    "companyname": "Customer AZJED",
                                    "orderid": "10675",
                                    "productid": "58",
                                    "qty": "30"
                                },
                                {
                                    "custid": "80",
                                    "companyname": "Customer VONTK",
                                    "orderid": "10676",
                                    "productid": "10",
                                    "qty": "2"
                                },
                                {
                                    "custid": "80",
                                    "companyname": "Customer VONTK",
                                    "orderid": "10676",
                                    "productid": "19",
                                    "qty": "7"
                                },
                                {
                                    "custid": "80",
                                    "companyname": "Customer VONTK",
                                    "orderid": "10676",
                                    "productid": "44",
                                    "qty": "21"
                                },
                                {
                                    "custid": "3",
                                    "companyname": "Customer KBUDE",
                                    "orderid": "10677",
                                    "productid": "26",
                                    "qty": "30"
                                },
                                {
                                    "custid": "3",
                                    "companyname": "Customer KBUDE",
                                    "orderid": "10677",
                                    "productid": "33",
                                    "qty": "8"
                                },
                                {
                                    "custid": "71",
                                    "companyname": "Customer LCOUJ",
                                    "orderid": "10678",
                                    "productid": "12",
                                    "qty": "100"
                                },
                                {
                                    "custid": "71",
                                    "companyname": "Customer LCOUJ",
                                    "orderid": "10678",
                                    "productid": "33",
                                    "qty": "30"
                                },
                                {
                                    "custid": "71",
                                    "companyname": "Customer LCOUJ",
                                    "orderid": "10678",
                                    "productid": "41",
                                    "qty": "120"
                                },
                                {
                                    "custid": "71",
                                    "companyname": "Customer LCOUJ",
                                    "orderid": "10678",
                                    "productid": "54",
                                    "qty": "30"
                                },
                                {
                                    "custid": "7",
                                    "companyname": "Customer QXVLA",
                                    "orderid": "10679",
                                    "productid": "59",
                                    "qty": "12"
                                },
                                {
                                    "custid": "55",
                                    "companyname": "Customer KZQZT",
                                    "orderid": "10680",
                                    "productid": "16",
                                    "qty": "50"
                                },
                                {
                                    "custid": "55",
                                    "companyname": "Customer KZQZT",
                                    "orderid": "10680",
                                    "productid": "31",
                                    "qty": "20"
                                },
                                {
                                    "custid": "55",
                                    "companyname": "Customer KZQZT",
                                    "orderid": "10680",
                                    "productid": "42",
                                    "qty": "40"
                                },
                                {
                                    "custid": "32",
                                    "companyname": "Customer YSIQX",
                                    "orderid": "10681",
                                    "productid": "19",
                                    "qty": "30"
                                },
                                {
                                    "custid": "32",
                                    "companyname": "Customer YSIQX",
                                    "orderid": "10681",
                                    "productid": "21",
                                    "qty": "12"
                                },
                                {
                                    "custid": "32",
                                    "companyname": "Customer YSIQX",
                                    "orderid": "10681",
                                    "productid": "64",
                                    "qty": "28"
                                },
                                {
                                    "custid": "3",
                                    "companyname": "Customer KBUDE",
                                    "orderid": "10682",
                                    "productid": "33",
                                    "qty": "30"
                                },
                                {
                                    "custid": "3",
                                    "companyname": "Customer KBUDE",
                                    "orderid": "10682",
                                    "productid": "66",
                                    "qty": "4"
                                },
                                {
                                    "custid": "3",
                                    "companyname": "Customer KBUDE",
                                    "orderid": "10682",
                                    "productid": "75",
                                    "qty": "30"
                                },
                                {
                                    "custid": "18",
                                    "companyname": "Customer BSVAR",
                                    "orderid": "10683",
                                    "productid": "52",
                                    "qty": "9"
                                },
                                {
                                    "custid": "56",
                                    "companyname": "Customer QNIVZ",
                                    "orderid": "10684",
                                    "productid": "40",
                                    "qty": "20"
                                },
                                {
                                    "custid": "56",
                                    "companyname": "Customer QNIVZ",
                                    "orderid": "10684",
                                    "productid": "47",
                                    "qty": "40"
                                },
                                {
                                    "custid": "56",
                                    "companyname": "Customer QNIVZ",
                                    "orderid": "10684",
                                    "productid": "60",
                                    "qty": "30"
                                },
                                {
                                    "custid": "31",
                                    "companyname": "Customer YJCBX",
                                    "orderid": "10685",
                                    "productid": "10",
                                    "qty": "20"
                                },
                                {
                                    "custid": "31",
                                    "companyname": "Customer YJCBX",
                                    "orderid": "10685",
                                    "productid": "41",
                                    "qty": "4"
                                },
                                {
                                    "custid": "31",
                                    "companyname": "Customer YJCBX",
                                    "orderid": "10685",
                                    "productid": "47",
                                    "qty": "15"
                                },
                                {
                                    "custid": "59",
                                    "companyname": "Customer LOLJO",
                                    "orderid": "10686",
                                    "productid": "17",
                                    "qty": "30"
                                },
                                {
                                    "custid": "59",
                                    "companyname": "Customer LOLJO",
                                    "orderid": "10686",
                                    "productid": "26",
                                    "qty": "15"
                                },
                                {
                                    "custid": "37",
                                    "companyname": "Customer FRXZL",
                                    "orderid": "10687",
                                    "productid": "9",
                                    "qty": "50"
                                },
                                {
                                    "custid": "37",
                                    "companyname": "Customer FRXZL",
                                    "orderid": "10687",
                                    "productid": "29",
                                    "qty": "10"
                                },
                                {
                                    "custid": "37",
                                    "companyname": "Customer FRXZL",
                                    "orderid": "10687",
                                    "productid": "36",
                                    "qty": "6"
                                },
                                {
                                    "custid": "83",
                                    "companyname": "Customer ZRNDE",
                                    "orderid": "10688",
                                    "productid": "10",
                                    "qty": "18"
                                },
                                {
                                    "custid": "83",
                                    "companyname": "Customer ZRNDE",
                                    "orderid": "10688",
                                    "productid": "28",
                                    "qty": "60"
                                },
                                {
                                    "custid": "83",
                                    "companyname": "Customer ZRNDE",
                                    "orderid": "10688",
                                    "productid": "34",
                                    "qty": "14"
                                },
                                {
                                    "custid": "5",
                                    "companyname": "Customer HGVLZ",
                                    "orderid": "10689",
                                    "productid": "1",
                                    "qty": "35"
                                },
                                {
                                    "custid": "34",
                                    "companyname": "Customer IBVRG",
                                    "orderid": "10690",
                                    "productid": "56",
                                    "qty": "20"
                                },
                                {
                                    "custid": "34",
                                    "companyname": "Customer IBVRG",
                                    "orderid": "10690",
                                    "productid": "77",
                                    "qty": "30"
                                },
                                {
                                    "custid": "63",
                                    "companyname": "Customer IRRVL",
                                    "orderid": "10691",
                                    "productid": "1",
                                    "qty": "30"
                                },
                                {
                                    "custid": "63",
                                    "companyname": "Customer IRRVL",
                                    "orderid": "10691",
                                    "productid": "29",
                                    "qty": "40"
                                },
                                {
                                    "custid": "63",
                                    "companyname": "Customer IRRVL",
                                    "orderid": "10691",
                                    "productid": "43",
                                    "qty": "40"
                                },
                                {
                                    "custid": "63",
                                    "companyname": "Customer IRRVL",
                                    "orderid": "10691",
                                    "productid": "44",
                                    "qty": "24"
                                },
                                {
                                    "custid": "63",
                                    "companyname": "Customer IRRVL",
                                    "orderid": "10691",
                                    "productid": "62",
                                    "qty": "48"
                                },
                                {
                                    "custid": "1",
                                    "companyname": "Customer NRZBB",
                                    "orderid": "10692",
                                    "productid": "63",
                                    "qty": "20"
                                },
                                {
                                    "custid": "89",
                                    "companyname": "Customer YBQTI",
                                    "orderid": "10693",
                                    "productid": "9",
                                    "qty": "6"
                                },
                                {
                                    "custid": "89",
                                    "companyname": "Customer YBQTI",
                                    "orderid": "10693",
                                    "productid": "54",
                                    "qty": "60"
                                },
                                {
                                    "custid": "89",
                                    "companyname": "Customer YBQTI",
                                    "orderid": "10693",
                                    "productid": "69",
                                    "qty": "30"
                                },
                                {
                                    "custid": "89",
                                    "companyname": "Customer YBQTI",
                                    "orderid": "10693",
                                    "productid": "73",
                                    "qty": "15"
                                },
                                {
                                    "custid": "63",
                                    "companyname": "Customer IRRVL",
                                    "orderid": "10694",
                                    "productid": "7",
                                    "qty": "90"
                                },
                                {
                                    "custid": "63",
                                    "companyname": "Customer IRRVL",
                                    "orderid": "10694",
                                    "productid": "59",
                                    "qty": "25"
                                },
                                {
                                    "custid": "63",
                                    "companyname": "Customer IRRVL",
                                    "orderid": "10694",
                                    "productid": "70",
                                    "qty": "50"
                                },
                                {
                                    "custid": "90",
                                    "companyname": "Customer XBBVR",
                                    "orderid": "10695",
                                    "productid": "8",
                                    "qty": "10"
                                },
                                {
                                    "custid": "90",
                                    "companyname": "Customer XBBVR",
                                    "orderid": "10695",
                                    "productid": "12",
                                    "qty": "4"
                                },
                                {
                                    "custid": "90",
                                    "companyname": "Customer XBBVR",
                                    "orderid": "10695",
                                    "productid": "24",
                                    "qty": "20"
                                },
                                {
                                    "custid": "89",
                                    "companyname": "Customer YBQTI",
                                    "orderid": "10696",
                                    "productid": "17",
                                    "qty": "20"
                                },
                                {
                                    "custid": "89",
                                    "companyname": "Customer YBQTI",
                                    "orderid": "10696",
                                    "productid": "46",
                                    "qty": "18"
                                },
                                {
                                    "custid": "47",
                                    "companyname": "Customer PSQUZ",
                                    "orderid": "10697",
                                    "productid": "19",
                                    "qty": "7"
                                },
                                {
                                    "custid": "47",
                                    "companyname": "Customer PSQUZ",
                                    "orderid": "10697",
                                    "productid": "35",
                                    "qty": "9"
                                },
                                {
                                    "custid": "47",
                                    "companyname": "Customer PSQUZ",
                                    "orderid": "10697",
                                    "productid": "58",
                                    "qty": "30"
                                },
                                {
                                    "custid": "47",
                                    "companyname": "Customer PSQUZ",
                                    "orderid": "10697",
                                    "productid": "70",
                                    "qty": "30"
                                },
                                {
                                    "custid": "20",
                                    "companyname": "Customer THHDP",
                                    "orderid": "10698",
                                    "productid": "11",
                                    "qty": "15"
                                },
                                {
                                    "custid": "20",
                                    "companyname": "Customer THHDP",
                                    "orderid": "10698",
                                    "productid": "17",
                                    "qty": "8"
                                },
                                {
                                    "custid": "20",
                                    "companyname": "Customer THHDP",
                                    "orderid": "10698",
                                    "productid": "29",
                                    "qty": "12"
                                },
                                {
                                    "custid": "20",
                                    "companyname": "Customer THHDP",
                                    "orderid": "10698",
                                    "productid": "65",
                                    "qty": "65"
                                },
                                {
                                    "custid": "20",
                                    "companyname": "Customer THHDP",
                                    "orderid": "10698",
                                    "productid": "70",
                                    "qty": "8"
                                },
                                {
                                    "custid": "52",
                                    "companyname": "Customer PZNLA",
                                    "orderid": "10699",
                                    "productid": "47",
                                    "qty": "12"
                                },
                                {
                                    "custid": "71",
                                    "companyname": "Customer LCOUJ",
                                    "orderid": "10700",
                                    "productid": "1",
                                    "qty": "5"
                                },
                                {
                                    "custid": "71",
                                    "companyname": "Customer LCOUJ",
                                    "orderid": "10700",
                                    "productid": "34",
                                    "qty": "12"
                                },
                                {
                                    "custid": "71",
                                    "companyname": "Customer LCOUJ",
                                    "orderid": "10700",
                                    "productid": "68",
                                    "qty": "40"
                                },
                                {
                                    "custid": "71",
                                    "companyname": "Customer LCOUJ",
                                    "orderid": "10700",
                                    "productid": "71",
                                    "qty": "60"
                                },
                                {
                                    "custid": "37",
                                    "companyname": "Customer FRXZL",
                                    "orderid": "10701",
                                    "productid": "59",
                                    "qty": "42"
                                },
                                {
                                    "custid": "37",
                                    "companyname": "Customer FRXZL",
                                    "orderid": "10701",
                                    "productid": "71",
                                    "qty": "20"
                                },
                                {
                                    "custid": "37",
                                    "companyname": "Customer FRXZL",
                                    "orderid": "10701",
                                    "productid": "76",
                                    "qty": "35"
                                },
                                {
                                    "custid": "1",
                                    "companyname": "Customer NRZBB",
                                    "orderid": "10702",
                                    "productid": "3",
                                    "qty": "6"
                                },
                                {
                                    "custid": "1",
                                    "companyname": "Customer NRZBB",
                                    "orderid": "10702",
                                    "productid": "76",
                                    "qty": "15"
                                },
                                {
                                    "custid": "24",
                                    "companyname": "Customer CYZTN",
                                    "orderid": "10703",
                                    "productid": "2",
                                    "qty": "5"
                                },
                                {
                                    "custid": "24",
                                    "companyname": "Customer CYZTN",
                                    "orderid": "10703",
                                    "productid": "59",
                                    "qty": "35"
                                },
                                {
                                    "custid": "24",
                                    "companyname": "Customer CYZTN",
                                    "orderid": "10703",
                                    "productid": "73",
                                    "qty": "35"
                                },
                                {
                                    "custid": "62",
                                    "companyname": "Customer WFIZJ",
                                    "orderid": "10704",
                                    "productid": "4",
                                    "qty": "6"
                                },
                                {
                                    "custid": "62",
                                    "companyname": "Customer WFIZJ",
                                    "orderid": "10704",
                                    "productid": "24",
                                    "qty": "35"
                                },
                                {
                                    "custid": "62",
                                    "companyname": "Customer WFIZJ",
                                    "orderid": "10704",
                                    "productid": "48",
                                    "qty": "24"
                                },
                                {
                                    "custid": "35",
                                    "companyname": "Customer UMTLM",
                                    "orderid": "10705",
                                    "productid": "31",
                                    "qty": "20"
                                },
                                {
                                    "custid": "35",
                                    "companyname": "Customer UMTLM",
                                    "orderid": "10705",
                                    "productid": "32",
                                    "qty": "4"
                                },
                                {
                                    "custid": "55",
                                    "companyname": "Customer KZQZT",
                                    "orderid": "10706",
                                    "productid": "16",
                                    "qty": "20"
                                },
                                {
                                    "custid": "55",
                                    "companyname": "Customer KZQZT",
                                    "orderid": "10706",
                                    "productid": "43",
                                    "qty": "24"
                                },
                                {
                                    "custid": "55",
                                    "companyname": "Customer KZQZT",
                                    "orderid": "10706",
                                    "productid": "59",
                                    "qty": "8"
                                },
                                {
                                    "custid": "4",
                                    "companyname": "Customer HFBZG",
                                    "orderid": "10707",
                                    "productid": "55",
                                    "qty": "21"
                                },
                                {
                                    "custid": "4",
                                    "companyname": "Customer HFBZG",
                                    "orderid": "10707",
                                    "productid": "57",
                                    "qty": "40"
                                },
                                {
                                    "custid": "4",
                                    "companyname": "Customer HFBZG",
                                    "orderid": "10707",
                                    "productid": "70",
                                    "qty": "28"
                                },
                                {
                                    "custid": "77",
                                    "companyname": "Customer LCYBZ",
                                    "orderid": "10708",
                                    "productid": "5",
                                    "qty": "4"
                                },
                                {
                                    "custid": "77",
                                    "companyname": "Customer LCYBZ",
                                    "orderid": "10708",
                                    "productid": "36",
                                    "qty": "5"
                                },
                                {
                                    "custid": "31",
                                    "companyname": "Customer YJCBX",
                                    "orderid": "10709",
                                    "productid": "8",
                                    "qty": "40"
                                },
                                {
                                    "custid": "31",
                                    "companyname": "Customer YJCBX",
                                    "orderid": "10709",
                                    "productid": "51",
                                    "qty": "28"
                                },
                                {
                                    "custid": "31",
                                    "companyname": "Customer YJCBX",
                                    "orderid": "10709",
                                    "productid": "60",
                                    "qty": "10"
                                },
                                {
                                    "custid": "27",
                                    "companyname": "Customer WMFEA",
                                    "orderid": "10710",
                                    "productid": "19",
                                    "qty": "5"
                                },
                                {
                                    "custid": "27",
                                    "companyname": "Customer WMFEA",
                                    "orderid": "10710",
                                    "productid": "47",
                                    "qty": "5"
                                },
                                {
                                    "custid": "71",
                                    "companyname": "Customer LCOUJ",
                                    "orderid": "10711",
                                    "productid": "19",
                                    "qty": "12"
                                },
                                {
                                    "custid": "71",
                                    "companyname": "Customer LCOUJ",
                                    "orderid": "10711",
                                    "productid": "41",
                                    "qty": "42"
                                },
                                {
                                    "custid": "71",
                                    "companyname": "Customer LCOUJ",
                                    "orderid": "10711",
                                    "productid": "53",
                                    "qty": "120"
                                },
                                {
                                    "custid": "37",
                                    "companyname": "Customer FRXZL",
                                    "orderid": "10712",
                                    "productid": "53",
                                    "qty": "3"
                                },
                                {
                                    "custid": "37",
                                    "companyname": "Customer FRXZL",
                                    "orderid": "10712",
                                    "productid": "56",
                                    "qty": "30"
                                },
                                {
                                    "custid": "71",
                                    "companyname": "Customer LCOUJ",
                                    "orderid": "10713",
                                    "productid": "10",
                                    "qty": "18"
                                },
                                {
                                    "custid": "71",
                                    "companyname": "Customer LCOUJ",
                                    "orderid": "10713",
                                    "productid": "26",
                                    "qty": "30"
                                },
                                {
                                    "custid": "71",
                                    "companyname": "Customer LCOUJ",
                                    "orderid": "10713",
                                    "productid": "45",
                                    "qty": "110"
                                },
                                {
                                    "custid": "71",
                                    "companyname": "Customer LCOUJ",
                                    "orderid": "10713",
                                    "productid": "46",
                                    "qty": "24"
                                },
                                {
                                    "custid": "71",
                                    "companyname": "Customer LCOUJ",
                                    "orderid": "10714",
                                    "productid": "2",
                                    "qty": "30"
                                },
                                {
                                    "custid": "71",
                                    "companyname": "Customer LCOUJ",
                                    "orderid": "10714",
                                    "productid": "17",
                                    "qty": "27"
                                },
                                {
                                    "custid": "71",
                                    "companyname": "Customer LCOUJ",
                                    "orderid": "10714",
                                    "productid": "47",
                                    "qty": "50"
                                },
                                {
                                    "custid": "71",
                                    "companyname": "Customer LCOUJ",
                                    "orderid": "10714",
                                    "productid": "56",
                                    "qty": "18"
                                },
                                {
                                    "custid": "71",
                                    "companyname": "Customer LCOUJ",
                                    "orderid": "10714",
                                    "productid": "58",
                                    "qty": "12"
                                },
                                {
                                    "custid": "9",
                                    "companyname": "Customer RTXGC",
                                    "orderid": "10715",
                                    "productid": "10",
                                    "qty": "21"
                                },
                                {
                                    "custid": "9",
                                    "companyname": "Customer RTXGC",
                                    "orderid": "10715",
                                    "productid": "71",
                                    "qty": "30"
                                },
                                {
                                    "custid": "64",
                                    "companyname": "Customer LWGMD",
                                    "orderid": "10716",
                                    "productid": "21",
                                    "qty": "5"
                                },
                                {
                                    "custid": "64",
                                    "companyname": "Customer LWGMD",
                                    "orderid": "10716",
                                    "productid": "51",
                                    "qty": "7"
                                },
                                {
                                    "custid": "64",
                                    "companyname": "Customer LWGMD",
                                    "orderid": "10716",
                                    "productid": "61",
                                    "qty": "10"
                                },
                                {
                                    "custid": "25",
                                    "companyname": "Customer AZJED",
                                    "orderid": "10717",
                                    "productid": "21",
                                    "qty": "32"
                                },
                                {
                                    "custid": "25",
                                    "companyname": "Customer AZJED",
                                    "orderid": "10717",
                                    "productid": "54",
                                    "qty": "15"
                                },
                                {
                                    "custid": "25",
                                    "companyname": "Customer AZJED",
                                    "orderid": "10717",
                                    "productid": "69",
                                    "qty": "25"
                                },
                                {
                                    "custid": "39",
                                    "companyname": "Customer GLLAG",
                                    "orderid": "10718",
                                    "productid": "12",
                                    "qty": "36"
                                },
                                {
                                    "custid": "39",
                                    "companyname": "Customer GLLAG",
                                    "orderid": "10718",
                                    "productid": "16",
                                    "qty": "20"
                                },
                                {
                                    "custid": "39",
                                    "companyname": "Customer GLLAG",
                                    "orderid": "10718",
                                    "productid": "36",
                                    "qty": "40"
                                },
                                {
                                    "custid": "39",
                                    "companyname": "Customer GLLAG",
                                    "orderid": "10718",
                                    "productid": "62",
                                    "qty": "20"
                                },
                                {
                                    "custid": "45",
                                    "companyname": "Customer QXPPT",
                                    "orderid": "10719",
                                    "productid": "18",
                                    "qty": "12"
                                },
                                {
                                    "custid": "45",
                                    "companyname": "Customer QXPPT",
                                    "orderid": "10719",
                                    "productid": "30",
                                    "qty": "3"
                                },
                                {
                                    "custid": "45",
                                    "companyname": "Customer QXPPT",
                                    "orderid": "10719",
                                    "productid": "54",
                                    "qty": "40"
                                },
                                {
                                    "custid": "61",
                                    "companyname": "Customer WULWD",
                                    "orderid": "10720",
                                    "productid": "35",
                                    "qty": "21"
                                },
                                {
                                    "custid": "61",
                                    "companyname": "Customer WULWD",
                                    "orderid": "10720",
                                    "productid": "71",
                                    "qty": "8"
                                },
                                {
                                    "custid": "63",
                                    "companyname": "Customer IRRVL",
                                    "orderid": "10721",
                                    "productid": "44",
                                    "qty": "50"
                                },
                                {
                                    "custid": "71",
                                    "companyname": "Customer LCOUJ",
                                    "orderid": "10722",
                                    "productid": "2",
                                    "qty": "3"
                                },
                                {
                                    "custid": "71",
                                    "companyname": "Customer LCOUJ",
                                    "orderid": "10722",
                                    "productid": "31",
                                    "qty": "50"
                                },
                                {
                                    "custid": "71",
                                    "companyname": "Customer LCOUJ",
                                    "orderid": "10722",
                                    "productid": "68",
                                    "qty": "45"
                                },
                                {
                                    "custid": "71",
                                    "companyname": "Customer LCOUJ",
                                    "orderid": "10722",
                                    "productid": "75",
                                    "qty": "42"
                                },
                                {
                                    "custid": "89",
                                    "companyname": "Customer YBQTI",
                                    "orderid": "10723",
                                    "productid": "26",
                                    "qty": "15"
                                },
                                {
                                    "custid": "51",
                                    "companyname": "Customer PVDZC",
                                    "orderid": "10724",
                                    "productid": "10",
                                    "qty": "16"
                                },
                                {
                                    "custid": "51",
                                    "companyname": "Customer PVDZC",
                                    "orderid": "10724",
                                    "productid": "61",
                                    "qty": "5"
                                },
                                {
                                    "custid": "21",
                                    "companyname": "Customer KIDPX",
                                    "orderid": "10725",
                                    "productid": "41",
                                    "qty": "12"
                                },
                                {
                                    "custid": "21",
                                    "companyname": "Customer KIDPX",
                                    "orderid": "10725",
                                    "productid": "52",
                                    "qty": "4"
                                },
                                {
                                    "custid": "21",
                                    "companyname": "Customer KIDPX",
                                    "orderid": "10725",
                                    "productid": "55",
                                    "qty": "6"
                                },
                                {
                                    "custid": "19",
                                    "companyname": "Customer RFNQC",
                                    "orderid": "10726",
                                    "productid": "4",
                                    "qty": "25"
                                },
                                {
                                    "custid": "19",
                                    "companyname": "Customer RFNQC",
                                    "orderid": "10726",
                                    "productid": "11",
                                    "qty": "5"
                                },
                                {
                                    "custid": "66",
                                    "companyname": "Customer LHANT",
                                    "orderid": "10727",
                                    "productid": "17",
                                    "qty": "20"
                                },
                                {
                                    "custid": "66",
                                    "companyname": "Customer LHANT",
                                    "orderid": "10727",
                                    "productid": "56",
                                    "qty": "10"
                                },
                                {
                                    "custid": "66",
                                    "companyname": "Customer LHANT",
                                    "orderid": "10727",
                                    "productid": "59",
                                    "qty": "10"
                                },
                                {
                                    "custid": "62",
                                    "companyname": "Customer WFIZJ",
                                    "orderid": "10728",
                                    "productid": "30",
                                    "qty": "15"
                                },
                                {
                                    "custid": "62",
                                    "companyname": "Customer WFIZJ",
                                    "orderid": "10728",
                                    "productid": "40",
                                    "qty": "6"
                                },
                                {
                                    "custid": "62",
                                    "companyname": "Customer WFIZJ",
                                    "orderid": "10728",
                                    "productid": "55",
                                    "qty": "12"
                                },
                                {
                                    "custid": "62",
                                    "companyname": "Customer WFIZJ",
                                    "orderid": "10728",
                                    "productid": "60",
                                    "qty": "15"
                                },
                                {
                                    "custid": "47",
                                    "companyname": "Customer PSQUZ",
                                    "orderid": "10729",
                                    "productid": "1",
                                    "qty": "50"
                                },
                                {
                                    "custid": "47",
                                    "companyname": "Customer PSQUZ",
                                    "orderid": "10729",
                                    "productid": "21",
                                    "qty": "30"
                                },
                                {
                                    "custid": "47",
                                    "companyname": "Customer PSQUZ",
                                    "orderid": "10729",
                                    "productid": "50",
                                    "qty": "40"
                                },
                                {
                                    "custid": "9",
                                    "companyname": "Customer RTXGC",
                                    "orderid": "10730",
                                    "productid": "16",
                                    "qty": "15"
                                },
                                {
                                    "custid": "9",
                                    "companyname": "Customer RTXGC",
                                    "orderid": "10730",
                                    "productid": "31",
                                    "qty": "3"
                                },
                                {
                                    "custid": "9",
                                    "companyname": "Customer RTXGC",
                                    "orderid": "10730",
                                    "productid": "65",
                                    "qty": "10"
                                },
                                {
                                    "custid": "14",
                                    "companyname": "Customer WNMAF",
                                    "orderid": "10731",
                                    "productid": "21",
                                    "qty": "40"
                                },
                                {
                                    "custid": "14",
                                    "companyname": "Customer WNMAF",
                                    "orderid": "10731",
                                    "productid": "51",
                                    "qty": "30"
                                },
                                {
                                    "custid": "9",
                                    "companyname": "Customer RTXGC",
                                    "orderid": "10732",
                                    "productid": "76",
                                    "qty": "20"
                                },
                                {
                                    "custid": "5",
                                    "companyname": "Customer HGVLZ",
                                    "orderid": "10733",
                                    "productid": "14",
                                    "qty": "16"
                                },
                                {
                                    "custid": "5",
                                    "companyname": "Customer HGVLZ",
                                    "orderid": "10733",
                                    "productid": "28",
                                    "qty": "20"
                                },
                                {
                                    "custid": "5",
                                    "companyname": "Customer HGVLZ",
                                    "orderid": "10733",
                                    "productid": "52",
                                    "qty": "25"
                                },
                                {
                                    "custid": "31",
                                    "companyname": "Customer YJCBX",
                                    "orderid": "10734",
                                    "productid": "6",
                                    "qty": "30"
                                },
                                {
                                    "custid": "31",
                                    "companyname": "Customer YJCBX",
                                    "orderid": "10734",
                                    "productid": "30",
                                    "qty": "15"
                                },
                                {
                                    "custid": "31",
                                    "companyname": "Customer YJCBX",
                                    "orderid": "10734",
                                    "productid": "76",
                                    "qty": "20"
                                },
                                {
                                    "custid": "45",
                                    "companyname": "Customer QXPPT",
                                    "orderid": "10735",
                                    "productid": "61",
                                    "qty": "20"
                                },
                                {
                                    "custid": "45",
                                    "companyname": "Customer QXPPT",
                                    "orderid": "10735",
                                    "productid": "77",
                                    "qty": "2"
                                },
                                {
                                    "custid": "37",
                                    "companyname": "Customer FRXZL",
                                    "orderid": "10736",
                                    "productid": "65",
                                    "qty": "40"
                                },
                                {
                                    "custid": "37",
                                    "companyname": "Customer FRXZL",
                                    "orderid": "10736",
                                    "productid": "75",
                                    "qty": "20"
                                },
                                {
                                    "custid": "85",
                                    "companyname": "Customer ENQZT",
                                    "orderid": "10737",
                                    "productid": "13",
                                    "qty": "4"
                                },
                                {
                                    "custid": "85",
                                    "companyname": "Customer ENQZT",
                                    "orderid": "10737",
                                    "productid": "41",
                                    "qty": "12"
                                },
                                {
                                    "custid": "74",
                                    "companyname": "Customer YSHXL",
                                    "orderid": "10738",
                                    "productid": "16",
                                    "qty": "3"
                                },
                                {
                                    "custid": "85",
                                    "companyname": "Customer ENQZT",
                                    "orderid": "10739",
                                    "productid": "36",
                                    "qty": "6"
                                },
                                {
                                    "custid": "85",
                                    "companyname": "Customer ENQZT",
                                    "orderid": "10739",
                                    "productid": "52",
                                    "qty": "18"
                                },
                                {
                                    "custid": "89",
                                    "companyname": "Customer YBQTI",
                                    "orderid": "10740",
                                    "productid": "28",
                                    "qty": "5"
                                },
                                {
                                    "custid": "89",
                                    "companyname": "Customer YBQTI",
                                    "orderid": "10740",
                                    "productid": "35",
                                    "qty": "35"
                                },
                                {
                                    "custid": "89",
                                    "companyname": "Customer YBQTI",
                                    "orderid": "10740",
                                    "productid": "45",
                                    "qty": "40"
                                },
                                {
                                    "custid": "89",
                                    "companyname": "Customer YBQTI",
                                    "orderid": "10740",
                                    "productid": "56",
                                    "qty": "14"
                                },
                                {
                                    "custid": "4",
                                    "companyname": "Customer HFBZG",
                                    "orderid": "10741",
                                    "productid": "2",
                                    "qty": "15"
                                },
                                {
                                    "custid": "10",
                                    "companyname": "Customer EEALV",
                                    "orderid": "10742",
                                    "productid": "3",
                                    "qty": "20"
                                },
                                {
                                    "custid": "10",
                                    "companyname": "Customer EEALV",
                                    "orderid": "10742",
                                    "productid": "60",
                                    "qty": "50"
                                },
                                {
                                    "custid": "10",
                                    "companyname": "Customer EEALV",
                                    "orderid": "10742",
                                    "productid": "72",
                                    "qty": "35"
                                },
                                {
                                    "custid": "4",
                                    "companyname": "Customer HFBZG",
                                    "orderid": "10743",
                                    "productid": "46",
                                    "qty": "28"
                                },
                                {
                                    "custid": "83",
                                    "companyname": "Customer ZRNDE",
                                    "orderid": "10744",
                                    "productid": "40",
                                    "qty": "50"
                                },
                                {
                                    "custid": "63",
                                    "companyname": "Customer IRRVL",
                                    "orderid": "10745",
                                    "productid": "18",
                                    "qty": "24"
                                },
                                {
                                    "custid": "63",
                                    "companyname": "Customer IRRVL",
                                    "orderid": "10745",
                                    "productid": "44",
                                    "qty": "16"
                                },
                                {
                                    "custid": "63",
                                    "companyname": "Customer IRRVL",
                                    "orderid": "10745",
                                    "productid": "59",
                                    "qty": "45"
                                },
                                {
                                    "custid": "63",
                                    "companyname": "Customer IRRVL",
                                    "orderid": "10745",
                                    "productid": "72",
                                    "qty": "7"
                                },
                                {
                                    "custid": "14",
                                    "companyname": "Customer WNMAF",
                                    "orderid": "10746",
                                    "productid": "13",
                                    "qty": "6"
                                },
                                {
                                    "custid": "14",
                                    "companyname": "Customer WNMAF",
                                    "orderid": "10746",
                                    "productid": "42",
                                    "qty": "28"
                                },
                                {
                                    "custid": "14",
                                    "companyname": "Customer WNMAF",
                                    "orderid": "10746",
                                    "productid": "62",
                                    "qty": "9"
                                },
                                {
                                    "custid": "14",
                                    "companyname": "Customer WNMAF",
                                    "orderid": "10746",
                                    "productid": "69",
                                    "qty": "40"
                                },
                                {
                                    "custid": "59",
                                    "companyname": "Customer LOLJO",
                                    "orderid": "10747",
                                    "productid": "31",
                                    "qty": "8"
                                },
                                {
                                    "custid": "59",
                                    "companyname": "Customer LOLJO",
                                    "orderid": "10747",
                                    "productid": "41",
                                    "qty": "35"
                                },
                                {
                                    "custid": "59",
                                    "companyname": "Customer LOLJO",
                                    "orderid": "10747",
                                    "productid": "63",
                                    "qty": "9"
                                },
                                {
                                    "custid": "59",
                                    "companyname": "Customer LOLJO",
                                    "orderid": "10747",
                                    "productid": "69",
                                    "qty": "30"
                                },
                                {
                                    "custid": "71",
                                    "companyname": "Customer LCOUJ",
                                    "orderid": "10748",
                                    "productid": "23",
                                    "qty": "44"
                                },
                                {
                                    "custid": "71",
                                    "companyname": "Customer LCOUJ",
                                    "orderid": "10748",
                                    "productid": "40",
                                    "qty": "40"
                                },
                                {
                                    "custid": "71",
                                    "companyname": "Customer LCOUJ",
                                    "orderid": "10748",
                                    "productid": "56",
                                    "qty": "28"
                                },
                                {
                                    "custid": "38",
                                    "companyname": "Customer LJUCA",
                                    "orderid": "10749",
                                    "productid": "56",
                                    "qty": "15"
                                },
                                {
                                    "custid": "38",
                                    "companyname": "Customer LJUCA",
                                    "orderid": "10749",
                                    "productid": "59",
                                    "qty": "6"
                                },
                                {
                                    "custid": "38",
                                    "companyname": "Customer LJUCA",
                                    "orderid": "10749",
                                    "productid": "76",
                                    "qty": "10"
                                },
                                {
                                    "custid": "87",
                                    "companyname": "Customer ZHYOS",
                                    "orderid": "10750",
                                    "productid": "14",
                                    "qty": "5"
                                },
                                {
                                    "custid": "87",
                                    "companyname": "Customer ZHYOS",
                                    "orderid": "10750",
                                    "productid": "45",
                                    "qty": "40"
                                },
                                {
                                    "custid": "87",
                                    "companyname": "Customer ZHYOS",
                                    "orderid": "10750",
                                    "productid": "59",
                                    "qty": "25"
                                },
                                {
                                    "custid": "68",
                                    "companyname": "Customer CCKOT",
                                    "orderid": "10751",
                                    "productid": "26",
                                    "qty": "12"
                                },
                                {
                                    "custid": "68",
                                    "companyname": "Customer CCKOT",
                                    "orderid": "10751",
                                    "productid": "30",
                                    "qty": "30"
                                },
                                {
                                    "custid": "68",
                                    "companyname": "Customer CCKOT",
                                    "orderid": "10751",
                                    "productid": "50",
                                    "qty": "20"
                                },
                                {
                                    "custid": "68",
                                    "companyname": "Customer CCKOT",
                                    "orderid": "10751",
                                    "productid": "73",
                                    "qty": "15"
                                },
                                {
                                    "custid": "53",
                                    "companyname": "Customer GCJSG",
                                    "orderid": "10752",
                                    "productid": "1",
                                    "qty": "8"
                                },
                                {
                                    "custid": "53",
                                    "companyname": "Customer GCJSG",
                                    "orderid": "10752",
                                    "productid": "69",
                                    "qty": "3"
                                },
                                {
                                    "custid": "27",
                                    "companyname": "Customer WMFEA",
                                    "orderid": "10753",
                                    "productid": "45",
                                    "qty": "4"
                                },
                                {
                                    "custid": "27",
                                    "companyname": "Customer WMFEA",
                                    "orderid": "10753",
                                    "productid": "74",
                                    "qty": "5"
                                },
                                {
                                    "custid": "49",
                                    "companyname": "Customer CQRAA",
                                    "orderid": "10754",
                                    "productid": "40",
                                    "qty": "3"
                                },
                                {
                                    "custid": "9",
                                    "companyname": "Customer RTXGC",
                                    "orderid": "10755",
                                    "productid": "47",
                                    "qty": "30"
                                },
                                {
                                    "custid": "9",
                                    "companyname": "Customer RTXGC",
                                    "orderid": "10755",
                                    "productid": "56",
                                    "qty": "30"
                                },
                                {
                                    "custid": "9",
                                    "companyname": "Customer RTXGC",
                                    "orderid": "10755",
                                    "productid": "57",
                                    "qty": "14"
                                },
                                {
                                    "custid": "9",
                                    "companyname": "Customer RTXGC",
                                    "orderid": "10755",
                                    "productid": "69",
                                    "qty": "25"
                                },
                                {
                                    "custid": "75",
                                    "companyname": "Customer XOJYP",
                                    "orderid": "10756",
                                    "productid": "18",
                                    "qty": "21"
                                },
                                {
                                    "custid": "75",
                                    "companyname": "Customer XOJYP",
                                    "orderid": "10756",
                                    "productid": "36",
                                    "qty": "20"
                                },
                                {
                                    "custid": "75",
                                    "companyname": "Customer XOJYP",
                                    "orderid": "10756",
                                    "productid": "68",
                                    "qty": "6"
                                },
                                {
                                    "custid": "75",
                                    "companyname": "Customer XOJYP",
                                    "orderid": "10756",
                                    "productid": "69",
                                    "qty": "20"
                                },
                                {
                                    "custid": "71",
                                    "companyname": "Customer LCOUJ",
                                    "orderid": "10757",
                                    "productid": "34",
                                    "qty": "30"
                                },
                                {
                                    "custid": "71",
                                    "companyname": "Customer LCOUJ",
                                    "orderid": "10757",
                                    "productid": "59",
                                    "qty": "7"
                                },
                                {
                                    "custid": "71",
                                    "companyname": "Customer LCOUJ",
                                    "orderid": "10757",
                                    "productid": "62",
                                    "qty": "30"
                                },
                                {
                                    "custid": "71",
                                    "companyname": "Customer LCOUJ",
                                    "orderid": "10757",
                                    "productid": "64",
                                    "qty": "24"
                                },
                                {
                                    "custid": "68",
                                    "companyname": "Customer CCKOT",
                                    "orderid": "10758",
                                    "productid": "26",
                                    "qty": "20"
                                },
                                {
                                    "custid": "68",
                                    "companyname": "Customer CCKOT",
                                    "orderid": "10758",
                                    "productid": "52",
                                    "qty": "60"
                                },
                                {
                                    "custid": "68",
                                    "companyname": "Customer CCKOT",
                                    "orderid": "10758",
                                    "productid": "70",
                                    "qty": "40"
                                },
                                {
                                    "custid": "2",
                                    "companyname": "Customer MLTDN",
                                    "orderid": "10759",
                                    "productid": "32",
                                    "qty": "10"
                                },
                                {
                                    "custid": "50",
                                    "companyname": "Customer JYPSC",
                                    "orderid": "10760",
                                    "productid": "25",
                                    "qty": "12"
                                },
                                {
                                    "custid": "50",
                                    "companyname": "Customer JYPSC",
                                    "orderid": "10760",
                                    "productid": "27",
                                    "qty": "40"
                                },
                                {
                                    "custid": "50",
                                    "companyname": "Customer JYPSC",
                                    "orderid": "10760",
                                    "productid": "43",
                                    "qty": "30"
                                },
                                {
                                    "custid": "65",
                                    "companyname": "Customer NYUHS",
                                    "orderid": "10761",
                                    "productid": "25",
                                    "qty": "35"
                                },
                                {
                                    "custid": "65",
                                    "companyname": "Customer NYUHS",
                                    "orderid": "10761",
                                    "productid": "75",
                                    "qty": "18"
                                },
                                {
                                    "custid": "24",
                                    "companyname": "Customer CYZTN",
                                    "orderid": "10762",
                                    "productid": "39",
                                    "qty": "16"
                                },
                                {
                                    "custid": "24",
                                    "companyname": "Customer CYZTN",
                                    "orderid": "10762",
                                    "productid": "47",
                                    "qty": "30"
                                },
                                {
                                    "custid": "24",
                                    "companyname": "Customer CYZTN",
                                    "orderid": "10762",
                                    "productid": "51",
                                    "qty": "28"
                                },
                                {
                                    "custid": "24",
                                    "companyname": "Customer CYZTN",
                                    "orderid": "10762",
                                    "productid": "56",
                                    "qty": "60"
                                },
                                {
                                    "custid": "23",
                                    "companyname": "Customer WVFAF",
                                    "orderid": "10763",
                                    "productid": "21",
                                    "qty": "40"
                                },
                                {
                                    "custid": "23",
                                    "companyname": "Customer WVFAF",
                                    "orderid": "10763",
                                    "productid": "22",
                                    "qty": "6"
                                },
                                {
                                    "custid": "23",
                                    "companyname": "Customer WVFAF",
                                    "orderid": "10763",
                                    "productid": "24",
                                    "qty": "20"
                                },
                                {
                                    "custid": "20",
                                    "companyname": "Customer THHDP",
                                    "orderid": "10764",
                                    "productid": "3",
                                    "qty": "20"
                                },
                                {
                                    "custid": "20",
                                    "companyname": "Customer THHDP",
                                    "orderid": "10764",
                                    "productid": "39",
                                    "qty": "130"
                                },
                                {
                                    "custid": "63",
                                    "companyname": "Customer IRRVL",
                                    "orderid": "10765",
                                    "productid": "65",
                                    "qty": "80"
                                },
                                {
                                    "custid": "56",
                                    "companyname": "Customer QNIVZ",
                                    "orderid": "10766",
                                    "productid": "2",
                                    "qty": "40"
                                },
                                {
                                    "custid": "56",
                                    "companyname": "Customer QNIVZ",
                                    "orderid": "10766",
                                    "productid": "7",
                                    "qty": "35"
                                },
                                {
                                    "custid": "56",
                                    "companyname": "Customer QNIVZ",
                                    "orderid": "10766",
                                    "productid": "68",
                                    "qty": "40"
                                },
                                {
                                    "custid": "76",
                                    "companyname": "Customer SFOGW",
                                    "orderid": "10767",
                                    "productid": "42",
                                    "qty": "2"
                                },
                                {
                                    "custid": "4",
                                    "companyname": "Customer HFBZG",
                                    "orderid": "10768",
                                    "productid": "22",
                                    "qty": "4"
                                },
                                {
                                    "custid": "4",
                                    "companyname": "Customer HFBZG",
                                    "orderid": "10768",
                                    "productid": "31",
                                    "qty": "50"
                                },
                                {
                                    "custid": "4",
                                    "companyname": "Customer HFBZG",
                                    "orderid": "10768",
                                    "productid": "60",
                                    "qty": "15"
                                },
                                {
                                    "custid": "4",
                                    "companyname": "Customer HFBZG",
                                    "orderid": "10768",
                                    "productid": "71",
                                    "qty": "12"
                                },
                                {
                                    "custid": "83",
                                    "companyname": "Customer ZRNDE",
                                    "orderid": "10769",
                                    "productid": "41",
                                    "qty": "30"
                                },
                                {
                                    "custid": "83",
                                    "companyname": "Customer ZRNDE",
                                    "orderid": "10769",
                                    "productid": "52",
                                    "qty": "15"
                                },
                                {
                                    "custid": "83",
                                    "companyname": "Customer ZRNDE",
                                    "orderid": "10769",
                                    "productid": "61",
                                    "qty": "20"
                                },
                                {
                                    "custid": "83",
                                    "companyname": "Customer ZRNDE",
                                    "orderid": "10769",
                                    "productid": "62",
                                    "qty": "15"
                                },
                                {
                                    "custid": "34",
                                    "companyname": "Customer IBVRG",
                                    "orderid": "10770",
                                    "productid": "11",
                                    "qty": "15"
                                },
                                {
                                    "custid": "20",
                                    "companyname": "Customer THHDP",
                                    "orderid": "10771",
                                    "productid": "71",
                                    "qty": "16"
                                },
                                {
                                    "custid": "44",
                                    "companyname": "Customer OXFRU",
                                    "orderid": "10772",
                                    "productid": "29",
                                    "qty": "18"
                                },
                                {
                                    "custid": "44",
                                    "companyname": "Customer OXFRU",
                                    "orderid": "10772",
                                    "productid": "59",
                                    "qty": "25"
                                },
                                {
                                    "custid": "20",
                                    "companyname": "Customer THHDP",
                                    "orderid": "10773",
                                    "productid": "17",
                                    "qty": "33"
                                },
                                {
                                    "custid": "20",
                                    "companyname": "Customer THHDP",
                                    "orderid": "10773",
                                    "productid": "31",
                                    "qty": "70"
                                },
                                {
                                    "custid": "20",
                                    "companyname": "Customer THHDP",
                                    "orderid": "10773",
                                    "productid": "75",
                                    "qty": "7"
                                },
                                {
                                    "custid": "24",
                                    "companyname": "Customer CYZTN",
                                    "orderid": "10774",
                                    "productid": "31",
                                    "qty": "2"
                                },
                                {
                                    "custid": "24",
                                    "companyname": "Customer CYZTN",
                                    "orderid": "10774",
                                    "productid": "66",
                                    "qty": "50"
                                },
                                {
                                    "custid": "78",
                                    "companyname": "Customer NLTYP",
                                    "orderid": "10775",
                                    "productid": "10",
                                    "qty": "6"
                                },
                                {
                                    "custid": "78",
                                    "companyname": "Customer NLTYP",
                                    "orderid": "10775",
                                    "productid": "67",
                                    "qty": "3"
                                },
                                {
                                    "custid": "20",
                                    "companyname": "Customer THHDP",
                                    "orderid": "10776",
                                    "productid": "31",
                                    "qty": "16"
                                },
                                {
                                    "custid": "20",
                                    "companyname": "Customer THHDP",
                                    "orderid": "10776",
                                    "productid": "42",
                                    "qty": "12"
                                },
                                {
                                    "custid": "20",
                                    "companyname": "Customer THHDP",
                                    "orderid": "10776",
                                    "productid": "45",
                                    "qty": "27"
                                },
                                {
                                    "custid": "20",
                                    "companyname": "Customer THHDP",
                                    "orderid": "10776",
                                    "productid": "51",
                                    "qty": "120"
                                },
                                {
                                    "custid": "31",
                                    "companyname": "Customer YJCBX",
                                    "orderid": "10777",
                                    "productid": "42",
                                    "qty": "20"
                                },
                                {
                                    "custid": "5",
                                    "companyname": "Customer HGVLZ",
                                    "orderid": "10778",
                                    "productid": "41",
                                    "qty": "10"
                                },
                                {
                                    "custid": "52",
                                    "companyname": "Customer PZNLA",
                                    "orderid": "10779",
                                    "productid": "16",
                                    "qty": "20"
                                },
                                {
                                    "custid": "52",
                                    "companyname": "Customer PZNLA",
                                    "orderid": "10779",
                                    "productid": "62",
                                    "qty": "20"
                                },
                                {
                                    "custid": "46",
                                    "companyname": "Customer XPNIK",
                                    "orderid": "10780",
                                    "productid": "70",
                                    "qty": "35"
                                },
                                {
                                    "custid": "46",
                                    "companyname": "Customer XPNIK",
                                    "orderid": "10780",
                                    "productid": "77",
                                    "qty": "15"
                                },
                                {
                                    "custid": "87",
                                    "companyname": "Customer ZHYOS",
                                    "orderid": "10781",
                                    "productid": "54",
                                    "qty": "3"
                                },
                                {
                                    "custid": "87",
                                    "companyname": "Customer ZHYOS",
                                    "orderid": "10781",
                                    "productid": "56",
                                    "qty": "20"
                                },
                                {
                                    "custid": "87",
                                    "companyname": "Customer ZHYOS",
                                    "orderid": "10781",
                                    "productid": "74",
                                    "qty": "35"
                                },
                                {
                                    "custid": "12",
                                    "companyname": "Customer PSNMQ",
                                    "orderid": "10782",
                                    "productid": "31",
                                    "qty": "1"
                                },
                                {
                                    "custid": "34",
                                    "companyname": "Customer IBVRG",
                                    "orderid": "10783",
                                    "productid": "31",
                                    "qty": "10"
                                },
                                {
                                    "custid": "34",
                                    "companyname": "Customer IBVRG",
                                    "orderid": "10783",
                                    "productid": "38",
                                    "qty": "5"
                                },
                                {
                                    "custid": "49",
                                    "companyname": "Customer CQRAA",
                                    "orderid": "10784",
                                    "productid": "36",
                                    "qty": "30"
                                },
                                {
                                    "custid": "49",
                                    "companyname": "Customer CQRAA",
                                    "orderid": "10784",
                                    "productid": "39",
                                    "qty": "2"
                                },
                                {
                                    "custid": "49",
                                    "companyname": "Customer CQRAA",
                                    "orderid": "10784",
                                    "productid": "72",
                                    "qty": "30"
                                },
                                {
                                    "custid": "33",
                                    "companyname": "Customer FVXPQ",
                                    "orderid": "10785",
                                    "productid": "10",
                                    "qty": "10"
                                },
                                {
                                    "custid": "33",
                                    "companyname": "Customer FVXPQ",
                                    "orderid": "10785",
                                    "productid": "75",
                                    "qty": "10"
                                },
                                {
                                    "custid": "62",
                                    "companyname": "Customer WFIZJ",
                                    "orderid": "10786",
                                    "productid": "8",
                                    "qty": "30"
                                },
                                {
                                    "custid": "62",
                                    "companyname": "Customer WFIZJ",
                                    "orderid": "10786",
                                    "productid": "30",
                                    "qty": "15"
                                },
                                {
                                    "custid": "62",
                                    "companyname": "Customer WFIZJ",
                                    "orderid": "10786",
                                    "productid": "75",
                                    "qty": "42"
                                },
                                {
                                    "custid": "41",
                                    "companyname": "Customer XIIWM",
                                    "orderid": "10787",
                                    "productid": "2",
                                    "qty": "15"
                                },
                                {
                                    "custid": "41",
                                    "companyname": "Customer XIIWM",
                                    "orderid": "10787",
                                    "productid": "29",
                                    "qty": "20"
                                },
                                {
                                    "custid": "63",
                                    "companyname": "Customer IRRVL",
                                    "orderid": "10788",
                                    "productid": "19",
                                    "qty": "50"
                                },
                                {
                                    "custid": "63",
                                    "companyname": "Customer IRRVL",
                                    "orderid": "10788",
                                    "productid": "75",
                                    "qty": "40"
                                },
                                {
                                    "custid": "23",
                                    "companyname": "Customer WVFAF",
                                    "orderid": "10789",
                                    "productid": "18",
                                    "qty": "30"
                                },
                                {
                                    "custid": "23",
                                    "companyname": "Customer WVFAF",
                                    "orderid": "10789",
                                    "productid": "35",
                                    "qty": "15"
                                },
                                {
                                    "custid": "23",
                                    "companyname": "Customer WVFAF",
                                    "orderid": "10789",
                                    "productid": "63",
                                    "qty": "30"
                                },
                                {
                                    "custid": "23",
                                    "companyname": "Customer WVFAF",
                                    "orderid": "10789",
                                    "productid": "68",
                                    "qty": "18"
                                },
                                {
                                    "custid": "31",
                                    "companyname": "Customer YJCBX",
                                    "orderid": "10790",
                                    "productid": "7",
                                    "qty": "3"
                                },
                                {
                                    "custid": "31",
                                    "companyname": "Customer YJCBX",
                                    "orderid": "10790",
                                    "productid": "56",
                                    "qty": "20"
                                },
                                {
                                    "custid": "25",
                                    "companyname": "Customer AZJED",
                                    "orderid": "10791",
                                    "productid": "29",
                                    "qty": "14"
                                },
                                {
                                    "custid": "25",
                                    "companyname": "Customer AZJED",
                                    "orderid": "10791",
                                    "productid": "41",
                                    "qty": "20"
                                },
                                {
                                    "custid": "91",
                                    "companyname": "Customer CCFIZ",
                                    "orderid": "10792",
                                    "productid": "2",
                                    "qty": "10"
                                },
                                {
                                    "custid": "91",
                                    "companyname": "Customer CCFIZ",
                                    "orderid": "10792",
                                    "productid": "54",
                                    "qty": "3"
                                },
                                {
                                    "custid": "91",
                                    "companyname": "Customer CCFIZ",
                                    "orderid": "10792",
                                    "productid": "68",
                                    "qty": "15"
                                },
                                {
                                    "custid": "4",
                                    "companyname": "Customer HFBZG",
                                    "orderid": "10793",
                                    "productid": "41",
                                    "qty": "14"
                                },
                                {
                                    "custid": "4",
                                    "companyname": "Customer HFBZG",
                                    "orderid": "10793",
                                    "productid": "52",
                                    "qty": "8"
                                },
                                {
                                    "custid": "61",
                                    "companyname": "Customer WULWD",
                                    "orderid": "10794",
                                    "productid": "14",
                                    "qty": "15"
                                },
                                {
                                    "custid": "61",
                                    "companyname": "Customer WULWD",
                                    "orderid": "10794",
                                    "productid": "54",
                                    "qty": "6"
                                },
                                {
                                    "custid": "20",
                                    "companyname": "Customer THHDP",
                                    "orderid": "10795",
                                    "productid": "16",
                                    "qty": "65"
                                },
                                {
                                    "custid": "20",
                                    "companyname": "Customer THHDP",
                                    "orderid": "10795",
                                    "productid": "17",
                                    "qty": "35"
                                },
                                {
                                    "custid": "35",
                                    "companyname": "Customer UMTLM",
                                    "orderid": "10796",
                                    "productid": "26",
                                    "qty": "21"
                                },
                                {
                                    "custid": "35",
                                    "companyname": "Customer UMTLM",
                                    "orderid": "10796",
                                    "productid": "44",
                                    "qty": "10"
                                },
                                {
                                    "custid": "35",
                                    "companyname": "Customer UMTLM",
                                    "orderid": "10796",
                                    "productid": "64",
                                    "qty": "35"
                                },
                                {
                                    "custid": "35",
                                    "companyname": "Customer UMTLM",
                                    "orderid": "10796",
                                    "productid": "69",
                                    "qty": "24"
                                },
                                {
                                    "custid": "17",
                                    "companyname": "Customer FEVNN",
                                    "orderid": "10797",
                                    "productid": "11",
                                    "qty": "20"
                                },
                                {
                                    "custid": "38",
                                    "companyname": "Customer LJUCA",
                                    "orderid": "10798",
                                    "productid": "62",
                                    "qty": "2"
                                },
                                {
                                    "custid": "38",
                                    "companyname": "Customer LJUCA",
                                    "orderid": "10798",
                                    "productid": "72",
                                    "qty": "10"
                                },
                                {
                                    "custid": "39",
                                    "companyname": "Customer GLLAG",
                                    "orderid": "10799",
                                    "productid": "13",
                                    "qty": "20"
                                },
                                {
                                    "custid": "39",
                                    "companyname": "Customer GLLAG",
                                    "orderid": "10799",
                                    "productid": "24",
                                    "qty": "20"
                                },
                                {
                                    "custid": "39",
                                    "companyname": "Customer GLLAG",
                                    "orderid": "10799",
                                    "productid": "59",
                                    "qty": "25"
                                },
                                {
                                    "custid": "72",
                                    "companyname": "Customer AHPOP",
                                    "orderid": "10800",
                                    "productid": "11",
                                    "qty": "50"
                                },
                                {
                                    "custid": "72",
                                    "companyname": "Customer AHPOP",
                                    "orderid": "10800",
                                    "productid": "51",
                                    "qty": "10"
                                },
                                {
                                    "custid": "72",
                                    "companyname": "Customer AHPOP",
                                    "orderid": "10800",
                                    "productid": "54",
                                    "qty": "7"
                                },
                                {
                                    "custid": "8",
                                    "companyname": "Customer QUHWH",
                                    "orderid": "10801",
                                    "productid": "17",
                                    "qty": "40"
                                },
                                {
                                    "custid": "8",
                                    "companyname": "Customer QUHWH",
                                    "orderid": "10801",
                                    "productid": "29",
                                    "qty": "20"
                                },
                                {
                                    "custid": "73",
                                    "companyname": "Customer JMIKW",
                                    "orderid": "10802",
                                    "productid": "30",
                                    "qty": "25"
                                },
                                {
                                    "custid": "73",
                                    "companyname": "Customer JMIKW",
                                    "orderid": "10802",
                                    "productid": "51",
                                    "qty": "30"
                                },
                                {
                                    "custid": "73",
                                    "companyname": "Customer JMIKW",
                                    "orderid": "10802",
                                    "productid": "55",
                                    "qty": "60"
                                },
                                {
                                    "custid": "73",
                                    "companyname": "Customer JMIKW",
                                    "orderid": "10802",
                                    "productid": "62",
                                    "qty": "5"
                                },
                                {
                                    "custid": "88",
                                    "companyname": "Customer SRQVM",
                                    "orderid": "10803",
                                    "productid": "19",
                                    "qty": "24"
                                },
                                {
                                    "custid": "88",
                                    "companyname": "Customer SRQVM",
                                    "orderid": "10803",
                                    "productid": "25",
                                    "qty": "15"
                                },
                                {
                                    "custid": "88",
                                    "companyname": "Customer SRQVM",
                                    "orderid": "10803",
                                    "productid": "59",
                                    "qty": "15"
                                },
                                {
                                    "custid": "72",
                                    "companyname": "Customer AHPOP",
                                    "orderid": "10804",
                                    "productid": "10",
                                    "qty": "36"
                                },
                                {
                                    "custid": "72",
                                    "companyname": "Customer AHPOP",
                                    "orderid": "10804",
                                    "productid": "28",
                                    "qty": "24"
                                },
                                {
                                    "custid": "72",
                                    "companyname": "Customer AHPOP",
                                    "orderid": "10804",
                                    "productid": "49",
                                    "qty": "4"
                                },
                                {
                                    "custid": "77",
                                    "companyname": "Customer LCYBZ",
                                    "orderid": "10805",
                                    "productid": "34",
                                    "qty": "10"
                                },
                                {
                                    "custid": "77",
                                    "companyname": "Customer LCYBZ",
                                    "orderid": "10805",
                                    "productid": "38",
                                    "qty": "10"
                                },
                                {
                                    "custid": "84",
                                    "companyname": "Customer NRCSK",
                                    "orderid": "10806",
                                    "productid": "2",
                                    "qty": "20"
                                },
                                {
                                    "custid": "84",
                                    "companyname": "Customer NRCSK",
                                    "orderid": "10806",
                                    "productid": "65",
                                    "qty": "2"
                                },
                                {
                                    "custid": "84",
                                    "companyname": "Customer NRCSK",
                                    "orderid": "10806",
                                    "productid": "74",
                                    "qty": "15"
                                },
                                {
                                    "custid": "27",
                                    "companyname": "Customer WMFEA",
                                    "orderid": "10807",
                                    "productid": "40",
                                    "qty": "1"
                                },
                                {
                                    "custid": "55",
                                    "companyname": "Customer KZQZT",
                                    "orderid": "10808",
                                    "productid": "56",
                                    "qty": "20"
                                },
                                {
                                    "custid": "55",
                                    "companyname": "Customer KZQZT",
                                    "orderid": "10808",
                                    "productid": "76",
                                    "qty": "50"
                                },
                                {
                                    "custid": "88",
                                    "companyname": "Customer SRQVM",
                                    "orderid": "10809",
                                    "productid": "52",
                                    "qty": "20"
                                },
                                {
                                    "custid": "42",
                                    "companyname": "Customer IAIJK",
                                    "orderid": "10810",
                                    "productid": "13",
                                    "qty": "7"
                                },
                                {
                                    "custid": "42",
                                    "companyname": "Customer IAIJK",
                                    "orderid": "10810",
                                    "productid": "25",
                                    "qty": "5"
                                },
                                {
                                    "custid": "42",
                                    "companyname": "Customer IAIJK",
                                    "orderid": "10810",
                                    "productid": "70",
                                    "qty": "5"
                                },
                                {
                                    "custid": "47",
                                    "companyname": "Customer PSQUZ",
                                    "orderid": "10811",
                                    "productid": "19",
                                    "qty": "15"
                                },
                                {
                                    "custid": "47",
                                    "companyname": "Customer PSQUZ",
                                    "orderid": "10811",
                                    "productid": "23",
                                    "qty": "18"
                                },
                                {
                                    "custid": "47",
                                    "companyname": "Customer PSQUZ",
                                    "orderid": "10811",
                                    "productid": "40",
                                    "qty": "30"
                                },
                                {
                                    "custid": "66",
                                    "companyname": "Customer LHANT",
                                    "orderid": "10812",
                                    "productid": "31",
                                    "qty": "16"
                                },
                                {
                                    "custid": "66",
                                    "companyname": "Customer LHANT",
                                    "orderid": "10812",
                                    "productid": "72",
                                    "qty": "40"
                                },
                                {
                                    "custid": "66",
                                    "companyname": "Customer LHANT",
                                    "orderid": "10812",
                                    "productid": "77",
                                    "qty": "20"
                                },
                                {
                                    "custid": "67",
                                    "companyname": "Customer QVEPD",
                                    "orderid": "10813",
                                    "productid": "2",
                                    "qty": "12"
                                },
                                {
                                    "custid": "67",
                                    "companyname": "Customer QVEPD",
                                    "orderid": "10813",
                                    "productid": "46",
                                    "qty": "35"
                                },
                                {
                                    "custid": "84",
                                    "companyname": "Customer NRCSK",
                                    "orderid": "10814",
                                    "productid": "41",
                                    "qty": "20"
                                },
                                {
                                    "custid": "84",
                                    "companyname": "Customer NRCSK",
                                    "orderid": "10814",
                                    "productid": "43",
                                    "qty": "20"
                                },
                                {
                                    "custid": "84",
                                    "companyname": "Customer NRCSK",
                                    "orderid": "10814",
                                    "productid": "48",
                                    "qty": "8"
                                },
                                {
                                    "custid": "84",
                                    "companyname": "Customer NRCSK",
                                    "orderid": "10814",
                                    "productid": "61",
                                    "qty": "30"
                                },
                                {
                                    "custid": "71",
                                    "companyname": "Customer LCOUJ",
                                    "orderid": "10815",
                                    "productid": "33",
                                    "qty": "16"
                                },
                                {
                                    "custid": "32",
                                    "companyname": "Customer YSIQX",
                                    "orderid": "10816",
                                    "productid": "38",
                                    "qty": "30"
                                },
                                {
                                    "custid": "32",
                                    "companyname": "Customer YSIQX",
                                    "orderid": "10816",
                                    "productid": "62",
                                    "qty": "20"
                                },
                                {
                                    "custid": "39",
                                    "companyname": "Customer GLLAG",
                                    "orderid": "10817",
                                    "productid": "26",
                                    "qty": "40"
                                },
                                {
                                    "custid": "39",
                                    "companyname": "Customer GLLAG",
                                    "orderid": "10817",
                                    "productid": "38",
                                    "qty": "30"
                                },
                                {
                                    "custid": "39",
                                    "companyname": "Customer GLLAG",
                                    "orderid": "10817",
                                    "productid": "40",
                                    "qty": "60"
                                },
                                {
                                    "custid": "39",
                                    "companyname": "Customer GLLAG",
                                    "orderid": "10817",
                                    "productid": "62",
                                    "qty": "25"
                                },
                                {
                                    "custid": "49",
                                    "companyname": "Customer CQRAA",
                                    "orderid": "10818",
                                    "productid": "32",
                                    "qty": "20"
                                },
                                {
                                    "custid": "49",
                                    "companyname": "Customer CQRAA",
                                    "orderid": "10818",
                                    "productid": "41",
                                    "qty": "20"
                                },
                                {
                                    "custid": "12",
                                    "companyname": "Customer PSNMQ",
                                    "orderid": "10819",
                                    "productid": "43",
                                    "qty": "7"
                                },
                                {
                                    "custid": "12",
                                    "companyname": "Customer PSNMQ",
                                    "orderid": "10819",
                                    "productid": "75",
                                    "qty": "20"
                                },
                                {
                                    "custid": "65",
                                    "companyname": "Customer NYUHS",
                                    "orderid": "10820",
                                    "productid": "56",
                                    "qty": "30"
                                },
                                {
                                    "custid": "75",
                                    "companyname": "Customer XOJYP",
                                    "orderid": "10821",
                                    "productid": "35",
                                    "qty": "20"
                                },
                                {
                                    "custid": "75",
                                    "companyname": "Customer XOJYP",
                                    "orderid": "10821",
                                    "productid": "51",
                                    "qty": "6"
                                },
                                {
                                    "custid": "82",
                                    "companyname": "Customer EYHKM",
                                    "orderid": "10822",
                                    "productid": "62",
                                    "qty": "3"
                                },
                                {
                                    "custid": "82",
                                    "companyname": "Customer EYHKM",
                                    "orderid": "10822",
                                    "productid": "70",
                                    "qty": "6"
                                },
                                {
                                    "custid": "46",
                                    "companyname": "Customer XPNIK",
                                    "orderid": "10823",
                                    "productid": "11",
                                    "qty": "20"
                                },
                                {
                                    "custid": "46",
                                    "companyname": "Customer XPNIK",
                                    "orderid": "10823",
                                    "productid": "57",
                                    "qty": "15"
                                },
                                {
                                    "custid": "46",
                                    "companyname": "Customer XPNIK",
                                    "orderid": "10823",
                                    "productid": "59",
                                    "qty": "40"
                                },
                                {
                                    "custid": "46",
                                    "companyname": "Customer XPNIK",
                                    "orderid": "10823",
                                    "productid": "77",
                                    "qty": "15"
                                },
                                {
                                    "custid": "24",
                                    "companyname": "Customer CYZTN",
                                    "orderid": "10824",
                                    "productid": "41",
                                    "qty": "12"
                                },
                                {
                                    "custid": "24",
                                    "companyname": "Customer CYZTN",
                                    "orderid": "10824",
                                    "productid": "70",
                                    "qty": "9"
                                },
                                {
                                    "custid": "17",
                                    "companyname": "Customer FEVNN",
                                    "orderid": "10825",
                                    "productid": "26",
                                    "qty": "12"
                                },
                                {
                                    "custid": "17",
                                    "companyname": "Customer FEVNN",
                                    "orderid": "10825",
                                    "productid": "53",
                                    "qty": "20"
                                },
                                {
                                    "custid": "7",
                                    "companyname": "Customer QXVLA",
                                    "orderid": "10826",
                                    "productid": "31",
                                    "qty": "35"
                                },
                                {
                                    "custid": "7",
                                    "companyname": "Customer QXVLA",
                                    "orderid": "10826",
                                    "productid": "57",
                                    "qty": "15"
                                },
                                {
                                    "custid": "9",
                                    "companyname": "Customer RTXGC",
                                    "orderid": "10827",
                                    "productid": "10",
                                    "qty": "15"
                                },
                                {
                                    "custid": "9",
                                    "companyname": "Customer RTXGC",
                                    "orderid": "10827",
                                    "productid": "39",
                                    "qty": "21"
                                },
                                {
                                    "custid": "64",
                                    "companyname": "Customer LWGMD",
                                    "orderid": "10828",
                                    "productid": "20",
                                    "qty": "5"
                                },
                                {
                                    "custid": "64",
                                    "companyname": "Customer LWGMD",
                                    "orderid": "10828",
                                    "productid": "38",
                                    "qty": "2"
                                },
                                {
                                    "custid": "38",
                                    "companyname": "Customer LJUCA",
                                    "orderid": "10829",
                                    "productid": "2",
                                    "qty": "10"
                                },
                                {
                                    "custid": "38",
                                    "companyname": "Customer LJUCA",
                                    "orderid": "10829",
                                    "productid": "8",
                                    "qty": "20"
                                },
                                {
                                    "custid": "38",
                                    "companyname": "Customer LJUCA",
                                    "orderid": "10829",
                                    "productid": "13",
                                    "qty": "10"
                                },
                                {
                                    "custid": "38",
                                    "companyname": "Customer LJUCA",
                                    "orderid": "10829",
                                    "productid": "60",
                                    "qty": "21"
                                },
                                {
                                    "custid": "81",
                                    "companyname": "Customer YQQWW",
                                    "orderid": "10830",
                                    "productid": "6",
                                    "qty": "6"
                                },
                                {
                                    "custid": "81",
                                    "companyname": "Customer YQQWW",
                                    "orderid": "10830",
                                    "productid": "39",
                                    "qty": "28"
                                },
                                {
                                    "custid": "81",
                                    "companyname": "Customer YQQWW",
                                    "orderid": "10830",
                                    "productid": "60",
                                    "qty": "30"
                                },
                                {
                                    "custid": "81",
                                    "companyname": "Customer YQQWW",
                                    "orderid": "10830",
                                    "productid": "68",
                                    "qty": "24"
                                },
                                {
                                    "custid": "70",
                                    "companyname": "Customer TMXGN",
                                    "orderid": "10831",
                                    "productid": "19",
                                    "qty": "2"
                                },
                                {
                                    "custid": "70",
                                    "companyname": "Customer TMXGN",
                                    "orderid": "10831",
                                    "productid": "35",
                                    "qty": "8"
                                },
                                {
                                    "custid": "70",
                                    "companyname": "Customer TMXGN",
                                    "orderid": "10831",
                                    "productid": "38",
                                    "qty": "8"
                                },
                                {
                                    "custid": "70",
                                    "companyname": "Customer TMXGN",
                                    "orderid": "10831",
                                    "productid": "43",
                                    "qty": "9"
                                },
                                {
                                    "custid": "41",
                                    "companyname": "Customer XIIWM",
                                    "orderid": "10832",
                                    "productid": "13",
                                    "qty": "3"
                                },
                                {
                                    "custid": "41",
                                    "companyname": "Customer XIIWM",
                                    "orderid": "10832",
                                    "productid": "25",
                                    "qty": "10"
                                },
                                {
                                    "custid": "41",
                                    "companyname": "Customer XIIWM",
                                    "orderid": "10832",
                                    "productid": "44",
                                    "qty": "16"
                                },
                                {
                                    "custid": "41",
                                    "companyname": "Customer XIIWM",
                                    "orderid": "10832",
                                    "productid": "64",
                                    "qty": "3"
                                },
                                {
                                    "custid": "56",
                                    "companyname": "Customer QNIVZ",
                                    "orderid": "10833",
                                    "productid": "7",
                                    "qty": "20"
                                },
                                {
                                    "custid": "56",
                                    "companyname": "Customer QNIVZ",
                                    "orderid": "10833",
                                    "productid": "31",
                                    "qty": "9"
                                },
                                {
                                    "custid": "56",
                                    "companyname": "Customer QNIVZ",
                                    "orderid": "10833",
                                    "productid": "53",
                                    "qty": "9"
                                },
                                {
                                    "custid": "81",
                                    "companyname": "Customer YQQWW",
                                    "orderid": "10834",
                                    "productid": "29",
                                    "qty": "8"
                                },
                                {
                                    "custid": "81",
                                    "companyname": "Customer YQQWW",
                                    "orderid": "10834",
                                    "productid": "30",
                                    "qty": "20"
                                },
                                {
                                    "custid": "1",
                                    "companyname": "Customer NRZBB",
                                    "orderid": "10835",
                                    "productid": "59",
                                    "qty": "15"
                                },
                                {
                                    "custid": "1",
                                    "companyname": "Customer NRZBB",
                                    "orderid": "10835",
                                    "productid": "77",
                                    "qty": "2"
                                },
                                {
                                    "custid": "20",
                                    "companyname": "Customer THHDP",
                                    "orderid": "10836",
                                    "productid": "22",
                                    "qty": "52"
                                },
                                {
                                    "custid": "20",
                                    "companyname": "Customer THHDP",
                                    "orderid": "10836",
                                    "productid": "35",
                                    "qty": "6"
                                },
                                {
                                    "custid": "20",
                                    "companyname": "Customer THHDP",
                                    "orderid": "10836",
                                    "productid": "57",
                                    "qty": "24"
                                },
                                {
                                    "custid": "20",
                                    "companyname": "Customer THHDP",
                                    "orderid": "10836",
                                    "productid": "60",
                                    "qty": "60"
                                },
                                {
                                    "custid": "20",
                                    "companyname": "Customer THHDP",
                                    "orderid": "10836",
                                    "productid": "64",
                                    "qty": "30"
                                },
                                {
                                    "custid": "5",
                                    "companyname": "Customer HGVLZ",
                                    "orderid": "10837",
                                    "productid": "13",
                                    "qty": "6"
                                },
                                {
                                    "custid": "5",
                                    "companyname": "Customer HGVLZ",
                                    "orderid": "10837",
                                    "productid": "40",
                                    "qty": "25"
                                },
                                {
                                    "custid": "5",
                                    "companyname": "Customer HGVLZ",
                                    "orderid": "10837",
                                    "productid": "47",
                                    "qty": "40"
                                },
                                {
                                    "custid": "5",
                                    "companyname": "Customer HGVLZ",
                                    "orderid": "10837",
                                    "productid": "76",
                                    "qty": "21"
                                },
                                {
                                    "custid": "47",
                                    "companyname": "Customer PSQUZ",
                                    "orderid": "10838",
                                    "productid": "1",
                                    "qty": "4"
                                },
                                {
                                    "custid": "47",
                                    "companyname": "Customer PSQUZ",
                                    "orderid": "10838",
                                    "productid": "18",
                                    "qty": "25"
                                },
                                {
                                    "custid": "47",
                                    "companyname": "Customer PSQUZ",
                                    "orderid": "10838",
                                    "productid": "36",
                                    "qty": "50"
                                },
                                {
                                    "custid": "81",
                                    "companyname": "Customer YQQWW",
                                    "orderid": "10839",
                                    "productid": "58",
                                    "qty": "30"
                                },
                                {
                                    "custid": "81",
                                    "companyname": "Customer YQQWW",
                                    "orderid": "10839",
                                    "productid": "72",
                                    "qty": "15"
                                },
                                {
                                    "custid": "47",
                                    "companyname": "Customer PSQUZ",
                                    "orderid": "10840",
                                    "productid": "25",
                                    "qty": "6"
                                },
                                {
                                    "custid": "47",
                                    "companyname": "Customer PSQUZ",
                                    "orderid": "10840",
                                    "productid": "39",
                                    "qty": "10"
                                },
                                {
                                    "custid": "76",
                                    "companyname": "Customer SFOGW",
                                    "orderid": "10841",
                                    "productid": "10",
                                    "qty": "16"
                                },
                                {
                                    "custid": "76",
                                    "companyname": "Customer SFOGW",
                                    "orderid": "10841",
                                    "productid": "56",
                                    "qty": "30"
                                },
                                {
                                    "custid": "76",
                                    "companyname": "Customer SFOGW",
                                    "orderid": "10841",
                                    "productid": "59",
                                    "qty": "50"
                                },
                                {
                                    "custid": "76",
                                    "companyname": "Customer SFOGW",
                                    "orderid": "10841",
                                    "productid": "77",
                                    "qty": "15"
                                },
                                {
                                    "custid": "80",
                                    "companyname": "Customer VONTK",
                                    "orderid": "10842",
                                    "productid": "11",
                                    "qty": "15"
                                },
                                {
                                    "custid": "80",
                                    "companyname": "Customer VONTK",
                                    "orderid": "10842",
                                    "productid": "43",
                                    "qty": "5"
                                },
                                {
                                    "custid": "80",
                                    "companyname": "Customer VONTK",
                                    "orderid": "10842",
                                    "productid": "68",
                                    "qty": "20"
                                },
                                {
                                    "custid": "80",
                                    "companyname": "Customer VONTK",
                                    "orderid": "10842",
                                    "productid": "70",
                                    "qty": "12"
                                },
                                {
                                    "custid": "84",
                                    "companyname": "Customer NRCSK",
                                    "orderid": "10843",
                                    "productid": "51",
                                    "qty": "4"
                                },
                                {
                                    "custid": "59",
                                    "companyname": "Customer LOLJO",
                                    "orderid": "10844",
                                    "productid": "22",
                                    "qty": "35"
                                },
                                {
                                    "custid": "63",
                                    "companyname": "Customer IRRVL",
                                    "orderid": "10845",
                                    "productid": "23",
                                    "qty": "70"
                                },
                                {
                                    "custid": "63",
                                    "companyname": "Customer IRRVL",
                                    "orderid": "10845",
                                    "productid": "35",
                                    "qty": "25"
                                },
                                {
                                    "custid": "63",
                                    "companyname": "Customer IRRVL",
                                    "orderid": "10845",
                                    "productid": "42",
                                    "qty": "42"
                                },
                                {
                                    "custid": "63",
                                    "companyname": "Customer IRRVL",
                                    "orderid": "10845",
                                    "productid": "58",
                                    "qty": "60"
                                },
                                {
                                    "custid": "63",
                                    "companyname": "Customer IRRVL",
                                    "orderid": "10845",
                                    "productid": "64",
                                    "qty": "48"
                                },
                                {
                                    "custid": "76",
                                    "companyname": "Customer SFOGW",
                                    "orderid": "10846",
                                    "productid": "4",
                                    "qty": "21"
                                },
                                {
                                    "custid": "76",
                                    "companyname": "Customer SFOGW",
                                    "orderid": "10846",
                                    "productid": "70",
                                    "qty": "30"
                                },
                                {
                                    "custid": "76",
                                    "companyname": "Customer SFOGW",
                                    "orderid": "10846",
                                    "productid": "74",
                                    "qty": "20"
                                },
                                {
                                    "custid": "71",
                                    "companyname": "Customer LCOUJ",
                                    "orderid": "10847",
                                    "productid": "1",
                                    "qty": "80"
                                },
                                {
                                    "custid": "71",
                                    "companyname": "Customer LCOUJ",
                                    "orderid": "10847",
                                    "productid": "19",
                                    "qty": "12"
                                },
                                {
                                    "custid": "71",
                                    "companyname": "Customer LCOUJ",
                                    "orderid": "10847",
                                    "productid": "37",
                                    "qty": "60"
                                },
                                {
                                    "custid": "71",
                                    "companyname": "Customer LCOUJ",
                                    "orderid": "10847",
                                    "productid": "45",
                                    "qty": "36"
                                },
                                {
                                    "custid": "71",
                                    "companyname": "Customer LCOUJ",
                                    "orderid": "10847",
                                    "productid": "60",
                                    "qty": "45"
                                },
                                {
                                    "custid": "71",
                                    "companyname": "Customer LCOUJ",
                                    "orderid": "10847",
                                    "productid": "71",
                                    "qty": "55"
                                },
                                {
                                    "custid": "16",
                                    "companyname": "Customer GYBBY",
                                    "orderid": "10848",
                                    "productid": "5",
                                    "qty": "30"
                                },
                                {
                                    "custid": "16",
                                    "companyname": "Customer GYBBY",
                                    "orderid": "10848",
                                    "productid": "9",
                                    "qty": "3"
                                },
                                {
                                    "custid": "39",
                                    "companyname": "Customer GLLAG",
                                    "orderid": "10849",
                                    "productid": "3",
                                    "qty": "49"
                                },
                                {
                                    "custid": "39",
                                    "companyname": "Customer GLLAG",
                                    "orderid": "10849",
                                    "productid": "26",
                                    "qty": "18"
                                },
                                {
                                    "custid": "84",
                                    "companyname": "Customer NRCSK",
                                    "orderid": "10850",
                                    "productid": "25",
                                    "qty": "20"
                                },
                                {
                                    "custid": "84",
                                    "companyname": "Customer NRCSK",
                                    "orderid": "10850",
                                    "productid": "33",
                                    "qty": "4"
                                },
                                {
                                    "custid": "84",
                                    "companyname": "Customer NRCSK",
                                    "orderid": "10850",
                                    "productid": "70",
                                    "qty": "30"
                                },
                                {
                                    "custid": "67",
                                    "companyname": "Customer QVEPD",
                                    "orderid": "10851",
                                    "productid": "2",
                                    "qty": "5"
                                },
                                {
                                    "custid": "67",
                                    "companyname": "Customer QVEPD",
                                    "orderid": "10851",
                                    "productid": "25",
                                    "qty": "10"
                                },
                                {
                                    "custid": "67",
                                    "companyname": "Customer QVEPD",
                                    "orderid": "10851",
                                    "productid": "57",
                                    "qty": "10"
                                },
                                {
                                    "custid": "67",
                                    "companyname": "Customer QVEPD",
                                    "orderid": "10851",
                                    "productid": "59",
                                    "qty": "42"
                                },
                                {
                                    "custid": "65",
                                    "companyname": "Customer NYUHS",
                                    "orderid": "10852",
                                    "productid": "2",
                                    "qty": "15"
                                },
                                {
                                    "custid": "65",
                                    "companyname": "Customer NYUHS",
                                    "orderid": "10852",
                                    "productid": "17",
                                    "qty": "6"
                                },
                                {
                                    "custid": "65",
                                    "companyname": "Customer NYUHS",
                                    "orderid": "10852",
                                    "productid": "62",
                                    "qty": "50"
                                },
                                {
                                    "custid": "6",
                                    "companyname": "Customer XHXJV",
                                    "orderid": "10853",
                                    "productid": "18",
                                    "qty": "10"
                                },
                                {
                                    "custid": "20",
                                    "companyname": "Customer THHDP",
                                    "orderid": "10854",
                                    "productid": "10",
                                    "qty": "100"
                                },
                                {
                                    "custid": "20",
                                    "companyname": "Customer THHDP",
                                    "orderid": "10854",
                                    "productid": "13",
                                    "qty": "65"
                                },
                                {
                                    "custid": "55",
                                    "companyname": "Customer KZQZT",
                                    "orderid": "10855",
                                    "productid": "16",
                                    "qty": "50"
                                },
                                {
                                    "custid": "55",
                                    "companyname": "Customer KZQZT",
                                    "orderid": "10855",
                                    "productid": "31",
                                    "qty": "14"
                                },
                                {
                                    "custid": "55",
                                    "companyname": "Customer KZQZT",
                                    "orderid": "10855",
                                    "productid": "56",
                                    "qty": "24"
                                },
                                {
                                    "custid": "55",
                                    "companyname": "Customer KZQZT",
                                    "orderid": "10855",
                                    "productid": "65",
                                    "qty": "15"
                                },
                                {
                                    "custid": "3",
                                    "companyname": "Customer KBUDE",
                                    "orderid": "10856",
                                    "productid": "2",
                                    "qty": "20"
                                },
                                {
                                    "custid": "3",
                                    "companyname": "Customer KBUDE",
                                    "orderid": "10856",
                                    "productid": "42",
                                    "qty": "20"
                                },
                                {
                                    "custid": "5",
                                    "companyname": "Customer HGVLZ",
                                    "orderid": "10857",
                                    "productid": "3",
                                    "qty": "30"
                                },
                                {
                                    "custid": "5",
                                    "companyname": "Customer HGVLZ",
                                    "orderid": "10857",
                                    "productid": "26",
                                    "qty": "35"
                                },
                                {
                                    "custid": "5",
                                    "companyname": "Customer HGVLZ",
                                    "orderid": "10857",
                                    "productid": "29",
                                    "qty": "10"
                                },
                                {
                                    "custid": "40",
                                    "companyname": "Customer EFFTC",
                                    "orderid": "10858",
                                    "productid": "7",
                                    "qty": "5"
                                },
                                {
                                    "custid": "40",
                                    "companyname": "Customer EFFTC",
                                    "orderid": "10858",
                                    "productid": "27",
                                    "qty": "10"
                                },
                                {
                                    "custid": "40",
                                    "companyname": "Customer EFFTC",
                                    "orderid": "10858",
                                    "productid": "70",
                                    "qty": "4"
                                },
                                {
                                    "custid": "25",
                                    "companyname": "Customer AZJED",
                                    "orderid": "10859",
                                    "productid": "24",
                                    "qty": "40"
                                },
                                {
                                    "custid": "25",
                                    "companyname": "Customer AZJED",
                                    "orderid": "10859",
                                    "productid": "54",
                                    "qty": "35"
                                },
                                {
                                    "custid": "25",
                                    "companyname": "Customer AZJED",
                                    "orderid": "10859",
                                    "productid": "64",
                                    "qty": "30"
                                },
                                {
                                    "custid": "26",
                                    "companyname": "Customer USDBG",
                                    "orderid": "10860",
                                    "productid": "51",
                                    "qty": "3"
                                },
                                {
                                    "custid": "26",
                                    "companyname": "Customer USDBG",
                                    "orderid": "10860",
                                    "productid": "76",
                                    "qty": "20"
                                },
                                {
                                    "custid": "89",
                                    "companyname": "Customer YBQTI",
                                    "orderid": "10861",
                                    "productid": "17",
                                    "qty": "42"
                                },
                                {
                                    "custid": "89",
                                    "companyname": "Customer YBQTI",
                                    "orderid": "10861",
                                    "productid": "18",
                                    "qty": "20"
                                },
                                {
                                    "custid": "89",
                                    "companyname": "Customer YBQTI",
                                    "orderid": "10861",
                                    "productid": "21",
                                    "qty": "40"
                                },
                                {
                                    "custid": "89",
                                    "companyname": "Customer YBQTI",
                                    "orderid": "10861",
                                    "productid": "33",
                                    "qty": "35"
                                },
                                {
                                    "custid": "89",
                                    "companyname": "Customer YBQTI",
                                    "orderid": "10861",
                                    "productid": "62",
                                    "qty": "3"
                                },
                                {
                                    "custid": "44",
                                    "companyname": "Customer OXFRU",
                                    "orderid": "10862",
                                    "productid": "11",
                                    "qty": "25"
                                },
                                {
                                    "custid": "44",
                                    "companyname": "Customer OXFRU",
                                    "orderid": "10862",
                                    "productid": "52",
                                    "qty": "8"
                                },
                                {
                                    "custid": "35",
                                    "companyname": "Customer UMTLM",
                                    "orderid": "10863",
                                    "productid": "1",
                                    "qty": "20"
                                },
                                {
                                    "custid": "35",
                                    "companyname": "Customer UMTLM",
                                    "orderid": "10863",
                                    "productid": "58",
                                    "qty": "12"
                                },
                                {
                                    "custid": "4",
                                    "companyname": "Customer HFBZG",
                                    "orderid": "10864",
                                    "productid": "35",
                                    "qty": "4"
                                },
                                {
                                    "custid": "4",
                                    "companyname": "Customer HFBZG",
                                    "orderid": "10864",
                                    "productid": "67",
                                    "qty": "15"
                                },
                                {
                                    "custid": "63",
                                    "companyname": "Customer IRRVL",
                                    "orderid": "10865",
                                    "productid": "38",
                                    "qty": "60"
                                },
                                {
                                    "custid": "63",
                                    "companyname": "Customer IRRVL",
                                    "orderid": "10865",
                                    "productid": "39",
                                    "qty": "80"
                                },
                                {
                                    "custid": "5",
                                    "companyname": "Customer HGVLZ",
                                    "orderid": "10866",
                                    "productid": "2",
                                    "qty": "21"
                                },
                                {
                                    "custid": "5",
                                    "companyname": "Customer HGVLZ",
                                    "orderid": "10866",
                                    "productid": "24",
                                    "qty": "6"
                                },
                                {
                                    "custid": "5",
                                    "companyname": "Customer HGVLZ",
                                    "orderid": "10866",
                                    "productid": "30",
                                    "qty": "40"
                                },
                                {
                                    "custid": "48",
                                    "companyname": "Customer DVFMB",
                                    "orderid": "10867",
                                    "productid": "53",
                                    "qty": "3"
                                },
                                {
                                    "custid": "62",
                                    "companyname": "Customer WFIZJ",
                                    "orderid": "10868",
                                    "productid": "26",
                                    "qty": "20"
                                },
                                {
                                    "custid": "62",
                                    "companyname": "Customer WFIZJ",
                                    "orderid": "10868",
                                    "productid": "35",
                                    "qty": "30"
                                },
                                {
                                    "custid": "62",
                                    "companyname": "Customer WFIZJ",
                                    "orderid": "10868",
                                    "productid": "49",
                                    "qty": "42"
                                },
                                {
                                    "custid": "72",
                                    "companyname": "Customer AHPOP",
                                    "orderid": "10869",
                                    "productid": "1",
                                    "qty": "40"
                                },
                                {
                                    "custid": "72",
                                    "companyname": "Customer AHPOP",
                                    "orderid": "10869",
                                    "productid": "11",
                                    "qty": "10"
                                },
                                {
                                    "custid": "72",
                                    "companyname": "Customer AHPOP",
                                    "orderid": "10869",
                                    "productid": "23",
                                    "qty": "50"
                                },
                                {
                                    "custid": "72",
                                    "companyname": "Customer AHPOP",
                                    "orderid": "10869",
                                    "productid": "68",
                                    "qty": "20"
                                },
                                {
                                    "custid": "91",
                                    "companyname": "Customer CCFIZ",
                                    "orderid": "10870",
                                    "productid": "35",
                                    "qty": "3"
                                },
                                {
                                    "custid": "91",
                                    "companyname": "Customer CCFIZ",
                                    "orderid": "10870",
                                    "productid": "51",
                                    "qty": "2"
                                },
                                {
                                    "custid": "9",
                                    "companyname": "Customer RTXGC",
                                    "orderid": "10871",
                                    "productid": "6",
                                    "qty": "50"
                                },
                                {
                                    "custid": "9",
                                    "companyname": "Customer RTXGC",
                                    "orderid": "10871",
                                    "productid": "16",
                                    "qty": "12"
                                },
                                {
                                    "custid": "9",
                                    "companyname": "Customer RTXGC",
                                    "orderid": "10871",
                                    "productid": "17",
                                    "qty": "16"
                                },
                                {
                                    "custid": "30",
                                    "companyname": "Customer KSLQF",
                                    "orderid": "10872",
                                    "productid": "55",
                                    "qty": "10"
                                },
                                {
                                    "custid": "30",
                                    "companyname": "Customer KSLQF",
                                    "orderid": "10872",
                                    "productid": "62",
                                    "qty": "20"
                                },
                                {
                                    "custid": "30",
                                    "companyname": "Customer KSLQF",
                                    "orderid": "10872",
                                    "productid": "64",
                                    "qty": "15"
                                },
                                {
                                    "custid": "30",
                                    "companyname": "Customer KSLQF",
                                    "orderid": "10872",
                                    "productid": "65",
                                    "qty": "21"
                                },
                                {
                                    "custid": "90",
                                    "companyname": "Customer XBBVR",
                                    "orderid": "10873",
                                    "productid": "21",
                                    "qty": "20"
                                },
                                {
                                    "custid": "90",
                                    "companyname": "Customer XBBVR",
                                    "orderid": "10873",
                                    "productid": "28",
                                    "qty": "3"
                                },
                                {
                                    "custid": "30",
                                    "companyname": "Customer KSLQF",
                                    "orderid": "10874",
                                    "productid": "10",
                                    "qty": "10"
                                },
                                {
                                    "custid": "5",
                                    "companyname": "Customer HGVLZ",
                                    "orderid": "10875",
                                    "productid": "19",
                                    "qty": "25"
                                },
                                {
                                    "custid": "5",
                                    "companyname": "Customer HGVLZ",
                                    "orderid": "10875",
                                    "productid": "47",
                                    "qty": "21"
                                },
                                {
                                    "custid": "5",
                                    "companyname": "Customer HGVLZ",
                                    "orderid": "10875",
                                    "productid": "49",
                                    "qty": "15"
                                },
                                {
                                    "custid": "9",
                                    "companyname": "Customer RTXGC",
                                    "orderid": "10876",
                                    "productid": "46",
                                    "qty": "21"
                                },
                                {
                                    "custid": "9",
                                    "companyname": "Customer RTXGC",
                                    "orderid": "10876",
                                    "productid": "64",
                                    "qty": "20"
                                },
                                {
                                    "custid": "67",
                                    "companyname": "Customer QVEPD",
                                    "orderid": "10877",
                                    "productid": "16",
                                    "qty": "30"
                                },
                                {
                                    "custid": "67",
                                    "companyname": "Customer QVEPD",
                                    "orderid": "10877",
                                    "productid": "18",
                                    "qty": "25"
                                },
                                {
                                    "custid": "63",
                                    "companyname": "Customer IRRVL",
                                    "orderid": "10878",
                                    "productid": "20",
                                    "qty": "20"
                                },
                                {
                                    "custid": "90",
                                    "companyname": "Customer XBBVR",
                                    "orderid": "10879",
                                    "productid": "40",
                                    "qty": "12"
                                },
                                {
                                    "custid": "90",
                                    "companyname": "Customer XBBVR",
                                    "orderid": "10879",
                                    "productid": "65",
                                    "qty": "10"
                                },
                                {
                                    "custid": "90",
                                    "companyname": "Customer XBBVR",
                                    "orderid": "10879",
                                    "productid": "76",
                                    "qty": "10"
                                },
                                {
                                    "custid": "24",
                                    "companyname": "Customer CYZTN",
                                    "orderid": "10880",
                                    "productid": "23",
                                    "qty": "30"
                                },
                                {
                                    "custid": "24",
                                    "companyname": "Customer CYZTN",
                                    "orderid": "10880",
                                    "productid": "61",
                                    "qty": "30"
                                },
                                {
                                    "custid": "24",
                                    "companyname": "Customer CYZTN",
                                    "orderid": "10880",
                                    "productid": "70",
                                    "qty": "50"
                                },
                                {
                                    "custid": "12",
                                    "companyname": "Customer PSNMQ",
                                    "orderid": "10881",
                                    "productid": "73",
                                    "qty": "10"
                                },
                                {
                                    "custid": "71",
                                    "companyname": "Customer LCOUJ",
                                    "orderid": "10882",
                                    "productid": "42",
                                    "qty": "25"
                                },
                                {
                                    "custid": "71",
                                    "companyname": "Customer LCOUJ",
                                    "orderid": "10882",
                                    "productid": "49",
                                    "qty": "20"
                                },
                                {
                                    "custid": "71",
                                    "companyname": "Customer LCOUJ",
                                    "orderid": "10882",
                                    "productid": "54",
                                    "qty": "32"
                                },
                                {
                                    "custid": "48",
                                    "companyname": "Customer DVFMB",
                                    "orderid": "10883",
                                    "productid": "24",
                                    "qty": "8"
                                },
                                {
                                    "custid": "45",
                                    "companyname": "Customer QXPPT",
                                    "orderid": "10884",
                                    "productid": "21",
                                    "qty": "40"
                                },
                                {
                                    "custid": "45",
                                    "companyname": "Customer QXPPT",
                                    "orderid": "10884",
                                    "productid": "56",
                                    "qty": "21"
                                },
                                {
                                    "custid": "45",
                                    "companyname": "Customer QXPPT",
                                    "orderid": "10884",
                                    "productid": "65",
                                    "qty": "12"
                                },
                                {
                                    "custid": "76",
                                    "companyname": "Customer SFOGW",
                                    "orderid": "10885",
                                    "productid": "2",
                                    "qty": "20"
                                },
                                {
                                    "custid": "76",
                                    "companyname": "Customer SFOGW",
                                    "orderid": "10885",
                                    "productid": "24",
                                    "qty": "12"
                                },
                                {
                                    "custid": "76",
                                    "companyname": "Customer SFOGW",
                                    "orderid": "10885",
                                    "productid": "70",
                                    "qty": "30"
                                },
                                {
                                    "custid": "76",
                                    "companyname": "Customer SFOGW",
                                    "orderid": "10885",
                                    "productid": "77",
                                    "qty": "25"
                                },
                                {
                                    "custid": "34",
                                    "companyname": "Customer IBVRG",
                                    "orderid": "10886",
                                    "productid": "10",
                                    "qty": "70"
                                },
                                {
                                    "custid": "34",
                                    "companyname": "Customer IBVRG",
                                    "orderid": "10886",
                                    "productid": "31",
                                    "qty": "35"
                                },
                                {
                                    "custid": "34",
                                    "companyname": "Customer IBVRG",
                                    "orderid": "10886",
                                    "productid": "77",
                                    "qty": "40"
                                },
                                {
                                    "custid": "29",
                                    "companyname": "Customer MDLWA",
                                    "orderid": "10887",
                                    "productid": "25",
                                    "qty": "5"
                                },
                                {
                                    "custid": "30",
                                    "companyname": "Customer KSLQF",
                                    "orderid": "10888",
                                    "productid": "2",
                                    "qty": "20"
                                },
                                {
                                    "custid": "30",
                                    "companyname": "Customer KSLQF",
                                    "orderid": "10888",
                                    "productid": "68",
                                    "qty": "18"
                                },
                                {
                                    "custid": "65",
                                    "companyname": "Customer NYUHS",
                                    "orderid": "10889",
                                    "productid": "11",
                                    "qty": "40"
                                },
                                {
                                    "custid": "65",
                                    "companyname": "Customer NYUHS",
                                    "orderid": "10889",
                                    "productid": "38",
                                    "qty": "40"
                                },
                                {
                                    "custid": "18",
                                    "companyname": "Customer BSVAR",
                                    "orderid": "10890",
                                    "productid": "17",
                                    "qty": "15"
                                },
                                {
                                    "custid": "18",
                                    "companyname": "Customer BSVAR",
                                    "orderid": "10890",
                                    "productid": "34",
                                    "qty": "10"
                                },
                                {
                                    "custid": "18",
                                    "companyname": "Customer BSVAR",
                                    "orderid": "10890",
                                    "productid": "41",
                                    "qty": "14"
                                },
                                {
                                    "custid": "44",
                                    "companyname": "Customer OXFRU",
                                    "orderid": "10891",
                                    "productid": "30",
                                    "qty": "15"
                                },
                                {
                                    "custid": "50",
                                    "companyname": "Customer JYPSC",
                                    "orderid": "10892",
                                    "productid": "59",
                                    "qty": "40"
                                },
                                {
                                    "custid": "39",
                                    "companyname": "Customer GLLAG",
                                    "orderid": "10893",
                                    "productid": "8",
                                    "qty": "30"
                                },
                                {
                                    "custid": "39",
                                    "companyname": "Customer GLLAG",
                                    "orderid": "10893",
                                    "productid": "24",
                                    "qty": "10"
                                },
                                {
                                    "custid": "39",
                                    "companyname": "Customer GLLAG",
                                    "orderid": "10893",
                                    "productid": "29",
                                    "qty": "24"
                                },
                                {
                                    "custid": "39",
                                    "companyname": "Customer GLLAG",
                                    "orderid": "10893",
                                    "productid": "30",
                                    "qty": "35"
                                },
                                {
                                    "custid": "39",
                                    "companyname": "Customer GLLAG",
                                    "orderid": "10893",
                                    "productid": "36",
                                    "qty": "20"
                                },
                                {
                                    "custid": "71",
                                    "companyname": "Customer LCOUJ",
                                    "orderid": "10894",
                                    "productid": "13",
                                    "qty": "28"
                                },
                                {
                                    "custid": "71",
                                    "companyname": "Customer LCOUJ",
                                    "orderid": "10894",
                                    "productid": "69",
                                    "qty": "50"
                                },
                                {
                                    "custid": "71",
                                    "companyname": "Customer LCOUJ",
                                    "orderid": "10894",
                                    "productid": "75",
                                    "qty": "120"
                                },
                                {
                                    "custid": "20",
                                    "companyname": "Customer THHDP",
                                    "orderid": "10895",
                                    "productid": "24",
                                    "qty": "110"
                                },
                                {
                                    "custid": "20",
                                    "companyname": "Customer THHDP",
                                    "orderid": "10895",
                                    "productid": "39",
                                    "qty": "45"
                                },
                                {
                                    "custid": "20",
                                    "companyname": "Customer THHDP",
                                    "orderid": "10895",
                                    "productid": "40",
                                    "qty": "91"
                                },
                                {
                                    "custid": "20",
                                    "companyname": "Customer THHDP",
                                    "orderid": "10895",
                                    "productid": "60",
                                    "qty": "100"
                                },
                                {
                                    "custid": "50",
                                    "companyname": "Customer JYPSC",
                                    "orderid": "10896",
                                    "productid": "45",
                                    "qty": "15"
                                },
                                {
                                    "custid": "50",
                                    "companyname": "Customer JYPSC",
                                    "orderid": "10896",
                                    "productid": "56",
                                    "qty": "16"
                                },
                                {
                                    "custid": "37",
                                    "companyname": "Customer FRXZL",
                                    "orderid": "10897",
                                    "productid": "29",
                                    "qty": "80"
                                },
                                {
                                    "custid": "37",
                                    "companyname": "Customer FRXZL",
                                    "orderid": "10897",
                                    "productid": "30",
                                    "qty": "36"
                                },
                                {
                                    "custid": "54",
                                    "companyname": "Customer TDKEG",
                                    "orderid": "10898",
                                    "productid": "13",
                                    "qty": "5"
                                },
                                {
                                    "custid": "46",
                                    "companyname": "Customer XPNIK",
                                    "orderid": "10899",
                                    "productid": "39",
                                    "qty": "8"
                                },
                                {
                                    "custid": "88",
                                    "companyname": "Customer SRQVM",
                                    "orderid": "10900",
                                    "productid": "70",
                                    "qty": "3"
                                },
                                {
                                    "custid": "35",
                                    "companyname": "Customer UMTLM",
                                    "orderid": "10901",
                                    "productid": "41",
                                    "qty": "30"
                                },
                                {
                                    "custid": "35",
                                    "companyname": "Customer UMTLM",
                                    "orderid": "10901",
                                    "productid": "71",
                                    "qty": "30"
                                },
                                {
                                    "custid": "24",
                                    "companyname": "Customer CYZTN",
                                    "orderid": "10902",
                                    "productid": "55",
                                    "qty": "30"
                                },
                                {
                                    "custid": "24",
                                    "companyname": "Customer CYZTN",
                                    "orderid": "10902",
                                    "productid": "62",
                                    "qty": "6"
                                },
                                {
                                    "custid": "34",
                                    "companyname": "Customer IBVRG",
                                    "orderid": "10903",
                                    "productid": "13",
                                    "qty": "40"
                                },
                                {
                                    "custid": "34",
                                    "companyname": "Customer IBVRG",
                                    "orderid": "10903",
                                    "productid": "65",
                                    "qty": "21"
                                },
                                {
                                    "custid": "34",
                                    "companyname": "Customer IBVRG",
                                    "orderid": "10903",
                                    "productid": "68",
                                    "qty": "20"
                                },
                                {
                                    "custid": "89",
                                    "companyname": "Customer YBQTI",
                                    "orderid": "10904",
                                    "productid": "58",
                                    "qty": "15"
                                },
                                {
                                    "custid": "89",
                                    "companyname": "Customer YBQTI",
                                    "orderid": "10904",
                                    "productid": "62",
                                    "qty": "35"
                                },
                                {
                                    "custid": "88",
                                    "companyname": "Customer SRQVM",
                                    "orderid": "10905",
                                    "productid": "1",
                                    "qty": "20"
                                },
                                {
                                    "custid": "91",
                                    "companyname": "Customer CCFIZ",
                                    "orderid": "10906",
                                    "productid": "61",
                                    "qty": "15"
                                },
                                {
                                    "custid": "74",
                                    "companyname": "Customer YSHXL",
                                    "orderid": "10907",
                                    "productid": "75",
                                    "qty": "14"
                                },
                                {
                                    "custid": "66",
                                    "companyname": "Customer LHANT",
                                    "orderid": "10908",
                                    "productid": "7",
                                    "qty": "20"
                                },
                                {
                                    "custid": "66",
                                    "companyname": "Customer LHANT",
                                    "orderid": "10908",
                                    "productid": "52",
                                    "qty": "14"
                                },
                                {
                                    "custid": "70",
                                    "companyname": "Customer TMXGN",
                                    "orderid": "10909",
                                    "productid": "7",
                                    "qty": "12"
                                },
                                {
                                    "custid": "70",
                                    "companyname": "Customer TMXGN",
                                    "orderid": "10909",
                                    "productid": "16",
                                    "qty": "15"
                                },
                                {
                                    "custid": "70",
                                    "companyname": "Customer TMXGN",
                                    "orderid": "10909",
                                    "productid": "41",
                                    "qty": "5"
                                },
                                {
                                    "custid": "90",
                                    "companyname": "Customer XBBVR",
                                    "orderid": "10910",
                                    "productid": "19",
                                    "qty": "12"
                                },
                                {
                                    "custid": "90",
                                    "companyname": "Customer XBBVR",
                                    "orderid": "10910",
                                    "productid": "49",
                                    "qty": "10"
                                },
                                {
                                    "custid": "90",
                                    "companyname": "Customer XBBVR",
                                    "orderid": "10910",
                                    "productid": "61",
                                    "qty": "5"
                                },
                                {
                                    "custid": "30",
                                    "companyname": "Customer KSLQF",
                                    "orderid": "10911",
                                    "productid": "1",
                                    "qty": "10"
                                },
                                {
                                    "custid": "30",
                                    "companyname": "Customer KSLQF",
                                    "orderid": "10911",
                                    "productid": "17",
                                    "qty": "12"
                                },
                                {
                                    "custid": "30",
                                    "companyname": "Customer KSLQF",
                                    "orderid": "10911",
                                    "productid": "67",
                                    "qty": "15"
                                },
                                {
                                    "custid": "37",
                                    "companyname": "Customer FRXZL",
                                    "orderid": "10912",
                                    "productid": "11",
                                    "qty": "40"
                                },
                                {
                                    "custid": "37",
                                    "companyname": "Customer FRXZL",
                                    "orderid": "10912",
                                    "productid": "29",
                                    "qty": "60"
                                },
                                {
                                    "custid": "62",
                                    "companyname": "Customer WFIZJ",
                                    "orderid": "10913",
                                    "productid": "4",
                                    "qty": "30"
                                },
                                {
                                    "custid": "62",
                                    "companyname": "Customer WFIZJ",
                                    "orderid": "10913",
                                    "productid": "33",
                                    "qty": "40"
                                },
                                {
                                    "custid": "62",
                                    "companyname": "Customer WFIZJ",
                                    "orderid": "10913",
                                    "productid": "58",
                                    "qty": "15"
                                },
                                {
                                    "custid": "62",
                                    "companyname": "Customer WFIZJ",
                                    "orderid": "10914",
                                    "productid": "71",
                                    "qty": "25"
                                },
                                {
                                    "custid": "80",
                                    "companyname": "Customer VONTK",
                                    "orderid": "10915",
                                    "productid": "17",
                                    "qty": "10"
                                },
                                {
                                    "custid": "80",
                                    "companyname": "Customer VONTK",
                                    "orderid": "10915",
                                    "productid": "33",
                                    "qty": "30"
                                },
                                {
                                    "custid": "80",
                                    "companyname": "Customer VONTK",
                                    "orderid": "10915",
                                    "productid": "54",
                                    "qty": "10"
                                },
                                {
                                    "custid": "64",
                                    "companyname": "Customer LWGMD",
                                    "orderid": "10916",
                                    "productid": "16",
                                    "qty": "6"
                                },
                                {
                                    "custid": "64",
                                    "companyname": "Customer LWGMD",
                                    "orderid": "10916",
                                    "productid": "32",
                                    "qty": "6"
                                },
                                {
                                    "custid": "64",
                                    "companyname": "Customer LWGMD",
                                    "orderid": "10916",
                                    "productid": "57",
                                    "qty": "20"
                                },
                                {
                                    "custid": "69",
                                    "companyname": "Customer SIUIH",
                                    "orderid": "10917",
                                    "productid": "30",
                                    "qty": "1"
                                },
                                {
                                    "custid": "69",
                                    "companyname": "Customer SIUIH",
                                    "orderid": "10917",
                                    "productid": "60",
                                    "qty": "10"
                                },
                                {
                                    "custid": "10",
                                    "companyname": "Customer EEALV",
                                    "orderid": "10918",
                                    "productid": "1",
                                    "qty": "60"
                                },
                                {
                                    "custid": "10",
                                    "companyname": "Customer EEALV",
                                    "orderid": "10918",
                                    "productid": "60",
                                    "qty": "25"
                                },
                                {
                                    "custid": "47",
                                    "companyname": "Customer PSQUZ",
                                    "orderid": "10919",
                                    "productid": "16",
                                    "qty": "24"
                                },
                                {
                                    "custid": "47",
                                    "companyname": "Customer PSQUZ",
                                    "orderid": "10919",
                                    "productid": "25",
                                    "qty": "24"
                                },
                                {
                                    "custid": "47",
                                    "companyname": "Customer PSQUZ",
                                    "orderid": "10919",
                                    "productid": "40",
                                    "qty": "20"
                                },
                                {
                                    "custid": "4",
                                    "companyname": "Customer HFBZG",
                                    "orderid": "10920",
                                    "productid": "50",
                                    "qty": "24"
                                },
                                {
                                    "custid": "83",
                                    "companyname": "Customer ZRNDE",
                                    "orderid": "10921",
                                    "productid": "35",
                                    "qty": "10"
                                },
                                {
                                    "custid": "83",
                                    "companyname": "Customer ZRNDE",
                                    "orderid": "10921",
                                    "productid": "63",
                                    "qty": "40"
                                },
                                {
                                    "custid": "34",
                                    "companyname": "Customer IBVRG",
                                    "orderid": "10922",
                                    "productid": "17",
                                    "qty": "15"
                                },
                                {
                                    "custid": "34",
                                    "companyname": "Customer IBVRG",
                                    "orderid": "10922",
                                    "productid": "24",
                                    "qty": "35"
                                },
                                {
                                    "custid": "41",
                                    "companyname": "Customer XIIWM",
                                    "orderid": "10923",
                                    "productid": "42",
                                    "qty": "10"
                                },
                                {
                                    "custid": "41",
                                    "companyname": "Customer XIIWM",
                                    "orderid": "10923",
                                    "productid": "43",
                                    "qty": "10"
                                },
                                {
                                    "custid": "41",
                                    "companyname": "Customer XIIWM",
                                    "orderid": "10923",
                                    "productid": "67",
                                    "qty": "24"
                                },
                                {
                                    "custid": "5",
                                    "companyname": "Customer HGVLZ",
                                    "orderid": "10924",
                                    "productid": "10",
                                    "qty": "20"
                                },
                                {
                                    "custid": "5",
                                    "companyname": "Customer HGVLZ",
                                    "orderid": "10924",
                                    "productid": "28",
                                    "qty": "30"
                                },
                                {
                                    "custid": "5",
                                    "companyname": "Customer HGVLZ",
                                    "orderid": "10924",
                                    "productid": "75",
                                    "qty": "6"
                                },
                                {
                                    "custid": "34",
                                    "companyname": "Customer IBVRG",
                                    "orderid": "10925",
                                    "productid": "36",
                                    "qty": "25"
                                },
                                {
                                    "custid": "34",
                                    "companyname": "Customer IBVRG",
                                    "orderid": "10925",
                                    "productid": "52",
                                    "qty": "12"
                                },
                                {
                                    "custid": "2",
                                    "companyname": "Customer MLTDN",
                                    "orderid": "10926",
                                    "productid": "11",
                                    "qty": "2"
                                },
                                {
                                    "custid": "2",
                                    "companyname": "Customer MLTDN",
                                    "orderid": "10926",
                                    "productid": "13",
                                    "qty": "10"
                                },
                                {
                                    "custid": "2",
                                    "companyname": "Customer MLTDN",
                                    "orderid": "10926",
                                    "productid": "19",
                                    "qty": "7"
                                },
                                {
                                    "custid": "2",
                                    "companyname": "Customer MLTDN",
                                    "orderid": "10926",
                                    "productid": "72",
                                    "qty": "10"
                                },
                                {
                                    "custid": "40",
                                    "companyname": "Customer EFFTC",
                                    "orderid": "10927",
                                    "productid": "20",
                                    "qty": "5"
                                },
                                {
                                    "custid": "40",
                                    "companyname": "Customer EFFTC",
                                    "orderid": "10927",
                                    "productid": "52",
                                    "qty": "5"
                                },
                                {
                                    "custid": "40",
                                    "companyname": "Customer EFFTC",
                                    "orderid": "10927",
                                    "productid": "76",
                                    "qty": "20"
                                },
                                {
                                    "custid": "29",
                                    "companyname": "Customer MDLWA",
                                    "orderid": "10928",
                                    "productid": "47",
                                    "qty": "5"
                                },
                                {
                                    "custid": "29",
                                    "companyname": "Customer MDLWA",
                                    "orderid": "10928",
                                    "productid": "76",
                                    "qty": "5"
                                },
                                {
                                    "custid": "25",
                                    "companyname": "Customer AZJED",
                                    "orderid": "10929",
                                    "productid": "21",
                                    "qty": "60"
                                },
                                {
                                    "custid": "25",
                                    "companyname": "Customer AZJED",
                                    "orderid": "10929",
                                    "productid": "75",
                                    "qty": "49"
                                },
                                {
                                    "custid": "25",
                                    "companyname": "Customer AZJED",
                                    "orderid": "10929",
                                    "productid": "77",
                                    "qty": "15"
                                },
                                {
                                    "custid": "76",
                                    "companyname": "Customer SFOGW",
                                    "orderid": "10930",
                                    "productid": "21",
                                    "qty": "36"
                                },
                                {
                                    "custid": "76",
                                    "companyname": "Customer SFOGW",
                                    "orderid": "10930",
                                    "productid": "27",
                                    "qty": "25"
                                },
                                {
                                    "custid": "76",
                                    "companyname": "Customer SFOGW",
                                    "orderid": "10930",
                                    "productid": "55",
                                    "qty": "25"
                                },
                                {
                                    "custid": "76",
                                    "companyname": "Customer SFOGW",
                                    "orderid": "10930",
                                    "productid": "58",
                                    "qty": "30"
                                },
                                {
                                    "custid": "68",
                                    "companyname": "Customer CCKOT",
                                    "orderid": "10931",
                                    "productid": "13",
                                    "qty": "42"
                                },
                                {
                                    "custid": "68",
                                    "companyname": "Customer CCKOT",
                                    "orderid": "10931",
                                    "productid": "57",
                                    "qty": "30"
                                },
                                {
                                    "custid": "9",
                                    "companyname": "Customer RTXGC",
                                    "orderid": "10932",
                                    "productid": "16",
                                    "qty": "30"
                                },
                                {
                                    "custid": "9",
                                    "companyname": "Customer RTXGC",
                                    "orderid": "10932",
                                    "productid": "62",
                                    "qty": "14"
                                },
                                {
                                    "custid": "9",
                                    "companyname": "Customer RTXGC",
                                    "orderid": "10932",
                                    "productid": "72",
                                    "qty": "16"
                                },
                                {
                                    "custid": "9",
                                    "companyname": "Customer RTXGC",
                                    "orderid": "10932",
                                    "productid": "75",
                                    "qty": "20"
                                },
                                {
                                    "custid": "38",
                                    "companyname": "Customer LJUCA",
                                    "orderid": "10933",
                                    "productid": "53",
                                    "qty": "2"
                                },
                                {
                                    "custid": "38",
                                    "companyname": "Customer LJUCA",
                                    "orderid": "10933",
                                    "productid": "61",
                                    "qty": "30"
                                },
                                {
                                    "custid": "44",
                                    "companyname": "Customer OXFRU",
                                    "orderid": "10934",
                                    "productid": "6",
                                    "qty": "20"
                                },
                                {
                                    "custid": "88",
                                    "companyname": "Customer SRQVM",
                                    "orderid": "10935",
                                    "productid": "1",
                                    "qty": "21"
                                },
                                {
                                    "custid": "88",
                                    "companyname": "Customer SRQVM",
                                    "orderid": "10935",
                                    "productid": "18",
                                    "qty": "4"
                                },
                                {
                                    "custid": "88",
                                    "companyname": "Customer SRQVM",
                                    "orderid": "10935",
                                    "productid": "23",
                                    "qty": "8"
                                },
                                {
                                    "custid": "32",
                                    "companyname": "Customer YSIQX",
                                    "orderid": "10936",
                                    "productid": "36",
                                    "qty": "30"
                                },
                                {
                                    "custid": "12",
                                    "companyname": "Customer PSNMQ",
                                    "orderid": "10937",
                                    "productid": "28",
                                    "qty": "8"
                                },
                                {
                                    "custid": "12",
                                    "companyname": "Customer PSNMQ",
                                    "orderid": "10937",
                                    "productid": "34",
                                    "qty": "20"
                                },
                                {
                                    "custid": "63",
                                    "companyname": "Customer IRRVL",
                                    "orderid": "10938",
                                    "productid": "13",
                                    "qty": "20"
                                },
                                {
                                    "custid": "63",
                                    "companyname": "Customer IRRVL",
                                    "orderid": "10938",
                                    "productid": "43",
                                    "qty": "24"
                                },
                                {
                                    "custid": "63",
                                    "companyname": "Customer IRRVL",
                                    "orderid": "10938",
                                    "productid": "60",
                                    "qty": "49"
                                },
                                {
                                    "custid": "63",
                                    "companyname": "Customer IRRVL",
                                    "orderid": "10938",
                                    "productid": "71",
                                    "qty": "35"
                                },
                                {
                                    "custid": "49",
                                    "companyname": "Customer CQRAA",
                                    "orderid": "10939",
                                    "productid": "2",
                                    "qty": "10"
                                },
                                {
                                    "custid": "49",
                                    "companyname": "Customer CQRAA",
                                    "orderid": "10939",
                                    "productid": "67",
                                    "qty": "40"
                                },
                                {
                                    "custid": "9",
                                    "companyname": "Customer RTXGC",
                                    "orderid": "10940",
                                    "productid": "7",
                                    "qty": "8"
                                },
                                {
                                    "custid": "9",
                                    "companyname": "Customer RTXGC",
                                    "orderid": "10940",
                                    "productid": "13",
                                    "qty": "20"
                                },
                                {
                                    "custid": "71",
                                    "companyname": "Customer LCOUJ",
                                    "orderid": "10941",
                                    "productid": "31",
                                    "qty": "44"
                                },
                                {
                                    "custid": "71",
                                    "companyname": "Customer LCOUJ",
                                    "orderid": "10941",
                                    "productid": "62",
                                    "qty": "30"
                                },
                                {
                                    "custid": "71",
                                    "companyname": "Customer LCOUJ",
                                    "orderid": "10941",
                                    "productid": "68",
                                    "qty": "80"
                                },
                                {
                                    "custid": "71",
                                    "companyname": "Customer LCOUJ",
                                    "orderid": "10941",
                                    "productid": "72",
                                    "qty": "50"
                                },
                                {
                                    "custid": "66",
                                    "companyname": "Customer LHANT",
                                    "orderid": "10942",
                                    "productid": "49",
                                    "qty": "28"
                                },
                                {
                                    "custid": "11",
                                    "companyname": "Customer UBHAU",
                                    "orderid": "10943",
                                    "productid": "13",
                                    "qty": "15"
                                },
                                {
                                    "custid": "11",
                                    "companyname": "Customer UBHAU",
                                    "orderid": "10943",
                                    "productid": "22",
                                    "qty": "21"
                                },
                                {
                                    "custid": "11",
                                    "companyname": "Customer UBHAU",
                                    "orderid": "10943",
                                    "productid": "46",
                                    "qty": "15"
                                },
                                {
                                    "custid": "10",
                                    "companyname": "Customer EEALV",
                                    "orderid": "10944",
                                    "productid": "11",
                                    "qty": "5"
                                },
                                {
                                    "custid": "10",
                                    "companyname": "Customer EEALV",
                                    "orderid": "10944",
                                    "productid": "44",
                                    "qty": "18"
                                },
                                {
                                    "custid": "10",
                                    "companyname": "Customer EEALV",
                                    "orderid": "10944",
                                    "productid": "56",
                                    "qty": "18"
                                },
                                {
                                    "custid": "52",
                                    "companyname": "Customer PZNLA",
                                    "orderid": "10945",
                                    "productid": "13",
                                    "qty": "20"
                                },
                                {
                                    "custid": "52",
                                    "companyname": "Customer PZNLA",
                                    "orderid": "10945",
                                    "productid": "31",
                                    "qty": "10"
                                },
                                {
                                    "custid": "83",
                                    "companyname": "Customer ZRNDE",
                                    "orderid": "10946",
                                    "productid": "10",
                                    "qty": "25"
                                },
                                {
                                    "custid": "83",
                                    "companyname": "Customer ZRNDE",
                                    "orderid": "10946",
                                    "productid": "24",
                                    "qty": "25"
                                },
                                {
                                    "custid": "83",
                                    "companyname": "Customer ZRNDE",
                                    "orderid": "10946",
                                    "productid": "77",
                                    "qty": "40"
                                },
                                {
                                    "custid": "11",
                                    "companyname": "Customer UBHAU",
                                    "orderid": "10947",
                                    "productid": "59",
                                    "qty": "4"
                                },
                                {
                                    "custid": "30",
                                    "companyname": "Customer KSLQF",
                                    "orderid": "10948",
                                    "productid": "50",
                                    "qty": "9"
                                },
                                {
                                    "custid": "30",
                                    "companyname": "Customer KSLQF",
                                    "orderid": "10948",
                                    "productid": "51",
                                    "qty": "40"
                                },
                                {
                                    "custid": "30",
                                    "companyname": "Customer KSLQF",
                                    "orderid": "10948",
                                    "productid": "55",
                                    "qty": "4"
                                },
                                {
                                    "custid": "10",
                                    "companyname": "Customer EEALV",
                                    "orderid": "10949",
                                    "productid": "6",
                                    "qty": "12"
                                },
                                {
                                    "custid": "10",
                                    "companyname": "Customer EEALV",
                                    "orderid": "10949",
                                    "productid": "10",
                                    "qty": "30"
                                },
                                {
                                    "custid": "10",
                                    "companyname": "Customer EEALV",
                                    "orderid": "10949",
                                    "productid": "17",
                                    "qty": "6"
                                },
                                {
                                    "custid": "10",
                                    "companyname": "Customer EEALV",
                                    "orderid": "10949",
                                    "productid": "62",
                                    "qty": "60"
                                },
                                {
                                    "custid": "49",
                                    "companyname": "Customer CQRAA",
                                    "orderid": "10950",
                                    "productid": "4",
                                    "qty": "5"
                                },
                                {
                                    "custid": "68",
                                    "companyname": "Customer CCKOT",
                                    "orderid": "10951",
                                    "productid": "33",
                                    "qty": "15"
                                },
                                {
                                    "custid": "68",
                                    "companyname": "Customer CCKOT",
                                    "orderid": "10951",
                                    "productid": "41",
                                    "qty": "6"
                                },
                                {
                                    "custid": "68",
                                    "companyname": "Customer CCKOT",
                                    "orderid": "10951",
                                    "productid": "75",
                                    "qty": "50"
                                },
                                {
                                    "custid": "1",
                                    "companyname": "Customer NRZBB",
                                    "orderid": "10952",
                                    "productid": "6",
                                    "qty": "16"
                                },
                                {
                                    "custid": "1",
                                    "companyname": "Customer NRZBB",
                                    "orderid": "10952",
                                    "productid": "28",
                                    "qty": "2"
                                },
                                {
                                    "custid": "4",
                                    "companyname": "Customer HFBZG",
                                    "orderid": "10953",
                                    "productid": "20",
                                    "qty": "50"
                                },
                                {
                                    "custid": "4",
                                    "companyname": "Customer HFBZG",
                                    "orderid": "10953",
                                    "productid": "31",
                                    "qty": "50"
                                },
                                {
                                    "custid": "47",
                                    "companyname": "Customer PSQUZ",
                                    "orderid": "10954",
                                    "productid": "16",
                                    "qty": "28"
                                },
                                {
                                    "custid": "47",
                                    "companyname": "Customer PSQUZ",
                                    "orderid": "10954",
                                    "productid": "31",
                                    "qty": "25"
                                },
                                {
                                    "custid": "47",
                                    "companyname": "Customer PSQUZ",
                                    "orderid": "10954",
                                    "productid": "45",
                                    "qty": "30"
                                },
                                {
                                    "custid": "47",
                                    "companyname": "Customer PSQUZ",
                                    "orderid": "10954",
                                    "productid": "60",
                                    "qty": "24"
                                },
                                {
                                    "custid": "24",
                                    "companyname": "Customer CYZTN",
                                    "orderid": "10955",
                                    "productid": "75",
                                    "qty": "12"
                                },
                                {
                                    "custid": "6",
                                    "companyname": "Customer XHXJV",
                                    "orderid": "10956",
                                    "productid": "21",
                                    "qty": "12"
                                },
                                {
                                    "custid": "6",
                                    "companyname": "Customer XHXJV",
                                    "orderid": "10956",
                                    "productid": "47",
                                    "qty": "14"
                                },
                                {
                                    "custid": "6",
                                    "companyname": "Customer XHXJV",
                                    "orderid": "10956",
                                    "productid": "51",
                                    "qty": "8"
                                },
                                {
                                    "custid": "35",
                                    "companyname": "Customer UMTLM",
                                    "orderid": "10957",
                                    "productid": "30",
                                    "qty": "30"
                                },
                                {
                                    "custid": "35",
                                    "companyname": "Customer UMTLM",
                                    "orderid": "10957",
                                    "productid": "35",
                                    "qty": "40"
                                },
                                {
                                    "custid": "35",
                                    "companyname": "Customer UMTLM",
                                    "orderid": "10957",
                                    "productid": "64",
                                    "qty": "8"
                                },
                                {
                                    "custid": "54",
                                    "companyname": "Customer TDKEG",
                                    "orderid": "10958",
                                    "productid": "5",
                                    "qty": "20"
                                },
                                {
                                    "custid": "54",
                                    "companyname": "Customer TDKEG",
                                    "orderid": "10958",
                                    "productid": "7",
                                    "qty": "6"
                                },
                                {
                                    "custid": "54",
                                    "companyname": "Customer TDKEG",
                                    "orderid": "10958",
                                    "productid": "72",
                                    "qty": "5"
                                },
                                {
                                    "custid": "31",
                                    "companyname": "Customer YJCBX",
                                    "orderid": "10959",
                                    "productid": "75",
                                    "qty": "20"
                                },
                                {
                                    "custid": "35",
                                    "companyname": "Customer UMTLM",
                                    "orderid": "10960",
                                    "productid": "24",
                                    "qty": "10"
                                },
                                {
                                    "custid": "35",
                                    "companyname": "Customer UMTLM",
                                    "orderid": "10960",
                                    "productid": "41",
                                    "qty": "24"
                                },
                                {
                                    "custid": "62",
                                    "companyname": "Customer WFIZJ",
                                    "orderid": "10961",
                                    "productid": "52",
                                    "qty": "6"
                                },
                                {
                                    "custid": "62",
                                    "companyname": "Customer WFIZJ",
                                    "orderid": "10961",
                                    "productid": "76",
                                    "qty": "60"
                                },
                                {
                                    "custid": "63",
                                    "companyname": "Customer IRRVL",
                                    "orderid": "10962",
                                    "productid": "7",
                                    "qty": "45"
                                },
                                {
                                    "custid": "63",
                                    "companyname": "Customer IRRVL",
                                    "orderid": "10962",
                                    "productid": "13",
                                    "qty": "77"
                                },
                                {
                                    "custid": "63",
                                    "companyname": "Customer IRRVL",
                                    "orderid": "10962",
                                    "productid": "53",
                                    "qty": "20"
                                },
                                {
                                    "custid": "63",
                                    "companyname": "Customer IRRVL",
                                    "orderid": "10962",
                                    "productid": "69",
                                    "qty": "9"
                                },
                                {
                                    "custid": "63",
                                    "companyname": "Customer IRRVL",
                                    "orderid": "10962",
                                    "productid": "76",
                                    "qty": "44"
                                },
                                {
                                    "custid": "28",
                                    "companyname": "Customer XYUFB",
                                    "orderid": "10963",
                                    "productid": "60",
                                    "qty": "2"
                                },
                                {
                                    "custid": "74",
                                    "companyname": "Customer YSHXL",
                                    "orderid": "10964",
                                    "productid": "18",
                                    "qty": "6"
                                },
                                {
                                    "custid": "74",
                                    "companyname": "Customer YSHXL",
                                    "orderid": "10964",
                                    "productid": "38",
                                    "qty": "5"
                                },
                                {
                                    "custid": "74",
                                    "companyname": "Customer YSHXL",
                                    "orderid": "10964",
                                    "productid": "69",
                                    "qty": "10"
                                },
                                {
                                    "custid": "55",
                                    "companyname": "Customer KZQZT",
                                    "orderid": "10965",
                                    "productid": "51",
                                    "qty": "16"
                                },
                                {
                                    "custid": "14",
                                    "companyname": "Customer WNMAF",
                                    "orderid": "10966",
                                    "productid": "37",
                                    "qty": "8"
                                },
                                {
                                    "custid": "14",
                                    "companyname": "Customer WNMAF",
                                    "orderid": "10966",
                                    "productid": "56",
                                    "qty": "12"
                                },
                                {
                                    "custid": "14",
                                    "companyname": "Customer WNMAF",
                                    "orderid": "10966",
                                    "productid": "62",
                                    "qty": "12"
                                },
                                {
                                    "custid": "79",
                                    "companyname": "Customer FAPSM",
                                    "orderid": "10967",
                                    "productid": "19",
                                    "qty": "12"
                                },
                                {
                                    "custid": "79",
                                    "companyname": "Customer FAPSM",
                                    "orderid": "10967",
                                    "productid": "49",
                                    "qty": "40"
                                },
                                {
                                    "custid": "20",
                                    "companyname": "Customer THHDP",
                                    "orderid": "10968",
                                    "productid": "12",
                                    "qty": "30"
                                },
                                {
                                    "custid": "20",
                                    "companyname": "Customer THHDP",
                                    "orderid": "10968",
                                    "productid": "24",
                                    "qty": "30"
                                },
                                {
                                    "custid": "20",
                                    "companyname": "Customer THHDP",
                                    "orderid": "10968",
                                    "productid": "64",
                                    "qty": "4"
                                },
                                {
                                    "custid": "15",
                                    "companyname": "Customer JUWXK",
                                    "orderid": "10969",
                                    "productid": "46",
                                    "qty": "9"
                                },
                                {
                                    "custid": "8",
                                    "companyname": "Customer QUHWH",
                                    "orderid": "10970",
                                    "productid": "52",
                                    "qty": "40"
                                },
                                {
                                    "custid": "26",
                                    "companyname": "Customer USDBG",
                                    "orderid": "10971",
                                    "productid": "29",
                                    "qty": "14"
                                },
                                {
                                    "custid": "40",
                                    "companyname": "Customer EFFTC",
                                    "orderid": "10972",
                                    "productid": "17",
                                    "qty": "6"
                                },
                                {
                                    "custid": "40",
                                    "companyname": "Customer EFFTC",
                                    "orderid": "10972",
                                    "productid": "33",
                                    "qty": "7"
                                },
                                {
                                    "custid": "40",
                                    "companyname": "Customer EFFTC",
                                    "orderid": "10973",
                                    "productid": "26",
                                    "qty": "5"
                                },
                                {
                                    "custid": "40",
                                    "companyname": "Customer EFFTC",
                                    "orderid": "10973",
                                    "productid": "41",
                                    "qty": "6"
                                },
                                {
                                    "custid": "40",
                                    "companyname": "Customer EFFTC",
                                    "orderid": "10973",
                                    "productid": "75",
                                    "qty": "10"
                                },
                                {
                                    "custid": "75",
                                    "companyname": "Customer XOJYP",
                                    "orderid": "10974",
                                    "productid": "63",
                                    "qty": "10"
                                },
                                {
                                    "custid": "10",
                                    "companyname": "Customer EEALV",
                                    "orderid": "10975",
                                    "productid": "8",
                                    "qty": "16"
                                },
                                {
                                    "custid": "10",
                                    "companyname": "Customer EEALV",
                                    "orderid": "10975",
                                    "productid": "75",
                                    "qty": "10"
                                },
                                {
                                    "custid": "35",
                                    "companyname": "Customer UMTLM",
                                    "orderid": "10976",
                                    "productid": "28",
                                    "qty": "20"
                                },
                                {
                                    "custid": "24",
                                    "companyname": "Customer CYZTN",
                                    "orderid": "10977",
                                    "productid": "39",
                                    "qty": "30"
                                },
                                {
                                    "custid": "24",
                                    "companyname": "Customer CYZTN",
                                    "orderid": "10977",
                                    "productid": "47",
                                    "qty": "30"
                                },
                                {
                                    "custid": "24",
                                    "companyname": "Customer CYZTN",
                                    "orderid": "10977",
                                    "productid": "51",
                                    "qty": "10"
                                },
                                {
                                    "custid": "24",
                                    "companyname": "Customer CYZTN",
                                    "orderid": "10977",
                                    "productid": "63",
                                    "qty": "20"
                                },
                                {
                                    "custid": "50",
                                    "companyname": "Customer JYPSC",
                                    "orderid": "10978",
                                    "productid": "8",
                                    "qty": "20"
                                },
                                {
                                    "custid": "50",
                                    "companyname": "Customer JYPSC",
                                    "orderid": "10978",
                                    "productid": "21",
                                    "qty": "40"
                                },
                                {
                                    "custid": "50",
                                    "companyname": "Customer JYPSC",
                                    "orderid": "10978",
                                    "productid": "40",
                                    "qty": "10"
                                },
                                {
                                    "custid": "50",
                                    "companyname": "Customer JYPSC",
                                    "orderid": "10978",
                                    "productid": "44",
                                    "qty": "6"
                                },
                                {
                                    "custid": "20",
                                    "companyname": "Customer THHDP",
                                    "orderid": "10979",
                                    "productid": "7",
                                    "qty": "18"
                                },
                                {
                                    "custid": "20",
                                    "companyname": "Customer THHDP",
                                    "orderid": "10979",
                                    "productid": "12",
                                    "qty": "20"
                                },
                                {
                                    "custid": "20",
                                    "companyname": "Customer THHDP",
                                    "orderid": "10979",
                                    "productid": "24",
                                    "qty": "80"
                                },
                                {
                                    "custid": "20",
                                    "companyname": "Customer THHDP",
                                    "orderid": "10979",
                                    "productid": "27",
                                    "qty": "30"
                                },
                                {
                                    "custid": "20",
                                    "companyname": "Customer THHDP",
                                    "orderid": "10979",
                                    "productid": "31",
                                    "qty": "24"
                                },
                                {
                                    "custid": "20",
                                    "companyname": "Customer THHDP",
                                    "orderid": "10979",
                                    "productid": "63",
                                    "qty": "35"
                                },
                                {
                                    "custid": "24",
                                    "companyname": "Customer CYZTN",
                                    "orderid": "10980",
                                    "productid": "75",
                                    "qty": "40"
                                },
                                {
                                    "custid": "34",
                                    "companyname": "Customer IBVRG",
                                    "orderid": "10981",
                                    "productid": "38",
                                    "qty": "60"
                                },
                                {
                                    "custid": "10",
                                    "companyname": "Customer EEALV",
                                    "orderid": "10982",
                                    "productid": "7",
                                    "qty": "20"
                                },
                                {
                                    "custid": "10",
                                    "companyname": "Customer EEALV",
                                    "orderid": "10982",
                                    "productid": "43",
                                    "qty": "9"
                                },
                                {
                                    "custid": "71",
                                    "companyname": "Customer LCOUJ",
                                    "orderid": "10983",
                                    "productid": "13",
                                    "qty": "84"
                                },
                                {
                                    "custid": "71",
                                    "companyname": "Customer LCOUJ",
                                    "orderid": "10983",
                                    "productid": "57",
                                    "qty": "15"
                                },
                                {
                                    "custid": "71",
                                    "companyname": "Customer LCOUJ",
                                    "orderid": "10984",
                                    "productid": "16",
                                    "qty": "55"
                                },
                                {
                                    "custid": "71",
                                    "companyname": "Customer LCOUJ",
                                    "orderid": "10984",
                                    "productid": "24",
                                    "qty": "20"
                                },
                                {
                                    "custid": "71",
                                    "companyname": "Customer LCOUJ",
                                    "orderid": "10984",
                                    "productid": "36",
                                    "qty": "40"
                                },
                                {
                                    "custid": "37",
                                    "companyname": "Customer FRXZL",
                                    "orderid": "10985",
                                    "productid": "16",
                                    "qty": "36"
                                },
                                {
                                    "custid": "37",
                                    "companyname": "Customer FRXZL",
                                    "orderid": "10985",
                                    "productid": "18",
                                    "qty": "8"
                                },
                                {
                                    "custid": "37",
                                    "companyname": "Customer FRXZL",
                                    "orderid": "10985",
                                    "productid": "32",
                                    "qty": "35"
                                },
                                {
                                    "custid": "54",
                                    "companyname": "Customer TDKEG",
                                    "orderid": "10986",
                                    "productid": "11",
                                    "qty": "30"
                                },
                                {
                                    "custid": "54",
                                    "companyname": "Customer TDKEG",
                                    "orderid": "10986",
                                    "productid": "20",
                                    "qty": "15"
                                },
                                {
                                    "custid": "54",
                                    "companyname": "Customer TDKEG",
                                    "orderid": "10986",
                                    "productid": "76",
                                    "qty": "10"
                                },
                                {
                                    "custid": "54",
                                    "companyname": "Customer TDKEG",
                                    "orderid": "10986",
                                    "productid": "77",
                                    "qty": "15"
                                },
                                {
                                    "custid": "19",
                                    "companyname": "Customer RFNQC",
                                    "orderid": "10987",
                                    "productid": "7",
                                    "qty": "60"
                                },
                                {
                                    "custid": "19",
                                    "companyname": "Customer RFNQC",
                                    "orderid": "10987",
                                    "productid": "43",
                                    "qty": "6"
                                },
                                {
                                    "custid": "19",
                                    "companyname": "Customer RFNQC",
                                    "orderid": "10987",
                                    "productid": "72",
                                    "qty": "20"
                                },
                                {
                                    "custid": "65",
                                    "companyname": "Customer NYUHS",
                                    "orderid": "10988",
                                    "productid": "7",
                                    "qty": "60"
                                },
                                {
                                    "custid": "65",
                                    "companyname": "Customer NYUHS",
                                    "orderid": "10988",
                                    "productid": "62",
                                    "qty": "40"
                                },
                                {
                                    "custid": "61",
                                    "companyname": "Customer WULWD",
                                    "orderid": "10989",
                                    "productid": "6",
                                    "qty": "40"
                                },
                                {
                                    "custid": "61",
                                    "companyname": "Customer WULWD",
                                    "orderid": "10989",
                                    "productid": "11",
                                    "qty": "15"
                                },
                                {
                                    "custid": "61",
                                    "companyname": "Customer WULWD",
                                    "orderid": "10989",
                                    "productid": "41",
                                    "qty": "4"
                                },
                                {
                                    "custid": "20",
                                    "companyname": "Customer THHDP",
                                    "orderid": "10990",
                                    "productid": "21",
                                    "qty": "65"
                                },
                                {
                                    "custid": "20",
                                    "companyname": "Customer THHDP",
                                    "orderid": "10990",
                                    "productid": "34",
                                    "qty": "60"
                                },
                                {
                                    "custid": "20",
                                    "companyname": "Customer THHDP",
                                    "orderid": "10990",
                                    "productid": "55",
                                    "qty": "65"
                                },
                                {
                                    "custid": "20",
                                    "companyname": "Customer THHDP",
                                    "orderid": "10990",
                                    "productid": "61",
                                    "qty": "66"
                                },
                                {
                                    "custid": "63",
                                    "companyname": "Customer IRRVL",
                                    "orderid": "10991",
                                    "productid": "2",
                                    "qty": "50"
                                },
                                {
                                    "custid": "63",
                                    "companyname": "Customer IRRVL",
                                    "orderid": "10991",
                                    "productid": "70",
                                    "qty": "20"
                                },
                                {
                                    "custid": "63",
                                    "companyname": "Customer IRRVL",
                                    "orderid": "10991",
                                    "productid": "76",
                                    "qty": "90"
                                },
                                {
                                    "custid": "77",
                                    "companyname": "Customer LCYBZ",
                                    "orderid": "10992",
                                    "productid": "72",
                                    "qty": "2"
                                },
                                {
                                    "custid": "24",
                                    "companyname": "Customer CYZTN",
                                    "orderid": "10993",
                                    "productid": "29",
                                    "qty": "50"
                                },
                                {
                                    "custid": "24",
                                    "companyname": "Customer CYZTN",
                                    "orderid": "10993",
                                    "productid": "41",
                                    "qty": "35"
                                },
                                {
                                    "custid": "83",
                                    "companyname": "Customer ZRNDE",
                                    "orderid": "10994",
                                    "productid": "59",
                                    "qty": "18"
                                },
                                {
                                    "custid": "58",
                                    "companyname": "Customer AHXHT",
                                    "orderid": "10995",
                                    "productid": "51",
                                    "qty": "20"
                                },
                                {
                                    "custid": "58",
                                    "companyname": "Customer AHXHT",
                                    "orderid": "10995",
                                    "productid": "60",
                                    "qty": "4"
                                },
                                {
                                    "custid": "63",
                                    "companyname": "Customer IRRVL",
                                    "orderid": "10996",
                                    "productid": "42",
                                    "qty": "40"
                                },
                                {
                                    "custid": "46",
                                    "companyname": "Customer XPNIK",
                                    "orderid": "10997",
                                    "productid": "32",
                                    "qty": "50"
                                },
                                {
                                    "custid": "46",
                                    "companyname": "Customer XPNIK",
                                    "orderid": "10997",
                                    "productid": "46",
                                    "qty": "20"
                                },
                                {
                                    "custid": "46",
                                    "companyname": "Customer XPNIK",
                                    "orderid": "10997",
                                    "productid": "52",
                                    "qty": "20"
                                },
                                {
                                    "custid": "91",
                                    "companyname": "Customer CCFIZ",
                                    "orderid": "10998",
                                    "productid": "24",
                                    "qty": "12"
                                },
                                {
                                    "custid": "91",
                                    "companyname": "Customer CCFIZ",
                                    "orderid": "10998",
                                    "productid": "61",
                                    "qty": "7"
                                },
                                {
                                    "custid": "91",
                                    "companyname": "Customer CCFIZ",
                                    "orderid": "10998",
                                    "productid": "74",
                                    "qty": "20"
                                },
                                {
                                    "custid": "91",
                                    "companyname": "Customer CCFIZ",
                                    "orderid": "10998",
                                    "productid": "75",
                                    "qty": "30"
                                },
                                {
                                    "custid": "56",
                                    "companyname": "Customer QNIVZ",
                                    "orderid": "10999",
                                    "productid": "41",
                                    "qty": "20"
                                },
                                {
                                    "custid": "56",
                                    "companyname": "Customer QNIVZ",
                                    "orderid": "10999",
                                    "productid": "51",
                                    "qty": "15"
                                },
                                {
                                    "custid": "56",
                                    "companyname": "Customer QNIVZ",
                                    "orderid": "10999",
                                    "productid": "77",
                                    "qty": "21"
                                },
                                {
                                    "custid": "65",
                                    "companyname": "Customer NYUHS",
                                    "orderid": "11000",
                                    "productid": "4",
                                    "qty": "25"
                                },
                                {
                                    "custid": "65",
                                    "companyname": "Customer NYUHS",
                                    "orderid": "11000",
                                    "productid": "24",
                                    "qty": "30"
                                },
                                {
                                    "custid": "65",
                                    "companyname": "Customer NYUHS",
                                    "orderid": "11000",
                                    "productid": "77",
                                    "qty": "30"
                                },
                                {
                                    "custid": "24",
                                    "companyname": "Customer CYZTN",
                                    "orderid": "11001",
                                    "productid": "7",
                                    "qty": "60"
                                },
                                {
                                    "custid": "24",
                                    "companyname": "Customer CYZTN",
                                    "orderid": "11001",
                                    "productid": "22",
                                    "qty": "25"
                                },
                                {
                                    "custid": "24",
                                    "companyname": "Customer CYZTN",
                                    "orderid": "11001",
                                    "productid": "46",
                                    "qty": "25"
                                },
                                {
                                    "custid": "24",
                                    "companyname": "Customer CYZTN",
                                    "orderid": "11001",
                                    "productid": "55",
                                    "qty": "6"
                                },
                                {
                                    "custid": "71",
                                    "companyname": "Customer LCOUJ",
                                    "orderid": "11002",
                                    "productid": "13",
                                    "qty": "56"
                                },
                                {
                                    "custid": "71",
                                    "companyname": "Customer LCOUJ",
                                    "orderid": "11002",
                                    "productid": "35",
                                    "qty": "15"
                                },
                                {
                                    "custid": "71",
                                    "companyname": "Customer LCOUJ",
                                    "orderid": "11002",
                                    "productid": "42",
                                    "qty": "24"
                                },
                                {
                                    "custid": "71",
                                    "companyname": "Customer LCOUJ",
                                    "orderid": "11002",
                                    "productid": "55",
                                    "qty": "40"
                                },
                                {
                                    "custid": "78",
                                    "companyname": "Customer NLTYP",
                                    "orderid": "11003",
                                    "productid": "1",
                                    "qty": "4"
                                },
                                {
                                    "custid": "78",
                                    "companyname": "Customer NLTYP",
                                    "orderid": "11003",
                                    "productid": "40",
                                    "qty": "10"
                                },
                                {
                                    "custid": "78",
                                    "companyname": "Customer NLTYP",
                                    "orderid": "11003",
                                    "productid": "52",
                                    "qty": "10"
                                },
                                {
                                    "custid": "50",
                                    "companyname": "Customer JYPSC",
                                    "orderid": "11004",
                                    "productid": "26",
                                    "qty": "6"
                                },
                                {
                                    "custid": "50",
                                    "companyname": "Customer JYPSC",
                                    "orderid": "11004",
                                    "productid": "76",
                                    "qty": "6"
                                },
                                {
                                    "custid": "90",
                                    "companyname": "Customer XBBVR",
                                    "orderid": "11005",
                                    "productid": "1",
                                    "qty": "2"
                                },
                                {
                                    "custid": "90",
                                    "companyname": "Customer XBBVR",
                                    "orderid": "11005",
                                    "productid": "59",
                                    "qty": "10"
                                },
                                {
                                    "custid": "32",
                                    "companyname": "Customer YSIQX",
                                    "orderid": "11006",
                                    "productid": "1",
                                    "qty": "8"
                                },
                                {
                                    "custid": "32",
                                    "companyname": "Customer YSIQX",
                                    "orderid": "11006",
                                    "productid": "29",
                                    "qty": "2"
                                },
                                {
                                    "custid": "60",
                                    "companyname": "Customer QZURI",
                                    "orderid": "11007",
                                    "productid": "8",
                                    "qty": "30"
                                },
                                {
                                    "custid": "60",
                                    "companyname": "Customer QZURI",
                                    "orderid": "11007",
                                    "productid": "29",
                                    "qty": "10"
                                },
                                {
                                    "custid": "60",
                                    "companyname": "Customer QZURI",
                                    "orderid": "11007",
                                    "productid": "42",
                                    "qty": "14"
                                },
                                {
                                    "custid": "20",
                                    "companyname": "Customer THHDP",
                                    "orderid": "11008",
                                    "productid": "28",
                                    "qty": "70"
                                },
                                {
                                    "custid": "20",
                                    "companyname": "Customer THHDP",
                                    "orderid": "11008",
                                    "productid": "34",
                                    "qty": "90"
                                },
                                {
                                    "custid": "20",
                                    "companyname": "Customer THHDP",
                                    "orderid": "11008",
                                    "productid": "71",
                                    "qty": "21"
                                },
                                {
                                    "custid": "30",
                                    "companyname": "Customer KSLQF",
                                    "orderid": "11009",
                                    "productid": "24",
                                    "qty": "12"
                                },
                                {
                                    "custid": "30",
                                    "companyname": "Customer KSLQF",
                                    "orderid": "11009",
                                    "productid": "36",
                                    "qty": "18"
                                },
                                {
                                    "custid": "30",
                                    "companyname": "Customer KSLQF",
                                    "orderid": "11009",
                                    "productid": "60",
                                    "qty": "9"
                                },
                                {
                                    "custid": "66",
                                    "companyname": "Customer LHANT",
                                    "orderid": "11010",
                                    "productid": "7",
                                    "qty": "20"
                                },
                                {
                                    "custid": "66",
                                    "companyname": "Customer LHANT",
                                    "orderid": "11010",
                                    "productid": "24",
                                    "qty": "10"
                                },
                                {
                                    "custid": "1",
                                    "companyname": "Customer NRZBB",
                                    "orderid": "11011",
                                    "productid": "58",
                                    "qty": "40"
                                },
                                {
                                    "custid": "1",
                                    "companyname": "Customer NRZBB",
                                    "orderid": "11011",
                                    "productid": "71",
                                    "qty": "20"
                                },
                                {
                                    "custid": "25",
                                    "companyname": "Customer AZJED",
                                    "orderid": "11012",
                                    "productid": "19",
                                    "qty": "50"
                                },
                                {
                                    "custid": "25",
                                    "companyname": "Customer AZJED",
                                    "orderid": "11012",
                                    "productid": "60",
                                    "qty": "36"
                                },
                                {
                                    "custid": "25",
                                    "companyname": "Customer AZJED",
                                    "orderid": "11012",
                                    "productid": "71",
                                    "qty": "60"
                                },
                                {
                                    "custid": "69",
                                    "companyname": "Customer SIUIH",
                                    "orderid": "11013",
                                    "productid": "23",
                                    "qty": "10"
                                },
                                {
                                    "custid": "69",
                                    "companyname": "Customer SIUIH",
                                    "orderid": "11013",
                                    "productid": "42",
                                    "qty": "4"
                                },
                                {
                                    "custid": "69",
                                    "companyname": "Customer SIUIH",
                                    "orderid": "11013",
                                    "productid": "45",
                                    "qty": "20"
                                },
                                {
                                    "custid": "69",
                                    "companyname": "Customer SIUIH",
                                    "orderid": "11013",
                                    "productid": "68",
                                    "qty": "2"
                                },
                                {
                                    "custid": "47",
                                    "companyname": "Customer PSQUZ",
                                    "orderid": "11014",
                                    "productid": "41",
                                    "qty": "28"
                                },
                                {
                                    "custid": "70",
                                    "companyname": "Customer TMXGN",
                                    "orderid": "11015",
                                    "productid": "30",
                                    "qty": "15"
                                },
                                {
                                    "custid": "70",
                                    "companyname": "Customer TMXGN",
                                    "orderid": "11015",
                                    "productid": "77",
                                    "qty": "18"
                                },
                                {
                                    "custid": "4",
                                    "companyname": "Customer HFBZG",
                                    "orderid": "11016",
                                    "productid": "31",
                                    "qty": "15"
                                },
                                {
                                    "custid": "4",
                                    "companyname": "Customer HFBZG",
                                    "orderid": "11016",
                                    "productid": "36",
                                    "qty": "16"
                                },
                                {
                                    "custid": "20",
                                    "companyname": "Customer THHDP",
                                    "orderid": "11017",
                                    "productid": "3",
                                    "qty": "25"
                                },
                                {
                                    "custid": "20",
                                    "companyname": "Customer THHDP",
                                    "orderid": "11017",
                                    "productid": "59",
                                    "qty": "110"
                                },
                                {
                                    "custid": "20",
                                    "companyname": "Customer THHDP",
                                    "orderid": "11017",
                                    "productid": "70",
                                    "qty": "30"
                                },
                                {
                                    "custid": "48",
                                    "companyname": "Customer DVFMB",
                                    "orderid": "11018",
                                    "productid": "12",
                                    "qty": "20"
                                },
                                {
                                    "custid": "48",
                                    "companyname": "Customer DVFMB",
                                    "orderid": "11018",
                                    "productid": "18",
                                    "qty": "10"
                                },
                                {
                                    "custid": "48",
                                    "companyname": "Customer DVFMB",
                                    "orderid": "11018",
                                    "productid": "56",
                                    "qty": "5"
                                },
                                {
                                    "custid": "64",
                                    "companyname": "Customer LWGMD",
                                    "orderid": "11019",
                                    "productid": "46",
                                    "qty": "3"
                                },
                                {
                                    "custid": "64",
                                    "companyname": "Customer LWGMD",
                                    "orderid": "11019",
                                    "productid": "49",
                                    "qty": "2"
                                },
                                {
                                    "custid": "56",
                                    "companyname": "Customer QNIVZ",
                                    "orderid": "11020",
                                    "productid": "10",
                                    "qty": "24"
                                },
                                {
                                    "custid": "63",
                                    "companyname": "Customer IRRVL",
                                    "orderid": "11021",
                                    "productid": "2",
                                    "qty": "11"
                                },
                                {
                                    "custid": "63",
                                    "companyname": "Customer IRRVL",
                                    "orderid": "11021",
                                    "productid": "20",
                                    "qty": "15"
                                },
                                {
                                    "custid": "63",
                                    "companyname": "Customer IRRVL",
                                    "orderid": "11021",
                                    "productid": "26",
                                    "qty": "63"
                                },
                                {
                                    "custid": "63",
                                    "companyname": "Customer IRRVL",
                                    "orderid": "11021",
                                    "productid": "51",
                                    "qty": "44"
                                },
                                {
                                    "custid": "63",
                                    "companyname": "Customer IRRVL",
                                    "orderid": "11021",
                                    "productid": "72",
                                    "qty": "35"
                                },
                                {
                                    "custid": "34",
                                    "companyname": "Customer IBVRG",
                                    "orderid": "11022",
                                    "productid": "19",
                                    "qty": "35"
                                },
                                {
                                    "custid": "34",
                                    "companyname": "Customer IBVRG",
                                    "orderid": "11022",
                                    "productid": "69",
                                    "qty": "30"
                                },
                                {
                                    "custid": "11",
                                    "companyname": "Customer UBHAU",
                                    "orderid": "11023",
                                    "productid": "7",
                                    "qty": "4"
                                },
                                {
                                    "custid": "11",
                                    "companyname": "Customer UBHAU",
                                    "orderid": "11023",
                                    "productid": "43",
                                    "qty": "30"
                                },
                                {
                                    "custid": "19",
                                    "companyname": "Customer RFNQC",
                                    "orderid": "11024",
                                    "productid": "26",
                                    "qty": "12"
                                },
                                {
                                    "custid": "19",
                                    "companyname": "Customer RFNQC",
                                    "orderid": "11024",
                                    "productid": "33",
                                    "qty": "30"
                                },
                                {
                                    "custid": "19",
                                    "companyname": "Customer RFNQC",
                                    "orderid": "11024",
                                    "productid": "65",
                                    "qty": "21"
                                },
                                {
                                    "custid": "19",
                                    "companyname": "Customer RFNQC",
                                    "orderid": "11024",
                                    "productid": "71",
                                    "qty": "50"
                                },
                                {
                                    "custid": "87",
                                    "companyname": "Customer ZHYOS",
                                    "orderid": "11025",
                                    "productid": "1",
                                    "qty": "10"
                                },
                                {
                                    "custid": "87",
                                    "companyname": "Customer ZHYOS",
                                    "orderid": "11025",
                                    "productid": "13",
                                    "qty": "20"
                                },
                                {
                                    "custid": "27",
                                    "companyname": "Customer WMFEA",
                                    "orderid": "11026",
                                    "productid": "18",
                                    "qty": "8"
                                },
                                {
                                    "custid": "27",
                                    "companyname": "Customer WMFEA",
                                    "orderid": "11026",
                                    "productid": "51",
                                    "qty": "10"
                                },
                                {
                                    "custid": "10",
                                    "companyname": "Customer EEALV",
                                    "orderid": "11027",
                                    "productid": "24",
                                    "qty": "30"
                                },
                                {
                                    "custid": "10",
                                    "companyname": "Customer EEALV",
                                    "orderid": "11027",
                                    "productid": "62",
                                    "qty": "21"
                                },
                                {
                                    "custid": "39",
                                    "companyname": "Customer GLLAG",
                                    "orderid": "11028",
                                    "productid": "55",
                                    "qty": "35"
                                },
                                {
                                    "custid": "39",
                                    "companyname": "Customer GLLAG",
                                    "orderid": "11028",
                                    "productid": "59",
                                    "qty": "24"
                                },
                                {
                                    "custid": "14",
                                    "companyname": "Customer WNMAF",
                                    "orderid": "11029",
                                    "productid": "56",
                                    "qty": "20"
                                },
                                {
                                    "custid": "14",
                                    "companyname": "Customer WNMAF",
                                    "orderid": "11029",
                                    "productid": "63",
                                    "qty": "12"
                                },
                                {
                                    "custid": "71",
                                    "companyname": "Customer LCOUJ",
                                    "orderid": "11030",
                                    "productid": "2",
                                    "qty": "100"
                                },
                                {
                                    "custid": "71",
                                    "companyname": "Customer LCOUJ",
                                    "orderid": "11030",
                                    "productid": "5",
                                    "qty": "70"
                                },
                                {
                                    "custid": "71",
                                    "companyname": "Customer LCOUJ",
                                    "orderid": "11030",
                                    "productid": "29",
                                    "qty": "60"
                                },
                                {
                                    "custid": "71",
                                    "companyname": "Customer LCOUJ",
                                    "orderid": "11030",
                                    "productid": "59",
                                    "qty": "100"
                                },
                                {
                                    "custid": "71",
                                    "companyname": "Customer LCOUJ",
                                    "orderid": "11031",
                                    "productid": "1",
                                    "qty": "45"
                                },
                                {
                                    "custid": "71",
                                    "companyname": "Customer LCOUJ",
                                    "orderid": "11031",
                                    "productid": "13",
                                    "qty": "80"
                                },
                                {
                                    "custid": "71",
                                    "companyname": "Customer LCOUJ",
                                    "orderid": "11031",
                                    "productid": "24",
                                    "qty": "21"
                                },
                                {
                                    "custid": "71",
                                    "companyname": "Customer LCOUJ",
                                    "orderid": "11031",
                                    "productid": "64",
                                    "qty": "20"
                                },
                                {
                                    "custid": "71",
                                    "companyname": "Customer LCOUJ",
                                    "orderid": "11031",
                                    "productid": "71",
                                    "qty": "16"
                                },
                                {
                                    "custid": "89",
                                    "companyname": "Customer YBQTI",
                                    "orderid": "11032",
                                    "productid": "36",
                                    "qty": "35"
                                },
                                {
                                    "custid": "89",
                                    "companyname": "Customer YBQTI",
                                    "orderid": "11032",
                                    "productid": "38",
                                    "qty": "25"
                                },
                                {
                                    "custid": "89",
                                    "companyname": "Customer YBQTI",
                                    "orderid": "11032",
                                    "productid": "59",
                                    "qty": "30"
                                },
                                {
                                    "custid": "68",
                                    "companyname": "Customer CCKOT",
                                    "orderid": "11033",
                                    "productid": "53",
                                    "qty": "70"
                                },
                                {
                                    "custid": "68",
                                    "companyname": "Customer CCKOT",
                                    "orderid": "11033",
                                    "productid": "69",
                                    "qty": "36"
                                },
                                {
                                    "custid": "55",
                                    "companyname": "Customer KZQZT",
                                    "orderid": "11034",
                                    "productid": "21",
                                    "qty": "15"
                                },
                                {
                                    "custid": "55",
                                    "companyname": "Customer KZQZT",
                                    "orderid": "11034",
                                    "productid": "44",
                                    "qty": "12"
                                },
                                {
                                    "custid": "55",
                                    "companyname": "Customer KZQZT",
                                    "orderid": "11034",
                                    "productid": "61",
                                    "qty": "6"
                                },
                                {
                                    "custid": "76",
                                    "companyname": "Customer SFOGW",
                                    "orderid": "11035",
                                    "productid": "1",
                                    "qty": "10"
                                },
                                {
                                    "custid": "76",
                                    "companyname": "Customer SFOGW",
                                    "orderid": "11035",
                                    "productid": "35",
                                    "qty": "60"
                                },
                                {
                                    "custid": "76",
                                    "companyname": "Customer SFOGW",
                                    "orderid": "11035",
                                    "productid": "42",
                                    "qty": "30"
                                },
                                {
                                    "custid": "76",
                                    "companyname": "Customer SFOGW",
                                    "orderid": "11035",
                                    "productid": "54",
                                    "qty": "10"
                                },
                                {
                                    "custid": "17",
                                    "companyname": "Customer FEVNN",
                                    "orderid": "11036",
                                    "productid": "13",
                                    "qty": "7"
                                },
                                {
                                    "custid": "17",
                                    "companyname": "Customer FEVNN",
                                    "orderid": "11036",
                                    "productid": "59",
                                    "qty": "30"
                                },
                                {
                                    "custid": "30",
                                    "companyname": "Customer KSLQF",
                                    "orderid": "11037",
                                    "productid": "70",
                                    "qty": "4"
                                },
                                {
                                    "custid": "76",
                                    "companyname": "Customer SFOGW",
                                    "orderid": "11038",
                                    "productid": "40",
                                    "qty": "5"
                                },
                                {
                                    "custid": "76",
                                    "companyname": "Customer SFOGW",
                                    "orderid": "11038",
                                    "productid": "52",
                                    "qty": "2"
                                },
                                {
                                    "custid": "76",
                                    "companyname": "Customer SFOGW",
                                    "orderid": "11038",
                                    "productid": "71",
                                    "qty": "30"
                                },
                                {
                                    "custid": "47",
                                    "companyname": "Customer PSQUZ",
                                    "orderid": "11039",
                                    "productid": "28",
                                    "qty": "20"
                                },
                                {
                                    "custid": "47",
                                    "companyname": "Customer PSQUZ",
                                    "orderid": "11039",
                                    "productid": "35",
                                    "qty": "24"
                                },
                                {
                                    "custid": "47",
                                    "companyname": "Customer PSQUZ",
                                    "orderid": "11039",
                                    "productid": "49",
                                    "qty": "60"
                                },
                                {
                                    "custid": "47",
                                    "companyname": "Customer PSQUZ",
                                    "orderid": "11039",
                                    "productid": "57",
                                    "qty": "28"
                                },
                                {
                                    "custid": "32",
                                    "companyname": "Customer YSIQX",
                                    "orderid": "11040",
                                    "productid": "21",
                                    "qty": "20"
                                },
                                {
                                    "custid": "14",
                                    "companyname": "Customer WNMAF",
                                    "orderid": "11041",
                                    "productid": "2",
                                    "qty": "30"
                                },
                                {
                                    "custid": "14",
                                    "companyname": "Customer WNMAF",
                                    "orderid": "11041",
                                    "productid": "63",
                                    "qty": "30"
                                },
                                {
                                    "custid": "15",
                                    "companyname": "Customer JUWXK",
                                    "orderid": "11042",
                                    "productid": "44",
                                    "qty": "15"
                                },
                                {
                                    "custid": "15",
                                    "companyname": "Customer JUWXK",
                                    "orderid": "11042",
                                    "productid": "61",
                                    "qty": "4"
                                },
                                {
                                    "custid": "74",
                                    "companyname": "Customer YSHXL",
                                    "orderid": "11043",
                                    "productid": "11",
                                    "qty": "10"
                                },
                                {
                                    "custid": "91",
                                    "companyname": "Customer CCFIZ",
                                    "orderid": "11044",
                                    "productid": "62",
                                    "qty": "12"
                                },
                                {
                                    "custid": "10",
                                    "companyname": "Customer EEALV",
                                    "orderid": "11045",
                                    "productid": "33",
                                    "qty": "15"
                                },
                                {
                                    "custid": "10",
                                    "companyname": "Customer EEALV",
                                    "orderid": "11045",
                                    "productid": "51",
                                    "qty": "24"
                                },
                                {
                                    "custid": "86",
                                    "companyname": "Customer SNXOJ",
                                    "orderid": "11046",
                                    "productid": "12",
                                    "qty": "20"
                                },
                                {
                                    "custid": "86",
                                    "companyname": "Customer SNXOJ",
                                    "orderid": "11046",
                                    "productid": "32",
                                    "qty": "15"
                                },
                                {
                                    "custid": "86",
                                    "companyname": "Customer SNXOJ",
                                    "orderid": "11046",
                                    "productid": "35",
                                    "qty": "18"
                                },
                                {
                                    "custid": "19",
                                    "companyname": "Customer RFNQC",
                                    "orderid": "11047",
                                    "productid": "1",
                                    "qty": "25"
                                },
                                {
                                    "custid": "19",
                                    "companyname": "Customer RFNQC",
                                    "orderid": "11047",
                                    "productid": "5",
                                    "qty": "30"
                                },
                                {
                                    "custid": "10",
                                    "companyname": "Customer EEALV",
                                    "orderid": "11048",
                                    "productid": "68",
                                    "qty": "42"
                                },
                                {
                                    "custid": "31",
                                    "companyname": "Customer YJCBX",
                                    "orderid": "11049",
                                    "productid": "2",
                                    "qty": "10"
                                },
                                {
                                    "custid": "31",
                                    "companyname": "Customer YJCBX",
                                    "orderid": "11049",
                                    "productid": "12",
                                    "qty": "4"
                                },
                                {
                                    "custid": "24",
                                    "companyname": "Customer CYZTN",
                                    "orderid": "11050",
                                    "productid": "76",
                                    "qty": "50"
                                },
                                {
                                    "custid": "41",
                                    "companyname": "Customer XIIWM",
                                    "orderid": "11051",
                                    "productid": "24",
                                    "qty": "10"
                                },
                                {
                                    "custid": "34",
                                    "companyname": "Customer IBVRG",
                                    "orderid": "11052",
                                    "productid": "43",
                                    "qty": "30"
                                },
                                {
                                    "custid": "34",
                                    "companyname": "Customer IBVRG",
                                    "orderid": "11052",
                                    "productid": "61",
                                    "qty": "10"
                                },
                                {
                                    "custid": "59",
                                    "companyname": "Customer LOLJO",
                                    "orderid": "11053",
                                    "productid": "18",
                                    "qty": "35"
                                },
                                {
                                    "custid": "59",
                                    "companyname": "Customer LOLJO",
                                    "orderid": "11053",
                                    "productid": "32",
                                    "qty": "20"
                                },
                                {
                                    "custid": "59",
                                    "companyname": "Customer LOLJO",
                                    "orderid": "11053",
                                    "productid": "64",
                                    "qty": "25"
                                },
                                {
                                    "custid": "12",
                                    "companyname": "Customer PSNMQ",
                                    "orderid": "11054",
                                    "productid": "33",
                                    "qty": "10"
                                },
                                {
                                    "custid": "12",
                                    "companyname": "Customer PSNMQ",
                                    "orderid": "11054",
                                    "productid": "67",
                                    "qty": "20"
                                },
                                {
                                    "custid": "35",
                                    "companyname": "Customer UMTLM",
                                    "orderid": "11055",
                                    "productid": "24",
                                    "qty": "15"
                                },
                                {
                                    "custid": "35",
                                    "companyname": "Customer UMTLM",
                                    "orderid": "11055",
                                    "productid": "25",
                                    "qty": "15"
                                },
                                {
                                    "custid": "35",
                                    "companyname": "Customer UMTLM",
                                    "orderid": "11055",
                                    "productid": "51",
                                    "qty": "20"
                                },
                                {
                                    "custid": "35",
                                    "companyname": "Customer UMTLM",
                                    "orderid": "11055",
                                    "productid": "57",
                                    "qty": "20"
                                },
                                {
                                    "custid": "19",
                                    "companyname": "Customer RFNQC",
                                    "orderid": "11056",
                                    "productid": "7",
                                    "qty": "40"
                                },
                                {
                                    "custid": "19",
                                    "companyname": "Customer RFNQC",
                                    "orderid": "11056",
                                    "productid": "55",
                                    "qty": "35"
                                },
                                {
                                    "custid": "19",
                                    "companyname": "Customer RFNQC",
                                    "orderid": "11056",
                                    "productid": "60",
                                    "qty": "50"
                                },
                                {
                                    "custid": "53",
                                    "companyname": "Customer GCJSG",
                                    "orderid": "11057",
                                    "productid": "70",
                                    "qty": "3"
                                },
                                {
                                    "custid": "6",
                                    "companyname": "Customer XHXJV",
                                    "orderid": "11058",
                                    "productid": "21",
                                    "qty": "3"
                                },
                                {
                                    "custid": "6",
                                    "companyname": "Customer XHXJV",
                                    "orderid": "11058",
                                    "productid": "60",
                                    "qty": "21"
                                },
                                {
                                    "custid": "6",
                                    "companyname": "Customer XHXJV",
                                    "orderid": "11058",
                                    "productid": "61",
                                    "qty": "4"
                                },
                                {
                                    "custid": "67",
                                    "companyname": "Customer QVEPD",
                                    "orderid": "11059",
                                    "productid": "13",
                                    "qty": "30"
                                },
                                {
                                    "custid": "67",
                                    "companyname": "Customer QVEPD",
                                    "orderid": "11059",
                                    "productid": "17",
                                    "qty": "12"
                                },
                                {
                                    "custid": "67",
                                    "companyname": "Customer QVEPD",
                                    "orderid": "11059",
                                    "productid": "60",
                                    "qty": "35"
                                },
                                {
                                    "custid": "27",
                                    "companyname": "Customer WMFEA",
                                    "orderid": "11060",
                                    "productid": "60",
                                    "qty": "4"
                                },
                                {
                                    "custid": "27",
                                    "companyname": "Customer WMFEA",
                                    "orderid": "11060",
                                    "productid": "77",
                                    "qty": "10"
                                },
                                {
                                    "custid": "32",
                                    "companyname": "Customer YSIQX",
                                    "orderid": "11061",
                                    "productid": "60",
                                    "qty": "15"
                                },
                                {
                                    "custid": "66",
                                    "companyname": "Customer LHANT",
                                    "orderid": "11062",
                                    "productid": "53",
                                    "qty": "10"
                                },
                                {
                                    "custid": "66",
                                    "companyname": "Customer LHANT",
                                    "orderid": "11062",
                                    "productid": "70",
                                    "qty": "12"
                                },
                                {
                                    "custid": "37",
                                    "companyname": "Customer FRXZL",
                                    "orderid": "11063",
                                    "productid": "34",
                                    "qty": "30"
                                },
                                {
                                    "custid": "37",
                                    "companyname": "Customer FRXZL",
                                    "orderid": "11063",
                                    "productid": "40",
                                    "qty": "40"
                                },
                                {
                                    "custid": "37",
                                    "companyname": "Customer FRXZL",
                                    "orderid": "11063",
                                    "productid": "41",
                                    "qty": "30"
                                },
                                {
                                    "custid": "71",
                                    "companyname": "Customer LCOUJ",
                                    "orderid": "11064",
                                    "productid": "17",
                                    "qty": "77"
                                },
                                {
                                    "custid": "71",
                                    "companyname": "Customer LCOUJ",
                                    "orderid": "11064",
                                    "productid": "41",
                                    "qty": "12"
                                },
                                {
                                    "custid": "71",
                                    "companyname": "Customer LCOUJ",
                                    "orderid": "11064",
                                    "productid": "53",
                                    "qty": "25"
                                },
                                {
                                    "custid": "71",
                                    "companyname": "Customer LCOUJ",
                                    "orderid": "11064",
                                    "productid": "55",
                                    "qty": "4"
                                },
                                {
                                    "custid": "71",
                                    "companyname": "Customer LCOUJ",
                                    "orderid": "11064",
                                    "productid": "68",
                                    "qty": "55"
                                },
                                {
                                    "custid": "46",
                                    "companyname": "Customer XPNIK",
                                    "orderid": "11065",
                                    "productid": "30",
                                    "qty": "4"
                                },
                                {
                                    "custid": "46",
                                    "companyname": "Customer XPNIK",
                                    "orderid": "11065",
                                    "productid": "54",
                                    "qty": "20"
                                },
                                {
                                    "custid": "89",
                                    "companyname": "Customer YBQTI",
                                    "orderid": "11066",
                                    "productid": "16",
                                    "qty": "3"
                                },
                                {
                                    "custid": "89",
                                    "companyname": "Customer YBQTI",
                                    "orderid": "11066",
                                    "productid": "19",
                                    "qty": "42"
                                },
                                {
                                    "custid": "89",
                                    "companyname": "Customer YBQTI",
                                    "orderid": "11066",
                                    "productid": "34",
                                    "qty": "35"
                                },
                                {
                                    "custid": "17",
                                    "companyname": "Customer FEVNN",
                                    "orderid": "11067",
                                    "productid": "41",
                                    "qty": "9"
                                },
                                {
                                    "custid": "62",
                                    "companyname": "Customer WFIZJ",
                                    "orderid": "11068",
                                    "productid": "28",
                                    "qty": "8"
                                },
                                {
                                    "custid": "62",
                                    "companyname": "Customer WFIZJ",
                                    "orderid": "11068",
                                    "productid": "43",
                                    "qty": "36"
                                },
                                {
                                    "custid": "62",
                                    "companyname": "Customer WFIZJ",
                                    "orderid": "11068",
                                    "productid": "77",
                                    "qty": "28"
                                },
                                {
                                    "custid": "80",
                                    "companyname": "Customer VONTK",
                                    "orderid": "11069",
                                    "productid": "39",
                                    "qty": "20"
                                },
                                {
                                    "custid": "44",
                                    "companyname": "Customer OXFRU",
                                    "orderid": "11070",
                                    "productid": "1",
                                    "qty": "40"
                                },
                                {
                                    "custid": "44",
                                    "companyname": "Customer OXFRU",
                                    "orderid": "11070",
                                    "productid": "2",
                                    "qty": "20"
                                },
                                {
                                    "custid": "44",
                                    "companyname": "Customer OXFRU",
                                    "orderid": "11070",
                                    "productid": "16",
                                    "qty": "30"
                                },
                                {
                                    "custid": "44",
                                    "companyname": "Customer OXFRU",
                                    "orderid": "11070",
                                    "productid": "31",
                                    "qty": "20"
                                },
                                {
                                    "custid": "46",
                                    "companyname": "Customer XPNIK",
                                    "orderid": "11071",
                                    "productid": "7",
                                    "qty": "15"
                                },
                                {
                                    "custid": "46",
                                    "companyname": "Customer XPNIK",
                                    "orderid": "11071",
                                    "productid": "13",
                                    "qty": "10"
                                },
                                {
                                    "custid": "20",
                                    "companyname": "Customer THHDP",
                                    "orderid": "11072",
                                    "productid": "2",
                                    "qty": "8"
                                },
                                {
                                    "custid": "20",
                                    "companyname": "Customer THHDP",
                                    "orderid": "11072",
                                    "productid": "41",
                                    "qty": "40"
                                },
                                {
                                    "custid": "20",
                                    "companyname": "Customer THHDP",
                                    "orderid": "11072",
                                    "productid": "50",
                                    "qty": "22"
                                },
                                {
                                    "custid": "20",
                                    "companyname": "Customer THHDP",
                                    "orderid": "11072",
                                    "productid": "64",
                                    "qty": "130"
                                },
                                {
                                    "custid": "58",
                                    "companyname": "Customer AHXHT",
                                    "orderid": "11073",
                                    "productid": "11",
                                    "qty": "10"
                                },
                                {
                                    "custid": "58",
                                    "companyname": "Customer AHXHT",
                                    "orderid": "11073",
                                    "productid": "24",
                                    "qty": "20"
                                },
                                {
                                    "custid": "73",
                                    "companyname": "Customer JMIKW",
                                    "orderid": "11074",
                                    "productid": "16",
                                    "qty": "14"
                                },
                                {
                                    "custid": "68",
                                    "companyname": "Customer CCKOT",
                                    "orderid": "11075",
                                    "productid": "2",
                                    "qty": "10"
                                },
                                {
                                    "custid": "68",
                                    "companyname": "Customer CCKOT",
                                    "orderid": "11075",
                                    "productid": "46",
                                    "qty": "30"
                                },
                                {
                                    "custid": "68",
                                    "companyname": "Customer CCKOT",
                                    "orderid": "11075",
                                    "productid": "76",
                                    "qty": "2"
                                },
                                {
                                    "custid": "9",
                                    "companyname": "Customer RTXGC",
                                    "orderid": "11076",
                                    "productid": "6",
                                    "qty": "20"
                                },
                                {
                                    "custid": "9",
                                    "companyname": "Customer RTXGC",
                                    "orderid": "11076",
                                    "productid": "14",
                                    "qty": "20"
                                },
                                {
                                    "custid": "9",
                                    "companyname": "Customer RTXGC",
                                    "orderid": "11076",
                                    "productid": "19",
                                    "qty": "10"
                                },
                                {
                                    "custid": "65",
                                    "companyname": "Customer NYUHS",
                                    "orderid": "11077",
                                    "productid": "2",
                                    "qty": "24"
                                },
                                {
                                    "custid": "65",
                                    "companyname": "Customer NYUHS",
                                    "orderid": "11077",
                                    "productid": "3",
                                    "qty": "4"
                                },
                                {
                                    "custid": "65",
                                    "companyname": "Customer NYUHS",
                                    "orderid": "11077",
                                    "productid": "4",
                                    "qty": "1"
                                },
                                {
                                    "custid": "65",
                                    "companyname": "Customer NYUHS",
                                    "orderid": "11077",
                                    "productid": "6",
                                    "qty": "1"
                                },
                                {
                                    "custid": "65",
                                    "companyname": "Customer NYUHS",
                                    "orderid": "11077",
                                    "productid": "7",
                                    "qty": "1"
                                },
                                {
                                    "custid": "65",
                                    "companyname": "Customer NYUHS",
                                    "orderid": "11077",
                                    "productid": "8",
                                    "qty": "2"
                                },
                                {
                                    "custid": "65",
                                    "companyname": "Customer NYUHS",
                                    "orderid": "11077",
                                    "productid": "10",
                                    "qty": "1"
                                },
                                {
                                    "custid": "65",
                                    "companyname": "Customer NYUHS",
                                    "orderid": "11077",
                                    "productid": "12",
                                    "qty": "2"
                                },
                                {
                                    "custid": "65",
                                    "companyname": "Customer NYUHS",
                                    "orderid": "11077",
                                    "productid": "13",
                                    "qty": "4"
                                },
                                {
                                    "custid": "65",
                                    "companyname": "Customer NYUHS",
                                    "orderid": "11077",
                                    "productid": "14",
                                    "qty": "1"
                                },
                                {
                                    "custid": "65",
                                    "companyname": "Customer NYUHS",
                                    "orderid": "11077",
                                    "productid": "16",
                                    "qty": "2"
                                },
                                {
                                    "custid": "65",
                                    "companyname": "Customer NYUHS",
                                    "orderid": "11077",
                                    "productid": "20",
                                    "qty": "1"
                                },
                                {
                                    "custid": "65",
                                    "companyname": "Customer NYUHS",
                                    "orderid": "11077",
                                    "productid": "23",
                                    "qty": "2"
                                },
                                {
                                    "custid": "65",
                                    "companyname": "Customer NYUHS",
                                    "orderid": "11077",
                                    "productid": "32",
                                    "qty": "1"
                                },
                                {
                                    "custid": "65",
                                    "companyname": "Customer NYUHS",
                                    "orderid": "11077",
                                    "productid": "39",
                                    "qty": "2"
                                },
                                {
                                    "custid": "65",
                                    "companyname": "Customer NYUHS",
                                    "orderid": "11077",
                                    "productid": "41",
                                    "qty": "3"
                                },
                                {
                                    "custid": "65",
                                    "companyname": "Customer NYUHS",
                                    "orderid": "11077",
                                    "productid": "46",
                                    "qty": "3"
                                },
                                {
                                    "custid": "65",
                                    "companyname": "Customer NYUHS",
                                    "orderid": "11077",
                                    "productid": "52",
                                    "qty": "2"
                                },
                                {
                                    "custid": "65",
                                    "companyname": "Customer NYUHS",
                                    "orderid": "11077",
                                    "productid": "55",
                                    "qty": "2"
                                },
                                {
                                    "custid": "65",
                                    "companyname": "Customer NYUHS",
                                    "orderid": "11077",
                                    "productid": "60",
                                    "qty": "2"
                                },
                                {
                                    "custid": "65",
                                    "companyname": "Customer NYUHS",
                                    "orderid": "11077",
                                    "productid": "64",
                                    "qty": "2"
                                },
                                {
                                    "custid": "65",
                                    "companyname": "Customer NYUHS",
                                    "orderid": "11077",
                                    "productid": "66",
                                    "qty": "1"
                                },
                                {
                                    "custid": "65",
                                    "companyname": "Customer NYUHS",
                                    "orderid": "11077",
                                    "productid": "73",
                                    "qty": "2"
                                },
                                {
                                    "custid": "65",
                                    "companyname": "Customer NYUHS",
                                    "orderid": "11077",
                                    "productid": "75",
                                    "qty": "4"
                                },
                                {
                                    "custid": "65",
                                    "companyname": "Customer NYUHS",
                                    "orderid": "11077",
                                    "productid": "77",
                                    "qty": "2"
                                }
                            ]
                        },
                        "text/html": "<table><tr><th>custid</th><th>companyname</th><th>orderid</th><th>productid</th><th>qty</th></tr><tr><td>85</td><td>Customer ENQZT</td><td>10248</td><td>11</td><td>12</td></tr><tr><td>85</td><td>Customer ENQZT</td><td>10248</td><td>42</td><td>10</td></tr><tr><td>85</td><td>Customer ENQZT</td><td>10248</td><td>72</td><td>5</td></tr><tr><td>79</td><td>Customer FAPSM</td><td>10249</td><td>14</td><td>9</td></tr><tr><td>79</td><td>Customer FAPSM</td><td>10249</td><td>51</td><td>40</td></tr><tr><td>34</td><td>Customer IBVRG</td><td>10250</td><td>41</td><td>10</td></tr><tr><td>34</td><td>Customer IBVRG</td><td>10250</td><td>51</td><td>35</td></tr><tr><td>34</td><td>Customer IBVRG</td><td>10250</td><td>65</td><td>15</td></tr><tr><td>84</td><td>Customer NRCSK</td><td>10251</td><td>22</td><td>6</td></tr><tr><td>84</td><td>Customer NRCSK</td><td>10251</td><td>57</td><td>15</td></tr><tr><td>84</td><td>Customer NRCSK</td><td>10251</td><td>65</td><td>20</td></tr><tr><td>76</td><td>Customer SFOGW</td><td>10252</td><td>20</td><td>40</td></tr><tr><td>76</td><td>Customer SFOGW</td><td>10252</td><td>33</td><td>25</td></tr><tr><td>76</td><td>Customer SFOGW</td><td>10252</td><td>60</td><td>40</td></tr><tr><td>34</td><td>Customer IBVRG</td><td>10253</td><td>31</td><td>20</td></tr><tr><td>34</td><td>Customer IBVRG</td><td>10253</td><td>39</td><td>42</td></tr><tr><td>34</td><td>Customer IBVRG</td><td>10253</td><td>49</td><td>40</td></tr><tr><td>14</td><td>Customer WNMAF</td><td>10254</td><td>24</td><td>15</td></tr><tr><td>14</td><td>Customer WNMAF</td><td>10254</td><td>55</td><td>21</td></tr><tr><td>14</td><td>Customer WNMAF</td><td>10254</td><td>74</td><td>21</td></tr><tr><td>68</td><td>Customer CCKOT</td><td>10255</td><td>2</td><td>20</td></tr><tr><td>68</td><td>Customer CCKOT</td><td>10255</td><td>16</td><td>35</td></tr><tr><td>68</td><td>Customer CCKOT</td><td>10255</td><td>36</td><td>25</td></tr><tr><td>68</td><td>Customer CCKOT</td><td>10255</td><td>59</td><td>30</td></tr><tr><td>88</td><td>Customer SRQVM</td><td>10256</td><td>53</td><td>15</td></tr><tr><td>88</td><td>Customer SRQVM</td><td>10256</td><td>77</td><td>12</td></tr><tr><td>35</td><td>Customer UMTLM</td><td>10257</td><td>27</td><td>25</td></tr><tr><td>35</td><td>Customer UMTLM</td><td>10257</td><td>39</td><td>6</td></tr><tr><td>35</td><td>Customer UMTLM</td><td>10257</td><td>77</td><td>15</td></tr><tr><td>20</td><td>Customer THHDP</td><td>10258</td><td>2</td><td>50</td></tr><tr><td>20</td><td>Customer THHDP</td><td>10258</td><td>5</td><td>65</td></tr><tr><td>20</td><td>Customer THHDP</td><td>10258</td><td>32</td><td>6</td></tr><tr><td>13</td><td>Customer VMLOG</td><td>10259</td><td>21</td><td>10</td></tr><tr><td>13</td><td>Customer VMLOG</td><td>10259</td><td>37</td><td>1</td></tr><tr><td>56</td><td>Customer QNIVZ</td><td>10260</td><td>41</td><td>16</td></tr><tr><td>56</td><td>Customer QNIVZ</td><td>10260</td><td>57</td><td>50</td></tr><tr><td>56</td><td>Customer QNIVZ</td><td>10260</td><td>62</td><td>15</td></tr><tr><td>56</td><td>Customer QNIVZ</td><td>10260</td><td>70</td><td>21</td></tr><tr><td>61</td><td>Customer WULWD</td><td>10261</td><td>21</td><td>20</td></tr><tr><td>61</td><td>Customer WULWD</td><td>10261</td><td>35</td><td>20</td></tr><tr><td>65</td><td>Customer NYUHS</td><td>10262</td><td>5</td><td>12</td></tr><tr><td>65</td><td>Customer NYUHS</td><td>10262</td><td>7</td><td>15</td></tr><tr><td>65</td><td>Customer NYUHS</td><td>10262</td><td>56</td><td>2</td></tr><tr><td>20</td><td>Customer THHDP</td><td>10263</td><td>16</td><td>60</td></tr><tr><td>20</td><td>Customer THHDP</td><td>10263</td><td>24</td><td>28</td></tr><tr><td>20</td><td>Customer THHDP</td><td>10263</td><td>30</td><td>60</td></tr><tr><td>20</td><td>Customer THHDP</td><td>10263</td><td>74</td><td>36</td></tr><tr><td>24</td><td>Customer CYZTN</td><td>10264</td><td>2</td><td>35</td></tr><tr><td>24</td><td>Customer CYZTN</td><td>10264</td><td>41</td><td>25</td></tr><tr><td>7</td><td>Customer QXVLA</td><td>10265</td><td>17</td><td>30</td></tr><tr><td>7</td><td>Customer QXVLA</td><td>10265</td><td>70</td><td>20</td></tr><tr><td>87</td><td>Customer ZHYOS</td><td>10266</td><td>12</td><td>12</td></tr><tr><td>25</td><td>Customer AZJED</td><td>10267</td><td>40</td><td>50</td></tr><tr><td>25</td><td>Customer AZJED</td><td>10267</td><td>59</td><td>70</td></tr><tr><td>25</td><td>Customer AZJED</td><td>10267</td><td>76</td><td>15</td></tr><tr><td>33</td><td>Customer FVXPQ</td><td>10268</td><td>29</td><td>10</td></tr><tr><td>33</td><td>Customer FVXPQ</td><td>10268</td><td>72</td><td>4</td></tr><tr><td>89</td><td>Customer YBQTI</td><td>10269</td><td>33</td><td>60</td></tr><tr><td>89</td><td>Customer YBQTI</td><td>10269</td><td>72</td><td>20</td></tr><tr><td>87</td><td>Customer ZHYOS</td><td>10270</td><td>36</td><td>30</td></tr><tr><td>87</td><td>Customer ZHYOS</td><td>10270</td><td>43</td><td>25</td></tr><tr><td>75</td><td>Customer XOJYP</td><td>10271</td><td>33</td><td>24</td></tr><tr><td>65</td><td>Customer NYUHS</td><td>10272</td><td>20</td><td>6</td></tr><tr><td>65</td><td>Customer NYUHS</td><td>10272</td><td>31</td><td>40</td></tr><tr><td>65</td><td>Customer NYUHS</td><td>10272</td><td>72</td><td>24</td></tr><tr><td>63</td><td>Customer IRRVL</td><td>10273</td><td>10</td><td>24</td></tr><tr><td>63</td><td>Customer IRRVL</td><td>10273</td><td>31</td><td>15</td></tr><tr><td>63</td><td>Customer IRRVL</td><td>10273</td><td>33</td><td>20</td></tr><tr><td>63</td><td>Customer IRRVL</td><td>10273</td><td>40</td><td>60</td></tr><tr><td>63</td><td>Customer IRRVL</td><td>10273</td><td>76</td><td>33</td></tr><tr><td>85</td><td>Customer ENQZT</td><td>10274</td><td>71</td><td>20</td></tr><tr><td>85</td><td>Customer ENQZT</td><td>10274</td><td>72</td><td>7</td></tr><tr><td>49</td><td>Customer CQRAA</td><td>10275</td><td>24</td><td>12</td></tr><tr><td>49</td><td>Customer CQRAA</td><td>10275</td><td>59</td><td>6</td></tr><tr><td>80</td><td>Customer VONTK</td><td>10276</td><td>10</td><td>15</td></tr><tr><td>80</td><td>Customer VONTK</td><td>10276</td><td>13</td><td>10</td></tr><tr><td>52</td><td>Customer PZNLA</td><td>10277</td><td>28</td><td>20</td></tr><tr><td>52</td><td>Customer PZNLA</td><td>10277</td><td>62</td><td>12</td></tr><tr><td>5</td><td>Customer HGVLZ</td><td>10278</td><td>44</td><td>16</td></tr><tr><td>5</td><td>Customer HGVLZ</td><td>10278</td><td>59</td><td>15</td></tr><tr><td>5</td><td>Customer HGVLZ</td><td>10278</td><td>63</td><td>8</td></tr><tr><td>5</td><td>Customer HGVLZ</td><td>10278</td><td>73</td><td>25</td></tr><tr><td>44</td><td>Customer OXFRU</td><td>10279</td><td>17</td><td>15</td></tr><tr><td>5</td><td>Customer HGVLZ</td><td>10280</td><td>24</td><td>12</td></tr><tr><td>5</td><td>Customer HGVLZ</td><td>10280</td><td>55</td><td>20</td></tr><tr><td>5</td><td>Customer HGVLZ</td><td>10280</td><td>75</td><td>30</td></tr><tr><td>69</td><td>Customer SIUIH</td><td>10281</td><td>19</td><td>1</td></tr><tr><td>69</td><td>Customer SIUIH</td><td>10281</td><td>24</td><td>6</td></tr><tr><td>69</td><td>Customer SIUIH</td><td>10281</td><td>35</td><td>4</td></tr><tr><td>69</td><td>Customer SIUIH</td><td>10282</td><td>30</td><td>6</td></tr><tr><td>69</td><td>Customer SIUIH</td><td>10282</td><td>57</td><td>2</td></tr><tr><td>46</td><td>Customer XPNIK</td><td>10283</td><td>15</td><td>20</td></tr><tr><td>46</td><td>Customer XPNIK</td><td>10283</td><td>19</td><td>18</td></tr><tr><td>46</td><td>Customer XPNIK</td><td>10283</td><td>60</td><td>35</td></tr><tr><td>46</td><td>Customer XPNIK</td><td>10283</td><td>72</td><td>3</td></tr><tr><td>44</td><td>Customer OXFRU</td><td>10284</td><td>27</td><td>15</td></tr><tr><td>44</td><td>Customer OXFRU</td><td>10284</td><td>44</td><td>21</td></tr><tr><td>44</td><td>Customer OXFRU</td><td>10284</td><td>60</td><td>20</td></tr><tr><td>44</td><td>Customer OXFRU</td><td>10284</td><td>67</td><td>5</td></tr><tr><td>63</td><td>Customer IRRVL</td><td>10285</td><td>1</td><td>45</td></tr><tr><td>63</td><td>Customer IRRVL</td><td>10285</td><td>40</td><td>40</td></tr><tr><td>63</td><td>Customer IRRVL</td><td>10285</td><td>53</td><td>36</td></tr><tr><td>63</td><td>Customer IRRVL</td><td>10286</td><td>35</td><td>100</td></tr><tr><td>63</td><td>Customer IRRVL</td><td>10286</td><td>62</td><td>40</td></tr><tr><td>67</td><td>Customer QVEPD</td><td>10287</td><td>16</td><td>40</td></tr><tr><td>67</td><td>Customer QVEPD</td><td>10287</td><td>34</td><td>20</td></tr><tr><td>67</td><td>Customer QVEPD</td><td>10287</td><td>46</td><td>15</td></tr><tr><td>66</td><td>Customer LHANT</td><td>10288</td><td>54</td><td>10</td></tr><tr><td>66</td><td>Customer LHANT</td><td>10288</td><td>68</td><td>3</td></tr><tr><td>11</td><td>Customer UBHAU</td><td>10289</td><td>3</td><td>30</td></tr><tr><td>11</td><td>Customer UBHAU</td><td>10289</td><td>64</td><td>9</td></tr><tr><td>15</td><td>Customer JUWXK</td><td>10290</td><td>5</td><td>20</td></tr><tr><td>15</td><td>Customer JUWXK</td><td>10290</td><td>29</td><td>15</td></tr><tr><td>15</td><td>Customer JUWXK</td><td>10290</td><td>49</td><td>15</td></tr><tr><td>15</td><td>Customer JUWXK</td><td>10290</td><td>77</td><td>10</td></tr><tr><td>61</td><td>Customer WULWD</td><td>10291</td><td>13</td><td>20</td></tr><tr><td>61</td><td>Customer WULWD</td><td>10291</td><td>44</td><td>24</td></tr><tr><td>61</td><td>Customer WULWD</td><td>10291</td><td>51</td><td>2</td></tr><tr><td>81</td><td>Customer YQQWW</td><td>10292</td><td>20</td><td>20</td></tr><tr><td>80</td><td>Customer VONTK</td><td>10293</td><td>18</td><td>12</td></tr><tr><td>80</td><td>Customer VONTK</td><td>10293</td><td>24</td><td>10</td></tr><tr><td>80</td><td>Customer VONTK</td><td>10293</td><td>63</td><td>5</td></tr><tr><td>80</td><td>Customer VONTK</td><td>10293</td><td>75</td><td>6</td></tr><tr><td>65</td><td>Customer NYUHS</td><td>10294</td><td>1</td><td>18</td></tr><tr><td>65</td><td>Customer NYUHS</td><td>10294</td><td>17</td><td>15</td></tr><tr><td>65</td><td>Customer NYUHS</td><td>10294</td><td>43</td><td>15</td></tr><tr><td>65</td><td>Customer NYUHS</td><td>10294</td><td>60</td><td>21</td></tr><tr><td>65</td><td>Customer NYUHS</td><td>10294</td><td>75</td><td>6</td></tr><tr><td>85</td><td>Customer ENQZT</td><td>10295</td><td>56</td><td>4</td></tr><tr><td>46</td><td>Customer XPNIK</td><td>10296</td><td>11</td><td>12</td></tr><tr><td>46</td><td>Customer XPNIK</td><td>10296</td><td>16</td><td>30</td></tr><tr><td>46</td><td>Customer XPNIK</td><td>10296</td><td>69</td><td>15</td></tr><tr><td>7</td><td>Customer QXVLA</td><td>10297</td><td>39</td><td>60</td></tr><tr><td>7</td><td>Customer QXVLA</td><td>10297</td><td>72</td><td>20</td></tr><tr><td>37</td><td>Customer FRXZL</td><td>10298</td><td>2</td><td>40</td></tr><tr><td>37</td><td>Customer FRXZL</td><td>10298</td><td>36</td><td>40</td></tr><tr><td>37</td><td>Customer FRXZL</td><td>10298</td><td>59</td><td>30</td></tr><tr><td>37</td><td>Customer FRXZL</td><td>10298</td><td>62</td><td>15</td></tr><tr><td>67</td><td>Customer QVEPD</td><td>10299</td><td>19</td><td>15</td></tr><tr><td>67</td><td>Customer QVEPD</td><td>10299</td><td>70</td><td>20</td></tr><tr><td>49</td><td>Customer CQRAA</td><td>10300</td><td>66</td><td>30</td></tr><tr><td>49</td><td>Customer CQRAA</td><td>10300</td><td>68</td><td>20</td></tr><tr><td>86</td><td>Customer SNXOJ</td><td>10301</td><td>40</td><td>10</td></tr><tr><td>86</td><td>Customer SNXOJ</td><td>10301</td><td>56</td><td>20</td></tr><tr><td>76</td><td>Customer SFOGW</td><td>10302</td><td>17</td><td>40</td></tr><tr><td>76</td><td>Customer SFOGW</td><td>10302</td><td>28</td><td>28</td></tr><tr><td>76</td><td>Customer SFOGW</td><td>10302</td><td>43</td><td>12</td></tr><tr><td>30</td><td>Customer KSLQF</td><td>10303</td><td>40</td><td>40</td></tr><tr><td>30</td><td>Customer KSLQF</td><td>10303</td><td>65</td><td>30</td></tr><tr><td>30</td><td>Customer KSLQF</td><td>10303</td><td>68</td><td>15</td></tr><tr><td>80</td><td>Customer VONTK</td><td>10304</td><td>49</td><td>30</td></tr><tr><td>80</td><td>Customer VONTK</td><td>10304</td><td>59</td><td>10</td></tr><tr><td>80</td><td>Customer VONTK</td><td>10304</td><td>71</td><td>2</td></tr><tr><td>55</td><td>Customer KZQZT</td><td>10305</td><td>18</td><td>25</td></tr><tr><td>55</td><td>Customer KZQZT</td><td>10305</td><td>29</td><td>25</td></tr><tr><td>55</td><td>Customer KZQZT</td><td>10305</td><td>39</td><td>30</td></tr><tr><td>69</td><td>Customer SIUIH</td><td>10306</td><td>30</td><td>10</td></tr><tr><td>69</td><td>Customer SIUIH</td><td>10306</td><td>53</td><td>10</td></tr><tr><td>69</td><td>Customer SIUIH</td><td>10306</td><td>54</td><td>5</td></tr><tr><td>48</td><td>Customer DVFMB</td><td>10307</td><td>62</td><td>10</td></tr><tr><td>48</td><td>Customer DVFMB</td><td>10307</td><td>68</td><td>3</td></tr><tr><td>2</td><td>Customer MLTDN</td><td>10308</td><td>69</td><td>1</td></tr><tr><td>2</td><td>Customer MLTDN</td><td>10308</td><td>70</td><td>5</td></tr><tr><td>37</td><td>Customer FRXZL</td><td>10309</td><td>4</td><td>20</td></tr><tr><td>37</td><td>Customer FRXZL</td><td>10309</td><td>6</td><td>30</td></tr><tr><td>37</td><td>Customer FRXZL</td><td>10309</td><td>42</td><td>2</td></tr><tr><td>37</td><td>Customer FRXZL</td><td>10309</td><td>43</td><td>20</td></tr><tr><td>37</td><td>Customer FRXZL</td><td>10309</td><td>71</td><td>3</td></tr><tr><td>77</td><td>Customer LCYBZ</td><td>10310</td><td>16</td><td>10</td></tr><tr><td>77</td><td>Customer LCYBZ</td><td>10310</td><td>62</td><td>5</td></tr><tr><td>18</td><td>Customer BSVAR</td><td>10311</td><td>42</td><td>6</td></tr><tr><td>18</td><td>Customer BSVAR</td><td>10311</td><td>69</td><td>7</td></tr><tr><td>86</td><td>Customer SNXOJ</td><td>10312</td><td>28</td><td>4</td></tr><tr><td>86</td><td>Customer SNXOJ</td><td>10312</td><td>43</td><td>24</td></tr><tr><td>86</td><td>Customer SNXOJ</td><td>10312</td><td>53</td><td>20</td></tr><tr><td>86</td><td>Customer SNXOJ</td><td>10312</td><td>75</td><td>10</td></tr><tr><td>63</td><td>Customer IRRVL</td><td>10313</td><td>36</td><td>12</td></tr><tr><td>65</td><td>Customer NYUHS</td><td>10314</td><td>32</td><td>40</td></tr><tr><td>65</td><td>Customer NYUHS</td><td>10314</td><td>58</td><td>30</td></tr><tr><td>65</td><td>Customer NYUHS</td><td>10314</td><td>62</td><td>25</td></tr><tr><td>38</td><td>Customer LJUCA</td><td>10315</td><td>34</td><td>14</td></tr><tr><td>38</td><td>Customer LJUCA</td><td>10315</td><td>70</td><td>30</td></tr><tr><td>65</td><td>Customer NYUHS</td><td>10316</td><td>41</td><td>10</td></tr><tr><td>65</td><td>Customer NYUHS</td><td>10316</td><td>62</td><td>70</td></tr><tr><td>48</td><td>Customer DVFMB</td><td>10317</td><td>1</td><td>20</td></tr><tr><td>38</td><td>Customer LJUCA</td><td>10318</td><td>41</td><td>20</td></tr><tr><td>38</td><td>Customer LJUCA</td><td>10318</td><td>76</td><td>6</td></tr><tr><td>80</td><td>Customer VONTK</td><td>10319</td><td>17</td><td>8</td></tr><tr><td>80</td><td>Customer VONTK</td><td>10319</td><td>28</td><td>14</td></tr><tr><td>80</td><td>Customer VONTK</td><td>10319</td><td>76</td><td>30</td></tr><tr><td>87</td><td>Customer ZHYOS</td><td>10320</td><td>71</td><td>30</td></tr><tr><td>38</td><td>Customer LJUCA</td><td>10321</td><td>35</td><td>10</td></tr><tr><td>58</td><td>Customer AHXHT</td><td>10322</td><td>52</td><td>20</td></tr><tr><td>39</td><td>Customer GLLAG</td><td>10323</td><td>15</td><td>5</td></tr><tr><td>39</td><td>Customer GLLAG</td><td>10323</td><td>25</td><td>4</td></tr><tr><td>39</td><td>Customer GLLAG</td><td>10323</td><td>39</td><td>4</td></tr><tr><td>71</td><td>Customer LCOUJ</td><td>10324</td><td>16</td><td>21</td></tr><tr><td>71</td><td>Customer LCOUJ</td><td>10324</td><td>35</td><td>70</td></tr><tr><td>71</td><td>Customer LCOUJ</td><td>10324</td><td>46</td><td>30</td></tr><tr><td>71</td><td>Customer LCOUJ</td><td>10324</td><td>59</td><td>40</td></tr><tr><td>71</td><td>Customer LCOUJ</td><td>10324</td><td>63</td><td>80</td></tr><tr><td>39</td><td>Customer GLLAG</td><td>10325</td><td>6</td><td>6</td></tr><tr><td>39</td><td>Customer GLLAG</td><td>10325</td><td>13</td><td>12</td></tr><tr><td>39</td><td>Customer GLLAG</td><td>10325</td><td>14</td><td>9</td></tr><tr><td>39</td><td>Customer GLLAG</td><td>10325</td><td>31</td><td>4</td></tr><tr><td>39</td><td>Customer GLLAG</td><td>10325</td><td>72</td><td>40</td></tr><tr><td>8</td><td>Customer QUHWH</td><td>10326</td><td>4</td><td>24</td></tr><tr><td>8</td><td>Customer QUHWH</td><td>10326</td><td>57</td><td>16</td></tr><tr><td>8</td><td>Customer QUHWH</td><td>10326</td><td>75</td><td>50</td></tr><tr><td>24</td><td>Customer CYZTN</td><td>10327</td><td>2</td><td>25</td></tr><tr><td>24</td><td>Customer CYZTN</td><td>10327</td><td>11</td><td>50</td></tr><tr><td>24</td><td>Customer CYZTN</td><td>10327</td><td>30</td><td>35</td></tr><tr><td>24</td><td>Customer CYZTN</td><td>10327</td><td>58</td><td>30</td></tr><tr><td>28</td><td>Customer XYUFB</td><td>10328</td><td>59</td><td>9</td></tr><tr><td>28</td><td>Customer XYUFB</td><td>10328</td><td>65</td><td>40</td></tr><tr><td>28</td><td>Customer XYUFB</td><td>10328</td><td>68</td><td>10</td></tr><tr><td>75</td><td>Customer XOJYP</td><td>10329</td><td>19</td><td>10</td></tr><tr><td>75</td><td>Customer XOJYP</td><td>10329</td><td>30</td><td>8</td></tr><tr><td>75</td><td>Customer XOJYP</td><td>10329</td><td>38</td><td>20</td></tr><tr><td>75</td><td>Customer XOJYP</td><td>10329</td><td>56</td><td>12</td></tr><tr><td>46</td><td>Customer XPNIK</td><td>10330</td><td>26</td><td>50</td></tr><tr><td>46</td><td>Customer XPNIK</td><td>10330</td><td>72</td><td>25</td></tr><tr><td>9</td><td>Customer RTXGC</td><td>10331</td><td>54</td><td>15</td></tr><tr><td>51</td><td>Customer PVDZC</td><td>10332</td><td>18</td><td>40</td></tr><tr><td>51</td><td>Customer PVDZC</td><td>10332</td><td>42</td><td>10</td></tr><tr><td>51</td><td>Customer PVDZC</td><td>10332</td><td>47</td><td>16</td></tr><tr><td>87</td><td>Customer ZHYOS</td><td>10333</td><td>14</td><td>10</td></tr><tr><td>87</td><td>Customer ZHYOS</td><td>10333</td><td>21</td><td>10</td></tr><tr><td>87</td><td>Customer ZHYOS</td><td>10333</td><td>71</td><td>40</td></tr><tr><td>84</td><td>Customer NRCSK</td><td>10334</td><td>52</td><td>8</td></tr><tr><td>84</td><td>Customer NRCSK</td><td>10334</td><td>68</td><td>10</td></tr><tr><td>37</td><td>Customer FRXZL</td><td>10335</td><td>2</td><td>7</td></tr><tr><td>37</td><td>Customer FRXZL</td><td>10335</td><td>31</td><td>25</td></tr><tr><td>37</td><td>Customer FRXZL</td><td>10335</td><td>32</td><td>6</td></tr><tr><td>37</td><td>Customer FRXZL</td><td>10335</td><td>51</td><td>48</td></tr><tr><td>60</td><td>Customer QZURI</td><td>10336</td><td>4</td><td>18</td></tr><tr><td>25</td><td>Customer AZJED</td><td>10337</td><td>23</td><td>40</td></tr><tr><td>25</td><td>Customer AZJED</td><td>10337</td><td>26</td><td>24</td></tr><tr><td>25</td><td>Customer AZJED</td><td>10337</td><td>36</td><td>20</td></tr><tr><td>25</td><td>Customer AZJED</td><td>10337</td><td>37</td><td>28</td></tr><tr><td>25</td><td>Customer AZJED</td><td>10337</td><td>72</td><td>25</td></tr><tr><td>55</td><td>Customer KZQZT</td><td>10338</td><td>17</td><td>20</td></tr><tr><td>55</td><td>Customer KZQZT</td><td>10338</td><td>30</td><td>15</td></tr><tr><td>51</td><td>Customer PVDZC</td><td>10339</td><td>4</td><td>10</td></tr><tr><td>51</td><td>Customer PVDZC</td><td>10339</td><td>17</td><td>70</td></tr><tr><td>51</td><td>Customer PVDZC</td><td>10339</td><td>62</td><td>28</td></tr><tr><td>9</td><td>Customer RTXGC</td><td>10340</td><td>18</td><td>20</td></tr><tr><td>9</td><td>Customer RTXGC</td><td>10340</td><td>41</td><td>12</td></tr><tr><td>9</td><td>Customer RTXGC</td><td>10340</td><td>43</td><td>40</td></tr><tr><td>73</td><td>Customer JMIKW</td><td>10341</td><td>33</td><td>8</td></tr><tr><td>73</td><td>Customer JMIKW</td><td>10341</td><td>59</td><td>9</td></tr><tr><td>25</td><td>Customer AZJED</td><td>10342</td><td>2</td><td>24</td></tr><tr><td>25</td><td>Customer AZJED</td><td>10342</td><td>31</td><td>56</td></tr><tr><td>25</td><td>Customer AZJED</td><td>10342</td><td>36</td><td>40</td></tr><tr><td>25</td><td>Customer AZJED</td><td>10342</td><td>55</td><td>40</td></tr><tr><td>44</td><td>Customer OXFRU</td><td>10343</td><td>64</td><td>50</td></tr><tr><td>44</td><td>Customer OXFRU</td><td>10343</td><td>68</td><td>4</td></tr><tr><td>44</td><td>Customer OXFRU</td><td>10343</td><td>76</td><td>15</td></tr><tr><td>89</td><td>Customer YBQTI</td><td>10344</td><td>4</td><td>35</td></tr><tr><td>89</td><td>Customer YBQTI</td><td>10344</td><td>8</td><td>70</td></tr><tr><td>63</td><td>Customer IRRVL</td><td>10345</td><td>8</td><td>70</td></tr><tr><td>63</td><td>Customer IRRVL</td><td>10345</td><td>19</td><td>80</td></tr><tr><td>63</td><td>Customer IRRVL</td><td>10345</td><td>42</td><td>9</td></tr><tr><td>65</td><td>Customer NYUHS</td><td>10346</td><td>17</td><td>36</td></tr><tr><td>65</td><td>Customer NYUHS</td><td>10346</td><td>56</td><td>20</td></tr><tr><td>21</td><td>Customer KIDPX</td><td>10347</td><td>25</td><td>10</td></tr><tr><td>21</td><td>Customer KIDPX</td><td>10347</td><td>39</td><td>50</td></tr><tr><td>21</td><td>Customer KIDPX</td><td>10347</td><td>40</td><td>4</td></tr><tr><td>21</td><td>Customer KIDPX</td><td>10347</td><td>75</td><td>6</td></tr><tr><td>86</td><td>Customer SNXOJ</td><td>10348</td><td>1</td><td>15</td></tr><tr><td>86</td><td>Customer SNXOJ</td><td>10348</td><td>23</td><td>25</td></tr><tr><td>75</td><td>Customer XOJYP</td><td>10349</td><td>54</td><td>24</td></tr><tr><td>41</td><td>Customer XIIWM</td><td>10350</td><td>50</td><td>15</td></tr><tr><td>41</td><td>Customer XIIWM</td><td>10350</td><td>69</td><td>18</td></tr><tr><td>20</td><td>Customer THHDP</td><td>10351</td><td>38</td><td>20</td></tr><tr><td>20</td><td>Customer THHDP</td><td>10351</td><td>41</td><td>13</td></tr><tr><td>20</td><td>Customer THHDP</td><td>10351</td><td>44</td><td>77</td></tr><tr><td>20</td><td>Customer THHDP</td><td>10351</td><td>65</td><td>10</td></tr><tr><td>28</td><td>Customer XYUFB</td><td>10352</td><td>24</td><td>10</td></tr><tr><td>28</td><td>Customer XYUFB</td><td>10352</td><td>54</td><td>20</td></tr><tr><td>59</td><td>Customer LOLJO</td><td>10353</td><td>11</td><td>12</td></tr><tr><td>59</td><td>Customer LOLJO</td><td>10353</td><td>38</td><td>50</td></tr><tr><td>58</td><td>Customer AHXHT</td><td>10354</td><td>1</td><td>12</td></tr><tr><td>58</td><td>Customer AHXHT</td><td>10354</td><td>29</td><td>4</td></tr><tr><td>4</td><td>Customer HFBZG</td><td>10355</td><td>24</td><td>25</td></tr><tr><td>4</td><td>Customer HFBZG</td><td>10355</td><td>57</td><td>25</td></tr><tr><td>86</td><td>Customer SNXOJ</td><td>10356</td><td>31</td><td>30</td></tr><tr><td>86</td><td>Customer SNXOJ</td><td>10356</td><td>55</td><td>12</td></tr><tr><td>86</td><td>Customer SNXOJ</td><td>10356</td><td>69</td><td>20</td></tr><tr><td>46</td><td>Customer XPNIK</td><td>10357</td><td>10</td><td>30</td></tr><tr><td>46</td><td>Customer XPNIK</td><td>10357</td><td>26</td><td>16</td></tr><tr><td>46</td><td>Customer XPNIK</td><td>10357</td><td>60</td><td>8</td></tr><tr><td>41</td><td>Customer XIIWM</td><td>10358</td><td>24</td><td>10</td></tr><tr><td>41</td><td>Customer XIIWM</td><td>10358</td><td>34</td><td>10</td></tr><tr><td>41</td><td>Customer XIIWM</td><td>10358</td><td>36</td><td>20</td></tr><tr><td>72</td><td>Customer AHPOP</td><td>10359</td><td>16</td><td>56</td></tr><tr><td>72</td><td>Customer AHPOP</td><td>10359</td><td>31</td><td>70</td></tr><tr><td>72</td><td>Customer AHPOP</td><td>10359</td><td>60</td><td>80</td></tr><tr><td>7</td><td>Customer QXVLA</td><td>10360</td><td>28</td><td>30</td></tr><tr><td>7</td><td>Customer QXVLA</td><td>10360</td><td>29</td><td>35</td></tr><tr><td>7</td><td>Customer QXVLA</td><td>10360</td><td>38</td><td>10</td></tr><tr><td>7</td><td>Customer QXVLA</td><td>10360</td><td>49</td><td>35</td></tr><tr><td>7</td><td>Customer QXVLA</td><td>10360</td><td>54</td><td>28</td></tr><tr><td>63</td><td>Customer IRRVL</td><td>10361</td><td>39</td><td>54</td></tr><tr><td>63</td><td>Customer IRRVL</td><td>10361</td><td>60</td><td>55</td></tr><tr><td>9</td><td>Customer RTXGC</td><td>10362</td><td>25</td><td>50</td></tr><tr><td>9</td><td>Customer RTXGC</td><td>10362</td><td>51</td><td>20</td></tr><tr><td>9</td><td>Customer RTXGC</td><td>10362</td><td>54</td><td>24</td></tr><tr><td>17</td><td>Customer FEVNN</td><td>10363</td><td>31</td><td>20</td></tr><tr><td>17</td><td>Customer FEVNN</td><td>10363</td><td>75</td><td>12</td></tr><tr><td>17</td><td>Customer FEVNN</td><td>10363</td><td>76</td><td>12</td></tr><tr><td>19</td><td>Customer RFNQC</td><td>10364</td><td>69</td><td>30</td></tr><tr><td>19</td><td>Customer RFNQC</td><td>10364</td><td>71</td><td>5</td></tr><tr><td>3</td><td>Customer KBUDE</td><td>10365</td><td>11</td><td>24</td></tr><tr><td>29</td><td>Customer MDLWA</td><td>10366</td><td>65</td><td>5</td></tr><tr><td>29</td><td>Customer MDLWA</td><td>10366</td><td>77</td><td>5</td></tr><tr><td>83</td><td>Customer ZRNDE</td><td>10367</td><td>34</td><td>36</td></tr><tr><td>83</td><td>Customer ZRNDE</td><td>10367</td><td>54</td><td>18</td></tr><tr><td>83</td><td>Customer ZRNDE</td><td>10367</td><td>65</td><td>15</td></tr><tr><td>83</td><td>Customer ZRNDE</td><td>10367</td><td>77</td><td>7</td></tr><tr><td>20</td><td>Customer THHDP</td><td>10368</td><td>21</td><td>5</td></tr><tr><td>20</td><td>Customer THHDP</td><td>10368</td><td>28</td><td>13</td></tr><tr><td>20</td><td>Customer THHDP</td><td>10368</td><td>57</td><td>25</td></tr><tr><td>20</td><td>Customer THHDP</td><td>10368</td><td>64</td><td>35</td></tr><tr><td>75</td><td>Customer XOJYP</td><td>10369</td><td>29</td><td>20</td></tr><tr><td>75</td><td>Customer XOJYP</td><td>10369</td><td>56</td><td>18</td></tr><tr><td>14</td><td>Customer WNMAF</td><td>10370</td><td>1</td><td>15</td></tr><tr><td>14</td><td>Customer WNMAF</td><td>10370</td><td>64</td><td>30</td></tr><tr><td>14</td><td>Customer WNMAF</td><td>10370</td><td>74</td><td>20</td></tr><tr><td>41</td><td>Customer XIIWM</td><td>10371</td><td>36</td><td>6</td></tr><tr><td>62</td><td>Customer WFIZJ</td><td>10372</td><td>20</td><td>12</td></tr><tr><td>62</td><td>Customer WFIZJ</td><td>10372</td><td>38</td><td>40</td></tr><tr><td>62</td><td>Customer WFIZJ</td><td>10372</td><td>60</td><td>70</td></tr><tr><td>62</td><td>Customer WFIZJ</td><td>10372</td><td>72</td><td>42</td></tr><tr><td>37</td><td>Customer FRXZL</td><td>10373</td><td>58</td><td>80</td></tr><tr><td>37</td><td>Customer FRXZL</td><td>10373</td><td>71</td><td>50</td></tr><tr><td>91</td><td>Customer CCFIZ</td><td>10374</td><td>31</td><td>30</td></tr><tr><td>91</td><td>Customer CCFIZ</td><td>10374</td><td>58</td><td>15</td></tr><tr><td>36</td><td>Customer LVJSO</td><td>10375</td><td>14</td><td>15</td></tr><tr><td>36</td><td>Customer LVJSO</td><td>10375</td><td>54</td><td>10</td></tr><tr><td>51</td><td>Customer PVDZC</td><td>10376</td><td>31</td><td>42</td></tr><tr><td>72</td><td>Customer AHPOP</td><td>10377</td><td>28</td><td>20</td></tr><tr><td>72</td><td>Customer AHPOP</td><td>10377</td><td>39</td><td>20</td></tr><tr><td>24</td><td>Customer CYZTN</td><td>10378</td><td>71</td><td>6</td></tr><tr><td>61</td><td>Customer WULWD</td><td>10379</td><td>41</td><td>8</td></tr><tr><td>61</td><td>Customer WULWD</td><td>10379</td><td>63</td><td>16</td></tr><tr><td>61</td><td>Customer WULWD</td><td>10379</td><td>65</td><td>20</td></tr><tr><td>37</td><td>Customer FRXZL</td><td>10380</td><td>30</td><td>18</td></tr><tr><td>37</td><td>Customer FRXZL</td><td>10380</td><td>53</td><td>20</td></tr><tr><td>37</td><td>Customer FRXZL</td><td>10380</td><td>60</td><td>6</td></tr><tr><td>37</td><td>Customer FRXZL</td><td>10380</td><td>70</td><td>30</td></tr><tr><td>46</td><td>Customer XPNIK</td><td>10381</td><td>74</td><td>14</td></tr><tr><td>20</td><td>Customer THHDP</td><td>10382</td><td>5</td><td>32</td></tr><tr><td>20</td><td>Customer THHDP</td><td>10382</td><td>18</td><td>9</td></tr><tr><td>20</td><td>Customer THHDP</td><td>10382</td><td>29</td><td>14</td></tr><tr><td>20</td><td>Customer THHDP</td><td>10382</td><td>33</td><td>60</td></tr><tr><td>20</td><td>Customer THHDP</td><td>10382</td><td>74</td><td>50</td></tr><tr><td>4</td><td>Customer HFBZG</td><td>10383</td><td>13</td><td>20</td></tr><tr><td>4</td><td>Customer HFBZG</td><td>10383</td><td>50</td><td>15</td></tr><tr><td>4</td><td>Customer HFBZG</td><td>10383</td><td>56</td><td>20</td></tr><tr><td>5</td><td>Customer HGVLZ</td><td>10384</td><td>20</td><td>28</td></tr><tr><td>5</td><td>Customer HGVLZ</td><td>10384</td><td>60</td><td>15</td></tr><tr><td>75</td><td>Customer XOJYP</td><td>10385</td><td>7</td><td>10</td></tr><tr><td>75</td><td>Customer XOJYP</td><td>10385</td><td>60</td><td>20</td></tr><tr><td>75</td><td>Customer XOJYP</td><td>10385</td><td>68</td><td>8</td></tr><tr><td>21</td><td>Customer KIDPX</td><td>10386</td><td>24</td><td>15</td></tr><tr><td>21</td><td>Customer KIDPX</td><td>10386</td><td>34</td><td>10</td></tr><tr><td>70</td><td>Customer TMXGN</td><td>10387</td><td>24</td><td>15</td></tr><tr><td>70</td><td>Customer TMXGN</td><td>10387</td><td>28</td><td>6</td></tr><tr><td>70</td><td>Customer TMXGN</td><td>10387</td><td>59</td><td>12</td></tr><tr><td>70</td><td>Customer TMXGN</td><td>10387</td><td>71</td><td>15</td></tr><tr><td>72</td><td>Customer AHPOP</td><td>10388</td><td>45</td><td>15</td></tr><tr><td>72</td><td>Customer AHPOP</td><td>10388</td><td>52</td><td>20</td></tr><tr><td>72</td><td>Customer AHPOP</td><td>10388</td><td>53</td><td>40</td></tr><tr><td>10</td><td>Customer EEALV</td><td>10389</td><td>10</td><td>16</td></tr><tr><td>10</td><td>Customer EEALV</td><td>10389</td><td>55</td><td>15</td></tr><tr><td>10</td><td>Customer EEALV</td><td>10389</td><td>62</td><td>20</td></tr><tr><td>10</td><td>Customer EEALV</td><td>10389</td><td>70</td><td>30</td></tr><tr><td>20</td><td>Customer THHDP</td><td>10390</td><td>31</td><td>60</td></tr><tr><td>20</td><td>Customer THHDP</td><td>10390</td><td>35</td><td>40</td></tr><tr><td>20</td><td>Customer THHDP</td><td>10390</td><td>46</td><td>45</td></tr><tr><td>20</td><td>Customer THHDP</td><td>10390</td><td>72</td><td>24</td></tr><tr><td>17</td><td>Customer FEVNN</td><td>10391</td><td>13</td><td>18</td></tr><tr><td>59</td><td>Customer LOLJO</td><td>10392</td><td>69</td><td>50</td></tr><tr><td>71</td><td>Customer LCOUJ</td><td>10393</td><td>2</td><td>25</td></tr><tr><td>71</td><td>Customer LCOUJ</td><td>10393</td><td>14</td><td>42</td></tr><tr><td>71</td><td>Customer LCOUJ</td><td>10393</td><td>25</td><td>7</td></tr><tr><td>71</td><td>Customer LCOUJ</td><td>10393</td><td>26</td><td>70</td></tr><tr><td>71</td><td>Customer LCOUJ</td><td>10393</td><td>31</td><td>32</td></tr><tr><td>36</td><td>Customer LVJSO</td><td>10394</td><td>13</td><td>10</td></tr><tr><td>36</td><td>Customer LVJSO</td><td>10394</td><td>62</td><td>10</td></tr><tr><td>35</td><td>Customer UMTLM</td><td>10395</td><td>46</td><td>28</td></tr><tr><td>35</td><td>Customer UMTLM</td><td>10395</td><td>53</td><td>70</td></tr><tr><td>35</td><td>Customer UMTLM</td><td>10395</td><td>69</td><td>8</td></tr><tr><td>25</td><td>Customer AZJED</td><td>10396</td><td>23</td><td>40</td></tr><tr><td>25</td><td>Customer AZJED</td><td>10396</td><td>71</td><td>60</td></tr><tr><td>25</td><td>Customer AZJED</td><td>10396</td><td>72</td><td>21</td></tr><tr><td>60</td><td>Customer QZURI</td><td>10397</td><td>21</td><td>10</td></tr><tr><td>60</td><td>Customer QZURI</td><td>10397</td><td>51</td><td>18</td></tr><tr><td>71</td><td>Customer LCOUJ</td><td>10398</td><td>35</td><td>30</td></tr><tr><td>71</td><td>Customer LCOUJ</td><td>10398</td><td>55</td><td>120</td></tr><tr><td>83</td><td>Customer ZRNDE</td><td>10399</td><td>68</td><td>60</td></tr><tr><td>83</td><td>Customer ZRNDE</td><td>10399</td><td>71</td><td>30</td></tr><tr><td>83</td><td>Customer ZRNDE</td><td>10399</td><td>76</td><td>35</td></tr><tr><td>83</td><td>Customer ZRNDE</td><td>10399</td><td>77</td><td>14</td></tr><tr><td>19</td><td>Customer RFNQC</td><td>10400</td><td>29</td><td>21</td></tr><tr><td>19</td><td>Customer RFNQC</td><td>10400</td><td>35</td><td>35</td></tr><tr><td>19</td><td>Customer RFNQC</td><td>10400</td><td>49</td><td>30</td></tr><tr><td>65</td><td>Customer NYUHS</td><td>10401</td><td>30</td><td>18</td></tr><tr><td>65</td><td>Customer NYUHS</td><td>10401</td><td>56</td><td>70</td></tr><tr><td>65</td><td>Customer NYUHS</td><td>10401</td><td>65</td><td>20</td></tr><tr><td>65</td><td>Customer NYUHS</td><td>10401</td><td>71</td><td>60</td></tr><tr><td>20</td><td>Customer THHDP</td><td>10402</td><td>23</td><td>60</td></tr><tr><td>20</td><td>Customer THHDP</td><td>10402</td><td>63</td><td>65</td></tr><tr><td>20</td><td>Customer THHDP</td><td>10403</td><td>16</td><td>21</td></tr><tr><td>20</td><td>Customer THHDP</td><td>10403</td><td>48</td><td>70</td></tr><tr><td>49</td><td>Customer CQRAA</td><td>10404</td><td>26</td><td>30</td></tr><tr><td>49</td><td>Customer CQRAA</td><td>10404</td><td>42</td><td>40</td></tr><tr><td>49</td><td>Customer CQRAA</td><td>10404</td><td>49</td><td>30</td></tr><tr><td>47</td><td>Customer PSQUZ</td><td>10405</td><td>3</td><td>50</td></tr><tr><td>62</td><td>Customer WFIZJ</td><td>10406</td><td>1</td><td>10</td></tr><tr><td>62</td><td>Customer WFIZJ</td><td>10406</td><td>21</td><td>30</td></tr><tr><td>62</td><td>Customer WFIZJ</td><td>10406</td><td>28</td><td>42</td></tr><tr><td>62</td><td>Customer WFIZJ</td><td>10406</td><td>36</td><td>5</td></tr><tr><td>62</td><td>Customer WFIZJ</td><td>10406</td><td>40</td><td>2</td></tr><tr><td>56</td><td>Customer QNIVZ</td><td>10407</td><td>11</td><td>30</td></tr><tr><td>56</td><td>Customer QNIVZ</td><td>10407</td><td>69</td><td>15</td></tr><tr><td>56</td><td>Customer QNIVZ</td><td>10407</td><td>71</td><td>15</td></tr><tr><td>23</td><td>Customer WVFAF</td><td>10408</td><td>37</td><td>10</td></tr><tr><td>23</td><td>Customer WVFAF</td><td>10408</td><td>54</td><td>6</td></tr><tr><td>23</td><td>Customer WVFAF</td><td>10408</td><td>62</td><td>35</td></tr><tr><td>54</td><td>Customer TDKEG</td><td>10409</td><td>14</td><td>12</td></tr><tr><td>54</td><td>Customer TDKEG</td><td>10409</td><td>21</td><td>12</td></tr><tr><td>10</td><td>Customer EEALV</td><td>10410</td><td>33</td><td>49</td></tr><tr><td>10</td><td>Customer EEALV</td><td>10410</td><td>59</td><td>16</td></tr><tr><td>10</td><td>Customer EEALV</td><td>10411</td><td>41</td><td>25</td></tr><tr><td>10</td><td>Customer EEALV</td><td>10411</td><td>44</td><td>40</td></tr><tr><td>10</td><td>Customer EEALV</td><td>10411</td><td>59</td><td>9</td></tr><tr><td>87</td><td>Customer ZHYOS</td><td>10412</td><td>14</td><td>20</td></tr><tr><td>41</td><td>Customer XIIWM</td><td>10413</td><td>1</td><td>24</td></tr><tr><td>41</td><td>Customer XIIWM</td><td>10413</td><td>62</td><td>40</td></tr><tr><td>41</td><td>Customer XIIWM</td><td>10413</td><td>76</td><td>14</td></tr><tr><td>21</td><td>Customer KIDPX</td><td>10414</td><td>19</td><td>18</td></tr><tr><td>21</td><td>Customer KIDPX</td><td>10414</td><td>33</td><td>50</td></tr><tr><td>36</td><td>Customer LVJSO</td><td>10415</td><td>17</td><td>2</td></tr><tr><td>36</td><td>Customer LVJSO</td><td>10415</td><td>33</td><td>20</td></tr><tr><td>87</td><td>Customer ZHYOS</td><td>10416</td><td>19</td><td>20</td></tr><tr><td>87</td><td>Customer ZHYOS</td><td>10416</td><td>53</td><td>10</td></tr><tr><td>87</td><td>Customer ZHYOS</td><td>10416</td><td>57</td><td>20</td></tr><tr><td>73</td><td>Customer JMIKW</td><td>10417</td><td>38</td><td>50</td></tr><tr><td>73</td><td>Customer JMIKW</td><td>10417</td><td>46</td><td>2</td></tr><tr><td>73</td><td>Customer JMIKW</td><td>10417</td><td>68</td><td>36</td></tr><tr><td>73</td><td>Customer JMIKW</td><td>10417</td><td>77</td><td>35</td></tr><tr><td>63</td><td>Customer IRRVL</td><td>10418</td><td>2</td><td>60</td></tr><tr><td>63</td><td>Customer IRRVL</td><td>10418</td><td>47</td><td>55</td></tr><tr><td>63</td><td>Customer IRRVL</td><td>10418</td><td>61</td><td>16</td></tr><tr><td>63</td><td>Customer IRRVL</td><td>10418</td><td>74</td><td>15</td></tr><tr><td>68</td><td>Customer CCKOT</td><td>10419</td><td>60</td><td>60</td></tr><tr><td>68</td><td>Customer CCKOT</td><td>10419</td><td>69</td><td>20</td></tr><tr><td>88</td><td>Customer SRQVM</td><td>10420</td><td>9</td><td>20</td></tr><tr><td>88</td><td>Customer SRQVM</td><td>10420</td><td>13</td><td>2</td></tr><tr><td>88</td><td>Customer SRQVM</td><td>10420</td><td>70</td><td>8</td></tr><tr><td>88</td><td>Customer SRQVM</td><td>10420</td><td>73</td><td>20</td></tr><tr><td>61</td><td>Customer WULWD</td><td>10421</td><td>19</td><td>4</td></tr><tr><td>61</td><td>Customer WULWD</td><td>10421</td><td>26</td><td>30</td></tr><tr><td>61</td><td>Customer WULWD</td><td>10421</td><td>53</td><td>15</td></tr><tr><td>61</td><td>Customer WULWD</td><td>10421</td><td>77</td><td>10</td></tr><tr><td>27</td><td>Customer WMFEA</td><td>10422</td><td>26</td><td>2</td></tr><tr><td>31</td><td>Customer YJCBX</td><td>10423</td><td>31</td><td>14</td></tr><tr><td>31</td><td>Customer YJCBX</td><td>10423</td><td>59</td><td>20</td></tr><tr><td>51</td><td>Customer PVDZC</td><td>10424</td><td>35</td><td>60</td></tr><tr><td>51</td><td>Customer PVDZC</td><td>10424</td><td>38</td><td>49</td></tr><tr><td>51</td><td>Customer PVDZC</td><td>10424</td><td>68</td><td>30</td></tr><tr><td>41</td><td>Customer XIIWM</td><td>10425</td><td>55</td><td>10</td></tr><tr><td>41</td><td>Customer XIIWM</td><td>10425</td><td>76</td><td>20</td></tr><tr><td>29</td><td>Customer MDLWA</td><td>10426</td><td>56</td><td>5</td></tr><tr><td>29</td><td>Customer MDLWA</td><td>10426</td><td>64</td><td>7</td></tr><tr><td>59</td><td>Customer LOLJO</td><td>10427</td><td>14</td><td>35</td></tr><tr><td>66</td><td>Customer LHANT</td><td>10428</td><td>46</td><td>20</td></tr><tr><td>37</td><td>Customer FRXZL</td><td>10429</td><td>50</td><td>40</td></tr><tr><td>37</td><td>Customer FRXZL</td><td>10429</td><td>63</td><td>35</td></tr><tr><td>20</td><td>Customer THHDP</td><td>10430</td><td>17</td><td>45</td></tr><tr><td>20</td><td>Customer THHDP</td><td>10430</td><td>21</td><td>50</td></tr><tr><td>20</td><td>Customer THHDP</td><td>10430</td><td>56</td><td>30</td></tr><tr><td>20</td><td>Customer THHDP</td><td>10430</td><td>59</td><td>70</td></tr><tr><td>10</td><td>Customer EEALV</td><td>10431</td><td>17</td><td>50</td></tr><tr><td>10</td><td>Customer EEALV</td><td>10431</td><td>40</td><td>50</td></tr><tr><td>10</td><td>Customer EEALV</td><td>10431</td><td>47</td><td>30</td></tr><tr><td>75</td><td>Customer XOJYP</td><td>10432</td><td>26</td><td>10</td></tr><tr><td>75</td><td>Customer XOJYP</td><td>10432</td><td>54</td><td>40</td></tr><tr><td>60</td><td>Customer QZURI</td><td>10433</td><td>56</td><td>28</td></tr><tr><td>24</td><td>Customer CYZTN</td><td>10434</td><td>11</td><td>6</td></tr><tr><td>24</td><td>Customer CYZTN</td><td>10434</td><td>76</td><td>18</td></tr><tr><td>16</td><td>Customer GYBBY</td><td>10435</td><td>2</td><td>10</td></tr><tr><td>16</td><td>Customer GYBBY</td><td>10435</td><td>22</td><td>12</td></tr><tr><td>16</td><td>Customer GYBBY</td><td>10435</td><td>72</td><td>10</td></tr><tr><td>7</td><td>Customer QXVLA</td><td>10436</td><td>46</td><td>5</td></tr><tr><td>7</td><td>Customer QXVLA</td><td>10436</td><td>56</td><td>40</td></tr><tr><td>7</td><td>Customer QXVLA</td><td>10436</td><td>64</td><td>30</td></tr><tr><td>7</td><td>Customer QXVLA</td><td>10436</td><td>75</td><td>24</td></tr><tr><td>87</td><td>Customer ZHYOS</td><td>10437</td><td>53</td><td>15</td></tr><tr><td>79</td><td>Customer FAPSM</td><td>10438</td><td>19</td><td>15</td></tr><tr><td>79</td><td>Customer FAPSM</td><td>10438</td><td>34</td><td>20</td></tr><tr><td>79</td><td>Customer FAPSM</td><td>10438</td><td>57</td><td>15</td></tr><tr><td>51</td><td>Customer PVDZC</td><td>10439</td><td>12</td><td>15</td></tr><tr><td>51</td><td>Customer PVDZC</td><td>10439</td><td>16</td><td>16</td></tr><tr><td>51</td><td>Customer PVDZC</td><td>10439</td><td>64</td><td>6</td></tr><tr><td>51</td><td>Customer PVDZC</td><td>10439</td><td>74</td><td>30</td></tr><tr><td>71</td><td>Customer LCOUJ</td><td>10440</td><td>2</td><td>45</td></tr><tr><td>71</td><td>Customer LCOUJ</td><td>10440</td><td>16</td><td>49</td></tr><tr><td>71</td><td>Customer LCOUJ</td><td>10440</td><td>29</td><td>24</td></tr><tr><td>71</td><td>Customer LCOUJ</td><td>10440</td><td>61</td><td>90</td></tr><tr><td>55</td><td>Customer KZQZT</td><td>10441</td><td>27</td><td>50</td></tr><tr><td>20</td><td>Customer THHDP</td><td>10442</td><td>11</td><td>30</td></tr><tr><td>20</td><td>Customer THHDP</td><td>10442</td><td>54</td><td>80</td></tr><tr><td>20</td><td>Customer THHDP</td><td>10442</td><td>66</td><td>60</td></tr><tr><td>66</td><td>Customer LHANT</td><td>10443</td><td>11</td><td>6</td></tr><tr><td>66</td><td>Customer LHANT</td><td>10443</td><td>28</td><td>12</td></tr><tr><td>5</td><td>Customer HGVLZ</td><td>10444</td><td>17</td><td>10</td></tr><tr><td>5</td><td>Customer HGVLZ</td><td>10444</td><td>26</td><td>15</td></tr><tr><td>5</td><td>Customer HGVLZ</td><td>10444</td><td>35</td><td>8</td></tr><tr><td>5</td><td>Customer HGVLZ</td><td>10444</td><td>41</td><td>30</td></tr><tr><td>5</td><td>Customer HGVLZ</td><td>10445</td><td>39</td><td>6</td></tr><tr><td>5</td><td>Customer HGVLZ</td><td>10445</td><td>54</td><td>15</td></tr><tr><td>79</td><td>Customer FAPSM</td><td>10446</td><td>19</td><td>12</td></tr><tr><td>79</td><td>Customer FAPSM</td><td>10446</td><td>24</td><td>20</td></tr><tr><td>79</td><td>Customer FAPSM</td><td>10446</td><td>31</td><td>3</td></tr><tr><td>79</td><td>Customer FAPSM</td><td>10446</td><td>52</td><td>15</td></tr><tr><td>67</td><td>Customer QVEPD</td><td>10447</td><td>19</td><td>40</td></tr><tr><td>67</td><td>Customer QVEPD</td><td>10447</td><td>65</td><td>35</td></tr><tr><td>67</td><td>Customer QVEPD</td><td>10447</td><td>71</td><td>2</td></tr><tr><td>64</td><td>Customer LWGMD</td><td>10448</td><td>26</td><td>6</td></tr><tr><td>64</td><td>Customer LWGMD</td><td>10448</td><td>40</td><td>20</td></tr><tr><td>7</td><td>Customer QXVLA</td><td>10449</td><td>10</td><td>14</td></tr><tr><td>7</td><td>Customer QXVLA</td><td>10449</td><td>52</td><td>20</td></tr><tr><td>7</td><td>Customer QXVLA</td><td>10449</td><td>62</td><td>35</td></tr><tr><td>84</td><td>Customer NRCSK</td><td>10450</td><td>10</td><td>20</td></tr><tr><td>84</td><td>Customer NRCSK</td><td>10450</td><td>54</td><td>6</td></tr><tr><td>63</td><td>Customer IRRVL</td><td>10451</td><td>55</td><td>120</td></tr><tr><td>63</td><td>Customer IRRVL</td><td>10451</td><td>64</td><td>35</td></tr><tr><td>63</td><td>Customer IRRVL</td><td>10451</td><td>65</td><td>28</td></tr><tr><td>63</td><td>Customer IRRVL</td><td>10451</td><td>77</td><td>55</td></tr><tr><td>71</td><td>Customer LCOUJ</td><td>10452</td><td>28</td><td>15</td></tr><tr><td>71</td><td>Customer LCOUJ</td><td>10452</td><td>44</td><td>100</td></tr><tr><td>4</td><td>Customer HFBZG</td><td>10453</td><td>48</td><td>15</td></tr><tr><td>4</td><td>Customer HFBZG</td><td>10453</td><td>70</td><td>25</td></tr><tr><td>41</td><td>Customer XIIWM</td><td>10454</td><td>16</td><td>20</td></tr><tr><td>41</td><td>Customer XIIWM</td><td>10454</td><td>33</td><td>20</td></tr><tr><td>41</td><td>Customer XIIWM</td><td>10454</td><td>46</td><td>10</td></tr><tr><td>87</td><td>Customer ZHYOS</td><td>10455</td><td>39</td><td>20</td></tr><tr><td>87</td><td>Customer ZHYOS</td><td>10455</td><td>53</td><td>50</td></tr><tr><td>87</td><td>Customer ZHYOS</td><td>10455</td><td>61</td><td>25</td></tr><tr><td>87</td><td>Customer ZHYOS</td><td>10455</td><td>71</td><td>30</td></tr><tr><td>39</td><td>Customer GLLAG</td><td>10456</td><td>21</td><td>40</td></tr><tr><td>39</td><td>Customer GLLAG</td><td>10456</td><td>49</td><td>21</td></tr><tr><td>39</td><td>Customer GLLAG</td><td>10457</td><td>59</td><td>36</td></tr><tr><td>76</td><td>Customer SFOGW</td><td>10458</td><td>26</td><td>30</td></tr><tr><td>76</td><td>Customer SFOGW</td><td>10458</td><td>28</td><td>30</td></tr><tr><td>76</td><td>Customer SFOGW</td><td>10458</td><td>43</td><td>20</td></tr><tr><td>76</td><td>Customer SFOGW</td><td>10458</td><td>56</td><td>15</td></tr><tr><td>76</td><td>Customer SFOGW</td><td>10458</td><td>71</td><td>50</td></tr><tr><td>84</td><td>Customer NRCSK</td><td>10459</td><td>7</td><td>16</td></tr><tr><td>84</td><td>Customer NRCSK</td><td>10459</td><td>46</td><td>20</td></tr><tr><td>84</td><td>Customer NRCSK</td><td>10459</td><td>72</td><td>40</td></tr><tr><td>24</td><td>Customer CYZTN</td><td>10460</td><td>68</td><td>21</td></tr><tr><td>24</td><td>Customer CYZTN</td><td>10460</td><td>75</td><td>4</td></tr><tr><td>46</td><td>Customer XPNIK</td><td>10461</td><td>21</td><td>40</td></tr><tr><td>46</td><td>Customer XPNIK</td><td>10461</td><td>30</td><td>28</td></tr><tr><td>46</td><td>Customer XPNIK</td><td>10461</td><td>55</td><td>60</td></tr><tr><td>16</td><td>Customer GYBBY</td><td>10462</td><td>13</td><td>1</td></tr><tr><td>16</td><td>Customer GYBBY</td><td>10462</td><td>23</td><td>21</td></tr><tr><td>76</td><td>Customer SFOGW</td><td>10463</td><td>19</td><td>21</td></tr><tr><td>76</td><td>Customer SFOGW</td><td>10463</td><td>42</td><td>50</td></tr><tr><td>28</td><td>Customer XYUFB</td><td>10464</td><td>4</td><td>16</td></tr><tr><td>28</td><td>Customer XYUFB</td><td>10464</td><td>43</td><td>3</td></tr><tr><td>28</td><td>Customer XYUFB</td><td>10464</td><td>56</td><td>30</td></tr><tr><td>28</td><td>Customer XYUFB</td><td>10464</td><td>60</td><td>20</td></tr><tr><td>83</td><td>Customer ZRNDE</td><td>10465</td><td>24</td><td>25</td></tr><tr><td>83</td><td>Customer ZRNDE</td><td>10465</td><td>29</td><td>18</td></tr><tr><td>83</td><td>Customer ZRNDE</td><td>10465</td><td>40</td><td>20</td></tr><tr><td>83</td><td>Customer ZRNDE</td><td>10465</td><td>45</td><td>30</td></tr><tr><td>83</td><td>Customer ZRNDE</td><td>10465</td><td>50</td><td>25</td></tr><tr><td>15</td><td>Customer JUWXK</td><td>10466</td><td>11</td><td>10</td></tr><tr><td>15</td><td>Customer JUWXK</td><td>10466</td><td>46</td><td>5</td></tr><tr><td>49</td><td>Customer CQRAA</td><td>10467</td><td>24</td><td>28</td></tr><tr><td>49</td><td>Customer CQRAA</td><td>10467</td><td>25</td><td>12</td></tr><tr><td>39</td><td>Customer GLLAG</td><td>10468</td><td>30</td><td>8</td></tr><tr><td>39</td><td>Customer GLLAG</td><td>10468</td><td>43</td><td>15</td></tr><tr><td>89</td><td>Customer YBQTI</td><td>10469</td><td>2</td><td>40</td></tr><tr><td>89</td><td>Customer YBQTI</td><td>10469</td><td>16</td><td>35</td></tr><tr><td>89</td><td>Customer YBQTI</td><td>10469</td><td>44</td><td>2</td></tr><tr><td>9</td><td>Customer RTXGC</td><td>10470</td><td>18</td><td>30</td></tr><tr><td>9</td><td>Customer RTXGC</td><td>10470</td><td>23</td><td>15</td></tr><tr><td>9</td><td>Customer RTXGC</td><td>10470</td><td>64</td><td>8</td></tr><tr><td>11</td><td>Customer UBHAU</td><td>10471</td><td>7</td><td>30</td></tr><tr><td>11</td><td>Customer UBHAU</td><td>10471</td><td>56</td><td>20</td></tr><tr><td>72</td><td>Customer AHPOP</td><td>10472</td><td>24</td><td>80</td></tr><tr><td>72</td><td>Customer AHPOP</td><td>10472</td><td>51</td><td>18</td></tr><tr><td>38</td><td>Customer LJUCA</td><td>10473</td><td>33</td><td>12</td></tr><tr><td>38</td><td>Customer LJUCA</td><td>10473</td><td>71</td><td>12</td></tr><tr><td>58</td><td>Customer AHXHT</td><td>10474</td><td>14</td><td>12</td></tr><tr><td>58</td><td>Customer AHXHT</td><td>10474</td><td>28</td><td>18</td></tr><tr><td>58</td><td>Customer AHXHT</td><td>10474</td><td>40</td><td>21</td></tr><tr><td>58</td><td>Customer AHXHT</td><td>10474</td><td>75</td><td>10</td></tr><tr><td>76</td><td>Customer SFOGW</td><td>10475</td><td>31</td><td>35</td></tr><tr><td>76</td><td>Customer SFOGW</td><td>10475</td><td>66</td><td>60</td></tr><tr><td>76</td><td>Customer SFOGW</td><td>10475</td><td>76</td><td>42</td></tr><tr><td>35</td><td>Customer UMTLM</td><td>10476</td><td>55</td><td>2</td></tr><tr><td>35</td><td>Customer UMTLM</td><td>10476</td><td>70</td><td>12</td></tr><tr><td>60</td><td>Customer QZURI</td><td>10477</td><td>1</td><td>15</td></tr><tr><td>60</td><td>Customer QZURI</td><td>10477</td><td>21</td><td>21</td></tr><tr><td>60</td><td>Customer QZURI</td><td>10477</td><td>39</td><td>20</td></tr><tr><td>84</td><td>Customer NRCSK</td><td>10478</td><td>10</td><td>20</td></tr><tr><td>65</td><td>Customer NYUHS</td><td>10479</td><td>38</td><td>30</td></tr><tr><td>65</td><td>Customer NYUHS</td><td>10479</td><td>53</td><td>28</td></tr><tr><td>65</td><td>Customer NYUHS</td><td>10479</td><td>59</td><td>60</td></tr><tr><td>65</td><td>Customer NYUHS</td><td>10479</td><td>64</td><td>30</td></tr><tr><td>23</td><td>Customer WVFAF</td><td>10480</td><td>47</td><td>30</td></tr><tr><td>23</td><td>Customer WVFAF</td><td>10480</td><td>59</td><td>12</td></tr><tr><td>67</td><td>Customer QVEPD</td><td>10481</td><td>49</td><td>24</td></tr><tr><td>67</td><td>Customer QVEPD</td><td>10481</td><td>60</td><td>40</td></tr><tr><td>43</td><td>Customer UISOJ</td><td>10482</td><td>40</td><td>10</td></tr><tr><td>89</td><td>Customer YBQTI</td><td>10483</td><td>34</td><td>35</td></tr><tr><td>89</td><td>Customer YBQTI</td><td>10483</td><td>77</td><td>30</td></tr><tr><td>11</td><td>Customer UBHAU</td><td>10484</td><td>21</td><td>14</td></tr><tr><td>11</td><td>Customer UBHAU</td><td>10484</td><td>40</td><td>10</td></tr><tr><td>11</td><td>Customer UBHAU</td><td>10484</td><td>51</td><td>3</td></tr><tr><td>47</td><td>Customer PSQUZ</td><td>10485</td><td>2</td><td>20</td></tr><tr><td>47</td><td>Customer PSQUZ</td><td>10485</td><td>3</td><td>20</td></tr><tr><td>47</td><td>Customer PSQUZ</td><td>10485</td><td>55</td><td>30</td></tr><tr><td>47</td><td>Customer PSQUZ</td><td>10485</td><td>70</td><td>60</td></tr><tr><td>35</td><td>Customer UMTLM</td><td>10486</td><td>11</td><td>5</td></tr><tr><td>35</td><td>Customer UMTLM</td><td>10486</td><td>51</td><td>25</td></tr><tr><td>35</td><td>Customer UMTLM</td><td>10486</td><td>74</td><td>16</td></tr><tr><td>62</td><td>Customer WFIZJ</td><td>10487</td><td>19</td><td>5</td></tr><tr><td>62</td><td>Customer WFIZJ</td><td>10487</td><td>26</td><td>30</td></tr><tr><td>62</td><td>Customer WFIZJ</td><td>10487</td><td>54</td><td>24</td></tr><tr><td>25</td><td>Customer AZJED</td><td>10488</td><td>59</td><td>30</td></tr><tr><td>25</td><td>Customer AZJED</td><td>10488</td><td>73</td><td>20</td></tr><tr><td>59</td><td>Customer LOLJO</td><td>10489</td><td>11</td><td>15</td></tr><tr><td>59</td><td>Customer LOLJO</td><td>10489</td><td>16</td><td>18</td></tr><tr><td>35</td><td>Customer UMTLM</td><td>10490</td><td>59</td><td>60</td></tr><tr><td>35</td><td>Customer UMTLM</td><td>10490</td><td>68</td><td>30</td></tr><tr><td>35</td><td>Customer UMTLM</td><td>10490</td><td>75</td><td>36</td></tr><tr><td>28</td><td>Customer XYUFB</td><td>10491</td><td>44</td><td>15</td></tr><tr><td>28</td><td>Customer XYUFB</td><td>10491</td><td>77</td><td>7</td></tr><tr><td>10</td><td>Customer EEALV</td><td>10492</td><td>25</td><td>60</td></tr><tr><td>10</td><td>Customer EEALV</td><td>10492</td><td>42</td><td>20</td></tr><tr><td>41</td><td>Customer XIIWM</td><td>10493</td><td>65</td><td>15</td></tr><tr><td>41</td><td>Customer XIIWM</td><td>10493</td><td>66</td><td>10</td></tr><tr><td>41</td><td>Customer XIIWM</td><td>10493</td><td>69</td><td>10</td></tr><tr><td>15</td><td>Customer JUWXK</td><td>10494</td><td>56</td><td>30</td></tr><tr><td>42</td><td>Customer IAIJK</td><td>10495</td><td>23</td><td>10</td></tr><tr><td>42</td><td>Customer IAIJK</td><td>10495</td><td>41</td><td>20</td></tr><tr><td>42</td><td>Customer IAIJK</td><td>10495</td><td>77</td><td>5</td></tr><tr><td>81</td><td>Customer YQQWW</td><td>10496</td><td>31</td><td>20</td></tr><tr><td>44</td><td>Customer OXFRU</td><td>10497</td><td>56</td><td>14</td></tr><tr><td>44</td><td>Customer OXFRU</td><td>10497</td><td>72</td><td>25</td></tr><tr><td>44</td><td>Customer OXFRU</td><td>10497</td><td>77</td><td>25</td></tr><tr><td>35</td><td>Customer UMTLM</td><td>10498</td><td>24</td><td>14</td></tr><tr><td>35</td><td>Customer UMTLM</td><td>10498</td><td>40</td><td>5</td></tr><tr><td>35</td><td>Customer UMTLM</td><td>10498</td><td>42</td><td>30</td></tr><tr><td>46</td><td>Customer XPNIK</td><td>10499</td><td>28</td><td>20</td></tr><tr><td>46</td><td>Customer XPNIK</td><td>10499</td><td>49</td><td>25</td></tr><tr><td>41</td><td>Customer XIIWM</td><td>10500</td><td>15</td><td>12</td></tr><tr><td>41</td><td>Customer XIIWM</td><td>10500</td><td>28</td><td>8</td></tr><tr><td>6</td><td>Customer XHXJV</td><td>10501</td><td>54</td><td>20</td></tr><tr><td>58</td><td>Customer AHXHT</td><td>10502</td><td>45</td><td>21</td></tr><tr><td>58</td><td>Customer AHXHT</td><td>10502</td><td>53</td><td>6</td></tr><tr><td>58</td><td>Customer AHXHT</td><td>10502</td><td>67</td><td>30</td></tr><tr><td>37</td><td>Customer FRXZL</td><td>10503</td><td>14</td><td>70</td></tr><tr><td>37</td><td>Customer FRXZL</td><td>10503</td><td>65</td><td>20</td></tr><tr><td>89</td><td>Customer YBQTI</td><td>10504</td><td>2</td><td>12</td></tr><tr><td>89</td><td>Customer YBQTI</td><td>10504</td><td>21</td><td>12</td></tr><tr><td>89</td><td>Customer YBQTI</td><td>10504</td><td>53</td><td>10</td></tr><tr><td>89</td><td>Customer YBQTI</td><td>10504</td><td>61</td><td>25</td></tr><tr><td>51</td><td>Customer PVDZC</td><td>10505</td><td>62</td><td>3</td></tr><tr><td>39</td><td>Customer GLLAG</td><td>10506</td><td>25</td><td>18</td></tr><tr><td>39</td><td>Customer GLLAG</td><td>10506</td><td>70</td><td>14</td></tr><tr><td>3</td><td>Customer KBUDE</td><td>10507</td><td>43</td><td>15</td></tr><tr><td>3</td><td>Customer KBUDE</td><td>10507</td><td>48</td><td>15</td></tr><tr><td>56</td><td>Customer QNIVZ</td><td>10508</td><td>13</td><td>10</td></tr><tr><td>56</td><td>Customer QNIVZ</td><td>10508</td><td>39</td><td>10</td></tr><tr><td>6</td><td>Customer XHXJV</td><td>10509</td><td>28</td><td>3</td></tr><tr><td>71</td><td>Customer LCOUJ</td><td>10510</td><td>29</td><td>36</td></tr><tr><td>71</td><td>Customer LCOUJ</td><td>10510</td><td>75</td><td>36</td></tr><tr><td>9</td><td>Customer RTXGC</td><td>10511</td><td>4</td><td>50</td></tr><tr><td>9</td><td>Customer RTXGC</td><td>10511</td><td>7</td><td>50</td></tr><tr><td>9</td><td>Customer RTXGC</td><td>10511</td><td>8</td><td>10</td></tr><tr><td>21</td><td>Customer KIDPX</td><td>10512</td><td>24</td><td>10</td></tr><tr><td>21</td><td>Customer KIDPX</td><td>10512</td><td>46</td><td>9</td></tr><tr><td>21</td><td>Customer KIDPX</td><td>10512</td><td>47</td><td>6</td></tr><tr><td>21</td><td>Customer KIDPX</td><td>10512</td><td>60</td><td>12</td></tr><tr><td>86</td><td>Customer SNXOJ</td><td>10513</td><td>21</td><td>40</td></tr><tr><td>86</td><td>Customer SNXOJ</td><td>10513</td><td>32</td><td>50</td></tr><tr><td>86</td><td>Customer SNXOJ</td><td>10513</td><td>61</td><td>15</td></tr><tr><td>20</td><td>Customer THHDP</td><td>10514</td><td>20</td><td>39</td></tr><tr><td>20</td><td>Customer THHDP</td><td>10514</td><td>28</td><td>35</td></tr><tr><td>20</td><td>Customer THHDP</td><td>10514</td><td>56</td><td>70</td></tr><tr><td>20</td><td>Customer THHDP</td><td>10514</td><td>65</td><td>39</td></tr><tr><td>20</td><td>Customer THHDP</td><td>10514</td><td>75</td><td>50</td></tr><tr><td>63</td><td>Customer IRRVL</td><td>10515</td><td>9</td><td>16</td></tr><tr><td>63</td><td>Customer IRRVL</td><td>10515</td><td>16</td><td>50</td></tr><tr><td>63</td><td>Customer IRRVL</td><td>10515</td><td>27</td><td>120</td></tr><tr><td>63</td><td>Customer IRRVL</td><td>10515</td><td>33</td><td>16</td></tr><tr><td>63</td><td>Customer IRRVL</td><td>10515</td><td>60</td><td>84</td></tr><tr><td>37</td><td>Customer FRXZL</td><td>10516</td><td>18</td><td>25</td></tr><tr><td>37</td><td>Customer FRXZL</td><td>10516</td><td>41</td><td>80</td></tr><tr><td>37</td><td>Customer FRXZL</td><td>10516</td><td>42</td><td>20</td></tr><tr><td>53</td><td>Customer GCJSG</td><td>10517</td><td>52</td><td>6</td></tr><tr><td>53</td><td>Customer GCJSG</td><td>10517</td><td>59</td><td>4</td></tr><tr><td>53</td><td>Customer GCJSG</td><td>10517</td><td>70</td><td>6</td></tr><tr><td>80</td><td>Customer VONTK</td><td>10518</td><td>24</td><td>5</td></tr><tr><td>80</td><td>Customer VONTK</td><td>10518</td><td>38</td><td>15</td></tr><tr><td>80</td><td>Customer VONTK</td><td>10518</td><td>44</td><td>9</td></tr><tr><td>14</td><td>Customer WNMAF</td><td>10519</td><td>10</td><td>16</td></tr><tr><td>14</td><td>Customer WNMAF</td><td>10519</td><td>56</td><td>40</td></tr><tr><td>14</td><td>Customer WNMAF</td><td>10519</td><td>60</td><td>10</td></tr><tr><td>70</td><td>Customer TMXGN</td><td>10520</td><td>24</td><td>8</td></tr><tr><td>70</td><td>Customer TMXGN</td><td>10520</td><td>53</td><td>5</td></tr><tr><td>12</td><td>Customer PSNMQ</td><td>10521</td><td>35</td><td>3</td></tr><tr><td>12</td><td>Customer PSNMQ</td><td>10521</td><td>41</td><td>10</td></tr><tr><td>12</td><td>Customer PSNMQ</td><td>10521</td><td>68</td><td>6</td></tr><tr><td>44</td><td>Customer OXFRU</td><td>10522</td><td>1</td><td>40</td></tr><tr><td>44</td><td>Customer OXFRU</td><td>10522</td><td>8</td><td>24</td></tr><tr><td>44</td><td>Customer OXFRU</td><td>10522</td><td>30</td><td>20</td></tr><tr><td>44</td><td>Customer OXFRU</td><td>10522</td><td>40</td><td>25</td></tr><tr><td>72</td><td>Customer AHPOP</td><td>10523</td><td>17</td><td>25</td></tr><tr><td>72</td><td>Customer AHPOP</td><td>10523</td><td>20</td><td>15</td></tr><tr><td>72</td><td>Customer AHPOP</td><td>10523</td><td>37</td><td>18</td></tr><tr><td>72</td><td>Customer AHPOP</td><td>10523</td><td>41</td><td>6</td></tr><tr><td>5</td><td>Customer HGVLZ</td><td>10524</td><td>10</td><td>2</td></tr><tr><td>5</td><td>Customer HGVLZ</td><td>10524</td><td>30</td><td>10</td></tr><tr><td>5</td><td>Customer HGVLZ</td><td>10524</td><td>43</td><td>60</td></tr><tr><td>5</td><td>Customer HGVLZ</td><td>10524</td><td>54</td><td>15</td></tr><tr><td>9</td><td>Customer RTXGC</td><td>10525</td><td>36</td><td>30</td></tr><tr><td>9</td><td>Customer RTXGC</td><td>10525</td><td>40</td><td>15</td></tr><tr><td>87</td><td>Customer ZHYOS</td><td>10526</td><td>1</td><td>8</td></tr><tr><td>87</td><td>Customer ZHYOS</td><td>10526</td><td>13</td><td>10</td></tr><tr><td>87</td><td>Customer ZHYOS</td><td>10526</td><td>56</td><td>30</td></tr><tr><td>63</td><td>Customer IRRVL</td><td>10527</td><td>4</td><td>50</td></tr><tr><td>63</td><td>Customer IRRVL</td><td>10527</td><td>36</td><td>30</td></tr><tr><td>32</td><td>Customer YSIQX</td><td>10528</td><td>11</td><td>3</td></tr><tr><td>32</td><td>Customer YSIQX</td><td>10528</td><td>33</td><td>8</td></tr><tr><td>32</td><td>Customer YSIQX</td><td>10528</td><td>72</td><td>9</td></tr><tr><td>50</td><td>Customer JYPSC</td><td>10529</td><td>55</td><td>14</td></tr><tr><td>50</td><td>Customer JYPSC</td><td>10529</td><td>68</td><td>20</td></tr><tr><td>50</td><td>Customer JYPSC</td><td>10529</td><td>69</td><td>10</td></tr><tr><td>59</td><td>Customer LOLJO</td><td>10530</td><td>17</td><td>40</td></tr><tr><td>59</td><td>Customer LOLJO</td><td>10530</td><td>43</td><td>25</td></tr><tr><td>59</td><td>Customer LOLJO</td><td>10530</td><td>61</td><td>20</td></tr><tr><td>59</td><td>Customer LOLJO</td><td>10530</td><td>76</td><td>50</td></tr><tr><td>54</td><td>Customer TDKEG</td><td>10531</td><td>59</td><td>2</td></tr><tr><td>19</td><td>Customer RFNQC</td><td>10532</td><td>30</td><td>15</td></tr><tr><td>19</td><td>Customer RFNQC</td><td>10532</td><td>66</td><td>24</td></tr><tr><td>24</td><td>Customer CYZTN</td><td>10533</td><td>4</td><td>50</td></tr><tr><td>24</td><td>Customer CYZTN</td><td>10533</td><td>72</td><td>24</td></tr><tr><td>24</td><td>Customer CYZTN</td><td>10533</td><td>73</td><td>24</td></tr><tr><td>44</td><td>Customer OXFRU</td><td>10534</td><td>30</td><td>10</td></tr><tr><td>44</td><td>Customer OXFRU</td><td>10534</td><td>40</td><td>10</td></tr><tr><td>44</td><td>Customer OXFRU</td><td>10534</td><td>54</td><td>10</td></tr><tr><td>3</td><td>Customer KBUDE</td><td>10535</td><td>11</td><td>50</td></tr><tr><td>3</td><td>Customer KBUDE</td><td>10535</td><td>40</td><td>10</td></tr><tr><td>3</td><td>Customer KBUDE</td><td>10535</td><td>57</td><td>5</td></tr><tr><td>3</td><td>Customer KBUDE</td><td>10535</td><td>59</td><td>15</td></tr><tr><td>44</td><td>Customer OXFRU</td><td>10536</td><td>12</td><td>15</td></tr><tr><td>44</td><td>Customer OXFRU</td><td>10536</td><td>31</td><td>20</td></tr><tr><td>44</td><td>Customer OXFRU</td><td>10536</td><td>33</td><td>30</td></tr><tr><td>44</td><td>Customer OXFRU</td><td>10536</td><td>60</td><td>35</td></tr><tr><td>68</td><td>Customer CCKOT</td><td>10537</td><td>31</td><td>30</td></tr><tr><td>68</td><td>Customer CCKOT</td><td>10537</td><td>51</td><td>6</td></tr><tr><td>68</td><td>Customer CCKOT</td><td>10537</td><td>58</td><td>20</td></tr><tr><td>68</td><td>Customer CCKOT</td><td>10537</td><td>72</td><td>21</td></tr><tr><td>68</td><td>Customer CCKOT</td><td>10537</td><td>73</td><td>9</td></tr><tr><td>11</td><td>Customer UBHAU</td><td>10538</td><td>70</td><td>7</td></tr><tr><td>11</td><td>Customer UBHAU</td><td>10538</td><td>72</td><td>1</td></tr><tr><td>11</td><td>Customer UBHAU</td><td>10539</td><td>13</td><td>8</td></tr><tr><td>11</td><td>Customer UBHAU</td><td>10539</td><td>21</td><td>15</td></tr><tr><td>11</td><td>Customer UBHAU</td><td>10539</td><td>33</td><td>15</td></tr><tr><td>11</td><td>Customer UBHAU</td><td>10539</td><td>49</td><td>6</td></tr><tr><td>63</td><td>Customer IRRVL</td><td>10540</td><td>3</td><td>60</td></tr><tr><td>63</td><td>Customer IRRVL</td><td>10540</td><td>26</td><td>40</td></tr><tr><td>63</td><td>Customer IRRVL</td><td>10540</td><td>38</td><td>30</td></tr><tr><td>63</td><td>Customer IRRVL</td><td>10540</td><td>68</td><td>35</td></tr><tr><td>34</td><td>Customer IBVRG</td><td>10541</td><td>24</td><td>35</td></tr><tr><td>34</td><td>Customer IBVRG</td><td>10541</td><td>38</td><td>4</td></tr><tr><td>34</td><td>Customer IBVRG</td><td>10541</td><td>65</td><td>36</td></tr><tr><td>34</td><td>Customer IBVRG</td><td>10541</td><td>71</td><td>9</td></tr><tr><td>39</td><td>Customer GLLAG</td><td>10542</td><td>11</td><td>15</td></tr><tr><td>39</td><td>Customer GLLAG</td><td>10542</td><td>54</td><td>24</td></tr><tr><td>46</td><td>Customer XPNIK</td><td>10543</td><td>12</td><td>30</td></tr><tr><td>46</td><td>Customer XPNIK</td><td>10543</td><td>23</td><td>70</td></tr><tr><td>48</td><td>Customer DVFMB</td><td>10544</td><td>28</td><td>7</td></tr><tr><td>48</td><td>Customer DVFMB</td><td>10544</td><td>67</td><td>7</td></tr><tr><td>43</td><td>Customer UISOJ</td><td>10545</td><td>11</td><td>10</td></tr><tr><td>84</td><td>Customer NRCSK</td><td>10546</td><td>7</td><td>10</td></tr><tr><td>84</td><td>Customer NRCSK</td><td>10546</td><td>35</td><td>30</td></tr><tr><td>84</td><td>Customer NRCSK</td><td>10546</td><td>62</td><td>40</td></tr><tr><td>72</td><td>Customer AHPOP</td><td>10547</td><td>32</td><td>24</td></tr><tr><td>72</td><td>Customer AHPOP</td><td>10547</td><td>36</td><td>60</td></tr><tr><td>79</td><td>Customer FAPSM</td><td>10548</td><td>34</td><td>10</td></tr><tr><td>79</td><td>Customer FAPSM</td><td>10548</td><td>41</td><td>14</td></tr><tr><td>63</td><td>Customer IRRVL</td><td>10549</td><td>31</td><td>55</td></tr><tr><td>63</td><td>Customer IRRVL</td><td>10549</td><td>45</td><td>100</td></tr><tr><td>63</td><td>Customer IRRVL</td><td>10549</td><td>51</td><td>48</td></tr><tr><td>30</td><td>Customer KSLQF</td><td>10550</td><td>17</td><td>8</td></tr><tr><td>30</td><td>Customer KSLQF</td><td>10550</td><td>19</td><td>10</td></tr><tr><td>30</td><td>Customer KSLQF</td><td>10550</td><td>21</td><td>6</td></tr><tr><td>30</td><td>Customer KSLQF</td><td>10550</td><td>61</td><td>10</td></tr><tr><td>28</td><td>Customer XYUFB</td><td>10551</td><td>16</td><td>40</td></tr><tr><td>28</td><td>Customer XYUFB</td><td>10551</td><td>35</td><td>20</td></tr><tr><td>28</td><td>Customer XYUFB</td><td>10551</td><td>44</td><td>40</td></tr><tr><td>35</td><td>Customer UMTLM</td><td>10552</td><td>69</td><td>18</td></tr><tr><td>35</td><td>Customer UMTLM</td><td>10552</td><td>75</td><td>30</td></tr><tr><td>87</td><td>Customer ZHYOS</td><td>10553</td><td>11</td><td>15</td></tr><tr><td>87</td><td>Customer ZHYOS</td><td>10553</td><td>16</td><td>14</td></tr><tr><td>87</td><td>Customer ZHYOS</td><td>10553</td><td>22</td><td>24</td></tr><tr><td>87</td><td>Customer ZHYOS</td><td>10553</td><td>31</td><td>30</td></tr><tr><td>87</td><td>Customer ZHYOS</td><td>10553</td><td>35</td><td>6</td></tr><tr><td>56</td><td>Customer QNIVZ</td><td>10554</td><td>16</td><td>30</td></tr><tr><td>56</td><td>Customer QNIVZ</td><td>10554</td><td>23</td><td>20</td></tr><tr><td>56</td><td>Customer QNIVZ</td><td>10554</td><td>62</td><td>20</td></tr><tr><td>56</td><td>Customer QNIVZ</td><td>10554</td><td>77</td><td>10</td></tr><tr><td>71</td><td>Customer LCOUJ</td><td>10555</td><td>14</td><td>30</td></tr><tr><td>71</td><td>Customer LCOUJ</td><td>10555</td><td>19</td><td>35</td></tr><tr><td>71</td><td>Customer LCOUJ</td><td>10555</td><td>24</td><td>18</td></tr><tr><td>71</td><td>Customer LCOUJ</td><td>10555</td><td>51</td><td>20</td></tr><tr><td>71</td><td>Customer LCOUJ</td><td>10555</td><td>56</td><td>40</td></tr><tr><td>73</td><td>Customer JMIKW</td><td>10556</td><td>72</td><td>24</td></tr><tr><td>44</td><td>Customer OXFRU</td><td>10557</td><td>64</td><td>30</td></tr><tr><td>44</td><td>Customer OXFRU</td><td>10557</td><td>75</td><td>20</td></tr><tr><td>4</td><td>Customer HFBZG</td><td>10558</td><td>47</td><td>25</td></tr><tr><td>4</td><td>Customer HFBZG</td><td>10558</td><td>51</td><td>20</td></tr><tr><td>4</td><td>Customer HFBZG</td><td>10558</td><td>52</td><td>30</td></tr><tr><td>4</td><td>Customer HFBZG</td><td>10558</td><td>53</td><td>18</td></tr><tr><td>4</td><td>Customer HFBZG</td><td>10558</td><td>73</td><td>3</td></tr><tr><td>7</td><td>Customer QXVLA</td><td>10559</td><td>41</td><td>12</td></tr><tr><td>7</td><td>Customer QXVLA</td><td>10559</td><td>55</td><td>18</td></tr><tr><td>25</td><td>Customer AZJED</td><td>10560</td><td>30</td><td>20</td></tr><tr><td>25</td><td>Customer AZJED</td><td>10560</td><td>62</td><td>15</td></tr><tr><td>24</td><td>Customer CYZTN</td><td>10561</td><td>44</td><td>10</td></tr><tr><td>24</td><td>Customer CYZTN</td><td>10561</td><td>51</td><td>50</td></tr><tr><td>66</td><td>Customer LHANT</td><td>10562</td><td>33</td><td>20</td></tr><tr><td>66</td><td>Customer LHANT</td><td>10562</td><td>62</td><td>10</td></tr><tr><td>67</td><td>Customer QVEPD</td><td>10563</td><td>36</td><td>25</td></tr><tr><td>67</td><td>Customer QVEPD</td><td>10563</td><td>52</td><td>70</td></tr><tr><td>65</td><td>Customer NYUHS</td><td>10564</td><td>17</td><td>16</td></tr><tr><td>65</td><td>Customer NYUHS</td><td>10564</td><td>31</td><td>6</td></tr><tr><td>65</td><td>Customer NYUHS</td><td>10564</td><td>55</td><td>25</td></tr><tr><td>51</td><td>Customer PVDZC</td><td>10565</td><td>24</td><td>25</td></tr><tr><td>51</td><td>Customer PVDZC</td><td>10565</td><td>64</td><td>18</td></tr><tr><td>7</td><td>Customer QXVLA</td><td>10566</td><td>11</td><td>35</td></tr><tr><td>7</td><td>Customer QXVLA</td><td>10566</td><td>18</td><td>18</td></tr><tr><td>7</td><td>Customer QXVLA</td><td>10566</td><td>76</td><td>10</td></tr><tr><td>37</td><td>Customer FRXZL</td><td>10567</td><td>31</td><td>60</td></tr><tr><td>37</td><td>Customer FRXZL</td><td>10567</td><td>51</td><td>3</td></tr><tr><td>37</td><td>Customer FRXZL</td><td>10567</td><td>59</td><td>40</td></tr><tr><td>29</td><td>Customer MDLWA</td><td>10568</td><td>10</td><td>5</td></tr><tr><td>65</td><td>Customer NYUHS</td><td>10569</td><td>31</td><td>35</td></tr><tr><td>65</td><td>Customer NYUHS</td><td>10569</td><td>76</td><td>30</td></tr><tr><td>51</td><td>Customer PVDZC</td><td>10570</td><td>11</td><td>15</td></tr><tr><td>51</td><td>Customer PVDZC</td><td>10570</td><td>56</td><td>60</td></tr><tr><td>20</td><td>Customer THHDP</td><td>10571</td><td>14</td><td>11</td></tr><tr><td>20</td><td>Customer THHDP</td><td>10571</td><td>42</td><td>28</td></tr><tr><td>5</td><td>Customer HGVLZ</td><td>10572</td><td>16</td><td>12</td></tr><tr><td>5</td><td>Customer HGVLZ</td><td>10572</td><td>32</td><td>10</td></tr><tr><td>5</td><td>Customer HGVLZ</td><td>10572</td><td>40</td><td>50</td></tr><tr><td>5</td><td>Customer HGVLZ</td><td>10572</td><td>75</td><td>15</td></tr><tr><td>3</td><td>Customer KBUDE</td><td>10573</td><td>17</td><td>18</td></tr><tr><td>3</td><td>Customer KBUDE</td><td>10573</td><td>34</td><td>40</td></tr><tr><td>3</td><td>Customer KBUDE</td><td>10573</td><td>53</td><td>25</td></tr><tr><td>82</td><td>Customer EYHKM</td><td>10574</td><td>33</td><td>14</td></tr><tr><td>82</td><td>Customer EYHKM</td><td>10574</td><td>40</td><td>2</td></tr><tr><td>82</td><td>Customer EYHKM</td><td>10574</td><td>62</td><td>10</td></tr><tr><td>82</td><td>Customer EYHKM</td><td>10574</td><td>64</td><td>6</td></tr><tr><td>52</td><td>Customer PZNLA</td><td>10575</td><td>59</td><td>12</td></tr><tr><td>52</td><td>Customer PZNLA</td><td>10575</td><td>63</td><td>6</td></tr><tr><td>52</td><td>Customer PZNLA</td><td>10575</td><td>72</td><td>30</td></tr><tr><td>52</td><td>Customer PZNLA</td><td>10575</td><td>76</td><td>10</td></tr><tr><td>80</td><td>Customer VONTK</td><td>10576</td><td>1</td><td>10</td></tr><tr><td>80</td><td>Customer VONTK</td><td>10576</td><td>31</td><td>20</td></tr><tr><td>80</td><td>Customer VONTK</td><td>10576</td><td>44</td><td>21</td></tr><tr><td>82</td><td>Customer EYHKM</td><td>10577</td><td>39</td><td>10</td></tr><tr><td>82</td><td>Customer EYHKM</td><td>10577</td><td>75</td><td>20</td></tr><tr><td>82</td><td>Customer EYHKM</td><td>10577</td><td>77</td><td>18</td></tr><tr><td>11</td><td>Customer UBHAU</td><td>10578</td><td>35</td><td>20</td></tr><tr><td>11</td><td>Customer UBHAU</td><td>10578</td><td>57</td><td>6</td></tr><tr><td>45</td><td>Customer QXPPT</td><td>10579</td><td>15</td><td>10</td></tr><tr><td>45</td><td>Customer QXPPT</td><td>10579</td><td>75</td><td>21</td></tr><tr><td>56</td><td>Customer QNIVZ</td><td>10580</td><td>14</td><td>15</td></tr><tr><td>56</td><td>Customer QNIVZ</td><td>10580</td><td>41</td><td>9</td></tr><tr><td>56</td><td>Customer QNIVZ</td><td>10580</td><td>65</td><td>30</td></tr><tr><td>21</td><td>Customer KIDPX</td><td>10581</td><td>75</td><td>50</td></tr><tr><td>6</td><td>Customer XHXJV</td><td>10582</td><td>57</td><td>4</td></tr><tr><td>6</td><td>Customer XHXJV</td><td>10582</td><td>76</td><td>14</td></tr><tr><td>87</td><td>Customer ZHYOS</td><td>10583</td><td>29</td><td>10</td></tr><tr><td>87</td><td>Customer ZHYOS</td><td>10583</td><td>60</td><td>24</td></tr><tr><td>87</td><td>Customer ZHYOS</td><td>10583</td><td>69</td><td>10</td></tr><tr><td>7</td><td>Customer QXVLA</td><td>10584</td><td>31</td><td>50</td></tr><tr><td>88</td><td>Customer SRQVM</td><td>10585</td><td>47</td><td>15</td></tr><tr><td>66</td><td>Customer LHANT</td><td>10586</td><td>52</td><td>4</td></tr><tr><td>61</td><td>Customer WULWD</td><td>10587</td><td>26</td><td>6</td></tr><tr><td>61</td><td>Customer WULWD</td><td>10587</td><td>35</td><td>20</td></tr><tr><td>61</td><td>Customer WULWD</td><td>10587</td><td>77</td><td>20</td></tr><tr><td>63</td><td>Customer IRRVL</td><td>10588</td><td>18</td><td>40</td></tr><tr><td>63</td><td>Customer IRRVL</td><td>10588</td><td>42</td><td>100</td></tr><tr><td>32</td><td>Customer YSIQX</td><td>10589</td><td>35</td><td>4</td></tr><tr><td>51</td><td>Customer PVDZC</td><td>10590</td><td>1</td><td>20</td></tr><tr><td>51</td><td>Customer PVDZC</td><td>10590</td><td>77</td><td>60</td></tr><tr><td>83</td><td>Customer ZRNDE</td><td>10591</td><td>3</td><td>14</td></tr><tr><td>83</td><td>Customer ZRNDE</td><td>10591</td><td>7</td><td>10</td></tr><tr><td>83</td><td>Customer ZRNDE</td><td>10591</td><td>54</td><td>50</td></tr><tr><td>44</td><td>Customer OXFRU</td><td>10592</td><td>15</td><td>25</td></tr><tr><td>44</td><td>Customer OXFRU</td><td>10592</td><td>26</td><td>5</td></tr><tr><td>44</td><td>Customer OXFRU</td><td>10593</td><td>20</td><td>21</td></tr><tr><td>44</td><td>Customer OXFRU</td><td>10593</td><td>69</td><td>20</td></tr><tr><td>44</td><td>Customer OXFRU</td><td>10593</td><td>76</td><td>4</td></tr><tr><td>55</td><td>Customer KZQZT</td><td>10594</td><td>52</td><td>24</td></tr><tr><td>55</td><td>Customer KZQZT</td><td>10594</td><td>58</td><td>30</td></tr><tr><td>20</td><td>Customer THHDP</td><td>10595</td><td>35</td><td>30</td></tr><tr><td>20</td><td>Customer THHDP</td><td>10595</td><td>61</td><td>120</td></tr><tr><td>20</td><td>Customer THHDP</td><td>10595</td><td>69</td><td>65</td></tr><tr><td>89</td><td>Customer YBQTI</td><td>10596</td><td>56</td><td>5</td></tr><tr><td>89</td><td>Customer YBQTI</td><td>10596</td><td>63</td><td>24</td></tr><tr><td>89</td><td>Customer YBQTI</td><td>10596</td><td>75</td><td>30</td></tr><tr><td>59</td><td>Customer LOLJO</td><td>10597</td><td>24</td><td>35</td></tr><tr><td>59</td><td>Customer LOLJO</td><td>10597</td><td>57</td><td>20</td></tr><tr><td>59</td><td>Customer LOLJO</td><td>10597</td><td>65</td><td>12</td></tr><tr><td>65</td><td>Customer NYUHS</td><td>10598</td><td>27</td><td>50</td></tr><tr><td>65</td><td>Customer NYUHS</td><td>10598</td><td>71</td><td>9</td></tr><tr><td>11</td><td>Customer UBHAU</td><td>10599</td><td>62</td><td>10</td></tr><tr><td>36</td><td>Customer LVJSO</td><td>10600</td><td>54</td><td>4</td></tr><tr><td>36</td><td>Customer LVJSO</td><td>10600</td><td>73</td><td>30</td></tr><tr><td>35</td><td>Customer UMTLM</td><td>10601</td><td>13</td><td>60</td></tr><tr><td>35</td><td>Customer UMTLM</td><td>10601</td><td>59</td><td>35</td></tr><tr><td>83</td><td>Customer ZRNDE</td><td>10602</td><td>77</td><td>5</td></tr><tr><td>71</td><td>Customer LCOUJ</td><td>10603</td><td>22</td><td>48</td></tr><tr><td>71</td><td>Customer LCOUJ</td><td>10603</td><td>49</td><td>25</td></tr><tr><td>28</td><td>Customer XYUFB</td><td>10604</td><td>48</td><td>6</td></tr><tr><td>28</td><td>Customer XYUFB</td><td>10604</td><td>76</td><td>10</td></tr><tr><td>51</td><td>Customer PVDZC</td><td>10605</td><td>16</td><td>30</td></tr><tr><td>51</td><td>Customer PVDZC</td><td>10605</td><td>59</td><td>20</td></tr><tr><td>51</td><td>Customer PVDZC</td><td>10605</td><td>60</td><td>70</td></tr><tr><td>51</td><td>Customer PVDZC</td><td>10605</td><td>71</td><td>15</td></tr><tr><td>81</td><td>Customer YQQWW</td><td>10606</td><td>4</td><td>20</td></tr><tr><td>81</td><td>Customer YQQWW</td><td>10606</td><td>55</td><td>20</td></tr><tr><td>81</td><td>Customer YQQWW</td><td>10606</td><td>62</td><td>10</td></tr><tr><td>71</td><td>Customer LCOUJ</td><td>10607</td><td>7</td><td>45</td></tr><tr><td>71</td><td>Customer LCOUJ</td><td>10607</td><td>17</td><td>100</td></tr><tr><td>71</td><td>Customer LCOUJ</td><td>10607</td><td>33</td><td>14</td></tr><tr><td>71</td><td>Customer LCOUJ</td><td>10607</td><td>40</td><td>42</td></tr><tr><td>71</td><td>Customer LCOUJ</td><td>10607</td><td>72</td><td>12</td></tr><tr><td>79</td><td>Customer FAPSM</td><td>10608</td><td>56</td><td>28</td></tr><tr><td>18</td><td>Customer BSVAR</td><td>10609</td><td>1</td><td>3</td></tr><tr><td>18</td><td>Customer BSVAR</td><td>10609</td><td>10</td><td>10</td></tr><tr><td>18</td><td>Customer BSVAR</td><td>10609</td><td>21</td><td>6</td></tr><tr><td>41</td><td>Customer XIIWM</td><td>10610</td><td>36</td><td>21</td></tr><tr><td>91</td><td>Customer CCFIZ</td><td>10611</td><td>1</td><td>6</td></tr><tr><td>91</td><td>Customer CCFIZ</td><td>10611</td><td>2</td><td>10</td></tr><tr><td>91</td><td>Customer CCFIZ</td><td>10611</td><td>60</td><td>15</td></tr><tr><td>71</td><td>Customer LCOUJ</td><td>10612</td><td>10</td><td>70</td></tr><tr><td>71</td><td>Customer LCOUJ</td><td>10612</td><td>36</td><td>55</td></tr><tr><td>71</td><td>Customer LCOUJ</td><td>10612</td><td>49</td><td>18</td></tr><tr><td>71</td><td>Customer LCOUJ</td><td>10612</td><td>60</td><td>40</td></tr><tr><td>71</td><td>Customer LCOUJ</td><td>10612</td><td>76</td><td>80</td></tr><tr><td>35</td><td>Customer UMTLM</td><td>10613</td><td>13</td><td>8</td></tr><tr><td>35</td><td>Customer UMTLM</td><td>10613</td><td>75</td><td>40</td></tr><tr><td>6</td><td>Customer XHXJV</td><td>10614</td><td>11</td><td>14</td></tr><tr><td>6</td><td>Customer XHXJV</td><td>10614</td><td>21</td><td>8</td></tr><tr><td>6</td><td>Customer XHXJV</td><td>10614</td><td>39</td><td>5</td></tr><tr><td>90</td><td>Customer XBBVR</td><td>10615</td><td>55</td><td>5</td></tr><tr><td>32</td><td>Customer YSIQX</td><td>10616</td><td>38</td><td>15</td></tr><tr><td>32</td><td>Customer YSIQX</td><td>10616</td><td>56</td><td>14</td></tr><tr><td>32</td><td>Customer YSIQX</td><td>10616</td><td>70</td><td>15</td></tr><tr><td>32</td><td>Customer YSIQX</td><td>10616</td><td>71</td><td>15</td></tr><tr><td>32</td><td>Customer YSIQX</td><td>10617</td><td>59</td><td>30</td></tr><tr><td>51</td><td>Customer PVDZC</td><td>10618</td><td>6</td><td>70</td></tr><tr><td>51</td><td>Customer PVDZC</td><td>10618</td><td>56</td><td>20</td></tr><tr><td>51</td><td>Customer PVDZC</td><td>10618</td><td>68</td><td>15</td></tr><tr><td>51</td><td>Customer PVDZC</td><td>10619</td><td>21</td><td>42</td></tr><tr><td>51</td><td>Customer PVDZC</td><td>10619</td><td>22</td><td>40</td></tr><tr><td>42</td><td>Customer IAIJK</td><td>10620</td><td>24</td><td>5</td></tr><tr><td>42</td><td>Customer IAIJK</td><td>10620</td><td>52</td><td>5</td></tr><tr><td>38</td><td>Customer LJUCA</td><td>10621</td><td>19</td><td>5</td></tr><tr><td>38</td><td>Customer LJUCA</td><td>10621</td><td>23</td><td>10</td></tr><tr><td>38</td><td>Customer LJUCA</td><td>10621</td><td>70</td><td>20</td></tr><tr><td>38</td><td>Customer LJUCA</td><td>10621</td><td>71</td><td>15</td></tr><tr><td>67</td><td>Customer QVEPD</td><td>10622</td><td>2</td><td>20</td></tr><tr><td>67</td><td>Customer QVEPD</td><td>10622</td><td>68</td><td>18</td></tr><tr><td>25</td><td>Customer AZJED</td><td>10623</td><td>14</td><td>21</td></tr><tr><td>25</td><td>Customer AZJED</td><td>10623</td><td>19</td><td>15</td></tr><tr><td>25</td><td>Customer AZJED</td><td>10623</td><td>21</td><td>25</td></tr><tr><td>25</td><td>Customer AZJED</td><td>10623</td><td>24</td><td>3</td></tr><tr><td>25</td><td>Customer AZJED</td><td>10623</td><td>35</td><td>30</td></tr><tr><td>78</td><td>Customer NLTYP</td><td>10624</td><td>28</td><td>10</td></tr><tr><td>78</td><td>Customer NLTYP</td><td>10624</td><td>29</td><td>6</td></tr><tr><td>78</td><td>Customer NLTYP</td><td>10624</td><td>44</td><td>10</td></tr><tr><td>2</td><td>Customer MLTDN</td><td>10625</td><td>14</td><td>3</td></tr><tr><td>2</td><td>Customer MLTDN</td><td>10625</td><td>42</td><td>5</td></tr><tr><td>2</td><td>Customer MLTDN</td><td>10625</td><td>60</td><td>10</td></tr><tr><td>5</td><td>Customer HGVLZ</td><td>10626</td><td>53</td><td>12</td></tr><tr><td>5</td><td>Customer HGVLZ</td><td>10626</td><td>60</td><td>20</td></tr><tr><td>5</td><td>Customer HGVLZ</td><td>10626</td><td>71</td><td>20</td></tr><tr><td>71</td><td>Customer LCOUJ</td><td>10627</td><td>62</td><td>15</td></tr><tr><td>71</td><td>Customer LCOUJ</td><td>10627</td><td>73</td><td>35</td></tr><tr><td>7</td><td>Customer QXVLA</td><td>10628</td><td>1</td><td>25</td></tr><tr><td>30</td><td>Customer KSLQF</td><td>10629</td><td>29</td><td>20</td></tr><tr><td>30</td><td>Customer KSLQF</td><td>10629</td><td>64</td><td>9</td></tr><tr><td>39</td><td>Customer GLLAG</td><td>10630</td><td>55</td><td>12</td></tr><tr><td>39</td><td>Customer GLLAG</td><td>10630</td><td>76</td><td>35</td></tr><tr><td>41</td><td>Customer XIIWM</td><td>10631</td><td>75</td><td>8</td></tr><tr><td>86</td><td>Customer SNXOJ</td><td>10632</td><td>2</td><td>30</td></tr><tr><td>86</td><td>Customer SNXOJ</td><td>10632</td><td>33</td><td>20</td></tr><tr><td>20</td><td>Customer THHDP</td><td>10633</td><td>12</td><td>36</td></tr><tr><td>20</td><td>Customer THHDP</td><td>10633</td><td>13</td><td>13</td></tr><tr><td>20</td><td>Customer THHDP</td><td>10633</td><td>26</td><td>35</td></tr><tr><td>20</td><td>Customer THHDP</td><td>10633</td><td>62</td><td>80</td></tr><tr><td>23</td><td>Customer WVFAF</td><td>10634</td><td>7</td><td>35</td></tr><tr><td>23</td><td>Customer WVFAF</td><td>10634</td><td>18</td><td>50</td></tr><tr><td>23</td><td>Customer WVFAF</td><td>10634</td><td>51</td><td>15</td></tr><tr><td>23</td><td>Customer WVFAF</td><td>10634</td><td>75</td><td>2</td></tr><tr><td>49</td><td>Customer CQRAA</td><td>10635</td><td>4</td><td>10</td></tr><tr><td>49</td><td>Customer CQRAA</td><td>10635</td><td>5</td><td>15</td></tr><tr><td>49</td><td>Customer CQRAA</td><td>10635</td><td>22</td><td>40</td></tr><tr><td>87</td><td>Customer ZHYOS</td><td>10636</td><td>4</td><td>25</td></tr><tr><td>87</td><td>Customer ZHYOS</td><td>10636</td><td>58</td><td>6</td></tr><tr><td>62</td><td>Customer WFIZJ</td><td>10637</td><td>11</td><td>10</td></tr><tr><td>62</td><td>Customer WFIZJ</td><td>10637</td><td>50</td><td>25</td></tr><tr><td>62</td><td>Customer WFIZJ</td><td>10637</td><td>56</td><td>60</td></tr><tr><td>47</td><td>Customer PSQUZ</td><td>10638</td><td>45</td><td>20</td></tr><tr><td>47</td><td>Customer PSQUZ</td><td>10638</td><td>65</td><td>21</td></tr><tr><td>47</td><td>Customer PSQUZ</td><td>10638</td><td>72</td><td>60</td></tr><tr><td>70</td><td>Customer TMXGN</td><td>10639</td><td>18</td><td>8</td></tr><tr><td>86</td><td>Customer SNXOJ</td><td>10640</td><td>69</td><td>20</td></tr><tr><td>86</td><td>Customer SNXOJ</td><td>10640</td><td>70</td><td>15</td></tr><tr><td>35</td><td>Customer UMTLM</td><td>10641</td><td>2</td><td>50</td></tr><tr><td>35</td><td>Customer UMTLM</td><td>10641</td><td>40</td><td>60</td></tr><tr><td>73</td><td>Customer JMIKW</td><td>10642</td><td>21</td><td>30</td></tr><tr><td>73</td><td>Customer JMIKW</td><td>10642</td><td>61</td><td>20</td></tr><tr><td>1</td><td>Customer NRZBB</td><td>10643</td><td>28</td><td>15</td></tr><tr><td>1</td><td>Customer NRZBB</td><td>10643</td><td>39</td><td>21</td></tr><tr><td>1</td><td>Customer NRZBB</td><td>10643</td><td>46</td><td>2</td></tr><tr><td>88</td><td>Customer SRQVM</td><td>10644</td><td>18</td><td>4</td></tr><tr><td>88</td><td>Customer SRQVM</td><td>10644</td><td>43</td><td>20</td></tr><tr><td>88</td><td>Customer SRQVM</td><td>10644</td><td>46</td><td>21</td></tr><tr><td>34</td><td>Customer IBVRG</td><td>10645</td><td>18</td><td>20</td></tr><tr><td>34</td><td>Customer IBVRG</td><td>10645</td><td>36</td><td>15</td></tr><tr><td>37</td><td>Customer FRXZL</td><td>10646</td><td>1</td><td>15</td></tr><tr><td>37</td><td>Customer FRXZL</td><td>10646</td><td>10</td><td>18</td></tr><tr><td>37</td><td>Customer FRXZL</td><td>10646</td><td>71</td><td>30</td></tr><tr><td>37</td><td>Customer FRXZL</td><td>10646</td><td>77</td><td>35</td></tr><tr><td>61</td><td>Customer WULWD</td><td>10647</td><td>19</td><td>30</td></tr><tr><td>61</td><td>Customer WULWD</td><td>10647</td><td>39</td><td>20</td></tr><tr><td>67</td><td>Customer QVEPD</td><td>10648</td><td>22</td><td>15</td></tr><tr><td>67</td><td>Customer QVEPD</td><td>10648</td><td>24</td><td>15</td></tr><tr><td>50</td><td>Customer JYPSC</td><td>10649</td><td>28</td><td>20</td></tr><tr><td>50</td><td>Customer JYPSC</td><td>10649</td><td>72</td><td>15</td></tr><tr><td>21</td><td>Customer KIDPX</td><td>10650</td><td>30</td><td>30</td></tr><tr><td>21</td><td>Customer KIDPX</td><td>10650</td><td>53</td><td>25</td></tr><tr><td>21</td><td>Customer KIDPX</td><td>10650</td><td>54</td><td>30</td></tr><tr><td>86</td><td>Customer SNXOJ</td><td>10651</td><td>19</td><td>12</td></tr><tr><td>86</td><td>Customer SNXOJ</td><td>10651</td><td>22</td><td>20</td></tr><tr><td>31</td><td>Customer YJCBX</td><td>10652</td><td>30</td><td>2</td></tr><tr><td>31</td><td>Customer YJCBX</td><td>10652</td><td>42</td><td>20</td></tr><tr><td>25</td><td>Customer AZJED</td><td>10653</td><td>16</td><td>30</td></tr><tr><td>25</td><td>Customer AZJED</td><td>10653</td><td>60</td><td>20</td></tr><tr><td>5</td><td>Customer HGVLZ</td><td>10654</td><td>4</td><td>12</td></tr><tr><td>5</td><td>Customer HGVLZ</td><td>10654</td><td>39</td><td>20</td></tr><tr><td>5</td><td>Customer HGVLZ</td><td>10654</td><td>54</td><td>6</td></tr><tr><td>66</td><td>Customer LHANT</td><td>10655</td><td>41</td><td>20</td></tr><tr><td>32</td><td>Customer YSIQX</td><td>10656</td><td>14</td><td>3</td></tr><tr><td>32</td><td>Customer YSIQX</td><td>10656</td><td>44</td><td>28</td></tr><tr><td>32</td><td>Customer YSIQX</td><td>10656</td><td>47</td><td>6</td></tr><tr><td>71</td><td>Customer LCOUJ</td><td>10657</td><td>15</td><td>50</td></tr><tr><td>71</td><td>Customer LCOUJ</td><td>10657</td><td>41</td><td>24</td></tr><tr><td>71</td><td>Customer LCOUJ</td><td>10657</td><td>46</td><td>45</td></tr><tr><td>71</td><td>Customer LCOUJ</td><td>10657</td><td>47</td><td>10</td></tr><tr><td>71</td><td>Customer LCOUJ</td><td>10657</td><td>56</td><td>45</td></tr><tr><td>71</td><td>Customer LCOUJ</td><td>10657</td><td>60</td><td>30</td></tr><tr><td>63</td><td>Customer IRRVL</td><td>10658</td><td>21</td><td>60</td></tr><tr><td>63</td><td>Customer IRRVL</td><td>10658</td><td>40</td><td>70</td></tr><tr><td>63</td><td>Customer IRRVL</td><td>10658</td><td>60</td><td>55</td></tr><tr><td>63</td><td>Customer IRRVL</td><td>10658</td><td>77</td><td>70</td></tr><tr><td>62</td><td>Customer WFIZJ</td><td>10659</td><td>31</td><td>20</td></tr><tr><td>62</td><td>Customer WFIZJ</td><td>10659</td><td>40</td><td>24</td></tr><tr><td>62</td><td>Customer WFIZJ</td><td>10659</td><td>70</td><td>40</td></tr><tr><td>36</td><td>Customer LVJSO</td><td>10660</td><td>20</td><td>21</td></tr><tr><td>37</td><td>Customer FRXZL</td><td>10661</td><td>39</td><td>3</td></tr><tr><td>37</td><td>Customer FRXZL</td><td>10661</td><td>58</td><td>49</td></tr><tr><td>48</td><td>Customer DVFMB</td><td>10662</td><td>68</td><td>10</td></tr><tr><td>9</td><td>Customer RTXGC</td><td>10663</td><td>40</td><td>30</td></tr><tr><td>9</td><td>Customer RTXGC</td><td>10663</td><td>42</td><td>30</td></tr><tr><td>9</td><td>Customer RTXGC</td><td>10663</td><td>51</td><td>20</td></tr><tr><td>28</td><td>Customer XYUFB</td><td>10664</td><td>10</td><td>24</td></tr><tr><td>28</td><td>Customer XYUFB</td><td>10664</td><td>56</td><td>12</td></tr><tr><td>28</td><td>Customer XYUFB</td><td>10664</td><td>65</td><td>15</td></tr><tr><td>48</td><td>Customer DVFMB</td><td>10665</td><td>51</td><td>20</td></tr><tr><td>48</td><td>Customer DVFMB</td><td>10665</td><td>59</td><td>1</td></tr><tr><td>48</td><td>Customer DVFMB</td><td>10665</td><td>76</td><td>10</td></tr><tr><td>68</td><td>Customer CCKOT</td><td>10666</td><td>29</td><td>36</td></tr><tr><td>68</td><td>Customer CCKOT</td><td>10666</td><td>65</td><td>10</td></tr><tr><td>20</td><td>Customer THHDP</td><td>10667</td><td>69</td><td>45</td></tr><tr><td>20</td><td>Customer THHDP</td><td>10667</td><td>71</td><td>14</td></tr><tr><td>86</td><td>Customer SNXOJ</td><td>10668</td><td>31</td><td>8</td></tr><tr><td>86</td><td>Customer SNXOJ</td><td>10668</td><td>55</td><td>4</td></tr><tr><td>86</td><td>Customer SNXOJ</td><td>10668</td><td>64</td><td>15</td></tr><tr><td>73</td><td>Customer JMIKW</td><td>10669</td><td>36</td><td>30</td></tr><tr><td>25</td><td>Customer AZJED</td><td>10670</td><td>23</td><td>32</td></tr><tr><td>25</td><td>Customer AZJED</td><td>10670</td><td>46</td><td>60</td></tr><tr><td>25</td><td>Customer AZJED</td><td>10670</td><td>67</td><td>25</td></tr><tr><td>25</td><td>Customer AZJED</td><td>10670</td><td>73</td><td>50</td></tr><tr><td>25</td><td>Customer AZJED</td><td>10670</td><td>75</td><td>25</td></tr><tr><td>26</td><td>Customer USDBG</td><td>10671</td><td>16</td><td>10</td></tr><tr><td>26</td><td>Customer USDBG</td><td>10671</td><td>62</td><td>10</td></tr><tr><td>26</td><td>Customer USDBG</td><td>10671</td><td>65</td><td>12</td></tr><tr><td>5</td><td>Customer HGVLZ</td><td>10672</td><td>38</td><td>15</td></tr><tr><td>5</td><td>Customer HGVLZ</td><td>10672</td><td>71</td><td>12</td></tr><tr><td>90</td><td>Customer XBBVR</td><td>10673</td><td>16</td><td>3</td></tr><tr><td>90</td><td>Customer XBBVR</td><td>10673</td><td>42</td><td>6</td></tr><tr><td>90</td><td>Customer XBBVR</td><td>10673</td><td>43</td><td>6</td></tr><tr><td>38</td><td>Customer LJUCA</td><td>10674</td><td>23</td><td>5</td></tr><tr><td>25</td><td>Customer AZJED</td><td>10675</td><td>14</td><td>30</td></tr><tr><td>25</td><td>Customer AZJED</td><td>10675</td><td>53</td><td>10</td></tr><tr><td>25</td><td>Customer AZJED</td><td>10675</td><td>58</td><td>30</td></tr><tr><td>80</td><td>Customer VONTK</td><td>10676</td><td>10</td><td>2</td></tr><tr><td>80</td><td>Customer VONTK</td><td>10676</td><td>19</td><td>7</td></tr><tr><td>80</td><td>Customer VONTK</td><td>10676</td><td>44</td><td>21</td></tr><tr><td>3</td><td>Customer KBUDE</td><td>10677</td><td>26</td><td>30</td></tr><tr><td>3</td><td>Customer KBUDE</td><td>10677</td><td>33</td><td>8</td></tr><tr><td>71</td><td>Customer LCOUJ</td><td>10678</td><td>12</td><td>100</td></tr><tr><td>71</td><td>Customer LCOUJ</td><td>10678</td><td>33</td><td>30</td></tr><tr><td>71</td><td>Customer LCOUJ</td><td>10678</td><td>41</td><td>120</td></tr><tr><td>71</td><td>Customer LCOUJ</td><td>10678</td><td>54</td><td>30</td></tr><tr><td>7</td><td>Customer QXVLA</td><td>10679</td><td>59</td><td>12</td></tr><tr><td>55</td><td>Customer KZQZT</td><td>10680</td><td>16</td><td>50</td></tr><tr><td>55</td><td>Customer KZQZT</td><td>10680</td><td>31</td><td>20</td></tr><tr><td>55</td><td>Customer KZQZT</td><td>10680</td><td>42</td><td>40</td></tr><tr><td>32</td><td>Customer YSIQX</td><td>10681</td><td>19</td><td>30</td></tr><tr><td>32</td><td>Customer YSIQX</td><td>10681</td><td>21</td><td>12</td></tr><tr><td>32</td><td>Customer YSIQX</td><td>10681</td><td>64</td><td>28</td></tr><tr><td>3</td><td>Customer KBUDE</td><td>10682</td><td>33</td><td>30</td></tr><tr><td>3</td><td>Customer KBUDE</td><td>10682</td><td>66</td><td>4</td></tr><tr><td>3</td><td>Customer KBUDE</td><td>10682</td><td>75</td><td>30</td></tr><tr><td>18</td><td>Customer BSVAR</td><td>10683</td><td>52</td><td>9</td></tr><tr><td>56</td><td>Customer QNIVZ</td><td>10684</td><td>40</td><td>20</td></tr><tr><td>56</td><td>Customer QNIVZ</td><td>10684</td><td>47</td><td>40</td></tr><tr><td>56</td><td>Customer QNIVZ</td><td>10684</td><td>60</td><td>30</td></tr><tr><td>31</td><td>Customer YJCBX</td><td>10685</td><td>10</td><td>20</td></tr><tr><td>31</td><td>Customer YJCBX</td><td>10685</td><td>41</td><td>4</td></tr><tr><td>31</td><td>Customer YJCBX</td><td>10685</td><td>47</td><td>15</td></tr><tr><td>59</td><td>Customer LOLJO</td><td>10686</td><td>17</td><td>30</td></tr><tr><td>59</td><td>Customer LOLJO</td><td>10686</td><td>26</td><td>15</td></tr><tr><td>37</td><td>Customer FRXZL</td><td>10687</td><td>9</td><td>50</td></tr><tr><td>37</td><td>Customer FRXZL</td><td>10687</td><td>29</td><td>10</td></tr><tr><td>37</td><td>Customer FRXZL</td><td>10687</td><td>36</td><td>6</td></tr><tr><td>83</td><td>Customer ZRNDE</td><td>10688</td><td>10</td><td>18</td></tr><tr><td>83</td><td>Customer ZRNDE</td><td>10688</td><td>28</td><td>60</td></tr><tr><td>83</td><td>Customer ZRNDE</td><td>10688</td><td>34</td><td>14</td></tr><tr><td>5</td><td>Customer HGVLZ</td><td>10689</td><td>1</td><td>35</td></tr><tr><td>34</td><td>Customer IBVRG</td><td>10690</td><td>56</td><td>20</td></tr><tr><td>34</td><td>Customer IBVRG</td><td>10690</td><td>77</td><td>30</td></tr><tr><td>63</td><td>Customer IRRVL</td><td>10691</td><td>1</td><td>30</td></tr><tr><td>63</td><td>Customer IRRVL</td><td>10691</td><td>29</td><td>40</td></tr><tr><td>63</td><td>Customer IRRVL</td><td>10691</td><td>43</td><td>40</td></tr><tr><td>63</td><td>Customer IRRVL</td><td>10691</td><td>44</td><td>24</td></tr><tr><td>63</td><td>Customer IRRVL</td><td>10691</td><td>62</td><td>48</td></tr><tr><td>1</td><td>Customer NRZBB</td><td>10692</td><td>63</td><td>20</td></tr><tr><td>89</td><td>Customer YBQTI</td><td>10693</td><td>9</td><td>6</td></tr><tr><td>89</td><td>Customer YBQTI</td><td>10693</td><td>54</td><td>60</td></tr><tr><td>89</td><td>Customer YBQTI</td><td>10693</td><td>69</td><td>30</td></tr><tr><td>89</td><td>Customer YBQTI</td><td>10693</td><td>73</td><td>15</td></tr><tr><td>63</td><td>Customer IRRVL</td><td>10694</td><td>7</td><td>90</td></tr><tr><td>63</td><td>Customer IRRVL</td><td>10694</td><td>59</td><td>25</td></tr><tr><td>63</td><td>Customer IRRVL</td><td>10694</td><td>70</td><td>50</td></tr><tr><td>90</td><td>Customer XBBVR</td><td>10695</td><td>8</td><td>10</td></tr><tr><td>90</td><td>Customer XBBVR</td><td>10695</td><td>12</td><td>4</td></tr><tr><td>90</td><td>Customer XBBVR</td><td>10695</td><td>24</td><td>20</td></tr><tr><td>89</td><td>Customer YBQTI</td><td>10696</td><td>17</td><td>20</td></tr><tr><td>89</td><td>Customer YBQTI</td><td>10696</td><td>46</td><td>18</td></tr><tr><td>47</td><td>Customer PSQUZ</td><td>10697</td><td>19</td><td>7</td></tr><tr><td>47</td><td>Customer PSQUZ</td><td>10697</td><td>35</td><td>9</td></tr><tr><td>47</td><td>Customer PSQUZ</td><td>10697</td><td>58</td><td>30</td></tr><tr><td>47</td><td>Customer PSQUZ</td><td>10697</td><td>70</td><td>30</td></tr><tr><td>20</td><td>Customer THHDP</td><td>10698</td><td>11</td><td>15</td></tr><tr><td>20</td><td>Customer THHDP</td><td>10698</td><td>17</td><td>8</td></tr><tr><td>20</td><td>Customer THHDP</td><td>10698</td><td>29</td><td>12</td></tr><tr><td>20</td><td>Customer THHDP</td><td>10698</td><td>65</td><td>65</td></tr><tr><td>20</td><td>Customer THHDP</td><td>10698</td><td>70</td><td>8</td></tr><tr><td>52</td><td>Customer PZNLA</td><td>10699</td><td>47</td><td>12</td></tr><tr><td>71</td><td>Customer LCOUJ</td><td>10700</td><td>1</td><td>5</td></tr><tr><td>71</td><td>Customer LCOUJ</td><td>10700</td><td>34</td><td>12</td></tr><tr><td>71</td><td>Customer LCOUJ</td><td>10700</td><td>68</td><td>40</td></tr><tr><td>71</td><td>Customer LCOUJ</td><td>10700</td><td>71</td><td>60</td></tr><tr><td>37</td><td>Customer FRXZL</td><td>10701</td><td>59</td><td>42</td></tr><tr><td>37</td><td>Customer FRXZL</td><td>10701</td><td>71</td><td>20</td></tr><tr><td>37</td><td>Customer FRXZL</td><td>10701</td><td>76</td><td>35</td></tr><tr><td>1</td><td>Customer NRZBB</td><td>10702</td><td>3</td><td>6</td></tr><tr><td>1</td><td>Customer NRZBB</td><td>10702</td><td>76</td><td>15</td></tr><tr><td>24</td><td>Customer CYZTN</td><td>10703</td><td>2</td><td>5</td></tr><tr><td>24</td><td>Customer CYZTN</td><td>10703</td><td>59</td><td>35</td></tr><tr><td>24</td><td>Customer CYZTN</td><td>10703</td><td>73</td><td>35</td></tr><tr><td>62</td><td>Customer WFIZJ</td><td>10704</td><td>4</td><td>6</td></tr><tr><td>62</td><td>Customer WFIZJ</td><td>10704</td><td>24</td><td>35</td></tr><tr><td>62</td><td>Customer WFIZJ</td><td>10704</td><td>48</td><td>24</td></tr><tr><td>35</td><td>Customer UMTLM</td><td>10705</td><td>31</td><td>20</td></tr><tr><td>35</td><td>Customer UMTLM</td><td>10705</td><td>32</td><td>4</td></tr><tr><td>55</td><td>Customer KZQZT</td><td>10706</td><td>16</td><td>20</td></tr><tr><td>55</td><td>Customer KZQZT</td><td>10706</td><td>43</td><td>24</td></tr><tr><td>55</td><td>Customer KZQZT</td><td>10706</td><td>59</td><td>8</td></tr><tr><td>4</td><td>Customer HFBZG</td><td>10707</td><td>55</td><td>21</td></tr><tr><td>4</td><td>Customer HFBZG</td><td>10707</td><td>57</td><td>40</td></tr><tr><td>4</td><td>Customer HFBZG</td><td>10707</td><td>70</td><td>28</td></tr><tr><td>77</td><td>Customer LCYBZ</td><td>10708</td><td>5</td><td>4</td></tr><tr><td>77</td><td>Customer LCYBZ</td><td>10708</td><td>36</td><td>5</td></tr><tr><td>31</td><td>Customer YJCBX</td><td>10709</td><td>8</td><td>40</td></tr><tr><td>31</td><td>Customer YJCBX</td><td>10709</td><td>51</td><td>28</td></tr><tr><td>31</td><td>Customer YJCBX</td><td>10709</td><td>60</td><td>10</td></tr><tr><td>27</td><td>Customer WMFEA</td><td>10710</td><td>19</td><td>5</td></tr><tr><td>27</td><td>Customer WMFEA</td><td>10710</td><td>47</td><td>5</td></tr><tr><td>71</td><td>Customer LCOUJ</td><td>10711</td><td>19</td><td>12</td></tr><tr><td>71</td><td>Customer LCOUJ</td><td>10711</td><td>41</td><td>42</td></tr><tr><td>71</td><td>Customer LCOUJ</td><td>10711</td><td>53</td><td>120</td></tr><tr><td>37</td><td>Customer FRXZL</td><td>10712</td><td>53</td><td>3</td></tr><tr><td>37</td><td>Customer FRXZL</td><td>10712</td><td>56</td><td>30</td></tr><tr><td>71</td><td>Customer LCOUJ</td><td>10713</td><td>10</td><td>18</td></tr><tr><td>71</td><td>Customer LCOUJ</td><td>10713</td><td>26</td><td>30</td></tr><tr><td>71</td><td>Customer LCOUJ</td><td>10713</td><td>45</td><td>110</td></tr><tr><td>71</td><td>Customer LCOUJ</td><td>10713</td><td>46</td><td>24</td></tr><tr><td>71</td><td>Customer LCOUJ</td><td>10714</td><td>2</td><td>30</td></tr><tr><td>71</td><td>Customer LCOUJ</td><td>10714</td><td>17</td><td>27</td></tr><tr><td>71</td><td>Customer LCOUJ</td><td>10714</td><td>47</td><td>50</td></tr><tr><td>71</td><td>Customer LCOUJ</td><td>10714</td><td>56</td><td>18</td></tr><tr><td>71</td><td>Customer LCOUJ</td><td>10714</td><td>58</td><td>12</td></tr><tr><td>9</td><td>Customer RTXGC</td><td>10715</td><td>10</td><td>21</td></tr><tr><td>9</td><td>Customer RTXGC</td><td>10715</td><td>71</td><td>30</td></tr><tr><td>64</td><td>Customer LWGMD</td><td>10716</td><td>21</td><td>5</td></tr><tr><td>64</td><td>Customer LWGMD</td><td>10716</td><td>51</td><td>7</td></tr><tr><td>64</td><td>Customer LWGMD</td><td>10716</td><td>61</td><td>10</td></tr><tr><td>25</td><td>Customer AZJED</td><td>10717</td><td>21</td><td>32</td></tr><tr><td>25</td><td>Customer AZJED</td><td>10717</td><td>54</td><td>15</td></tr><tr><td>25</td><td>Customer AZJED</td><td>10717</td><td>69</td><td>25</td></tr><tr><td>39</td><td>Customer GLLAG</td><td>10718</td><td>12</td><td>36</td></tr><tr><td>39</td><td>Customer GLLAG</td><td>10718</td><td>16</td><td>20</td></tr><tr><td>39</td><td>Customer GLLAG</td><td>10718</td><td>36</td><td>40</td></tr><tr><td>39</td><td>Customer GLLAG</td><td>10718</td><td>62</td><td>20</td></tr><tr><td>45</td><td>Customer QXPPT</td><td>10719</td><td>18</td><td>12</td></tr><tr><td>45</td><td>Customer QXPPT</td><td>10719</td><td>30</td><td>3</td></tr><tr><td>45</td><td>Customer QXPPT</td><td>10719</td><td>54</td><td>40</td></tr><tr><td>61</td><td>Customer WULWD</td><td>10720</td><td>35</td><td>21</td></tr><tr><td>61</td><td>Customer WULWD</td><td>10720</td><td>71</td><td>8</td></tr><tr><td>63</td><td>Customer IRRVL</td><td>10721</td><td>44</td><td>50</td></tr><tr><td>71</td><td>Customer LCOUJ</td><td>10722</td><td>2</td><td>3</td></tr><tr><td>71</td><td>Customer LCOUJ</td><td>10722</td><td>31</td><td>50</td></tr><tr><td>71</td><td>Customer LCOUJ</td><td>10722</td><td>68</td><td>45</td></tr><tr><td>71</td><td>Customer LCOUJ</td><td>10722</td><td>75</td><td>42</td></tr><tr><td>89</td><td>Customer YBQTI</td><td>10723</td><td>26</td><td>15</td></tr><tr><td>51</td><td>Customer PVDZC</td><td>10724</td><td>10</td><td>16</td></tr><tr><td>51</td><td>Customer PVDZC</td><td>10724</td><td>61</td><td>5</td></tr><tr><td>21</td><td>Customer KIDPX</td><td>10725</td><td>41</td><td>12</td></tr><tr><td>21</td><td>Customer KIDPX</td><td>10725</td><td>52</td><td>4</td></tr><tr><td>21</td><td>Customer KIDPX</td><td>10725</td><td>55</td><td>6</td></tr><tr><td>19</td><td>Customer RFNQC</td><td>10726</td><td>4</td><td>25</td></tr><tr><td>19</td><td>Customer RFNQC</td><td>10726</td><td>11</td><td>5</td></tr><tr><td>66</td><td>Customer LHANT</td><td>10727</td><td>17</td><td>20</td></tr><tr><td>66</td><td>Customer LHANT</td><td>10727</td><td>56</td><td>10</td></tr><tr><td>66</td><td>Customer LHANT</td><td>10727</td><td>59</td><td>10</td></tr><tr><td>62</td><td>Customer WFIZJ</td><td>10728</td><td>30</td><td>15</td></tr><tr><td>62</td><td>Customer WFIZJ</td><td>10728</td><td>40</td><td>6</td></tr><tr><td>62</td><td>Customer WFIZJ</td><td>10728</td><td>55</td><td>12</td></tr><tr><td>62</td><td>Customer WFIZJ</td><td>10728</td><td>60</td><td>15</td></tr><tr><td>47</td><td>Customer PSQUZ</td><td>10729</td><td>1</td><td>50</td></tr><tr><td>47</td><td>Customer PSQUZ</td><td>10729</td><td>21</td><td>30</td></tr><tr><td>47</td><td>Customer PSQUZ</td><td>10729</td><td>50</td><td>40</td></tr><tr><td>9</td><td>Customer RTXGC</td><td>10730</td><td>16</td><td>15</td></tr><tr><td>9</td><td>Customer RTXGC</td><td>10730</td><td>31</td><td>3</td></tr><tr><td>9</td><td>Customer RTXGC</td><td>10730</td><td>65</td><td>10</td></tr><tr><td>14</td><td>Customer WNMAF</td><td>10731</td><td>21</td><td>40</td></tr><tr><td>14</td><td>Customer WNMAF</td><td>10731</td><td>51</td><td>30</td></tr><tr><td>9</td><td>Customer RTXGC</td><td>10732</td><td>76</td><td>20</td></tr><tr><td>5</td><td>Customer HGVLZ</td><td>10733</td><td>14</td><td>16</td></tr><tr><td>5</td><td>Customer HGVLZ</td><td>10733</td><td>28</td><td>20</td></tr><tr><td>5</td><td>Customer HGVLZ</td><td>10733</td><td>52</td><td>25</td></tr><tr><td>31</td><td>Customer YJCBX</td><td>10734</td><td>6</td><td>30</td></tr><tr><td>31</td><td>Customer YJCBX</td><td>10734</td><td>30</td><td>15</td></tr><tr><td>31</td><td>Customer YJCBX</td><td>10734</td><td>76</td><td>20</td></tr><tr><td>45</td><td>Customer QXPPT</td><td>10735</td><td>61</td><td>20</td></tr><tr><td>45</td><td>Customer QXPPT</td><td>10735</td><td>77</td><td>2</td></tr><tr><td>37</td><td>Customer FRXZL</td><td>10736</td><td>65</td><td>40</td></tr><tr><td>37</td><td>Customer FRXZL</td><td>10736</td><td>75</td><td>20</td></tr><tr><td>85</td><td>Customer ENQZT</td><td>10737</td><td>13</td><td>4</td></tr><tr><td>85</td><td>Customer ENQZT</td><td>10737</td><td>41</td><td>12</td></tr><tr><td>74</td><td>Customer YSHXL</td><td>10738</td><td>16</td><td>3</td></tr><tr><td>85</td><td>Customer ENQZT</td><td>10739</td><td>36</td><td>6</td></tr><tr><td>85</td><td>Customer ENQZT</td><td>10739</td><td>52</td><td>18</td></tr><tr><td>89</td><td>Customer YBQTI</td><td>10740</td><td>28</td><td>5</td></tr><tr><td>89</td><td>Customer YBQTI</td><td>10740</td><td>35</td><td>35</td></tr><tr><td>89</td><td>Customer YBQTI</td><td>10740</td><td>45</td><td>40</td></tr><tr><td>89</td><td>Customer YBQTI</td><td>10740</td><td>56</td><td>14</td></tr><tr><td>4</td><td>Customer HFBZG</td><td>10741</td><td>2</td><td>15</td></tr><tr><td>10</td><td>Customer EEALV</td><td>10742</td><td>3</td><td>20</td></tr><tr><td>10</td><td>Customer EEALV</td><td>10742</td><td>60</td><td>50</td></tr><tr><td>10</td><td>Customer EEALV</td><td>10742</td><td>72</td><td>35</td></tr><tr><td>4</td><td>Customer HFBZG</td><td>10743</td><td>46</td><td>28</td></tr><tr><td>83</td><td>Customer ZRNDE</td><td>10744</td><td>40</td><td>50</td></tr><tr><td>63</td><td>Customer IRRVL</td><td>10745</td><td>18</td><td>24</td></tr><tr><td>63</td><td>Customer IRRVL</td><td>10745</td><td>44</td><td>16</td></tr><tr><td>63</td><td>Customer IRRVL</td><td>10745</td><td>59</td><td>45</td></tr><tr><td>63</td><td>Customer IRRVL</td><td>10745</td><td>72</td><td>7</td></tr><tr><td>14</td><td>Customer WNMAF</td><td>10746</td><td>13</td><td>6</td></tr><tr><td>14</td><td>Customer WNMAF</td><td>10746</td><td>42</td><td>28</td></tr><tr><td>14</td><td>Customer WNMAF</td><td>10746</td><td>62</td><td>9</td></tr><tr><td>14</td><td>Customer WNMAF</td><td>10746</td><td>69</td><td>40</td></tr><tr><td>59</td><td>Customer LOLJO</td><td>10747</td><td>31</td><td>8</td></tr><tr><td>59</td><td>Customer LOLJO</td><td>10747</td><td>41</td><td>35</td></tr><tr><td>59</td><td>Customer LOLJO</td><td>10747</td><td>63</td><td>9</td></tr><tr><td>59</td><td>Customer LOLJO</td><td>10747</td><td>69</td><td>30</td></tr><tr><td>71</td><td>Customer LCOUJ</td><td>10748</td><td>23</td><td>44</td></tr><tr><td>71</td><td>Customer LCOUJ</td><td>10748</td><td>40</td><td>40</td></tr><tr><td>71</td><td>Customer LCOUJ</td><td>10748</td><td>56</td><td>28</td></tr><tr><td>38</td><td>Customer LJUCA</td><td>10749</td><td>56</td><td>15</td></tr><tr><td>38</td><td>Customer LJUCA</td><td>10749</td><td>59</td><td>6</td></tr><tr><td>38</td><td>Customer LJUCA</td><td>10749</td><td>76</td><td>10</td></tr><tr><td>87</td><td>Customer ZHYOS</td><td>10750</td><td>14</td><td>5</td></tr><tr><td>87</td><td>Customer ZHYOS</td><td>10750</td><td>45</td><td>40</td></tr><tr><td>87</td><td>Customer ZHYOS</td><td>10750</td><td>59</td><td>25</td></tr><tr><td>68</td><td>Customer CCKOT</td><td>10751</td><td>26</td><td>12</td></tr><tr><td>68</td><td>Customer CCKOT</td><td>10751</td><td>30</td><td>30</td></tr><tr><td>68</td><td>Customer CCKOT</td><td>10751</td><td>50</td><td>20</td></tr><tr><td>68</td><td>Customer CCKOT</td><td>10751</td><td>73</td><td>15</td></tr><tr><td>53</td><td>Customer GCJSG</td><td>10752</td><td>1</td><td>8</td></tr><tr><td>53</td><td>Customer GCJSG</td><td>10752</td><td>69</td><td>3</td></tr><tr><td>27</td><td>Customer WMFEA</td><td>10753</td><td>45</td><td>4</td></tr><tr><td>27</td><td>Customer WMFEA</td><td>10753</td><td>74</td><td>5</td></tr><tr><td>49</td><td>Customer CQRAA</td><td>10754</td><td>40</td><td>3</td></tr><tr><td>9</td><td>Customer RTXGC</td><td>10755</td><td>47</td><td>30</td></tr><tr><td>9</td><td>Customer RTXGC</td><td>10755</td><td>56</td><td>30</td></tr><tr><td>9</td><td>Customer RTXGC</td><td>10755</td><td>57</td><td>14</td></tr><tr><td>9</td><td>Customer RTXGC</td><td>10755</td><td>69</td><td>25</td></tr><tr><td>75</td><td>Customer XOJYP</td><td>10756</td><td>18</td><td>21</td></tr><tr><td>75</td><td>Customer XOJYP</td><td>10756</td><td>36</td><td>20</td></tr><tr><td>75</td><td>Customer XOJYP</td><td>10756</td><td>68</td><td>6</td></tr><tr><td>75</td><td>Customer XOJYP</td><td>10756</td><td>69</td><td>20</td></tr><tr><td>71</td><td>Customer LCOUJ</td><td>10757</td><td>34</td><td>30</td></tr><tr><td>71</td><td>Customer LCOUJ</td><td>10757</td><td>59</td><td>7</td></tr><tr><td>71</td><td>Customer LCOUJ</td><td>10757</td><td>62</td><td>30</td></tr><tr><td>71</td><td>Customer LCOUJ</td><td>10757</td><td>64</td><td>24</td></tr><tr><td>68</td><td>Customer CCKOT</td><td>10758</td><td>26</td><td>20</td></tr><tr><td>68</td><td>Customer CCKOT</td><td>10758</td><td>52</td><td>60</td></tr><tr><td>68</td><td>Customer CCKOT</td><td>10758</td><td>70</td><td>40</td></tr><tr><td>2</td><td>Customer MLTDN</td><td>10759</td><td>32</td><td>10</td></tr><tr><td>50</td><td>Customer JYPSC</td><td>10760</td><td>25</td><td>12</td></tr><tr><td>50</td><td>Customer JYPSC</td><td>10760</td><td>27</td><td>40</td></tr><tr><td>50</td><td>Customer JYPSC</td><td>10760</td><td>43</td><td>30</td></tr><tr><td>65</td><td>Customer NYUHS</td><td>10761</td><td>25</td><td>35</td></tr><tr><td>65</td><td>Customer NYUHS</td><td>10761</td><td>75</td><td>18</td></tr><tr><td>24</td><td>Customer CYZTN</td><td>10762</td><td>39</td><td>16</td></tr><tr><td>24</td><td>Customer CYZTN</td><td>10762</td><td>47</td><td>30</td></tr><tr><td>24</td><td>Customer CYZTN</td><td>10762</td><td>51</td><td>28</td></tr><tr><td>24</td><td>Customer CYZTN</td><td>10762</td><td>56</td><td>60</td></tr><tr><td>23</td><td>Customer WVFAF</td><td>10763</td><td>21</td><td>40</td></tr><tr><td>23</td><td>Customer WVFAF</td><td>10763</td><td>22</td><td>6</td></tr><tr><td>23</td><td>Customer WVFAF</td><td>10763</td><td>24</td><td>20</td></tr><tr><td>20</td><td>Customer THHDP</td><td>10764</td><td>3</td><td>20</td></tr><tr><td>20</td><td>Customer THHDP</td><td>10764</td><td>39</td><td>130</td></tr><tr><td>63</td><td>Customer IRRVL</td><td>10765</td><td>65</td><td>80</td></tr><tr><td>56</td><td>Customer QNIVZ</td><td>10766</td><td>2</td><td>40</td></tr><tr><td>56</td><td>Customer QNIVZ</td><td>10766</td><td>7</td><td>35</td></tr><tr><td>56</td><td>Customer QNIVZ</td><td>10766</td><td>68</td><td>40</td></tr><tr><td>76</td><td>Customer SFOGW</td><td>10767</td><td>42</td><td>2</td></tr><tr><td>4</td><td>Customer HFBZG</td><td>10768</td><td>22</td><td>4</td></tr><tr><td>4</td><td>Customer HFBZG</td><td>10768</td><td>31</td><td>50</td></tr><tr><td>4</td><td>Customer HFBZG</td><td>10768</td><td>60</td><td>15</td></tr><tr><td>4</td><td>Customer HFBZG</td><td>10768</td><td>71</td><td>12</td></tr><tr><td>83</td><td>Customer ZRNDE</td><td>10769</td><td>41</td><td>30</td></tr><tr><td>83</td><td>Customer ZRNDE</td><td>10769</td><td>52</td><td>15</td></tr><tr><td>83</td><td>Customer ZRNDE</td><td>10769</td><td>61</td><td>20</td></tr><tr><td>83</td><td>Customer ZRNDE</td><td>10769</td><td>62</td><td>15</td></tr><tr><td>34</td><td>Customer IBVRG</td><td>10770</td><td>11</td><td>15</td></tr><tr><td>20</td><td>Customer THHDP</td><td>10771</td><td>71</td><td>16</td></tr><tr><td>44</td><td>Customer OXFRU</td><td>10772</td><td>29</td><td>18</td></tr><tr><td>44</td><td>Customer OXFRU</td><td>10772</td><td>59</td><td>25</td></tr><tr><td>20</td><td>Customer THHDP</td><td>10773</td><td>17</td><td>33</td></tr><tr><td>20</td><td>Customer THHDP</td><td>10773</td><td>31</td><td>70</td></tr><tr><td>20</td><td>Customer THHDP</td><td>10773</td><td>75</td><td>7</td></tr><tr><td>24</td><td>Customer CYZTN</td><td>10774</td><td>31</td><td>2</td></tr><tr><td>24</td><td>Customer CYZTN</td><td>10774</td><td>66</td><td>50</td></tr><tr><td>78</td><td>Customer NLTYP</td><td>10775</td><td>10</td><td>6</td></tr><tr><td>78</td><td>Customer NLTYP</td><td>10775</td><td>67</td><td>3</td></tr><tr><td>20</td><td>Customer THHDP</td><td>10776</td><td>31</td><td>16</td></tr><tr><td>20</td><td>Customer THHDP</td><td>10776</td><td>42</td><td>12</td></tr><tr><td>20</td><td>Customer THHDP</td><td>10776</td><td>45</td><td>27</td></tr><tr><td>20</td><td>Customer THHDP</td><td>10776</td><td>51</td><td>120</td></tr><tr><td>31</td><td>Customer YJCBX</td><td>10777</td><td>42</td><td>20</td></tr><tr><td>5</td><td>Customer HGVLZ</td><td>10778</td><td>41</td><td>10</td></tr><tr><td>52</td><td>Customer PZNLA</td><td>10779</td><td>16</td><td>20</td></tr><tr><td>52</td><td>Customer PZNLA</td><td>10779</td><td>62</td><td>20</td></tr><tr><td>46</td><td>Customer XPNIK</td><td>10780</td><td>70</td><td>35</td></tr><tr><td>46</td><td>Customer XPNIK</td><td>10780</td><td>77</td><td>15</td></tr><tr><td>87</td><td>Customer ZHYOS</td><td>10781</td><td>54</td><td>3</td></tr><tr><td>87</td><td>Customer ZHYOS</td><td>10781</td><td>56</td><td>20</td></tr><tr><td>87</td><td>Customer ZHYOS</td><td>10781</td><td>74</td><td>35</td></tr><tr><td>12</td><td>Customer PSNMQ</td><td>10782</td><td>31</td><td>1</td></tr><tr><td>34</td><td>Customer IBVRG</td><td>10783</td><td>31</td><td>10</td></tr><tr><td>34</td><td>Customer IBVRG</td><td>10783</td><td>38</td><td>5</td></tr><tr><td>49</td><td>Customer CQRAA</td><td>10784</td><td>36</td><td>30</td></tr><tr><td>49</td><td>Customer CQRAA</td><td>10784</td><td>39</td><td>2</td></tr><tr><td>49</td><td>Customer CQRAA</td><td>10784</td><td>72</td><td>30</td></tr><tr><td>33</td><td>Customer FVXPQ</td><td>10785</td><td>10</td><td>10</td></tr><tr><td>33</td><td>Customer FVXPQ</td><td>10785</td><td>75</td><td>10</td></tr><tr><td>62</td><td>Customer WFIZJ</td><td>10786</td><td>8</td><td>30</td></tr><tr><td>62</td><td>Customer WFIZJ</td><td>10786</td><td>30</td><td>15</td></tr><tr><td>62</td><td>Customer WFIZJ</td><td>10786</td><td>75</td><td>42</td></tr><tr><td>41</td><td>Customer XIIWM</td><td>10787</td><td>2</td><td>15</td></tr><tr><td>41</td><td>Customer XIIWM</td><td>10787</td><td>29</td><td>20</td></tr><tr><td>63</td><td>Customer IRRVL</td><td>10788</td><td>19</td><td>50</td></tr><tr><td>63</td><td>Customer IRRVL</td><td>10788</td><td>75</td><td>40</td></tr><tr><td>23</td><td>Customer WVFAF</td><td>10789</td><td>18</td><td>30</td></tr><tr><td>23</td><td>Customer WVFAF</td><td>10789</td><td>35</td><td>15</td></tr><tr><td>23</td><td>Customer WVFAF</td><td>10789</td><td>63</td><td>30</td></tr><tr><td>23</td><td>Customer WVFAF</td><td>10789</td><td>68</td><td>18</td></tr><tr><td>31</td><td>Customer YJCBX</td><td>10790</td><td>7</td><td>3</td></tr><tr><td>31</td><td>Customer YJCBX</td><td>10790</td><td>56</td><td>20</td></tr><tr><td>25</td><td>Customer AZJED</td><td>10791</td><td>29</td><td>14</td></tr><tr><td>25</td><td>Customer AZJED</td><td>10791</td><td>41</td><td>20</td></tr><tr><td>91</td><td>Customer CCFIZ</td><td>10792</td><td>2</td><td>10</td></tr><tr><td>91</td><td>Customer CCFIZ</td><td>10792</td><td>54</td><td>3</td></tr><tr><td>91</td><td>Customer CCFIZ</td><td>10792</td><td>68</td><td>15</td></tr><tr><td>4</td><td>Customer HFBZG</td><td>10793</td><td>41</td><td>14</td></tr><tr><td>4</td><td>Customer HFBZG</td><td>10793</td><td>52</td><td>8</td></tr><tr><td>61</td><td>Customer WULWD</td><td>10794</td><td>14</td><td>15</td></tr><tr><td>61</td><td>Customer WULWD</td><td>10794</td><td>54</td><td>6</td></tr><tr><td>20</td><td>Customer THHDP</td><td>10795</td><td>16</td><td>65</td></tr><tr><td>20</td><td>Customer THHDP</td><td>10795</td><td>17</td><td>35</td></tr><tr><td>35</td><td>Customer UMTLM</td><td>10796</td><td>26</td><td>21</td></tr><tr><td>35</td><td>Customer UMTLM</td><td>10796</td><td>44</td><td>10</td></tr><tr><td>35</td><td>Customer UMTLM</td><td>10796</td><td>64</td><td>35</td></tr><tr><td>35</td><td>Customer UMTLM</td><td>10796</td><td>69</td><td>24</td></tr><tr><td>17</td><td>Customer FEVNN</td><td>10797</td><td>11</td><td>20</td></tr><tr><td>38</td><td>Customer LJUCA</td><td>10798</td><td>62</td><td>2</td></tr><tr><td>38</td><td>Customer LJUCA</td><td>10798</td><td>72</td><td>10</td></tr><tr><td>39</td><td>Customer GLLAG</td><td>10799</td><td>13</td><td>20</td></tr><tr><td>39</td><td>Customer GLLAG</td><td>10799</td><td>24</td><td>20</td></tr><tr><td>39</td><td>Customer GLLAG</td><td>10799</td><td>59</td><td>25</td></tr><tr><td>72</td><td>Customer AHPOP</td><td>10800</td><td>11</td><td>50</td></tr><tr><td>72</td><td>Customer AHPOP</td><td>10800</td><td>51</td><td>10</td></tr><tr><td>72</td><td>Customer AHPOP</td><td>10800</td><td>54</td><td>7</td></tr><tr><td>8</td><td>Customer QUHWH</td><td>10801</td><td>17</td><td>40</td></tr><tr><td>8</td><td>Customer QUHWH</td><td>10801</td><td>29</td><td>20</td></tr><tr><td>73</td><td>Customer JMIKW</td><td>10802</td><td>30</td><td>25</td></tr><tr><td>73</td><td>Customer JMIKW</td><td>10802</td><td>51</td><td>30</td></tr><tr><td>73</td><td>Customer JMIKW</td><td>10802</td><td>55</td><td>60</td></tr><tr><td>73</td><td>Customer JMIKW</td><td>10802</td><td>62</td><td>5</td></tr><tr><td>88</td><td>Customer SRQVM</td><td>10803</td><td>19</td><td>24</td></tr><tr><td>88</td><td>Customer SRQVM</td><td>10803</td><td>25</td><td>15</td></tr><tr><td>88</td><td>Customer SRQVM</td><td>10803</td><td>59</td><td>15</td></tr><tr><td>72</td><td>Customer AHPOP</td><td>10804</td><td>10</td><td>36</td></tr><tr><td>72</td><td>Customer AHPOP</td><td>10804</td><td>28</td><td>24</td></tr><tr><td>72</td><td>Customer AHPOP</td><td>10804</td><td>49</td><td>4</td></tr><tr><td>77</td><td>Customer LCYBZ</td><td>10805</td><td>34</td><td>10</td></tr><tr><td>77</td><td>Customer LCYBZ</td><td>10805</td><td>38</td><td>10</td></tr><tr><td>84</td><td>Customer NRCSK</td><td>10806</td><td>2</td><td>20</td></tr><tr><td>84</td><td>Customer NRCSK</td><td>10806</td><td>65</td><td>2</td></tr><tr><td>84</td><td>Customer NRCSK</td><td>10806</td><td>74</td><td>15</td></tr><tr><td>27</td><td>Customer WMFEA</td><td>10807</td><td>40</td><td>1</td></tr><tr><td>55</td><td>Customer KZQZT</td><td>10808</td><td>56</td><td>20</td></tr><tr><td>55</td><td>Customer KZQZT</td><td>10808</td><td>76</td><td>50</td></tr><tr><td>88</td><td>Customer SRQVM</td><td>10809</td><td>52</td><td>20</td></tr><tr><td>42</td><td>Customer IAIJK</td><td>10810</td><td>13</td><td>7</td></tr><tr><td>42</td><td>Customer IAIJK</td><td>10810</td><td>25</td><td>5</td></tr><tr><td>42</td><td>Customer IAIJK</td><td>10810</td><td>70</td><td>5</td></tr><tr><td>47</td><td>Customer PSQUZ</td><td>10811</td><td>19</td><td>15</td></tr><tr><td>47</td><td>Customer PSQUZ</td><td>10811</td><td>23</td><td>18</td></tr><tr><td>47</td><td>Customer PSQUZ</td><td>10811</td><td>40</td><td>30</td></tr><tr><td>66</td><td>Customer LHANT</td><td>10812</td><td>31</td><td>16</td></tr><tr><td>66</td><td>Customer LHANT</td><td>10812</td><td>72</td><td>40</td></tr><tr><td>66</td><td>Customer LHANT</td><td>10812</td><td>77</td><td>20</td></tr><tr><td>67</td><td>Customer QVEPD</td><td>10813</td><td>2</td><td>12</td></tr><tr><td>67</td><td>Customer QVEPD</td><td>10813</td><td>46</td><td>35</td></tr><tr><td>84</td><td>Customer NRCSK</td><td>10814</td><td>41</td><td>20</td></tr><tr><td>84</td><td>Customer NRCSK</td><td>10814</td><td>43</td><td>20</td></tr><tr><td>84</td><td>Customer NRCSK</td><td>10814</td><td>48</td><td>8</td></tr><tr><td>84</td><td>Customer NRCSK</td><td>10814</td><td>61</td><td>30</td></tr><tr><td>71</td><td>Customer LCOUJ</td><td>10815</td><td>33</td><td>16</td></tr><tr><td>32</td><td>Customer YSIQX</td><td>10816</td><td>38</td><td>30</td></tr><tr><td>32</td><td>Customer YSIQX</td><td>10816</td><td>62</td><td>20</td></tr><tr><td>39</td><td>Customer GLLAG</td><td>10817</td><td>26</td><td>40</td></tr><tr><td>39</td><td>Customer GLLAG</td><td>10817</td><td>38</td><td>30</td></tr><tr><td>39</td><td>Customer GLLAG</td><td>10817</td><td>40</td><td>60</td></tr><tr><td>39</td><td>Customer GLLAG</td><td>10817</td><td>62</td><td>25</td></tr><tr><td>49</td><td>Customer CQRAA</td><td>10818</td><td>32</td><td>20</td></tr><tr><td>49</td><td>Customer CQRAA</td><td>10818</td><td>41</td><td>20</td></tr><tr><td>12</td><td>Customer PSNMQ</td><td>10819</td><td>43</td><td>7</td></tr><tr><td>12</td><td>Customer PSNMQ</td><td>10819</td><td>75</td><td>20</td></tr><tr><td>65</td><td>Customer NYUHS</td><td>10820</td><td>56</td><td>30</td></tr><tr><td>75</td><td>Customer XOJYP</td><td>10821</td><td>35</td><td>20</td></tr><tr><td>75</td><td>Customer XOJYP</td><td>10821</td><td>51</td><td>6</td></tr><tr><td>82</td><td>Customer EYHKM</td><td>10822</td><td>62</td><td>3</td></tr><tr><td>82</td><td>Customer EYHKM</td><td>10822</td><td>70</td><td>6</td></tr><tr><td>46</td><td>Customer XPNIK</td><td>10823</td><td>11</td><td>20</td></tr><tr><td>46</td><td>Customer XPNIK</td><td>10823</td><td>57</td><td>15</td></tr><tr><td>46</td><td>Customer XPNIK</td><td>10823</td><td>59</td><td>40</td></tr><tr><td>46</td><td>Customer XPNIK</td><td>10823</td><td>77</td><td>15</td></tr><tr><td>24</td><td>Customer CYZTN</td><td>10824</td><td>41</td><td>12</td></tr><tr><td>24</td><td>Customer CYZTN</td><td>10824</td><td>70</td><td>9</td></tr><tr><td>17</td><td>Customer FEVNN</td><td>10825</td><td>26</td><td>12</td></tr><tr><td>17</td><td>Customer FEVNN</td><td>10825</td><td>53</td><td>20</td></tr><tr><td>7</td><td>Customer QXVLA</td><td>10826</td><td>31</td><td>35</td></tr><tr><td>7</td><td>Customer QXVLA</td><td>10826</td><td>57</td><td>15</td></tr><tr><td>9</td><td>Customer RTXGC</td><td>10827</td><td>10</td><td>15</td></tr><tr><td>9</td><td>Customer RTXGC</td><td>10827</td><td>39</td><td>21</td></tr><tr><td>64</td><td>Customer LWGMD</td><td>10828</td><td>20</td><td>5</td></tr><tr><td>64</td><td>Customer LWGMD</td><td>10828</td><td>38</td><td>2</td></tr><tr><td>38</td><td>Customer LJUCA</td><td>10829</td><td>2</td><td>10</td></tr><tr><td>38</td><td>Customer LJUCA</td><td>10829</td><td>8</td><td>20</td></tr><tr><td>38</td><td>Customer LJUCA</td><td>10829</td><td>13</td><td>10</td></tr><tr><td>38</td><td>Customer LJUCA</td><td>10829</td><td>60</td><td>21</td></tr><tr><td>81</td><td>Customer YQQWW</td><td>10830</td><td>6</td><td>6</td></tr><tr><td>81</td><td>Customer YQQWW</td><td>10830</td><td>39</td><td>28</td></tr><tr><td>81</td><td>Customer YQQWW</td><td>10830</td><td>60</td><td>30</td></tr><tr><td>81</td><td>Customer YQQWW</td><td>10830</td><td>68</td><td>24</td></tr><tr><td>70</td><td>Customer TMXGN</td><td>10831</td><td>19</td><td>2</td></tr><tr><td>70</td><td>Customer TMXGN</td><td>10831</td><td>35</td><td>8</td></tr><tr><td>70</td><td>Customer TMXGN</td><td>10831</td><td>38</td><td>8</td></tr><tr><td>70</td><td>Customer TMXGN</td><td>10831</td><td>43</td><td>9</td></tr><tr><td>41</td><td>Customer XIIWM</td><td>10832</td><td>13</td><td>3</td></tr><tr><td>41</td><td>Customer XIIWM</td><td>10832</td><td>25</td><td>10</td></tr><tr><td>41</td><td>Customer XIIWM</td><td>10832</td><td>44</td><td>16</td></tr><tr><td>41</td><td>Customer XIIWM</td><td>10832</td><td>64</td><td>3</td></tr><tr><td>56</td><td>Customer QNIVZ</td><td>10833</td><td>7</td><td>20</td></tr><tr><td>56</td><td>Customer QNIVZ</td><td>10833</td><td>31</td><td>9</td></tr><tr><td>56</td><td>Customer QNIVZ</td><td>10833</td><td>53</td><td>9</td></tr><tr><td>81</td><td>Customer YQQWW</td><td>10834</td><td>29</td><td>8</td></tr><tr><td>81</td><td>Customer YQQWW</td><td>10834</td><td>30</td><td>20</td></tr><tr><td>1</td><td>Customer NRZBB</td><td>10835</td><td>59</td><td>15</td></tr><tr><td>1</td><td>Customer NRZBB</td><td>10835</td><td>77</td><td>2</td></tr><tr><td>20</td><td>Customer THHDP</td><td>10836</td><td>22</td><td>52</td></tr><tr><td>20</td><td>Customer THHDP</td><td>10836</td><td>35</td><td>6</td></tr><tr><td>20</td><td>Customer THHDP</td><td>10836</td><td>57</td><td>24</td></tr><tr><td>20</td><td>Customer THHDP</td><td>10836</td><td>60</td><td>60</td></tr><tr><td>20</td><td>Customer THHDP</td><td>10836</td><td>64</td><td>30</td></tr><tr><td>5</td><td>Customer HGVLZ</td><td>10837</td><td>13</td><td>6</td></tr><tr><td>5</td><td>Customer HGVLZ</td><td>10837</td><td>40</td><td>25</td></tr><tr><td>5</td><td>Customer HGVLZ</td><td>10837</td><td>47</td><td>40</td></tr><tr><td>5</td><td>Customer HGVLZ</td><td>10837</td><td>76</td><td>21</td></tr><tr><td>47</td><td>Customer PSQUZ</td><td>10838</td><td>1</td><td>4</td></tr><tr><td>47</td><td>Customer PSQUZ</td><td>10838</td><td>18</td><td>25</td></tr><tr><td>47</td><td>Customer PSQUZ</td><td>10838</td><td>36</td><td>50</td></tr><tr><td>81</td><td>Customer YQQWW</td><td>10839</td><td>58</td><td>30</td></tr><tr><td>81</td><td>Customer YQQWW</td><td>10839</td><td>72</td><td>15</td></tr><tr><td>47</td><td>Customer PSQUZ</td><td>10840</td><td>25</td><td>6</td></tr><tr><td>47</td><td>Customer PSQUZ</td><td>10840</td><td>39</td><td>10</td></tr><tr><td>76</td><td>Customer SFOGW</td><td>10841</td><td>10</td><td>16</td></tr><tr><td>76</td><td>Customer SFOGW</td><td>10841</td><td>56</td><td>30</td></tr><tr><td>76</td><td>Customer SFOGW</td><td>10841</td><td>59</td><td>50</td></tr><tr><td>76</td><td>Customer SFOGW</td><td>10841</td><td>77</td><td>15</td></tr><tr><td>80</td><td>Customer VONTK</td><td>10842</td><td>11</td><td>15</td></tr><tr><td>80</td><td>Customer VONTK</td><td>10842</td><td>43</td><td>5</td></tr><tr><td>80</td><td>Customer VONTK</td><td>10842</td><td>68</td><td>20</td></tr><tr><td>80</td><td>Customer VONTK</td><td>10842</td><td>70</td><td>12</td></tr><tr><td>84</td><td>Customer NRCSK</td><td>10843</td><td>51</td><td>4</td></tr><tr><td>59</td><td>Customer LOLJO</td><td>10844</td><td>22</td><td>35</td></tr><tr><td>63</td><td>Customer IRRVL</td><td>10845</td><td>23</td><td>70</td></tr><tr><td>63</td><td>Customer IRRVL</td><td>10845</td><td>35</td><td>25</td></tr><tr><td>63</td><td>Customer IRRVL</td><td>10845</td><td>42</td><td>42</td></tr><tr><td>63</td><td>Customer IRRVL</td><td>10845</td><td>58</td><td>60</td></tr><tr><td>63</td><td>Customer IRRVL</td><td>10845</td><td>64</td><td>48</td></tr><tr><td>76</td><td>Customer SFOGW</td><td>10846</td><td>4</td><td>21</td></tr><tr><td>76</td><td>Customer SFOGW</td><td>10846</td><td>70</td><td>30</td></tr><tr><td>76</td><td>Customer SFOGW</td><td>10846</td><td>74</td><td>20</td></tr><tr><td>71</td><td>Customer LCOUJ</td><td>10847</td><td>1</td><td>80</td></tr><tr><td>71</td><td>Customer LCOUJ</td><td>10847</td><td>19</td><td>12</td></tr><tr><td>71</td><td>Customer LCOUJ</td><td>10847</td><td>37</td><td>60</td></tr><tr><td>71</td><td>Customer LCOUJ</td><td>10847</td><td>45</td><td>36</td></tr><tr><td>71</td><td>Customer LCOUJ</td><td>10847</td><td>60</td><td>45</td></tr><tr><td>71</td><td>Customer LCOUJ</td><td>10847</td><td>71</td><td>55</td></tr><tr><td>16</td><td>Customer GYBBY</td><td>10848</td><td>5</td><td>30</td></tr><tr><td>16</td><td>Customer GYBBY</td><td>10848</td><td>9</td><td>3</td></tr><tr><td>39</td><td>Customer GLLAG</td><td>10849</td><td>3</td><td>49</td></tr><tr><td>39</td><td>Customer GLLAG</td><td>10849</td><td>26</td><td>18</td></tr><tr><td>84</td><td>Customer NRCSK</td><td>10850</td><td>25</td><td>20</td></tr><tr><td>84</td><td>Customer NRCSK</td><td>10850</td><td>33</td><td>4</td></tr><tr><td>84</td><td>Customer NRCSK</td><td>10850</td><td>70</td><td>30</td></tr><tr><td>67</td><td>Customer QVEPD</td><td>10851</td><td>2</td><td>5</td></tr><tr><td>67</td><td>Customer QVEPD</td><td>10851</td><td>25</td><td>10</td></tr><tr><td>67</td><td>Customer QVEPD</td><td>10851</td><td>57</td><td>10</td></tr><tr><td>67</td><td>Customer QVEPD</td><td>10851</td><td>59</td><td>42</td></tr><tr><td>65</td><td>Customer NYUHS</td><td>10852</td><td>2</td><td>15</td></tr><tr><td>65</td><td>Customer NYUHS</td><td>10852</td><td>17</td><td>6</td></tr><tr><td>65</td><td>Customer NYUHS</td><td>10852</td><td>62</td><td>50</td></tr><tr><td>6</td><td>Customer XHXJV</td><td>10853</td><td>18</td><td>10</td></tr><tr><td>20</td><td>Customer THHDP</td><td>10854</td><td>10</td><td>100</td></tr><tr><td>20</td><td>Customer THHDP</td><td>10854</td><td>13</td><td>65</td></tr><tr><td>55</td><td>Customer KZQZT</td><td>10855</td><td>16</td><td>50</td></tr><tr><td>55</td><td>Customer KZQZT</td><td>10855</td><td>31</td><td>14</td></tr><tr><td>55</td><td>Customer KZQZT</td><td>10855</td><td>56</td><td>24</td></tr><tr><td>55</td><td>Customer KZQZT</td><td>10855</td><td>65</td><td>15</td></tr><tr><td>3</td><td>Customer KBUDE</td><td>10856</td><td>2</td><td>20</td></tr><tr><td>3</td><td>Customer KBUDE</td><td>10856</td><td>42</td><td>20</td></tr><tr><td>5</td><td>Customer HGVLZ</td><td>10857</td><td>3</td><td>30</td></tr><tr><td>5</td><td>Customer HGVLZ</td><td>10857</td><td>26</td><td>35</td></tr><tr><td>5</td><td>Customer HGVLZ</td><td>10857</td><td>29</td><td>10</td></tr><tr><td>40</td><td>Customer EFFTC</td><td>10858</td><td>7</td><td>5</td></tr><tr><td>40</td><td>Customer EFFTC</td><td>10858</td><td>27</td><td>10</td></tr><tr><td>40</td><td>Customer EFFTC</td><td>10858</td><td>70</td><td>4</td></tr><tr><td>25</td><td>Customer AZJED</td><td>10859</td><td>24</td><td>40</td></tr><tr><td>25</td><td>Customer AZJED</td><td>10859</td><td>54</td><td>35</td></tr><tr><td>25</td><td>Customer AZJED</td><td>10859</td><td>64</td><td>30</td></tr><tr><td>26</td><td>Customer USDBG</td><td>10860</td><td>51</td><td>3</td></tr><tr><td>26</td><td>Customer USDBG</td><td>10860</td><td>76</td><td>20</td></tr><tr><td>89</td><td>Customer YBQTI</td><td>10861</td><td>17</td><td>42</td></tr><tr><td>89</td><td>Customer YBQTI</td><td>10861</td><td>18</td><td>20</td></tr><tr><td>89</td><td>Customer YBQTI</td><td>10861</td><td>21</td><td>40</td></tr><tr><td>89</td><td>Customer YBQTI</td><td>10861</td><td>33</td><td>35</td></tr><tr><td>89</td><td>Customer YBQTI</td><td>10861</td><td>62</td><td>3</td></tr><tr><td>44</td><td>Customer OXFRU</td><td>10862</td><td>11</td><td>25</td></tr><tr><td>44</td><td>Customer OXFRU</td><td>10862</td><td>52</td><td>8</td></tr><tr><td>35</td><td>Customer UMTLM</td><td>10863</td><td>1</td><td>20</td></tr><tr><td>35</td><td>Customer UMTLM</td><td>10863</td><td>58</td><td>12</td></tr><tr><td>4</td><td>Customer HFBZG</td><td>10864</td><td>35</td><td>4</td></tr><tr><td>4</td><td>Customer HFBZG</td><td>10864</td><td>67</td><td>15</td></tr><tr><td>63</td><td>Customer IRRVL</td><td>10865</td><td>38</td><td>60</td></tr><tr><td>63</td><td>Customer IRRVL</td><td>10865</td><td>39</td><td>80</td></tr><tr><td>5</td><td>Customer HGVLZ</td><td>10866</td><td>2</td><td>21</td></tr><tr><td>5</td><td>Customer HGVLZ</td><td>10866</td><td>24</td><td>6</td></tr><tr><td>5</td><td>Customer HGVLZ</td><td>10866</td><td>30</td><td>40</td></tr><tr><td>48</td><td>Customer DVFMB</td><td>10867</td><td>53</td><td>3</td></tr><tr><td>62</td><td>Customer WFIZJ</td><td>10868</td><td>26</td><td>20</td></tr><tr><td>62</td><td>Customer WFIZJ</td><td>10868</td><td>35</td><td>30</td></tr><tr><td>62</td><td>Customer WFIZJ</td><td>10868</td><td>49</td><td>42</td></tr><tr><td>72</td><td>Customer AHPOP</td><td>10869</td><td>1</td><td>40</td></tr><tr><td>72</td><td>Customer AHPOP</td><td>10869</td><td>11</td><td>10</td></tr><tr><td>72</td><td>Customer AHPOP</td><td>10869</td><td>23</td><td>50</td></tr><tr><td>72</td><td>Customer AHPOP</td><td>10869</td><td>68</td><td>20</td></tr><tr><td>91</td><td>Customer CCFIZ</td><td>10870</td><td>35</td><td>3</td></tr><tr><td>91</td><td>Customer CCFIZ</td><td>10870</td><td>51</td><td>2</td></tr><tr><td>9</td><td>Customer RTXGC</td><td>10871</td><td>6</td><td>50</td></tr><tr><td>9</td><td>Customer RTXGC</td><td>10871</td><td>16</td><td>12</td></tr><tr><td>9</td><td>Customer RTXGC</td><td>10871</td><td>17</td><td>16</td></tr><tr><td>30</td><td>Customer KSLQF</td><td>10872</td><td>55</td><td>10</td></tr><tr><td>30</td><td>Customer KSLQF</td><td>10872</td><td>62</td><td>20</td></tr><tr><td>30</td><td>Customer KSLQF</td><td>10872</td><td>64</td><td>15</td></tr><tr><td>30</td><td>Customer KSLQF</td><td>10872</td><td>65</td><td>21</td></tr><tr><td>90</td><td>Customer XBBVR</td><td>10873</td><td>21</td><td>20</td></tr><tr><td>90</td><td>Customer XBBVR</td><td>10873</td><td>28</td><td>3</td></tr><tr><td>30</td><td>Customer KSLQF</td><td>10874</td><td>10</td><td>10</td></tr><tr><td>5</td><td>Customer HGVLZ</td><td>10875</td><td>19</td><td>25</td></tr><tr><td>5</td><td>Customer HGVLZ</td><td>10875</td><td>47</td><td>21</td></tr><tr><td>5</td><td>Customer HGVLZ</td><td>10875</td><td>49</td><td>15</td></tr><tr><td>9</td><td>Customer RTXGC</td><td>10876</td><td>46</td><td>21</td></tr><tr><td>9</td><td>Customer RTXGC</td><td>10876</td><td>64</td><td>20</td></tr><tr><td>67</td><td>Customer QVEPD</td><td>10877</td><td>16</td><td>30</td></tr><tr><td>67</td><td>Customer QVEPD</td><td>10877</td><td>18</td><td>25</td></tr><tr><td>63</td><td>Customer IRRVL</td><td>10878</td><td>20</td><td>20</td></tr><tr><td>90</td><td>Customer XBBVR</td><td>10879</td><td>40</td><td>12</td></tr><tr><td>90</td><td>Customer XBBVR</td><td>10879</td><td>65</td><td>10</td></tr><tr><td>90</td><td>Customer XBBVR</td><td>10879</td><td>76</td><td>10</td></tr><tr><td>24</td><td>Customer CYZTN</td><td>10880</td><td>23</td><td>30</td></tr><tr><td>24</td><td>Customer CYZTN</td><td>10880</td><td>61</td><td>30</td></tr><tr><td>24</td><td>Customer CYZTN</td><td>10880</td><td>70</td><td>50</td></tr><tr><td>12</td><td>Customer PSNMQ</td><td>10881</td><td>73</td><td>10</td></tr><tr><td>71</td><td>Customer LCOUJ</td><td>10882</td><td>42</td><td>25</td></tr><tr><td>71</td><td>Customer LCOUJ</td><td>10882</td><td>49</td><td>20</td></tr><tr><td>71</td><td>Customer LCOUJ</td><td>10882</td><td>54</td><td>32</td></tr><tr><td>48</td><td>Customer DVFMB</td><td>10883</td><td>24</td><td>8</td></tr><tr><td>45</td><td>Customer QXPPT</td><td>10884</td><td>21</td><td>40</td></tr><tr><td>45</td><td>Customer QXPPT</td><td>10884</td><td>56</td><td>21</td></tr><tr><td>45</td><td>Customer QXPPT</td><td>10884</td><td>65</td><td>12</td></tr><tr><td>76</td><td>Customer SFOGW</td><td>10885</td><td>2</td><td>20</td></tr><tr><td>76</td><td>Customer SFOGW</td><td>10885</td><td>24</td><td>12</td></tr><tr><td>76</td><td>Customer SFOGW</td><td>10885</td><td>70</td><td>30</td></tr><tr><td>76</td><td>Customer SFOGW</td><td>10885</td><td>77</td><td>25</td></tr><tr><td>34</td><td>Customer IBVRG</td><td>10886</td><td>10</td><td>70</td></tr><tr><td>34</td><td>Customer IBVRG</td><td>10886</td><td>31</td><td>35</td></tr><tr><td>34</td><td>Customer IBVRG</td><td>10886</td><td>77</td><td>40</td></tr><tr><td>29</td><td>Customer MDLWA</td><td>10887</td><td>25</td><td>5</td></tr><tr><td>30</td><td>Customer KSLQF</td><td>10888</td><td>2</td><td>20</td></tr><tr><td>30</td><td>Customer KSLQF</td><td>10888</td><td>68</td><td>18</td></tr><tr><td>65</td><td>Customer NYUHS</td><td>10889</td><td>11</td><td>40</td></tr><tr><td>65</td><td>Customer NYUHS</td><td>10889</td><td>38</td><td>40</td></tr><tr><td>18</td><td>Customer BSVAR</td><td>10890</td><td>17</td><td>15</td></tr><tr><td>18</td><td>Customer BSVAR</td><td>10890</td><td>34</td><td>10</td></tr><tr><td>18</td><td>Customer BSVAR</td><td>10890</td><td>41</td><td>14</td></tr><tr><td>44</td><td>Customer OXFRU</td><td>10891</td><td>30</td><td>15</td></tr><tr><td>50</td><td>Customer JYPSC</td><td>10892</td><td>59</td><td>40</td></tr><tr><td>39</td><td>Customer GLLAG</td><td>10893</td><td>8</td><td>30</td></tr><tr><td>39</td><td>Customer GLLAG</td><td>10893</td><td>24</td><td>10</td></tr><tr><td>39</td><td>Customer GLLAG</td><td>10893</td><td>29</td><td>24</td></tr><tr><td>39</td><td>Customer GLLAG</td><td>10893</td><td>30</td><td>35</td></tr><tr><td>39</td><td>Customer GLLAG</td><td>10893</td><td>36</td><td>20</td></tr><tr><td>71</td><td>Customer LCOUJ</td><td>10894</td><td>13</td><td>28</td></tr><tr><td>71</td><td>Customer LCOUJ</td><td>10894</td><td>69</td><td>50</td></tr><tr><td>71</td><td>Customer LCOUJ</td><td>10894</td><td>75</td><td>120</td></tr><tr><td>20</td><td>Customer THHDP</td><td>10895</td><td>24</td><td>110</td></tr><tr><td>20</td><td>Customer THHDP</td><td>10895</td><td>39</td><td>45</td></tr><tr><td>20</td><td>Customer THHDP</td><td>10895</td><td>40</td><td>91</td></tr><tr><td>20</td><td>Customer THHDP</td><td>10895</td><td>60</td><td>100</td></tr><tr><td>50</td><td>Customer JYPSC</td><td>10896</td><td>45</td><td>15</td></tr><tr><td>50</td><td>Customer JYPSC</td><td>10896</td><td>56</td><td>16</td></tr><tr><td>37</td><td>Customer FRXZL</td><td>10897</td><td>29</td><td>80</td></tr><tr><td>37</td><td>Customer FRXZL</td><td>10897</td><td>30</td><td>36</td></tr><tr><td>54</td><td>Customer TDKEG</td><td>10898</td><td>13</td><td>5</td></tr><tr><td>46</td><td>Customer XPNIK</td><td>10899</td><td>39</td><td>8</td></tr><tr><td>88</td><td>Customer SRQVM</td><td>10900</td><td>70</td><td>3</td></tr><tr><td>35</td><td>Customer UMTLM</td><td>10901</td><td>41</td><td>30</td></tr><tr><td>35</td><td>Customer UMTLM</td><td>10901</td><td>71</td><td>30</td></tr><tr><td>24</td><td>Customer CYZTN</td><td>10902</td><td>55</td><td>30</td></tr><tr><td>24</td><td>Customer CYZTN</td><td>10902</td><td>62</td><td>6</td></tr><tr><td>34</td><td>Customer IBVRG</td><td>10903</td><td>13</td><td>40</td></tr><tr><td>34</td><td>Customer IBVRG</td><td>10903</td><td>65</td><td>21</td></tr><tr><td>34</td><td>Customer IBVRG</td><td>10903</td><td>68</td><td>20</td></tr><tr><td>89</td><td>Customer YBQTI</td><td>10904</td><td>58</td><td>15</td></tr><tr><td>89</td><td>Customer YBQTI</td><td>10904</td><td>62</td><td>35</td></tr><tr><td>88</td><td>Customer SRQVM</td><td>10905</td><td>1</td><td>20</td></tr><tr><td>91</td><td>Customer CCFIZ</td><td>10906</td><td>61</td><td>15</td></tr><tr><td>74</td><td>Customer YSHXL</td><td>10907</td><td>75</td><td>14</td></tr><tr><td>66</td><td>Customer LHANT</td><td>10908</td><td>7</td><td>20</td></tr><tr><td>66</td><td>Customer LHANT</td><td>10908</td><td>52</td><td>14</td></tr><tr><td>70</td><td>Customer TMXGN</td><td>10909</td><td>7</td><td>12</td></tr><tr><td>70</td><td>Customer TMXGN</td><td>10909</td><td>16</td><td>15</td></tr><tr><td>70</td><td>Customer TMXGN</td><td>10909</td><td>41</td><td>5</td></tr><tr><td>90</td><td>Customer XBBVR</td><td>10910</td><td>19</td><td>12</td></tr><tr><td>90</td><td>Customer XBBVR</td><td>10910</td><td>49</td><td>10</td></tr><tr><td>90</td><td>Customer XBBVR</td><td>10910</td><td>61</td><td>5</td></tr><tr><td>30</td><td>Customer KSLQF</td><td>10911</td><td>1</td><td>10</td></tr><tr><td>30</td><td>Customer KSLQF</td><td>10911</td><td>17</td><td>12</td></tr><tr><td>30</td><td>Customer KSLQF</td><td>10911</td><td>67</td><td>15</td></tr><tr><td>37</td><td>Customer FRXZL</td><td>10912</td><td>11</td><td>40</td></tr><tr><td>37</td><td>Customer FRXZL</td><td>10912</td><td>29</td><td>60</td></tr><tr><td>62</td><td>Customer WFIZJ</td><td>10913</td><td>4</td><td>30</td></tr><tr><td>62</td><td>Customer WFIZJ</td><td>10913</td><td>33</td><td>40</td></tr><tr><td>62</td><td>Customer WFIZJ</td><td>10913</td><td>58</td><td>15</td></tr><tr><td>62</td><td>Customer WFIZJ</td><td>10914</td><td>71</td><td>25</td></tr><tr><td>80</td><td>Customer VONTK</td><td>10915</td><td>17</td><td>10</td></tr><tr><td>80</td><td>Customer VONTK</td><td>10915</td><td>33</td><td>30</td></tr><tr><td>80</td><td>Customer VONTK</td><td>10915</td><td>54</td><td>10</td></tr><tr><td>64</td><td>Customer LWGMD</td><td>10916</td><td>16</td><td>6</td></tr><tr><td>64</td><td>Customer LWGMD</td><td>10916</td><td>32</td><td>6</td></tr><tr><td>64</td><td>Customer LWGMD</td><td>10916</td><td>57</td><td>20</td></tr><tr><td>69</td><td>Customer SIUIH</td><td>10917</td><td>30</td><td>1</td></tr><tr><td>69</td><td>Customer SIUIH</td><td>10917</td><td>60</td><td>10</td></tr><tr><td>10</td><td>Customer EEALV</td><td>10918</td><td>1</td><td>60</td></tr><tr><td>10</td><td>Customer EEALV</td><td>10918</td><td>60</td><td>25</td></tr><tr><td>47</td><td>Customer PSQUZ</td><td>10919</td><td>16</td><td>24</td></tr><tr><td>47</td><td>Customer PSQUZ</td><td>10919</td><td>25</td><td>24</td></tr><tr><td>47</td><td>Customer PSQUZ</td><td>10919</td><td>40</td><td>20</td></tr><tr><td>4</td><td>Customer HFBZG</td><td>10920</td><td>50</td><td>24</td></tr><tr><td>83</td><td>Customer ZRNDE</td><td>10921</td><td>35</td><td>10</td></tr><tr><td>83</td><td>Customer ZRNDE</td><td>10921</td><td>63</td><td>40</td></tr><tr><td>34</td><td>Customer IBVRG</td><td>10922</td><td>17</td><td>15</td></tr><tr><td>34</td><td>Customer IBVRG</td><td>10922</td><td>24</td><td>35</td></tr><tr><td>41</td><td>Customer XIIWM</td><td>10923</td><td>42</td><td>10</td></tr><tr><td>41</td><td>Customer XIIWM</td><td>10923</td><td>43</td><td>10</td></tr><tr><td>41</td><td>Customer XIIWM</td><td>10923</td><td>67</td><td>24</td></tr><tr><td>5</td><td>Customer HGVLZ</td><td>10924</td><td>10</td><td>20</td></tr><tr><td>5</td><td>Customer HGVLZ</td><td>10924</td><td>28</td><td>30</td></tr><tr><td>5</td><td>Customer HGVLZ</td><td>10924</td><td>75</td><td>6</td></tr><tr><td>34</td><td>Customer IBVRG</td><td>10925</td><td>36</td><td>25</td></tr><tr><td>34</td><td>Customer IBVRG</td><td>10925</td><td>52</td><td>12</td></tr><tr><td>2</td><td>Customer MLTDN</td><td>10926</td><td>11</td><td>2</td></tr><tr><td>2</td><td>Customer MLTDN</td><td>10926</td><td>13</td><td>10</td></tr><tr><td>2</td><td>Customer MLTDN</td><td>10926</td><td>19</td><td>7</td></tr><tr><td>2</td><td>Customer MLTDN</td><td>10926</td><td>72</td><td>10</td></tr><tr><td>40</td><td>Customer EFFTC</td><td>10927</td><td>20</td><td>5</td></tr><tr><td>40</td><td>Customer EFFTC</td><td>10927</td><td>52</td><td>5</td></tr><tr><td>40</td><td>Customer EFFTC</td><td>10927</td><td>76</td><td>20</td></tr><tr><td>29</td><td>Customer MDLWA</td><td>10928</td><td>47</td><td>5</td></tr><tr><td>29</td><td>Customer MDLWA</td><td>10928</td><td>76</td><td>5</td></tr><tr><td>25</td><td>Customer AZJED</td><td>10929</td><td>21</td><td>60</td></tr><tr><td>25</td><td>Customer AZJED</td><td>10929</td><td>75</td><td>49</td></tr><tr><td>25</td><td>Customer AZJED</td><td>10929</td><td>77</td><td>15</td></tr><tr><td>76</td><td>Customer SFOGW</td><td>10930</td><td>21</td><td>36</td></tr><tr><td>76</td><td>Customer SFOGW</td><td>10930</td><td>27</td><td>25</td></tr><tr><td>76</td><td>Customer SFOGW</td><td>10930</td><td>55</td><td>25</td></tr><tr><td>76</td><td>Customer SFOGW</td><td>10930</td><td>58</td><td>30</td></tr><tr><td>68</td><td>Customer CCKOT</td><td>10931</td><td>13</td><td>42</td></tr><tr><td>68</td><td>Customer CCKOT</td><td>10931</td><td>57</td><td>30</td></tr><tr><td>9</td><td>Customer RTXGC</td><td>10932</td><td>16</td><td>30</td></tr><tr><td>9</td><td>Customer RTXGC</td><td>10932</td><td>62</td><td>14</td></tr><tr><td>9</td><td>Customer RTXGC</td><td>10932</td><td>72</td><td>16</td></tr><tr><td>9</td><td>Customer RTXGC</td><td>10932</td><td>75</td><td>20</td></tr><tr><td>38</td><td>Customer LJUCA</td><td>10933</td><td>53</td><td>2</td></tr><tr><td>38</td><td>Customer LJUCA</td><td>10933</td><td>61</td><td>30</td></tr><tr><td>44</td><td>Customer OXFRU</td><td>10934</td><td>6</td><td>20</td></tr><tr><td>88</td><td>Customer SRQVM</td><td>10935</td><td>1</td><td>21</td></tr><tr><td>88</td><td>Customer SRQVM</td><td>10935</td><td>18</td><td>4</td></tr><tr><td>88</td><td>Customer SRQVM</td><td>10935</td><td>23</td><td>8</td></tr><tr><td>32</td><td>Customer YSIQX</td><td>10936</td><td>36</td><td>30</td></tr><tr><td>12</td><td>Customer PSNMQ</td><td>10937</td><td>28</td><td>8</td></tr><tr><td>12</td><td>Customer PSNMQ</td><td>10937</td><td>34</td><td>20</td></tr><tr><td>63</td><td>Customer IRRVL</td><td>10938</td><td>13</td><td>20</td></tr><tr><td>63</td><td>Customer IRRVL</td><td>10938</td><td>43</td><td>24</td></tr><tr><td>63</td><td>Customer IRRVL</td><td>10938</td><td>60</td><td>49</td></tr><tr><td>63</td><td>Customer IRRVL</td><td>10938</td><td>71</td><td>35</td></tr><tr><td>49</td><td>Customer CQRAA</td><td>10939</td><td>2</td><td>10</td></tr><tr><td>49</td><td>Customer CQRAA</td><td>10939</td><td>67</td><td>40</td></tr><tr><td>9</td><td>Customer RTXGC</td><td>10940</td><td>7</td><td>8</td></tr><tr><td>9</td><td>Customer RTXGC</td><td>10940</td><td>13</td><td>20</td></tr><tr><td>71</td><td>Customer LCOUJ</td><td>10941</td><td>31</td><td>44</td></tr><tr><td>71</td><td>Customer LCOUJ</td><td>10941</td><td>62</td><td>30</td></tr><tr><td>71</td><td>Customer LCOUJ</td><td>10941</td><td>68</td><td>80</td></tr><tr><td>71</td><td>Customer LCOUJ</td><td>10941</td><td>72</td><td>50</td></tr><tr><td>66</td><td>Customer LHANT</td><td>10942</td><td>49</td><td>28</td></tr><tr><td>11</td><td>Customer UBHAU</td><td>10943</td><td>13</td><td>15</td></tr><tr><td>11</td><td>Customer UBHAU</td><td>10943</td><td>22</td><td>21</td></tr><tr><td>11</td><td>Customer UBHAU</td><td>10943</td><td>46</td><td>15</td></tr><tr><td>10</td><td>Customer EEALV</td><td>10944</td><td>11</td><td>5</td></tr><tr><td>10</td><td>Customer EEALV</td><td>10944</td><td>44</td><td>18</td></tr><tr><td>10</td><td>Customer EEALV</td><td>10944</td><td>56</td><td>18</td></tr><tr><td>52</td><td>Customer PZNLA</td><td>10945</td><td>13</td><td>20</td></tr><tr><td>52</td><td>Customer PZNLA</td><td>10945</td><td>31</td><td>10</td></tr><tr><td>83</td><td>Customer ZRNDE</td><td>10946</td><td>10</td><td>25</td></tr><tr><td>83</td><td>Customer ZRNDE</td><td>10946</td><td>24</td><td>25</td></tr><tr><td>83</td><td>Customer ZRNDE</td><td>10946</td><td>77</td><td>40</td></tr><tr><td>11</td><td>Customer UBHAU</td><td>10947</td><td>59</td><td>4</td></tr><tr><td>30</td><td>Customer KSLQF</td><td>10948</td><td>50</td><td>9</td></tr><tr><td>30</td><td>Customer KSLQF</td><td>10948</td><td>51</td><td>40</td></tr><tr><td>30</td><td>Customer KSLQF</td><td>10948</td><td>55</td><td>4</td></tr><tr><td>10</td><td>Customer EEALV</td><td>10949</td><td>6</td><td>12</td></tr><tr><td>10</td><td>Customer EEALV</td><td>10949</td><td>10</td><td>30</td></tr><tr><td>10</td><td>Customer EEALV</td><td>10949</td><td>17</td><td>6</td></tr><tr><td>10</td><td>Customer EEALV</td><td>10949</td><td>62</td><td>60</td></tr><tr><td>49</td><td>Customer CQRAA</td><td>10950</td><td>4</td><td>5</td></tr><tr><td>68</td><td>Customer CCKOT</td><td>10951</td><td>33</td><td>15</td></tr><tr><td>68</td><td>Customer CCKOT</td><td>10951</td><td>41</td><td>6</td></tr><tr><td>68</td><td>Customer CCKOT</td><td>10951</td><td>75</td><td>50</td></tr><tr><td>1</td><td>Customer NRZBB</td><td>10952</td><td>6</td><td>16</td></tr><tr><td>1</td><td>Customer NRZBB</td><td>10952</td><td>28</td><td>2</td></tr><tr><td>4</td><td>Customer HFBZG</td><td>10953</td><td>20</td><td>50</td></tr><tr><td>4</td><td>Customer HFBZG</td><td>10953</td><td>31</td><td>50</td></tr><tr><td>47</td><td>Customer PSQUZ</td><td>10954</td><td>16</td><td>28</td></tr><tr><td>47</td><td>Customer PSQUZ</td><td>10954</td><td>31</td><td>25</td></tr><tr><td>47</td><td>Customer PSQUZ</td><td>10954</td><td>45</td><td>30</td></tr><tr><td>47</td><td>Customer PSQUZ</td><td>10954</td><td>60</td><td>24</td></tr><tr><td>24</td><td>Customer CYZTN</td><td>10955</td><td>75</td><td>12</td></tr><tr><td>6</td><td>Customer XHXJV</td><td>10956</td><td>21</td><td>12</td></tr><tr><td>6</td><td>Customer XHXJV</td><td>10956</td><td>47</td><td>14</td></tr><tr><td>6</td><td>Customer XHXJV</td><td>10956</td><td>51</td><td>8</td></tr><tr><td>35</td><td>Customer UMTLM</td><td>10957</td><td>30</td><td>30</td></tr><tr><td>35</td><td>Customer UMTLM</td><td>10957</td><td>35</td><td>40</td></tr><tr><td>35</td><td>Customer UMTLM</td><td>10957</td><td>64</td><td>8</td></tr><tr><td>54</td><td>Customer TDKEG</td><td>10958</td><td>5</td><td>20</td></tr><tr><td>54</td><td>Customer TDKEG</td><td>10958</td><td>7</td><td>6</td></tr><tr><td>54</td><td>Customer TDKEG</td><td>10958</td><td>72</td><td>5</td></tr><tr><td>31</td><td>Customer YJCBX</td><td>10959</td><td>75</td><td>20</td></tr><tr><td>35</td><td>Customer UMTLM</td><td>10960</td><td>24</td><td>10</td></tr><tr><td>35</td><td>Customer UMTLM</td><td>10960</td><td>41</td><td>24</td></tr><tr><td>62</td><td>Customer WFIZJ</td><td>10961</td><td>52</td><td>6</td></tr><tr><td>62</td><td>Customer WFIZJ</td><td>10961</td><td>76</td><td>60</td></tr><tr><td>63</td><td>Customer IRRVL</td><td>10962</td><td>7</td><td>45</td></tr><tr><td>63</td><td>Customer IRRVL</td><td>10962</td><td>13</td><td>77</td></tr><tr><td>63</td><td>Customer IRRVL</td><td>10962</td><td>53</td><td>20</td></tr><tr><td>63</td><td>Customer IRRVL</td><td>10962</td><td>69</td><td>9</td></tr><tr><td>63</td><td>Customer IRRVL</td><td>10962</td><td>76</td><td>44</td></tr><tr><td>28</td><td>Customer XYUFB</td><td>10963</td><td>60</td><td>2</td></tr><tr><td>74</td><td>Customer YSHXL</td><td>10964</td><td>18</td><td>6</td></tr><tr><td>74</td><td>Customer YSHXL</td><td>10964</td><td>38</td><td>5</td></tr><tr><td>74</td><td>Customer YSHXL</td><td>10964</td><td>69</td><td>10</td></tr><tr><td>55</td><td>Customer KZQZT</td><td>10965</td><td>51</td><td>16</td></tr><tr><td>14</td><td>Customer WNMAF</td><td>10966</td><td>37</td><td>8</td></tr><tr><td>14</td><td>Customer WNMAF</td><td>10966</td><td>56</td><td>12</td></tr><tr><td>14</td><td>Customer WNMAF</td><td>10966</td><td>62</td><td>12</td></tr><tr><td>79</td><td>Customer FAPSM</td><td>10967</td><td>19</td><td>12</td></tr><tr><td>79</td><td>Customer FAPSM</td><td>10967</td><td>49</td><td>40</td></tr><tr><td>20</td><td>Customer THHDP</td><td>10968</td><td>12</td><td>30</td></tr><tr><td>20</td><td>Customer THHDP</td><td>10968</td><td>24</td><td>30</td></tr><tr><td>20</td><td>Customer THHDP</td><td>10968</td><td>64</td><td>4</td></tr><tr><td>15</td><td>Customer JUWXK</td><td>10969</td><td>46</td><td>9</td></tr><tr><td>8</td><td>Customer QUHWH</td><td>10970</td><td>52</td><td>40</td></tr><tr><td>26</td><td>Customer USDBG</td><td>10971</td><td>29</td><td>14</td></tr><tr><td>40</td><td>Customer EFFTC</td><td>10972</td><td>17</td><td>6</td></tr><tr><td>40</td><td>Customer EFFTC</td><td>10972</td><td>33</td><td>7</td></tr><tr><td>40</td><td>Customer EFFTC</td><td>10973</td><td>26</td><td>5</td></tr><tr><td>40</td><td>Customer EFFTC</td><td>10973</td><td>41</td><td>6</td></tr><tr><td>40</td><td>Customer EFFTC</td><td>10973</td><td>75</td><td>10</td></tr><tr><td>75</td><td>Customer XOJYP</td><td>10974</td><td>63</td><td>10</td></tr><tr><td>10</td><td>Customer EEALV</td><td>10975</td><td>8</td><td>16</td></tr><tr><td>10</td><td>Customer EEALV</td><td>10975</td><td>75</td><td>10</td></tr><tr><td>35</td><td>Customer UMTLM</td><td>10976</td><td>28</td><td>20</td></tr><tr><td>24</td><td>Customer CYZTN</td><td>10977</td><td>39</td><td>30</td></tr><tr><td>24</td><td>Customer CYZTN</td><td>10977</td><td>47</td><td>30</td></tr><tr><td>24</td><td>Customer CYZTN</td><td>10977</td><td>51</td><td>10</td></tr><tr><td>24</td><td>Customer CYZTN</td><td>10977</td><td>63</td><td>20</td></tr><tr><td>50</td><td>Customer JYPSC</td><td>10978</td><td>8</td><td>20</td></tr><tr><td>50</td><td>Customer JYPSC</td><td>10978</td><td>21</td><td>40</td></tr><tr><td>50</td><td>Customer JYPSC</td><td>10978</td><td>40</td><td>10</td></tr><tr><td>50</td><td>Customer JYPSC</td><td>10978</td><td>44</td><td>6</td></tr><tr><td>20</td><td>Customer THHDP</td><td>10979</td><td>7</td><td>18</td></tr><tr><td>20</td><td>Customer THHDP</td><td>10979</td><td>12</td><td>20</td></tr><tr><td>20</td><td>Customer THHDP</td><td>10979</td><td>24</td><td>80</td></tr><tr><td>20</td><td>Customer THHDP</td><td>10979</td><td>27</td><td>30</td></tr><tr><td>20</td><td>Customer THHDP</td><td>10979</td><td>31</td><td>24</td></tr><tr><td>20</td><td>Customer THHDP</td><td>10979</td><td>63</td><td>35</td></tr><tr><td>24</td><td>Customer CYZTN</td><td>10980</td><td>75</td><td>40</td></tr><tr><td>34</td><td>Customer IBVRG</td><td>10981</td><td>38</td><td>60</td></tr><tr><td>10</td><td>Customer EEALV</td><td>10982</td><td>7</td><td>20</td></tr><tr><td>10</td><td>Customer EEALV</td><td>10982</td><td>43</td><td>9</td></tr><tr><td>71</td><td>Customer LCOUJ</td><td>10983</td><td>13</td><td>84</td></tr><tr><td>71</td><td>Customer LCOUJ</td><td>10983</td><td>57</td><td>15</td></tr><tr><td>71</td><td>Customer LCOUJ</td><td>10984</td><td>16</td><td>55</td></tr><tr><td>71</td><td>Customer LCOUJ</td><td>10984</td><td>24</td><td>20</td></tr><tr><td>71</td><td>Customer LCOUJ</td><td>10984</td><td>36</td><td>40</td></tr><tr><td>37</td><td>Customer FRXZL</td><td>10985</td><td>16</td><td>36</td></tr><tr><td>37</td><td>Customer FRXZL</td><td>10985</td><td>18</td><td>8</td></tr><tr><td>37</td><td>Customer FRXZL</td><td>10985</td><td>32</td><td>35</td></tr><tr><td>54</td><td>Customer TDKEG</td><td>10986</td><td>11</td><td>30</td></tr><tr><td>54</td><td>Customer TDKEG</td><td>10986</td><td>20</td><td>15</td></tr><tr><td>54</td><td>Customer TDKEG</td><td>10986</td><td>76</td><td>10</td></tr><tr><td>54</td><td>Customer TDKEG</td><td>10986</td><td>77</td><td>15</td></tr><tr><td>19</td><td>Customer RFNQC</td><td>10987</td><td>7</td><td>60</td></tr><tr><td>19</td><td>Customer RFNQC</td><td>10987</td><td>43</td><td>6</td></tr><tr><td>19</td><td>Customer RFNQC</td><td>10987</td><td>72</td><td>20</td></tr><tr><td>65</td><td>Customer NYUHS</td><td>10988</td><td>7</td><td>60</td></tr><tr><td>65</td><td>Customer NYUHS</td><td>10988</td><td>62</td><td>40</td></tr><tr><td>61</td><td>Customer WULWD</td><td>10989</td><td>6</td><td>40</td></tr><tr><td>61</td><td>Customer WULWD</td><td>10989</td><td>11</td><td>15</td></tr><tr><td>61</td><td>Customer WULWD</td><td>10989</td><td>41</td><td>4</td></tr><tr><td>20</td><td>Customer THHDP</td><td>10990</td><td>21</td><td>65</td></tr><tr><td>20</td><td>Customer THHDP</td><td>10990</td><td>34</td><td>60</td></tr><tr><td>20</td><td>Customer THHDP</td><td>10990</td><td>55</td><td>65</td></tr><tr><td>20</td><td>Customer THHDP</td><td>10990</td><td>61</td><td>66</td></tr><tr><td>63</td><td>Customer IRRVL</td><td>10991</td><td>2</td><td>50</td></tr><tr><td>63</td><td>Customer IRRVL</td><td>10991</td><td>70</td><td>20</td></tr><tr><td>63</td><td>Customer IRRVL</td><td>10991</td><td>76</td><td>90</td></tr><tr><td>77</td><td>Customer LCYBZ</td><td>10992</td><td>72</td><td>2</td></tr><tr><td>24</td><td>Customer CYZTN</td><td>10993</td><td>29</td><td>50</td></tr><tr><td>24</td><td>Customer CYZTN</td><td>10993</td><td>41</td><td>35</td></tr><tr><td>83</td><td>Customer ZRNDE</td><td>10994</td><td>59</td><td>18</td></tr><tr><td>58</td><td>Customer AHXHT</td><td>10995</td><td>51</td><td>20</td></tr><tr><td>58</td><td>Customer AHXHT</td><td>10995</td><td>60</td><td>4</td></tr><tr><td>63</td><td>Customer IRRVL</td><td>10996</td><td>42</td><td>40</td></tr><tr><td>46</td><td>Customer XPNIK</td><td>10997</td><td>32</td><td>50</td></tr><tr><td>46</td><td>Customer XPNIK</td><td>10997</td><td>46</td><td>20</td></tr><tr><td>46</td><td>Customer XPNIK</td><td>10997</td><td>52</td><td>20</td></tr><tr><td>91</td><td>Customer CCFIZ</td><td>10998</td><td>24</td><td>12</td></tr><tr><td>91</td><td>Customer CCFIZ</td><td>10998</td><td>61</td><td>7</td></tr><tr><td>91</td><td>Customer CCFIZ</td><td>10998</td><td>74</td><td>20</td></tr><tr><td>91</td><td>Customer CCFIZ</td><td>10998</td><td>75</td><td>30</td></tr><tr><td>56</td><td>Customer QNIVZ</td><td>10999</td><td>41</td><td>20</td></tr><tr><td>56</td><td>Customer QNIVZ</td><td>10999</td><td>51</td><td>15</td></tr><tr><td>56</td><td>Customer QNIVZ</td><td>10999</td><td>77</td><td>21</td></tr><tr><td>65</td><td>Customer NYUHS</td><td>11000</td><td>4</td><td>25</td></tr><tr><td>65</td><td>Customer NYUHS</td><td>11000</td><td>24</td><td>30</td></tr><tr><td>65</td><td>Customer NYUHS</td><td>11000</td><td>77</td><td>30</td></tr><tr><td>24</td><td>Customer CYZTN</td><td>11001</td><td>7</td><td>60</td></tr><tr><td>24</td><td>Customer CYZTN</td><td>11001</td><td>22</td><td>25</td></tr><tr><td>24</td><td>Customer CYZTN</td><td>11001</td><td>46</td><td>25</td></tr><tr><td>24</td><td>Customer CYZTN</td><td>11001</td><td>55</td><td>6</td></tr><tr><td>71</td><td>Customer LCOUJ</td><td>11002</td><td>13</td><td>56</td></tr><tr><td>71</td><td>Customer LCOUJ</td><td>11002</td><td>35</td><td>15</td></tr><tr><td>71</td><td>Customer LCOUJ</td><td>11002</td><td>42</td><td>24</td></tr><tr><td>71</td><td>Customer LCOUJ</td><td>11002</td><td>55</td><td>40</td></tr><tr><td>78</td><td>Customer NLTYP</td><td>11003</td><td>1</td><td>4</td></tr><tr><td>78</td><td>Customer NLTYP</td><td>11003</td><td>40</td><td>10</td></tr><tr><td>78</td><td>Customer NLTYP</td><td>11003</td><td>52</td><td>10</td></tr><tr><td>50</td><td>Customer JYPSC</td><td>11004</td><td>26</td><td>6</td></tr><tr><td>50</td><td>Customer JYPSC</td><td>11004</td><td>76</td><td>6</td></tr><tr><td>90</td><td>Customer XBBVR</td><td>11005</td><td>1</td><td>2</td></tr><tr><td>90</td><td>Customer XBBVR</td><td>11005</td><td>59</td><td>10</td></tr><tr><td>32</td><td>Customer YSIQX</td><td>11006</td><td>1</td><td>8</td></tr><tr><td>32</td><td>Customer YSIQX</td><td>11006</td><td>29</td><td>2</td></tr><tr><td>60</td><td>Customer QZURI</td><td>11007</td><td>8</td><td>30</td></tr><tr><td>60</td><td>Customer QZURI</td><td>11007</td><td>29</td><td>10</td></tr><tr><td>60</td><td>Customer QZURI</td><td>11007</td><td>42</td><td>14</td></tr><tr><td>20</td><td>Customer THHDP</td><td>11008</td><td>28</td><td>70</td></tr><tr><td>20</td><td>Customer THHDP</td><td>11008</td><td>34</td><td>90</td></tr><tr><td>20</td><td>Customer THHDP</td><td>11008</td><td>71</td><td>21</td></tr><tr><td>30</td><td>Customer KSLQF</td><td>11009</td><td>24</td><td>12</td></tr><tr><td>30</td><td>Customer KSLQF</td><td>11009</td><td>36</td><td>18</td></tr><tr><td>30</td><td>Customer KSLQF</td><td>11009</td><td>60</td><td>9</td></tr><tr><td>66</td><td>Customer LHANT</td><td>11010</td><td>7</td><td>20</td></tr><tr><td>66</td><td>Customer LHANT</td><td>11010</td><td>24</td><td>10</td></tr><tr><td>1</td><td>Customer NRZBB</td><td>11011</td><td>58</td><td>40</td></tr><tr><td>1</td><td>Customer NRZBB</td><td>11011</td><td>71</td><td>20</td></tr><tr><td>25</td><td>Customer AZJED</td><td>11012</td><td>19</td><td>50</td></tr><tr><td>25</td><td>Customer AZJED</td><td>11012</td><td>60</td><td>36</td></tr><tr><td>25</td><td>Customer AZJED</td><td>11012</td><td>71</td><td>60</td></tr><tr><td>69</td><td>Customer SIUIH</td><td>11013</td><td>23</td><td>10</td></tr><tr><td>69</td><td>Customer SIUIH</td><td>11013</td><td>42</td><td>4</td></tr><tr><td>69</td><td>Customer SIUIH</td><td>11013</td><td>45</td><td>20</td></tr><tr><td>69</td><td>Customer SIUIH</td><td>11013</td><td>68</td><td>2</td></tr><tr><td>47</td><td>Customer PSQUZ</td><td>11014</td><td>41</td><td>28</td></tr><tr><td>70</td><td>Customer TMXGN</td><td>11015</td><td>30</td><td>15</td></tr><tr><td>70</td><td>Customer TMXGN</td><td>11015</td><td>77</td><td>18</td></tr><tr><td>4</td><td>Customer HFBZG</td><td>11016</td><td>31</td><td>15</td></tr><tr><td>4</td><td>Customer HFBZG</td><td>11016</td><td>36</td><td>16</td></tr><tr><td>20</td><td>Customer THHDP</td><td>11017</td><td>3</td><td>25</td></tr><tr><td>20</td><td>Customer THHDP</td><td>11017</td><td>59</td><td>110</td></tr><tr><td>20</td><td>Customer THHDP</td><td>11017</td><td>70</td><td>30</td></tr><tr><td>48</td><td>Customer DVFMB</td><td>11018</td><td>12</td><td>20</td></tr><tr><td>48</td><td>Customer DVFMB</td><td>11018</td><td>18</td><td>10</td></tr><tr><td>48</td><td>Customer DVFMB</td><td>11018</td><td>56</td><td>5</td></tr><tr><td>64</td><td>Customer LWGMD</td><td>11019</td><td>46</td><td>3</td></tr><tr><td>64</td><td>Customer LWGMD</td><td>11019</td><td>49</td><td>2</td></tr><tr><td>56</td><td>Customer QNIVZ</td><td>11020</td><td>10</td><td>24</td></tr><tr><td>63</td><td>Customer IRRVL</td><td>11021</td><td>2</td><td>11</td></tr><tr><td>63</td><td>Customer IRRVL</td><td>11021</td><td>20</td><td>15</td></tr><tr><td>63</td><td>Customer IRRVL</td><td>11021</td><td>26</td><td>63</td></tr><tr><td>63</td><td>Customer IRRVL</td><td>11021</td><td>51</td><td>44</td></tr><tr><td>63</td><td>Customer IRRVL</td><td>11021</td><td>72</td><td>35</td></tr><tr><td>34</td><td>Customer IBVRG</td><td>11022</td><td>19</td><td>35</td></tr><tr><td>34</td><td>Customer IBVRG</td><td>11022</td><td>69</td><td>30</td></tr><tr><td>11</td><td>Customer UBHAU</td><td>11023</td><td>7</td><td>4</td></tr><tr><td>11</td><td>Customer UBHAU</td><td>11023</td><td>43</td><td>30</td></tr><tr><td>19</td><td>Customer RFNQC</td><td>11024</td><td>26</td><td>12</td></tr><tr><td>19</td><td>Customer RFNQC</td><td>11024</td><td>33</td><td>30</td></tr><tr><td>19</td><td>Customer RFNQC</td><td>11024</td><td>65</td><td>21</td></tr><tr><td>19</td><td>Customer RFNQC</td><td>11024</td><td>71</td><td>50</td></tr><tr><td>87</td><td>Customer ZHYOS</td><td>11025</td><td>1</td><td>10</td></tr><tr><td>87</td><td>Customer ZHYOS</td><td>11025</td><td>13</td><td>20</td></tr><tr><td>27</td><td>Customer WMFEA</td><td>11026</td><td>18</td><td>8</td></tr><tr><td>27</td><td>Customer WMFEA</td><td>11026</td><td>51</td><td>10</td></tr><tr><td>10</td><td>Customer EEALV</td><td>11027</td><td>24</td><td>30</td></tr><tr><td>10</td><td>Customer EEALV</td><td>11027</td><td>62</td><td>21</td></tr><tr><td>39</td><td>Customer GLLAG</td><td>11028</td><td>55</td><td>35</td></tr><tr><td>39</td><td>Customer GLLAG</td><td>11028</td><td>59</td><td>24</td></tr><tr><td>14</td><td>Customer WNMAF</td><td>11029</td><td>56</td><td>20</td></tr><tr><td>14</td><td>Customer WNMAF</td><td>11029</td><td>63</td><td>12</td></tr><tr><td>71</td><td>Customer LCOUJ</td><td>11030</td><td>2</td><td>100</td></tr><tr><td>71</td><td>Customer LCOUJ</td><td>11030</td><td>5</td><td>70</td></tr><tr><td>71</td><td>Customer LCOUJ</td><td>11030</td><td>29</td><td>60</td></tr><tr><td>71</td><td>Customer LCOUJ</td><td>11030</td><td>59</td><td>100</td></tr><tr><td>71</td><td>Customer LCOUJ</td><td>11031</td><td>1</td><td>45</td></tr><tr><td>71</td><td>Customer LCOUJ</td><td>11031</td><td>13</td><td>80</td></tr><tr><td>71</td><td>Customer LCOUJ</td><td>11031</td><td>24</td><td>21</td></tr><tr><td>71</td><td>Customer LCOUJ</td><td>11031</td><td>64</td><td>20</td></tr><tr><td>71</td><td>Customer LCOUJ</td><td>11031</td><td>71</td><td>16</td></tr><tr><td>89</td><td>Customer YBQTI</td><td>11032</td><td>36</td><td>35</td></tr><tr><td>89</td><td>Customer YBQTI</td><td>11032</td><td>38</td><td>25</td></tr><tr><td>89</td><td>Customer YBQTI</td><td>11032</td><td>59</td><td>30</td></tr><tr><td>68</td><td>Customer CCKOT</td><td>11033</td><td>53</td><td>70</td></tr><tr><td>68</td><td>Customer CCKOT</td><td>11033</td><td>69</td><td>36</td></tr><tr><td>55</td><td>Customer KZQZT</td><td>11034</td><td>21</td><td>15</td></tr><tr><td>55</td><td>Customer KZQZT</td><td>11034</td><td>44</td><td>12</td></tr><tr><td>55</td><td>Customer KZQZT</td><td>11034</td><td>61</td><td>6</td></tr><tr><td>76</td><td>Customer SFOGW</td><td>11035</td><td>1</td><td>10</td></tr><tr><td>76</td><td>Customer SFOGW</td><td>11035</td><td>35</td><td>60</td></tr><tr><td>76</td><td>Customer SFOGW</td><td>11035</td><td>42</td><td>30</td></tr><tr><td>76</td><td>Customer SFOGW</td><td>11035</td><td>54</td><td>10</td></tr><tr><td>17</td><td>Customer FEVNN</td><td>11036</td><td>13</td><td>7</td></tr><tr><td>17</td><td>Customer FEVNN</td><td>11036</td><td>59</td><td>30</td></tr><tr><td>30</td><td>Customer KSLQF</td><td>11037</td><td>70</td><td>4</td></tr><tr><td>76</td><td>Customer SFOGW</td><td>11038</td><td>40</td><td>5</td></tr><tr><td>76</td><td>Customer SFOGW</td><td>11038</td><td>52</td><td>2</td></tr><tr><td>76</td><td>Customer SFOGW</td><td>11038</td><td>71</td><td>30</td></tr><tr><td>47</td><td>Customer PSQUZ</td><td>11039</td><td>28</td><td>20</td></tr><tr><td>47</td><td>Customer PSQUZ</td><td>11039</td><td>35</td><td>24</td></tr><tr><td>47</td><td>Customer PSQUZ</td><td>11039</td><td>49</td><td>60</td></tr><tr><td>47</td><td>Customer PSQUZ</td><td>11039</td><td>57</td><td>28</td></tr><tr><td>32</td><td>Customer YSIQX</td><td>11040</td><td>21</td><td>20</td></tr><tr><td>14</td><td>Customer WNMAF</td><td>11041</td><td>2</td><td>30</td></tr><tr><td>14</td><td>Customer WNMAF</td><td>11041</td><td>63</td><td>30</td></tr><tr><td>15</td><td>Customer JUWXK</td><td>11042</td><td>44</td><td>15</td></tr><tr><td>15</td><td>Customer JUWXK</td><td>11042</td><td>61</td><td>4</td></tr><tr><td>74</td><td>Customer YSHXL</td><td>11043</td><td>11</td><td>10</td></tr><tr><td>91</td><td>Customer CCFIZ</td><td>11044</td><td>62</td><td>12</td></tr><tr><td>10</td><td>Customer EEALV</td><td>11045</td><td>33</td><td>15</td></tr><tr><td>10</td><td>Customer EEALV</td><td>11045</td><td>51</td><td>24</td></tr><tr><td>86</td><td>Customer SNXOJ</td><td>11046</td><td>12</td><td>20</td></tr><tr><td>86</td><td>Customer SNXOJ</td><td>11046</td><td>32</td><td>15</td></tr><tr><td>86</td><td>Customer SNXOJ</td><td>11046</td><td>35</td><td>18</td></tr><tr><td>19</td><td>Customer RFNQC</td><td>11047</td><td>1</td><td>25</td></tr><tr><td>19</td><td>Customer RFNQC</td><td>11047</td><td>5</td><td>30</td></tr><tr><td>10</td><td>Customer EEALV</td><td>11048</td><td>68</td><td>42</td></tr><tr><td>31</td><td>Customer YJCBX</td><td>11049</td><td>2</td><td>10</td></tr><tr><td>31</td><td>Customer YJCBX</td><td>11049</td><td>12</td><td>4</td></tr><tr><td>24</td><td>Customer CYZTN</td><td>11050</td><td>76</td><td>50</td></tr><tr><td>41</td><td>Customer XIIWM</td><td>11051</td><td>24</td><td>10</td></tr><tr><td>34</td><td>Customer IBVRG</td><td>11052</td><td>43</td><td>30</td></tr><tr><td>34</td><td>Customer IBVRG</td><td>11052</td><td>61</td><td>10</td></tr><tr><td>59</td><td>Customer LOLJO</td><td>11053</td><td>18</td><td>35</td></tr><tr><td>59</td><td>Customer LOLJO</td><td>11053</td><td>32</td><td>20</td></tr><tr><td>59</td><td>Customer LOLJO</td><td>11053</td><td>64</td><td>25</td></tr><tr><td>12</td><td>Customer PSNMQ</td><td>11054</td><td>33</td><td>10</td></tr><tr><td>12</td><td>Customer PSNMQ</td><td>11054</td><td>67</td><td>20</td></tr><tr><td>35</td><td>Customer UMTLM</td><td>11055</td><td>24</td><td>15</td></tr><tr><td>35</td><td>Customer UMTLM</td><td>11055</td><td>25</td><td>15</td></tr><tr><td>35</td><td>Customer UMTLM</td><td>11055</td><td>51</td><td>20</td></tr><tr><td>35</td><td>Customer UMTLM</td><td>11055</td><td>57</td><td>20</td></tr><tr><td>19</td><td>Customer RFNQC</td><td>11056</td><td>7</td><td>40</td></tr><tr><td>19</td><td>Customer RFNQC</td><td>11056</td><td>55</td><td>35</td></tr><tr><td>19</td><td>Customer RFNQC</td><td>11056</td><td>60</td><td>50</td></tr><tr><td>53</td><td>Customer GCJSG</td><td>11057</td><td>70</td><td>3</td></tr><tr><td>6</td><td>Customer XHXJV</td><td>11058</td><td>21</td><td>3</td></tr><tr><td>6</td><td>Customer XHXJV</td><td>11058</td><td>60</td><td>21</td></tr><tr><td>6</td><td>Customer XHXJV</td><td>11058</td><td>61</td><td>4</td></tr><tr><td>67</td><td>Customer QVEPD</td><td>11059</td><td>13</td><td>30</td></tr><tr><td>67</td><td>Customer QVEPD</td><td>11059</td><td>17</td><td>12</td></tr><tr><td>67</td><td>Customer QVEPD</td><td>11059</td><td>60</td><td>35</td></tr><tr><td>27</td><td>Customer WMFEA</td><td>11060</td><td>60</td><td>4</td></tr><tr><td>27</td><td>Customer WMFEA</td><td>11060</td><td>77</td><td>10</td></tr><tr><td>32</td><td>Customer YSIQX</td><td>11061</td><td>60</td><td>15</td></tr><tr><td>66</td><td>Customer LHANT</td><td>11062</td><td>53</td><td>10</td></tr><tr><td>66</td><td>Customer LHANT</td><td>11062</td><td>70</td><td>12</td></tr><tr><td>37</td><td>Customer FRXZL</td><td>11063</td><td>34</td><td>30</td></tr><tr><td>37</td><td>Customer FRXZL</td><td>11063</td><td>40</td><td>40</td></tr><tr><td>37</td><td>Customer FRXZL</td><td>11063</td><td>41</td><td>30</td></tr><tr><td>71</td><td>Customer LCOUJ</td><td>11064</td><td>17</td><td>77</td></tr><tr><td>71</td><td>Customer LCOUJ</td><td>11064</td><td>41</td><td>12</td></tr><tr><td>71</td><td>Customer LCOUJ</td><td>11064</td><td>53</td><td>25</td></tr><tr><td>71</td><td>Customer LCOUJ</td><td>11064</td><td>55</td><td>4</td></tr><tr><td>71</td><td>Customer LCOUJ</td><td>11064</td><td>68</td><td>55</td></tr><tr><td>46</td><td>Customer XPNIK</td><td>11065</td><td>30</td><td>4</td></tr><tr><td>46</td><td>Customer XPNIK</td><td>11065</td><td>54</td><td>20</td></tr><tr><td>89</td><td>Customer YBQTI</td><td>11066</td><td>16</td><td>3</td></tr><tr><td>89</td><td>Customer YBQTI</td><td>11066</td><td>19</td><td>42</td></tr><tr><td>89</td><td>Customer YBQTI</td><td>11066</td><td>34</td><td>35</td></tr><tr><td>17</td><td>Customer FEVNN</td><td>11067</td><td>41</td><td>9</td></tr><tr><td>62</td><td>Customer WFIZJ</td><td>11068</td><td>28</td><td>8</td></tr><tr><td>62</td><td>Customer WFIZJ</td><td>11068</td><td>43</td><td>36</td></tr><tr><td>62</td><td>Customer WFIZJ</td><td>11068</td><td>77</td><td>28</td></tr><tr><td>80</td><td>Customer VONTK</td><td>11069</td><td>39</td><td>20</td></tr><tr><td>44</td><td>Customer OXFRU</td><td>11070</td><td>1</td><td>40</td></tr><tr><td>44</td><td>Customer OXFRU</td><td>11070</td><td>2</td><td>20</td></tr><tr><td>44</td><td>Customer OXFRU</td><td>11070</td><td>16</td><td>30</td></tr><tr><td>44</td><td>Customer OXFRU</td><td>11070</td><td>31</td><td>20</td></tr><tr><td>46</td><td>Customer XPNIK</td><td>11071</td><td>7</td><td>15</td></tr><tr><td>46</td><td>Customer XPNIK</td><td>11071</td><td>13</td><td>10</td></tr><tr><td>20</td><td>Customer THHDP</td><td>11072</td><td>2</td><td>8</td></tr><tr><td>20</td><td>Customer THHDP</td><td>11072</td><td>41</td><td>40</td></tr><tr><td>20</td><td>Customer THHDP</td><td>11072</td><td>50</td><td>22</td></tr><tr><td>20</td><td>Customer THHDP</td><td>11072</td><td>64</td><td>130</td></tr><tr><td>58</td><td>Customer AHXHT</td><td>11073</td><td>11</td><td>10</td></tr><tr><td>58</td><td>Customer AHXHT</td><td>11073</td><td>24</td><td>20</td></tr><tr><td>73</td><td>Customer JMIKW</td><td>11074</td><td>16</td><td>14</td></tr><tr><td>68</td><td>Customer CCKOT</td><td>11075</td><td>2</td><td>10</td></tr><tr><td>68</td><td>Customer CCKOT</td><td>11075</td><td>46</td><td>30</td></tr><tr><td>68</td><td>Customer CCKOT</td><td>11075</td><td>76</td><td>2</td></tr><tr><td>9</td><td>Customer RTXGC</td><td>11076</td><td>6</td><td>20</td></tr><tr><td>9</td><td>Customer RTXGC</td><td>11076</td><td>14</td><td>20</td></tr><tr><td>9</td><td>Customer RTXGC</td><td>11076</td><td>19</td><td>10</td></tr><tr><td>65</td><td>Customer NYUHS</td><td>11077</td><td>2</td><td>24</td></tr><tr><td>65</td><td>Customer NYUHS</td><td>11077</td><td>3</td><td>4</td></tr><tr><td>65</td><td>Customer NYUHS</td><td>11077</td><td>4</td><td>1</td></tr><tr><td>65</td><td>Customer NYUHS</td><td>11077</td><td>6</td><td>1</td></tr><tr><td>65</td><td>Customer NYUHS</td><td>11077</td><td>7</td><td>1</td></tr><tr><td>65</td><td>Customer NYUHS</td><td>11077</td><td>8</td><td>2</td></tr><tr><td>65</td><td>Customer NYUHS</td><td>11077</td><td>10</td><td>1</td></tr><tr><td>65</td><td>Customer NYUHS</td><td>11077</td><td>12</td><td>2</td></tr><tr><td>65</td><td>Customer NYUHS</td><td>11077</td><td>13</td><td>4</td></tr><tr><td>65</td><td>Customer NYUHS</td><td>11077</td><td>14</td><td>1</td></tr><tr><td>65</td><td>Customer NYUHS</td><td>11077</td><td>16</td><td>2</td></tr><tr><td>65</td><td>Customer NYUHS</td><td>11077</td><td>20</td><td>1</td></tr><tr><td>65</td><td>Customer NYUHS</td><td>11077</td><td>23</td><td>2</td></tr><tr><td>65</td><td>Customer NYUHS</td><td>11077</td><td>32</td><td>1</td></tr><tr><td>65</td><td>Customer NYUHS</td><td>11077</td><td>39</td><td>2</td></tr><tr><td>65</td><td>Customer NYUHS</td><td>11077</td><td>41</td><td>3</td></tr><tr><td>65</td><td>Customer NYUHS</td><td>11077</td><td>46</td><td>3</td></tr><tr><td>65</td><td>Customer NYUHS</td><td>11077</td><td>52</td><td>2</td></tr><tr><td>65</td><td>Customer NYUHS</td><td>11077</td><td>55</td><td>2</td></tr><tr><td>65</td><td>Customer NYUHS</td><td>11077</td><td>60</td><td>2</td></tr><tr><td>65</td><td>Customer NYUHS</td><td>11077</td><td>64</td><td>2</td></tr><tr><td>65</td><td>Customer NYUHS</td><td>11077</td><td>66</td><td>1</td></tr><tr><td>65</td><td>Customer NYUHS</td><td>11077</td><td>73</td><td>2</td></tr><tr><td>65</td><td>Customer NYUHS</td><td>11077</td><td>75</td><td>4</td></tr><tr><td>65</td><td>Customer NYUHS</td><td>11077</td><td>77</td><td>2</td></tr></table>"
                    },
                    "metadata": {}
                }
            ],
            "execution_count": 35
        },
        {
            "cell_type": "markdown",
            "source": [
                "<mark>EXPLANATION: </mark> This SQL query brings together data from the Sales.Customers, Sales.Orders, and Sales.OrderDetails tables to provide a comprehensive view of customer orders. By using INNER JOIN, it connects these tables based on matching keys, like customer and order IDs, allowing us to see details such as customer ID and company name, order ID, and product specifics like product ID and quantity. This concise query neatly summarizes customer order information, making it easy to understand and analyze sales data."
            ],
            "metadata": {
                "language": "sql",
                "azdata_cell_guid": "351555d8-1b2e-414f-8851-40428dc274b2"
            },
            "attachments": {}
        },
        {
            "cell_type": "markdown",
            "source": [
                "PREPOSITION 2: Use a query to sift through the Sales.OrderDetailsAudit table for instances where the quantity (qty) of an order detail was updated. It'll show you the order and product IDs from Sales.OrderDetails, who made the change, when it happened, and what the quantity changed from and to.\n",
                "\n",
                "EXPLANATION: The SQL query attempts to retrieve information about quantity updates from the Sales.OrderDetails table by joining it with the Sales.OrderDetailsAudit table."
            ],
            "metadata": {
                "language": "sql",
                "azdata_cell_guid": "f37d65e1-3825-455c-a4b9-8f461d343b0b"
            },
            "attachments": {}
        },
        {
            "cell_type": "code",
            "source": [
                "SELECT OD.orderid, OD.productid, OD.qty,\n",
                "  ODA.dt, ODA.loginname, ODA.oldval, ODA.newval\n",
                "FROM Sales.OrderDetails AS OD\n",
                "  INNER JOIN Sales.OrderDetailsAudit AS ODA\n",
                "    ON OD.orderid = ODA.orderid\n",
                "    AND OD.productid = ODA.productid\n",
                "WHERE ODA.columnname = 'qty';"
            ],
            "metadata": {
                "language": "sql",
                "azdata_cell_guid": "4cdf1e9f-f090-443f-9da8-bcc25718fdf3"
            },
            "outputs": [
                {
                    "output_type": "display_data",
                    "data": {
                        "text/html": "(0 rows affected)"
                    },
                    "metadata": {}
                },
                {
                    "output_type": "display_data",
                    "data": {
                        "text/html": "Total execution time: 00:00:00.012"
                    },
                    "metadata": {}
                },
                {
                    "output_type": "execute_result",
                    "execution_count": 40,
                    "data": {
                        "application/vnd.dataresource+json": {
                            "schema": {
                                "fields": [
                                    {
                                        "name": "orderid"
                                    },
                                    {
                                        "name": "productid"
                                    },
                                    {
                                        "name": "qty"
                                    },
                                    {
                                        "name": "dt"
                                    },
                                    {
                                        "name": "loginname"
                                    },
                                    {
                                        "name": "oldval"
                                    },
                                    {
                                        "name": "newval"
                                    }
                                ]
                            },
                            "data": []
                        },
                        "text/html": "<table><tr><th>orderid</th><th>productid</th><th>qty</th><th>dt</th><th>loginname</th><th>oldval</th><th>newval</th></tr></table>"
                    },
                    "metadata": {}
                }
            ],
            "execution_count": 40
        }
    ]
}